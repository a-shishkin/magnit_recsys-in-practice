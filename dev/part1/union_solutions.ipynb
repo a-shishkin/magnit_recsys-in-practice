{
 "cells": [
  {
   "cell_type": "markdown",
   "id": "5b272efa-fdb0-43ec-ab5b-abf7ca37b21d",
   "metadata": {
    "id": "5b272efa-fdb0-43ec-ab5b-abf7ca37b21d"
   },
   "source": [
    "Для первой задачи мы используем данные [Jester Online Joke Recommender System](https://goldberg.berkeley.edu/jester-data/)"
   ]
  },
  {
   "cell_type": "markdown",
   "id": "85eb8247-1067-47e5-9a19-f5d20d4b2fd5",
   "metadata": {
    "id": "85eb8247-1067-47e5-9a19-f5d20d4b2fd5"
   },
   "source": [
    "**Описание данных**\n",
    "\n",
    "Файл `train_joke_df.csv` содержит:\n",
    "- UID - id пользователей\n",
    "- JID - id шуток, которые \n",
    "- Ratin - рейтинг шутки, который проставил пользователь \n",
    "\n",
    "\n",
    "Рейтинг имеет значение от -10.00 до 10.00. Могут встречаться значения 99.00, но это обозначает Null (нет рейтинга от пользователя).\n",
    "\n",
    "Метрика для оценки [RMSE](https://www.codecamp.ru/blog/how-to-interpret-rmse/)\n",
    "\n",
    "Минимальный RMSE: `4.2238`\n",
    "\n"
   ]
  },
  {
   "cell_type": "code",
   "execution_count": 2,
   "id": "ec9f8af1-f94e-4955-a420-39aa18f37806",
   "metadata": {
    "colab": {
     "base_uri": "https://localhost:8080/"
    },
    "id": "ec9f8af1-f94e-4955-a420-39aa18f37806",
    "outputId": "62b72c77-065d-4e2b-8521-204030cba0aa"
   },
   "outputs": [],
   "source": [
    "#!pip install \"scikit-surprise==1.1.3\""
   ]
  },
  {
   "cell_type": "code",
   "execution_count": 3,
   "id": "ea378696",
   "metadata": {},
   "outputs": [],
   "source": [
    "#!pip install \"xlrd==2.0.1\""
   ]
  },
  {
   "cell_type": "markdown",
   "id": "f4fc3daa-2632-4ad6-b904-752bd2308fc8",
   "metadata": {
    "id": "f4fc3daa-2632-4ad6-b904-752bd2308fc8"
   },
   "source": [
    "### Import"
   ]
  },
  {
   "cell_type": "code",
   "execution_count": 13,
   "id": "427278c8-3010-4e10-9271-dc3b7723e0e7",
   "metadata": {
    "id": "427278c8-3010-4e10-9271-dc3b7723e0e7"
   },
   "outputs": [],
   "source": [
    "import numpy as np\n",
    "import pandas as pd\n",
    "from collections import defaultdict\n",
    "from surprise import Dataset, Reader, accuracy\n",
    "from surprise.model_selection import GridSearchCV\n",
    "from surprise.model_selection import train_test_split\n",
    "from sklearn.model_selection import train_test_split as tts\n",
    "from surprise.model_selection import KFold\n",
    "\n",
    "import seaborn as sns\n",
    "from surprise import SVD, KNNWithMeans\n",
    "from surprise import dump\n",
    "np.random.seed(42)"
   ]
  },
  {
   "cell_type": "markdown",
   "id": "0011beb8-385e-4fab-a946-7c5972cd7727",
   "metadata": {
    "id": "0011beb8-385e-4fab-a946-7c5972cd7727"
   },
   "source": [
    "### Базовые функции для скоринга и получения рекомендаций"
   ]
  },
  {
   "cell_type": "code",
   "execution_count": null,
   "id": "95b435cb-6972-4a46-b086-bc5ae5a89b8e",
   "metadata": {
    "id": "95b435cb-6972-4a46-b086-bc5ae5a89b8e"
   },
   "outputs": [],
   "source": []
  },
  {
   "cell_type": "markdown",
   "id": "d3f82a04-60f8-4338-8175-84409a9226ae",
   "metadata": {
    "id": "d3f82a04-60f8-4338-8175-84409a9226ae"
   },
   "source": [
    "### Загрузка и обработка данных"
   ]
  },
  {
   "cell_type": "code",
   "execution_count": 5,
   "id": "6c7c4800-84cc-48ec-b5a4-0e0cb5a69c18",
   "metadata": {
    "colab": {
     "base_uri": "https://localhost:8080/",
     "height": 206
    },
    "id": "6c7c4800-84cc-48ec-b5a4-0e0cb5a69c18",
    "outputId": "867fbe58-7ef6-42fd-a561-b183fac8a56c"
   },
   "outputs": [
    {
     "data": {
      "text/html": [
       "<div>\n",
       "<style scoped>\n",
       "    .dataframe tbody tr th:only-of-type {\n",
       "        vertical-align: middle;\n",
       "    }\n",
       "\n",
       "    .dataframe tbody tr th {\n",
       "        vertical-align: top;\n",
       "    }\n",
       "\n",
       "    .dataframe thead th {\n",
       "        text-align: right;\n",
       "    }\n",
       "</style>\n",
       "<table border=\"1\" class=\"dataframe\">\n",
       "  <thead>\n",
       "    <tr style=\"text-align: right;\">\n",
       "      <th></th>\n",
       "      <th>UID</th>\n",
       "      <th>JID</th>\n",
       "      <th>Rating</th>\n",
       "    </tr>\n",
       "  </thead>\n",
       "  <tbody>\n",
       "    <tr>\n",
       "      <th>0</th>\n",
       "      <td>18029</td>\n",
       "      <td>6</td>\n",
       "      <td>-1.26</td>\n",
       "    </tr>\n",
       "    <tr>\n",
       "      <th>1</th>\n",
       "      <td>3298</td>\n",
       "      <td>64</td>\n",
       "      <td>-4.17</td>\n",
       "    </tr>\n",
       "    <tr>\n",
       "      <th>2</th>\n",
       "      <td>3366</td>\n",
       "      <td>58</td>\n",
       "      <td>0.92</td>\n",
       "    </tr>\n",
       "    <tr>\n",
       "      <th>3</th>\n",
       "      <td>12735</td>\n",
       "      <td>92</td>\n",
       "      <td>3.69</td>\n",
       "    </tr>\n",
       "    <tr>\n",
       "      <th>4</th>\n",
       "      <td>11365</td>\n",
       "      <td>38</td>\n",
       "      <td>-6.60</td>\n",
       "    </tr>\n",
       "  </tbody>\n",
       "</table>\n",
       "</div>"
      ],
      "text/plain": [
       "     UID  JID  Rating\n",
       "0  18029    6   -1.26\n",
       "1   3298   64   -4.17\n",
       "2   3366   58    0.92\n",
       "3  12735   92    3.69\n",
       "4  11365   38   -6.60"
      ]
     },
     "execution_count": 5,
     "metadata": {},
     "output_type": "execute_result"
    }
   ],
   "source": [
    "df = pd.read_csv(r'data\\recsys-in-practice\\train_joke_df.csv')\n",
    "\n",
    "df.head(5)"
   ]
  },
  {
   "cell_type": "code",
   "execution_count": 6,
   "id": "08f07545-6735-407c-b549-822e9c701c70",
   "metadata": {
    "id": "08f07545-6735-407c-b549-822e9c701c70"
   },
   "outputs": [],
   "source": [
    "# сделаем сортировку и перепишем index\n",
    "df = df.sort_values(by=['UID', 'JID'])\n",
    "df = df.reset_index(drop=True)"
   ]
  },
  {
   "cell_type": "code",
   "execution_count": 7,
   "id": "c6569d6a-5e39-43ee-96c8-283d788573d3",
   "metadata": {
    "id": "c6569d6a-5e39-43ee-96c8-283d788573d3"
   },
   "outputs": [],
   "source": [
    "# создадим на основе набора данных\n",
    "# поднабор, который требуется для библиотеки Surprise\n",
    "\n",
    "# указываем минимальный и максимальный рейтинги\n",
    "reader = Reader(rating_scale=(-10, 10))\n",
    "\n",
    "# передаём набор, указывая последовательность колонок: user (raw) ids, item (raw) ids, ratings\n",
    "# для Surprise - это обязательно\n",
    "data = Dataset.load_from_df(df[['UID', 'JID', 'Rating']], reader)"
   ]
  },
  {
   "cell_type": "code",
   "execution_count": 8,
   "id": "ae962279-bafb-408e-a1a9-1c698d75157e",
   "metadata": {
    "id": "ae962279-bafb-408e-a1a9-1c698d75157e"
   },
   "outputs": [],
   "source": [
    "trainset_data = data.build_full_trainset()\n",
    "\n",
    "# сделаем разделение на обучающую и тестовую выборку\n",
    "trainset, testset = train_test_split(data, test_size=0.2, random_state=42)"
   ]
  },
  {
   "cell_type": "markdown",
   "id": "879fe08d-1317-4028-b797-03baee7f7311",
   "metadata": {
    "id": "879fe08d-1317-4028-b797-03baee7f7311"
   },
   "source": [
    "### Обучение модели"
   ]
  },
  {
   "cell_type": "code",
   "execution_count": null,
   "id": "72ec4964",
   "metadata": {},
   "outputs": [],
   "source": []
  },
  {
   "cell_type": "code",
   "execution_count": 9,
   "id": "a1810ecc",
   "metadata": {},
   "outputs": [
    {
     "name": "stdout",
     "output_type": "stream",
     "text": [
      "RMSE: 0.2524\n"
     ]
    },
    {
     "data": {
      "text/plain": [
       "0.25238153948056485"
      ]
     },
     "execution_count": 9,
     "metadata": {},
     "output_type": "execute_result"
    }
   ],
   "source": [
    "# обучим с лучшими параметрами\n",
    "algo_svd = SVD(random_state=0, n_epochs=100, n_factors= 512)\n",
    "algo_svd.fit(trainset_data)\n",
    "\n",
    "# получим предикт и посмотрим метрику\n",
    "predictions_svd = algo_svd.test(trainset_data.build_testset())\n",
    "accuracy.rmse(predictions_svd)"
   ]
  },
  {
   "cell_type": "code",
   "execution_count": null,
   "id": "e4dfac99",
   "metadata": {},
   "outputs": [],
   "source": []
  },
  {
   "cell_type": "code",
   "execution_count": 10,
   "id": "c7dcae25",
   "metadata": {},
   "outputs": [],
   "source": [
    "# обучим с лучшими параметрами\n",
    "#algo_knn = KNNWithMeans(sim_options={'name': 'cosine', 'min_support': 3, 'user_based': False})\n",
    "#algo_knn.fit(trainset_data)\n",
    "\n",
    "# получим предикт и посмотрим метрику\n",
    "#predictions_knn = algo_knn.test(trainset_data.build_testset())\n",
    "#accuracy.rmse(predictions_knn)"
   ]
  },
  {
   "cell_type": "code",
   "execution_count": 16,
   "id": "55075cfe",
   "metadata": {},
   "outputs": [],
   "source": [
    "file_name = r'surprise\\baseline_svdpp_tuning_all_data'\n",
    "#dump.dump(file_name, algo=algo)\n",
    "_, algo_svdpp = dump.load(file_name)"
   ]
  },
  {
   "cell_type": "code",
   "execution_count": 18,
   "id": "eb7af9a6",
   "metadata": {},
   "outputs": [
    {
     "name": "stdout",
     "output_type": "stream",
     "text": [
      "RMSE: 0.4238\n"
     ]
    },
    {
     "data": {
      "text/plain": [
       "0.42381013577501886"
      ]
     },
     "execution_count": 18,
     "metadata": {},
     "output_type": "execute_result"
    }
   ],
   "source": [
    "\n",
    "# получим предикт и посмотрим метрику\n",
    "predictions_svdpp = algo_svdpp.test(trainset_data.build_testset())\n",
    "accuracy.rmse(predictions_svdpp)"
   ]
  },
  {
   "cell_type": "code",
   "execution_count": null,
   "id": "f7c83b53",
   "metadata": {},
   "outputs": [],
   "source": []
  },
  {
   "cell_type": "code",
   "execution_count": null,
   "id": "9b00f160",
   "metadata": {},
   "outputs": [],
   "source": []
  },
  {
   "cell_type": "code",
   "execution_count": 19,
   "id": "8df88fa7",
   "metadata": {},
   "outputs": [
    {
     "data": {
      "text/html": [
       "<div>\n",
       "<style scoped>\n",
       "    .dataframe tbody tr th:only-of-type {\n",
       "        vertical-align: middle;\n",
       "    }\n",
       "\n",
       "    .dataframe tbody tr th {\n",
       "        vertical-align: top;\n",
       "    }\n",
       "\n",
       "    .dataframe thead th {\n",
       "        text-align: right;\n",
       "    }\n",
       "</style>\n",
       "<table border=\"1\" class=\"dataframe\">\n",
       "  <thead>\n",
       "    <tr style=\"text-align: right;\">\n",
       "      <th></th>\n",
       "      <th>UID</th>\n",
       "      <th>JID</th>\n",
       "      <th>Rating</th>\n",
       "      <th>Rating_svd</th>\n",
       "      <th>Rating_svdpp</th>\n",
       "      <th>err_svd</th>\n",
       "      <th>err_svdpp</th>\n",
       "    </tr>\n",
       "  </thead>\n",
       "  <tbody>\n",
       "    <tr>\n",
       "      <th>0</th>\n",
       "      <td>1</td>\n",
       "      <td>1</td>\n",
       "      <td>-7.82</td>\n",
       "      <td>-7.586908</td>\n",
       "      <td>-7.593449</td>\n",
       "      <td>0.233092</td>\n",
       "      <td>0.226551</td>\n",
       "    </tr>\n",
       "    <tr>\n",
       "      <th>1</th>\n",
       "      <td>1</td>\n",
       "      <td>2</td>\n",
       "      <td>8.79</td>\n",
       "      <td>8.382193</td>\n",
       "      <td>8.421380</td>\n",
       "      <td>0.407807</td>\n",
       "      <td>0.368620</td>\n",
       "    </tr>\n",
       "    <tr>\n",
       "      <th>2</th>\n",
       "      <td>1</td>\n",
       "      <td>3</td>\n",
       "      <td>-9.66</td>\n",
       "      <td>-9.501438</td>\n",
       "      <td>-9.464442</td>\n",
       "      <td>0.158562</td>\n",
       "      <td>0.195558</td>\n",
       "    </tr>\n",
       "    <tr>\n",
       "      <th>3</th>\n",
       "      <td>1</td>\n",
       "      <td>4</td>\n",
       "      <td>-8.16</td>\n",
       "      <td>-8.181290</td>\n",
       "      <td>-8.163395</td>\n",
       "      <td>0.021290</td>\n",
       "      <td>0.003395</td>\n",
       "    </tr>\n",
       "    <tr>\n",
       "      <th>4</th>\n",
       "      <td>1</td>\n",
       "      <td>5</td>\n",
       "      <td>-7.52</td>\n",
       "      <td>-7.368126</td>\n",
       "      <td>-7.377866</td>\n",
       "      <td>0.151874</td>\n",
       "      <td>0.142134</td>\n",
       "    </tr>\n",
       "    <tr>\n",
       "      <th>...</th>\n",
       "      <td>...</td>\n",
       "      <td>...</td>\n",
       "      <td>...</td>\n",
       "      <td>...</td>\n",
       "      <td>...</td>\n",
       "      <td>...</td>\n",
       "      <td>...</td>\n",
       "    </tr>\n",
       "    <tr>\n",
       "      <th>1448359</th>\n",
       "      <td>24983</td>\n",
       "      <td>67</td>\n",
       "      <td>6.21</td>\n",
       "      <td>6.119293</td>\n",
       "      <td>6.169552</td>\n",
       "      <td>0.090707</td>\n",
       "      <td>0.040448</td>\n",
       "    </tr>\n",
       "    <tr>\n",
       "      <th>1448360</th>\n",
       "      <td>24983</td>\n",
       "      <td>68</td>\n",
       "      <td>7.48</td>\n",
       "      <td>7.374133</td>\n",
       "      <td>7.430004</td>\n",
       "      <td>0.105867</td>\n",
       "      <td>0.049996</td>\n",
       "    </tr>\n",
       "    <tr>\n",
       "      <th>1448361</th>\n",
       "      <td>24983</td>\n",
       "      <td>69</td>\n",
       "      <td>5.15</td>\n",
       "      <td>5.124204</td>\n",
       "      <td>5.135486</td>\n",
       "      <td>0.025796</td>\n",
       "      <td>0.014514</td>\n",
       "    </tr>\n",
       "    <tr>\n",
       "      <th>1448362</th>\n",
       "      <td>24983</td>\n",
       "      <td>71</td>\n",
       "      <td>6.26</td>\n",
       "      <td>6.168962</td>\n",
       "      <td>6.237052</td>\n",
       "      <td>0.091038</td>\n",
       "      <td>0.022948</td>\n",
       "    </tr>\n",
       "    <tr>\n",
       "      <th>1448363</th>\n",
       "      <td>24983</td>\n",
       "      <td>87</td>\n",
       "      <td>7.23</td>\n",
       "      <td>7.126644</td>\n",
       "      <td>7.191235</td>\n",
       "      <td>0.103356</td>\n",
       "      <td>0.038765</td>\n",
       "    </tr>\n",
       "  </tbody>\n",
       "</table>\n",
       "<p>1448364 rows × 7 columns</p>\n",
       "</div>"
      ],
      "text/plain": [
       "           UID  JID  Rating  Rating_svd  Rating_svdpp   err_svd  err_svdpp\n",
       "0            1    1   -7.82   -7.586908     -7.593449  0.233092   0.226551\n",
       "1            1    2    8.79    8.382193      8.421380  0.407807   0.368620\n",
       "2            1    3   -9.66   -9.501438     -9.464442  0.158562   0.195558\n",
       "3            1    4   -8.16   -8.181290     -8.163395  0.021290   0.003395\n",
       "4            1    5   -7.52   -7.368126     -7.377866  0.151874   0.142134\n",
       "...        ...  ...     ...         ...           ...       ...        ...\n",
       "1448359  24983   67    6.21    6.119293      6.169552  0.090707   0.040448\n",
       "1448360  24983   68    7.48    7.374133      7.430004  0.105867   0.049996\n",
       "1448361  24983   69    5.15    5.124204      5.135486  0.025796   0.014514\n",
       "1448362  24983   71    6.26    6.168962      6.237052  0.091038   0.022948\n",
       "1448363  24983   87    7.23    7.126644      7.191235  0.103356   0.038765\n",
       "\n",
       "[1448364 rows x 7 columns]"
      ]
     },
     "execution_count": 19,
     "metadata": {},
     "output_type": "execute_result"
    }
   ],
   "source": [
    "df['Rating_svd'] = [x.est for x in predictions_svd]\n",
    "df['Rating_svdpp'] = [x.est for x in predictions_svdpp]\n",
    "\n",
    "df['err_svd'] = np.abs(df['Rating_svd'] - df['Rating'])\n",
    "df['err_svdpp'] = np.abs(df['Rating_svdpp'] - df['Rating'])\n",
    "df"
   ]
  },
  {
   "cell_type": "code",
   "execution_count": 21,
   "id": "d5f61288",
   "metadata": {},
   "outputs": [
    {
     "data": {
      "text/html": [
       "<div>\n",
       "<style scoped>\n",
       "    .dataframe tbody tr th:only-of-type {\n",
       "        vertical-align: middle;\n",
       "    }\n",
       "\n",
       "    .dataframe tbody tr th {\n",
       "        vertical-align: top;\n",
       "    }\n",
       "\n",
       "    .dataframe thead th {\n",
       "        text-align: right;\n",
       "    }\n",
       "</style>\n",
       "<table border=\"1\" class=\"dataframe\">\n",
       "  <thead>\n",
       "    <tr style=\"text-align: right;\">\n",
       "      <th></th>\n",
       "      <th>err_svd</th>\n",
       "      <th>err_svdpp</th>\n",
       "    </tr>\n",
       "    <tr>\n",
       "      <th>UID</th>\n",
       "      <th></th>\n",
       "      <th></th>\n",
       "    </tr>\n",
       "  </thead>\n",
       "  <tbody>\n",
       "    <tr>\n",
       "      <th>1</th>\n",
       "      <td>0.160365</td>\n",
       "      <td>0.150069</td>\n",
       "    </tr>\n",
       "    <tr>\n",
       "      <th>2</th>\n",
       "      <td>0.176008</td>\n",
       "      <td>0.155665</td>\n",
       "    </tr>\n",
       "    <tr>\n",
       "      <th>3</th>\n",
       "      <td>0.081557</td>\n",
       "      <td>0.075191</td>\n",
       "    </tr>\n",
       "    <tr>\n",
       "      <th>4</th>\n",
       "      <td>0.094060</td>\n",
       "      <td>0.102181</td>\n",
       "    </tr>\n",
       "    <tr>\n",
       "      <th>5</th>\n",
       "      <td>0.142172</td>\n",
       "      <td>0.135265</td>\n",
       "    </tr>\n",
       "    <tr>\n",
       "      <th>...</th>\n",
       "      <td>...</td>\n",
       "      <td>...</td>\n",
       "    </tr>\n",
       "    <tr>\n",
       "      <th>24979</th>\n",
       "      <td>0.126711</td>\n",
       "      <td>0.072547</td>\n",
       "    </tr>\n",
       "    <tr>\n",
       "      <th>24980</th>\n",
       "      <td>0.116749</td>\n",
       "      <td>0.042033</td>\n",
       "    </tr>\n",
       "    <tr>\n",
       "      <th>24981</th>\n",
       "      <td>0.065816</td>\n",
       "      <td>0.036046</td>\n",
       "    </tr>\n",
       "    <tr>\n",
       "      <th>24982</th>\n",
       "      <td>0.074785</td>\n",
       "      <td>0.038520</td>\n",
       "    </tr>\n",
       "    <tr>\n",
       "      <th>24983</th>\n",
       "      <td>0.094242</td>\n",
       "      <td>0.052616</td>\n",
       "    </tr>\n",
       "  </tbody>\n",
       "</table>\n",
       "<p>24983 rows × 2 columns</p>\n",
       "</div>"
      ],
      "text/plain": [
       "        err_svd  err_svdpp\n",
       "UID                       \n",
       "1      0.160365   0.150069\n",
       "2      0.176008   0.155665\n",
       "3      0.081557   0.075191\n",
       "4      0.094060   0.102181\n",
       "5      0.142172   0.135265\n",
       "...         ...        ...\n",
       "24979  0.126711   0.072547\n",
       "24980  0.116749   0.042033\n",
       "24981  0.065816   0.036046\n",
       "24982  0.074785   0.038520\n",
       "24983  0.094242   0.052616\n",
       "\n",
       "[24983 rows x 2 columns]"
      ]
     },
     "execution_count": 21,
     "metadata": {},
     "output_type": "execute_result"
    }
   ],
   "source": [
    "df_gr = df.groupby('UID').agg({'err_svd':'mean', 'err_svdpp':'mean'})\n",
    "df_gr"
   ]
  },
  {
   "cell_type": "code",
   "execution_count": 24,
   "id": "baf5ef07",
   "metadata": {},
   "outputs": [
    {
     "name": "stdout",
     "output_type": "stream",
     "text": [
      "0\n",
      "1\n",
      "2\n",
      "4\n",
      "5\n",
      "6\n",
      "7\n",
      "8\n",
      "11\n",
      "14\n",
      "16\n",
      "19\n",
      "53\n",
      "58\n",
      "76\n",
      "82\n",
      "123\n",
      "4111\n",
      "4149\n",
      "5062\n",
      "5438\n",
      "5677\n",
      "6009\n",
      "6023\n",
      "6561\n",
      "6615\n",
      "6625\n",
      "6664\n",
      "6702\n",
      "6734\n",
      "6737\n",
      "6742\n",
      "6915\n",
      "6927\n",
      "6946\n",
      "7093\n",
      "7222\n",
      "7255\n",
      "7340\n",
      "7377\n",
      "7404\n",
      "7644\n",
      "7659\n",
      "7694\n",
      "7731\n",
      "7737\n",
      "7784\n",
      "7936\n",
      "8098\n",
      "8102\n",
      "8106\n",
      "8141\n",
      "8154\n",
      "8195\n",
      "8253\n",
      "8328\n",
      "8335\n",
      "8367\n",
      "8397\n",
      "8421\n",
      "8429\n",
      "8451\n",
      "8483\n",
      "8497\n",
      "8568\n",
      "8621\n",
      "8622\n",
      "8676\n",
      "8684\n",
      "8702\n",
      "8725\n",
      "8735\n",
      "8759\n",
      "8763\n",
      "8843\n",
      "8921\n",
      "8959\n",
      "8967\n",
      "9087\n",
      "9098\n",
      "9180\n",
      "9185\n",
      "9193\n",
      "9311\n",
      "9359\n",
      "9366\n",
      "9467\n",
      "9506\n",
      "9510\n",
      "9550\n",
      "9604\n",
      "9639\n",
      "9667\n",
      "9712\n",
      "9714\n",
      "9740\n",
      "9766\n",
      "9768\n",
      "9819\n",
      "9828\n",
      "9870\n",
      "9903\n",
      "9917\n",
      "10026\n",
      "10064\n",
      "10067\n",
      "10078\n",
      "10086\n",
      "10112\n",
      "10118\n",
      "10142\n",
      "10186\n",
      "10294\n",
      "10310\n",
      "10434\n",
      "10447\n",
      "10658\n",
      "10694\n",
      "11389\n",
      "11583\n",
      "11588\n",
      "11609\n",
      "11622\n",
      "11632\n",
      "11654\n",
      "11655\n",
      "11675\n",
      "11688\n",
      "11739\n",
      "11766\n",
      "11771\n",
      "11773\n",
      "11798\n",
      "11804\n",
      "11825\n",
      "11856\n",
      "11886\n",
      "11916\n",
      "11920\n",
      "11945\n",
      "11991\n",
      "11993\n",
      "12005\n",
      "12049\n",
      "12075\n",
      "12099\n",
      "12104\n",
      "12190\n",
      "12199\n",
      "12234\n",
      "12242\n",
      "12244\n",
      "12346\n",
      "12519\n",
      "12699\n",
      "12775\n",
      "12861\n",
      "13184\n",
      "13343\n",
      "13354\n",
      "13430\n",
      "13440\n",
      "13651\n",
      "13728\n",
      "13783\n",
      "13832\n",
      "14125\n",
      "14176\n",
      "14181\n",
      "14188\n",
      "14232\n",
      "14248\n",
      "14362\n",
      "14429\n",
      "14451\n",
      "14465\n",
      "14641\n",
      "14663\n",
      "14738\n",
      "14795\n",
      "14810\n",
      "14821\n",
      "14825\n",
      "14958\n",
      "14964\n",
      "15022\n",
      "15067\n",
      "15107\n",
      "15110\n",
      "15168\n",
      "15190\n",
      "15200\n",
      "15265\n",
      "15313\n",
      "15374\n",
      "15375\n",
      "15388\n",
      "15392\n",
      "15396\n",
      "15509\n",
      "15731\n",
      "16043\n",
      "16140\n",
      "16166\n",
      "16473\n",
      "16520\n",
      "16749\n",
      "16789\n",
      "16791\n",
      "16827\n",
      "16972\n",
      "17051\n",
      "17203\n",
      "17236\n",
      "17248\n",
      "17356\n",
      "17378\n",
      "17407\n",
      "17434\n",
      "17445\n",
      "17493\n",
      "17497\n",
      "17569\n",
      "17692\n",
      "17719\n",
      "17812\n",
      "17852\n",
      "17865\n",
      "17917\n",
      "17921\n",
      "17971\n",
      "17972\n",
      "17985\n",
      "18074\n",
      "18176\n",
      "18191\n",
      "18298\n",
      "18398\n",
      "18553\n",
      "18612\n",
      "18642\n",
      "18668\n",
      "18674\n",
      "18715\n",
      "18739\n",
      "18847\n",
      "19009\n",
      "19056\n",
      "19085\n",
      "19165\n",
      "19225\n",
      "19281\n",
      "19306\n",
      "19314\n",
      "19338\n",
      "19430\n",
      "19431\n",
      "19461\n",
      "19468\n",
      "19514\n",
      "19538\n",
      "19558\n",
      "19567\n",
      "19619\n",
      "19684\n",
      "19701\n",
      "19708\n",
      "19814\n",
      "19869\n",
      "19996\n",
      "20082\n",
      "20231\n",
      "20257\n",
      "20297\n",
      "20308\n",
      "20371\n",
      "20545\n",
      "21791\n",
      "22587\n",
      "24962\n",
      "24970\n",
      "24971\n",
      "24972\n",
      "24973\n",
      "24974\n",
      "24975\n",
      "24976\n",
      "24978\n",
      "24979\n",
      "24980\n",
      "24981\n",
      "24982\n"
     ]
    }
   ],
   "source": [
    "users = set()\n",
    "\n",
    "for i, row in enumerate(df_gr.values):\n",
    "    err_svd = row[0]\n",
    "    err_svdpp = row[1]\n",
    "    \n",
    "    users.add(i)\n",
    "    if err_svdpp < err_svd:\n",
    "        print(i)"
   ]
  },
  {
   "cell_type": "code",
   "execution_count": 26,
   "id": "2ea10b5d",
   "metadata": {},
   "outputs": [
    {
     "data": {
      "text/plain": [
       "24983"
      ]
     },
     "execution_count": 26,
     "metadata": {},
     "output_type": "execute_result"
    }
   ],
   "source": [
    "len(users)"
   ]
  },
  {
   "cell_type": "code",
   "execution_count": null,
   "id": "c9031e8b",
   "metadata": {},
   "outputs": [],
   "source": []
  },
  {
   "cell_type": "code",
   "execution_count": 24,
   "id": "d06b634c-c15c-4210-973c-1e4e7f7ccf9b",
   "metadata": {
    "colab": {
     "base_uri": "https://localhost:8080/",
     "height": 238
    },
    "id": "d06b634c-c15c-4210-973c-1e4e7f7ccf9b",
    "outputId": "0988a430-0875-4cce-986e-7973ba158917"
   },
   "outputs": [
    {
     "data": {
      "text/html": [
       "<div>\n",
       "<style scoped>\n",
       "    .dataframe tbody tr th:only-of-type {\n",
       "        vertical-align: middle;\n",
       "    }\n",
       "\n",
       "    .dataframe tbody tr th {\n",
       "        vertical-align: top;\n",
       "    }\n",
       "\n",
       "    .dataframe thead th {\n",
       "        text-align: right;\n",
       "    }\n",
       "</style>\n",
       "<table border=\"1\" class=\"dataframe\">\n",
       "  <thead>\n",
       "    <tr style=\"text-align: right;\">\n",
       "      <th></th>\n",
       "      <th>UID</th>\n",
       "      <th>JID</th>\n",
       "    </tr>\n",
       "    <tr>\n",
       "      <th>InteractionID</th>\n",
       "      <th></th>\n",
       "      <th></th>\n",
       "    </tr>\n",
       "  </thead>\n",
       "  <tbody>\n",
       "    <tr>\n",
       "      <th>0</th>\n",
       "      <td>11228</td>\n",
       "      <td>39</td>\n",
       "    </tr>\n",
       "    <tr>\n",
       "      <th>1</th>\n",
       "      <td>21724</td>\n",
       "      <td>85</td>\n",
       "    </tr>\n",
       "    <tr>\n",
       "      <th>2</th>\n",
       "      <td>16782</td>\n",
       "      <td>56</td>\n",
       "    </tr>\n",
       "    <tr>\n",
       "      <th>3</th>\n",
       "      <td>12105</td>\n",
       "      <td>42</td>\n",
       "    </tr>\n",
       "    <tr>\n",
       "      <th>4</th>\n",
       "      <td>14427</td>\n",
       "      <td>2</td>\n",
       "    </tr>\n",
       "  </tbody>\n",
       "</table>\n",
       "</div>"
      ],
      "text/plain": [
       "                 UID  JID\n",
       "InteractionID            \n",
       "0              11228   39\n",
       "1              21724   85\n",
       "2              16782   56\n",
       "3              12105   42\n",
       "4              14427    2"
      ]
     },
     "execution_count": 24,
     "metadata": {},
     "output_type": "execute_result"
    }
   ],
   "source": [
    "test = pd.read_csv(r'..\\data\\recsys-in-practice\\test_joke_df_nofactrating.csv', index_col=0)\n",
    "test.head(5)"
   ]
  },
  {
   "cell_type": "code",
   "execution_count": 25,
   "id": "27bade05-e8a4-4b23-a370-0fc7151ad768",
   "metadata": {
    "id": "27bade05-e8a4-4b23-a370-0fc7151ad768"
   },
   "outputs": [],
   "source": [
    "test['Rating'] = test[['UID', 'JID']].apply(lambda x: algo.predict(x[0], x[1], verbose=False).est,\n",
    "                                                      axis = 1)\n",
    "                                                      \n"
   ]
  },
  {
   "cell_type": "code",
   "execution_count": 26,
   "id": "8856cf55-5e63-493c-9b33-69ee76e39ea6",
   "metadata": {
    "colab": {
     "base_uri": "https://localhost:8080/",
     "height": 238
    },
    "id": "8856cf55-5e63-493c-9b33-69ee76e39ea6",
    "outputId": "5465856f-5b98-418c-80a7-743d51727f88"
   },
   "outputs": [
    {
     "data": {
      "text/html": [
       "<div>\n",
       "<style scoped>\n",
       "    .dataframe tbody tr th:only-of-type {\n",
       "        vertical-align: middle;\n",
       "    }\n",
       "\n",
       "    .dataframe tbody tr th {\n",
       "        vertical-align: top;\n",
       "    }\n",
       "\n",
       "    .dataframe thead th {\n",
       "        text-align: right;\n",
       "    }\n",
       "</style>\n",
       "<table border=\"1\" class=\"dataframe\">\n",
       "  <thead>\n",
       "    <tr style=\"text-align: right;\">\n",
       "      <th></th>\n",
       "      <th>Rating</th>\n",
       "    </tr>\n",
       "    <tr>\n",
       "      <th>InteractionID</th>\n",
       "      <th></th>\n",
       "    </tr>\n",
       "  </thead>\n",
       "  <tbody>\n",
       "    <tr>\n",
       "      <th>0</th>\n",
       "      <td>3.042851</td>\n",
       "    </tr>\n",
       "    <tr>\n",
       "      <th>1</th>\n",
       "      <td>-7.039993</td>\n",
       "    </tr>\n",
       "    <tr>\n",
       "      <th>2</th>\n",
       "      <td>-0.331728</td>\n",
       "    </tr>\n",
       "    <tr>\n",
       "      <th>3</th>\n",
       "      <td>6.796138</td>\n",
       "    </tr>\n",
       "    <tr>\n",
       "      <th>4</th>\n",
       "      <td>5.779301</td>\n",
       "    </tr>\n",
       "  </tbody>\n",
       "</table>\n",
       "</div>"
      ],
      "text/plain": [
       "                 Rating\n",
       "InteractionID          \n",
       "0              3.042851\n",
       "1             -7.039993\n",
       "2             -0.331728\n",
       "3              6.796138\n",
       "4              5.779301"
      ]
     },
     "execution_count": 26,
     "metadata": {},
     "output_type": "execute_result"
    }
   ],
   "source": [
    "# вид набора данных, который должен быть отправлен для тестирования\n",
    "test['Rating'].to_frame().head(5)"
   ]
  },
  {
   "cell_type": "code",
   "execution_count": 27,
   "id": "yLcjElHPRU1v",
   "metadata": {
    "id": "yLcjElHPRU1v"
   },
   "outputs": [],
   "source": [
    "# формирование файла для отправки в Kaggle\n",
    "test['Rating'].to_frame().to_csv('baseline_svd_tuning_best_4.02408.csv')"
   ]
  }
 ],
 "metadata": {
  "colab": {
   "provenance": []
  },
  "kernelspec": {
   "display_name": "Python 3 (ipykernel)",
   "language": "python",
   "name": "python3"
  },
  "language_info": {
   "codemirror_mode": {
    "name": "ipython",
    "version": 3
   },
   "file_extension": ".py",
   "mimetype": "text/x-python",
   "name": "python",
   "nbconvert_exporter": "python",
   "pygments_lexer": "ipython3",
   "version": "3.10.4"
  }
 },
 "nbformat": 4,
 "nbformat_minor": 5
}
