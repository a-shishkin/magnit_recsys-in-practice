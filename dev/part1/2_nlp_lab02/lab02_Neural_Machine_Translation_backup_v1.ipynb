{
 "cells": [
  {
   "cell_type": "markdown",
   "metadata": {
    "id": "v_vCu0F1eQK5"
   },
   "source": [
    "## Lab assignment 02"
   ]
  },
  {
   "cell_type": "markdown",
   "metadata": {
    "id": "VP3DRsCNeQK9"
   },
   "source": [
    "### Neural Machine Translation in the wild\n",
    "In the third homework you are supposed to get the best translation you can for the EN-RU translation task.\n",
    "\n",
    "Basic approach using RNNs as encoder and decoder is implemented for you. \n",
    "\n",
    "Your ultimate task is to use the techniques we've covered, e.g.\n",
    "\n",
    "* Optimization enhancements (e.g. learning rate decay)\n",
    "\n",
    "* CNN encoder (with or without positional encoding)\n",
    "\n",
    "* attention/self-attention mechanism\n",
    "\n",
    "* pretraining the language model\n",
    "\n",
    "* [Byte Pair Encoding](https://github.com/rsennrich/subword-nmt)\n",
    "\n",
    "* or just fine-tunning BERT ;)\n",
    "\n",
    "to improve the translation quality. \n",
    "\n",
    "__Please use at least three different approaches/models and compare them (translation quality/complexity/training and evaluation time).__\n",
    "\n",
    "Write down some summary on your experiments and illustrate it with convergence plots/metrics and your thoughts. Just like you would approach a real problem."
   ]
  },
  {
   "cell_type": "code",
   "execution_count": 17,
   "metadata": {
    "executionInfo": {
     "elapsed": 259,
     "status": "ok",
     "timestamp": 1655403579150,
     "user": {
      "displayName": "Шишкин Александр",
      "userId": "00721730077610513143"
     },
     "user_tz": -180
    },
    "id": "SgdsdAogsarZ"
   },
   "outputs": [],
   "source": [
    "#!pip install -U torch==1.10 torchtext torchvision"
   ]
  },
  {
   "cell_type": "code",
   "execution_count": 4,
   "metadata": {},
   "outputs": [],
   "source": [
    "import pandas as pd"
   ]
  },
  {
   "cell_type": "code",
   "execution_count": 17,
   "metadata": {
    "colab": {
     "base_uri": "https://localhost:8080/",
     "height": 36
    },
    "executionInfo": {
     "elapsed": 8,
     "status": "ok",
     "timestamp": 1655403579966,
     "user": {
      "displayName": "Шишкин Александр",
      "userId": "00721730077610513143"
     },
     "user_tz": -180
    },
    "id": "5Nyz5qMPtN6U",
    "outputId": "6b7dee2b-e5e3-4f9d-f68a-237041b358d9"
   },
   "outputs": [
    {
     "data": {
      "text/plain": [
       "'1.11.0'"
      ]
     },
     "execution_count": 17,
     "metadata": {},
     "output_type": "execute_result"
    }
   ],
   "source": [
    "import torch\n",
    "torch.__version__"
   ]
  },
  {
   "cell_type": "code",
   "execution_count": 19,
   "metadata": {
    "executionInfo": {
     "elapsed": 7,
     "status": "ok",
     "timestamp": 1655403579966,
     "user": {
      "displayName": "Шишкин Александр",
      "userId": "00721730077610513143"
     },
     "user_tz": -180
    },
    "id": "JjYXB0geeQK-"
   },
   "outputs": [],
   "source": [
    "# You might need to install the libraries below. Do it in the desired environment\n",
    "# if you are working locally.\n",
    "\n",
    "#! pip  install subword-nmt\n",
    "#! pip install nltk\n",
    "#! pip install torchtext"
   ]
  },
  {
   "cell_type": "code",
   "execution_count": 20,
   "metadata": {
    "executionInfo": {
     "elapsed": 6,
     "status": "ok",
     "timestamp": 1655403579966,
     "user": {
      "displayName": "Шишкин Александр",
      "userId": "00721730077610513143"
     },
     "user_tz": -180
    },
    "id": "7YI_S1gkeQK_"
   },
   "outputs": [],
   "source": [
    "# Thanks to YSDA NLP course team for the data\n",
    "# (who thanks tilda and deephack teams for the data in their turn)\n",
    "\n",
    "import os\n",
    "path_do_data = 'data.txt'\n",
    "if not os.path.exists(path_do_data):\n",
    "    print(\"Dataset not found locally. Downloading from github.\")\n",
    "    !wget https://raw.githubusercontent.com/neychev/made_nlp_course/master/datasets/Machine_translation_EN_RU/data.txt -nc"
   ]
  },
  {
   "cell_type": "code",
   "execution_count": 21,
   "metadata": {
    "colab": {
     "base_uri": "https://localhost:8080/"
    },
    "executionInfo": {
     "elapsed": 7,
     "status": "ok",
     "timestamp": 1655403579967,
     "user": {
      "displayName": "Шишкин Александр",
      "userId": "00721730077610513143"
     },
     "user_tz": -180
    },
    "id": "6sjZOM8TsTho",
    "outputId": "391b0bcf-e47e-42f8-8364-f90d50ca4433"
   },
   "outputs": [
    {
     "name": "stdout",
     "output_type": "stream",
     "text": [
      "data.txt  sample_data\n"
     ]
    }
   ],
   "source": [
    "!ls"
   ]
  },
  {
   "cell_type": "code",
   "execution_count": 2,
   "metadata": {},
   "outputs": [],
   "source": [
    "import torch\n",
    "import torch.nn as nn\n",
    "import torch.optim as optim\n",
    "\n",
    "import torchtext\n",
    "#from torchtext.datasets import TranslationDataset, Multi30k\n",
    "#from torchtext.data import Field, BucketIterator\n",
    "from torchtext.datasets import TranslationDataset, Multi30k\n",
    "from torchtext.data import Field, BucketIterator\n",
    "\n",
    "import spacy\n",
    "\n",
    "import random\n",
    "import math\n",
    "import time\n",
    "\n",
    "import matplotlib\n",
    "matplotlib.rcParams.update({'figure.figsize': (16, 12), 'font.size': 14})\n",
    "import matplotlib.pyplot as plt\n",
    "%matplotlib inline\n",
    "from IPython.display import clear_output\n",
    "\n",
    "from nltk.tokenize import WordPunctTokenizer\n",
    "from subword_nmt.learn_bpe import learn_bpe\n",
    "from subword_nmt.apply_bpe import BPE\n"
   ]
  },
  {
   "cell_type": "code",
   "execution_count": null,
   "metadata": {
    "executionInfo": {
     "elapsed": 4,
     "status": "ok",
     "timestamp": 1655403579967,
     "user": {
      "displayName": "Шишкин Александр",
      "userId": "00721730077610513143"
     },
     "user_tz": -180
    },
    "id": "dIazHc5deQLA"
   },
   "outputs": [],
   "source": []
  },
  {
   "cell_type": "code",
   "execution_count": 3,
   "metadata": {
    "executionInfo": {
     "elapsed": 4,
     "status": "ok",
     "timestamp": 1655403579967,
     "user": {
      "displayName": "Шишкин Александр",
      "userId": "00721730077610513143"
     },
     "user_tz": -180
    },
    "id": "VTKPC2Z5eQLA"
   },
   "outputs": [],
   "source": [
    "from nltk.translate.bleu_score import corpus_bleu\n",
    "import tqdm"
   ]
  },
  {
   "cell_type": "code",
   "execution_count": 12,
   "metadata": {},
   "outputs": [],
   "source": [
    "import numpy as np"
   ]
  },
  {
   "cell_type": "code",
   "execution_count": 5,
   "metadata": {},
   "outputs": [
    {
     "data": {
      "text/html": [
       "<div>\n",
       "<style scoped>\n",
       "    .dataframe tbody tr th:only-of-type {\n",
       "        vertical-align: middle;\n",
       "    }\n",
       "\n",
       "    .dataframe tbody tr th {\n",
       "        vertical-align: top;\n",
       "    }\n",
       "\n",
       "    .dataframe thead th {\n",
       "        text-align: right;\n",
       "    }\n",
       "</style>\n",
       "<table border=\"1\" class=\"dataframe\">\n",
       "  <thead>\n",
       "    <tr style=\"text-align: right;\">\n",
       "      <th></th>\n",
       "      <th>UID</th>\n",
       "      <th>JID</th>\n",
       "      <th>Rating</th>\n",
       "    </tr>\n",
       "  </thead>\n",
       "  <tbody>\n",
       "    <tr>\n",
       "      <th>0</th>\n",
       "      <td>18029</td>\n",
       "      <td>6</td>\n",
       "      <td>-1.26</td>\n",
       "    </tr>\n",
       "    <tr>\n",
       "      <th>1</th>\n",
       "      <td>3298</td>\n",
       "      <td>64</td>\n",
       "      <td>-4.17</td>\n",
       "    </tr>\n",
       "  </tbody>\n",
       "</table>\n",
       "</div>"
      ],
      "text/plain": [
       "     UID  JID  Rating\n",
       "0  18029    6   -1.26\n",
       "1   3298   64   -4.17"
      ]
     },
     "execution_count": 5,
     "metadata": {},
     "output_type": "execute_result"
    }
   ],
   "source": [
    "df = pd.read_csv(r'data\\recsys-in-practice\\train_joke_df.csv')\n",
    "\n",
    "df.head(2)"
   ]
  },
  {
   "cell_type": "code",
   "execution_count": 6,
   "metadata": {},
   "outputs": [
    {
     "data": {
      "text/html": [
       "<div>\n",
       "<style scoped>\n",
       "    .dataframe tbody tr th:only-of-type {\n",
       "        vertical-align: middle;\n",
       "    }\n",
       "\n",
       "    .dataframe tbody tr th {\n",
       "        vertical-align: top;\n",
       "    }\n",
       "\n",
       "    .dataframe thead th {\n",
       "        text-align: right;\n",
       "    }\n",
       "</style>\n",
       "<table border=\"1\" class=\"dataframe\">\n",
       "  <thead>\n",
       "    <tr style=\"text-align: right;\">\n",
       "      <th></th>\n",
       "      <th>UID</th>\n",
       "      <th>JID</th>\n",
       "      <th>Rating</th>\n",
       "    </tr>\n",
       "  </thead>\n",
       "  <tbody>\n",
       "    <tr>\n",
       "      <th>0</th>\n",
       "      <td>1</td>\n",
       "      <td>1</td>\n",
       "      <td>-7.82</td>\n",
       "    </tr>\n",
       "    <tr>\n",
       "      <th>1</th>\n",
       "      <td>1</td>\n",
       "      <td>2</td>\n",
       "      <td>8.79</td>\n",
       "    </tr>\n",
       "  </tbody>\n",
       "</table>\n",
       "</div>"
      ],
      "text/plain": [
       "   UID  JID  Rating\n",
       "0    1    1   -7.82\n",
       "1    1    2    8.79"
      ]
     },
     "execution_count": 6,
     "metadata": {},
     "output_type": "execute_result"
    }
   ],
   "source": [
    "# сделаем сортировку и перепишем index\n",
    "df = df.sort_values(by=['UID', 'JID'])\n",
    "df = df.reset_index(drop=True)\n",
    "df.head(2)"
   ]
  },
  {
   "cell_type": "code",
   "execution_count": 106,
   "metadata": {},
   "outputs": [
    {
     "data": {
      "text/html": [
       "<div>\n",
       "<style scoped>\n",
       "    .dataframe tbody tr th:only-of-type {\n",
       "        vertical-align: middle;\n",
       "    }\n",
       "\n",
       "    .dataframe tbody tr th {\n",
       "        vertical-align: top;\n",
       "    }\n",
       "\n",
       "    .dataframe thead th {\n",
       "        text-align: right;\n",
       "    }\n",
       "</style>\n",
       "<table border=\"1\" class=\"dataframe\">\n",
       "  <thead>\n",
       "    <tr style=\"text-align: right;\">\n",
       "      <th></th>\n",
       "      <th>UID</th>\n",
       "      <th>JID</th>\n",
       "      <th>Rating</th>\n",
       "    </tr>\n",
       "  </thead>\n",
       "  <tbody>\n",
       "    <tr>\n",
       "      <th>0</th>\n",
       "      <td>1</td>\n",
       "      <td>[1, 2, 3, 4, 5, 6, 7, 8, 9, 10, 12, 13, 14, 15...</td>\n",
       "      <td>[-7.82, 8.79, -9.66, -8.16, -7.52, -8.5, -9.85...</td>\n",
       "    </tr>\n",
       "    <tr>\n",
       "      <th>1</th>\n",
       "      <td>2</td>\n",
       "      <td>[1, 2, 3, 4, 6, 7, 8, 9, 10, 11, 12, 13, 15, 1...</td>\n",
       "      <td>[4.08, -0.29, 6.36, 4.37, -9.66, -0.73, -5.34,...</td>\n",
       "    </tr>\n",
       "    <tr>\n",
       "      <th>2</th>\n",
       "      <td>3</td>\n",
       "      <td>[5, 6, 7, 8, 11, 12, 13, 15, 16, 17, 18, 19, 2...</td>\n",
       "      <td>[9.03, 9.27, 9.03, 9.27, 7.33, 7.57, 9.37, -6....</td>\n",
       "    </tr>\n",
       "    <tr>\n",
       "      <th>3</th>\n",
       "      <td>4</td>\n",
       "      <td>[2, 5, 7, 8, 10, 11, 13, 14, 15, 16, 17, 18, 1...</td>\n",
       "      <td>[8.35, 1.8, -2.82, 6.21, 1.84, 7.33, 6.31, 8.1...</td>\n",
       "    </tr>\n",
       "    <tr>\n",
       "      <th>4</th>\n",
       "      <td>5</td>\n",
       "      <td>[1, 2, 3, 4, 7, 9, 11, 12, 13, 14, 15, 16, 18,...</td>\n",
       "      <td>[8.5, 4.61, -4.17, -5.39, 7.04, -0.44, 8.25, 6...</td>\n",
       "    </tr>\n",
       "    <tr>\n",
       "      <th>...</th>\n",
       "      <td>...</td>\n",
       "      <td>...</td>\n",
       "      <td>...</td>\n",
       "    </tr>\n",
       "    <tr>\n",
       "      <th>24978</th>\n",
       "      <td>24979</td>\n",
       "      <td>[1, 4, 6, 7, 8, 11, 12, 13, 14, 15, 16, 17, 18...</td>\n",
       "      <td>[0.44, 2.33, 6.75, -8.79, -0.53, -0.53, 5.63, ...</td>\n",
       "    </tr>\n",
       "    <tr>\n",
       "      <th>24979</th>\n",
       "      <td>24980</td>\n",
       "      <td>[2, 3, 4, 5, 6, 7, 8, 9, 11, 13, 14, 15, 16, 1...</td>\n",
       "      <td>[-8.16, 8.59, 9.08, 0.87, -8.93, -3.5, 5.78, -...</td>\n",
       "    </tr>\n",
       "    <tr>\n",
       "      <th>24980</th>\n",
       "      <td>24981</td>\n",
       "      <td>[5, 8, 13, 14, 17, 18, 20, 26, 28, 32, 35, 36,...</td>\n",
       "      <td>[-7.77, -6.75, -6.46, -1.65, -6.99, 7.23, -6.9...</td>\n",
       "    </tr>\n",
       "    <tr>\n",
       "      <th>24981</th>\n",
       "      <td>24982</td>\n",
       "      <td>[5, 7, 8, 13, 15, 16, 17, 18, 19, 20, 21, 28, ...</td>\n",
       "      <td>[-9.71, 4.56, -8.3, -9.47, 3.45, -0.92, -4.51,...</td>\n",
       "    </tr>\n",
       "    <tr>\n",
       "      <th>24982</th>\n",
       "      <td>24983</td>\n",
       "      <td>[1, 3, 4, 5, 6, 8, 10, 11, 12, 13, 15, 16, 17,...</td>\n",
       "      <td>[2.43, -3.98, 4.27, -2.28, 7.33, 4.56, 4.61, -...</td>\n",
       "    </tr>\n",
       "  </tbody>\n",
       "</table>\n",
       "<p>24983 rows × 3 columns</p>\n",
       "</div>"
      ],
      "text/plain": [
       "         UID                                                JID  \\\n",
       "0          1  [1, 2, 3, 4, 5, 6, 7, 8, 9, 10, 12, 13, 14, 15...   \n",
       "1          2  [1, 2, 3, 4, 6, 7, 8, 9, 10, 11, 12, 13, 15, 1...   \n",
       "2          3  [5, 6, 7, 8, 11, 12, 13, 15, 16, 17, 18, 19, 2...   \n",
       "3          4  [2, 5, 7, 8, 10, 11, 13, 14, 15, 16, 17, 18, 1...   \n",
       "4          5  [1, 2, 3, 4, 7, 9, 11, 12, 13, 14, 15, 16, 18,...   \n",
       "...      ...                                                ...   \n",
       "24978  24979  [1, 4, 6, 7, 8, 11, 12, 13, 14, 15, 16, 17, 18...   \n",
       "24979  24980  [2, 3, 4, 5, 6, 7, 8, 9, 11, 13, 14, 15, 16, 1...   \n",
       "24980  24981  [5, 8, 13, 14, 17, 18, 20, 26, 28, 32, 35, 36,...   \n",
       "24981  24982  [5, 7, 8, 13, 15, 16, 17, 18, 19, 20, 21, 28, ...   \n",
       "24982  24983  [1, 3, 4, 5, 6, 8, 10, 11, 12, 13, 15, 16, 17,...   \n",
       "\n",
       "                                                  Rating  \n",
       "0      [-7.82, 8.79, -9.66, -8.16, -7.52, -8.5, -9.85...  \n",
       "1      [4.08, -0.29, 6.36, 4.37, -9.66, -0.73, -5.34,...  \n",
       "2      [9.03, 9.27, 9.03, 9.27, 7.33, 7.57, 9.37, -6....  \n",
       "3      [8.35, 1.8, -2.82, 6.21, 1.84, 7.33, 6.31, 8.1...  \n",
       "4      [8.5, 4.61, -4.17, -5.39, 7.04, -0.44, 8.25, 6...  \n",
       "...                                                  ...  \n",
       "24978  [0.44, 2.33, 6.75, -8.79, -0.53, -0.53, 5.63, ...  \n",
       "24979  [-8.16, 8.59, 9.08, 0.87, -8.93, -3.5, 5.78, -...  \n",
       "24980  [-7.77, -6.75, -6.46, -1.65, -6.99, 7.23, -6.9...  \n",
       "24981  [-9.71, 4.56, -8.3, -9.47, 3.45, -0.92, -4.51,...  \n",
       "24982  [2.43, -3.98, 4.27, -2.28, 7.33, 4.56, 4.61, -...  \n",
       "\n",
       "[24983 rows x 3 columns]"
      ]
     },
     "execution_count": 106,
     "metadata": {},
     "output_type": "execute_result"
    }
   ],
   "source": [
    "df_gr = df.groupby(by='UID', as_index=False).agg({'JID':list, 'Rating':list})\n",
    "df_gr"
   ]
  },
  {
   "cell_type": "code",
   "execution_count": 76,
   "metadata": {},
   "outputs": [
    {
     "data": {
      "text/plain": [
       "62"
      ]
     },
     "execution_count": 76,
     "metadata": {},
     "output_type": "execute_result"
    }
   ],
   "source": [
    "len(df_gr.values[0][1])"
   ]
  },
  {
   "cell_type": "code",
   "execution_count": 77,
   "metadata": {},
   "outputs": [
    {
     "data": {
      "text/plain": [
       "62"
      ]
     },
     "execution_count": 77,
     "metadata": {},
     "output_type": "execute_result"
    }
   ],
   "source": [
    "len(df_gr.values[0][2])"
   ]
  },
  {
   "cell_type": "code",
   "execution_count": null,
   "metadata": {},
   "outputs": [],
   "source": []
  },
  {
   "cell_type": "code",
   "execution_count": null,
   "metadata": {},
   "outputs": [],
   "source": []
  },
  {
   "cell_type": "code",
   "execution_count": null,
   "metadata": {},
   "outputs": [],
   "source": []
  },
  {
   "cell_type": "code",
   "execution_count": 101,
   "metadata": {},
   "outputs": [
    {
     "data": {
      "text/plain": [
       "(100, 101, 102, 103, 104)"
      ]
     },
     "execution_count": 101,
     "metadata": {},
     "output_type": "execute_result"
    }
   ],
   "source": [
    "max_joke_id = np.max(np.unique(df['JID']))\n",
    "sos_token = max_joke_id + 1\n",
    "eos_token = max_joke_id + 2\n",
    "pad_token = max_joke_id + 3\n",
    "mask_token = max_joke_id + 4\n",
    "max_joke_id, sos_token, eos_token, pad_token, mask_token"
   ]
  },
  {
   "cell_type": "code",
   "execution_count": 50,
   "metadata": {},
   "outputs": [],
   "source": []
  },
  {
   "cell_type": "code",
   "execution_count": 107,
   "metadata": {},
   "outputs": [
    {
     "data": {
      "text/plain": [
       "(18, 95)"
      ]
     },
     "execution_count": 107,
     "metadata": {},
     "output_type": "execute_result"
    }
   ],
   "source": [
    "max_len = np.max(df_gr['JID'].apply(len))\n",
    "min_len = np.min(df_gr['JID'].apply(len))\n",
    "min_len, max_len"
   ]
  },
  {
   "cell_type": "code",
   "execution_count": 108,
   "metadata": {},
   "outputs": [],
   "source": [
    "seq_len = max_len + 2"
   ]
  },
  {
   "cell_type": "code",
   "execution_count": null,
   "metadata": {},
   "outputs": [],
   "source": []
  },
  {
   "cell_type": "code",
   "execution_count": 109,
   "metadata": {},
   "outputs": [
    {
     "name": "stdout",
     "output_type": "stream",
     "text": [
      "97 97\n"
     ]
    },
    {
     "data": {
      "text/html": [
       "<div>\n",
       "<style scoped>\n",
       "    .dataframe tbody tr th:only-of-type {\n",
       "        vertical-align: middle;\n",
       "    }\n",
       "\n",
       "    .dataframe tbody tr th {\n",
       "        vertical-align: top;\n",
       "    }\n",
       "\n",
       "    .dataframe thead th {\n",
       "        text-align: right;\n",
       "    }\n",
       "</style>\n",
       "<table border=\"1\" class=\"dataframe\">\n",
       "  <thead>\n",
       "    <tr style=\"text-align: right;\">\n",
       "      <th></th>\n",
       "      <th>UID</th>\n",
       "      <th>JID</th>\n",
       "      <th>Rating</th>\n",
       "    </tr>\n",
       "  </thead>\n",
       "  <tbody>\n",
       "    <tr>\n",
       "      <th>0</th>\n",
       "      <td>1</td>\n",
       "      <td>[101, 1, 2, 3, 4, 5, 6, 7, 8, 9, 10, 12, 13, 1...</td>\n",
       "      <td>[0, -7.82, 8.79, -9.66, -8.16, -7.52, -8.5, -9...</td>\n",
       "    </tr>\n",
       "    <tr>\n",
       "      <th>1</th>\n",
       "      <td>2</td>\n",
       "      <td>[101, 1, 2, 3, 4, 6, 7, 8, 9, 10, 11, 12, 13, ...</td>\n",
       "      <td>[0, 4.08, -0.29, 6.36, 4.37, -9.66, -0.73, -5....</td>\n",
       "    </tr>\n",
       "    <tr>\n",
       "      <th>2</th>\n",
       "      <td>3</td>\n",
       "      <td>[101, 5, 6, 7, 8, 11, 12, 13, 15, 16, 17, 18, ...</td>\n",
       "      <td>[0, 9.03, 9.27, 9.03, 9.27, 7.33, 7.57, 9.37, ...</td>\n",
       "    </tr>\n",
       "    <tr>\n",
       "      <th>3</th>\n",
       "      <td>4</td>\n",
       "      <td>[101, 2, 5, 7, 8, 10, 11, 13, 14, 15, 16, 17, ...</td>\n",
       "      <td>[0, 8.35, 1.8, -2.82, 6.21, 1.84, 7.33, 6.31, ...</td>\n",
       "    </tr>\n",
       "    <tr>\n",
       "      <th>4</th>\n",
       "      <td>5</td>\n",
       "      <td>[101, 1, 2, 3, 4, 7, 9, 11, 12, 13, 14, 15, 16...</td>\n",
       "      <td>[0, 8.5, 4.61, -4.17, -5.39, 7.04, -0.44, 8.25...</td>\n",
       "    </tr>\n",
       "    <tr>\n",
       "      <th>...</th>\n",
       "      <td>...</td>\n",
       "      <td>...</td>\n",
       "      <td>...</td>\n",
       "    </tr>\n",
       "    <tr>\n",
       "      <th>24978</th>\n",
       "      <td>24979</td>\n",
       "      <td>[101, 1, 4, 6, 7, 8, 11, 12, 13, 14, 15, 16, 1...</td>\n",
       "      <td>[0, 0.44, 2.33, 6.75, -8.79, -0.53, -0.53, 5.6...</td>\n",
       "    </tr>\n",
       "    <tr>\n",
       "      <th>24979</th>\n",
       "      <td>24980</td>\n",
       "      <td>[101, 2, 3, 4, 5, 6, 7, 8, 9, 11, 13, 14, 15, ...</td>\n",
       "      <td>[0, -8.16, 8.59, 9.08, 0.87, -8.93, -3.5, 5.78...</td>\n",
       "    </tr>\n",
       "    <tr>\n",
       "      <th>24980</th>\n",
       "      <td>24981</td>\n",
       "      <td>[101, 5, 8, 13, 14, 17, 18, 20, 26, 28, 32, 35...</td>\n",
       "      <td>[0, -7.77, -6.75, -6.46, -1.65, -6.99, 7.23, -...</td>\n",
       "    </tr>\n",
       "    <tr>\n",
       "      <th>24981</th>\n",
       "      <td>24982</td>\n",
       "      <td>[101, 5, 7, 8, 13, 15, 16, 17, 18, 19, 20, 21,...</td>\n",
       "      <td>[0, -9.71, 4.56, -8.3, -9.47, 3.45, -0.92, -4....</td>\n",
       "    </tr>\n",
       "    <tr>\n",
       "      <th>24982</th>\n",
       "      <td>24983</td>\n",
       "      <td>[101, 1, 3, 4, 5, 6, 8, 10, 11, 12, 13, 15, 16...</td>\n",
       "      <td>[0, 2.43, -3.98, 4.27, -2.28, 7.33, 4.56, 4.61...</td>\n",
       "    </tr>\n",
       "  </tbody>\n",
       "</table>\n",
       "<p>24983 rows × 3 columns</p>\n",
       "</div>"
      ],
      "text/plain": [
       "         UID                                                JID  \\\n",
       "0          1  [101, 1, 2, 3, 4, 5, 6, 7, 8, 9, 10, 12, 13, 1...   \n",
       "1          2  [101, 1, 2, 3, 4, 6, 7, 8, 9, 10, 11, 12, 13, ...   \n",
       "2          3  [101, 5, 6, 7, 8, 11, 12, 13, 15, 16, 17, 18, ...   \n",
       "3          4  [101, 2, 5, 7, 8, 10, 11, 13, 14, 15, 16, 17, ...   \n",
       "4          5  [101, 1, 2, 3, 4, 7, 9, 11, 12, 13, 14, 15, 16...   \n",
       "...      ...                                                ...   \n",
       "24978  24979  [101, 1, 4, 6, 7, 8, 11, 12, 13, 14, 15, 16, 1...   \n",
       "24979  24980  [101, 2, 3, 4, 5, 6, 7, 8, 9, 11, 13, 14, 15, ...   \n",
       "24980  24981  [101, 5, 8, 13, 14, 17, 18, 20, 26, 28, 32, 35...   \n",
       "24981  24982  [101, 5, 7, 8, 13, 15, 16, 17, 18, 19, 20, 21,...   \n",
       "24982  24983  [101, 1, 3, 4, 5, 6, 8, 10, 11, 12, 13, 15, 16...   \n",
       "\n",
       "                                                  Rating  \n",
       "0      [0, -7.82, 8.79, -9.66, -8.16, -7.52, -8.5, -9...  \n",
       "1      [0, 4.08, -0.29, 6.36, 4.37, -9.66, -0.73, -5....  \n",
       "2      [0, 9.03, 9.27, 9.03, 9.27, 7.33, 7.57, 9.37, ...  \n",
       "3      [0, 8.35, 1.8, -2.82, 6.21, 1.84, 7.33, 6.31, ...  \n",
       "4      [0, 8.5, 4.61, -4.17, -5.39, 7.04, -0.44, 8.25...  \n",
       "...                                                  ...  \n",
       "24978  [0, 0.44, 2.33, 6.75, -8.79, -0.53, -0.53, 5.6...  \n",
       "24979  [0, -8.16, 8.59, 9.08, 0.87, -8.93, -3.5, 5.78...  \n",
       "24980  [0, -7.77, -6.75, -6.46, -1.65, -6.99, 7.23, -...  \n",
       "24981  [0, -9.71, 4.56, -8.3, -9.47, 3.45, -0.92, -4....  \n",
       "24982  [0, 2.43, -3.98, 4.27, -2.28, 7.33, 4.56, 4.61...  \n",
       "\n",
       "[24983 rows x 3 columns]"
      ]
     },
     "execution_count": 109,
     "metadata": {},
     "output_type": "execute_result"
    }
   ],
   "source": [
    "for row in df_gr.values:\n",
    "    \n",
    "    ext_len = max_len - len(row[1])\n",
    "    \n",
    "    row[1].insert(0, sos_token)\n",
    "    row[1].extend([pad_token] * ext_len)\n",
    "    row[1].append(eos_token)\n",
    "    \n",
    "    \n",
    "    row[2].insert(0, 0)\n",
    "    row[2].extend([0] * ext_len)\n",
    "    row[2].append(0)\n",
    "    \n",
    "max_len = np.max(df_gr['JID'].apply(len))\n",
    "min_len = np.min(df_gr['JID'].apply(len))\n",
    "print(min_len, max_len)\n",
    "df_gr"
   ]
  },
  {
   "cell_type": "code",
   "execution_count": 82,
   "metadata": {},
   "outputs": [
    {
     "data": {
      "text/plain": [
       "[103, 103, 103, 103, 103, 103, 103, 103, 103, 102]"
      ]
     },
     "execution_count": 82,
     "metadata": {},
     "output_type": "execute_result"
    }
   ],
   "source": [
    "df_gr.values[0][1][-10:]"
   ]
  },
  {
   "cell_type": "code",
   "execution_count": 83,
   "metadata": {},
   "outputs": [
    {
     "data": {
      "text/plain": [
       "[0, 0, 0, 0, 0, 0, 0, 0, 0, 0]"
      ]
     },
     "execution_count": 83,
     "metadata": {},
     "output_type": "execute_result"
    }
   ],
   "source": [
    "df_gr.values[0][2][-10:]"
   ]
  },
  {
   "cell_type": "code",
   "execution_count": null,
   "metadata": {},
   "outputs": [],
   "source": []
  },
  {
   "cell_type": "code",
   "execution_count": null,
   "metadata": {},
   "outputs": [],
   "source": []
  },
  {
   "cell_type": "code",
   "execution_count": null,
   "metadata": {},
   "outputs": [],
   "source": []
  },
  {
   "cell_type": "code",
   "execution_count": 84,
   "metadata": {},
   "outputs": [
    {
     "data": {
      "text/plain": [
       "tensor([101,   1,   2,   3,   4,   5,   6,   7,   8,   9,  10,  12,  13,  14,\n",
       "         15,  16,  17,  18,  20,  21,  22,  23,  24,  26,  27,  28,  29,  30,\n",
       "         32,  33,  35,  36,  37,  38,  41,  42,  43,  44,  45,  47,  48,  50,\n",
       "         51,  52,  53,  54, 104,  56,  57,  58,  59,  61,  62,  63, 104,  66,\n",
       "         67,  68,  69,  70,  78,  82,  97, 103, 103, 103, 103, 103, 103, 103,\n",
       "        103, 103, 103, 103, 103, 103, 103, 103, 103, 103, 103, 103, 103, 103,\n",
       "        103, 103, 103, 103, 103, 103, 103, 103, 103, 103, 103, 103, 103, 103,\n",
       "        102])"
      ]
     },
     "execution_count": 84,
     "metadata": {},
     "output_type": "execute_result"
    }
   ],
   "source": [
    "tokens = df_gr.values[0][1]\n",
    "\n",
    "\n",
    "count = np.random.randint(1, 5)\n",
    "indices = np.random.choice(np.where(tokens <= max_joke_id)[0], count)\n",
    "\n",
    "x = torch.tensor(tokens)\n",
    "x[indices] = mask_token\n",
    "x"
   ]
  },
  {
   "cell_type": "code",
   "execution_count": null,
   "metadata": {},
   "outputs": [],
   "source": []
  },
  {
   "cell_type": "code",
   "execution_count": 134,
   "metadata": {},
   "outputs": [],
   "source": [
    "class FeaturesDataset(torch.utils.data.Dataset):\n",
    "    def __init__(self, df):\n",
    "        self.df = df\n",
    "            \n",
    "    def __getitem__(self, index: int):    \n",
    "        tokens = self.df.values[index][1]\n",
    "        ratings = self.df.values[index][2]\n",
    "\n",
    "        count = np.random.randint(1, 5)\n",
    "        indices = np.random.choice(np.where(tokens <= max_joke_id)[0], count)\n",
    "\n",
    "        tokens_src = torch.tensor(tokens)\n",
    "        tokens_trg = tokens_src.detach().clone()        \n",
    "        tokens_src[indices] = mask_token\n",
    "        \n",
    "        ratings_src = torch.tensor(ratings)\n",
    "        ratings_trg = ratings_src.detach().clone()\n",
    "        ratings_src[indices] = 0\n",
    "\n",
    "        return tokens_src, tokens_trg, ratings_src, ratings_trg\n",
    "    \n",
    "    def __len__(self):\n",
    "        return len(self.df)"
   ]
  },
  {
   "cell_type": "code",
   "execution_count": 136,
   "metadata": {},
   "outputs": [],
   "source": [
    "ds = FeaturesDataset(df_gr)"
   ]
  },
  {
   "cell_type": "code",
   "execution_count": 137,
   "metadata": {},
   "outputs": [
    {
     "data": {
      "text/plain": [
       "(tensor([101,   1,   2,   3,   4,   5,   6,   7,   8,   9,  10,  12,  13,  14,\n",
       "          15, 104,  17,  18,  20,  21,  22,  23,  24,  26,  27,  28,  29,  30,\n",
       "         104,  33,  35,  36,  37,  38,  41,  42,  43,  44,  45,  47,  48,  50,\n",
       "          51,  52,  53,  54,  55,  56,  57,  58,  59,  61,  62,  63,  64,  66,\n",
       "          67,  68, 104,  70,  78,  82,  97, 103, 103, 103, 103, 103, 103, 103,\n",
       "         103, 103, 103, 103, 103, 103, 103, 103, 103, 103, 103, 103, 103, 103,\n",
       "         103, 103, 103, 103, 103, 103, 103, 103, 103, 103, 103, 103, 102]),\n",
       " tensor([101,   1,   2,   3,   4,   5,   6,   7,   8,   9,  10,  12,  13,  14,\n",
       "          15,  16,  17,  18,  20,  21,  22,  23,  24,  26,  27,  28,  29,  30,\n",
       "          32,  33,  35,  36,  37,  38,  41,  42,  43,  44,  45,  47,  48,  50,\n",
       "          51,  52,  53,  54,  55,  56,  57,  58,  59,  61,  62,  63,  64,  66,\n",
       "          67,  68,  69,  70,  78,  82,  97, 103, 103, 103, 103, 103, 103, 103,\n",
       "         103, 103, 103, 103, 103, 103, 103, 103, 103, 103, 103, 103, 103, 103,\n",
       "         103, 103, 103, 103, 103, 103, 103, 103, 103, 103, 103, 103, 102]),\n",
       " tensor([ 0.0000, -7.8200,  8.7900, -9.6600, -8.1600, -7.5200, -8.5000, -9.8500,\n",
       "          4.1700, -8.9800, -4.7600, -6.7500, -7.1800,  8.4500, -7.1800,  0.0000,\n",
       "         -7.4300, -9.8100, -9.8500, -9.3700,  1.5000, -4.3700, -9.8100,  1.1200,\n",
       "          7.8200,  2.8600,  9.1300, -7.4300,  0.0000, -9.0800,  5.0500,  4.9500,\n",
       "         -9.1700, -8.4000, -8.1100, -9.1300, -9.0300, -9.0800, -7.1400,  3.7900,\n",
       "         -0.1000,  4.1300, -8.6900, -7.1400,  3.2000,  8.3000, -4.5600,  0.9200,\n",
       "         -9.1300, -9.4200,  2.8200,  8.5900,  3.5900, -6.8400, -9.0300, -1.3600,\n",
       "         -9.0800,  8.3000,  0.0000, -4.8100, -9.4200, -7.7200, -5.6300,  0.0000,\n",
       "          0.0000,  0.0000,  0.0000,  0.0000,  0.0000,  0.0000,  0.0000,  0.0000,\n",
       "          0.0000,  0.0000,  0.0000,  0.0000,  0.0000,  0.0000,  0.0000,  0.0000,\n",
       "          0.0000,  0.0000,  0.0000,  0.0000,  0.0000,  0.0000,  0.0000,  0.0000,\n",
       "          0.0000,  0.0000,  0.0000,  0.0000,  0.0000,  0.0000,  0.0000,  0.0000,\n",
       "          0.0000]),\n",
       " tensor([ 0.0000, -7.8200,  8.7900, -9.6600, -8.1600, -7.5200, -8.5000, -9.8500,\n",
       "          4.1700, -8.9800, -4.7600, -6.7500, -7.1800,  8.4500, -7.1800, -7.5200,\n",
       "         -7.4300, -9.8100, -9.8500, -9.3700,  1.5000, -4.3700, -9.8100,  1.1200,\n",
       "          7.8200,  2.8600,  9.1300, -7.4300, -4.0800, -9.0800,  5.0500,  4.9500,\n",
       "         -9.1700, -8.4000, -8.1100, -9.1300, -9.0300, -9.0800, -7.1400,  3.7900,\n",
       "         -0.1000,  4.1300, -8.6900, -7.1400,  3.2000,  8.3000, -4.5600,  0.9200,\n",
       "         -9.1300, -9.4200,  2.8200,  8.5900,  3.5900, -6.8400, -9.0300, -1.3600,\n",
       "         -9.0800,  8.3000,  5.6800, -4.8100, -9.4200, -7.7200, -5.6300,  0.0000,\n",
       "          0.0000,  0.0000,  0.0000,  0.0000,  0.0000,  0.0000,  0.0000,  0.0000,\n",
       "          0.0000,  0.0000,  0.0000,  0.0000,  0.0000,  0.0000,  0.0000,  0.0000,\n",
       "          0.0000,  0.0000,  0.0000,  0.0000,  0.0000,  0.0000,  0.0000,  0.0000,\n",
       "          0.0000,  0.0000,  0.0000,  0.0000,  0.0000,  0.0000,  0.0000,  0.0000,\n",
       "          0.0000]))"
      ]
     },
     "execution_count": 137,
     "metadata": {},
     "output_type": "execute_result"
    }
   ],
   "source": [
    "ds[0]"
   ]
  },
  {
   "cell_type": "code",
   "execution_count": null,
   "metadata": {},
   "outputs": [],
   "source": []
  },
  {
   "cell_type": "code",
   "execution_count": 100,
   "metadata": {},
   "outputs": [],
   "source": []
  },
  {
   "cell_type": "code",
   "execution_count": 101,
   "metadata": {},
   "outputs": [],
   "source": []
  },
  {
   "cell_type": "code",
   "execution_count": null,
   "metadata": {},
   "outputs": [],
   "source": []
  },
  {
   "cell_type": "markdown",
   "metadata": {
    "id": "Dza8_egHeQLB"
   },
   "source": [
    "### Main part\n",
    "__Here comes the preprocessing. Do not hesitate to use BPE or more complex preprocessing ;)__"
   ]
  },
  {
   "cell_type": "code",
   "execution_count": 103,
   "metadata": {
    "executionInfo": {
     "elapsed": 4,
     "status": "ok",
     "timestamp": 1655403579967,
     "user": {
      "displayName": "Шишкин Александр",
      "userId": "00721730077610513143"
     },
     "user_tz": -180
    },
    "id": "WwBUyNw5eQLB"
   },
   "outputs": [],
   "source": []
  },
  {
   "cell_type": "code",
   "execution_count": 104,
   "metadata": {},
   "outputs": [],
   "source": []
  },
  {
   "cell_type": "code",
   "execution_count": 105,
   "metadata": {
    "executionInfo": {
     "elapsed": 2305,
     "status": "ok",
     "timestamp": 1655403582268,
     "user": {
      "displayName": "Шишкин Александр",
      "userId": "00721730077610513143"
     },
     "user_tz": -180
    },
    "id": "KH_7fL0jeQLC"
   },
   "outputs": [],
   "source": []
  },
  {
   "cell_type": "code",
   "execution_count": 106,
   "metadata": {
    "executionInfo": {
     "elapsed": 4,
     "status": "ok",
     "timestamp": 1655403582268,
     "user": {
      "displayName": "Шишкин Александр",
      "userId": "00721730077610513143"
     },
     "user_tz": -180
    },
    "id": "dChpXc8KeQLD"
   },
   "outputs": [],
   "source": []
  },
  {
   "cell_type": "code",
   "execution_count": null,
   "metadata": {},
   "outputs": [],
   "source": []
  },
  {
   "cell_type": "code",
   "execution_count": 117,
   "metadata": {},
   "outputs": [],
   "source": []
  },
  {
   "cell_type": "code",
   "execution_count": 119,
   "metadata": {},
   "outputs": [],
   "source": []
  },
  {
   "cell_type": "markdown",
   "metadata": {
    "id": "BuRAemf0eQLH"
   },
   "source": [
    "### Model side\n",
    "__Here comes simple pipeline of NMT model learning. It almost copies the week03 practice__"
   ]
  },
  {
   "cell_type": "code",
   "execution_count": 98,
   "metadata": {
    "executionInfo": {
     "elapsed": 5,
     "status": "ok",
     "timestamp": 1655403584138,
     "user": {
      "displayName": "Шишкин Александр",
      "userId": "00721730077610513143"
     },
     "user_tz": -180
    },
    "id": "hYaDtYmqeQLH"
   },
   "outputs": [
    {
     "data": {
      "text/plain": [
       "'cpu'"
      ]
     },
     "execution_count": 98,
     "metadata": {},
     "output_type": "execute_result"
    }
   ],
   "source": [
    "device = 'cpu'#torch.device('cuda' if torch.cuda.is_available() else 'cpu')\n",
    "device"
   ]
  },
  {
   "cell_type": "code",
   "execution_count": null,
   "metadata": {
    "colab": {
     "base_uri": "https://localhost:8080/"
    },
    "executionInfo": {
     "elapsed": 5,
     "status": "ok",
     "timestamp": 1655403584138,
     "user": {
      "displayName": "Шишкин Александр",
      "userId": "00721730077610513143"
     },
     "user_tz": -180
    },
    "id": "L7_n3E2VeQLI",
    "outputId": "4f7edc8f-1459-4a34-a823-029048f88a26"
   },
   "outputs": [],
   "source": []
  },
  {
   "cell_type": "code",
   "execution_count": 138,
   "metadata": {
    "executionInfo": {
     "elapsed": 3,
     "status": "ok",
     "timestamp": 1655403584139,
     "user": {
      "displayName": "Шишкин Александр",
      "userId": "00721730077610513143"
     },
     "user_tz": -180
    },
    "id": "mnxSWVQieQLI"
   },
   "outputs": [
    {
     "data": {
      "text/plain": [
       "(torch.Size([7, 97]),\n",
       " torch.Size([7, 97]),\n",
       " torch.Size([7, 97]),\n",
       " torch.Size([7, 97]))"
      ]
     },
     "execution_count": 138,
     "metadata": {},
     "output_type": "execute_result"
    }
   ],
   "source": [
    "batch_size=7\n",
    "\n",
    "for tokens_src, tokens_trg, ratings_src, ratings_trg in torch.utils.data.DataLoader(ds, batch_size= batch_size):\n",
    "    #print(x, y)\n",
    "    break\n",
    "    \n",
    "tokens_src.shape, tokens_trg.shape, ratings_src.shape, ratings_trg.shape"
   ]
  },
  {
   "cell_type": "code",
   "execution_count": null,
   "metadata": {},
   "outputs": [],
   "source": []
  },
  {
   "cell_type": "code",
   "execution_count": null,
   "metadata": {},
   "outputs": [],
   "source": []
  },
  {
   "cell_type": "code",
   "execution_count": null,
   "metadata": {},
   "outputs": [],
   "source": []
  },
  {
   "cell_type": "code",
   "execution_count": 155,
   "metadata": {
    "colab": {
     "base_uri": "https://localhost:8080/"
    },
    "executionInfo": {
     "elapsed": 8384,
     "status": "ok",
     "timestamp": 1655403592520,
     "user": {
      "displayName": "Шишкин Александр",
      "userId": "00721730077610513143"
     },
     "user_tz": -180
    },
    "id": "L-qkGZRieQLI",
    "outputId": "597a5955-05f7-45ae-ab2f-229996943c77"
   },
   "outputs": [
    {
     "name": "stdout",
     "output_type": "stream",
     "text": [
      "torch.Size([2, 7, 512]) torch.Size([2, 7, 512])\n"
     ]
    },
    {
     "data": {
      "text/plain": [
       "torch.Size([97, 7, 105])"
      ]
     },
     "execution_count": 155,
     "metadata": {},
     "output_type": "execute_result"
    }
   ],
   "source": [
    "INPUT_DIM = 105\n",
    "OUTPUT_DIM = 105\n",
    "ENC_EMB_DIM = 256\n",
    "DEC_EMB_DIM = 256\n",
    "HID_DIM = 512\n",
    "N_LAYERS = 2\n",
    "ENC_DROPOUT = 0.5\n",
    "DEC_DROPOUT = 0.5\n",
    "\n",
    "enc = Encoder(INPUT_DIM, ENC_EMB_DIM, HID_DIM, N_LAYERS, ENC_DROPOUT)\n",
    "dec = Decoder(OUTPUT_DIM, DEC_EMB_DIM, HID_DIM, N_LAYERS, DEC_DROPOUT)\n",
    "\n",
    "# dont forget to put the model to the right device\n",
    "model = Seq2Seq(enc, dec, device).to(device)\n",
    "\n",
    "batch_size=7\n",
    "for tokens_src, tokens_trg, ratings_src, ratings_trg in torch.utils.data.DataLoader(ds, batch_size= batch_size):\n",
    "    #print(x, y)\n",
    "    break\n",
    "    \n",
    "#print(x.T.shape)\n",
    "hidden, cell = model.encoder(tokens_src.T, ratings_src.T)\n",
    "print(hidden.shape, cell.shape)  \n",
    "\n",
    "#prediction, hidden2, cell2 = model.decoder(x, hidden, cell, indices)\n",
    "\n",
    "#print(prediction.shape, hidden2.shape, cell2.shape)\n",
    "output = model(tokens_src.T, tokens_trg.T, ratings_src.T, ratings_trg.T)\n",
    "\n",
    "output.shape"
   ]
  },
  {
   "cell_type": "code",
   "execution_count": 147,
   "metadata": {},
   "outputs": [
    {
     "data": {
      "text/plain": [
       "torch.Size([7, 59])"
      ]
     },
     "execution_count": 147,
     "metadata": {},
     "output_type": "execute_result"
    }
   ],
   "source": [
    "y.shape"
   ]
  },
  {
   "cell_type": "code",
   "execution_count": 131,
   "metadata": {},
   "outputs": [
    {
     "data": {
      "text/plain": [
       "torch.Size([59])"
      ]
     },
     "execution_count": 131,
     "metadata": {},
     "output_type": "execute_result"
    }
   ],
   "source": [
    "y[0,:].shape"
   ]
  },
  {
   "cell_type": "code",
   "execution_count": 146,
   "metadata": {},
   "outputs": [
    {
     "ename": "RuntimeError",
     "evalue": "Boolean value of Tensor with more than one value is ambiguous",
     "output_type": "error",
     "traceback": [
      "\u001b[1;31m---------------------------------------------------------------------------\u001b[0m",
      "\u001b[1;31mRuntimeError\u001b[0m                              Traceback (most recent call last)",
      "Input \u001b[1;32mIn [146]\u001b[0m, in \u001b[0;36m<cell line: 1>\u001b[1;34m()\u001b[0m\n\u001b[1;32m----> 1\u001b[0m [i \u001b[38;5;28;01mfor\u001b[39;00m i \u001b[38;5;129;01min\u001b[39;00m \u001b[38;5;28mrange\u001b[39m(\u001b[38;5;28mlen\u001b[39m(x)) \u001b[38;5;28;01mif\u001b[39;00m np\u001b[38;5;241m.\u001b[39mabs(x[i] \u001b[38;5;241m>\u001b[39m \u001b[38;5;241m0\u001b[39m)]\n",
      "Input \u001b[1;32mIn [146]\u001b[0m, in \u001b[0;36m<listcomp>\u001b[1;34m(.0)\u001b[0m\n\u001b[1;32m----> 1\u001b[0m [i \u001b[38;5;28;01mfor\u001b[39;00m i \u001b[38;5;129;01min\u001b[39;00m \u001b[38;5;28mrange\u001b[39m(\u001b[38;5;28mlen\u001b[39m(x)) \u001b[38;5;28;01mif\u001b[39;00m np\u001b[38;5;241m.\u001b[39mabs(x[i] \u001b[38;5;241m>\u001b[39m \u001b[38;5;241m0\u001b[39m)]\n",
      "\u001b[1;31mRuntimeError\u001b[0m: Boolean value of Tensor with more than one value is ambiguous"
     ]
    }
   ],
   "source": [
    "[i for i in range(len(x)) if np.abs(x[i] > 0)]"
   ]
  },
  {
   "cell_type": "code",
   "execution_count": null,
   "metadata": {},
   "outputs": [],
   "source": []
  },
  {
   "cell_type": "code",
   "execution_count": 36,
   "metadata": {},
   "outputs": [
    {
     "data": {
      "text/plain": [
       "torch.Size([2, 100, 512])"
      ]
     },
     "execution_count": 36,
     "metadata": {},
     "output_type": "execute_result"
    }
   ],
   "source": [
    "hidden.shape"
   ]
  },
  {
   "cell_type": "code",
   "execution_count": 37,
   "metadata": {},
   "outputs": [
    {
     "data": {
      "text/plain": [
       "torch.Size([2, 100, 512])"
      ]
     },
     "execution_count": 37,
     "metadata": {},
     "output_type": "execute_result"
    }
   ],
   "source": [
    "cell.shape"
   ]
  },
  {
   "cell_type": "code",
   "execution_count": 115,
   "metadata": {
    "executionInfo": {
     "elapsed": 5,
     "status": "ok",
     "timestamp": 1655403592520,
     "user": {
      "displayName": "Шишкин Александр",
      "userId": "00721730077610513143"
     },
     "user_tz": -180
    },
    "id": "Re8F4dVDeQLI"
   },
   "outputs": [],
   "source": []
  },
  {
   "cell_type": "code",
   "execution_count": 142,
   "metadata": {
    "executionInfo": {
     "elapsed": 5,
     "status": "ok",
     "timestamp": 1655403592521,
     "user": {
      "displayName": "Шишкин Александр",
      "userId": "00721730077610513143"
     },
     "user_tz": -180
    },
    "id": "P8TZ1tRgeQLJ"
   },
   "outputs": [],
   "source": [
    "\n",
    "class Encoder(nn.Module):\n",
    "    def __init__(self, input_dim, emb_dim, hid_dim, n_layers, dropout):\n",
    "        super().__init__()\n",
    "        \n",
    "        self.input_dim = input_dim\n",
    "        self.emb_dim = emb_dim\n",
    "        self.hid_dim = hid_dim\n",
    "        self.n_layers = n_layers\n",
    "#         self.dropout = dropout\n",
    "        \n",
    "        self.embedding = nn.Embedding(\n",
    "            num_embeddings=input_dim,\n",
    "            embedding_dim=emb_dim\n",
    "        )\n",
    "            # <YOUR CODE HERE>\n",
    "        \n",
    "        self.rnn = nn.LSTM(\n",
    "            input_size=emb_dim,\n",
    "            hidden_size=hid_dim,\n",
    "            num_layers=n_layers,\n",
    "            dropout=dropout\n",
    "        )\n",
    "            # <YOUR CODE HERE>\n",
    "        \n",
    "        self.dropout = nn.Dropout(p=dropout)# <YOUR CODE HERE>\n",
    "        \n",
    "    def forward(self, tokens_src, ratings_src):\n",
    "        \n",
    "        #src = [src sent len, batch size]\n",
    "        \n",
    "        # Compute an embedding from the src data and apply dropout to it\n",
    "        embedded = self.embedding(tokens_src)# <YOUR CODE HERE>\n",
    "        \n",
    "        embedded = self.dropout(embedded)\n",
    "        \n",
    "        output, (hidden, cell) = self.rnn(embedded)\n",
    "        #embedded = [src sent len, batch size, emb dim]\n",
    "        \n",
    "        # Compute the RNN output values of the encoder RNN. \n",
    "        # outputs, hidden and cell should be initialized here. Refer to nn.LSTM docs ;)\n",
    "        \n",
    "        # <YOUR CODE HERE> \n",
    "        \n",
    "        #outputs = [src sent len, batch size, hid dim * n directions]\n",
    "        #hidden = [n layers * n directions, batch size, hid dim]\n",
    "        #cell = [n layers * n directions, batch size, hid dim]\n",
    "        \n",
    "        #outputs are always from the top hidden layer\n",
    "        \n",
    "        return hidden, cell"
   ]
  },
  {
   "cell_type": "code",
   "execution_count": 149,
   "metadata": {
    "executionInfo": {
     "elapsed": 5,
     "status": "ok",
     "timestamp": 1655403592521,
     "user": {
      "displayName": "Шишкин Александр",
      "userId": "00721730077610513143"
     },
     "user_tz": -180
    },
    "id": "_EOzfvhSeQLJ"
   },
   "outputs": [],
   "source": [
    "\n",
    "class Decoder(nn.Module):\n",
    "    def __init__(self, output_dim, emb_dim, hid_dim, n_layers, dropout):\n",
    "        super().__init__()\n",
    "\n",
    "        self.emb_dim = emb_dim\n",
    "        self.hid_dim = hid_dim\n",
    "        self.output_dim = output_dim\n",
    "        self.n_layers = n_layers\n",
    "        self.dropout = dropout\n",
    "        \n",
    "        self.embedding = nn.Embedding(\n",
    "            num_embeddings=output_dim,\n",
    "            embedding_dim=emb_dim\n",
    "        )\n",
    "            # <YOUR CODE HERE>\n",
    "        \n",
    "        self.rnn = nn.LSTM(\n",
    "            input_size=emb_dim,\n",
    "            hidden_size=hid_dim,\n",
    "            num_layers=n_layers,\n",
    "            dropout=dropout\n",
    "        )\n",
    "            # <YOUR CODE HERE>\n",
    "        \n",
    "        self.out = nn.Linear(\n",
    "            in_features=hid_dim,\n",
    "            out_features=output_dim\n",
    "        )\n",
    "            # <YOUR CODE HERE>\n",
    "        \n",
    "        self.dropout = nn.Dropout(p=dropout)# <YOUR CODE HERE>\n",
    "        \n",
    "    def forward(self, tokens_src, ratings_src, hidden, cell):\n",
    "        \n",
    "        #input = [batch size]\n",
    "        #hidden = [n layers * n directions, batch size, hid dim]\n",
    "        #cell = [n layers * n directions, batch size, hid dim]\n",
    "        \n",
    "        #n directions in the decoder will both always be 1, therefore:\n",
    "        #hidden = [n layers, batch size, hid dim]\n",
    "        #context = [n layers, batch size, hid dim]\n",
    "        \n",
    "        tokens_src = tokens_src.unsqueeze(0)\n",
    "        \n",
    "        #input = [1, batch size]\n",
    "        \n",
    "        # Compute an embedding from the input data and apply dropout to it\n",
    "        embedded = self.dropout(self.embedding(tokens_src))# <YOUR CODE HERE>\n",
    "        \n",
    "        #embedded = [1, batch size, emb dim]\n",
    "        \n",
    "        # Compute the RNN output values of the encoder RNN. \n",
    "        # outputs, hidden and cell should be initialized here. Refer to nn.LSTM docs ;)\n",
    "        # <YOUR CODE HERE>\n",
    "        \n",
    "        \n",
    "        #output = [sent len, batch size, hid dim * n directions]\n",
    "        #hidden = [n layers * n directions, batch size, hid dim]\n",
    "        #cell = [n layers * n directions, batch size, hid dim]\n",
    "        \n",
    "        #sent len and n directions will always be 1 in the decoder, therefore:\n",
    "        #output = [1, batch size, hid dim]\n",
    "        #hidden = [n layers, batch size, hid dim]\n",
    "        #cell = [n layers, batch size, hid dim]\n",
    "        \n",
    "        \n",
    "        output, (hidden, cell) = self.rnn(embedded, (hidden, cell))\n",
    "        prediction = self.out(output.squeeze(0))\n",
    "        \n",
    "        #prediction = [batch size, output dim]\n",
    "        \n",
    "        return prediction, hidden, cell\n"
   ]
  },
  {
   "cell_type": "code",
   "execution_count": 154,
   "metadata": {
    "executionInfo": {
     "elapsed": 5,
     "status": "ok",
     "timestamp": 1655403592521,
     "user": {
      "displayName": "Шишкин Александр",
      "userId": "00721730077610513143"
     },
     "user_tz": -180
    },
    "id": "VvfGY36eeQLJ"
   },
   "outputs": [],
   "source": [
    "\n",
    "class Seq2Seq(nn.Module):\n",
    "    def __init__(self, encoder, decoder, device):\n",
    "        super().__init__()\n",
    "        \n",
    "        self.encoder = encoder\n",
    "        self.decoder = decoder\n",
    "        self.device = device\n",
    "        \n",
    "        assert encoder.hid_dim == decoder.hid_dim, \\\n",
    "            \"Hidden dimensions of encoder and decoder must be equal!\"\n",
    "        assert encoder.n_layers == decoder.n_layers, \\\n",
    "            \"Encoder and decoder must have equal number of layers!\"\n",
    "        \n",
    "    def forward(self, tokens_src, tokens_trg, ratings_src, ratings_trg, teacher_forcing_ratio = 0.5):\n",
    "        \n",
    "        #src = [src sent len, batch size]\n",
    "        #trg = [trg sent len, batch size]\n",
    "        #teacher_forcing_ratio is probability to use teacher forcing\n",
    "        #e.g. if teacher_forcing_ratio is 0.75 we use ground-truth inputs 75% of the time\n",
    "        \n",
    "        # Again, now batch is the first dimention instead of zero\n",
    "        batch_size = tokens_trg.shape[1]\n",
    "        max_len = tokens_trg.shape[0]\n",
    "        trg_vocab_size = self.decoder.output_dim\n",
    "        \n",
    "        #tensor to store decoder outputs\n",
    "        outputs = torch.zeros(max_len, batch_size, trg_vocab_size).to(self.device)\n",
    "        \n",
    "        #last hidden state of the encoder is used as the initial hidden state of the decoder\n",
    "        hidden, cell = self.encoder(tokens_src, ratings_src)\n",
    "        \n",
    "        #first input to the decoder is the <sos> tokens\n",
    "        input = tokens_trg[0,:]\n",
    "        \n",
    "        for t in range(1, max_len):\n",
    "            \n",
    "            output, hidden, cell = self.decoder(input, ratings_src, hidden, cell)\n",
    "            outputs[t] = output\n",
    "            teacher_force = random.random() < teacher_forcing_ratio\n",
    "            top1 = output.max(1)[1]\n",
    "            input = (tokens_trg[t] if teacher_force else top1)\n",
    "        \n",
    "        return outputs\n"
   ]
  },
  {
   "cell_type": "code",
   "execution_count": 33,
   "metadata": {
    "executionInfo": {
     "elapsed": 5,
     "status": "ok",
     "timestamp": 1655403592521,
     "user": {
      "displayName": "Шишкин Александр",
      "userId": "00721730077610513143"
     },
     "user_tz": -180
    },
    "id": "nT2EgcQ4eQLJ"
   },
   "outputs": [],
   "source": [
    "def init_weights(m):\n",
    "    # <YOUR CODE HERE>\n",
    "    for name, param in m.named_parameters():\n",
    "        nn.init.uniform_(param, -0.08, 0.08)\n",
    "        \n"
   ]
  },
  {
   "cell_type": "code",
   "execution_count": 34,
   "metadata": {
    "executionInfo": {
     "elapsed": 4,
     "status": "ok",
     "timestamp": 1655403592521,
     "user": {
      "displayName": "Шишкин Александр",
      "userId": "00721730077610513143"
     },
     "user_tz": -180
    },
    "id": "AHqynKYleQLK"
   },
   "outputs": [],
   "source": [
    "def count_parameters(model):\n",
    "    return sum(p.numel() for p in model.parameters() if p.requires_grad)\n",
    "\n"
   ]
  },
  {
   "cell_type": "code",
   "execution_count": 44,
   "metadata": {
    "executionInfo": {
     "elapsed": 4,
     "status": "ok",
     "timestamp": 1655403592521,
     "user": {
      "displayName": "Шишкин Александр",
      "userId": "00721730077610513143"
     },
     "user_tz": -180
    },
    "id": "R25eZp8_eQLK"
   },
   "outputs": [],
   "source": [
    "PAD_IDX = TRG.vocab.stoi['<pad>']"
   ]
  },
  {
   "cell_type": "code",
   "execution_count": 45,
   "metadata": {
    "executionInfo": {
     "elapsed": 5,
     "status": "ok",
     "timestamp": 1655403592522,
     "user": {
      "displayName": "Шишкин Александр",
      "userId": "00721730077610513143"
     },
     "user_tz": -180
    },
    "id": "3FQE0ySNeQLK"
   },
   "outputs": [],
   "source": [
    "def train(model, iterator, optimizer, criterion, clip, train_history=None, valid_history=None):\n",
    "    model.train()\n",
    "    \n",
    "    epoch_loss = 0\n",
    "    history = []\n",
    "    for i, batch in enumerate(iterator):\n",
    "        \n",
    "        src = batch.src\n",
    "        trg = batch.trg\n",
    "        \n",
    "        optimizer.zero_grad()\n",
    "        \n",
    "        output = model(src, trg)\n",
    "        \n",
    "        #trg = [trg sent len, batch size]\n",
    "        #output = [trg sent len, batch size, output dim]\n",
    "        \n",
    "        output = output[1:].view(-1, output.shape[-1])\n",
    "        trg = trg[1:].view(-1)\n",
    "        \n",
    "        #trg = [(trg sent len - 1) * batch size]\n",
    "        #output = [(trg sent len - 1) * batch size, output dim]\n",
    "        \n",
    "        loss = criterion(output, trg)\n",
    "        \n",
    "        loss.backward()\n",
    "        \n",
    "        # Let's clip the gradient\n",
    "        torch.nn.utils.clip_grad_norm_(model.parameters(), clip)\n",
    "        \n",
    "        optimizer.step()\n",
    "        \n",
    "        epoch_loss += loss.item()\n",
    "        \n",
    "        history.append(loss.cpu().data.numpy())\n",
    "        #if (i+1)%10==0:\n",
    "        #    fig, ax = plt.subplots(nrows=1, ncols=2, figsize=(12, 8))\n",
    "\n",
    "        #    clear_output(True)\n",
    "        #    ax[0].plot(history, label='train loss')\n",
    "        #    ax[0].set_xlabel('Batch')\n",
    "        #    ax[0].set_title('Train loss')\n",
    "        #    if train_history is not None:\n",
    "        #        ax[1].plot(train_history, label='general train history')\n",
    "        #        ax[1].set_xlabel('Epoch')\n",
    "        #    if valid_history is not None:\n",
    "        #        ax[1].plot(valid_history, label='general valid history')\n",
    "        #    plt.legend()\n",
    "            \n",
    "        #    plt.show()\n",
    "\n",
    "        \n",
    "    return epoch_loss / len(iterator)"
   ]
  },
  {
   "cell_type": "code",
   "execution_count": 46,
   "metadata": {
    "executionInfo": {
     "elapsed": 5,
     "status": "ok",
     "timestamp": 1655403592522,
     "user": {
      "displayName": "Шишкин Александр",
      "userId": "00721730077610513143"
     },
     "user_tz": -180
    },
    "id": "v2Yx0KvSeQLK"
   },
   "outputs": [],
   "source": [
    "def evaluate(model, iterator, criterion):\n",
    "    \n",
    "    model.eval()\n",
    "    \n",
    "    epoch_loss = 0\n",
    "    \n",
    "    history = []\n",
    "    \n",
    "    with torch.no_grad():\n",
    "    \n",
    "        for i, batch in enumerate(iterator):\n",
    "\n",
    "            src = batch.src\n",
    "            trg = batch.trg\n",
    "\n",
    "            output = model(src, trg, 0) #turn off teacher forcing\n",
    "\n",
    "            #trg = [trg sent len, batch size]\n",
    "            #output = [trg sent len, batch size, output dim]\n",
    "\n",
    "            output = output[1:].view(-1, output.shape[-1])\n",
    "            trg = trg[1:].view(-1)\n",
    "\n",
    "            #trg = [(trg sent len - 1) * batch size]\n",
    "            #output = [(trg sent len - 1) * batch size, output dim]\n",
    "\n",
    "            loss = criterion(output, trg)\n",
    "            \n",
    "            epoch_loss += loss.item()\n",
    "        \n",
    "    return epoch_loss / len(iterator)"
   ]
  },
  {
   "cell_type": "code",
   "execution_count": 47,
   "metadata": {
    "executionInfo": {
     "elapsed": 5,
     "status": "ok",
     "timestamp": 1655403592522,
     "user": {
      "displayName": "Шишкин Александр",
      "userId": "00721730077610513143"
     },
     "user_tz": -180
    },
    "id": "lNZCXCyGeQLL"
   },
   "outputs": [],
   "source": [
    "def epoch_time(start_time, end_time):\n",
    "    elapsed_time = end_time - start_time\n",
    "    elapsed_mins = int(elapsed_time / 60)\n",
    "    elapsed_secs = int(elapsed_time - (elapsed_mins * 60))\n",
    "    return elapsed_mins, elapsed_secs"
   ]
  },
  {
   "cell_type": "code",
   "execution_count": 48,
   "metadata": {
    "executionInfo": {
     "elapsed": 5,
     "status": "ok",
     "timestamp": 1655403592522,
     "user": {
      "displayName": "Шишкин Александр",
      "userId": "00721730077610513143"
     },
     "user_tz": -180
    },
    "id": "ubEMWbBDeQLL"
   },
   "outputs": [],
   "source": [
    "def flatten(l):\n",
    "    return [item for sublist in l for item in sublist]\n",
    "\n",
    "def remove_tech_tokens(mystr, tokens_to_remove=['<eos>', '<sos>', '<unk>', '<pad>']):\n",
    "    return [x for x in mystr if x not in tokens_to_remove]\n",
    "\n",
    "\n",
    "def get_text(x, TRG_vocab):\n",
    "    text = [TRG_vocab.itos[token] for token in x]\n",
    "    try:\n",
    "        end_idx = text.index('<eos>')\n",
    "        text = text[:end_idx]\n",
    "    except ValueError:\n",
    "        pass\n",
    "    text = remove_tech_tokens(text)\n",
    "    if len(text) < 1:\n",
    "        text = []\n",
    "    return text\n",
    "\n",
    "\n",
    "def generate_translation(src, trg, model, TRG_vocab):\n",
    "    model.eval()\n",
    "\n",
    "    output = model(src, trg, 0) #turn off teacher forcing\n",
    "    output = output.argmax(dim=-1).cpu().numpy()\n",
    "\n",
    "    original = get_text(list(trg[:,0].cpu().numpy()), TRG_vocab)\n",
    "    generated = get_text(list(output[1:, 0]), TRG_vocab)\n",
    "    \n",
    "    print('Original: {}'.format(' '.join(original)))\n",
    "    print('Generated: {}'.format(' '.join(generated)))\n",
    "    print()"
   ]
  },
  {
   "cell_type": "code",
   "execution_count": 49,
   "metadata": {
    "executionInfo": {
     "elapsed": 5,
     "status": "ok",
     "timestamp": 1655403592522,
     "user": {
      "displayName": "Шишкин Александр",
      "userId": "00721730077610513143"
     },
     "user_tz": -180
    },
    "id": "IJ6ylv4aeQLL"
   },
   "outputs": [],
   "source": [
    "def start_train(model, optimizer, criterion, n_epochs, train_history, valid_history):\n",
    "    CLIP = 1\n",
    "    best_valid_loss = float('inf')\n",
    "    \n",
    "    \n",
    "    for epoch in range(n_epochs):\n",
    "\n",
    "        start_time = time.time()\n",
    "\n",
    "        train_loss = train(model, train_iterator, optimizer, criterion, CLIP, train_history, valid_history)\n",
    "        valid_loss = evaluate(model, valid_iterator, criterion)\n",
    "\n",
    "        end_time = time.time()\n",
    "\n",
    "        epoch_mins, epoch_secs = epoch_time(start_time, end_time)\n",
    "\n",
    "        if valid_loss < best_valid_loss:\n",
    "            best_valid_loss = valid_loss\n",
    "            torch.save(model.state_dict(), 'tut1-model.pt')\n",
    "\n",
    "        train_history.append(train_loss)\n",
    "        valid_history.append(valid_loss)\n",
    "        print(f'Epoch: {epoch+1:02} | Time: {epoch_mins}m {epoch_secs}s |\\tTrain Loss: {train_loss:.3f} |\\t Val. Loss: {valid_loss:.3f} ')\n",
    "        \n",
    "    \n",
    "    plt.plot(train_history, label='general train history')\n",
    "    plt.plot(valid_history, label='general valid history')\n",
    "    plt.xlabel('Epoch')\n",
    "    plt.legend()\n",
    "    \n",
    "    plt.show()"
   ]
  },
  {
   "cell_type": "markdown",
   "metadata": {
    "id": "LeaTdq_reQLL"
   },
   "source": [
    "__Let's take a look at our network quality__:"
   ]
  },
  {
   "cell_type": "code",
   "execution_count": 49,
   "metadata": {
    "executionInfo": {
     "elapsed": 4,
     "status": "ok",
     "timestamp": 1655403592940,
     "user": {
      "displayName": "Шишкин Александр",
      "userId": "00721730077610513143"
     },
     "user_tz": -180
    },
    "id": "Wst2T9j4eQLL"
   },
   "outputs": [],
   "source": []
  },
  {
   "cell_type": "code",
   "execution_count": 50,
   "metadata": {
    "executionInfo": {
     "elapsed": 3,
     "status": "ok",
     "timestamp": 1655403592940,
     "user": {
      "displayName": "Шишкин Александр",
      "userId": "00721730077610513143"
     },
     "user_tz": -180
    },
    "id": "4FV1ZgbTeQLL"
   },
   "outputs": [],
   "source": [
    "N_EPOCHS = 10"
   ]
  },
  {
   "cell_type": "code",
   "execution_count": 51,
   "metadata": {
    "executionInfo": {
     "elapsed": 4,
     "status": "ok",
     "timestamp": 1655403592941,
     "user": {
      "displayName": "Шишкин Александр",
      "userId": "00721730077610513143"
     },
     "user_tz": -180
    },
    "id": "GfJ1As5DeQLM"
   },
   "outputs": [],
   "source": [
    "def bleu_score(model):\n",
    "    original_text = []\n",
    "    generated_text = []\n",
    "    model.eval()\n",
    "    with torch.no_grad():\n",
    "\n",
    "        for i, batch in tqdm.tqdm(enumerate(test_iterator)):\n",
    "\n",
    "            src = batch.src\n",
    "            trg = batch.trg\n",
    "\n",
    "            output = model(src, trg, 0) #turn off teacher forcing\n",
    "\n",
    "            #trg = [trg sent len, batch size]\n",
    "            #output = [trg sent len, batch size, output dim]\n",
    "\n",
    "            output = output.argmax(dim=-1)\n",
    "\n",
    "            original_text.extend([get_text(x, TRG.vocab) for x in trg.cpu().numpy().T])\n",
    "            generated_text.extend([get_text(x, TRG.vocab) for x in output[1:].detach().cpu().numpy().T])\n",
    "\n",
    "    # original_text = flatten(original_text)\n",
    "    # generated_text = flatten(generated_text)\n",
    "    \n",
    "    return corpus_bleu([[text] for text in original_text], generated_text) * 100, original_text, generated_text"
   ]
  },
  {
   "cell_type": "code",
   "execution_count": 52,
   "metadata": {
    "executionInfo": {
     "elapsed": 4,
     "status": "ok",
     "timestamp": 1655403592941,
     "user": {
      "displayName": "Шишкин Александр",
      "userId": "00721730077610513143"
     },
     "user_tz": -180
    },
    "id": "017waIfKeQLM"
   },
   "outputs": [],
   "source": [
    "#baseline"
   ]
  },
  {
   "cell_type": "code",
   "execution_count": 152,
   "metadata": {},
   "outputs": [],
   "source": []
  },
  {
   "cell_type": "code",
   "execution_count": null,
   "metadata": {},
   "outputs": [],
   "source": []
  },
  {
   "cell_type": "code",
   "execution_count": 53,
   "metadata": {
    "colab": {
     "base_uri": "https://localhost:8080/",
     "height": 730
    },
    "executionInfo": {
     "elapsed": 992849,
     "status": "ok",
     "timestamp": 1655404585786,
     "user": {
      "displayName": "Шишкин Александр",
      "userId": "00721730077610513143"
     },
     "user_tz": -180
    },
    "id": "4AvamdmReQLM",
    "outputId": "d7494138-c5b4-4f05-9fed-2c2a35fe45df"
   },
   "outputs": [
    {
     "name": "stdout",
     "output_type": "stream",
     "text": [
      "Seq2Seq(\n",
      "  (encoder): Encoder(\n",
      "    (embedding): Embedding(9281, 256)\n",
      "    (rnn): LSTM(256, 512, num_layers=2, dropout=0.5)\n",
      "    (dropout): Dropout(p=0.5, inplace=False)\n",
      "  )\n",
      "  (decoder): Decoder(\n",
      "    (embedding): Embedding(6703, 256)\n",
      "    (rnn): LSTM(256, 512, num_layers=2, dropout=0.5)\n",
      "    (out): Linear(in_features=512, out_features=6703, bias=True)\n",
      "    (dropout): Dropout(p=0.5, inplace=False)\n",
      "  )\n",
      ")\n",
      "The model has 14,886,959 trainable parameters\n",
      "Epoch: 01 | Time: 1m 38s |\tTrain Loss: 5.305 |\t Val. Loss: 7.255 \n",
      "Epoch: 02 | Time: 1m 38s |\tTrain Loss: 4.463 |\t Val. Loss: 5.706 \n",
      "Epoch: 03 | Time: 1m 38s |\tTrain Loss: 4.030 |\t Val. Loss: 5.355 \n",
      "Epoch: 04 | Time: 1m 38s |\tTrain Loss: 3.748 |\t Val. Loss: 5.122 \n",
      "Epoch: 05 | Time: 1m 38s |\tTrain Loss: 3.521 |\t Val. Loss: 5.111 \n",
      "Epoch: 06 | Time: 1m 39s |\tTrain Loss: 3.398 |\t Val. Loss: 4.960 \n",
      "Epoch: 07 | Time: 1m 38s |\tTrain Loss: 3.289 |\t Val. Loss: 4.860 \n",
      "Epoch: 08 | Time: 1m 39s |\tTrain Loss: 3.155 |\t Val. Loss: 4.847 \n",
      "Epoch: 09 | Time: 1m 38s |\tTrain Loss: 3.083 |\t Val. Loss: 4.903 \n",
      "Epoch: 10 | Time: 1m 38s |\tTrain Loss: 2.992 |\t Val. Loss: 4.772 \n"
     ]
    },
    {
     "data": {
      "image/png": "[encoded data removed]",
      "text/plain": [
       "<Figure size 432x288 with 1 Axes>"
      ]
     },
     "metadata": {
      "needs_background": "light"
     },
     "output_type": "display_data"
    },
    {
     "name": "stderr",
     "output_type": "stream",
     "text": [
      "59it [00:04, 13.55it/s]\n"
     ]
    },
    {
     "data": {
      "text/plain": [
       "13.629411895347342"
      ]
     },
     "execution_count": 53,
     "metadata": {},
     "output_type": "execute_result"
    }
   ],
   "source": [
    "INPUT_DIM = 100\n",
    "OUTPUT_DIM = 100\n",
    "ENC_EMB_DIM = 256\n",
    "DEC_EMB_DIM = 256\n",
    "HID_DIM = 512\n",
    "N_LAYERS = 2\n",
    "ENC_DROPOUT = 0.5\n",
    "DEC_DROPOUT = 0.5\n",
    "\n",
    "enc = Encoder(INPUT_DIM, ENC_EMB_DIM, HID_DIM, N_LAYERS, ENC_DROPOUT)\n",
    "dec = Decoder(OUTPUT_DIM, DEC_EMB_DIM, HID_DIM, N_LAYERS, DEC_DROPOUT)\n",
    "\n",
    "# dont forget to put the model to the right device\n",
    "model = Seq2Seq(enc, dec, device).to(device)\n",
    "print(model)\n",
    "model.apply(init_weights)\n",
    "\n",
    "print(f'The model has {count_parameters(model):,} trainable parameters')\n",
    "\n",
    "train_history = []\n",
    "valid_history = []\n",
    "\n",
    "\n",
    "optimizer = optim.Adam(model.parameters())\n",
    "criterion = nn.CrossEntropyLoss(ignore_index = PAD_IDX)\n",
    "\n",
    "start_train(model, optimizer, criterion, N_EPOCHS, train_history, valid_history)\n",
    "\n",
    "score_baseline, original_text_baseline, generated_text_baseline = bleu_score(model)\n",
    "score_baseline"
   ]
  },
  {
   "cell_type": "markdown",
   "metadata": {
    "id": "iIsjfxiyeQLM"
   },
   "source": [
    "Baseline solution BLEU score is quite low. Try to achieve at least __18__ BLEU on the test set. \n",
    "The checkpoints are:\n",
    "\n",
    "* __18__ - minimal score to submit the homework, 30% of points\n",
    "\n",
    "* __20__ - good score, 70% of points\n",
    "\n",
    "* __25__ - excellent score, 100% of points"
   ]
  },
  {
   "cell_type": "code",
   "execution_count": 53,
   "metadata": {
    "executionInfo": {
     "elapsed": 3,
     "status": "ok",
     "timestamp": 1655404585786,
     "user": {
      "displayName": "Шишкин Александр",
      "userId": "00721730077610513143"
     },
     "user_tz": -180
    },
    "id": "pgzkaOpLeQLM"
   },
   "outputs": [],
   "source": []
  },
  {
   "cell_type": "code",
   "execution_count": 53,
   "metadata": {
    "executionInfo": {
     "elapsed": 3,
     "status": "ok",
     "timestamp": 1655404585787,
     "user": {
      "displayName": "Шишкин Александр",
      "userId": "00721730077610513143"
     },
     "user_tz": -180
    },
    "id": "jg5vtLIleQLM"
   },
   "outputs": [],
   "source": []
  },
  {
   "cell_type": "code",
   "execution_count": 53,
   "metadata": {
    "executionInfo": {
     "elapsed": 3,
     "status": "ok",
     "timestamp": 1655404585787,
     "user": {
      "displayName": "Шишкин Александр",
      "userId": "00721730077610513143"
     },
     "user_tz": -180
    },
    "id": "tm34TDqeeQLN"
   },
   "outputs": [],
   "source": []
  },
  {
   "cell_type": "markdown",
   "metadata": {
    "id": "YPkE1yN2exfB"
   },
   "source": [
    "## Эксперимент 1\n",
    "Попробуем изменить количество слоев и размерности векторов базовой модели"
   ]
  },
  {
   "cell_type": "code",
   "execution_count": 54,
   "metadata": {
    "colab": {
     "base_uri": "https://localhost:8080/",
     "height": 730
    },
    "executionInfo": {
     "elapsed": 2263258,
     "status": "ok",
     "timestamp": 1655406849042,
     "user": {
      "displayName": "Шишкин Александр",
      "userId": "00721730077610513143"
     },
     "user_tz": -180
    },
    "id": "zMB4P7qCeQLN",
    "outputId": "c3ce5d42-e750-4ca9-ea38-653f53ef72cb"
   },
   "outputs": [
    {
     "name": "stdout",
     "output_type": "stream",
     "text": [
      "Seq2Seq(\n",
      "  (encoder): Encoder(\n",
      "    (embedding): Embedding(9281, 1024)\n",
      "    (rnn): LSTM(1024, 1024, num_layers=2, dropout=0.5)\n",
      "    (dropout): Dropout(p=0.5, inplace=False)\n",
      "  )\n",
      "  (decoder): Decoder(\n",
      "    (embedding): Embedding(6703, 1024)\n",
      "    (rnn): LSTM(1024, 1024, num_layers=2, dropout=0.5)\n",
      "    (out): Linear(in_features=1024, out_features=6703, bias=True)\n",
      "    (dropout): Dropout(p=0.5, inplace=False)\n",
      "  )\n",
      ")\n",
      "The model has 56,825,391 trainable parameters\n",
      "Epoch: 01 | Time: 3m 42s |\tTrain Loss: 4.857 |\t Val. Loss: 5.267 \n",
      "Epoch: 02 | Time: 3m 45s |\tTrain Loss: 3.857 |\t Val. Loss: 4.896 \n",
      "Epoch: 03 | Time: 3m 45s |\tTrain Loss: 3.440 |\t Val. Loss: 4.966 \n",
      "Epoch: 04 | Time: 3m 44s |\tTrain Loss: 3.240 |\t Val. Loss: 4.738 \n",
      "Epoch: 05 | Time: 3m 45s |\tTrain Loss: 3.059 |\t Val. Loss: 4.702 \n",
      "Epoch: 06 | Time: 3m 44s |\tTrain Loss: 2.907 |\t Val. Loss: 4.643 \n",
      "Epoch: 07 | Time: 3m 45s |\tTrain Loss: 2.801 |\t Val. Loss: 4.799 \n",
      "Epoch: 08 | Time: 3m 45s |\tTrain Loss: 2.732 |\t Val. Loss: 4.622 \n",
      "Epoch: 09 | Time: 3m 44s |\tTrain Loss: 2.623 |\t Val. Loss: 4.582 \n",
      "Epoch: 10 | Time: 3m 44s |\tTrain Loss: 2.540 |\t Val. Loss: 4.550 \n"
     ]
    },
    {
     "data": {
      "image/png": "[encoded data removed]",
      "text/plain": [
       "<Figure size 432x288 with 1 Axes>"
      ]
     },
     "metadata": {
      "needs_background": "light"
     },
     "output_type": "display_data"
    },
    {
     "name": "stderr",
     "output_type": "stream",
     "text": [
      "59it [00:08,  7.04it/s]\n"
     ]
    },
    {
     "data": {
      "text/plain": [
       "19.03284303894163"
      ]
     },
     "execution_count": 54,
     "metadata": {},
     "output_type": "execute_result"
    }
   ],
   "source": [
    "# Увеличиваем размерность\n",
    "\n",
    "INPUT_DIM = len(SRC.vocab)\n",
    "OUTPUT_DIM = len(TRG.vocab)\n",
    "ENC_EMB_DIM = 1024\n",
    "DEC_EMB_DIM = 1024\n",
    "HID_DIM = 1024\n",
    "N_LAYERS = 2\n",
    "ENC_DROPOUT = 0.5\n",
    "DEC_DROPOUT = 0.5\n",
    "\n",
    "enc = Encoder(INPUT_DIM, ENC_EMB_DIM, HID_DIM, N_LAYERS, ENC_DROPOUT)\n",
    "dec = Decoder(OUTPUT_DIM, DEC_EMB_DIM, HID_DIM, N_LAYERS, DEC_DROPOUT)\n",
    "\n",
    "# dont forget to put the model to the right device\n",
    "model = Seq2Seq(enc, dec, device).to(device)\n",
    "print(model)\n",
    "model.apply(init_weights)\n",
    "\n",
    "print(f'The model has {count_parameters(model):,} trainable parameters')\n",
    "\n",
    "train_history = []\n",
    "valid_history = []\n",
    "\n",
    "optimizer = optim.Adam(model.parameters())\n",
    "criterion = nn.CrossEntropyLoss(ignore_index = PAD_IDX)\n",
    "\n",
    "start_train(model, optimizer, criterion, N_EPOCHS, train_history, valid_history)\n",
    "\n",
    "score_1, original_text_1, generated_text_1 = bleu_score(model)\n",
    "score_1"
   ]
  },
  {
   "cell_type": "markdown",
   "metadata": {
    "id": "qmo-hsSbfFrc"
   },
   "source": [
    "При увелечении размерности эмбеддингов и скрытых слоёв до 1024 качество модели увеличилось, метрика BLEU выросла с 13 до 19"
   ]
  },
  {
   "cell_type": "code",
   "execution_count": 54,
   "metadata": {
    "executionInfo": {
     "elapsed": 15,
     "status": "ok",
     "timestamp": 1655406849042,
     "user": {
      "displayName": "Шишкин Александр",
      "userId": "00721730077610513143"
     },
     "user_tz": -180
    },
    "id": "p4rW8WkyeQLN"
   },
   "outputs": [],
   "source": []
  },
  {
   "cell_type": "code",
   "execution_count": 54,
   "metadata": {
    "executionInfo": {
     "elapsed": 14,
     "status": "ok",
     "timestamp": 1655406849043,
     "user": {
      "displayName": "Шишкин Александр",
      "userId": "00721730077610513143"
     },
     "user_tz": -180
    },
    "id": "u8X4z1m8eQLN"
   },
   "outputs": [],
   "source": []
  },
  {
   "cell_type": "code",
   "execution_count": 55,
   "metadata": {
    "colab": {
     "base_uri": "https://localhost:8080/",
     "height": 730
    },
    "executionInfo": {
     "elapsed": 1385870,
     "status": "ok",
     "timestamp": 1655408234900,
     "user": {
      "displayName": "Шишкин Александр",
      "userId": "00721730077610513143"
     },
     "user_tz": -180
    },
    "id": "yPhVZe7MeQLN",
    "outputId": "0cce2c8c-f77d-4613-d411-75dd8f8fff84"
   },
   "outputs": [
    {
     "name": "stdout",
     "output_type": "stream",
     "text": [
      "Seq2Seq(\n",
      "  (encoder): Encoder(\n",
      "    (embedding): Embedding(9281, 256)\n",
      "    (rnn): LSTM(256, 512, num_layers=4, dropout=0.5)\n",
      "    (dropout): Dropout(p=0.5, inplace=False)\n",
      "  )\n",
      "  (decoder): Decoder(\n",
      "    (embedding): Embedding(6703, 256)\n",
      "    (rnn): LSTM(256, 512, num_layers=4, dropout=0.5)\n",
      "    (out): Linear(in_features=512, out_features=6703, bias=True)\n",
      "    (dropout): Dropout(p=0.5, inplace=False)\n",
      "  )\n",
      ")\n",
      "The model has 23,291,951 trainable parameters\n",
      "Epoch: 01 | Time: 2m 17s |\tTrain Loss: 5.444 |\t Val. Loss: 5.183 \n",
      "Epoch: 02 | Time: 2m 17s |\tTrain Loss: 4.795 |\t Val. Loss: 5.228 \n",
      "Epoch: 03 | Time: 2m 17s |\tTrain Loss: 4.289 |\t Val. Loss: 5.122 \n",
      "Epoch: 04 | Time: 2m 17s |\tTrain Loss: 3.987 |\t Val. Loss: 5.101 \n",
      "Epoch: 05 | Time: 2m 17s |\tTrain Loss: 3.768 |\t Val. Loss: 5.009 \n",
      "Epoch: 06 | Time: 2m 18s |\tTrain Loss: 3.600 |\t Val. Loss: 4.944 \n",
      "Epoch: 07 | Time: 2m 18s |\tTrain Loss: 3.471 |\t Val. Loss: 4.926 \n",
      "Epoch: 08 | Time: 2m 17s |\tTrain Loss: 3.369 |\t Val. Loss: 4.792 \n",
      "Epoch: 09 | Time: 2m 18s |\tTrain Loss: 3.275 |\t Val. Loss: 4.881 \n",
      "Epoch: 10 | Time: 2m 17s |\tTrain Loss: 3.177 |\t Val. Loss: 4.813 \n"
     ]
    },
    {
     "data": {
      "image/png": "[encoded data removed]",
      "text/plain": [
       "<Figure size 432x288 with 1 Axes>"
      ]
     },
     "metadata": {
      "needs_background": "light"
     },
     "output_type": "display_data"
    },
    {
     "name": "stderr",
     "output_type": "stream",
     "text": [
      "59it [00:05, 11.31it/s]\n"
     ]
    },
    {
     "data": {
      "text/plain": [
       "11.055826976831696"
      ]
     },
     "execution_count": 55,
     "metadata": {},
     "output_type": "execute_result"
    }
   ],
   "source": [
    "#Добавляем слоев\n",
    "\n",
    "INPUT_DIM = len(SRC.vocab)\n",
    "OUTPUT_DIM = len(TRG.vocab)\n",
    "ENC_EMB_DIM = 256\n",
    "DEC_EMB_DIM = 256\n",
    "HID_DIM = 512\n",
    "N_LAYERS = 4\n",
    "ENC_DROPOUT = 0.5\n",
    "DEC_DROPOUT = 0.5\n",
    "\n",
    "\n",
    "enc = Encoder(INPUT_DIM, ENC_EMB_DIM, HID_DIM, N_LAYERS, ENC_DROPOUT)\n",
    "dec = Decoder(OUTPUT_DIM, DEC_EMB_DIM, HID_DIM, N_LAYERS, DEC_DROPOUT)\n",
    "\n",
    "# dont forget to put the model to the right device\n",
    "model = Seq2Seq(enc, dec, device).to(device)\n",
    "print(model)\n",
    "\n",
    "model.apply(init_weights)\n",
    "\n",
    "print(f'The model has {count_parameters(model):,} trainable parameters')\n",
    "\n",
    "train_history = []\n",
    "valid_history = []\n",
    "\n",
    "\n",
    "optimizer = optim.Adam(model.parameters())\n",
    "criterion = nn.CrossEntropyLoss(ignore_index = PAD_IDX)\n",
    "\n",
    "start_train(model, optimizer, criterion, N_EPOCHS, train_history, valid_history)\n",
    "\n",
    "score_2, original_text_2, generated_text_2 = bleu_score(model)\n",
    "score_2"
   ]
  },
  {
   "cell_type": "code",
   "execution_count": 55,
   "metadata": {
    "executionInfo": {
     "elapsed": 6,
     "status": "ok",
     "timestamp": 1655408234900,
     "user": {
      "displayName": "Шишкин Александр",
      "userId": "00721730077610513143"
     },
     "user_tz": -180
    },
    "id": "d_jKS7lGeQLO"
   },
   "outputs": [],
   "source": []
  },
  {
   "cell_type": "code",
   "execution_count": 55,
   "metadata": {
    "executionInfo": {
     "elapsed": 6,
     "status": "ok",
     "timestamp": 1655408234901,
     "user": {
      "displayName": "Шишкин Александр",
      "userId": "00721730077610513143"
     },
     "user_tz": -180
    },
    "id": "nYnE2t-seQLP"
   },
   "outputs": [],
   "source": []
  },
  {
   "cell_type": "code",
   "execution_count": 55,
   "metadata": {
    "executionInfo": {
     "elapsed": 6,
     "status": "ok",
     "timestamp": 1655408234901,
     "user": {
      "displayName": "Шишкин Александр",
      "userId": "00721730077610513143"
     },
     "user_tz": -180
    },
    "id": "DCs4IPYqeQLP"
   },
   "outputs": [],
   "source": []
  },
  {
   "cell_type": "code",
   "execution_count": 55,
   "metadata": {
    "executionInfo": {
     "elapsed": 6,
     "status": "ok",
     "timestamp": 1655408234901,
     "user": {
      "displayName": "Шишкин Александр",
      "userId": "00721730077610513143"
     },
     "user_tz": -180
    },
    "id": "WY-VZJy6eQLP"
   },
   "outputs": [],
   "source": []
  },
  {
   "cell_type": "code",
   "execution_count": 55,
   "metadata": {
    "executionInfo": {
     "elapsed": 6,
     "status": "ok",
     "timestamp": 1655408234902,
     "user": {
      "displayName": "Шишкин Александр",
      "userId": "00721730077610513143"
     },
     "user_tz": -180
    },
    "id": "MboNy35GeQLP"
   },
   "outputs": [],
   "source": []
  },
  {
   "cell_type": "markdown",
   "metadata": {
    "id": "lfg0-lJHeQLP"
   },
   "source": [
    "## Эксперимент 2 \n",
    "Механизм внимания"
   ]
  },
  {
   "cell_type": "code",
   "execution_count": 56,
   "metadata": {
    "executionInfo": {
     "elapsed": 408,
     "status": "ok",
     "timestamp": 1655408235304,
     "user": {
      "displayName": "Шишкин Александр",
      "userId": "00721730077610513143"
     },
     "user_tz": -180
    },
    "id": "dKmNbO1YeQLP"
   },
   "outputs": [],
   "source": [
    "#week04_attention/practice1_04_seq2seq_nmt__with_attention.ipynb\n",
    "class EncoderAtt(nn.Module):\n",
    "    def __init__(self, input_dim, emb_dim, enc_hid_dim, dec_hid_dim, dropout):\n",
    "        super().__init__()\n",
    "        \n",
    "        self.embedding = nn.Embedding(input_dim, emb_dim)\n",
    "        \n",
    "        self.rnn = nn.GRU(emb_dim, enc_hid_dim, bidirectional = True)\n",
    "        \n",
    "        self.fc = nn.Linear(enc_hid_dim * 2, dec_hid_dim)\n",
    "        \n",
    "        self.dropout = nn.Dropout(dropout)\n",
    "        \n",
    "    def forward(self, src):\n",
    "        \n",
    "        #src = [src len, batch size]\n",
    "        \n",
    "        embedded = self.dropout(self.embedding(src))\n",
    "        \n",
    "        #embedded = [src len, batch size, emb dim]\n",
    "        \n",
    "        outputs, hidden = self.rnn(embedded)\n",
    "                \n",
    "        #outputs = [src len, batch size, hid dim * num directions]\n",
    "        #hidden = [n layers * num directions, batch size, hid dim]\n",
    "        \n",
    "        #hidden is stacked [forward_1, backward_1, forward_2, backward_2, ...]\n",
    "        #outputs are always from the last layer\n",
    "        \n",
    "        #hidden [-2, :, : ] is the last of the forwards RNN \n",
    "        #hidden [-1, :, : ] is the last of the backwards RNN\n",
    "        \n",
    "        #initial decoder hidden is final hidden state of the forwards and backwards \n",
    "        #  encoder RNNs fed through a linear layer\n",
    "        hidden = torch.tanh(self.fc(torch.cat((hidden[-2,:,:], hidden[-1,:,:]), dim = 1)))\n",
    "        \n",
    "        #outputs = [src len, batch size, enc hid dim * 2]\n",
    "        #hidden = [batch size, dec hid dim]\n",
    "        \n",
    "        return outputs, hidden\n",
    "    \n",
    "    \n",
    "class Attention(nn.Module):\n",
    "    def __init__(self, enc_hid_dim, dec_hid_dim):\n",
    "        super().__init__()\n",
    "        \n",
    "        self.attn = nn.Linear((enc_hid_dim * 2) + dec_hid_dim, dec_hid_dim)\n",
    "        self.v = nn.Linear(dec_hid_dim, 1, bias = False)\n",
    "        \n",
    "    def forward(self, hidden, encoder_outputs):\n",
    "        \n",
    "        #hidden = [batch size, dec hid dim]\n",
    "        #encoder_outputs = [src len, batch size, enc hid dim * 2]\n",
    "        \n",
    "        batch_size = encoder_outputs.shape[1]\n",
    "        src_len = encoder_outputs.shape[0]\n",
    "        \n",
    "        #repeat decoder hidden state src_len times\n",
    "        hidden = hidden.unsqueeze(1).repeat(1, src_len, 1)\n",
    "        \n",
    "        encoder_outputs = encoder_outputs.permute(1, 0, 2)\n",
    "        \n",
    "        #hidden = [batch size, src len, dec hid dim]\n",
    "        #encoder_outputs = [batch size, src len, enc hid dim * 2]\n",
    "        \n",
    "        energy = torch.tanh(self.attn(torch.cat((hidden, encoder_outputs), dim = 2))) \n",
    "        \n",
    "        #energy = [batch size, src len, dec hid dim]\n",
    "\n",
    "        attention = self.v(energy).squeeze(2)\n",
    "        \n",
    "        #attention= [batch size, src len]\n",
    "        \n",
    "        return F.softmax(attention, dim=1)\n",
    "    \n",
    "    \n",
    "class DecoderAtt(nn.Module):\n",
    "    def __init__(self, output_dim, emb_dim, enc_hid_dim, dec_hid_dim, dropout, attention):\n",
    "        super().__init__()\n",
    "\n",
    "        self.output_dim = output_dim\n",
    "        self.attention = attention\n",
    "        \n",
    "        self.embedding = nn.Embedding(output_dim, emb_dim)\n",
    "        \n",
    "        self.rnn = nn.GRU((enc_hid_dim * 2) + emb_dim, dec_hid_dim)\n",
    "        \n",
    "        self.fc_out = nn.Linear((enc_hid_dim * 2) + dec_hid_dim + emb_dim, output_dim)\n",
    "        \n",
    "        self.dropout = nn.Dropout(dropout)\n",
    "        \n",
    "    def forward(self, input, hidden, encoder_outputs):\n",
    "             \n",
    "        #input = [batch size]\n",
    "        #hidden = [batch size, dec hid dim]\n",
    "        #encoder_outputs = [src len, batch size, enc hid dim * 2]\n",
    "        \n",
    "        input = input.unsqueeze(0)\n",
    "        \n",
    "        #input = [1, batch size]\n",
    "        \n",
    "        embedded = self.dropout(self.embedding(input))\n",
    "        \n",
    "        #embedded = [1, batch size, emb dim]\n",
    "        \n",
    "        a = self.attention(hidden, encoder_outputs)\n",
    "                \n",
    "        #a = [batch size, src len]\n",
    "        \n",
    "        a = a.unsqueeze(1)\n",
    "        \n",
    "        #a = [batch size, 1, src len]\n",
    "        \n",
    "        encoder_outputs = encoder_outputs.permute(1, 0, 2)\n",
    "        \n",
    "        #encoder_outputs = [batch size, src len, enc hid dim * 2]\n",
    "        \n",
    "        weighted = torch.bmm(a, encoder_outputs)\n",
    "        \n",
    "        #weighted = [batch size, 1, enc hid dim * 2]\n",
    "        \n",
    "        weighted = weighted.permute(1, 0, 2)\n",
    "        \n",
    "        #weighted = [1, batch size, enc hid dim * 2]\n",
    "        \n",
    "        rnn_input = torch.cat((embedded, weighted), dim = 2)\n",
    "        \n",
    "        #rnn_input = [1, batch size, (enc hid dim * 2) + emb dim]\n",
    "            \n",
    "        output, hidden = self.rnn(rnn_input, hidden.unsqueeze(0))\n",
    "        \n",
    "        #output = [seq len, batch size, dec hid dim * n directions]\n",
    "        #hidden = [n layers * n directions, batch size, dec hid dim]\n",
    "        \n",
    "        #seq len, n layers and n directions will always be 1 in this decoder, therefore:\n",
    "        #output = [1, batch size, dec hid dim]\n",
    "        #hidden = [1, batch size, dec hid dim]\n",
    "        #this also means that output == hidden\n",
    "        assert (output == hidden).all()\n",
    "        \n",
    "        embedded = embedded.squeeze(0)\n",
    "        output = output.squeeze(0)\n",
    "        weighted = weighted.squeeze(0)\n",
    "        \n",
    "        prediction = self.fc_out(torch.cat((output, weighted, embedded), dim = 1))\n",
    "        \n",
    "        #prediction = [batch size, output dim]\n",
    "        \n",
    "        return prediction, hidden.squeeze(0)\n",
    "\n",
    "class Seq2SeqAtt(nn.Module):\n",
    "    def __init__(self, encoder, decoder, device):\n",
    "        super().__init__()\n",
    "        \n",
    "        self.encoder = encoder\n",
    "        self.decoder = decoder\n",
    "        self.device = device\n",
    "        \n",
    "    def forward(self, src, trg, teacher_forcing_ratio = 0.5):\n",
    "        \n",
    "        #src = [src len, batch size]\n",
    "        #trg = [trg len, batch size]\n",
    "        #teacher_forcing_ratio is probability to use teacher forcing\n",
    "        #e.g. if teacher_forcing_ratio is 0.75 we use teacher forcing 75% of the time\n",
    "        \n",
    "        batch_size = src.shape[1]\n",
    "        trg_len = trg.shape[0]\n",
    "        trg_vocab_size = self.decoder.output_dim\n",
    "        \n",
    "        #tensor to store decoder outputs\n",
    "        outputs = torch.zeros(trg_len, batch_size, trg_vocab_size).to(self.device)\n",
    "        \n",
    "        #encoder_outputs is all hidden states of the input sequence, back and forwards\n",
    "        #hidden is the final forward and backward hidden states, passed through a linear layer\n",
    "        encoder_outputs, hidden = self.encoder(src)\n",
    "                \n",
    "        #first input to the decoder is the <sos> tokens\n",
    "        input = trg[0,:]\n",
    "        \n",
    "        for t in range(1, trg_len):\n",
    "            \n",
    "            #insert input token embedding, previous hidden state and all encoder hidden states\n",
    "            #receive output tensor (predictions) and new hidden state\n",
    "            output, hidden = self.decoder(input, hidden, encoder_outputs)\n",
    "            \n",
    "            #place predictions in a tensor holding predictions for each token\n",
    "            outputs[t] = output\n",
    "            \n",
    "            #decide if we are going to use teacher forcing or not\n",
    "            teacher_force = random.random() < teacher_forcing_ratio\n",
    "            \n",
    "            #get the highest predicted token from our predictions\n",
    "            top1 = output.argmax(1) \n",
    "            \n",
    "            #if teacher forcing, use actual next token as next input\n",
    "            #if not, use predicted token\n",
    "            input = trg[t] if teacher_force else top1\n",
    "\n",
    "        return outputs"
   ]
  },
  {
   "cell_type": "code",
   "execution_count": 57,
   "metadata": {
    "executionInfo": {
     "elapsed": 9,
     "status": "ok",
     "timestamp": 1655408235305,
     "user": {
      "displayName": "Шишкин Александр",
      "userId": "00721730077610513143"
     },
     "user_tz": -180
    },
    "id": "BZddtVd4eQLQ"
   },
   "outputs": [],
   "source": [
    "import torch.nn.functional as F"
   ]
  },
  {
   "cell_type": "code",
   "execution_count": 58,
   "metadata": {
    "colab": {
     "base_uri": "https://localhost:8080/",
     "height": 817
    },
    "executionInfo": {
     "elapsed": 1321504,
     "status": "ok",
     "timestamp": 1655409556800,
     "user": {
      "displayName": "Шишкин Александр",
      "userId": "00721730077610513143"
     },
     "user_tz": -180
    },
    "id": "RdTrKrJKeQLQ",
    "outputId": "c28b4cd0-afa3-46de-f61c-32e1af0c96b1"
   },
   "outputs": [
    {
     "name": "stdout",
     "output_type": "stream",
     "text": [
      "Seq2SeqAtt(\n",
      "  (encoder): EncoderAtt(\n",
      "    (embedding): Embedding(9281, 256)\n",
      "    (rnn): GRU(256, 256, bidirectional=True)\n",
      "    (fc): Linear(in_features=512, out_features=256, bias=True)\n",
      "    (dropout): Dropout(p=0.5, inplace=False)\n",
      "  )\n",
      "  (decoder): DecoderAtt(\n",
      "    (attention): Attention(\n",
      "      (attn): Linear(in_features=768, out_features=256, bias=True)\n",
      "      (v): Linear(in_features=256, out_features=1, bias=False)\n",
      "    )\n",
      "    (embedding): Embedding(6703, 256)\n",
      "    (rnn): GRU(768, 256)\n",
      "    (fc_out): Linear(in_features=1024, out_features=6703, bias=True)\n",
      "    (dropout): Dropout(p=0.5, inplace=False)\n",
      "  )\n",
      ")\n",
      "The model has 12,868,399 trainable parameters\n",
      "Epoch: 01 | Time: 2m 11s |\tTrain Loss: 4.649 |\t Val. Loss: 4.853 \n",
      "Epoch: 02 | Time: 2m 11s |\tTrain Loss: 3.510 |\t Val. Loss: 4.559 \n",
      "Epoch: 03 | Time: 2m 10s |\tTrain Loss: 3.083 |\t Val. Loss: 4.393 \n",
      "Epoch: 04 | Time: 2m 11s |\tTrain Loss: 2.811 |\t Val. Loss: 4.356 \n",
      "Epoch: 05 | Time: 2m 11s |\tTrain Loss: 2.588 |\t Val. Loss: 4.322 \n",
      "Epoch: 06 | Time: 2m 11s |\tTrain Loss: 2.430 |\t Val. Loss: 4.149 \n",
      "Epoch: 07 | Time: 2m 11s |\tTrain Loss: 2.268 |\t Val. Loss: 4.242 \n",
      "Epoch: 08 | Time: 2m 11s |\tTrain Loss: 2.167 |\t Val. Loss: 4.177 \n",
      "Epoch: 09 | Time: 2m 12s |\tTrain Loss: 2.056 |\t Val. Loss: 4.274 \n",
      "Epoch: 10 | Time: 2m 10s |\tTrain Loss: 1.994 |\t Val. Loss: 4.141 \n"
     ]
    },
    {
     "data": {
      "image/png": "[encoded data removed]",
      "text/plain": [
       "<Figure size 432x288 with 1 Axes>"
      ]
     },
     "metadata": {
      "needs_background": "light"
     },
     "output_type": "display_data"
    },
    {
     "name": "stderr",
     "output_type": "stream",
     "text": [
      "59it [00:05, 11.74it/s]\n"
     ]
    },
    {
     "data": {
      "text/plain": [
       "31.164319213268122"
      ]
     },
     "execution_count": 58,
     "metadata": {},
     "output_type": "execute_result"
    }
   ],
   "source": [
    "INPUT_DIM = len(SRC.vocab)\n",
    "OUTPUT_DIM = len(TRG.vocab)\n",
    "\n",
    "ENC_EMB_DIM = 256\n",
    "DEC_EMB_DIM = 256\n",
    "ENC_HID_DIM = 256\n",
    "DEC_HID_DIM = 256\n",
    "ENC_DROPOUT = 0.5\n",
    "DEC_DROPOUT = 0.5\n",
    "\n",
    "attn = Attention(ENC_HID_DIM, DEC_HID_DIM)\n",
    "enc = EncoderAtt(INPUT_DIM, ENC_EMB_DIM, ENC_HID_DIM, DEC_HID_DIM, ENC_DROPOUT)\n",
    "dec = DecoderAtt(OUTPUT_DIM, DEC_EMB_DIM, ENC_HID_DIM, DEC_HID_DIM, DEC_DROPOUT, attn)\n",
    "\n",
    "model = Seq2SeqAtt(enc, dec, device).to(device)\n",
    "\n",
    "\n",
    "print(model)\n",
    "model.apply(init_weights)\n",
    "\n",
    "print(f'The model has {count_parameters(model):,} trainable parameters')\n",
    "\n",
    "train_history = []\n",
    "valid_history = []\n",
    "\n",
    "optimizer = optim.Adam(model.parameters())\n",
    "criterion = nn.CrossEntropyLoss(ignore_index = PAD_IDX)\n",
    "\n",
    "start_train(model, optimizer, criterion, N_EPOCHS, train_history, valid_history)\n",
    "\n",
    "score_att, original_text_att, generated_text_att = bleu_score(model)\n",
    "score_att"
   ]
  },
  {
   "cell_type": "markdown",
   "metadata": {
    "id": "uH6nAqP0eQLQ"
   },
   "source": [
    "При использовании внимания качество модели увеличилось, метрика BLEU выросла до 31"
   ]
  },
  {
   "cell_type": "code",
   "execution_count": 58,
   "metadata": {
    "executionInfo": {
     "elapsed": 8,
     "status": "ok",
     "timestamp": 1655409556801,
     "user": {
      "displayName": "Шишкин Александр",
      "userId": "00721730077610513143"
     },
     "user_tz": -180
    },
    "id": "70XA6TOVeQLQ"
   },
   "outputs": [],
   "source": []
  },
  {
   "cell_type": "code",
   "execution_count": 58,
   "metadata": {
    "executionInfo": {
     "elapsed": 7,
     "status": "ok",
     "timestamp": 1655409556801,
     "user": {
      "displayName": "Шишкин Александр",
      "userId": "00721730077610513143"
     },
     "user_tz": -180
    },
    "id": "wW3M2KuGeQLQ"
   },
   "outputs": [],
   "source": []
  },
  {
   "cell_type": "code",
   "execution_count": 58,
   "metadata": {
    "executionInfo": {
     "elapsed": 8,
     "status": "ok",
     "timestamp": 1655409556802,
     "user": {
      "displayName": "Шишкин Александр",
      "userId": "00721730077610513143"
     },
     "user_tz": -180
    },
    "id": "e8ycjwCRsImF"
   },
   "outputs": [],
   "source": []
  },
  {
   "cell_type": "markdown",
   "metadata": {
    "id": "cYiOr9m4sImF"
   },
   "source": [
    "## Эксперимент 3\n",
    "Трафнсформер"
   ]
  },
  {
   "cell_type": "code",
   "execution_count": 59,
   "metadata": {
    "executionInfo": {
     "elapsed": 7,
     "status": "ok",
     "timestamp": 1655409556802,
     "user": {
      "displayName": "Шишкин Александр",
      "userId": "00721730077610513143"
     },
     "user_tz": -180
    },
    "id": "LhHKcl9GeQLQ"
   },
   "outputs": [],
   "source": [
    "from torch import Tensor\n",
    "from torch.nn import Transformer\n",
    "from timeit import default_timer as timer"
   ]
  },
  {
   "cell_type": "code",
   "execution_count": 60,
   "metadata": {
    "executionInfo": {
     "elapsed": 462,
     "status": "ok",
     "timestamp": 1655409557257,
     "user": {
      "displayName": "Шишкин Александр",
      "userId": "00721730077610513143"
     },
     "user_tz": -180
    },
    "id": "XQOszE5VeQLR"
   },
   "outputs": [],
   "source": [
    "#https://pytorch.org/tutorials/beginner/translation_transformer.html\n",
    "\n",
    "# helper Module that adds positional encoding to the token embedding to introduce a notion of word order.\n",
    "class PositionalEncoding(nn.Module):\n",
    "    def __init__(self,\n",
    "                 emb_size: int,\n",
    "                 dropout: float,\n",
    "                 maxlen: int = 5000):\n",
    "        super(PositionalEncoding, self).__init__()\n",
    "        den = torch.exp(- torch.arange(0, emb_size, 2)* math.log(10000) / emb_size)\n",
    "        pos = torch.arange(0, maxlen).reshape(maxlen, 1)\n",
    "        pos_embedding = torch.zeros((maxlen, emb_size))\n",
    "        pos_embedding[:, 0::2] = torch.sin(pos * den)\n",
    "        pos_embedding[:, 1::2] = torch.cos(pos * den)\n",
    "        pos_embedding = pos_embedding.unsqueeze(-2)\n",
    "\n",
    "        self.dropout = nn.Dropout(dropout)\n",
    "        self.register_buffer('pos_embedding', pos_embedding)\n",
    "\n",
    "    def forward(self, token_embedding: Tensor):\n",
    "        return self.dropout(token_embedding + self.pos_embedding[:token_embedding.size(0), :])\n",
    "\n",
    "# helper Module to convert tensor of input indices into corresponding tensor of token embeddings\n",
    "class TokenEmbedding(nn.Module):\n",
    "    def __init__(self, vocab_size: int, emb_size):\n",
    "        super(TokenEmbedding, self).__init__()\n",
    "        self.embedding = nn.Embedding(vocab_size, emb_size)\n",
    "        self.emb_size = emb_size\n",
    "\n",
    "    def forward(self, tokens: Tensor):\n",
    "        return self.embedding(tokens.long()) * math.sqrt(self.emb_size)\n",
    "\n",
    "# Seq2Seq Network \n",
    "class Seq2SeqTransformer(nn.Module):\n",
    "    def __init__(self,\n",
    "                 num_encoder_layers: int,\n",
    "                 num_decoder_layers: int,\n",
    "                 emb_size: int,\n",
    "                 nhead: int,\n",
    "                 src_vocab_size: int,\n",
    "                 tgt_vocab_size: int,\n",
    "                 dim_feedforward: int = 512,\n",
    "                 dropout: float = 0.1):\n",
    "        super(Seq2SeqTransformer, self).__init__()\n",
    "        self.transformer = Transformer(d_model=emb_size,\n",
    "                                       nhead=nhead,\n",
    "                                       num_encoder_layers=num_encoder_layers,\n",
    "                                       num_decoder_layers=num_decoder_layers,\n",
    "                                       dim_feedforward=dim_feedforward,\n",
    "                                       dropout=dropout)\n",
    "        self.generator = nn.Linear(emb_size, tgt_vocab_size)\n",
    "        self.src_tok_emb = TokenEmbedding(src_vocab_size, emb_size)\n",
    "        self.tgt_tok_emb = TokenEmbedding(tgt_vocab_size, emb_size)\n",
    "        self.positional_encoding = PositionalEncoding(\n",
    "            emb_size, dropout=dropout)\n",
    "\n",
    "    def forward(self,\n",
    "                src: Tensor,\n",
    "                trg: Tensor,\n",
    "                src_mask: Tensor,\n",
    "                tgt_mask: Tensor,\n",
    "                src_padding_mask: Tensor,\n",
    "                tgt_padding_mask: Tensor,\n",
    "                memory_key_padding_mask: Tensor):\n",
    "        src_emb = self.positional_encoding(self.src_tok_emb(src))\n",
    "        tgt_emb = self.positional_encoding(self.tgt_tok_emb(trg))\n",
    "        outs = self.transformer(src_emb, tgt_emb, src_mask, tgt_mask, None, \n",
    "                                src_padding_mask, tgt_padding_mask, memory_key_padding_mask)\n",
    "        return self.generator(outs)\n",
    "\n",
    "    def encode(self, src: Tensor, src_mask: Tensor):\n",
    "        return self.transformer.encoder(self.positional_encoding(\n",
    "                            self.src_tok_emb(src)), src_mask)\n",
    "\n",
    "    def decode(self, tgt: Tensor, memory: Tensor, tgt_mask: Tensor):\n",
    "        return self.transformer.decoder(self.positional_encoding(\n",
    "                          self.tgt_tok_emb(tgt)), memory,\n",
    "                          tgt_mask)\n",
    "    \n",
    "    \n",
    "    \n",
    "\n",
    "\n",
    "SRC_VOCAB_SIZE = len(SRC.vocab)\n",
    "TGT_VOCAB_SIZE = len(TRG.vocab)\n",
    "EMB_SIZE = 512\n",
    "NHEAD = 8\n",
    "FFN_HID_DIM = 512\n",
    "BATCH_SIZE = 128\n",
    "NUM_ENCODER_LAYERS = 3\n",
    "NUM_DECODER_LAYERS = 3\n",
    "\n",
    "model = Seq2SeqTransformer(NUM_ENCODER_LAYERS, NUM_DECODER_LAYERS, EMB_SIZE, \n",
    "                                 NHEAD, SRC_VOCAB_SIZE, TGT_VOCAB_SIZE, FFN_HID_DIM)\n",
    "\n",
    "for p in model.parameters():\n",
    "    if p.dim() > 1:\n",
    "        nn.init.xavier_uniform_(p)\n",
    "\n",
    "model = model.to(device)\n",
    "\n",
    "loss_fn = torch.nn.CrossEntropyLoss(ignore_index=PAD_IDX)\n",
    "\n",
    "optimizer = torch.optim.Adam(model.parameters(), lr=0.0001, betas=(0.9, 0.98), eps=1e-9)\n"
   ]
  },
  {
   "cell_type": "code",
   "execution_count": 61,
   "metadata": {
    "executionInfo": {
     "elapsed": 4,
     "status": "ok",
     "timestamp": 1655409557257,
     "user": {
      "displayName": "Шишкин Александр",
      "userId": "00721730077610513143"
     },
     "user_tz": -180
    },
    "id": "7pvZ-aSPeQLR"
   },
   "outputs": [],
   "source": [
    "def generate_square_subsequent_mask(sz):\n",
    "    mask = (torch.triu(torch.ones((sz, sz), device=device)) == 1).transpose(0, 1)\n",
    "    mask = mask.float().masked_fill(mask == 0, float('-inf')).masked_fill(mask == 1, float(0.0))\n",
    "    return mask"
   ]
  },
  {
   "cell_type": "code",
   "execution_count": 62,
   "metadata": {
    "executionInfo": {
     "elapsed": 3,
     "status": "ok",
     "timestamp": 1655409557257,
     "user": {
      "displayName": "Шишкин Александр",
      "userId": "00721730077610513143"
     },
     "user_tz": -180
    },
    "id": "CHV6SOVHeQLR"
   },
   "outputs": [],
   "source": [
    "\n",
    "def create_mask(src, tgt):\n",
    "    src_seq_len = src.shape[0]\n",
    "    tgt_seq_len = tgt.shape[0]\n",
    "\n",
    "    tgt_mask = generate_square_subsequent_mask(tgt_seq_len)\n",
    "    src_mask = torch.zeros((src_seq_len, src_seq_len),device=device).type(torch.bool)\n",
    "\n",
    "    src_padding_mask = (src == PAD_IDX).transpose(0, 1)\n",
    "    tgt_padding_mask = (tgt == PAD_IDX).transpose(0, 1)\n",
    "    return src_mask, tgt_mask, src_padding_mask, tgt_padding_mask"
   ]
  },
  {
   "cell_type": "code",
   "execution_count": 63,
   "metadata": {
    "executionInfo": {
     "elapsed": 271,
     "status": "ok",
     "timestamp": 1655409557525,
     "user": {
      "displayName": "Шишкин Александр",
      "userId": "00721730077610513143"
     },
     "user_tz": -180
    },
    "id": "8x_jlujveQLR"
   },
   "outputs": [],
   "source": [
    "\n",
    "def train_epoch(model, optimizer, train_dataloader):\n",
    "    model.train()\n",
    "    losses = 0\n",
    "  \n",
    "    for batch in train_dataloader:\n",
    "        \n",
    "        src = batch.src\n",
    "        tgt = batch.trg\n",
    "        \n",
    "        src = src.to(device)\n",
    "        tgt = tgt.to(device)\n",
    "\n",
    "        tgt_input = tgt[:-1, :]\n",
    "\n",
    "        src_mask, tgt_mask, src_padding_mask, tgt_padding_mask = create_mask(src, tgt_input)\n",
    "\n",
    "        logits = model(src, tgt_input, src_mask, tgt_mask,src_padding_mask, tgt_padding_mask, src_padding_mask)\n",
    "\n",
    "        optimizer.zero_grad()\n",
    "\n",
    "        tgt_out = tgt[1:, :]\n",
    "        loss = loss_fn(logits.reshape(-1, logits.shape[-1]), tgt_out.reshape(-1))\n",
    "        loss.backward()\n",
    "\n",
    "        optimizer.step()\n",
    "        losses += loss.item()\n",
    "\n",
    "    return losses / len(train_dataloader)\n",
    "\n",
    "\n",
    "def evaluate(model, val_dataloader):\n",
    "    model.eval()\n",
    "    losses = 0\n",
    "\n",
    "    for batch in val_dataloader:\n",
    "        \n",
    "        src = batch.src\n",
    "        tgt = batch.trg\n",
    "        \n",
    "        src = src.to(device)\n",
    "        tgt = tgt.to(device)\n",
    "\n",
    "        tgt_input = tgt[:-1, :]\n",
    "\n",
    "        src_mask, tgt_mask, src_padding_mask, tgt_padding_mask = create_mask(src, tgt_input)\n",
    "\n",
    "        logits = model(src, tgt_input, src_mask, tgt_mask,src_padding_mask, tgt_padding_mask, src_padding_mask)\n",
    "        \n",
    "        tgt_out = tgt[1:, :]\n",
    "        loss = loss_fn(logits.reshape(-1, logits.shape[-1]), tgt_out.reshape(-1))\n",
    "        losses += loss.item()\n",
    "\n",
    "    return losses / len(val_dataloader)"
   ]
  },
  {
   "cell_type": "code",
   "execution_count": 64,
   "metadata": {
    "colab": {
     "base_uri": "https://localhost:8080/"
    },
    "executionInfo": {
     "elapsed": 756000,
     "status": "ok",
     "timestamp": 1655410313523,
     "user": {
      "displayName": "Шишкин Александр",
      "userId": "00721730077610513143"
     },
     "user_tz": -180
    },
    "id": "Anp1SVM5eQLR",
    "outputId": "9d461d94-9aa0-4b3e-ebfc-71d77a4d4dcd"
   },
   "outputs": [
    {
     "name": "stdout",
     "output_type": "stream",
     "text": [
      "Epoch: 1, Train loss: 4.624, Val loss: 3.071, Epoch time = 74.862s\n",
      "Epoch: 2, Train loss: 3.021, Val loss: 2.461, Epoch time = 74.455s\n",
      "Epoch: 3, Train loss: 2.562, Val loss: 2.169, Epoch time = 74.263s\n",
      "Epoch: 4, Train loss: 2.281, Val loss: 1.972, Epoch time = 74.811s\n",
      "Epoch: 5, Train loss: 2.075, Val loss: 1.841, Epoch time = 74.721s\n",
      "Epoch: 6, Train loss: 1.915, Val loss: 1.741, Epoch time = 74.768s\n",
      "Epoch: 7, Train loss: 1.782, Val loss: 1.676, Epoch time = 74.956s\n",
      "Epoch: 8, Train loss: 1.668, Val loss: 1.605, Epoch time = 74.876s\n",
      "Epoch: 9, Train loss: 1.568, Val loss: 1.564, Epoch time = 74.397s\n",
      "Epoch: 10, Train loss: 1.479, Val loss: 1.531, Epoch time = 74.388s\n"
     ]
    }
   ],
   "source": [
    "\n",
    "for epoch in range(1, N_EPOCHS+1):\n",
    "    start_time = timer()\n",
    "    train_loss = train_epoch(model, optimizer, train_iterator)\n",
    "    end_time = timer()\n",
    "    val_loss = evaluate(model, valid_iterator)\n",
    "    print((f\"Epoch: {epoch}, Train loss: {train_loss:.3f}, Val loss: {val_loss:.3f}, \"f\"Epoch time = {(end_time - start_time):.3f}s\"))\n",
    "\n"
   ]
  },
  {
   "cell_type": "code",
   "execution_count": 65,
   "metadata": {
    "executionInfo": {
     "elapsed": 20,
     "status": "ok",
     "timestamp": 1655410313523,
     "user": {
      "displayName": "Шишкин Александр",
      "userId": "00721730077610513143"
     },
     "user_tz": -180
    },
    "id": "OKpBWczaeQLS"
   },
   "outputs": [],
   "source": [
    "\n",
    "# function to generate output sequence using greedy algorithm \n",
    "def greedy_decode(model, src, src_mask, max_len, start_symbol):\n",
    "    src = src.to(device)\n",
    "    src_mask = src_mask.to(device)\n",
    "\n",
    "    memory = model.encode(src, src_mask)\n",
    "    ys = torch.ones(1, 1).fill_(start_symbol).type(torch.long).to(device)\n",
    "    for i in range(max_len-1):\n",
    "        memory = memory.to(device)\n",
    "        tgt_mask = (generate_square_subsequent_mask(ys.size(0))\n",
    "                    .type(torch.bool)).to(device)\n",
    "        out = model.decode(ys, memory, tgt_mask)\n",
    "        out = out.transpose(0, 1)\n",
    "        prob = model.generator(out[:, -1])\n",
    "        _, next_word = torch.max(prob, dim=1)\n",
    "        next_word = next_word.item()\n",
    "\n",
    "        ys = torch.cat([ys,\n",
    "                        torch.ones(1, 1).type_as(src.data).fill_(next_word)], dim=0)\n",
    "        if next_word == EOS_IDX:\n",
    "            break\n",
    "    return ys\n"
   ]
  },
  {
   "cell_type": "code",
   "execution_count": 65,
   "metadata": {
    "executionInfo": {
     "elapsed": 20,
     "status": "ok",
     "timestamp": 1655410313524,
     "user": {
      "displayName": "Шишкин Александр",
      "userId": "00721730077610513143"
     },
     "user_tz": -180
    },
    "id": "iQFD54yyeQLS"
   },
   "outputs": [],
   "source": []
  },
  {
   "cell_type": "code",
   "execution_count": 66,
   "metadata": {
    "colab": {
     "base_uri": "https://localhost:8080/"
    },
    "executionInfo": {
     "elapsed": 19,
     "status": "ok",
     "timestamp": 1655410313524,
     "user": {
      "displayName": "Шишкин Александр",
      "userId": "00721730077610513143"
     },
     "user_tz": -180
    },
    "id": "xoMtQ0oHeQLS",
    "outputId": "c533ad28-5dcc-4915-9da6-4bd1c2528f99"
   },
   "outputs": [
    {
     "data": {
      "text/plain": [
       "(3, 2)"
      ]
     },
     "execution_count": 66,
     "metadata": {},
     "output_type": "execute_result"
    }
   ],
   "source": [
    "EOS_IDX = SRC.vocab.stoi[\"<eos>\"]\n",
    "BOS_IDX = SRC.vocab.stoi[\"<sos>\"]\n",
    "EOS_IDX, BOS_IDX"
   ]
  },
  {
   "cell_type": "code",
   "execution_count": 67,
   "metadata": {
    "executionInfo": {
     "elapsed": 17,
     "status": "ok",
     "timestamp": 1655410313524,
     "user": {
      "displayName": "Шишкин Александр",
      "userId": "00721730077610513143"
     },
     "user_tz": -180
    },
    "id": "V5HZx_PceQLS"
   },
   "outputs": [],
   "source": [
    "def get_text(x, TRG_vocab):\n",
    "    text = []\n",
    "    for token in x:\n",
    "        try:\n",
    "            text.append(TRG_vocab.itos[token])\n",
    "        except Exception as ex:\n",
    "            text.append('-')\n",
    "    try:\n",
    "        end_idx = text.index('<eos>')\n",
    "        text = text[:end_idx]\n",
    "    except ValueError:\n",
    "        pass\n",
    "    text = remove_tech_tokens(text)\n",
    "    if len(text) < 1:\n",
    "        text = []\n",
    "    return text"
   ]
  },
  {
   "cell_type": "code",
   "execution_count": 68,
   "metadata": {
    "executionInfo": {
     "elapsed": 18,
     "status": "ok",
     "timestamp": 1655410313525,
     "user": {
      "displayName": "Шишкин Александр",
      "userId": "00721730077610513143"
     },
     "user_tz": -180
    },
    "id": "vZiGxbfaeQLS"
   },
   "outputs": [],
   "source": [
    "# actual function to translate input sentence into target language\n",
    "def translate3(model: torch.nn.Module, src):\n",
    "    model.eval()\n",
    "    num_tokens = src.shape[0]\n",
    "    src_mask = (torch.zeros(num_tokens, num_tokens)).type(torch.bool)\n",
    "    tgt_tokens = greedy_decode(\n",
    "        model,  src, src_mask, max_len=num_tokens + 5, start_symbol=BOS_IDX).flatten()\n",
    "\n",
    "    res = get_text(tgt_tokens.cpu().numpy(), TRG.vocab)\n",
    "    res = [x for x in res if x not in [\"<sos>\", \"<eos>\"]]\n",
    "    return res"
   ]
  },
  {
   "cell_type": "code",
   "execution_count": 69,
   "metadata": {
    "colab": {
     "base_uri": "https://localhost:8080/"
    },
    "executionInfo": {
     "elapsed": 406921,
     "status": "ok",
     "timestamp": 1655410720428,
     "user": {
      "displayName": "Шишкин Александр",
      "userId": "00721730077610513143"
     },
     "user_tz": -180
    },
    "id": "ifGh2VcleQLS",
    "outputId": "0d700e9b-fd06-4b67-ff21-d389e8bf7dd5"
   },
   "outputs": [
    {
     "name": "stderr",
     "output_type": "stream",
     "text": [
      "59it [06:46,  6.90s/it]\n"
     ]
    }
   ],
   "source": [
    "original_text_trns = []\n",
    "generated_text_trns = []\n",
    "\n",
    "model.eval()\n",
    "with torch.no_grad():\n",
    "\n",
    "    for i, batch in tqdm.tqdm(enumerate(test_iterator)):\n",
    "        \n",
    "        src = batch.src\n",
    "        tgt = batch.trg\n",
    "        \n",
    "        src = src.to(device)\n",
    "        tgt = tgt.to(device)\n",
    "\n",
    "        #tgt_input = tgt[:-1, :]\n",
    "\n",
    "        #src_mask, tgt_mask, src_padding_mask, tgt_padding_mask = create_mask(src, tgt_input)\n",
    "\n",
    "        #logits = transformer(src, tgt_input, src_mask, tgt_mask,src_padding_mask, tgt_padding_mask, src_padding_mask)\n",
    "        \n",
    "        #print(logits.shape)\n",
    "        \n",
    "        #print(logits.reshape(-1, logits.shape[-1]).shape)\n",
    "        \n",
    "        \n",
    "        #tgt_out = tgt[1:, :]\n",
    "        #print(tgt_out.reshape(-1).shape)\n",
    "        \n",
    "        #print(loss_fn(logits.reshape(-1, logits.shape[-1]), tgt_out.reshape(-1)).item())\n",
    "        \n",
    "        original_text_trns.extend([get_text(x, TRG.vocab) for x in tgt.cpu().numpy().T])\n",
    "        \n",
    "        #print(tgt.shape)\n",
    "        original = [get_text(x, TRG.vocab) for x in tgt.cpu().numpy().T]\n",
    "        \n",
    "        for xx in src.cpu().numpy().T:\n",
    "            generated_text_trns.append(translate3(model, torch.tensor(xx).view(-1, 1)))\n",
    "        \n",
    "        #generated = [get_text(x, TRG.vocab) for x in tgt_tokens.cpu().numpy().T]\n",
    "        \n",
    "        \n",
    "        "
   ]
  },
  {
   "cell_type": "code",
   "execution_count": 72,
   "metadata": {
    "colab": {
     "base_uri": "https://localhost:8080/"
    },
    "executionInfo": {
     "elapsed": 1186,
     "status": "ok",
     "timestamp": 1655413647835,
     "user": {
      "displayName": "Шишкин Александр",
      "userId": "00721730077610513143"
     },
     "user_tz": -180
    },
    "id": "X1xfw2gYeQLT",
    "outputId": "6585aad0-3fb1-47be-ad2c-3997caebdd62"
   },
   "outputs": [
    {
     "data": {
      "text/plain": [
       "31.03990911840395"
      ]
     },
     "execution_count": 72,
     "metadata": {},
     "output_type": "execute_result"
    }
   ],
   "source": [
    "score_trns = corpus_bleu([[text] for text in original_text_trns], generated_text_trns) * 100\n",
    "score_trns"
   ]
  },
  {
   "cell_type": "markdown",
   "metadata": {
    "id": "EJ-bXJmkeQLT"
   },
   "source": [
    "При использовании модели трансформера качество увеличилось, метрика BLEU выросла до 31"
   ]
  },
  {
   "cell_type": "code",
   "execution_count": 70,
   "metadata": {
    "executionInfo": {
     "elapsed": 10,
     "status": "ok",
     "timestamp": 1655410721690,
     "user": {
      "displayName": "Шишкин Александр",
      "userId": "00721730077610513143"
     },
     "user_tz": -180
    },
    "id": "kS2MSAm0eQLT"
   },
   "outputs": [],
   "source": []
  },
  {
   "cell_type": "code",
   "execution_count": 70,
   "metadata": {
    "executionInfo": {
     "elapsed": 9,
     "status": "ok",
     "timestamp": 1655410721690,
     "user": {
      "displayName": "Шишкин Александр",
      "userId": "00721730077610513143"
     },
     "user_tz": -180
    },
    "id": "gPjAmLQcsImH"
   },
   "outputs": [],
   "source": []
  },
  {
   "cell_type": "code",
   "execution_count": 70,
   "metadata": {
    "executionInfo": {
     "elapsed": 10,
     "status": "ok",
     "timestamp": 1655410721691,
     "user": {
      "displayName": "Шишкин Александр",
      "userId": "00721730077610513143"
     },
     "user_tz": -180
    },
    "id": "D9JWiIubsImH"
   },
   "outputs": [],
   "source": []
  },
  {
   "cell_type": "code",
   "execution_count": 80,
   "metadata": {
    "colab": {
     "base_uri": "https://localhost:8080/"
    },
    "executionInfo": {
     "elapsed": 257,
     "status": "ok",
     "timestamp": 1655414228988,
     "user": {
      "displayName": "Шишкин Александр",
      "userId": "00721730077610513143"
     },
     "user_tz": -180
    },
    "id": "UkXID20csImH",
    "outputId": "59219e04-970f-4d1e-fe9e-accc40157e18"
   },
   "outputs": [
    {
     "name": "stdout",
     "output_type": "stream",
     "text": [
      "model: baseline score: 13.63\n",
      "the property offers free parking .->\n",
      "free private parking is available on site .\n",
      "\n",
      "model: baseline 2 score: 19.03\n",
      "the property offers free parking .->\n",
      "free parking is available on site .\n",
      "\n",
      "model: attention score: 31.04\n",
      "the property offers free parking .->\n",
      "free wifi access is available .\n",
      "\n",
      "model: transformer score: 31.04\n",
      "the property offers free parking .->\n",
      "the property offers free parking .\n",
      "\n",
      "\n",
      "\n",
      "\n",
      "model: baseline score: 13.63\n",
      "there is a 24 - hour front desk at the property .->\n",
      "there is a 24 - hour front desk and a shared lounge .\n",
      "\n",
      "model: baseline 2 score: 19.03\n",
      "there is a 24 - hour front desk at the property .->\n",
      "there is a 24 - hour front desk at the property .\n",
      "\n",
      "model: attention score: 31.04\n",
      "there is a 24 - hour front desk at the property .->\n",
      "a 24 - hour front desk .\n",
      "\n",
      "model: transformer score: 31.04\n",
      "there is a 24 - hour front desk at the property .->\n",
      "there is a 24 - hour front desk at the property .\n",
      "\n",
      "\n",
      "\n",
      "\n",
      "model: baseline score: 13.63\n",
      "parking is available free of charge on site .->\n",
      "free private parking is available on site .\n",
      "\n",
      "model: baseline 2 score: 19.03\n",
      "parking is available free of charge on site .->\n",
      "free private parking is available on site .\n",
      "\n",
      "model: attention score: 31.04\n",
      "parking is available free of charge on site .->\n",
      "free wifi access is available .\n",
      "\n",
      "model: transformer score: 31.04\n",
      "parking is available free of charge on site .->\n",
      "free parking is available on site .\n",
      "\n",
      "\n",
      "\n",
      "\n",
      "model: baseline score: 13.63\n",
      "private bathroom also comes with a shower .->\n",
      "private bathroom also comes with a shower .\n",
      "\n",
      "model: baseline 2 score: 19.03\n",
      "private bathroom also comes with a shower .->\n",
      "there is a private bathroom with a shower .\n",
      "\n",
      "model: attention score: 31.04\n",
      "private bathroom also comes with a shower .->\n",
      "the private bathroom comes with a shower .\n",
      "\n",
      "model: transformer score: 31.04\n",
      "private bathroom also comes with a shower .->\n",
      "the private bathroom comes with a shower .\n",
      "\n",
      "\n",
      "\n",
      "\n",
      "model: baseline score: 13.63\n",
      "the facilities include a garden and a bbq .->\n",
      "you will find a garden and a terrace .\n",
      "\n",
      "model: baseline 2 score: 19.03\n",
      "the facilities include a garden and a bbq .->\n",
      "a garden with barbecue facilities and a terrace .\n",
      "\n",
      "model: attention score: 31.04\n",
      "the facilities include a garden and a bbq .->\n",
      "a garden and a terrace .\n",
      "\n",
      "model: transformer score: 31.04\n",
      "the facilities include a garden and a bbq .->\n",
      "the garden and barbecue facilities are available .\n",
      "\n",
      "\n",
      "\n",
      "\n",
      "model: baseline score: 13.63\n",
      "the bathroom is fitted with a bath and a shower .->\n",
      "the bathroom comes with a bath or shower .\n",
      "\n",
      "model: baseline 2 score: 19.03\n",
      "the bathroom is fitted with a bath and a shower .->\n",
      "the bathroom comes with a bath or shower .\n",
      "\n",
      "model: attention score: 31.04\n",
      "the bathroom is fitted with a bath and a shower .->\n",
      "the bathroom comes with a shower .\n",
      "\n",
      "model: transformer score: 31.04\n",
      "the bathroom is fitted with a bath and a shower .->\n",
      "the bathroom comes with a bathtub and shower and shower .\n",
      "\n",
      "\n",
      "\n",
      "\n",
      "model: baseline score: 13.63\n",
      "there is a dining area and a kitchen .->\n",
      "there is a a kitchen with a and a .\n",
      "\n",
      "model: baseline 2 score: 19.03\n",
      "there is a dining area and a kitchen .->\n",
      "there is a dining area and a kitchen equipped with a dishwasher .\n",
      "\n",
      "model: attention score: 31.04\n",
      "there is a dining area and a kitchen .->\n",
      "there is a dining area and a kitchen .\n",
      "\n",
      "model: transformer score: 31.04\n",
      "there is a dining area and a kitchen .->\n",
      "there is a dining area and a kitchen .\n",
      "\n",
      "\n",
      "\n",
      "\n",
      "model: baseline score: 13.63\n",
      "at guests will find a garden .->\n",
      "at include a terrace .\n",
      "\n",
      "model: baseline 2 score: 19.03\n",
      "at guests will find a garden .->\n",
      "a garden with a terrace .\n",
      "\n",
      "model: attention score: 31.04\n",
      "at guests will find a garden .->\n",
      "is a a terrace .\n",
      "\n",
      "model: transformer score: 31.04\n",
      "at guests will find a garden .->\n",
      "at you will find a garden .\n",
      "\n",
      "\n",
      "\n",
      "\n",
      "model: baseline score: 13.63\n",
      "guests are free to use the outdoor barbecue in warm weather .->\n",
      "guests can enjoy a drink in the garden or the the terrace .\n",
      "\n",
      "model: baseline 2 score: 19.03\n",
      "guests are free to use the outdoor barbecue in warm weather .->\n",
      "guests can enjoy a barbecue in the garden .\n",
      "\n",
      "model: attention score: 31.04\n",
      "guests are free to use the outdoor barbecue in warm weather .->\n",
      "the can enjoy a drink at the bar .\n",
      "\n",
      "model: transformer score: 31.04\n",
      "guests are free to use the outdoor barbecue in warm weather .->\n",
      "outdoor fresco outdoor outdoor outdoor outdoor are available in warmer weather .\n",
      "\n",
      "\n",
      "\n",
      "\n",
      "model: baseline score: 13.63\n",
      "the nearest airport is malpensa airport , 84 km from the villa victoria .->\n",
      "free private parking is available on site .\n",
      "\n",
      "model: baseline 2 score: 19.03\n",
      "the nearest airport is malpensa airport , 84 km from the villa victoria .->\n",
      "the nearest airport is 15 minutes away .\n",
      "\n",
      "model: attention score: 31.04\n",
      "the nearest airport is malpensa airport , 84 km from the villa victoria .->\n",
      "the nearest airport is is km away .\n",
      "\n",
      "model: transformer score: 31.04\n",
      "the nearest airport is malpensa airport , 84 km from the villa victoria .->\n",
      "the nearest airport is milan linate airport , 79 km from the property .\n",
      "\n",
      "\n",
      "\n",
      "\n",
      "model: baseline score: 13.63\n",
      "local and western dishes are prepared at the resort ’ s restaurant .->\n",
      "the restaurant serves a cuisine and and and and .\n",
      "\n",
      "model: baseline 2 score: 19.03\n",
      "local and western dishes are prepared at the resort ’ s restaurant .->\n",
      "the restaurant serves local dishes and local dishes .\n",
      "\n",
      "model: attention score: 31.04\n",
      "local and western dishes are prepared at the resort ’ s restaurant .->\n",
      "the restaurant serves a and international cuisine .\n",
      "\n",
      "model: transformer score: 31.04\n",
      "local and western dishes are prepared at the resort ’ s restaurant .->\n",
      "the resort ’ s restaurant serves local and western dishes .\n",
      "\n",
      "\n",
      "\n",
      "\n",
      "model: baseline score: 13.63\n",
      "all rooms are equipped with a flat - screen tv including freeview channels .->\n",
      "each room comes with a flat - screen tv . there is a private bathroom with a hairdryer .\n",
      "\n",
      "model: baseline 2 score: 19.03\n",
      "all rooms are equipped with a flat - screen tv including freeview channels .->\n",
      "all rooms include a flat - screen tv with satellite channels and free wi - fi .\n",
      "\n",
      "model: attention score: 31.04\n",
      "all rooms are equipped with a flat - screen tv including freeview channels .->\n",
      "all rooms are equipped with a flat - screen tv .\n",
      "\n",
      "model: transformer score: 31.04\n",
      "all rooms are equipped with a flat - screen tv including freeview channels .->\n",
      "all rooms include a flat - screen tv and free free newspaper .\n",
      "\n",
      "\n",
      "\n",
      "\n",
      "model: baseline score: 13.63\n",
      "it offers a restaurant and accommodation with free wi - fi .->\n",
      "it features a restaurant , a restaurant and free wi - fi .\n",
      "\n",
      "model: baseline 2 score: 19.03\n",
      "it offers a restaurant and accommodation with free wi - fi .->\n",
      "it offers a restaurant , free wi - fi and free wi - fi .\n",
      "\n",
      "model: attention score: 31.04\n",
      "it offers a restaurant and accommodation with free wi - fi .->\n",
      "it features a outdoor pool and free wifi .\n",
      "\n",
      "model: transformer score: 31.04\n",
      "it offers a restaurant and accommodation with free wi - fi .->\n",
      "it offers a restaurant and rooms with free wi - fi .\n",
      "\n",
      "\n",
      "\n",
      "\n",
      "model: baseline score: 13.63\n",
      "all units feature a kitchen and a bathroom with shower and a washing machine .->\n",
      "each unit comes with a private bathroom with a shower , hairdryer and hairdryer .\n",
      "\n",
      "model: baseline 2 score: 19.03\n",
      "all units feature a kitchen and a bathroom with shower and a washing machine .->\n",
      "all apartments come with a fully equipped kitchen , a washing machine and a bathroom with a shower .\n",
      "\n",
      "model: attention score: 31.04\n",
      "all units feature a kitchen and a bathroom with shower and a washing machine .->\n",
      "all units are a with a private bathroom with a shower .\n",
      "\n",
      "model: transformer score: 31.04\n",
      "all units feature a kitchen and a bathroom with shower and a washing machine .->\n",
      "all apartments feature a kitchen kitchen and a bathroom with a shower and washing machine .\n",
      "\n",
      "\n",
      "\n",
      "\n",
      "model: baseline score: 13.63\n",
      "guests also enjoy a shop , restaurant and bar can be found just 30 metres away .->\n",
      "a restaurant , a restaurant and a restaurant , and a restaurant is within a metres .\n",
      "\n",
      "model: baseline 2 score: 19.03\n",
      "guests also enjoy a shop , restaurant and bar can be found just 30 metres away .->\n",
      "a restaurant , a restaurant and a restaurant can be found within a distance .\n",
      "\n",
      "model: attention score: 31.04\n",
      "guests also enjoy a shop , restaurant and bar can be found just 30 metres away .->\n",
      "a a - minute walk from the and a a restaurant .\n",
      "\n",
      "model: transformer score: 31.04\n",
      "guests also enjoy a shop , restaurant and bar can be found just 30 metres away .->\n",
      "a restaurant , a restaurant and a bar are only 30 metres away .\n",
      "\n",
      "\n",
      "\n",
      "\n",
      "model: baseline score: 13.63\n",
      "a 10 - minute drive from gold coast water park , da hotel offers massage treatments and sauna facilities .->\n",
      "is is a 10 - minute drive from .\n",
      "\n",
      "model: baseline 2 score: 19.03\n",
      "a 10 - minute drive from gold coast water park , da hotel offers massage treatments and sauna facilities .->\n",
      "is a 10 - minute drive from .\n",
      "\n",
      "model: attention score: 31.04\n",
      "a 10 - minute drive from gold coast water park , da hotel offers massage treatments and sauna facilities .->\n",
      "is a 10 - minute drive from .\n",
      "\n",
      "model: transformer score: 31.04\n",
      "a 10 - minute drive from gold coast water park , da hotel offers massage treatments and sauna facilities .->\n",
      "senhora da is a 10 - minute drive from the coast .\n",
      "\n",
      "\n",
      "\n",
      "\n",
      "model: baseline score: 13.63\n",
      "it provides a basketball court , 24 - hour front desk and free wifi .->\n",
      "it features a 24 - hour front desk , a 24 - hour front desk and free parking .\n",
      "\n",
      "model: baseline 2 score: 19.03\n",
      "it provides a basketball court , 24 - hour front desk and free wifi .->\n",
      "the property has a 24 - hour front desk , a garden and free wi - fi .\n",
      "\n",
      "model: attention score: 31.04\n",
      "it provides a basketball court , 24 - hour front desk and free wifi .->\n",
      "it features a 24 - hour front desk , free wifi access and free wifi .\n",
      "\n",
      "model: transformer score: 31.04\n",
      "it provides a basketball court , 24 - hour front desk and free wifi .->\n",
      "it offers a basketball court , a 24 - hour front desk and free wi - fi .\n",
      "\n",
      "\n",
      "\n",
      "\n",
      "model: baseline score: 13.63\n",
      "rooms here will provide you with a flat - screen tv with cable channels and air conditioning . there is also an electric kettle .->\n",
      "the rooms - conditioned rooms come with a flat - screen tv , a minibar and a minibar .\n",
      "\n",
      "model: baseline 2 score: 19.03\n",
      "rooms here will provide you with a flat - screen tv with cable channels and air conditioning . there is also an electric kettle .->\n",
      "air - conditioned rooms include a flat - screen cable tv , a minibar and a desk .\n",
      "\n",
      "model: attention score: 31.04\n",
      "rooms here will provide you with a flat - screen tv with cable channels and air conditioning . there is also an electric kettle .->\n",
      "the air - conditioned rooms feature a flat - screen tv with cable channels .\n",
      "\n",
      "model: transformer score: 31.04\n",
      "rooms here will provide you with a flat - screen tv with cable channels and air conditioning . there is also an electric kettle .->\n",
      "the rooms are equipped with an electric kettle , air conditioning and a flat - screen tv with cable channels .\n",
      "\n",
      "\n",
      "\n",
      "\n",
      "model: baseline score: 13.63\n",
      "lake is 7 km from apartment , while hannover fair is 7 km away .->\n",
      ", is 1 . 5 km away .\n",
      "\n",
      "model: baseline 2 score: 19.03\n",
      "lake is 7 km from apartment , while hannover fair is 7 km away .->\n",
      "are both within 6 km .\n",
      "\n",
      "model: attention score: 31.04\n",
      "lake is 7 km from apartment , while hannover fair is 7 km away .->\n",
      "the of is is is 1 . 5 km away .\n",
      "\n",
      "model: transformer score: 31.04\n",
      "lake is 7 km from apartment , while hannover fair is 7 km away .->\n",
      "lake are within a distance of are within a distance of 7 km .\n",
      "\n",
      "\n",
      "\n",
      "\n",
      "model: baseline score: 13.63\n",
      "the surrounding area offers a variety of national portuguese and international cafés , restaurants and bars .->\n",
      "the hotel also offers a variety of local and international cuisine , as well as a selection of local and .\n",
      "\n",
      "model: baseline 2 score: 19.03\n",
      "the surrounding area offers a variety of national portuguese and international cafés , restaurants and bars .->\n",
      "the is also a variety of restaurants , bars and bars serving local cuisine and international cuisine .\n",
      "\n",
      "model: attention score: 31.04\n",
      "the surrounding area offers a variety of national portuguese and international cafés , restaurants and bars .->\n",
      "guests can enjoy a variety of local and and and and a variety of restaurants and restaurants .\n",
      "\n",
      "model: transformer score: 31.04\n",
      "the surrounding area offers a variety of national portuguese and international cafés , restaurants and bars .->\n",
      "guests can taste a wide range of restaurants and bars and bars and bars in the surrounding area .\n",
      "\n",
      "\n",
      "\n",
      "\n",
      "model: baseline score: 13.63\n",
      "village enjoys an location almost halfway between the city of chania and the resorts of agia marina and platanias .->\n",
      "is located in , , , , and the .\n",
      "\n",
      "model: baseline 2 score: 19.03\n",
      "village enjoys an location almost halfway between the city of chania and the resorts of agia marina and platanias .->\n",
      "hotel is a in the of , the the of the .\n",
      "\n",
      "model: attention score: 31.04\n",
      "village enjoys an location almost halfway between the city of chania and the resorts of agia marina and platanias .->\n",
      "this hotel is located in the of , .\n",
      "\n",
      "model: transformer score: 31.04\n",
      "village enjoys an location almost halfway between the city of chania and the resorts of agia marina and platanias .->\n",
      "village is is between the exclusive and and between the harbour and marina marina and marina .\n",
      "\n",
      "\n",
      "\n",
      "\n",
      "model: baseline score: 13.63\n",
      "featuring free wifi access , a complimentary breakfast and an outdoor pool blue point offers accommodations located in .->\n",
      "offering a restaurant , a restaurant , free wi - fi , a restaurant , and a restaurant .\n",
      "\n",
      "model: baseline 2 score: 19.03\n",
      "featuring free wifi access , a complimentary breakfast and an outdoor pool blue point offers accommodations located in .->\n",
      "offering a restaurant , free wi - fi , a restaurant , a restaurant , rooms with free wi - fi .\n",
      "\n",
      "model: attention score: 31.04\n",
      "featuring free wifi access , a complimentary breakfast and an outdoor pool blue point offers accommodations located in .->\n",
      "featuring a outdoor pool , a restaurant , a restaurant , free wifi access is available in the .\n",
      "\n",
      "model: transformer score: 31.04\n",
      "featuring free wifi access , a complimentary breakfast and an outdoor pool blue point offers accommodations located in .->\n",
      "located in district , this hotel point offers free wi - fi , free wi - fi and an outdoor swimming pool .\n",
      "\n",
      "\n",
      "\n",
      "\n",
      "model: baseline score: 13.63\n",
      "an array of activities can be enjoyed on site or in the surroundings , including canoeing .->\n",
      "an array of activities can be enjoyed on site or in the surroundings , including cycling .\n",
      "\n",
      "model: baseline 2 score: 19.03\n",
      "an array of activities can be enjoyed on site or in the surroundings , including canoeing .->\n",
      "guests can enjoy in the surrounding area , enjoy a game of activities in the surrounding area .\n",
      "\n",
      "model: attention score: 31.04\n",
      "an array of activities can be enjoyed on site or in the surroundings , including canoeing .->\n",
      "guests can enjoy a the in the the area , including fishing and hiking .\n",
      "\n",
      "model: transformer score: 31.04\n",
      "an array of activities can be enjoyed on site or in the surroundings , including canoeing .->\n",
      "an array of activities can be enjoyed on site or in the surroundings , including canoeing .\n",
      "\n",
      "\n",
      "\n",
      "\n",
      "model: baseline score: 13.63\n",
      "this family - run guest house in the centre of is only about 500 metres from the train station .->\n",
      "this in the heart of , just metres from the and the metres from the .\n",
      "\n",
      "model: baseline 2 score: 19.03\n",
      "this family - run guest house in the centre of is only about 500 metres from the train station .->\n",
      "this in the , this , this hotel is just metres from from the main train station and the metres from the\n",
      "\n",
      "model: attention score: 31.04\n",
      "this family - run guest house in the centre of is only about 500 metres from the train station .->\n",
      "set in the of , , this hotel is just a metres from the .\n",
      "\n",
      "model: transformer score: 31.04\n",
      "this family - run guest house in the centre of is only about 500 metres from the train station .->\n",
      "this family - run guest house is located in the centre of , just 500 metres from the train station .\n",
      "\n",
      "\n",
      "\n",
      "\n",
      "model: baseline score: 13.63\n",
      "it offers a terrace with sea views , guestrooms with a balcony and free wifi throughout the premises .->\n",
      "it features a garden with a views , a terrace and free wi - fi and free wi - fi .\n",
      "\n",
      "model: baseline 2 score: 19.03\n",
      "it offers a terrace with sea views , guestrooms with a balcony and free wifi throughout the premises .->\n",
      "it features a garden with a terrace and views of the sea , and free wi - fi is available throughout .\n",
      "\n",
      "model: attention score: 31.04\n",
      "it offers a terrace with sea views , guestrooms with a balcony and free wifi throughout the premises .->\n",
      "it offers a - with a balcony and a terrace with free wi - fi .\n",
      "\n",
      "model: transformer score: 31.04\n",
      "it offers a terrace with sea views , guestrooms with a balcony and free wifi throughout the premises .->\n",
      "it offers a terrace with views of the sea , and free balcony with free wi - fi throughout .\n",
      "\n",
      "\n",
      "\n",
      "\n",
      "model: baseline score: 13.63\n",
      "it is adjacent to several supermarkets , medical centers and . lagoon and ' s central are within walking distance .->\n",
      "the , , the , the , and the , and a 10 - minute walk away .\n",
      "\n",
      "model: baseline 2 score: 19.03\n",
      "it is adjacent to several supermarkets , medical centers and . lagoon and ' s central are within walking distance .->\n",
      "local restaurants and restaurants and shops can be found within walking distance of the .\n",
      "\n",
      "model: attention score: 31.04\n",
      "it is adjacent to several supermarkets , medical centers and . lagoon and ' s central are within walking distance .->\n",
      "the , and the and the and the , and a 10 - minute walk away .\n",
      "\n",
      "model: transformer score: 31.04\n",
      "it is adjacent to several supermarkets , medical centers and . lagoon and ' s central are within walking distance .->\n",
      "local attractions include a local and shopping and , and a short walk from and market .\n",
      "\n",
      "\n",
      "\n",
      "\n",
      "model: baseline score: 13.63\n",
      "las beach is 3 . 1 km from surf apartment , while los beach is 5 km away .->\n",
      "the is 1 . 5 km from , while is 1 . 2 km away .\n",
      "\n",
      "model: baseline 2 score: 19.03\n",
      "las beach is 3 . 1 km from surf apartment , while los beach is 5 km away .->\n",
      "is is . . 3 km from , while beach is 3 . 3 km away .\n",
      "\n",
      "model: attention score: 31.04\n",
      "las beach is 3 . 1 km from surf apartment , while los beach is 5 km away .->\n",
      "the is is 1 . 5 km from the , while is is 1 . 1 km away .\n",
      "\n",
      "model: transformer score: 31.04\n",
      "las beach is 3 . 1 km from surf apartment , while los beach is 5 km away .->\n",
      "las beach is 3 . 1 km from surf surf , while los beach is 5 km away .\n",
      "\n",
      "\n",
      "\n",
      "\n",
      "model: baseline score: 13.63\n",
      "this card offers many free benefits and discounts , including free use of local cable cars for 1 day and buses .->\n",
      "the free free free public parking , free public parking and a , and and the .\n",
      "\n",
      "model: baseline 2 score: 19.03\n",
      "this card offers many free benefits and discounts , including free use of local cable cars for 1 day and buses .->\n",
      "the , the , the , the , the , the , the , free entry to all of the and free of the .\n",
      "\n",
      "model: attention score: 31.04\n",
      "this card offers many free benefits and discounts , including free use of local cable cars for 1 day and buses .->\n",
      "the hotel offers free entry to the , , , , free free access to the , and .\n",
      "\n",
      "model: transformer score: 31.04\n",
      "this card offers many free benefits and discounts , including free use of local cable cars for 1 day and buses .->\n",
      "guests can enjoy many discounts on the many discounts , free free free free free free free free free local free local calls and the local buses to the local attractions .\n",
      "\n",
      "\n",
      "\n",
      "\n",
      "model: baseline score: 13.63\n",
      "en el lago ’ s tour desk can help arrange activities like boat rides on the lake , or guests can visit the neighbouring magical village of , a 1 - hour drive away .->\n",
      ", , , , , , and and and .\n",
      "\n",
      "model: baseline 2 score: 19.03\n",
      "en el lago ’ s tour desk can help arrange activities like boat rides on the lake , or guests can visit the neighbouring magical village of , a 1 - hour drive away .->\n",
      "the hotel hotel offers a 24 - hour reception desk which helps arrange tours to the and , and .\n",
      "\n",
      "model: attention score: 31.04\n",
      "en el lago ’ s tour desk can help arrange activities like boat rides on the lake , or guests can visit the neighbouring magical village of , a 1 - hour drive away .->\n",
      "guests can enjoy a to the to the , the - minute drive away , and a - minute drive away .\n",
      "\n",
      "model: transformer score: 31.04\n",
      "en el lago ’ s tour desk can help arrange activities like boat rides on the lake , or guests can visit the neighbouring magical village of , a 1 - hour drive away .->\n",
      "guests can the at the - run hotel can enjoy the lake and , , , 1 1 hour by car .\n",
      "\n",
      "\n",
      "\n",
      "\n",
      "model: baseline score: 13.63\n",
      "situated in prague ’ s district just one block from subway station , casa italia offers self - catering apartments with individual décor and free wifi .->\n",
      "located in the , of , offers self - catering accommodation with free wifi . the property is 500 metres from the station .\n",
      "\n",
      "model: baseline 2 score: 19.03\n",
      "situated in prague ’ s district just one block from subway station , casa italia offers self - catering apartments with individual décor and free wifi .->\n",
      "located in the centre of , just a metres from the , offers a - style accommodation with free wifi .\n",
      "\n",
      "model: attention score: 31.04\n",
      "situated in prague ’ s district just one block from subway station , casa italia offers self - catering apartments with individual décor and free wifi .->\n",
      "located in metres from the beach in , metres from the of , this apartment features a balcony and free wifi .\n",
      "\n",
      "model: transformer score: 31.04\n",
      "situated in prague ’ s district just one block from subway station , casa italia offers self - catering apartments with individual décor and free wifi .->\n",
      "located in district of , just 1 block from valdivia metro station , casa offers self - style accommodation with free wi - fi .\n",
      "\n",
      "\n",
      "\n",
      "\n"
     ]
    }
   ],
   "source": [
    "models = ['baseline', 'baseline 2', 'attention', 'transformer']\n",
    "scores = [score_baseline, score_1, score_att, score_trns]\n",
    "original = [original_text_baseline, original_text_1, original_text_2, original_text_att, original_text_trns]\n",
    "generated = [generated_text_baseline, generated_text_1, generated_text_2, generated_text_att, generated_text_trns]\n",
    "\n",
    "for i in range(0, 7500, 250):\n",
    "    for score, model_name, orig, gen in zip(scores, models, original, generated):\n",
    "        print('model:', model_name, 'score:', round(score, 2))    \n",
    "        print(' '.join(orig[i]), '->\\n', ' '.join(gen[i]), '\\n', sep='')\n",
    "    print('\\n\\n')"
   ]
  },
  {
   "cell_type": "markdown",
   "metadata": {
    "id": "XdDBGt2LZSJX"
   },
   "source": [
    "Метрики моделей с вниманием и с трансформерами совпадают, но кажется что перевод модели с трансформером более качественный, это особенно заметно на длинных предложениях"
   ]
  }
 ],
 "metadata": {
  "accelerator": "GPU",
  "anaconda-cloud": {},
  "colab": {
   "collapsed_sections": [],
   "machine_shape": "hm",
   "name": "lab02_Neural_Machine_Translation.ipynb",
   "provenance": []
  },
  "gpuClass": "standard",
  "kernelspec": {
   "display_name": "Python 3 (ipykernel)",
   "language": "python",
   "name": "python3"
  },
  "language_info": {
   "codemirror_mode": {
    "name": "ipython",
    "version": 3
   },
   "file_extension": ".py",
   "mimetype": "text/x-python",
   "name": "python",
   "nbconvert_exporter": "python",
   "pygments_lexer": "ipython3",
   "version": "3.9.7"
  }
 },
 "nbformat": 4,
 "nbformat_minor": 1
}
