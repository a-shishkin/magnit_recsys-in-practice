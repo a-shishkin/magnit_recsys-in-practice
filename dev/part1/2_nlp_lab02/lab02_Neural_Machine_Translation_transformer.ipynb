{
 "cells": [
  {
   "cell_type": "markdown",
   "metadata": {
    "id": "v_vCu0F1eQK5"
   },
   "source": [
    "## Lab assignment 02"
   ]
  },
  {
   "cell_type": "markdown",
   "metadata": {
    "id": "VP3DRsCNeQK9"
   },
   "source": [
    "### Neural Machine Translation in the wild\n",
    "In the third homework you are supposed to get the best translation you can for the EN-RU translation task.\n",
    "\n",
    "Basic approach using RNNs as encoder and decoder is implemented for you. \n",
    "\n",
    "Your ultimate task is to use the techniques we've covered, e.g.\n",
    "\n",
    "* Optimization enhancements (e.g. learning rate decay)\n",
    "\n",
    "* CNN encoder (with or without positional encoding)\n",
    "\n",
    "* attention/self-attention mechanism\n",
    "\n",
    "* pretraining the language model\n",
    "\n",
    "* [Byte Pair Encoding](https://github.com/rsennrich/subword-nmt)\n",
    "\n",
    "* or just fine-tunning BERT ;)\n",
    "\n",
    "to improve the translation quality. \n",
    "\n",
    "__Please use at least three different approaches/models and compare them (translation quality/complexity/training and evaluation time).__\n",
    "\n",
    "Write down some summary on your experiments and illustrate it with convergence plots/metrics and your thoughts. Just like you would approach a real problem."
   ]
  },
  {
   "cell_type": "code",
   "execution_count": 1,
   "metadata": {
    "executionInfo": {
     "elapsed": 259,
     "status": "ok",
     "timestamp": 1655403579150,
     "user": {
      "displayName": "Шишкин Александр",
      "userId": "00721730077610513143"
     },
     "user_tz": -180
    },
    "id": "SgdsdAogsarZ"
   },
   "outputs": [],
   "source": [
    "#!pip install -U torch==1.10 torchtext torchvision"
   ]
  },
  {
   "cell_type": "code",
   "execution_count": 2,
   "metadata": {},
   "outputs": [],
   "source": [
    "from tqdm.notebook import tqdm"
   ]
  },
  {
   "cell_type": "code",
   "execution_count": 3,
   "metadata": {},
   "outputs": [],
   "source": [
    "import pandas as pd\n",
    "from torch.utils.data import DataLoader\n",
    "from sklearn.model_selection import train_test_split"
   ]
  },
  {
   "cell_type": "code",
   "execution_count": 4,
   "metadata": {
    "colab": {
     "base_uri": "https://localhost:8080/",
     "height": 36
    },
    "executionInfo": {
     "elapsed": 8,
     "status": "ok",
     "timestamp": 1655403579966,
     "user": {
      "displayName": "Шишкин Александр",
      "userId": "00721730077610513143"
     },
     "user_tz": -180
    },
    "id": "5Nyz5qMPtN6U",
    "outputId": "6b7dee2b-e5e3-4f9d-f68a-237041b358d9"
   },
   "outputs": [
    {
     "data": {
      "text/plain": [
       "'1.11.0+cu113'"
      ]
     },
     "execution_count": 4,
     "metadata": {},
     "output_type": "execute_result"
    }
   ],
   "source": [
    "import torch\n",
    "torch.__version__"
   ]
  },
  {
   "cell_type": "code",
   "execution_count": 5,
   "metadata": {
    "executionInfo": {
     "elapsed": 7,
     "status": "ok",
     "timestamp": 1655403579966,
     "user": {
      "displayName": "Шишкин Александр",
      "userId": "00721730077610513143"
     },
     "user_tz": -180
    },
    "id": "JjYXB0geeQK-"
   },
   "outputs": [],
   "source": [
    "# You might need to install the libraries below. Do it in the desired environment\n",
    "# if you are working locally.\n",
    "\n",
    "#! pip  install subword-nmt\n",
    "#! pip install nltk\n",
    "#! pip install torchtext"
   ]
  },
  {
   "cell_type": "code",
   "execution_count": null,
   "metadata": {
    "executionInfo": {
     "elapsed": 6,
     "status": "ok",
     "timestamp": 1655403579966,
     "user": {
      "displayName": "Шишкин Александр",
      "userId": "00721730077610513143"
     },
     "user_tz": -180
    },
    "id": "7YI_S1gkeQK_"
   },
   "outputs": [],
   "source": []
  },
  {
   "cell_type": "code",
   "execution_count": null,
   "metadata": {
    "colab": {
     "base_uri": "https://localhost:8080/"
    },
    "executionInfo": {
     "elapsed": 7,
     "status": "ok",
     "timestamp": 1655403579967,
     "user": {
      "displayName": "Шишкин Александр",
      "userId": "00721730077610513143"
     },
     "user_tz": -180
    },
    "id": "6sjZOM8TsTho",
    "outputId": "391b0bcf-e47e-42f8-8364-f90d50ca4433"
   },
   "outputs": [],
   "source": []
  },
  {
   "cell_type": "code",
   "execution_count": 6,
   "metadata": {},
   "outputs": [],
   "source": [
    "import torch\n",
    "import torch.nn as nn\n",
    "import torch.optim as optim\n",
    "\n",
    "#import torchtext\n",
    "#from torchtext.datasets import TranslationDataset, Multi30k\n",
    "#from torchtext.data import Field, BucketIterator\n",
    "#from torchtext.datasets import TranslationDataset, Multi30k\n",
    "#from torchtext.data import Field, BucketIterator\n",
    "\n",
    "#import spacy\n",
    "\n",
    "import random\n",
    "import math\n",
    "import time\n",
    "\n",
    "import matplotlib\n",
    "matplotlib.rcParams.update({'figure.figsize': (16, 12), 'font.size': 14})\n",
    "import matplotlib.pyplot as plt\n",
    "%matplotlib inline\n",
    "from IPython.display import clear_output\n",
    "\n",
    "#from nltk.tokenize import WordPunctTokenizer\n",
    "#from subword_nmt.learn_bpe import learn_bpe\n",
    "#from subword_nmt.apply_bpe import BPE\n"
   ]
  },
  {
   "cell_type": "code",
   "execution_count": null,
   "metadata": {
    "executionInfo": {
     "elapsed": 4,
     "status": "ok",
     "timestamp": 1655403579967,
     "user": {
      "displayName": "Шишкин Александр",
      "userId": "00721730077610513143"
     },
     "user_tz": -180
    },
    "id": "dIazHc5deQLA"
   },
   "outputs": [],
   "source": []
  },
  {
   "cell_type": "code",
   "execution_count": 7,
   "metadata": {
    "executionInfo": {
     "elapsed": 4,
     "status": "ok",
     "timestamp": 1655403579967,
     "user": {
      "displayName": "Шишкин Александр",
      "userId": "00721730077610513143"
     },
     "user_tz": -180
    },
    "id": "VTKPC2Z5eQLA"
   },
   "outputs": [],
   "source": [
    "#from nltk.translate.bleu_score import corpus_bleu\n"
   ]
  },
  {
   "cell_type": "code",
   "execution_count": 8,
   "metadata": {},
   "outputs": [],
   "source": [
    "import numpy as np"
   ]
  },
  {
   "cell_type": "code",
   "execution_count": 9,
   "metadata": {},
   "outputs": [
    {
     "data": {
      "text/html": [
       "<div>\n",
       "<style scoped>\n",
       "    .dataframe tbody tr th:only-of-type {\n",
       "        vertical-align: middle;\n",
       "    }\n",
       "\n",
       "    .dataframe tbody tr th {\n",
       "        vertical-align: top;\n",
       "    }\n",
       "\n",
       "    .dataframe thead th {\n",
       "        text-align: right;\n",
       "    }\n",
       "</style>\n",
       "<table border=\"1\" class=\"dataframe\">\n",
       "  <thead>\n",
       "    <tr style=\"text-align: right;\">\n",
       "      <th></th>\n",
       "      <th>UID</th>\n",
       "      <th>JID</th>\n",
       "      <th>Rating</th>\n",
       "    </tr>\n",
       "  </thead>\n",
       "  <tbody>\n",
       "    <tr>\n",
       "      <th>0</th>\n",
       "      <td>18029</td>\n",
       "      <td>6</td>\n",
       "      <td>-1.26</td>\n",
       "    </tr>\n",
       "    <tr>\n",
       "      <th>1</th>\n",
       "      <td>3298</td>\n",
       "      <td>64</td>\n",
       "      <td>-4.17</td>\n",
       "    </tr>\n",
       "  </tbody>\n",
       "</table>\n",
       "</div>"
      ],
      "text/plain": [
       "     UID  JID  Rating\n",
       "0  18029    6   -1.26\n",
       "1   3298   64   -4.17"
      ]
     },
     "execution_count": 9,
     "metadata": {},
     "output_type": "execute_result"
    }
   ],
   "source": [
    "df = pd.read_csv(r'data\\recsys-in-practice\\train_joke_df.csv')\n",
    "\n",
    "df.head(2)"
   ]
  },
  {
   "cell_type": "code",
   "execution_count": 10,
   "metadata": {},
   "outputs": [],
   "source": [
    "#rating = df['Rating'].values\n",
    "#print(np.min(rating), np.max(np.abs(rating)), np.max(np.abs(rating)))\n",
    "\n",
    "#rating_norm = (rating - np.min(rating)) / (np.max(rating) - np.min(rating))\n",
    "#rating_norm = rating / np.max(np.abs(rating))\n",
    "#print(np.min(rating_norm), np.max(rating_norm))\n",
    "\n",
    "#df['Rating'] = rating_norm"
   ]
  },
  {
   "cell_type": "code",
   "execution_count": 11,
   "metadata": {},
   "outputs": [
    {
     "data": {
      "text/html": [
       "<div>\n",
       "<style scoped>\n",
       "    .dataframe tbody tr th:only-of-type {\n",
       "        vertical-align: middle;\n",
       "    }\n",
       "\n",
       "    .dataframe tbody tr th {\n",
       "        vertical-align: top;\n",
       "    }\n",
       "\n",
       "    .dataframe thead th {\n",
       "        text-align: right;\n",
       "    }\n",
       "</style>\n",
       "<table border=\"1\" class=\"dataframe\">\n",
       "  <thead>\n",
       "    <tr style=\"text-align: right;\">\n",
       "      <th></th>\n",
       "      <th>UID</th>\n",
       "      <th>JID</th>\n",
       "      <th>Rating</th>\n",
       "    </tr>\n",
       "  </thead>\n",
       "  <tbody>\n",
       "    <tr>\n",
       "      <th>0</th>\n",
       "      <td>1</td>\n",
       "      <td>1</td>\n",
       "      <td>-7.82</td>\n",
       "    </tr>\n",
       "    <tr>\n",
       "      <th>1</th>\n",
       "      <td>1</td>\n",
       "      <td>2</td>\n",
       "      <td>8.79</td>\n",
       "    </tr>\n",
       "  </tbody>\n",
       "</table>\n",
       "</div>"
      ],
      "text/plain": [
       "   UID  JID  Rating\n",
       "0    1    1   -7.82\n",
       "1    1    2    8.79"
      ]
     },
     "execution_count": 11,
     "metadata": {},
     "output_type": "execute_result"
    }
   ],
   "source": [
    "# сделаем сортировку и перепишем index\n",
    "df = df.sort_values(by=['UID', 'JID'])\n",
    "df = df.reset_index(drop=True)\n",
    "df.head(2)"
   ]
  },
  {
   "cell_type": "code",
   "execution_count": 12,
   "metadata": {},
   "outputs": [
    {
     "data": {
      "text/html": [
       "<div>\n",
       "<style scoped>\n",
       "    .dataframe tbody tr th:only-of-type {\n",
       "        vertical-align: middle;\n",
       "    }\n",
       "\n",
       "    .dataframe tbody tr th {\n",
       "        vertical-align: top;\n",
       "    }\n",
       "\n",
       "    .dataframe thead th {\n",
       "        text-align: right;\n",
       "    }\n",
       "</style>\n",
       "<table border=\"1\" class=\"dataframe\">\n",
       "  <thead>\n",
       "    <tr style=\"text-align: right;\">\n",
       "      <th></th>\n",
       "      <th>UID</th>\n",
       "      <th>JID</th>\n",
       "      <th>Rating</th>\n",
       "    </tr>\n",
       "  </thead>\n",
       "  <tbody>\n",
       "    <tr>\n",
       "      <th>0</th>\n",
       "      <td>1</td>\n",
       "      <td>[1, 2, 3, 4, 5, 6, 7, 8, 9, 10, 12, 13, 14, 15...</td>\n",
       "      <td>[-7.82, 8.79, -9.66, -8.16, -7.52, -8.5, -9.85...</td>\n",
       "    </tr>\n",
       "    <tr>\n",
       "      <th>1</th>\n",
       "      <td>2</td>\n",
       "      <td>[1, 2, 3, 4, 6, 7, 8, 9, 10, 11, 12, 13, 15, 1...</td>\n",
       "      <td>[4.08, -0.29, 6.36, 4.37, -9.66, -0.73, -5.34,...</td>\n",
       "    </tr>\n",
       "    <tr>\n",
       "      <th>2</th>\n",
       "      <td>3</td>\n",
       "      <td>[5, 6, 7, 8, 11, 12, 13, 15, 16, 17, 18, 19, 2...</td>\n",
       "      <td>[9.03, 9.27, 9.03, 9.27, 7.33, 7.57, 9.37, -6....</td>\n",
       "    </tr>\n",
       "    <tr>\n",
       "      <th>3</th>\n",
       "      <td>4</td>\n",
       "      <td>[2, 5, 7, 8, 10, 11, 13, 14, 15, 16, 17, 18, 1...</td>\n",
       "      <td>[8.35, 1.8, -2.82, 6.21, 1.84, 7.33, 6.31, 8.1...</td>\n",
       "    </tr>\n",
       "    <tr>\n",
       "      <th>4</th>\n",
       "      <td>5</td>\n",
       "      <td>[1, 2, 3, 4, 7, 9, 11, 12, 13, 14, 15, 16, 18,...</td>\n",
       "      <td>[8.5, 4.61, -4.17, -5.39, 7.04, -0.44, 8.25, 6...</td>\n",
       "    </tr>\n",
       "    <tr>\n",
       "      <th>...</th>\n",
       "      <td>...</td>\n",
       "      <td>...</td>\n",
       "      <td>...</td>\n",
       "    </tr>\n",
       "    <tr>\n",
       "      <th>24978</th>\n",
       "      <td>24979</td>\n",
       "      <td>[1, 4, 6, 7, 8, 11, 12, 13, 14, 15, 16, 17, 18...</td>\n",
       "      <td>[0.44, 2.33, 6.75, -8.79, -0.53, -0.53, 5.63, ...</td>\n",
       "    </tr>\n",
       "    <tr>\n",
       "      <th>24979</th>\n",
       "      <td>24980</td>\n",
       "      <td>[2, 3, 4, 5, 6, 7, 8, 9, 11, 13, 14, 15, 16, 1...</td>\n",
       "      <td>[-8.16, 8.59, 9.08, 0.87, -8.93, -3.5, 5.78, -...</td>\n",
       "    </tr>\n",
       "    <tr>\n",
       "      <th>24980</th>\n",
       "      <td>24981</td>\n",
       "      <td>[5, 8, 13, 14, 17, 18, 20, 26, 28, 32, 35, 36,...</td>\n",
       "      <td>[-7.77, -6.75, -6.46, -1.65, -6.99, 7.23, -6.9...</td>\n",
       "    </tr>\n",
       "    <tr>\n",
       "      <th>24981</th>\n",
       "      <td>24982</td>\n",
       "      <td>[5, 7, 8, 13, 15, 16, 17, 18, 19, 20, 21, 28, ...</td>\n",
       "      <td>[-9.71, 4.56, -8.3, -9.47, 3.45, -0.92, -4.51,...</td>\n",
       "    </tr>\n",
       "    <tr>\n",
       "      <th>24982</th>\n",
       "      <td>24983</td>\n",
       "      <td>[1, 3, 4, 5, 6, 8, 10, 11, 12, 13, 15, 16, 17,...</td>\n",
       "      <td>[2.43, -3.98, 4.27, -2.28, 7.33, 4.56, 4.61, -...</td>\n",
       "    </tr>\n",
       "  </tbody>\n",
       "</table>\n",
       "<p>24983 rows × 3 columns</p>\n",
       "</div>"
      ],
      "text/plain": [
       "         UID                                                JID  \\\n",
       "0          1  [1, 2, 3, 4, 5, 6, 7, 8, 9, 10, 12, 13, 14, 15...   \n",
       "1          2  [1, 2, 3, 4, 6, 7, 8, 9, 10, 11, 12, 13, 15, 1...   \n",
       "2          3  [5, 6, 7, 8, 11, 12, 13, 15, 16, 17, 18, 19, 2...   \n",
       "3          4  [2, 5, 7, 8, 10, 11, 13, 14, 15, 16, 17, 18, 1...   \n",
       "4          5  [1, 2, 3, 4, 7, 9, 11, 12, 13, 14, 15, 16, 18,...   \n",
       "...      ...                                                ...   \n",
       "24978  24979  [1, 4, 6, 7, 8, 11, 12, 13, 14, 15, 16, 17, 18...   \n",
       "24979  24980  [2, 3, 4, 5, 6, 7, 8, 9, 11, 13, 14, 15, 16, 1...   \n",
       "24980  24981  [5, 8, 13, 14, 17, 18, 20, 26, 28, 32, 35, 36,...   \n",
       "24981  24982  [5, 7, 8, 13, 15, 16, 17, 18, 19, 20, 21, 28, ...   \n",
       "24982  24983  [1, 3, 4, 5, 6, 8, 10, 11, 12, 13, 15, 16, 17,...   \n",
       "\n",
       "                                                  Rating  \n",
       "0      [-7.82, 8.79, -9.66, -8.16, -7.52, -8.5, -9.85...  \n",
       "1      [4.08, -0.29, 6.36, 4.37, -9.66, -0.73, -5.34,...  \n",
       "2      [9.03, 9.27, 9.03, 9.27, 7.33, 7.57, 9.37, -6....  \n",
       "3      [8.35, 1.8, -2.82, 6.21, 1.84, 7.33, 6.31, 8.1...  \n",
       "4      [8.5, 4.61, -4.17, -5.39, 7.04, -0.44, 8.25, 6...  \n",
       "...                                                  ...  \n",
       "24978  [0.44, 2.33, 6.75, -8.79, -0.53, -0.53, 5.63, ...  \n",
       "24979  [-8.16, 8.59, 9.08, 0.87, -8.93, -3.5, 5.78, -...  \n",
       "24980  [-7.77, -6.75, -6.46, -1.65, -6.99, 7.23, -6.9...  \n",
       "24981  [-9.71, 4.56, -8.3, -9.47, 3.45, -0.92, -4.51,...  \n",
       "24982  [2.43, -3.98, 4.27, -2.28, 7.33, 4.56, 4.61, -...  \n",
       "\n",
       "[24983 rows x 3 columns]"
      ]
     },
     "execution_count": 12,
     "metadata": {},
     "output_type": "execute_result"
    }
   ],
   "source": [
    "df_gr = df.groupby(by='UID', as_index=False).agg({'JID':list, 'Rating':list})\n",
    "df_gr"
   ]
  },
  {
   "cell_type": "code",
   "execution_count": 13,
   "metadata": {},
   "outputs": [
    {
     "data": {
      "text/plain": [
       "62"
      ]
     },
     "execution_count": 13,
     "metadata": {},
     "output_type": "execute_result"
    }
   ],
   "source": [
    "len(df_gr.values[0][1])"
   ]
  },
  {
   "cell_type": "code",
   "execution_count": 14,
   "metadata": {},
   "outputs": [
    {
     "data": {
      "text/plain": [
       "62"
      ]
     },
     "execution_count": 14,
     "metadata": {},
     "output_type": "execute_result"
    }
   ],
   "source": [
    "len(df_gr.values[0][2])"
   ]
  },
  {
   "cell_type": "code",
   "execution_count": null,
   "metadata": {},
   "outputs": [],
   "source": []
  },
  {
   "cell_type": "code",
   "execution_count": null,
   "metadata": {},
   "outputs": [],
   "source": []
  },
  {
   "cell_type": "code",
   "execution_count": null,
   "metadata": {},
   "outputs": [],
   "source": []
  },
  {
   "cell_type": "code",
   "execution_count": 15,
   "metadata": {},
   "outputs": [
    {
     "data": {
      "text/plain": [
       "(100, 101, 102, 103, 104)"
      ]
     },
     "execution_count": 15,
     "metadata": {},
     "output_type": "execute_result"
    }
   ],
   "source": [
    "max_joke_id = np.max(np.unique(df['JID']))\n",
    "sos_token = max_joke_id + 1\n",
    "eos_token = max_joke_id + 2\n",
    "pad_token = max_joke_id + 3\n",
    "mask_token = max_joke_id + 4\n",
    "max_joke_id, sos_token, eos_token, pad_token, mask_token"
   ]
  },
  {
   "cell_type": "code",
   "execution_count": null,
   "metadata": {},
   "outputs": [],
   "source": []
  },
  {
   "cell_type": "code",
   "execution_count": 16,
   "metadata": {},
   "outputs": [
    {
     "data": {
      "text/plain": [
       "(18, 95)"
      ]
     },
     "execution_count": 16,
     "metadata": {},
     "output_type": "execute_result"
    }
   ],
   "source": [
    "max_len = np.max(df_gr['JID'].apply(len))\n",
    "min_len = np.min(df_gr['JID'].apply(len))\n",
    "min_len, max_len"
   ]
  },
  {
   "cell_type": "code",
   "execution_count": 17,
   "metadata": {},
   "outputs": [],
   "source": [
    "seq_len = max_len + 2"
   ]
  },
  {
   "cell_type": "code",
   "execution_count": 18,
   "metadata": {},
   "outputs": [],
   "source": [
    "trg_seq_len = 5"
   ]
  },
  {
   "cell_type": "code",
   "execution_count": 19,
   "metadata": {},
   "outputs": [
    {
     "name": "stdout",
     "output_type": "stream",
     "text": [
      "97 97\n"
     ]
    },
    {
     "data": {
      "text/html": [
       "<div>\n",
       "<style scoped>\n",
       "    .dataframe tbody tr th:only-of-type {\n",
       "        vertical-align: middle;\n",
       "    }\n",
       "\n",
       "    .dataframe tbody tr th {\n",
       "        vertical-align: top;\n",
       "    }\n",
       "\n",
       "    .dataframe thead th {\n",
       "        text-align: right;\n",
       "    }\n",
       "</style>\n",
       "<table border=\"1\" class=\"dataframe\">\n",
       "  <thead>\n",
       "    <tr style=\"text-align: right;\">\n",
       "      <th></th>\n",
       "      <th>UID</th>\n",
       "      <th>JID</th>\n",
       "      <th>Rating</th>\n",
       "    </tr>\n",
       "  </thead>\n",
       "  <tbody>\n",
       "    <tr>\n",
       "      <th>0</th>\n",
       "      <td>1</td>\n",
       "      <td>[101, 1, 2, 3, 4, 5, 6, 7, 8, 9, 10, 12, 13, 1...</td>\n",
       "      <td>[0, -7.82, 8.79, -9.66, -8.16, -7.52, -8.5, -9...</td>\n",
       "    </tr>\n",
       "    <tr>\n",
       "      <th>1</th>\n",
       "      <td>2</td>\n",
       "      <td>[101, 1, 2, 3, 4, 6, 7, 8, 9, 10, 11, 12, 13, ...</td>\n",
       "      <td>[0, 4.08, -0.29, 6.36, 4.37, -9.66, -0.73, -5....</td>\n",
       "    </tr>\n",
       "    <tr>\n",
       "      <th>2</th>\n",
       "      <td>3</td>\n",
       "      <td>[101, 5, 6, 7, 8, 11, 12, 13, 15, 16, 17, 18, ...</td>\n",
       "      <td>[0, 9.03, 9.27, 9.03, 9.27, 7.33, 7.57, 9.37, ...</td>\n",
       "    </tr>\n",
       "    <tr>\n",
       "      <th>3</th>\n",
       "      <td>4</td>\n",
       "      <td>[101, 2, 5, 7, 8, 10, 11, 13, 14, 15, 16, 17, ...</td>\n",
       "      <td>[0, 8.35, 1.8, -2.82, 6.21, 1.84, 7.33, 6.31, ...</td>\n",
       "    </tr>\n",
       "    <tr>\n",
       "      <th>4</th>\n",
       "      <td>5</td>\n",
       "      <td>[101, 1, 2, 3, 4, 7, 9, 11, 12, 13, 14, 15, 16...</td>\n",
       "      <td>[0, 8.5, 4.61, -4.17, -5.39, 7.04, -0.44, 8.25...</td>\n",
       "    </tr>\n",
       "    <tr>\n",
       "      <th>...</th>\n",
       "      <td>...</td>\n",
       "      <td>...</td>\n",
       "      <td>...</td>\n",
       "    </tr>\n",
       "    <tr>\n",
       "      <th>24978</th>\n",
       "      <td>24979</td>\n",
       "      <td>[101, 1, 4, 6, 7, 8, 11, 12, 13, 14, 15, 16, 1...</td>\n",
       "      <td>[0, 0.44, 2.33, 6.75, -8.79, -0.53, -0.53, 5.6...</td>\n",
       "    </tr>\n",
       "    <tr>\n",
       "      <th>24979</th>\n",
       "      <td>24980</td>\n",
       "      <td>[101, 2, 3, 4, 5, 6, 7, 8, 9, 11, 13, 14, 15, ...</td>\n",
       "      <td>[0, -8.16, 8.59, 9.08, 0.87, -8.93, -3.5, 5.78...</td>\n",
       "    </tr>\n",
       "    <tr>\n",
       "      <th>24980</th>\n",
       "      <td>24981</td>\n",
       "      <td>[101, 5, 8, 13, 14, 17, 18, 20, 26, 28, 32, 35...</td>\n",
       "      <td>[0, -7.77, -6.75, -6.46, -1.65, -6.99, 7.23, -...</td>\n",
       "    </tr>\n",
       "    <tr>\n",
       "      <th>24981</th>\n",
       "      <td>24982</td>\n",
       "      <td>[101, 5, 7, 8, 13, 15, 16, 17, 18, 19, 20, 21,...</td>\n",
       "      <td>[0, -9.71, 4.56, -8.3, -9.47, 3.45, -0.92, -4....</td>\n",
       "    </tr>\n",
       "    <tr>\n",
       "      <th>24982</th>\n",
       "      <td>24983</td>\n",
       "      <td>[101, 1, 3, 4, 5, 6, 8, 10, 11, 12, 13, 15, 16...</td>\n",
       "      <td>[0, 2.43, -3.98, 4.27, -2.28, 7.33, 4.56, 4.61...</td>\n",
       "    </tr>\n",
       "  </tbody>\n",
       "</table>\n",
       "<p>24983 rows × 3 columns</p>\n",
       "</div>"
      ],
      "text/plain": [
       "         UID                                                JID  \\\n",
       "0          1  [101, 1, 2, 3, 4, 5, 6, 7, 8, 9, 10, 12, 13, 1...   \n",
       "1          2  [101, 1, 2, 3, 4, 6, 7, 8, 9, 10, 11, 12, 13, ...   \n",
       "2          3  [101, 5, 6, 7, 8, 11, 12, 13, 15, 16, 17, 18, ...   \n",
       "3          4  [101, 2, 5, 7, 8, 10, 11, 13, 14, 15, 16, 17, ...   \n",
       "4          5  [101, 1, 2, 3, 4, 7, 9, 11, 12, 13, 14, 15, 16...   \n",
       "...      ...                                                ...   \n",
       "24978  24979  [101, 1, 4, 6, 7, 8, 11, 12, 13, 14, 15, 16, 1...   \n",
       "24979  24980  [101, 2, 3, 4, 5, 6, 7, 8, 9, 11, 13, 14, 15, ...   \n",
       "24980  24981  [101, 5, 8, 13, 14, 17, 18, 20, 26, 28, 32, 35...   \n",
       "24981  24982  [101, 5, 7, 8, 13, 15, 16, 17, 18, 19, 20, 21,...   \n",
       "24982  24983  [101, 1, 3, 4, 5, 6, 8, 10, 11, 12, 13, 15, 16...   \n",
       "\n",
       "                                                  Rating  \n",
       "0      [0, -7.82, 8.79, -9.66, -8.16, -7.52, -8.5, -9...  \n",
       "1      [0, 4.08, -0.29, 6.36, 4.37, -9.66, -0.73, -5....  \n",
       "2      [0, 9.03, 9.27, 9.03, 9.27, 7.33, 7.57, 9.37, ...  \n",
       "3      [0, 8.35, 1.8, -2.82, 6.21, 1.84, 7.33, 6.31, ...  \n",
       "4      [0, 8.5, 4.61, -4.17, -5.39, 7.04, -0.44, 8.25...  \n",
       "...                                                  ...  \n",
       "24978  [0, 0.44, 2.33, 6.75, -8.79, -0.53, -0.53, 5.6...  \n",
       "24979  [0, -8.16, 8.59, 9.08, 0.87, -8.93, -3.5, 5.78...  \n",
       "24980  [0, -7.77, -6.75, -6.46, -1.65, -6.99, 7.23, -...  \n",
       "24981  [0, -9.71, 4.56, -8.3, -9.47, 3.45, -0.92, -4....  \n",
       "24982  [0, 2.43, -3.98, 4.27, -2.28, 7.33, 4.56, 4.61...  \n",
       "\n",
       "[24983 rows x 3 columns]"
      ]
     },
     "execution_count": 19,
     "metadata": {},
     "output_type": "execute_result"
    }
   ],
   "source": [
    "for row in df_gr.values:\n",
    "    \n",
    "    ext_len = max_len - len(row[1])\n",
    "    \n",
    "    row[1].insert(0, sos_token)\n",
    "    row[1].extend([pad_token] * ext_len)\n",
    "    row[1].append(eos_token)\n",
    "    \n",
    "    \n",
    "    row[2].insert(0, 0)\n",
    "    row[2].extend([0] * ext_len)\n",
    "    row[2].append(0)\n",
    "    \n",
    "max_len = np.max(df_gr['JID'].apply(len))\n",
    "min_len = np.min(df_gr['JID'].apply(len))\n",
    "print(min_len, max_len)\n",
    "df_gr"
   ]
  },
  {
   "cell_type": "code",
   "execution_count": 20,
   "metadata": {},
   "outputs": [
    {
     "data": {
      "text/plain": [
       "[103, 103, 103, 103, 103, 103, 103, 103, 103, 102]"
      ]
     },
     "execution_count": 20,
     "metadata": {},
     "output_type": "execute_result"
    }
   ],
   "source": [
    "df_gr.values[0][1][-10:]"
   ]
  },
  {
   "cell_type": "code",
   "execution_count": 21,
   "metadata": {},
   "outputs": [
    {
     "data": {
      "text/plain": [
       "[0, 0, 0, 0, 0, 0, 0, 0, 0, 0]"
      ]
     },
     "execution_count": 21,
     "metadata": {},
     "output_type": "execute_result"
    }
   ],
   "source": [
    "df_gr.values[0][2][-10:]"
   ]
  },
  {
   "cell_type": "code",
   "execution_count": null,
   "metadata": {},
   "outputs": [],
   "source": []
  },
  {
   "cell_type": "code",
   "execution_count": null,
   "metadata": {},
   "outputs": [],
   "source": []
  },
  {
   "cell_type": "code",
   "execution_count": null,
   "metadata": {},
   "outputs": [],
   "source": []
  },
  {
   "cell_type": "code",
   "execution_count": 22,
   "metadata": {},
   "outputs": [
    {
     "data": {
      "text/plain": [
       "tensor([101,   1,   2,   3,   4,   5,   6,   7,   8,   9, 104,  12,  13,  14,\n",
       "         15,  16,  17,  18,  20,  21,  22,  23,  24,  26,  27,  28,  29,  30,\n",
       "         32,  33,  35,  36,  37, 104,  41,  42,  43,  44,  45,  47,  48,  50,\n",
       "         51,  52,  53,  54,  55,  56,  57, 104,  59,  61,  62,  63,  64,  66,\n",
       "         67,  68,  69,  70,  78,  82,  97, 103, 103, 103, 103, 103, 103, 103,\n",
       "        103, 103, 103, 103, 103, 103, 103, 103, 103, 103, 103, 103, 103, 103,\n",
       "        103, 103, 103, 103, 103, 103, 103, 103, 103, 103, 103, 103, 102])"
      ]
     },
     "execution_count": 22,
     "metadata": {},
     "output_type": "execute_result"
    }
   ],
   "source": [
    "tokens = df_gr.values[0][1]\n",
    "\n",
    "\n",
    "count = np.random.randint(1, 5)\n",
    "indices = np.random.choice(np.where(tokens <= max_joke_id)[0], count)\n",
    "\n",
    "x = torch.tensor(tokens)\n",
    "x[indices] = mask_token\n",
    "x"
   ]
  },
  {
   "cell_type": "code",
   "execution_count": null,
   "metadata": {},
   "outputs": [],
   "source": []
  },
  {
   "cell_type": "code",
   "execution_count": 23,
   "metadata": {
    "executionInfo": {
     "elapsed": 5,
     "status": "ok",
     "timestamp": 1655403584138,
     "user": {
      "displayName": "Шишкин Александр",
      "userId": "00721730077610513143"
     },
     "user_tz": -180
    },
    "id": "hYaDtYmqeQLH"
   },
   "outputs": [
    {
     "data": {
      "text/plain": [
       "device(type='cuda')"
      ]
     },
     "execution_count": 23,
     "metadata": {},
     "output_type": "execute_result"
    }
   ],
   "source": [
    "device = torch.device('cuda' if torch.cuda.is_available() else 'cpu')\n",
    "device"
   ]
  },
  {
   "cell_type": "code",
   "execution_count": 24,
   "metadata": {},
   "outputs": [],
   "source": [
    "class FeaturesDataset(torch.utils.data.Dataset):\n",
    "    def __init__(self, df):\n",
    "        self.df = df\n",
    "            \n",
    "    def __getitem__(self, index: int):    \n",
    "        tokens = self.df.values[index][1]\n",
    "        ratings = self.df.values[index][2]\n",
    "\n",
    "        count = trg_seq_len#np.random.randint(1, 5)\n",
    "        indices = np.array(np.random.choice(np.where(tokens <= max_joke_id)[0], count), dtype=int)\n",
    "\n",
    "        #todo\n",
    "        indices = [10, 20, 30, 40, 50]\n",
    "        #print(indices)\n",
    "        tokens_src = torch.tensor(tokens, device=device)\n",
    "        tokens_trg = tokens_src[indices].detach().clone().to(device)\n",
    "        tokens_src[indices] = mask_token\n",
    "        \n",
    "        ratings_src = torch.tensor(ratings, device=device)\n",
    "        ratings_trg = ratings_src[indices].detach().clone().to(device)\n",
    "        ratings_src[indices] = 0\n",
    "\n",
    "        return tokens_src, tokens_trg, ratings_src, ratings_trg\n",
    "    \n",
    "    def __len__(self):\n",
    "        return len(self.df)"
   ]
  },
  {
   "cell_type": "code",
   "execution_count": 25,
   "metadata": {},
   "outputs": [],
   "source": [
    "ds = FeaturesDataset(df_gr)"
   ]
  },
  {
   "cell_type": "code",
   "execution_count": 26,
   "metadata": {},
   "outputs": [
    {
     "data": {
      "text/plain": [
       "(tensor([101,   1,   2,   3,   4,   5,   6,   7,   8,   9, 104,  12,  13,  14,\n",
       "          15,  16,  17,  18,  20,  21, 104,  23,  24,  26,  27,  28,  29,  30,\n",
       "          32,  33, 104,  36,  37,  38,  41,  42,  43,  44,  45,  47, 104,  50,\n",
       "          51,  52,  53,  54,  55,  56,  57,  58, 104,  61,  62,  63,  64,  66,\n",
       "          67,  68,  69,  70,  78,  82,  97, 103, 103, 103, 103, 103, 103, 103,\n",
       "         103, 103, 103, 103, 103, 103, 103, 103, 103, 103, 103, 103, 103, 103,\n",
       "         103, 103, 103, 103, 103, 103, 103, 103, 103, 103, 103, 103, 102],\n",
       "        device='cuda:0'),\n",
       " tensor([10, 22, 35, 48, 59], device='cuda:0'),\n",
       " tensor([ 0.0000, -7.8200,  8.7900, -9.6600, -8.1600, -7.5200, -8.5000, -9.8500,\n",
       "          4.1700, -8.9800,  0.0000, -6.7500, -7.1800,  8.4500, -7.1800, -7.5200,\n",
       "         -7.4300, -9.8100, -9.8500, -9.3700,  0.0000, -4.3700, -9.8100,  1.1200,\n",
       "          7.8200,  2.8600,  9.1300, -7.4300, -4.0800, -9.0800,  0.0000,  4.9500,\n",
       "         -9.1700, -8.4000, -8.1100, -9.1300, -9.0300, -9.0800, -7.1400,  3.7900,\n",
       "          0.0000,  4.1300, -8.6900, -7.1400,  3.2000,  8.3000, -4.5600,  0.9200,\n",
       "         -9.1300, -9.4200,  0.0000,  8.5900,  3.5900, -6.8400, -9.0300, -1.3600,\n",
       "         -9.0800,  8.3000,  5.6800, -4.8100, -9.4200, -7.7200, -5.6300,  0.0000,\n",
       "          0.0000,  0.0000,  0.0000,  0.0000,  0.0000,  0.0000,  0.0000,  0.0000,\n",
       "          0.0000,  0.0000,  0.0000,  0.0000,  0.0000,  0.0000,  0.0000,  0.0000,\n",
       "          0.0000,  0.0000,  0.0000,  0.0000,  0.0000,  0.0000,  0.0000,  0.0000,\n",
       "          0.0000,  0.0000,  0.0000,  0.0000,  0.0000,  0.0000,  0.0000,  0.0000,\n",
       "          0.0000], device='cuda:0'),\n",
       " tensor([-4.7600,  1.5000,  5.0500, -0.1000,  2.8200], device='cuda:0'))"
      ]
     },
     "execution_count": 26,
     "metadata": {},
     "output_type": "execute_result"
    }
   ],
   "source": [
    "ds[0]"
   ]
  },
  {
   "cell_type": "code",
   "execution_count": null,
   "metadata": {},
   "outputs": [],
   "source": []
  },
  {
   "cell_type": "code",
   "execution_count": null,
   "metadata": {},
   "outputs": [],
   "source": []
  },
  {
   "cell_type": "code",
   "execution_count": null,
   "metadata": {},
   "outputs": [],
   "source": []
  },
  {
   "cell_type": "code",
   "execution_count": null,
   "metadata": {},
   "outputs": [],
   "source": []
  },
  {
   "cell_type": "markdown",
   "metadata": {
    "id": "Dza8_egHeQLB"
   },
   "source": [
    "### Main part\n",
    "__Here comes the preprocessing. Do not hesitate to use BPE or more complex preprocessing ;)__"
   ]
  },
  {
   "cell_type": "code",
   "execution_count": null,
   "metadata": {
    "executionInfo": {
     "elapsed": 4,
     "status": "ok",
     "timestamp": 1655403579967,
     "user": {
      "displayName": "Шишкин Александр",
      "userId": "00721730077610513143"
     },
     "user_tz": -180
    },
    "id": "WwBUyNw5eQLB"
   },
   "outputs": [],
   "source": []
  },
  {
   "cell_type": "code",
   "execution_count": null,
   "metadata": {},
   "outputs": [],
   "source": []
  },
  {
   "cell_type": "code",
   "execution_count": null,
   "metadata": {
    "executionInfo": {
     "elapsed": 2305,
     "status": "ok",
     "timestamp": 1655403582268,
     "user": {
      "displayName": "Шишкин Александр",
      "userId": "00721730077610513143"
     },
     "user_tz": -180
    },
    "id": "KH_7fL0jeQLC"
   },
   "outputs": [],
   "source": []
  },
  {
   "cell_type": "code",
   "execution_count": null,
   "metadata": {
    "executionInfo": {
     "elapsed": 4,
     "status": "ok",
     "timestamp": 1655403582268,
     "user": {
      "displayName": "Шишкин Александр",
      "userId": "00721730077610513143"
     },
     "user_tz": -180
    },
    "id": "dChpXc8KeQLD"
   },
   "outputs": [],
   "source": []
  },
  {
   "cell_type": "code",
   "execution_count": null,
   "metadata": {},
   "outputs": [],
   "source": []
  },
  {
   "cell_type": "code",
   "execution_count": null,
   "metadata": {},
   "outputs": [],
   "source": []
  },
  {
   "cell_type": "code",
   "execution_count": null,
   "metadata": {},
   "outputs": [],
   "source": []
  },
  {
   "cell_type": "markdown",
   "metadata": {
    "id": "BuRAemf0eQLH"
   },
   "source": [
    "### Model side\n",
    "__Here comes simple pipeline of NMT model learning. It almost copies the week03 practice__"
   ]
  },
  {
   "cell_type": "code",
   "execution_count": null,
   "metadata": {
    "colab": {
     "base_uri": "https://localhost:8080/"
    },
    "executionInfo": {
     "elapsed": 5,
     "status": "ok",
     "timestamp": 1655403584138,
     "user": {
      "displayName": "Шишкин Александр",
      "userId": "00721730077610513143"
     },
     "user_tz": -180
    },
    "id": "L7_n3E2VeQLI",
    "outputId": "4f7edc8f-1459-4a34-a823-029048f88a26"
   },
   "outputs": [],
   "source": []
  },
  {
   "cell_type": "code",
   "execution_count": 27,
   "metadata": {
    "executionInfo": {
     "elapsed": 3,
     "status": "ok",
     "timestamp": 1655403584139,
     "user": {
      "displayName": "Шишкин Александр",
      "userId": "00721730077610513143"
     },
     "user_tz": -180
    },
    "id": "mnxSWVQieQLI"
   },
   "outputs": [
    {
     "data": {
      "text/plain": [
       "(torch.Size([7, 97]),\n",
       " torch.Size([7, 5]),\n",
       " torch.Size([7, 97]),\n",
       " torch.Size([7, 5]))"
      ]
     },
     "execution_count": 27,
     "metadata": {},
     "output_type": "execute_result"
    }
   ],
   "source": [
    "batch_size=7\n",
    "\n",
    "for tokens_src, tokens_trg, ratings_src, ratings_trg in torch.utils.data.DataLoader(ds, batch_size= batch_size):\n",
    "    #print(x, y)\n",
    "    break\n",
    "    \n",
    "tokens_src.shape, tokens_trg.shape, ratings_src.shape, ratings_trg.shape"
   ]
  },
  {
   "cell_type": "code",
   "execution_count": null,
   "metadata": {},
   "outputs": [],
   "source": []
  },
  {
   "cell_type": "code",
   "execution_count": null,
   "metadata": {},
   "outputs": [],
   "source": []
  },
  {
   "cell_type": "code",
   "execution_count": null,
   "metadata": {},
   "outputs": [],
   "source": []
  },
  {
   "cell_type": "code",
   "execution_count": null,
   "metadata": {
    "colab": {
     "base_uri": "https://localhost:8080/"
    },
    "executionInfo": {
     "elapsed": 8384,
     "status": "ok",
     "timestamp": 1655403592520,
     "user": {
      "displayName": "Шишкин Александр",
      "userId": "00721730077610513143"
     },
     "user_tz": -180
    },
    "id": "L-qkGZRieQLI",
    "outputId": "597a5955-05f7-45ae-ab2f-229996943c77"
   },
   "outputs": [],
   "source": []
  },
  {
   "cell_type": "code",
   "execution_count": 28,
   "metadata": {},
   "outputs": [
    {
     "data": {
      "text/plain": [
       "torch.Size([97, 7, 256])"
      ]
     },
     "execution_count": 28,
     "metadata": {},
     "output_type": "execute_result"
    }
   ],
   "source": [
    "(torch.rand((97, 7, 256)) * torch.rand((97, 7)).unsqueeze(-1)).shape"
   ]
  },
  {
   "cell_type": "code",
   "execution_count": 29,
   "metadata": {},
   "outputs": [
    {
     "data": {
      "text/plain": [
       "torch.Size([97, 7, 1])"
      ]
     },
     "execution_count": 29,
     "metadata": {},
     "output_type": "execute_result"
    }
   ],
   "source": [
    "torch.rand((97, 7)).unsqueeze(-1).shape"
   ]
  },
  {
   "cell_type": "code",
   "execution_count": null,
   "metadata": {},
   "outputs": [],
   "source": []
  },
  {
   "cell_type": "code",
   "execution_count": null,
   "metadata": {},
   "outputs": [],
   "source": []
  },
  {
   "cell_type": "code",
   "execution_count": null,
   "metadata": {},
   "outputs": [],
   "source": []
  },
  {
   "cell_type": "code",
   "execution_count": null,
   "metadata": {},
   "outputs": [],
   "source": []
  },
  {
   "cell_type": "code",
   "execution_count": null,
   "metadata": {
    "executionInfo": {
     "elapsed": 5,
     "status": "ok",
     "timestamp": 1655403592520,
     "user": {
      "displayName": "Шишкин Александр",
      "userId": "00721730077610513143"
     },
     "user_tz": -180
    },
    "id": "Re8F4dVDeQLI"
   },
   "outputs": [],
   "source": []
  },
  {
   "cell_type": "code",
   "execution_count": 30,
   "metadata": {
    "executionInfo": {
     "elapsed": 4,
     "status": "ok",
     "timestamp": 1655403592521,
     "user": {
      "displayName": "Шишкин Александр",
      "userId": "00721730077610513143"
     },
     "user_tz": -180
    },
    "id": "R25eZp8_eQLK"
   },
   "outputs": [],
   "source": [
    "PAD_IDX = pad_token#TRG.vocab.stoi['<pad>']"
   ]
  },
  {
   "cell_type": "code",
   "execution_count": 31,
   "metadata": {
    "executionInfo": {
     "elapsed": 4,
     "status": "ok",
     "timestamp": 1655403592940,
     "user": {
      "displayName": "Шишкин Александр",
      "userId": "00721730077610513143"
     },
     "user_tz": -180
    },
    "id": "Wst2T9j4eQLL"
   },
   "outputs": [],
   "source": [
    "def RMSE_loss(prediction, target):\n",
    "    return torch.sqrt(nn.MSELoss()(prediction, target))"
   ]
  },
  {
   "cell_type": "code",
   "execution_count": 32,
   "metadata": {
    "executionInfo": {
     "elapsed": 5,
     "status": "ok",
     "timestamp": 1655403592521,
     "user": {
      "displayName": "Шишкин Александр",
      "userId": "00721730077610513143"
     },
     "user_tz": -180
    },
    "id": "nT2EgcQ4eQLJ"
   },
   "outputs": [],
   "source": [
    "def init_weights(m):\n",
    "    # <YOUR CODE HERE>\n",
    "    for name, param in m.named_parameters():\n",
    "        nn.init.uniform_(param, -0.08, 0.08)\n",
    "        \n"
   ]
  },
  {
   "cell_type": "code",
   "execution_count": 33,
   "metadata": {
    "executionInfo": {
     "elapsed": 4,
     "status": "ok",
     "timestamp": 1655403592521,
     "user": {
      "displayName": "Шишкин Александр",
      "userId": "00721730077610513143"
     },
     "user_tz": -180
    },
    "id": "AHqynKYleQLK"
   },
   "outputs": [],
   "source": [
    "def count_parameters(model):\n",
    "    return sum(p.numel() for p in model.parameters() if p.requires_grad)\n",
    "\n"
   ]
  },
  {
   "cell_type": "code",
   "execution_count": 34,
   "metadata": {
    "executionInfo": {
     "elapsed": 5,
     "status": "ok",
     "timestamp": 1655403592522,
     "user": {
      "displayName": "Шишкин Александр",
      "userId": "00721730077610513143"
     },
     "user_tz": -180
    },
    "id": "3FQE0ySNeQLK"
   },
   "outputs": [],
   "source": [
    "def train(model, iterator, optimizer, criterion, clip, train_history=None, valid_history=None):\n",
    "    model.train()\n",
    "    \n",
    "    epoch_loss = 0\n",
    "    history = []\n",
    "    for i, (tokens_src, tokens_trg, ratings_src, ratings_trg) in enumerate(tqdm(iterator)):\n",
    "        \n",
    "        optimizer.zero_grad()\n",
    "        \n",
    "        #output = model(src, trg)\n",
    "        output, hidden = model(tokens_src.T, tokens_trg.T, ratings_src.T, ratings_trg.T)\n",
    "        \n",
    "        \n",
    "        #trg = [trg sent len, batch size]\n",
    "        #output = [trg sent len, batch size, output dim]\n",
    "        \n",
    "        output = output[1:].view(-1, output.shape[-1])\n",
    "        tokens_trg = tokens_trg.T[1:].contiguous().view(-1)\n",
    "        \n",
    "        #trg = [(trg sent len - 1) * batch size]\n",
    "        #output = [(trg sent len - 1) * batch size, output dim]\n",
    "        \n",
    "        loss1 = criterion(output, tokens_trg)\n",
    "        loss2 = RMSE_loss(hidden, ratings_trg)        \n",
    "        loss = 0.0*loss1 + loss2\n",
    "        loss.backward()\n",
    "        \n",
    "        # Let's clip the gradient\n",
    "        torch.nn.utils.clip_grad_norm_(model.parameters(), clip)\n",
    "        \n",
    "        optimizer.step()\n",
    "        \n",
    "        epoch_loss += loss.cpu().data.numpy()\n",
    "        \n",
    "        history.append(loss.cpu().data.numpy())\n",
    "        #if (i+1)%10==0:\n",
    "        #    fig, ax = plt.subplots(nrows=1, ncols=2, figsize=(12, 8))\n",
    "\n",
    "        #    clear_output(True)\n",
    "        #    ax[0].plot(history, label='train loss')\n",
    "        #    ax[0].set_xlabel('Batch')\n",
    "        #    ax[0].set_title('Train loss')\n",
    "        #    if train_history is not None:\n",
    "        #        ax[1].plot(train_history, label='general train history')\n",
    "        #        ax[1].set_xlabel('Epoch')\n",
    "        #    if valid_history is not None:\n",
    "        #        ax[1].plot(valid_history, label='general valid history')\n",
    "        #    plt.legend()\n",
    "            \n",
    "        #    plt.show()\n",
    "\n",
    "        \n",
    "    return epoch_loss / len(iterator)"
   ]
  },
  {
   "cell_type": "code",
   "execution_count": 35,
   "metadata": {
    "executionInfo": {
     "elapsed": 5,
     "status": "ok",
     "timestamp": 1655403592522,
     "user": {
      "displayName": "Шишкин Александр",
      "userId": "00721730077610513143"
     },
     "user_tz": -180
    },
    "id": "v2Yx0KvSeQLK"
   },
   "outputs": [],
   "source": [
    "def evaluate(model, iterator, criterion):\n",
    "    \n",
    "    model.eval()\n",
    "    \n",
    "    epoch_loss = 0\n",
    "    \n",
    "    history = []\n",
    "    \n",
    "    with torch.no_grad():\n",
    "    \n",
    "        for i, (tokens_src, tokens_trg, ratings_src, ratings_trg) in enumerate(tqdm(iterator)):#\n",
    "\n",
    "            #output = model(src, trg, 0) #turn off teacher forcing\n",
    "            output, hidden = model(tokens_src.T, tokens_trg.T, ratings_src.T, ratings_trg.T)\n",
    "            \n",
    "            #trg = [trg sent len, batch size]\n",
    "            #output = [trg sent len, batch size, output dim]\n",
    "\n",
    "            output = output[1:].view(-1, output.shape[-1])\n",
    "            trg = tokens_trg.T[1:].contiguous().view(-1)\n",
    "\n",
    "            #trg = [(trg sent len - 1) * batch size]\n",
    "            #output = [(trg sent len - 1) * batch size, output dim]\n",
    "\n",
    "            loss = criterion(output, trg)\n",
    "            loss2 = RMSE_loss(hidden, ratings_trg)\n",
    "            \n",
    "            #epoch_loss += 0.1*loss.cpu().data.numpy()\n",
    "            epoch_loss += loss2.cpu().data.numpy()\n",
    "        \n",
    "    return epoch_loss / len(iterator)"
   ]
  },
  {
   "cell_type": "code",
   "execution_count": 36,
   "metadata": {
    "executionInfo": {
     "elapsed": 5,
     "status": "ok",
     "timestamp": 1655403592522,
     "user": {
      "displayName": "Шишкин Александр",
      "userId": "00721730077610513143"
     },
     "user_tz": -180
    },
    "id": "lNZCXCyGeQLL"
   },
   "outputs": [],
   "source": [
    "def epoch_time(start_time, end_time):\n",
    "    elapsed_time = end_time - start_time\n",
    "    elapsed_mins = int(elapsed_time / 60)\n",
    "    elapsed_secs = int(elapsed_time - (elapsed_mins * 60))\n",
    "    return elapsed_mins, elapsed_secs"
   ]
  },
  {
   "cell_type": "code",
   "execution_count": null,
   "metadata": {
    "executionInfo": {
     "elapsed": 5,
     "status": "ok",
     "timestamp": 1655403592522,
     "user": {
      "displayName": "Шишкин Александр",
      "userId": "00721730077610513143"
     },
     "user_tz": -180
    },
    "id": "ubEMWbBDeQLL"
   },
   "outputs": [],
   "source": []
  },
  {
   "cell_type": "code",
   "execution_count": 37,
   "metadata": {
    "executionInfo": {
     "elapsed": 5,
     "status": "ok",
     "timestamp": 1655403592522,
     "user": {
      "displayName": "Шишкин Александр",
      "userId": "00721730077610513143"
     },
     "user_tz": -180
    },
    "id": "IJ6ylv4aeQLL"
   },
   "outputs": [],
   "source": [
    "def start_train(model, optimizer, criterion, n_epochs, train_history, valid_history):\n",
    "    CLIP = 1\n",
    "    best_valid_loss = float('inf')\n",
    "    \n",
    "    \n",
    "    for epoch in tqdm(range(n_epochs)):\n",
    "\n",
    "        start_time = time.time()\n",
    "\n",
    "        #todo ds_test change to ds_train\n",
    "        train_loss = train(model, DataLoader(ds_test, batch_size= 512), optimizer, criterion, CLIP, train_history, valid_history)\n",
    "        valid_loss = evaluate(model, DataLoader(ds_test, batch_size= 512), criterion)\n",
    "\n",
    "        end_time = time.time()\n",
    "\n",
    "        epoch_mins, epoch_secs = epoch_time(start_time, end_time)\n",
    "\n",
    "        if valid_loss < best_valid_loss:\n",
    "            best_valid_loss = valid_loss\n",
    "            torch.save(model.state_dict(), 'tut1-model.pt')\n",
    "\n",
    "        train_history.append(train_loss)\n",
    "        valid_history.append(valid_loss)\n",
    "        print(f'Epoch: {epoch+1:02} | Time: {epoch_mins}m {epoch_secs}s |\\tTrain Loss: {train_loss:.3f} |\\t Val. Loss: {valid_loss:.3f} ')\n",
    "        \n",
    "    \n",
    "    plt.plot(train_history, label='general train history')\n",
    "    plt.plot(valid_history, label='general valid history')\n",
    "    plt.xlabel('Epoch')\n",
    "    plt.legend()\n",
    "    \n",
    "    plt.show()"
   ]
  },
  {
   "cell_type": "markdown",
   "metadata": {
    "id": "LeaTdq_reQLL"
   },
   "source": [
    "__Let's take a look at our network quality__:"
   ]
  },
  {
   "cell_type": "code",
   "execution_count": 38,
   "metadata": {
    "executionInfo": {
     "elapsed": 3,
     "status": "ok",
     "timestamp": 1655403592940,
     "user": {
      "displayName": "Шишкин Александр",
      "userId": "00721730077610513143"
     },
     "user_tz": -180
    },
    "id": "4FV1ZgbTeQLL"
   },
   "outputs": [],
   "source": [
    "N_EPOCHS = 10"
   ]
  },
  {
   "cell_type": "code",
   "execution_count": null,
   "metadata": {
    "executionInfo": {
     "elapsed": 4,
     "status": "ok",
     "timestamp": 1655403592941,
     "user": {
      "displayName": "Шишкин Александр",
      "userId": "00721730077610513143"
     },
     "user_tz": -180
    },
    "id": "GfJ1As5DeQLM"
   },
   "outputs": [],
   "source": []
  },
  {
   "cell_type": "code",
   "execution_count": 39,
   "metadata": {
    "executionInfo": {
     "elapsed": 4,
     "status": "ok",
     "timestamp": 1655403592941,
     "user": {
      "displayName": "Шишкин Александр",
      "userId": "00721730077610513143"
     },
     "user_tz": -180
    },
    "id": "017waIfKeQLM"
   },
   "outputs": [],
   "source": [
    "#baseline"
   ]
  },
  {
   "cell_type": "code",
   "execution_count": null,
   "metadata": {},
   "outputs": [],
   "source": []
  },
  {
   "cell_type": "code",
   "execution_count": 40,
   "metadata": {},
   "outputs": [
    {
     "data": {
      "text/plain": [
       "(800, 201)"
      ]
     },
     "execution_count": 40,
     "metadata": {},
     "output_type": "execute_result"
    }
   ],
   "source": [
    "df_train, df_test = train_test_split(df_gr.loc[:1000], test_size=0.2, random_state=42)\n",
    "len(df_train), len(df_test)"
   ]
  },
  {
   "cell_type": "code",
   "execution_count": 41,
   "metadata": {},
   "outputs": [],
   "source": [
    "ds_train = FeaturesDataset(df_train)\n",
    "ds_test = FeaturesDataset(df_test)"
   ]
  },
  {
   "cell_type": "code",
   "execution_count": null,
   "metadata": {},
   "outputs": [],
   "source": []
  },
  {
   "cell_type": "code",
   "execution_count": null,
   "metadata": {
    "executionInfo": {
     "elapsed": 8,
     "status": "ok",
     "timestamp": 1655409556802,
     "user": {
      "displayName": "Шишкин Александр",
      "userId": "00721730077610513143"
     },
     "user_tz": -180
    },
    "id": "e8ycjwCRsImF"
   },
   "outputs": [],
   "source": []
  },
  {
   "cell_type": "markdown",
   "metadata": {
    "id": "cYiOr9m4sImF"
   },
   "source": [
    "## Эксперимент 3\n",
    "Трафнсформер"
   ]
  },
  {
   "cell_type": "code",
   "execution_count": 42,
   "metadata": {
    "executionInfo": {
     "elapsed": 7,
     "status": "ok",
     "timestamp": 1655409556802,
     "user": {
      "displayName": "Шишкин Александр",
      "userId": "00721730077610513143"
     },
     "user_tz": -180
    },
    "id": "LhHKcl9GeQLQ"
   },
   "outputs": [],
   "source": [
    "from torch import Tensor\n",
    "from torch.nn import Transformer\n",
    "from timeit import default_timer as timer"
   ]
  },
  {
   "cell_type": "code",
   "execution_count": 43,
   "metadata": {
    "executionInfo": {
     "elapsed": 462,
     "status": "ok",
     "timestamp": 1655409557257,
     "user": {
      "displayName": "Шишкин Александр",
      "userId": "00721730077610513143"
     },
     "user_tz": -180
    },
    "id": "XQOszE5VeQLR"
   },
   "outputs": [],
   "source": [
    "#https://pytorch.org/tutorials/beginner/translation_transformer.html\n",
    "\n",
    "# helper Module that adds positional encoding to the token embedding to introduce a notion of word order.\n",
    "class PositionalEncoding(nn.Module):\n",
    "    def __init__(self,\n",
    "                 emb_size: int,\n",
    "                 dropout: float,\n",
    "                 maxlen: int = 5000):\n",
    "        super(PositionalEncoding, self).__init__()\n",
    "        den = torch.exp(- torch.arange(0, emb_size, 2)* math.log(10000) / emb_size)\n",
    "        pos = torch.arange(0, maxlen).reshape(maxlen, 1)\n",
    "        pos_embedding = torch.zeros((maxlen, emb_size))\n",
    "        pos_embedding[:, 0::2] = torch.sin(pos * den)\n",
    "        pos_embedding[:, 1::2] = torch.cos(pos * den)\n",
    "        pos_embedding = pos_embedding.unsqueeze(-2)\n",
    "\n",
    "        self.dropout = nn.Dropout(dropout)\n",
    "        self.register_buffer('pos_embedding', pos_embedding)\n",
    "\n",
    "    def forward(self, token_embedding: Tensor):\n",
    "        return self.dropout(token_embedding + self.pos_embedding[:token_embedding.size(0), :])\n",
    "\n",
    "# helper Module to convert tensor of input indices into corresponding tensor of token embeddings\n",
    "class TokenEmbedding(nn.Module):\n",
    "    def __init__(self, vocab_size: int, emb_size):\n",
    "        super(TokenEmbedding, self).__init__()\n",
    "        self.embedding = nn.Embedding(vocab_size, emb_size)\n",
    "        self.emb_size = emb_size\n",
    "\n",
    "    def forward(self, tokens: Tensor):\n",
    "        return self.embedding(tokens.long()) * math.sqrt(self.emb_size)\n",
    "\n",
    "# Seq2Seq Network \n",
    "class Seq2SeqTransformer(nn.Module):\n",
    "    def __init__(self,\n",
    "                 num_encoder_layers: int,\n",
    "                 num_decoder_layers: int,\n",
    "                 emb_size: int,\n",
    "                 nhead: int,\n",
    "                 src_vocab_size: int,\n",
    "                 tgt_vocab_size: int,\n",
    "                 dim_feedforward: int = 512,\n",
    "                 dropout: float = 0.1):\n",
    "        super(Seq2SeqTransformer, self).__init__()\n",
    "        self.transformer = Transformer(d_model=emb_size,\n",
    "                                       nhead=nhead,\n",
    "                                       num_encoder_layers=num_encoder_layers,\n",
    "                                       num_decoder_layers=num_decoder_layers,\n",
    "                                       dim_feedforward=dim_feedforward,\n",
    "                                       dropout=dropout)\n",
    "        self.generator = nn.Linear(emb_size, tgt_vocab_size)\n",
    "        self.src_tok_emb = TokenEmbedding(src_vocab_size, emb_size)\n",
    "        self.tgt_tok_emb = TokenEmbedding(tgt_vocab_size, emb_size)\n",
    "        self.positional_encoding = PositionalEncoding(\n",
    "            emb_size, dropout=dropout)\n",
    "\n",
    "    def forward(self,\n",
    "                src: Tensor,\n",
    "                trg: Tensor,\n",
    "                src_mask: Tensor,\n",
    "                tgt_mask: Tensor,\n",
    "                src_padding_mask: Tensor,\n",
    "                tgt_padding_mask: Tensor,\n",
    "                memory_key_padding_mask: Tensor):\n",
    "        src_emb = self.positional_encoding(self.src_tok_emb(src))\n",
    "        tgt_emb = self.positional_encoding(self.tgt_tok_emb(trg))\n",
    "        outs = self.transformer(src_emb, tgt_emb, src_mask, tgt_mask, None, \n",
    "                                src_padding_mask, tgt_padding_mask, memory_key_padding_mask)\n",
    "        return self.generator(outs)\n",
    "\n",
    "    def encode(self, src: Tensor, src_mask: Tensor):\n",
    "        return self.transformer.encoder(self.positional_encoding(\n",
    "                            self.src_tok_emb(src)), src_mask)\n",
    "\n",
    "    def decode(self, tgt: Tensor, memory: Tensor, tgt_mask: Tensor):\n",
    "        return self.transformer.decoder(self.positional_encoding(\n",
    "                          self.tgt_tok_emb(tgt)), memory,\n",
    "                          tgt_mask)\n",
    "    \n",
    "    \n",
    "    \n",
    "\n",
    "\n",
    "SRC_VOCAB_SIZE = 105\n",
    "TGT_VOCAB_SIZE = 105\n",
    "EMB_SIZE = 512\n",
    "NHEAD = 8\n",
    "FFN_HID_DIM = 512\n",
    "BATCH_SIZE = 128\n",
    "NUM_ENCODER_LAYERS = 3\n",
    "NUM_DECODER_LAYERS = 3\n",
    "\n",
    "model = Seq2SeqTransformer(NUM_ENCODER_LAYERS, NUM_DECODER_LAYERS, EMB_SIZE, \n",
    "                                 NHEAD, SRC_VOCAB_SIZE, TGT_VOCAB_SIZE, FFN_HID_DIM)\n",
    "\n",
    "for p in model.parameters():\n",
    "    if p.dim() > 1:\n",
    "        nn.init.xavier_uniform_(p)\n",
    "\n",
    "model = model.to(device)\n",
    "\n",
    "loss_fn = torch.nn.CrossEntropyLoss(ignore_index=PAD_IDX)\n",
    "\n",
    "optimizer = torch.optim.Adam(model.parameters(), lr=0.0001, betas=(0.9, 0.98), eps=1e-9)\n"
   ]
  },
  {
   "cell_type": "code",
   "execution_count": 44,
   "metadata": {
    "executionInfo": {
     "elapsed": 4,
     "status": "ok",
     "timestamp": 1655409557257,
     "user": {
      "displayName": "Шишкин Александр",
      "userId": "00721730077610513143"
     },
     "user_tz": -180
    },
    "id": "7pvZ-aSPeQLR"
   },
   "outputs": [],
   "source": [
    "def generate_square_subsequent_mask(sz):\n",
    "    mask = (torch.triu(torch.ones((sz, sz), device=device)) == 1).transpose(0, 1)\n",
    "    mask = mask.float().masked_fill(mask == 0, float('-inf')).masked_fill(mask == 1, float(0.0))\n",
    "    return mask"
   ]
  },
  {
   "cell_type": "code",
   "execution_count": 45,
   "metadata": {
    "executionInfo": {
     "elapsed": 3,
     "status": "ok",
     "timestamp": 1655409557257,
     "user": {
      "displayName": "Шишкин Александр",
      "userId": "00721730077610513143"
     },
     "user_tz": -180
    },
    "id": "CHV6SOVHeQLR"
   },
   "outputs": [],
   "source": [
    "\n",
    "def create_mask(src, tgt):\n",
    "    src_seq_len = src.shape[0]\n",
    "    tgt_seq_len = tgt.shape[0]\n",
    "\n",
    "    tgt_mask = generate_square_subsequent_mask(tgt_seq_len)\n",
    "    src_mask = torch.zeros((src_seq_len, src_seq_len),device=device).type(torch.bool)\n",
    "\n",
    "    src_padding_mask = (src == PAD_IDX).transpose(0, 1)\n",
    "    tgt_padding_mask = (tgt == PAD_IDX).transpose(0, 1)\n",
    "    return src_mask, tgt_mask, src_padding_mask, tgt_padding_mask"
   ]
  },
  {
   "cell_type": "code",
   "execution_count": 46,
   "metadata": {
    "executionInfo": {
     "elapsed": 271,
     "status": "ok",
     "timestamp": 1655409557525,
     "user": {
      "displayName": "Шишкин Александр",
      "userId": "00721730077610513143"
     },
     "user_tz": -180
    },
    "id": "8x_jlujveQLR"
   },
   "outputs": [],
   "source": [
    "\n",
    "def train_epoch(model, optimizer, train_dataloader):\n",
    "    model.train()\n",
    "    losses = 0\n",
    "  \n",
    "    for batch in train_dataloader:\n",
    "        \n",
    "        src = batch.src\n",
    "        tgt = batch.trg\n",
    "        \n",
    "        src = src.to(device)\n",
    "        tgt = tgt.to(device)\n",
    "\n",
    "        tgt_input = tgt[:-1, :]\n",
    "\n",
    "        src_mask, tgt_mask, src_padding_mask, tgt_padding_mask = create_mask(src, tgt_input)\n",
    "\n",
    "        logits = model(src, tgt_input, src_mask, tgt_mask,src_padding_mask, tgt_padding_mask, src_padding_mask)\n",
    "\n",
    "        optimizer.zero_grad()\n",
    "\n",
    "        tgt_out = tgt[1:, :]\n",
    "        loss = loss_fn(logits.reshape(-1, logits.shape[-1]), tgt_out.reshape(-1))\n",
    "        loss.backward()\n",
    "\n",
    "        optimizer.step()\n",
    "        losses += loss.item()\n",
    "\n",
    "    return losses / len(train_dataloader)\n",
    "\n",
    "\n",
    "def evaluate(model, val_dataloader):\n",
    "    model.eval()\n",
    "    losses = 0\n",
    "\n",
    "    for batch in val_dataloader:\n",
    "        \n",
    "        src = batch.src\n",
    "        tgt = batch.trg\n",
    "        \n",
    "        src = src.to(device)\n",
    "        tgt = tgt.to(device)\n",
    "\n",
    "        tgt_input = tgt[:-1, :]\n",
    "\n",
    "        src_mask, tgt_mask, src_padding_mask, tgt_padding_mask = create_mask(src, tgt_input)\n",
    "\n",
    "        logits = model(src, tgt_input, src_mask, tgt_mask,src_padding_mask, tgt_padding_mask, src_padding_mask)\n",
    "        \n",
    "        tgt_out = tgt[1:, :]\n",
    "        loss = loss_fn(logits.reshape(-1, logits.shape[-1]), tgt_out.reshape(-1))\n",
    "        losses += loss.item()\n",
    "\n",
    "    return losses / len(val_dataloader)"
   ]
  },
  {
   "cell_type": "code",
   "execution_count": 48,
   "metadata": {
    "colab": {
     "base_uri": "https://localhost:8080/"
    },
    "executionInfo": {
     "elapsed": 756000,
     "status": "ok",
     "timestamp": 1655410313523,
     "user": {
      "displayName": "Шишкин Александр",
      "userId": "00721730077610513143"
     },
     "user_tz": -180
    },
    "id": "Anp1SVM5eQLR",
    "outputId": "9d461d94-9aa0-4b3e-ebfc-71d77a4d4dcd"
   },
   "outputs": [
    {
     "ename": "AttributeError",
     "evalue": "'list' object has no attribute 'src'",
     "output_type": "error",
     "traceback": [
      "\u001b[1;31m---------------------------------------------------------------------------\u001b[0m",
      "\u001b[1;31mAttributeError\u001b[0m                            Traceback (most recent call last)",
      "Input \u001b[1;32mIn [48]\u001b[0m, in \u001b[0;36m<cell line: 1>\u001b[1;34m()\u001b[0m\n\u001b[0;32m      1\u001b[0m \u001b[38;5;28;01mfor\u001b[39;00m epoch \u001b[38;5;129;01min\u001b[39;00m \u001b[38;5;28mrange\u001b[39m(\u001b[38;5;241m1\u001b[39m, N_EPOCHS\u001b[38;5;241m+\u001b[39m\u001b[38;5;241m1\u001b[39m):\n\u001b[0;32m      2\u001b[0m     start_time \u001b[38;5;241m=\u001b[39m timer()\n\u001b[1;32m----> 3\u001b[0m     train_loss \u001b[38;5;241m=\u001b[39m \u001b[43mtrain_epoch\u001b[49m\u001b[43m(\u001b[49m\u001b[43mmodel\u001b[49m\u001b[43m,\u001b[49m\u001b[43m \u001b[49m\u001b[43moptimizer\u001b[49m\u001b[43m,\u001b[49m\u001b[43m \u001b[49m\u001b[43mDataLoader\u001b[49m\u001b[43m(\u001b[49m\u001b[43mds_test\u001b[49m\u001b[43m,\u001b[49m\u001b[43m \u001b[49m\u001b[43mbatch_size\u001b[49m\u001b[38;5;241;43m=\u001b[39;49m\u001b[43m \u001b[49m\u001b[38;5;241;43m512\u001b[39;49m\u001b[43m)\u001b[49m\u001b[43m)\u001b[49m\n\u001b[0;32m      4\u001b[0m     end_time \u001b[38;5;241m=\u001b[39m timer()\n\u001b[0;32m      5\u001b[0m     val_loss \u001b[38;5;241m=\u001b[39m evaluate(model, valid_iterator)\n",
      "Input \u001b[1;32mIn [46]\u001b[0m, in \u001b[0;36mtrain_epoch\u001b[1;34m(model, optimizer, train_dataloader)\u001b[0m\n\u001b[0;32m      3\u001b[0m losses \u001b[38;5;241m=\u001b[39m \u001b[38;5;241m0\u001b[39m\n\u001b[0;32m      5\u001b[0m \u001b[38;5;28;01mfor\u001b[39;00m batch \u001b[38;5;129;01min\u001b[39;00m train_dataloader:\n\u001b[1;32m----> 7\u001b[0m     src \u001b[38;5;241m=\u001b[39m \u001b[43mbatch\u001b[49m\u001b[38;5;241;43m.\u001b[39;49m\u001b[43msrc\u001b[49m\n\u001b[0;32m      8\u001b[0m     tgt \u001b[38;5;241m=\u001b[39m batch\u001b[38;5;241m.\u001b[39mtrg\n\u001b[0;32m     10\u001b[0m     src \u001b[38;5;241m=\u001b[39m src\u001b[38;5;241m.\u001b[39mto(device)\n",
      "\u001b[1;31mAttributeError\u001b[0m: 'list' object has no attribute 'src'"
     ]
    }
   ],
   "source": [
    "\n",
    "for epoch in range(1, N_EPOCHS+1):\n",
    "    start_time = timer()\n",
    "    train_loss = train_epoch(model, optimizer, DataLoader(ds_test, batch_size= 512))\n",
    "    end_time = timer()\n",
    "    val_loss = evaluate(model, valid_iterator)\n",
    "    print((f\"Epoch: {epoch}, Train loss: {train_loss:.3f}, Val loss: {val_loss:.3f}, \"f\"Epoch time = {(end_time - start_time):.3f}s\"))\n",
    "\n"
   ]
  },
  {
   "cell_type": "code",
   "execution_count": null,
   "metadata": {
    "executionInfo": {
     "elapsed": 20,
     "status": "ok",
     "timestamp": 1655410313523,
     "user": {
      "displayName": "Шишкин Александр",
      "userId": "00721730077610513143"
     },
     "user_tz": -180
    },
    "id": "OKpBWczaeQLS"
   },
   "outputs": [],
   "source": [
    "\n",
    "# function to generate output sequence using greedy algorithm \n",
    "def greedy_decode(model, src, src_mask, max_len, start_symbol):\n",
    "    src = src.to(device)\n",
    "    src_mask = src_mask.to(device)\n",
    "\n",
    "    memory = model.encode(src, src_mask)\n",
    "    ys = torch.ones(1, 1).fill_(start_symbol).type(torch.long).to(device)\n",
    "    for i in range(max_len-1):\n",
    "        memory = memory.to(device)\n",
    "        tgt_mask = (generate_square_subsequent_mask(ys.size(0))\n",
    "                    .type(torch.bool)).to(device)\n",
    "        out = model.decode(ys, memory, tgt_mask)\n",
    "        out = out.transpose(0, 1)\n",
    "        prob = model.generator(out[:, -1])\n",
    "        _, next_word = torch.max(prob, dim=1)\n",
    "        next_word = next_word.item()\n",
    "\n",
    "        ys = torch.cat([ys,\n",
    "                        torch.ones(1, 1).type_as(src.data).fill_(next_word)], dim=0)\n",
    "        if next_word == EOS_IDX:\n",
    "            break\n",
    "    return ys\n"
   ]
  },
  {
   "cell_type": "code",
   "execution_count": null,
   "metadata": {
    "executionInfo": {
     "elapsed": 20,
     "status": "ok",
     "timestamp": 1655410313524,
     "user": {
      "displayName": "Шишкин Александр",
      "userId": "00721730077610513143"
     },
     "user_tz": -180
    },
    "id": "iQFD54yyeQLS"
   },
   "outputs": [],
   "source": []
  },
  {
   "cell_type": "code",
   "execution_count": null,
   "metadata": {
    "colab": {
     "base_uri": "https://localhost:8080/"
    },
    "executionInfo": {
     "elapsed": 19,
     "status": "ok",
     "timestamp": 1655410313524,
     "user": {
      "displayName": "Шишкин Александр",
      "userId": "00721730077610513143"
     },
     "user_tz": -180
    },
    "id": "xoMtQ0oHeQLS",
    "outputId": "c533ad28-5dcc-4915-9da6-4bd1c2528f99"
   },
   "outputs": [],
   "source": [
    "EOS_IDX = SRC.vocab.stoi[\"<eos>\"]\n",
    "BOS_IDX = SRC.vocab.stoi[\"<sos>\"]\n",
    "EOS_IDX, BOS_IDX"
   ]
  },
  {
   "cell_type": "code",
   "execution_count": null,
   "metadata": {
    "executionInfo": {
     "elapsed": 17,
     "status": "ok",
     "timestamp": 1655410313524,
     "user": {
      "displayName": "Шишкин Александр",
      "userId": "00721730077610513143"
     },
     "user_tz": -180
    },
    "id": "V5HZx_PceQLS"
   },
   "outputs": [],
   "source": [
    "def get_text(x, TRG_vocab):\n",
    "    text = []\n",
    "    for token in x:\n",
    "        try:\n",
    "            text.append(TRG_vocab.itos[token])\n",
    "        except Exception as ex:\n",
    "            text.append('-')\n",
    "    try:\n",
    "        end_idx = text.index('<eos>')\n",
    "        text = text[:end_idx]\n",
    "    except ValueError:\n",
    "        pass\n",
    "    text = remove_tech_tokens(text)\n",
    "    if len(text) < 1:\n",
    "        text = []\n",
    "    return text"
   ]
  },
  {
   "cell_type": "code",
   "execution_count": null,
   "metadata": {
    "executionInfo": {
     "elapsed": 18,
     "status": "ok",
     "timestamp": 1655410313525,
     "user": {
      "displayName": "Шишкин Александр",
      "userId": "00721730077610513143"
     },
     "user_tz": -180
    },
    "id": "vZiGxbfaeQLS"
   },
   "outputs": [],
   "source": [
    "# actual function to translate input sentence into target language\n",
    "def translate3(model: torch.nn.Module, src):\n",
    "    model.eval()\n",
    "    num_tokens = src.shape[0]\n",
    "    src_mask = (torch.zeros(num_tokens, num_tokens)).type(torch.bool)\n",
    "    tgt_tokens = greedy_decode(\n",
    "        model,  src, src_mask, max_len=num_tokens + 5, start_symbol=BOS_IDX).flatten()\n",
    "\n",
    "    res = get_text(tgt_tokens.cpu().numpy(), TRG.vocab)\n",
    "    res = [x for x in res if x not in [\"<sos>\", \"<eos>\"]]\n",
    "    return res"
   ]
  },
  {
   "cell_type": "code",
   "execution_count": null,
   "metadata": {
    "colab": {
     "base_uri": "https://localhost:8080/"
    },
    "executionInfo": {
     "elapsed": 406921,
     "status": "ok",
     "timestamp": 1655410720428,
     "user": {
      "displayName": "Шишкин Александр",
      "userId": "00721730077610513143"
     },
     "user_tz": -180
    },
    "id": "ifGh2VcleQLS",
    "outputId": "0d700e9b-fd06-4b67-ff21-d389e8bf7dd5"
   },
   "outputs": [],
   "source": [
    "original_text_trns = []\n",
    "generated_text_trns = []\n",
    "\n",
    "model.eval()\n",
    "with torch.no_grad():\n",
    "\n",
    "    for i, batch in tqdm.tqdm(enumerate(test_iterator)):\n",
    "        \n",
    "        src = batch.src\n",
    "        tgt = batch.trg\n",
    "        \n",
    "        src = src.to(device)\n",
    "        tgt = tgt.to(device)\n",
    "\n",
    "        #tgt_input = tgt[:-1, :]\n",
    "\n",
    "        #src_mask, tgt_mask, src_padding_mask, tgt_padding_mask = create_mask(src, tgt_input)\n",
    "\n",
    "        #logits = transformer(src, tgt_input, src_mask, tgt_mask,src_padding_mask, tgt_padding_mask, src_padding_mask)\n",
    "        \n",
    "        #print(logits.shape)\n",
    "        \n",
    "        #print(logits.reshape(-1, logits.shape[-1]).shape)\n",
    "        \n",
    "        \n",
    "        #tgt_out = tgt[1:, :]\n",
    "        #print(tgt_out.reshape(-1).shape)\n",
    "        \n",
    "        #print(loss_fn(logits.reshape(-1, logits.shape[-1]), tgt_out.reshape(-1)).item())\n",
    "        \n",
    "        original_text_trns.extend([get_text(x, TRG.vocab) for x in tgt.cpu().numpy().T])\n",
    "        \n",
    "        #print(tgt.shape)\n",
    "        original = [get_text(x, TRG.vocab) for x in tgt.cpu().numpy().T]\n",
    "        \n",
    "        for xx in src.cpu().numpy().T:\n",
    "            generated_text_trns.append(translate3(model, torch.tensor(xx).view(-1, 1)))\n",
    "        \n",
    "        #generated = [get_text(x, TRG.vocab) for x in tgt_tokens.cpu().numpy().T]\n",
    "        \n",
    "        \n",
    "        "
   ]
  },
  {
   "cell_type": "code",
   "execution_count": null,
   "metadata": {
    "colab": {
     "base_uri": "https://localhost:8080/"
    },
    "executionInfo": {
     "elapsed": 1186,
     "status": "ok",
     "timestamp": 1655413647835,
     "user": {
      "displayName": "Шишкин Александр",
      "userId": "00721730077610513143"
     },
     "user_tz": -180
    },
    "id": "X1xfw2gYeQLT",
    "outputId": "6585aad0-3fb1-47be-ad2c-3997caebdd62"
   },
   "outputs": [],
   "source": [
    "score_trns = corpus_bleu([[text] for text in original_text_trns], generated_text_trns) * 100\n",
    "score_trns"
   ]
  },
  {
   "cell_type": "markdown",
   "metadata": {
    "id": "EJ-bXJmkeQLT"
   },
   "source": [
    "При использовании модели трансформера качество увеличилось, метрика BLEU выросла до 31"
   ]
  },
  {
   "cell_type": "code",
   "execution_count": null,
   "metadata": {
    "executionInfo": {
     "elapsed": 10,
     "status": "ok",
     "timestamp": 1655410721690,
     "user": {
      "displayName": "Шишкин Александр",
      "userId": "00721730077610513143"
     },
     "user_tz": -180
    },
    "id": "kS2MSAm0eQLT"
   },
   "outputs": [],
   "source": []
  },
  {
   "cell_type": "code",
   "execution_count": null,
   "metadata": {
    "executionInfo": {
     "elapsed": 9,
     "status": "ok",
     "timestamp": 1655410721690,
     "user": {
      "displayName": "Шишкин Александр",
      "userId": "00721730077610513143"
     },
     "user_tz": -180
    },
    "id": "gPjAmLQcsImH"
   },
   "outputs": [],
   "source": []
  },
  {
   "cell_type": "code",
   "execution_count": null,
   "metadata": {
    "executionInfo": {
     "elapsed": 10,
     "status": "ok",
     "timestamp": 1655410721691,
     "user": {
      "displayName": "Шишкин Александр",
      "userId": "00721730077610513143"
     },
     "user_tz": -180
    },
    "id": "D9JWiIubsImH"
   },
   "outputs": [],
   "source": []
  },
  {
   "cell_type": "code",
   "execution_count": null,
   "metadata": {
    "colab": {
     "base_uri": "https://localhost:8080/"
    },
    "executionInfo": {
     "elapsed": 257,
     "status": "ok",
     "timestamp": 1655414228988,
     "user": {
      "displayName": "Шишкин Александр",
      "userId": "00721730077610513143"
     },
     "user_tz": -180
    },
    "id": "UkXID20csImH",
    "outputId": "59219e04-970f-4d1e-fe9e-accc40157e18"
   },
   "outputs": [],
   "source": [
    "models = ['baseline', 'baseline 2', 'attention', 'transformer']\n",
    "scores = [score_baseline, score_1, score_att, score_trns]\n",
    "original = [original_text_baseline, original_text_1, original_text_2, original_text_att, original_text_trns]\n",
    "generated = [generated_text_baseline, generated_text_1, generated_text_2, generated_text_att, generated_text_trns]\n",
    "\n",
    "for i in range(0, 7500, 250):\n",
    "    for score, model_name, orig, gen in zip(scores, models, original, generated):\n",
    "        print('model:', model_name, 'score:', round(score, 2))    \n",
    "        print(' '.join(orig[i]), '->\\n', ' '.join(gen[i]), '\\n', sep='')\n",
    "    print('\\n\\n')"
   ]
  },
  {
   "cell_type": "markdown",
   "metadata": {
    "id": "XdDBGt2LZSJX"
   },
   "source": [
    "Метрики моделей с вниманием и с трансформерами совпадают, но кажется что перевод модели с трансформером более качественный, это особенно заметно на длинных предложениях"
   ]
  }
 ],
 "metadata": {
  "accelerator": "GPU",
  "anaconda-cloud": {},
  "colab": {
   "collapsed_sections": [],
   "machine_shape": "hm",
   "name": "lab02_Neural_Machine_Translation.ipynb",
   "provenance": []
  },
  "gpuClass": "standard",
  "kernelspec": {
   "display_name": "Python 3 (ipykernel)",
   "language": "python",
   "name": "python3"
  },
  "language_info": {
   "codemirror_mode": {
    "name": "ipython",
    "version": 3
   },
   "file_extension": ".py",
   "mimetype": "text/x-python",
   "name": "python",
   "nbconvert_exporter": "python",
   "pygments_lexer": "ipython3",
   "version": "3.10.4"
  }
 },
 "nbformat": 4,
 "nbformat_minor": 1
}
