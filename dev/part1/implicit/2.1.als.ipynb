{
 "cells": [
  {
   "cell_type": "code",
   "execution_count": 1,
   "metadata": {},
   "outputs": [],
   "source": [
    "import pandas as pd\n",
    "import numpy as np\n",
    "from scipy import sparse\n",
    "from sklearn.preprocessing import normalize\n",
    "from tqdm.notebook import tqdm\n",
    "from sklearn.model_selection import train_test_split\n",
    "from sklearn.metrics import mean_squared_error\n",
    "import math"
   ]
  },
  {
   "cell_type": "code",
   "execution_count": 2,
   "metadata": {},
   "outputs": [],
   "source": [
    "import implicit"
   ]
  },
  {
   "cell_type": "code",
   "execution_count": null,
   "metadata": {},
   "outputs": [],
   "source": []
  },
  {
   "cell_type": "code",
   "execution_count": 3,
   "metadata": {},
   "outputs": [],
   "source": [
    "train_joke_df = pd.read_csv(r'..\\data\\recsys-in-practice\\train_joke_df.csv')"
   ]
  },
  {
   "cell_type": "code",
   "execution_count": 59,
   "metadata": {},
   "outputs": [],
   "source": [
    "train_joke_df['UID'] = train_joke_df['UID'].astype(str)\n",
    "train_joke_df['JID'] = train_joke_df['JID'].astype(str)"
   ]
  },
  {
   "cell_type": "code",
   "execution_count": 6,
   "metadata": {},
   "outputs": [],
   "source": [
    "train_df, valid_df = train_test_split(positives, test_size=0.15, random_state=42)"
   ]
  },
  {
   "cell_type": "code",
   "execution_count": 22,
   "metadata": {},
   "outputs": [
    {
     "data": {
      "text/html": [
       "<div>\n",
       "<style scoped>\n",
       "    .dataframe tbody tr th:only-of-type {\n",
       "        vertical-align: middle;\n",
       "    }\n",
       "\n",
       "    .dataframe tbody tr th {\n",
       "        vertical-align: top;\n",
       "    }\n",
       "\n",
       "    .dataframe thead th {\n",
       "        text-align: right;\n",
       "    }\n",
       "</style>\n",
       "<table border=\"1\" class=\"dataframe\">\n",
       "  <thead>\n",
       "    <tr style=\"text-align: right;\">\n",
       "      <th></th>\n",
       "      <th>UID</th>\n",
       "      <th>JID</th>\n",
       "      <th>Rating</th>\n",
       "    </tr>\n",
       "  </thead>\n",
       "  <tbody>\n",
       "    <tr>\n",
       "      <th>5</th>\n",
       "      <td>17990</td>\n",
       "      <td>36</td>\n",
       "      <td>1.0</td>\n",
       "    </tr>\n",
       "    <tr>\n",
       "      <th>12</th>\n",
       "      <td>3437</td>\n",
       "      <td>29</td>\n",
       "      <td>1.0</td>\n",
       "    </tr>\n",
       "    <tr>\n",
       "      <th>14</th>\n",
       "      <td>782</td>\n",
       "      <td>41</td>\n",
       "      <td>1.0</td>\n",
       "    </tr>\n",
       "    <tr>\n",
       "      <th>18</th>\n",
       "      <td>23812</td>\n",
       "      <td>57</td>\n",
       "      <td>1.0</td>\n",
       "    </tr>\n",
       "    <tr>\n",
       "      <th>29</th>\n",
       "      <td>6627</td>\n",
       "      <td>28</td>\n",
       "      <td>1.0</td>\n",
       "    </tr>\n",
       "    <tr>\n",
       "      <th>...</th>\n",
       "      <td>...</td>\n",
       "      <td>...</td>\n",
       "      <td>...</td>\n",
       "    </tr>\n",
       "    <tr>\n",
       "      <th>1448343</th>\n",
       "      <td>20585</td>\n",
       "      <td>30</td>\n",
       "      <td>1.0</td>\n",
       "    </tr>\n",
       "    <tr>\n",
       "      <th>1448345</th>\n",
       "      <td>14140</td>\n",
       "      <td>14</td>\n",
       "      <td>1.0</td>\n",
       "    </tr>\n",
       "    <tr>\n",
       "      <th>1448350</th>\n",
       "      <td>15184</td>\n",
       "      <td>65</td>\n",
       "      <td>1.0</td>\n",
       "    </tr>\n",
       "    <tr>\n",
       "      <th>1448355</th>\n",
       "      <td>1658</td>\n",
       "      <td>50</td>\n",
       "      <td>1.0</td>\n",
       "    </tr>\n",
       "    <tr>\n",
       "      <th>1448363</th>\n",
       "      <td>11528</td>\n",
       "      <td>3</td>\n",
       "      <td>1.0</td>\n",
       "    </tr>\n",
       "  </tbody>\n",
       "</table>\n",
       "<p>369900 rows × 3 columns</p>\n",
       "</div>"
      ],
      "text/plain": [
       "           UID  JID  Rating\n",
       "5        17990   36     1.0\n",
       "12        3437   29     1.0\n",
       "14         782   41     1.0\n",
       "18       23812   57     1.0\n",
       "29        6627   28     1.0\n",
       "...        ...  ...     ...\n",
       "1448343  20585   30     1.0\n",
       "1448345  14140   14     1.0\n",
       "1448350  15184   65     1.0\n",
       "1448355   1658   50     1.0\n",
       "1448363  11528    3     1.0\n",
       "\n",
       "[369900 rows x 3 columns]"
      ]
     },
     "execution_count": 22,
     "metadata": {},
     "output_type": "execute_result"
    }
   ],
   "source": [
    "positives = train_df[train_df[\"Rating\"] > 5].copy()\n",
    "positives['Rating'] = np.ones((len(positives)))\n",
    "positives"
   ]
  },
  {
   "cell_type": "code",
   "execution_count": null,
   "metadata": {},
   "outputs": [],
   "source": []
  },
  {
   "cell_type": "code",
   "execution_count": 21,
   "metadata": {},
   "outputs": [
    {
     "data": {
      "text/html": [
       "<div>\n",
       "<style scoped>\n",
       "    .dataframe tbody tr th:only-of-type {\n",
       "        vertical-align: middle;\n",
       "    }\n",
       "\n",
       "    .dataframe tbody tr th {\n",
       "        vertical-align: top;\n",
       "    }\n",
       "\n",
       "    .dataframe thead th {\n",
       "        text-align: right;\n",
       "    }\n",
       "</style>\n",
       "<table border=\"1\" class=\"dataframe\">\n",
       "  <thead>\n",
       "    <tr style=\"text-align: right;\">\n",
       "      <th></th>\n",
       "      <th>UID</th>\n",
       "      <th>JID</th>\n",
       "      <th>Rating</th>\n",
       "    </tr>\n",
       "  </thead>\n",
       "  <tbody>\n",
       "    <tr>\n",
       "      <th>4</th>\n",
       "      <td>11365</td>\n",
       "      <td>38</td>\n",
       "      <td>-6.60</td>\n",
       "    </tr>\n",
       "    <tr>\n",
       "      <th>7</th>\n",
       "      <td>8665</td>\n",
       "      <td>35</td>\n",
       "      <td>-8.35</td>\n",
       "    </tr>\n",
       "    <tr>\n",
       "      <th>19</th>\n",
       "      <td>15949</td>\n",
       "      <td>24</td>\n",
       "      <td>-9.66</td>\n",
       "    </tr>\n",
       "    <tr>\n",
       "      <th>21</th>\n",
       "      <td>17533</td>\n",
       "      <td>45</td>\n",
       "      <td>-5.39</td>\n",
       "    </tr>\n",
       "    <tr>\n",
       "      <th>24</th>\n",
       "      <td>4468</td>\n",
       "      <td>14</td>\n",
       "      <td>-6.50</td>\n",
       "    </tr>\n",
       "    <tr>\n",
       "      <th>...</th>\n",
       "      <td>...</td>\n",
       "      <td>...</td>\n",
       "      <td>...</td>\n",
       "    </tr>\n",
       "    <tr>\n",
       "      <th>1448338</th>\n",
       "      <td>18497</td>\n",
       "      <td>7</td>\n",
       "      <td>-8.98</td>\n",
       "    </tr>\n",
       "    <tr>\n",
       "      <th>1448340</th>\n",
       "      <td>20299</td>\n",
       "      <td>67</td>\n",
       "      <td>-9.56</td>\n",
       "    </tr>\n",
       "    <tr>\n",
       "      <th>1448342</th>\n",
       "      <td>18920</td>\n",
       "      <td>51</td>\n",
       "      <td>-8.79</td>\n",
       "    </tr>\n",
       "    <tr>\n",
       "      <th>1448353</th>\n",
       "      <td>20587</td>\n",
       "      <td>16</td>\n",
       "      <td>-8.59</td>\n",
       "    </tr>\n",
       "    <tr>\n",
       "      <th>1448361</th>\n",
       "      <td>21056</td>\n",
       "      <td>40</td>\n",
       "      <td>-9.56</td>\n",
       "    </tr>\n",
       "  </tbody>\n",
       "</table>\n",
       "<p>246190 rows × 3 columns</p>\n",
       "</div>"
      ],
      "text/plain": [
       "           UID  JID  Rating\n",
       "4        11365   38   -6.60\n",
       "7         8665   35   -8.35\n",
       "19       15949   24   -9.66\n",
       "21       17533   45   -5.39\n",
       "24        4468   14   -6.50\n",
       "...        ...  ...     ...\n",
       "1448338  18497    7   -8.98\n",
       "1448340  20299   67   -9.56\n",
       "1448342  18920   51   -8.79\n",
       "1448353  20587   16   -8.59\n",
       "1448361  21056   40   -9.56\n",
       "\n",
       "[246190 rows x 3 columns]"
      ]
     },
     "execution_count": 21,
     "metadata": {},
     "output_type": "execute_result"
    }
   ],
   "source": [
    "negatives = train_df[train_df[\"Rating\"] < -5].copy()\n",
    "negatives['Rating'] = np.ones((len(negatives)))\n",
    "negatives"
   ]
  },
  {
   "cell_type": "code",
   "execution_count": 80,
   "metadata": {},
   "outputs": [
    {
     "data": {
      "text/html": [
       "<div>\n",
       "<style scoped>\n",
       "    .dataframe tbody tr th:only-of-type {\n",
       "        vertical-align: middle;\n",
       "    }\n",
       "\n",
       "    .dataframe tbody tr th {\n",
       "        vertical-align: top;\n",
       "    }\n",
       "\n",
       "    .dataframe thead th {\n",
       "        text-align: right;\n",
       "    }\n",
       "</style>\n",
       "<table border=\"1\" class=\"dataframe\">\n",
       "  <thead>\n",
       "    <tr style=\"text-align: right;\">\n",
       "      <th></th>\n",
       "      <th>history</th>\n",
       "    </tr>\n",
       "    <tr>\n",
       "      <th>UID</th>\n",
       "      <th></th>\n",
       "    </tr>\n",
       "  </thead>\n",
       "  <tbody>\n",
       "    <tr>\n",
       "      <th>1</th>\n",
       "      <td>[53, 30, 15, 7, 29, 38, 20, 32, 54, 59, 3, 82,...</td>\n",
       "    </tr>\n",
       "    <tr>\n",
       "      <th>10</th>\n",
       "      <td>[9, 39, 34, 57, 63, 23, 45, 43, 6, 31, 1, 18, ...</td>\n",
       "    </tr>\n",
       "    <tr>\n",
       "      <th>100</th>\n",
       "      <td>[69, 28, 54, 39, 8, 36, 46, 53, 32, 20, 66, 16...</td>\n",
       "    </tr>\n",
       "    <tr>\n",
       "      <th>1000</th>\n",
       "      <td>[60, 62, 8, 32, 54, 63, 26, 38, 57, 30, 37, 12...</td>\n",
       "    </tr>\n",
       "    <tr>\n",
       "      <th>10000</th>\n",
       "      <td>[14, 18, 68, 66, 53, 40, 49, 69, 12, 50, 23, 2...</td>\n",
       "    </tr>\n",
       "    <tr>\n",
       "      <th>...</th>\n",
       "      <td>...</td>\n",
       "    </tr>\n",
       "    <tr>\n",
       "      <th>9995</th>\n",
       "      <td>[32, 5, 13, 48, 27, 77, 21, 63, 36, 38, 11, 65...</td>\n",
       "    </tr>\n",
       "    <tr>\n",
       "      <th>9996</th>\n",
       "      <td>[70, 39, 7, 51, 13, 89, 38, 25, 26, 17, 69, 31...</td>\n",
       "    </tr>\n",
       "    <tr>\n",
       "      <th>9997</th>\n",
       "      <td>[20, 8, 38, 17, 55, 1, 22, 29, 53, 49, 85, 45,...</td>\n",
       "    </tr>\n",
       "    <tr>\n",
       "      <th>9998</th>\n",
       "      <td>[85, 67, 40, 19, 31, 94, 27, 52, 1, 56, 26, 47...</td>\n",
       "    </tr>\n",
       "    <tr>\n",
       "      <th>9999</th>\n",
       "      <td>[19, 98, 55, 61, 4, 82, 72, 32, 7, 67, 18, 73,...</td>\n",
       "    </tr>\n",
       "  </tbody>\n",
       "</table>\n",
       "<p>24983 rows × 1 columns</p>\n",
       "</div>"
      ],
      "text/plain": [
       "                                                 history\n",
       "UID                                                     \n",
       "1      [53, 30, 15, 7, 29, 38, 20, 32, 54, 59, 3, 82,...\n",
       "10     [9, 39, 34, 57, 63, 23, 45, 43, 6, 31, 1, 18, ...\n",
       "100    [69, 28, 54, 39, 8, 36, 46, 53, 32, 20, 66, 16...\n",
       "1000   [60, 62, 8, 32, 54, 63, 26, 38, 57, 30, 37, 12...\n",
       "10000  [14, 18, 68, 66, 53, 40, 49, 69, 12, 50, 23, 2...\n",
       "...                                                  ...\n",
       "9995   [32, 5, 13, 48, 27, 77, 21, 63, 36, 38, 11, 65...\n",
       "9996   [70, 39, 7, 51, 13, 89, 38, 25, 26, 17, 69, 31...\n",
       "9997   [20, 8, 38, 17, 55, 1, 22, 29, 53, 49, 85, 45,...\n",
       "9998   [85, 67, 40, 19, 31, 94, 27, 52, 1, 56, 26, 47...\n",
       "9999   [19, 98, 55, 61, 4, 82, 72, 32, 7, 67, 18, 73,...\n",
       "\n",
       "[24983 rows x 1 columns]"
      ]
     },
     "execution_count": 80,
     "metadata": {},
     "output_type": "execute_result"
    }
   ],
   "source": [
    "history = train_joke_df.groupby('UID').agg({'JID':list}).rename(columns={'JID':'history'})\n",
    "history"
   ]
  },
  {
   "cell_type": "code",
   "execution_count": null,
   "metadata": {},
   "outputs": [],
   "source": []
  },
  {
   "cell_type": "code",
   "execution_count": 69,
   "metadata": {},
   "outputs": [],
   "source": [
    "class Encoder:\n",
    "    def __init__(self, arr):\n",
    "        self.idx = {}\n",
    "        self.pid = {}\n",
    "        for idx, pid in enumerate(arr):\n",
    "            self.idx[pid] = idx\n",
    "            self.pid[idx] = pid\n",
    "\n",
    "    def toIdx(self, x):\n",
    "        if type(x) == str:\n",
    "            pid = x\n",
    "            return self.idx[pid]\n",
    "        return [self.idx[pid] for pid in x]\n",
    "\n",
    "    def toPid(self, x):\n",
    "        if type(x) == int:\n",
    "            idx = x\n",
    "            return self.pid[idx]\n",
    "        return [self.pid[idx] for idx in x]\n",
    "\n",
    "    def __len__(self):\n",
    "        return len(self.idx)"
   ]
  },
  {
   "cell_type": "code",
   "execution_count": 70,
   "metadata": {},
   "outputs": [],
   "source": [
    "user_encoder = Encoder(np.unique(train_joke_df['UID']))"
   ]
  },
  {
   "cell_type": "code",
   "execution_count": 72,
   "metadata": {},
   "outputs": [],
   "source": [
    "item_encoder = Encoder(np.unique(train_joke_df['JID']))"
   ]
  },
  {
   "cell_type": "code",
   "execution_count": 73,
   "metadata": {},
   "outputs": [
    {
     "data": {
      "text/plain": [
       "0"
      ]
     },
     "execution_count": 73,
     "metadata": {},
     "output_type": "execute_result"
    }
   ],
   "source": [
    "item_encoder.toIdx('1')"
   ]
  },
  {
   "cell_type": "code",
   "execution_count": 74,
   "metadata": {},
   "outputs": [
    {
     "data": {
      "text/plain": [
       "'1'"
      ]
     },
     "execution_count": 74,
     "metadata": {},
     "output_type": "execute_result"
    }
   ],
   "source": [
    "item_encoder.toPid(0)"
   ]
  },
  {
   "cell_type": "code",
   "execution_count": 75,
   "metadata": {},
   "outputs": [
    {
     "data": {
      "text/plain": [
       "100"
      ]
     },
     "execution_count": 75,
     "metadata": {},
     "output_type": "execute_result"
    }
   ],
   "source": [
    "len(item_encoder)"
   ]
  },
  {
   "cell_type": "code",
   "execution_count": null,
   "metadata": {},
   "outputs": [],
   "source": []
  },
  {
   "cell_type": "code",
   "execution_count": 115,
   "metadata": {},
   "outputs": [],
   "source": [
    "def make_coo_row(history, encoder: Encoder):\n",
    "    idx = []\n",
    "    values = []\n",
    "\n",
    "    items = []\n",
    "    for trans in history:\n",
    "        items.extend([i for i in trans])\n",
    "\n",
    "    #display(items)\n",
    "    for item in items:\n",
    "        idx.append(encoder.toIdx(item))\n",
    "        values.append(1.0)\n",
    "\n",
    "    #display(idx)\n",
    "    #display(values)\n",
    "    return sparse.coo_matrix(\n",
    "        (np.array(values).astype(np.float32), ([0] * len(idx), idx)), shape=(1, len(encoder)),\n",
    "    )"
   ]
  },
  {
   "cell_type": "code",
   "execution_count": 116,
   "metadata": {},
   "outputs": [
    {
     "data": {
      "text/plain": [
       "array([[1., 1., 0., 0., 1., 1., 1., 1., 1., 1., 1., 0., 1., 1., 1., 1.,\n",
       "        1., 1., 0., 1., 1., 1., 1., 1., 1., 0., 1., 1., 0., 1., 1., 1.,\n",
       "        1., 0., 1., 0., 1., 1., 1., 1., 1., 0., 1., 1., 0., 1., 1., 1.,\n",
       "        1., 1., 1., 1., 1., 1., 1., 1., 1., 0., 1., 1., 1., 1., 0., 1.,\n",
       "        1., 1., 1., 1., 1., 0., 0., 0., 0., 0., 0., 0., 1., 0., 1., 0.,\n",
       "        0., 1., 0., 0., 0., 0., 0., 0., 0., 1., 0., 0., 0., 0., 0., 0.,\n",
       "        0., 1., 0., 0.]], dtype=float32)"
      ]
     },
     "execution_count": 116,
     "metadata": {},
     "output_type": "execute_result"
    }
   ],
   "source": [
    "make_coo_row(history.loc['1'].values, item_encoder).toarray()"
   ]
  },
  {
   "cell_type": "code",
   "execution_count": 120,
   "metadata": {},
   "outputs": [
    {
     "data": {
      "application/vnd.jupyter.widget-view+json": {
       "model_id": "1db311bca8a742de9e448ea0491a58d2",
       "version_major": 2,
       "version_minor": 0
      },
      "text/plain": [
       "  0%|          | 0/24983 [00:00<?, ?it/s]"
      ]
     },
     "metadata": {},
     "output_type": "display_data"
    }
   ],
   "source": [
    "rows = []\n",
    "for i, hist in enumerate(tqdm(history.values)):\n",
    "    rows.append(make_coo_row(hist, item_encoder))"
   ]
  },
  {
   "cell_type": "code",
   "execution_count": null,
   "metadata": {},
   "outputs": [],
   "source": []
  },
  {
   "cell_type": "code",
   "execution_count": 121,
   "metadata": {},
   "outputs": [],
   "source": [
    "X_sparse = sparse.vstack(rows).tocsr()"
   ]
  },
  {
   "cell_type": "code",
   "execution_count": 122,
   "metadata": {},
   "outputs": [
    {
     "data": {
      "text/plain": [
       "<24983x100 sparse matrix of type '<class 'numpy.float32'>'\n",
       "\twith 1448364 stored elements in Compressed Sparse Row format>"
      ]
     },
     "execution_count": 122,
     "metadata": {},
     "output_type": "execute_result"
    }
   ],
   "source": [
    "X_sparse"
   ]
  },
  {
   "cell_type": "code",
   "execution_count": 9,
   "metadata": {},
   "outputs": [
    {
     "data": {
      "text/plain": [
       "(22663, 100)"
      ]
     },
     "execution_count": 9,
     "metadata": {},
     "output_type": "execute_result"
    }
   ],
   "source": [
    "X_sparse_pos = to_csr(positives)\n",
    "X_sparse_neg = to_csr(negatives)"
   ]
  },
  {
   "cell_type": "code",
   "execution_count": 129,
   "metadata": {},
   "outputs": [
    {
     "name": "stderr",
     "output_type": "stream",
     "text": [
      "C:\\ProgramData\\Anaconda3\\envs\\torchvision\\lib\\site-packages\\implicit\\utils.py:138: ParameterWarning: Method expects CSR input, and was passed csc_matrix instead. Converting to CSR took 0.0070002079010009766 seconds\n",
      "  warnings.warn(\n"
     ]
    },
    {
     "data": {
      "application/vnd.jupyter.widget-view+json": {
       "model_id": "095840c3cf1245009747dd9837835634",
       "version_major": 2,
       "version_minor": 0
      },
      "text/plain": [
       "  0%|          | 0/8 [00:00<?, ?it/s]"
      ]
     },
     "metadata": {},
     "output_type": "display_data"
    }
   ],
   "source": [
    "model = implicit.als.AlternatingLeastSquares(factors=16, regularization=0.0, iterations=8)\n",
    "model.fit(X_sparse.T)"
   ]
  },
  {
   "cell_type": "code",
   "execution_count": 130,
   "metadata": {},
   "outputs": [
    {
     "data": {
      "text/plain": [
       "(array([    0, 13644,  4476, 16531, 11516, 22630,  4347, 17384,   700,\n",
       "         9983]),\n",
       " array([1.        , 0.88279974, 0.8800397 , 0.8745552 , 0.8613354 ,\n",
       "        0.85230607, 0.8467042 , 0.84244394, 0.83925617, 0.8350803 ],\n",
       "       dtype=float32))"
      ]
     },
     "execution_count": 130,
     "metadata": {},
     "output_type": "execute_result"
    }
   ],
   "source": [
    "model.similar_items(0)"
   ]
  },
  {
   "cell_type": "code",
   "execution_count": null,
   "metadata": {},
   "outputs": [],
   "source": []
  },
  {
   "cell_type": "code",
   "execution_count": null,
   "metadata": {},
   "outputs": [],
   "source": [
    "model_neg = implicit.als.AlternatingLeastSquares(factors=16, regularization=0.0, iterations=8)\n",
    "model_neg.fit(X_sparse_neg.T)"
   ]
  },
  {
   "cell_type": "code",
   "execution_count": 43,
   "metadata": {},
   "outputs": [
    {
     "data": {
      "text/html": [
       "<div>\n",
       "<style scoped>\n",
       "    .dataframe tbody tr th:only-of-type {\n",
       "        vertical-align: middle;\n",
       "    }\n",
       "\n",
       "    .dataframe tbody tr th {\n",
       "        vertical-align: top;\n",
       "    }\n",
       "\n",
       "    .dataframe thead th {\n",
       "        text-align: right;\n",
       "    }\n",
       "</style>\n",
       "<table border=\"1\" class=\"dataframe\">\n",
       "  <thead>\n",
       "    <tr style=\"text-align: right;\">\n",
       "      <th></th>\n",
       "      <th>UID</th>\n",
       "      <th>JID</th>\n",
       "      <th>Rating</th>\n",
       "    </tr>\n",
       "  </thead>\n",
       "  <tbody>\n",
       "    <tr>\n",
       "      <th>1359204</th>\n",
       "      <td>8706</td>\n",
       "      <td>26</td>\n",
       "      <td>7.82</td>\n",
       "    </tr>\n",
       "    <tr>\n",
       "      <th>896526</th>\n",
       "      <td>11106</td>\n",
       "      <td>8</td>\n",
       "      <td>7.48</td>\n",
       "    </tr>\n",
       "    <tr>\n",
       "      <th>1359992</th>\n",
       "      <td>9738</td>\n",
       "      <td>15</td>\n",
       "      <td>6.26</td>\n",
       "    </tr>\n",
       "    <tr>\n",
       "      <th>121837</th>\n",
       "      <td>12447</td>\n",
       "      <td>64</td>\n",
       "      <td>5.78</td>\n",
       "    </tr>\n",
       "    <tr>\n",
       "      <th>1152944</th>\n",
       "      <td>6160</td>\n",
       "      <td>32</td>\n",
       "      <td>8.35</td>\n",
       "    </tr>\n",
       "    <tr>\n",
       "      <th>...</th>\n",
       "      <td>...</td>\n",
       "      <td>...</td>\n",
       "      <td>...</td>\n",
       "    </tr>\n",
       "    <tr>\n",
       "      <th>1420145</th>\n",
       "      <td>10778</td>\n",
       "      <td>31</td>\n",
       "      <td>9.03</td>\n",
       "    </tr>\n",
       "    <tr>\n",
       "      <th>979625</th>\n",
       "      <td>20954</td>\n",
       "      <td>12</td>\n",
       "      <td>6.75</td>\n",
       "    </tr>\n",
       "    <tr>\n",
       "      <th>1299559</th>\n",
       "      <td>21544</td>\n",
       "      <td>46</td>\n",
       "      <td>9.03</td>\n",
       "    </tr>\n",
       "    <tr>\n",
       "      <th>1398909</th>\n",
       "      <td>11978</td>\n",
       "      <td>38</td>\n",
       "      <td>8.30</td>\n",
       "    </tr>\n",
       "    <tr>\n",
       "      <th>1062565</th>\n",
       "      <td>12792</td>\n",
       "      <td>57</td>\n",
       "      <td>5.97</td>\n",
       "    </tr>\n",
       "  </tbody>\n",
       "</table>\n",
       "<p>55485 rows × 3 columns</p>\n",
       "</div>"
      ],
      "text/plain": [
       "           UID  JID  Rating\n",
       "1359204   8706   26    7.82\n",
       "896526   11106    8    7.48\n",
       "1359992   9738   15    6.26\n",
       "121837   12447   64    5.78\n",
       "1152944   6160   32    8.35\n",
       "...        ...  ...     ...\n",
       "1420145  10778   31    9.03\n",
       "979625   20954   12    6.75\n",
       "1299559  21544   46    9.03\n",
       "1398909  11978   38    8.30\n",
       "1062565  12792   57    5.97\n",
       "\n",
       "[55485 rows x 3 columns]"
      ]
     },
     "execution_count": 43,
     "metadata": {},
     "output_type": "execute_result"
    }
   ],
   "source": [
    "valid_df"
   ]
  },
  {
   "cell_type": "code",
   "execution_count": 50,
   "metadata": {},
   "outputs": [
    {
     "data": {
      "text/plain": [
       "array([   25,  7473,  6666, 14336, 22520, 10301,  9573, 13342, 20084,\n",
       "       18025])"
      ]
     },
     "execution_count": 50,
     "metadata": {},
     "output_type": "execute_result"
    }
   ],
   "source": [
    "sim_items = model_pos.similar_items(joke_id)\n",
    "sim_items[0]"
   ]
  },
  {
   "cell_type": "code",
   "execution_count": 127,
   "metadata": {},
   "outputs": [
    {
     "ename": "TypeError",
     "evalue": "'NoneType' object is not subscriptable",
     "output_type": "error",
     "traceback": [
      "\u001b[1;31m---------------------------------------------------------------------------\u001b[0m",
      "\u001b[1;31mTypeError\u001b[0m                                 Traceback (most recent call last)",
      "Input \u001b[1;32mIn [127]\u001b[0m, in \u001b[0;36m<cell line: 9>\u001b[1;34m()\u001b[0m\n\u001b[0;32m      6\u001b[0m joke_id \u001b[38;5;241m=\u001b[39m \u001b[38;5;241m26\u001b[39m \u001b[38;5;241m-\u001b[39m \u001b[38;5;241m1\u001b[39m \u001b[38;5;66;03m#int(row['JID']) - 1\u001b[39;00m\n\u001b[0;32m      8\u001b[0m ratings \u001b[38;5;241m=\u001b[39m []\n\u001b[1;32m----> 9\u001b[0m sim_items \u001b[38;5;241m=\u001b[39m \u001b[43mmodel\u001b[49m\u001b[38;5;241;43m.\u001b[39;49m\u001b[43msimilar_items\u001b[49m\u001b[43m(\u001b[49m\u001b[43mjoke_id\u001b[49m\u001b[43m)\u001b[49m\n\u001b[0;32m     10\u001b[0m sim_users \u001b[38;5;241m=\u001b[39m model\u001b[38;5;241m.\u001b[39msimilar_users(user_id)\n\u001b[0;32m     12\u001b[0m \u001b[38;5;28;01mfor\u001b[39;00m sim_item \u001b[38;5;129;01min\u001b[39;00m sim_items[\u001b[38;5;241m0\u001b[39m]:\n",
      "File \u001b[1;32mC:\\ProgramData\\Anaconda3\\envs\\torchvision\\lib\\site-packages\\implicit\\cpu\\matrix_factorization_base.py:180\u001b[0m, in \u001b[0;36mMatrixFactorizationBase.similar_items\u001b[1;34m(self, itemid, N, recalculate_item, item_users, filter_items, items)\u001b[0m\n\u001b[0;32m    177\u001b[0m \u001b[38;5;28;01mdef\u001b[39;00m \u001b[38;5;21msimilar_items\u001b[39m(\n\u001b[0;32m    178\u001b[0m     \u001b[38;5;28mself\u001b[39m, itemid, N\u001b[38;5;241m=\u001b[39m\u001b[38;5;241m10\u001b[39m, recalculate_item\u001b[38;5;241m=\u001b[39m\u001b[38;5;28;01mFalse\u001b[39;00m, item_users\u001b[38;5;241m=\u001b[39m\u001b[38;5;28;01mNone\u001b[39;00m, filter_items\u001b[38;5;241m=\u001b[39m\u001b[38;5;28;01mNone\u001b[39;00m, items\u001b[38;5;241m=\u001b[39m\u001b[38;5;28;01mNone\u001b[39;00m\n\u001b[0;32m    179\u001b[0m ):\n\u001b[1;32m--> 180\u001b[0m     factor \u001b[38;5;241m=\u001b[39m \u001b[38;5;28;43mself\u001b[39;49m\u001b[38;5;241;43m.\u001b[39;49m\u001b[43m_item_factor\u001b[49m\u001b[43m(\u001b[49m\u001b[43mitemid\u001b[49m\u001b[43m,\u001b[49m\u001b[43m \u001b[49m\u001b[43mitem_users\u001b[49m\u001b[43m,\u001b[49m\u001b[43m \u001b[49m\u001b[43mrecalculate_item\u001b[49m\u001b[43m)\u001b[49m\n\u001b[0;32m    181\u001b[0m     factors \u001b[38;5;241m=\u001b[39m \u001b[38;5;28mself\u001b[39m\u001b[38;5;241m.\u001b[39mitem_factors\n\u001b[0;32m    182\u001b[0m     norms \u001b[38;5;241m=\u001b[39m \u001b[38;5;28mself\u001b[39m\u001b[38;5;241m.\u001b[39mitem_norms\n",
      "File \u001b[1;32mC:\\ProgramData\\Anaconda3\\envs\\torchvision\\lib\\site-packages\\implicit\\cpu\\matrix_factorization_base.py:140\u001b[0m, in \u001b[0;36mMatrixFactorizationBase._item_factor\u001b[1;34m(self, itemid, item_users, recalculate_item)\u001b[0m\n\u001b[0;32m    138\u001b[0m \u001b[38;5;28;01mif\u001b[39;00m recalculate_item:\n\u001b[0;32m    139\u001b[0m     \u001b[38;5;28;01mreturn\u001b[39;00m \u001b[38;5;28mself\u001b[39m\u001b[38;5;241m.\u001b[39mrecalculate_item(itemid, item_users)\n\u001b[1;32m--> 140\u001b[0m \u001b[38;5;28;01mreturn\u001b[39;00m \u001b[38;5;28;43mself\u001b[39;49m\u001b[38;5;241;43m.\u001b[39;49m\u001b[43mitem_factors\u001b[49m\u001b[43m[\u001b[49m\u001b[43mitemid\u001b[49m\u001b[43m]\u001b[49m\n",
      "\u001b[1;31mTypeError\u001b[0m: 'NoneType' object is not subscriptable"
     ]
    }
   ],
   "source": [
    "df = train_df\n",
    "#model = model_pos\n",
    "\n",
    "#for i, row in tqdm(valid_df.values):\n",
    "user_id = 8706 - 1#int(row['UID']) - 1\n",
    "joke_id = 26 - 1 #int(row['JID']) - 1\n",
    "\n",
    "ratings = []\n",
    "sim_items = model.similar_items(joke_id)\n",
    "sim_users = model.similar_users(user_id)\n",
    "\n",
    "for sim_item in sim_items[0]:\n",
    "    u_df = df.loc[(df['UID'] == user_id + 1) & (df['JID'] == sim_item + 1)]\n",
    "    display(u_df)\n",
    "            \n",
    "\n",
    "for sim_user in sim_users[0]:\n",
    "    j_df = df.loc[(df['UID'] == sim_user + 1) & (df['JID'] == joke_id + 1)]\n",
    "    display(j_df)\n",
    "    \n",
    "    \n",
    "#if i > 10:\n",
    "#    break"
   ]
  },
  {
   "cell_type": "code",
   "execution_count": 8,
   "metadata": {},
   "outputs": [],
   "source": []
  },
  {
   "cell_type": "code",
   "execution_count": 42,
   "metadata": {},
   "outputs": [
    {
     "data": {
      "text/html": [
       "<div>\n",
       "<style scoped>\n",
       "    .dataframe tbody tr th:only-of-type {\n",
       "        vertical-align: middle;\n",
       "    }\n",
       "\n",
       "    .dataframe tbody tr th {\n",
       "        vertical-align: top;\n",
       "    }\n",
       "\n",
       "    .dataframe thead th {\n",
       "        text-align: right;\n",
       "    }\n",
       "</style>\n",
       "<table border=\"1\" class=\"dataframe\">\n",
       "  <thead>\n",
       "    <tr style=\"text-align: right;\">\n",
       "      <th></th>\n",
       "      <th>UID</th>\n",
       "      <th>JID</th>\n",
       "      <th>Rating</th>\n",
       "    </tr>\n",
       "  </thead>\n",
       "  <tbody>\n",
       "    <tr>\n",
       "      <th>1055207</th>\n",
       "      <td>1</td>\n",
       "      <td>2</td>\n",
       "      <td>8.79</td>\n",
       "    </tr>\n",
       "    <tr>\n",
       "      <th>1418149</th>\n",
       "      <td>1</td>\n",
       "      <td>14</td>\n",
       "      <td>8.45</td>\n",
       "    </tr>\n",
       "    <tr>\n",
       "      <th>1150603</th>\n",
       "      <td>1</td>\n",
       "      <td>27</td>\n",
       "      <td>7.82</td>\n",
       "    </tr>\n",
       "    <tr>\n",
       "      <th>80144</th>\n",
       "      <td>1</td>\n",
       "      <td>29</td>\n",
       "      <td>9.13</td>\n",
       "    </tr>\n",
       "    <tr>\n",
       "      <th>839221</th>\n",
       "      <td>1</td>\n",
       "      <td>35</td>\n",
       "      <td>5.05</td>\n",
       "    </tr>\n",
       "    <tr>\n",
       "      <th>138284</th>\n",
       "      <td>1</td>\n",
       "      <td>54</td>\n",
       "      <td>8.30</td>\n",
       "    </tr>\n",
       "    <tr>\n",
       "      <th>349879</th>\n",
       "      <td>1</td>\n",
       "      <td>61</td>\n",
       "      <td>8.59</td>\n",
       "    </tr>\n",
       "    <tr>\n",
       "      <th>375964</th>\n",
       "      <td>1</td>\n",
       "      <td>68</td>\n",
       "      <td>8.30</td>\n",
       "    </tr>\n",
       "    <tr>\n",
       "      <th>1003269</th>\n",
       "      <td>1</td>\n",
       "      <td>69</td>\n",
       "      <td>5.68</td>\n",
       "    </tr>\n",
       "  </tbody>\n",
       "</table>\n",
       "</div>"
      ],
      "text/plain": [
       "         UID  JID  Rating\n",
       "1055207    1    2    8.79\n",
       "1418149    1   14    8.45\n",
       "1150603    1   27    7.82\n",
       "80144      1   29    9.13\n",
       "839221     1   35    5.05\n",
       "138284     1   54    8.30\n",
       "349879     1   61    8.59\n",
       "375964     1   68    8.30\n",
       "1003269    1   69    5.68"
      ]
     },
     "execution_count": 42,
     "metadata": {},
     "output_type": "execute_result"
    }
   ],
   "source": [
    "train_joke_df.loc[(train_joke_df['UID'] == 1) & (train_joke_df['Rating'] > 5)].sort_values('JID')"
   ]
  },
  {
   "cell_type": "code",
   "execution_count": 41,
   "metadata": {},
   "outputs": [
    {
     "data": {
      "text/html": [
       "<div>\n",
       "<style scoped>\n",
       "    .dataframe tbody tr th:only-of-type {\n",
       "        vertical-align: middle;\n",
       "    }\n",
       "\n",
       "    .dataframe tbody tr th {\n",
       "        vertical-align: top;\n",
       "    }\n",
       "\n",
       "    .dataframe thead th {\n",
       "        text-align: right;\n",
       "    }\n",
       "</style>\n",
       "<table border=\"1\" class=\"dataframe\">\n",
       "  <thead>\n",
       "    <tr style=\"text-align: right;\">\n",
       "      <th></th>\n",
       "      <th>UID</th>\n",
       "      <th>JID</th>\n",
       "      <th>Rating</th>\n",
       "    </tr>\n",
       "  </thead>\n",
       "  <tbody>\n",
       "    <tr>\n",
       "      <th>770624</th>\n",
       "      <td>17671</td>\n",
       "      <td>7</td>\n",
       "      <td>7.38</td>\n",
       "    </tr>\n",
       "    <tr>\n",
       "      <th>378259</th>\n",
       "      <td>17671</td>\n",
       "      <td>14</td>\n",
       "      <td>7.96</td>\n",
       "    </tr>\n",
       "    <tr>\n",
       "      <th>398403</th>\n",
       "      <td>17671</td>\n",
       "      <td>19</td>\n",
       "      <td>8.59</td>\n",
       "    </tr>\n",
       "    <tr>\n",
       "      <th>972905</th>\n",
       "      <td>17671</td>\n",
       "      <td>26</td>\n",
       "      <td>8.54</td>\n",
       "    </tr>\n",
       "    <tr>\n",
       "      <th>1152645</th>\n",
       "      <td>17671</td>\n",
       "      <td>27</td>\n",
       "      <td>8.01</td>\n",
       "    </tr>\n",
       "    <tr>\n",
       "      <th>963301</th>\n",
       "      <td>17671</td>\n",
       "      <td>28</td>\n",
       "      <td>7.14</td>\n",
       "    </tr>\n",
       "    <tr>\n",
       "      <th>552741</th>\n",
       "      <td>17671</td>\n",
       "      <td>29</td>\n",
       "      <td>8.25</td>\n",
       "    </tr>\n",
       "    <tr>\n",
       "      <th>854006</th>\n",
       "      <td>17671</td>\n",
       "      <td>36</td>\n",
       "      <td>6.80</td>\n",
       "    </tr>\n",
       "    <tr>\n",
       "      <th>825523</th>\n",
       "      <td>17671</td>\n",
       "      <td>47</td>\n",
       "      <td>6.31</td>\n",
       "    </tr>\n",
       "    <tr>\n",
       "      <th>191168</th>\n",
       "      <td>17671</td>\n",
       "      <td>53</td>\n",
       "      <td>6.36</td>\n",
       "    </tr>\n",
       "    <tr>\n",
       "      <th>1302275</th>\n",
       "      <td>17671</td>\n",
       "      <td>61</td>\n",
       "      <td>6.94</td>\n",
       "    </tr>\n",
       "    <tr>\n",
       "      <th>1211028</th>\n",
       "      <td>17671</td>\n",
       "      <td>97</td>\n",
       "      <td>6.50</td>\n",
       "    </tr>\n",
       "  </tbody>\n",
       "</table>\n",
       "</div>"
      ],
      "text/plain": [
       "           UID  JID  Rating\n",
       "770624   17671    7    7.38\n",
       "378259   17671   14    7.96\n",
       "398403   17671   19    8.59\n",
       "972905   17671   26    8.54\n",
       "1152645  17671   27    8.01\n",
       "963301   17671   28    7.14\n",
       "552741   17671   29    8.25\n",
       "854006   17671   36    6.80\n",
       "825523   17671   47    6.31\n",
       "191168   17671   53    6.36\n",
       "1302275  17671   61    6.94\n",
       "1211028  17671   97    6.50"
      ]
     },
     "execution_count": 41,
     "metadata": {},
     "output_type": "execute_result"
    }
   ],
   "source": [
    "train_joke_df.loc[(train_joke_df['UID'] == 17671) & (train_joke_df['Rating'] > 5)].sort_values('JID')"
   ]
  },
  {
   "cell_type": "code",
   "execution_count": null,
   "metadata": {},
   "outputs": [],
   "source": []
  },
  {
   "cell_type": "code",
   "execution_count": 19,
   "metadata": {},
   "outputs": [
    {
     "data": {
      "text/plain": [
       "(array([    0, 17670, 22296, 21780, 11494, 15553,  9187,  3695,  1841,\n",
       "        14449]),\n",
       " array([0.9999999 , 0.9211741 , 0.8317306 , 0.8303811 , 0.82221484,\n",
       "        0.81230956, 0.8023888 , 0.79893845, 0.7965063 , 0.79022676],\n",
       "       dtype=float32))"
      ]
     },
     "execution_count": 19,
     "metadata": {},
     "output_type": "execute_result"
    }
   ],
   "source": [
    "model_pos.similar_items(0)"
   ]
  },
  {
   "cell_type": "code",
   "execution_count": 20,
   "metadata": {},
   "outputs": [
    {
     "data": {
      "text/plain": [
       "(array([ 0,  2, 63, 40,  1, 22, 32,  8, 58, 54]),\n",
       " array([1.        , 0.97699744, 0.97001505, 0.9645086 , 0.95583564,\n",
       "        0.95353734, 0.9501611 , 0.94154257, 0.93922323, 0.93723714],\n",
       "       dtype=float32))"
      ]
     },
     "execution_count": 20,
     "metadata": {},
     "output_type": "execute_result"
    }
   ],
   "source": [
    "model_pos.similar_users(0)"
   ]
  },
  {
   "cell_type": "code",
   "execution_count": null,
   "metadata": {},
   "outputs": [],
   "source": []
  },
  {
   "cell_type": "code",
   "execution_count": null,
   "metadata": {},
   "outputs": [],
   "source": []
  },
  {
   "cell_type": "code",
   "execution_count": null,
   "metadata": {},
   "outputs": [],
   "source": []
  }
 ],
 "metadata": {
  "kernelspec": {
   "display_name": "Python 3 (ipykernel)",
   "language": "python",
   "name": "python3"
  },
  "language_info": {
   "codemirror_mode": {
    "name": "ipython",
    "version": 3
   },
   "file_extension": ".py",
   "mimetype": "text/x-python",
   "name": "python",
   "nbconvert_exporter": "python",
   "pygments_lexer": "ipython3",
   "version": "3.9.12"
  }
 },
 "nbformat": 4,
 "nbformat_minor": 2
}
