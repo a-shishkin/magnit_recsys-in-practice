{
 "cells": [
  {
   "cell_type": "code",
   "execution_count": 1,
   "id": "60236c2a",
   "metadata": {},
   "outputs": [
    {
     "name": "stderr",
     "output_type": "stream",
     "text": [
      "C:\\ProgramData\\Anaconda3\\envs\\torchvision2\\lib\\site-packages\\lightfm\\_lightfm_fast.py:9: UserWarning: LightFM was compiled without OpenMP support. Only a single thread will be used.\n",
      "  warnings.warn(\n"
     ]
    }
   ],
   "source": [
    "from copy import deepcopy\n",
    "from itertools import combinations\n",
    "import pickle\n",
    "import typing as tp\n",
    "from zipfile import ZipFile\n",
    "import pickle\n",
    "from lightfm import LightFM\n",
    "from lightfm.data import Dataset as LFMDataset\n",
    "import numpy as np\n",
    "import pandas as pd\n",
    "from scipy.sparse import coo_matrix\n",
    "from sklearn.preprocessing import normalize\n",
    "from transliterate import translit\n",
    "from tqdm.notebook import tqdm\n",
    "from sklearn.model_selection import train_test_split\n",
    "from sklearn.metrics import ndcg_score"
   ]
  },
  {
   "cell_type": "code",
   "execution_count": 2,
   "id": "234877f9",
   "metadata": {},
   "outputs": [],
   "source": [
    "RANDOM_STATE = 42"
   ]
  },
  {
   "cell_type": "code",
   "execution_count": null,
   "id": "214dc5b2",
   "metadata": {},
   "outputs": [],
   "source": []
  },
  {
   "cell_type": "markdown",
   "id": "980cfb52",
   "metadata": {},
   "source": [
    "## Загрузка данных"
   ]
  },
  {
   "cell_type": "markdown",
   "id": "c57a95ce",
   "metadata": {},
   "source": [
    "Для целей семинара используем анонимизированные данные по просмотрам в онлайн-кинотеатре Кион. Мы имеем данные по действиям примерно за полгода, а также признаки пользователей и контента."
   ]
  },
  {
   "cell_type": "code",
   "execution_count": 4,
   "id": "9eef0d83",
   "metadata": {},
   "outputs": [
    {
     "data": {
      "text/html": [
       "<div>\n",
       "<style scoped>\n",
       "    .dataframe tbody tr th:only-of-type {\n",
       "        vertical-align: middle;\n",
       "    }\n",
       "\n",
       "    .dataframe tbody tr th {\n",
       "        vertical-align: top;\n",
       "    }\n",
       "\n",
       "    .dataframe thead th {\n",
       "        text-align: right;\n",
       "    }\n",
       "</style>\n",
       "<table border=\"1\" class=\"dataframe\">\n",
       "  <thead>\n",
       "    <tr style=\"text-align: right;\">\n",
       "      <th></th>\n",
       "      <th>UID</th>\n",
       "      <th>JID</th>\n",
       "      <th>Rating</th>\n",
       "    </tr>\n",
       "  </thead>\n",
       "  <tbody>\n",
       "    <tr>\n",
       "      <th>0</th>\n",
       "      <td>18029</td>\n",
       "      <td>6</td>\n",
       "      <td>-1.26</td>\n",
       "    </tr>\n",
       "    <tr>\n",
       "      <th>1</th>\n",
       "      <td>3298</td>\n",
       "      <td>64</td>\n",
       "      <td>-4.17</td>\n",
       "    </tr>\n",
       "    <tr>\n",
       "      <th>2</th>\n",
       "      <td>3366</td>\n",
       "      <td>58</td>\n",
       "      <td>0.92</td>\n",
       "    </tr>\n",
       "    <tr>\n",
       "      <th>3</th>\n",
       "      <td>12735</td>\n",
       "      <td>92</td>\n",
       "      <td>3.69</td>\n",
       "    </tr>\n",
       "    <tr>\n",
       "      <th>4</th>\n",
       "      <td>11365</td>\n",
       "      <td>38</td>\n",
       "      <td>-6.60</td>\n",
       "    </tr>\n",
       "    <tr>\n",
       "      <th>...</th>\n",
       "      <td>...</td>\n",
       "      <td>...</td>\n",
       "      <td>...</td>\n",
       "    </tr>\n",
       "    <tr>\n",
       "      <th>1448359</th>\n",
       "      <td>22604</td>\n",
       "      <td>26</td>\n",
       "      <td>2.82</td>\n",
       "    </tr>\n",
       "    <tr>\n",
       "      <th>1448360</th>\n",
       "      <td>22255</td>\n",
       "      <td>36</td>\n",
       "      <td>-1.94</td>\n",
       "    </tr>\n",
       "    <tr>\n",
       "      <th>1448361</th>\n",
       "      <td>21056</td>\n",
       "      <td>40</td>\n",
       "      <td>-9.56</td>\n",
       "    </tr>\n",
       "    <tr>\n",
       "      <th>1448362</th>\n",
       "      <td>12328</td>\n",
       "      <td>97</td>\n",
       "      <td>0.87</td>\n",
       "    </tr>\n",
       "    <tr>\n",
       "      <th>1448363</th>\n",
       "      <td>11528</td>\n",
       "      <td>3</td>\n",
       "      <td>9.32</td>\n",
       "    </tr>\n",
       "  </tbody>\n",
       "</table>\n",
       "<p>1448364 rows × 3 columns</p>\n",
       "</div>"
      ],
      "text/plain": [
       "           UID  JID  Rating\n",
       "0        18029    6   -1.26\n",
       "1         3298   64   -4.17\n",
       "2         3366   58    0.92\n",
       "3        12735   92    3.69\n",
       "4        11365   38   -6.60\n",
       "...        ...  ...     ...\n",
       "1448359  22604   26    2.82\n",
       "1448360  22255   36   -1.94\n",
       "1448361  21056   40   -9.56\n",
       "1448362  12328   97    0.87\n",
       "1448363  11528    3    9.32\n",
       "\n",
       "[1448364 rows x 3 columns]"
      ]
     },
     "execution_count": 4,
     "metadata": {},
     "output_type": "execute_result"
    }
   ],
   "source": [
    "interactions = pd.read_csv(r'../../data/recsys-in-practice/train_joke_df.csv')\n",
    "interactions"
   ]
  },
  {
   "cell_type": "code",
   "execution_count": 5,
   "id": "c2177696",
   "metadata": {},
   "outputs": [
    {
     "name": "stdout",
     "output_type": "stream",
     "text": [
      "-9.95 10.0 10.0\n",
      "0.0 1.0\n"
     ]
    }
   ],
   "source": [
    "rating = interactions['Rating'].values\n",
    "print(np.min(rating), np.max(np.abs(rating)), np.max(np.abs(rating)))\n",
    "\n",
    "rating_norm = (rating - np.min(rating)) / (np.max(rating) - np.min(rating))\n",
    "#rating_norm = rating / np.max(np.abs(rating))\n",
    "print(np.min(rating_norm), np.max(rating_norm))\n",
    "\n",
    "interactions['Rating_norm'] = rating_norm"
   ]
  },
  {
   "cell_type": "code",
   "execution_count": null,
   "id": "418d4cef",
   "metadata": {},
   "outputs": [],
   "source": []
  },
  {
   "cell_type": "code",
   "execution_count": null,
   "id": "0b3b3ddf",
   "metadata": {},
   "outputs": [],
   "source": []
  },
  {
   "cell_type": "code",
   "execution_count": 6,
   "id": "a80e9efd",
   "metadata": {},
   "outputs": [
    {
     "data": {
      "text/html": [
       "<div>\n",
       "<style scoped>\n",
       "    .dataframe tbody tr th:only-of-type {\n",
       "        vertical-align: middle;\n",
       "    }\n",
       "\n",
       "    .dataframe tbody tr th {\n",
       "        vertical-align: top;\n",
       "    }\n",
       "\n",
       "    .dataframe thead th {\n",
       "        text-align: right;\n",
       "    }\n",
       "</style>\n",
       "<table border=\"1\" class=\"dataframe\">\n",
       "  <thead>\n",
       "    <tr style=\"text-align: right;\">\n",
       "      <th></th>\n",
       "      <th>UID</th>\n",
       "      <th>JID</th>\n",
       "      <th>Rating</th>\n",
       "      <th>Rating_norm</th>\n",
       "    </tr>\n",
       "  </thead>\n",
       "  <tbody>\n",
       "    <tr>\n",
       "      <th>0</th>\n",
       "      <td>18029</td>\n",
       "      <td>6</td>\n",
       "      <td>-1.26</td>\n",
       "      <td>0.435589</td>\n",
       "    </tr>\n",
       "    <tr>\n",
       "      <th>1</th>\n",
       "      <td>3298</td>\n",
       "      <td>64</td>\n",
       "      <td>-4.17</td>\n",
       "      <td>0.289724</td>\n",
       "    </tr>\n",
       "    <tr>\n",
       "      <th>2</th>\n",
       "      <td>3366</td>\n",
       "      <td>58</td>\n",
       "      <td>0.92</td>\n",
       "      <td>0.544862</td>\n",
       "    </tr>\n",
       "    <tr>\n",
       "      <th>3</th>\n",
       "      <td>12735</td>\n",
       "      <td>92</td>\n",
       "      <td>3.69</td>\n",
       "      <td>0.683709</td>\n",
       "    </tr>\n",
       "    <tr>\n",
       "      <th>4</th>\n",
       "      <td>11365</td>\n",
       "      <td>38</td>\n",
       "      <td>-6.60</td>\n",
       "      <td>0.167920</td>\n",
       "    </tr>\n",
       "  </tbody>\n",
       "</table>\n",
       "</div>"
      ],
      "text/plain": [
       "     UID  JID  Rating  Rating_norm\n",
       "0  18029    6   -1.26     0.435589\n",
       "1   3298   64   -4.17     0.289724\n",
       "2   3366   58    0.92     0.544862\n",
       "3  12735   92    3.69     0.683709\n",
       "4  11365   38   -6.60     0.167920"
      ]
     },
     "execution_count": 6,
     "metadata": {},
     "output_type": "execute_result"
    }
   ],
   "source": [
    "interactions.head()"
   ]
  },
  {
   "cell_type": "code",
   "execution_count": null,
   "id": "e9689acc",
   "metadata": {},
   "outputs": [],
   "source": []
  },
  {
   "cell_type": "markdown",
   "id": "06bdd48a",
   "metadata": {},
   "source": [
    "Определим последний доступный день в выборке как тестовый, а 3 месяца до него - обучающей выборкой.\n",
    "\n",
    "Для простоты:\n",
    "- удачным взаимодействием будем считать просмотр любой длительности и при обучении будем использовать только эту информацию, игнорируя данные о признаках пользователей и контента\n",
    "- не будем обрабатывать \"холодных\" пользователей, просто удалим их из тестовой выборки"
   ]
  },
  {
   "cell_type": "code",
   "execution_count": 7,
   "id": "12ab0fee",
   "metadata": {},
   "outputs": [],
   "source": [
    "train, test = train_test_split(interactions, test_size=0.15, random_state=42)"
   ]
  },
  {
   "cell_type": "code",
   "execution_count": null,
   "id": "0ba62db7",
   "metadata": {},
   "outputs": [],
   "source": []
  },
  {
   "cell_type": "code",
   "execution_count": 6,
   "id": "d5db13b9",
   "metadata": {},
   "outputs": [],
   "source": [
    "#assert False"
   ]
  },
  {
   "cell_type": "markdown",
   "id": "98e7d24b",
   "metadata": {},
   "source": [
    "## Добавление аватаров в обучающую выборку"
   ]
  },
  {
   "cell_type": "markdown",
   "id": "7a1ee2b0",
   "metadata": {},
   "source": [
    "Далее для построения рекомендаций будем использовать алгоритм матричного разложения из библиотеки LightFM. Для формирования рекомендаций для аватаров необходимо, чтобы действия аватаров были в обучающей выборке.\n",
    "\n",
    "Отметим, что добавляя действия аватаров в обучающую выборку, мы несколько изменяем ее распределение. Обычно этим можно пренебречь, т.к. объем обучающей выборки (в нашем случае 5 млн наблюдений) значительно больше объема действий аватаров (10 наблюдений)."
   ]
  },
  {
   "cell_type": "code",
   "execution_count": null,
   "id": "829250c9",
   "metadata": {},
   "outputs": [],
   "source": []
  },
  {
   "cell_type": "markdown",
   "id": "24939430",
   "metadata": {},
   "source": [
    "## Обучение модели"
   ]
  },
  {
   "cell_type": "code",
   "execution_count": 5,
   "id": "22c2b5de",
   "metadata": {},
   "outputs": [],
   "source": [
    "lfm_dataset = LFMDataset()\n",
    "lfm_dataset.fit(\n",
    "    users=train[\"UID\"].values,\n",
    "    items=train[\"JID\"].values,\n",
    ")\n",
    "\n",
    "train_matrix, _ = lfm_dataset.build_interactions(zip(*train[[\"UID\", \"JID\"]].values.T))"
   ]
  },
  {
   "cell_type": "code",
   "execution_count": 8,
   "id": "5f6145ba",
   "metadata": {},
   "outputs": [],
   "source": [
    "lfm_model = LightFM(\n",
    "    learning_rate=0.01, \n",
    "    loss='warp', \n",
    "    no_components=64,\n",
    "    random_state=RANDOM_STATE\n",
    ")\n",
    "lfm_model.fit(\n",
    "    interactions=train_matrix, \n",
    "    epochs=15,\n",
    "    num_threads=20\n",
    ");"
   ]
  },
  {
   "cell_type": "code",
   "execution_count": 9,
   "id": "768fc42e",
   "metadata": {},
   "outputs": [],
   "source": [
    "with open('jokes_lfm_model.pkl', 'wb') as f:\n",
    "    pickle.dump(lfm_model, f)"
   ]
  },
  {
   "cell_type": "code",
   "execution_count": 10,
   "id": "2d11cbc0",
   "metadata": {},
   "outputs": [
    {
     "ename": "AssertionError",
     "evalue": "",
     "output_type": "error",
     "traceback": [
      "\u001b[0;31m---------------------------------------------------------------------------\u001b[0m",
      "\u001b[0;31mAssertionError\u001b[0m                            Traceback (most recent call last)",
      "Input \u001b[0;32mIn [10]\u001b[0m, in \u001b[0;36m<cell line: 1>\u001b[0;34m()\u001b[0m\n\u001b[0;32m----> 1\u001b[0m \u001b[38;5;28;01massert\u001b[39;00m \u001b[38;5;28;01mFalse\u001b[39;00m\n",
      "\u001b[0;31mAssertionError\u001b[0m: "
     ]
    }
   ],
   "source": [
    "assert False"
   ]
  },
  {
   "cell_type": "markdown",
   "id": "75f8db06",
   "metadata": {},
   "source": [
    "## Рекомендации для аватаров"
   ]
  },
  {
   "cell_type": "code",
   "execution_count": null,
   "id": "89a0e87a",
   "metadata": {},
   "outputs": [],
   "source": [
    "n_recommendations = 10"
   ]
  },
  {
   "cell_type": "code",
   "execution_count": null,
   "id": "3768ef80",
   "metadata": {},
   "outputs": [],
   "source": [
    "id_item_mapping = {v: k for k, v in lfm_dataset._item_id_mapping.items()}"
   ]
  },
  {
   "cell_type": "code",
   "execution_count": null,
   "id": "dd07558e",
   "metadata": {},
   "outputs": [],
   "source": []
  },
  {
   "cell_type": "code",
   "execution_count": null,
   "id": "cedf9566",
   "metadata": {},
   "outputs": [],
   "source": [
    "def get_n_recommendations_for_user(\n",
    "    user_id: str,\n",
    "    model: LightFM,\n",
    "    train_matrix: coo_matrix,\n",
    "    user_to_id: tp.Dict[str, int],\n",
    "    id_to_item: tp.Dict[int, str],\n",
    "    n_recommendations: int,\n",
    "    model_name: str\n",
    ") -> pd.DataFrame:\n",
    "    \n",
    "    if model_name == 'random':\n",
    "        return np.random.choice(train[\"JID\"].values, n_recommendations)\n",
    "    \n",
    "    if model_name == 'popular':\n",
    "        return list(train[\"JID\"].value_counts()[:n_recommendations].index)\n",
    "    \n",
    "    user_inner_id = user_to_id[user_id]\n",
    "    scores = model.predict(\n",
    "        user_ids=user_inner_id,\n",
    "        item_ids=np.arange(train_matrix.shape[1]),\n",
    "        num_threads=20\n",
    "    )\n",
    "    user_watched_items = train_matrix.col[train_matrix.row == user_inner_id]\n",
    "    scores[user_watched_items] = -np.inf\n",
    "\n",
    "    recommended_item_inner_ids = np.argpartition(scores, -np.arange(n_recommendations))[\n",
    "        -n_recommendations:\n",
    "    ][::-1]\n",
    "    recommended_item_ids = [id_to_item[x] for x in recommended_item_inner_ids]\n",
    "    return recommended_item_ids\n"
   ]
  },
  {
   "cell_type": "code",
   "execution_count": null,
   "id": "22cd9105",
   "metadata": {},
   "outputs": [],
   "source": []
  },
  {
   "cell_type": "code",
   "execution_count": null,
   "id": "0984e9c0",
   "metadata": {},
   "outputs": [],
   "source": [
    "get_n_recommendations_for_user(\n",
    "    user_id=1,\n",
    "    model=lfm_model,\n",
    "    train_matrix=train_matrix,\n",
    "    user_to_id=lfm_dataset._user_id_mapping,\n",
    "    id_to_item=id_item_mapping,\n",
    "    n_recommendations=n_recommendations,\n",
    "    model_name=None\n",
    ")"
   ]
  },
  {
   "cell_type": "code",
   "execution_count": null,
   "id": "1f44a243",
   "metadata": {},
   "outputs": [],
   "source": []
  },
  {
   "cell_type": "code",
   "execution_count": null,
   "id": "5484f1da",
   "metadata": {},
   "outputs": [],
   "source": [
    "user_id = 1\n",
    "\n",
    "recommended_items = get_n_recommendations_for_user(\n",
    "    user_id=user_id,\n",
    "    model=lfm_model,\n",
    "    train_matrix=train_matrix,\n",
    "    user_to_id=lfm_dataset._user_id_mapping,\n",
    "    id_to_item=id_item_mapping,\n",
    "    n_recommendations=n_recommendations,\n",
    "    model_name=None\n",
    ")\n",
    "pd.DataFrame({\"user_id\": user_id, \"item_id\": recommended_items})"
   ]
  },
  {
   "cell_type": "code",
   "execution_count": null,
   "id": "bc8ede22",
   "metadata": {},
   "outputs": [],
   "source": [
    "user_id = 2\n",
    "\n",
    "recommended_items = get_n_recommendations_for_user(\n",
    "    user_id=user_id,\n",
    "    model=lfm_model,\n",
    "    train_matrix=train_matrix,\n",
    "    user_to_id=lfm_dataset._user_id_mapping,\n",
    "    id_to_item=id_item_mapping,\n",
    "    n_recommendations=n_recommendations,\n",
    "    model_name=None\n",
    ")\n",
    "pd.DataFrame({\"user_id\": user_id, \"item_id\": recommended_items})"
   ]
  },
  {
   "cell_type": "code",
   "execution_count": null,
   "id": "f2e3d3b2",
   "metadata": {},
   "outputs": [],
   "source": [
    "# самые просматриваемые в обучающей выборке\n",
    "train[\"JID\"].value_counts().head(10)"
   ]
  },
  {
   "cell_type": "code",
   "execution_count": null,
   "id": "b53062cc",
   "metadata": {},
   "outputs": [],
   "source": []
  },
  {
   "cell_type": "code",
   "execution_count": null,
   "id": "32c720dc",
   "metadata": {},
   "outputs": [],
   "source": []
  },
  {
   "cell_type": "markdown",
   "id": "c3e845f0",
   "metadata": {},
   "source": [
    "Мы получили, что рекомендации для аватаров имеют сильное пересечение, обусловленное перекосом к рекомендациям популярного контента."
   ]
  },
  {
   "cell_type": "code",
   "execution_count": null,
   "id": "2984814e",
   "metadata": {},
   "outputs": [],
   "source": []
  },
  {
   "cell_type": "code",
   "execution_count": null,
   "id": "bd16d5fd",
   "metadata": {},
   "outputs": [],
   "source": [
    "assert False"
   ]
  },
  {
   "cell_type": "code",
   "execution_count": null,
   "id": "3a86f8e1",
   "metadata": {},
   "outputs": [],
   "source": [
    "with open('jokes_lfm_model.pkl', 'rb') as f:\n",
    "    lfm_model = pickle.load(f)"
   ]
  },
  {
   "cell_type": "markdown",
   "id": "389b8990",
   "metadata": {},
   "source": [
    "##  Попробуем побороться с перекосом к популярным"
   ]
  },
  {
   "cell_type": "markdown",
   "id": "f1665330",
   "metadata": {},
   "source": [
    "Алгоритм обучает для каждого пользователя $u$ и товара $i$ соответственно смещения $b_u$, $b_i$ и эмбеддинги $p_u$, $q_i$. Для формирования рекомендаций для пользователя выбираются товары, имеющие наибольшие значения скоров, определяющихся по формуле:\n",
    "\n",
    "$$score_{ui} = b_u + b_i + p_u \\cdot q_i = b_u + b_i + \\cos ( p_u, q_i ) \\cdot || p_u || \\cdot || q_i || .$$\n",
    "\n",
    "Часто перекос к популярным выражается в больших значениях смещений или норм эмбеддингов у популярных товаров. В таких случаях может помочь переход от ранжирования по значениям скалярных произведений к ранжированию по косинусам угла между эмбеддингами пользователей и товаров.\n",
    "\n",
    "Для перехода к косинусам согласно формуле выше достаточно заменить $b_u$ и $b_i$ нулями и привести нормы $p_u$ и $q_i$ к единицам."
   ]
  },
  {
   "cell_type": "code",
   "execution_count": null,
   "id": "86370703",
   "metadata": {},
   "outputs": [],
   "source": [
    "lfm_model_cos = deepcopy(lfm_model)\n",
    "\n",
    "lfm_model_cos.item_biases = np.zeros_like(lfm_model_cos.item_biases)\n",
    "lfm_model_cos.user_biases = np.zeros_like(lfm_model_cos.user_biases)\n",
    "\n",
    "lfm_model_cos.item_embeddings = normalize(lfm_model_cos.item_embeddings)\n",
    "lfm_model_cos.user_embeddings = normalize(lfm_model_cos.user_embeddings)"
   ]
  },
  {
   "cell_type": "code",
   "execution_count": null,
   "id": "4395803a",
   "metadata": {},
   "outputs": [],
   "source": [
    "user_id = 1\n",
    "\n",
    "recommended_items = get_n_recommendations_for_user(\n",
    "    user_id=user_id,\n",
    "    model=lfm_model_cos,\n",
    "    train_matrix=train_matrix,\n",
    "    user_to_id=lfm_dataset._user_id_mapping,\n",
    "    id_to_item=id_item_mapping,\n",
    "    n_recommendations=n_recommendations,\n",
    "    model_name=None\n",
    ")\n",
    "pd.DataFrame({\"UID\": user_id, \"JID\": recommended_items})"
   ]
  },
  {
   "cell_type": "code",
   "execution_count": null,
   "id": "53fec94e",
   "metadata": {},
   "outputs": [],
   "source": [
    "user_id = 2\n",
    "\n",
    "recommended_items = get_n_recommendations_for_user(\n",
    "    user_id=user_id,\n",
    "    model=lfm_model_cos,\n",
    "    train_matrix=train_matrix,\n",
    "    user_to_id=lfm_dataset._user_id_mapping,\n",
    "    id_to_item=id_item_mapping,\n",
    "    n_recommendations=n_recommendations,\n",
    "    model_name=None\n",
    ")\n",
    "pd.DataFrame({\"UID\": user_id, \"JID\": recommended_items})"
   ]
  },
  {
   "cell_type": "markdown",
   "id": "f2080867",
   "metadata": {},
   "source": [
    "Видно, что рекомендации стали более персонализированными для аватаров и исчезло преобладание популярного контента. Однако говорить о том, что новая версия модели лучше рано. Выводы стоит делать после того, как будут в том числе проведены количественные оценки качества (оффлайн и онлайн метрики)."
   ]
  },
  {
   "cell_type": "code",
   "execution_count": null,
   "id": "7301dd5f",
   "metadata": {},
   "outputs": [],
   "source": []
  },
  {
   "cell_type": "markdown",
   "id": "b2b15747",
   "metadata": {},
   "source": [
    "## Расчет рекомендаций"
   ]
  },
  {
   "cell_type": "markdown",
   "id": "3b57d5c5",
   "metadata": {},
   "source": [
    "Сформируем таблицы рекомендаций для пользователей из тестовой выборки.\n",
    "\n",
    "Далее с помощью этих таблиц будут оценены метрики beyond accuracy. Методологически вернее оценивать данные метрики на всей пользовательской базе, а не только для пользователей, имеющих действия в тестовой выборке. Здесь мы этим пренебрежем для экономии вычислительных ресурсов."
   ]
  },
  {
   "cell_type": "code",
   "execution_count": null,
   "id": "e0b88d50",
   "metadata": {},
   "outputs": [],
   "source": [
    "models_dict = {\"lfm\": lfm_model, \"lfm_cos\": lfm_model_cos, 'random':None, 'popular':None}"
   ]
  },
  {
   "cell_type": "code",
   "execution_count": null,
   "id": "0bf8170a",
   "metadata": {},
   "outputs": [],
   "source": []
  },
  {
   "cell_type": "code",
   "execution_count": null,
   "id": "76f08a7a",
   "metadata": {},
   "outputs": [],
   "source": []
  },
  {
   "cell_type": "code",
   "execution_count": null,
   "id": "e0831ba9",
   "metadata": {},
   "outputs": [],
   "source": [
    "recommendations_dict = {}\n",
    "for model_name, model in tqdm(models_dict.items()):\n",
    "    recommendations = pd.DataFrame({\"UID\": test[\"UID\"].unique()})\n",
    "    recommendations[\"JID\"] = recommendations[\"UID\"].apply(\n",
    "        get_n_recommendations_for_user,\n",
    "        args=(\n",
    "            model,\n",
    "            train_matrix,\n",
    "            lfm_dataset._user_id_mapping,\n",
    "            id_item_mapping,\n",
    "            n_recommendations,\n",
    "            model_name\n",
    "        ),\n",
    "    )\n",
    "    recommendations = recommendations.explode(\"JID\")\n",
    "    recommendations[\"rank\"] = recommendations.groupby([\"UID\"]).cumcount() + 1\n",
    "    recommendations_dict[model_name] = recommendations\n",
    "    "
   ]
  },
  {
   "cell_type": "code",
   "execution_count": null,
   "id": "96330bdb",
   "metadata": {},
   "outputs": [],
   "source": [
    "with open('jokes_recommendations_dict.pkl', 'wb') as f:\n",
    "    pickle.dump(recommendations_dict, f)"
   ]
  },
  {
   "cell_type": "code",
   "execution_count": null,
   "id": "6f7231fa",
   "metadata": {},
   "outputs": [],
   "source": [
    "assert False"
   ]
  },
  {
   "cell_type": "code",
   "execution_count": null,
   "id": "d6be80bc",
   "metadata": {},
   "outputs": [],
   "source": [
    "with open('jokes_recommendations_dict.pkl', 'rb') as f:\n",
    "    recommendations_dict = pickle.load(f)"
   ]
  },
  {
   "cell_type": "markdown",
   "id": "d6121189",
   "metadata": {},
   "source": [
    "# Оценка beyond accuracy метрик\n",
    "## Intra-List Diversity"
   ]
  },
  {
   "cell_type": "markdown",
   "id": "6720e7c2",
   "metadata": {},
   "source": [
    "Оценим для обеих моделей среднее разнообразие контента в полках с помощью метрики $ILD$:\n",
    "\n",
    "$$ ILD = \\frac{1}{|R| ( |R| - 1 )} \\sum_{i \\in R} \\sum_{j \\in R} d(i, j) . $$\n",
    "\n",
    "В качестве расстояния $d(i, j)$ используем [расстояние Хэмминга](https://neerc.ifmo.ru/wiki/index.php?title=Расстояние_Хэмминга) между one-hot векторами жанров. Пример расчета:\n",
    "\n",
    "##### <center>d(10<font color='blue'>1</font>1<font color='blue'>1</font>01, 10<font color='red'>0</font>1<font color='red'>0</font>01) = 2.</center>\n",
    "\n"
   ]
  },
  {
   "cell_type": "markdown",
   "id": "1f693994",
   "metadata": {},
   "source": [
    "Для оценки расстояния Хэмминга между фильмами вытянем список жанров в one-hot векторы."
   ]
  },
  {
   "cell_type": "markdown",
   "id": "473c35ce",
   "metadata": {},
   "source": [
    "Модель, тяготеющая к рекомендации популярного контента, отдает более разнообразные полки по набору жанров. Это логично, т.к. подборки популярного контента обычно разнообразны по значениям различных наборов признаков."
   ]
  },
  {
   "cell_type": "code",
   "execution_count": null,
   "id": "6c53023d",
   "metadata": {},
   "outputs": [],
   "source": []
  },
  {
   "cell_type": "code",
   "execution_count": null,
   "id": "9c3e8bb9",
   "metadata": {},
   "outputs": [],
   "source": []
  },
  {
   "cell_type": "code",
   "execution_count": null,
   "id": "a07cd65f",
   "metadata": {},
   "outputs": [],
   "source": []
  },
  {
   "cell_type": "code",
   "execution_count": null,
   "id": "3533fb78",
   "metadata": {},
   "outputs": [],
   "source": []
  },
  {
   "cell_type": "markdown",
   "id": "4b2e6b6a",
   "metadata": {},
   "source": [
    "## Mean Inverse User Frequency"
   ]
  },
  {
   "cell_type": "markdown",
   "id": "1b0c6975",
   "metadata": {},
   "source": [
    "Оценим новизну рекомендаций. Новизна товара обратно пропорциональна количеству пользователей, которые с ним взаимодействовали в обучающей выборке. Значение метрики для полки определяется как средняя \"новизна\" товаров в полке.\n",
    "\n",
    "$$ MIUF = -\\frac{1}{|R|} \\sum_{i \\in R} \\log_2 \\frac{|U_i|}{|U|} $$"
   ]
  },
  {
   "cell_type": "code",
   "execution_count": null,
   "id": "d02c3c11",
   "metadata": {},
   "outputs": [],
   "source": [
    "def calculate_mean_inv_user_frequency_per_user(recommendations: pd.DataFrame, train: pd.DataFrame) -> pd.Series:\n",
    "    n_users = train[\"UID\"].nunique()\n",
    "    n_users_per_item = train.groupby(\"JID\")[\"UID\"].nunique()\n",
    "    \n",
    "    recommendations_ = recommendations[[\"UID\", \"JID\"]].copy()\n",
    "    recommendations_[\"n_users_per_item\"] = recommendations_[\"JID\"].map(n_users_per_item)\n",
    "    recommendations_[\"inv_user_freq\"] = -np.log2(recommendations_[\"n_users_per_item\"] / n_users)\n",
    "    return recommendations_[[\"UID\", \"inv_user_freq\"]].groupby(\"UID\").agg(\"mean\")"
   ]
  },
  {
   "cell_type": "code",
   "execution_count": null,
   "id": "c832bff9",
   "metadata": {},
   "outputs": [],
   "source": [
    "for model_name, recommendations in recommendations_dict.items():\n",
    "    miuf_per_user = calculate_mean_inv_user_frequency_per_user(recommendations, train)\n",
    "    print(f\"model: {model_name}, mean miuf: {round(float(miuf_per_user.mean()), 2)}\\n\")"
   ]
  },
  {
   "cell_type": "markdown",
   "id": "301022f6",
   "metadata": {},
   "source": [
    "Естественно, модель, отдающая полки с популярным контентом, имеет значительно меньшее значение метрики, т.к. метрика принимает высокие значения в тех случаях, когда подборка состоит из контента в \"длинном\" хвосте."
   ]
  },
  {
   "cell_type": "code",
   "execution_count": null,
   "id": "29601dce",
   "metadata": {},
   "outputs": [],
   "source": []
  },
  {
   "cell_type": "markdown",
   "id": "12e68856",
   "metadata": {},
   "source": [
    "## Serendipity"
   ]
  },
  {
   "cell_type": "markdown",
   "id": "3802c602",
   "metadata": {},
   "source": [
    "Оценим \"сюрпризность\" рекомендаций, т.е. комбинацию оценки новизны и релевантности контента для пользователя.\n",
    "\n",
    "$$ Serendipity = \\frac{1}{|R|} \\sum_{i \\in R} \\max \\left( P_i - P^{U}_i , 0 \\right) \\cdot rel_i $$\n",
    "\n",
    "$$ P_i = \\frac{|I| + 1 - rank_i}{|I|}; \\, P^{U}_i = \\frac{|I| + 1 - rank^{U}_i}{|I|} $$"
   ]
  },
  {
   "cell_type": "code",
   "execution_count": null,
   "id": "1e1e81d0",
   "metadata": {},
   "outputs": [],
   "source": [
    "def get_value_popularity_ranks(values: pd.Series) -> pd.Series:\n",
    "    value_counts = values.value_counts()\n",
    "    counts_unique = value_counts.unique()\n",
    "    count_rank_mapping = pd.Series(index=counts_unique, data=np.arange(len(counts_unique)) + 1)\n",
    "    return value_counts.map(count_rank_mapping)\n",
    "\n",
    "\n",
    "def calculate_serendipity_per_user(\n",
    "    recommendations: pd.DataFrame,\n",
    "    train: pd.DataFrame,\n",
    "    test: pd.DataFrame,\n",
    ") -> pd.Series:\n",
    "    recommendations_ = pd.merge(recommendations, test[[\"UID\", \"JID\"]], how=\"left\", indicator=True)\n",
    "    recommendations_[\"is_rel\"] = np.where(recommendations_[\"_merge\"] == \"both\", 1, 0)\n",
    "\n",
    "    n_items = train[\"JID\"].nunique()\n",
    "    item_popularity_ranks = get_value_popularity_ranks(train[\"JID\"])\n",
    "    recommendations_[\"rank_pop\"] = recommendations_[\"JID\"].map(item_popularity_ranks)\n",
    "\n",
    "    recommendations_[\"proba_user\"] = (n_items + 1 - recommendations_[\"rank\"]) / n_items\n",
    "    recommendations_[\"proba_any_user\"] = (n_items + 1 - recommendations_[\"rank_pop\"]) / n_items\n",
    "\n",
    "    recommendations_[\"proba_diff\"] = np.maximum(\n",
    "        recommendations_[\"proba_user\"] - recommendations_[\"proba_any_user\"],\n",
    "        0.0\n",
    "    )\n",
    "    recommendations_[\"item_serendipity\"] = recommendations_[\"proba_diff\"] * recommendations_[\"is_rel\"]\n",
    "    return recommendations_[[\"UID\", \"item_serendipity\"]].groupby(\"UID\").agg(\"mean\")\n"
   ]
  },
  {
   "cell_type": "code",
   "execution_count": null,
   "id": "ecb6cc12",
   "metadata": {},
   "outputs": [],
   "source": [
    "for model_name, recommendations in recommendations_dict.items():\n",
    "    serendipity_per_user = calculate_serendipity_per_user(recommendations, train, test)\n",
    "    print(f\"model: {model_name}, mean serendipity: {'{0:.06f}'.format(float(serendipity_per_user.mean()))}\\n\")"
   ]
  },
  {
   "cell_type": "markdown",
   "id": "4678cebc",
   "metadata": {},
   "source": [
    "Значение $Serendipity$ для модели с ранжированием по косинусам оказалось выше, что логично из-за того, что для модели, склонной к рекомендациям популярного контента, множитель c разницами вероятностей часто будет равен или очень близок к нулю."
   ]
  },
  {
   "cell_type": "code",
   "execution_count": null,
   "id": "109f6d69",
   "metadata": {},
   "outputs": [],
   "source": [
    "recommendations_dict['lfm']"
   ]
  },
  {
   "cell_type": "code",
   "execution_count": null,
   "id": "f6c1f0a8",
   "metadata": {},
   "outputs": [],
   "source": [
    "recommendations_dict['lfm_cos']"
   ]
  },
  {
   "cell_type": "code",
   "execution_count": null,
   "id": "5935b768",
   "metadata": {},
   "outputs": [],
   "source": [
    "recommendations = recommendations_dict['lfm']\n",
    "\n",
    "recommendations_ = pd.merge(recommendations, test[[\"UID\", \"JID\"]], how=\"left\", indicator=True)\n",
    "recommendations_[\"is_rel\"] = np.where(recommendations_[\"_merge\"] == \"both\", 1, 0)\n",
    "\n",
    "n_items = train[\"JID\"].nunique()\n",
    "item_popularity_ranks = get_value_popularity_ranks(train[\"JID\"])\n",
    "recommendations_[\"rank_pop\"] = recommendations_[\"JID\"].map(item_popularity_ranks)\n",
    "\n",
    "recommendations_[\"proba_user\"] = (n_items + 1 - recommendations_[\"rank\"]) / n_items\n",
    "recommendations_[\"proba_any_user\"] = (n_items + 1 - recommendations_[\"rank_pop\"]) / n_items\n",
    "\n",
    "recommendations_[\"proba_diff\"] = np.maximum(\n",
    "        recommendations_[\"proba_user\"] - recommendations_[\"proba_any_user\"],\n",
    "        0.0\n",
    "    )\n",
    "recommendations_[\"item_serendipity\"] = recommendations_[\"proba_diff\"] * recommendations_[\"is_rel\"]\n",
    "rec_grouped =  recommendations_[[\"UID\", \"item_serendipity\"]].groupby(\"UID\").agg(\"mean\")\n",
    "rec_grouped"
   ]
  },
  {
   "cell_type": "code",
   "execution_count": null,
   "id": "f2819bb3",
   "metadata": {},
   "outputs": [],
   "source": [
    "recommendations = recommendations_dict['lfm_cos']\n",
    "\n",
    "recommendations_ = pd.merge(recommendations, test[[\"UID\", \"JID\"]], how=\"left\", indicator=True)\n",
    "recommendations_[\"is_rel\"] = np.where(recommendations_[\"_merge\"] == \"both\", 1, 0)\n",
    "\n",
    "n_items = train[\"JID\"].nunique()\n",
    "item_popularity_ranks = get_value_popularity_ranks(train[\"JID\"])\n",
    "recommendations_[\"rank_pop\"] = recommendations_[\"JID\"].map(item_popularity_ranks)\n",
    "\n",
    "recommendations_[\"proba_user\"] = (n_items + 1 - recommendations_[\"rank\"]) / n_items\n",
    "recommendations_[\"proba_any_user\"] = (n_items + 1 - recommendations_[\"rank_pop\"]) / n_items\n",
    "\n",
    "recommendations_[\"proba_diff\"] = np.maximum(\n",
    "        recommendations_[\"proba_user\"] - recommendations_[\"proba_any_user\"],\n",
    "        0.0\n",
    "    )\n",
    "recommendations_[\"item_serendipity\"] = recommendations_[\"proba_diff\"] * recommendations_[\"is_rel\"]\n",
    "rec_grouped =  recommendations_[[\"UID\", \"item_serendipity\"]].groupby(\"UID\").agg(\"mean\")\n",
    "rec_grouped.mean()"
   ]
  },
  {
   "cell_type": "code",
   "execution_count": null,
   "id": "e12cfe67",
   "metadata": {},
   "outputs": [],
   "source": []
  },
  {
   "cell_type": "code",
   "execution_count": null,
   "id": "fee9c9dd",
   "metadata": {},
   "outputs": [],
   "source": [
    "test"
   ]
  },
  {
   "cell_type": "code",
   "execution_count": null,
   "id": "5025810b",
   "metadata": {},
   "outputs": [],
   "source": [
    "pd.merge(recommendations, test[[\"UID\", \"JID\"]], how=\"left\", indicator=True)"
   ]
  },
  {
   "cell_type": "code",
   "execution_count": null,
   "id": "b325f014",
   "metadata": {},
   "outputs": [],
   "source": []
  },
  {
   "cell_type": "code",
   "execution_count": null,
   "id": "b7ebe745",
   "metadata": {},
   "outputs": [],
   "source": []
  },
  {
   "cell_type": "code",
   "execution_count": null,
   "id": "24ec535f",
   "metadata": {},
   "outputs": [],
   "source": []
  },
  {
   "cell_type": "code",
   "execution_count": null,
   "id": "6d417c7b",
   "metadata": {},
   "outputs": [],
   "source": [
    "recommendations_dict['random']"
   ]
  },
  {
   "cell_type": "code",
   "execution_count": null,
   "id": "b0d5e549",
   "metadata": {},
   "outputs": [],
   "source": []
  },
  {
   "cell_type": "code",
   "execution_count": null,
   "id": "9232d800",
   "metadata": {},
   "outputs": [],
   "source": []
  },
  {
   "cell_type": "code",
   "execution_count": null,
   "id": "543ef73a",
   "metadata": {},
   "outputs": [],
   "source": []
  },
  {
   "cell_type": "code",
   "execution_count": null,
   "id": "71a1332f",
   "metadata": {},
   "outputs": [],
   "source": []
  },
  {
   "cell_type": "code",
   "execution_count": null,
   "id": "d3e2fcb4",
   "metadata": {},
   "outputs": [],
   "source": []
  },
  {
   "cell_type": "code",
   "execution_count": null,
   "id": "2182201c",
   "metadata": {},
   "outputs": [],
   "source": []
  },
  {
   "cell_type": "code",
   "execution_count": null,
   "id": "8e04b0e1",
   "metadata": {},
   "outputs": [],
   "source": [
    "recommendations_dict.keys()"
   ]
  },
  {
   "cell_type": "code",
   "execution_count": null,
   "id": "2455a86a",
   "metadata": {},
   "outputs": [],
   "source": [
    "r = recommendations_dict['random']"
   ]
  },
  {
   "cell_type": "code",
   "execution_count": null,
   "id": "b9041d1e",
   "metadata": {},
   "outputs": [],
   "source": [
    "r[r['UID'] == 2]"
   ]
  },
  {
   "cell_type": "code",
   "execution_count": 12,
   "id": "a5bb3845",
   "metadata": {},
   "outputs": [
    {
     "data": {
      "text/html": [
       "<div>\n",
       "<style scoped>\n",
       "    .dataframe tbody tr th:only-of-type {\n",
       "        vertical-align: middle;\n",
       "    }\n",
       "\n",
       "    .dataframe tbody tr th {\n",
       "        vertical-align: top;\n",
       "    }\n",
       "\n",
       "    .dataframe thead th {\n",
       "        text-align: right;\n",
       "    }\n",
       "</style>\n",
       "<table border=\"1\" class=\"dataframe\">\n",
       "  <thead>\n",
       "    <tr style=\"text-align: right;\">\n",
       "      <th></th>\n",
       "      <th>UID</th>\n",
       "      <th>JID</th>\n",
       "      <th>Rating</th>\n",
       "    </tr>\n",
       "  </thead>\n",
       "  <tbody>\n",
       "    <tr>\n",
       "      <th>1282428</th>\n",
       "      <td>2</td>\n",
       "      <td>1</td>\n",
       "      <td>4.08</td>\n",
       "    </tr>\n",
       "    <tr>\n",
       "      <th>40663</th>\n",
       "      <td>2</td>\n",
       "      <td>2</td>\n",
       "      <td>-0.29</td>\n",
       "    </tr>\n",
       "    <tr>\n",
       "      <th>876204</th>\n",
       "      <td>2</td>\n",
       "      <td>3</td>\n",
       "      <td>6.36</td>\n",
       "    </tr>\n",
       "    <tr>\n",
       "      <th>18237</th>\n",
       "      <td>2</td>\n",
       "      <td>4</td>\n",
       "      <td>4.37</td>\n",
       "    </tr>\n",
       "    <tr>\n",
       "      <th>30224</th>\n",
       "      <td>2</td>\n",
       "      <td>6</td>\n",
       "      <td>-9.66</td>\n",
       "    </tr>\n",
       "    <tr>\n",
       "      <th>...</th>\n",
       "      <td>...</td>\n",
       "      <td>...</td>\n",
       "      <td>...</td>\n",
       "    </tr>\n",
       "    <tr>\n",
       "      <th>362683</th>\n",
       "      <td>2</td>\n",
       "      <td>93</td>\n",
       "      <td>-0.29</td>\n",
       "    </tr>\n",
       "    <tr>\n",
       "      <th>1396534</th>\n",
       "      <td>2</td>\n",
       "      <td>94</td>\n",
       "      <td>7.86</td>\n",
       "    </tr>\n",
       "    <tr>\n",
       "      <th>1056678</th>\n",
       "      <td>2</td>\n",
       "      <td>95</td>\n",
       "      <td>-0.19</td>\n",
       "    </tr>\n",
       "    <tr>\n",
       "      <th>1351379</th>\n",
       "      <td>2</td>\n",
       "      <td>97</td>\n",
       "      <td>3.06</td>\n",
       "    </tr>\n",
       "    <tr>\n",
       "      <th>1124188</th>\n",
       "      <td>2</td>\n",
       "      <td>99</td>\n",
       "      <td>-4.32</td>\n",
       "    </tr>\n",
       "  </tbody>\n",
       "</table>\n",
       "<p>84 rows × 3 columns</p>\n",
       "</div>"
      ],
      "text/plain": [
       "         UID  JID  Rating\n",
       "1282428    2    1    4.08\n",
       "40663      2    2   -0.29\n",
       "876204     2    3    6.36\n",
       "18237      2    4    4.37\n",
       "30224      2    6   -9.66\n",
       "...      ...  ...     ...\n",
       "362683     2   93   -0.29\n",
       "1396534    2   94    7.86\n",
       "1056678    2   95   -0.19\n",
       "1351379    2   97    3.06\n",
       "1124188    2   99   -4.32\n",
       "\n",
       "[84 rows x 3 columns]"
      ]
     },
     "execution_count": 12,
     "metadata": {},
     "output_type": "execute_result"
    }
   ],
   "source": [
    "interactions[interactions['UID'] == 2].sort_values('JID')"
   ]
  },
  {
   "cell_type": "code",
   "execution_count": 11,
   "id": "64714dac",
   "metadata": {},
   "outputs": [
    {
     "data": {
      "text/html": [
       "<div>\n",
       "<style scoped>\n",
       "    .dataframe tbody tr th:only-of-type {\n",
       "        vertical-align: middle;\n",
       "    }\n",
       "\n",
       "    .dataframe tbody tr th {\n",
       "        vertical-align: top;\n",
       "    }\n",
       "\n",
       "    .dataframe thead th {\n",
       "        text-align: right;\n",
       "    }\n",
       "</style>\n",
       "<table border=\"1\" class=\"dataframe\">\n",
       "  <thead>\n",
       "    <tr style=\"text-align: right;\">\n",
       "      <th></th>\n",
       "      <th>UID</th>\n",
       "      <th>JID</th>\n",
       "      <th>Rating</th>\n",
       "    </tr>\n",
       "  </thead>\n",
       "  <tbody>\n",
       "    <tr>\n",
       "      <th>18237</th>\n",
       "      <td>2</td>\n",
       "      <td>4</td>\n",
       "      <td>4.37</td>\n",
       "    </tr>\n",
       "    <tr>\n",
       "      <th>23332</th>\n",
       "      <td>2</td>\n",
       "      <td>10</td>\n",
       "      <td>9.22</td>\n",
       "    </tr>\n",
       "    <tr>\n",
       "      <th>30224</th>\n",
       "      <td>2</td>\n",
       "      <td>6</td>\n",
       "      <td>-9.66</td>\n",
       "    </tr>\n",
       "    <tr>\n",
       "      <th>30415</th>\n",
       "      <td>2</td>\n",
       "      <td>32</td>\n",
       "      <td>-0.92</td>\n",
       "    </tr>\n",
       "    <tr>\n",
       "      <th>32211</th>\n",
       "      <td>2</td>\n",
       "      <td>26</td>\n",
       "      <td>7.57</td>\n",
       "    </tr>\n",
       "    <tr>\n",
       "      <th>...</th>\n",
       "      <td>...</td>\n",
       "      <td>...</td>\n",
       "      <td>...</td>\n",
       "    </tr>\n",
       "    <tr>\n",
       "      <th>1390103</th>\n",
       "      <td>2</td>\n",
       "      <td>8</td>\n",
       "      <td>-5.34</td>\n",
       "    </tr>\n",
       "    <tr>\n",
       "      <th>1396534</th>\n",
       "      <td>2</td>\n",
       "      <td>94</td>\n",
       "      <td>7.86</td>\n",
       "    </tr>\n",
       "    <tr>\n",
       "      <th>1404094</th>\n",
       "      <td>2</td>\n",
       "      <td>73</td>\n",
       "      <td>8.30</td>\n",
       "    </tr>\n",
       "    <tr>\n",
       "      <th>1437961</th>\n",
       "      <td>2</td>\n",
       "      <td>44</td>\n",
       "      <td>8.98</td>\n",
       "    </tr>\n",
       "    <tr>\n",
       "      <th>1446980</th>\n",
       "      <td>2</td>\n",
       "      <td>83</td>\n",
       "      <td>4.85</td>\n",
       "    </tr>\n",
       "  </tbody>\n",
       "</table>\n",
       "<p>84 rows × 3 columns</p>\n",
       "</div>"
      ],
      "text/plain": [
       "         UID  JID  Rating\n",
       "18237      2    4    4.37\n",
       "23332      2   10    9.22\n",
       "30224      2    6   -9.66\n",
       "30415      2   32   -0.92\n",
       "32211      2   26    7.57\n",
       "...      ...  ...     ...\n",
       "1390103    2    8   -5.34\n",
       "1396534    2   94    7.86\n",
       "1404094    2   73    8.30\n",
       "1437961    2   44    8.98\n",
       "1446980    2   83    4.85\n",
       "\n",
       "[84 rows x 3 columns]"
      ]
     },
     "execution_count": 11,
     "metadata": {},
     "output_type": "execute_result"
    }
   ],
   "source": [
    "interactions[interactions['UID'] == 2]"
   ]
  },
  {
   "cell_type": "code",
   "execution_count": null,
   "id": "288250eb",
   "metadata": {},
   "outputs": [],
   "source": []
  },
  {
   "cell_type": "code",
   "execution_count": 2,
   "id": "05bd2534",
   "metadata": {},
   "outputs": [],
   "source": [
    "with open('jokes_lfm_model.pkl', 'rb') as f:\n",
    "    lfm_model = pickle.load(f)"
   ]
  },
  {
   "cell_type": "code",
   "execution_count": null,
   "id": "f2285bfc",
   "metadata": {},
   "outputs": [],
   "source": [
    "user_id=1,\n",
    "model=,\n",
    "train_matrix=,\n",
    "user_to_id=,\n",
    "id_to_item=id_item_mapping,\n",
    "n_recommendations=n_recommendations,\n",
    "\n"
   ]
  },
  {
   "cell_type": "code",
   "execution_count": 9,
   "id": "3dbf6d64",
   "metadata": {},
   "outputs": [
    {
     "data": {
      "text/plain": [
       "<24983x100 sparse matrix of type '<class 'numpy.int32'>'\n",
       "\twith 1231109 stored elements in COOrdinate format>"
      ]
     },
     "execution_count": 9,
     "metadata": {},
     "output_type": "execute_result"
    }
   ],
   "source": []
  },
  {
   "cell_type": "code",
   "execution_count": 8,
   "id": "fac070da",
   "metadata": {},
   "outputs": [
    {
     "data": {
      "text/plain": [
       "array([-4.0669311e-03, -9.9153787e-01, -1.2242489e+00,  4.1342777e-01,\n",
       "       -1.1034555e+00,  2.0515226e-02, -7.4589956e-01,  5.2611500e-01,\n",
       "       -1.7447801e-01, -2.3862697e-01, -1.1688324e+00, -6.1547965e-01,\n",
       "       -1.4717445e+00, -5.4608756e-01, -6.6251807e-02, -7.4666339e-01,\n",
       "       -2.6611891e-01, -1.3255584e-01, -9.2180419e-01, -2.7572010e-02,\n",
       "       -1.1575854e+00,  4.8625398e-01, -3.6753127e-01, -8.9905566e-01,\n",
       "       -1.5993004e+00, -1.4495698e+00, -3.6515731e-01, -1.3115590e+00,\n",
       "       -1.0958858e+00, -9.6956140e-01, -4.4142160e-01, -1.2220559e+00,\n",
       "       -7.4721426e-01, -1.0851709e+00,  5.1495075e-01,  1.1418670e-02,\n",
       "        2.0496723e-01, -9.7789741e-01, -1.8802877e-01, -1.2111464e+00,\n",
       "       -7.9641420e-01, -1.2918932e+00, -5.3230591e-02, -4.5810424e-02,\n",
       "       -1.0161730e+00, -9.5135319e-01, -9.1979094e-02,  4.1357318e-01,\n",
       "        8.9312769e-02, -1.1230937e+00, -7.7200586e-01, -1.5493228e+00,\n",
       "       -1.2632064e+00, -1.2078580e+00, -7.9845107e-01, -1.2652503e+00,\n",
       "       -9.6997309e-01,  3.3563656e-01, -1.0787026e+00,  1.1394235e+00,\n",
       "       -5.1664323e-01, -3.2664269e-01, -9.2450333e-01, -7.9653347e-01,\n",
       "       -4.1726574e-01,  3.9681596e-01, -9.0600610e-01, -1.3449148e+00,\n",
       "       -1.1424680e+00, -2.3346561e-01, -4.8898792e-01,  1.1879255e+00,\n",
       "       -1.1069643e+00, -7.4602002e-01,  2.0618962e-01, -3.6879122e-02,\n",
       "       -1.0544093e+00, -1.8543446e-01, -1.2460326e+00,  2.3236964e-04,\n",
       "        1.6095518e-01, -1.1518018e+00,  7.4538940e-01, -1.5490164e+00,\n",
       "       -1.0236095e+00, -1.3466865e+00, -1.1613957e+00, -1.8127249e-01,\n",
       "       -1.9401410e-01, -9.3404847e-01,  4.3487802e-02, -1.1661075e+00,\n",
       "       -1.1764907e+00, -1.1039197e+00, -2.8081936e-01, -1.3449652e+00,\n",
       "       -1.1204586e+00, -1.4788412e+00, -1.3476783e+00, -1.2785715e+00],\n",
       "      dtype=float32)"
      ]
     },
     "execution_count": 8,
     "metadata": {},
     "output_type": "execute_result"
    }
   ],
   "source": [
    "scores = lfm_model.predict(\n",
    "    user_ids=lfm_dataset._user_id_mapping[2],\n",
    "    item_ids=np.arange(train_matrix.shape[1]),\n",
    "    num_threads=20\n",
    ")\n",
    "\n",
    "scores"
   ]
  },
  {
   "cell_type": "code",
   "execution_count": 14,
   "id": "0bbe4265",
   "metadata": {},
   "outputs": [
    {
     "data": {
      "text/plain": [
       "(-1.5993004, 1.1879255)"
      ]
     },
     "execution_count": 14,
     "metadata": {},
     "output_type": "execute_result"
    }
   ],
   "source": [
    "np.min(scores), np.max(scores)"
   ]
  },
  {
   "cell_type": "code",
   "execution_count": null,
   "id": "65434817",
   "metadata": {},
   "outputs": [],
   "source": [
    "\n",
    "\n",
    "\n",
    "user_watched_items = train_matrix.col[train_matrix.row == user_inner_id]\n",
    "scores[user_watched_items] = -np.inf\n",
    "\n",
    "recommended_item_inner_ids = np.argpartition(scores, -np.arange(n_recommendations))[\n",
    "    -n_recommendations:\n",
    "][::-1]\n",
    "recommended_item_ids = [id_to_item[x] for x in recommended_item_inner_ids]\n",
    "return recommended_item_ids\n"
   ]
  },
  {
   "cell_type": "code",
   "execution_count": null,
   "id": "e5f3b90e",
   "metadata": {},
   "outputs": [],
   "source": []
  },
  {
   "cell_type": "code",
   "execution_count": null,
   "id": "25c5a734",
   "metadata": {},
   "outputs": [],
   "source": []
  }
 ],
 "metadata": {
  "kernelspec": {
   "display_name": "Python 3 (ipykernel)",
   "language": "python",
   "name": "python3"
  },
  "language_info": {
   "codemirror_mode": {
    "name": "ipython",
    "version": 3
   },
   "file_extension": ".py",
   "mimetype": "text/x-python",
   "name": "python",
   "nbconvert_exporter": "python",
   "pygments_lexer": "ipython3",
   "version": "3.10.4"
  }
 },
 "nbformat": 4,
 "nbformat_minor": 5
}
