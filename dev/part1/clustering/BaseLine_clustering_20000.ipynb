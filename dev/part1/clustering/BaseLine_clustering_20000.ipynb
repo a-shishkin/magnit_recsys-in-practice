{
 "cells": [
  {
   "cell_type": "markdown",
   "id": "5b272efa-fdb0-43ec-ab5b-abf7ca37b21d",
   "metadata": {
    "id": "5b272efa-fdb0-43ec-ab5b-abf7ca37b21d"
   },
   "source": [
    "Для первой задачи мы используем данные [Jester Online Joke Recommender System](https://goldberg.berkeley.edu/jester-data/)"
   ]
  },
  {
   "cell_type": "markdown",
   "id": "85eb8247-1067-47e5-9a19-f5d20d4b2fd5",
   "metadata": {
    "id": "85eb8247-1067-47e5-9a19-f5d20d4b2fd5"
   },
   "source": [
    "**Описание данных**\n",
    "\n",
    "Файл `train_joke_df.csv` содержит:\n",
    "- UID - id пользователей\n",
    "- JID - id шуток, которые \n",
    "- Ratin - рейтинг шутки, который проставил пользователь \n",
    "\n",
    "\n",
    "Рейтинг имеет значение от -10.00 до 10.00. Могут встречаться значения 99.00, но это обозначает Null (нет рейтинга от пользователя).\n",
    "\n",
    "Метрика для оценки [RMSE](https://www.codecamp.ru/blog/how-to-interpret-rmse/)\n",
    "\n",
    "Минимальный RMSE: `4.2238`\n",
    "\n"
   ]
  },
  {
   "cell_type": "code",
   "execution_count": 1,
   "id": "ec9f8af1-f94e-4955-a420-39aa18f37806",
   "metadata": {
    "colab": {
     "base_uri": "https://localhost:8080/"
    },
    "id": "ec9f8af1-f94e-4955-a420-39aa18f37806",
    "outputId": "62b72c77-065d-4e2b-8521-204030cba0aa"
   },
   "outputs": [],
   "source": [
    "#!pip install \"scikit-surprise==1.1.3\""
   ]
  },
  {
   "cell_type": "code",
   "execution_count": 2,
   "id": "ea378696",
   "metadata": {},
   "outputs": [],
   "source": [
    "#!pip install \"xlrd==2.0.1\""
   ]
  },
  {
   "cell_type": "markdown",
   "id": "f4fc3daa-2632-4ad6-b904-752bd2308fc8",
   "metadata": {
    "id": "f4fc3daa-2632-4ad6-b904-752bd2308fc8"
   },
   "source": [
    "### Import"
   ]
  },
  {
   "cell_type": "code",
   "execution_count": 3,
   "id": "427278c8-3010-4e10-9271-dc3b7723e0e7",
   "metadata": {
    "id": "427278c8-3010-4e10-9271-dc3b7723e0e7"
   },
   "outputs": [],
   "source": [
    "import numpy as np\n",
    "import pandas as pd\n",
    "from collections import defaultdict\n",
    "from surprise import Dataset, Reader, KNNWithMeans, accuracy\n",
    "from surprise.model_selection import GridSearchCV\n",
    "from surprise.model_selection import train_test_split\n",
    "from sklearn.model_selection import train_test_split as tts\n",
    "from surprise.model_selection import KFold\n",
    "from tqdm.notebook import tqdm\n",
    "\n",
    "np.random.seed(42)"
   ]
  },
  {
   "cell_type": "code",
   "execution_count": null,
   "id": "f3bf5585",
   "metadata": {},
   "outputs": [],
   "source": []
  },
  {
   "cell_type": "code",
   "execution_count": null,
   "id": "255abea6",
   "metadata": {},
   "outputs": [],
   "source": []
  },
  {
   "cell_type": "code",
   "execution_count": null,
   "id": "1804a755",
   "metadata": {},
   "outputs": [],
   "source": [
    "n_clust = 20000\n",
    "\n",
    "print(n_clust)"
   ]
  },
  {
   "cell_type": "markdown",
   "id": "0011beb8-385e-4fab-a946-7c5972cd7727",
   "metadata": {
    "id": "0011beb8-385e-4fab-a946-7c5972cd7727"
   },
   "source": [
    "### Базовые функции для скоринга и получения рекомендаций"
   ]
  },
  {
   "cell_type": "code",
   "execution_count": 4,
   "id": "95b435cb-6972-4a46-b086-bc5ae5a89b8e",
   "metadata": {
    "id": "95b435cb-6972-4a46-b086-bc5ae5a89b8e"
   },
   "outputs": [],
   "source": [
    "def get_num_user_ratings(uid):\n",
    "    \"\"\" возвращает кол-во рейтингов у пользователя \n",
    "    args: \n",
    "      uid: id пользователей\n",
    "    returns: \n",
    "      кол-во объектов, которые оценил пользователь\n",
    "    \"\"\"\n",
    "    try:\n",
    "        return len(trainset.ur[trainset.to_inner_uid(uid)])\n",
    "    except ValueError: # пользователя не было во время обучения (новый, отправить на стартовые рекомендации)\n",
    "        return 0\n",
    "    \n",
    "def get_num_item_ratings(iid):\n",
    "    \"\"\" возвращает кол-во пользователей, которые оценили выбранный элемент \n",
    "    args:\n",
    "      iid: строка с элементов рекомендации\n",
    "    returns:\n",
    "      кол-во пользователей, которые дали оценки по элементу\n",
    "    \"\"\"\n",
    "    try: \n",
    "        return len(trainset.ir[trainset.to_inner_iid(iid)])\n",
    "    except ValueError:\n",
    "        return 0\n",
    "    \n",
    "# На основе Surprise FAQ построим рекомендации Топ-N\n",
    "def get_top_n(predictions, n=5):\n",
    "    \"\"\"Определят Топ-N рекомендаций\n",
    "\n",
    "    Args:\n",
    "        predictions(list of Prediction objects): Списко рекомендаций, из алгоритма Surprise\n",
    "        n(int): Кол-во топ рекомендаций\n",
    "\n",
    "    Returns:\n",
    "        Словарь пользователь - список рекомендакиций для пользователей\n",
    "        [(raw item id, rating estimation), ...]\n",
    "    \"\"\"\n",
    "\n",
    "    # Предикт для каждого пользователя\n",
    "    top_n = defaultdict(list)\n",
    "    for uid, iid, true_r, est, _ in predictions:\n",
    "        top_n[uid].append((iid, est))\n",
    "\n",
    "    # Сортировка предикта (по пользователям)\n",
    "    for uid, user_ratings in top_n.items():\n",
    "        user_ratings.sort(key=lambda x: x[1], reverse=True)\n",
    "        top_n[uid] = user_ratings[:n]\n",
    "\n",
    "    return top_n    "
   ]
  },
  {
   "cell_type": "markdown",
   "id": "d3f82a04-60f8-4338-8175-84409a9226ae",
   "metadata": {
    "id": "d3f82a04-60f8-4338-8175-84409a9226ae"
   },
   "source": [
    "### Загрузка и обработка данных"
   ]
  },
  {
   "cell_type": "code",
   "execution_count": 5,
   "id": "6c7c4800-84cc-48ec-b5a4-0e0cb5a69c18",
   "metadata": {
    "colab": {
     "base_uri": "https://localhost:8080/",
     "height": 206
    },
    "id": "6c7c4800-84cc-48ec-b5a4-0e0cb5a69c18",
    "outputId": "867fbe58-7ef6-42fd-a561-b183fac8a56c"
   },
   "outputs": [
    {
     "data": {
      "text/html": [
       "<div>\n",
       "<style scoped>\n",
       "    .dataframe tbody tr th:only-of-type {\n",
       "        vertical-align: middle;\n",
       "    }\n",
       "\n",
       "    .dataframe tbody tr th {\n",
       "        vertical-align: top;\n",
       "    }\n",
       "\n",
       "    .dataframe thead th {\n",
       "        text-align: right;\n",
       "    }\n",
       "</style>\n",
       "<table border=\"1\" class=\"dataframe\">\n",
       "  <thead>\n",
       "    <tr style=\"text-align: right;\">\n",
       "      <th></th>\n",
       "      <th>UID</th>\n",
       "      <th>JID</th>\n",
       "      <th>Rating</th>\n",
       "    </tr>\n",
       "  </thead>\n",
       "  <tbody>\n",
       "    <tr>\n",
       "      <th>0</th>\n",
       "      <td>18029</td>\n",
       "      <td>6</td>\n",
       "      <td>-1.26</td>\n",
       "    </tr>\n",
       "    <tr>\n",
       "      <th>1</th>\n",
       "      <td>3298</td>\n",
       "      <td>64</td>\n",
       "      <td>-4.17</td>\n",
       "    </tr>\n",
       "    <tr>\n",
       "      <th>2</th>\n",
       "      <td>3366</td>\n",
       "      <td>58</td>\n",
       "      <td>0.92</td>\n",
       "    </tr>\n",
       "    <tr>\n",
       "      <th>3</th>\n",
       "      <td>12735</td>\n",
       "      <td>92</td>\n",
       "      <td>3.69</td>\n",
       "    </tr>\n",
       "    <tr>\n",
       "      <th>4</th>\n",
       "      <td>11365</td>\n",
       "      <td>38</td>\n",
       "      <td>-6.60</td>\n",
       "    </tr>\n",
       "  </tbody>\n",
       "</table>\n",
       "</div>"
      ],
      "text/plain": [
       "     UID  JID  Rating\n",
       "0  18029    6   -1.26\n",
       "1   3298   64   -4.17\n",
       "2   3366   58    0.92\n",
       "3  12735   92    3.69\n",
       "4  11365   38   -6.60"
      ]
     },
     "execution_count": 5,
     "metadata": {},
     "output_type": "execute_result"
    }
   ],
   "source": [
    "df = pd.read_csv(r'..\\data\\recsys-in-practice\\train_joke_df.csv')\n",
    "\n",
    "df.head(5)"
   ]
  },
  {
   "cell_type": "code",
   "execution_count": null,
   "id": "abedbe77",
   "metadata": {},
   "outputs": [],
   "source": []
  },
  {
   "cell_type": "code",
   "execution_count": null,
   "id": "8ef7ca18",
   "metadata": {},
   "outputs": [],
   "source": []
  },
  {
   "cell_type": "code",
   "execution_count": null,
   "id": "af46bcb2",
   "metadata": {},
   "outputs": [],
   "source": []
  },
  {
   "cell_type": "code",
   "execution_count": 6,
   "id": "ae8faa08",
   "metadata": {},
   "outputs": [
    {
     "data": {
      "text/html": [
       "<div>\n",
       "<style scoped>\n",
       "    .dataframe tbody tr th:only-of-type {\n",
       "        vertical-align: middle;\n",
       "    }\n",
       "\n",
       "    .dataframe tbody tr th {\n",
       "        vertical-align: top;\n",
       "    }\n",
       "\n",
       "    .dataframe thead th {\n",
       "        text-align: right;\n",
       "    }\n",
       "</style>\n",
       "<table border=\"1\" class=\"dataframe\">\n",
       "  <thead>\n",
       "    <tr style=\"text-align: right;\">\n",
       "      <th></th>\n",
       "      <th>cluster_id</th>\n",
       "    </tr>\n",
       "    <tr>\n",
       "      <th>UID</th>\n",
       "      <th></th>\n",
       "    </tr>\n",
       "  </thead>\n",
       "  <tbody>\n",
       "    <tr>\n",
       "      <th>1</th>\n",
       "      <td>3314</td>\n",
       "    </tr>\n",
       "    <tr>\n",
       "      <th>2</th>\n",
       "      <td>389</td>\n",
       "    </tr>\n",
       "    <tr>\n",
       "      <th>3</th>\n",
       "      <td>5978</td>\n",
       "    </tr>\n",
       "    <tr>\n",
       "      <th>4</th>\n",
       "      <td>16224</td>\n",
       "    </tr>\n",
       "    <tr>\n",
       "      <th>5</th>\n",
       "      <td>6296</td>\n",
       "    </tr>\n",
       "    <tr>\n",
       "      <th>...</th>\n",
       "      <td>...</td>\n",
       "    </tr>\n",
       "    <tr>\n",
       "      <th>24979</th>\n",
       "      <td>824</td>\n",
       "    </tr>\n",
       "    <tr>\n",
       "      <th>24980</th>\n",
       "      <td>1003</td>\n",
       "    </tr>\n",
       "    <tr>\n",
       "      <th>24981</th>\n",
       "      <td>19710</td>\n",
       "    </tr>\n",
       "    <tr>\n",
       "      <th>24982</th>\n",
       "      <td>18975</td>\n",
       "    </tr>\n",
       "    <tr>\n",
       "      <th>24983</th>\n",
       "      <td>13074</td>\n",
       "    </tr>\n",
       "  </tbody>\n",
       "</table>\n",
       "<p>24983 rows × 1 columns</p>\n",
       "</div>"
      ],
      "text/plain": [
       "       cluster_id\n",
       "UID              \n",
       "1            3314\n",
       "2             389\n",
       "3            5978\n",
       "4           16224\n",
       "5            6296\n",
       "...           ...\n",
       "24979         824\n",
       "24980        1003\n",
       "24981       19710\n",
       "24982       18975\n",
       "24983       13074\n",
       "\n",
       "[24983 rows x 1 columns]"
      ]
     },
     "execution_count": 6,
     "metadata": {},
     "output_type": "execute_result"
    }
   ],
   "source": [
    "cluster_df = pd.read_csv(f'cluster_df_{n_clust}.csv', index_col=1)\n",
    "cluster_df"
   ]
  },
  {
   "cell_type": "code",
   "execution_count": 7,
   "id": "910d379e",
   "metadata": {},
   "outputs": [
    {
     "data": {
      "text/html": [
       "<div>\n",
       "<style scoped>\n",
       "    .dataframe tbody tr th:only-of-type {\n",
       "        vertical-align: middle;\n",
       "    }\n",
       "\n",
       "    .dataframe tbody tr th {\n",
       "        vertical-align: top;\n",
       "    }\n",
       "\n",
       "    .dataframe thead th {\n",
       "        text-align: right;\n",
       "    }\n",
       "</style>\n",
       "<table border=\"1\" class=\"dataframe\">\n",
       "  <thead>\n",
       "    <tr style=\"text-align: right;\">\n",
       "      <th></th>\n",
       "      <th>UID</th>\n",
       "      <th>JID</th>\n",
       "      <th>Rating</th>\n",
       "      <th>cluster_id</th>\n",
       "    </tr>\n",
       "  </thead>\n",
       "  <tbody>\n",
       "    <tr>\n",
       "      <th>0</th>\n",
       "      <td>18029</td>\n",
       "      <td>6</td>\n",
       "      <td>-1.26</td>\n",
       "      <td>16091</td>\n",
       "    </tr>\n",
       "    <tr>\n",
       "      <th>18990</th>\n",
       "      <td>18029</td>\n",
       "      <td>40</td>\n",
       "      <td>8.30</td>\n",
       "      <td>16091</td>\n",
       "    </tr>\n",
       "    <tr>\n",
       "      <th>50486</th>\n",
       "      <td>18029</td>\n",
       "      <td>7</td>\n",
       "      <td>3.30</td>\n",
       "      <td>16091</td>\n",
       "    </tr>\n",
       "    <tr>\n",
       "      <th>69643</th>\n",
       "      <td>18029</td>\n",
       "      <td>16</td>\n",
       "      <td>-9.27</td>\n",
       "      <td>16091</td>\n",
       "    </tr>\n",
       "    <tr>\n",
       "      <th>124589</th>\n",
       "      <td>18029</td>\n",
       "      <td>15</td>\n",
       "      <td>8.11</td>\n",
       "      <td>16091</td>\n",
       "    </tr>\n",
       "    <tr>\n",
       "      <th>...</th>\n",
       "      <td>...</td>\n",
       "      <td>...</td>\n",
       "      <td>...</td>\n",
       "      <td>...</td>\n",
       "    </tr>\n",
       "    <tr>\n",
       "      <th>1303561</th>\n",
       "      <td>21379</td>\n",
       "      <td>62</td>\n",
       "      <td>0.15</td>\n",
       "      <td>8300</td>\n",
       "    </tr>\n",
       "    <tr>\n",
       "      <th>1331118</th>\n",
       "      <td>21379</td>\n",
       "      <td>46</td>\n",
       "      <td>1.31</td>\n",
       "      <td>8300</td>\n",
       "    </tr>\n",
       "    <tr>\n",
       "      <th>1368576</th>\n",
       "      <td>21379</td>\n",
       "      <td>49</td>\n",
       "      <td>-0.68</td>\n",
       "      <td>8300</td>\n",
       "    </tr>\n",
       "    <tr>\n",
       "      <th>1376073</th>\n",
       "      <td>21379</td>\n",
       "      <td>54</td>\n",
       "      <td>2.33</td>\n",
       "      <td>8300</td>\n",
       "    </tr>\n",
       "    <tr>\n",
       "      <th>1444310</th>\n",
       "      <td>21379</td>\n",
       "      <td>50</td>\n",
       "      <td>3.45</td>\n",
       "      <td>8300</td>\n",
       "    </tr>\n",
       "  </tbody>\n",
       "</table>\n",
       "<p>1448364 rows × 4 columns</p>\n",
       "</div>"
      ],
      "text/plain": [
       "           UID  JID  Rating  cluster_id\n",
       "0        18029    6   -1.26       16091\n",
       "18990    18029   40    8.30       16091\n",
       "50486    18029    7    3.30       16091\n",
       "69643    18029   16   -9.27       16091\n",
       "124589   18029   15    8.11       16091\n",
       "...        ...  ...     ...         ...\n",
       "1303561  21379   62    0.15        8300\n",
       "1331118  21379   46    1.31        8300\n",
       "1368576  21379   49   -0.68        8300\n",
       "1376073  21379   54    2.33        8300\n",
       "1444310  21379   50    3.45        8300\n",
       "\n",
       "[1448364 rows x 4 columns]"
      ]
     },
     "execution_count": 7,
     "metadata": {},
     "output_type": "execute_result"
    }
   ],
   "source": [
    "df = df.merge(cluster_df, left_on='UID', right_index=True)\n",
    "df"
   ]
  },
  {
   "cell_type": "code",
   "execution_count": 8,
   "id": "e53d1227",
   "metadata": {},
   "outputs": [
    {
     "data": {
      "text/html": [
       "<div>\n",
       "<style scoped>\n",
       "    .dataframe tbody tr th:only-of-type {\n",
       "        vertical-align: middle;\n",
       "    }\n",
       "\n",
       "    .dataframe tbody tr th {\n",
       "        vertical-align: top;\n",
       "    }\n",
       "\n",
       "    .dataframe thead th {\n",
       "        text-align: right;\n",
       "    }\n",
       "</style>\n",
       "<table border=\"1\" class=\"dataframe\">\n",
       "  <thead>\n",
       "    <tr style=\"text-align: right;\">\n",
       "      <th></th>\n",
       "      <th>UID</th>\n",
       "      <th>JID</th>\n",
       "      <th>Rating</th>\n",
       "      <th>cluster_id</th>\n",
       "    </tr>\n",
       "  </thead>\n",
       "  <tbody>\n",
       "    <tr>\n",
       "      <th>0</th>\n",
       "      <td>18029</td>\n",
       "      <td>6</td>\n",
       "      <td>-1.26</td>\n",
       "      <td>16091</td>\n",
       "    </tr>\n",
       "    <tr>\n",
       "      <th>18990</th>\n",
       "      <td>18029</td>\n",
       "      <td>40</td>\n",
       "      <td>8.30</td>\n",
       "      <td>16091</td>\n",
       "    </tr>\n",
       "    <tr>\n",
       "      <th>50486</th>\n",
       "      <td>18029</td>\n",
       "      <td>7</td>\n",
       "      <td>3.30</td>\n",
       "      <td>16091</td>\n",
       "    </tr>\n",
       "    <tr>\n",
       "      <th>69643</th>\n",
       "      <td>18029</td>\n",
       "      <td>16</td>\n",
       "      <td>-9.27</td>\n",
       "      <td>16091</td>\n",
       "    </tr>\n",
       "    <tr>\n",
       "      <th>124589</th>\n",
       "      <td>18029</td>\n",
       "      <td>15</td>\n",
       "      <td>8.11</td>\n",
       "      <td>16091</td>\n",
       "    </tr>\n",
       "  </tbody>\n",
       "</table>\n",
       "</div>"
      ],
      "text/plain": [
       "          UID  JID  Rating  cluster_id\n",
       "0       18029    6   -1.26       16091\n",
       "18990   18029   40    8.30       16091\n",
       "50486   18029    7    3.30       16091\n",
       "69643   18029   16   -9.27       16091\n",
       "124589  18029   15    8.11       16091"
      ]
     },
     "execution_count": 8,
     "metadata": {},
     "output_type": "execute_result"
    }
   ],
   "source": [
    "df.head(5)"
   ]
  },
  {
   "cell_type": "code",
   "execution_count": null,
   "id": "68d616fb",
   "metadata": {},
   "outputs": [],
   "source": []
  },
  {
   "cell_type": "code",
   "execution_count": null,
   "id": "95fdbda0",
   "metadata": {},
   "outputs": [],
   "source": []
  },
  {
   "cell_type": "code",
   "execution_count": null,
   "id": "282a8c2f",
   "metadata": {},
   "outputs": [],
   "source": []
  },
  {
   "cell_type": "code",
   "execution_count": 9,
   "id": "08f07545-6735-407c-b549-822e9c701c70",
   "metadata": {
    "id": "08f07545-6735-407c-b549-822e9c701c70"
   },
   "outputs": [],
   "source": [
    "# сделаем сортировку и перепишем index\n",
    "df = df.sort_values(by=['cluster_id', 'JID'])\n",
    "df = df.reset_index(drop=True)"
   ]
  },
  {
   "cell_type": "code",
   "execution_count": 10,
   "id": "c6569d6a-5e39-43ee-96c8-283d788573d3",
   "metadata": {
    "id": "c6569d6a-5e39-43ee-96c8-283d788573d3"
   },
   "outputs": [],
   "source": [
    "# создадим на основе набора данных\n",
    "# поднабор, который требуется для библиотеки Surprise\n",
    "\n",
    "# указываем минимальный и максимальный рейтинги\n",
    "reader = Reader(rating_scale=(-10, 10))\n",
    "\n",
    "# передаём набор, указывая последовательность колонок: user (raw) ids, item (raw) ids, ratings\n",
    "# для Surprise - это обязательно\n",
    "data = Dataset.load_from_df(df[['cluster_id', 'JID', 'Rating']], reader)"
   ]
  },
  {
   "cell_type": "code",
   "execution_count": 11,
   "id": "ae962279-bafb-408e-a1a9-1c698d75157e",
   "metadata": {
    "id": "ae962279-bafb-408e-a1a9-1c698d75157e"
   },
   "outputs": [],
   "source": [
    "trainset_data = data.build_full_trainset()\n",
    "\n",
    "# сделаем разделение на обучающую и тестовую выборку\n",
    "trainset, testset = train_test_split(data, test_size=0.2, random_state=42)"
   ]
  },
  {
   "cell_type": "markdown",
   "id": "879fe08d-1317-4028-b797-03baee7f7311",
   "metadata": {
    "id": "879fe08d-1317-4028-b797-03baee7f7311"
   },
   "source": [
    "### Обучение модели"
   ]
  },
  {
   "cell_type": "code",
   "execution_count": 12,
   "id": "d49480df-77b9-4e69-b123-d8ef610af17d",
   "metadata": {
    "colab": {
     "base_uri": "https://localhost:8080/"
    },
    "id": "d49480df-77b9-4e69-b123-d8ef610af17d",
    "outputId": "c3d15544-f42b-48ff-facc-c60617c308a6"
   },
   "outputs": [
    {
     "name": "stdout",
     "output_type": "stream",
     "text": [
      "Computing the msd similarity matrix...\n",
      "Done computing similarity matrix.\n",
      "Computing the msd similarity matrix...\n",
      "Done computing similarity matrix.\n",
      "Computing the msd similarity matrix...\n",
      "Done computing similarity matrix.\n",
      "Computing the msd similarity matrix...\n",
      "Done computing similarity matrix.\n",
      "Computing the cosine similarity matrix...\n",
      "Done computing similarity matrix.\n",
      "Computing the cosine similarity matrix...\n",
      "Done computing similarity matrix.\n",
      "Computing the cosine similarity matrix...\n",
      "Done computing similarity matrix.\n",
      "Computing the cosine similarity matrix...\n",
      "Done computing similarity matrix.\n",
      "4.26333994470934\n",
      "{'sim_options': {'name': 'cosine', 'min_support': 3, 'user_based': False}}\n"
     ]
    }
   ],
   "source": [
    "# определим набор данных для GridSearchCV\n",
    "sim_options = {\n",
    "    \"name\": [\"msd\", \"cosine\"], # способы оценки похожести (в GridSearch)\n",
    "    \"min_support\": [3, 4],     # минимальное кол-во общих пользоватлей с данной шуткой\n",
    "    \"user_based\": [False],     # поиск \"похожести\" будет на основе шуток, а не пользователей\n",
    "}\n",
    "\n",
    "param_grid = {\"sim_options\": sim_options}\n",
    "\n",
    "gs = GridSearchCV(KNNWithMeans, param_grid, measures=[\"rmse\", \"mae\"], cv=2,)\n",
    "gs.fit(data)\n",
    "     \n",
    "# результат\n",
    "print(gs.best_score[\"rmse\"])\n",
    "print(gs.best_params[\"rmse\"])"
   ]
  },
  {
   "cell_type": "code",
   "execution_count": 13,
   "id": "21e7c75a-e8df-4e8c-9b9d-7f200790cb44",
   "metadata": {
    "colab": {
     "base_uri": "https://localhost:8080/"
    },
    "id": "21e7c75a-e8df-4e8c-9b9d-7f200790cb44",
    "outputId": "273217cf-d0b8-433b-d750-2c02d0dc9a2a"
   },
   "outputs": [
    {
     "name": "stdout",
     "output_type": "stream",
     "text": [
      "Computing the cosine similarity matrix...\n",
      "Done computing similarity matrix.\n",
      "RMSE: 4.2152\n"
     ]
    },
    {
     "data": {
      "text/plain": [
       "4.215185605584823"
      ]
     },
     "execution_count": 13,
     "metadata": {},
     "output_type": "execute_result"
    }
   ],
   "source": [
    "# обучим с лучшими параметрами\n",
    "algo = gs.best_estimator['rmse']\n",
    "algo.fit(trainset)\n",
    "\n",
    "# получим предикт и посмотрим метрику\n",
    "predictions = algo.test(testset)\n",
    "accuracy.rmse(predictions)"
   ]
  },
  {
   "cell_type": "markdown",
   "id": "b072635d-739a-48cd-812f-8fd04e3f9d32",
   "metadata": {
    "id": "b072635d-739a-48cd-812f-8fd04e3f9d32"
   },
   "source": [
    "### Тестирование и результаты"
   ]
  },
  {
   "cell_type": "code",
   "execution_count": 14,
   "id": "c2be3189-9e9e-469a-916e-9c78a93e6aa2",
   "metadata": {
    "colab": {
     "base_uri": "https://localhost:8080/"
    },
    "id": "c2be3189-9e9e-469a-916e-9c78a93e6aa2",
    "outputId": "1d50db09-cb1d-437b-9359-dc212b43f515"
   },
   "outputs": [
    {
     "name": "stdout",
     "output_type": "stream",
     "text": [
      "user: 1          item: 1          r_ui = -7.82   est = 2.83   {'actual_k': 28, 'was_impossible': False}\n"
     ]
    }
   ],
   "source": [
    "# получаем предикт\n",
    "uid = 1  # id пользователя \n",
    "iid = 1  # iв шутки\n",
    "\n",
    "# получим предик на основе обученных данных\n",
    "# -7.82 - это фактический рейтинг, но посмотрим, какой ответ будет в предикте\n",
    "pred = algo.predict(uid, iid, r_ui=-7.82, verbose=True)"
   ]
  },
  {
   "cell_type": "code",
   "execution_count": 15,
   "id": "a6cca0fb-7536-45f5-8ad9-9233831bb5f7",
   "metadata": {
    "colab": {
     "base_uri": "https://localhost:8080/"
    },
    "id": "a6cca0fb-7536-45f5-8ad9-9233831bb5f7",
    "outputId": "70f2481a-a1f4-4ce8-8d2f-c7ddb9c5fd8a"
   },
   "outputs": [
    {
     "name": "stdout",
     "output_type": "stream",
     "text": [
      "user: 24983      item: 62         r_ui = -0.29   est = 0.88   {'was_impossible': True, 'reason': 'User and/or item is unknown.'}\n"
     ]
    }
   ],
   "source": [
    "uid = 24983  # id пользователя \n",
    "iid = 62     # iв шутки\n",
    "\n",
    "pred = algo.predict(uid, iid, r_ui=-0.29, verbose=True)"
   ]
  },
  {
   "cell_type": "markdown",
   "id": "09debb1b-0ffa-4dc4-a91b-c06124e0d8b7",
   "metadata": {
    "id": "09debb1b-0ffa-4dc4-a91b-c06124e0d8b7"
   },
   "source": [
    "### Обзор рекомендаций"
   ]
  },
  {
   "cell_type": "code",
   "execution_count": 16,
   "id": "d942cdd3-af9d-4cc4-a294-0f451b0944ab",
   "metadata": {
    "id": "d942cdd3-af9d-4cc4-a294-0f451b0944ab"
   },
   "outputs": [],
   "source": [
    "# построим таблицу для обзора набора рекомендаций\n",
    "# посмотрим, какие элементы и в каком кол-ве рекомендуем\n",
    "trainset = algo.trainset\n",
    "\n",
    "predictions_df = pd.DataFrame(predictions, columns=['uid', 'iid', 'rui', 'est', 'details'])\n",
    "\n",
    "predictions_df['№ кол-во пользовательских рейтингов'] = predictions_df.uid.apply(get_num_user_ratings)\n",
    "predictions_df['№ кол-во рейтингов элементов'] = predictions_df.iid.apply(get_num_item_ratings)\n",
    "predictions_df['error'] = abs(predictions_df.est - predictions_df.rui)\n",
    "\n",
    "best_predictions = predictions_df.sort_values(by='error')[:10]\n",
    "worst_predictions = predictions_df.sort_values(by='error')[-10:]"
   ]
  },
  {
   "cell_type": "code",
   "execution_count": 17,
   "id": "ca77d78d-db5e-44b7-8da0-3bd7c8d34f64",
   "metadata": {
    "colab": {
     "base_uri": "https://localhost:8080/",
     "height": 206
    },
    "id": "ca77d78d-db5e-44b7-8da0-3bd7c8d34f64",
    "outputId": "c5c136d2-7910-4ae7-9a66-fe89c672c2fe"
   },
   "outputs": [
    {
     "data": {
      "text/html": [
       "<div>\n",
       "<style scoped>\n",
       "    .dataframe tbody tr th:only-of-type {\n",
       "        vertical-align: middle;\n",
       "    }\n",
       "\n",
       "    .dataframe tbody tr th {\n",
       "        vertical-align: top;\n",
       "    }\n",
       "\n",
       "    .dataframe thead th {\n",
       "        text-align: right;\n",
       "    }\n",
       "</style>\n",
       "<table border=\"1\" class=\"dataframe\">\n",
       "  <thead>\n",
       "    <tr style=\"text-align: right;\">\n",
       "      <th></th>\n",
       "      <th>uid</th>\n",
       "      <th>iid</th>\n",
       "      <th>rui</th>\n",
       "      <th>est</th>\n",
       "      <th>details</th>\n",
       "      <th>№ кол-во пользовательских рейтингов</th>\n",
       "      <th>№ кол-во рейтингов элементов</th>\n",
       "      <th>error</th>\n",
       "    </tr>\n",
       "  </thead>\n",
       "  <tbody>\n",
       "    <tr>\n",
       "      <th>85181</th>\n",
       "      <td>13658</td>\n",
       "      <td>48</td>\n",
       "      <td>-0.29</td>\n",
       "      <td>-0.290024</td>\n",
       "      <td>{'actual_k': 39, 'was_impossible': False}</td>\n",
       "      <td>44</td>\n",
       "      <td>15774</td>\n",
       "      <td>0.000024</td>\n",
       "    </tr>\n",
       "    <tr>\n",
       "      <th>135465</th>\n",
       "      <td>12304</td>\n",
       "      <td>28</td>\n",
       "      <td>3.06</td>\n",
       "      <td>3.059971</td>\n",
       "      <td>{'actual_k': 40, 'was_impossible': False}</td>\n",
       "      <td>70</td>\n",
       "      <td>15366</td>\n",
       "      <td>0.000029</td>\n",
       "    </tr>\n",
       "    <tr>\n",
       "      <th>208376</th>\n",
       "      <td>297</td>\n",
       "      <td>36</td>\n",
       "      <td>4.32</td>\n",
       "      <td>4.320046</td>\n",
       "      <td>{'actual_k': 24, 'was_impossible': False}</td>\n",
       "      <td>28</td>\n",
       "      <td>15818</td>\n",
       "      <td>0.000046</td>\n",
       "    </tr>\n",
       "    <tr>\n",
       "      <th>29359</th>\n",
       "      <td>898</td>\n",
       "      <td>68</td>\n",
       "      <td>2.28</td>\n",
       "      <td>2.279898</td>\n",
       "      <td>{'actual_k': 40, 'was_impossible': False}</td>\n",
       "      <td>816</td>\n",
       "      <td>15890</td>\n",
       "      <td>0.000102</td>\n",
       "    </tr>\n",
       "    <tr>\n",
       "      <th>96873</th>\n",
       "      <td>2676</td>\n",
       "      <td>42</td>\n",
       "      <td>1.26</td>\n",
       "      <td>1.260103</td>\n",
       "      <td>{'actual_k': 40, 'was_impossible': False}</td>\n",
       "      <td>591</td>\n",
       "      <td>15798</td>\n",
       "      <td>0.000103</td>\n",
       "    </tr>\n",
       "  </tbody>\n",
       "</table>\n",
       "</div>"
      ],
      "text/plain": [
       "          uid  iid   rui       est                                    details  \\\n",
       "85181   13658   48 -0.29 -0.290024  {'actual_k': 39, 'was_impossible': False}   \n",
       "135465  12304   28  3.06  3.059971  {'actual_k': 40, 'was_impossible': False}   \n",
       "208376    297   36  4.32  4.320046  {'actual_k': 24, 'was_impossible': False}   \n",
       "29359     898   68  2.28  2.279898  {'actual_k': 40, 'was_impossible': False}   \n",
       "96873    2676   42  1.26  1.260103  {'actual_k': 40, 'was_impossible': False}   \n",
       "\n",
       "        № кол-во пользовательских рейтингов  № кол-во рейтингов элементов  \\\n",
       "85181                                    44                         15774   \n",
       "135465                                   70                         15366   \n",
       "208376                                   28                         15818   \n",
       "29359                                   816                         15890   \n",
       "96873                                   591                         15798   \n",
       "\n",
       "           error  \n",
       "85181   0.000024  \n",
       "135465  0.000029  \n",
       "208376  0.000046  \n",
       "29359   0.000102  \n",
       "96873   0.000103  "
      ]
     },
     "execution_count": 17,
     "metadata": {},
     "output_type": "execute_result"
    }
   ],
   "source": [
    "best_predictions.head(5)"
   ]
  },
  {
   "cell_type": "code",
   "execution_count": 18,
   "id": "68a89929-b581-43d9-bfa5-452535641ace",
   "metadata": {
    "colab": {
     "base_uri": "https://localhost:8080/"
    },
    "id": "68a89929-b581-43d9-bfa5-452535641ace",
    "outputId": "0b2d86ba-8f2f-4601-8697-03a42e4f172a"
   },
   "outputs": [
    {
     "name": "stdout",
     "output_type": "stream",
     "text": [
      "14078 [50, 89, 36, 32, 35]\n",
      "5382 [27, 32, 35, 53, 69]\n",
      "3609 [81, 88, 91, 98, 97]\n",
      "1869 [89, 72, 83, 76, 81]\n",
      "2016 [53, 54, 76, 69, 93]\n",
      "6398 [72, 93, 50, 91, 62]\n",
      "3413 [62, 93, 83, 78, 91]\n",
      "18259 [89, 29, 35, 72, 69]\n",
      "1761 [89, 93, 78, 97, 84]\n",
      "12526 [89, 36, 32, 72, 54]\n"
     ]
    }
   ],
   "source": [
    "# Предикт для всех, кого нет в выборке для обучения\n",
    "testset = trainset.build_anti_testset()\n",
    "predictions = algo.test(testset)\n",
    "\n",
    "top_n = get_top_n(predictions)\n",
    "\n",
    "# Сделаем вывод рекомендаций\n",
    "a=0\n",
    "for uid, user_ratings in top_n.items():\n",
    "    a+=1\n",
    "    print(uid, [iid for (iid, _) in user_ratings])\n",
    "    \n",
    "    if a==10:\n",
    "        break"
   ]
  },
  {
   "cell_type": "markdown",
   "id": "aa5422a2-7447-489e-b789-5753fa32f2fa",
   "metadata": {
    "id": "aa5422a2-7447-489e-b789-5753fa32f2fa"
   },
   "source": [
    "### Для отправки на тестирование"
   ]
  },
  {
   "cell_type": "code",
   "execution_count": 19,
   "id": "d06b634c-c15c-4210-973c-1e4e7f7ccf9b",
   "metadata": {
    "colab": {
     "base_uri": "https://localhost:8080/",
     "height": 238
    },
    "id": "d06b634c-c15c-4210-973c-1e4e7f7ccf9b",
    "outputId": "0988a430-0875-4cce-986e-7973ba158917"
   },
   "outputs": [
    {
     "data": {
      "text/html": [
       "<div>\n",
       "<style scoped>\n",
       "    .dataframe tbody tr th:only-of-type {\n",
       "        vertical-align: middle;\n",
       "    }\n",
       "\n",
       "    .dataframe tbody tr th {\n",
       "        vertical-align: top;\n",
       "    }\n",
       "\n",
       "    .dataframe thead th {\n",
       "        text-align: right;\n",
       "    }\n",
       "</style>\n",
       "<table border=\"1\" class=\"dataframe\">\n",
       "  <thead>\n",
       "    <tr style=\"text-align: right;\">\n",
       "      <th></th>\n",
       "      <th>UID</th>\n",
       "      <th>JID</th>\n",
       "    </tr>\n",
       "    <tr>\n",
       "      <th>InteractionID</th>\n",
       "      <th></th>\n",
       "      <th></th>\n",
       "    </tr>\n",
       "  </thead>\n",
       "  <tbody>\n",
       "    <tr>\n",
       "      <th>0</th>\n",
       "      <td>11228</td>\n",
       "      <td>39</td>\n",
       "    </tr>\n",
       "    <tr>\n",
       "      <th>1</th>\n",
       "      <td>21724</td>\n",
       "      <td>85</td>\n",
       "    </tr>\n",
       "    <tr>\n",
       "      <th>2</th>\n",
       "      <td>16782</td>\n",
       "      <td>56</td>\n",
       "    </tr>\n",
       "    <tr>\n",
       "      <th>3</th>\n",
       "      <td>12105</td>\n",
       "      <td>42</td>\n",
       "    </tr>\n",
       "    <tr>\n",
       "      <th>4</th>\n",
       "      <td>14427</td>\n",
       "      <td>2</td>\n",
       "    </tr>\n",
       "  </tbody>\n",
       "</table>\n",
       "</div>"
      ],
      "text/plain": [
       "                 UID  JID\n",
       "InteractionID            \n",
       "0              11228   39\n",
       "1              21724   85\n",
       "2              16782   56\n",
       "3              12105   42\n",
       "4              14427    2"
      ]
     },
     "execution_count": 19,
     "metadata": {},
     "output_type": "execute_result"
    }
   ],
   "source": [
    "test = pd.read_csv(r'..\\data\\recsys-in-practice\\test_joke_df_nofactrating.csv', index_col=0)\n",
    "test.head(5)"
   ]
  },
  {
   "cell_type": "code",
   "execution_count": 20,
   "id": "38b10fb9",
   "metadata": {},
   "outputs": [
    {
     "data": {
      "text/html": [
       "<div>\n",
       "<style scoped>\n",
       "    .dataframe tbody tr th:only-of-type {\n",
       "        vertical-align: middle;\n",
       "    }\n",
       "\n",
       "    .dataframe tbody tr th {\n",
       "        vertical-align: top;\n",
       "    }\n",
       "\n",
       "    .dataframe thead th {\n",
       "        text-align: right;\n",
       "    }\n",
       "</style>\n",
       "<table border=\"1\" class=\"dataframe\">\n",
       "  <thead>\n",
       "    <tr style=\"text-align: right;\">\n",
       "      <th></th>\n",
       "      <th>UID</th>\n",
       "      <th>JID</th>\n",
       "      <th>cluster_id</th>\n",
       "    </tr>\n",
       "    <tr>\n",
       "      <th>InteractionID</th>\n",
       "      <th></th>\n",
       "      <th></th>\n",
       "      <th></th>\n",
       "    </tr>\n",
       "  </thead>\n",
       "  <tbody>\n",
       "    <tr>\n",
       "      <th>0</th>\n",
       "      <td>11228</td>\n",
       "      <td>39</td>\n",
       "      <td>5294</td>\n",
       "    </tr>\n",
       "    <tr>\n",
       "      <th>1</th>\n",
       "      <td>21724</td>\n",
       "      <td>85</td>\n",
       "      <td>1760</td>\n",
       "    </tr>\n",
       "    <tr>\n",
       "      <th>2</th>\n",
       "      <td>16782</td>\n",
       "      <td>56</td>\n",
       "      <td>5080</td>\n",
       "    </tr>\n",
       "    <tr>\n",
       "      <th>3</th>\n",
       "      <td>12105</td>\n",
       "      <td>42</td>\n",
       "      <td>11472</td>\n",
       "    </tr>\n",
       "    <tr>\n",
       "      <th>4</th>\n",
       "      <td>14427</td>\n",
       "      <td>2</td>\n",
       "      <td>7126</td>\n",
       "    </tr>\n",
       "    <tr>\n",
       "      <th>...</th>\n",
       "      <td>...</td>\n",
       "      <td>...</td>\n",
       "      <td>...</td>\n",
       "    </tr>\n",
       "    <tr>\n",
       "      <th>362086</th>\n",
       "      <td>3085</td>\n",
       "      <td>66</td>\n",
       "      <td>2450</td>\n",
       "    </tr>\n",
       "    <tr>\n",
       "      <th>362087</th>\n",
       "      <td>13765</td>\n",
       "      <td>31</td>\n",
       "      <td>4606</td>\n",
       "    </tr>\n",
       "    <tr>\n",
       "      <th>362088</th>\n",
       "      <td>10341</td>\n",
       "      <td>29</td>\n",
       "      <td>2767</td>\n",
       "    </tr>\n",
       "    <tr>\n",
       "      <th>362089</th>\n",
       "      <td>3553</td>\n",
       "      <td>8</td>\n",
       "      <td>6571</td>\n",
       "    </tr>\n",
       "    <tr>\n",
       "      <th>362090</th>\n",
       "      <td>1199</td>\n",
       "      <td>67</td>\n",
       "      <td>6357</td>\n",
       "    </tr>\n",
       "  </tbody>\n",
       "</table>\n",
       "<p>362091 rows × 3 columns</p>\n",
       "</div>"
      ],
      "text/plain": [
       "                 UID  JID  cluster_id\n",
       "InteractionID                        \n",
       "0              11228   39        5294\n",
       "1              21724   85        1760\n",
       "2              16782   56        5080\n",
       "3              12105   42       11472\n",
       "4              14427    2        7126\n",
       "...              ...  ...         ...\n",
       "362086          3085   66        2450\n",
       "362087         13765   31        4606\n",
       "362088         10341   29        2767\n",
       "362089          3553    8        6571\n",
       "362090          1199   67        6357\n",
       "\n",
       "[362091 rows x 3 columns]"
      ]
     },
     "execution_count": 20,
     "metadata": {},
     "output_type": "execute_result"
    }
   ],
   "source": [
    "test = test.join(cluster_df, on='UID', lsuffix='_left', rsuffix='_right')\n",
    "test"
   ]
  },
  {
   "cell_type": "code",
   "execution_count": 21,
   "id": "27bade05-e8a4-4b23-a370-0fc7151ad768",
   "metadata": {
    "id": "27bade05-e8a4-4b23-a370-0fc7151ad768"
   },
   "outputs": [],
   "source": [
    "test['Rating'] = test[['cluster_id', 'JID']].apply(lambda x: algo.predict(x[0], x[1], verbose=False).est,\n",
    "                                                      axis = 1)\n",
    "                                                      \n"
   ]
  },
  {
   "cell_type": "code",
   "execution_count": 22,
   "id": "8856cf55-5e63-493c-9b33-69ee76e39ea6",
   "metadata": {
    "colab": {
     "base_uri": "https://localhost:8080/",
     "height": 238
    },
    "id": "8856cf55-5e63-493c-9b33-69ee76e39ea6",
    "outputId": "5465856f-5b98-418c-80a7-743d51727f88"
   },
   "outputs": [
    {
     "data": {
      "text/html": [
       "<div>\n",
       "<style scoped>\n",
       "    .dataframe tbody tr th:only-of-type {\n",
       "        vertical-align: middle;\n",
       "    }\n",
       "\n",
       "    .dataframe tbody tr th {\n",
       "        vertical-align: top;\n",
       "    }\n",
       "\n",
       "    .dataframe thead th {\n",
       "        text-align: right;\n",
       "    }\n",
       "</style>\n",
       "<table border=\"1\" class=\"dataframe\">\n",
       "  <thead>\n",
       "    <tr style=\"text-align: right;\">\n",
       "      <th></th>\n",
       "      <th>Rating</th>\n",
       "    </tr>\n",
       "    <tr>\n",
       "      <th>InteractionID</th>\n",
       "      <th></th>\n",
       "    </tr>\n",
       "  </thead>\n",
       "  <tbody>\n",
       "    <tr>\n",
       "      <th>0</th>\n",
       "      <td>0.843270</td>\n",
       "    </tr>\n",
       "    <tr>\n",
       "      <th>1</th>\n",
       "      <td>-5.392343</td>\n",
       "    </tr>\n",
       "    <tr>\n",
       "      <th>2</th>\n",
       "      <td>-1.536955</td>\n",
       "    </tr>\n",
       "    <tr>\n",
       "      <th>3</th>\n",
       "      <td>7.508531</td>\n",
       "    </tr>\n",
       "    <tr>\n",
       "      <th>4</th>\n",
       "      <td>6.885926</td>\n",
       "    </tr>\n",
       "  </tbody>\n",
       "</table>\n",
       "</div>"
      ],
      "text/plain": [
       "                 Rating\n",
       "InteractionID          \n",
       "0              0.843270\n",
       "1             -5.392343\n",
       "2             -1.536955\n",
       "3              7.508531\n",
       "4              6.885926"
      ]
     },
     "execution_count": 22,
     "metadata": {},
     "output_type": "execute_result"
    }
   ],
   "source": [
    "# вид набора данных, который должен быть отправлен для тестирования\n",
    "test['Rating'].to_frame().head(5)"
   ]
  },
  {
   "cell_type": "code",
   "execution_count": 23,
   "id": "yLcjElHPRU1v",
   "metadata": {
    "id": "yLcjElHPRU1v"
   },
   "outputs": [],
   "source": [
    "# формирование файла для отправки в Kaggle\n",
    "test['Rating'].to_frame().to_csv(f'baseline_cluster_{n_clust}.csv')"
   ]
  },
  {
   "cell_type": "code",
   "execution_count": null,
   "id": "Br1Fjd7xSNhS",
   "metadata": {
    "id": "Br1Fjd7xSNhS"
   },
   "outputs": [],
   "source": []
  },
  {
   "cell_type": "code",
   "execution_count": 24,
   "id": "37c7aa26",
   "metadata": {},
   "outputs": [
    {
     "data": {
      "text/plain": [
       "Prediction(uid=11228, iid=39, r_ui=None, est=-3.1336757530134327, details={'actual_k': 40, 'was_impossible': False})"
      ]
     },
     "execution_count": 24,
     "metadata": {},
     "output_type": "execute_result"
    }
   ],
   "source": [
    "algo.predict(11228, 39, verbose=False)"
   ]
  },
  {
   "cell_type": "code",
   "execution_count": 25,
   "id": "342d1394",
   "metadata": {},
   "outputs": [
    {
     "data": {
      "text/plain": [
       "(0.07572168237170773, {'actual_k': 40})"
      ]
     },
     "execution_count": 25,
     "metadata": {},
     "output_type": "execute_result"
    }
   ],
   "source": [
    "algo.estimate(u=11228, i=39)"
   ]
  },
  {
   "cell_type": "code",
   "execution_count": 26,
   "id": "89fd4803",
   "metadata": {},
   "outputs": [
    {
     "data": {
      "text/plain": [
       "(100, 100)"
      ]
     },
     "execution_count": 26,
     "metadata": {},
     "output_type": "execute_result"
    }
   ],
   "source": [
    "algo.sim.shape"
   ]
  }
 ],
 "metadata": {
  "colab": {
   "provenance": []
  },
  "kernelspec": {
   "display_name": "Python 3 (ipykernel)",
   "language": "python",
   "name": "python3"
  },
  "language_info": {
   "codemirror_mode": {
    "name": "ipython",
    "version": 3
   },
   "file_extension": ".py",
   "mimetype": "text/x-python",
   "name": "python",
   "nbconvert_exporter": "python",
   "pygments_lexer": "ipython3",
   "version": "3.9.12"
  }
 },
 "nbformat": 4,
 "nbformat_minor": 5
}
