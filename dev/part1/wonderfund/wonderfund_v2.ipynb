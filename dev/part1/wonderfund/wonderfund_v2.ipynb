{
 "cells": [
  {
   "cell_type": "code",
   "execution_count": 1,
   "id": "e77708af",
   "metadata": {},
   "outputs": [],
   "source": [
    "from torch.utils.data import DataLoader\n",
    "import numpy as np\n",
    "import torch\n",
    "from tqdm.notebook import tqdm\n",
    "import time\n",
    "import datetime\n",
    "import os\n",
    "from torch.utils.data import Dataset\n",
    "from sklearn.model_selection import train_test_split\n",
    "from pathlib import Path\n",
    "import torch\n",
    "from torch import nn\n",
    "import numpy as np\n",
    "import pandas as pd\n",
    "import matplotlib.pyplot as plt"
   ]
  },
  {
   "cell_type": "code",
   "execution_count": 2,
   "id": "06045473",
   "metadata": {},
   "outputs": [],
   "source": [
    "train_joke_df = pd.read_csv(r'data\\recsys-in-practice\\train_joke_df.csv')\n",
    "sample_submission = pd.read_csv(r'data\\recsys-in-practice\\sample_submission.csv')\n",
    "test_joke_df_nofactrating = pd.read_csv(r'data\\recsys-in-practice\\test_joke_df_nofactrating.csv', index_col=0)"
   ]
  },
  {
   "cell_type": "code",
   "execution_count": 3,
   "id": "7582c1ad",
   "metadata": {},
   "outputs": [],
   "source": [
    "train_joke_df[\"UID\"] = train_joke_df[\"UID\"].astype(str)\n",
    "train_joke_df[\"JID\"] = train_joke_df[\"JID\"].astype(str)"
   ]
  },
  {
   "cell_type": "code",
   "execution_count": null,
   "id": "0bbd4fa4",
   "metadata": {},
   "outputs": [],
   "source": []
  },
  {
   "cell_type": "code",
   "execution_count": 4,
   "id": "9eadcceb",
   "metadata": {},
   "outputs": [],
   "source": [
    "train_df, valid_df = train_test_split(train_joke_df, test_size=0.1, random_state=42)"
   ]
  },
  {
   "cell_type": "code",
   "execution_count": 5,
   "id": "3b5ac249",
   "metadata": {},
   "outputs": [],
   "source": [
    "valid_dict = {i: i for i in valid_df.index}"
   ]
  },
  {
   "cell_type": "code",
   "execution_count": 6,
   "id": "abd40a47",
   "metadata": {},
   "outputs": [
    {
     "data": {
      "text/html": [
       "<div>\n",
       "<style scoped>\n",
       "    .dataframe tbody tr th:only-of-type {\n",
       "        vertical-align: middle;\n",
       "    }\n",
       "\n",
       "    .dataframe tbody tr th {\n",
       "        vertical-align: top;\n",
       "    }\n",
       "\n",
       "    .dataframe thead th {\n",
       "        text-align: right;\n",
       "    }\n",
       "</style>\n",
       "<table border=\"1\" class=\"dataframe\">\n",
       "  <thead>\n",
       "    <tr style=\"text-align: right;\">\n",
       "      <th></th>\n",
       "      <th>UID</th>\n",
       "      <th>JID</th>\n",
       "      <th>Rating</th>\n",
       "      <th>is_valid</th>\n",
       "    </tr>\n",
       "  </thead>\n",
       "  <tbody>\n",
       "    <tr>\n",
       "      <th>0</th>\n",
       "      <td>18029</td>\n",
       "      <td>6</td>\n",
       "      <td>-1.26</td>\n",
       "      <td>0</td>\n",
       "    </tr>\n",
       "    <tr>\n",
       "      <th>1</th>\n",
       "      <td>3298</td>\n",
       "      <td>64</td>\n",
       "      <td>-4.17</td>\n",
       "      <td>0</td>\n",
       "    </tr>\n",
       "    <tr>\n",
       "      <th>2</th>\n",
       "      <td>3366</td>\n",
       "      <td>58</td>\n",
       "      <td>0.92</td>\n",
       "      <td>0</td>\n",
       "    </tr>\n",
       "    <tr>\n",
       "      <th>3</th>\n",
       "      <td>12735</td>\n",
       "      <td>92</td>\n",
       "      <td>3.69</td>\n",
       "      <td>0</td>\n",
       "    </tr>\n",
       "    <tr>\n",
       "      <th>4</th>\n",
       "      <td>11365</td>\n",
       "      <td>38</td>\n",
       "      <td>-6.60</td>\n",
       "      <td>0</td>\n",
       "    </tr>\n",
       "    <tr>\n",
       "      <th>...</th>\n",
       "      <td>...</td>\n",
       "      <td>...</td>\n",
       "      <td>...</td>\n",
       "      <td>...</td>\n",
       "    </tr>\n",
       "    <tr>\n",
       "      <th>1448359</th>\n",
       "      <td>22604</td>\n",
       "      <td>26</td>\n",
       "      <td>2.82</td>\n",
       "      <td>0</td>\n",
       "    </tr>\n",
       "    <tr>\n",
       "      <th>1448360</th>\n",
       "      <td>22255</td>\n",
       "      <td>36</td>\n",
       "      <td>-1.94</td>\n",
       "      <td>0</td>\n",
       "    </tr>\n",
       "    <tr>\n",
       "      <th>1448361</th>\n",
       "      <td>21056</td>\n",
       "      <td>40</td>\n",
       "      <td>-9.56</td>\n",
       "      <td>1</td>\n",
       "    </tr>\n",
       "    <tr>\n",
       "      <th>1448362</th>\n",
       "      <td>12328</td>\n",
       "      <td>97</td>\n",
       "      <td>0.87</td>\n",
       "      <td>0</td>\n",
       "    </tr>\n",
       "    <tr>\n",
       "      <th>1448363</th>\n",
       "      <td>11528</td>\n",
       "      <td>3</td>\n",
       "      <td>9.32</td>\n",
       "      <td>0</td>\n",
       "    </tr>\n",
       "  </tbody>\n",
       "</table>\n",
       "<p>1448364 rows × 4 columns</p>\n",
       "</div>"
      ],
      "text/plain": [
       "           UID JID  Rating  is_valid\n",
       "0        18029   6   -1.26         0\n",
       "1         3298  64   -4.17         0\n",
       "2         3366  58    0.92         0\n",
       "3        12735  92    3.69         0\n",
       "4        11365  38   -6.60         0\n",
       "...        ...  ..     ...       ...\n",
       "1448359  22604  26    2.82         0\n",
       "1448360  22255  36   -1.94         0\n",
       "1448361  21056  40   -9.56         1\n",
       "1448362  12328  97    0.87         0\n",
       "1448363  11528   3    9.32         0\n",
       "\n",
       "[1448364 rows x 4 columns]"
      ]
     },
     "execution_count": 6,
     "metadata": {},
     "output_type": "execute_result"
    }
   ],
   "source": [
    "valid = [1 if i in valid_dict else 0 for i in train_joke_df.index]\n",
    "train_joke_df['is_valid'] = valid\n",
    "train_joke_df"
   ]
  },
  {
   "cell_type": "code",
   "execution_count": 7,
   "id": "25f73f96",
   "metadata": {},
   "outputs": [
    {
     "data": {
      "text/html": [
       "<div>\n",
       "<style scoped>\n",
       "    .dataframe tbody tr th:only-of-type {\n",
       "        vertical-align: middle;\n",
       "    }\n",
       "\n",
       "    .dataframe tbody tr th {\n",
       "        vertical-align: top;\n",
       "    }\n",
       "\n",
       "    .dataframe thead th {\n",
       "        text-align: right;\n",
       "    }\n",
       "</style>\n",
       "<table border=\"1\" class=\"dataframe\">\n",
       "  <thead>\n",
       "    <tr style=\"text-align: right;\">\n",
       "      <th></th>\n",
       "      <th>UID</th>\n",
       "      <th>JID</th>\n",
       "      <th>Rating</th>\n",
       "    </tr>\n",
       "  </thead>\n",
       "  <tbody>\n",
       "    <tr>\n",
       "      <th>1113065</th>\n",
       "      <td>2296</td>\n",
       "      <td>32</td>\n",
       "      <td>5.53</td>\n",
       "    </tr>\n",
       "    <tr>\n",
       "      <th>501732</th>\n",
       "      <td>14967</td>\n",
       "      <td>94</td>\n",
       "      <td>2.04</td>\n",
       "    </tr>\n",
       "    <tr>\n",
       "      <th>348251</th>\n",
       "      <td>6395</td>\n",
       "      <td>22</td>\n",
       "      <td>-2.86</td>\n",
       "    </tr>\n",
       "    <tr>\n",
       "      <th>183559</th>\n",
       "      <td>17692</td>\n",
       "      <td>26</td>\n",
       "      <td>-7.28</td>\n",
       "    </tr>\n",
       "    <tr>\n",
       "      <th>196180</th>\n",
       "      <td>20977</td>\n",
       "      <td>40</td>\n",
       "      <td>0.73</td>\n",
       "    </tr>\n",
       "    <tr>\n",
       "      <th>...</th>\n",
       "      <td>...</td>\n",
       "      <td>...</td>\n",
       "      <td>...</td>\n",
       "    </tr>\n",
       "    <tr>\n",
       "      <th>806339</th>\n",
       "      <td>15769</td>\n",
       "      <td>36</td>\n",
       "      <td>2.82</td>\n",
       "    </tr>\n",
       "    <tr>\n",
       "      <th>1192740</th>\n",
       "      <td>22618</td>\n",
       "      <td>22</td>\n",
       "      <td>4.17</td>\n",
       "    </tr>\n",
       "    <tr>\n",
       "      <th>264310</th>\n",
       "      <td>15135</td>\n",
       "      <td>62</td>\n",
       "      <td>3.35</td>\n",
       "    </tr>\n",
       "    <tr>\n",
       "      <th>161392</th>\n",
       "      <td>12596</td>\n",
       "      <td>47</td>\n",
       "      <td>1.17</td>\n",
       "    </tr>\n",
       "    <tr>\n",
       "      <th>1186708</th>\n",
       "      <td>6323</td>\n",
       "      <td>64</td>\n",
       "      <td>5.97</td>\n",
       "    </tr>\n",
       "  </tbody>\n",
       "</table>\n",
       "<p>144837 rows × 3 columns</p>\n",
       "</div>"
      ],
      "text/plain": [
       "           UID JID  Rating\n",
       "1113065   2296  32    5.53\n",
       "501732   14967  94    2.04\n",
       "348251    6395  22   -2.86\n",
       "183559   17692  26   -7.28\n",
       "196180   20977  40    0.73\n",
       "...        ...  ..     ...\n",
       "806339   15769  36    2.82\n",
       "1192740  22618  22    4.17\n",
       "264310   15135  62    3.35\n",
       "161392   12596  47    1.17\n",
       "1186708   6323  64    5.97\n",
       "\n",
       "[144837 rows x 3 columns]"
      ]
     },
     "execution_count": 7,
     "metadata": {},
     "output_type": "execute_result"
    }
   ],
   "source": [
    "valid_df"
   ]
  },
  {
   "cell_type": "code",
   "execution_count": 8,
   "id": "2f180563",
   "metadata": {},
   "outputs": [],
   "source": [
    "user_lookup = {v: i+1 for i, v in enumerate(train_joke_df[\"UID\"].unique())}"
   ]
  },
  {
   "cell_type": "code",
   "execution_count": 9,
   "id": "99971bd8",
   "metadata": {},
   "outputs": [],
   "source": [
    "movie_lookup = {v: i+1 for i, v in enumerate(train_joke_df[\"JID\"].unique())}"
   ]
  },
  {
   "cell_type": "code",
   "execution_count": 10,
   "id": "6d8e1a22",
   "metadata": {},
   "outputs": [
    {
     "data": {
      "text/plain": [
       "'cuda'"
      ]
     },
     "execution_count": 10,
     "metadata": {},
     "output_type": "execute_result"
    }
   ],
   "source": [
    "device = \"cuda\" if torch.cuda.is_available() else \"cpu\"\n",
    "device"
   ]
  },
  {
   "cell_type": "code",
   "execution_count": 11,
   "id": "030563cb",
   "metadata": {},
   "outputs": [],
   "source": [
    "def RMSE_loss(prediction, target):\n",
    "    return torch.sqrt(nn.MSELoss()(prediction, target))"
   ]
  },
  {
   "cell_type": "markdown",
   "id": "6ec3d353",
   "metadata": {},
   "source": [
    "Comparing this to our baseline, we can see that there is an improvement!"
   ]
  },
  {
   "cell_type": "markdown",
   "id": "12b89b19",
   "metadata": {},
   "source": [
    "## Sequential recommendations using a transformer"
   ]
  },
  {
   "cell_type": "markdown",
   "id": "89bb857b",
   "metadata": {},
   "source": [
    "Using matrix factorization, we are treating each rating as being independent from the ratings around it; however, incorporating information about other movies that a user recently rated could provide an additional signal that could boost performance. For example, suppose that a user is watching a trilogy of films; if they have rated the first two instalments highly, it is likely that they may do the same for the finale!\n",
    "\n",
    "One way that we can approach this is to use a transformer network, specifically the encoder portion, to encode additional context into the learned embeddings for each movie, and then using a fully connected neural network to make the rating predictions."
   ]
  },
  {
   "cell_type": "markdown",
   "id": "45c308a7",
   "metadata": {},
   "source": [
    "### Pre-processing the data"
   ]
  },
  {
   "cell_type": "markdown",
   "id": "b4b22435",
   "metadata": {},
   "source": [
    "The first step is to process our data so that we have a time-sorted list of movies for each user. Let's start by grouping all the ratings by user:"
   ]
  },
  {
   "cell_type": "code",
   "execution_count": 12,
   "id": "7791058d",
   "metadata": {},
   "outputs": [],
   "source": [
    "grouped_ratings = train_joke_df.groupby('UID').agg(tuple).reset_index()"
   ]
  },
  {
   "cell_type": "code",
   "execution_count": 13,
   "id": "8e7ca0a4",
   "metadata": {},
   "outputs": [
    {
     "data": {
      "text/html": [
       "<div>\n",
       "<style scoped>\n",
       "    .dataframe tbody tr th:only-of-type {\n",
       "        vertical-align: middle;\n",
       "    }\n",
       "\n",
       "    .dataframe tbody tr th {\n",
       "        vertical-align: top;\n",
       "    }\n",
       "\n",
       "    .dataframe thead th {\n",
       "        text-align: right;\n",
       "    }\n",
       "</style>\n",
       "<table border=\"1\" class=\"dataframe\">\n",
       "  <thead>\n",
       "    <tr style=\"text-align: right;\">\n",
       "      <th></th>\n",
       "      <th>UID</th>\n",
       "      <th>JID</th>\n",
       "      <th>Rating</th>\n",
       "      <th>is_valid</th>\n",
       "    </tr>\n",
       "  </thead>\n",
       "  <tbody>\n",
       "    <tr>\n",
       "      <th>0</th>\n",
       "      <td>1</td>\n",
       "      <td>(53, 30, 15, 7, 29, 38, 20, 32, 54, 59, 3, 82,...</td>\n",
       "      <td>(3.2, -7.43, -7.18, -9.85, 9.13, -8.4, -9.85, ...</td>\n",
       "      <td>(0, 0, 0, 0, 0, 0, 0, 0, 0, 0, 0, 0, 0, 1, 0, ...</td>\n",
       "    </tr>\n",
       "    <tr>\n",
       "      <th>1</th>\n",
       "      <td>10</td>\n",
       "      <td>(9, 39, 34, 57, 63, 23, 45, 43, 6, 31, 1, 18, ...</td>\n",
       "      <td>(3.01, 3.01, 6.5, 2.43, 6.8, 6.6, 6.8, 3.01, 5...</td>\n",
       "      <td>(0, 1, 0, 0, 0, 0, 0, 0, 0, 0, 0, 0, 0, 0, 0, ...</td>\n",
       "    </tr>\n",
       "    <tr>\n",
       "      <th>2</th>\n",
       "      <td>100</td>\n",
       "      <td>(69, 28, 54, 39, 8, 36, 46, 53, 32, 20, 66, 16...</td>\n",
       "      <td>(-4.17, -5.49, -4.61, -4.85, -4.27, -4.03, -1....</td>\n",
       "      <td>(0, 0, 1, 0, 0, 0, 0, 0, 0, 0, 0, 0, 0, 0, 0, ...</td>\n",
       "    </tr>\n",
       "    <tr>\n",
       "      <th>3</th>\n",
       "      <td>1000</td>\n",
       "      <td>(60, 62, 8, 32, 54, 63, 26, 38, 57, 30, 37, 12...</td>\n",
       "      <td>(5.29, 2.09, 0.97, 5.83, -1.7, 8.01, 1.26, 1.2...</td>\n",
       "      <td>(1, 0, 0, 1, 0, 0, 0, 0, 0, 0, 0, 0, 0, 0, 0, ...</td>\n",
       "    </tr>\n",
       "    <tr>\n",
       "      <th>4</th>\n",
       "      <td>10000</td>\n",
       "      <td>(14, 18, 68, 66, 53, 40, 49, 69, 12, 50, 23, 2...</td>\n",
       "      <td>(9.37, -4.95, 8.64, 9.17, 9.32, -4.71, -4.76, ...</td>\n",
       "      <td>(0, 0, 0, 0, 0, 1, 0, 0, 0, 0, 0, 0, 0, 1, 0, ...</td>\n",
       "    </tr>\n",
       "    <tr>\n",
       "      <th>...</th>\n",
       "      <td>...</td>\n",
       "      <td>...</td>\n",
       "      <td>...</td>\n",
       "      <td>...</td>\n",
       "    </tr>\n",
       "    <tr>\n",
       "      <th>24978</th>\n",
       "      <td>9995</td>\n",
       "      <td>(32, 5, 13, 48, 27, 77, 21, 63, 36, 38, 11, 65...</td>\n",
       "      <td>(-1.6, 6.46, -8.4, 3.74, -3.11, 6.26, 5.97, 6....</td>\n",
       "      <td>(0, 0, 0, 0, 0, 0, 0, 0, 0, 0, 0, 0, 1, 0, 0, ...</td>\n",
       "    </tr>\n",
       "    <tr>\n",
       "      <th>24979</th>\n",
       "      <td>9996</td>\n",
       "      <td>(70, 39, 7, 51, 13, 89, 38, 25, 26, 17, 69, 31...</td>\n",
       "      <td>(6.99, 5.97, -5.19, -2.72, 0.0, 8.5, 6.55, -4....</td>\n",
       "      <td>(0, 0, 0, 0, 1, 0, 0, 0, 0, 1, 1, 0, 0, 0, 1, ...</td>\n",
       "    </tr>\n",
       "    <tr>\n",
       "      <th>24980</th>\n",
       "      <td>9997</td>\n",
       "      <td>(20, 8, 38, 17, 55, 1, 22, 29, 53, 49, 85, 45,...</td>\n",
       "      <td>(-0.44, 2.96, -0.34, -1.31, -5.29, -6.31, 1.07...</td>\n",
       "      <td>(0, 0, 0, 0, 0, 0, 0, 0, 0, 0, 0, 1, 0, 0, 0, ...</td>\n",
       "    </tr>\n",
       "    <tr>\n",
       "      <th>24981</th>\n",
       "      <td>9998</td>\n",
       "      <td>(85, 67, 40, 19, 31, 94, 27, 52, 1, 56, 26, 47...</td>\n",
       "      <td>(-9.81, -9.71, -9.66, 0.53, -9.85, -7.18, -9.6...</td>\n",
       "      <td>(0, 0, 0, 0, 0, 0, 0, 0, 0, 0, 0, 0, 1, 0, 0, ...</td>\n",
       "    </tr>\n",
       "    <tr>\n",
       "      <th>24982</th>\n",
       "      <td>9999</td>\n",
       "      <td>(19, 98, 55, 61, 4, 82, 72, 32, 7, 67, 18, 73,...</td>\n",
       "      <td>(4.51, 4.9, 2.43, 4.81, 3.98, 2.43, 3.2, 4.81,...</td>\n",
       "      <td>(0, 0, 0, 0, 0, 0, 0, 0, 0, 0, 1, 0, 0, 0, 0, ...</td>\n",
       "    </tr>\n",
       "  </tbody>\n",
       "</table>\n",
       "<p>24983 rows × 4 columns</p>\n",
       "</div>"
      ],
      "text/plain": [
       "         UID                                                JID  \\\n",
       "0          1  (53, 30, 15, 7, 29, 38, 20, 32, 54, 59, 3, 82,...   \n",
       "1         10  (9, 39, 34, 57, 63, 23, 45, 43, 6, 31, 1, 18, ...   \n",
       "2        100  (69, 28, 54, 39, 8, 36, 46, 53, 32, 20, 66, 16...   \n",
       "3       1000  (60, 62, 8, 32, 54, 63, 26, 38, 57, 30, 37, 12...   \n",
       "4      10000  (14, 18, 68, 66, 53, 40, 49, 69, 12, 50, 23, 2...   \n",
       "...      ...                                                ...   \n",
       "24978   9995  (32, 5, 13, 48, 27, 77, 21, 63, 36, 38, 11, 65...   \n",
       "24979   9996  (70, 39, 7, 51, 13, 89, 38, 25, 26, 17, 69, 31...   \n",
       "24980   9997  (20, 8, 38, 17, 55, 1, 22, 29, 53, 49, 85, 45,...   \n",
       "24981   9998  (85, 67, 40, 19, 31, 94, 27, 52, 1, 56, 26, 47...   \n",
       "24982   9999  (19, 98, 55, 61, 4, 82, 72, 32, 7, 67, 18, 73,...   \n",
       "\n",
       "                                                  Rating  \\\n",
       "0      (3.2, -7.43, -7.18, -9.85, 9.13, -8.4, -9.85, ...   \n",
       "1      (3.01, 3.01, 6.5, 2.43, 6.8, 6.6, 6.8, 3.01, 5...   \n",
       "2      (-4.17, -5.49, -4.61, -4.85, -4.27, -4.03, -1....   \n",
       "3      (5.29, 2.09, 0.97, 5.83, -1.7, 8.01, 1.26, 1.2...   \n",
       "4      (9.37, -4.95, 8.64, 9.17, 9.32, -4.71, -4.76, ...   \n",
       "...                                                  ...   \n",
       "24978  (-1.6, 6.46, -8.4, 3.74, -3.11, 6.26, 5.97, 6....   \n",
       "24979  (6.99, 5.97, -5.19, -2.72, 0.0, 8.5, 6.55, -4....   \n",
       "24980  (-0.44, 2.96, -0.34, -1.31, -5.29, -6.31, 1.07...   \n",
       "24981  (-9.81, -9.71, -9.66, 0.53, -9.85, -7.18, -9.6...   \n",
       "24982  (4.51, 4.9, 2.43, 4.81, 3.98, 2.43, 3.2, 4.81,...   \n",
       "\n",
       "                                                is_valid  \n",
       "0      (0, 0, 0, 0, 0, 0, 0, 0, 0, 0, 0, 0, 0, 1, 0, ...  \n",
       "1      (0, 1, 0, 0, 0, 0, 0, 0, 0, 0, 0, 0, 0, 0, 0, ...  \n",
       "2      (0, 0, 1, 0, 0, 0, 0, 0, 0, 0, 0, 0, 0, 0, 0, ...  \n",
       "3      (1, 0, 0, 1, 0, 0, 0, 0, 0, 0, 0, 0, 0, 0, 0, ...  \n",
       "4      (0, 0, 0, 0, 0, 1, 0, 0, 0, 0, 0, 0, 0, 1, 0, ...  \n",
       "...                                                  ...  \n",
       "24978  (0, 0, 0, 0, 0, 0, 0, 0, 0, 0, 0, 0, 1, 0, 0, ...  \n",
       "24979  (0, 0, 0, 0, 1, 0, 0, 0, 0, 1, 1, 0, 0, 0, 1, ...  \n",
       "24980  (0, 0, 0, 0, 0, 0, 0, 0, 0, 0, 0, 1, 0, 0, 0, ...  \n",
       "24981  (0, 0, 0, 0, 0, 0, 0, 0, 0, 0, 0, 0, 1, 0, 0, ...  \n",
       "24982  (0, 0, 0, 0, 0, 0, 0, 0, 0, 0, 1, 0, 0, 0, 0, ...  \n",
       "\n",
       "[24983 rows x 4 columns]"
      ]
     },
     "execution_count": 13,
     "metadata": {},
     "output_type": "execute_result"
    }
   ],
   "source": [
    "grouped_ratings"
   ]
  },
  {
   "cell_type": "markdown",
   "id": "233f7e51",
   "metadata": {},
   "source": [
    "Now that we have grouped by user, we can create an additional column so that we can see the number of events associated with each user"
   ]
  },
  {
   "cell_type": "code",
   "execution_count": 14,
   "id": "fcbf2d66",
   "metadata": {},
   "outputs": [],
   "source": [
    "grouped_ratings['num_ratings'] = grouped_ratings['Rating'].apply(lambda row: len(row))"
   ]
  },
  {
   "cell_type": "markdown",
   "id": "103612b7",
   "metadata": {},
   "source": [
    "Let's take a look at the new dataframe"
   ]
  },
  {
   "cell_type": "code",
   "execution_count": 15,
   "id": "af0db536",
   "metadata": {},
   "outputs": [
    {
     "data": {
      "text/html": [
       "<div>\n",
       "<style scoped>\n",
       "    .dataframe tbody tr th:only-of-type {\n",
       "        vertical-align: middle;\n",
       "    }\n",
       "\n",
       "    .dataframe tbody tr th {\n",
       "        vertical-align: top;\n",
       "    }\n",
       "\n",
       "    .dataframe thead th {\n",
       "        text-align: right;\n",
       "    }\n",
       "</style>\n",
       "<table border=\"1\" class=\"dataframe\">\n",
       "  <thead>\n",
       "    <tr style=\"text-align: right;\">\n",
       "      <th></th>\n",
       "      <th>UID</th>\n",
       "      <th>JID</th>\n",
       "      <th>Rating</th>\n",
       "      <th>is_valid</th>\n",
       "      <th>num_ratings</th>\n",
       "    </tr>\n",
       "  </thead>\n",
       "  <tbody>\n",
       "    <tr>\n",
       "      <th>0</th>\n",
       "      <td>1</td>\n",
       "      <td>(53, 30, 15, 7, 29, 38, 20, 32, 54, 59, 3, 82,...</td>\n",
       "      <td>(3.2, -7.43, -7.18, -9.85, 9.13, -8.4, -9.85, ...</td>\n",
       "      <td>(0, 0, 0, 0, 0, 0, 0, 0, 0, 0, 0, 0, 0, 1, 0, ...</td>\n",
       "      <td>62</td>\n",
       "    </tr>\n",
       "    <tr>\n",
       "      <th>1</th>\n",
       "      <td>10</td>\n",
       "      <td>(9, 39, 34, 57, 63, 23, 45, 43, 6, 31, 1, 18, ...</td>\n",
       "      <td>(3.01, 3.01, 6.5, 2.43, 6.8, 6.6, 6.8, 3.01, 5...</td>\n",
       "      <td>(0, 1, 0, 0, 0, 0, 0, 0, 0, 0, 0, 0, 0, 0, 0, ...</td>\n",
       "      <td>65</td>\n",
       "    </tr>\n",
       "    <tr>\n",
       "      <th>2</th>\n",
       "      <td>100</td>\n",
       "      <td>(69, 28, 54, 39, 8, 36, 46, 53, 32, 20, 66, 16...</td>\n",
       "      <td>(-4.17, -5.49, -4.61, -4.85, -4.27, -4.03, -1....</td>\n",
       "      <td>(0, 0, 1, 0, 0, 0, 0, 0, 0, 0, 0, 0, 0, 0, 0, ...</td>\n",
       "      <td>26</td>\n",
       "    </tr>\n",
       "    <tr>\n",
       "      <th>3</th>\n",
       "      <td>1000</td>\n",
       "      <td>(60, 62, 8, 32, 54, 63, 26, 38, 57, 30, 37, 12...</td>\n",
       "      <td>(5.29, 2.09, 0.97, 5.83, -1.7, 8.01, 1.26, 1.2...</td>\n",
       "      <td>(1, 0, 0, 1, 0, 0, 0, 0, 0, 0, 0, 0, 0, 0, 0, ...</td>\n",
       "      <td>52</td>\n",
       "    </tr>\n",
       "    <tr>\n",
       "      <th>4</th>\n",
       "      <td>10000</td>\n",
       "      <td>(14, 18, 68, 66, 53, 40, 49, 69, 12, 50, 23, 2...</td>\n",
       "      <td>(9.37, -4.95, 8.64, 9.17, 9.32, -4.71, -4.76, ...</td>\n",
       "      <td>(0, 0, 0, 0, 0, 1, 0, 0, 0, 0, 0, 0, 0, 1, 0, ...</td>\n",
       "      <td>48</td>\n",
       "    </tr>\n",
       "    <tr>\n",
       "      <th>...</th>\n",
       "      <td>...</td>\n",
       "      <td>...</td>\n",
       "      <td>...</td>\n",
       "      <td>...</td>\n",
       "      <td>...</td>\n",
       "    </tr>\n",
       "    <tr>\n",
       "      <th>24978</th>\n",
       "      <td>9995</td>\n",
       "      <td>(32, 5, 13, 48, 27, 77, 21, 63, 36, 38, 11, 65...</td>\n",
       "      <td>(-1.6, 6.46, -8.4, 3.74, -3.11, 6.26, 5.97, 6....</td>\n",
       "      <td>(0, 0, 0, 0, 0, 0, 0, 0, 0, 0, 0, 0, 1, 0, 0, ...</td>\n",
       "      <td>39</td>\n",
       "    </tr>\n",
       "    <tr>\n",
       "      <th>24979</th>\n",
       "      <td>9996</td>\n",
       "      <td>(70, 39, 7, 51, 13, 89, 38, 25, 26, 17, 69, 31...</td>\n",
       "      <td>(6.99, 5.97, -5.19, -2.72, 0.0, 8.5, 6.55, -4....</td>\n",
       "      <td>(0, 0, 0, 0, 1, 0, 0, 0, 0, 1, 1, 0, 0, 0, 1, ...</td>\n",
       "      <td>58</td>\n",
       "    </tr>\n",
       "    <tr>\n",
       "      <th>24980</th>\n",
       "      <td>9997</td>\n",
       "      <td>(20, 8, 38, 17, 55, 1, 22, 29, 53, 49, 85, 45,...</td>\n",
       "      <td>(-0.44, 2.96, -0.34, -1.31, -5.29, -6.31, 1.07...</td>\n",
       "      <td>(0, 0, 0, 0, 0, 0, 0, 0, 0, 0, 0, 1, 0, 0, 0, ...</td>\n",
       "      <td>48</td>\n",
       "    </tr>\n",
       "    <tr>\n",
       "      <th>24981</th>\n",
       "      <td>9998</td>\n",
       "      <td>(85, 67, 40, 19, 31, 94, 27, 52, 1, 56, 26, 47...</td>\n",
       "      <td>(-9.81, -9.71, -9.66, 0.53, -9.85, -7.18, -9.6...</td>\n",
       "      <td>(0, 0, 0, 0, 0, 0, 0, 0, 0, 0, 0, 0, 1, 0, 0, ...</td>\n",
       "      <td>71</td>\n",
       "    </tr>\n",
       "    <tr>\n",
       "      <th>24982</th>\n",
       "      <td>9999</td>\n",
       "      <td>(19, 98, 55, 61, 4, 82, 72, 32, 7, 67, 18, 73,...</td>\n",
       "      <td>(4.51, 4.9, 2.43, 4.81, 3.98, 2.43, 3.2, 4.81,...</td>\n",
       "      <td>(0, 0, 0, 0, 0, 0, 0, 0, 0, 0, 1, 0, 0, 0, 0, ...</td>\n",
       "      <td>76</td>\n",
       "    </tr>\n",
       "  </tbody>\n",
       "</table>\n",
       "<p>24983 rows × 5 columns</p>\n",
       "</div>"
      ],
      "text/plain": [
       "         UID                                                JID  \\\n",
       "0          1  (53, 30, 15, 7, 29, 38, 20, 32, 54, 59, 3, 82,...   \n",
       "1         10  (9, 39, 34, 57, 63, 23, 45, 43, 6, 31, 1, 18, ...   \n",
       "2        100  (69, 28, 54, 39, 8, 36, 46, 53, 32, 20, 66, 16...   \n",
       "3       1000  (60, 62, 8, 32, 54, 63, 26, 38, 57, 30, 37, 12...   \n",
       "4      10000  (14, 18, 68, 66, 53, 40, 49, 69, 12, 50, 23, 2...   \n",
       "...      ...                                                ...   \n",
       "24978   9995  (32, 5, 13, 48, 27, 77, 21, 63, 36, 38, 11, 65...   \n",
       "24979   9996  (70, 39, 7, 51, 13, 89, 38, 25, 26, 17, 69, 31...   \n",
       "24980   9997  (20, 8, 38, 17, 55, 1, 22, 29, 53, 49, 85, 45,...   \n",
       "24981   9998  (85, 67, 40, 19, 31, 94, 27, 52, 1, 56, 26, 47...   \n",
       "24982   9999  (19, 98, 55, 61, 4, 82, 72, 32, 7, 67, 18, 73,...   \n",
       "\n",
       "                                                  Rating  \\\n",
       "0      (3.2, -7.43, -7.18, -9.85, 9.13, -8.4, -9.85, ...   \n",
       "1      (3.01, 3.01, 6.5, 2.43, 6.8, 6.6, 6.8, 3.01, 5...   \n",
       "2      (-4.17, -5.49, -4.61, -4.85, -4.27, -4.03, -1....   \n",
       "3      (5.29, 2.09, 0.97, 5.83, -1.7, 8.01, 1.26, 1.2...   \n",
       "4      (9.37, -4.95, 8.64, 9.17, 9.32, -4.71, -4.76, ...   \n",
       "...                                                  ...   \n",
       "24978  (-1.6, 6.46, -8.4, 3.74, -3.11, 6.26, 5.97, 6....   \n",
       "24979  (6.99, 5.97, -5.19, -2.72, 0.0, 8.5, 6.55, -4....   \n",
       "24980  (-0.44, 2.96, -0.34, -1.31, -5.29, -6.31, 1.07...   \n",
       "24981  (-9.81, -9.71, -9.66, 0.53, -9.85, -7.18, -9.6...   \n",
       "24982  (4.51, 4.9, 2.43, 4.81, 3.98, 2.43, 3.2, 4.81,...   \n",
       "\n",
       "                                                is_valid  num_ratings  \n",
       "0      (0, 0, 0, 0, 0, 0, 0, 0, 0, 0, 0, 0, 0, 1, 0, ...           62  \n",
       "1      (0, 1, 0, 0, 0, 0, 0, 0, 0, 0, 0, 0, 0, 0, 0, ...           65  \n",
       "2      (0, 0, 1, 0, 0, 0, 0, 0, 0, 0, 0, 0, 0, 0, 0, ...           26  \n",
       "3      (1, 0, 0, 1, 0, 0, 0, 0, 0, 0, 0, 0, 0, 0, 0, ...           52  \n",
       "4      (0, 0, 0, 0, 0, 1, 0, 0, 0, 0, 0, 0, 0, 1, 0, ...           48  \n",
       "...                                                  ...          ...  \n",
       "24978  (0, 0, 0, 0, 0, 0, 0, 0, 0, 0, 0, 0, 1, 0, 0, ...           39  \n",
       "24979  (0, 0, 0, 0, 1, 0, 0, 0, 0, 1, 1, 0, 0, 0, 1, ...           58  \n",
       "24980  (0, 0, 0, 0, 0, 0, 0, 0, 0, 0, 0, 1, 0, 0, 0, ...           48  \n",
       "24981  (0, 0, 0, 0, 0, 0, 0, 0, 0, 0, 0, 0, 1, 0, 0, ...           71  \n",
       "24982  (0, 0, 0, 0, 0, 0, 0, 0, 0, 0, 1, 0, 0, 0, 0, ...           76  \n",
       "\n",
       "[24983 rows x 5 columns]"
      ]
     },
     "execution_count": 15,
     "metadata": {},
     "output_type": "execute_result"
    }
   ],
   "source": [
    "grouped_ratings"
   ]
  },
  {
   "cell_type": "markdown",
   "id": "d8559845",
   "metadata": {},
   "source": [
    "Now that we have grouped all the ratings for each user, let's divide these into smaller sequences. To make the most out of the data, we would like the model to have the opportunity to predict a rating for every movie in the training set. To do this, let's specify a sequence length s and use the previous s-1 ratings as our user history.\n",
    "\n",
    "As the model expects each sequence to be a fixed length, we will fill empty spaces with a padding token, so that sequences can be batched and passed to the model. Let's create a function to do this.\n",
    "\n",
    "We are going to arbitrarily choose a length of 10 here."
   ]
  },
  {
   "cell_type": "code",
   "execution_count": 16,
   "id": "00164996",
   "metadata": {},
   "outputs": [],
   "source": [
    "sequence_length = 10"
   ]
  },
  {
   "cell_type": "code",
   "execution_count": 17,
   "id": "09119db3",
   "metadata": {},
   "outputs": [],
   "source": [
    "def create_sequences(values, sequence_length):\n",
    "    sequences = []\n",
    "    for i, v in enumerate(values):\n",
    "        seq = values[:i+1]\n",
    "        if len(seq) > sequence_length:\n",
    "            seq = seq[i-sequence_length+1:i+1]\n",
    "        elif len(seq) < sequence_length:\n",
    "            seq =(*(['[PAD]'] * (sequence_length - len(seq))), *seq)\n",
    "       \n",
    "        sequences.append(seq)\n",
    "    return sequences\n",
    "        "
   ]
  },
  {
   "cell_type": "markdown",
   "id": "9310980e",
   "metadata": {},
   "source": [
    "To visualize how this function works, let's apply it, with a sequence length of 3, to the first 10 movies rated by the first user. These movies are:"
   ]
  },
  {
   "cell_type": "code",
   "execution_count": null,
   "id": "62f08327",
   "metadata": {},
   "outputs": [],
   "source": []
  },
  {
   "cell_type": "markdown",
   "id": "6e1db720",
   "metadata": {},
   "source": [
    "Applying our function, we have:"
   ]
  },
  {
   "cell_type": "code",
   "execution_count": 18,
   "id": "3ee50596",
   "metadata": {},
   "outputs": [
    {
     "data": {
      "text/plain": [
       "[('[PAD]', '[PAD]', '53'),\n",
       " ('[PAD]', '53', '30'),\n",
       " ('53', '30', '15'),\n",
       " ('30', '15', '7'),\n",
       " ('15', '7', '29'),\n",
       " ('7', '29', '38'),\n",
       " ('29', '38', '20'),\n",
       " ('38', '20', '32'),\n",
       " ('20', '32', '54'),\n",
       " ('32', '54', '59')]"
      ]
     },
     "execution_count": 18,
     "metadata": {},
     "output_type": "execute_result"
    }
   ],
   "source": [
    "create_sequences(grouped_ratings.iloc[0]['JID'][:10], 3)"
   ]
  },
  {
   "cell_type": "code",
   "execution_count": null,
   "id": "555a9a39",
   "metadata": {},
   "outputs": [],
   "source": []
  },
  {
   "cell_type": "code",
   "execution_count": 19,
   "id": "a25b9634",
   "metadata": {},
   "outputs": [
    {
     "data": {
      "text/html": [
       "<div>\n",
       "<style scoped>\n",
       "    .dataframe tbody tr th:only-of-type {\n",
       "        vertical-align: middle;\n",
       "    }\n",
       "\n",
       "    .dataframe tbody tr th {\n",
       "        vertical-align: top;\n",
       "    }\n",
       "\n",
       "    .dataframe thead th {\n",
       "        text-align: right;\n",
       "    }\n",
       "</style>\n",
       "<table border=\"1\" class=\"dataframe\">\n",
       "  <thead>\n",
       "    <tr style=\"text-align: right;\">\n",
       "      <th></th>\n",
       "      <th>UID</th>\n",
       "      <th>JID</th>\n",
       "      <th>Rating</th>\n",
       "      <th>is_valid</th>\n",
       "      <th>num_ratings</th>\n",
       "    </tr>\n",
       "  </thead>\n",
       "  <tbody>\n",
       "    <tr>\n",
       "      <th>0</th>\n",
       "      <td>1</td>\n",
       "      <td>(53, 30, 15, 7, 29, 38, 20, 32, 54, 59, 3, 82,...</td>\n",
       "      <td>(3.2, -7.43, -7.18, -9.85, 9.13, -8.4, -9.85, ...</td>\n",
       "      <td>(0, 0, 0, 0, 0, 0, 0, 0, 0, 0, 0, 0, 0, 1, 0, ...</td>\n",
       "      <td>62</td>\n",
       "    </tr>\n",
       "    <tr>\n",
       "      <th>1</th>\n",
       "      <td>10</td>\n",
       "      <td>(9, 39, 34, 57, 63, 23, 45, 43, 6, 31, 1, 18, ...</td>\n",
       "      <td>(3.01, 3.01, 6.5, 2.43, 6.8, 6.6, 6.8, 3.01, 5...</td>\n",
       "      <td>(0, 1, 0, 0, 0, 0, 0, 0, 0, 0, 0, 0, 0, 0, 0, ...</td>\n",
       "      <td>65</td>\n",
       "    </tr>\n",
       "    <tr>\n",
       "      <th>2</th>\n",
       "      <td>100</td>\n",
       "      <td>(69, 28, 54, 39, 8, 36, 46, 53, 32, 20, 66, 16...</td>\n",
       "      <td>(-4.17, -5.49, -4.61, -4.85, -4.27, -4.03, -1....</td>\n",
       "      <td>(0, 0, 1, 0, 0, 0, 0, 0, 0, 0, 0, 0, 0, 0, 0, ...</td>\n",
       "      <td>26</td>\n",
       "    </tr>\n",
       "    <tr>\n",
       "      <th>3</th>\n",
       "      <td>1000</td>\n",
       "      <td>(60, 62, 8, 32, 54, 63, 26, 38, 57, 30, 37, 12...</td>\n",
       "      <td>(5.29, 2.09, 0.97, 5.83, -1.7, 8.01, 1.26, 1.2...</td>\n",
       "      <td>(1, 0, 0, 1, 0, 0, 0, 0, 0, 0, 0, 0, 0, 0, 0, ...</td>\n",
       "      <td>52</td>\n",
       "    </tr>\n",
       "    <tr>\n",
       "      <th>4</th>\n",
       "      <td>10000</td>\n",
       "      <td>(14, 18, 68, 66, 53, 40, 49, 69, 12, 50, 23, 2...</td>\n",
       "      <td>(9.37, -4.95, 8.64, 9.17, 9.32, -4.71, -4.76, ...</td>\n",
       "      <td>(0, 0, 0, 0, 0, 1, 0, 0, 0, 0, 0, 0, 0, 1, 0, ...</td>\n",
       "      <td>48</td>\n",
       "    </tr>\n",
       "    <tr>\n",
       "      <th>...</th>\n",
       "      <td>...</td>\n",
       "      <td>...</td>\n",
       "      <td>...</td>\n",
       "      <td>...</td>\n",
       "      <td>...</td>\n",
       "    </tr>\n",
       "    <tr>\n",
       "      <th>24978</th>\n",
       "      <td>9995</td>\n",
       "      <td>(32, 5, 13, 48, 27, 77, 21, 63, 36, 38, 11, 65...</td>\n",
       "      <td>(-1.6, 6.46, -8.4, 3.74, -3.11, 6.26, 5.97, 6....</td>\n",
       "      <td>(0, 0, 0, 0, 0, 0, 0, 0, 0, 0, 0, 0, 1, 0, 0, ...</td>\n",
       "      <td>39</td>\n",
       "    </tr>\n",
       "    <tr>\n",
       "      <th>24979</th>\n",
       "      <td>9996</td>\n",
       "      <td>(70, 39, 7, 51, 13, 89, 38, 25, 26, 17, 69, 31...</td>\n",
       "      <td>(6.99, 5.97, -5.19, -2.72, 0.0, 8.5, 6.55, -4....</td>\n",
       "      <td>(0, 0, 0, 0, 1, 0, 0, 0, 0, 1, 1, 0, 0, 0, 1, ...</td>\n",
       "      <td>58</td>\n",
       "    </tr>\n",
       "    <tr>\n",
       "      <th>24980</th>\n",
       "      <td>9997</td>\n",
       "      <td>(20, 8, 38, 17, 55, 1, 22, 29, 53, 49, 85, 45,...</td>\n",
       "      <td>(-0.44, 2.96, -0.34, -1.31, -5.29, -6.31, 1.07...</td>\n",
       "      <td>(0, 0, 0, 0, 0, 0, 0, 0, 0, 0, 0, 1, 0, 0, 0, ...</td>\n",
       "      <td>48</td>\n",
       "    </tr>\n",
       "    <tr>\n",
       "      <th>24981</th>\n",
       "      <td>9998</td>\n",
       "      <td>(85, 67, 40, 19, 31, 94, 27, 52, 1, 56, 26, 47...</td>\n",
       "      <td>(-9.81, -9.71, -9.66, 0.53, -9.85, -7.18, -9.6...</td>\n",
       "      <td>(0, 0, 0, 0, 0, 0, 0, 0, 0, 0, 0, 0, 1, 0, 0, ...</td>\n",
       "      <td>71</td>\n",
       "    </tr>\n",
       "    <tr>\n",
       "      <th>24982</th>\n",
       "      <td>9999</td>\n",
       "      <td>(19, 98, 55, 61, 4, 82, 72, 32, 7, 67, 18, 73,...</td>\n",
       "      <td>(4.51, 4.9, 2.43, 4.81, 3.98, 2.43, 3.2, 4.81,...</td>\n",
       "      <td>(0, 0, 0, 0, 0, 0, 0, 0, 0, 0, 1, 0, 0, 0, 0, ...</td>\n",
       "      <td>76</td>\n",
       "    </tr>\n",
       "  </tbody>\n",
       "</table>\n",
       "<p>24983 rows × 5 columns</p>\n",
       "</div>"
      ],
      "text/plain": [
       "         UID                                                JID  \\\n",
       "0          1  (53, 30, 15, 7, 29, 38, 20, 32, 54, 59, 3, 82,...   \n",
       "1         10  (9, 39, 34, 57, 63, 23, 45, 43, 6, 31, 1, 18, ...   \n",
       "2        100  (69, 28, 54, 39, 8, 36, 46, 53, 32, 20, 66, 16...   \n",
       "3       1000  (60, 62, 8, 32, 54, 63, 26, 38, 57, 30, 37, 12...   \n",
       "4      10000  (14, 18, 68, 66, 53, 40, 49, 69, 12, 50, 23, 2...   \n",
       "...      ...                                                ...   \n",
       "24978   9995  (32, 5, 13, 48, 27, 77, 21, 63, 36, 38, 11, 65...   \n",
       "24979   9996  (70, 39, 7, 51, 13, 89, 38, 25, 26, 17, 69, 31...   \n",
       "24980   9997  (20, 8, 38, 17, 55, 1, 22, 29, 53, 49, 85, 45,...   \n",
       "24981   9998  (85, 67, 40, 19, 31, 94, 27, 52, 1, 56, 26, 47...   \n",
       "24982   9999  (19, 98, 55, 61, 4, 82, 72, 32, 7, 67, 18, 73,...   \n",
       "\n",
       "                                                  Rating  \\\n",
       "0      (3.2, -7.43, -7.18, -9.85, 9.13, -8.4, -9.85, ...   \n",
       "1      (3.01, 3.01, 6.5, 2.43, 6.8, 6.6, 6.8, 3.01, 5...   \n",
       "2      (-4.17, -5.49, -4.61, -4.85, -4.27, -4.03, -1....   \n",
       "3      (5.29, 2.09, 0.97, 5.83, -1.7, 8.01, 1.26, 1.2...   \n",
       "4      (9.37, -4.95, 8.64, 9.17, 9.32, -4.71, -4.76, ...   \n",
       "...                                                  ...   \n",
       "24978  (-1.6, 6.46, -8.4, 3.74, -3.11, 6.26, 5.97, 6....   \n",
       "24979  (6.99, 5.97, -5.19, -2.72, 0.0, 8.5, 6.55, -4....   \n",
       "24980  (-0.44, 2.96, -0.34, -1.31, -5.29, -6.31, 1.07...   \n",
       "24981  (-9.81, -9.71, -9.66, 0.53, -9.85, -7.18, -9.6...   \n",
       "24982  (4.51, 4.9, 2.43, 4.81, 3.98, 2.43, 3.2, 4.81,...   \n",
       "\n",
       "                                                is_valid  num_ratings  \n",
       "0      (0, 0, 0, 0, 0, 0, 0, 0, 0, 0, 0, 0, 0, 1, 0, ...           62  \n",
       "1      (0, 1, 0, 0, 0, 0, 0, 0, 0, 0, 0, 0, 0, 0, 0, ...           65  \n",
       "2      (0, 0, 1, 0, 0, 0, 0, 0, 0, 0, 0, 0, 0, 0, 0, ...           26  \n",
       "3      (1, 0, 0, 1, 0, 0, 0, 0, 0, 0, 0, 0, 0, 0, 0, ...           52  \n",
       "4      (0, 0, 0, 0, 0, 1, 0, 0, 0, 0, 0, 0, 0, 1, 0, ...           48  \n",
       "...                                                  ...          ...  \n",
       "24978  (0, 0, 0, 0, 0, 0, 0, 0, 0, 0, 0, 0, 1, 0, 0, ...           39  \n",
       "24979  (0, 0, 0, 0, 1, 0, 0, 0, 0, 1, 1, 0, 0, 0, 1, ...           58  \n",
       "24980  (0, 0, 0, 0, 0, 0, 0, 0, 0, 0, 0, 1, 0, 0, 0, ...           48  \n",
       "24981  (0, 0, 0, 0, 0, 0, 0, 0, 0, 0, 0, 0, 1, 0, 0, ...           71  \n",
       "24982  (0, 0, 0, 0, 0, 0, 0, 0, 0, 0, 1, 0, 0, 0, 0, ...           76  \n",
       "\n",
       "[24983 rows x 5 columns]"
      ]
     },
     "execution_count": 19,
     "metadata": {},
     "output_type": "execute_result"
    }
   ],
   "source": [
    "grouped_ratings"
   ]
  },
  {
   "cell_type": "code",
   "execution_count": null,
   "id": "f9ace3a7",
   "metadata": {},
   "outputs": [],
   "source": []
  },
  {
   "cell_type": "markdown",
   "id": "7c93d0cf",
   "metadata": {},
   "source": [
    "As we can see, we have 10 sequences of length 3, where the final movie in the sequence is unchanged from the original list."
   ]
  },
  {
   "cell_type": "markdown",
   "id": "3c79f074",
   "metadata": {},
   "source": [
    "Now, let's apply this function to all of the features in our dataframe"
   ]
  },
  {
   "cell_type": "code",
   "execution_count": 20,
   "id": "ed431a38",
   "metadata": {},
   "outputs": [],
   "source": [
    "grouped_cols = ['JID', 'Rating', 'is_valid'] \n",
    "for col in grouped_cols:\n",
    "    grouped_ratings[col] = grouped_ratings[col].apply(lambda x: create_sequences(x, sequence_length))"
   ]
  },
  {
   "cell_type": "code",
   "execution_count": 21,
   "id": "fbfcae48",
   "metadata": {},
   "outputs": [
    {
     "data": {
      "text/html": [
       "<div>\n",
       "<style scoped>\n",
       "    .dataframe tbody tr th:only-of-type {\n",
       "        vertical-align: middle;\n",
       "    }\n",
       "\n",
       "    .dataframe tbody tr th {\n",
       "        vertical-align: top;\n",
       "    }\n",
       "\n",
       "    .dataframe thead th {\n",
       "        text-align: right;\n",
       "    }\n",
       "</style>\n",
       "<table border=\"1\" class=\"dataframe\">\n",
       "  <thead>\n",
       "    <tr style=\"text-align: right;\">\n",
       "      <th></th>\n",
       "      <th>UID</th>\n",
       "      <th>JID</th>\n",
       "      <th>Rating</th>\n",
       "      <th>is_valid</th>\n",
       "      <th>num_ratings</th>\n",
       "    </tr>\n",
       "  </thead>\n",
       "  <tbody>\n",
       "    <tr>\n",
       "      <th>0</th>\n",
       "      <td>1</td>\n",
       "      <td>[([PAD], [PAD], [PAD], [PAD], [PAD], [PAD], [P...</td>\n",
       "      <td>[([PAD], [PAD], [PAD], [PAD], [PAD], [PAD], [P...</td>\n",
       "      <td>[([PAD], [PAD], [PAD], [PAD], [PAD], [PAD], [P...</td>\n",
       "      <td>62</td>\n",
       "    </tr>\n",
       "    <tr>\n",
       "      <th>1</th>\n",
       "      <td>10</td>\n",
       "      <td>[([PAD], [PAD], [PAD], [PAD], [PAD], [PAD], [P...</td>\n",
       "      <td>[([PAD], [PAD], [PAD], [PAD], [PAD], [PAD], [P...</td>\n",
       "      <td>[([PAD], [PAD], [PAD], [PAD], [PAD], [PAD], [P...</td>\n",
       "      <td>65</td>\n",
       "    </tr>\n",
       "  </tbody>\n",
       "</table>\n",
       "</div>"
      ],
      "text/plain": [
       "  UID                                                JID  \\\n",
       "0   1  [([PAD], [PAD], [PAD], [PAD], [PAD], [PAD], [P...   \n",
       "1  10  [([PAD], [PAD], [PAD], [PAD], [PAD], [PAD], [P...   \n",
       "\n",
       "                                              Rating  \\\n",
       "0  [([PAD], [PAD], [PAD], [PAD], [PAD], [PAD], [P...   \n",
       "1  [([PAD], [PAD], [PAD], [PAD], [PAD], [PAD], [P...   \n",
       "\n",
       "                                            is_valid  num_ratings  \n",
       "0  [([PAD], [PAD], [PAD], [PAD], [PAD], [PAD], [P...           62  \n",
       "1  [([PAD], [PAD], [PAD], [PAD], [PAD], [PAD], [P...           65  "
      ]
     },
     "execution_count": 21,
     "metadata": {},
     "output_type": "execute_result"
    }
   ],
   "source": [
    "grouped_ratings.head(2)"
   ]
  },
  {
   "cell_type": "markdown",
   "id": "9d5fa619",
   "metadata": {},
   "source": [
    "Currently, we have one row that contains all the sequences for a certain user. However, during training, we would like to create batches made up of sequences from many different users. To do this, we will have to transform the data so that each sequence has its own row, while remaining associated with the user ID. We can use the pandas 'explode' function for each feature, and then aggregate these DataFrames together."
   ]
  },
  {
   "cell_type": "code",
   "execution_count": 22,
   "id": "cb3d0523",
   "metadata": {},
   "outputs": [],
   "source": [
    "exploded_ratings = grouped_ratings[['UID', 'JID']].explode('JID', ignore_index=True)\n",
    "dfs = [grouped_ratings[[col]].explode(col, ignore_index=True) for col in grouped_cols[1:]]\n",
    "seq_df = pd.concat([exploded_ratings, *dfs], axis=1)"
   ]
  },
  {
   "cell_type": "code",
   "execution_count": 23,
   "id": "ed5af3c9",
   "metadata": {},
   "outputs": [
    {
     "data": {
      "text/html": [
       "<div>\n",
       "<style scoped>\n",
       "    .dataframe tbody tr th:only-of-type {\n",
       "        vertical-align: middle;\n",
       "    }\n",
       "\n",
       "    .dataframe tbody tr th {\n",
       "        vertical-align: top;\n",
       "    }\n",
       "\n",
       "    .dataframe thead th {\n",
       "        text-align: right;\n",
       "    }\n",
       "</style>\n",
       "<table border=\"1\" class=\"dataframe\">\n",
       "  <thead>\n",
       "    <tr style=\"text-align: right;\">\n",
       "      <th></th>\n",
       "      <th>UID</th>\n",
       "      <th>JID</th>\n",
       "      <th>Rating</th>\n",
       "      <th>is_valid</th>\n",
       "    </tr>\n",
       "  </thead>\n",
       "  <tbody>\n",
       "    <tr>\n",
       "      <th>0</th>\n",
       "      <td>1</td>\n",
       "      <td>([PAD], [PAD], [PAD], [PAD], [PAD], [PAD], [PA...</td>\n",
       "      <td>([PAD], [PAD], [PAD], [PAD], [PAD], [PAD], [PA...</td>\n",
       "      <td>([PAD], [PAD], [PAD], [PAD], [PAD], [PAD], [PA...</td>\n",
       "    </tr>\n",
       "    <tr>\n",
       "      <th>1</th>\n",
       "      <td>1</td>\n",
       "      <td>([PAD], [PAD], [PAD], [PAD], [PAD], [PAD], [PA...</td>\n",
       "      <td>([PAD], [PAD], [PAD], [PAD], [PAD], [PAD], [PA...</td>\n",
       "      <td>([PAD], [PAD], [PAD], [PAD], [PAD], [PAD], [PA...</td>\n",
       "    </tr>\n",
       "    <tr>\n",
       "      <th>2</th>\n",
       "      <td>1</td>\n",
       "      <td>([PAD], [PAD], [PAD], [PAD], [PAD], [PAD], [PA...</td>\n",
       "      <td>([PAD], [PAD], [PAD], [PAD], [PAD], [PAD], [PA...</td>\n",
       "      <td>([PAD], [PAD], [PAD], [PAD], [PAD], [PAD], [PA...</td>\n",
       "    </tr>\n",
       "    <tr>\n",
       "      <th>3</th>\n",
       "      <td>1</td>\n",
       "      <td>([PAD], [PAD], [PAD], [PAD], [PAD], [PAD], 53,...</td>\n",
       "      <td>([PAD], [PAD], [PAD], [PAD], [PAD], [PAD], 3.2...</td>\n",
       "      <td>([PAD], [PAD], [PAD], [PAD], [PAD], [PAD], 0, ...</td>\n",
       "    </tr>\n",
       "    <tr>\n",
       "      <th>4</th>\n",
       "      <td>1</td>\n",
       "      <td>([PAD], [PAD], [PAD], [PAD], [PAD], 53, 30, 15...</td>\n",
       "      <td>([PAD], [PAD], [PAD], [PAD], [PAD], 3.2, -7.43...</td>\n",
       "      <td>([PAD], [PAD], [PAD], [PAD], [PAD], 0, 0, 0, 0...</td>\n",
       "    </tr>\n",
       "  </tbody>\n",
       "</table>\n",
       "</div>"
      ],
      "text/plain": [
       "  UID                                                JID  \\\n",
       "0   1  ([PAD], [PAD], [PAD], [PAD], [PAD], [PAD], [PA...   \n",
       "1   1  ([PAD], [PAD], [PAD], [PAD], [PAD], [PAD], [PA...   \n",
       "2   1  ([PAD], [PAD], [PAD], [PAD], [PAD], [PAD], [PA...   \n",
       "3   1  ([PAD], [PAD], [PAD], [PAD], [PAD], [PAD], 53,...   \n",
       "4   1  ([PAD], [PAD], [PAD], [PAD], [PAD], 53, 30, 15...   \n",
       "\n",
       "                                              Rating  \\\n",
       "0  ([PAD], [PAD], [PAD], [PAD], [PAD], [PAD], [PA...   \n",
       "1  ([PAD], [PAD], [PAD], [PAD], [PAD], [PAD], [PA...   \n",
       "2  ([PAD], [PAD], [PAD], [PAD], [PAD], [PAD], [PA...   \n",
       "3  ([PAD], [PAD], [PAD], [PAD], [PAD], [PAD], 3.2...   \n",
       "4  ([PAD], [PAD], [PAD], [PAD], [PAD], 3.2, -7.43...   \n",
       "\n",
       "                                            is_valid  \n",
       "0  ([PAD], [PAD], [PAD], [PAD], [PAD], [PAD], [PA...  \n",
       "1  ([PAD], [PAD], [PAD], [PAD], [PAD], [PAD], [PA...  \n",
       "2  ([PAD], [PAD], [PAD], [PAD], [PAD], [PAD], [PA...  \n",
       "3  ([PAD], [PAD], [PAD], [PAD], [PAD], [PAD], 0, ...  \n",
       "4  ([PAD], [PAD], [PAD], [PAD], [PAD], 0, 0, 0, 0...  "
      ]
     },
     "execution_count": 23,
     "metadata": {},
     "output_type": "execute_result"
    }
   ],
   "source": [
    "seq_df.head()"
   ]
  },
  {
   "cell_type": "markdown",
   "id": "36ea5a39",
   "metadata": {},
   "source": [
    "Now, we can see that each sequence has its own row. However, for the is_valid column, we don't care about the whole sequence and only need the last value as this is the movie for which we will be trying to predict the rating. Let's create a function to extract this value and apply it to these columns."
   ]
  },
  {
   "cell_type": "code",
   "execution_count": 24,
   "id": "6f9279a2",
   "metadata": {},
   "outputs": [],
   "source": [
    "def get_last_entry(sequence):\n",
    "    return sequence[-1]\n",
    "\n",
    "seq_df['is_valid'] = seq_df['is_valid'].apply(get_last_entry)"
   ]
  },
  {
   "cell_type": "code",
   "execution_count": 25,
   "id": "938ce4b6",
   "metadata": {},
   "outputs": [
    {
     "data": {
      "text/html": [
       "<div>\n",
       "<style scoped>\n",
       "    .dataframe tbody tr th:only-of-type {\n",
       "        vertical-align: middle;\n",
       "    }\n",
       "\n",
       "    .dataframe tbody tr th {\n",
       "        vertical-align: top;\n",
       "    }\n",
       "\n",
       "    .dataframe thead th {\n",
       "        text-align: right;\n",
       "    }\n",
       "</style>\n",
       "<table border=\"1\" class=\"dataframe\">\n",
       "  <thead>\n",
       "    <tr style=\"text-align: right;\">\n",
       "      <th></th>\n",
       "      <th>UID</th>\n",
       "      <th>JID</th>\n",
       "      <th>Rating</th>\n",
       "      <th>is_valid</th>\n",
       "    </tr>\n",
       "  </thead>\n",
       "  <tbody>\n",
       "    <tr>\n",
       "      <th>0</th>\n",
       "      <td>1</td>\n",
       "      <td>([PAD], [PAD], [PAD], [PAD], [PAD], [PAD], [PA...</td>\n",
       "      <td>([PAD], [PAD], [PAD], [PAD], [PAD], [PAD], [PA...</td>\n",
       "      <td>0</td>\n",
       "    </tr>\n",
       "    <tr>\n",
       "      <th>1</th>\n",
       "      <td>1</td>\n",
       "      <td>([PAD], [PAD], [PAD], [PAD], [PAD], [PAD], [PA...</td>\n",
       "      <td>([PAD], [PAD], [PAD], [PAD], [PAD], [PAD], [PA...</td>\n",
       "      <td>0</td>\n",
       "    </tr>\n",
       "    <tr>\n",
       "      <th>2</th>\n",
       "      <td>1</td>\n",
       "      <td>([PAD], [PAD], [PAD], [PAD], [PAD], [PAD], [PA...</td>\n",
       "      <td>([PAD], [PAD], [PAD], [PAD], [PAD], [PAD], [PA...</td>\n",
       "      <td>0</td>\n",
       "    </tr>\n",
       "    <tr>\n",
       "      <th>3</th>\n",
       "      <td>1</td>\n",
       "      <td>([PAD], [PAD], [PAD], [PAD], [PAD], [PAD], 53,...</td>\n",
       "      <td>([PAD], [PAD], [PAD], [PAD], [PAD], [PAD], 3.2...</td>\n",
       "      <td>0</td>\n",
       "    </tr>\n",
       "    <tr>\n",
       "      <th>4</th>\n",
       "      <td>1</td>\n",
       "      <td>([PAD], [PAD], [PAD], [PAD], [PAD], 53, 30, 15...</td>\n",
       "      <td>([PAD], [PAD], [PAD], [PAD], [PAD], 3.2, -7.43...</td>\n",
       "      <td>0</td>\n",
       "    </tr>\n",
       "    <tr>\n",
       "      <th>...</th>\n",
       "      <td>...</td>\n",
       "      <td>...</td>\n",
       "      <td>...</td>\n",
       "      <td>...</td>\n",
       "    </tr>\n",
       "    <tr>\n",
       "      <th>1448359</th>\n",
       "      <td>9999</td>\n",
       "      <td>(99, 17, 95, 49, 36, 59, 90, 65, 16, 58)</td>\n",
       "      <td>(4.66, 2.09, 2.86, 4.32, 4.22, 5.1, 5.78, 6.6,...</td>\n",
       "      <td>0</td>\n",
       "    </tr>\n",
       "    <tr>\n",
       "      <th>1448360</th>\n",
       "      <td>9999</td>\n",
       "      <td>(17, 95, 49, 36, 59, 90, 65, 16, 58, 86)</td>\n",
       "      <td>(2.09, 2.86, 4.32, 4.22, 5.1, 5.78, 6.6, -4.42...</td>\n",
       "      <td>0</td>\n",
       "    </tr>\n",
       "    <tr>\n",
       "      <th>1448361</th>\n",
       "      <td>9999</td>\n",
       "      <td>(95, 49, 36, 59, 90, 65, 16, 58, 86, 88)</td>\n",
       "      <td>(2.86, 4.32, 4.22, 5.1, 5.78, 6.6, -4.42, 0.1,...</td>\n",
       "      <td>0</td>\n",
       "    </tr>\n",
       "    <tr>\n",
       "      <th>1448362</th>\n",
       "      <td>9999</td>\n",
       "      <td>(49, 36, 59, 90, 65, 16, 58, 86, 88, 48)</td>\n",
       "      <td>(4.32, 4.22, 5.1, 5.78, 6.6, -4.42, 0.1, 0.49,...</td>\n",
       "      <td>0</td>\n",
       "    </tr>\n",
       "    <tr>\n",
       "      <th>1448363</th>\n",
       "      <td>9999</td>\n",
       "      <td>(36, 59, 90, 65, 16, 58, 86, 88, 48, 87)</td>\n",
       "      <td>(4.22, 5.1, 5.78, 6.6, -4.42, 0.1, 0.49, 5.49,...</td>\n",
       "      <td>0</td>\n",
       "    </tr>\n",
       "  </tbody>\n",
       "</table>\n",
       "<p>1448364 rows × 4 columns</p>\n",
       "</div>"
      ],
      "text/plain": [
       "          UID                                                JID  \\\n",
       "0           1  ([PAD], [PAD], [PAD], [PAD], [PAD], [PAD], [PA...   \n",
       "1           1  ([PAD], [PAD], [PAD], [PAD], [PAD], [PAD], [PA...   \n",
       "2           1  ([PAD], [PAD], [PAD], [PAD], [PAD], [PAD], [PA...   \n",
       "3           1  ([PAD], [PAD], [PAD], [PAD], [PAD], [PAD], 53,...   \n",
       "4           1  ([PAD], [PAD], [PAD], [PAD], [PAD], 53, 30, 15...   \n",
       "...       ...                                                ...   \n",
       "1448359  9999           (99, 17, 95, 49, 36, 59, 90, 65, 16, 58)   \n",
       "1448360  9999           (17, 95, 49, 36, 59, 90, 65, 16, 58, 86)   \n",
       "1448361  9999           (95, 49, 36, 59, 90, 65, 16, 58, 86, 88)   \n",
       "1448362  9999           (49, 36, 59, 90, 65, 16, 58, 86, 88, 48)   \n",
       "1448363  9999           (36, 59, 90, 65, 16, 58, 86, 88, 48, 87)   \n",
       "\n",
       "                                                    Rating  is_valid  \n",
       "0        ([PAD], [PAD], [PAD], [PAD], [PAD], [PAD], [PA...         0  \n",
       "1        ([PAD], [PAD], [PAD], [PAD], [PAD], [PAD], [PA...         0  \n",
       "2        ([PAD], [PAD], [PAD], [PAD], [PAD], [PAD], [PA...         0  \n",
       "3        ([PAD], [PAD], [PAD], [PAD], [PAD], [PAD], 3.2...         0  \n",
       "4        ([PAD], [PAD], [PAD], [PAD], [PAD], 3.2, -7.43...         0  \n",
       "...                                                    ...       ...  \n",
       "1448359  (4.66, 2.09, 2.86, 4.32, 4.22, 5.1, 5.78, 6.6,...         0  \n",
       "1448360  (2.09, 2.86, 4.32, 4.22, 5.1, 5.78, 6.6, -4.42...         0  \n",
       "1448361  (2.86, 4.32, 4.22, 5.1, 5.78, 6.6, -4.42, 0.1,...         0  \n",
       "1448362  (4.32, 4.22, 5.1, 5.78, 6.6, -4.42, 0.1, 0.49,...         0  \n",
       "1448363  (4.22, 5.1, 5.78, 6.6, -4.42, 0.1, 0.49, 5.49,...         0  \n",
       "\n",
       "[1448364 rows x 4 columns]"
      ]
     },
     "execution_count": 25,
     "metadata": {},
     "output_type": "execute_result"
    }
   ],
   "source": [
    "seq_df"
   ]
  },
  {
   "cell_type": "markdown",
   "id": "220cd447",
   "metadata": {},
   "source": [
    "Also, to make it easy to access the rating that we are trying to predict, let's separate this into its own column."
   ]
  },
  {
   "cell_type": "code",
   "execution_count": 26,
   "id": "28ff27e6",
   "metadata": {},
   "outputs": [],
   "source": [
    "seq_df['target_rating'] = seq_df['Rating'].apply(get_last_entry)\n",
    "seq_df['previous_ratings'] = seq_df['Rating'].apply(lambda seq: seq[:-1])\n",
    "seq_df.drop(columns=['Rating'], inplace=True)"
   ]
  },
  {
   "cell_type": "markdown",
   "id": "9552504c",
   "metadata": {},
   "source": [
    "To prevent the model from including padding tokens when calculating attention scores, we can provide an attention mask to the transformer; the mask should be 'True' for a padding token and 'False' otherwise. Let's calculate this for each row, as well as creating a column to show the number of padding tokens present."
   ]
  },
  {
   "cell_type": "code",
   "execution_count": 27,
   "id": "6fcd5857",
   "metadata": {},
   "outputs": [],
   "source": [
    "seq_df['pad_mask'] = seq_df['JID'].apply(lambda x: (np.array(x) == '[PAD]'))\n",
    "seq_df['num_pads'] = seq_df['pad_mask'].apply(sum)\n",
    "seq_df['pad_mask'] = seq_df['pad_mask'].apply(lambda x: x.tolist()) # in case we serialize later"
   ]
  },
  {
   "cell_type": "markdown",
   "id": "99057816",
   "metadata": {},
   "source": [
    "Let's inspect the transformed data"
   ]
  },
  {
   "cell_type": "code",
   "execution_count": 28,
   "id": "fb5fead9",
   "metadata": {},
   "outputs": [
    {
     "data": {
      "text/html": [
       "<div>\n",
       "<style scoped>\n",
       "    .dataframe tbody tr th:only-of-type {\n",
       "        vertical-align: middle;\n",
       "    }\n",
       "\n",
       "    .dataframe tbody tr th {\n",
       "        vertical-align: top;\n",
       "    }\n",
       "\n",
       "    .dataframe thead th {\n",
       "        text-align: right;\n",
       "    }\n",
       "</style>\n",
       "<table border=\"1\" class=\"dataframe\">\n",
       "  <thead>\n",
       "    <tr style=\"text-align: right;\">\n",
       "      <th></th>\n",
       "      <th>UID</th>\n",
       "      <th>JID</th>\n",
       "      <th>is_valid</th>\n",
       "      <th>target_rating</th>\n",
       "      <th>previous_ratings</th>\n",
       "      <th>pad_mask</th>\n",
       "      <th>num_pads</th>\n",
       "    </tr>\n",
       "  </thead>\n",
       "  <tbody>\n",
       "    <tr>\n",
       "      <th>0</th>\n",
       "      <td>1</td>\n",
       "      <td>([PAD], [PAD], [PAD], [PAD], [PAD], [PAD], [PA...</td>\n",
       "      <td>0</td>\n",
       "      <td>3.20</td>\n",
       "      <td>([PAD], [PAD], [PAD], [PAD], [PAD], [PAD], [PA...</td>\n",
       "      <td>[True, True, True, True, True, True, True, Tru...</td>\n",
       "      <td>9</td>\n",
       "    </tr>\n",
       "    <tr>\n",
       "      <th>1</th>\n",
       "      <td>1</td>\n",
       "      <td>([PAD], [PAD], [PAD], [PAD], [PAD], [PAD], [PA...</td>\n",
       "      <td>0</td>\n",
       "      <td>-7.43</td>\n",
       "      <td>([PAD], [PAD], [PAD], [PAD], [PAD], [PAD], [PA...</td>\n",
       "      <td>[True, True, True, True, True, True, True, Tru...</td>\n",
       "      <td>8</td>\n",
       "    </tr>\n",
       "    <tr>\n",
       "      <th>2</th>\n",
       "      <td>1</td>\n",
       "      <td>([PAD], [PAD], [PAD], [PAD], [PAD], [PAD], [PA...</td>\n",
       "      <td>0</td>\n",
       "      <td>-7.18</td>\n",
       "      <td>([PAD], [PAD], [PAD], [PAD], [PAD], [PAD], [PA...</td>\n",
       "      <td>[True, True, True, True, True, True, True, Fal...</td>\n",
       "      <td>7</td>\n",
       "    </tr>\n",
       "    <tr>\n",
       "      <th>3</th>\n",
       "      <td>1</td>\n",
       "      <td>([PAD], [PAD], [PAD], [PAD], [PAD], [PAD], 53,...</td>\n",
       "      <td>0</td>\n",
       "      <td>-9.85</td>\n",
       "      <td>([PAD], [PAD], [PAD], [PAD], [PAD], [PAD], 3.2...</td>\n",
       "      <td>[True, True, True, True, True, True, False, Fa...</td>\n",
       "      <td>6</td>\n",
       "    </tr>\n",
       "    <tr>\n",
       "      <th>4</th>\n",
       "      <td>1</td>\n",
       "      <td>([PAD], [PAD], [PAD], [PAD], [PAD], 53, 30, 15...</td>\n",
       "      <td>0</td>\n",
       "      <td>9.13</td>\n",
       "      <td>([PAD], [PAD], [PAD], [PAD], [PAD], 3.2, -7.43...</td>\n",
       "      <td>[True, True, True, True, True, False, False, F...</td>\n",
       "      <td>5</td>\n",
       "    </tr>\n",
       "    <tr>\n",
       "      <th>...</th>\n",
       "      <td>...</td>\n",
       "      <td>...</td>\n",
       "      <td>...</td>\n",
       "      <td>...</td>\n",
       "      <td>...</td>\n",
       "      <td>...</td>\n",
       "      <td>...</td>\n",
       "    </tr>\n",
       "    <tr>\n",
       "      <th>1448359</th>\n",
       "      <td>9999</td>\n",
       "      <td>(99, 17, 95, 49, 36, 59, 90, 65, 16, 58)</td>\n",
       "      <td>0</td>\n",
       "      <td>0.10</td>\n",
       "      <td>(4.66, 2.09, 2.86, 4.32, 4.22, 5.1, 5.78, 6.6,...</td>\n",
       "      <td>[False, False, False, False, False, False, Fal...</td>\n",
       "      <td>0</td>\n",
       "    </tr>\n",
       "    <tr>\n",
       "      <th>1448360</th>\n",
       "      <td>9999</td>\n",
       "      <td>(17, 95, 49, 36, 59, 90, 65, 16, 58, 86)</td>\n",
       "      <td>0</td>\n",
       "      <td>0.49</td>\n",
       "      <td>(2.09, 2.86, 4.32, 4.22, 5.1, 5.78, 6.6, -4.42...</td>\n",
       "      <td>[False, False, False, False, False, False, Fal...</td>\n",
       "      <td>0</td>\n",
       "    </tr>\n",
       "    <tr>\n",
       "      <th>1448361</th>\n",
       "      <td>9999</td>\n",
       "      <td>(95, 49, 36, 59, 90, 65, 16, 58, 86, 88)</td>\n",
       "      <td>0</td>\n",
       "      <td>5.49</td>\n",
       "      <td>(2.86, 4.32, 4.22, 5.1, 5.78, 6.6, -4.42, 0.1,...</td>\n",
       "      <td>[False, False, False, False, False, False, Fal...</td>\n",
       "      <td>0</td>\n",
       "    </tr>\n",
       "    <tr>\n",
       "      <th>1448362</th>\n",
       "      <td>9999</td>\n",
       "      <td>(49, 36, 59, 90, 65, 16, 58, 86, 88, 48)</td>\n",
       "      <td>0</td>\n",
       "      <td>-3.01</td>\n",
       "      <td>(4.32, 4.22, 5.1, 5.78, 6.6, -4.42, 0.1, 0.49,...</td>\n",
       "      <td>[False, False, False, False, False, False, Fal...</td>\n",
       "      <td>0</td>\n",
       "    </tr>\n",
       "    <tr>\n",
       "      <th>1448363</th>\n",
       "      <td>9999</td>\n",
       "      <td>(36, 59, 90, 65, 16, 58, 86, 88, 48, 87)</td>\n",
       "      <td>0</td>\n",
       "      <td>5.24</td>\n",
       "      <td>(4.22, 5.1, 5.78, 6.6, -4.42, 0.1, 0.49, 5.49,...</td>\n",
       "      <td>[False, False, False, False, False, False, Fal...</td>\n",
       "      <td>0</td>\n",
       "    </tr>\n",
       "  </tbody>\n",
       "</table>\n",
       "<p>1448364 rows × 7 columns</p>\n",
       "</div>"
      ],
      "text/plain": [
       "          UID                                                JID  is_valid  \\\n",
       "0           1  ([PAD], [PAD], [PAD], [PAD], [PAD], [PAD], [PA...         0   \n",
       "1           1  ([PAD], [PAD], [PAD], [PAD], [PAD], [PAD], [PA...         0   \n",
       "2           1  ([PAD], [PAD], [PAD], [PAD], [PAD], [PAD], [PA...         0   \n",
       "3           1  ([PAD], [PAD], [PAD], [PAD], [PAD], [PAD], 53,...         0   \n",
       "4           1  ([PAD], [PAD], [PAD], [PAD], [PAD], 53, 30, 15...         0   \n",
       "...       ...                                                ...       ...   \n",
       "1448359  9999           (99, 17, 95, 49, 36, 59, 90, 65, 16, 58)         0   \n",
       "1448360  9999           (17, 95, 49, 36, 59, 90, 65, 16, 58, 86)         0   \n",
       "1448361  9999           (95, 49, 36, 59, 90, 65, 16, 58, 86, 88)         0   \n",
       "1448362  9999           (49, 36, 59, 90, 65, 16, 58, 86, 88, 48)         0   \n",
       "1448363  9999           (36, 59, 90, 65, 16, 58, 86, 88, 48, 87)         0   \n",
       "\n",
       "         target_rating                                   previous_ratings  \\\n",
       "0                 3.20  ([PAD], [PAD], [PAD], [PAD], [PAD], [PAD], [PA...   \n",
       "1                -7.43  ([PAD], [PAD], [PAD], [PAD], [PAD], [PAD], [PA...   \n",
       "2                -7.18  ([PAD], [PAD], [PAD], [PAD], [PAD], [PAD], [PA...   \n",
       "3                -9.85  ([PAD], [PAD], [PAD], [PAD], [PAD], [PAD], 3.2...   \n",
       "4                 9.13  ([PAD], [PAD], [PAD], [PAD], [PAD], 3.2, -7.43...   \n",
       "...                ...                                                ...   \n",
       "1448359           0.10  (4.66, 2.09, 2.86, 4.32, 4.22, 5.1, 5.78, 6.6,...   \n",
       "1448360           0.49  (2.09, 2.86, 4.32, 4.22, 5.1, 5.78, 6.6, -4.42...   \n",
       "1448361           5.49  (2.86, 4.32, 4.22, 5.1, 5.78, 6.6, -4.42, 0.1,...   \n",
       "1448362          -3.01  (4.32, 4.22, 5.1, 5.78, 6.6, -4.42, 0.1, 0.49,...   \n",
       "1448363           5.24  (4.22, 5.1, 5.78, 6.6, -4.42, 0.1, 0.49, 5.49,...   \n",
       "\n",
       "                                                  pad_mask  num_pads  \n",
       "0        [True, True, True, True, True, True, True, Tru...         9  \n",
       "1        [True, True, True, True, True, True, True, Tru...         8  \n",
       "2        [True, True, True, True, True, True, True, Fal...         7  \n",
       "3        [True, True, True, True, True, True, False, Fa...         6  \n",
       "4        [True, True, True, True, True, False, False, F...         5  \n",
       "...                                                    ...       ...  \n",
       "1448359  [False, False, False, False, False, False, Fal...         0  \n",
       "1448360  [False, False, False, False, False, False, Fal...         0  \n",
       "1448361  [False, False, False, False, False, False, Fal...         0  \n",
       "1448362  [False, False, False, False, False, False, Fal...         0  \n",
       "1448363  [False, False, False, False, False, False, Fal...         0  \n",
       "\n",
       "[1448364 rows x 7 columns]"
      ]
     },
     "execution_count": 28,
     "metadata": {},
     "output_type": "execute_result"
    }
   ],
   "source": [
    "seq_df"
   ]
  },
  {
   "cell_type": "markdown",
   "id": "893972ae",
   "metadata": {},
   "source": [
    "All looks as it should! Let's split this into training and validation sets and save this."
   ]
  },
  {
   "cell_type": "code",
   "execution_count": 29,
   "id": "b53d30f1",
   "metadata": {},
   "outputs": [],
   "source": [
    "train_seq_df = seq_df[seq_df.is_valid == False]\n",
    "valid_seq_df = seq_df[seq_df.is_valid == True]"
   ]
  },
  {
   "cell_type": "markdown",
   "id": "ec69a8a2",
   "metadata": {},
   "source": [
    "### Training the model"
   ]
  },
  {
   "cell_type": "markdown",
   "id": "8b46b06f",
   "metadata": {},
   "source": [
    "As we saw previously, before we can feed this data into the model, we need to create lookup tables to encode our movies and users. However, this time, we need to include the padding token in our movie lookup."
   ]
  },
  {
   "cell_type": "code",
   "execution_count": 30,
   "id": "440df620",
   "metadata": {},
   "outputs": [],
   "source": [
    "user_lookup = {v: i+1 for i, v in enumerate(train_joke_df['UID'].unique())}"
   ]
  },
  {
   "cell_type": "code",
   "execution_count": 31,
   "id": "ba6c6b46",
   "metadata": {},
   "outputs": [],
   "source": [
    "def create_feature_lookup(df, feature):\n",
    "    lookup = {v: i+1 for i, v in enumerate(df[feature].unique())}\n",
    "    lookup['[PAD]'] = 0\n",
    "    return lookup"
   ]
  },
  {
   "cell_type": "code",
   "execution_count": 32,
   "id": "71bc3a01",
   "metadata": {},
   "outputs": [],
   "source": [
    "movie_lookup = create_feature_lookup(train_joke_df, 'JID')"
   ]
  },
  {
   "cell_type": "markdown",
   "id": "21228dbc",
   "metadata": {},
   "source": [
    "Now, we are dealing with sequences of ratings, rather than individual ones, so we will need to create a new dataset to wrap our processed DataFrame:"
   ]
  },
  {
   "cell_type": "code",
   "execution_count": 33,
   "id": "ab0648f2",
   "metadata": {},
   "outputs": [],
   "source": [
    "class MovieSequenceDataset(Dataset):\n",
    "    def __init__(self, df, movie_lookup, user_lookup):\n",
    "        super().__init__()\n",
    "        self.df = df\n",
    "        self.movie_lookup = movie_lookup\n",
    "        self.user_lookup = user_lookup\n",
    "\n",
    "    def __len__(self):\n",
    "        return len(self.df)\n",
    "\n",
    "    def __getitem__(self, index):\n",
    "        data = self.df.iloc[index]\n",
    "        user_id = torch.tensor(self.user_lookup[str(data.UID)])\n",
    "        movie_ids = torch.tensor([self.movie_lookup[j] for j in data.JID])\n",
    "\n",
    "        previous_ratings = torch.tensor(\n",
    "            [rating if rating != \"[PAD]\" else 0 for rating in data.previous_ratings]\n",
    "        )\n",
    "\n",
    "        attention_mask = torch.tensor(data.pad_mask).to(device)\n",
    "        target_rating = data.target_rating\n",
    "        encoded_features = {\n",
    "            \"user_id\": user_id.to(device),\n",
    "            \"movie_ids\": movie_ids.to(device),\n",
    "            \"ratings\": previous_ratings.to(device),\n",
    "        }\n",
    "\n",
    "        return (encoded_features, attention_mask), torch.tensor(target_rating, dtype=torch.float32).to(device)\n"
   ]
  },
  {
   "cell_type": "code",
   "execution_count": 34,
   "id": "41854545",
   "metadata": {},
   "outputs": [],
   "source": [
    "train_dataset = MovieSequenceDataset(train_seq_df, movie_lookup, user_lookup)\n",
    "valid_dataset = MovieSequenceDataset(valid_seq_df, movie_lookup, user_lookup)"
   ]
  },
  {
   "cell_type": "markdown",
   "id": "3cee81f6",
   "metadata": {},
   "source": [
    "Now, let's define our transformer model! As a start, given that the matrix factorization model can achieve good performance using only the user and movie ids, let's only include this information for now."
   ]
  },
  {
   "cell_type": "code",
   "execution_count": 35,
   "id": "e62bc2cc",
   "metadata": {},
   "outputs": [],
   "source": [
    "class BstTransformer(nn.Module):\n",
    "    def __init__(\n",
    "        self,\n",
    "        movies_num_unique,\n",
    "        users_num_unique,\n",
    "        sequence_length=10,\n",
    "        embedding_size=120,\n",
    "        num_transformer_layers=1,\n",
    "        ratings_range=(-10, 10),\n",
    "    ):\n",
    "        super().__init__()\n",
    "        self.sequence_length = sequence_length\n",
    "        self.y_range = ratings_range\n",
    "        self.movies_embeddings = nn.Embedding(movies_num_unique + 1, embedding_size, padding_idx=0)\n",
    "        self.user_embeddings = nn.Embedding(users_num_unique + 1, embedding_size)\n",
    "        self.position_embeddings = nn.Embedding(sequence_length, embedding_size)\n",
    "\n",
    "        self.encoder = nn.TransformerEncoder(\n",
    "            encoder_layer=nn.TransformerEncoderLayer(\n",
    "                d_model=embedding_size,\n",
    "                nhead=12,\n",
    "                dropout=0.1,\n",
    "                batch_first=True,\n",
    "                activation=\"gelu\",\n",
    "            ),\n",
    "            num_layers=num_transformer_layers,\n",
    "        )\n",
    "\n",
    "        self.linear = nn.Sequential(\n",
    "            nn.Linear(embedding_size + (embedding_size * sequence_length), 1024),\n",
    "            nn.BatchNorm1d(1024),\n",
    "            nn.Mish(),\n",
    "            nn.Linear(1024, 512),\n",
    "            nn.BatchNorm1d(512),\n",
    "            nn.Mish(),\n",
    "            nn.Dropout(0.2),\n",
    "            nn.Linear(512, 256),\n",
    "            nn.BatchNorm1d(256),\n",
    "            nn.Mish(),\n",
    "            nn.Linear(256, 1),\n",
    "            nn.Sigmoid(),\n",
    "        )\n",
    "\n",
    "    def forward(self, inputs):\n",
    "        features, mask = inputs\n",
    "\n",
    "        encoded_user_id = self.user_embeddings(features[\"user_id\"])\n",
    "\n",
    "        user_features = encoded_user_id\n",
    "\n",
    "        encoded_movies = self.movies_embeddings(features[\"movie_ids\"])\n",
    "\n",
    "        positions = torch.arange(0, self.sequence_length, 1, dtype=int, device=features[\"movie_ids\"].device)\n",
    "        positions = self.position_embeddings(positions)\n",
    "\n",
    "        transformer_features = encoded_movies + positions\n",
    "\n",
    "        transformer_output = self.encoder(transformer_features, src_key_padding_mask=mask)\n",
    "        transformer_output = torch.flatten(transformer_output, start_dim=1)\n",
    "\n",
    "        combined_output = torch.cat((transformer_output, user_features), dim=1)\n",
    "\n",
    "        rating = self.linear(combined_output)\n",
    "        rating = rating.squeeze()\n",
    "        if self.y_range is None:\n",
    "            return rating\n",
    "        else:\n",
    "            return rating * (self.y_range[1] - self.y_range[0]) + self.y_range[0]\n"
   ]
  },
  {
   "cell_type": "markdown",
   "id": "26939213",
   "metadata": {},
   "source": [
    "We can see that, as a default, we feed our sequence of movie embeddings into a single transformer layer, before concatenating the output with the user features - here, just the user ID - and using this as the input to a fully connected network. Here, we are using only a simple positional encoding that is learned to represent the sequence in which the movies were rated; using a sine- and cosine-based approach provided no benefit during my experiments, but feel free to try it out if you are interested!\n",
    "\n",
    "Once again, let's define a training function for this model; except for the model initialization, this is identical to the one we used to train the matrix factorization model."
   ]
  },
  {
   "cell_type": "code",
   "execution_count": 36,
   "id": "2f2143f7",
   "metadata": {},
   "outputs": [
    {
     "data": {
      "application/vnd.jupyter.widget-view+json": {
       "model_id": "901a6d42a69a4929aee76b1eaa8a25c3",
       "version_major": 2,
       "version_minor": 0
      },
      "text/plain": [
       "  0%|          | 0/162941 [00:00<?, ?it/s]"
      ]
     },
     "metadata": {},
     "output_type": "display_data"
    },
    {
     "data": {
      "text/plain": [
       "[{'user_id': tensor([17560, 17560, 17560, 17560, 17560, 17560, 17560, 17560],\n",
       "         device='cuda:0'),\n",
       "  'movie_ids': tensor([[ 0,  0,  0,  0,  0,  0,  0,  0,  0, 65],\n",
       "          [ 0,  0,  0,  0,  0,  0,  0,  0, 65, 57],\n",
       "          [ 0,  0,  0,  0,  0,  0,  0, 65, 57, 45],\n",
       "          [ 0,  0,  0,  0,  0,  0, 65, 57, 45, 73],\n",
       "          [ 0,  0,  0,  0,  0, 65, 57, 45, 73, 11],\n",
       "          [ 0,  0,  0,  0, 65, 57, 45, 73, 11,  5],\n",
       "          [ 0,  0,  0, 65, 57, 45, 73, 11,  5, 85],\n",
       "          [ 0,  0, 65, 57, 45, 73, 11,  5, 85, 48]], device='cuda:0'),\n",
       "  'ratings': tensor([[ 0.0000,  0.0000,  0.0000,  0.0000,  0.0000,  0.0000,  0.0000,  0.0000,\n",
       "            0.0000],\n",
       "          [ 0.0000,  0.0000,  0.0000,  0.0000,  0.0000,  0.0000,  0.0000,  0.0000,\n",
       "            3.2000],\n",
       "          [ 0.0000,  0.0000,  0.0000,  0.0000,  0.0000,  0.0000,  0.0000,  3.2000,\n",
       "           -7.4300],\n",
       "          [ 0.0000,  0.0000,  0.0000,  0.0000,  0.0000,  0.0000,  3.2000, -7.4300,\n",
       "           -7.1800],\n",
       "          [ 0.0000,  0.0000,  0.0000,  0.0000,  0.0000,  3.2000, -7.4300, -7.1800,\n",
       "           -9.8500],\n",
       "          [ 0.0000,  0.0000,  0.0000,  0.0000,  3.2000, -7.4300, -7.1800, -9.8500,\n",
       "            9.1300],\n",
       "          [ 0.0000,  0.0000,  0.0000,  3.2000, -7.4300, -7.1800, -9.8500,  9.1300,\n",
       "           -8.4000],\n",
       "          [ 0.0000,  0.0000,  3.2000, -7.4300, -7.1800, -9.8500,  9.1300, -8.4000,\n",
       "           -9.8500]], device='cuda:0')},\n",
       " tensor([[ True,  True,  True,  True,  True,  True,  True,  True,  True, False],\n",
       "         [ True,  True,  True,  True,  True,  True,  True,  True, False, False],\n",
       "         [ True,  True,  True,  True,  True,  True,  True, False, False, False],\n",
       "         [ True,  True,  True,  True,  True,  True, False, False, False, False],\n",
       "         [ True,  True,  True,  True,  True, False, False, False, False, False],\n",
       "         [ True,  True,  True,  True, False, False, False, False, False, False],\n",
       "         [ True,  True,  True, False, False, False, False, False, False, False],\n",
       "         [ True,  True, False, False, False, False, False, False, False, False]],\n",
       "        device='cuda:0')]"
      ]
     },
     "metadata": {},
     "output_type": "display_data"
    }
   ],
   "source": [
    "for x, y in tqdm(DataLoader(train_dataset, batch_size=8)):\n",
    "    #print(images[0].shape, texts[0], labels[0] , labels.shape)\n",
    "    break\n",
    "display(x)\n"
   ]
  },
  {
   "cell_type": "code",
   "execution_count": 42,
   "id": "ed314da3",
   "metadata": {},
   "outputs": [],
   "source": [
    "def get_lr(optimizer):\n",
    "    for param_group in optimizer.param_groups:\n",
    "        return param_group['lr']\n",
    "\n",
    "def save(model, name):\n",
    "    os.mkdir(f\"artifacts_wonderfund_v2/{name}\")\n",
    "    #torch.save(model, f\"{name}/model.pkl\")\n",
    "    torch.save(model.state_dict(), f\"artifacts_wonderfund_v2/{name}/checkpoint.pth\")\n",
    "    \n",
    "def load(name):\n",
    "    return torch.load(f\"artifacts_wonderfund_v2/{name}/model.pkl\")\n",
    "\n",
    "def load2(name, model):\n",
    "    model.load_state_dict(torch.load(f\"artifacts_wonderfund_v2/{name}/checkpoint.pth\"))\n",
    "    \n",
    "def train_model(epoch_start, model, train_loader, val_loader, loss, optimizer, num_epochs, scheduler, loss_train_history, loss_val_history):   \n",
    "    bet_model_name = None\n",
    "    best_loss = compute_accuracy(model, val_loader, loss)\n",
    "    print('loss:', best_loss)\n",
    "    for epoch in range(epoch_start, epoch_start + num_epochs):\n",
    "        model.train()        \n",
    "        t1 = time.time()\n",
    "        loss_accum = 0\n",
    "        for i_step, (x, y) in enumerate(tqdm(train_loader)):\n",
    "            prediction = model(x)    \n",
    "            loss_value = loss(prediction, y)\n",
    "            optimizer.zero_grad()\n",
    "            loss_value.backward()\n",
    "            optimizer.step()            \n",
    "            loss_accum += loss_value.cpu().detach().numpy()\n",
    "\n",
    "        ave_loss = loss_accum / (i_step + 1)\n",
    "        loss_val = compute_accuracy(model, val_loader, loss)\n",
    "        \n",
    "        loss_train_history.append(float(ave_loss))\n",
    "        loss_val_history.append(loss_val)\n",
    "        \n",
    "        if scheduler != None:\n",
    "            scheduler.step()\n",
    "            \n",
    "\n",
    "        if loss_val < best_loss:\n",
    "            best_loss = loss_val\n",
    "            bet_model_name = f'{datetime.datetime.now().strftime(\"%d.%m.%Y_%H.%M.%S.%f\")}_epoch_{epoch}_loss_{round(best_loss, 4)}'\n",
    "            save(model, bet_model_name)\n",
    "            print(f\"saved {bet_model_name}\")\n",
    "\n",
    "        print(\"Epoch: %i lr: %f; Train loss: %f, Val loss: %f, time: %i s\" % (epoch, get_lr(optimizer), ave_loss, loss_val,\n",
    "                                                                            round(time.time() - t1)))\n",
    "    return bet_model_name\n",
    "        \n",
    "    \n",
    "def compute_accuracy(model, loader, loss):\n",
    "    \"\"\"\n",
    "    Computes accuracy on the dataset wrapped in a loader    \n",
    "    Returns: accuracy as a float value between 0 and 1\n",
    "    \"\"\"\n",
    "    model.eval()\n",
    "    loss_accum = 0\n",
    "    for i_step, (x, y) in enumerate(tqdm(loader)):\n",
    "        prediction = model(x)\n",
    "        loss_value = loss(prediction, y)\n",
    "        loss_accum += loss_value.cpu().detach().numpy()\n",
    "\n",
    "    ave_loss = loss_accum / (i_step + 1)         \n",
    "    return float(ave_loss)"
   ]
  },
  {
   "cell_type": "code",
   "execution_count": 38,
   "id": "45743cca",
   "metadata": {},
   "outputs": [],
   "source": [
    "model = BstTransformer(len(movie_lookup), len(user_lookup), sequence_length, embedding_size=120).to(device)\n",
    "loss_train_history, loss_val_history = [], []"
   ]
  },
  {
   "cell_type": "code",
   "execution_count": 39,
   "id": "97d5c366",
   "metadata": {},
   "outputs": [],
   "source": [
    "#compute_accuracy(model, DataLoader(valid_dataset, batch_size=500), RMSE_loss)"
   ]
  },
  {
   "cell_type": "code",
   "execution_count": 40,
   "id": "f25ebd8c",
   "metadata": {},
   "outputs": [],
   "source": [
    "#assert False"
   ]
  },
  {
   "cell_type": "code",
   "execution_count": null,
   "id": "1586b76e",
   "metadata": {},
   "outputs": [],
   "source": []
  },
  {
   "cell_type": "code",
   "execution_count": null,
   "id": "3caafe10",
   "metadata": {},
   "outputs": [
    {
     "data": {
      "application/vnd.jupyter.widget-view+json": {
       "model_id": "f15f4c4111964a12838895bfb0dd13f7",
       "version_major": 2,
       "version_minor": 0
      },
      "text/plain": [
       "  0%|          | 0/15 [00:00<?, ?it/s]"
      ]
     },
     "metadata": {},
     "output_type": "display_data"
    },
    {
     "name": "stdout",
     "output_type": "stream",
     "text": [
      "loss: 4.986687850952149\n"
     ]
    },
    {
     "data": {
      "application/vnd.jupyter.widget-view+json": {
       "model_id": "6f9bd0604a414daaaea2265fc02b2a6d",
       "version_major": 2,
       "version_minor": 0
      },
      "text/plain": [
       "  0%|          | 0/131 [00:00<?, ?it/s]"
      ]
     },
     "metadata": {},
     "output_type": "display_data"
    },
    {
     "data": {
      "application/vnd.jupyter.widget-view+json": {
       "model_id": "4e59a9607aae481a8a9ad7e2be853275",
       "version_major": 2,
       "version_minor": 0
      },
      "text/plain": [
       "  0%|          | 0/15 [00:00<?, ?it/s]"
      ]
     },
     "metadata": {},
     "output_type": "display_data"
    },
    {
     "name": "stdout",
     "output_type": "stream",
     "text": [
      "saved 23.04.2023_09.25.55.412324_epoch_0_loss_4.9155\n",
      "Epoch: 0 lr: 0.010000; Train loss: 4.903167, Val loss: 4.915476, time: 436 s\n"
     ]
    },
    {
     "data": {
      "application/vnd.jupyter.widget-view+json": {
       "model_id": "6d99c4cc7ed8425290e936c8f65865fb",
       "version_major": 2,
       "version_minor": 0
      },
      "text/plain": [
       "  0%|          | 0/131 [00:00<?, ?it/s]"
      ]
     },
     "metadata": {},
     "output_type": "display_data"
    },
    {
     "data": {
      "application/vnd.jupyter.widget-view+json": {
       "model_id": "34d9482677474666852b07475cbdd6ad",
       "version_major": 2,
       "version_minor": 0
      },
      "text/plain": [
       "  0%|          | 0/15 [00:00<?, ?it/s]"
      ]
     },
     "metadata": {},
     "output_type": "display_data"
    },
    {
     "name": "stdout",
     "output_type": "stream",
     "text": [
      "saved 23.04.2023_09.33.15.900581_epoch_1_loss_4.633\n",
      "Epoch: 1 lr: 0.010000; Train loss: 4.641369, Val loss: 4.632962, time: 440 s\n"
     ]
    },
    {
     "data": {
      "application/vnd.jupyter.widget-view+json": {
       "model_id": "ea87e935177e45ddba3cf866dd09e4f7",
       "version_major": 2,
       "version_minor": 0
      },
      "text/plain": [
       "  0%|          | 0/131 [00:00<?, ?it/s]"
      ]
     },
     "metadata": {},
     "output_type": "display_data"
    },
    {
     "data": {
      "application/vnd.jupyter.widget-view+json": {
       "model_id": "291d0f91620c43ffbd079bfe3c6a8add",
       "version_major": 2,
       "version_minor": 0
      },
      "text/plain": [
       "  0%|          | 0/15 [00:00<?, ?it/s]"
      ]
     },
     "metadata": {},
     "output_type": "display_data"
    },
    {
     "name": "stdout",
     "output_type": "stream",
     "text": [
      "saved 23.04.2023_09.40.31.726302_epoch_2_loss_4.5568\n",
      "Epoch: 2 lr: 0.010000; Train loss: 4.443023, Val loss: 4.556802, time: 436 s\n"
     ]
    },
    {
     "data": {
      "application/vnd.jupyter.widget-view+json": {
       "model_id": "a82ff179165b4cf2940f876f3dbe6e6e",
       "version_major": 2,
       "version_minor": 0
      },
      "text/plain": [
       "  0%|          | 0/131 [00:00<?, ?it/s]"
      ]
     },
     "metadata": {},
     "output_type": "display_data"
    },
    {
     "data": {
      "application/vnd.jupyter.widget-view+json": {
       "model_id": "a8e898a93e3b432f988b879257e08072",
       "version_major": 2,
       "version_minor": 0
      },
      "text/plain": [
       "  0%|          | 0/15 [00:00<?, ?it/s]"
      ]
     },
     "metadata": {},
     "output_type": "display_data"
    },
    {
     "name": "stdout",
     "output_type": "stream",
     "text": [
      "saved 23.04.2023_09.47.49.286109_epoch_3_loss_4.4666\n",
      "Epoch: 3 lr: 0.010000; Train loss: 4.364772, Val loss: 4.466634, time: 438 s\n"
     ]
    },
    {
     "data": {
      "application/vnd.jupyter.widget-view+json": {
       "model_id": "12ee016da6d146aaab9857c0ad4383dd",
       "version_major": 2,
       "version_minor": 0
      },
      "text/plain": [
       "  0%|          | 0/131 [00:00<?, ?it/s]"
      ]
     },
     "metadata": {},
     "output_type": "display_data"
    },
    {
     "data": {
      "application/vnd.jupyter.widget-view+json": {
       "model_id": "7b0fd32718c64136aa94635c0c1546b6",
       "version_major": 2,
       "version_minor": 0
      },
      "text/plain": [
       "  0%|          | 0/15 [00:00<?, ?it/s]"
      ]
     },
     "metadata": {},
     "output_type": "display_data"
    },
    {
     "name": "stdout",
     "output_type": "stream",
     "text": [
      "Epoch: 4 lr: 0.008000; Train loss: 4.309002, Val loss: 4.515197, time: 437 s\n"
     ]
    },
    {
     "data": {
      "application/vnd.jupyter.widget-view+json": {
       "model_id": "0a55313600ec41c9bcdeab07a9c7c328",
       "version_major": 2,
       "version_minor": 0
      },
      "text/plain": [
       "  0%|          | 0/131 [00:00<?, ?it/s]"
      ]
     },
     "metadata": {},
     "output_type": "display_data"
    },
    {
     "data": {
      "application/vnd.jupyter.widget-view+json": {
       "model_id": "d6b5423f691a439c83f07885726a5e66",
       "version_major": 2,
       "version_minor": 0
      },
      "text/plain": [
       "  0%|          | 0/15 [00:00<?, ?it/s]"
      ]
     },
     "metadata": {},
     "output_type": "display_data"
    },
    {
     "name": "stdout",
     "output_type": "stream",
     "text": [
      "saved 23.04.2023_10.02.22.667561_epoch_5_loss_4.3735\n",
      "Epoch: 5 lr: 0.008000; Train loss: 4.232088, Val loss: 4.373486, time: 436 s\n"
     ]
    },
    {
     "data": {
      "application/vnd.jupyter.widget-view+json": {
       "model_id": "87d812e7e4ea4df7b8af8972b4450fda",
       "version_major": 2,
       "version_minor": 0
      },
      "text/plain": [
       "  0%|          | 0/131 [00:00<?, ?it/s]"
      ]
     },
     "metadata": {},
     "output_type": "display_data"
    },
    {
     "data": {
      "application/vnd.jupyter.widget-view+json": {
       "model_id": "3db2854cbce74c7bb1a40fb321de6908",
       "version_major": 2,
       "version_minor": 0
      },
      "text/plain": [
       "  0%|          | 0/15 [00:00<?, ?it/s]"
      ]
     },
     "metadata": {},
     "output_type": "display_data"
    },
    {
     "name": "stdout",
     "output_type": "stream",
     "text": [
      "saved 23.04.2023_10.09.39.490416_epoch_6_loss_4.3461\n",
      "Epoch: 6 lr: 0.008000; Train loss: 4.162678, Val loss: 4.346130, time: 437 s\n"
     ]
    },
    {
     "data": {
      "application/vnd.jupyter.widget-view+json": {
       "model_id": "1c97807dabda4015a7c4df195f0a58c7",
       "version_major": 2,
       "version_minor": 0
      },
      "text/plain": [
       "  0%|          | 0/131 [00:00<?, ?it/s]"
      ]
     },
     "metadata": {},
     "output_type": "display_data"
    },
    {
     "data": {
      "application/vnd.jupyter.widget-view+json": {
       "model_id": "7a0497e41203409996a9d3dfd9993935",
       "version_major": 2,
       "version_minor": 0
      },
      "text/plain": [
       "  0%|          | 0/15 [00:00<?, ?it/s]"
      ]
     },
     "metadata": {},
     "output_type": "display_data"
    },
    {
     "name": "stdout",
     "output_type": "stream",
     "text": [
      "saved 23.04.2023_10.16.55.945353_epoch_7_loss_4.3257\n",
      "Epoch: 7 lr: 0.008000; Train loss: 4.140000, Val loss: 4.325688, time: 436 s\n"
     ]
    },
    {
     "data": {
      "application/vnd.jupyter.widget-view+json": {
       "model_id": "787b8fcd4bb84d0ba715050e8b5df32e",
       "version_major": 2,
       "version_minor": 0
      },
      "text/plain": [
       "  0%|          | 0/131 [00:00<?, ?it/s]"
      ]
     },
     "metadata": {},
     "output_type": "display_data"
    },
    {
     "data": {
      "application/vnd.jupyter.widget-view+json": {
       "model_id": "5ba236d81a5841e5bf6decfb27ea01e6",
       "version_major": 2,
       "version_minor": 0
      },
      "text/plain": [
       "  0%|          | 0/15 [00:00<?, ?it/s]"
      ]
     },
     "metadata": {},
     "output_type": "display_data"
    },
    {
     "name": "stdout",
     "output_type": "stream",
     "text": [
      "Epoch: 8 lr: 0.008000; Train loss: 4.139509, Val loss: 4.368664, time: 434 s\n"
     ]
    },
    {
     "data": {
      "application/vnd.jupyter.widget-view+json": {
       "model_id": "02f0887acb7a4c6f9a6dd51289da45f8",
       "version_major": 2,
       "version_minor": 0
      },
      "text/plain": [
       "  0%|          | 0/131 [00:00<?, ?it/s]"
      ]
     },
     "metadata": {},
     "output_type": "display_data"
    },
    {
     "data": {
      "application/vnd.jupyter.widget-view+json": {
       "model_id": "ce3c686bc29a48f1bb83bb74d5c9422b",
       "version_major": 2,
       "version_minor": 0
      },
      "text/plain": [
       "  0%|          | 0/15 [00:00<?, ?it/s]"
      ]
     },
     "metadata": {},
     "output_type": "display_data"
    },
    {
     "name": "stdout",
     "output_type": "stream",
     "text": [
      "saved 23.04.2023_10.31.27.915225_epoch_9_loss_4.3089\n",
      "Epoch: 9 lr: 0.006400; Train loss: 4.137212, Val loss: 4.308871, time: 438 s\n"
     ]
    },
    {
     "data": {
      "application/vnd.jupyter.widget-view+json": {
       "model_id": "0ba6135d3abf439295891939f6746139",
       "version_major": 2,
       "version_minor": 0
      },
      "text/plain": [
       "  0%|          | 0/131 [00:00<?, ?it/s]"
      ]
     },
     "metadata": {},
     "output_type": "display_data"
    },
    {
     "data": {
      "application/vnd.jupyter.widget-view+json": {
       "model_id": "65b10db031b94c5ab425af5523beedd3",
       "version_major": 2,
       "version_minor": 0
      },
      "text/plain": [
       "  0%|          | 0/15 [00:00<?, ?it/s]"
      ]
     },
     "metadata": {},
     "output_type": "display_data"
    },
    {
     "name": "stdout",
     "output_type": "stream",
     "text": [
      "Epoch: 10 lr: 0.006400; Train loss: 4.123512, Val loss: 4.324999, time: 437 s\n"
     ]
    },
    {
     "data": {
      "application/vnd.jupyter.widget-view+json": {
       "model_id": "1d5cdeb0582a4abfb29a2384103bef00",
       "version_major": 2,
       "version_minor": 0
      },
      "text/plain": [
       "  0%|          | 0/131 [00:00<?, ?it/s]"
      ]
     },
     "metadata": {},
     "output_type": "display_data"
    },
    {
     "data": {
      "application/vnd.jupyter.widget-view+json": {
       "model_id": "6f9e7d7a488b47db9815ea0b7d143147",
       "version_major": 2,
       "version_minor": 0
      },
      "text/plain": [
       "  0%|          | 0/15 [00:00<?, ?it/s]"
      ]
     },
     "metadata": {},
     "output_type": "display_data"
    },
    {
     "name": "stdout",
     "output_type": "stream",
     "text": [
      "Epoch: 11 lr: 0.006400; Train loss: 4.090162, Val loss: 4.326645, time: 439 s\n"
     ]
    },
    {
     "data": {
      "application/vnd.jupyter.widget-view+json": {
       "model_id": "c6da70dccde74092ae2461c140995f0f",
       "version_major": 2,
       "version_minor": 0
      },
      "text/plain": [
       "  0%|          | 0/131 [00:00<?, ?it/s]"
      ]
     },
     "metadata": {},
     "output_type": "display_data"
    },
    {
     "data": {
      "application/vnd.jupyter.widget-view+json": {
       "model_id": "d6ef12c8b0094520a97b34dbd79de75c",
       "version_major": 2,
       "version_minor": 0
      },
      "text/plain": [
       "  0%|          | 0/15 [00:00<?, ?it/s]"
      ]
     },
     "metadata": {},
     "output_type": "display_data"
    },
    {
     "name": "stdout",
     "output_type": "stream",
     "text": [
      "Epoch: 12 lr: 0.006400; Train loss: 4.068935, Val loss: 4.331707, time: 437 s\n"
     ]
    },
    {
     "data": {
      "application/vnd.jupyter.widget-view+json": {
       "model_id": "ab55acd25b4842dfad033fd3de29a89e",
       "version_major": 2,
       "version_minor": 0
      },
      "text/plain": [
       "  0%|          | 0/131 [00:00<?, ?it/s]"
      ]
     },
     "metadata": {},
     "output_type": "display_data"
    },
    {
     "data": {
      "application/vnd.jupyter.widget-view+json": {
       "model_id": "f90bb83963c747f38f13de9b8ec60a7a",
       "version_major": 2,
       "version_minor": 0
      },
      "text/plain": [
       "  0%|          | 0/15 [00:00<?, ?it/s]"
      ]
     },
     "metadata": {},
     "output_type": "display_data"
    },
    {
     "name": "stdout",
     "output_type": "stream",
     "text": [
      "Epoch: 13 lr: 0.006400; Train loss: 4.053818, Val loss: 4.314532, time: 438 s\n"
     ]
    },
    {
     "data": {
      "application/vnd.jupyter.widget-view+json": {
       "model_id": "5fd64b3a77e14d5aaddc81f641d65212",
       "version_major": 2,
       "version_minor": 0
      },
      "text/plain": [
       "  0%|          | 0/131 [00:00<?, ?it/s]"
      ]
     },
     "metadata": {},
     "output_type": "display_data"
    },
    {
     "data": {
      "application/vnd.jupyter.widget-view+json": {
       "model_id": "40bdc33b07c946108ef8d786bbdc3971",
       "version_major": 2,
       "version_minor": 0
      },
      "text/plain": [
       "  0%|          | 0/15 [00:00<?, ?it/s]"
      ]
     },
     "metadata": {},
     "output_type": "display_data"
    },
    {
     "name": "stdout",
     "output_type": "stream",
     "text": [
      "Epoch: 14 lr: 0.005120; Train loss: 4.035491, Val loss: 4.369647, time: 439 s\n"
     ]
    },
    {
     "data": {
      "application/vnd.jupyter.widget-view+json": {
       "model_id": "5fda13e10f534356bd96540515c1fc17",
       "version_major": 2,
       "version_minor": 0
      },
      "text/plain": [
       "  0%|          | 0/131 [00:00<?, ?it/s]"
      ]
     },
     "metadata": {},
     "output_type": "display_data"
    },
    {
     "data": {
      "application/vnd.jupyter.widget-view+json": {
       "model_id": "5057bbafcfdb4896a316e20d4c801690",
       "version_major": 2,
       "version_minor": 0
      },
      "text/plain": [
       "  0%|          | 0/15 [00:00<?, ?it/s]"
      ]
     },
     "metadata": {},
     "output_type": "display_data"
    },
    {
     "name": "stdout",
     "output_type": "stream",
     "text": [
      "Epoch: 15 lr: 0.005120; Train loss: 4.010960, Val loss: 4.368348, time: 441 s\n"
     ]
    },
    {
     "data": {
      "application/vnd.jupyter.widget-view+json": {
       "model_id": "d224f7605aca4e0e938665fb2c3a8b70",
       "version_major": 2,
       "version_minor": 0
      },
      "text/plain": [
       "  0%|          | 0/131 [00:00<?, ?it/s]"
      ]
     },
     "metadata": {},
     "output_type": "display_data"
    },
    {
     "data": {
      "application/vnd.jupyter.widget-view+json": {
       "model_id": "8b639591f5874289a192e630f3c5a484",
       "version_major": 2,
       "version_minor": 0
      },
      "text/plain": [
       "  0%|          | 0/15 [00:00<?, ?it/s]"
      ]
     },
     "metadata": {},
     "output_type": "display_data"
    },
    {
     "name": "stdout",
     "output_type": "stream",
     "text": [
      "Epoch: 16 lr: 0.005120; Train loss: 3.961759, Val loss: 4.310513, time: 441 s\n"
     ]
    },
    {
     "data": {
      "application/vnd.jupyter.widget-view+json": {
       "model_id": "cad43dddea464ad48fb468abe707b260",
       "version_major": 2,
       "version_minor": 0
      },
      "text/plain": [
       "  0%|          | 0/131 [00:00<?, ?it/s]"
      ]
     },
     "metadata": {},
     "output_type": "display_data"
    }
   ],
   "source": [
    "optimizer = torch.optim.AdamW(model.parameters(), lr=0.01, weight_decay=0.01)\n",
    "\n",
    "scheduler = torch.optim.lr_scheduler.StepLR(optimizer, step_size=5, gamma=0.8)\n",
    "\n",
    "bet_model_name = train_model(0,\n",
    "    model, \n",
    "    DataLoader(train_dataset, batch_size=10000),\n",
    "    DataLoader(valid_dataset, batch_size=10000),\n",
    "    RMSE_loss, optimizer, 100, scheduler, loss_train_history, loss_val_history)\n",
    "print('end!')\n",
    "print(bet_model_name)"
   ]
  },
  {
   "cell_type": "code",
   "execution_count": null,
   "id": "522c7384",
   "metadata": {},
   "outputs": [],
   "source": [
    "fig = plt.figure(figsize=(10, 8))    \n",
    "plt.xlabel(\"#iteration\")\n",
    "plt.ylabel(\"loss\")\n",
    "plt.plot(loss_train_history, label='train loss')\n",
    "plt.plot(loss_val_history, label='val loss')\n",
    "fig.legend()\n",
    "plt.show()"
   ]
  },
  {
   "cell_type": "code",
   "execution_count": null,
   "id": "83924207",
   "metadata": {},
   "outputs": [],
   "source": []
  },
  {
   "cell_type": "code",
   "execution_count": null,
   "id": "93bf90ac",
   "metadata": {},
   "outputs": [],
   "source": [
    "assert False"
   ]
  },
  {
   "cell_type": "code",
   "execution_count": null,
   "id": "0fb15bd9",
   "metadata": {},
   "outputs": [],
   "source": [
    "\n",
    "\n",
    "test_joke_df_nofactrating['Rating'] = np.zeros((len(test_joke_df_nofactrating)))\n",
    "test_dataset = UserItemRatingDataset(test_joke_df_nofactrating, movie_lookup, user_lookup)\n",
    "\n",
    "\n",
    "#best_model_name = '22.04.2023_16.39.07.862958_epoch_0_loss_10.5438'\n",
    "\n",
    "best_model = MfDotBias(120, len(user_lookup), len(movie_lookup), ratings_range=[-10, 10]).to(device)\n",
    "print(compute_accuracy(best_model, DataLoader(test_dataset, batch_size=5000), RMSE_loss))\n",
    "\n",
    "load2(best_model_name, best_model)\n",
    "print(compute_accuracy(best_model, DataLoader(test_dataset, batch_size=5000), RMSE_loss))\n",
    "\n",
    "result = []\n",
    "for x, y in tqdm(DataLoader(test_dataset, batch_size=5000)):\n",
    "    predict = model(x)\n",
    "    result.extend(predict.cpu().detach().numpy())\n",
    "    \n",
    "    \n",
    "    \n",
    "test_joke_df_nofactrating['Rating'] = result\n",
    "test_joke_df_nofactrating['Rating'].to_frame().head(5)\n",
    "test_joke_df_nofactrating['Rating'].to_frame().to_csv('nn_embedding.csv')\n",
    "\n",
    "\n",
    "\n",
    "\n",
    "\n",
    "\n"
   ]
  }
 ],
 "metadata": {
  "gist": {
   "data": {
    "description": "Comparing matrix factorixation with transformers using pytorch-accelerated blog post.ipynb",
    "public": true
   },
   "id": ""
  },
  "kernelspec": {
   "display_name": "Python 3 (ipykernel)",
   "language": "python",
   "name": "python3"
  },
  "language_info": {
   "codemirror_mode": {
    "name": "ipython",
    "version": 3
   },
   "file_extension": ".py",
   "mimetype": "text/x-python",
   "name": "python",
   "nbconvert_exporter": "python",
   "pygments_lexer": "ipython3",
   "version": "3.9.12"
  }
 },
 "nbformat": 4,
 "nbformat_minor": 5
}
