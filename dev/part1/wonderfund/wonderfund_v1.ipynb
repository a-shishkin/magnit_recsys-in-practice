{
 "cells": [
  {
   "cell_type": "markdown",
   "id": "0dcbea09",
   "metadata": {},
   "source": [
    "# Comparing matrix factorization with transformers for MovieLens recommendations using PyTorch-accelerated."
   ]
  },
  {
   "cell_type": "markdown",
   "id": "52e4220e",
   "metadata": {},
   "source": [
    "By Chris Hughes"
   ]
  },
  {
   "cell_type": "markdown",
   "id": "7d206280",
   "metadata": {},
   "source": [
    "The package versions used are:"
   ]
  },
  {
   "cell_type": "code",
   "execution_count": null,
   "id": "7145f3bb",
   "metadata": {},
   "outputs": [],
   "source": []
  },
  {
   "cell_type": "code",
   "execution_count": null,
   "id": "5666bf1e",
   "metadata": {},
   "outputs": [],
   "source": []
  },
  {
   "cell_type": "code",
   "execution_count": 1,
   "id": "e77708af",
   "metadata": {},
   "outputs": [],
   "source": [
    "from torch.utils.data import DataLoader\n",
    "import numpy as np\n",
    "import torch\n",
    "from tqdm.notebook import tqdm\n",
    "import time\n",
    "import datetime\n",
    "import os"
   ]
  },
  {
   "cell_type": "code",
   "execution_count": 2,
   "id": "ca536465",
   "metadata": {},
   "outputs": [],
   "source": [
    "from pathlib import Path\n",
    "\n",
    "import numpy as np\n",
    "import pandas as pd\n",
    "import matplotlib.pyplot as plt"
   ]
  },
  {
   "cell_type": "code",
   "execution_count": null,
   "id": "007ffeec",
   "metadata": {},
   "outputs": [],
   "source": []
  },
  {
   "cell_type": "code",
   "execution_count": null,
   "id": "0d72ab90",
   "metadata": {},
   "outputs": [],
   "source": []
  },
  {
   "cell_type": "code",
   "execution_count": 3,
   "id": "06045473",
   "metadata": {},
   "outputs": [],
   "source": [
    "train_joke_df = pd.read_csv(r'data\\recsys-in-practice\\train_joke_df.csv')\n",
    "sample_submission = pd.read_csv(r'data\\recsys-in-practice\\sample_submission.csv')"
   ]
  },
  {
   "cell_type": "code",
   "execution_count": null,
   "id": "8ae91343",
   "metadata": {},
   "outputs": [],
   "source": []
  },
  {
   "cell_type": "code",
   "execution_count": 4,
   "id": "6d7fdcc0",
   "metadata": {},
   "outputs": [],
   "source": [
    "from sklearn.model_selection import train_test_split"
   ]
  },
  {
   "cell_type": "code",
   "execution_count": 5,
   "id": "9eadcceb",
   "metadata": {},
   "outputs": [],
   "source": [
    "train_df, valid_df = train_test_split(train_joke_df, test_size=0.5, random_state=42)"
   ]
  },
  {
   "cell_type": "code",
   "execution_count": null,
   "id": "6b569c61",
   "metadata": {},
   "outputs": [],
   "source": []
  },
  {
   "cell_type": "markdown",
   "id": "f717bdff",
   "metadata": {},
   "source": [
    "Even when considering model benchmarks on the same dataset, to have a fair comparison, it is important to understand how the data has been split and to make sure that the approaches taken are consistent!"
   ]
  },
  {
   "cell_type": "code",
   "execution_count": 6,
   "id": "2f180563",
   "metadata": {},
   "outputs": [],
   "source": [
    "user_lookup = {v: i+1 for i, v in enumerate(train_joke_df[\"UID\"].unique())}"
   ]
  },
  {
   "cell_type": "code",
   "execution_count": 7,
   "id": "99971bd8",
   "metadata": {},
   "outputs": [],
   "source": [
    "movie_lookup = {v: i+1 for i, v in enumerate(train_joke_df[\"JID\"].unique())}"
   ]
  },
  {
   "cell_type": "markdown",
   "id": "5aca6eda",
   "metadata": {},
   "source": [
    "Now that we can encode our features, as we are using PyTorch, we need to define a Dataset to wrap our DataFrame and return the user-item ratings."
   ]
  },
  {
   "cell_type": "code",
   "execution_count": 8,
   "id": "6d8e1a22",
   "metadata": {},
   "outputs": [
    {
     "data": {
      "text/plain": [
       "'cuda'"
      ]
     },
     "execution_count": 8,
     "metadata": {},
     "output_type": "execute_result"
    }
   ],
   "source": [
    "device = \"cuda\" if torch.cuda.is_available() else \"cpu\"\n",
    "device"
   ]
  },
  {
   "cell_type": "code",
   "execution_count": 9,
   "id": "b9909b5f",
   "metadata": {},
   "outputs": [],
   "source": [
    "from torch.utils.data import Dataset\n",
    "\n",
    "class UserItemRatingDataset(Dataset):\n",
    "    def __init__(self, df, movie_lookup, user_lookup):\n",
    "        self.df = df\n",
    "        self.movie_lookup = movie_lookup\n",
    "        self.user_lookup = user_lookup\n",
    "\n",
    "    def __getitem__(self, index):\n",
    "        row = self.df.iloc[index]\n",
    "        user_id = torch.tensor(self.user_lookup[row.UID]).to(device)\n",
    "        movie_id = torch.tensor(self.movie_lookup[row.JID]).to(device)\n",
    "        \n",
    "        rating = torch.tensor(row.Rating, dtype=torch.float32).to(device)\n",
    "        \n",
    "        return (user_id, movie_id), rating\n",
    "\n",
    "    def __len__(self):\n",
    "        return len(self.df)\n"
   ]
  },
  {
   "cell_type": "markdown",
   "id": "38640a64",
   "metadata": {},
   "source": [
    "We can now use this to create our training and validation datasets:"
   ]
  },
  {
   "cell_type": "code",
   "execution_count": 10,
   "id": "df035b52",
   "metadata": {},
   "outputs": [],
   "source": [
    "train_dataset = UserItemRatingDataset(train_df, movie_lookup, user_lookup)\n",
    "valid_dataset = UserItemRatingDataset(valid_df, movie_lookup, user_lookup)"
   ]
  },
  {
   "cell_type": "markdown",
   "id": "3933d4a3",
   "metadata": {},
   "source": [
    "Next, let's define the model."
   ]
  },
  {
   "cell_type": "code",
   "execution_count": 11,
   "id": "b8f95c89",
   "metadata": {},
   "outputs": [],
   "source": [
    "import torch\n",
    "from torch import nn\n",
    "\n",
    "class MfDotBias(nn.Module):\n",
    "\n",
    "    def __init__(self, n_factors, n_users, n_items, ratings_range=None, use_biases=True):\n",
    "        super().__init__()\n",
    "        self.bias = use_biases\n",
    "        self.y_range = ratings_range\n",
    "        self.user_embedding = nn.Embedding(n_users+1, n_factors, padding_idx=0)\n",
    "        self.item_embedding = nn.Embedding(n_items+1, n_factors, padding_idx=0)\n",
    "\n",
    "        if use_biases:\n",
    "            self.user_bias = nn.Embedding(n_users+1, 1, padding_idx=0)\n",
    "            self.item_bias = nn.Embedding(n_items+1, 1, padding_idx=0)\n",
    "\n",
    "    def forward(self, inputs):\n",
    "        users, items = inputs\n",
    "        dot = self.user_embedding(users) * self.item_embedding(items)\n",
    "        result = dot.sum(1)\n",
    "        if self.bias:\n",
    "            result = (result + self.user_bias(users).squeeze() + self.item_bias(items).squeeze())\n",
    "\n",
    "        if self.y_range is None:\n",
    "            return result\n",
    "        else:\n",
    "            return (torch.sigmoid(result) * (self.y_range[1] - self.y_range[0]) + self.y_range[0])"
   ]
  },
  {
   "cell_type": "markdown",
   "id": "ca7f7c68",
   "metadata": {},
   "source": [
    "As we can see, this is very simple to define. Note that because an embedding layer is simply a lookup table, it is important that when we specify the size of the embedding layer, it must contain any value that will be seen during training and evaluation. Because of this, we will use the number of unique items observed in the full dataset to do this, not just the training set. We have also specified a padding embedding at index 0, which can be used for any unknown values. PyTorch handles this by setting this entry to a zero-vector, which is not updated during training.\n",
    "\n",
    "Additionally, as this is a regression task, the range that the model could predict is potentially unbounded. While the model can learn to restrict the output values to between 1 and 5, we can make this easier for the model by modifying the architecture to restrict this range prior to training. We have done this by applying the sigmoid function to the model's output - which restricts the range to between 0 and 1 - and then scaling this to within a range that we can define."
   ]
  },
  {
   "cell_type": "markdown",
   "id": "541d17da",
   "metadata": {},
   "source": [
    "### Train with PyTorch accelerated"
   ]
  },
  {
   "cell_type": "markdown",
   "id": "fc03b619",
   "metadata": {},
   "source": [
    "At this point, we would usually start writing the training loop; however, as we are using pytorch-accelerated, this will largely be taken care of for us. However, as pytorch-accelerated tracks only the training and validation losses by default, let's create a callback to track our metrics."
   ]
  },
  {
   "cell_type": "code",
   "execution_count": null,
   "id": "ae85e7c2",
   "metadata": {},
   "outputs": [],
   "source": []
  },
  {
   "cell_type": "code",
   "execution_count": null,
   "id": "33053722",
   "metadata": {},
   "outputs": [],
   "source": []
  },
  {
   "cell_type": "markdown",
   "id": "ad2a4ff4",
   "metadata": {},
   "source": [
    "Let's create a callback to track our metrics"
   ]
  },
  {
   "cell_type": "markdown",
   "id": "3fc26c9d",
   "metadata": {},
   "source": [
    "Now, all that is left to do is to train the model. PyTorch-accelerated provides a notebook_launcher function, which enables us to run multi-GPU training runs from within a notebook. To use this, all we need to do is to define a training function that instantiates our Trainer object and calls the train method.\n",
    "\n",
    "Components such as the model and dataset can be defined anywhere in the notebook, but it is important that the trainer is only ever instantiated within a training function."
   ]
  },
  {
   "cell_type": "code",
   "execution_count": 15,
   "id": "3d114276",
   "metadata": {},
   "outputs": [],
   "source": [
    "def get_lr(optimizer):\n",
    "    for param_group in optimizer.param_groups:\n",
    "        return param_group['lr']\n",
    "\n",
    "def save(model, name):\n",
    "    os.mkdir(f\"artifacts_wonderfund_v1/{name}\")\n",
    "    #torch.save(model, f\"{name}/model.pkl\")\n",
    "    torch.save(model.state_dict(), f\"artifacts_wonderfund_v1/{name}/checkpoint.pth\")\n",
    "    \n",
    "def load(name):\n",
    "    return torch.load(f\"artifacts_wonderfund_v1/{name}/model.pkl\")\n",
    "\n",
    "def load2(name, model):\n",
    "    model.load_state_dict(torch.load(f\"artifacts_wonderfund_v1/{name}/checkpoint.pth\"))\n",
    "    \n",
    "def train_model(epoch_start, model, train_loader, val_loader, loss, optimizer, num_epochs, scheduler, loss_train_history, loss_val_history):   \n",
    "    bet_model_name = None\n",
    "    best_loss = compute_accuracy(model, val_loader, loss)\n",
    "    print('loss:', best_loss)\n",
    "    for epoch in range(epoch_start, epoch_start + num_epochs):     \n",
    "        t1 = time.time()\n",
    "        model.train()   \n",
    "        loss_accum = 0\n",
    "        for i_step, (x, y) in enumerate(train_loader):\n",
    "            prediction = model(x)    \n",
    "            loss_value = loss(prediction, y)\n",
    "            optimizer.zero_grad()\n",
    "            loss_value.backward()\n",
    "            optimizer.step()            \n",
    "            loss_accum += loss_value\n",
    "\n",
    "            \n",
    "        \n",
    "        ave_loss = loss_accum / (i_step + 1)\n",
    "        loss_val = compute_accuracy(model, val_loader, loss)\n",
    "        \n",
    "        loss_train_history.append(float(ave_loss))\n",
    "        loss_val_history.append(loss_val)\n",
    "        \n",
    "        if scheduler != None:\n",
    "            scheduler.step()\n",
    "            \n",
    "\n",
    "        if loss_val < best_loss:\n",
    "            best_loss = loss_val\n",
    "            bet_model_name = f'{datetime.datetime.now().strftime(\"%d.%m.%Y_%H.%M.%S.%f\")}_epoch_{epoch}_loss_{round(best_loss, 4)}'\n",
    "            save(model, bet_model_name)\n",
    "            print(f\"saved {bet_model_name}\")\n",
    "\n",
    "            \n",
    "        print(\"Epoch: %i lr: %f; Train loss: %f, Val loss: %f, time: %i s\" % (epoch, get_lr(optimizer), ave_loss, loss_val,\n",
    "                                                                            round(time.time() - t1)))\n",
    "    return bet_model_name\n",
    "        \n",
    "    \n",
    "def compute_accuracy(model, loader, loss):\n",
    "    \"\"\"\n",
    "    Computes accuracy on the dataset wrapped in a loader    \n",
    "    Returns: accuracy as a float value between 0 and 1\n",
    "    \"\"\"\n",
    "    model.eval()\n",
    "    loss_accum = 0\n",
    "    for i_step, (x, y) in enumerate(loader):\n",
    "        prediction = model(x)\n",
    "        loss_value = loss(prediction, y)\n",
    "        loss_accum += loss_value\n",
    "\n",
    "    ave_loss = loss_accum / (i_step + 1)         \n",
    "    return float(ave_loss)"
   ]
  },
  {
   "cell_type": "code",
   "execution_count": 16,
   "id": "030563cb",
   "metadata": {},
   "outputs": [],
   "source": [
    "def RMSE_loss(prediction, target):\n",
    "    return torch.sqrt(nn.MSELoss()(prediction, target))"
   ]
  },
  {
   "cell_type": "code",
   "execution_count": 19,
   "id": "ad310c59",
   "metadata": {},
   "outputs": [],
   "source": [
    "model = MfDotBias(120, len(user_lookup), len(movie_lookup), ratings_range=[-10, 10]).to(device)\n",
    "loss_train_history, loss_val_history = [], []\n",
    "\n",
    "best_model_name = '22.04.2023_19.04.16.683005_epoch_14_loss_5.6441'\n",
    "load2(best_model_name, model)"
   ]
  },
  {
   "cell_type": "code",
   "execution_count": 21,
   "id": "e5fc6fc3",
   "metadata": {},
   "outputs": [
    {
     "name": "stdout",
     "output_type": "stream",
     "text": [
      "loss: 5.644097328186035\n",
      "saved 22.04.2023_19.57.49.619482_epoch_8_loss_5.5739\n",
      "Epoch: 8 lr: 0.001000; Train loss: 3.263098, Val loss: 5.573893, time: 325 s\n",
      "saved 22.04.2023_20.03.20.593287_epoch_9_loss_5.5515\n",
      "Epoch: 9 lr: 0.001000; Train loss: 3.125072, Val loss: 5.551464, time: 331 s\n",
      "saved 22.04.2023_20.08.39.395928_epoch_10_loss_5.5431\n",
      "Epoch: 10 lr: 0.001000; Train loss: 3.056410, Val loss: 5.543149, time: 319 s\n",
      "saved 22.04.2023_20.14.01.899971_epoch_11_loss_5.541\n",
      "Epoch: 11 lr: 0.001000; Train loss: 3.000063, Val loss: 5.541049, time: 323 s\n",
      "Epoch: 12 lr: 0.000800; Train loss: 2.947003, Val loss: 5.542380, time: 322 s\n",
      "Epoch: 13 lr: 0.000800; Train loss: 2.890984, Val loss: 5.544814, time: 324 s\n",
      "Epoch: 14 lr: 0.000800; Train loss: 2.849479, Val loss: 5.548423, time: 319 s\n",
      "Epoch: 15 lr: 0.000800; Train loss: 2.808391, Val loss: 5.552837, time: 335 s\n"
     ]
    },
    {
     "ename": "KeyboardInterrupt",
     "evalue": "",
     "output_type": "error",
     "traceback": [
      "\u001b[1;31m---------------------------------------------------------------------------\u001b[0m",
      "\u001b[1;31mKeyboardInterrupt\u001b[0m                         Traceback (most recent call last)",
      "Input \u001b[1;32mIn [21]\u001b[0m, in \u001b[0;36m<cell line: 5>\u001b[1;34m()\u001b[0m\n\u001b[0;32m      1\u001b[0m optimizer \u001b[38;5;241m=\u001b[39m torch\u001b[38;5;241m.\u001b[39moptim\u001b[38;5;241m.\u001b[39mAdamW(model\u001b[38;5;241m.\u001b[39mparameters(), lr\u001b[38;5;241m=\u001b[39m\u001b[38;5;241m0.001\u001b[39m, weight_decay\u001b[38;5;241m=\u001b[39m\u001b[38;5;241m0.015\u001b[39m)\n\u001b[0;32m      3\u001b[0m scheduler \u001b[38;5;241m=\u001b[39m torch\u001b[38;5;241m.\u001b[39moptim\u001b[38;5;241m.\u001b[39mlr_scheduler\u001b[38;5;241m.\u001b[39mStepLR(optimizer, step_size\u001b[38;5;241m=\u001b[39m\u001b[38;5;241m5\u001b[39m, gamma\u001b[38;5;241m=\u001b[39m\u001b[38;5;241m0.8\u001b[39m)\n\u001b[1;32m----> 5\u001b[0m bet_model_name \u001b[38;5;241m=\u001b[39m \u001b[43mtrain_model\u001b[49m\u001b[43m(\u001b[49m\u001b[38;5;241;43m8\u001b[39;49m\u001b[43m,\u001b[49m\n\u001b[0;32m      6\u001b[0m \u001b[43m    \u001b[49m\u001b[43mmodel\u001b[49m\u001b[43m,\u001b[49m\u001b[43m \u001b[49m\n\u001b[0;32m      7\u001b[0m \u001b[43m    \u001b[49m\u001b[43mDataLoader\u001b[49m\u001b[43m(\u001b[49m\u001b[43mtrain_dataset\u001b[49m\u001b[43m,\u001b[49m\u001b[43m \u001b[49m\u001b[43mbatch_size\u001b[49m\u001b[38;5;241;43m=\u001b[39;49m\u001b[38;5;241;43m10000\u001b[39;49m\u001b[43m)\u001b[49m\u001b[43m,\u001b[49m\n\u001b[0;32m      8\u001b[0m \u001b[43m    \u001b[49m\u001b[43mDataLoader\u001b[49m\u001b[43m(\u001b[49m\u001b[43mvalid_dataset\u001b[49m\u001b[43m,\u001b[49m\u001b[43m \u001b[49m\u001b[43mbatch_size\u001b[49m\u001b[38;5;241;43m=\u001b[39;49m\u001b[38;5;241;43m10000\u001b[39;49m\u001b[43m)\u001b[49m\u001b[43m,\u001b[49m\n\u001b[0;32m      9\u001b[0m \u001b[43m    \u001b[49m\u001b[43mRMSE_loss\u001b[49m\u001b[43m,\u001b[49m\u001b[43m \u001b[49m\u001b[43moptimizer\u001b[49m\u001b[43m,\u001b[49m\u001b[43m \u001b[49m\u001b[38;5;241;43m100\u001b[39;49m\u001b[43m,\u001b[49m\u001b[43m \u001b[49m\u001b[43mscheduler\u001b[49m\u001b[43m,\u001b[49m\u001b[43m \u001b[49m\u001b[43mloss_train_history\u001b[49m\u001b[43m,\u001b[49m\u001b[43m \u001b[49m\u001b[43mloss_val_history\u001b[49m\u001b[43m)\u001b[49m\n\u001b[0;32m     10\u001b[0m \u001b[38;5;28mprint\u001b[39m(\u001b[38;5;124m'\u001b[39m\u001b[38;5;124mend!\u001b[39m\u001b[38;5;124m'\u001b[39m)\n",
      "Input \u001b[1;32mIn [15]\u001b[0m, in \u001b[0;36mtrain_model\u001b[1;34m(epoch_start, model, train_loader, val_loader, loss, optimizer, num_epochs, scheduler, loss_train_history, loss_val_history)\u001b[0m\n\u001b[0;32m     22\u001b[0m model\u001b[38;5;241m.\u001b[39mtrain()   \n\u001b[0;32m     23\u001b[0m loss_accum \u001b[38;5;241m=\u001b[39m \u001b[38;5;241m0\u001b[39m\n\u001b[1;32m---> 24\u001b[0m \u001b[38;5;28;01mfor\u001b[39;00m i_step, (x, y) \u001b[38;5;129;01min\u001b[39;00m \u001b[38;5;28menumerate\u001b[39m(train_loader):\n\u001b[0;32m     25\u001b[0m     prediction \u001b[38;5;241m=\u001b[39m model(x)    \n\u001b[0;32m     26\u001b[0m     loss_value \u001b[38;5;241m=\u001b[39m loss(prediction, y)\n",
      "File \u001b[1;32mC:\\ProgramData\\Anaconda3\\envs\\torchvision\\lib\\site-packages\\torch\\utils\\data\\dataloader.py:530\u001b[0m, in \u001b[0;36m_BaseDataLoaderIter.__next__\u001b[1;34m(self)\u001b[0m\n\u001b[0;32m    528\u001b[0m \u001b[38;5;28;01mif\u001b[39;00m \u001b[38;5;28mself\u001b[39m\u001b[38;5;241m.\u001b[39m_sampler_iter \u001b[38;5;129;01mis\u001b[39;00m \u001b[38;5;28;01mNone\u001b[39;00m:\n\u001b[0;32m    529\u001b[0m     \u001b[38;5;28mself\u001b[39m\u001b[38;5;241m.\u001b[39m_reset()\n\u001b[1;32m--> 530\u001b[0m data \u001b[38;5;241m=\u001b[39m \u001b[38;5;28;43mself\u001b[39;49m\u001b[38;5;241;43m.\u001b[39;49m\u001b[43m_next_data\u001b[49m\u001b[43m(\u001b[49m\u001b[43m)\u001b[49m\n\u001b[0;32m    531\u001b[0m \u001b[38;5;28mself\u001b[39m\u001b[38;5;241m.\u001b[39m_num_yielded \u001b[38;5;241m+\u001b[39m\u001b[38;5;241m=\u001b[39m \u001b[38;5;241m1\u001b[39m\n\u001b[0;32m    532\u001b[0m \u001b[38;5;28;01mif\u001b[39;00m \u001b[38;5;28mself\u001b[39m\u001b[38;5;241m.\u001b[39m_dataset_kind \u001b[38;5;241m==\u001b[39m _DatasetKind\u001b[38;5;241m.\u001b[39mIterable \u001b[38;5;129;01mand\u001b[39;00m \\\n\u001b[0;32m    533\u001b[0m         \u001b[38;5;28mself\u001b[39m\u001b[38;5;241m.\u001b[39m_IterableDataset_len_called \u001b[38;5;129;01mis\u001b[39;00m \u001b[38;5;129;01mnot\u001b[39;00m \u001b[38;5;28;01mNone\u001b[39;00m \u001b[38;5;129;01mand\u001b[39;00m \\\n\u001b[0;32m    534\u001b[0m         \u001b[38;5;28mself\u001b[39m\u001b[38;5;241m.\u001b[39m_num_yielded \u001b[38;5;241m>\u001b[39m \u001b[38;5;28mself\u001b[39m\u001b[38;5;241m.\u001b[39m_IterableDataset_len_called:\n",
      "File \u001b[1;32mC:\\ProgramData\\Anaconda3\\envs\\torchvision\\lib\\site-packages\\torch\\utils\\data\\dataloader.py:570\u001b[0m, in \u001b[0;36m_SingleProcessDataLoaderIter._next_data\u001b[1;34m(self)\u001b[0m\n\u001b[0;32m    568\u001b[0m \u001b[38;5;28;01mdef\u001b[39;00m \u001b[38;5;21m_next_data\u001b[39m(\u001b[38;5;28mself\u001b[39m):\n\u001b[0;32m    569\u001b[0m     index \u001b[38;5;241m=\u001b[39m \u001b[38;5;28mself\u001b[39m\u001b[38;5;241m.\u001b[39m_next_index()  \u001b[38;5;66;03m# may raise StopIteration\u001b[39;00m\n\u001b[1;32m--> 570\u001b[0m     data \u001b[38;5;241m=\u001b[39m \u001b[38;5;28;43mself\u001b[39;49m\u001b[38;5;241;43m.\u001b[39;49m\u001b[43m_dataset_fetcher\u001b[49m\u001b[38;5;241;43m.\u001b[39;49m\u001b[43mfetch\u001b[49m\u001b[43m(\u001b[49m\u001b[43mindex\u001b[49m\u001b[43m)\u001b[49m  \u001b[38;5;66;03m# may raise StopIteration\u001b[39;00m\n\u001b[0;32m    571\u001b[0m     \u001b[38;5;28;01mif\u001b[39;00m \u001b[38;5;28mself\u001b[39m\u001b[38;5;241m.\u001b[39m_pin_memory:\n\u001b[0;32m    572\u001b[0m         data \u001b[38;5;241m=\u001b[39m _utils\u001b[38;5;241m.\u001b[39mpin_memory\u001b[38;5;241m.\u001b[39mpin_memory(data)\n",
      "File \u001b[1;32mC:\\ProgramData\\Anaconda3\\envs\\torchvision\\lib\\site-packages\\torch\\utils\\data\\_utils\\fetch.py:49\u001b[0m, in \u001b[0;36m_MapDatasetFetcher.fetch\u001b[1;34m(self, possibly_batched_index)\u001b[0m\n\u001b[0;32m     47\u001b[0m \u001b[38;5;28;01mdef\u001b[39;00m \u001b[38;5;21mfetch\u001b[39m(\u001b[38;5;28mself\u001b[39m, possibly_batched_index):\n\u001b[0;32m     48\u001b[0m     \u001b[38;5;28;01mif\u001b[39;00m \u001b[38;5;28mself\u001b[39m\u001b[38;5;241m.\u001b[39mauto_collation:\n\u001b[1;32m---> 49\u001b[0m         data \u001b[38;5;241m=\u001b[39m [\u001b[38;5;28mself\u001b[39m\u001b[38;5;241m.\u001b[39mdataset[idx] \u001b[38;5;28;01mfor\u001b[39;00m idx \u001b[38;5;129;01min\u001b[39;00m possibly_batched_index]\n\u001b[0;32m     50\u001b[0m     \u001b[38;5;28;01melse\u001b[39;00m:\n\u001b[0;32m     51\u001b[0m         data \u001b[38;5;241m=\u001b[39m \u001b[38;5;28mself\u001b[39m\u001b[38;5;241m.\u001b[39mdataset[possibly_batched_index]\n",
      "File \u001b[1;32mC:\\ProgramData\\Anaconda3\\envs\\torchvision\\lib\\site-packages\\torch\\utils\\data\\_utils\\fetch.py:49\u001b[0m, in \u001b[0;36m<listcomp>\u001b[1;34m(.0)\u001b[0m\n\u001b[0;32m     47\u001b[0m \u001b[38;5;28;01mdef\u001b[39;00m \u001b[38;5;21mfetch\u001b[39m(\u001b[38;5;28mself\u001b[39m, possibly_batched_index):\n\u001b[0;32m     48\u001b[0m     \u001b[38;5;28;01mif\u001b[39;00m \u001b[38;5;28mself\u001b[39m\u001b[38;5;241m.\u001b[39mauto_collation:\n\u001b[1;32m---> 49\u001b[0m         data \u001b[38;5;241m=\u001b[39m [\u001b[38;5;28;43mself\u001b[39;49m\u001b[38;5;241;43m.\u001b[39;49m\u001b[43mdataset\u001b[49m\u001b[43m[\u001b[49m\u001b[43midx\u001b[49m\u001b[43m]\u001b[49m \u001b[38;5;28;01mfor\u001b[39;00m idx \u001b[38;5;129;01min\u001b[39;00m possibly_batched_index]\n\u001b[0;32m     50\u001b[0m     \u001b[38;5;28;01melse\u001b[39;00m:\n\u001b[0;32m     51\u001b[0m         data \u001b[38;5;241m=\u001b[39m \u001b[38;5;28mself\u001b[39m\u001b[38;5;241m.\u001b[39mdataset[possibly_batched_index]\n",
      "Input \u001b[1;32mIn [9]\u001b[0m, in \u001b[0;36mUserItemRatingDataset.__getitem__\u001b[1;34m(self, index)\u001b[0m\n\u001b[0;32m     11\u001b[0m user_id \u001b[38;5;241m=\u001b[39m torch\u001b[38;5;241m.\u001b[39mtensor(\u001b[38;5;28mself\u001b[39m\u001b[38;5;241m.\u001b[39muser_lookup[row\u001b[38;5;241m.\u001b[39mUID])\u001b[38;5;241m.\u001b[39mto(device)\n\u001b[0;32m     12\u001b[0m movie_id \u001b[38;5;241m=\u001b[39m torch\u001b[38;5;241m.\u001b[39mtensor(\u001b[38;5;28mself\u001b[39m\u001b[38;5;241m.\u001b[39mmovie_lookup[row\u001b[38;5;241m.\u001b[39mJID])\u001b[38;5;241m.\u001b[39mto(device)\n\u001b[1;32m---> 14\u001b[0m rating \u001b[38;5;241m=\u001b[39m \u001b[43mtorch\u001b[49m\u001b[38;5;241;43m.\u001b[39;49m\u001b[43mtensor\u001b[49m\u001b[43m(\u001b[49m\u001b[43mrow\u001b[49m\u001b[38;5;241;43m.\u001b[39;49m\u001b[43mRating\u001b[49m\u001b[43m,\u001b[49m\u001b[43m \u001b[49m\u001b[43mdtype\u001b[49m\u001b[38;5;241;43m=\u001b[39;49m\u001b[43mtorch\u001b[49m\u001b[38;5;241;43m.\u001b[39;49m\u001b[43mfloat32\u001b[49m\u001b[43m)\u001b[49m\u001b[38;5;241;43m.\u001b[39;49m\u001b[43mto\u001b[49m\u001b[43m(\u001b[49m\u001b[43mdevice\u001b[49m\u001b[43m)\u001b[49m\n\u001b[0;32m     16\u001b[0m \u001b[38;5;28;01mreturn\u001b[39;00m (user_id, movie_id), rating\n",
      "\u001b[1;31mKeyboardInterrupt\u001b[0m: "
     ]
    }
   ],
   "source": [
    "optimizer = torch.optim.AdamW(model.parameters(), lr=0.001, weight_decay=0.015)\n",
    "\n",
    "scheduler = torch.optim.lr_scheduler.StepLR(optimizer, step_size=5, gamma=0.8)\n",
    "\n",
    "bet_model_name = train_model(8,\n",
    "    model, \n",
    "    DataLoader(train_dataset, batch_size=10000),\n",
    "    DataLoader(valid_dataset, batch_size=10000),\n",
    "    RMSE_loss, optimizer, 100, scheduler, loss_train_history, loss_val_history)\n",
    "print('end!')"
   ]
  },
  {
   "cell_type": "code",
   "execution_count": null,
   "id": "b996be7d",
   "metadata": {},
   "outputs": [],
   "source": []
  },
  {
   "cell_type": "code",
   "execution_count": 30,
   "id": "c7da5996",
   "metadata": {},
   "outputs": [],
   "source": [
    "dataset = UserItemRatingDataset(train_joke_df, movie_lookup, user_lookup)"
   ]
  },
  {
   "cell_type": "code",
   "execution_count": 34,
   "id": "5c89565d",
   "metadata": {},
   "outputs": [
    {
     "name": "stdout",
     "output_type": "stream",
     "text": [
      "loss: 5.103021144866943\n",
      "saved 22.04.2023_22.02.45.464659_epoch_21_loss_5.0474\n",
      "Epoch: 21 lr: 0.000100; Train loss: 4.107443, Val loss: 5.047354, time: 491 s\n",
      "saved 22.04.2023_22.11.02.175916_epoch_22_loss_4.9955\n",
      "Epoch: 22 lr: 0.000100; Train loss: 4.080122, Val loss: 4.995517, time: 497 s\n",
      "saved 22.04.2023_22.19.21.217493_epoch_23_loss_4.9479\n",
      "Epoch: 23 lr: 0.000100; Train loss: 4.056099, Val loss: 4.947924, time: 499 s\n",
      "saved 22.04.2023_22.27.42.082419_epoch_24_loss_4.9043\n",
      "Epoch: 24 lr: 0.000100; Train loss: 4.034567, Val loss: 4.904278, time: 501 s\n",
      "saved 22.04.2023_22.36.11.670000_epoch_25_loss_4.8642\n",
      "Epoch: 25 lr: 0.000100; Train loss: 4.015214, Val loss: 4.864242, time: 510 s\n"
     ]
    },
    {
     "ename": "KeyboardInterrupt",
     "evalue": "",
     "output_type": "error",
     "traceback": [
      "\u001b[1;31m---------------------------------------------------------------------------\u001b[0m",
      "\u001b[1;31mKeyboardInterrupt\u001b[0m                         Traceback (most recent call last)",
      "Input \u001b[1;32mIn [34]\u001b[0m, in \u001b[0;36m<cell line: 3>\u001b[1;34m()\u001b[0m\n\u001b[0;32m      1\u001b[0m optimizer \u001b[38;5;241m=\u001b[39m torch\u001b[38;5;241m.\u001b[39moptim\u001b[38;5;241m.\u001b[39mAdamW(model\u001b[38;5;241m.\u001b[39mparameters(), lr\u001b[38;5;241m=\u001b[39m\u001b[38;5;241m0.0001\u001b[39m)\n\u001b[1;32m----> 3\u001b[0m bet_model_name \u001b[38;5;241m=\u001b[39m \u001b[43mtrain_model\u001b[49m\u001b[43m(\u001b[49m\u001b[38;5;241;43m21\u001b[39;49m\u001b[43m,\u001b[49m\n\u001b[0;32m      4\u001b[0m \u001b[43m    \u001b[49m\u001b[43mmodel\u001b[49m\u001b[43m,\u001b[49m\u001b[43m \u001b[49m\n\u001b[0;32m      5\u001b[0m \u001b[43m    \u001b[49m\u001b[43mDataLoader\u001b[49m\u001b[43m(\u001b[49m\u001b[43mdataset\u001b[49m\u001b[43m,\u001b[49m\u001b[43m \u001b[49m\u001b[43mbatch_size\u001b[49m\u001b[38;5;241;43m=\u001b[39;49m\u001b[38;5;241;43m10000\u001b[39;49m\u001b[43m)\u001b[49m\u001b[43m,\u001b[49m\n\u001b[0;32m      6\u001b[0m \u001b[43m    \u001b[49m\u001b[43mDataLoader\u001b[49m\u001b[43m(\u001b[49m\u001b[43mvalid_dataset\u001b[49m\u001b[43m,\u001b[49m\u001b[43m \u001b[49m\u001b[43mbatch_size\u001b[49m\u001b[38;5;241;43m=\u001b[39;49m\u001b[38;5;241;43m10000\u001b[39;49m\u001b[43m)\u001b[49m\u001b[43m,\u001b[49m\n\u001b[0;32m      7\u001b[0m \u001b[43m    \u001b[49m\u001b[43mRMSE_loss\u001b[49m\u001b[43m,\u001b[49m\u001b[43m \u001b[49m\u001b[43moptimizer\u001b[49m\u001b[43m,\u001b[49m\u001b[43m \u001b[49m\u001b[38;5;241;43m6\u001b[39;49m\u001b[43m,\u001b[49m\u001b[43m \u001b[49m\u001b[38;5;28;43;01mNone\u001b[39;49;00m\u001b[43m,\u001b[49m\u001b[43m \u001b[49m\u001b[43mloss_train_history\u001b[49m\u001b[43m,\u001b[49m\u001b[43m \u001b[49m\u001b[43mloss_val_history\u001b[49m\u001b[43m)\u001b[49m\n\u001b[0;32m      8\u001b[0m \u001b[38;5;28mprint\u001b[39m(\u001b[38;5;124m'\u001b[39m\u001b[38;5;124mend!\u001b[39m\u001b[38;5;124m'\u001b[39m)\n",
      "Input \u001b[1;32mIn [15]\u001b[0m, in \u001b[0;36mtrain_model\u001b[1;34m(epoch_start, model, train_loader, val_loader, loss, optimizer, num_epochs, scheduler, loss_train_history, loss_val_history)\u001b[0m\n\u001b[0;32m     22\u001b[0m model\u001b[38;5;241m.\u001b[39mtrain()   \n\u001b[0;32m     23\u001b[0m loss_accum \u001b[38;5;241m=\u001b[39m \u001b[38;5;241m0\u001b[39m\n\u001b[1;32m---> 24\u001b[0m \u001b[38;5;28;01mfor\u001b[39;00m i_step, (x, y) \u001b[38;5;129;01min\u001b[39;00m \u001b[38;5;28menumerate\u001b[39m(train_loader):\n\u001b[0;32m     25\u001b[0m     prediction \u001b[38;5;241m=\u001b[39m model(x)    \n\u001b[0;32m     26\u001b[0m     loss_value \u001b[38;5;241m=\u001b[39m loss(prediction, y)\n",
      "File \u001b[1;32mC:\\ProgramData\\Anaconda3\\envs\\torchvision\\lib\\site-packages\\torch\\utils\\data\\dataloader.py:530\u001b[0m, in \u001b[0;36m_BaseDataLoaderIter.__next__\u001b[1;34m(self)\u001b[0m\n\u001b[0;32m    528\u001b[0m \u001b[38;5;28;01mif\u001b[39;00m \u001b[38;5;28mself\u001b[39m\u001b[38;5;241m.\u001b[39m_sampler_iter \u001b[38;5;129;01mis\u001b[39;00m \u001b[38;5;28;01mNone\u001b[39;00m:\n\u001b[0;32m    529\u001b[0m     \u001b[38;5;28mself\u001b[39m\u001b[38;5;241m.\u001b[39m_reset()\n\u001b[1;32m--> 530\u001b[0m data \u001b[38;5;241m=\u001b[39m \u001b[38;5;28;43mself\u001b[39;49m\u001b[38;5;241;43m.\u001b[39;49m\u001b[43m_next_data\u001b[49m\u001b[43m(\u001b[49m\u001b[43m)\u001b[49m\n\u001b[0;32m    531\u001b[0m \u001b[38;5;28mself\u001b[39m\u001b[38;5;241m.\u001b[39m_num_yielded \u001b[38;5;241m+\u001b[39m\u001b[38;5;241m=\u001b[39m \u001b[38;5;241m1\u001b[39m\n\u001b[0;32m    532\u001b[0m \u001b[38;5;28;01mif\u001b[39;00m \u001b[38;5;28mself\u001b[39m\u001b[38;5;241m.\u001b[39m_dataset_kind \u001b[38;5;241m==\u001b[39m _DatasetKind\u001b[38;5;241m.\u001b[39mIterable \u001b[38;5;129;01mand\u001b[39;00m \\\n\u001b[0;32m    533\u001b[0m         \u001b[38;5;28mself\u001b[39m\u001b[38;5;241m.\u001b[39m_IterableDataset_len_called \u001b[38;5;129;01mis\u001b[39;00m \u001b[38;5;129;01mnot\u001b[39;00m \u001b[38;5;28;01mNone\u001b[39;00m \u001b[38;5;129;01mand\u001b[39;00m \\\n\u001b[0;32m    534\u001b[0m         \u001b[38;5;28mself\u001b[39m\u001b[38;5;241m.\u001b[39m_num_yielded \u001b[38;5;241m>\u001b[39m \u001b[38;5;28mself\u001b[39m\u001b[38;5;241m.\u001b[39m_IterableDataset_len_called:\n",
      "File \u001b[1;32mC:\\ProgramData\\Anaconda3\\envs\\torchvision\\lib\\site-packages\\torch\\utils\\data\\dataloader.py:570\u001b[0m, in \u001b[0;36m_SingleProcessDataLoaderIter._next_data\u001b[1;34m(self)\u001b[0m\n\u001b[0;32m    568\u001b[0m \u001b[38;5;28;01mdef\u001b[39;00m \u001b[38;5;21m_next_data\u001b[39m(\u001b[38;5;28mself\u001b[39m):\n\u001b[0;32m    569\u001b[0m     index \u001b[38;5;241m=\u001b[39m \u001b[38;5;28mself\u001b[39m\u001b[38;5;241m.\u001b[39m_next_index()  \u001b[38;5;66;03m# may raise StopIteration\u001b[39;00m\n\u001b[1;32m--> 570\u001b[0m     data \u001b[38;5;241m=\u001b[39m \u001b[38;5;28;43mself\u001b[39;49m\u001b[38;5;241;43m.\u001b[39;49m\u001b[43m_dataset_fetcher\u001b[49m\u001b[38;5;241;43m.\u001b[39;49m\u001b[43mfetch\u001b[49m\u001b[43m(\u001b[49m\u001b[43mindex\u001b[49m\u001b[43m)\u001b[49m  \u001b[38;5;66;03m# may raise StopIteration\u001b[39;00m\n\u001b[0;32m    571\u001b[0m     \u001b[38;5;28;01mif\u001b[39;00m \u001b[38;5;28mself\u001b[39m\u001b[38;5;241m.\u001b[39m_pin_memory:\n\u001b[0;32m    572\u001b[0m         data \u001b[38;5;241m=\u001b[39m _utils\u001b[38;5;241m.\u001b[39mpin_memory\u001b[38;5;241m.\u001b[39mpin_memory(data)\n",
      "File \u001b[1;32mC:\\ProgramData\\Anaconda3\\envs\\torchvision\\lib\\site-packages\\torch\\utils\\data\\_utils\\fetch.py:49\u001b[0m, in \u001b[0;36m_MapDatasetFetcher.fetch\u001b[1;34m(self, possibly_batched_index)\u001b[0m\n\u001b[0;32m     47\u001b[0m \u001b[38;5;28;01mdef\u001b[39;00m \u001b[38;5;21mfetch\u001b[39m(\u001b[38;5;28mself\u001b[39m, possibly_batched_index):\n\u001b[0;32m     48\u001b[0m     \u001b[38;5;28;01mif\u001b[39;00m \u001b[38;5;28mself\u001b[39m\u001b[38;5;241m.\u001b[39mauto_collation:\n\u001b[1;32m---> 49\u001b[0m         data \u001b[38;5;241m=\u001b[39m [\u001b[38;5;28mself\u001b[39m\u001b[38;5;241m.\u001b[39mdataset[idx] \u001b[38;5;28;01mfor\u001b[39;00m idx \u001b[38;5;129;01min\u001b[39;00m possibly_batched_index]\n\u001b[0;32m     50\u001b[0m     \u001b[38;5;28;01melse\u001b[39;00m:\n\u001b[0;32m     51\u001b[0m         data \u001b[38;5;241m=\u001b[39m \u001b[38;5;28mself\u001b[39m\u001b[38;5;241m.\u001b[39mdataset[possibly_batched_index]\n",
      "File \u001b[1;32mC:\\ProgramData\\Anaconda3\\envs\\torchvision\\lib\\site-packages\\torch\\utils\\data\\_utils\\fetch.py:49\u001b[0m, in \u001b[0;36m<listcomp>\u001b[1;34m(.0)\u001b[0m\n\u001b[0;32m     47\u001b[0m \u001b[38;5;28;01mdef\u001b[39;00m \u001b[38;5;21mfetch\u001b[39m(\u001b[38;5;28mself\u001b[39m, possibly_batched_index):\n\u001b[0;32m     48\u001b[0m     \u001b[38;5;28;01mif\u001b[39;00m \u001b[38;5;28mself\u001b[39m\u001b[38;5;241m.\u001b[39mauto_collation:\n\u001b[1;32m---> 49\u001b[0m         data \u001b[38;5;241m=\u001b[39m [\u001b[38;5;28;43mself\u001b[39;49m\u001b[38;5;241;43m.\u001b[39;49m\u001b[43mdataset\u001b[49m\u001b[43m[\u001b[49m\u001b[43midx\u001b[49m\u001b[43m]\u001b[49m \u001b[38;5;28;01mfor\u001b[39;00m idx \u001b[38;5;129;01min\u001b[39;00m possibly_batched_index]\n\u001b[0;32m     50\u001b[0m     \u001b[38;5;28;01melse\u001b[39;00m:\n\u001b[0;32m     51\u001b[0m         data \u001b[38;5;241m=\u001b[39m \u001b[38;5;28mself\u001b[39m\u001b[38;5;241m.\u001b[39mdataset[possibly_batched_index]\n",
      "Input \u001b[1;32mIn [9]\u001b[0m, in \u001b[0;36mUserItemRatingDataset.__getitem__\u001b[1;34m(self, index)\u001b[0m\n\u001b[0;32m      9\u001b[0m \u001b[38;5;28;01mdef\u001b[39;00m \u001b[38;5;21m__getitem__\u001b[39m(\u001b[38;5;28mself\u001b[39m, index):\n\u001b[0;32m     10\u001b[0m     row \u001b[38;5;241m=\u001b[39m \u001b[38;5;28mself\u001b[39m\u001b[38;5;241m.\u001b[39mdf\u001b[38;5;241m.\u001b[39miloc[index]\n\u001b[1;32m---> 11\u001b[0m     user_id \u001b[38;5;241m=\u001b[39m \u001b[43mtorch\u001b[49m\u001b[38;5;241;43m.\u001b[39;49m\u001b[43mtensor\u001b[49m\u001b[43m(\u001b[49m\u001b[38;5;28;43mself\u001b[39;49m\u001b[38;5;241;43m.\u001b[39;49m\u001b[43muser_lookup\u001b[49m\u001b[43m[\u001b[49m\u001b[43mrow\u001b[49m\u001b[38;5;241;43m.\u001b[39;49m\u001b[43mUID\u001b[49m\u001b[43m]\u001b[49m\u001b[43m)\u001b[49m\u001b[38;5;241;43m.\u001b[39;49m\u001b[43mto\u001b[49m\u001b[43m(\u001b[49m\u001b[43mdevice\u001b[49m\u001b[43m)\u001b[49m\n\u001b[0;32m     12\u001b[0m     movie_id \u001b[38;5;241m=\u001b[39m torch\u001b[38;5;241m.\u001b[39mtensor(\u001b[38;5;28mself\u001b[39m\u001b[38;5;241m.\u001b[39mmovie_lookup[row\u001b[38;5;241m.\u001b[39mJID])\u001b[38;5;241m.\u001b[39mto(device)\n\u001b[0;32m     14\u001b[0m     rating \u001b[38;5;241m=\u001b[39m torch\u001b[38;5;241m.\u001b[39mtensor(row\u001b[38;5;241m.\u001b[39mRating, dtype\u001b[38;5;241m=\u001b[39mtorch\u001b[38;5;241m.\u001b[39mfloat32)\u001b[38;5;241m.\u001b[39mto(device)\n",
      "\u001b[1;31mKeyboardInterrupt\u001b[0m: "
     ]
    }
   ],
   "source": [
    "optimizer = torch.optim.AdamW(model.parameters(), lr=0.0001)\n",
    "\n",
    "bet_model_name = train_model(21,\n",
    "    model, \n",
    "    DataLoader(dataset, batch_size=10000),\n",
    "    DataLoader(valid_dataset, batch_size=10000),\n",
    "    RMSE_loss, optimizer, 6, None, loss_train_history, loss_val_history)\n",
    "print('end!')"
   ]
  },
  {
   "cell_type": "code",
   "execution_count": 35,
   "id": "1aae0675",
   "metadata": {},
   "outputs": [
    {
     "data": {
      "image/png": "[encoded data removed]",
      "text/plain": [
       "<Figure size 720x576 with 1 Axes>"
      ]
     },
     "metadata": {
      "needs_background": "light"
     },
     "output_type": "display_data"
    }
   ],
   "source": [
    "fig = plt.figure(figsize=(10, 8))    \n",
    "plt.xlabel(\"#iteration\")\n",
    "plt.ylabel(\"loss\")\n",
    "plt.plot(loss_train_history, label='train loss')\n",
    "plt.plot(loss_val_history, label='val loss')\n",
    "fig.legend()\n",
    "plt.show()"
   ]
  },
  {
   "cell_type": "code",
   "execution_count": null,
   "id": "c9b8cadc",
   "metadata": {},
   "outputs": [],
   "source": []
  },
  {
   "cell_type": "code",
   "execution_count": null,
   "id": "a7927077",
   "metadata": {},
   "outputs": [],
   "source": [
    "assert False"
   ]
  },
  {
   "cell_type": "code",
   "execution_count": null,
   "id": "2281558f",
   "metadata": {},
   "outputs": [],
   "source": []
  },
  {
   "cell_type": "code",
   "execution_count": 36,
   "id": "9878e5eb",
   "metadata": {},
   "outputs": [],
   "source": [
    "test_joke_df_nofactrating = pd.read_csv(r'data\\recsys-in-practice\\test_joke_df_nofactrating.csv', index_col=0)\n",
    "\n",
    "test_joke_df_nofactrating['Rating'] = np.zeros((len(test_joke_df_nofactrating)))"
   ]
  },
  {
   "cell_type": "code",
   "execution_count": 37,
   "id": "5f9b38e9",
   "metadata": {},
   "outputs": [],
   "source": [
    "test_dataset = UserItemRatingDataset(test_joke_df_nofactrating, movie_lookup, user_lookup)"
   ]
  },
  {
   "cell_type": "code",
   "execution_count": 38,
   "id": "f5ad658e",
   "metadata": {},
   "outputs": [
    {
     "name": "stdout",
     "output_type": "stream",
     "text": [
      "9.251912117004395\n",
      "4.338476181030273\n"
     ]
    }
   ],
   "source": [
    "best_model_name = '22.04.2023_22.36.11.670000_epoch_25_loss_4.8642'\n",
    "\n",
    "best_model = MfDotBias(120, len(user_lookup), len(movie_lookup), ratings_range=[-10, 10]).to(device)\n",
    "print(compute_accuracy(best_model, DataLoader(test_dataset, batch_size=5000), RMSE_loss))\n",
    "\n",
    "load2(best_model_name, best_model)\n",
    "print(compute_accuracy(best_model, DataLoader(test_dataset, batch_size=5000), RMSE_loss))"
   ]
  },
  {
   "cell_type": "code",
   "execution_count": 39,
   "id": "8d63fda5",
   "metadata": {},
   "outputs": [
    {
     "data": {
      "application/vnd.jupyter.widget-view+json": {
       "model_id": "ef49092e2ef840e8aaa4b66eb5b1cae9",
       "version_major": 2,
       "version_minor": 0
      },
      "text/plain": [
       "  0%|          | 0/73 [00:00<?, ?it/s]"
      ]
     },
     "metadata": {},
     "output_type": "display_data"
    }
   ],
   "source": [
    "result = []\n",
    "for x, y in tqdm(DataLoader(test_dataset, batch_size=5000)):\n",
    "    predict = model(x)\n",
    "    result.extend(predict.cpu().detach().numpy())"
   ]
  },
  {
   "cell_type": "code",
   "execution_count": 40,
   "id": "041e0435",
   "metadata": {},
   "outputs": [],
   "source": [
    "test_joke_df_nofactrating['Rating'] = result"
   ]
  },
  {
   "cell_type": "code",
   "execution_count": 41,
   "id": "995f7b71",
   "metadata": {},
   "outputs": [
    {
     "data": {
      "text/html": [
       "<div>\n",
       "<style scoped>\n",
       "    .dataframe tbody tr th:only-of-type {\n",
       "        vertical-align: middle;\n",
       "    }\n",
       "\n",
       "    .dataframe tbody tr th {\n",
       "        vertical-align: top;\n",
       "    }\n",
       "\n",
       "    .dataframe thead th {\n",
       "        text-align: right;\n",
       "    }\n",
       "</style>\n",
       "<table border=\"1\" class=\"dataframe\">\n",
       "  <thead>\n",
       "    <tr style=\"text-align: right;\">\n",
       "      <th></th>\n",
       "      <th>Rating</th>\n",
       "    </tr>\n",
       "    <tr>\n",
       "      <th>InteractionID</th>\n",
       "      <th></th>\n",
       "    </tr>\n",
       "  </thead>\n",
       "  <tbody>\n",
       "    <tr>\n",
       "      <th>0</th>\n",
       "      <td>3.364809</td>\n",
       "    </tr>\n",
       "    <tr>\n",
       "      <th>1</th>\n",
       "      <td>-3.937026</td>\n",
       "    </tr>\n",
       "    <tr>\n",
       "      <th>2</th>\n",
       "      <td>-2.542684</td>\n",
       "    </tr>\n",
       "    <tr>\n",
       "      <th>3</th>\n",
       "      <td>6.760567</td>\n",
       "    </tr>\n",
       "    <tr>\n",
       "      <th>4</th>\n",
       "      <td>5.356848</td>\n",
       "    </tr>\n",
       "  </tbody>\n",
       "</table>\n",
       "</div>"
      ],
      "text/plain": [
       "                 Rating\n",
       "InteractionID          \n",
       "0              3.364809\n",
       "1             -3.937026\n",
       "2             -2.542684\n",
       "3              6.760567\n",
       "4              5.356848"
      ]
     },
     "execution_count": 41,
     "metadata": {},
     "output_type": "execute_result"
    }
   ],
   "source": [
    "test_joke_df_nofactrating['Rating'].to_frame().head(5)"
   ]
  },
  {
   "cell_type": "code",
   "execution_count": 42,
   "id": "a957b58b",
   "metadata": {},
   "outputs": [],
   "source": [
    "test_joke_df_nofactrating['Rating'].to_frame().to_csv('nn_embedding.csv')"
   ]
  },
  {
   "cell_type": "code",
   "execution_count": null,
   "id": "21c17f85",
   "metadata": {},
   "outputs": [],
   "source": [
    "assert False"
   ]
  },
  {
   "cell_type": "markdown",
   "id": "6ec3d353",
   "metadata": {},
   "source": [
    "Comparing this to our baseline, we can see that there is an improvement!"
   ]
  },
  {
   "cell_type": "markdown",
   "id": "12b89b19",
   "metadata": {},
   "source": [
    "## Sequential recommendations using a transformer"
   ]
  },
  {
   "cell_type": "markdown",
   "id": "89bb857b",
   "metadata": {},
   "source": [
    "Using matrix factorization, we are treating each rating as being independent from the ratings around it; however, incorporating information about other movies that a user recently rated could provide an additional signal that could boost performance. For example, suppose that a user is watching a trilogy of films; if they have rated the first two instalments highly, it is likely that they may do the same for the finale!\n",
    "\n",
    "One way that we can approach this is to use a transformer network, specifically the encoder portion, to encode additional context into the learned embeddings for each movie, and then using a fully connected neural network to make the rating predictions."
   ]
  },
  {
   "cell_type": "markdown",
   "id": "45c308a7",
   "metadata": {},
   "source": [
    "### Pre-processing the data"
   ]
  },
  {
   "cell_type": "markdown",
   "id": "b4b22435",
   "metadata": {},
   "source": [
    "The first step is to process our data so that we have a time-sorted list of movies for each user. Let's start by grouping all the ratings by user:"
   ]
  },
  {
   "cell_type": "code",
   "execution_count": null,
   "id": "7791058d",
   "metadata": {},
   "outputs": [],
   "source": [
    "grouped_ratings = train_joke_df.groupby('UID').agg(tuple).reset_index()"
   ]
  },
  {
   "cell_type": "code",
   "execution_count": null,
   "id": "8e7ca0a4",
   "metadata": {},
   "outputs": [],
   "source": [
    "grouped_ratings"
   ]
  },
  {
   "cell_type": "markdown",
   "id": "233f7e51",
   "metadata": {},
   "source": [
    "Now that we have grouped by user, we can create an additional column so that we can see the number of events associated with each user"
   ]
  },
  {
   "cell_type": "code",
   "execution_count": null,
   "id": "fcbf2d66",
   "metadata": {},
   "outputs": [],
   "source": [
    "grouped_ratings['num_ratings'] = grouped_ratings['Rating'].apply(lambda row: len(row))"
   ]
  },
  {
   "cell_type": "markdown",
   "id": "103612b7",
   "metadata": {},
   "source": [
    "Let's take a look at the new dataframe"
   ]
  },
  {
   "cell_type": "code",
   "execution_count": null,
   "id": "af0db536",
   "metadata": {},
   "outputs": [],
   "source": [
    "grouped_ratings"
   ]
  },
  {
   "cell_type": "markdown",
   "id": "d8559845",
   "metadata": {},
   "source": [
    "Now that we have grouped all the ratings for each user, let's divide these into smaller sequences. To make the most out of the data, we would like the model to have the opportunity to predict a rating for every movie in the training set. To do this, let's specify a sequence length s and use the previous s-1 ratings as our user history.\n",
    "\n",
    "As the model expects each sequence to be a fixed length, we will fill empty spaces with a padding token, so that sequences can be batched and passed to the model. Let's create a function to do this.\n",
    "\n",
    "We are going to arbitrarily choose a length of 10 here."
   ]
  },
  {
   "cell_type": "code",
   "execution_count": null,
   "id": "00164996",
   "metadata": {},
   "outputs": [],
   "source": [
    "sequence_length = 10"
   ]
  },
  {
   "cell_type": "code",
   "execution_count": null,
   "id": "09119db3",
   "metadata": {},
   "outputs": [],
   "source": [
    "def create_sequences(values, sequence_length):\n",
    "    sequences = []\n",
    "    for i, v in enumerate(values):\n",
    "        seq = values[:i+1]\n",
    "        if len(seq) > sequence_length:\n",
    "            seq = seq[i-sequence_length+1:i+1]\n",
    "        elif len(seq) < sequence_length:\n",
    "            seq =(*(['[PAD]'] * (sequence_length - len(seq))), *seq)\n",
    "       \n",
    "        sequences.append(seq)\n",
    "    return sequences\n",
    "        "
   ]
  },
  {
   "cell_type": "markdown",
   "id": "9310980e",
   "metadata": {},
   "source": [
    "To visualize how this function works, let's apply it, with a sequence length of 3, to the first 10 movies rated by the first user. These movies are:"
   ]
  },
  {
   "cell_type": "code",
   "execution_count": null,
   "id": "62f08327",
   "metadata": {},
   "outputs": [],
   "source": [
    "grouped_ratings.iloc[0]['title'][:10]"
   ]
  },
  {
   "cell_type": "markdown",
   "id": "6e1db720",
   "metadata": {},
   "source": [
    "Applying our function, we have:"
   ]
  },
  {
   "cell_type": "code",
   "execution_count": null,
   "id": "3ee50596",
   "metadata": {},
   "outputs": [],
   "source": [
    "create_sequences(grouped_ratings.iloc[0]['JID'][:10], 3)"
   ]
  },
  {
   "cell_type": "markdown",
   "id": "7c93d0cf",
   "metadata": {},
   "source": [
    "As we can see, we have 10 sequences of length 3, where the final movie in the sequence is unchanged from the original list."
   ]
  },
  {
   "cell_type": "markdown",
   "id": "3c79f074",
   "metadata": {},
   "source": [
    "Now, let's apply this function to all of the features in our dataframe"
   ]
  },
  {
   "cell_type": "code",
   "execution_count": null,
   "id": "ed431a38",
   "metadata": {},
   "outputs": [],
   "source": [
    "grouped_cols = ['title', 'rating', 'unix_timestamp', 'is_valid'] \n",
    "for col in grouped_cols:\n",
    "    grouped_ratings[col] = grouped_ratings[col].apply(lambda x: create_sequences(x, sequence_length))"
   ]
  },
  {
   "cell_type": "code",
   "execution_count": null,
   "id": "fbfcae48",
   "metadata": {},
   "outputs": [],
   "source": [
    "grouped_ratings.head(2)"
   ]
  },
  {
   "cell_type": "markdown",
   "id": "9d5fa619",
   "metadata": {},
   "source": [
    "Currently, we have one row that contains all the sequences for a certain user. However, during training, we would like to create batches made up of sequences from many different users. To do this, we will have to transform the data so that each sequence has its own row, while remaining associated with the user ID. We can use the pandas 'explode' function for each feature, and then aggregate these DataFrames together."
   ]
  },
  {
   "cell_type": "code",
   "execution_count": null,
   "id": "cb3d0523",
   "metadata": {},
   "outputs": [],
   "source": [
    "exploded_ratings = grouped_ratings[['user_id', 'title']].explode('title', ignore_index=True)\n",
    "dfs = [grouped_ratings[[col]].explode(col, ignore_index=True) for col in grouped_cols[1:]]\n",
    "seq_df = pd.concat([exploded_ratings, *dfs], axis=1)"
   ]
  },
  {
   "cell_type": "code",
   "execution_count": null,
   "id": "ed5af3c9",
   "metadata": {},
   "outputs": [],
   "source": [
    "seq_df.head()"
   ]
  },
  {
   "cell_type": "markdown",
   "id": "36ea5a39",
   "metadata": {},
   "source": [
    "Now, we can see that each sequence has its own row. However, for the is_valid column, we don't care about the whole sequence and only need the last value as this is the movie for which we will be trying to predict the rating. Let's create a function to extract this value and apply it to these columns."
   ]
  },
  {
   "cell_type": "code",
   "execution_count": null,
   "id": "6f9279a2",
   "metadata": {},
   "outputs": [],
   "source": [
    "def get_last_entry(sequence):\n",
    "    return sequence[-1]\n",
    "\n",
    "seq_df['is_valid'] = seq_df['is_valid'].apply(get_last_entry)"
   ]
  },
  {
   "cell_type": "code",
   "execution_count": null,
   "id": "938ce4b6",
   "metadata": {},
   "outputs": [],
   "source": [
    "seq_df"
   ]
  },
  {
   "cell_type": "markdown",
   "id": "220cd447",
   "metadata": {},
   "source": [
    "Also, to make it easy to access the rating that we are trying to predict, let's separate this into its own column."
   ]
  },
  {
   "cell_type": "code",
   "execution_count": null,
   "id": "28ff27e6",
   "metadata": {},
   "outputs": [],
   "source": [
    "seq_df['target_rating'] = seq_df['rating'].apply(get_last_entry)\n",
    "seq_df['previous_ratings'] = seq_df['rating'].apply(lambda seq: seq[:-1])\n",
    "seq_df.drop(columns=['rating'], inplace=True)"
   ]
  },
  {
   "cell_type": "markdown",
   "id": "9552504c",
   "metadata": {},
   "source": [
    "To prevent the model from including padding tokens when calculating attention scores, we can provide an attention mask to the transformer; the mask should be 'True' for a padding token and 'False' otherwise. Let's calculate this for each row, as well as creating a column to show the number of padding tokens present."
   ]
  },
  {
   "cell_type": "code",
   "execution_count": null,
   "id": "6fcd5857",
   "metadata": {},
   "outputs": [],
   "source": [
    "seq_df['pad_mask'] = seq_df['title'].apply(lambda x: (np.array(x) == '[PAD]'))\n",
    "seq_df['num_pads'] = seq_df['pad_mask'].apply(sum)\n",
    "seq_df['pad_mask'] = seq_df['pad_mask'].apply(lambda x: x.tolist()) # in case we serialize later"
   ]
  },
  {
   "cell_type": "markdown",
   "id": "99057816",
   "metadata": {},
   "source": [
    "Let's inspect the transformed data"
   ]
  },
  {
   "cell_type": "code",
   "execution_count": null,
   "id": "fb5fead9",
   "metadata": {},
   "outputs": [],
   "source": [
    "seq_df"
   ]
  },
  {
   "cell_type": "markdown",
   "id": "893972ae",
   "metadata": {},
   "source": [
    "All looks as it should! Let's split this into training and validation sets and save this."
   ]
  },
  {
   "cell_type": "code",
   "execution_count": null,
   "id": "b53d30f1",
   "metadata": {},
   "outputs": [],
   "source": [
    "train_seq_df = seq_df[seq_df.is_valid == False]\n",
    "valid_seq_df = seq_df[seq_df.is_valid == True]"
   ]
  },
  {
   "cell_type": "markdown",
   "id": "ec69a8a2",
   "metadata": {},
   "source": [
    "### Training the model"
   ]
  },
  {
   "cell_type": "markdown",
   "id": "8b46b06f",
   "metadata": {},
   "source": [
    "As we saw previously, before we can feed this data into the model, we need to create lookup tables to encode our movies and users. However, this time, we need to include the padding token in our movie lookup."
   ]
  },
  {
   "cell_type": "code",
   "execution_count": null,
   "id": "440df620",
   "metadata": {},
   "outputs": [],
   "source": [
    "user_lookup = {v: i+1 for i, v in enumerate(ratings_df['user_id'].unique())}"
   ]
  },
  {
   "cell_type": "code",
   "execution_count": null,
   "id": "ba6c6b46",
   "metadata": {},
   "outputs": [],
   "source": [
    "def create_feature_lookup(df, feature):\n",
    "    lookup = {v: i+1 for i, v in enumerate(df[feature].unique())}\n",
    "    lookup['[PAD]'] = 0\n",
    "    return lookup"
   ]
  },
  {
   "cell_type": "code",
   "execution_count": null,
   "id": "71bc3a01",
   "metadata": {},
   "outputs": [],
   "source": [
    "movie_lookup = create_feature_lookup(ratings_df, 'title')"
   ]
  },
  {
   "cell_type": "markdown",
   "id": "21228dbc",
   "metadata": {},
   "source": [
    "Now, we are dealing with sequences of ratings, rather than individual ones, so we will need to create a new dataset to wrap our processed DataFrame:"
   ]
  },
  {
   "cell_type": "code",
   "execution_count": null,
   "id": "ab0648f2",
   "metadata": {},
   "outputs": [],
   "source": [
    "class MovieSequenceDataset(Dataset):\n",
    "    def __init__(self, df, movie_lookup, user_lookup):\n",
    "        super().__init__()\n",
    "        self.df = df\n",
    "        self.movie_lookup = movie_lookup\n",
    "        self.user_lookup = user_lookup\n",
    "\n",
    "    def __len__(self):\n",
    "        return len(self.df)\n",
    "\n",
    "    def __getitem__(self, index):\n",
    "        data = self.df.iloc[index]\n",
    "        user_id = torch.tensor(self.user_lookup[str(data.user_id)])\n",
    "        movie_ids = torch.tensor([self.movie_lookup[title] for title in data.title])\n",
    "\n",
    "        previous_ratings = torch.tensor(\n",
    "            [rating if rating != \"[PAD]\" else 0 for rating in data.previous_ratings]\n",
    "        )\n",
    "\n",
    "        attention_mask = torch.tensor(data.pad_mask).to(device)\n",
    "        target_rating = data.target_rating\n",
    "        encoded_features = {\n",
    "            \"user_id\": user_id.to(device),\n",
    "            \"movie_ids\": movie_ids.to(device),\n",
    "            \"ratings\": previous_ratings.to(device),\n",
    "        }\n",
    "\n",
    "        return (encoded_features, attention_mask), torch.tensor(target_rating, dtype=torch.float32).to(device)\n"
   ]
  },
  {
   "cell_type": "code",
   "execution_count": null,
   "id": "41854545",
   "metadata": {},
   "outputs": [],
   "source": [
    "train_dataset = MovieSequenceDataset(train_seq_df, movie_lookup, user_lookup)\n",
    "valid_dataset = MovieSequenceDataset(valid_seq_df, movie_lookup, user_lookup)"
   ]
  },
  {
   "cell_type": "markdown",
   "id": "3cee81f6",
   "metadata": {},
   "source": [
    "Now, let's define our transformer model! As a start, given that the matrix factorization model can achieve good performance using only the user and movie ids, let's only include this information for now."
   ]
  },
  {
   "cell_type": "code",
   "execution_count": null,
   "id": "e62bc2cc",
   "metadata": {},
   "outputs": [],
   "source": [
    "class BstTransformer(nn.Module):\n",
    "    def __init__(\n",
    "        self,\n",
    "        movies_num_unique,\n",
    "        users_num_unique,\n",
    "        sequence_length=10,\n",
    "        embedding_size=120,\n",
    "        num_transformer_layers=1,\n",
    "        ratings_range=(0.5, 5.5),\n",
    "    ):\n",
    "        super().__init__()\n",
    "        self.sequence_length = sequence_length\n",
    "        self.y_range = ratings_range\n",
    "        self.movies_embeddings = nn.Embedding(movies_num_unique + 1, embedding_size, padding_idx=0)\n",
    "        self.user_embeddings = nn.Embedding(users_num_unique + 1, embedding_size)\n",
    "        self.position_embeddings = nn.Embedding(sequence_length, embedding_size)\n",
    "\n",
    "        self.encoder = nn.TransformerEncoder(\n",
    "            encoder_layer=nn.TransformerEncoderLayer(\n",
    "                d_model=embedding_size,\n",
    "                nhead=12,\n",
    "                dropout=0.1,\n",
    "                batch_first=True,\n",
    "                activation=\"gelu\",\n",
    "            ),\n",
    "            num_layers=num_transformer_layers,\n",
    "        )\n",
    "\n",
    "        self.linear = nn.Sequential(\n",
    "            nn.Linear(embedding_size + (embedding_size * sequence_length), 1024),\n",
    "            nn.BatchNorm1d(1024),\n",
    "            nn.Mish(),\n",
    "            nn.Linear(1024, 512),\n",
    "            nn.BatchNorm1d(512),\n",
    "            nn.Mish(),\n",
    "            nn.Dropout(0.2),\n",
    "            nn.Linear(512, 256),\n",
    "            nn.BatchNorm1d(256),\n",
    "            nn.Mish(),\n",
    "            nn.Linear(256, 1),\n",
    "            nn.Sigmoid(),\n",
    "        )\n",
    "\n",
    "    def forward(self, inputs):\n",
    "        features, mask = inputs\n",
    "\n",
    "        encoded_user_id = self.user_embeddings(features[\"user_id\"])\n",
    "\n",
    "        user_features = encoded_user_id\n",
    "\n",
    "        encoded_movies = self.movies_embeddings(features[\"movie_ids\"])\n",
    "\n",
    "        positions = torch.arange(0, self.sequence_length, 1, dtype=int, device=features[\"movie_ids\"].device)\n",
    "        positions = self.position_embeddings(positions)\n",
    "\n",
    "        transformer_features = encoded_movies + positions\n",
    "\n",
    "        transformer_output = self.encoder(transformer_features, src_key_padding_mask=mask)\n",
    "        transformer_output = torch.flatten(transformer_output, start_dim=1)\n",
    "\n",
    "        combined_output = torch.cat((transformer_output, user_features), dim=1)\n",
    "\n",
    "        rating = self.linear(combined_output)\n",
    "        rating = rating.squeeze()\n",
    "        if self.y_range is None:\n",
    "            return rating\n",
    "        else:\n",
    "            return rating * (self.y_range[1] - self.y_range[0]) + self.y_range[0]\n"
   ]
  },
  {
   "cell_type": "markdown",
   "id": "26939213",
   "metadata": {},
   "source": [
    "We can see that, as a default, we feed our sequence of movie embeddings into a single transformer layer, before concatenating the output with the user features - here, just the user ID - and using this as the input to a fully connected network. Here, we are using only a simple positional encoding that is learned to represent the sequence in which the movies were rated; using a sine- and cosine-based approach provided no benefit during my experiments, but feel free to try it out if you are interested!\n",
    "\n",
    "Once again, let's define a training function for this model; except for the model initialization, this is identical to the one we used to train the matrix factorization model."
   ]
  },
  {
   "cell_type": "code",
   "execution_count": null,
   "id": "eef19722",
   "metadata": {},
   "outputs": [],
   "source": []
  },
  {
   "cell_type": "code",
   "execution_count": null,
   "id": "279f207c",
   "metadata": {},
   "outputs": [],
   "source": []
  },
  {
   "cell_type": "code",
   "execution_count": null,
   "id": "e006f984",
   "metadata": {},
   "outputs": [],
   "source": [
    "#x[0]"
   ]
  },
  {
   "cell_type": "code",
   "execution_count": null,
   "id": "2f2143f7",
   "metadata": {},
   "outputs": [],
   "source": [
    "for x, y in tqdm(DataLoader(train_dataset, batch_size=8)):\n",
    "    #print(images[0].shape, texts[0], labels[0] , labels.shape)\n",
    "    break\n",
    "display(x)\n"
   ]
  },
  {
   "cell_type": "code",
   "execution_count": null,
   "id": "3bc75dee",
   "metadata": {},
   "outputs": [],
   "source": []
  },
  {
   "cell_type": "code",
   "execution_count": null,
   "id": "3c67ee7e",
   "metadata": {},
   "outputs": [],
   "source": []
  },
  {
   "cell_type": "code",
   "execution_count": null,
   "id": "84f7c287",
   "metadata": {},
   "outputs": [],
   "source": [
    "#x[1]"
   ]
  },
  {
   "cell_type": "code",
   "execution_count": null,
   "id": "26164c06",
   "metadata": {},
   "outputs": [],
   "source": [
    "#for xx in x:\n",
    "#    display(xx)"
   ]
  },
  {
   "cell_type": "code",
   "execution_count": null,
   "id": "ac9b9719",
   "metadata": {},
   "outputs": [],
   "source": [
    "#[{key:xx[key] for key in xx} for xx in x]"
   ]
  },
  {
   "cell_type": "code",
   "execution_count": null,
   "id": "ed314da3",
   "metadata": {},
   "outputs": [],
   "source": [
    "def get_lr(optimizer):\n",
    "    for param_group in optimizer.param_groups:\n",
    "        return param_group['lr']\n",
    "\n",
    "\n",
    "def train_model(model, train_loader, val_loader, loss, optimizer, num_epochs, scheduler, loss_train_history, loss_val_history):    \n",
    "    for epoch in range(num_epochs):\n",
    "        model.train()\n",
    "        loss_accum = 0\n",
    "        t1 = time.time()\n",
    "        for i_step, (x, y) in enumerate(train_loader):\n",
    "            prediction = model(x)    \n",
    "            loss_value = loss(prediction, y)\n",
    "            optimizer.zero_grad()\n",
    "            loss_value.backward()\n",
    "            optimizer.step()            \n",
    "            loss_accum += loss_value\n",
    "\n",
    "        ave_loss = loss_accum / (i_step + 1)\n",
    "        loss_val = compute_accuracy(model, val_loader, loss)\n",
    "        \n",
    "        loss_train_history.append(float(ave_loss))\n",
    "        loss_val_history.append(loss_val)\n",
    "        \n",
    "        if scheduler != None:\n",
    "            scheduler.step()\n",
    "        print(\"Epoch: %i lr: %f; Train loss: %f, Val loss: %f, time: %i s\" % (epoch, get_lr(optimizer), ave_loss, loss_val,\n",
    "                                                                            round(time.time() - t1)))\n",
    "    return loss_train_history, loss_val_history\n",
    "        \n",
    "    \n",
    "def compute_accuracy(model, loader, loss):\n",
    "    \"\"\"\n",
    "    Computes accuracy on the dataset wrapped in a loader    \n",
    "    Returns: accuracy as a float value between 0 and 1\n",
    "    \"\"\"\n",
    "    model.eval()\n",
    "    loss_accum = 0\n",
    "    for i_step, (x, y) in enumerate(loader):\n",
    "        prediction = model(x)\n",
    "        loss_value = loss(prediction, y)\n",
    "        loss_accum += loss_value\n",
    "\n",
    "    ave_loss = loss_accum / (i_step + 1)         \n",
    "    return float(ave_loss)"
   ]
  },
  {
   "cell_type": "code",
   "execution_count": null,
   "id": "97d5c366",
   "metadata": {},
   "outputs": [],
   "source": [
    "model = BstTransformer(len(movie_lookup), len(user_lookup), sequence_length, embedding_size=120).to(device)\n",
    "loss_func = torch.nn.MSELoss()\n",
    "optimizer = torch.optim.AdamW(model.parameters(), lr=0.01)\n",
    "\n",
    "scheduler = torch.optim.lr_scheduler.StepLR(optimizer, step_size=10, gamma=0.8)\n",
    "\n",
    "loss_train_history = []\n",
    "loss_val_history = []\n",
    "train_model(\n",
    "    model, \n",
    "    DataLoader(train_dataset, batch_size=10000),\n",
    "    DataLoader(valid_dataset, batch_size=10000),\n",
    "    loss_func, optimizer, 30, scheduler, loss_train_history, loss_val_history)\n",
    "print('end!')"
   ]
  },
  {
   "cell_type": "code",
   "execution_count": null,
   "id": "522c7384",
   "metadata": {},
   "outputs": [],
   "source": [
    "fig = plt.figure(figsize=(10, 8))    \n",
    "plt.xlabel(\"#iteration\")\n",
    "plt.ylabel(\"loss\")\n",
    "plt.plot(loss_train_history, label='train loss')\n",
    "plt.plot(loss_val_history, label='val loss')\n",
    "fig.legend()\n",
    "plt.show()"
   ]
  },
  {
   "cell_type": "markdown",
   "id": "893bae86",
   "metadata": {},
   "source": [
    "We can see that this is a significant improvement over the matrix factorization approach!"
   ]
  },
  {
   "cell_type": "markdown",
   "id": "43ae00c3",
   "metadata": {},
   "source": [
    "### Adding additional data"
   ]
  },
  {
   "cell_type": "markdown",
   "id": "9b2fab57",
   "metadata": {},
   "source": [
    "So far, we have only considered the user ID and a sequence of movie IDs to predict the rating; it seems likely that including information about the previous ratings made by the user would improve performance. Thankfully, this is easy to do, and the data is already being returned by our dataset. Let's tweak our architecture to include this:"
   ]
  },
  {
   "cell_type": "code",
   "execution_count": null,
   "id": "e4425d2a",
   "metadata": {},
   "outputs": [],
   "source": [
    "class BstTransformer(nn.Module):\n",
    "    def __init__(\n",
    "        self,\n",
    "        movies_num_unique,\n",
    "        users_num_unique,\n",
    "        sequence_length=10,\n",
    "        embedding_size=120,\n",
    "        num_transformer_layers=1,\n",
    "        ratings_range=(0.5, 5.5),\n",
    "    ):\n",
    "        super().__init__()\n",
    "        self.sequence_length = sequence_length\n",
    "        self.y_range = ratings_range\n",
    "        self.movies_embeddings = nn.Embedding(\n",
    "            movies_num_unique + 1, embedding_size, padding_idx=0\n",
    "        )\n",
    "        self.user_embeddings = nn.Embedding(users_num_unique + 1, embedding_size)\n",
    "        self.ratings_embeddings = nn.Embedding(6, embedding_size, padding_idx=0)\n",
    "        self.position_embeddings = nn.Embedding(sequence_length, embedding_size)\n",
    "\n",
    "        self.encoder = nn.TransformerEncoder(\n",
    "            encoder_layer=nn.TransformerEncoderLayer(\n",
    "                d_model=embedding_size,\n",
    "                nhead=12,\n",
    "                dropout=0.1,\n",
    "                batch_first=True,\n",
    "                activation=\"gelu\",\n",
    "            ),\n",
    "            num_layers=num_transformer_layers,\n",
    "        )\n",
    "\n",
    "        self.linear = nn.Sequential(\n",
    "            nn.Linear(\n",
    "                embedding_size + (embedding_size * sequence_length),\n",
    "                1024,\n",
    "            ),\n",
    "            nn.BatchNorm1d(1024),\n",
    "            nn.Mish(),\n",
    "            nn.Linear(1024, 512),\n",
    "            nn.BatchNorm1d(512),\n",
    "            nn.Mish(),\n",
    "            nn.Dropout(0.2),\n",
    "            nn.Linear(512, 256),\n",
    "            nn.BatchNorm1d(256),\n",
    "            nn.Mish(),\n",
    "            nn.Linear(256, 1),\n",
    "            nn.Sigmoid(),\n",
    "        )\n",
    "\n",
    "    def forward(self, inputs):\n",
    "        features, mask = inputs\n",
    "\n",
    "        encoded_user_id = self.user_embeddings(features[\"user_id\"])\n",
    "\n",
    "        user_features = encoded_user_id\n",
    "\n",
    "        movie_history = features[\"movie_ids\"][:, :-1]\n",
    "        target_movie = features[\"movie_ids\"][:, -1]\n",
    "\n",
    "        ratings = self.ratings_embeddings(features[\"ratings\"])\n",
    "\n",
    "        encoded_movies = self.movies_embeddings(movie_history)\n",
    "        encoded_target_movie = self.movies_embeddings(target_movie)\n",
    "\n",
    "        positions = torch.arange(\n",
    "            0,\n",
    "            self.sequence_length - 1,\n",
    "            1,\n",
    "            dtype=int,\n",
    "            device=features[\"movie_ids\"].device,\n",
    "        )\n",
    "        positions = self.position_embeddings(positions)\n",
    "\n",
    "        encoded_sequence_movies_with_position_and_rating = (\n",
    "            encoded_movies + ratings + positions\n",
    "        )\n",
    "        encoded_target_movie = encoded_target_movie.unsqueeze(1)\n",
    "\n",
    "        transformer_features = torch.cat(\n",
    "            (encoded_sequence_movies_with_position_and_rating, encoded_target_movie),\n",
    "            dim=1,\n",
    "        )\n",
    "        transformer_output = self.encoder(\n",
    "            transformer_features, src_key_padding_mask=mask\n",
    "        )\n",
    "        transformer_output = torch.flatten(transformer_output, start_dim=1)\n",
    "\n",
    "        combined_output = torch.cat((transformer_output, user_features), dim=1)\n",
    "\n",
    "        rating = self.linear(combined_output)\n",
    "        rating = rating.squeeze()\n",
    "        if self.y_range is None:\n",
    "            return rating\n",
    "        else:\n",
    "            return rating * (self.y_range[1] - self.y_range[0]) + self.y_range[0]\n"
   ]
  },
  {
   "cell_type": "markdown",
   "id": "cfdcbf1a",
   "metadata": {},
   "source": [
    "We can see that, to use the ratings data, we have added an additional embedding layer. For each previously rated movie, we then add together the movie embedding, the positional encoding and the rating embedding before feeding this sequence into the transformer. Alternatively, the rating data could be concatenated to, or multiplied with, the movie embedding, but adding them together worked the best out of the approaches that I tried.\n",
    "\n",
    "As Jupyter maintains a live state for each class definition, we don't need to update our training function; the new class will be used when we launch training:"
   ]
  },
  {
   "cell_type": "code",
   "execution_count": null,
   "id": "fcfd1f73",
   "metadata": {
    "scrolled": true
   },
   "outputs": [],
   "source": [
    "model = BstTransformer(len(movie_lookup), len(user_lookup), sequence_length, embedding_size=120).to(device)\n",
    "loss_func = torch.nn.MSELoss()\n",
    "optimizer = torch.optim.AdamW(model.parameters(), lr=0.01)\n",
    "\n",
    "scheduler = torch.optim.lr_scheduler.StepLR(optimizer, step_size=10, gamma=0.8)\n",
    "\n",
    "\n",
    "loss_train_history = []\n",
    "loss_val_history = []\n",
    "train_model(\n",
    "    model, \n",
    "    DataLoader(train_dataset, batch_size=10000),\n",
    "    DataLoader(valid_dataset, batch_size=10000),\n",
    "    loss_func, optimizer, 30, scheduler, loss_train_history, loss_val_history)\n",
    "print('end!')"
   ]
  },
  {
   "cell_type": "code",
   "execution_count": null,
   "id": "9a9bd685",
   "metadata": {},
   "outputs": [],
   "source": [
    "fig = plt.figure(figsize=(10, 8))    \n",
    "plt.xlabel(\"#iteration\")\n",
    "plt.ylabel(\"loss\")\n",
    "plt.plot(loss_train_history, label='train loss')\n",
    "plt.plot(loss_val_history, label='val loss')\n",
    "fig.legend()\n",
    "plt.show()"
   ]
  },
  {
   "cell_type": "code",
   "execution_count": null,
   "id": "04257221",
   "metadata": {},
   "outputs": [],
   "source": []
  },
  {
   "cell_type": "markdown",
   "id": "56896157",
   "metadata": {},
   "source": [
    "We can see that incorporating the ratings data has improved our results slightly!"
   ]
  },
  {
   "cell_type": "markdown",
   "id": "96290024",
   "metadata": {},
   "source": [
    "### Adding user features"
   ]
  },
  {
   "cell_type": "markdown",
   "id": "61193109",
   "metadata": {},
   "source": [
    "In addition to the ratings data, we also have more information about the users that we could add into the model. To remind ourselves, let's take a look at the users table:"
   ]
  },
  {
   "cell_type": "code",
   "execution_count": null,
   "id": "f52ba262",
   "metadata": {
    "scrolled": false
   },
   "outputs": [],
   "source": [
    "users"
   ]
  },
  {
   "cell_type": "markdown",
   "id": "630b10c1",
   "metadata": {},
   "source": [
    "Let's try adding in the categorical variables representing the users' sex, age groups, and occupation to the model, and see if we see any improvement. While occupation looks like it is already sequentially numerically encoded, we must do the same for the sex and age_group columns. We can use the 'LabelEncoder' class from scikit-learn to do this for us, and append the encoded columns to the DataFrame:"
   ]
  },
  {
   "cell_type": "code",
   "execution_count": null,
   "id": "2ed11ca9",
   "metadata": {},
   "outputs": [],
   "source": [
    "from sklearn.preprocessing import LabelEncoder"
   ]
  },
  {
   "cell_type": "code",
   "execution_count": null,
   "id": "355472a5",
   "metadata": {},
   "outputs": [],
   "source": [
    "le = LabelEncoder()"
   ]
  },
  {
   "cell_type": "code",
   "execution_count": null,
   "id": "bb1fda7b",
   "metadata": {},
   "outputs": [],
   "source": [
    "users['sex_encoded'] = le.fit_transform(users.sex)"
   ]
  },
  {
   "cell_type": "code",
   "execution_count": null,
   "id": "c1bef9bd",
   "metadata": {},
   "outputs": [],
   "source": [
    "users['age_group_encoded'] = le.fit_transform(users.age_group)"
   ]
  },
  {
   "cell_type": "code",
   "execution_count": null,
   "id": "39baba23",
   "metadata": {},
   "outputs": [],
   "source": [
    "users[\"user_id\"] = users[\"user_id\"].astype(str)"
   ]
  },
  {
   "cell_type": "markdown",
   "id": "b684dd4b",
   "metadata": {},
   "source": [
    "Now that we have all the features that we are going to use encoded, let's join the user features to our sequences DataFrame, and update our training and validation sets."
   ]
  },
  {
   "cell_type": "code",
   "execution_count": null,
   "id": "8e83f9a4",
   "metadata": {},
   "outputs": [],
   "source": [
    "seq_with_user_features = pd.merge(seq_df, users)"
   ]
  },
  {
   "cell_type": "code",
   "execution_count": null,
   "id": "2dd6c4a6",
   "metadata": {},
   "outputs": [],
   "source": [
    "train_df = seq_with_user_features[seq_with_user_features.is_valid == False]\n",
    "valid_df = seq_with_user_features[seq_with_user_features.is_valid == True]"
   ]
  },
  {
   "cell_type": "markdown",
   "id": "8100ddbc",
   "metadata": {},
   "source": [
    "Let's update our dataset to include these features."
   ]
  },
  {
   "cell_type": "code",
   "execution_count": null,
   "id": "9b08c3e8",
   "metadata": {},
   "outputs": [],
   "source": [
    "class MovieSequenceDataset(Dataset):\n",
    "    def __init__(self, df, movie_lookup, user_lookup):\n",
    "        super().__init__()\n",
    "        self.df = df\n",
    "        self.movie_lookup = movie_lookup\n",
    "        self.user_lookup = user_lookup\n",
    "\n",
    "    def __len__(self):\n",
    "        return len(self.df)\n",
    "\n",
    "    def __getitem__(self, index):\n",
    "        data = self.df.iloc[index]\n",
    "        user_id = torch.tensor(self.user_lookup[str(data.user_id)]).to(device)\n",
    "        movie_ids = torch.tensor([self.movie_lookup[title] for title in data.title]).to(device)\n",
    "\n",
    "        previous_ratings = torch.tensor(\n",
    "            [rating if rating != \"[PAD]\" else 0 for rating in data.previous_ratings]\n",
    "        ).to(device)\n",
    "\n",
    "        attention_mask = torch.tensor(data.pad_mask).to(device)\n",
    "        target_rating = data.target_rating\n",
    "        encoded_features = {\n",
    "            \"user_id\": user_id,\n",
    "            \"movie_ids\": movie_ids,\n",
    "            \"ratings\": previous_ratings,\n",
    "            \"age_group\": torch.tensor(data[\"age_group_encoded\"]).to(device),\n",
    "            \"sex\": torch.tensor(data[\"sex_encoded\"]).to(device),\n",
    "            \"occupation\": torch.tensor(data[\"occupation\"]).to(device),\n",
    "        }\n",
    "\n",
    "        return (encoded_features, attention_mask), torch.tensor(\n",
    "            target_rating, dtype=torch.float32\n",
    "        ).to(device)\n"
   ]
  },
  {
   "cell_type": "code",
   "execution_count": null,
   "id": "e3d48d7a",
   "metadata": {},
   "outputs": [],
   "source": [
    "train_dataset = MovieSequenceDataset(train_df, movie_lookup, user_lookup)\n",
    "valid_dataset = MovieSequenceDataset(valid_df, movie_lookup, user_lookup)"
   ]
  },
  {
   "cell_type": "markdown",
   "id": "39d0a744",
   "metadata": {},
   "source": [
    "We can now modify our architecture to include embeddings for these features and concatenate these embeddings to the output of the transformer; then we pass this into the feed-forward network."
   ]
  },
  {
   "cell_type": "code",
   "execution_count": null,
   "id": "24c7f7d8",
   "metadata": {},
   "outputs": [],
   "source": [
    "class BstTransformer(nn.Module):\n",
    "    def __init__(\n",
    "        self,\n",
    "        movies_num_unique,\n",
    "        users_num_unique,\n",
    "        sequence_length=10,\n",
    "        embedding_size=120,\n",
    "        num_transformer_layers=1,\n",
    "        ratings_range=(0.5, 5.5),\n",
    "    ):\n",
    "        super().__init__()\n",
    "        self.sequence_length = sequence_length\n",
    "        self.y_range = ratings_range\n",
    "        self.movies_embeddings = nn.Embedding(\n",
    "            movies_num_unique + 1, embedding_size, padding_idx=0\n",
    "        )\n",
    "        self.user_embeddings = nn.Embedding(users_num_unique + 1, embedding_size)\n",
    "        self.ratings_embeddings = nn.Embedding(6, embedding_size, padding_idx=0)\n",
    "        self.position_embeddings = nn.Embedding(sequence_length, embedding_size)\n",
    "\n",
    "        self.sex_embeddings = nn.Embedding(\n",
    "            3,\n",
    "            2,\n",
    "        )\n",
    "        self.occupation_embeddings = nn.Embedding(\n",
    "            22,\n",
    "            11,\n",
    "        )\n",
    "        self.age_group_embeddings = nn.Embedding(\n",
    "            8,\n",
    "            4,\n",
    "        )\n",
    "\n",
    "        self.encoder = nn.TransformerEncoder(\n",
    "            encoder_layer=nn.TransformerEncoderLayer(\n",
    "                d_model=embedding_size,\n",
    "                nhead=12,\n",
    "                dropout=0.1,\n",
    "                batch_first=True,\n",
    "                activation=\"gelu\",\n",
    "            ),\n",
    "            num_layers=num_transformer_layers,\n",
    "        )\n",
    "\n",
    "        self.linear = nn.Sequential(\n",
    "            nn.Linear(\n",
    "                embedding_size + (embedding_size * sequence_length) + 4 + 11 + 2,\n",
    "                1024,\n",
    "            ),\n",
    "            nn.BatchNorm1d(1024),\n",
    "            nn.Mish(),\n",
    "            nn.Linear(1024, 512),\n",
    "            nn.BatchNorm1d(512),\n",
    "            nn.Mish(),\n",
    "            nn.Dropout(0.2),\n",
    "            nn.Linear(512, 256),\n",
    "            nn.BatchNorm1d(256),\n",
    "            nn.Mish(),\n",
    "            nn.Linear(256, 1),\n",
    "            nn.Sigmoid(),\n",
    "        )\n",
    "\n",
    "    def forward(self, inputs):\n",
    "        features, mask = inputs\n",
    "\n",
    "        user_id = self.user_embeddings(features[\"user_id\"])\n",
    "\n",
    "        age_group = self.age_group_embeddings(features[\"age_group\"])\n",
    "        sex = self.sex_embeddings(features[\"sex\"])\n",
    "        occupation = self.occupation_embeddings(features[\"occupation\"])\n",
    "\n",
    "        user_features = user_features = torch.cat(\n",
    "            (user_id, sex, age_group, occupation), 1\n",
    "        )\n",
    "\n",
    "        movie_history = features[\"movie_ids\"][:, :-1]\n",
    "        target_movie = features[\"movie_ids\"][:, -1]\n",
    "\n",
    "        ratings = self.ratings_embeddings(features[\"ratings\"])\n",
    "\n",
    "        encoded_movies = self.movies_embeddings(movie_history)\n",
    "        encoded_target_movie = self.movies_embeddings(target_movie)\n",
    "\n",
    "        positions = torch.arange(\n",
    "            0,\n",
    "            self.sequence_length - 1,\n",
    "            1,\n",
    "            dtype=int,\n",
    "            device=features[\"movie_ids\"].device,\n",
    "        )\n",
    "        positions = self.position_embeddings(positions)\n",
    "\n",
    "        encoded_sequence_movies_with_position_and_rating = (\n",
    "            encoded_movies + ratings + positions\n",
    "        )\n",
    "        encoded_target_movie = encoded_target_movie.unsqueeze(1)\n",
    "\n",
    "        transformer_features = torch.cat(\n",
    "            (encoded_sequence_movies_with_position_and_rating, encoded_target_movie),\n",
    "            dim=1,\n",
    "        )\n",
    "        transformer_output = self.encoder(\n",
    "            transformer_features, src_key_padding_mask=mask\n",
    "        )\n",
    "        transformer_output = torch.flatten(transformer_output, start_dim=1)\n",
    "\n",
    "        combined_output = torch.cat((transformer_output, user_features), dim=1)\n",
    "\n",
    "        rating = self.linear(combined_output)\n",
    "        rating = rating.squeeze()\n",
    "        if self.y_range is None:\n",
    "            return rating\n",
    "        else:\n",
    "            return rating * (self.y_range[1] - self.y_range[0]) + self.y_range[0]\n"
   ]
  },
  {
   "cell_type": "code",
   "execution_count": null,
   "id": "3e3f4f7d",
   "metadata": {},
   "outputs": [],
   "source": [
    "len(train_dataset), len(valid_dataset)"
   ]
  },
  {
   "cell_type": "code",
   "execution_count": null,
   "id": "1d7abc27",
   "metadata": {
    "scrolled": true
   },
   "outputs": [],
   "source": [
    "model = BstTransformer(len(movie_lookup), len(user_lookup), sequence_length, embedding_size=120).to(device)\n",
    "loss_func = torch.nn.MSELoss()\n",
    "optimizer = torch.optim.AdamW(model.parameters(), lr=0.01)\n",
    "\n",
    "scheduler = torch.optim.lr_scheduler.StepLR(optimizer, step_size=10, gamma=0.8)\n",
    "\n",
    "\n",
    "loss_train_history = []\n",
    "loss_val_history = []\n",
    "train_model(\n",
    "    model, \n",
    "    DataLoader(train_dataset, batch_size=10000),\n",
    "    DataLoader(valid_dataset, batch_size=10000),\n",
    "    loss_func, optimizer, 30, scheduler, loss_train_history, loss_val_history)\n",
    "print('end!')"
   ]
  },
  {
   "cell_type": "code",
   "execution_count": null,
   "id": "6d737f39",
   "metadata": {},
   "outputs": [],
   "source": [
    "fig = plt.figure(figsize=(10, 8))    \n",
    "plt.xlabel(\"#iteration\")\n",
    "plt.ylabel(\"loss\")\n",
    "plt.plot(loss_train_history, label='train loss')\n",
    "plt.plot(loss_val_history, label='val loss')\n",
    "fig.legend()\n",
    "plt.show()"
   ]
  },
  {
   "cell_type": "code",
   "execution_count": null,
   "id": "37e17bf3",
   "metadata": {},
   "outputs": [],
   "source": []
  },
  {
   "cell_type": "markdown",
   "id": "cab3e0f1",
   "metadata": {},
   "source": [
    "Here, we can see a slight decrease in the MAE, but a small increase in the MSE and RMSE, so it looks like these features made a negligible difference to the overall performance."
   ]
  },
  {
   "cell_type": "markdown",
   "id": "73fcbe21",
   "metadata": {},
   "source": [
    "In writing this article, my main objective has been to try and illustrate how these approaches can be used, and so I've picked the hyperparameters somewhat arbitrarily; it's likely that with some hyperparameter tweaks, and different combinations of features, these metrics can probably be improved upon!\n",
    "\n",
    "Hopefully this has provided a good introduction to using both matrix factorization and transformer-based approaches in PyTorch, and how pytorch-accelerated can speed up our process when experimenting with different models!"
   ]
  },
  {
   "cell_type": "code",
   "execution_count": null,
   "id": "2a86dfa9",
   "metadata": {},
   "outputs": [],
   "source": []
  }
 ],
 "metadata": {
  "gist": {
   "data": {
    "description": "Comparing matrix factorixation with transformers using pytorch-accelerated blog post.ipynb",
    "public": true
   },
   "id": ""
  },
  "kernelspec": {
   "display_name": "Python 3 (ipykernel)",
   "language": "python",
   "name": "python3"
  },
  "language_info": {
   "codemirror_mode": {
    "name": "ipython",
    "version": 3
   },
   "file_extension": ".py",
   "mimetype": "text/x-python",
   "name": "python",
   "nbconvert_exporter": "python",
   "pygments_lexer": "ipython3",
   "version": "3.10.4"
  }
 },
 "nbformat": 4,
 "nbformat_minor": 5
}
