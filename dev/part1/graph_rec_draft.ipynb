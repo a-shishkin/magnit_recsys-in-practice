{
 "cells": [
  {
   "cell_type": "code",
   "execution_count": 1,
   "id": "dfa736e2",
   "metadata": {},
   "outputs": [],
   "source": [
    "import pandas as pd\n",
    "import numpy as np\n",
    "from scipy import sparse\n",
    "from sklearn.preprocessing import normalize\n",
    "from tqdm.notebook import tqdm"
   ]
  },
  {
   "cell_type": "code",
   "execution_count": 2,
   "id": "30aca3ce",
   "metadata": {},
   "outputs": [],
   "source": [
    "train_joke_df = pd.read_csv(r'data\\recsys-in-practice\\train_joke_df.csv')"
   ]
  },
  {
   "cell_type": "code",
   "execution_count": 32,
   "id": "cb7ea2e9",
   "metadata": {},
   "outputs": [],
   "source": [
    "test_joke_df_nofactrating = pd.read_csv(r'data\\recsys-in-practice\\test_joke_df_nofactrating.csv', index_col=0)\n"
   ]
  },
  {
   "cell_type": "code",
   "execution_count": null,
   "id": "96b0dcbf",
   "metadata": {},
   "outputs": [],
   "source": []
  },
  {
   "cell_type": "code",
   "execution_count": null,
   "id": "9216c726",
   "metadata": {},
   "outputs": [],
   "source": []
  },
  {
   "cell_type": "code",
   "execution_count": null,
   "id": "23089183",
   "metadata": {},
   "outputs": [],
   "source": []
  },
  {
   "cell_type": "code",
   "execution_count": null,
   "id": "d008a45a",
   "metadata": {},
   "outputs": [],
   "source": []
  },
  {
   "cell_type": "code",
   "execution_count": 5,
   "id": "0f9f62e0",
   "metadata": {},
   "outputs": [],
   "source": [
    "rows, r_pos = np.unique(train_joke_df.values[:,0], return_inverse=True)\n",
    "cols, c_pos = np.unique(train_joke_df.values[:,1], return_inverse=True)"
   ]
  },
  {
   "cell_type": "code",
   "execution_count": 6,
   "id": "c8268e33",
   "metadata": {},
   "outputs": [],
   "source": [
    "interactions_sparse = sparse.csr_matrix((train_joke_df.values[:,2], (r_pos, c_pos)) )"
   ]
  },
  {
   "cell_type": "code",
   "execution_count": 7,
   "id": "ae1d7b18",
   "metadata": {},
   "outputs": [
    {
     "data": {
      "text/plain": [
       "<24983x100 sparse matrix of type '<class 'numpy.float64'>'\n",
       "\twith 1448364 stored elements in Compressed Sparse Row format>"
      ]
     },
     "execution_count": 7,
     "metadata": {},
     "output_type": "execute_result"
    }
   ],
   "source": [
    "interactions_sparse"
   ]
  },
  {
   "cell_type": "code",
   "execution_count": 8,
   "id": "34aff0bc",
   "metadata": {},
   "outputs": [],
   "source": [
    "Pui = normalize(interactions_sparse, norm='l2', axis=1)\n",
    "\n",
    "\n",
    "#Похожесть айтемов между собой\n",
    "sim = Pui.T * Pui"
   ]
  },
  {
   "cell_type": "code",
   "execution_count": 9,
   "id": "fd4ba26d",
   "metadata": {},
   "outputs": [
    {
     "data": {
      "text/plain": [
       "<24983x24983 sparse matrix of type '<class 'numpy.float64'>'\n",
       "\twith 624150287 stored elements in Compressed Sparse Row format>"
      ]
     },
     "execution_count": 9,
     "metadata": {},
     "output_type": "execute_result"
    }
   ],
   "source": [
    "#Похожесть юзеров между собой\n",
    "sim_users = Pui * Pui.T\n",
    "sim_users"
   ]
  },
  {
   "cell_type": "code",
   "execution_count": 11,
   "id": "ca30ec5f",
   "metadata": {},
   "outputs": [
    {
     "data": {
      "text/plain": [
       "matrix([[ 1.        , -0.32886076, -0.05105598, ...,  0.04466449,\n",
       "          0.13495061,  0.00450064]])"
      ]
     },
     "execution_count": 11,
     "metadata": {},
     "output_type": "execute_result"
    }
   ],
   "source": [
    "sim_users[0].todense()"
   ]
  },
  {
   "cell_type": "code",
   "execution_count": 12,
   "id": "5c5723c3",
   "metadata": {},
   "outputs": [
    {
     "data": {
      "text/plain": [
       "matrix([[-0.32886076,  1.        ,  0.1048572 , ...,  0.03399436,\n",
       "          0.08046437, -0.09067869]])"
      ]
     },
     "execution_count": 12,
     "metadata": {},
     "output_type": "execute_result"
    }
   ],
   "source": [
    "sim_users[1].todense()"
   ]
  },
  {
   "cell_type": "code",
   "execution_count": 13,
   "id": "1e0c1180",
   "metadata": {},
   "outputs": [
    {
     "data": {
      "text/plain": [
       "matrix([[191.07311367,  60.43840259,  52.83384167,  28.04325073,\n",
       "          24.20506023,  31.99753946,  26.75149782,  22.71598567,\n",
       "          36.12964816,  53.13055994,  42.88534622,  34.60076924,\n",
       "          11.61206151,  31.98162676,  15.36565396,  -1.38043076,\n",
       "          -0.4595844 ,  21.4952042 ,   9.33921007,   4.21899774,\n",
       "          31.83512362,  41.1909143 ,  39.24330865,  26.70612458,\n",
       "          43.16902966,  31.79947415,  37.67814938,  30.34399662,\n",
       "          41.16226781,  29.9540124 ,  38.41047716,  33.31608312,\n",
       "          33.79706252,  31.60737719,  40.37688215,  43.45939253,\n",
       "          35.79970727,  47.73466586,  29.17191896,  41.19286054,\n",
       "          38.46213332,  30.59616699,  32.36762102,  30.29309382,\n",
       "          40.79077987,  40.64103769,  26.71093908,  37.92447245,\n",
       "          33.19954096,  40.69990432,  27.73166011,  28.87218379,\n",
       "          30.59799074,  32.5245291 ,  41.14723434,  38.50738234,\n",
       "          26.03686651,   6.18778783,  33.39123887,  43.02921597,\n",
       "          34.11394525,  37.7915026 ,  34.30830165,  44.64831637,\n",
       "          29.42538337,  39.06469383,  30.04514525,  32.91469541,\n",
       "          39.95234038,  31.88896533,   5.27511796,  14.46914424,\n",
       "           7.27254563,   4.91942438,   4.16080844,  14.79581014,\n",
       "           6.49245959,  10.72255697,   4.5421621 ,   9.39198048,\n",
       "          17.97978573,  12.11810141,  14.6828905 ,  13.17796562,\n",
       "          12.65342294,  14.98475902,  20.3297464 ,  19.22115092,\n",
       "          19.37642545,  10.38416391,  17.01470039,  12.20864268,\n",
       "          18.81050673,  18.24101797,  17.10027197,  16.99486316,\n",
       "          19.36393238,  12.80092839,  11.73757033,  19.20187619]])"
      ]
     },
     "execution_count": 13,
     "metadata": {},
     "output_type": "execute_result"
    }
   ],
   "source": [
    "sim[0].todense()"
   ]
  },
  {
   "cell_type": "code",
   "execution_count": 14,
   "id": "2f3a7db9",
   "metadata": {},
   "outputs": [
    {
     "data": {
      "text/plain": [
       "matrix([[ 60.43840259, 255.13400129,  47.34599805,  42.17122746,\n",
       "          35.93679996,  33.72536026,  34.15082618,  18.952618  ,\n",
       "          31.30137046,  48.40225002,  48.03973384,  50.17133963,\n",
       "          30.4541686 ,  53.78976765,  22.65557587,   2.9522168 ,\n",
       "          15.0966236 ,  19.38169812,   9.55430045,  10.60698601,\n",
       "          47.9172747 ,  52.03178739,  39.48661494,  25.57735813,\n",
       "          67.24750414,  54.61200355,  33.49978603,  25.23996227,\n",
       "          56.60236092,  30.40632464,  49.79722229,  26.94440293,\n",
       "          41.5339028 ,  43.88774106,  43.28724243,  35.4423671 ,\n",
       "          42.615765  ,  45.47604235,  45.9069255 ,  47.31046378,\n",
       "          47.54681634,  41.75542791,  29.05783431,  28.73279776,\n",
       "          46.76902764,  44.33341236,  21.48326177,  34.28505528,\n",
       "          30.90320607,  39.86579993,  54.36136748,  53.55896835,\n",
       "          40.50055372,  29.19396134,  35.69046317,  49.28430042,\n",
       "          25.51979698,  16.88704752,  37.77728625,  36.82166587,\n",
       "          36.02732052,  24.01927343,  34.79984481,  36.8128816 ,\n",
       "          38.25610657,  35.20286293,  27.59021177,  22.8567054 ,\n",
       "          46.44921111,  35.20508734,   7.14299392,  13.11184889,\n",
       "           7.42770241,   9.74863631,   5.3182284 ,  13.5262348 ,\n",
       "           5.67908424,   8.59225745,   3.48150531,  10.60072813,\n",
       "          18.78098425,   7.10628912,  15.2285368 ,  10.84935163,\n",
       "          13.22963949,   9.17724679,  13.92945788,  12.88443554,\n",
       "          10.95457298,   7.08751746,  13.92359642,  10.90810704,\n",
       "          14.10113267,   9.63176934,   9.9917029 ,  12.26246652,\n",
       "          14.68625302,  22.74549257,   9.47176896,  23.74730389]])"
      ]
     },
     "execution_count": 14,
     "metadata": {},
     "output_type": "execute_result"
    }
   ],
   "source": [
    "sim[1].todense()"
   ]
  },
  {
   "cell_type": "code",
   "execution_count": null,
   "id": "a4fa4aa2",
   "metadata": {},
   "outputs": [],
   "source": [
    "sim.todense().shape"
   ]
  },
  {
   "cell_type": "code",
   "execution_count": null,
   "id": "18248d51",
   "metadata": {},
   "outputs": [],
   "source": [
    "sim.todense()"
   ]
  },
  {
   "cell_type": "code",
   "execution_count": 27,
   "id": "eec8303f",
   "metadata": {},
   "outputs": [
    {
     "data": {
      "text/plain": [
       "[3914,\n",
       " 18217,\n",
       " 8800,\n",
       " 13711,\n",
       " 9985,\n",
       " 19185,\n",
       " 8157,\n",
       " 15952,\n",
       " 23897,\n",
       " 13691,\n",
       " 1584,\n",
       " 18179,\n",
       " 4499,\n",
       " 8334,\n",
       " 18058,\n",
       " 15460,\n",
       " 15046,\n",
       " 2336,\n",
       " 6671,\n",
       " 1]"
      ]
     },
     "execution_count": 27,
     "metadata": {},
     "output_type": "execute_result"
    }
   ],
   "source": [
    "[i+1 for i in sim_users[0].toarray().argsort()[0][-20:]]"
   ]
  },
  {
   "cell_type": "code",
   "execution_count": null,
   "id": "178d5342",
   "metadata": {},
   "outputs": [],
   "source": []
  },
  {
   "cell_type": "code",
   "execution_count": 16,
   "id": "2f0ab0e8",
   "metadata": {},
   "outputs": [],
   "source": [
    "train_joke_df_grouped = train_joke_df.groupby(by='UID').agg({'JID':list})"
   ]
  },
  {
   "cell_type": "code",
   "execution_count": 19,
   "id": "a5a726db",
   "metadata": {},
   "outputs": [
    {
     "data": {
      "text/html": [
       "<div>\n",
       "<style scoped>\n",
       "    .dataframe tbody tr th:only-of-type {\n",
       "        vertical-align: middle;\n",
       "    }\n",
       "\n",
       "    .dataframe tbody tr th {\n",
       "        vertical-align: top;\n",
       "    }\n",
       "\n",
       "    .dataframe thead th {\n",
       "        text-align: right;\n",
       "    }\n",
       "</style>\n",
       "<table border=\"1\" class=\"dataframe\">\n",
       "  <thead>\n",
       "    <tr style=\"text-align: right;\">\n",
       "      <th></th>\n",
       "      <th>JID</th>\n",
       "    </tr>\n",
       "    <tr>\n",
       "      <th>UID</th>\n",
       "      <th></th>\n",
       "    </tr>\n",
       "  </thead>\n",
       "  <tbody>\n",
       "    <tr>\n",
       "      <th>1</th>\n",
       "      <td>[53, 30, 15, 7, 29, 38, 20, 32, 54, 59, 3, 82,...</td>\n",
       "    </tr>\n",
       "    <tr>\n",
       "      <th>2</th>\n",
       "      <td>[4, 10, 6, 32, 26, 2, 13, 21, 69, 38, 61, 65, ...</td>\n",
       "    </tr>\n",
       "    <tr>\n",
       "      <th>3</th>\n",
       "      <td>[18, 60, 90, 15, 16, 54, 45, 11, 31, 39, 43, 1...</td>\n",
       "    </tr>\n",
       "    <tr>\n",
       "      <th>4</th>\n",
       "      <td>[17, 20, 16, 62, 21, 10, 36, 7, 42, 11, 61, 65...</td>\n",
       "    </tr>\n",
       "    <tr>\n",
       "      <th>5</th>\n",
       "      <td>[57, 82, 90, 20, 51, 95, 50, 77, 12, 45, 16, 5...</td>\n",
       "    </tr>\n",
       "    <tr>\n",
       "      <th>...</th>\n",
       "      <td>...</td>\n",
       "    </tr>\n",
       "    <tr>\n",
       "      <th>24979</th>\n",
       "      <td>[38, 66, 94, 61, 28, 80, 83, 7, 62, 18, 17, 32...</td>\n",
       "    </tr>\n",
       "    <tr>\n",
       "      <th>24980</th>\n",
       "      <td>[9, 58, 56, 53, 27, 35, 31, 29, 68, 59, 94, 10...</td>\n",
       "    </tr>\n",
       "    <tr>\n",
       "      <th>24981</th>\n",
       "      <td>[35, 49, 38, 54, 13, 41, 14, 56, 72, 20, 17, 6...</td>\n",
       "    </tr>\n",
       "    <tr>\n",
       "      <th>24982</th>\n",
       "      <td>[21, 17, 15, 55, 61, 49, 56, 68, 7, 66, 48, 18...</td>\n",
       "    </tr>\n",
       "    <tr>\n",
       "      <th>24983</th>\n",
       "      <td>[3, 66, 33, 62, 5, 31, 39, 27, 29, 24, 18, 67,...</td>\n",
       "    </tr>\n",
       "  </tbody>\n",
       "</table>\n",
       "<p>24983 rows × 1 columns</p>\n",
       "</div>"
      ],
      "text/plain": [
       "                                                     JID\n",
       "UID                                                     \n",
       "1      [53, 30, 15, 7, 29, 38, 20, 32, 54, 59, 3, 82,...\n",
       "2      [4, 10, 6, 32, 26, 2, 13, 21, 69, 38, 61, 65, ...\n",
       "3      [18, 60, 90, 15, 16, 54, 45, 11, 31, 39, 43, 1...\n",
       "4      [17, 20, 16, 62, 21, 10, 36, 7, 42, 11, 61, 65...\n",
       "5      [57, 82, 90, 20, 51, 95, 50, 77, 12, 45, 16, 5...\n",
       "...                                                  ...\n",
       "24979  [38, 66, 94, 61, 28, 80, 83, 7, 62, 18, 17, 32...\n",
       "24980  [9, 58, 56, 53, 27, 35, 31, 29, 68, 59, 94, 10...\n",
       "24981  [35, 49, 38, 54, 13, 41, 14, 56, 72, 20, 17, 6...\n",
       "24982  [21, 17, 15, 55, 61, 49, 56, 68, 7, 66, 48, 18...\n",
       "24983  [3, 66, 33, 62, 5, 31, 39, 27, 29, 24, 18, 67,...\n",
       "\n",
       "[24983 rows x 1 columns]"
      ]
     },
     "execution_count": 19,
     "metadata": {},
     "output_type": "execute_result"
    }
   ],
   "source": [
    "train_joke_df_grouped"
   ]
  },
  {
   "cell_type": "code",
   "execution_count": 30,
   "id": "e430a810",
   "metadata": {},
   "outputs": [
    {
     "data": {
      "text/plain": [
       "array([ 1,  2,  3,  4,  5,  6,  7,  8,  9, 10, 12, 13, 14, 15, 16, 17, 18,\n",
       "       20, 21, 22, 23, 24, 26, 27, 28, 29, 30, 32, 33, 35, 36, 37, 38, 41,\n",
       "       42, 43, 44, 45, 47, 48, 50, 51, 52, 53, 54, 55, 56, 57, 58, 59, 61,\n",
       "       62, 63, 64, 66, 67, 68, 69, 70, 78, 82, 97])"
      ]
     },
     "execution_count": 30,
     "metadata": {},
     "output_type": "execute_result"
    }
   ],
   "source": [
    "np.sort(train_joke_df_grouped.loc[1].values[0])"
   ]
  },
  {
   "cell_type": "code",
   "execution_count": 31,
   "id": "22f7a6ce",
   "metadata": {},
   "outputs": [
    {
     "data": {
      "text/plain": [
       "array([ 1,  2,  3,  4,  5,  6,  7,  8,  9, 10, 11, 12, 13, 15, 16, 17, 18,\n",
       "       19, 20, 21, 22, 23, 24, 25, 26, 28, 29, 31, 32, 33, 34, 35, 36, 37,\n",
       "       38, 39, 40, 41, 42, 43, 44, 45, 46, 48, 49, 51, 52, 54, 55, 56, 57,\n",
       "       58, 59, 61, 63, 64, 65, 67, 69, 70, 89])"
      ]
     },
     "execution_count": 31,
     "metadata": {},
     "output_type": "execute_result"
    }
   ],
   "source": [
    "np.sort(train_joke_df_grouped.loc[6671].values[0])"
   ]
  },
  {
   "cell_type": "code",
   "execution_count": null,
   "id": "99ba4b44",
   "metadata": {},
   "outputs": [],
   "source": []
  },
  {
   "cell_type": "code",
   "execution_count": 45,
   "id": "f2fbabcb",
   "metadata": {},
   "outputs": [
    {
     "data": {
      "text/plain": [
       "[8769, 6436, 11228]"
      ]
     },
     "execution_count": 45,
     "metadata": {},
     "output_type": "execute_result"
    }
   ],
   "source": [
    "xx = [i for i in sim_users[11228].toarray().argsort()[0][-3:]]\n",
    "\n",
    "xx"
   ]
  },
  {
   "cell_type": "code",
   "execution_count": 46,
   "id": "9d602a1e",
   "metadata": {},
   "outputs": [
    {
     "data": {
      "text/plain": [
       "[10, 20, 39]"
      ]
     },
     "execution_count": 46,
     "metadata": {},
     "output_type": "execute_result"
    }
   ],
   "source": [
    "yy = [i for i in sim[39].toarray().argsort()[0][-3:]]\n",
    "yy"
   ]
  },
  {
   "cell_type": "code",
   "execution_count": 47,
   "id": "64946698",
   "metadata": {},
   "outputs": [
    {
     "data": {
      "text/plain": [
       "[0.0, 7.52, 0.0, 3.35, 8.45, 3.64, -0.34, 8.11, -7.18]"
      ]
     },
     "execution_count": 47,
     "metadata": {},
     "output_type": "execute_result"
    }
   ],
   "source": [
    "ratings = []\n",
    "for x in xx:\n",
    "    for y in yy:\n",
    "        ratings.append(interactions_sparse[x, y])\n",
    "ratings   "
   ]
  },
  {
   "cell_type": "code",
   "execution_count": 53,
   "id": "9da11ce9",
   "metadata": {},
   "outputs": [
    {
     "data": {
      "text/plain": [
       "array([], shape=(0, 3), dtype=float64)"
      ]
     },
     "execution_count": 53,
     "metadata": {},
     "output_type": "execute_result"
    }
   ],
   "source": [
    "train_joke_df.loc[(train_joke_df.UID == 11228) & (train_joke_df.JID == 39)].values"
   ]
  },
  {
   "cell_type": "code",
   "execution_count": 56,
   "id": "eadddba4",
   "metadata": {},
   "outputs": [
    {
     "data": {
      "text/plain": [
       "8.5"
      ]
     },
     "execution_count": 56,
     "metadata": {},
     "output_type": "execute_result"
    }
   ],
   "source": [
    "train_joke_df.loc[(train_joke_df.UID == 11229) & (train_joke_df.JID == 6)].values[0][2]"
   ]
  },
  {
   "cell_type": "code",
   "execution_count": null,
   "id": "91750f98",
   "metadata": {},
   "outputs": [],
   "source": [
    "n_neig = 3\n",
    "\n",
    "result = []\n",
    "err = 0\n",
    "err_list = []\n",
    "for i, row in enumerate(tqdm(test_joke_df_nofactrating.values)):\n",
    "    user = int(row[0])\n",
    "    joke = int(row[1])\n",
    "    \n",
    "    user_id = int(row[0]) - 1\n",
    "    joke_id = int(row[1]) - 1\n",
    "    \n",
    "    sim_jokes = [i for i in sim[joke_id].toarray().argsort()[0][-n_neig:]]\n",
    "    ratings = []\n",
    "    \n",
    "    for j in sim_jokes:\n",
    "        rating_df = train_joke_df.loc[(train_joke_df.UID == user) & (train_joke_df.JID == joke)].values\n",
    "        if len(rating) > 0:\n",
    "            rating = rating_df[0][2]\n",
    "            ratings.append(rating)\n",
    "            \n",
    "    result.append(np.mean(ratings))"
   ]
  },
  {
   "cell_type": "code",
   "execution_count": null,
   "id": "74f81490",
   "metadata": {},
   "outputs": [],
   "source": []
  },
  {
   "cell_type": "code",
   "execution_count": 33,
   "id": "9194f5d8",
   "metadata": {},
   "outputs": [
    {
     "data": {
      "text/html": [
       "<div>\n",
       "<style scoped>\n",
       "    .dataframe tbody tr th:only-of-type {\n",
       "        vertical-align: middle;\n",
       "    }\n",
       "\n",
       "    .dataframe tbody tr th {\n",
       "        vertical-align: top;\n",
       "    }\n",
       "\n",
       "    .dataframe thead th {\n",
       "        text-align: right;\n",
       "    }\n",
       "</style>\n",
       "<table border=\"1\" class=\"dataframe\">\n",
       "  <thead>\n",
       "    <tr style=\"text-align: right;\">\n",
       "      <th></th>\n",
       "      <th>UID</th>\n",
       "      <th>JID</th>\n",
       "    </tr>\n",
       "    <tr>\n",
       "      <th>InteractionID</th>\n",
       "      <th></th>\n",
       "      <th></th>\n",
       "    </tr>\n",
       "  </thead>\n",
       "  <tbody>\n",
       "    <tr>\n",
       "      <th>0</th>\n",
       "      <td>11228</td>\n",
       "      <td>39</td>\n",
       "    </tr>\n",
       "    <tr>\n",
       "      <th>1</th>\n",
       "      <td>21724</td>\n",
       "      <td>85</td>\n",
       "    </tr>\n",
       "    <tr>\n",
       "      <th>2</th>\n",
       "      <td>16782</td>\n",
       "      <td>56</td>\n",
       "    </tr>\n",
       "    <tr>\n",
       "      <th>3</th>\n",
       "      <td>12105</td>\n",
       "      <td>42</td>\n",
       "    </tr>\n",
       "    <tr>\n",
       "      <th>4</th>\n",
       "      <td>14427</td>\n",
       "      <td>2</td>\n",
       "    </tr>\n",
       "    <tr>\n",
       "      <th>...</th>\n",
       "      <td>...</td>\n",
       "      <td>...</td>\n",
       "    </tr>\n",
       "    <tr>\n",
       "      <th>362086</th>\n",
       "      <td>3085</td>\n",
       "      <td>66</td>\n",
       "    </tr>\n",
       "    <tr>\n",
       "      <th>362087</th>\n",
       "      <td>13765</td>\n",
       "      <td>31</td>\n",
       "    </tr>\n",
       "    <tr>\n",
       "      <th>362088</th>\n",
       "      <td>10341</td>\n",
       "      <td>29</td>\n",
       "    </tr>\n",
       "    <tr>\n",
       "      <th>362089</th>\n",
       "      <td>3553</td>\n",
       "      <td>8</td>\n",
       "    </tr>\n",
       "    <tr>\n",
       "      <th>362090</th>\n",
       "      <td>1199</td>\n",
       "      <td>67</td>\n",
       "    </tr>\n",
       "  </tbody>\n",
       "</table>\n",
       "<p>362091 rows × 2 columns</p>\n",
       "</div>"
      ],
      "text/plain": [
       "                 UID  JID\n",
       "InteractionID            \n",
       "0              11228   39\n",
       "1              21724   85\n",
       "2              16782   56\n",
       "3              12105   42\n",
       "4              14427    2\n",
       "...              ...  ...\n",
       "362086          3085   66\n",
       "362087         13765   31\n",
       "362088         10341   29\n",
       "362089          3553    8\n",
       "362090          1199   67\n",
       "\n",
       "[362091 rows x 2 columns]"
      ]
     },
     "execution_count": 33,
     "metadata": {},
     "output_type": "execute_result"
    }
   ],
   "source": [
    "test_joke_df_nofactrating"
   ]
  },
  {
   "cell_type": "code",
   "execution_count": null,
   "id": "15a801a1",
   "metadata": {},
   "outputs": [],
   "source": []
  },
  {
   "cell_type": "code",
   "execution_count": null,
   "id": "d3b3c06e",
   "metadata": {},
   "outputs": [],
   "source": []
  },
  {
   "cell_type": "code",
   "execution_count": null,
   "id": "cf8b49eb",
   "metadata": {},
   "outputs": [],
   "source": [
    "sim[0].todense()"
   ]
  },
  {
   "cell_type": "code",
   "execution_count": null,
   "id": "ea548550",
   "metadata": {},
   "outputs": [],
   "source": [
    "sim[22].todense()"
   ]
  },
  {
   "cell_type": "code",
   "execution_count": null,
   "id": "a3d443a6",
   "metadata": {},
   "outputs": [],
   "source": []
  },
  {
   "cell_type": "code",
   "execution_count": null,
   "id": "e3cfa6e5",
   "metadata": {},
   "outputs": [],
   "source": [
    "interactions_sparse_transposed = interactions_sparse.transpose(copy=True)\n",
    "Piu = normalize(interactions_sparse_transposed, norm='l1', axis=1)"
   ]
  },
  {
   "cell_type": "code",
   "execution_count": null,
   "id": "9029a414",
   "metadata": {},
   "outputs": [],
   "source": [
    "#https://nms.kcl.ac.uk/colin.cooper/papers/recommender-rw.pdf\n",
    "#Случайный обход графа\n",
    "#Результат - матрица с большим количеством элементов, мы попытались восстановить пропуски\n",
    "# в оценках пользователей для айтемов\n",
    "fit = Pui * Piu * Pui\n"
   ]
  },
  {
   "cell_type": "code",
   "execution_count": null,
   "id": "c2e8ae1e",
   "metadata": {
    "scrolled": true
   },
   "outputs": [],
   "source": [
    "fit"
   ]
  },
  {
   "cell_type": "code",
   "execution_count": null,
   "id": "78f51b10",
   "metadata": {},
   "outputs": [],
   "source": []
  },
  {
   "cell_type": "code",
   "execution_count": null,
   "id": "22d6d392",
   "metadata": {},
   "outputs": [],
   "source": []
  },
  {
   "cell_type": "code",
   "execution_count": null,
   "id": "6c0112dc",
   "metadata": {},
   "outputs": [],
   "source": [
    "result = []\n",
    "err = 0\n",
    "err_list = []\n",
    "for i, row in enumerate(tqdm(test_joke_df_nofactrating.values)):\n",
    "    try:\n",
    "        user_id = int(row[0]) - 1\n",
    "        joke_id = int(row[1]) - 1\n",
    "        r = fit[user_id].toarray()[joke_id]\n",
    "        result.append(r)\n",
    "    except Exception as ex:\n",
    "        result.append(0)\n",
    "        err += 1\n",
    "        err_list.append(i)"
   ]
  },
  {
   "cell_type": "code",
   "execution_count": null,
   "id": "4a78e81e",
   "metadata": {},
   "outputs": [],
   "source": [
    "err, err_list[:10]"
   ]
  },
  {
   "cell_type": "code",
   "execution_count": null,
   "id": "be10b00f",
   "metadata": {},
   "outputs": [],
   "source": [
    "test_joke_df_nofactrating['Rating'] = result\n",
    "test_joke_df_nofactrating"
   ]
  },
  {
   "cell_type": "code",
   "execution_count": null,
   "id": "2594597b",
   "metadata": {},
   "outputs": [],
   "source": [
    "test_joke_df_nofactrating['Rating'].to_frame().to_csv('graph_rec.csv')"
   ]
  },
  {
   "cell_type": "code",
   "execution_count": null,
   "id": "8019400c",
   "metadata": {},
   "outputs": [],
   "source": []
  },
  {
   "cell_type": "code",
   "execution_count": null,
   "id": "01f6d983",
   "metadata": {},
   "outputs": [],
   "source": []
  },
  {
   "cell_type": "code",
   "execution_count": null,
   "id": "0d82d86c",
   "metadata": {},
   "outputs": [],
   "source": []
  },
  {
   "cell_type": "code",
   "execution_count": null,
   "id": "b34e0b68",
   "metadata": {},
   "outputs": [],
   "source": [
    "init_set = set([titles_dict[i+1] for i in np.nonzero(interactions_sparse[520])[1].tolist()])"
   ]
  },
  {
   "cell_type": "code",
   "execution_count": null,
   "id": "d5c1a3f5",
   "metadata": {},
   "outputs": [],
   "source": [
    "predict_set = set([titles_dict[i+1] for i in fit[520].toarray().argsort()[0][-70:].tolist()])"
   ]
  },
  {
   "cell_type": "code",
   "execution_count": null,
   "id": "25e7d8df",
   "metadata": {},
   "outputs": [],
   "source": [
    "predict_set - init_set"
   ]
  },
  {
   "cell_type": "code",
   "execution_count": null,
   "id": "7831d643",
   "metadata": {},
   "outputs": [],
   "source": []
  },
  {
   "cell_type": "code",
   "execution_count": null,
   "id": "692f45d2",
   "metadata": {},
   "outputs": [],
   "source": []
  },
  {
   "cell_type": "code",
   "execution_count": null,
   "id": "fcfe60ad",
   "metadata": {},
   "outputs": [],
   "source": []
  },
  {
   "cell_type": "code",
   "execution_count": null,
   "id": "42651445",
   "metadata": {},
   "outputs": [],
   "source": []
  }
 ],
 "metadata": {
  "kernelspec": {
   "display_name": "Python 3 (ipykernel)",
   "language": "python",
   "name": "python3"
  },
  "language_info": {
   "codemirror_mode": {
    "name": "ipython",
    "version": 3
   },
   "file_extension": ".py",
   "mimetype": "text/x-python",
   "name": "python",
   "nbconvert_exporter": "python",
   "pygments_lexer": "ipython3",
   "version": "3.9.12"
  }
 },
 "nbformat": 4,
 "nbformat_minor": 5
}
