{
 "cells": [
  {
   "cell_type": "markdown",
   "id": "5b272efa-fdb0-43ec-ab5b-abf7ca37b21d",
   "metadata": {
    "id": "5b272efa-fdb0-43ec-ab5b-abf7ca37b21d"
   },
   "source": [
    "Для первой задачи мы используем данные [Jester Online Joke Recommender System](https://goldberg.berkeley.edu/jester-data/)"
   ]
  },
  {
   "cell_type": "markdown",
   "id": "85eb8247-1067-47e5-9a19-f5d20d4b2fd5",
   "metadata": {
    "id": "85eb8247-1067-47e5-9a19-f5d20d4b2fd5"
   },
   "source": [
    "**Описание данных**\n",
    "\n",
    "Файл `train_joke_df.csv` содержит:\n",
    "- UID - id пользователей\n",
    "- JID - id шуток, которые \n",
    "- Ratin - рейтинг шутки, который проставил пользователь \n",
    "\n",
    "\n",
    "Рейтинг имеет значение от -10.00 до 10.00. Могут встречаться значения 99.00, но это обозначает Null (нет рейтинга от пользователя).\n",
    "\n",
    "Метрика для оценки [RMSE](https://www.codecamp.ru/blog/how-to-interpret-rmse/)\n",
    "\n",
    "Минимальный RMSE: `4.2238`\n",
    "\n"
   ]
  },
  {
   "cell_type": "code",
   "execution_count": 1,
   "id": "ec9f8af1-f94e-4955-a420-39aa18f37806",
   "metadata": {
    "colab": {
     "base_uri": "https://localhost:8080/"
    },
    "id": "ec9f8af1-f94e-4955-a420-39aa18f37806",
    "outputId": "62b72c77-065d-4e2b-8521-204030cba0aa"
   },
   "outputs": [],
   "source": [
    "#!pip install \"scikit-surprise==1.1.3\""
   ]
  },
  {
   "cell_type": "code",
   "execution_count": 2,
   "id": "ea378696",
   "metadata": {},
   "outputs": [],
   "source": [
    "#!pip install \"xlrd==2.0.1\""
   ]
  },
  {
   "cell_type": "markdown",
   "id": "f4fc3daa-2632-4ad6-b904-752bd2308fc8",
   "metadata": {
    "id": "f4fc3daa-2632-4ad6-b904-752bd2308fc8"
   },
   "source": [
    "### Import"
   ]
  },
  {
   "cell_type": "code",
   "execution_count": 1,
   "id": "427278c8-3010-4e10-9271-dc3b7723e0e7",
   "metadata": {
    "id": "427278c8-3010-4e10-9271-dc3b7723e0e7"
   },
   "outputs": [],
   "source": [
    "import numpy as np\n",
    "import pandas as pd\n",
    "from collections import defaultdict\n",
    "from surprise import Dataset, Reader, accuracy\n",
    "from surprise.model_selection import GridSearchCV\n",
    "from surprise.model_selection import train_test_split\n",
    "from sklearn.model_selection import train_test_split as tts\n",
    "from surprise.model_selection import KFold\n",
    "import time\n",
    "import datetime\n",
    "from surprise import SVDpp\n",
    "\n",
    "import seaborn as sns\n",
    "from surprise import dump\n",
    "\n",
    "np.random.seed(42)"
   ]
  },
  {
   "cell_type": "markdown",
   "id": "0011beb8-385e-4fab-a946-7c5972cd7727",
   "metadata": {
    "id": "0011beb8-385e-4fab-a946-7c5972cd7727"
   },
   "source": [
    "### Базовые функции для скоринга и получения рекомендаций"
   ]
  },
  {
   "cell_type": "code",
   "execution_count": 2,
   "id": "95b435cb-6972-4a46-b086-bc5ae5a89b8e",
   "metadata": {
    "id": "95b435cb-6972-4a46-b086-bc5ae5a89b8e"
   },
   "outputs": [],
   "source": [
    "def get_num_user_ratings(uid):\n",
    "    \"\"\" возвращает кол-во рейтингов у пользователя \n",
    "    args: \n",
    "      uid: id пользователей\n",
    "    returns: \n",
    "      кол-во объектов, которые оценил пользователь\n",
    "    \"\"\"\n",
    "    try:\n",
    "        return len(trainset.ur[trainset.to_inner_uid(uid)])\n",
    "    except ValueError: # пользователя не было во время обучения (новый, отправить на стартовые рекомендации)\n",
    "        return 0\n",
    "    \n",
    "def get_num_item_ratings(iid):\n",
    "    \"\"\" возвращает кол-во пользователей, которые оценили выбранный элемент \n",
    "    args:\n",
    "      iid: строка с элементов рекомендации\n",
    "    returns:\n",
    "      кол-во пользователей, которые дали оценки по элементу\n",
    "    \"\"\"\n",
    "    try: \n",
    "        return len(trainset.ir[trainset.to_inner_iid(iid)])\n",
    "    except ValueError:\n",
    "        return 0\n",
    "    \n",
    "# На основе Surprise FAQ построим рекомендации Топ-N\n",
    "def get_top_n(predictions, n=5):\n",
    "    \"\"\"Определят Топ-N рекомендаций\n",
    "\n",
    "    Args:\n",
    "        predictions(list of Prediction objects): Списко рекомендаций, из алгоритма Surprise\n",
    "        n(int): Кол-во топ рекомендаций\n",
    "\n",
    "    Returns:\n",
    "        Словарь пользователь - список рекомендакиций для пользователей\n",
    "        [(raw item id, rating estimation), ...]\n",
    "    \"\"\"\n",
    "\n",
    "    # Предикт для каждого пользователя\n",
    "    top_n = defaultdict(list)\n",
    "    for uid, iid, true_r, est, _ in predictions:\n",
    "        top_n[uid].append((iid, est))\n",
    "\n",
    "    # Сортировка предикта (по пользователям)\n",
    "    for uid, user_ratings in top_n.items():\n",
    "        user_ratings.sort(key=lambda x: x[1], reverse=True)\n",
    "        top_n[uid] = user_ratings[:n]\n",
    "\n",
    "    return top_n    "
   ]
  },
  {
   "cell_type": "markdown",
   "id": "d3f82a04-60f8-4338-8175-84409a9226ae",
   "metadata": {
    "id": "d3f82a04-60f8-4338-8175-84409a9226ae"
   },
   "source": [
    "### Загрузка и обработка данных"
   ]
  },
  {
   "cell_type": "code",
   "execution_count": 3,
   "id": "6c7c4800-84cc-48ec-b5a4-0e0cb5a69c18",
   "metadata": {
    "colab": {
     "base_uri": "https://localhost:8080/",
     "height": 206
    },
    "id": "6c7c4800-84cc-48ec-b5a4-0e0cb5a69c18",
    "outputId": "867fbe58-7ef6-42fd-a561-b183fac8a56c"
   },
   "outputs": [
    {
     "data": {
      "text/html": [
       "<div>\n",
       "<style scoped>\n",
       "    .dataframe tbody tr th:only-of-type {\n",
       "        vertical-align: middle;\n",
       "    }\n",
       "\n",
       "    .dataframe tbody tr th {\n",
       "        vertical-align: top;\n",
       "    }\n",
       "\n",
       "    .dataframe thead th {\n",
       "        text-align: right;\n",
       "    }\n",
       "</style>\n",
       "<table border=\"1\" class=\"dataframe\">\n",
       "  <thead>\n",
       "    <tr style=\"text-align: right;\">\n",
       "      <th></th>\n",
       "      <th>UID</th>\n",
       "      <th>JID</th>\n",
       "      <th>Rating</th>\n",
       "    </tr>\n",
       "  </thead>\n",
       "  <tbody>\n",
       "    <tr>\n",
       "      <th>0</th>\n",
       "      <td>18029</td>\n",
       "      <td>6</td>\n",
       "      <td>-1.26</td>\n",
       "    </tr>\n",
       "    <tr>\n",
       "      <th>1</th>\n",
       "      <td>3298</td>\n",
       "      <td>64</td>\n",
       "      <td>-4.17</td>\n",
       "    </tr>\n",
       "    <tr>\n",
       "      <th>2</th>\n",
       "      <td>3366</td>\n",
       "      <td>58</td>\n",
       "      <td>0.92</td>\n",
       "    </tr>\n",
       "    <tr>\n",
       "      <th>3</th>\n",
       "      <td>12735</td>\n",
       "      <td>92</td>\n",
       "      <td>3.69</td>\n",
       "    </tr>\n",
       "    <tr>\n",
       "      <th>4</th>\n",
       "      <td>11365</td>\n",
       "      <td>38</td>\n",
       "      <td>-6.60</td>\n",
       "    </tr>\n",
       "  </tbody>\n",
       "</table>\n",
       "</div>"
      ],
      "text/plain": [
       "     UID  JID  Rating\n",
       "0  18029    6   -1.26\n",
       "1   3298   64   -4.17\n",
       "2   3366   58    0.92\n",
       "3  12735   92    3.69\n",
       "4  11365   38   -6.60"
      ]
     },
     "execution_count": 3,
     "metadata": {},
     "output_type": "execute_result"
    }
   ],
   "source": [
    "df = pd.read_csv(r'data\\recsys-in-practice\\train_joke_df.csv')\n",
    "\n",
    "df.head(5)"
   ]
  },
  {
   "cell_type": "code",
   "execution_count": 4,
   "id": "08f07545-6735-407c-b549-822e9c701c70",
   "metadata": {
    "id": "08f07545-6735-407c-b549-822e9c701c70"
   },
   "outputs": [],
   "source": [
    "# сделаем сортировку и перепишем index\n",
    "df = df.sort_values(by=['UID', 'JID'])\n",
    "df = df.reset_index(drop=True)"
   ]
  },
  {
   "cell_type": "code",
   "execution_count": 5,
   "id": "c6569d6a-5e39-43ee-96c8-283d788573d3",
   "metadata": {
    "id": "c6569d6a-5e39-43ee-96c8-283d788573d3"
   },
   "outputs": [],
   "source": [
    "# создадим на основе набора данных\n",
    "# поднабор, который требуется для библиотеки Surprise\n",
    "\n",
    "# указываем минимальный и максимальный рейтинги\n",
    "reader = Reader(rating_scale=(-10, 10))\n",
    "\n",
    "# передаём набор, указывая последовательность колонок: user (raw) ids, item (raw) ids, ratings\n",
    "# для Surprise - это обязательно\n",
    "data = Dataset.load_from_df(df[['UID', 'JID', 'Rating']], reader)"
   ]
  },
  {
   "cell_type": "code",
   "execution_count": 6,
   "id": "ae962279-bafb-408e-a1a9-1c698d75157e",
   "metadata": {
    "id": "ae962279-bafb-408e-a1a9-1c698d75157e"
   },
   "outputs": [],
   "source": [
    "trainset_data = data.build_full_trainset()\n",
    "\n",
    "# сделаем разделение на обучающую и тестовую выборку\n",
    "trainset, testset = train_test_split(data, test_size=0.2, random_state=42)"
   ]
  },
  {
   "cell_type": "markdown",
   "id": "879fe08d-1317-4028-b797-03baee7f7311",
   "metadata": {
    "id": "879fe08d-1317-4028-b797-03baee7f7311"
   },
   "source": [
    "### Обучение модели"
   ]
  },
  {
   "cell_type": "code",
   "execution_count": 14,
   "id": "d49480df-77b9-4e69-b123-d8ef610af17d",
   "metadata": {
    "colab": {
     "base_uri": "https://localhost:8080/"
    },
    "id": "d49480df-77b9-4e69-b123-d8ef610af17d",
    "outputId": "c3d15544-f42b-48ff-facc-c60617c308a6"
   },
   "outputs": [
    {
     "name": "stdout",
     "output_type": "stream",
     "text": [
      "27.04.2023_15.02.45.772723\n",
      "[Parallel(n_jobs=-2)]: Using backend LokyBackend with 15 concurrent workers.\n",
      "[Parallel(n_jobs=-2)]: Done   1 tasks      | elapsed:   54.1s\n",
      "[Parallel(n_jobs=-2)]: Done   2 tasks      | elapsed:   55.5s\n",
      "[Parallel(n_jobs=-2)]: Done   3 tasks      | elapsed:   59.1s\n",
      "[Parallel(n_jobs=-2)]: Done   4 tasks      | elapsed:  1.0min\n",
      "[Parallel(n_jobs=-2)]: Done   5 tasks      | elapsed:  1.4min\n",
      "[Parallel(n_jobs=-2)]: Done   6 tasks      | elapsed:  1.4min\n",
      "[Parallel(n_jobs=-2)]: Done   7 tasks      | elapsed:  1.5min\n",
      "[Parallel(n_jobs=-2)]: Done   8 tasks      | elapsed:  1.5min\n",
      "[Parallel(n_jobs=-2)]: Done   9 tasks      | elapsed:  1.8min\n",
      "[Parallel(n_jobs=-2)]: Done  10 tasks      | elapsed:  1.9min\n",
      "[Parallel(n_jobs=-2)]: Done  11 tasks      | elapsed:  1.9min\n",
      "[Parallel(n_jobs=-2)]: Done  12 tasks      | elapsed:  2.0min\n",
      "[Parallel(n_jobs=-2)]: Done  13 tasks      | elapsed:  2.5min\n",
      "[Parallel(n_jobs=-2)]: Done  14 tasks      | elapsed:  2.5min\n",
      "[Parallel(n_jobs=-2)]: Done  15 tasks      | elapsed:  2.6min\n",
      "[Parallel(n_jobs=-2)]: Done  16 tasks      | elapsed:  3.3min\n",
      "[Parallel(n_jobs=-2)]: Done  17 tasks      | elapsed:  3.9min\n",
      "[Parallel(n_jobs=-2)]: Done  18 tasks      | elapsed:  3.9min\n",
      "[Parallel(n_jobs=-2)]: Done  19 tasks      | elapsed:  4.7min\n",
      "[Parallel(n_jobs=-2)]: Done  20 tasks      | elapsed:  5.3min\n",
      "[Parallel(n_jobs=-2)]: Done  21 tasks      | elapsed:  6.0min\n",
      "[Parallel(n_jobs=-2)]: Done  22 tasks      | elapsed:  6.6min\n",
      "[Parallel(n_jobs=-2)]: Done  23 tasks      | elapsed:  6.7min\n",
      "[Parallel(n_jobs=-2)]: Done  24 tasks      | elapsed:  6.7min\n",
      "[Parallel(n_jobs=-2)]: Done  25 tasks      | elapsed:  6.7min\n",
      "[Parallel(n_jobs=-2)]: Done  26 tasks      | elapsed:  6.9min\n",
      "[Parallel(n_jobs=-2)]: Done  27 tasks      | elapsed:  7.3min\n",
      "[Parallel(n_jobs=-2)]: Done  28 tasks      | elapsed:  8.1min\n",
      "[Parallel(n_jobs=-2)]: Done  29 tasks      | elapsed:  9.3min\n",
      "[Parallel(n_jobs=-2)]: Done  30 tasks      | elapsed:  9.5min\n",
      "[Parallel(n_jobs=-2)]: Done  31 tasks      | elapsed:  9.6min\n",
      "[Parallel(n_jobs=-2)]: Done  32 tasks      | elapsed:  9.7min\n",
      "[Parallel(n_jobs=-2)]: Done  33 tasks      | elapsed: 11.0min\n",
      "[Parallel(n_jobs=-2)]: Done  34 tasks      | elapsed: 11.4min\n",
      "[Parallel(n_jobs=-2)]: Done  35 tasks      | elapsed: 12.4min\n",
      "[Parallel(n_jobs=-2)]: Done  36 tasks      | elapsed: 13.5min\n",
      "[Parallel(n_jobs=-2)]: Done  37 tasks      | elapsed: 20.0min\n",
      "[Parallel(n_jobs=-2)]: Done  38 tasks      | elapsed: 20.0min\n",
      "[Parallel(n_jobs=-2)]: Done  39 tasks      | elapsed: 20.0min\n",
      "[Parallel(n_jobs=-2)]: Done  40 tasks      | elapsed: 20.1min\n",
      "[Parallel(n_jobs=-2)]: Done  41 tasks      | elapsed: 20.4min\n",
      "[Parallel(n_jobs=-2)]: Done  42 tasks      | elapsed: 20.8min\n",
      "[Parallel(n_jobs=-2)]: Done  43 tasks      | elapsed: 20.9min\n",
      "[Parallel(n_jobs=-2)]: Done  44 tasks      | elapsed: 22.0min\n",
      "[Parallel(n_jobs=-2)]: Done  45 tasks      | elapsed: 23.1min\n",
      "[Parallel(n_jobs=-2)]: Done  46 tasks      | elapsed: 23.3min\n",
      "[Parallel(n_jobs=-2)]: Done  47 tasks      | elapsed: 24.7min\n",
      "[Parallel(n_jobs=-2)]: Done  48 tasks      | elapsed: 25.9min\n",
      "[Parallel(n_jobs=-2)]: Done  49 tasks      | elapsed: 27.5min\n",
      "[Parallel(n_jobs=-2)]: Done  50 tasks      | elapsed: 28.9min\n",
      "[Parallel(n_jobs=-2)]: Done  51 tasks      | elapsed: 30.4min\n",
      "[Parallel(n_jobs=-2)]: Done  52 tasks      | elapsed: 32.1min\n",
      "[Parallel(n_jobs=-2)]: Done  53 tasks      | elapsed: 34.9min\n",
      "[Parallel(n_jobs=-2)]: Done  54 tasks      | elapsed: 36.5min\n",
      "[Parallel(n_jobs=-2)]: Done  55 tasks      | elapsed: 38.3min\n",
      "[Parallel(n_jobs=-2)]: Done  56 tasks      | elapsed: 39.0min\n",
      "[Parallel(n_jobs=-2)]: Done  57 tasks      | elapsed: 39.3min\n",
      "[Parallel(n_jobs=-2)]: Done  58 tasks      | elapsed: 39.7min\n",
      "[Parallel(n_jobs=-2)]: Done  59 tasks      | elapsed: 40.3min\n",
      "[Parallel(n_jobs=-2)]: Done  60 tasks      | elapsed: 41.4min\n",
      "[Parallel(n_jobs=-2)]: Done  61 tasks      | elapsed: 45.7min\n",
      "[Parallel(n_jobs=-2)]: Done  62 tasks      | elapsed: 47.5min\n",
      "[Parallel(n_jobs=-2)]: Done  63 tasks      | elapsed: 47.7min\n",
      "[Parallel(n_jobs=-2)]: Done  64 tasks      | elapsed: 48.1min\n",
      "[Parallel(n_jobs=-2)]: Done  65 tasks      | elapsed: 48.7min\n",
      "[Parallel(n_jobs=-2)]: Done  66 tasks      | elapsed: 48.8min\n",
      "[Parallel(n_jobs=-2)]: Done  67 tasks      | elapsed: 50.9min\n",
      "[Parallel(n_jobs=-2)]: Done  68 tasks      | elapsed: 56.9min\n",
      "[Parallel(n_jobs=-2)]: Done  69 tasks      | elapsed: 66.1min\n",
      "[Parallel(n_jobs=-2)]: Done  70 tasks      | elapsed: 66.7min\n",
      "[Parallel(n_jobs=-2)]: Done  71 tasks      | elapsed: 66.9min\n",
      "[Parallel(n_jobs=-2)]: Done  72 tasks      | elapsed: 70.8min\n",
      "[Parallel(n_jobs=-2)]: Done  73 tasks      | elapsed: 71.0min\n",
      "[Parallel(n_jobs=-2)]: Done  74 tasks      | elapsed: 71.4min\n",
      "[Parallel(n_jobs=-2)]: Done  75 tasks      | elapsed: 75.5min\n",
      "[Parallel(n_jobs=-2)]: Done  76 tasks      | elapsed: 75.7min\n",
      "[Parallel(n_jobs=-2)]: Done  77 tasks      | elapsed: 79.2min\n",
      "[Parallel(n_jobs=-2)]: Done  78 tasks      | elapsed: 83.3min\n",
      "[Parallel(n_jobs=-2)]: Done  79 tasks      | elapsed: 84.1min\n",
      "[Parallel(n_jobs=-2)]: Done  80 tasks      | elapsed: 87.6min\n",
      "[Parallel(n_jobs=-2)]: Done  81 tasks      | elapsed: 90.5min\n",
      "[Parallel(n_jobs=-2)]: Done  82 tasks      | elapsed: 93.5min\n",
      "[Parallel(n_jobs=-2)]: Done  83 tasks      | elapsed: 93.7min\n",
      "[Parallel(n_jobs=-2)]: Done  84 tasks      | elapsed: 94.7min\n",
      "[Parallel(n_jobs=-2)]: Done  85 tasks      | elapsed: 95.8min\n",
      "[Parallel(n_jobs=-2)]: Done  86 tasks      | elapsed: 96.8min\n",
      "[Parallel(n_jobs=-2)]: Done  87 tasks      | elapsed: 100.1min\n",
      "[Parallel(n_jobs=-2)]: Done  88 tasks      | elapsed: 102.9min\n",
      "[Parallel(n_jobs=-2)]: Done  89 tasks      | elapsed: 111.7min\n",
      "[Parallel(n_jobs=-2)]: Done  90 tasks      | elapsed: 111.8min\n",
      "[Parallel(n_jobs=-2)]: Done  91 tasks      | elapsed: 113.6min\n",
      "[Parallel(n_jobs=-2)]: Done  92 tasks      | elapsed: 114.4min\n",
      "[Parallel(n_jobs=-2)]: Done  93 tasks      | elapsed: 135.1min\n",
      "[Parallel(n_jobs=-2)]: Done  94 tasks      | elapsed: 137.1min\n",
      "[Parallel(n_jobs=-2)]: Done  95 tasks      | elapsed: 137.9min\n",
      "[Parallel(n_jobs=-2)]: Done  96 tasks      | elapsed: 140.4min\n",
      "[Parallel(n_jobs=-2)]: Done  97 tasks      | elapsed: 147.9min\n",
      "[Parallel(n_jobs=-2)]: Done  98 tasks      | elapsed: 152.2min\n",
      "[Parallel(n_jobs=-2)]: Done  99 tasks      | elapsed: 152.6min\n",
      "[Parallel(n_jobs=-2)]: Done 100 tasks      | elapsed: 159.7min\n",
      "[Parallel(n_jobs=-2)]: Done 101 tasks      | elapsed: 160.2min\n",
      "[Parallel(n_jobs=-2)]: Done 102 tasks      | elapsed: 162.6min\n",
      "[Parallel(n_jobs=-2)]: Done 103 tasks      | elapsed: 168.2min\n",
      "[Parallel(n_jobs=-2)]: Done 104 tasks      | elapsed: 168.6min\n",
      "[Parallel(n_jobs=-2)]: Done 105 tasks      | elapsed: 176.9min\n",
      "[Parallel(n_jobs=-2)]: Done 106 tasks      | elapsed: 182.7min\n",
      "[Parallel(n_jobs=-2)]: Done 107 tasks      | elapsed: 184.2min\n",
      "[Parallel(n_jobs=-2)]: Done 108 tasks      | elapsed: 192.4min\n",
      "[Parallel(n_jobs=-2)]: Done 109 tasks      | elapsed: 204.1min\n",
      "[Parallel(n_jobs=-2)]: Done 110 tasks      | elapsed: 205.5min\n",
      "[Parallel(n_jobs=-2)]: Done 111 tasks      | elapsed: 215.0min\n",
      "[Parallel(n_jobs=-2)]: Done 113 out of 140 | elapsed: 227.8min remaining: 54.4min\n",
      "[Parallel(n_jobs=-2)]: Done 115 out of 140 | elapsed: 237.7min remaining: 51.7min\n",
      "[Parallel(n_jobs=-2)]: Done 117 out of 140 | elapsed: 246.8min remaining: 48.5min\n",
      "[Parallel(n_jobs=-2)]: Done 119 out of 140 | elapsed: 261.9min remaining: 46.2min\n",
      "[Parallel(n_jobs=-2)]: Done 121 out of 140 | elapsed: 277.8min remaining: 43.6min\n",
      "[Parallel(n_jobs=-2)]: Done 123 out of 140 | elapsed: 290.5min remaining: 40.2min\n",
      "[Parallel(n_jobs=-2)]: Done 125 out of 140 | elapsed: 332.2min remaining: 39.9min\n",
      "[Parallel(n_jobs=-2)]: Done 127 out of 140 | elapsed: 335.9min remaining: 34.4min\n",
      "[Parallel(n_jobs=-2)]: Done 129 out of 140 | elapsed: 481.7min remaining: 41.1min\n",
      "[Parallel(n_jobs=-2)]: Done 131 out of 140 | elapsed: 495.5min remaining: 34.0min\n",
      "[Parallel(n_jobs=-2)]: Done 133 out of 140 | elapsed: 569.5min remaining: 30.0min\n",
      "[Parallel(n_jobs=-2)]: Done 135 out of 140 | elapsed: 600.0min remaining: 22.2min\n",
      "[Parallel(n_jobs=-2)]: Done 137 out of 140 | elapsed: 896.2min remaining: 19.6min\n",
      "[Parallel(n_jobs=-2)]: Done 140 out of 140 | elapsed: 969.9min finished\n",
      "28.04.2023_07.12.43.210485\n",
      "time: 58197 sec\n",
      "4.168629667006634\n",
      "{'n_epochs': 200, 'n_factors': 256, 'random_state': 0, 'cache_ratings': True}\n"
     ]
    }
   ],
   "source": [
    "# определим набор данных для GridSearchCV\n",
    "t1 = time.time()\n",
    "print(datetime.datetime.now().strftime(\"%d.%m.%Y_%H.%M.%S.%f\"))\n",
    "param_grid = {\"n_epochs\": [10, 20, 50, 100, 200],\n",
    "              \"n_factors\": [32, 64, 100, 128, 256, 512, 1024],\n",
    "              'random_state':[0],\n",
    "             'cache_ratings':[True, False]}\n",
    "\n",
    "gs = GridSearchCV(SVDpp, param_grid, measures=[\"rmse\", \"mae\"], cv=2, n_jobs=-2, joblib_verbose=100)\n",
    "gs.fit(data)\n",
    "     \n",
    "\n",
    "print(datetime.datetime.now().strftime(\"%d.%m.%Y_%H.%M.%S.%f\"))\n",
    "print('time:', round(time.time() - t1), 'sec')\n",
    "\n",
    "# результат\n",
    "print(gs.best_score[\"rmse\"])\n",
    "print(gs.best_params[\"rmse\"])"
   ]
  },
  {
   "cell_type": "code",
   "execution_count": null,
   "id": "98e75ab7",
   "metadata": {},
   "outputs": [],
   "source": [
    "gs.cv_results"
   ]
  },
  {
   "cell_type": "code",
   "execution_count": 15,
   "id": "21e7c75a-e8df-4e8c-9b9d-7f200790cb44",
   "metadata": {
    "colab": {
     "base_uri": "https://localhost:8080/"
    },
    "id": "21e7c75a-e8df-4e8c-9b9d-7f200790cb44",
    "outputId": "273217cf-d0b8-433b-d750-2c02d0dc9a2a"
   },
   "outputs": [
    {
     "name": "stdout",
     "output_type": "stream",
     "text": [
      "RMSE: 4.0765\n"
     ]
    },
    {
     "data": {
      "text/plain": [
       "4.076491323353588"
      ]
     },
     "execution_count": 15,
     "metadata": {},
     "output_type": "execute_result"
    }
   ],
   "source": [
    "# обучим с лучшими параметрами\n",
    "algo = gs.best_estimator['rmse']\n",
    "algo.fit(trainset)\n",
    "\n",
    "# получим предикт и посмотрим метрику\n",
    "predictions = algo.test(testset)\n",
    "accuracy.rmse(predictions)"
   ]
  },
  {
   "cell_type": "markdown",
   "id": "b072635d-739a-48cd-812f-8fd04e3f9d32",
   "metadata": {
    "id": "b072635d-739a-48cd-812f-8fd04e3f9d32"
   },
   "source": [
    "### Тестирование и результаты"
   ]
  },
  {
   "cell_type": "code",
   "execution_count": 16,
   "id": "c2be3189-9e9e-469a-916e-9c78a93e6aa2",
   "metadata": {
    "colab": {
     "base_uri": "https://localhost:8080/"
    },
    "id": "c2be3189-9e9e-469a-916e-9c78a93e6aa2",
    "outputId": "1d50db09-cb1d-437b-9359-dc212b43f515"
   },
   "outputs": [
    {
     "name": "stdout",
     "output_type": "stream",
     "text": [
      "user: 1          item: 1          r_ui = -7.82   est = -7.84   {'was_impossible': False}\n"
     ]
    }
   ],
   "source": [
    "# получаем предикт\n",
    "uid = 1  # id пользователя \n",
    "iid = 1  # iв шутки\n",
    "\n",
    "# получим предик на основе обученных данных\n",
    "# -7.82 - это фактический рейтинг, но посмотрим, какой ответ будет в предикте\n",
    "pred = algo.predict(uid, iid, r_ui=-7.82, verbose=True)"
   ]
  },
  {
   "cell_type": "code",
   "execution_count": 17,
   "id": "a6cca0fb-7536-45f5-8ad9-9233831bb5f7",
   "metadata": {
    "colab": {
     "base_uri": "https://localhost:8080/"
    },
    "id": "a6cca0fb-7536-45f5-8ad9-9233831bb5f7",
    "outputId": "70f2481a-a1f4-4ce8-8d2f-c7ddb9c5fd8a"
   },
   "outputs": [
    {
     "name": "stdout",
     "output_type": "stream",
     "text": [
      "user: 24983      item: 62         r_ui = -0.29   est = -0.20   {'was_impossible': False}\n"
     ]
    }
   ],
   "source": [
    "uid = 24983  # id пользователя \n",
    "iid = 62     # iв шутки\n",
    "\n",
    "pred = algo.predict(uid, iid, r_ui=-0.29, verbose=True)"
   ]
  },
  {
   "cell_type": "markdown",
   "id": "09debb1b-0ffa-4dc4-a91b-c06124e0d8b7",
   "metadata": {
    "id": "09debb1b-0ffa-4dc4-a91b-c06124e0d8b7"
   },
   "source": [
    "### Обзор рекомендаций"
   ]
  },
  {
   "cell_type": "code",
   "execution_count": 18,
   "id": "d942cdd3-af9d-4cc4-a294-0f451b0944ab",
   "metadata": {
    "id": "d942cdd3-af9d-4cc4-a294-0f451b0944ab"
   },
   "outputs": [],
   "source": [
    "# построим таблицу для обзора набора рекомендаций\n",
    "# посмотрим, какие элементы и в каком кол-ве рекомендуем\n",
    "trainset = algo.trainset\n",
    "\n",
    "predictions_df = pd.DataFrame(predictions, columns=['uid', 'iid', 'rui', 'est', 'details'])\n",
    "\n",
    "predictions_df['№ кол-во пользовательских рейтингов'] = predictions_df.uid.apply(get_num_user_ratings)\n",
    "predictions_df['№ кол-во рейтингов элементов'] = predictions_df.iid.apply(get_num_item_ratings)\n",
    "predictions_df['error'] = abs(predictions_df.est - predictions_df.rui)\n",
    "\n",
    "best_predictions = predictions_df.sort_values(by='error')[:10]\n",
    "worst_predictions = predictions_df.sort_values(by='error')[-10:]"
   ]
  },
  {
   "cell_type": "code",
   "execution_count": 19,
   "id": "ca77d78d-db5e-44b7-8da0-3bd7c8d34f64",
   "metadata": {
    "colab": {
     "base_uri": "https://localhost:8080/",
     "height": 206
    },
    "id": "ca77d78d-db5e-44b7-8da0-3bd7c8d34f64",
    "outputId": "c5c136d2-7910-4ae7-9a66-fe89c672c2fe"
   },
   "outputs": [
    {
     "data": {
      "text/html": [
       "<div>\n",
       "<style scoped>\n",
       "    .dataframe tbody tr th:only-of-type {\n",
       "        vertical-align: middle;\n",
       "    }\n",
       "\n",
       "    .dataframe tbody tr th {\n",
       "        vertical-align: top;\n",
       "    }\n",
       "\n",
       "    .dataframe thead th {\n",
       "        text-align: right;\n",
       "    }\n",
       "</style>\n",
       "<table border=\"1\" class=\"dataframe\">\n",
       "  <thead>\n",
       "    <tr style=\"text-align: right;\">\n",
       "      <th></th>\n",
       "      <th>uid</th>\n",
       "      <th>iid</th>\n",
       "      <th>rui</th>\n",
       "      <th>est</th>\n",
       "      <th>details</th>\n",
       "      <th>№ кол-во пользовательских рейтингов</th>\n",
       "      <th>№ кол-во рейтингов элементов</th>\n",
       "      <th>error</th>\n",
       "    </tr>\n",
       "  </thead>\n",
       "  <tbody>\n",
       "    <tr>\n",
       "      <th>172472</th>\n",
       "      <td>14393</td>\n",
       "      <td>9</td>\n",
       "      <td>-1.75</td>\n",
       "      <td>-1.750009</td>\n",
       "      <td>{'was_impossible': False}</td>\n",
       "      <td>59</td>\n",
       "      <td>10082</td>\n",
       "      <td>0.000009</td>\n",
       "    </tr>\n",
       "    <tr>\n",
       "      <th>256533</th>\n",
       "      <td>23860</td>\n",
       "      <td>34</td>\n",
       "      <td>-0.53</td>\n",
       "      <td>-0.529986</td>\n",
       "      <td>{'was_impossible': False}</td>\n",
       "      <td>62</td>\n",
       "      <td>13726</td>\n",
       "      <td>0.000014</td>\n",
       "    </tr>\n",
       "    <tr>\n",
       "      <th>4439</th>\n",
       "      <td>12923</td>\n",
       "      <td>64</td>\n",
       "      <td>2.62</td>\n",
       "      <td>2.620027</td>\n",
       "      <td>{'was_impossible': False}</td>\n",
       "      <td>46</td>\n",
       "      <td>11146</td>\n",
       "      <td>0.000027</td>\n",
       "    </tr>\n",
       "    <tr>\n",
       "      <th>210880</th>\n",
       "      <td>2665</td>\n",
       "      <td>28</td>\n",
       "      <td>-0.19</td>\n",
       "      <td>-0.190042</td>\n",
       "      <td>{'was_impossible': False}</td>\n",
       "      <td>30</td>\n",
       "      <td>15302</td>\n",
       "      <td>0.000042</td>\n",
       "    </tr>\n",
       "    <tr>\n",
       "      <th>276575</th>\n",
       "      <td>9373</td>\n",
       "      <td>45</td>\n",
       "      <td>0.24</td>\n",
       "      <td>0.239906</td>\n",
       "      <td>{'was_impossible': False}</td>\n",
       "      <td>41</td>\n",
       "      <td>13758</td>\n",
       "      <td>0.000094</td>\n",
       "    </tr>\n",
       "  </tbody>\n",
       "</table>\n",
       "</div>"
      ],
      "text/plain": [
       "          uid  iid   rui       est                    details  \\\n",
       "172472  14393    9 -1.75 -1.750009  {'was_impossible': False}   \n",
       "256533  23860   34 -0.53 -0.529986  {'was_impossible': False}   \n",
       "4439    12923   64  2.62  2.620027  {'was_impossible': False}   \n",
       "210880   2665   28 -0.19 -0.190042  {'was_impossible': False}   \n",
       "276575   9373   45  0.24  0.239906  {'was_impossible': False}   \n",
       "\n",
       "        № кол-во пользовательских рейтингов  № кол-во рейтингов элементов  \\\n",
       "172472                                   59                         10082   \n",
       "256533                                   62                         13726   \n",
       "4439                                     46                         11146   \n",
       "210880                                   30                         15302   \n",
       "276575                                   41                         13758   \n",
       "\n",
       "           error  \n",
       "172472  0.000009  \n",
       "256533  0.000014  \n",
       "4439    0.000027  \n",
       "210880  0.000042  \n",
       "276575  0.000094  "
      ]
     },
     "execution_count": 19,
     "metadata": {},
     "output_type": "execute_result"
    }
   ],
   "source": [
    "best_predictions.head(5)"
   ]
  },
  {
   "cell_type": "code",
   "execution_count": 20,
   "id": "68a89929-b581-43d9-bfa5-452535641ace",
   "metadata": {
    "colab": {
     "base_uri": "https://localhost:8080/"
    },
    "id": "68a89929-b581-43d9-bfa5-452535641ace",
    "outputId": "0b2d86ba-8f2f-4601-8697-03a42e4f172a"
   },
   "outputs": [
    {
     "name": "stdout",
     "output_type": "stream",
     "text": [
      "19208 [54, 89, 65, 78, 81]\n",
      "8671 [8, 83, 32, 21, 19]\n",
      "6037 [76, 81, 36, 87, 89]\n",
      "3233 [50, 36, 27, 31, 42]\n",
      "3449 [100, 73, 80, 83, 6]\n",
      "10032 [35, 32, 53, 29, 49]\n",
      "5774 [32, 29, 76, 47, 40]\n",
      "23392 [53, 36, 29, 62, 72]\n",
      "3039 [62, 53, 36, 89, 27]\n",
      "17395 [27, 89, 50, 88, 11]\n"
     ]
    }
   ],
   "source": [
    "# Предикт для всех, кого нет в выборке для обучения\n",
    "testset = trainset.build_anti_testset()\n",
    "predictions = algo.test(testset)\n",
    "\n",
    "top_n = get_top_n(predictions)\n",
    "\n",
    "# Сделаем вывод рекомендаций\n",
    "a=0\n",
    "for uid, user_ratings in top_n.items():\n",
    "    a+=1\n",
    "    print(uid, [iid for (iid, _) in user_ratings])\n",
    "    \n",
    "    if a==10:\n",
    "        break"
   ]
  },
  {
   "cell_type": "markdown",
   "id": "aa5422a2-7447-489e-b789-5753fa32f2fa",
   "metadata": {
    "id": "aa5422a2-7447-489e-b789-5753fa32f2fa"
   },
   "source": [
    "### Для отправки на тестирование"
   ]
  },
  {
   "cell_type": "code",
   "execution_count": 8,
   "id": "d60c382c",
   "metadata": {},
   "outputs": [
    {
     "name": "stdout",
     "output_type": "stream",
     "text": [
      "RMSE: 0.4238\n",
      "time: 25927 sec\n"
     ]
    }
   ],
   "source": [
    "t1 = time.time()\n",
    "# обучим с лучшими параметрами\n",
    "algo = SVDpp(n_epochs=200, n_factors=256, random_state=0, cache_ratings=True)\n",
    "algo.fit(trainset_data)\n",
    "\n",
    "# получим предикт и посмотрим метрику\n",
    "predictions = algo.test(trainset_data.build_testset())\n",
    "accuracy.rmse(predictions)\n",
    "\n",
    "print('time:', round(time.time() - t1), 'sec')"
   ]
  },
  {
   "cell_type": "code",
   "execution_count": 9,
   "id": "f4779914",
   "metadata": {},
   "outputs": [],
   "source": [
    "file_name = 'baseline_svdpp_tuning_all_data'\n",
    "dump.dump(file_name, algo=algo)\n",
    "#_, loaded_algo = dump.load(file_name)"
   ]
  },
  {
   "cell_type": "code",
   "execution_count": 10,
   "id": "d06b634c-c15c-4210-973c-1e4e7f7ccf9b",
   "metadata": {
    "colab": {
     "base_uri": "https://localhost:8080/",
     "height": 238
    },
    "id": "d06b634c-c15c-4210-973c-1e4e7f7ccf9b",
    "outputId": "0988a430-0875-4cce-986e-7973ba158917"
   },
   "outputs": [
    {
     "data": {
      "text/html": [
       "<div>\n",
       "<style scoped>\n",
       "    .dataframe tbody tr th:only-of-type {\n",
       "        vertical-align: middle;\n",
       "    }\n",
       "\n",
       "    .dataframe tbody tr th {\n",
       "        vertical-align: top;\n",
       "    }\n",
       "\n",
       "    .dataframe thead th {\n",
       "        text-align: right;\n",
       "    }\n",
       "</style>\n",
       "<table border=\"1\" class=\"dataframe\">\n",
       "  <thead>\n",
       "    <tr style=\"text-align: right;\">\n",
       "      <th></th>\n",
       "      <th>UID</th>\n",
       "      <th>JID</th>\n",
       "    </tr>\n",
       "    <tr>\n",
       "      <th>InteractionID</th>\n",
       "      <th></th>\n",
       "      <th></th>\n",
       "    </tr>\n",
       "  </thead>\n",
       "  <tbody>\n",
       "    <tr>\n",
       "      <th>0</th>\n",
       "      <td>11228</td>\n",
       "      <td>39</td>\n",
       "    </tr>\n",
       "    <tr>\n",
       "      <th>1</th>\n",
       "      <td>21724</td>\n",
       "      <td>85</td>\n",
       "    </tr>\n",
       "    <tr>\n",
       "      <th>2</th>\n",
       "      <td>16782</td>\n",
       "      <td>56</td>\n",
       "    </tr>\n",
       "    <tr>\n",
       "      <th>3</th>\n",
       "      <td>12105</td>\n",
       "      <td>42</td>\n",
       "    </tr>\n",
       "    <tr>\n",
       "      <th>4</th>\n",
       "      <td>14427</td>\n",
       "      <td>2</td>\n",
       "    </tr>\n",
       "  </tbody>\n",
       "</table>\n",
       "</div>"
      ],
      "text/plain": [
       "                 UID  JID\n",
       "InteractionID            \n",
       "0              11228   39\n",
       "1              21724   85\n",
       "2              16782   56\n",
       "3              12105   42\n",
       "4              14427    2"
      ]
     },
     "execution_count": 10,
     "metadata": {},
     "output_type": "execute_result"
    }
   ],
   "source": [
    "test = pd.read_csv(r'data\\recsys-in-practice\\test_joke_df_nofactrating.csv', index_col=0)\n",
    "test.head(5)"
   ]
  },
  {
   "cell_type": "code",
   "execution_count": 24,
   "id": "ee88655d",
   "metadata": {},
   "outputs": [],
   "source": []
  },
  {
   "cell_type": "code",
   "execution_count": 11,
   "id": "27bade05-e8a4-4b23-a370-0fc7151ad768",
   "metadata": {
    "id": "27bade05-e8a4-4b23-a370-0fc7151ad768"
   },
   "outputs": [],
   "source": [
    "test['Rating'] = test[['UID', 'JID']].apply(lambda x: algo.predict(x[0], x[1], verbose=False).est,\n",
    "                                                      axis = 1)\n",
    "                                                      \n"
   ]
  },
  {
   "cell_type": "code",
   "execution_count": 12,
   "id": "8856cf55-5e63-493c-9b33-69ee76e39ea6",
   "metadata": {
    "colab": {
     "base_uri": "https://localhost:8080/",
     "height": 238
    },
    "id": "8856cf55-5e63-493c-9b33-69ee76e39ea6",
    "outputId": "5465856f-5b98-418c-80a7-743d51727f88"
   },
   "outputs": [
    {
     "data": {
      "text/html": [
       "<div>\n",
       "<style scoped>\n",
       "    .dataframe tbody tr th:only-of-type {\n",
       "        vertical-align: middle;\n",
       "    }\n",
       "\n",
       "    .dataframe tbody tr th {\n",
       "        vertical-align: top;\n",
       "    }\n",
       "\n",
       "    .dataframe thead th {\n",
       "        text-align: right;\n",
       "    }\n",
       "</style>\n",
       "<table border=\"1\" class=\"dataframe\">\n",
       "  <thead>\n",
       "    <tr style=\"text-align: right;\">\n",
       "      <th></th>\n",
       "      <th>Rating</th>\n",
       "    </tr>\n",
       "    <tr>\n",
       "      <th>InteractionID</th>\n",
       "      <th></th>\n",
       "    </tr>\n",
       "  </thead>\n",
       "  <tbody>\n",
       "    <tr>\n",
       "      <th>0</th>\n",
       "      <td>1.648007</td>\n",
       "    </tr>\n",
       "    <tr>\n",
       "      <th>1</th>\n",
       "      <td>-6.998847</td>\n",
       "    </tr>\n",
       "    <tr>\n",
       "      <th>2</th>\n",
       "      <td>0.228860</td>\n",
       "    </tr>\n",
       "    <tr>\n",
       "      <th>3</th>\n",
       "      <td>6.469982</td>\n",
       "    </tr>\n",
       "    <tr>\n",
       "      <th>4</th>\n",
       "      <td>6.507208</td>\n",
       "    </tr>\n",
       "  </tbody>\n",
       "</table>\n",
       "</div>"
      ],
      "text/plain": [
       "                 Rating\n",
       "InteractionID          \n",
       "0              1.648007\n",
       "1             -6.998847\n",
       "2              0.228860\n",
       "3              6.469982\n",
       "4              6.507208"
      ]
     },
     "execution_count": 12,
     "metadata": {},
     "output_type": "execute_result"
    }
   ],
   "source": [
    "# вид набора данных, который должен быть отправлен для тестирования\n",
    "test['Rating'].to_frame().head(5)"
   ]
  },
  {
   "cell_type": "code",
   "execution_count": 13,
   "id": "yLcjElHPRU1v",
   "metadata": {
    "id": "yLcjElHPRU1v"
   },
   "outputs": [],
   "source": [
    "# формирование файла для отправки в Kaggle\n",
    "test['Rating'].to_frame().to_csv('baseline_svdpp_tuning_all_data.csv')"
   ]
  },
  {
   "cell_type": "code",
   "execution_count": null,
   "id": "9acfd288",
   "metadata": {},
   "outputs": [],
   "source": []
  },
  {
   "cell_type": "code",
   "execution_count": 14,
   "id": "Br1Fjd7xSNhS",
   "metadata": {
    "id": "Br1Fjd7xSNhS"
   },
   "outputs": [
    {
     "name": "stderr",
     "output_type": "stream",
     "text": [
      "C:\\ProgramData\\Anaconda3\\envs\\torchvision\\lib\\site-packages\\seaborn\\distributions.py:2619: FutureWarning: `distplot` is a deprecated function and will be removed in a future version. Please adapt your code to use either `displot` (a figure-level function with similar flexibility) or `histplot` (an axes-level function for histograms).\n",
      "  warnings.warn(msg, FutureWarning)\n"
     ]
    },
    {
     "data": {
      "text/plain": [
       "<AxesSubplot:xlabel='Rating', ylabel='Density'>"
      ]
     },
     "execution_count": 14,
     "metadata": {},
     "output_type": "execute_result"
    },
    {
     "data": {
      "image/png": "[encoded data removed]",
      "text/plain": [
       "<Figure size 432x288 with 1 Axes>"
      ]
     },
     "metadata": {
      "needs_background": "light"
     },
     "output_type": "display_data"
    }
   ],
   "source": [
    "sns.distplot(test['Rating'])"
   ]
  },
  {
   "cell_type": "code",
   "execution_count": null,
   "id": "30637bf7",
   "metadata": {},
   "outputs": [],
   "source": []
  },
  {
   "cell_type": "code",
   "execution_count": null,
   "id": "37c7aa26",
   "metadata": {},
   "outputs": [],
   "source": [
    "algo.predict(11228, 39, verbose=False)"
   ]
  },
  {
   "cell_type": "code",
   "execution_count": null,
   "id": "342d1394",
   "metadata": {},
   "outputs": [],
   "source": [
    "algo.estimate(u=11228, i=39)"
   ]
  },
  {
   "cell_type": "code",
   "execution_count": null,
   "id": "89fd4803",
   "metadata": {},
   "outputs": [],
   "source": [
    "algo.qi.shape, algo.bi.shape"
   ]
  },
  {
   "cell_type": "code",
   "execution_count": null,
   "id": "c45ce3bc",
   "metadata": {},
   "outputs": [],
   "source": [
    "algo.bu.shape, algo.pu.shape, algo.yj.shape"
   ]
  }
 ],
 "metadata": {
  "colab": {
   "provenance": []
  },
  "kernelspec": {
   "display_name": "Python 3 (ipykernel)",
   "language": "python",
   "name": "python3"
  },
  "language_info": {
   "codemirror_mode": {
    "name": "ipython",
    "version": 3
   },
   "file_extension": ".py",
   "mimetype": "text/x-python",
   "name": "python",
   "nbconvert_exporter": "python",
   "pygments_lexer": "ipython3",
   "version": "3.10.4"
  }
 },
 "nbformat": 4,
 "nbformat_minor": 5
}
