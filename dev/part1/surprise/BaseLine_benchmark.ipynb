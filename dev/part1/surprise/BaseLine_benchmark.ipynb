{
 "cells": [
  {
   "cell_type": "markdown",
   "id": "5b272efa-fdb0-43ec-ab5b-abf7ca37b21d",
   "metadata": {
    "id": "5b272efa-fdb0-43ec-ab5b-abf7ca37b21d"
   },
   "source": [
    "Для первой задачи мы используем данные [Jester Online Joke Recommender System](https://goldberg.berkeley.edu/jester-data/)"
   ]
  },
  {
   "cell_type": "markdown",
   "id": "85eb8247-1067-47e5-9a19-f5d20d4b2fd5",
   "metadata": {
    "id": "85eb8247-1067-47e5-9a19-f5d20d4b2fd5"
   },
   "source": [
    "**Описание данных**\n",
    "\n",
    "Файл `train_joke_df.csv` содержит:\n",
    "- UID - id пользователей\n",
    "- JID - id шуток, которые \n",
    "- Ratin - рейтинг шутки, который проставил пользователь \n",
    "\n",
    "\n",
    "Рейтинг имеет значение от -10.00 до 10.00. Могут встречаться значения 99.00, но это обозначает Null (нет рейтинга от пользователя).\n",
    "\n",
    "Метрика для оценки [RMSE](https://www.codecamp.ru/blog/how-to-interpret-rmse/)\n",
    "\n",
    "Минимальный RMSE: `4.2238`\n",
    "\n"
   ]
  },
  {
   "cell_type": "code",
   "execution_count": 1,
   "id": "ec9f8af1-f94e-4955-a420-39aa18f37806",
   "metadata": {
    "colab": {
     "base_uri": "https://localhost:8080/"
    },
    "id": "ec9f8af1-f94e-4955-a420-39aa18f37806",
    "outputId": "62b72c77-065d-4e2b-8521-204030cba0aa"
   },
   "outputs": [],
   "source": [
    "#!pip install \"scikit-surprise==1.1.3\""
   ]
  },
  {
   "cell_type": "code",
   "execution_count": 2,
   "id": "ea378696",
   "metadata": {},
   "outputs": [],
   "source": [
    "#!pip install \"xlrd==2.0.1\""
   ]
  },
  {
   "cell_type": "markdown",
   "id": "f4fc3daa-2632-4ad6-b904-752bd2308fc8",
   "metadata": {
    "id": "f4fc3daa-2632-4ad6-b904-752bd2308fc8"
   },
   "source": [
    "### Import"
   ]
  },
  {
   "cell_type": "code",
   "execution_count": 3,
   "id": "427278c8-3010-4e10-9271-dc3b7723e0e7",
   "metadata": {
    "id": "427278c8-3010-4e10-9271-dc3b7723e0e7"
   },
   "outputs": [],
   "source": [
    "import numpy as np\n",
    "import pandas as pd\n",
    "from collections import defaultdict\n",
    "from surprise import Dataset, Reader, KNNWithMeans, accuracy\n",
    "from surprise.model_selection import GridSearchCV\n",
    "from surprise.model_selection import train_test_split\n",
    "from sklearn.model_selection import train_test_split as tts\n",
    "from surprise.model_selection import KFold\n",
    "\n",
    "np.random.seed(42)"
   ]
  },
  {
   "cell_type": "markdown",
   "id": "0011beb8-385e-4fab-a946-7c5972cd7727",
   "metadata": {
    "id": "0011beb8-385e-4fab-a946-7c5972cd7727"
   },
   "source": [
    "### Базовые функции для скоринга и получения рекомендаций"
   ]
  },
  {
   "cell_type": "code",
   "execution_count": 4,
   "id": "95b435cb-6972-4a46-b086-bc5ae5a89b8e",
   "metadata": {
    "id": "95b435cb-6972-4a46-b086-bc5ae5a89b8e"
   },
   "outputs": [],
   "source": [
    "def get_num_user_ratings(uid):\n",
    "    \"\"\" возвращает кол-во рейтингов у пользователя \n",
    "    args: \n",
    "      uid: id пользователей\n",
    "    returns: \n",
    "      кол-во объектов, которые оценил пользователь\n",
    "    \"\"\"\n",
    "    try:\n",
    "        return len(trainset.ur[trainset.to_inner_uid(uid)])\n",
    "    except ValueError: # пользователя не было во время обучения (новый, отправить на стартовые рекомендации)\n",
    "        return 0\n",
    "    \n",
    "def get_num_item_ratings(iid):\n",
    "    \"\"\" возвращает кол-во пользователей, которые оценили выбранный элемент \n",
    "    args:\n",
    "      iid: строка с элементов рекомендации\n",
    "    returns:\n",
    "      кол-во пользователей, которые дали оценки по элементу\n",
    "    \"\"\"\n",
    "    try: \n",
    "        return len(trainset.ir[trainset.to_inner_iid(iid)])\n",
    "    except ValueError:\n",
    "        return 0\n",
    "    \n",
    "# На основе Surprise FAQ построим рекомендации Топ-N\n",
    "def get_top_n(predictions, n=5):\n",
    "    \"\"\"Определят Топ-N рекомендаций\n",
    "\n",
    "    Args:\n",
    "        predictions(list of Prediction objects): Списко рекомендаций, из алгоритма Surprise\n",
    "        n(int): Кол-во топ рекомендаций\n",
    "\n",
    "    Returns:\n",
    "        Словарь пользователь - список рекомендакиций для пользователей\n",
    "        [(raw item id, rating estimation), ...]\n",
    "    \"\"\"\n",
    "\n",
    "    # Предикт для каждого пользователя\n",
    "    top_n = defaultdict(list)\n",
    "    for uid, iid, true_r, est, _ in predictions:\n",
    "        top_n[uid].append((iid, est))\n",
    "\n",
    "    # Сортировка предикта (по пользователям)\n",
    "    for uid, user_ratings in top_n.items():\n",
    "        user_ratings.sort(key=lambda x: x[1], reverse=True)\n",
    "        top_n[uid] = user_ratings[:n]\n",
    "\n",
    "    return top_n    "
   ]
  },
  {
   "cell_type": "markdown",
   "id": "d3f82a04-60f8-4338-8175-84409a9226ae",
   "metadata": {
    "id": "d3f82a04-60f8-4338-8175-84409a9226ae"
   },
   "source": [
    "### Загрузка и обработка данных"
   ]
  },
  {
   "cell_type": "code",
   "execution_count": 5,
   "id": "6c7c4800-84cc-48ec-b5a4-0e0cb5a69c18",
   "metadata": {
    "colab": {
     "base_uri": "https://localhost:8080/",
     "height": 206
    },
    "id": "6c7c4800-84cc-48ec-b5a4-0e0cb5a69c18",
    "outputId": "867fbe58-7ef6-42fd-a561-b183fac8a56c"
   },
   "outputs": [
    {
     "data": {
      "text/html": [
       "<div>\n",
       "<style scoped>\n",
       "    .dataframe tbody tr th:only-of-type {\n",
       "        vertical-align: middle;\n",
       "    }\n",
       "\n",
       "    .dataframe tbody tr th {\n",
       "        vertical-align: top;\n",
       "    }\n",
       "\n",
       "    .dataframe thead th {\n",
       "        text-align: right;\n",
       "    }\n",
       "</style>\n",
       "<table border=\"1\" class=\"dataframe\">\n",
       "  <thead>\n",
       "    <tr style=\"text-align: right;\">\n",
       "      <th></th>\n",
       "      <th>UID</th>\n",
       "      <th>JID</th>\n",
       "      <th>Rating</th>\n",
       "    </tr>\n",
       "  </thead>\n",
       "  <tbody>\n",
       "    <tr>\n",
       "      <th>0</th>\n",
       "      <td>18029</td>\n",
       "      <td>6</td>\n",
       "      <td>-1.26</td>\n",
       "    </tr>\n",
       "    <tr>\n",
       "      <th>1</th>\n",
       "      <td>3298</td>\n",
       "      <td>64</td>\n",
       "      <td>-4.17</td>\n",
       "    </tr>\n",
       "    <tr>\n",
       "      <th>2</th>\n",
       "      <td>3366</td>\n",
       "      <td>58</td>\n",
       "      <td>0.92</td>\n",
       "    </tr>\n",
       "    <tr>\n",
       "      <th>3</th>\n",
       "      <td>12735</td>\n",
       "      <td>92</td>\n",
       "      <td>3.69</td>\n",
       "    </tr>\n",
       "    <tr>\n",
       "      <th>4</th>\n",
       "      <td>11365</td>\n",
       "      <td>38</td>\n",
       "      <td>-6.60</td>\n",
       "    </tr>\n",
       "  </tbody>\n",
       "</table>\n",
       "</div>"
      ],
      "text/plain": [
       "     UID  JID  Rating\n",
       "0  18029    6   -1.26\n",
       "1   3298   64   -4.17\n",
       "2   3366   58    0.92\n",
       "3  12735   92    3.69\n",
       "4  11365   38   -6.60"
      ]
     },
     "execution_count": 5,
     "metadata": {},
     "output_type": "execute_result"
    }
   ],
   "source": [
    "df = pd.read_csv(r'data\\recsys-in-practice\\train_joke_df.csv')\n",
    "\n",
    "df.head(5)"
   ]
  },
  {
   "cell_type": "code",
   "execution_count": 6,
   "id": "08f07545-6735-407c-b549-822e9c701c70",
   "metadata": {
    "id": "08f07545-6735-407c-b549-822e9c701c70"
   },
   "outputs": [],
   "source": [
    "# сделаем сортировку и перепишем index\n",
    "df = df.sort_values(by=['UID', 'JID'])\n",
    "df = df.reset_index(drop=True)"
   ]
  },
  {
   "cell_type": "code",
   "execution_count": 7,
   "id": "c6569d6a-5e39-43ee-96c8-283d788573d3",
   "metadata": {
    "id": "c6569d6a-5e39-43ee-96c8-283d788573d3"
   },
   "outputs": [],
   "source": [
    "# создадим на основе набора данных\n",
    "# поднабор, который требуется для библиотеки Surprise\n",
    "\n",
    "# указываем минимальный и максимальный рейтинги\n",
    "reader = Reader(rating_scale=(-10, 10))\n",
    "\n",
    "# передаём набор, указывая последовательность колонок: user (raw) ids, item (raw) ids, ratings\n",
    "# для Surprise - это обязательно\n",
    "data = Dataset.load_from_df(df[['UID', 'JID', 'Rating']], reader)"
   ]
  },
  {
   "cell_type": "code",
   "execution_count": 8,
   "id": "ae962279-bafb-408e-a1a9-1c698d75157e",
   "metadata": {
    "id": "ae962279-bafb-408e-a1a9-1c698d75157e"
   },
   "outputs": [],
   "source": [
    "trainset_data = data.build_full_trainset()\n",
    "\n",
    "# сделаем разделение на обучающую и тестовую выборку\n",
    "trainset, testset = train_test_split(data, test_size=0.2, random_state=42)"
   ]
  },
  {
   "cell_type": "code",
   "execution_count": null,
   "id": "83510f9d",
   "metadata": {},
   "outputs": [],
   "source": []
  },
  {
   "cell_type": "code",
   "execution_count": null,
   "id": "f329abc2",
   "metadata": {},
   "outputs": [],
   "source": []
  },
  {
   "cell_type": "code",
   "execution_count": 9,
   "id": "8cc939ee",
   "metadata": {},
   "outputs": [],
   "source": [
    "\"\"\"This module runs a 5-Fold CV for all the algorithms (default parameters) on\n",
    "the movielens datasets, and reports average RMSE, MAE, and total computation\n",
    "time.  It is used for making tables in the README.md file\"\"\"\n",
    "\n",
    "# flake8: noqa\n",
    "\n",
    "import datetime\n",
    "import random\n",
    "import time\n",
    "\n",
    "import numpy as np\n",
    "\n",
    "from surprise import (\n",
    "    BaselineOnly,\n",
    "    CoClustering,\n",
    "    Dataset,\n",
    "    KNNBaseline,\n",
    "    KNNBasic,\n",
    "    KNNWithMeans,\n",
    "    NMF,\n",
    "    NormalPredictor,\n",
    "    SlopeOne,\n",
    "    SVD,\n",
    "    SVDpp,\n",
    "    KNNWithZScore\n",
    ")\n",
    "from surprise.model_selection import cross_validate, KFold\n",
    "from tabulate import tabulate\n"
   ]
  },
  {
   "cell_type": "code",
   "execution_count": 10,
   "id": "1436fae9",
   "metadata": {},
   "outputs": [],
   "source": [
    "sim_options = {\n",
    "    \"user_based\": False,     # поиск \"похожести\" будет на основе шуток, а не пользователей\n",
    "    'name': 'cosine',\n",
    "    'min_support': 3,\n",
    "}"
   ]
  },
  {
   "cell_type": "code",
   "execution_count": 11,
   "id": "2234c6f8",
   "metadata": {},
   "outputs": [],
   "source": [
    "\n",
    "# The algorithms to cross-validate\n",
    "algos = (\n",
    "    SVD(random_state=0),\n",
    "    SVDpp(random_state=0, cache_ratings=False),\n",
    "    SVDpp(random_state=0, cache_ratings=True),\n",
    "    NMF(random_state=0),\n",
    "    SlopeOne(),\n",
    "    KNNBasic(sim_options=sim_options),\n",
    "    KNNWithMeans(sim_options=sim_options),\n",
    "    KNNWithZScore(sim_options=sim_options),\n",
    "    KNNBaseline(sim_options=sim_options),\n",
    "    CoClustering(random_state=0),\n",
    "    BaselineOnly(),\n",
    "    NormalPredictor(),\n",
    ")\n",
    "\n",
    "# ugly dict to map algo names and datasets to their markdown links in the table\n",
    "stable = ''#\"https://surprise.readthedocs.io/en/stable/\"\n",
    "LINK = {\n",
    "    \"SVD\": \"[{}]({})\".format(\n",
    "        \"SVD\",\n",
    "        stable\n",
    "        + \"matrix_factorization.html#matrix_factorization.SVD\",\n",
    "    ),\n",
    "    \"SVDpp\": \"[{}]({})\".format(\n",
    "        \"SVD++\",\n",
    "        stable\n",
    "        + \"matrix_factorization.html#matrix_factorization.SVDpp\",\n",
    "    ),\n",
    "    \"NMF\": \"[{}]({})\".format(\n",
    "        \"NMF\",\n",
    "        stable\n",
    "        + \"matrix_factorization.html#matrix_factorization.NMF\",\n",
    "    ),\n",
    "    \"SlopeOne\": \"[{}]({})\".format(\n",
    "        \"Slope One\",\n",
    "        stable + \"slope_one.html#slope_one.SlopeOne\",\n",
    "    ),\n",
    "    \"KNNBasic\": \"[{}]({})\".format(\n",
    "        \"k-NN\",\n",
    "        stable + \"knn_inspired.html#knns.KNNBasic\",\n",
    "    ),\n",
    "    \"KNNWithZScore\": \"[{}]({})\".format(\n",
    "        \"KNNWithZScore\",\n",
    "        stable + \"knn_inspired.html#snns.KNNWithZScore\",\n",
    "    ),\n",
    "    \"KNNWithMeans\": \"[{}]({})\".format(\n",
    "        \"Centered k-NN\",\n",
    "        stable + \"knn_inspired.html#knns.KNNWithMeans\",\n",
    "    ),\n",
    "    \"KNNBaseline\": \"[{}]({})\".format(\n",
    "        \"k-NN Baseline\",\n",
    "        stable + \"knn_inspired.html#knns.KNNBaseline\",\n",
    "    ),\n",
    "    \"CoClustering\": \"[{}]({})\".format(\n",
    "        \"Co-Clustering\",\n",
    "        stable\n",
    "        + \"co_clustering.html#co_clustering.CoClustering\",\n",
    "    ),\n",
    "    \"BaselineOnly\": \"[{}]({})\".format(\n",
    "        \"Baseline\",\n",
    "        stable\n",
    "        + \"basic_algorithms.html#baseline_only.BaselineOnly\",\n",
    "    ),\n",
    "    \"NormalPredictor\": \"[{}]({})\".format(\n",
    "        \"Random\",\n",
    "        stable\n",
    "        + \"basic_algorithms.html#random_pred.NormalPredictor\",\n",
    "    ),\n",
    "    \"ml-100k\": \"[{}]({})\".format(\n",
    "        \"Movielens 100k\", \"https://grouplens.org/datasets/movielens/100k\"\n",
    "    ),\n",
    "    \"ml-1m\": \"[{}]({})\".format(\n",
    "        \"Movielens 1M\", \"https://grouplens.org/datasets/movielens/1m\"\n",
    "    ),\n",
    "}\n",
    "\n",
    "\n",
    "kf = KFold(random_state=0)  # folds will be the same for all algorithms.\n",
    "\n",
    "table = []"
   ]
  },
  {
   "cell_type": "code",
   "execution_count": 12,
   "id": "7e738827",
   "metadata": {},
   "outputs": [
    {
     "name": "stdout",
     "output_type": "stream",
     "text": [
      "|:----------------------------------------------------------|------:|------:|:--------|\n",
      "| [SVD](matrix_factorization.html#matrix_factorization.SVD) | 4.166 | 3.243 | 0:01:06 |\n",
      "|:--------------------------------------------------------------|------:|-----:|:--------|\n",
      "| [SVD++](matrix_factorization.html#matrix_factorization.SVDpp) | 4.814 | 3.66 | 0:05:12 |\n",
      "|:--------------------------------------------------------------|------:|-----:|:--------|\n",
      "| [SVD++](matrix_factorization.html#matrix_factorization.SVDpp) | 4.814 | 3.66 | 0:04:48 |\n",
      "|:----------------------------------------------------------|------:|------:|:--------|\n",
      "| [NMF](matrix_factorization.html#matrix_factorization.NMF) | 5.337 | 4.506 | 0:01:47 |\n",
      "|:-----------------------------------------------|-----:|------:|:--------|\n",
      "| [Slope One](slope_one.html#slope_one.SlopeOne) | 4.35 | 3.455 | 0:01:00 |\n",
      "Computing the cosine similarity matrix...\n",
      "Done computing similarity matrix.\n",
      "Computing the cosine similarity matrix...\n",
      "Done computing similarity matrix.\n",
      "Computing the cosine similarity matrix...\n",
      "Done computing similarity matrix.\n",
      "Computing the cosine similarity matrix...\n",
      "Done computing similarity matrix.\n",
      "Computing the cosine similarity matrix...\n",
      "Done computing similarity matrix.\n",
      "|:----------------------------------------|------:|------:|:--------|\n",
      "| [k-NN](knn_inspired.html#knns.KNNBasic) | 4.316 | 3.405 | 0:01:40 |\n",
      "Computing the cosine similarity matrix...\n",
      "Done computing similarity matrix.\n",
      "Computing the cosine similarity matrix...\n",
      "Done computing similarity matrix.\n",
      "Computing the cosine similarity matrix...\n",
      "Done computing similarity matrix.\n",
      "Computing the cosine similarity matrix...\n",
      "Done computing similarity matrix.\n",
      "Computing the cosine similarity matrix...\n",
      "Done computing similarity matrix.\n",
      "|:-----------------------------------------------------|------:|------:|:--------|\n",
      "| [Centered k-NN](knn_inspired.html#knns.KNNWithMeans) | 4.217 | 3.309 | 0:01:48 |\n",
      "Computing the cosine similarity matrix...\n",
      "Done computing similarity matrix.\n",
      "Computing the cosine similarity matrix...\n",
      "Done computing similarity matrix.\n",
      "Computing the cosine similarity matrix...\n",
      "Done computing similarity matrix.\n",
      "Computing the cosine similarity matrix...\n",
      "Done computing similarity matrix.\n",
      "Computing the cosine similarity matrix...\n",
      "Done computing similarity matrix.\n",
      "|:------------------------------------------------------|------:|------:|:--------|\n",
      "| [KNNWithZScore](knn_inspired.html#snns.KNNWithZScore) | 4.216 | 3.303 | 0:01:57 |\n",
      "Estimating biases using als...\n",
      "Computing the cosine similarity matrix...\n",
      "Done computing similarity matrix.\n",
      "Estimating biases using als...\n",
      "Computing the cosine similarity matrix...\n",
      "Done computing similarity matrix.\n",
      "Estimating biases using als...\n",
      "Computing the cosine similarity matrix...\n",
      "Done computing similarity matrix.\n",
      "Estimating biases using als...\n",
      "Computing the cosine similarity matrix...\n",
      "Done computing similarity matrix.\n",
      "Estimating biases using als...\n",
      "Computing the cosine similarity matrix...\n",
      "Done computing similarity matrix.\n",
      "|:----------------------------------------------------|------:|------:|:--------|\n",
      "| [k-NN Baseline](knn_inspired.html#knns.KNNBaseline) | 4.216 | 3.308 | 0:02:12 |\n",
      "|:---------------------------------------------------------------|------:|------:|:--------|\n",
      "| [Co-Clustering](co_clustering.html#co_clustering.CoClustering) | 4.322 | 3.441 | 0:02:33 |\n",
      "Estimating biases using als...\n",
      "Estimating biases using als...\n",
      "Estimating biases using als...\n",
      "Estimating biases using als...\n",
      "Estimating biases using als...\n",
      "|:-------------------------------------------------------------|------:|-----:|:--------|\n",
      "| [Baseline](basic_algorithms.html#baseline_only.BaselineOnly) | 4.374 | 3.53 | 0:00:33 |\n",
      "|:------------------------------------------------------------|------:|------:|:--------|\n",
      "| [Random](basic_algorithms.html#random_pred.NormalPredictor) | 7.212 | 5.851 | 0:00:29 |\n",
      "|                                                                |   RMSE |   MAE | Time    |\n",
      "|:---------------------------------------------------------------|-------:|------:|:--------|\n",
      "| [SVD](matrix_factorization.html#matrix_factorization.SVD)      |  4.166 | 3.243 | 0:01:06 |\n",
      "| [SVD++](matrix_factorization.html#matrix_factorization.SVDpp)  |  4.814 | 3.66  | 0:05:12 |\n",
      "| [SVD++](matrix_factorization.html#matrix_factorization.SVDpp)  |  4.814 | 3.66  | 0:04:48 |\n",
      "| [NMF](matrix_factorization.html#matrix_factorization.NMF)      |  5.337 | 4.506 | 0:01:47 |\n",
      "| [Slope One](slope_one.html#slope_one.SlopeOne)                 |  4.35  | 3.455 | 0:01:00 |\n",
      "| [k-NN](knn_inspired.html#knns.KNNBasic)                        |  4.316 | 3.405 | 0:01:40 |\n",
      "| [Centered k-NN](knn_inspired.html#knns.KNNWithMeans)           |  4.217 | 3.309 | 0:01:48 |\n",
      "| [KNNWithZScore](knn_inspired.html#snns.KNNWithZScore)          |  4.216 | 3.303 | 0:01:57 |\n",
      "| [k-NN Baseline](knn_inspired.html#knns.KNNBaseline)            |  4.216 | 3.308 | 0:02:12 |\n",
      "| [Co-Clustering](co_clustering.html#co_clustering.CoClustering) |  4.322 | 3.441 | 0:02:33 |\n",
      "| [Baseline](basic_algorithms.html#baseline_only.BaselineOnly)   |  4.374 | 3.53  | 0:00:33 |\n",
      "| [Random](basic_algorithms.html#random_pred.NormalPredictor)    |  7.212 | 5.851 | 0:00:29 |\n"
     ]
    }
   ],
   "source": [
    "\n",
    "\n",
    "for algo in algos:\n",
    "    # set RNG\n",
    "    np.random.seed(0)\n",
    "    random.seed(0)\n",
    "    start = time.time()\n",
    "    out = cross_validate(algo, data, [\"rmse\", \"mae\"], kf)\n",
    "    cv_time = str(datetime.timedelta(seconds=int(time.time() - start)))\n",
    "    link = LINK[algo.__class__.__name__]\n",
    "    mean_rmse = \"{:.3f}\".format(np.mean(out[\"test_rmse\"]))\n",
    "    mean_mae = \"{:.3f}\".format(np.mean(out[\"test_mae\"]))\n",
    "\n",
    "    new_line = [link, mean_rmse, mean_mae, cv_time]\n",
    "    print(tabulate([new_line], tablefmt=\"pipe\"))  # print current algo perf\n",
    "    table.append(new_line)\n",
    "\n",
    "header = ['', \"RMSE\", \"MAE\", \"Time\"]\n",
    "print(tabulate(table, header, tablefmt=\"pipe\"))"
   ]
  }
 ],
 "metadata": {
  "colab": {
   "provenance": []
  },
  "kernelspec": {
   "display_name": "Python 3 (ipykernel)",
   "language": "python",
   "name": "python3"
  },
  "language_info": {
   "codemirror_mode": {
    "name": "ipython",
    "version": 3
   },
   "file_extension": ".py",
   "mimetype": "text/x-python",
   "name": "python",
   "nbconvert_exporter": "python",
   "pygments_lexer": "ipython3",
   "version": "3.9.12"
  }
 },
 "nbformat": 4,
 "nbformat_minor": 5
}
