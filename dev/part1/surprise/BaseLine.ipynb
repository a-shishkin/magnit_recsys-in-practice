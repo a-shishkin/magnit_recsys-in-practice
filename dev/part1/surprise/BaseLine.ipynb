{
 "cells": [
  {
   "cell_type": "markdown",
   "id": "5b272efa-fdb0-43ec-ab5b-abf7ca37b21d",
   "metadata": {
    "id": "5b272efa-fdb0-43ec-ab5b-abf7ca37b21d"
   },
   "source": [
    "Для первой задачи мы используем данные [Jester Online Joke Recommender System](https://goldberg.berkeley.edu/jester-data/)"
   ]
  },
  {
   "cell_type": "markdown",
   "id": "85eb8247-1067-47e5-9a19-f5d20d4b2fd5",
   "metadata": {
    "id": "85eb8247-1067-47e5-9a19-f5d20d4b2fd5"
   },
   "source": [
    "**Описание данных**\n",
    "\n",
    "Файл `train_joke_df.csv` содержит:\n",
    "- UID - id пользователей\n",
    "- JID - id шуток, которые \n",
    "- Ratin - рейтинг шутки, который проставил пользователь \n",
    "\n",
    "\n",
    "Рейтинг имеет значение от -10.00 до 10.00. Могут встречаться значения 99.00, но это обозначает Null (нет рейтинга от пользователя).\n",
    "\n",
    "Метрика для оценки [RMSE](https://www.codecamp.ru/blog/how-to-interpret-rmse/)\n",
    "\n",
    "Минимальный RMSE: `4.2238`\n",
    "\n"
   ]
  },
  {
   "cell_type": "code",
   "execution_count": 1,
   "id": "ec9f8af1-f94e-4955-a420-39aa18f37806",
   "metadata": {
    "colab": {
     "base_uri": "https://localhost:8080/"
    },
    "id": "ec9f8af1-f94e-4955-a420-39aa18f37806",
    "outputId": "62b72c77-065d-4e2b-8521-204030cba0aa"
   },
   "outputs": [],
   "source": [
    "#!pip install \"scikit-surprise==1.1.3\""
   ]
  },
  {
   "cell_type": "code",
   "execution_count": 2,
   "id": "ea378696",
   "metadata": {},
   "outputs": [],
   "source": [
    "#!pip install \"xlrd==2.0.1\""
   ]
  },
  {
   "cell_type": "markdown",
   "id": "f4fc3daa-2632-4ad6-b904-752bd2308fc8",
   "metadata": {
    "id": "f4fc3daa-2632-4ad6-b904-752bd2308fc8"
   },
   "source": [
    "### Import"
   ]
  },
  {
   "cell_type": "code",
   "execution_count": 3,
   "id": "427278c8-3010-4e10-9271-dc3b7723e0e7",
   "metadata": {
    "id": "427278c8-3010-4e10-9271-dc3b7723e0e7"
   },
   "outputs": [],
   "source": [
    "import numpy as np\n",
    "import pandas as pd\n",
    "from collections import defaultdict\n",
    "from surprise import Dataset, Reader, KNNWithMeans, accuracy\n",
    "from surprise.model_selection import GridSearchCV\n",
    "from surprise.model_selection import train_test_split\n",
    "from sklearn.model_selection import train_test_split as tts\n",
    "from surprise.model_selection import KFold\n",
    "\n",
    "np.random.seed(42)"
   ]
  },
  {
   "cell_type": "markdown",
   "id": "0011beb8-385e-4fab-a946-7c5972cd7727",
   "metadata": {
    "id": "0011beb8-385e-4fab-a946-7c5972cd7727"
   },
   "source": [
    "### Базовые функции для скоринга и получения рекомендаций"
   ]
  },
  {
   "cell_type": "code",
   "execution_count": 4,
   "id": "95b435cb-6972-4a46-b086-bc5ae5a89b8e",
   "metadata": {
    "id": "95b435cb-6972-4a46-b086-bc5ae5a89b8e"
   },
   "outputs": [],
   "source": [
    "def get_num_user_ratings(uid):\n",
    "    \"\"\" возвращает кол-во рейтингов у пользователя \n",
    "    args: \n",
    "      uid: id пользователей\n",
    "    returns: \n",
    "      кол-во объектов, которые оценил пользователь\n",
    "    \"\"\"\n",
    "    try:\n",
    "        return len(trainset.ur[trainset.to_inner_uid(uid)])\n",
    "    except ValueError: # пользователя не было во время обучения (новый, отправить на стартовые рекомендации)\n",
    "        return 0\n",
    "    \n",
    "def get_num_item_ratings(iid):\n",
    "    \"\"\" возвращает кол-во пользователей, которые оценили выбранный элемент \n",
    "    args:\n",
    "      iid: строка с элементов рекомендации\n",
    "    returns:\n",
    "      кол-во пользователей, которые дали оценки по элементу\n",
    "    \"\"\"\n",
    "    try: \n",
    "        return len(trainset.ir[trainset.to_inner_iid(iid)])\n",
    "    except ValueError:\n",
    "        return 0\n",
    "    \n",
    "# На основе Surprise FAQ построим рекомендации Топ-N\n",
    "def get_top_n(predictions, n=5):\n",
    "    \"\"\"Определят Топ-N рекомендаций\n",
    "\n",
    "    Args:\n",
    "        predictions(list of Prediction objects): Списко рекомендаций, из алгоритма Surprise\n",
    "        n(int): Кол-во топ рекомендаций\n",
    "\n",
    "    Returns:\n",
    "        Словарь пользователь - список рекомендакиций для пользователей\n",
    "        [(raw item id, rating estimation), ...]\n",
    "    \"\"\"\n",
    "\n",
    "    # Предикт для каждого пользователя\n",
    "    top_n = defaultdict(list)\n",
    "    for uid, iid, true_r, est, _ in predictions:\n",
    "        top_n[uid].append((iid, est))\n",
    "\n",
    "    # Сортировка предикта (по пользователям)\n",
    "    for uid, user_ratings in top_n.items():\n",
    "        user_ratings.sort(key=lambda x: x[1], reverse=True)\n",
    "        top_n[uid] = user_ratings[:n]\n",
    "\n",
    "    return top_n    "
   ]
  },
  {
   "cell_type": "markdown",
   "id": "d3f82a04-60f8-4338-8175-84409a9226ae",
   "metadata": {
    "id": "d3f82a04-60f8-4338-8175-84409a9226ae"
   },
   "source": [
    "### Загрузка и обработка данных"
   ]
  },
  {
   "cell_type": "code",
   "execution_count": 5,
   "id": "6c7c4800-84cc-48ec-b5a4-0e0cb5a69c18",
   "metadata": {
    "colab": {
     "base_uri": "https://localhost:8080/",
     "height": 206
    },
    "id": "6c7c4800-84cc-48ec-b5a4-0e0cb5a69c18",
    "outputId": "867fbe58-7ef6-42fd-a561-b183fac8a56c"
   },
   "outputs": [
    {
     "data": {
      "text/html": [
       "<div>\n",
       "<style scoped>\n",
       "    .dataframe tbody tr th:only-of-type {\n",
       "        vertical-align: middle;\n",
       "    }\n",
       "\n",
       "    .dataframe tbody tr th {\n",
       "        vertical-align: top;\n",
       "    }\n",
       "\n",
       "    .dataframe thead th {\n",
       "        text-align: right;\n",
       "    }\n",
       "</style>\n",
       "<table border=\"1\" class=\"dataframe\">\n",
       "  <thead>\n",
       "    <tr style=\"text-align: right;\">\n",
       "      <th></th>\n",
       "      <th>UID</th>\n",
       "      <th>JID</th>\n",
       "      <th>Rating</th>\n",
       "    </tr>\n",
       "  </thead>\n",
       "  <tbody>\n",
       "    <tr>\n",
       "      <th>0</th>\n",
       "      <td>18029</td>\n",
       "      <td>6</td>\n",
       "      <td>-1.26</td>\n",
       "    </tr>\n",
       "    <tr>\n",
       "      <th>1</th>\n",
       "      <td>3298</td>\n",
       "      <td>64</td>\n",
       "      <td>-4.17</td>\n",
       "    </tr>\n",
       "    <tr>\n",
       "      <th>2</th>\n",
       "      <td>3366</td>\n",
       "      <td>58</td>\n",
       "      <td>0.92</td>\n",
       "    </tr>\n",
       "    <tr>\n",
       "      <th>3</th>\n",
       "      <td>12735</td>\n",
       "      <td>92</td>\n",
       "      <td>3.69</td>\n",
       "    </tr>\n",
       "    <tr>\n",
       "      <th>4</th>\n",
       "      <td>11365</td>\n",
       "      <td>38</td>\n",
       "      <td>-6.60</td>\n",
       "    </tr>\n",
       "  </tbody>\n",
       "</table>\n",
       "</div>"
      ],
      "text/plain": [
       "     UID  JID  Rating\n",
       "0  18029    6   -1.26\n",
       "1   3298   64   -4.17\n",
       "2   3366   58    0.92\n",
       "3  12735   92    3.69\n",
       "4  11365   38   -6.60"
      ]
     },
     "execution_count": 5,
     "metadata": {},
     "output_type": "execute_result"
    }
   ],
   "source": [
    "df = pd.read_csv(r'data\\recsys-in-practice\\train_joke_df.csv')\n",
    "\n",
    "df.head(5)"
   ]
  },
  {
   "cell_type": "code",
   "execution_count": 6,
   "id": "08f07545-6735-407c-b549-822e9c701c70",
   "metadata": {
    "id": "08f07545-6735-407c-b549-822e9c701c70"
   },
   "outputs": [],
   "source": [
    "# сделаем сортировку и перепишем index\n",
    "df = df.sort_values(by=['UID', 'JID'])\n",
    "df = df.reset_index(drop=True)"
   ]
  },
  {
   "cell_type": "code",
   "execution_count": 7,
   "id": "c6569d6a-5e39-43ee-96c8-283d788573d3",
   "metadata": {
    "id": "c6569d6a-5e39-43ee-96c8-283d788573d3"
   },
   "outputs": [],
   "source": [
    "# создадим на основе набора данных\n",
    "# поднабор, который требуется для библиотеки Surprise\n",
    "\n",
    "# указываем минимальный и максимальный рейтинги\n",
    "reader = Reader(rating_scale=(-10, 10))\n",
    "\n",
    "# передаём набор, указывая последовательность колонок: user (raw) ids, item (raw) ids, ratings\n",
    "# для Surprise - это обязательно\n",
    "data = Dataset.load_from_df(df[['UID', 'JID', 'Rating']], reader)"
   ]
  },
  {
   "cell_type": "code",
   "execution_count": 8,
   "id": "ae962279-bafb-408e-a1a9-1c698d75157e",
   "metadata": {
    "id": "ae962279-bafb-408e-a1a9-1c698d75157e"
   },
   "outputs": [],
   "source": [
    "trainset_data = data.build_full_trainset()\n",
    "\n",
    "# сделаем разделение на обучающую и тестовую выборку\n",
    "trainset, testset = train_test_split(data, test_size=0.2, random_state=42)"
   ]
  },
  {
   "cell_type": "markdown",
   "id": "879fe08d-1317-4028-b797-03baee7f7311",
   "metadata": {
    "id": "879fe08d-1317-4028-b797-03baee7f7311"
   },
   "source": [
    "### Обучение модели"
   ]
  },
  {
   "cell_type": "code",
   "execution_count": 9,
   "id": "d49480df-77b9-4e69-b123-d8ef610af17d",
   "metadata": {
    "colab": {
     "base_uri": "https://localhost:8080/"
    },
    "id": "d49480df-77b9-4e69-b123-d8ef610af17d",
    "outputId": "c3d15544-f42b-48ff-facc-c60617c308a6"
   },
   "outputs": [
    {
     "name": "stdout",
     "output_type": "stream",
     "text": [
      "Computing the msd similarity matrix...\n",
      "Done computing similarity matrix.\n",
      "Computing the msd similarity matrix...\n",
      "Done computing similarity matrix.\n",
      "Computing the msd similarity matrix...\n",
      "Done computing similarity matrix.\n",
      "Computing the msd similarity matrix...\n",
      "Done computing similarity matrix.\n",
      "Computing the cosine similarity matrix...\n",
      "Done computing similarity matrix.\n",
      "Computing the cosine similarity matrix...\n",
      "Done computing similarity matrix.\n",
      "Computing the cosine similarity matrix...\n",
      "Done computing similarity matrix.\n",
      "Computing the cosine similarity matrix...\n",
      "Done computing similarity matrix.\n",
      "4.279031273142975\n",
      "{'sim_options': {'name': 'cosine', 'min_support': 3, 'user_based': False}}\n"
     ]
    }
   ],
   "source": [
    "# определим набор данных для GridSearchCV\n",
    "sim_options = {\n",
    "    \"name\": [\"msd\", \"cosine\"], # способы оценки похожести (в GridSearch)\n",
    "    \"min_support\": [3, 4],     # минимальное кол-во общих пользоватлей с данной шуткой\n",
    "    \"user_based\": [False],     # поиск \"похожести\" будет на основе шуток, а не пользователей\n",
    "}\n",
    "\n",
    "param_grid = {\"sim_options\": sim_options}\n",
    "\n",
    "gs = GridSearchCV(KNNWithMeans, param_grid, measures=[\"rmse\", \"mae\"], cv=2,)\n",
    "gs.fit(data)\n",
    "     \n",
    "# результат\n",
    "print(gs.best_score[\"rmse\"])\n",
    "print(gs.best_params[\"rmse\"])"
   ]
  },
  {
   "cell_type": "code",
   "execution_count": 10,
   "id": "21e7c75a-e8df-4e8c-9b9d-7f200790cb44",
   "metadata": {
    "colab": {
     "base_uri": "https://localhost:8080/"
    },
    "id": "21e7c75a-e8df-4e8c-9b9d-7f200790cb44",
    "outputId": "273217cf-d0b8-433b-d750-2c02d0dc9a2a"
   },
   "outputs": [
    {
     "name": "stdout",
     "output_type": "stream",
     "text": [
      "Computing the cosine similarity matrix...\n",
      "Done computing similarity matrix.\n",
      "RMSE: 4.2173\n"
     ]
    },
    {
     "data": {
      "text/plain": [
       "4.217254761536634"
      ]
     },
     "execution_count": 10,
     "metadata": {},
     "output_type": "execute_result"
    }
   ],
   "source": [
    "# обучим с лучшими параметрами\n",
    "algo = gs.best_estimator['rmse']\n",
    "algo.fit(trainset)\n",
    "\n",
    "# получим предикт и посмотрим метрику\n",
    "predictions = algo.test(testset)\n",
    "accuracy.rmse(predictions)"
   ]
  },
  {
   "cell_type": "markdown",
   "id": "b072635d-739a-48cd-812f-8fd04e3f9d32",
   "metadata": {
    "id": "b072635d-739a-48cd-812f-8fd04e3f9d32"
   },
   "source": [
    "### Тестирование и результаты"
   ]
  },
  {
   "cell_type": "code",
   "execution_count": 11,
   "id": "c2be3189-9e9e-469a-916e-9c78a93e6aa2",
   "metadata": {
    "colab": {
     "base_uri": "https://localhost:8080/"
    },
    "id": "c2be3189-9e9e-469a-916e-9c78a93e6aa2",
    "outputId": "1d50db09-cb1d-437b-9359-dc212b43f515"
   },
   "outputs": [
    {
     "name": "stdout",
     "output_type": "stream",
     "text": [
      "user: 1          item: 1          r_ui = -7.82   est = -3.08   {'actual_k': 40, 'was_impossible': False}\n"
     ]
    }
   ],
   "source": [
    "# получаем предикт\n",
    "uid = 1  # id пользователя \n",
    "iid = 1  # iв шутки\n",
    "\n",
    "# получим предик на основе обученных данных\n",
    "# -7.82 - это фактический рейтинг, но посмотрим, какой ответ будет в предикте\n",
    "pred = algo.predict(uid, iid, r_ui=-7.82, verbose=True)"
   ]
  },
  {
   "cell_type": "code",
   "execution_count": 12,
   "id": "a6cca0fb-7536-45f5-8ad9-9233831bb5f7",
   "metadata": {
    "colab": {
     "base_uri": "https://localhost:8080/"
    },
    "id": "a6cca0fb-7536-45f5-8ad9-9233831bb5f7",
    "outputId": "70f2481a-a1f4-4ce8-8d2f-c7ddb9c5fd8a"
   },
   "outputs": [
    {
     "name": "stdout",
     "output_type": "stream",
     "text": [
      "user: 24983      item: 62         r_ui = -0.29   est = 5.19   {'actual_k': 40, 'was_impossible': False}\n"
     ]
    }
   ],
   "source": [
    "uid = 24983  # id пользователя \n",
    "iid = 62     # iв шутки\n",
    "\n",
    "pred = algo.predict(uid, iid, r_ui=-0.29, verbose=True)"
   ]
  },
  {
   "cell_type": "markdown",
   "id": "09debb1b-0ffa-4dc4-a91b-c06124e0d8b7",
   "metadata": {
    "id": "09debb1b-0ffa-4dc4-a91b-c06124e0d8b7"
   },
   "source": [
    "### Обзор рекомендаций"
   ]
  },
  {
   "cell_type": "code",
   "execution_count": 13,
   "id": "d942cdd3-af9d-4cc4-a294-0f451b0944ab",
   "metadata": {
    "id": "d942cdd3-af9d-4cc4-a294-0f451b0944ab"
   },
   "outputs": [],
   "source": [
    "# построим таблицу для обзора набора рекомендаций\n",
    "# посмотрим, какие элементы и в каком кол-ве рекомендуем\n",
    "trainset = algo.trainset\n",
    "\n",
    "predictions_df = pd.DataFrame(predictions, columns=['uid', 'iid', 'rui', 'est', 'details'])\n",
    "\n",
    "predictions_df['№ кол-во пользовательских рейтингов'] = predictions_df.uid.apply(get_num_user_ratings)\n",
    "predictions_df['№ кол-во рейтингов элементов'] = predictions_df.iid.apply(get_num_item_ratings)\n",
    "predictions_df['error'] = abs(predictions_df.est - predictions_df.rui)\n",
    "\n",
    "best_predictions = predictions_df.sort_values(by='error')[:10]\n",
    "worst_predictions = predictions_df.sort_values(by='error')[-10:]"
   ]
  },
  {
   "cell_type": "code",
   "execution_count": 14,
   "id": "ca77d78d-db5e-44b7-8da0-3bd7c8d34f64",
   "metadata": {
    "colab": {
     "base_uri": "https://localhost:8080/",
     "height": 206
    },
    "id": "ca77d78d-db5e-44b7-8da0-3bd7c8d34f64",
    "outputId": "c5c136d2-7910-4ae7-9a66-fe89c672c2fe"
   },
   "outputs": [
    {
     "data": {
      "text/html": [
       "<div>\n",
       "<style scoped>\n",
       "    .dataframe tbody tr th:only-of-type {\n",
       "        vertical-align: middle;\n",
       "    }\n",
       "\n",
       "    .dataframe tbody tr th {\n",
       "        vertical-align: top;\n",
       "    }\n",
       "\n",
       "    .dataframe thead th {\n",
       "        text-align: right;\n",
       "    }\n",
       "</style>\n",
       "<table border=\"1\" class=\"dataframe\">\n",
       "  <thead>\n",
       "    <tr style=\"text-align: right;\">\n",
       "      <th></th>\n",
       "      <th>uid</th>\n",
       "      <th>iid</th>\n",
       "      <th>rui</th>\n",
       "      <th>est</th>\n",
       "      <th>details</th>\n",
       "      <th>№ кол-во пользовательских рейтингов</th>\n",
       "      <th>№ кол-во рейтингов элементов</th>\n",
       "      <th>error</th>\n",
       "    </tr>\n",
       "  </thead>\n",
       "  <tbody>\n",
       "    <tr>\n",
       "      <th>117673</th>\n",
       "      <td>6770</td>\n",
       "      <td>53</td>\n",
       "      <td>0.44</td>\n",
       "      <td>0.439985</td>\n",
       "      <td>{'actual_k': 40, 'was_impossible': False}</td>\n",
       "      <td>51</td>\n",
       "      <td>15931</td>\n",
       "      <td>0.000015</td>\n",
       "    </tr>\n",
       "    <tr>\n",
       "      <th>84263</th>\n",
       "      <td>15986</td>\n",
       "      <td>62</td>\n",
       "      <td>4.71</td>\n",
       "      <td>4.709969</td>\n",
       "      <td>{'actual_k': 25, 'was_impossible': False}</td>\n",
       "      <td>29</td>\n",
       "      <td>16014</td>\n",
       "      <td>0.000031</td>\n",
       "    </tr>\n",
       "    <tr>\n",
       "      <th>75416</th>\n",
       "      <td>17382</td>\n",
       "      <td>48</td>\n",
       "      <td>0.63</td>\n",
       "      <td>0.630055</td>\n",
       "      <td>{'actual_k': 40, 'was_impossible': False}</td>\n",
       "      <td>62</td>\n",
       "      <td>15747</td>\n",
       "      <td>0.000055</td>\n",
       "    </tr>\n",
       "    <tr>\n",
       "      <th>94118</th>\n",
       "      <td>20763</td>\n",
       "      <td>85</td>\n",
       "      <td>3.93</td>\n",
       "      <td>3.930074</td>\n",
       "      <td>{'actual_k': 40, 'was_impossible': False}</td>\n",
       "      <td>65</td>\n",
       "      <td>6016</td>\n",
       "      <td>0.000074</td>\n",
       "    </tr>\n",
       "    <tr>\n",
       "      <th>78694</th>\n",
       "      <td>3700</td>\n",
       "      <td>45</td>\n",
       "      <td>4.42</td>\n",
       "      <td>4.419881</td>\n",
       "      <td>{'actual_k': 24, 'was_impossible': False}</td>\n",
       "      <td>24</td>\n",
       "      <td>13758</td>\n",
       "      <td>0.000119</td>\n",
       "    </tr>\n",
       "  </tbody>\n",
       "</table>\n",
       "</div>"
      ],
      "text/plain": [
       "          uid  iid   rui       est                                    details  \\\n",
       "117673   6770   53  0.44  0.439985  {'actual_k': 40, 'was_impossible': False}   \n",
       "84263   15986   62  4.71  4.709969  {'actual_k': 25, 'was_impossible': False}   \n",
       "75416   17382   48  0.63  0.630055  {'actual_k': 40, 'was_impossible': False}   \n",
       "94118   20763   85  3.93  3.930074  {'actual_k': 40, 'was_impossible': False}   \n",
       "78694    3700   45  4.42  4.419881  {'actual_k': 24, 'was_impossible': False}   \n",
       "\n",
       "        № кол-во пользовательских рейтингов  № кол-во рейтингов элементов  \\\n",
       "117673                                   51                         15931   \n",
       "84263                                    29                         16014   \n",
       "75416                                    62                         15747   \n",
       "94118                                    65                          6016   \n",
       "78694                                    24                         13758   \n",
       "\n",
       "           error  \n",
       "117673  0.000015  \n",
       "84263   0.000031  \n",
       "75416   0.000055  \n",
       "94118   0.000074  \n",
       "78694   0.000119  "
      ]
     },
     "execution_count": 14,
     "metadata": {},
     "output_type": "execute_result"
    }
   ],
   "source": [
    "best_predictions.head(5)"
   ]
  },
  {
   "cell_type": "code",
   "execution_count": 15,
   "id": "68a89929-b581-43d9-bfa5-452535641ace",
   "metadata": {
    "colab": {
     "base_uri": "https://localhost:8080/"
    },
    "id": "68a89929-b581-43d9-bfa5-452535641ace",
    "outputId": "0b2d86ba-8f2f-4601-8697-03a42e4f172a"
   },
   "outputs": [
    {
     "name": "stdout",
     "output_type": "stream",
     "text": [
      "19208 [89, 29, 62, 54, 35]\n",
      "8671 [32, 27, 72, 49, 68]\n",
      "6037 [89, 36, 27, 72, 49]\n",
      "3233 [50, 36, 27, 31, 76]\n",
      "3449 [50, 89, 53, 72, 49]\n",
      "10032 [32, 35, 29, 53, 72]\n",
      "5774 [89, 32, 29, 72, 68]\n",
      "23392 [89, 36, 62, 29, 35]\n",
      "3039 [89, 36, 62, 27, 53]\n",
      "17395 [89, 50, 27, 72, 35]\n"
     ]
    }
   ],
   "source": [
    "# Предикт для всех, кого нет в выборке для обучения\n",
    "testset = trainset.build_anti_testset()\n",
    "predictions = algo.test(testset)\n",
    "\n",
    "top_n = get_top_n(predictions)\n",
    "\n",
    "# Сделаем вывод рекомендаций\n",
    "a=0\n",
    "for uid, user_ratings in top_n.items():\n",
    "    a+=1\n",
    "    print(uid, [iid for (iid, _) in user_ratings])\n",
    "    \n",
    "    if a==10:\n",
    "        break"
   ]
  },
  {
   "cell_type": "markdown",
   "id": "aa5422a2-7447-489e-b789-5753fa32f2fa",
   "metadata": {
    "id": "aa5422a2-7447-489e-b789-5753fa32f2fa"
   },
   "source": [
    "### Для отправки на тестирование"
   ]
  },
  {
   "cell_type": "code",
   "execution_count": 33,
   "id": "d06b634c-c15c-4210-973c-1e4e7f7ccf9b",
   "metadata": {
    "colab": {
     "base_uri": "https://localhost:8080/",
     "height": 238
    },
    "id": "d06b634c-c15c-4210-973c-1e4e7f7ccf9b",
    "outputId": "0988a430-0875-4cce-986e-7973ba158917"
   },
   "outputs": [
    {
     "data": {
      "text/html": [
       "<div>\n",
       "<style scoped>\n",
       "    .dataframe tbody tr th:only-of-type {\n",
       "        vertical-align: middle;\n",
       "    }\n",
       "\n",
       "    .dataframe tbody tr th {\n",
       "        vertical-align: top;\n",
       "    }\n",
       "\n",
       "    .dataframe thead th {\n",
       "        text-align: right;\n",
       "    }\n",
       "</style>\n",
       "<table border=\"1\" class=\"dataframe\">\n",
       "  <thead>\n",
       "    <tr style=\"text-align: right;\">\n",
       "      <th></th>\n",
       "      <th>UID</th>\n",
       "      <th>JID</th>\n",
       "    </tr>\n",
       "    <tr>\n",
       "      <th>InteractionID</th>\n",
       "      <th></th>\n",
       "      <th></th>\n",
       "    </tr>\n",
       "  </thead>\n",
       "  <tbody>\n",
       "    <tr>\n",
       "      <th>0</th>\n",
       "      <td>11228</td>\n",
       "      <td>39</td>\n",
       "    </tr>\n",
       "    <tr>\n",
       "      <th>1</th>\n",
       "      <td>21724</td>\n",
       "      <td>85</td>\n",
       "    </tr>\n",
       "    <tr>\n",
       "      <th>2</th>\n",
       "      <td>16782</td>\n",
       "      <td>56</td>\n",
       "    </tr>\n",
       "    <tr>\n",
       "      <th>3</th>\n",
       "      <td>12105</td>\n",
       "      <td>42</td>\n",
       "    </tr>\n",
       "    <tr>\n",
       "      <th>4</th>\n",
       "      <td>14427</td>\n",
       "      <td>2</td>\n",
       "    </tr>\n",
       "  </tbody>\n",
       "</table>\n",
       "</div>"
      ],
      "text/plain": [
       "                 UID  JID\n",
       "InteractionID            \n",
       "0              11228   39\n",
       "1              21724   85\n",
       "2              16782   56\n",
       "3              12105   42\n",
       "4              14427    2"
      ]
     },
     "execution_count": 33,
     "metadata": {},
     "output_type": "execute_result"
    }
   ],
   "source": [
    "test = pd.read_csv(r'data\\recsys-in-practice\\test_joke_df_nofactrating.csv', index_col=0)\n",
    "test.head(5)"
   ]
  },
  {
   "cell_type": "code",
   "execution_count": 34,
   "id": "27bade05-e8a4-4b23-a370-0fc7151ad768",
   "metadata": {
    "id": "27bade05-e8a4-4b23-a370-0fc7151ad768"
   },
   "outputs": [],
   "source": [
    "test['Rating'] = test[['UID', 'JID']].apply(lambda x: algo.predict(x[0], x[1], verbose=False).est,\n",
    "                                                      axis = 1)\n",
    "                                                      \n"
   ]
  },
  {
   "cell_type": "code",
   "execution_count": 35,
   "id": "8856cf55-5e63-493c-9b33-69ee76e39ea6",
   "metadata": {
    "colab": {
     "base_uri": "https://localhost:8080/",
     "height": 238
    },
    "id": "8856cf55-5e63-493c-9b33-69ee76e39ea6",
    "outputId": "5465856f-5b98-418c-80a7-743d51727f88"
   },
   "outputs": [
    {
     "data": {
      "text/html": [
       "<div>\n",
       "<style scoped>\n",
       "    .dataframe tbody tr th:only-of-type {\n",
       "        vertical-align: middle;\n",
       "    }\n",
       "\n",
       "    .dataframe tbody tr th {\n",
       "        vertical-align: top;\n",
       "    }\n",
       "\n",
       "    .dataframe thead th {\n",
       "        text-align: right;\n",
       "    }\n",
       "</style>\n",
       "<table border=\"1\" class=\"dataframe\">\n",
       "  <thead>\n",
       "    <tr style=\"text-align: right;\">\n",
       "      <th></th>\n",
       "      <th>Rating</th>\n",
       "    </tr>\n",
       "    <tr>\n",
       "      <th>InteractionID</th>\n",
       "      <th></th>\n",
       "    </tr>\n",
       "  </thead>\n",
       "  <tbody>\n",
       "    <tr>\n",
       "      <th>0</th>\n",
       "      <td>0.826231</td>\n",
       "    </tr>\n",
       "    <tr>\n",
       "      <th>1</th>\n",
       "      <td>-5.278602</td>\n",
       "    </tr>\n",
       "    <tr>\n",
       "      <th>2</th>\n",
       "      <td>-1.332138</td>\n",
       "    </tr>\n",
       "    <tr>\n",
       "      <th>3</th>\n",
       "      <td>7.300694</td>\n",
       "    </tr>\n",
       "    <tr>\n",
       "      <th>4</th>\n",
       "      <td>6.709370</td>\n",
       "    </tr>\n",
       "  </tbody>\n",
       "</table>\n",
       "</div>"
      ],
      "text/plain": [
       "                 Rating\n",
       "InteractionID          \n",
       "0              0.826231\n",
       "1             -5.278602\n",
       "2             -1.332138\n",
       "3              7.300694\n",
       "4              6.709370"
      ]
     },
     "execution_count": 35,
     "metadata": {},
     "output_type": "execute_result"
    }
   ],
   "source": [
    "# вид набора данных, который должен быть отправлен для тестирования\n",
    "test['Rating'].to_frame().head(5)"
   ]
  },
  {
   "cell_type": "code",
   "execution_count": 36,
   "id": "yLcjElHPRU1v",
   "metadata": {
    "id": "yLcjElHPRU1v"
   },
   "outputs": [],
   "source": [
    "# формирование файла для отправки в Kaggle\n",
    "test['Rating'].to_frame().to_csv('baseline.csv')"
   ]
  },
  {
   "cell_type": "code",
   "execution_count": null,
   "id": "Br1Fjd7xSNhS",
   "metadata": {
    "id": "Br1Fjd7xSNhS"
   },
   "outputs": [],
   "source": []
  },
  {
   "cell_type": "code",
   "execution_count": null,
   "id": "3b5b434a",
   "metadata": {},
   "outputs": [],
   "source": []
  },
  {
   "cell_type": "code",
   "execution_count": 37,
   "id": "06a1937f",
   "metadata": {},
   "outputs": [
    {
     "data": {
      "text/html": [
       "<div>\n",
       "<style scoped>\n",
       "    .dataframe tbody tr th:only-of-type {\n",
       "        vertical-align: middle;\n",
       "    }\n",
       "\n",
       "    .dataframe tbody tr th {\n",
       "        vertical-align: top;\n",
       "    }\n",
       "\n",
       "    .dataframe thead th {\n",
       "        text-align: right;\n",
       "    }\n",
       "</style>\n",
       "<table border=\"1\" class=\"dataframe\">\n",
       "  <thead>\n",
       "    <tr style=\"text-align: right;\">\n",
       "      <th></th>\n",
       "      <th>Rating_mean</th>\n",
       "    </tr>\n",
       "    <tr>\n",
       "      <th>UID</th>\n",
       "      <th></th>\n",
       "    </tr>\n",
       "  </thead>\n",
       "  <tbody>\n",
       "    <tr>\n",
       "      <th>1</th>\n",
       "      <td>-3.466774</td>\n",
       "    </tr>\n",
       "    <tr>\n",
       "      <th>2</th>\n",
       "      <td>2.544881</td>\n",
       "    </tr>\n",
       "    <tr>\n",
       "      <th>3</th>\n",
       "      <td>7.047073</td>\n",
       "    </tr>\n",
       "    <tr>\n",
       "      <th>4</th>\n",
       "      <td>2.440256</td>\n",
       "    </tr>\n",
       "    <tr>\n",
       "      <th>5</th>\n",
       "      <td>3.098500</td>\n",
       "    </tr>\n",
       "    <tr>\n",
       "      <th>...</th>\n",
       "      <td>...</td>\n",
       "    </tr>\n",
       "    <tr>\n",
       "      <th>24979</th>\n",
       "      <td>1.944048</td>\n",
       "    </tr>\n",
       "    <tr>\n",
       "      <th>24980</th>\n",
       "      <td>1.986184</td>\n",
       "    </tr>\n",
       "    <tr>\n",
       "      <th>24981</th>\n",
       "      <td>-1.875385</td>\n",
       "    </tr>\n",
       "    <tr>\n",
       "      <th>24982</th>\n",
       "      <td>-0.485161</td>\n",
       "    </tr>\n",
       "    <tr>\n",
       "      <th>24983</th>\n",
       "      <td>2.474000</td>\n",
       "    </tr>\n",
       "  </tbody>\n",
       "</table>\n",
       "<p>24983 rows × 1 columns</p>\n",
       "</div>"
      ],
      "text/plain": [
       "       Rating_mean\n",
       "UID               \n",
       "1        -3.466774\n",
       "2         2.544881\n",
       "3         7.047073\n",
       "4         2.440256\n",
       "5         3.098500\n",
       "...            ...\n",
       "24979     1.944048\n",
       "24980     1.986184\n",
       "24981    -1.875385\n",
       "24982    -0.485161\n",
       "24983     2.474000\n",
       "\n",
       "[24983 rows x 1 columns]"
      ]
     },
     "execution_count": 37,
     "metadata": {},
     "output_type": "execute_result"
    }
   ],
   "source": [
    "df_user_group = df.groupby('UID').agg({'Rating':'mean'}).rename(columns={'Rating':'Rating_mean'})\n",
    "df_user_group"
   ]
  },
  {
   "cell_type": "code",
   "execution_count": 38,
   "id": "7dae2d07",
   "metadata": {},
   "outputs": [
    {
     "data": {
      "text/html": [
       "<div>\n",
       "<style scoped>\n",
       "    .dataframe tbody tr th:only-of-type {\n",
       "        vertical-align: middle;\n",
       "    }\n",
       "\n",
       "    .dataframe tbody tr th {\n",
       "        vertical-align: top;\n",
       "    }\n",
       "\n",
       "    .dataframe thead th {\n",
       "        text-align: right;\n",
       "    }\n",
       "</style>\n",
       "<table border=\"1\" class=\"dataframe\">\n",
       "  <thead>\n",
       "    <tr style=\"text-align: right;\">\n",
       "      <th></th>\n",
       "      <th>Rating_mean</th>\n",
       "    </tr>\n",
       "    <tr>\n",
       "      <th>JID</th>\n",
       "      <th></th>\n",
       "    </tr>\n",
       "  </thead>\n",
       "  <tbody>\n",
       "    <tr>\n",
       "      <th>1</th>\n",
       "      <td>0.937282</td>\n",
       "    </tr>\n",
       "    <tr>\n",
       "      <th>2</th>\n",
       "      <td>0.190557</td>\n",
       "    </tr>\n",
       "    <tr>\n",
       "      <th>3</th>\n",
       "      <td>0.340709</td>\n",
       "    </tr>\n",
       "    <tr>\n",
       "      <th>4</th>\n",
       "      <td>-1.448563</td>\n",
       "    </tr>\n",
       "    <tr>\n",
       "      <th>5</th>\n",
       "      <td>0.419578</td>\n",
       "    </tr>\n",
       "    <tr>\n",
       "      <th>...</th>\n",
       "      <td>...</td>\n",
       "    </tr>\n",
       "    <tr>\n",
       "      <th>96</th>\n",
       "      <td>1.495376</td>\n",
       "    </tr>\n",
       "    <tr>\n",
       "      <th>97</th>\n",
       "      <td>1.700951</td>\n",
       "    </tr>\n",
       "    <tr>\n",
       "      <th>98</th>\n",
       "      <td>0.752163</td>\n",
       "    </tr>\n",
       "    <tr>\n",
       "      <th>99</th>\n",
       "      <td>-0.001183</td>\n",
       "    </tr>\n",
       "    <tr>\n",
       "      <th>100</th>\n",
       "      <td>1.317789</td>\n",
       "    </tr>\n",
       "  </tbody>\n",
       "</table>\n",
       "<p>100 rows × 1 columns</p>\n",
       "</div>"
      ],
      "text/plain": [
       "     Rating_mean\n",
       "JID             \n",
       "1       0.937282\n",
       "2       0.190557\n",
       "3       0.340709\n",
       "4      -1.448563\n",
       "5       0.419578\n",
       "..           ...\n",
       "96      1.495376\n",
       "97      1.700951\n",
       "98      0.752163\n",
       "99     -0.001183\n",
       "100     1.317789\n",
       "\n",
       "[100 rows x 1 columns]"
      ]
     },
     "execution_count": 38,
     "metadata": {},
     "output_type": "execute_result"
    }
   ],
   "source": [
    "df_joke_group = df.groupby('JID').agg({'Rating':'mean'}).rename(columns={'Rating':'Rating_mean'})\n",
    "df_joke_group"
   ]
  },
  {
   "cell_type": "code",
   "execution_count": 39,
   "id": "44f3a701",
   "metadata": {},
   "outputs": [
    {
     "data": {
      "text/html": [
       "<div>\n",
       "<style scoped>\n",
       "    .dataframe tbody tr th:only-of-type {\n",
       "        vertical-align: middle;\n",
       "    }\n",
       "\n",
       "    .dataframe tbody tr th {\n",
       "        vertical-align: top;\n",
       "    }\n",
       "\n",
       "    .dataframe thead th {\n",
       "        text-align: right;\n",
       "    }\n",
       "</style>\n",
       "<table border=\"1\" class=\"dataframe\">\n",
       "  <thead>\n",
       "    <tr style=\"text-align: right;\">\n",
       "      <th></th>\n",
       "      <th>Rating_mean</th>\n",
       "    </tr>\n",
       "    <tr>\n",
       "      <th>UID</th>\n",
       "      <th></th>\n",
       "    </tr>\n",
       "  </thead>\n",
       "  <tbody>\n",
       "    <tr>\n",
       "      <th>3</th>\n",
       "      <td>7.047073</td>\n",
       "    </tr>\n",
       "    <tr>\n",
       "      <th>183</th>\n",
       "      <td>-7.052075</td>\n",
       "    </tr>\n",
       "    <tr>\n",
       "      <th>210</th>\n",
       "      <td>7.065366</td>\n",
       "    </tr>\n",
       "    <tr>\n",
       "      <th>468</th>\n",
       "      <td>7.329355</td>\n",
       "    </tr>\n",
       "    <tr>\n",
       "      <th>616</th>\n",
       "      <td>7.519103</td>\n",
       "    </tr>\n",
       "    <tr>\n",
       "      <th>...</th>\n",
       "      <td>...</td>\n",
       "    </tr>\n",
       "    <tr>\n",
       "      <th>24498</th>\n",
       "      <td>7.281266</td>\n",
       "    </tr>\n",
       "    <tr>\n",
       "      <th>24556</th>\n",
       "      <td>7.670154</td>\n",
       "    </tr>\n",
       "    <tr>\n",
       "      <th>24620</th>\n",
       "      <td>-7.565510</td>\n",
       "    </tr>\n",
       "    <tr>\n",
       "      <th>24665</th>\n",
       "      <td>7.013421</td>\n",
       "    </tr>\n",
       "    <tr>\n",
       "      <th>24940</th>\n",
       "      <td>7.616744</td>\n",
       "    </tr>\n",
       "  </tbody>\n",
       "</table>\n",
       "<p>260 rows × 1 columns</p>\n",
       "</div>"
      ],
      "text/plain": [
       "       Rating_mean\n",
       "UID               \n",
       "3         7.047073\n",
       "183      -7.052075\n",
       "210       7.065366\n",
       "468       7.329355\n",
       "616       7.519103\n",
       "...            ...\n",
       "24498     7.281266\n",
       "24556     7.670154\n",
       "24620    -7.565510\n",
       "24665     7.013421\n",
       "24940     7.616744\n",
       "\n",
       "[260 rows x 1 columns]"
      ]
     },
     "execution_count": 39,
     "metadata": {},
     "output_type": "execute_result"
    }
   ],
   "source": [
    "df_user_group[np.abs(df_user_group['Rating_mean'])> 7]"
   ]
  },
  {
   "cell_type": "code",
   "execution_count": 40,
   "id": "c7a939ab",
   "metadata": {},
   "outputs": [
    {
     "data": {
      "text/html": [
       "<div>\n",
       "<style scoped>\n",
       "    .dataframe tbody tr th:only-of-type {\n",
       "        vertical-align: middle;\n",
       "    }\n",
       "\n",
       "    .dataframe tbody tr th {\n",
       "        vertical-align: top;\n",
       "    }\n",
       "\n",
       "    .dataframe thead th {\n",
       "        text-align: right;\n",
       "    }\n",
       "</style>\n",
       "<table border=\"1\" class=\"dataframe\">\n",
       "  <thead>\n",
       "    <tr style=\"text-align: right;\">\n",
       "      <th></th>\n",
       "      <th>UID</th>\n",
       "      <th>JID</th>\n",
       "      <th>Rating</th>\n",
       "      <th>Rating_mean</th>\n",
       "    </tr>\n",
       "    <tr>\n",
       "      <th>InteractionID</th>\n",
       "      <th></th>\n",
       "      <th></th>\n",
       "      <th></th>\n",
       "      <th></th>\n",
       "    </tr>\n",
       "  </thead>\n",
       "  <tbody>\n",
       "    <tr>\n",
       "      <th>0</th>\n",
       "      <td>11228</td>\n",
       "      <td>39</td>\n",
       "      <td>0.826231</td>\n",
       "      <td>0.406129</td>\n",
       "    </tr>\n",
       "    <tr>\n",
       "      <th>1</th>\n",
       "      <td>21724</td>\n",
       "      <td>85</td>\n",
       "      <td>-5.278602</td>\n",
       "      <td>-3.935714</td>\n",
       "    </tr>\n",
       "    <tr>\n",
       "      <th>2</th>\n",
       "      <td>16782</td>\n",
       "      <td>56</td>\n",
       "      <td>-1.332138</td>\n",
       "      <td>-2.209747</td>\n",
       "    </tr>\n",
       "    <tr>\n",
       "      <th>3</th>\n",
       "      <td>12105</td>\n",
       "      <td>42</td>\n",
       "      <td>7.300694</td>\n",
       "      <td>6.441163</td>\n",
       "    </tr>\n",
       "    <tr>\n",
       "      <th>4</th>\n",
       "      <td>14427</td>\n",
       "      <td>2</td>\n",
       "      <td>6.709370</td>\n",
       "      <td>6.293051</td>\n",
       "    </tr>\n",
       "    <tr>\n",
       "      <th>...</th>\n",
       "      <td>...</td>\n",
       "      <td>...</td>\n",
       "      <td>...</td>\n",
       "      <td>...</td>\n",
       "    </tr>\n",
       "    <tr>\n",
       "      <th>362086</th>\n",
       "      <td>3085</td>\n",
       "      <td>66</td>\n",
       "      <td>1.089143</td>\n",
       "      <td>0.487368</td>\n",
       "    </tr>\n",
       "    <tr>\n",
       "      <th>362087</th>\n",
       "      <td>13765</td>\n",
       "      <td>31</td>\n",
       "      <td>2.856345</td>\n",
       "      <td>1.747273</td>\n",
       "    </tr>\n",
       "    <tr>\n",
       "      <th>362088</th>\n",
       "      <td>10341</td>\n",
       "      <td>29</td>\n",
       "      <td>5.265267</td>\n",
       "      <td>2.569434</td>\n",
       "    </tr>\n",
       "    <tr>\n",
       "      <th>362089</th>\n",
       "      <td>3553</td>\n",
       "      <td>8</td>\n",
       "      <td>-1.395459</td>\n",
       "      <td>0.488800</td>\n",
       "    </tr>\n",
       "    <tr>\n",
       "      <th>362090</th>\n",
       "      <td>1199</td>\n",
       "      <td>67</td>\n",
       "      <td>-2.505736</td>\n",
       "      <td>0.516349</td>\n",
       "    </tr>\n",
       "  </tbody>\n",
       "</table>\n",
       "<p>362091 rows × 4 columns</p>\n",
       "</div>"
      ],
      "text/plain": [
       "                 UID  JID    Rating  Rating_mean\n",
       "InteractionID                                   \n",
       "0              11228   39  0.826231     0.406129\n",
       "1              21724   85 -5.278602    -3.935714\n",
       "2              16782   56 -1.332138    -2.209747\n",
       "3              12105   42  7.300694     6.441163\n",
       "4              14427    2  6.709370     6.293051\n",
       "...              ...  ...       ...          ...\n",
       "362086          3085   66  1.089143     0.487368\n",
       "362087         13765   31  2.856345     1.747273\n",
       "362088         10341   29  5.265267     2.569434\n",
       "362089          3553    8 -1.395459     0.488800\n",
       "362090          1199   67 -2.505736     0.516349\n",
       "\n",
       "[362091 rows x 4 columns]"
      ]
     },
     "execution_count": 40,
     "metadata": {},
     "output_type": "execute_result"
    }
   ],
   "source": [
    "test = test.join(df_user_group, on='UID')\n",
    "test"
   ]
  },
  {
   "cell_type": "code",
   "execution_count": 41,
   "id": "6c332ac2",
   "metadata": {},
   "outputs": [
    {
     "data": {
      "text/html": [
       "<div>\n",
       "<style scoped>\n",
       "    .dataframe tbody tr th:only-of-type {\n",
       "        vertical-align: middle;\n",
       "    }\n",
       "\n",
       "    .dataframe tbody tr th {\n",
       "        vertical-align: top;\n",
       "    }\n",
       "\n",
       "    .dataframe thead th {\n",
       "        text-align: right;\n",
       "    }\n",
       "</style>\n",
       "<table border=\"1\" class=\"dataframe\">\n",
       "  <thead>\n",
       "    <tr style=\"text-align: right;\">\n",
       "      <th></th>\n",
       "      <th>UID</th>\n",
       "      <th>JID</th>\n",
       "      <th>Rating</th>\n",
       "      <th>Rating_mean</th>\n",
       "    </tr>\n",
       "    <tr>\n",
       "      <th>InteractionID</th>\n",
       "      <th></th>\n",
       "      <th></th>\n",
       "      <th></th>\n",
       "      <th></th>\n",
       "    </tr>\n",
       "  </thead>\n",
       "  <tbody>\n",
       "    <tr>\n",
       "      <th>1275</th>\n",
       "      <td>5</td>\n",
       "      <td>5</td>\n",
       "      <td>3.571999</td>\n",
       "      <td>3.0985</td>\n",
       "    </tr>\n",
       "    <tr>\n",
       "      <th>30805</th>\n",
       "      <td>5</td>\n",
       "      <td>34</td>\n",
       "      <td>4.327722</td>\n",
       "      <td>3.0985</td>\n",
       "    </tr>\n",
       "    <tr>\n",
       "      <th>40168</th>\n",
       "      <td>5</td>\n",
       "      <td>6</td>\n",
       "      <td>4.959394</td>\n",
       "      <td>3.0985</td>\n",
       "    </tr>\n",
       "    <tr>\n",
       "      <th>109159</th>\n",
       "      <td>5</td>\n",
       "      <td>17</td>\n",
       "      <td>0.696426</td>\n",
       "      <td>3.0985</td>\n",
       "    </tr>\n",
       "    <tr>\n",
       "      <th>119674</th>\n",
       "      <td>5</td>\n",
       "      <td>10</td>\n",
       "      <td>4.401963</td>\n",
       "      <td>3.0985</td>\n",
       "    </tr>\n",
       "    <tr>\n",
       "      <th>136806</th>\n",
       "      <td>5</td>\n",
       "      <td>97</td>\n",
       "      <td>4.997907</td>\n",
       "      <td>3.0985</td>\n",
       "    </tr>\n",
       "    <tr>\n",
       "      <th>138623</th>\n",
       "      <td>5</td>\n",
       "      <td>60</td>\n",
       "      <td>1.547504</td>\n",
       "      <td>3.0985</td>\n",
       "    </tr>\n",
       "    <tr>\n",
       "      <th>140037</th>\n",
       "      <td>5</td>\n",
       "      <td>91</td>\n",
       "      <td>5.059354</td>\n",
       "      <td>3.0985</td>\n",
       "    </tr>\n",
       "    <tr>\n",
       "      <th>197240</th>\n",
       "      <td>5</td>\n",
       "      <td>29</td>\n",
       "      <td>6.161103</td>\n",
       "      <td>3.0985</td>\n",
       "    </tr>\n",
       "    <tr>\n",
       "      <th>231077</th>\n",
       "      <td>5</td>\n",
       "      <td>87</td>\n",
       "      <td>5.125920</td>\n",
       "      <td>3.0985</td>\n",
       "    </tr>\n",
       "    <tr>\n",
       "      <th>286649</th>\n",
       "      <td>5</td>\n",
       "      <td>8</td>\n",
       "      <td>1.007577</td>\n",
       "      <td>3.0985</td>\n",
       "    </tr>\n",
       "  </tbody>\n",
       "</table>\n",
       "</div>"
      ],
      "text/plain": [
       "               UID  JID    Rating  Rating_mean\n",
       "InteractionID                                 \n",
       "1275             5    5  3.571999       3.0985\n",
       "30805            5   34  4.327722       3.0985\n",
       "40168            5    6  4.959394       3.0985\n",
       "109159           5   17  0.696426       3.0985\n",
       "119674           5   10  4.401963       3.0985\n",
       "136806           5   97  4.997907       3.0985\n",
       "138623           5   60  1.547504       3.0985\n",
       "140037           5   91  5.059354       3.0985\n",
       "197240           5   29  6.161103       3.0985\n",
       "231077           5   87  5.125920       3.0985\n",
       "286649           5    8  1.007577       3.0985"
      ]
     },
     "execution_count": 41,
     "metadata": {},
     "output_type": "execute_result"
    }
   ],
   "source": [
    "test[test['UID'] == 5]"
   ]
  },
  {
   "cell_type": "code",
   "execution_count": 42,
   "id": "579b6dbd",
   "metadata": {},
   "outputs": [],
   "source": [
    "test = test.rename(columns={'Rating':'Rating_old'})"
   ]
  },
  {
   "cell_type": "code",
   "execution_count": 43,
   "id": "b9bb0097",
   "metadata": {},
   "outputs": [],
   "source": [
    "test['Rating'] = (test['Rating_old'] + test['Rating_mean']) / 2"
   ]
  },
  {
   "cell_type": "code",
   "execution_count": 44,
   "id": "f87040a9",
   "metadata": {},
   "outputs": [
    {
     "data": {
      "text/html": [
       "<div>\n",
       "<style scoped>\n",
       "    .dataframe tbody tr th:only-of-type {\n",
       "        vertical-align: middle;\n",
       "    }\n",
       "\n",
       "    .dataframe tbody tr th {\n",
       "        vertical-align: top;\n",
       "    }\n",
       "\n",
       "    .dataframe thead th {\n",
       "        text-align: right;\n",
       "    }\n",
       "</style>\n",
       "<table border=\"1\" class=\"dataframe\">\n",
       "  <thead>\n",
       "    <tr style=\"text-align: right;\">\n",
       "      <th></th>\n",
       "      <th>UID</th>\n",
       "      <th>JID</th>\n",
       "      <th>Rating_old</th>\n",
       "      <th>Rating_mean</th>\n",
       "      <th>Rating</th>\n",
       "    </tr>\n",
       "    <tr>\n",
       "      <th>InteractionID</th>\n",
       "      <th></th>\n",
       "      <th></th>\n",
       "      <th></th>\n",
       "      <th></th>\n",
       "      <th></th>\n",
       "    </tr>\n",
       "  </thead>\n",
       "  <tbody>\n",
       "    <tr>\n",
       "      <th>0</th>\n",
       "      <td>11228</td>\n",
       "      <td>39</td>\n",
       "      <td>0.826231</td>\n",
       "      <td>0.406129</td>\n",
       "      <td>0.616180</td>\n",
       "    </tr>\n",
       "    <tr>\n",
       "      <th>1</th>\n",
       "      <td>21724</td>\n",
       "      <td>85</td>\n",
       "      <td>-5.278602</td>\n",
       "      <td>-3.935714</td>\n",
       "      <td>-4.607158</td>\n",
       "    </tr>\n",
       "    <tr>\n",
       "      <th>2</th>\n",
       "      <td>16782</td>\n",
       "      <td>56</td>\n",
       "      <td>-1.332138</td>\n",
       "      <td>-2.209747</td>\n",
       "      <td>-1.770942</td>\n",
       "    </tr>\n",
       "    <tr>\n",
       "      <th>3</th>\n",
       "      <td>12105</td>\n",
       "      <td>42</td>\n",
       "      <td>7.300694</td>\n",
       "      <td>6.441163</td>\n",
       "      <td>6.870929</td>\n",
       "    </tr>\n",
       "    <tr>\n",
       "      <th>4</th>\n",
       "      <td>14427</td>\n",
       "      <td>2</td>\n",
       "      <td>6.709370</td>\n",
       "      <td>6.293051</td>\n",
       "      <td>6.501210</td>\n",
       "    </tr>\n",
       "    <tr>\n",
       "      <th>...</th>\n",
       "      <td>...</td>\n",
       "      <td>...</td>\n",
       "      <td>...</td>\n",
       "      <td>...</td>\n",
       "      <td>...</td>\n",
       "    </tr>\n",
       "    <tr>\n",
       "      <th>362086</th>\n",
       "      <td>3085</td>\n",
       "      <td>66</td>\n",
       "      <td>1.089143</td>\n",
       "      <td>0.487368</td>\n",
       "      <td>0.788256</td>\n",
       "    </tr>\n",
       "    <tr>\n",
       "      <th>362087</th>\n",
       "      <td>13765</td>\n",
       "      <td>31</td>\n",
       "      <td>2.856345</td>\n",
       "      <td>1.747273</td>\n",
       "      <td>2.301809</td>\n",
       "    </tr>\n",
       "    <tr>\n",
       "      <th>362088</th>\n",
       "      <td>10341</td>\n",
       "      <td>29</td>\n",
       "      <td>5.265267</td>\n",
       "      <td>2.569434</td>\n",
       "      <td>3.917351</td>\n",
       "    </tr>\n",
       "    <tr>\n",
       "      <th>362089</th>\n",
       "      <td>3553</td>\n",
       "      <td>8</td>\n",
       "      <td>-1.395459</td>\n",
       "      <td>0.488800</td>\n",
       "      <td>-0.453330</td>\n",
       "    </tr>\n",
       "    <tr>\n",
       "      <th>362090</th>\n",
       "      <td>1199</td>\n",
       "      <td>67</td>\n",
       "      <td>-2.505736</td>\n",
       "      <td>0.516349</td>\n",
       "      <td>-0.994693</td>\n",
       "    </tr>\n",
       "  </tbody>\n",
       "</table>\n",
       "<p>362091 rows × 5 columns</p>\n",
       "</div>"
      ],
      "text/plain": [
       "                 UID  JID  Rating_old  Rating_mean    Rating\n",
       "InteractionID                                               \n",
       "0              11228   39    0.826231     0.406129  0.616180\n",
       "1              21724   85   -5.278602    -3.935714 -4.607158\n",
       "2              16782   56   -1.332138    -2.209747 -1.770942\n",
       "3              12105   42    7.300694     6.441163  6.870929\n",
       "4              14427    2    6.709370     6.293051  6.501210\n",
       "...              ...  ...         ...          ...       ...\n",
       "362086          3085   66    1.089143     0.487368  0.788256\n",
       "362087         13765   31    2.856345     1.747273  2.301809\n",
       "362088         10341   29    5.265267     2.569434  3.917351\n",
       "362089          3553    8   -1.395459     0.488800 -0.453330\n",
       "362090          1199   67   -2.505736     0.516349 -0.994693\n",
       "\n",
       "[362091 rows x 5 columns]"
      ]
     },
     "execution_count": 44,
     "metadata": {},
     "output_type": "execute_result"
    }
   ],
   "source": [
    "test"
   ]
  },
  {
   "cell_type": "code",
   "execution_count": 45,
   "id": "364f271a",
   "metadata": {},
   "outputs": [
    {
     "data": {
      "text/html": [
       "<div>\n",
       "<style scoped>\n",
       "    .dataframe tbody tr th:only-of-type {\n",
       "        vertical-align: middle;\n",
       "    }\n",
       "\n",
       "    .dataframe tbody tr th {\n",
       "        vertical-align: top;\n",
       "    }\n",
       "\n",
       "    .dataframe thead th {\n",
       "        text-align: right;\n",
       "    }\n",
       "</style>\n",
       "<table border=\"1\" class=\"dataframe\">\n",
       "  <thead>\n",
       "    <tr style=\"text-align: right;\">\n",
       "      <th></th>\n",
       "      <th>Rating</th>\n",
       "    </tr>\n",
       "    <tr>\n",
       "      <th>InteractionID</th>\n",
       "      <th></th>\n",
       "    </tr>\n",
       "  </thead>\n",
       "  <tbody>\n",
       "    <tr>\n",
       "      <th>0</th>\n",
       "      <td>0.616180</td>\n",
       "    </tr>\n",
       "    <tr>\n",
       "      <th>1</th>\n",
       "      <td>-4.607158</td>\n",
       "    </tr>\n",
       "    <tr>\n",
       "      <th>2</th>\n",
       "      <td>-1.770942</td>\n",
       "    </tr>\n",
       "    <tr>\n",
       "      <th>3</th>\n",
       "      <td>6.870929</td>\n",
       "    </tr>\n",
       "    <tr>\n",
       "      <th>4</th>\n",
       "      <td>6.501210</td>\n",
       "    </tr>\n",
       "  </tbody>\n",
       "</table>\n",
       "</div>"
      ],
      "text/plain": [
       "                 Rating\n",
       "InteractionID          \n",
       "0              0.616180\n",
       "1             -4.607158\n",
       "2             -1.770942\n",
       "3              6.870929\n",
       "4              6.501210"
      ]
     },
     "execution_count": 45,
     "metadata": {},
     "output_type": "execute_result"
    }
   ],
   "source": [
    "# вид набора данных, который должен быть отправлен для тестирования\n",
    "test['Rating'].to_frame().head(5)"
   ]
  },
  {
   "cell_type": "code",
   "execution_count": 46,
   "id": "8679e7aa",
   "metadata": {},
   "outputs": [],
   "source": [
    "# формирование файла для отправки в Kaggle\n",
    "test['Rating'].to_frame().to_csv('baseline_mean.csv')"
   ]
  },
  {
   "cell_type": "code",
   "execution_count": null,
   "id": "78aea450",
   "metadata": {},
   "outputs": [],
   "source": []
  },
  {
   "cell_type": "code",
   "execution_count": 47,
   "id": "37c7aa26",
   "metadata": {},
   "outputs": [
    {
     "data": {
      "text/plain": [
       "Prediction(uid=11228, iid=39, r_ui=None, est=0.8262309301836691, details={'actual_k': 40, 'was_impossible': False})"
      ]
     },
     "execution_count": 47,
     "metadata": {},
     "output_type": "execute_result"
    }
   ],
   "source": [
    "algo.predict(11228, 39, verbose=False)"
   ]
  },
  {
   "cell_type": "code",
   "execution_count": 48,
   "id": "342d1394",
   "metadata": {},
   "outputs": [
    {
     "data": {
      "text/plain": [
       "(0.7425443267984426, {'actual_k': 24})"
      ]
     },
     "execution_count": 48,
     "metadata": {},
     "output_type": "execute_result"
    }
   ],
   "source": [
    "algo.estimate(u=11228, i=39)"
   ]
  },
  {
   "cell_type": "code",
   "execution_count": 49,
   "id": "89fd4803",
   "metadata": {},
   "outputs": [
    {
     "data": {
      "text/plain": [
       "(100, 100)"
      ]
     },
     "execution_count": 49,
     "metadata": {},
     "output_type": "execute_result"
    }
   ],
   "source": [
    "algo.sim.shape"
   ]
  }
 ],
 "metadata": {
  "colab": {
   "provenance": []
  },
  "kernelspec": {
   "display_name": "Python 3 (ipykernel)",
   "language": "python",
   "name": "python3"
  },
  "language_info": {
   "codemirror_mode": {
    "name": "ipython",
    "version": 3
   },
   "file_extension": ".py",
   "mimetype": "text/x-python",
   "name": "python",
   "nbconvert_exporter": "python",
   "pygments_lexer": "ipython3",
   "version": "3.10.4"
  }
 },
 "nbformat": 4,
 "nbformat_minor": 5
}
