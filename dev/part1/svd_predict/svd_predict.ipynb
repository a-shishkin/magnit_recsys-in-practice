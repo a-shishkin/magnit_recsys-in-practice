{
 "cells": [
  {
   "cell_type": "code",
   "execution_count": 27,
   "id": "dfa736e2",
   "metadata": {},
   "outputs": [],
   "source": [
    "import pandas as pd\n",
    "import numpy as np\n",
    "from scipy import sparse\n",
    "from sklearn.preprocessing import normalize\n",
    "import time\n",
    "from tqdm.notebook import tqdm\n",
    "import datetime\n",
    "import os\n",
    "import matplotlib.pyplot as plt\n",
    "from collections import Counter\n",
    "import seaborn as sns\n",
    "from sklearn.metrics import mean_squared_error\n",
    "\n",
    "import scipy.sparse.linalg\n",
    "from scipy.sparse import coo_matrix"
   ]
  },
  {
   "cell_type": "code",
   "execution_count": 17,
   "id": "c4d16a9c",
   "metadata": {},
   "outputs": [],
   "source": [
    "train_joke_df = pd.read_csv(r'..\\data\\recsys-in-practice\\train_joke_df.csv')"
   ]
  },
  {
   "cell_type": "code",
   "execution_count": 5,
   "id": "30aca3ce",
   "metadata": {},
   "outputs": [],
   "source": [
    "joke_df = pd.read_csv(r'..\\joke_df_features_svd.csv')\n",
    "user_df = pd.read_csv(r'..\\user_df_features_svd.csv')"
   ]
  },
  {
   "cell_type": "code",
   "execution_count": 6,
   "id": "cb7ea2e9",
   "metadata": {},
   "outputs": [
    {
     "data": {
      "text/html": [
       "<div>\n",
       "<style scoped>\n",
       "    .dataframe tbody tr th:only-of-type {\n",
       "        vertical-align: middle;\n",
       "    }\n",
       "\n",
       "    .dataframe tbody tr th {\n",
       "        vertical-align: top;\n",
       "    }\n",
       "\n",
       "    .dataframe thead th {\n",
       "        text-align: right;\n",
       "    }\n",
       "</style>\n",
       "<table border=\"1\" class=\"dataframe\">\n",
       "  <thead>\n",
       "    <tr style=\"text-align: right;\">\n",
       "      <th></th>\n",
       "      <th>joke_feature_1</th>\n",
       "      <th>joke_feature_2</th>\n",
       "      <th>joke_feature_3</th>\n",
       "      <th>joke_feature_4</th>\n",
       "      <th>joke_feature_5</th>\n",
       "      <th>joke_feature_6</th>\n",
       "      <th>joke_feature_7</th>\n",
       "      <th>joke_feature_8</th>\n",
       "      <th>joke_feature_9</th>\n",
       "      <th>joke_feature_10</th>\n",
       "      <th>...</th>\n",
       "      <th>joke_feature_91</th>\n",
       "      <th>joke_feature_92</th>\n",
       "      <th>joke_feature_93</th>\n",
       "      <th>joke_feature_94</th>\n",
       "      <th>joke_feature_95</th>\n",
       "      <th>joke_feature_96</th>\n",
       "      <th>joke_feature_97</th>\n",
       "      <th>joke_feature_98</th>\n",
       "      <th>joke_feature_99</th>\n",
       "      <th>joke_feature_100</th>\n",
       "    </tr>\n",
       "  </thead>\n",
       "  <tbody>\n",
       "    <tr>\n",
       "      <th>0</th>\n",
       "      <td>0.112688</td>\n",
       "      <td>0.222817</td>\n",
       "      <td>-0.195922</td>\n",
       "      <td>0.219684</td>\n",
       "      <td>0.411241</td>\n",
       "      <td>-0.053139</td>\n",
       "      <td>0.290816</td>\n",
       "      <td>-0.058500</td>\n",
       "      <td>0.003905</td>\n",
       "      <td>0.066091</td>\n",
       "      <td>...</td>\n",
       "      <td>0.431792</td>\n",
       "      <td>-0.320441</td>\n",
       "      <td>0.025341</td>\n",
       "      <td>0.102580</td>\n",
       "      <td>-0.387499</td>\n",
       "      <td>0.224376</td>\n",
       "      <td>0.364185</td>\n",
       "      <td>-0.144255</td>\n",
       "      <td>-0.240137</td>\n",
       "      <td>-0.015587</td>\n",
       "    </tr>\n",
       "    <tr>\n",
       "      <th>1</th>\n",
       "      <td>0.313724</td>\n",
       "      <td>0.043327</td>\n",
       "      <td>-0.048844</td>\n",
       "      <td>0.067215</td>\n",
       "      <td>0.307983</td>\n",
       "      <td>0.014399</td>\n",
       "      <td>0.256734</td>\n",
       "      <td>-0.074591</td>\n",
       "      <td>-0.023945</td>\n",
       "      <td>0.102127</td>\n",
       "      <td>...</td>\n",
       "      <td>0.623640</td>\n",
       "      <td>0.011707</td>\n",
       "      <td>-0.018323</td>\n",
       "      <td>-0.022698</td>\n",
       "      <td>-0.248734</td>\n",
       "      <td>-0.178312</td>\n",
       "      <td>0.374911</td>\n",
       "      <td>-0.056900</td>\n",
       "      <td>-0.330262</td>\n",
       "      <td>-0.087538</td>\n",
       "    </tr>\n",
       "    <tr>\n",
       "      <th>2</th>\n",
       "      <td>-0.252002</td>\n",
       "      <td>0.430994</td>\n",
       "      <td>0.220400</td>\n",
       "      <td>0.133130</td>\n",
       "      <td>0.135608</td>\n",
       "      <td>0.111379</td>\n",
       "      <td>0.129852</td>\n",
       "      <td>0.039378</td>\n",
       "      <td>-0.162345</td>\n",
       "      <td>0.195971</td>\n",
       "      <td>...</td>\n",
       "      <td>-0.162176</td>\n",
       "      <td>-0.297996</td>\n",
       "      <td>-0.132594</td>\n",
       "      <td>0.337949</td>\n",
       "      <td>0.067280</td>\n",
       "      <td>0.285934</td>\n",
       "      <td>-0.153183</td>\n",
       "      <td>0.132184</td>\n",
       "      <td>0.000751</td>\n",
       "      <td>-0.057890</td>\n",
       "    </tr>\n",
       "    <tr>\n",
       "      <th>3</th>\n",
       "      <td>-0.052535</td>\n",
       "      <td>0.541485</td>\n",
       "      <td>-0.223866</td>\n",
       "      <td>0.139070</td>\n",
       "      <td>0.385290</td>\n",
       "      <td>0.131492</td>\n",
       "      <td>0.507533</td>\n",
       "      <td>0.002464</td>\n",
       "      <td>-0.133843</td>\n",
       "      <td>-0.067574</td>\n",
       "      <td>...</td>\n",
       "      <td>0.040186</td>\n",
       "      <td>-0.182518</td>\n",
       "      <td>0.084169</td>\n",
       "      <td>0.219612</td>\n",
       "      <td>-0.213434</td>\n",
       "      <td>0.361682</td>\n",
       "      <td>0.079440</td>\n",
       "      <td>-0.318766</td>\n",
       "      <td>-0.021421</td>\n",
       "      <td>0.146524</td>\n",
       "    </tr>\n",
       "    <tr>\n",
       "      <th>4</th>\n",
       "      <td>-0.027378</td>\n",
       "      <td>0.174890</td>\n",
       "      <td>-0.053249</td>\n",
       "      <td>0.102202</td>\n",
       "      <td>0.344133</td>\n",
       "      <td>0.069124</td>\n",
       "      <td>0.256610</td>\n",
       "      <td>-0.168126</td>\n",
       "      <td>-0.235313</td>\n",
       "      <td>0.104072</td>\n",
       "      <td>...</td>\n",
       "      <td>-0.037136</td>\n",
       "      <td>-0.286614</td>\n",
       "      <td>-0.147054</td>\n",
       "      <td>0.241144</td>\n",
       "      <td>0.003931</td>\n",
       "      <td>0.260650</td>\n",
       "      <td>0.021384</td>\n",
       "      <td>-0.104395</td>\n",
       "      <td>0.103104</td>\n",
       "      <td>0.084330</td>\n",
       "    </tr>\n",
       "    <tr>\n",
       "      <th>...</th>\n",
       "      <td>...</td>\n",
       "      <td>...</td>\n",
       "      <td>...</td>\n",
       "      <td>...</td>\n",
       "      <td>...</td>\n",
       "      <td>...</td>\n",
       "      <td>...</td>\n",
       "      <td>...</td>\n",
       "      <td>...</td>\n",
       "      <td>...</td>\n",
       "      <td>...</td>\n",
       "      <td>...</td>\n",
       "      <td>...</td>\n",
       "      <td>...</td>\n",
       "      <td>...</td>\n",
       "      <td>...</td>\n",
       "      <td>...</td>\n",
       "      <td>...</td>\n",
       "      <td>...</td>\n",
       "      <td>...</td>\n",
       "      <td>...</td>\n",
       "    </tr>\n",
       "    <tr>\n",
       "      <th>95</th>\n",
       "      <td>-0.137697</td>\n",
       "      <td>0.603971</td>\n",
       "      <td>-0.180179</td>\n",
       "      <td>-0.214594</td>\n",
       "      <td>0.265756</td>\n",
       "      <td>0.238847</td>\n",
       "      <td>0.676550</td>\n",
       "      <td>0.098790</td>\n",
       "      <td>-0.127231</td>\n",
       "      <td>0.063033</td>\n",
       "      <td>...</td>\n",
       "      <td>0.437792</td>\n",
       "      <td>0.151213</td>\n",
       "      <td>0.410687</td>\n",
       "      <td>0.035605</td>\n",
       "      <td>-0.268979</td>\n",
       "      <td>0.302526</td>\n",
       "      <td>0.168139</td>\n",
       "      <td>-0.008251</td>\n",
       "      <td>-0.173199</td>\n",
       "      <td>0.090621</td>\n",
       "    </tr>\n",
       "    <tr>\n",
       "      <th>96</th>\n",
       "      <td>-0.005569</td>\n",
       "      <td>0.412936</td>\n",
       "      <td>-0.002250</td>\n",
       "      <td>-0.214248</td>\n",
       "      <td>0.468186</td>\n",
       "      <td>0.145344</td>\n",
       "      <td>0.627553</td>\n",
       "      <td>-0.441548</td>\n",
       "      <td>0.129704</td>\n",
       "      <td>0.086022</td>\n",
       "      <td>...</td>\n",
       "      <td>0.078341</td>\n",
       "      <td>-0.180102</td>\n",
       "      <td>-0.107962</td>\n",
       "      <td>0.078101</td>\n",
       "      <td>0.119086</td>\n",
       "      <td>0.374430</td>\n",
       "      <td>0.161647</td>\n",
       "      <td>-0.568151</td>\n",
       "      <td>0.198361</td>\n",
       "      <td>0.353774</td>\n",
       "    </tr>\n",
       "    <tr>\n",
       "      <th>97</th>\n",
       "      <td>0.178174</td>\n",
       "      <td>-0.115281</td>\n",
       "      <td>-0.007642</td>\n",
       "      <td>-0.393356</td>\n",
       "      <td>0.423065</td>\n",
       "      <td>0.120142</td>\n",
       "      <td>0.585237</td>\n",
       "      <td>-0.422318</td>\n",
       "      <td>0.128890</td>\n",
       "      <td>0.172139</td>\n",
       "      <td>...</td>\n",
       "      <td>0.714508</td>\n",
       "      <td>-0.029828</td>\n",
       "      <td>0.136986</td>\n",
       "      <td>-0.066974</td>\n",
       "      <td>-0.150649</td>\n",
       "      <td>-0.105737</td>\n",
       "      <td>0.449684</td>\n",
       "      <td>-0.618395</td>\n",
       "      <td>0.196442</td>\n",
       "      <td>0.112897</td>\n",
       "    </tr>\n",
       "    <tr>\n",
       "      <th>98</th>\n",
       "      <td>-0.338073</td>\n",
       "      <td>0.425045</td>\n",
       "      <td>-0.089250</td>\n",
       "      <td>-0.360074</td>\n",
       "      <td>0.323095</td>\n",
       "      <td>0.378184</td>\n",
       "      <td>0.690955</td>\n",
       "      <td>-0.020013</td>\n",
       "      <td>-0.026818</td>\n",
       "      <td>-0.028049</td>\n",
       "      <td>...</td>\n",
       "      <td>0.369752</td>\n",
       "      <td>-0.075770</td>\n",
       "      <td>0.261672</td>\n",
       "      <td>0.101164</td>\n",
       "      <td>-0.216765</td>\n",
       "      <td>0.316440</td>\n",
       "      <td>0.162326</td>\n",
       "      <td>-0.422756</td>\n",
       "      <td>0.159005</td>\n",
       "      <td>0.225908</td>\n",
       "    </tr>\n",
       "    <tr>\n",
       "      <th>99</th>\n",
       "      <td>-0.191235</td>\n",
       "      <td>0.596326</td>\n",
       "      <td>-0.079009</td>\n",
       "      <td>0.011637</td>\n",
       "      <td>0.313519</td>\n",
       "      <td>0.114999</td>\n",
       "      <td>0.459038</td>\n",
       "      <td>-0.046181</td>\n",
       "      <td>-0.089626</td>\n",
       "      <td>0.065620</td>\n",
       "      <td>...</td>\n",
       "      <td>0.008444</td>\n",
       "      <td>-0.268594</td>\n",
       "      <td>0.093912</td>\n",
       "      <td>0.092499</td>\n",
       "      <td>0.021696</td>\n",
       "      <td>0.485212</td>\n",
       "      <td>-0.032815</td>\n",
       "      <td>-0.220209</td>\n",
       "      <td>0.006959</td>\n",
       "      <td>0.187852</td>\n",
       "    </tr>\n",
       "  </tbody>\n",
       "</table>\n",
       "<p>100 rows × 100 columns</p>\n",
       "</div>"
      ],
      "text/plain": [
       "    joke_feature_1  joke_feature_2  joke_feature_3  joke_feature_4  \\\n",
       "0         0.112688        0.222817       -0.195922        0.219684   \n",
       "1         0.313724        0.043327       -0.048844        0.067215   \n",
       "2        -0.252002        0.430994        0.220400        0.133130   \n",
       "3        -0.052535        0.541485       -0.223866        0.139070   \n",
       "4        -0.027378        0.174890       -0.053249        0.102202   \n",
       "..             ...             ...             ...             ...   \n",
       "95       -0.137697        0.603971       -0.180179       -0.214594   \n",
       "96       -0.005569        0.412936       -0.002250       -0.214248   \n",
       "97        0.178174       -0.115281       -0.007642       -0.393356   \n",
       "98       -0.338073        0.425045       -0.089250       -0.360074   \n",
       "99       -0.191235        0.596326       -0.079009        0.011637   \n",
       "\n",
       "    joke_feature_5  joke_feature_6  joke_feature_7  joke_feature_8  \\\n",
       "0         0.411241       -0.053139        0.290816       -0.058500   \n",
       "1         0.307983        0.014399        0.256734       -0.074591   \n",
       "2         0.135608        0.111379        0.129852        0.039378   \n",
       "3         0.385290        0.131492        0.507533        0.002464   \n",
       "4         0.344133        0.069124        0.256610       -0.168126   \n",
       "..             ...             ...             ...             ...   \n",
       "95        0.265756        0.238847        0.676550        0.098790   \n",
       "96        0.468186        0.145344        0.627553       -0.441548   \n",
       "97        0.423065        0.120142        0.585237       -0.422318   \n",
       "98        0.323095        0.378184        0.690955       -0.020013   \n",
       "99        0.313519        0.114999        0.459038       -0.046181   \n",
       "\n",
       "    joke_feature_9  joke_feature_10  ...  joke_feature_91  joke_feature_92  \\\n",
       "0         0.003905         0.066091  ...         0.431792        -0.320441   \n",
       "1        -0.023945         0.102127  ...         0.623640         0.011707   \n",
       "2        -0.162345         0.195971  ...        -0.162176        -0.297996   \n",
       "3        -0.133843        -0.067574  ...         0.040186        -0.182518   \n",
       "4        -0.235313         0.104072  ...        -0.037136        -0.286614   \n",
       "..             ...              ...  ...              ...              ...   \n",
       "95       -0.127231         0.063033  ...         0.437792         0.151213   \n",
       "96        0.129704         0.086022  ...         0.078341        -0.180102   \n",
       "97        0.128890         0.172139  ...         0.714508        -0.029828   \n",
       "98       -0.026818        -0.028049  ...         0.369752        -0.075770   \n",
       "99       -0.089626         0.065620  ...         0.008444        -0.268594   \n",
       "\n",
       "    joke_feature_93  joke_feature_94  joke_feature_95  joke_feature_96  \\\n",
       "0          0.025341         0.102580        -0.387499         0.224376   \n",
       "1         -0.018323        -0.022698        -0.248734        -0.178312   \n",
       "2         -0.132594         0.337949         0.067280         0.285934   \n",
       "3          0.084169         0.219612        -0.213434         0.361682   \n",
       "4         -0.147054         0.241144         0.003931         0.260650   \n",
       "..              ...              ...              ...              ...   \n",
       "95         0.410687         0.035605        -0.268979         0.302526   \n",
       "96        -0.107962         0.078101         0.119086         0.374430   \n",
       "97         0.136986        -0.066974        -0.150649        -0.105737   \n",
       "98         0.261672         0.101164        -0.216765         0.316440   \n",
       "99         0.093912         0.092499         0.021696         0.485212   \n",
       "\n",
       "    joke_feature_97  joke_feature_98  joke_feature_99  joke_feature_100  \n",
       "0          0.364185        -0.144255        -0.240137         -0.015587  \n",
       "1          0.374911        -0.056900        -0.330262         -0.087538  \n",
       "2         -0.153183         0.132184         0.000751         -0.057890  \n",
       "3          0.079440        -0.318766        -0.021421          0.146524  \n",
       "4          0.021384        -0.104395         0.103104          0.084330  \n",
       "..              ...              ...              ...               ...  \n",
       "95         0.168139        -0.008251        -0.173199          0.090621  \n",
       "96         0.161647        -0.568151         0.198361          0.353774  \n",
       "97         0.449684        -0.618395         0.196442          0.112897  \n",
       "98         0.162326        -0.422756         0.159005          0.225908  \n",
       "99        -0.032815        -0.220209         0.006959          0.187852  \n",
       "\n",
       "[100 rows x 100 columns]"
      ]
     },
     "execution_count": 6,
     "metadata": {},
     "output_type": "execute_result"
    }
   ],
   "source": [
    "joke_df"
   ]
  },
  {
   "cell_type": "code",
   "execution_count": null,
   "id": "96b0dcbf",
   "metadata": {},
   "outputs": [],
   "source": []
  },
  {
   "cell_type": "code",
   "execution_count": 8,
   "id": "6be8403d",
   "metadata": {},
   "outputs": [
    {
     "data": {
      "text/html": [
       "<div>\n",
       "<style scoped>\n",
       "    .dataframe tbody tr th:only-of-type {\n",
       "        vertical-align: middle;\n",
       "    }\n",
       "\n",
       "    .dataframe tbody tr th {\n",
       "        vertical-align: top;\n",
       "    }\n",
       "\n",
       "    .dataframe thead th {\n",
       "        text-align: right;\n",
       "    }\n",
       "</style>\n",
       "<table border=\"1\" class=\"dataframe\">\n",
       "  <thead>\n",
       "    <tr style=\"text-align: right;\">\n",
       "      <th></th>\n",
       "      <th>UID</th>\n",
       "      <th>JID</th>\n",
       "    </tr>\n",
       "    <tr>\n",
       "      <th>InteractionID</th>\n",
       "      <th></th>\n",
       "      <th></th>\n",
       "    </tr>\n",
       "  </thead>\n",
       "  <tbody>\n",
       "    <tr>\n",
       "      <th>0</th>\n",
       "      <td>11228</td>\n",
       "      <td>39</td>\n",
       "    </tr>\n",
       "    <tr>\n",
       "      <th>1</th>\n",
       "      <td>21724</td>\n",
       "      <td>85</td>\n",
       "    </tr>\n",
       "    <tr>\n",
       "      <th>2</th>\n",
       "      <td>16782</td>\n",
       "      <td>56</td>\n",
       "    </tr>\n",
       "    <tr>\n",
       "      <th>3</th>\n",
       "      <td>12105</td>\n",
       "      <td>42</td>\n",
       "    </tr>\n",
       "    <tr>\n",
       "      <th>4</th>\n",
       "      <td>14427</td>\n",
       "      <td>2</td>\n",
       "    </tr>\n",
       "    <tr>\n",
       "      <th>...</th>\n",
       "      <td>...</td>\n",
       "      <td>...</td>\n",
       "    </tr>\n",
       "    <tr>\n",
       "      <th>362086</th>\n",
       "      <td>3085</td>\n",
       "      <td>66</td>\n",
       "    </tr>\n",
       "    <tr>\n",
       "      <th>362087</th>\n",
       "      <td>13765</td>\n",
       "      <td>31</td>\n",
       "    </tr>\n",
       "    <tr>\n",
       "      <th>362088</th>\n",
       "      <td>10341</td>\n",
       "      <td>29</td>\n",
       "    </tr>\n",
       "    <tr>\n",
       "      <th>362089</th>\n",
       "      <td>3553</td>\n",
       "      <td>8</td>\n",
       "    </tr>\n",
       "    <tr>\n",
       "      <th>362090</th>\n",
       "      <td>1199</td>\n",
       "      <td>67</td>\n",
       "    </tr>\n",
       "  </tbody>\n",
       "</table>\n",
       "<p>362091 rows × 2 columns</p>\n",
       "</div>"
      ],
      "text/plain": [
       "                 UID  JID\n",
       "InteractionID            \n",
       "0              11228   39\n",
       "1              21724   85\n",
       "2              16782   56\n",
       "3              12105   42\n",
       "4              14427    2\n",
       "...              ...  ...\n",
       "362086          3085   66\n",
       "362087         13765   31\n",
       "362088         10341   29\n",
       "362089          3553    8\n",
       "362090          1199   67\n",
       "\n",
       "[362091 rows x 2 columns]"
      ]
     },
     "execution_count": 8,
     "metadata": {},
     "output_type": "execute_result"
    }
   ],
   "source": [
    "test_joke_df_nofactrating = pd.read_csv(r'..\\data\\recsys-in-practice\\test_joke_df_nofactrating.csv', index_col=0)\n",
    "test_joke_df_nofactrating"
   ]
  },
  {
   "cell_type": "code",
   "execution_count": 20,
   "id": "c4918d67",
   "metadata": {},
   "outputs": [
    {
     "data": {
      "text/html": [
       "<div>\n",
       "<style scoped>\n",
       "    .dataframe tbody tr th:only-of-type {\n",
       "        vertical-align: middle;\n",
       "    }\n",
       "\n",
       "    .dataframe tbody tr th {\n",
       "        vertical-align: top;\n",
       "    }\n",
       "\n",
       "    .dataframe thead th {\n",
       "        text-align: right;\n",
       "    }\n",
       "</style>\n",
       "<table border=\"1\" class=\"dataframe\">\n",
       "  <thead>\n",
       "    <tr style=\"text-align: right;\">\n",
       "      <th></th>\n",
       "      <th>UID</th>\n",
       "      <th>JID</th>\n",
       "      <th>Rating</th>\n",
       "    </tr>\n",
       "  </thead>\n",
       "  <tbody>\n",
       "    <tr>\n",
       "      <th>0</th>\n",
       "      <td>18029</td>\n",
       "      <td>6</td>\n",
       "      <td>-1.26</td>\n",
       "    </tr>\n",
       "    <tr>\n",
       "      <th>1</th>\n",
       "      <td>3298</td>\n",
       "      <td>64</td>\n",
       "      <td>-4.17</td>\n",
       "    </tr>\n",
       "    <tr>\n",
       "      <th>2</th>\n",
       "      <td>3366</td>\n",
       "      <td>58</td>\n",
       "      <td>0.92</td>\n",
       "    </tr>\n",
       "    <tr>\n",
       "      <th>3</th>\n",
       "      <td>12735</td>\n",
       "      <td>92</td>\n",
       "      <td>3.69</td>\n",
       "    </tr>\n",
       "    <tr>\n",
       "      <th>4</th>\n",
       "      <td>11365</td>\n",
       "      <td>38</td>\n",
       "      <td>-6.60</td>\n",
       "    </tr>\n",
       "    <tr>\n",
       "      <th>...</th>\n",
       "      <td>...</td>\n",
       "      <td>...</td>\n",
       "      <td>...</td>\n",
       "    </tr>\n",
       "    <tr>\n",
       "      <th>1448359</th>\n",
       "      <td>22604</td>\n",
       "      <td>26</td>\n",
       "      <td>2.82</td>\n",
       "    </tr>\n",
       "    <tr>\n",
       "      <th>1448360</th>\n",
       "      <td>22255</td>\n",
       "      <td>36</td>\n",
       "      <td>-1.94</td>\n",
       "    </tr>\n",
       "    <tr>\n",
       "      <th>1448361</th>\n",
       "      <td>21056</td>\n",
       "      <td>40</td>\n",
       "      <td>-9.56</td>\n",
       "    </tr>\n",
       "    <tr>\n",
       "      <th>1448362</th>\n",
       "      <td>12328</td>\n",
       "      <td>97</td>\n",
       "      <td>0.87</td>\n",
       "    </tr>\n",
       "    <tr>\n",
       "      <th>1448363</th>\n",
       "      <td>11528</td>\n",
       "      <td>3</td>\n",
       "      <td>9.32</td>\n",
       "    </tr>\n",
       "  </tbody>\n",
       "</table>\n",
       "<p>1448364 rows × 3 columns</p>\n",
       "</div>"
      ],
      "text/plain": [
       "           UID  JID  Rating\n",
       "0        18029    6   -1.26\n",
       "1         3298   64   -4.17\n",
       "2         3366   58    0.92\n",
       "3        12735   92    3.69\n",
       "4        11365   38   -6.60\n",
       "...        ...  ...     ...\n",
       "1448359  22604   26    2.82\n",
       "1448360  22255   36   -1.94\n",
       "1448361  21056   40   -9.56\n",
       "1448362  12328   97    0.87\n",
       "1448363  11528    3    9.32\n",
       "\n",
       "[1448364 rows x 3 columns]"
      ]
     },
     "execution_count": 20,
     "metadata": {},
     "output_type": "execute_result"
    }
   ],
   "source": [
    "train_joke_df"
   ]
  },
  {
   "cell_type": "code",
   "execution_count": 21,
   "id": "e4128be5",
   "metadata": {},
   "outputs": [],
   "source": [
    "ratings = []\n",
    "for ind, row in enumerate(tqdm(train_joke_df.values)):\n",
    "    u = user_df.iloc[int(row[0])-1]\n",
    "    i = joke_df.iloc[int(row[1])-1]\n",
    "    rating = u.values @ i.values\n",
    "    ratings.append(rating)\n",
    "    \n",
    "        \n",
    "        \n",
    "train_joke_df['rating_predict'] = ratings"
   ]
  },
  {
   "cell_type": "code",
   "execution_count": 22,
   "id": "8c045f37",
   "metadata": {},
   "outputs": [
    {
     "data": {
      "text/html": [
       "<div>\n",
       "<style scoped>\n",
       "    .dataframe tbody tr th:only-of-type {\n",
       "        vertical-align: middle;\n",
       "    }\n",
       "\n",
       "    .dataframe tbody tr th {\n",
       "        vertical-align: top;\n",
       "    }\n",
       "\n",
       "    .dataframe thead th {\n",
       "        text-align: right;\n",
       "    }\n",
       "</style>\n",
       "<table border=\"1\" class=\"dataframe\">\n",
       "  <thead>\n",
       "    <tr style=\"text-align: right;\">\n",
       "      <th></th>\n",
       "      <th>UID</th>\n",
       "      <th>JID</th>\n",
       "      <th>Rating</th>\n",
       "      <th>rating_predict</th>\n",
       "    </tr>\n",
       "  </thead>\n",
       "  <tbody>\n",
       "    <tr>\n",
       "      <th>0</th>\n",
       "      <td>18029</td>\n",
       "      <td>6</td>\n",
       "      <td>-1.26</td>\n",
       "      <td>-0.345800</td>\n",
       "    </tr>\n",
       "    <tr>\n",
       "      <th>1</th>\n",
       "      <td>3298</td>\n",
       "      <td>64</td>\n",
       "      <td>-4.17</td>\n",
       "      <td>1.611948</td>\n",
       "    </tr>\n",
       "    <tr>\n",
       "      <th>2</th>\n",
       "      <td>3366</td>\n",
       "      <td>58</td>\n",
       "      <td>0.92</td>\n",
       "      <td>-0.413655</td>\n",
       "    </tr>\n",
       "    <tr>\n",
       "      <th>3</th>\n",
       "      <td>12735</td>\n",
       "      <td>92</td>\n",
       "      <td>3.69</td>\n",
       "      <td>1.737163</td>\n",
       "    </tr>\n",
       "    <tr>\n",
       "      <th>4</th>\n",
       "      <td>11365</td>\n",
       "      <td>38</td>\n",
       "      <td>-6.60</td>\n",
       "      <td>-1.295192</td>\n",
       "    </tr>\n",
       "    <tr>\n",
       "      <th>...</th>\n",
       "      <td>...</td>\n",
       "      <td>...</td>\n",
       "      <td>...</td>\n",
       "      <td>...</td>\n",
       "    </tr>\n",
       "    <tr>\n",
       "      <th>1448359</th>\n",
       "      <td>22604</td>\n",
       "      <td>26</td>\n",
       "      <td>2.82</td>\n",
       "      <td>-1.138970</td>\n",
       "    </tr>\n",
       "    <tr>\n",
       "      <th>1448360</th>\n",
       "      <td>22255</td>\n",
       "      <td>36</td>\n",
       "      <td>-1.94</td>\n",
       "      <td>0.506446</td>\n",
       "    </tr>\n",
       "    <tr>\n",
       "      <th>1448361</th>\n",
       "      <td>21056</td>\n",
       "      <td>40</td>\n",
       "      <td>-9.56</td>\n",
       "      <td>-1.395329</td>\n",
       "    </tr>\n",
       "    <tr>\n",
       "      <th>1448362</th>\n",
       "      <td>12328</td>\n",
       "      <td>97</td>\n",
       "      <td>0.87</td>\n",
       "      <td>0.630667</td>\n",
       "    </tr>\n",
       "    <tr>\n",
       "      <th>1448363</th>\n",
       "      <td>11528</td>\n",
       "      <td>3</td>\n",
       "      <td>9.32</td>\n",
       "      <td>2.151048</td>\n",
       "    </tr>\n",
       "  </tbody>\n",
       "</table>\n",
       "<p>1448364 rows × 4 columns</p>\n",
       "</div>"
      ],
      "text/plain": [
       "           UID  JID  Rating  rating_predict\n",
       "0        18029    6   -1.26       -0.345800\n",
       "1         3298   64   -4.17        1.611948\n",
       "2         3366   58    0.92       -0.413655\n",
       "3        12735   92    3.69        1.737163\n",
       "4        11365   38   -6.60       -1.295192\n",
       "...        ...  ...     ...             ...\n",
       "1448359  22604   26    2.82       -1.138970\n",
       "1448360  22255   36   -1.94        0.506446\n",
       "1448361  21056   40   -9.56       -1.395329\n",
       "1448362  12328   97    0.87        0.630667\n",
       "1448363  11528    3    9.32        2.151048\n",
       "\n",
       "[1448364 rows x 4 columns]"
      ]
     },
     "execution_count": 22,
     "metadata": {},
     "output_type": "execute_result"
    }
   ],
   "source": [
    "train_joke_df"
   ]
  },
  {
   "cell_type": "code",
   "execution_count": 25,
   "id": "5b905e65",
   "metadata": {},
   "outputs": [
    {
     "data": {
      "text/plain": [
       "5.794805684224242"
      ]
     },
     "execution_count": 25,
     "metadata": {},
     "output_type": "execute_result"
    }
   ],
   "source": [
    "mean_squared_error(train_joke_df.Rating, train_joke_df.rating_predict, squared=False)"
   ]
  },
  {
   "cell_type": "code",
   "execution_count": null,
   "id": "49f5cf63",
   "metadata": {},
   "outputs": [],
   "source": []
  },
  {
   "cell_type": "code",
   "execution_count": null,
   "id": "00d0a538",
   "metadata": {},
   "outputs": [],
   "source": []
  },
  {
   "cell_type": "code",
   "execution_count": 12,
   "id": "82fcd875",
   "metadata": {},
   "outputs": [
    {
     "data": {
      "text/plain": [
       "user_feature_1      0.094999\n",
       "user_feature_2     -0.354062\n",
       "user_feature_3      0.049003\n",
       "user_feature_4      0.232890\n",
       "user_feature_5     -0.000136\n",
       "                      ...   \n",
       "user_feature_96    -0.025408\n",
       "user_feature_97    -0.566886\n",
       "user_feature_98     0.158692\n",
       "user_feature_99    -0.335032\n",
       "user_feature_100   -0.374157\n",
       "Name: 11227, Length: 100, dtype: float64"
      ]
     },
     "execution_count": 12,
     "metadata": {},
     "output_type": "execute_result"
    }
   ],
   "source": [
    "ratings = []\n",
    "for row in test_joke_df_nofactrating.vaules:\n",
    "    u = user_df.iloc[int(row.UID)-1]\n",
    "    i = joke_df.iloc[int(row.JID)-1]\n",
    "    \n",
    "    rating = u.values @ i.values\n",
    "    \n",
    "    ratings.append(rating)"
   ]
  },
  {
   "cell_type": "code",
   "execution_count": 13,
   "id": "7b676377",
   "metadata": {},
   "outputs": [
    {
     "data": {
      "text/plain": [
       "joke_feature_1     -0.082742\n",
       "joke_feature_2      0.510615\n",
       "joke_feature_3     -0.016505\n",
       "joke_feature_4     -0.242814\n",
       "joke_feature_5      0.473243\n",
       "                      ...   \n",
       "joke_feature_96     0.394105\n",
       "joke_feature_97     0.067036\n",
       "joke_feature_98    -0.631281\n",
       "joke_feature_99     0.274659\n",
       "joke_feature_100    0.389250\n",
       "Name: 38, Length: 100, dtype: float64"
      ]
     },
     "execution_count": 13,
     "metadata": {},
     "output_type": "execute_result"
    }
   ],
   "source": [
    "i = joke_df.iloc[39-1]\n",
    "i"
   ]
  },
  {
   "cell_type": "code",
   "execution_count": null,
   "id": "2e8a81f6",
   "metadata": {},
   "outputs": [],
   "source": []
  },
  {
   "cell_type": "code",
   "execution_count": 15,
   "id": "14453cee",
   "metadata": {},
   "outputs": [
    {
     "data": {
      "text/plain": [
       "-1.3906942954161283"
      ]
     },
     "execution_count": 15,
     "metadata": {},
     "output_type": "execute_result"
    }
   ],
   "source": []
  },
  {
   "cell_type": "code",
   "execution_count": 16,
   "id": "981ce549",
   "metadata": {},
   "outputs": [
    {
     "data": {
      "text/plain": [
       "-1.3906942954161283"
      ]
     },
     "execution_count": 16,
     "metadata": {},
     "output_type": "execute_result"
    }
   ],
   "source": []
  },
  {
   "cell_type": "code",
   "execution_count": null,
   "id": "994f4e03",
   "metadata": {},
   "outputs": [],
   "source": []
  },
  {
   "cell_type": "code",
   "execution_count": null,
   "id": "a59340c3",
   "metadata": {},
   "outputs": [],
   "source": []
  },
  {
   "cell_type": "code",
   "execution_count": null,
   "id": "3e4f4bdf",
   "metadata": {},
   "outputs": [],
   "source": []
  },
  {
   "cell_type": "code",
   "execution_count": 30,
   "id": "257fc063",
   "metadata": {},
   "outputs": [],
   "source": [
    "row_list = []\n",
    "col_list = []\n",
    "data_list = []\n",
    "\n",
    "\n",
    "for row in train_joke_df.values:\n",
    "    user_id = int(row[0])\n",
    "    joke_id = int(row[1])\n",
    "    rating = row[2]\n",
    "    \n",
    "    row_list.append(user_id)\n",
    "    col_list.append(joke_id)\n",
    "    data_list.append(rating)\n",
    "    \n",
    "    \n",
    "\n",
    "row = np.array(row_list)\n",
    "col = np.array(col_list)\n",
    "data = np.array(data_list)"
   ]
  },
  {
   "cell_type": "code",
   "execution_count": 31,
   "id": "56957187",
   "metadata": {},
   "outputs": [],
   "source": [
    "coo = coo_matrix((data, (row, col)), shape=(np.max(row)+1, np.max(col)+1))"
   ]
  },
  {
   "cell_type": "code",
   "execution_count": 35,
   "id": "d6486465",
   "metadata": {},
   "outputs": [],
   "source": [
    "coo_ = coo.toarray()"
   ]
  },
  {
   "cell_type": "code",
   "execution_count": 36,
   "id": "2affeb0b",
   "metadata": {},
   "outputs": [
    {
     "data": {
      "text/plain": [
       "((24984, 101), (101,), (101, 101))"
      ]
     },
     "execution_count": 36,
     "metadata": {},
     "output_type": "execute_result"
    }
   ],
   "source": [
    "u, s, vh = np.linalg.svd(coo_, full_matrices=False)\n",
    "\n",
    "u.shape, s.shape, vh.shape"
   ]
  },
  {
   "cell_type": "code",
   "execution_count": 37,
   "id": "fcaf7478",
   "metadata": {},
   "outputs": [],
   "source": [
    "rec = u @ np.diag(s) @ vh"
   ]
  },
  {
   "cell_type": "code",
   "execution_count": 78,
   "id": "5bfcbddb",
   "metadata": {},
   "outputs": [
    {
     "data": {
      "text/plain": [
       "(24984, 101)"
      ]
     },
     "execution_count": 78,
     "metadata": {},
     "output_type": "execute_result"
    }
   ],
   "source": [
    "rec.shape"
   ]
  },
  {
   "cell_type": "code",
   "execution_count": 75,
   "id": "8cc8772f",
   "metadata": {},
   "outputs": [
    {
     "data": {
      "text/html": [
       "<div>\n",
       "<style scoped>\n",
       "    .dataframe tbody tr th:only-of-type {\n",
       "        vertical-align: middle;\n",
       "    }\n",
       "\n",
       "    .dataframe tbody tr th {\n",
       "        vertical-align: top;\n",
       "    }\n",
       "\n",
       "    .dataframe thead th {\n",
       "        text-align: right;\n",
       "    }\n",
       "</style>\n",
       "<table border=\"1\" class=\"dataframe\">\n",
       "  <thead>\n",
       "    <tr style=\"text-align: right;\">\n",
       "      <th></th>\n",
       "      <th>UID</th>\n",
       "      <th>JID</th>\n",
       "      <th>Rating</th>\n",
       "      <th>rating_predict</th>\n",
       "    </tr>\n",
       "  </thead>\n",
       "  <tbody>\n",
       "    <tr>\n",
       "      <th>0</th>\n",
       "      <td>18029</td>\n",
       "      <td>6</td>\n",
       "      <td>-1.26</td>\n",
       "      <td>-1.26</td>\n",
       "    </tr>\n",
       "    <tr>\n",
       "      <th>1</th>\n",
       "      <td>3298</td>\n",
       "      <td>64</td>\n",
       "      <td>-4.17</td>\n",
       "      <td>-4.17</td>\n",
       "    </tr>\n",
       "    <tr>\n",
       "      <th>2</th>\n",
       "      <td>3366</td>\n",
       "      <td>58</td>\n",
       "      <td>0.92</td>\n",
       "      <td>0.92</td>\n",
       "    </tr>\n",
       "    <tr>\n",
       "      <th>3</th>\n",
       "      <td>12735</td>\n",
       "      <td>92</td>\n",
       "      <td>3.69</td>\n",
       "      <td>3.69</td>\n",
       "    </tr>\n",
       "    <tr>\n",
       "      <th>4</th>\n",
       "      <td>11365</td>\n",
       "      <td>38</td>\n",
       "      <td>-6.60</td>\n",
       "      <td>-6.60</td>\n",
       "    </tr>\n",
       "    <tr>\n",
       "      <th>...</th>\n",
       "      <td>...</td>\n",
       "      <td>...</td>\n",
       "      <td>...</td>\n",
       "      <td>...</td>\n",
       "    </tr>\n",
       "    <tr>\n",
       "      <th>1448359</th>\n",
       "      <td>22604</td>\n",
       "      <td>26</td>\n",
       "      <td>2.82</td>\n",
       "      <td>2.82</td>\n",
       "    </tr>\n",
       "    <tr>\n",
       "      <th>1448360</th>\n",
       "      <td>22255</td>\n",
       "      <td>36</td>\n",
       "      <td>-1.94</td>\n",
       "      <td>-1.94</td>\n",
       "    </tr>\n",
       "    <tr>\n",
       "      <th>1448361</th>\n",
       "      <td>21056</td>\n",
       "      <td>40</td>\n",
       "      <td>-9.56</td>\n",
       "      <td>-9.56</td>\n",
       "    </tr>\n",
       "    <tr>\n",
       "      <th>1448362</th>\n",
       "      <td>12328</td>\n",
       "      <td>97</td>\n",
       "      <td>0.87</td>\n",
       "      <td>0.87</td>\n",
       "    </tr>\n",
       "    <tr>\n",
       "      <th>1448363</th>\n",
       "      <td>11528</td>\n",
       "      <td>3</td>\n",
       "      <td>9.32</td>\n",
       "      <td>9.32</td>\n",
       "    </tr>\n",
       "  </tbody>\n",
       "</table>\n",
       "<p>1448364 rows × 4 columns</p>\n",
       "</div>"
      ],
      "text/plain": [
       "           UID  JID  Rating  rating_predict\n",
       "0        18029    6   -1.26           -1.26\n",
       "1         3298   64   -4.17           -4.17\n",
       "2         3366   58    0.92            0.92\n",
       "3        12735   92    3.69            3.69\n",
       "4        11365   38   -6.60           -6.60\n",
       "...        ...  ...     ...             ...\n",
       "1448359  22604   26    2.82            2.82\n",
       "1448360  22255   36   -1.94           -1.94\n",
       "1448361  21056   40   -9.56           -9.56\n",
       "1448362  12328   97    0.87            0.87\n",
       "1448363  11528    3    9.32            9.32\n",
       "\n",
       "[1448364 rows x 4 columns]"
      ]
     },
     "execution_count": 75,
     "metadata": {},
     "output_type": "execute_result"
    }
   ],
   "source": [
    "train_joke_df"
   ]
  },
  {
   "cell_type": "code",
   "execution_count": 49,
   "id": "9d8383bb",
   "metadata": {},
   "outputs": [
    {
     "data": {
      "text/plain": [
       "-1.26"
      ]
     },
     "execution_count": 49,
     "metadata": {},
     "output_type": "execute_result"
    }
   ],
   "source": [
    "coo_[18029, 6]"
   ]
  },
  {
   "cell_type": "code",
   "execution_count": 50,
   "id": "35fa7793",
   "metadata": {},
   "outputs": [
    {
     "data": {
      "text/plain": [
       "-1.2599999999999936"
      ]
     },
     "execution_count": 50,
     "metadata": {},
     "output_type": "execute_result"
    }
   ],
   "source": [
    "rec[18029, 6]"
   ]
  },
  {
   "cell_type": "code",
   "execution_count": 73,
   "id": "3538ce44",
   "metadata": {},
   "outputs": [
    {
     "data": {
      "text/plain": [
       "-3.505906730879314"
      ]
     },
     "execution_count": 73,
     "metadata": {},
     "output_type": "execute_result"
    }
   ],
   "source": [
    "(u[18029] * s[6]) @ vh[6]"
   ]
  },
  {
   "cell_type": "code",
   "execution_count": 71,
   "id": "66cc3cc9",
   "metadata": {},
   "outputs": [
    {
     "data": {
      "text/plain": [
       "-3.6873455705976563"
      ]
     },
     "execution_count": 71,
     "metadata": {},
     "output_type": "execute_result"
    }
   ],
   "source": [
    "(u @ np.diag(s))[18029] @ vh[5]"
   ]
  },
  {
   "cell_type": "code",
   "execution_count": 80,
   "id": "a0405a4b",
   "metadata": {},
   "outputs": [
    {
     "data": {
      "text/plain": [
       "(24984, 101)"
      ]
     },
     "execution_count": 80,
     "metadata": {},
     "output_type": "execute_result"
    }
   ],
   "source": [
    "uu = u @ np.diag(s)\n",
    "\n",
    "uu.shape"
   ]
  },
  {
   "cell_type": "code",
   "execution_count": 81,
   "id": "a607ad95",
   "metadata": {},
   "outputs": [],
   "source": [
    "rec2 = uu @ vh"
   ]
  },
  {
   "cell_type": "code",
   "execution_count": null,
   "id": "a08a102b",
   "metadata": {},
   "outputs": [],
   "source": []
  },
  {
   "cell_type": "code",
   "execution_count": null,
   "id": "27ef5ed8",
   "metadata": {},
   "outputs": [],
   "source": []
  },
  {
   "cell_type": "code",
   "execution_count": 38,
   "id": "650cf7a4",
   "metadata": {},
   "outputs": [
    {
     "data": {
      "text/plain": [
       "1.8514504485465976e-11"
      ]
     },
     "execution_count": 38,
     "metadata": {},
     "output_type": "execute_result"
    }
   ],
   "source": [
    "np.linalg.norm(rec - coo_)"
   ]
  },
  {
   "cell_type": "code",
   "execution_count": 82,
   "id": "987b92df",
   "metadata": {},
   "outputs": [
    {
     "data": {
      "application/vnd.jupyter.widget-view+json": {
       "model_id": "3fd9c11b025243129cb452df063f82b8",
       "version_major": 2,
       "version_minor": 0
      },
      "text/plain": [
       "  0%|          | 0/1448364 [00:00<?, ?it/s]"
      ]
     },
     "metadata": {},
     "output_type": "display_data"
    },
    {
     "data": {
      "text/plain": [
       "1.2698478763133556e-14"
      ]
     },
     "execution_count": 82,
     "metadata": {},
     "output_type": "execute_result"
    }
   ],
   "source": [
    "ratings = []\n",
    "for ind, row in enumerate(tqdm(train_joke_df.values)):\n",
    "    rating = rec2[int(row[0]), int(row[1])]\n",
    "    ratings.append(rating)\n",
    "    \n",
    "train_joke_df['rating_predict'] = ratings\n",
    "\n",
    "mean_squared_error(train_joke_df.Rating, train_joke_df.rating_predict, squared=False)"
   ]
  },
  {
   "cell_type": "code",
   "execution_count": 54,
   "id": "aa60f359",
   "metadata": {},
   "outputs": [
    {
     "data": {
      "application/vnd.jupyter.widget-view+json": {
       "model_id": "ed010d90ae1145d2a53238d03d55619b",
       "version_major": 2,
       "version_minor": 0
      },
      "text/plain": [
       "  0%|          | 0/362091 [00:00<?, ?it/s]"
      ]
     },
     "metadata": {},
     "output_type": "display_data"
    },
    {
     "data": {
      "text/html": [
       "<div>\n",
       "<style scoped>\n",
       "    .dataframe tbody tr th:only-of-type {\n",
       "        vertical-align: middle;\n",
       "    }\n",
       "\n",
       "    .dataframe tbody tr th {\n",
       "        vertical-align: top;\n",
       "    }\n",
       "\n",
       "    .dataframe thead th {\n",
       "        text-align: right;\n",
       "    }\n",
       "</style>\n",
       "<table border=\"1\" class=\"dataframe\">\n",
       "  <thead>\n",
       "    <tr style=\"text-align: right;\">\n",
       "      <th></th>\n",
       "      <th>UID</th>\n",
       "      <th>JID</th>\n",
       "      <th>Rating</th>\n",
       "    </tr>\n",
       "    <tr>\n",
       "      <th>InteractionID</th>\n",
       "      <th></th>\n",
       "      <th></th>\n",
       "      <th></th>\n",
       "    </tr>\n",
       "  </thead>\n",
       "  <tbody>\n",
       "    <tr>\n",
       "      <th>0</th>\n",
       "      <td>11228</td>\n",
       "      <td>39</td>\n",
       "      <td>1.164125e-14</td>\n",
       "    </tr>\n",
       "    <tr>\n",
       "      <th>1</th>\n",
       "      <td>21724</td>\n",
       "      <td>85</td>\n",
       "      <td>1.226154e-14</td>\n",
       "    </tr>\n",
       "    <tr>\n",
       "      <th>2</th>\n",
       "      <td>16782</td>\n",
       "      <td>56</td>\n",
       "      <td>-3.460948e-15</td>\n",
       "    </tr>\n",
       "    <tr>\n",
       "      <th>3</th>\n",
       "      <td>12105</td>\n",
       "      <td>42</td>\n",
       "      <td>-3.147068e-14</td>\n",
       "    </tr>\n",
       "    <tr>\n",
       "      <th>4</th>\n",
       "      <td>14427</td>\n",
       "      <td>2</td>\n",
       "      <td>1.399569e-14</td>\n",
       "    </tr>\n",
       "    <tr>\n",
       "      <th>...</th>\n",
       "      <td>...</td>\n",
       "      <td>...</td>\n",
       "      <td>...</td>\n",
       "    </tr>\n",
       "    <tr>\n",
       "      <th>362086</th>\n",
       "      <td>3085</td>\n",
       "      <td>66</td>\n",
       "      <td>-7.645501e-15</td>\n",
       "    </tr>\n",
       "    <tr>\n",
       "      <th>362087</th>\n",
       "      <td>13765</td>\n",
       "      <td>31</td>\n",
       "      <td>-4.031407e-16</td>\n",
       "    </tr>\n",
       "    <tr>\n",
       "      <th>362088</th>\n",
       "      <td>10341</td>\n",
       "      <td>29</td>\n",
       "      <td>-4.270601e-15</td>\n",
       "    </tr>\n",
       "    <tr>\n",
       "      <th>362089</th>\n",
       "      <td>3553</td>\n",
       "      <td>8</td>\n",
       "      <td>-1.299572e-14</td>\n",
       "    </tr>\n",
       "    <tr>\n",
       "      <th>362090</th>\n",
       "      <td>1199</td>\n",
       "      <td>67</td>\n",
       "      <td>6.064164e-15</td>\n",
       "    </tr>\n",
       "  </tbody>\n",
       "</table>\n",
       "<p>362091 rows × 3 columns</p>\n",
       "</div>"
      ],
      "text/plain": [
       "                 UID  JID        Rating\n",
       "InteractionID                          \n",
       "0              11228   39  1.164125e-14\n",
       "1              21724   85  1.226154e-14\n",
       "2              16782   56 -3.460948e-15\n",
       "3              12105   42 -3.147068e-14\n",
       "4              14427    2  1.399569e-14\n",
       "...              ...  ...           ...\n",
       "362086          3085   66 -7.645501e-15\n",
       "362087         13765   31 -4.031407e-16\n",
       "362088         10341   29 -4.270601e-15\n",
       "362089          3553    8 -1.299572e-14\n",
       "362090          1199   67  6.064164e-15\n",
       "\n",
       "[362091 rows x 3 columns]"
      ]
     },
     "execution_count": 54,
     "metadata": {},
     "output_type": "execute_result"
    }
   ],
   "source": [
    "ratings = []\n",
    "for ind, row in enumerate(tqdm(test_joke_df_nofactrating.values)):\n",
    "    rating = rec[int(row[0]), int(row[1])]\n",
    "    ratings.append(rating)\n",
    "    \n",
    "test_joke_df_nofactrating['Rating'] = ratings\n",
    "test_joke_df_nofactrating"
   ]
  },
  {
   "cell_type": "code",
   "execution_count": 77,
   "id": "52914aa8",
   "metadata": {},
   "outputs": [
    {
     "data": {
      "text/html": [
       "<div>\n",
       "<style scoped>\n",
       "    .dataframe tbody tr th:only-of-type {\n",
       "        vertical-align: middle;\n",
       "    }\n",
       "\n",
       "    .dataframe tbody tr th {\n",
       "        vertical-align: top;\n",
       "    }\n",
       "\n",
       "    .dataframe thead th {\n",
       "        text-align: right;\n",
       "    }\n",
       "</style>\n",
       "<table border=\"1\" class=\"dataframe\">\n",
       "  <thead>\n",
       "    <tr style=\"text-align: right;\">\n",
       "      <th></th>\n",
       "      <th>UID</th>\n",
       "      <th>JID</th>\n",
       "      <th>Rating</th>\n",
       "    </tr>\n",
       "    <tr>\n",
       "      <th>InteractionID</th>\n",
       "      <th></th>\n",
       "      <th></th>\n",
       "      <th></th>\n",
       "    </tr>\n",
       "  </thead>\n",
       "  <tbody>\n",
       "  </tbody>\n",
       "</table>\n",
       "</div>"
      ],
      "text/plain": [
       "Empty DataFrame\n",
       "Columns: [UID, JID, Rating]\n",
       "Index: []"
      ]
     },
     "execution_count": 77,
     "metadata": {},
     "output_type": "execute_result"
    }
   ],
   "source": [
    "test_joke_df_nofactrating[np.abs(test_joke_df_nofactrating.Rating) > 0.1]"
   ]
  },
  {
   "cell_type": "code",
   "execution_count": null,
   "id": "855d16ba",
   "metadata": {},
   "outputs": [],
   "source": []
  },
  {
   "cell_type": "code",
   "execution_count": null,
   "id": "3dca13d6",
   "metadata": {},
   "outputs": [],
   "source": []
  }
 ],
 "metadata": {
  "kernelspec": {
   "display_name": "Python 3 (ipykernel)",
   "language": "python",
   "name": "python3"
  },
  "language_info": {
   "codemirror_mode": {
    "name": "ipython",
    "version": 3
   },
   "file_extension": ".py",
   "mimetype": "text/x-python",
   "name": "python",
   "nbconvert_exporter": "python",
   "pygments_lexer": "ipython3",
   "version": "3.9.12"
  }
 },
 "nbformat": 4,
 "nbformat_minor": 5
}
