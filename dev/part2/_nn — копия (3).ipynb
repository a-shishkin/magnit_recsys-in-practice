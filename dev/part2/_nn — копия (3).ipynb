{
 "cells": [
  {
   "cell_type": "code",
   "execution_count": 1,
   "id": "dfa736e2",
   "metadata": {},
   "outputs": [],
   "source": [
    "import pandas as pd\n",
    "import numpy as np\n",
    "from scipy import sparse\n",
    "from sklearn.preprocessing import normalize\n",
    "from sklearn.model_selection import train_test_split\n",
    "from sklearn.metrics import mean_squared_error\n",
    "from tqdm.notebook import tqdm\n",
    "import pickle"
   ]
  },
  {
   "cell_type": "code",
   "execution_count": 2,
   "id": "30aca3ce",
   "metadata": {},
   "outputs": [],
   "source": [
    "train_joke_df = pd.read_csv(r'..\\data\\recsys-in-practice\\train_joke_df.csv')"
   ]
  },
  {
   "cell_type": "code",
   "execution_count": null,
   "id": "f0badc87",
   "metadata": {},
   "outputs": [],
   "source": []
  },
  {
   "cell_type": "code",
   "execution_count": 3,
   "id": "cb7ea2e9",
   "metadata": {},
   "outputs": [],
   "source": [
    "train_joke_df[\"UID\"] = train_joke_df[\"UID\"].astype(int)\n",
    "train_joke_df[\"JID\"] = train_joke_df[\"JID\"].astype(int)\n",
    "\n",
    "train_joke_df['UID'] = train_joke_df['UID'] - 1\n",
    "train_joke_df['JID'] = train_joke_df['JID'] - 1"
   ]
  },
  {
   "cell_type": "code",
   "execution_count": 4,
   "id": "96b0dcbf",
   "metadata": {},
   "outputs": [
    {
     "data": {
      "text/html": [
       "<div>\n",
       "<style scoped>\n",
       "    .dataframe tbody tr th:only-of-type {\n",
       "        vertical-align: middle;\n",
       "    }\n",
       "\n",
       "    .dataframe tbody tr th {\n",
       "        vertical-align: top;\n",
       "    }\n",
       "\n",
       "    .dataframe thead th {\n",
       "        text-align: right;\n",
       "    }\n",
       "</style>\n",
       "<table border=\"1\" class=\"dataframe\">\n",
       "  <thead>\n",
       "    <tr style=\"text-align: right;\">\n",
       "      <th></th>\n",
       "      <th>UID</th>\n",
       "      <th>JID</th>\n",
       "      <th>Rating</th>\n",
       "    </tr>\n",
       "  </thead>\n",
       "  <tbody>\n",
       "    <tr>\n",
       "      <th>0</th>\n",
       "      <td>18028</td>\n",
       "      <td>5</td>\n",
       "      <td>-1.26</td>\n",
       "    </tr>\n",
       "    <tr>\n",
       "      <th>1</th>\n",
       "      <td>3297</td>\n",
       "      <td>63</td>\n",
       "      <td>-4.17</td>\n",
       "    </tr>\n",
       "    <tr>\n",
       "      <th>2</th>\n",
       "      <td>3365</td>\n",
       "      <td>57</td>\n",
       "      <td>0.92</td>\n",
       "    </tr>\n",
       "    <tr>\n",
       "      <th>3</th>\n",
       "      <td>12734</td>\n",
       "      <td>91</td>\n",
       "      <td>3.69</td>\n",
       "    </tr>\n",
       "    <tr>\n",
       "      <th>4</th>\n",
       "      <td>11364</td>\n",
       "      <td>37</td>\n",
       "      <td>-6.60</td>\n",
       "    </tr>\n",
       "    <tr>\n",
       "      <th>...</th>\n",
       "      <td>...</td>\n",
       "      <td>...</td>\n",
       "      <td>...</td>\n",
       "    </tr>\n",
       "    <tr>\n",
       "      <th>1448359</th>\n",
       "      <td>22603</td>\n",
       "      <td>25</td>\n",
       "      <td>2.82</td>\n",
       "    </tr>\n",
       "    <tr>\n",
       "      <th>1448360</th>\n",
       "      <td>22254</td>\n",
       "      <td>35</td>\n",
       "      <td>-1.94</td>\n",
       "    </tr>\n",
       "    <tr>\n",
       "      <th>1448361</th>\n",
       "      <td>21055</td>\n",
       "      <td>39</td>\n",
       "      <td>-9.56</td>\n",
       "    </tr>\n",
       "    <tr>\n",
       "      <th>1448362</th>\n",
       "      <td>12327</td>\n",
       "      <td>96</td>\n",
       "      <td>0.87</td>\n",
       "    </tr>\n",
       "    <tr>\n",
       "      <th>1448363</th>\n",
       "      <td>11527</td>\n",
       "      <td>2</td>\n",
       "      <td>9.32</td>\n",
       "    </tr>\n",
       "  </tbody>\n",
       "</table>\n",
       "<p>1448364 rows × 3 columns</p>\n",
       "</div>"
      ],
      "text/plain": [
       "           UID  JID  Rating\n",
       "0        18028    5   -1.26\n",
       "1         3297   63   -4.17\n",
       "2         3365   57    0.92\n",
       "3        12734   91    3.69\n",
       "4        11364   37   -6.60\n",
       "...        ...  ...     ...\n",
       "1448359  22603   25    2.82\n",
       "1448360  22254   35   -1.94\n",
       "1448361  21055   39   -9.56\n",
       "1448362  12327   96    0.87\n",
       "1448363  11527    2    9.32\n",
       "\n",
       "[1448364 rows x 3 columns]"
      ]
     },
     "execution_count": 4,
     "metadata": {},
     "output_type": "execute_result"
    }
   ],
   "source": [
    "train_joke_df"
   ]
  },
  {
   "cell_type": "code",
   "execution_count": null,
   "id": "6d31b828",
   "metadata": {},
   "outputs": [],
   "source": []
  },
  {
   "cell_type": "code",
   "execution_count": null,
   "id": "976301cf",
   "metadata": {},
   "outputs": [],
   "source": []
  },
  {
   "cell_type": "code",
   "execution_count": null,
   "id": "15112b3a",
   "metadata": {},
   "outputs": [],
   "source": []
  },
  {
   "cell_type": "code",
   "execution_count": 5,
   "id": "59b006a5",
   "metadata": {},
   "outputs": [
    {
     "data": {
      "text/plain": [
       "724182"
      ]
     },
     "execution_count": 5,
     "metadata": {},
     "output_type": "execute_result"
    }
   ],
   "source": [
    "train_df, valid_df = train_test_split(train_joke_df, test_size=0.5, random_state=42)\n",
    "\n",
    "len(valid_df)"
   ]
  },
  {
   "cell_type": "code",
   "execution_count": 6,
   "id": "bd730da9",
   "metadata": {},
   "outputs": [],
   "source": [
    "train_df[\"UID\"] = train_df[\"UID\"].astype(int)\n",
    "train_df[\"JID\"] = train_df[\"JID\"].astype(int)\n",
    "valid_df[\"UID\"] = valid_df[\"UID\"].astype(int)\n",
    "valid_df[\"JID\"] = valid_df[\"JID\"].astype(int)\n",
    "\n",
    "\n",
    "# сделаем сортировку и перепишем index\n",
    "train_df = train_df.sort_values(by=['UID', 'JID'])\n",
    "train_df = train_df.reset_index(drop=True)\n",
    "\n",
    "valid_df = valid_df.sort_values(by=['UID', 'JID'])\n",
    "valid_df = valid_df.reset_index(drop=True)"
   ]
  },
  {
   "cell_type": "code",
   "execution_count": null,
   "id": "d25f97e6",
   "metadata": {},
   "outputs": [],
   "source": []
  },
  {
   "cell_type": "code",
   "execution_count": null,
   "id": "f37ac705",
   "metadata": {},
   "outputs": [],
   "source": []
  },
  {
   "cell_type": "code",
   "execution_count": null,
   "id": "fa78a719",
   "metadata": {},
   "outputs": [],
   "source": []
  },
  {
   "cell_type": "code",
   "execution_count": null,
   "id": "4706681a",
   "metadata": {},
   "outputs": [],
   "source": []
  }
 ],
 "metadata": {
  "kernelspec": {
   "display_name": "Python 3 (ipykernel)",
   "language": "python",
   "name": "python3"
  },
  "language_info": {
   "codemirror_mode": {
    "name": "ipython",
    "version": 3
   },
   "file_extension": ".py",
   "mimetype": "text/x-python",
   "name": "python",
   "nbconvert_exporter": "python",
   "pygments_lexer": "ipython3",
   "version": "3.10.4"
  }
 },
 "nbformat": 4,
 "nbformat_minor": 5
}
