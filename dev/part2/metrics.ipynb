{
 "cells": [
  {
   "cell_type": "code",
   "execution_count": 1,
   "id": "427278c8-3010-4e10-9271-dc3b7723e0e7",
   "metadata": {
    "id": "427278c8-3010-4e10-9271-dc3b7723e0e7"
   },
   "outputs": [
    {
     "name": "stderr",
     "output_type": "stream",
     "text": [
      "C:\\ProgramData\\Anaconda3\\envs\\torchvision2\\lib\\site-packages\\lightfm\\_lightfm_fast.py:9: UserWarning: LightFM was compiled without OpenMP support. Only a single thread will be used.\n",
      "  warnings.warn(\n"
     ]
    }
   ],
   "source": [
    "import numpy as np\n",
    "import pandas as pd\n",
    "from collections import defaultdict\n",
    "from surprise import Dataset, Reader, accuracy\n",
    "from surprise.model_selection import GridSearchCV\n",
    "from sklearn.model_selection import train_test_split\n",
    "from surprise.model_selection import KFold\n",
    "from tqdm.notebook import tqdm\n",
    "from sklearn.metrics import ndcg_score\n",
    "from surprise import dump\n",
    "import seaborn as sns\n",
    "import matplotlib.pyplot as plt\n",
    "from typing import List\n",
    "from surprise import SVD\n",
    "import random\n",
    "import pickle\n",
    "from copy import deepcopy\n",
    "\n",
    "import typing as tp\n",
    "from sklearn.preprocessing import normalize\n",
    "from lightfm import LightFM\n",
    "from scipy.sparse import coo_matrix\n",
    "from lightfm.data import Dataset as LFMDataset\n",
    "from collections import Counter\n",
    "from matplotlib.lines import Line2D\n",
    "np.random.seed(42)"
   ]
  },
  {
   "cell_type": "code",
   "execution_count": null,
   "id": "9b83948f",
   "metadata": {},
   "outputs": [],
   "source": []
  },
  {
   "cell_type": "code",
   "execution_count": 2,
   "id": "c6f196be",
   "metadata": {},
   "outputs": [],
   "source": [
    "df = pd.read_csv('../data/recsys-in-practice/train_joke_df.csv')\n",
    "\n",
    "df['UID'] = df['UID'] - 1\n",
    "df['JID'] = df['JID'] - 1\n",
    "# сделаем сортировку и перепишем index\n",
    "df = df.sort_values(by=['UID', 'JID'])\n",
    "df = df.reset_index(drop=True)\n",
    "\n",
    "df\n",
    "\n",
    "df_train, df_test = train_test_split(df, test_size=0.5, random_state=42)"
   ]
  },
  {
   "cell_type": "code",
   "execution_count": 3,
   "id": "89ad7405",
   "metadata": {},
   "outputs": [
    {
     "data": {
      "text/plain": [
       "dict_keys(['actual', 'svd', 'knn'])"
      ]
     },
     "execution_count": 3,
     "metadata": {},
     "output_type": "execute_result"
    }
   ],
   "source": [
    "with open('predictions_df_surprise.pkl', 'rb') as f:\n",
    "    predictions_df_surprise = pickle.load(f)\n",
    "    \n",
    "predictions_df_surprise.keys()"
   ]
  },
  {
   "cell_type": "code",
   "execution_count": 4,
   "id": "3062ac59",
   "metadata": {},
   "outputs": [
    {
     "data": {
      "text/plain": [
       "dict_keys(['lfm', 'lfm_cos'])"
      ]
     },
     "execution_count": 4,
     "metadata": {},
     "output_type": "execute_result"
    }
   ],
   "source": [
    "with open('predictions_df_lfm.pkl', 'rb') as f:\n",
    "    predictions_df_lfm = pickle.load(f)\n",
    "    \n",
    "predictions_df_lfm.keys()"
   ]
  },
  {
   "cell_type": "code",
   "execution_count": 5,
   "id": "d5157885",
   "metadata": {},
   "outputs": [
    {
     "data": {
      "text/plain": [
       "dict_keys(['nn'])"
      ]
     },
     "execution_count": 5,
     "metadata": {},
     "output_type": "execute_result"
    }
   ],
   "source": [
    "with open('predictions_df_nn.pkl', 'rb') as f:\n",
    "    predictions_df_nn = pickle.load(f)\n",
    "    \n",
    "predictions_df_nn.keys()"
   ]
  },
  {
   "cell_type": "code",
   "execution_count": 6,
   "id": "7c12becf",
   "metadata": {},
   "outputs": [
    {
     "data": {
      "text/plain": [
       "dict_keys(['nn_bias'])"
      ]
     },
     "execution_count": 6,
     "metadata": {},
     "output_type": "execute_result"
    }
   ],
   "source": [
    "with open('predictions_df_nn_bias.pkl', 'rb') as f:\n",
    "    predictions_df_nn_bias = pickle.load(f)\n",
    "    \n",
    "predictions_df_nn_bias.keys()"
   ]
  },
  {
   "cell_type": "code",
   "execution_count": 7,
   "id": "2df031ea",
   "metadata": {},
   "outputs": [
    {
     "data": {
      "text/plain": [
       "dict_keys(['catboost'])"
      ]
     },
     "execution_count": 7,
     "metadata": {},
     "output_type": "execute_result"
    }
   ],
   "source": [
    "with open('predictions_df_catboost.pkl', 'rb') as f:\n",
    "    predictions_df_catboost = pickle.load(f)\n",
    "    \n",
    "predictions_df_catboost.keys()"
   ]
  },
  {
   "cell_type": "code",
   "execution_count": 8,
   "id": "f55f1141",
   "metadata": {},
   "outputs": [
    {
     "data": {
      "text/plain": [
       "dict_keys(['catboost_doc2vec'])"
      ]
     },
     "execution_count": 8,
     "metadata": {},
     "output_type": "execute_result"
    }
   ],
   "source": [
    "with open('predictions_df_catboost_doc2vec.pkl', 'rb') as f:\n",
    "    predictions_df_catboost_doc2vec = pickle.load(f)\n",
    "    \n",
    "predictions_df_catboost_doc2vec.keys()"
   ]
  },
  {
   "cell_type": "code",
   "execution_count": null,
   "id": "f98927d4",
   "metadata": {},
   "outputs": [],
   "source": []
  },
  {
   "cell_type": "code",
   "execution_count": 55,
   "id": "9eb8e169",
   "metadata": {},
   "outputs": [],
   "source": [
    "svd_df = predictions_df_surprise['svd']\n",
    "#svd_kaggle_df = predictions_df_surprise_svd_kaggle['svd_kaggle']\n",
    "knn_df = predictions_df_surprise['knn']\n",
    "lfm_df = predictions_df_lfm['lfm']\n",
    "lfm_cos_df = predictions_df_lfm['lfm_cos']\n",
    "nn_df = predictions_df_nn['nn']\n",
    "catboost_df = predictions_df_catboost['catboost']\n",
    "catboost_doc2vec_df = predictions_df_catboost_doc2vec['catboost_doc2vec']\n",
    "nn_bias_df = predictions_df_nn_bias['nn_bias']\n",
    "\n",
    "actual_df = predictions_df_surprise['actual']"
   ]
  },
  {
   "cell_type": "code",
   "execution_count": null,
   "id": "64925893",
   "metadata": {},
   "outputs": [],
   "source": []
  },
  {
   "cell_type": "code",
   "execution_count": null,
   "id": "1f72e31c",
   "metadata": {},
   "outputs": [],
   "source": []
  },
  {
   "cell_type": "code",
   "execution_count": null,
   "id": "2bb55109",
   "metadata": {},
   "outputs": [],
   "source": []
  },
  {
   "cell_type": "code",
   "execution_count": 56,
   "id": "29c9c7f3",
   "metadata": {},
   "outputs": [],
   "source": [
    "frames = {'svd':svd_df, 'lfm':lfm_df, 'lfm_cos':lfm_cos_df, 'nn':nn_df, \n",
    "          'catboost':catboost_df, 'knn':knn_df, 'catboost_doc2vec':catboost_doc2vec_df, 'nn_bias':nn_bias_df}\n",
    "\n",
    "predictions = {k:list(v.groupby('UID').agg({'JID':list})['JID'].values) for k, v in frames.items()}"
   ]
  },
  {
   "cell_type": "code",
   "execution_count": 57,
   "id": "ac85a56c",
   "metadata": {},
   "outputs": [],
   "source": [
    "actual = list(predictions_df_surprise['actual'].groupby('UID').agg({'JID':list})['JID'].values)"
   ]
  },
  {
   "cell_type": "code",
   "execution_count": null,
   "id": "18fa1fa9",
   "metadata": {},
   "outputs": [],
   "source": []
  },
  {
   "cell_type": "code",
   "execution_count": 58,
   "id": "9c043e09",
   "metadata": {},
   "outputs": [],
   "source": [
    "\n",
    "def _precision(predicted, actual):\n",
    "    prec = [value for value in predicted if value in actual]\n",
    "    prec = float(len(prec)) / float(len(predicted))\n",
    "    return prec\n",
    "\n",
    "def _apk(actual: list, predicted: list, k=10) -> float:\n",
    "    \"\"\"\n",
    "    average precision @ k.\n",
    "    \n",
    "    \"\"\"\n",
    "    #if not predicted or not actual:\n",
    "    #    return 0.0\n",
    "    \n",
    "    if len(predicted) > k:\n",
    "        predicted = predicted[:k]\n",
    "\n",
    "    score = 0.0\n",
    "    true_positives = 0.0\n",
    "\n",
    "    for i, p in enumerate(predicted):\n",
    "        if p in actual and p not in predicted[:i]:\n",
    "            max_ix = min(i + 1, len(predicted))\n",
    "            score += _precision(predicted[:max_ix], actual)\n",
    "            true_positives += 1\n",
    "    \n",
    "    if score == 0.0:\n",
    "        return 0.0\n",
    "    \n",
    "    return score / true_positives\n",
    "\n",
    "\n",
    "def mapk(actual: List[list], predicted: List[list], k: int=10) -> float:\n",
    "    \"\"\"\n",
    "    mean average precision @ k.\n",
    "    \n",
    "    \"\"\"\n",
    "    if len(actual) != len(predicted):\n",
    "        print(len(actual), len(predicted))\n",
    "        raise AssertionError(\"Length mismatched\")\n",
    "    \n",
    "    return np.mean([_apk(a,p,k) for a,p in zip(actual, predicted)])\n",
    "\n",
    "\n",
    "def mapk_plot(mapk_scores, model_names, k_range):\n",
    "    \"\"\"\n",
    "    Plots the mean average precision at k for a set of models to compare.\n",
    "    ----------\n",
    "    mapk_scores: list of lists\n",
    "        list of list of map@k scores over k. This lis is in same order as model_names\n",
    "        example: [[0.17, 0.25, 0.76],[0.2, 0.5, 0.74]]\n",
    "    model_names: list\n",
    "        list of model names in same order as coverage_scores\n",
    "        example: ['Model A', 'Model B']\n",
    "    k_range: list\n",
    "        list or array indeitifying all k values in order\n",
    "        example: [1,2,3,4,5,6,7,8,9,10]\n",
    "    Returns:\n",
    "    -------\n",
    "        A map@k plot\n",
    "    \"\"\"\n",
    "    #create palette\n",
    "    #recommender_palette = [\"#ED2BFF\", \"#14E2C0\", \"#FF9F1C\", \"#5E2BFF\",\"#FC5FA3\"]\n",
    "    #sns.set_palette(recommender_palette)\n",
    "\n",
    "    #lineplot\n",
    "    mapk_df = pd.DataFrame(np.column_stack(mapk_scores), k_range, columns=model_names)\n",
    "    ax = sns.lineplot(data=mapk_df)\n",
    "    plt.xticks(k_range)\n",
    "    plt.setp(ax.lines,linewidth=5)\n",
    "\n",
    "    #set labels\n",
    "    ax.set_title('Mean Average Precision at K (MAP@K) Comparison')\n",
    "    ax.set_ylabel('MAP@K')\n",
    "    ax.set_xlabel('K')\n",
    "    plt.show()"
   ]
  },
  {
   "cell_type": "code",
   "execution_count": 59,
   "id": "e1d913a1",
   "metadata": {},
   "outputs": [
    {
     "data": {
      "application/vnd.jupyter.widget-view+json": {
       "model_id": "d5354b291f254fa78f184d025c0ce26f",
       "version_major": 2,
       "version_minor": 0
      },
      "text/plain": [
       "  0%|          | 0/19 [00:00<?, ?it/s]"
      ]
     },
     "metadata": {},
     "output_type": "display_data"
    },
    {
     "data": {
      "image/png": "[encoded data removed]",
      "text/plain": [
       "<Figure size 1080x504 with 1 Axes>"
      ]
     },
     "metadata": {
      "needs_background": "light"
     },
     "output_type": "display_data"
    }
   ],
   "source": [
    "\n",
    "\n",
    "mapk_scores = [[] for _ in predictions]\n",
    "names = list(predictions.keys())\n",
    "for K in tqdm(np.arange(1, 20)):\n",
    "    for i, (key, value) in enumerate(predictions.items()):\n",
    "        mapk_scores[i].extend([mapk(actual, value, k=K)])\n",
    "    \n",
    "\n",
    "    \n",
    "    \n",
    "index = range(1,19+1)\n",
    "\n",
    "fig = plt.figure(figsize=(15, 7))\n",
    "mapk_plot(mapk_scores, model_names=names, k_range=index)"
   ]
  },
  {
   "cell_type": "code",
   "execution_count": 60,
   "id": "a6a76e74",
   "metadata": {},
   "outputs": [
    {
     "data": {
      "application/vnd.jupyter.widget-view+json": {
       "model_id": "b018410772bd4a8798052e1bb8475134",
       "version_major": 2,
       "version_minor": 0
      },
      "text/plain": [
       "  0%|          | 0/19 [00:00<?, ?it/s]"
      ]
     },
     "metadata": {},
     "output_type": "display_data"
    },
    {
     "data": {
      "application/vnd.jupyter.widget-view+json": {
       "model_id": "7482310eb96345c6b5a0125feb25ca36",
       "version_major": 2,
       "version_minor": 0
      },
      "text/plain": [
       "  0%|          | 0/19 [00:00<?, ?it/s]"
      ]
     },
     "metadata": {},
     "output_type": "display_data"
    },
    {
     "name": "stdout",
     "output_type": "stream",
     "text": [
      "24983 0\n"
     ]
    },
    {
     "ename": "AssertionError",
     "evalue": "Length mismatched",
     "output_type": "error",
     "traceback": [
      "\u001b[1;31m---------------------------------------------------------------------------\u001b[0m",
      "\u001b[1;31mAssertionError\u001b[0m                            Traceback (most recent call last)",
      "Input \u001b[1;32mIn [60]\u001b[0m, in \u001b[0;36m<cell line: 10>\u001b[1;34m()\u001b[0m\n\u001b[0;32m      8\u001b[0m mapk_scores\u001b[38;5;241m.\u001b[39mappend([])    \n\u001b[0;32m     10\u001b[0m \u001b[38;5;28;01mfor\u001b[39;00m K \u001b[38;5;129;01min\u001b[39;00m tqdm(np\u001b[38;5;241m.\u001b[39marange(\u001b[38;5;241m1\u001b[39m, \u001b[38;5;241m20\u001b[39m)):\n\u001b[1;32m---> 11\u001b[0m     mapk_scores[\u001b[38;5;241m-\u001b[39m\u001b[38;5;241m1\u001b[39m]\u001b[38;5;241m.\u001b[39mextend([\u001b[43mmapk\u001b[49m\u001b[43m(\u001b[49m\u001b[43mactual\u001b[49m\u001b[43m,\u001b[49m\u001b[43m \u001b[49m\u001b[43mresult\u001b[49m\u001b[43m,\u001b[49m\u001b[43m \u001b[49m\u001b[43mk\u001b[49m\u001b[38;5;241;43m=\u001b[39;49m\u001b[43mK\u001b[49m\u001b[43m)\u001b[49m])\n\u001b[0;32m     12\u001b[0m names\u001b[38;5;241m.\u001b[39mappend(\u001b[38;5;124m'\u001b[39m\u001b[38;5;124mresult\u001b[39m\u001b[38;5;124m'\u001b[39m)        \n\u001b[0;32m     14\u001b[0m index \u001b[38;5;241m=\u001b[39m \u001b[38;5;28mrange\u001b[39m(\u001b[38;5;241m1\u001b[39m,\u001b[38;5;241m19\u001b[39m\u001b[38;5;241m+\u001b[39m\u001b[38;5;241m1\u001b[39m)\n",
      "Input \u001b[1;32mIn [58]\u001b[0m, in \u001b[0;36mmapk\u001b[1;34m(actual, predicted, k)\u001b[0m\n\u001b[0;32m     37\u001b[0m \u001b[38;5;28;01mif\u001b[39;00m \u001b[38;5;28mlen\u001b[39m(actual) \u001b[38;5;241m!=\u001b[39m \u001b[38;5;28mlen\u001b[39m(predicted):\n\u001b[0;32m     38\u001b[0m     \u001b[38;5;28mprint\u001b[39m(\u001b[38;5;28mlen\u001b[39m(actual), \u001b[38;5;28mlen\u001b[39m(predicted))\n\u001b[1;32m---> 39\u001b[0m     \u001b[38;5;28;01mraise\u001b[39;00m \u001b[38;5;167;01mAssertionError\u001b[39;00m(\u001b[38;5;124m\"\u001b[39m\u001b[38;5;124mLength mismatched\u001b[39m\u001b[38;5;124m\"\u001b[39m)\n\u001b[0;32m     41\u001b[0m \u001b[38;5;28;01mreturn\u001b[39;00m np\u001b[38;5;241m.\u001b[39mmean([_apk(a,p,k) \u001b[38;5;28;01mfor\u001b[39;00m a,p \u001b[38;5;129;01min\u001b[39;00m \u001b[38;5;28mzip\u001b[39m(actual, predicted)])\n",
      "\u001b[1;31mAssertionError\u001b[0m: Length mismatched"
     ]
    }
   ],
   "source": [
    "\n",
    "\n",
    "mapk_scores = [[] for _ in predictions]\n",
    "names = list(predictions.keys())\n",
    "for K in tqdm(np.arange(1, 20)):\n",
    "    for i, (key, value) in enumerate(predictions.items()):\n",
    "        mapk_scores[i].extend([mapk(actual, value, k=K)])\n",
    "    \n",
    "\n",
    "mapk_scores.append([])    \n",
    "\n",
    "for K in tqdm(np.arange(1, 20)):\n",
    "    mapk_scores[-1].extend([mapk(actual, result, k=K)])\n",
    "names.append('result')        \n",
    "        \n",
    "index = range(1,19+1)\n",
    "\n",
    "fig = plt.figure(figsize=(15, 7))\n",
    "mapk_plot(mapk_scores, model_names=names, k_range=index)"
   ]
  },
  {
   "cell_type": "code",
   "execution_count": null,
   "id": "031e3869",
   "metadata": {},
   "outputs": [],
   "source": [
    "mapk(actual, result, k=1)"
   ]
  },
  {
   "cell_type": "code",
   "execution_count": null,
   "id": "fb4b3c74",
   "metadata": {},
   "outputs": [],
   "source": [
    "mapk(actual, result, k=10)"
   ]
  },
  {
   "cell_type": "code",
   "execution_count": null,
   "id": "74de8c83",
   "metadata": {},
   "outputs": [],
   "source": []
  },
  {
   "cell_type": "code",
   "execution_count": null,
   "id": "54ba84ac",
   "metadata": {},
   "outputs": [],
   "source": [
    "\n",
    "mapk_scores = [[] for _ in predictions]\n",
    "names = list(predictions.keys())\n",
    "for i, (key, value) in enumerate(predictions.items()):\n",
    "    mapk_scores[i].extend([mapk(actual, value, k=1)])\n",
    "    \n",
    "mapk_scores"
   ]
  },
  {
   "cell_type": "code",
   "execution_count": null,
   "id": "4d449cc2",
   "metadata": {},
   "outputs": [],
   "source": [
    "predictions.keys()"
   ]
  },
  {
   "cell_type": "code",
   "execution_count": null,
   "id": "22a6fc3d",
   "metadata": {},
   "outputs": [],
   "source": [
    "\n",
    "mapk_scores = [[] for _ in predictions]\n",
    "names = list(predictions.keys())\n",
    "for i, (key, value) in enumerate(predictions.items()):\n",
    "    mapk_scores[i].extend([mapk(actual, value, k=10)])\n",
    "    \n",
    "mapk_scores"
   ]
  },
  {
   "cell_type": "code",
   "execution_count": null,
   "id": "0364bacb",
   "metadata": {},
   "outputs": [],
   "source": []
  },
  {
   "cell_type": "code",
   "execution_count": null,
   "id": "d34d31a9",
   "metadata": {},
   "outputs": [],
   "source": [
    "actual[0], predictions['nn'][0]"
   ]
  },
  {
   "cell_type": "code",
   "execution_count": null,
   "id": "98ee7d20",
   "metadata": {},
   "outputs": [],
   "source": [
    "for u in range(1000):\n",
    "    x = _apk(actual[u], predictions['svd'][u], 1)\n",
    "    if x > 0:\n",
    "        print(u, x)\n",
    "        break"
   ]
  },
  {
   "cell_type": "code",
   "execution_count": null,
   "id": "28a0ac39",
   "metadata": {},
   "outputs": [],
   "source": [
    "ndf = pd.DataFrame()"
   ]
  },
  {
   "cell_type": "code",
   "execution_count": null,
   "id": "a012f682",
   "metadata": {},
   "outputs": [],
   "source": [
    "ndf['UID'] = range(24983)\n",
    "ndf"
   ]
  },
  {
   "cell_type": "code",
   "execution_count": null,
   "id": "d643b57a",
   "metadata": {},
   "outputs": [],
   "source": [
    "ndf['JID'] = predictions['svd']\n",
    "ndf"
   ]
  },
  {
   "cell_type": "code",
   "execution_count": null,
   "id": "fae4900f",
   "metadata": {},
   "outputs": [],
   "source": [
    "ndf.explode('JID')"
   ]
  },
  {
   "cell_type": "code",
   "execution_count": null,
   "id": "567677e8",
   "metadata": {},
   "outputs": [],
   "source": []
  },
  {
   "cell_type": "code",
   "execution_count": null,
   "id": "bbdb6bb6",
   "metadata": {},
   "outputs": [],
   "source": []
  },
  {
   "cell_type": "code",
   "execution_count": null,
   "id": "3a69c4f1",
   "metadata": {},
   "outputs": [],
   "source": []
  },
  {
   "cell_type": "code",
   "execution_count": null,
   "id": "f12723d2",
   "metadata": {},
   "outputs": [],
   "source": []
  },
  {
   "cell_type": "code",
   "execution_count": 61,
   "id": "272a423f",
   "metadata": {},
   "outputs": [],
   "source": [
    "def get_value_popularity_ranks(values: pd.Series) -> pd.Series:\n",
    "    value_counts = values.value_counts()\n",
    "    counts_unique = value_counts.unique()\n",
    "    count_rank_mapping = pd.Series(index=counts_unique, data=np.arange(len(counts_unique)) + 1)\n",
    "    return value_counts.map(count_rank_mapping)\n",
    "\n",
    "\n",
    "def calculate_serendipity_per_user(\n",
    "    recommendations: pd.DataFrame,\n",
    "    train: pd.DataFrame,\n",
    "    test: pd.DataFrame,\n",
    ") -> pd.Series:\n",
    "    recommendations_ = pd.merge(recommendations, test[[\"UID\", \"JID\"]], how=\"left\", indicator=True)\n",
    "    recommendations_[\"is_rel\"] = np.where(recommendations_[\"_merge\"] == \"both\", 1, 0)\n",
    "\n",
    "    n_items = train[\"JID\"].nunique()\n",
    "    item_popularity_ranks = get_value_popularity_ranks(train[\"JID\"])\n",
    "    recommendations_[\"rank_pop\"] = recommendations_[\"JID\"].map(item_popularity_ranks)\n",
    "\n",
    "    recommendations_[\"proba_user\"] = (n_items + 1 - recommendations_[\"Ratings_pred\"]) / n_items\n",
    "    recommendations_[\"proba_any_user\"] = (n_items + 1 - recommendations_[\"rank_pop\"]) / n_items\n",
    "\n",
    "    recommendations_[\"proba_diff\"] = np.maximum(\n",
    "        recommendations_[\"proba_user\"] - recommendations_[\"proba_any_user\"],\n",
    "        0.0\n",
    "    )\n",
    "    recommendations_[\"item_serendipity\"] = recommendations_[\"proba_diff\"] * recommendations_[\"is_rel\"]\n",
    "    return recommendations_[[\"UID\", \"item_serendipity\"]].groupby(\"UID\").agg(\"mean\")\n"
   ]
  },
  {
   "cell_type": "code",
   "execution_count": null,
   "id": "1708c803",
   "metadata": {},
   "outputs": [],
   "source": [
    "for key, value in frames.items():\n",
    "    display(value)"
   ]
  },
  {
   "cell_type": "code",
   "execution_count": 62,
   "id": "771779fd",
   "metadata": {},
   "outputs": [
    {
     "name": "stdout",
     "output_type": "stream",
     "text": [
      "svd item_serendipity    0.12573\n",
      "dtype: float64\n",
      "lfm item_serendipity    0.168735\n",
      "dtype: float64\n",
      "lfm_cos item_serendipity    0.250702\n",
      "dtype: float64\n",
      "nn item_serendipity    0.091932\n",
      "dtype: float64\n",
      "catboost item_serendipity    0.102744\n",
      "dtype: float64\n",
      "knn item_serendipity    0.089807\n",
      "dtype: float64\n",
      "catboost_doc2vec item_serendipity    0.10844\n",
      "dtype: float64\n",
      "nn_bias item_serendipity    0.117806\n",
      "dtype: float64\n"
     ]
    }
   ],
   "source": [
    "for key, value in frames.items():\n",
    "    c = value.columns\n",
    "    if '_merge' in c:        \n",
    "        #print(value.drop(columns = ['Rating','_merge']).columns)\n",
    "        print(key, calculate_serendipity_per_user(value.drop(columns = ['Rating','_merge']).rename(columns = {'Rating_pred':'Ratings_pred'}), df_train, df_test).mean())\n",
    "    elif 'rank' in c:    \n",
    "        #print(value.rename(columns = {'rank':'Ratings_pred'}).columns)\n",
    "        print(\n",
    "            key, calculate_serendipity_per_user(\n",
    "                value.rename(columns = {'rank':'Ratings_pred'}), df_train, df_test).mean())\n",
    "        \n",
    "    elif 'Rating_pred' in c:\n",
    "        #print(c)\n",
    "        print(key, calculate_serendipity_per_user(\n",
    "                value.rename(columns = {'Rating_pred':'Ratings_pred'}), df_train, df_test).mean())\n",
    "        #print(key, calculate_serendipity_per_user(value, df_train, df_test).mean())\n",
    "    #break\n",
    "    #"
   ]
  },
  {
   "cell_type": "code",
   "execution_count": null,
   "id": "e7257d91",
   "metadata": {},
   "outputs": [],
   "source": []
  },
  {
   "cell_type": "code",
   "execution_count": null,
   "id": "181c8100",
   "metadata": {},
   "outputs": [],
   "source": []
  },
  {
   "cell_type": "code",
   "execution_count": 63,
   "id": "a892f3bd",
   "metadata": {},
   "outputs": [],
   "source": [
    "def novelty(predicted: List[list], pop: dict, u: int, n: int) -> (float, list):\n",
    "    \"\"\"\n",
    "    Новизна рекомендаций \n",
    "    ----------    \n",
    "    Базируется на статье:\n",
    "    Zhou, T., Kuscsik, Z., Liu, J. G., Medo, M., Wakeling, J. R., & Zhang, Y. C. (2010).\n",
    "    Solving the apparent diversity-accuracy dilemma of recommender systems.\n",
    "    Proceedings of the National Academy of Sciences, 107(10), 4511-4515.\n",
    "    \"\"\"\n",
    "    mean_self_information = []\n",
    "    k = 0\n",
    "    for sublist in predicted:\n",
    "        self_information = 0\n",
    "        k += 1\n",
    "        for i in sublist:\n",
    "            self_information += np.sum(-np.log2(pop[i]/u))\n",
    "        mean_self_information.append(self_information/n)\n",
    "    novelty = sum(mean_self_information)/k\n",
    "    return novelty, mean_self_information\n"
   ]
  },
  {
   "cell_type": "code",
   "execution_count": 64,
   "id": "feae3b4d",
   "metadata": {},
   "outputs": [
    {
     "data": {
      "text/plain": [
       "{'svd': 0.806467708440091,\n",
       " 'lfm': 0.5569537579748091,\n",
       " 'lfm_cos': 0.8783698040593366,\n",
       " 'nn': 0.6580521718327331,\n",
       " 'catboost': 0.707472849104188,\n",
       " 'knn': 0.7036449777630319,\n",
       " 'catboost_doc2vec': 0.7705851122539147,\n",
       " 'nn_bias': 0.9501798609400355}"
      ]
     },
     "execution_count": 64,
     "metadata": {},
     "output_type": "execute_result"
    }
   ],
   "source": [
    "nov = df.JID.value_counts()\n",
    "pop = dict(nov)\n",
    "users = np.unique(df['UID'])\n",
    "\n",
    "nov_dict = {}\n",
    "for i, (key, value) in enumerate(predictions.items()):\n",
    "    nov, _ = novelty(value, pop, len(users), 10)\n",
    "    nov_dict[key] = nov\n",
    "    \n",
    "nov_dict"
   ]
  },
  {
   "cell_type": "code",
   "execution_count": null,
   "id": "dc1b335b",
   "metadata": {},
   "outputs": [],
   "source": []
  },
  {
   "cell_type": "code",
   "execution_count": null,
   "id": "54089f3b",
   "metadata": {},
   "outputs": [],
   "source": [
    "users = np.unique(df['UID'])\n",
    "users"
   ]
  },
  {
   "cell_type": "code",
   "execution_count": null,
   "id": "ff09b01b",
   "metadata": {},
   "outputs": [],
   "source": []
  },
  {
   "cell_type": "code",
   "execution_count": null,
   "id": "7a227585",
   "metadata": {},
   "outputs": [],
   "source": [
    "assert False"
   ]
  },
  {
   "cell_type": "code",
   "execution_count": null,
   "id": "5e5d9a1f",
   "metadata": {},
   "outputs": [],
   "source": []
  },
  {
   "cell_type": "code",
   "execution_count": 67,
   "id": "022addd0",
   "metadata": {},
   "outputs": [
    {
     "data": {
      "text/plain": [
       "array([ 0,  1,  2,  3,  4,  5,  6,  7,  8,  9, 10, 11, 12, 13, 14, 15, 16,\n",
       "       17, 18, 19, 20, 21, 22, 23, 24, 25, 26, 27, 28, 29, 30, 31, 32, 33,\n",
       "       34, 35, 36, 37, 38, 39, 40, 41, 42, 43, 44, 45, 46, 47, 48, 49, 50,\n",
       "       51, 52, 53, 54, 55, 56, 57, 58, 59, 60, 61, 62, 63, 64, 65, 66, 67,\n",
       "       68, 69, 70, 71, 72, 73, 74, 75, 76, 77, 78, 79, 80, 81, 82, 83, 84,\n",
       "       85, 86, 87, 88, 89, 90, 91, 92, 93, 94, 95, 96, 97, 98, 99],\n",
       "      dtype=int64)"
      ]
     },
     "execution_count": 67,
     "metadata": {},
     "output_type": "execute_result"
    }
   ],
   "source": [
    "items = np.unique(df['JID'])\n",
    "items"
   ]
  },
  {
   "cell_type": "code",
   "execution_count": 68,
   "id": "b0031164",
   "metadata": {},
   "outputs": [],
   "source": [
    "def prediction_coverage(predicted: List[list], catalog: list, unseen_warning: bool=False) -> float:\n",
    "    \"\"\"\n",
    "    Покрытие рекомендаций (по пользователю)\n",
    "    \n",
    "    ----------    \n",
    "    Базируется на статье:\n",
    "    Ge, M., Delgado-Battenfeld, C., & Jannach, D. (2010, September).\n",
    "    Beyond accuracy: evaluating recommender systems by coverage and serendipity.\n",
    "    In Proceedings of the fourth ACM conference on Recommender systems (pp. 257-260). ACM.\n",
    "    \"\"\"\n",
    "    \n",
    "    unique_items_catalog = set(catalog)\n",
    "    if len(catalog)!=len(unique_items_catalog):\n",
    "        raise AssertionError(\"Дубликаты в каталоге\")\n",
    "\n",
    "    predicted_flattened = [p for sublist in predicted for p in sublist]\n",
    "    unique_items_pred = set(predicted_flattened)\n",
    "    \n",
    "    if not unique_items_pred.issubset(unique_items_catalog):\n",
    "        if unseen_warning:\n",
    "            warnings.warn(\"В рекомендациях есть элементы не из каталога. \"\n",
    "                \"Игнорируем\")\n",
    "            unique_items_pred = unique_items_pred.intersection(unique_items_catalog)\n",
    "        else:\n",
    "            print(unique_items_pred - unique_items_catalog)\n",
    "            raise AssertionError(\"В рекомендациях есть элементы не из каталога.\")\n",
    "    \n",
    "    num_unique_predictions = len(unique_items_pred)\n",
    "    prediction_coverage = round(num_unique_predictions/(len(catalog)* 1.0)* 100, 2)\n",
    "    return prediction_coverage\n",
    "\n"
   ]
  },
  {
   "cell_type": "code",
   "execution_count": 69,
   "id": "de5433e6",
   "metadata": {},
   "outputs": [
    {
     "data": {
      "text/plain": [
       "{'svd': 100.0,\n",
       " 'lfm': 100.0,\n",
       " 'lfm_cos': 100.0,\n",
       " 'nn': 95.0,\n",
       " 'catboost': 54.0,\n",
       " 'knn': 89.0,\n",
       " 'catboost_doc2vec': 75.0,\n",
       " 'nn_bias': 99.0}"
      ]
     },
     "execution_count": 69,
     "metadata": {},
     "output_type": "execute_result"
    }
   ],
   "source": [
    "\n",
    "cov_dict = {}\n",
    "for i, (key, value) in enumerate(predictions.items()):\n",
    "    cov = prediction_coverage(value, items)\n",
    "    cov_dict[key] = cov\n",
    "\n",
    "    \n",
    "cov_dict"
   ]
  },
  {
   "cell_type": "code",
   "execution_count": null,
   "id": "bd78eb2b",
   "metadata": {},
   "outputs": [],
   "source": []
  },
  {
   "cell_type": "code",
   "execution_count": null,
   "id": "63efdbaf",
   "metadata": {},
   "outputs": [],
   "source": []
  },
  {
   "cell_type": "code",
   "execution_count": null,
   "id": "07347f0d",
   "metadata": {},
   "outputs": [],
   "source": []
  },
  {
   "cell_type": "code",
   "execution_count": null,
   "id": "45443d17",
   "metadata": {},
   "outputs": [],
   "source": []
  },
  {
   "cell_type": "code",
   "execution_count": null,
   "id": "ff4dd260",
   "metadata": {},
   "outputs": [],
   "source": []
  },
  {
   "cell_type": "code",
   "execution_count": 70,
   "id": "87130f5d",
   "metadata": {},
   "outputs": [],
   "source": [
    "\n",
    "def catalog_coverage(predicted: List[list], catalog: list, k: int) -> float:\n",
    "    \"\"\"\n",
    "    Покрытие рекомендаций (по каталогу)\n",
    "    \n",
    "    ----------\n",
    "    Ge, M., Delgado-Battenfeld, C., & Jannach, D. (2010, September).\n",
    "    Beyond accuracy: evaluating recommender systems by coverage and serendipity.\n",
    "    In Proceedings of the fourth ACM conference on Recommender systems (pp. 257-260). ACM.\n",
    "    \"\"\"\n",
    "    sampling = random.choices(predicted, k=k)\n",
    "    predicted_flattened = [p for sublist in sampling for p in sublist]\n",
    "    L_predictions = len(set(predicted_flattened))\n",
    "    catalog_coverage = round(L_predictions/(len(catalog)*1.0)*100,2)\n",
    "    return catalog_coverage\n",
    "\n",
    "\n",
    "\n",
    "def coverage_plot(coverage_scores: list, model_names: list) -> None:\n",
    "    \"\"\"\n",
    "    Plots the coverage for a set of models to compare.\n",
    "    ----------\n",
    "    coverage_scores: list\n",
    "        list of coverage scores in same order as model_names\n",
    "        example: [0.17, 0.25, 0.76]\n",
    "    model_names: list\n",
    "        list of model names in same order as coverage_scores\n",
    "        example: ['Model A', 'Model B', 'Model C']\n",
    "    Returns:\n",
    "    -------\n",
    "        A coverage plot\n",
    "    \"\"\"\n",
    "    #create palette\n",
    "    #recommender_palette = [\"#ED2BFF\", \"#14E2C0\", \"#FF9F1C\", \"#5E2BFF\",\"#FC5FA3\"]\n",
    "    #sns.set_palette(recommender_palette)\n",
    "\n",
    "    #make barplot\n",
    "    ax = sns.barplot(x=model_names, y=coverage_scores)\n",
    "\n",
    "    #set labels\n",
    "    ax.set_title('Catalog Coverage in %')\n",
    "    ax.set_ylabel('coverage')\n",
    "\n",
    "    plt.show()"
   ]
  },
  {
   "cell_type": "code",
   "execution_count": 71,
   "id": "be2a4a75",
   "metadata": {},
   "outputs": [
    {
     "data": {
      "text/plain": [
       "{'svd': 89.0,\n",
       " 'lfm': 99.0,\n",
       " 'lfm_cos': 100.0,\n",
       " 'nn': 46.0,\n",
       " 'catboost': 34.0,\n",
       " 'knn': 35.0,\n",
       " 'catboost_doc2vec': 39.0,\n",
       " 'nn_bias': 71.0}"
      ]
     },
     "execution_count": 71,
     "metadata": {},
     "output_type": "execute_result"
    }
   ],
   "source": [
    "\n",
    "catalog_cov_dict = {}\n",
    "for i, (key, value) in enumerate(predictions.items()):\n",
    "    cov = catalog_coverage(value, items, 100)\n",
    "    catalog_cov_dict[key] = cov\n",
    "\n",
    "    \n",
    "catalog_cov_dict"
   ]
  },
  {
   "cell_type": "code",
   "execution_count": null,
   "id": "9ebcf026",
   "metadata": {},
   "outputs": [],
   "source": [
    "assert False"
   ]
  },
  {
   "cell_type": "code",
   "execution_count": null,
   "id": "ff1bf638",
   "metadata": {},
   "outputs": [],
   "source": []
  },
  {
   "cell_type": "code",
   "execution_count": null,
   "id": "447ee094",
   "metadata": {},
   "outputs": [],
   "source": []
  },
  {
   "cell_type": "code",
   "execution_count": null,
   "id": "4a1e60c6",
   "metadata": {},
   "outputs": [],
   "source": []
  },
  {
   "cell_type": "code",
   "execution_count": null,
   "id": "41eab85d",
   "metadata": {},
   "outputs": [],
   "source": [
    "# N=100 для определенного \n",
    "#random_cat_coverage = catalog_coverage(ran_recs, items, 100)\n",
    "#pop_cat_coverage = catalog_coverage(pop_recs, items, 100)\n",
    "cf_cat_coverage = catalog_coverage(svd_predictions, items, 100)\n",
    "lfm_cat_coverage = catalog_coverage(lfm_predictions, items, 100)\n",
    "lfm_cos_cat_coverage = catalog_coverage(lfm_cos_predictions, items, 100)"
   ]
  },
  {
   "cell_type": "code",
   "execution_count": null,
   "id": "a2f4154e",
   "metadata": {},
   "outputs": [],
   "source": [
    "\n",
    "cf_cat_coverage, lfm_cat_coverage, lfm_cos_cat_coverage"
   ]
  },
  {
   "cell_type": "code",
   "execution_count": null,
   "id": "65129721",
   "metadata": {},
   "outputs": [],
   "source": []
  },
  {
   "cell_type": "code",
   "execution_count": null,
   "id": "6a66863e",
   "metadata": {},
   "outputs": [],
   "source": []
  },
  {
   "cell_type": "code",
   "execution_count": null,
   "id": "78bc0557",
   "metadata": {},
   "outputs": [],
   "source": []
  },
  {
   "cell_type": "code",
   "execution_count": null,
   "id": "a4a9c262",
   "metadata": {},
   "outputs": [],
   "source": []
  },
  {
   "cell_type": "code",
   "execution_count": null,
   "id": "e3f0bbc9",
   "metadata": {},
   "outputs": [],
   "source": []
  },
  {
   "cell_type": "code",
   "execution_count": null,
   "id": "4a2bfddc",
   "metadata": {},
   "outputs": [],
   "source": [
    "frames2 = {'svd':svd_df, 'lfm_cos':lfm_cos_df, 'nn':nn_df, \n",
    "         'knn':knn_df, 'catboost_doc2vec':catboost_doc2vec_df}\n",
    "\n",
    "predictions2 = {k:list(v.groupby('UID').agg({'JID':list})['JID'].values) for k, v in frames2.items()}"
   ]
  },
  {
   "cell_type": "code",
   "execution_count": null,
   "id": "d67fc053",
   "metadata": {},
   "outputs": [],
   "source": []
  },
  {
   "cell_type": "code",
   "execution_count": null,
   "id": "3de09637",
   "metadata": {},
   "outputs": [],
   "source": [
    "len(predictions['svd'])"
   ]
  },
  {
   "cell_type": "code",
   "execution_count": null,
   "id": "93079f25",
   "metadata": {},
   "outputs": [],
   "source": [
    "intersect = [[] for _ in range(len(predictions2['svd']))]\n",
    "\n",
    "for i, (key1, value1) in enumerate(tqdm(predictions2.items())):\n",
    "    for j, (key2, value2) in enumerate(predictions2.items()):    \n",
    "        if j <= i:\n",
    "            continue\n",
    "            \n",
    "        for ii in range(24983):\n",
    "            for v in value1[ii]:            \n",
    "                if v in value2[ii]:\n",
    "                    intersect[ii].append((key1, key2, v))\n",
    "                \n",
    "             \n",
    "    intersect.append(inters)"
   ]
  },
  {
   "cell_type": "code",
   "execution_count": null,
   "id": "e745a08f",
   "metadata": {},
   "outputs": [],
   "source": [
    "intersect[0]"
   ]
  },
  {
   "cell_type": "code",
   "execution_count": null,
   "id": "37120074",
   "metadata": {},
   "outputs": [],
   "source": [
    "cc = Counter(intersect[9])\n",
    "cc"
   ]
  },
  {
   "cell_type": "code",
   "execution_count": null,
   "id": "5ac90562",
   "metadata": {},
   "outputs": [],
   "source": [
    "predictions['svd'][0]"
   ]
  },
  {
   "cell_type": "code",
   "execution_count": null,
   "id": "aff7486f",
   "metadata": {},
   "outputs": [],
   "source": [
    "{x: 0.1 * (10-i) for i, x in enumerate(predictions['svd'][0])}"
   ]
  },
  {
   "cell_type": "code",
   "execution_count": null,
   "id": "402cfd2d",
   "metadata": {},
   "outputs": [],
   "source": [
    "{x: 0.1 * (10-i) for i, x in enumerate(predictions['knn'][0])}"
   ]
  },
  {
   "cell_type": "code",
   "execution_count": null,
   "id": "0255301e",
   "metadata": {},
   "outputs": [],
   "source": [
    "{x: 0.1 * (10-i) for i, x in enumerate(predictions['nn'][0])}"
   ]
  },
  {
   "cell_type": "code",
   "execution_count": null,
   "id": "1b347ef6",
   "metadata": {},
   "outputs": [],
   "source": []
  },
  {
   "cell_type": "code",
   "execution_count": null,
   "id": "92c07b82",
   "metadata": {},
   "outputs": [],
   "source": []
  },
  {
   "cell_type": "code",
   "execution_count": null,
   "id": "e1d87da2",
   "metadata": {},
   "outputs": [],
   "source": []
  },
  {
   "cell_type": "code",
   "execution_count": null,
   "id": "4a41142a",
   "metadata": {},
   "outputs": [],
   "source": []
  },
  {
   "cell_type": "code",
   "execution_count": null,
   "id": "b4146346",
   "metadata": {},
   "outputs": [],
   "source": []
  },
  {
   "cell_type": "code",
   "execution_count": null,
   "id": "f6eade6d",
   "metadata": {},
   "outputs": [],
   "source": [
    "predictions_df['actual']"
   ]
  },
  {
   "cell_type": "code",
   "execution_count": null,
   "id": "006d8c54",
   "metadata": {},
   "outputs": [],
   "source": [
    "predictions_df['svd']"
   ]
  },
  {
   "cell_type": "code",
   "execution_count": null,
   "id": "26608446",
   "metadata": {},
   "outputs": [],
   "source": [
    "users = np.unique(predictions_df['actual']['UID'])\n",
    "users"
   ]
  },
  {
   "cell_type": "code",
   "execution_count": null,
   "id": "9402001c",
   "metadata": {},
   "outputs": [],
   "source": [
    "ndsg = {}\n",
    "\n",
    "for user in tqdm(users):\n",
    "    df1 = predictions_df['actual'][predictions_df['actual']['UID'] == user]\n",
    "    df2 = predictions_df['svd'][predictions_df['svd']['UID'] == user]\n",
    "    \n",
    "    break\n",
    "    \n",
    "    if len(df_user) < 2:\n",
    "        continue\n",
    "    #display(df_user)\n",
    "    #display(np.asarray([df_user['Ratings']]))\n",
    "    ndsg[user] = ndcg_score(\n",
    "        np.asarray([['Ratings']]),\n",
    "        np.asarray([predictions_df['svd']['Ratings_pred']])\n",
    "    )\n",
    "\n",
    "    \n",
    "np.mean(list(ndsg.values()))"
   ]
  },
  {
   "cell_type": "code",
   "execution_count": null,
   "id": "ffa70fdb",
   "metadata": {},
   "outputs": [],
   "source": [
    "df1"
   ]
  },
  {
   "cell_type": "code",
   "execution_count": null,
   "id": "cbeba540",
   "metadata": {},
   "outputs": [],
   "source": [
    "df2"
   ]
  },
  {
   "cell_type": "code",
   "execution_count": null,
   "id": "270361f0",
   "metadata": {},
   "outputs": [],
   "source": [
    "df_pred = df_pred.merge(pd.DataFrame({'UID':ndsg.keys(), 'NDSG': list(ndsg.values())}), how='left')#\n",
    "df_pred"
   ]
  },
  {
   "cell_type": "code",
   "execution_count": null,
   "id": "a5620cfd",
   "metadata": {},
   "outputs": [],
   "source": [
    "df_pred[df_pred['NDSG'].isna()]"
   ]
  },
  {
   "cell_type": "code",
   "execution_count": null,
   "id": "9051b42a",
   "metadata": {},
   "outputs": [],
   "source": [
    "df_pred = df_pred.fillna(0)"
   ]
  },
  {
   "cell_type": "code",
   "execution_count": null,
   "id": "ac91b8dc",
   "metadata": {},
   "outputs": [],
   "source": [
    "df_pred[df_pred['NDSG'].isna()]"
   ]
  },
  {
   "cell_type": "code",
   "execution_count": null,
   "id": "9f269f70",
   "metadata": {},
   "outputs": [],
   "source": [
    "df_pred['NDSG'].mean()"
   ]
  },
  {
   "cell_type": "code",
   "execution_count": null,
   "id": "04878bf8",
   "metadata": {},
   "outputs": [],
   "source": []
  },
  {
   "cell_type": "code",
   "execution_count": null,
   "id": "05feba1d",
   "metadata": {},
   "outputs": [],
   "source": []
  },
  {
   "cell_type": "code",
   "execution_count": null,
   "id": "c857aa88",
   "metadata": {},
   "outputs": [],
   "source": []
  },
  {
   "cell_type": "code",
   "execution_count": null,
   "id": "b8917b7c",
   "metadata": {},
   "outputs": [],
   "source": []
  },
  {
   "cell_type": "code",
   "execution_count": null,
   "id": "44f20842",
   "metadata": {},
   "outputs": [],
   "source": []
  },
  {
   "cell_type": "code",
   "execution_count": null,
   "id": "40eba3a8",
   "metadata": {},
   "outputs": [],
   "source": [
    "pop = dict(df['UID'].value_counts())\n",
    "pop"
   ]
  },
  {
   "cell_type": "code",
   "execution_count": null,
   "id": "79b8598b",
   "metadata": {},
   "outputs": [],
   "source": []
  },
  {
   "cell_type": "code",
   "execution_count": null,
   "id": "45cfb5b3",
   "metadata": {},
   "outputs": [],
   "source": [
    "cf_recs = []\n",
    "\n",
    "for user in tqdm(users):\n",
    "    df_user = df_pred[df_pred['UID'] == user]\n",
    "    "
   ]
  },
  {
   "cell_type": "code",
   "execution_count": null,
   "id": "69523568",
   "metadata": {},
   "outputs": [],
   "source": [
    "df_pred.index"
   ]
  },
  {
   "cell_type": "code",
   "execution_count": null,
   "id": "40f88309",
   "metadata": {},
   "outputs": [],
   "source": [
    "test = df_true.copy().groupby('UID', as_index=False)['JID'].agg({'Ratings': (lambda x: list(set(x)))}).sort_values('Ratings')\n",
    "test = test.set_index(\"UID\")\n",
    "test"
   ]
  },
  {
   "cell_type": "code",
   "execution_count": null,
   "id": "ca45c9a0",
   "metadata": {},
   "outputs": [],
   "source": [
    "def get_users_predictions(user_id, n, model):\n",
    "    recommended_items = pd.DataFrame(model.loc[user_id])\n",
    "    recommended_items.columns = [\"Ratings_pred\"]\n",
    "    recommended_items = recommended_items.sort_values('Ratings_pred', ascending=False)    \n",
    "    recommended_items = recommended_items.head(n)\n",
    "    return recommended_items.index.tolist()"
   ]
  },
  {
   "cell_type": "code",
   "execution_count": null,
   "id": "514c9551",
   "metadata": {},
   "outputs": [],
   "source": [
    "cf_model = df_pred.pivot_table(index='UID', columns='JID', values='Ratings_pred').fillna(0)\n",
    "cf_model"
   ]
  },
  {
   "cell_type": "code",
   "execution_count": null,
   "id": "dce4b1d1",
   "metadata": {},
   "outputs": [],
   "source": [
    "\n",
    "cf_recs = []\n",
    "for user in tqdm(test.index):\n",
    "    cf_predictions = get_users_predictions(user, 10, cf_model)\n",
    "    cf_recs.append(cf_predictions)\n",
    "        \n",
    "test['cf_predictions'] = cf_recs\n",
    "test.head()"
   ]
  },
  {
   "cell_type": "code",
   "execution_count": null,
   "id": "15478f80",
   "metadata": {},
   "outputs": [],
   "source": [
    "# рекомендации по популярным \n",
    "popularity_recs = df['JID'].value_counts().head(10).index.tolist()\n",
    "\n",
    "pop_recs = []\n",
    "for user in tqdm(test.index):\n",
    "    pop_predictions = popularity_recs\n",
    "    pop_recs.append(pop_predictions)\n",
    "        \n",
    "test['pop_predictions'] = pop_recs\n",
    "test.head()"
   ]
  },
  {
   "cell_type": "code",
   "execution_count": null,
   "id": "3f3f5b1a",
   "metadata": {},
   "outputs": [],
   "source": [
    "items = np.unique(df['JID'])\n",
    "items"
   ]
  },
  {
   "cell_type": "code",
   "execution_count": null,
   "id": "19e051d2",
   "metadata": {},
   "outputs": [],
   "source": [
    "# рекомендации случайных\n",
    "ran_recs = []\n",
    "for user in tqdm(test.index):\n",
    "    random_predictions = np.random.choice(items, 10)\n",
    "    ran_recs.append(random_predictions)\n",
    "        \n",
    "test['random_predictions'] = ran_recs\n",
    "test.head()"
   ]
  },
  {
   "cell_type": "code",
   "execution_count": null,
   "id": "7bd5b72d",
   "metadata": {},
   "outputs": [],
   "source": [
    "actual = test.Ratings.values.tolist()\n",
    "cf_predictions = test.cf_predictions.values.tolist()\n",
    "pop_predictions = test.pop_predictions.values.tolist()\n",
    "random_predictions = test.random_predictions.values.tolist()"
   ]
  },
  {
   "cell_type": "code",
   "execution_count": null,
   "id": "28ae60b8",
   "metadata": {},
   "outputs": [],
   "source": []
  },
  {
   "cell_type": "code",
   "execution_count": null,
   "id": "6a00d35e",
   "metadata": {},
   "outputs": [],
   "source": []
  },
  {
   "cell_type": "code",
   "execution_count": null,
   "id": "5c84f866",
   "metadata": {},
   "outputs": [],
   "source": []
  },
  {
   "cell_type": "code",
   "execution_count": null,
   "id": "f716153b",
   "metadata": {},
   "outputs": [],
   "source": []
  },
  {
   "cell_type": "code",
   "execution_count": null,
   "id": "97017b68",
   "metadata": {},
   "outputs": [],
   "source": []
  },
  {
   "cell_type": "code",
   "execution_count": null,
   "id": "c35f88de",
   "metadata": {},
   "outputs": [],
   "source": []
  },
  {
   "cell_type": "code",
   "execution_count": null,
   "id": "981c649a",
   "metadata": {},
   "outputs": [],
   "source": []
  },
  {
   "cell_type": "code",
   "execution_count": null,
   "id": "62c66a75",
   "metadata": {},
   "outputs": [],
   "source": [
    "lfm_dataset = LFMDataset()\n",
    "lfm_dataset.fit(\n",
    "    users=df_train[\"UID\"].values,\n",
    "    items=df_train[\"JID\"].values,\n",
    ")\n",
    "\n",
    "train_matrix, _ = lfm_dataset.build_interactions(zip(*df_train[[\"UID\", \"JID\"]].values.T))"
   ]
  },
  {
   "cell_type": "code",
   "execution_count": null,
   "id": "2b84a647",
   "metadata": {},
   "outputs": [],
   "source": [
    "id_item_mapping = {v: k for k, v in lfm_dataset._item_id_mapping.items()}"
   ]
  },
  {
   "cell_type": "code",
   "execution_count": null,
   "id": "1af7a8fe",
   "metadata": {},
   "outputs": [],
   "source": []
  },
  {
   "cell_type": "code",
   "execution_count": null,
   "id": "5cd7234d",
   "metadata": {},
   "outputs": [],
   "source": []
  },
  {
   "cell_type": "code",
   "execution_count": null,
   "id": "001edd09",
   "metadata": {},
   "outputs": [],
   "source": []
  },
  {
   "cell_type": "code",
   "execution_count": 33,
   "id": "61a0b8a7",
   "metadata": {},
   "outputs": [
    {
     "ename": "NameError",
     "evalue": "name 'train_matrix' is not defined",
     "output_type": "error",
     "traceback": [
      "\u001b[1;31m---------------------------------------------------------------------------\u001b[0m",
      "\u001b[1;31mNameError\u001b[0m                                 Traceback (most recent call last)",
      "Input \u001b[1;32mIn [33]\u001b[0m, in \u001b[0;36m<cell line: 7>\u001b[1;34m()\u001b[0m\n\u001b[0;32m      1\u001b[0m lfm_model \u001b[38;5;241m=\u001b[39m LightFM(\n\u001b[0;32m      2\u001b[0m     learning_rate\u001b[38;5;241m=\u001b[39m\u001b[38;5;241m0.01\u001b[39m, \n\u001b[0;32m      3\u001b[0m     loss\u001b[38;5;241m=\u001b[39m\u001b[38;5;124m'\u001b[39m\u001b[38;5;124mwarp\u001b[39m\u001b[38;5;124m'\u001b[39m, \n\u001b[0;32m      4\u001b[0m     no_components\u001b[38;5;241m=\u001b[39m\u001b[38;5;241m64\u001b[39m,\n\u001b[0;32m      5\u001b[0m     random_state\u001b[38;5;241m=\u001b[39m\u001b[38;5;241m42\u001b[39m\n\u001b[0;32m      6\u001b[0m )\n\u001b[0;32m      7\u001b[0m lfm_model\u001b[38;5;241m.\u001b[39mfit(\n\u001b[1;32m----> 8\u001b[0m     interactions\u001b[38;5;241m=\u001b[39m\u001b[43mtrain_matrix\u001b[49m, \n\u001b[0;32m      9\u001b[0m     epochs\u001b[38;5;241m=\u001b[39m\u001b[38;5;241m15\u001b[39m,\n\u001b[0;32m     10\u001b[0m     num_threads\u001b[38;5;241m=\u001b[39m\u001b[38;5;241m20\u001b[39m\n\u001b[0;32m     11\u001b[0m )\n",
      "\u001b[1;31mNameError\u001b[0m: name 'train_matrix' is not defined"
     ]
    }
   ],
   "source": [
    "lfm_model = LightFM(\n",
    "    learning_rate=0.01, \n",
    "    loss='warp', \n",
    "    no_components=64,\n",
    "    random_state=42\n",
    ")\n",
    "lfm_model.fit(\n",
    "    interactions=train_matrix, \n",
    "    epochs=15,\n",
    "    num_threads=20\n",
    ");"
   ]
  },
  {
   "cell_type": "code",
   "execution_count": null,
   "id": "27be4993",
   "metadata": {},
   "outputs": [],
   "source": [
    "with open('05_jokes_lfm_model.pkl', 'wb') as f:\n",
    "    pickle.dump(lfm_model, f)"
   ]
  },
  {
   "cell_type": "code",
   "execution_count": null,
   "id": "28d80456",
   "metadata": {},
   "outputs": [],
   "source": [
    "with open('05_jokes_lfm_dataset.pkl', 'wb') as f:\n",
    "    pickle.dump(lfm_dataset, f)"
   ]
  },
  {
   "cell_type": "code",
   "execution_count": null,
   "id": "f2638c45",
   "metadata": {},
   "outputs": [],
   "source": [
    "lfm_model_cos = deepcopy(lfm_model)\n",
    "\n",
    "lfm_model_cos.item_biases = np.zeros_like(lfm_model_cos.item_biases)\n",
    "lfm_model_cos.user_biases = np.zeros_like(lfm_model_cos.user_biases)\n",
    "\n",
    "lfm_model_cos.item_embeddings = normalize(lfm_model_cos.item_embeddings)\n",
    "lfm_model_cos.user_embeddings = normalize(lfm_model_cos.user_embeddings)"
   ]
  },
  {
   "cell_type": "code",
   "execution_count": null,
   "id": "25e1eb87",
   "metadata": {},
   "outputs": [],
   "source": []
  },
  {
   "cell_type": "code",
   "execution_count": null,
   "id": "649e10b0",
   "metadata": {},
   "outputs": [],
   "source": []
  },
  {
   "cell_type": "code",
   "execution_count": null,
   "id": "fd007119",
   "metadata": {},
   "outputs": [],
   "source": [
    "{x:lfm_dataset._user_id_mapping[x] for x in list(lfm_dataset._user_id_mapping.keys())[-10:]}"
   ]
  },
  {
   "cell_type": "code",
   "execution_count": null,
   "id": "d4a25f4e",
   "metadata": {},
   "outputs": [],
   "source": [
    "recommendations_dict = {}\n",
    "for model_name, model in tqdm(models_dict.items()):\n",
    "    recommendations = pd.DataFrame({\"UID\": df_test[\"UID\"].unique()})\n",
    "    recommendations[\"JID\"] = recommendations[\"UID\"].apply(\n",
    "        lfm_get_n_recommendations_for_user,\n",
    "        args=(\n",
    "            model,\n",
    "            train_matrix,\n",
    "            lfm_dataset._user_id_mapping,\n",
    "            id_item_mapping,\n",
    "            n_predict,\n",
    "            model_name\n",
    "        ),\n",
    "    )\n",
    "    recommendations = recommendations.explode(\"JID\")\n",
    "    recommendations[\"rank\"] = recommendations.groupby([\"UID\"]).cumcount() + 1\n",
    "    recommendations_dict[model_name] = recommendations\n",
    "    "
   ]
  },
  {
   "cell_type": "code",
   "execution_count": null,
   "id": "5b39d787",
   "metadata": {},
   "outputs": [],
   "source": []
  },
  {
   "cell_type": "code",
   "execution_count": null,
   "id": "0375b4a4",
   "metadata": {},
   "outputs": [],
   "source": []
  },
  {
   "cell_type": "code",
   "execution_count": null,
   "id": "9733b03f",
   "metadata": {},
   "outputs": [],
   "source": []
  },
  {
   "cell_type": "code",
   "execution_count": null,
   "id": "e030a594",
   "metadata": {},
   "outputs": [],
   "source": [
    "test"
   ]
  },
  {
   "cell_type": "code",
   "execution_count": null,
   "id": "4f430146",
   "metadata": {},
   "outputs": [],
   "source": [
    "actual = test.Ratings.values.tolist()\n",
    "cf_predictions = test.cf_predictions.values.tolist()\n",
    "pop_predictions = test.pop_predictions.values.tolist()\n",
    "random_predictions = test.random_predictions.values.tolist()"
   ]
  },
  {
   "cell_type": "code",
   "execution_count": null,
   "id": "1c7ef04e",
   "metadata": {},
   "outputs": [],
   "source": [
    "actual = df_test.groupby('UID', as_index=False)['JID'].agg({'JID': (lambda x: list(set(x)))}).sort_values('UID').JID.values.tolist()\n",
    "actual"
   ]
  },
  {
   "cell_type": "code",
   "execution_count": null,
   "id": "f0523401",
   "metadata": {},
   "outputs": [],
   "source": [
    "lfm = recommendations_dict['lfm'].groupby('UID', as_index=False)['JID'].agg({'JID': (lambda x: list(set(x)))}).sort_values('UID').JID.values.tolist()\n",
    "lfm"
   ]
  },
  {
   "cell_type": "code",
   "execution_count": null,
   "id": "8423e335",
   "metadata": {},
   "outputs": [],
   "source": [
    "lfm_cos = recommendations_dict['lfm_cos'].groupby('UID', as_index=False)['JID'].agg({'JID': (lambda x: list(set(x)))}).sort_values('UID').JID.values.tolist()\n",
    "lfm_cos"
   ]
  },
  {
   "cell_type": "code",
   "execution_count": null,
   "id": "e6183414",
   "metadata": {},
   "outputs": [],
   "source": []
  },
  {
   "cell_type": "code",
   "execution_count": null,
   "id": "57336ed1",
   "metadata": {},
   "outputs": [],
   "source": []
  },
  {
   "cell_type": "code",
   "execution_count": null,
   "id": "b3495d3b",
   "metadata": {},
   "outputs": [],
   "source": [
    "\n",
    "pop_mapk = []\n",
    "for K in np.arange(1, 20):\n",
    "    pop_mapk.extend([mapk(actual, pop_predictions, k=K)])\n",
    "\n",
    "\n",
    "random_mapk = []\n",
    "for K in np.arange(1, 20):\n",
    "    random_mapk.extend([mapk(actual, random_predictions, k=K)])\n",
    "\n",
    "\n",
    "cf_mapk = []\n",
    "for K in np.arange(1, 20):\n",
    "    cf_mapk.extend([mapk(actual, cf_predictions, k=K)])"
   ]
  },
  {
   "cell_type": "code",
   "execution_count": null,
   "id": "a0cea41d",
   "metadata": {},
   "outputs": [],
   "source": [
    "\n",
    "lfm_mapk = []\n",
    "for K in np.arange(1, 20):\n",
    "    lfm_mapk.extend([mapk(actual, lfm, k=K)])\n",
    "    \n",
    "\n",
    "lfm_cos_mapk = []\n",
    "for K in np.arange(1, 20):\n",
    "    lfm_cos_mapk.extend([mapk(actual, lfm_cos, k=K)])"
   ]
  },
  {
   "cell_type": "code",
   "execution_count": null,
   "id": "2b6b220c",
   "metadata": {},
   "outputs": [],
   "source": [
    "\n",
    "mapk_scores = [random_mapk, pop_mapk, cf_mapk, lfm_mapk, lfm_cos_mapk]\n",
    "index = range(1,19+1)\n",
    "names = ['Random Recommender', 'Popularity Recommender', 'Collaborative Filter', 'LightFM', 'LightFM_cos']\n",
    "\n",
    "fig = plt.figure(figsize=(15, 7))\n",
    "mapk_plot(mapk_scores, model_names=names, k_range=index)"
   ]
  },
  {
   "cell_type": "code",
   "execution_count": null,
   "id": "fb7e9041",
   "metadata": {},
   "outputs": [],
   "source": []
  },
  {
   "cell_type": "code",
   "execution_count": null,
   "id": "d3f11dd3",
   "metadata": {},
   "outputs": [],
   "source": []
  },
  {
   "cell_type": "code",
   "execution_count": null,
   "id": "6a76ca63",
   "metadata": {},
   "outputs": [],
   "source": []
  },
  {
   "cell_type": "code",
   "execution_count": null,
   "id": "5a41401a",
   "metadata": {},
   "outputs": [],
   "source": []
  },
  {
   "cell_type": "code",
   "execution_count": null,
   "id": "9c037a26",
   "metadata": {},
   "outputs": [],
   "source": []
  },
  {
   "cell_type": "code",
   "execution_count": null,
   "id": "b578f7e4",
   "metadata": {},
   "outputs": [],
   "source": []
  },
  {
   "cell_type": "code",
   "execution_count": null,
   "id": "ef16430a",
   "metadata": {},
   "outputs": [],
   "source": []
  },
  {
   "cell_type": "code",
   "execution_count": null,
   "id": "3c3b3251",
   "metadata": {},
   "outputs": [],
   "source": [
    "cf_recs"
   ]
  },
  {
   "cell_type": "code",
   "execution_count": null,
   "id": "52cfe41f",
   "metadata": {},
   "outputs": [],
   "source": []
  },
  {
   "cell_type": "code",
   "execution_count": null,
   "id": "e801edf7",
   "metadata": {},
   "outputs": [],
   "source": []
  },
  {
   "cell_type": "code",
   "execution_count": null,
   "id": "9d0460a1",
   "metadata": {},
   "outputs": [],
   "source": []
  },
  {
   "cell_type": "code",
   "execution_count": null,
   "id": "f24cf688",
   "metadata": {},
   "outputs": [],
   "source": [
    "\n",
    "def catalog_coverage(predicted: List[list], catalog: list, k: int) -> float:\n",
    "    \"\"\"\n",
    "    Покрытие рекомендаций (по каталогу)\n",
    "    \n",
    "    ----------\n",
    "    Ge, M., Delgado-Battenfeld, C., & Jannach, D. (2010, September).\n",
    "    Beyond accuracy: evaluating recommender systems by coverage and serendipity.\n",
    "    In Proceedings of the fourth ACM conference on Recommender systems (pp. 257-260). ACM.\n",
    "    \"\"\"\n",
    "    sampling = random.choices(predicted, k=k)\n",
    "    predicted_flattened = [p for sublist in sampling for p in sublist]\n",
    "    L_predictions = len(set(predicted_flattened))\n",
    "    catalog_coverage = round(L_predictions/(len(catalog)*1.0)*100,2)\n",
    "    return catalog_coverage\n",
    "\n",
    "\n",
    "\n",
    "def coverage_plot(coverage_scores: list, model_names: list) -> None:\n",
    "    \"\"\"\n",
    "    Plots the coverage for a set of models to compare.\n",
    "    ----------\n",
    "    coverage_scores: list\n",
    "        list of coverage scores in same order as model_names\n",
    "        example: [0.17, 0.25, 0.76]\n",
    "    model_names: list\n",
    "        list of model names in same order as coverage_scores\n",
    "        example: ['Model A', 'Model B', 'Model C']\n",
    "    Returns:\n",
    "    -------\n",
    "        A coverage plot\n",
    "    \"\"\"\n",
    "    #create palette\n",
    "    #recommender_palette = [\"#ED2BFF\", \"#14E2C0\", \"#FF9F1C\", \"#5E2BFF\",\"#FC5FA3\"]\n",
    "    #sns.set_palette(recommender_palette)\n",
    "\n",
    "    #make barplot\n",
    "    ax = sns.barplot(x=model_names, y=coverage_scores)\n",
    "\n",
    "    #set labels\n",
    "    ax.set_title('Catalog Coverage in %')\n",
    "    ax.set_ylabel('coverage')\n",
    "\n",
    "    plt.show()"
   ]
  },
  {
   "cell_type": "code",
   "execution_count": null,
   "id": "50fa55d6",
   "metadata": {},
   "outputs": [],
   "source": [
    "# N=100 для определенного \n",
    "random_cat_coverage = catalog_coverage(ran_recs, items, 100)\n",
    "pop_cat_coverage = catalog_coverage(pop_recs, items, 100)\n",
    "cf_cat_coverage = catalog_coverage(cf_recs, items, 100)\n",
    "lfm_cat_coverage = catalog_coverage(lfm, items, 100)\n",
    "lfm_cat_cos_coverage = catalog_coverage(lfm_cos, items, 100)"
   ]
  },
  {
   "cell_type": "code",
   "execution_count": null,
   "id": "2a9704a0",
   "metadata": {},
   "outputs": [],
   "source": [
    "# визуализация\n",
    "coverage_scores = [random_coverage, pop_coverage, cf_coverage, lfm_cat_coverage, lfm_cat_cos_coverage]\n",
    "model_names = ['Random Recommender', 'Popularity Recommender', 'Collaborative Filter', 'lfm', 'lfm_cos']\n",
    "\n",
    "fig = plt.figure(figsize=(7, 5))\n",
    "coverage_plot(coverage_scores, model_names)"
   ]
  },
  {
   "cell_type": "code",
   "execution_count": null,
   "id": "b635e0a3",
   "metadata": {},
   "outputs": [],
   "source": []
  },
  {
   "cell_type": "code",
   "execution_count": null,
   "id": "31416363",
   "metadata": {},
   "outputs": [],
   "source": []
  },
  {
   "cell_type": "code",
   "execution_count": null,
   "id": "ab4c1070",
   "metadata": {},
   "outputs": [],
   "source": []
  },
  {
   "cell_type": "code",
   "execution_count": null,
   "id": "2ac7573e",
   "metadata": {},
   "outputs": [],
   "source": []
  },
  {
   "cell_type": "code",
   "execution_count": null,
   "id": "79bc90dc",
   "metadata": {},
   "outputs": [],
   "source": [
    "nov = df.JID.value_counts()\n",
    "pop = dict(nov)"
   ]
  },
  {
   "cell_type": "code",
   "execution_count": null,
   "id": "5c410dd8",
   "metadata": {},
   "outputs": [],
   "source": [
    "random_novelty,random_mselfinfo_list = novelty(ran_recs, pop, len(users), 10)\n",
    "pop_novelty,pop_mselfinfo_list = novelty(pop_recs, pop, len(users), 10)\n",
    "cf_novelty,cf_mselfinfo_list = novelty(cf_recs, pop, len(users), 10)\n",
    "lfm_novelty,lfm_mselfinfo_list = novelty(lfm, pop, len(users), 10)\n",
    "lfm_cos_novelty,lfm_cos_mselfinfo_list = novelty(lfm_cos, pop, len(users), 10)"
   ]
  },
  {
   "cell_type": "code",
   "execution_count": null,
   "id": "711f342d",
   "metadata": {},
   "outputs": [],
   "source": [
    "print(random_novelty, pop_novelty, cf_novelty, lfm_novelty, lfm_cos_novelty)"
   ]
  },
  {
   "cell_type": "code",
   "execution_count": null,
   "id": "eb115e2f",
   "metadata": {},
   "outputs": [],
   "source": []
  },
  {
   "cell_type": "code",
   "execution_count": null,
   "id": "8582513e",
   "metadata": {},
   "outputs": [],
   "source": []
  },
  {
   "cell_type": "code",
   "execution_count": null,
   "id": "cfb2aa94",
   "metadata": {},
   "outputs": [],
   "source": []
  },
  {
   "cell_type": "code",
   "execution_count": null,
   "id": "c99434b4",
   "metadata": {},
   "outputs": [],
   "source": []
  },
  {
   "cell_type": "code",
   "execution_count": null,
   "id": "8e8e34df",
   "metadata": {},
   "outputs": [],
   "source": []
  },
  {
   "cell_type": "code",
   "execution_count": null,
   "id": "537357b6",
   "metadata": {},
   "outputs": [],
   "source": []
  },
  {
   "cell_type": "code",
   "execution_count": null,
   "id": "15515407",
   "metadata": {},
   "outputs": [],
   "source": [
    "test_set_all"
   ]
  },
  {
   "cell_type": "code",
   "execution_count": null,
   "id": "e122f179",
   "metadata": {},
   "outputs": [],
   "source": [
    "predictions_all"
   ]
  },
  {
   "cell_type": "code",
   "execution_count": null,
   "id": "bdbc5201",
   "metadata": {},
   "outputs": [],
   "source": []
  },
  {
   "cell_type": "code",
   "execution_count": null,
   "id": "95d50eff",
   "metadata": {},
   "outputs": [],
   "source": []
  },
  {
   "cell_type": "code",
   "execution_count": null,
   "id": "e113d673",
   "metadata": {},
   "outputs": [],
   "source": []
  },
  {
   "cell_type": "code",
   "execution_count": null,
   "id": "a8e03227",
   "metadata": {},
   "outputs": [],
   "source": []
  },
  {
   "cell_type": "code",
   "execution_count": null,
   "id": "925aef0c",
   "metadata": {},
   "outputs": [],
   "source": []
  },
  {
   "cell_type": "code",
   "execution_count": null,
   "id": "1bf34f6f",
   "metadata": {},
   "outputs": [],
   "source": []
  },
  {
   "cell_type": "code",
   "execution_count": null,
   "id": "a0df7c81",
   "metadata": {},
   "outputs": [],
   "source": []
  },
  {
   "cell_type": "code",
   "execution_count": null,
   "id": "751b09db",
   "metadata": {},
   "outputs": [],
   "source": []
  },
  {
   "cell_type": "code",
   "execution_count": null,
   "id": "de5e1fa2",
   "metadata": {},
   "outputs": [],
   "source": [
    "get_n_recommendations_for_user(df_pred_all, 4, 10)"
   ]
  },
  {
   "cell_type": "code",
   "execution_count": null,
   "id": "9a8686d1",
   "metadata": {},
   "outputs": [],
   "source": []
  },
  {
   "cell_type": "code",
   "execution_count": null,
   "id": "eb74017b",
   "metadata": {},
   "outputs": [],
   "source": []
  },
  {
   "cell_type": "code",
   "execution_count": null,
   "id": "7cbb051a",
   "metadata": {},
   "outputs": [],
   "source": [
    "df_rec"
   ]
  },
  {
   "cell_type": "code",
   "execution_count": null,
   "id": "07e486e3",
   "metadata": {},
   "outputs": [],
   "source": []
  },
  {
   "cell_type": "code",
   "execution_count": null,
   "id": "4a5e2e76",
   "metadata": {},
   "outputs": [],
   "source": []
  },
  {
   "cell_type": "code",
   "execution_count": null,
   "id": "ffe20445",
   "metadata": {},
   "outputs": [],
   "source": []
  },
  {
   "cell_type": "code",
   "execution_count": null,
   "id": "00f3e50b",
   "metadata": {},
   "outputs": [],
   "source": []
  },
  {
   "cell_type": "code",
   "execution_count": null,
   "id": "7f336e7e",
   "metadata": {},
   "outputs": [],
   "source": []
  },
  {
   "cell_type": "code",
   "execution_count": null,
   "id": "bcf72802",
   "metadata": {},
   "outputs": [],
   "source": [
    "calculate_serendipity_per_user(df_rec, df_train, df_test).mean()"
   ]
  },
  {
   "cell_type": "code",
   "execution_count": null,
   "id": "144dce20",
   "metadata": {},
   "outputs": [],
   "source": [
    "calculate_serendipity_per_user(df_pred, df_train, df_test).mean()"
   ]
  },
  {
   "cell_type": "code",
   "execution_count": null,
   "id": "5c457695",
   "metadata": {},
   "outputs": [],
   "source": []
  },
  {
   "cell_type": "code",
   "execution_count": null,
   "id": "036986d3",
   "metadata": {},
   "outputs": [],
   "source": []
  },
  {
   "cell_type": "code",
   "execution_count": null,
   "id": "203be342",
   "metadata": {},
   "outputs": [],
   "source": []
  },
  {
   "cell_type": "code",
   "execution_count": null,
   "id": "9502e9bc",
   "metadata": {},
   "outputs": [],
   "source": [
    "\n",
    "\n",
    "#random_coverage = prediction_coverage(ran_recs, items)\n",
    "#pop_coverage = prediction_coverage(pop_recs, items)\n",
    "cf_coverage = prediction_coverage(svd_predictions, items)\n",
    "lfm_coverage = prediction_coverage(lfm_predictions, items)\n",
    "lfm_cos_coverage = prediction_coverage(lfm_cos_predictions, items)\n",
    "\n",
    "\n",
    "#random_coverage, pop_coverage, \n",
    "cf_coverage, lfm_coverage, lfm_cos_coverage"
   ]
  },
  {
   "cell_type": "code",
   "execution_count": null,
   "id": "3be6be9a",
   "metadata": {},
   "outputs": [],
   "source": [
    "nov = df.JID.value_counts()\n",
    "pop = dict(nov)\n",
    "\n",
    "\n",
    "svd_novelty, svd_mselfinfo_list = novelty(svd_predictions, pop, len(users), 10)\n",
    "lfm_novelty, lfm_mselfinfo_list = novelty(lfm_predictions, pop, len(users), 10)\n",
    "lfm_cos_novelty, lfm_cos_mselfinfo_list = novelty(lfm_cos_predictions, pop, len(users), 10)\n",
    "svd_novelty, lfm_novelty, lfm_cos_novelty"
   ]
  },
  {
   "cell_type": "code",
   "execution_count": null,
   "id": "731d15aa",
   "metadata": {},
   "outputs": [],
   "source": []
  },
  {
   "cell_type": "code",
   "execution_count": null,
   "id": "87eed77c",
   "metadata": {},
   "outputs": [],
   "source": []
  },
  {
   "cell_type": "code",
   "execution_count": null,
   "id": "f671c7c7",
   "metadata": {},
   "outputs": [],
   "source": []
  },
  {
   "cell_type": "code",
   "execution_count": null,
   "id": "e499da1c",
   "metadata": {},
   "outputs": [],
   "source": []
  },
  {
   "cell_type": "code",
   "execution_count": 34,
   "id": "36dd56f0",
   "metadata": {},
   "outputs": [],
   "source": [
    "def long_tail_plot(df, item_id_column, interaction_type, percentage=None, x_labels=True):\n",
    "    \"\"\"\n",
    "    Plots the long tail for a user-item interaction dataset.\n",
    "    ----------\n",
    "    df: pandas dataframe\n",
    "        user-item interaction dataframe\n",
    "        example:\n",
    "    item_id_column: str\n",
    "        column name identifying the item ids in the dataframe\n",
    "    interaction_type: str\n",
    "        type of user-item interactions\n",
    "        i.e. 'purchases', 'ratings' 'interactions', or 'clicks'\n",
    "    percentage: float, default=None\n",
    "        percent of volume to consider as the head (percent as a decimal)\n",
    "        (if default=None no line will be plotted)\n",
    "    x_tables bool, default=True\n",
    "        if True, plot x-axis tick labels\n",
    "        if False, no x-axis tick lavels will be plotted.\n",
    "    Returns:\n",
    "    -------\n",
    "        A long tail plot\n",
    "    \"\"\"\n",
    "    #calculate cumulative volumes\n",
    "    volume_df = df[item_id_column].value_counts().reset_index()\n",
    "    volume_df.columns = [item_id_column, \"volume\"]\n",
    "    volume_df[item_id_column] = volume_df[item_id_column].astype(str)\n",
    "    volume_df['cumulative_volume'] = volume_df['volume'].cumsum()\n",
    "    volume_df['percent_of_total_volume'] = volume_df['cumulative_volume']/volume_df['volume'].sum()\n",
    "\n",
    "    #line plot of cumulative volume\n",
    "    x=range(0,len(volume_df))\n",
    "    ax = sns.lineplot(x=x, y=\"volume\", data=volume_df, color=\"black\")\n",
    "    plt.xticks(x)\n",
    "\n",
    "    #set labels\n",
    "    ax.set_title('Long Tail Plot')\n",
    "    ax.set_ylabel('# of ' + interaction_type)\n",
    "    ax.set_xlabel(item_id_column)\n",
    "\n",
    "    if percentage != None:\n",
    "        #plot vertical line at the tail location\n",
    "        head = volume_df[volume_df[\"percent_of_total_volume\"] <= percentage]\n",
    "        tail = volume_df[volume_df[\"percent_of_total_volume\"] > percentage]\n",
    "        items_in_head = len(head)\n",
    "        items_in_tail = len(tail)\n",
    "        plt.axvline(x=items_in_head, color=\"red\",  linestyle='--')\n",
    "\n",
    "        # fill area under plot\n",
    "        head = head.append(tail.head(1))\n",
    "        x1 = head.index.values\n",
    "        y1 = head['volume']\n",
    "        x2 = tail.index.values\n",
    "        y2 = tail['volume']\n",
    "        ax.fill_between(x1, y1, color=\"blue\", alpha=0.2)\n",
    "        ax.fill_between(x2, y2,  color=\"orange\", alpha=0.2)\n",
    "\n",
    "        #create legend\n",
    "        legend_elements = [Line2D([0], [0], marker='o', color='w', label=str(items_in_head)+': items in the head', markerfacecolor='blue', markersize=5),\n",
    "                           Line2D([0], [0], marker='o', color='w', label=str(items_in_tail)+': items in the tail', markerfacecolor='orange', markersize=5)]\n",
    "        ax.legend(handles=legend_elements, loc=1)\n",
    "\n",
    "    else:\n",
    "        x1 = volume_df[item_id_column]\n",
    "        y1 = volume_df['volume']\n",
    "        ax.fill_between(x1, y1, color=\"blue\", alpha=0.3)\n",
    "    if x_labels == False:\n",
    "        plt.xticks([], [])\n",
    "        ax.set(xticklabels=[])\n",
    "    else:\n",
    "        ax.set_xticklabels(labels = volume_df[item_id_column], rotation = 45, ha=\"right\")\n",
    "\n",
    "    plt.show()\n",
    "\n",
    "    return volume_df"
   ]
  },
  {
   "cell_type": "code",
   "execution_count": 35,
   "id": "25192e12",
   "metadata": {},
   "outputs": [
    {
     "name": "stderr",
     "output_type": "stream",
     "text": [
      "C:\\Temp\\ipykernel_840\\1203623357.py:49: FutureWarning: The frame.append method is deprecated and will be removed from pandas in a future version. Use pandas.concat instead.\n",
      "  head = head.append(tail.head(1))\n"
     ]
    },
    {
     "data": {
      "image/png": "[encoded data removed]",
      "text/plain": [
       "<Figure size 1080x504 with 1 Axes>"
      ]
     },
     "metadata": {
      "needs_background": "light"
     },
     "output_type": "display_data"
    }
   ],
   "source": [
    "fig = plt.figure(figsize=(15, 7))\n",
    "volume_df = long_tail_plot(df=df, \n",
    "             item_id_column=\"JID\", \n",
    "             interaction_type=\"joke ratings\", \n",
    "             percentage=0.4,\n",
    "             x_labels=False)"
   ]
  },
  {
   "cell_type": "code",
   "execution_count": 36,
   "id": "04ad1b8c",
   "metadata": {},
   "outputs": [
    {
     "data": {
      "text/html": [
       "<div>\n",
       "<style scoped>\n",
       "    .dataframe tbody tr th:only-of-type {\n",
       "        vertical-align: middle;\n",
       "    }\n",
       "\n",
       "    .dataframe tbody tr th {\n",
       "        vertical-align: top;\n",
       "    }\n",
       "\n",
       "    .dataframe thead th {\n",
       "        text-align: right;\n",
       "    }\n",
       "</style>\n",
       "<table border=\"1\" class=\"dataframe\">\n",
       "  <thead>\n",
       "    <tr style=\"text-align: right;\">\n",
       "      <th></th>\n",
       "      <th>JID</th>\n",
       "      <th>volume</th>\n",
       "      <th>cumulative_volume</th>\n",
       "      <th>percent_of_total_volume</th>\n",
       "    </tr>\n",
       "  </thead>\n",
       "  <tbody>\n",
       "    <tr>\n",
       "      <th>0</th>\n",
       "      <td>6</td>\n",
       "      <td>20128</td>\n",
       "      <td>20128</td>\n",
       "      <td>0.013897</td>\n",
       "    </tr>\n",
       "    <tr>\n",
       "      <th>1</th>\n",
       "      <td>31</td>\n",
       "      <td>20069</td>\n",
       "      <td>40197</td>\n",
       "      <td>0.027753</td>\n",
       "    </tr>\n",
       "    <tr>\n",
       "      <th>2</th>\n",
       "      <td>15</td>\n",
       "      <td>20030</td>\n",
       "      <td>60227</td>\n",
       "      <td>0.041583</td>\n",
       "    </tr>\n",
       "    <tr>\n",
       "      <th>3</th>\n",
       "      <td>48</td>\n",
       "      <td>20025</td>\n",
       "      <td>80252</td>\n",
       "      <td>0.055409</td>\n",
       "    </tr>\n",
       "    <tr>\n",
       "      <th>4</th>\n",
       "      <td>17</td>\n",
       "      <td>20006</td>\n",
       "      <td>100258</td>\n",
       "      <td>0.069222</td>\n",
       "    </tr>\n",
       "    <tr>\n",
       "      <th>5</th>\n",
       "      <td>52</td>\n",
       "      <td>20003</td>\n",
       "      <td>120261</td>\n",
       "      <td>0.083032</td>\n",
       "    </tr>\n",
       "    <tr>\n",
       "      <th>6</th>\n",
       "      <td>20</td>\n",
       "      <td>19999</td>\n",
       "      <td>140260</td>\n",
       "      <td>0.096840</td>\n",
       "    </tr>\n",
       "    <tr>\n",
       "      <th>7</th>\n",
       "      <td>68</td>\n",
       "      <td>19988</td>\n",
       "      <td>160248</td>\n",
       "      <td>0.110641</td>\n",
       "    </tr>\n",
       "    <tr>\n",
       "      <th>8</th>\n",
       "      <td>14</td>\n",
       "      <td>19987</td>\n",
       "      <td>180235</td>\n",
       "      <td>0.124440</td>\n",
       "    </tr>\n",
       "    <tr>\n",
       "      <th>9</th>\n",
       "      <td>16</td>\n",
       "      <td>19986</td>\n",
       "      <td>200221</td>\n",
       "      <td>0.138239</td>\n",
       "    </tr>\n",
       "    <tr>\n",
       "      <th>10</th>\n",
       "      <td>65</td>\n",
       "      <td>19985</td>\n",
       "      <td>220206</td>\n",
       "      <td>0.152038</td>\n",
       "    </tr>\n",
       "    <tr>\n",
       "      <th>11</th>\n",
       "      <td>61</td>\n",
       "      <td>19985</td>\n",
       "      <td>240191</td>\n",
       "      <td>0.165836</td>\n",
       "    </tr>\n",
       "    <tr>\n",
       "      <th>12</th>\n",
       "      <td>34</td>\n",
       "      <td>19971</td>\n",
       "      <td>260162</td>\n",
       "      <td>0.179625</td>\n",
       "    </tr>\n",
       "    <tr>\n",
       "      <th>13</th>\n",
       "      <td>19</td>\n",
       "      <td>19968</td>\n",
       "      <td>280130</td>\n",
       "      <td>0.193411</td>\n",
       "    </tr>\n",
       "    <tr>\n",
       "      <th>14</th>\n",
       "      <td>67</td>\n",
       "      <td>19960</td>\n",
       "      <td>300090</td>\n",
       "      <td>0.207192</td>\n",
       "    </tr>\n",
       "    <tr>\n",
       "      <th>15</th>\n",
       "      <td>12</td>\n",
       "      <td>19944</td>\n",
       "      <td>320034</td>\n",
       "      <td>0.220962</td>\n",
       "    </tr>\n",
       "    <tr>\n",
       "      <th>16</th>\n",
       "      <td>18</td>\n",
       "      <td>19941</td>\n",
       "      <td>339975</td>\n",
       "      <td>0.234730</td>\n",
       "    </tr>\n",
       "    <tr>\n",
       "      <th>17</th>\n",
       "      <td>26</td>\n",
       "      <td>19904</td>\n",
       "      <td>359879</td>\n",
       "      <td>0.248473</td>\n",
       "    </tr>\n",
       "    <tr>\n",
       "      <th>18</th>\n",
       "      <td>49</td>\n",
       "      <td>19903</td>\n",
       "      <td>379782</td>\n",
       "      <td>0.262214</td>\n",
       "    </tr>\n",
       "    <tr>\n",
       "      <th>19</th>\n",
       "      <td>60</td>\n",
       "      <td>19902</td>\n",
       "      <td>399684</td>\n",
       "      <td>0.275955</td>\n",
       "    </tr>\n",
       "    <tr>\n",
       "      <th>20</th>\n",
       "      <td>7</td>\n",
       "      <td>19889</td>\n",
       "      <td>419573</td>\n",
       "      <td>0.289688</td>\n",
       "    </tr>\n",
       "    <tr>\n",
       "      <th>21</th>\n",
       "      <td>4</td>\n",
       "      <td>19876</td>\n",
       "      <td>439449</td>\n",
       "      <td>0.303411</td>\n",
       "    </tr>\n",
       "    <tr>\n",
       "      <th>22</th>\n",
       "      <td>35</td>\n",
       "      <td>19864</td>\n",
       "      <td>459313</td>\n",
       "      <td>0.317125</td>\n",
       "    </tr>\n",
       "    <tr>\n",
       "      <th>23</th>\n",
       "      <td>28</td>\n",
       "      <td>19811</td>\n",
       "      <td>479124</td>\n",
       "      <td>0.330804</td>\n",
       "    </tr>\n",
       "    <tr>\n",
       "      <th>24</th>\n",
       "      <td>41</td>\n",
       "      <td>19759</td>\n",
       "      <td>498883</td>\n",
       "      <td>0.344446</td>\n",
       "    </tr>\n",
       "    <tr>\n",
       "      <th>25</th>\n",
       "      <td>64</td>\n",
       "      <td>19747</td>\n",
       "      <td>518630</td>\n",
       "      <td>0.358080</td>\n",
       "    </tr>\n",
       "    <tr>\n",
       "      <th>26</th>\n",
       "      <td>55</td>\n",
       "      <td>19727</td>\n",
       "      <td>538357</td>\n",
       "      <td>0.371700</td>\n",
       "    </tr>\n",
       "    <tr>\n",
       "      <th>27</th>\n",
       "      <td>30</td>\n",
       "      <td>19699</td>\n",
       "      <td>558056</td>\n",
       "      <td>0.385301</td>\n",
       "    </tr>\n",
       "    <tr>\n",
       "      <th>28</th>\n",
       "      <td>47</td>\n",
       "      <td>19690</td>\n",
       "      <td>577746</td>\n",
       "      <td>0.398896</td>\n",
       "    </tr>\n",
       "    <tr>\n",
       "      <th>29</th>\n",
       "      <td>53</td>\n",
       "      <td>19685</td>\n",
       "      <td>597431</td>\n",
       "      <td>0.412487</td>\n",
       "    </tr>\n",
       "  </tbody>\n",
       "</table>\n",
       "</div>"
      ],
      "text/plain": [
       "   JID  volume  cumulative_volume  percent_of_total_volume\n",
       "0    6   20128              20128                 0.013897\n",
       "1   31   20069              40197                 0.027753\n",
       "2   15   20030              60227                 0.041583\n",
       "3   48   20025              80252                 0.055409\n",
       "4   17   20006             100258                 0.069222\n",
       "5   52   20003             120261                 0.083032\n",
       "6   20   19999             140260                 0.096840\n",
       "7   68   19988             160248                 0.110641\n",
       "8   14   19987             180235                 0.124440\n",
       "9   16   19986             200221                 0.138239\n",
       "10  65   19985             220206                 0.152038\n",
       "11  61   19985             240191                 0.165836\n",
       "12  34   19971             260162                 0.179625\n",
       "13  19   19968             280130                 0.193411\n",
       "14  67   19960             300090                 0.207192\n",
       "15  12   19944             320034                 0.220962\n",
       "16  18   19941             339975                 0.234730\n",
       "17  26   19904             359879                 0.248473\n",
       "18  49   19903             379782                 0.262214\n",
       "19  60   19902             399684                 0.275955\n",
       "20   7   19889             419573                 0.289688\n",
       "21   4   19876             439449                 0.303411\n",
       "22  35   19864             459313                 0.317125\n",
       "23  28   19811             479124                 0.330804\n",
       "24  41   19759             498883                 0.344446\n",
       "25  64   19747             518630                 0.358080\n",
       "26  55   19727             538357                 0.371700\n",
       "27  30   19699             558056                 0.385301\n",
       "28  47   19690             577746                 0.398896\n",
       "29  53   19685             597431                 0.412487"
      ]
     },
     "execution_count": 36,
     "metadata": {},
     "output_type": "execute_result"
    }
   ],
   "source": [
    "volume_df.iloc[:30]"
   ]
  },
  {
   "cell_type": "code",
   "execution_count": 37,
   "id": "7c215103",
   "metadata": {},
   "outputs": [
    {
     "data": {
      "text/html": [
       "<div>\n",
       "<style scoped>\n",
       "    .dataframe tbody tr th:only-of-type {\n",
       "        vertical-align: middle;\n",
       "    }\n",
       "\n",
       "    .dataframe tbody tr th {\n",
       "        vertical-align: top;\n",
       "    }\n",
       "\n",
       "    .dataframe thead th {\n",
       "        text-align: right;\n",
       "    }\n",
       "</style>\n",
       "<table border=\"1\" class=\"dataframe\">\n",
       "  <thead>\n",
       "    <tr style=\"text-align: right;\">\n",
       "      <th></th>\n",
       "      <th>JID</th>\n",
       "      <th>volume</th>\n",
       "      <th>cumulative_volume</th>\n",
       "      <th>percent_of_total_volume</th>\n",
       "    </tr>\n",
       "  </thead>\n",
       "  <tbody>\n",
       "    <tr>\n",
       "      <th>30</th>\n",
       "      <td>27</td>\n",
       "      <td>19151</td>\n",
       "      <td>616582</td>\n",
       "      <td>0.425709</td>\n",
       "    </tr>\n",
       "    <tr>\n",
       "      <th>31</th>\n",
       "      <td>25</td>\n",
       "      <td>18969</td>\n",
       "      <td>635551</td>\n",
       "      <td>0.438806</td>\n",
       "    </tr>\n",
       "    <tr>\n",
       "      <th>32</th>\n",
       "      <td>45</td>\n",
       "      <td>18784</td>\n",
       "      <td>654335</td>\n",
       "      <td>0.451775</td>\n",
       "    </tr>\n",
       "    <tr>\n",
       "      <th>33</th>\n",
       "      <td>38</td>\n",
       "      <td>18468</td>\n",
       "      <td>672803</td>\n",
       "      <td>0.464526</td>\n",
       "    </tr>\n",
       "    <tr>\n",
       "      <th>34</th>\n",
       "      <td>37</td>\n",
       "      <td>18219</td>\n",
       "      <td>691022</td>\n",
       "      <td>0.477105</td>\n",
       "    </tr>\n",
       "    <tr>\n",
       "      <th>35</th>\n",
       "      <td>13</td>\n",
       "      <td>18042</td>\n",
       "      <td>709064</td>\n",
       "      <td>0.489562</td>\n",
       "    </tr>\n",
       "    <tr>\n",
       "      <th>36</th>\n",
       "      <td>11</td>\n",
       "      <td>17907</td>\n",
       "      <td>726971</td>\n",
       "      <td>0.501926</td>\n",
       "    </tr>\n",
       "    <tr>\n",
       "      <th>37</th>\n",
       "      <td>39</td>\n",
       "      <td>17893</td>\n",
       "      <td>744864</td>\n",
       "      <td>0.514280</td>\n",
       "    </tr>\n",
       "    <tr>\n",
       "      <th>38</th>\n",
       "      <td>46</td>\n",
       "      <td>17852</td>\n",
       "      <td>762716</td>\n",
       "      <td>0.526605</td>\n",
       "    </tr>\n",
       "    <tr>\n",
       "      <th>39</th>\n",
       "      <td>10</td>\n",
       "      <td>17469</td>\n",
       "      <td>780185</td>\n",
       "      <td>0.538666</td>\n",
       "    </tr>\n",
       "    <tr>\n",
       "      <th>40</th>\n",
       "      <td>21</td>\n",
       "      <td>17194</td>\n",
       "      <td>797379</td>\n",
       "      <td>0.550538</td>\n",
       "    </tr>\n",
       "    <tr>\n",
       "      <th>41</th>\n",
       "      <td>44</td>\n",
       "      <td>17186</td>\n",
       "      <td>814565</td>\n",
       "      <td>0.562404</td>\n",
       "    </tr>\n",
       "    <tr>\n",
       "      <th>42</th>\n",
       "      <td>33</td>\n",
       "      <td>17183</td>\n",
       "      <td>831748</td>\n",
       "      <td>0.574267</td>\n",
       "    </tr>\n",
       "    <tr>\n",
       "      <th>43</th>\n",
       "      <td>24</td>\n",
       "      <td>16653</td>\n",
       "      <td>848401</td>\n",
       "      <td>0.585765</td>\n",
       "    </tr>\n",
       "    <tr>\n",
       "      <th>44</th>\n",
       "      <td>5</td>\n",
       "      <td>16407</td>\n",
       "      <td>864808</td>\n",
       "      <td>0.597093</td>\n",
       "    </tr>\n",
       "    <tr>\n",
       "      <th>45</th>\n",
       "      <td>9</td>\n",
       "      <td>16311</td>\n",
       "      <td>881119</td>\n",
       "      <td>0.608355</td>\n",
       "    </tr>\n",
       "    <tr>\n",
       "      <th>46</th>\n",
       "      <td>69</td>\n",
       "      <td>16223</td>\n",
       "      <td>897342</td>\n",
       "      <td>0.619556</td>\n",
       "    </tr>\n",
       "    <tr>\n",
       "      <th>47</th>\n",
       "      <td>62</td>\n",
       "      <td>16064</td>\n",
       "      <td>913406</td>\n",
       "      <td>0.630647</td>\n",
       "    </tr>\n",
       "    <tr>\n",
       "      <th>48</th>\n",
       "      <td>51</td>\n",
       "      <td>16047</td>\n",
       "      <td>929453</td>\n",
       "      <td>0.641726</td>\n",
       "    </tr>\n",
       "    <tr>\n",
       "      <th>49</th>\n",
       "      <td>22</td>\n",
       "      <td>16045</td>\n",
       "      <td>945498</td>\n",
       "      <td>0.652804</td>\n",
       "    </tr>\n",
       "    <tr>\n",
       "      <th>50</th>\n",
       "      <td>54</td>\n",
       "      <td>15852</td>\n",
       "      <td>961350</td>\n",
       "      <td>0.663749</td>\n",
       "    </tr>\n",
       "    <tr>\n",
       "      <th>51</th>\n",
       "      <td>50</td>\n",
       "      <td>15131</td>\n",
       "      <td>976481</td>\n",
       "      <td>0.674196</td>\n",
       "    </tr>\n",
       "    <tr>\n",
       "      <th>52</th>\n",
       "      <td>40</td>\n",
       "      <td>15030</td>\n",
       "      <td>991511</td>\n",
       "      <td>0.684573</td>\n",
       "    </tr>\n",
       "    <tr>\n",
       "      <th>53</th>\n",
       "      <td>1</td>\n",
       "      <td>14549</td>\n",
       "      <td>1006060</td>\n",
       "      <td>0.694618</td>\n",
       "    </tr>\n",
       "    <tr>\n",
       "      <th>54</th>\n",
       "      <td>29</td>\n",
       "      <td>14541</td>\n",
       "      <td>1020601</td>\n",
       "      <td>0.704658</td>\n",
       "    </tr>\n",
       "    <tr>\n",
       "      <th>55</th>\n",
       "      <td>58</td>\n",
       "      <td>14539</td>\n",
       "      <td>1035140</td>\n",
       "      <td>0.714696</td>\n",
       "    </tr>\n",
       "    <tr>\n",
       "      <th>56</th>\n",
       "      <td>59</td>\n",
       "      <td>14369</td>\n",
       "      <td>1049509</td>\n",
       "      <td>0.724617</td>\n",
       "    </tr>\n",
       "    <tr>\n",
       "      <th>57</th>\n",
       "      <td>42</td>\n",
       "      <td>14064</td>\n",
       "      <td>1063573</td>\n",
       "      <td>0.734327</td>\n",
       "    </tr>\n",
       "    <tr>\n",
       "      <th>58</th>\n",
       "      <td>66</td>\n",
       "      <td>13995</td>\n",
       "      <td>1077568</td>\n",
       "      <td>0.743990</td>\n",
       "    </tr>\n",
       "    <tr>\n",
       "      <th>59</th>\n",
       "      <td>63</td>\n",
       "      <td>13953</td>\n",
       "      <td>1091521</td>\n",
       "      <td>0.753623</td>\n",
       "    </tr>\n",
       "  </tbody>\n",
       "</table>\n",
       "</div>"
      ],
      "text/plain": [
       "   JID  volume  cumulative_volume  percent_of_total_volume\n",
       "30  27   19151             616582                 0.425709\n",
       "31  25   18969             635551                 0.438806\n",
       "32  45   18784             654335                 0.451775\n",
       "33  38   18468             672803                 0.464526\n",
       "34  37   18219             691022                 0.477105\n",
       "35  13   18042             709064                 0.489562\n",
       "36  11   17907             726971                 0.501926\n",
       "37  39   17893             744864                 0.514280\n",
       "38  46   17852             762716                 0.526605\n",
       "39  10   17469             780185                 0.538666\n",
       "40  21   17194             797379                 0.550538\n",
       "41  44   17186             814565                 0.562404\n",
       "42  33   17183             831748                 0.574267\n",
       "43  24   16653             848401                 0.585765\n",
       "44   5   16407             864808                 0.597093\n",
       "45   9   16311             881119                 0.608355\n",
       "46  69   16223             897342                 0.619556\n",
       "47  62   16064             913406                 0.630647\n",
       "48  51   16047             929453                 0.641726\n",
       "49  22   16045             945498                 0.652804\n",
       "50  54   15852             961350                 0.663749\n",
       "51  50   15131             976481                 0.674196\n",
       "52  40   15030             991511                 0.684573\n",
       "53   1   14549            1006060                 0.694618\n",
       "54  29   14541            1020601                 0.704658\n",
       "55  58   14539            1035140                 0.714696\n",
       "56  59   14369            1049509                 0.724617\n",
       "57  42   14064            1063573                 0.734327\n",
       "58  66   13995            1077568                 0.743990\n",
       "59  63   13953            1091521                 0.753623"
      ]
     },
     "execution_count": 37,
     "metadata": {},
     "output_type": "execute_result"
    }
   ],
   "source": [
    "volume_df.iloc[30:60]"
   ]
  },
  {
   "cell_type": "code",
   "execution_count": 38,
   "id": "a6466ffe",
   "metadata": {},
   "outputs": [
    {
     "data": {
      "text/html": [
       "<div>\n",
       "<style scoped>\n",
       "    .dataframe tbody tr th:only-of-type {\n",
       "        vertical-align: middle;\n",
       "    }\n",
       "\n",
       "    .dataframe tbody tr th {\n",
       "        vertical-align: top;\n",
       "    }\n",
       "\n",
       "    .dataframe thead th {\n",
       "        text-align: right;\n",
       "    }\n",
       "</style>\n",
       "<table border=\"1\" class=\"dataframe\">\n",
       "  <thead>\n",
       "    <tr style=\"text-align: right;\">\n",
       "      <th></th>\n",
       "      <th>JID</th>\n",
       "      <th>volume</th>\n",
       "      <th>cumulative_volume</th>\n",
       "      <th>percent_of_total_volume</th>\n",
       "    </tr>\n",
       "  </thead>\n",
       "  <tbody>\n",
       "    <tr>\n",
       "      <th>60</th>\n",
       "      <td>36</td>\n",
       "      <td>13460</td>\n",
       "      <td>1104981</td>\n",
       "      <td>0.762917</td>\n",
       "    </tr>\n",
       "    <tr>\n",
       "      <th>61</th>\n",
       "      <td>32</td>\n",
       "      <td>13377</td>\n",
       "      <td>1118358</td>\n",
       "      <td>0.772153</td>\n",
       "    </tr>\n",
       "    <tr>\n",
       "      <th>62</th>\n",
       "      <td>2</td>\n",
       "      <td>13297</td>\n",
       "      <td>1131655</td>\n",
       "      <td>0.781333</td>\n",
       "    </tr>\n",
       "    <tr>\n",
       "      <th>63</th>\n",
       "      <td>0</td>\n",
       "      <td>13173</td>\n",
       "      <td>1144828</td>\n",
       "      <td>0.790428</td>\n",
       "    </tr>\n",
       "    <tr>\n",
       "      <th>64</th>\n",
       "      <td>43</td>\n",
       "      <td>12971</td>\n",
       "      <td>1157799</td>\n",
       "      <td>0.799384</td>\n",
       "    </tr>\n",
       "    <tr>\n",
       "      <th>65</th>\n",
       "      <td>56</td>\n",
       "      <td>12788</td>\n",
       "      <td>1170587</td>\n",
       "      <td>0.808213</td>\n",
       "    </tr>\n",
       "    <tr>\n",
       "      <th>66</th>\n",
       "      <td>23</td>\n",
       "      <td>12672</td>\n",
       "      <td>1183259</td>\n",
       "      <td>0.816962</td>\n",
       "    </tr>\n",
       "    <tr>\n",
       "      <th>67</th>\n",
       "      <td>8</td>\n",
       "      <td>12538</td>\n",
       "      <td>1195797</td>\n",
       "      <td>0.825619</td>\n",
       "    </tr>\n",
       "    <tr>\n",
       "      <th>68</th>\n",
       "      <td>3</td>\n",
       "      <td>12483</td>\n",
       "      <td>1208280</td>\n",
       "      <td>0.834238</td>\n",
       "    </tr>\n",
       "    <tr>\n",
       "      <th>69</th>\n",
       "      <td>57</td>\n",
       "      <td>12417</td>\n",
       "      <td>1220697</td>\n",
       "      <td>0.842811</td>\n",
       "    </tr>\n",
       "    <tr>\n",
       "      <th>70</th>\n",
       "      <td>98</td>\n",
       "      <td>8721</td>\n",
       "      <td>1229418</td>\n",
       "      <td>0.848832</td>\n",
       "    </tr>\n",
       "    <tr>\n",
       "      <th>71</th>\n",
       "      <td>97</td>\n",
       "      <td>8513</td>\n",
       "      <td>1237931</td>\n",
       "      <td>0.854710</td>\n",
       "    </tr>\n",
       "    <tr>\n",
       "      <th>72</th>\n",
       "      <td>96</td>\n",
       "      <td>8402</td>\n",
       "      <td>1246333</td>\n",
       "      <td>0.860511</td>\n",
       "    </tr>\n",
       "    <tr>\n",
       "      <th>73</th>\n",
       "      <td>95</td>\n",
       "      <td>8241</td>\n",
       "      <td>1254574</td>\n",
       "      <td>0.866201</td>\n",
       "    </tr>\n",
       "    <tr>\n",
       "      <th>74</th>\n",
       "      <td>94</td>\n",
       "      <td>8216</td>\n",
       "      <td>1262790</td>\n",
       "      <td>0.871873</td>\n",
       "    </tr>\n",
       "    <tr>\n",
       "      <th>75</th>\n",
       "      <td>93</td>\n",
       "      <td>8136</td>\n",
       "      <td>1270926</td>\n",
       "      <td>0.877491</td>\n",
       "    </tr>\n",
       "    <tr>\n",
       "      <th>76</th>\n",
       "      <td>99</td>\n",
       "      <td>7937</td>\n",
       "      <td>1278863</td>\n",
       "      <td>0.882971</td>\n",
       "    </tr>\n",
       "    <tr>\n",
       "      <th>77</th>\n",
       "      <td>92</td>\n",
       "      <td>7916</td>\n",
       "      <td>1286779</td>\n",
       "      <td>0.888436</td>\n",
       "    </tr>\n",
       "    <tr>\n",
       "      <th>78</th>\n",
       "      <td>91</td>\n",
       "      <td>7904</td>\n",
       "      <td>1294683</td>\n",
       "      <td>0.893893</td>\n",
       "    </tr>\n",
       "    <tr>\n",
       "      <th>79</th>\n",
       "      <td>90</td>\n",
       "      <td>7756</td>\n",
       "      <td>1302439</td>\n",
       "      <td>0.899248</td>\n",
       "    </tr>\n",
       "    <tr>\n",
       "      <th>80</th>\n",
       "      <td>87</td>\n",
       "      <td>7752</td>\n",
       "      <td>1310191</td>\n",
       "      <td>0.904601</td>\n",
       "    </tr>\n",
       "    <tr>\n",
       "      <th>81</th>\n",
       "      <td>89</td>\n",
       "      <td>7724</td>\n",
       "      <td>1317915</td>\n",
       "      <td>0.909934</td>\n",
       "    </tr>\n",
       "    <tr>\n",
       "      <th>82</th>\n",
       "      <td>88</td>\n",
       "      <td>7694</td>\n",
       "      <td>1325609</td>\n",
       "      <td>0.915246</td>\n",
       "    </tr>\n",
       "    <tr>\n",
       "      <th>83</th>\n",
       "      <td>86</td>\n",
       "      <td>7589</td>\n",
       "      <td>1333198</td>\n",
       "      <td>0.920485</td>\n",
       "    </tr>\n",
       "    <tr>\n",
       "      <th>84</th>\n",
       "      <td>85</td>\n",
       "      <td>7511</td>\n",
       "      <td>1340709</td>\n",
       "      <td>0.925671</td>\n",
       "    </tr>\n",
       "    <tr>\n",
       "      <th>85</th>\n",
       "      <td>84</td>\n",
       "      <td>7493</td>\n",
       "      <td>1348202</td>\n",
       "      <td>0.930845</td>\n",
       "    </tr>\n",
       "    <tr>\n",
       "      <th>86</th>\n",
       "      <td>82</td>\n",
       "      <td>7452</td>\n",
       "      <td>1355654</td>\n",
       "      <td>0.935990</td>\n",
       "    </tr>\n",
       "    <tr>\n",
       "      <th>87</th>\n",
       "      <td>83</td>\n",
       "      <td>7437</td>\n",
       "      <td>1363091</td>\n",
       "      <td>0.941125</td>\n",
       "    </tr>\n",
       "    <tr>\n",
       "      <th>88</th>\n",
       "      <td>80</td>\n",
       "      <td>7437</td>\n",
       "      <td>1370528</td>\n",
       "      <td>0.946259</td>\n",
       "    </tr>\n",
       "    <tr>\n",
       "      <th>89</th>\n",
       "      <td>79</td>\n",
       "      <td>7278</td>\n",
       "      <td>1377806</td>\n",
       "      <td>0.951284</td>\n",
       "    </tr>\n",
       "  </tbody>\n",
       "</table>\n",
       "</div>"
      ],
      "text/plain": [
       "   JID  volume  cumulative_volume  percent_of_total_volume\n",
       "60  36   13460            1104981                 0.762917\n",
       "61  32   13377            1118358                 0.772153\n",
       "62   2   13297            1131655                 0.781333\n",
       "63   0   13173            1144828                 0.790428\n",
       "64  43   12971            1157799                 0.799384\n",
       "65  56   12788            1170587                 0.808213\n",
       "66  23   12672            1183259                 0.816962\n",
       "67   8   12538            1195797                 0.825619\n",
       "68   3   12483            1208280                 0.834238\n",
       "69  57   12417            1220697                 0.842811\n",
       "70  98    8721            1229418                 0.848832\n",
       "71  97    8513            1237931                 0.854710\n",
       "72  96    8402            1246333                 0.860511\n",
       "73  95    8241            1254574                 0.866201\n",
       "74  94    8216            1262790                 0.871873\n",
       "75  93    8136            1270926                 0.877491\n",
       "76  99    7937            1278863                 0.882971\n",
       "77  92    7916            1286779                 0.888436\n",
       "78  91    7904            1294683                 0.893893\n",
       "79  90    7756            1302439                 0.899248\n",
       "80  87    7752            1310191                 0.904601\n",
       "81  89    7724            1317915                 0.909934\n",
       "82  88    7694            1325609                 0.915246\n",
       "83  86    7589            1333198                 0.920485\n",
       "84  85    7511            1340709                 0.925671\n",
       "85  84    7493            1348202                 0.930845\n",
       "86  82    7452            1355654                 0.935990\n",
       "87  83    7437            1363091                 0.941125\n",
       "88  80    7437            1370528                 0.946259\n",
       "89  79    7278            1377806                 0.951284"
      ]
     },
     "execution_count": 38,
     "metadata": {},
     "output_type": "execute_result"
    }
   ],
   "source": [
    "volume_df.iloc[60:90]"
   ]
  },
  {
   "cell_type": "code",
   "execution_count": 39,
   "id": "cead6df1",
   "metadata": {},
   "outputs": [
    {
     "data": {
      "text/html": [
       "<div>\n",
       "<style scoped>\n",
       "    .dataframe tbody tr th:only-of-type {\n",
       "        vertical-align: middle;\n",
       "    }\n",
       "\n",
       "    .dataframe tbody tr th {\n",
       "        vertical-align: top;\n",
       "    }\n",
       "\n",
       "    .dataframe thead th {\n",
       "        text-align: right;\n",
       "    }\n",
       "</style>\n",
       "<table border=\"1\" class=\"dataframe\">\n",
       "  <thead>\n",
       "    <tr style=\"text-align: right;\">\n",
       "      <th></th>\n",
       "      <th>JID</th>\n",
       "      <th>volume</th>\n",
       "      <th>cumulative_volume</th>\n",
       "      <th>percent_of_total_volume</th>\n",
       "    </tr>\n",
       "  </thead>\n",
       "  <tbody>\n",
       "    <tr>\n",
       "      <th>90</th>\n",
       "      <td>78</td>\n",
       "      <td>7228</td>\n",
       "      <td>1385034</td>\n",
       "      <td>0.956275</td>\n",
       "    </tr>\n",
       "    <tr>\n",
       "      <th>91</th>\n",
       "      <td>81</td>\n",
       "      <td>7217</td>\n",
       "      <td>1392251</td>\n",
       "      <td>0.961258</td>\n",
       "    </tr>\n",
       "    <tr>\n",
       "      <th>92</th>\n",
       "      <td>77</td>\n",
       "      <td>7194</td>\n",
       "      <td>1399445</td>\n",
       "      <td>0.966225</td>\n",
       "    </tr>\n",
       "    <tr>\n",
       "      <th>93</th>\n",
       "      <td>76</td>\n",
       "      <td>7152</td>\n",
       "      <td>1406597</td>\n",
       "      <td>0.971163</td>\n",
       "    </tr>\n",
       "    <tr>\n",
       "      <th>94</th>\n",
       "      <td>75</td>\n",
       "      <td>7111</td>\n",
       "      <td>1413708</td>\n",
       "      <td>0.976072</td>\n",
       "    </tr>\n",
       "    <tr>\n",
       "      <th>95</th>\n",
       "      <td>74</td>\n",
       "      <td>7111</td>\n",
       "      <td>1420819</td>\n",
       "      <td>0.980982</td>\n",
       "    </tr>\n",
       "    <tr>\n",
       "      <th>96</th>\n",
       "      <td>73</td>\n",
       "      <td>6992</td>\n",
       "      <td>1427811</td>\n",
       "      <td>0.985810</td>\n",
       "    </tr>\n",
       "    <tr>\n",
       "      <th>97</th>\n",
       "      <td>71</td>\n",
       "      <td>6977</td>\n",
       "      <td>1434788</td>\n",
       "      <td>0.990627</td>\n",
       "    </tr>\n",
       "    <tr>\n",
       "      <th>98</th>\n",
       "      <td>72</td>\n",
       "      <td>6825</td>\n",
       "      <td>1441613</td>\n",
       "      <td>0.995339</td>\n",
       "    </tr>\n",
       "    <tr>\n",
       "      <th>99</th>\n",
       "      <td>70</td>\n",
       "      <td>6751</td>\n",
       "      <td>1448364</td>\n",
       "      <td>1.000000</td>\n",
       "    </tr>\n",
       "  </tbody>\n",
       "</table>\n",
       "</div>"
      ],
      "text/plain": [
       "   JID  volume  cumulative_volume  percent_of_total_volume\n",
       "90  78    7228            1385034                 0.956275\n",
       "91  81    7217            1392251                 0.961258\n",
       "92  77    7194            1399445                 0.966225\n",
       "93  76    7152            1406597                 0.971163\n",
       "94  75    7111            1413708                 0.976072\n",
       "95  74    7111            1420819                 0.980982\n",
       "96  73    6992            1427811                 0.985810\n",
       "97  71    6977            1434788                 0.990627\n",
       "98  72    6825            1441613                 0.995339\n",
       "99  70    6751            1448364                 1.000000"
      ]
     },
     "execution_count": 39,
     "metadata": {},
     "output_type": "execute_result"
    }
   ],
   "source": [
    "volume_df.iloc[90:100]"
   ]
  },
  {
   "cell_type": "code",
   "execution_count": 40,
   "id": "de152dfb",
   "metadata": {},
   "outputs": [],
   "source": [
    "def weight_by_volume(x):\n",
    "    if x < 0.1: return 0.1\n",
    "    elif x > 0.1 and x < 0.2: return 0.2\n",
    "    elif x > 0.2 and x < 0.3: return 0.3\n",
    "    elif x > 0.3 and x < 0.4: return 0.4\n",
    "    elif x > 0.4 and x < 0.5: return 0.5\n",
    "    elif x > 0.5 and x < 0.6: return 0.5\n",
    "    elif x > 0.6 and x < 0.7: return 0.4\n",
    "    elif x > 0.7 and x < 0.8: return 0.3\n",
    "    elif x > 0.8 and x < 0.9: return 0.2\n",
    "    elif x > 0.9: return 0.1"
   ]
  },
  {
   "cell_type": "code",
   "execution_count": 41,
   "id": "36b917e6",
   "metadata": {},
   "outputs": [
    {
     "data": {
      "text/html": [
       "<div>\n",
       "<style scoped>\n",
       "    .dataframe tbody tr th:only-of-type {\n",
       "        vertical-align: middle;\n",
       "    }\n",
       "\n",
       "    .dataframe tbody tr th {\n",
       "        vertical-align: top;\n",
       "    }\n",
       "\n",
       "    .dataframe thead th {\n",
       "        text-align: right;\n",
       "    }\n",
       "</style>\n",
       "<table border=\"1\" class=\"dataframe\">\n",
       "  <thead>\n",
       "    <tr style=\"text-align: right;\">\n",
       "      <th></th>\n",
       "      <th>JID</th>\n",
       "      <th>volume</th>\n",
       "      <th>cumulative_volume</th>\n",
       "      <th>percent_of_total_volume</th>\n",
       "      <th>weight</th>\n",
       "    </tr>\n",
       "  </thead>\n",
       "  <tbody>\n",
       "    <tr>\n",
       "      <th>0</th>\n",
       "      <td>6</td>\n",
       "      <td>20128</td>\n",
       "      <td>20128</td>\n",
       "      <td>0.013897</td>\n",
       "      <td>0.1</td>\n",
       "    </tr>\n",
       "    <tr>\n",
       "      <th>1</th>\n",
       "      <td>31</td>\n",
       "      <td>20069</td>\n",
       "      <td>40197</td>\n",
       "      <td>0.027753</td>\n",
       "      <td>0.1</td>\n",
       "    </tr>\n",
       "    <tr>\n",
       "      <th>2</th>\n",
       "      <td>15</td>\n",
       "      <td>20030</td>\n",
       "      <td>60227</td>\n",
       "      <td>0.041583</td>\n",
       "      <td>0.1</td>\n",
       "    </tr>\n",
       "    <tr>\n",
       "      <th>3</th>\n",
       "      <td>48</td>\n",
       "      <td>20025</td>\n",
       "      <td>80252</td>\n",
       "      <td>0.055409</td>\n",
       "      <td>0.1</td>\n",
       "    </tr>\n",
       "    <tr>\n",
       "      <th>4</th>\n",
       "      <td>17</td>\n",
       "      <td>20006</td>\n",
       "      <td>100258</td>\n",
       "      <td>0.069222</td>\n",
       "      <td>0.1</td>\n",
       "    </tr>\n",
       "    <tr>\n",
       "      <th>...</th>\n",
       "      <td>...</td>\n",
       "      <td>...</td>\n",
       "      <td>...</td>\n",
       "      <td>...</td>\n",
       "      <td>...</td>\n",
       "    </tr>\n",
       "    <tr>\n",
       "      <th>95</th>\n",
       "      <td>74</td>\n",
       "      <td>7111</td>\n",
       "      <td>1420819</td>\n",
       "      <td>0.980982</td>\n",
       "      <td>0.1</td>\n",
       "    </tr>\n",
       "    <tr>\n",
       "      <th>96</th>\n",
       "      <td>73</td>\n",
       "      <td>6992</td>\n",
       "      <td>1427811</td>\n",
       "      <td>0.985810</td>\n",
       "      <td>0.1</td>\n",
       "    </tr>\n",
       "    <tr>\n",
       "      <th>97</th>\n",
       "      <td>71</td>\n",
       "      <td>6977</td>\n",
       "      <td>1434788</td>\n",
       "      <td>0.990627</td>\n",
       "      <td>0.1</td>\n",
       "    </tr>\n",
       "    <tr>\n",
       "      <th>98</th>\n",
       "      <td>72</td>\n",
       "      <td>6825</td>\n",
       "      <td>1441613</td>\n",
       "      <td>0.995339</td>\n",
       "      <td>0.1</td>\n",
       "    </tr>\n",
       "    <tr>\n",
       "      <th>99</th>\n",
       "      <td>70</td>\n",
       "      <td>6751</td>\n",
       "      <td>1448364</td>\n",
       "      <td>1.000000</td>\n",
       "      <td>0.1</td>\n",
       "    </tr>\n",
       "  </tbody>\n",
       "</table>\n",
       "<p>100 rows × 5 columns</p>\n",
       "</div>"
      ],
      "text/plain": [
       "   JID  volume  cumulative_volume  percent_of_total_volume  weight\n",
       "0    6   20128              20128                 0.013897     0.1\n",
       "1   31   20069              40197                 0.027753     0.1\n",
       "2   15   20030              60227                 0.041583     0.1\n",
       "3   48   20025              80252                 0.055409     0.1\n",
       "4   17   20006             100258                 0.069222     0.1\n",
       "..  ..     ...                ...                      ...     ...\n",
       "95  74    7111            1420819                 0.980982     0.1\n",
       "96  73    6992            1427811                 0.985810     0.1\n",
       "97  71    6977            1434788                 0.990627     0.1\n",
       "98  72    6825            1441613                 0.995339     0.1\n",
       "99  70    6751            1448364                 1.000000     0.1\n",
       "\n",
       "[100 rows x 5 columns]"
      ]
     },
     "execution_count": 41,
     "metadata": {},
     "output_type": "execute_result"
    }
   ],
   "source": [
    "volume_df['weight'] = volume_df['percent_of_total_volume'].apply(weight_by_volume)\n",
    "volume_df"
   ]
  },
  {
   "cell_type": "code",
   "execution_count": 42,
   "id": "1e18710b",
   "metadata": {},
   "outputs": [],
   "source": [
    "joke_volume = {}\n",
    "for row in volume_df.itertuples():\n",
    "    joke_volume[int(row.JID)] = row.weight"
   ]
  },
  {
   "cell_type": "code",
   "execution_count": 43,
   "id": "73da0ec9",
   "metadata": {},
   "outputs": [
    {
     "data": {
      "text/plain": [
       "{6: 0.1,\n",
       " 31: 0.1,\n",
       " 15: 0.1,\n",
       " 48: 0.1,\n",
       " 17: 0.1,\n",
       " 52: 0.1,\n",
       " 20: 0.1,\n",
       " 68: 0.2,\n",
       " 14: 0.2,\n",
       " 16: 0.2,\n",
       " 65: 0.2,\n",
       " 61: 0.2,\n",
       " 34: 0.2,\n",
       " 19: 0.2,\n",
       " 67: 0.3,\n",
       " 12: 0.3,\n",
       " 18: 0.3,\n",
       " 26: 0.3,\n",
       " 49: 0.3,\n",
       " 60: 0.3,\n",
       " 7: 0.3,\n",
       " 4: 0.4,\n",
       " 35: 0.4,\n",
       " 28: 0.4,\n",
       " 41: 0.4,\n",
       " 64: 0.4,\n",
       " 55: 0.4,\n",
       " 30: 0.4,\n",
       " 47: 0.4,\n",
       " 53: 0.5,\n",
       " 27: 0.5,\n",
       " 25: 0.5,\n",
       " 45: 0.5,\n",
       " 38: 0.5,\n",
       " 37: 0.5,\n",
       " 13: 0.5,\n",
       " 11: 0.5,\n",
       " 39: 0.5,\n",
       " 46: 0.5,\n",
       " 10: 0.5,\n",
       " 21: 0.5,\n",
       " 44: 0.5,\n",
       " 33: 0.5,\n",
       " 24: 0.5,\n",
       " 5: 0.5,\n",
       " 9: 0.4,\n",
       " 69: 0.4,\n",
       " 62: 0.4,\n",
       " 51: 0.4,\n",
       " 22: 0.4,\n",
       " 54: 0.4,\n",
       " 50: 0.4,\n",
       " 40: 0.4,\n",
       " 1: 0.4,\n",
       " 29: 0.3,\n",
       " 58: 0.3,\n",
       " 59: 0.3,\n",
       " 42: 0.3,\n",
       " 66: 0.3,\n",
       " 63: 0.3,\n",
       " 36: 0.3,\n",
       " 32: 0.3,\n",
       " 2: 0.3,\n",
       " 0: 0.3,\n",
       " 43: 0.3,\n",
       " 56: 0.2,\n",
       " 23: 0.2,\n",
       " 8: 0.2,\n",
       " 3: 0.2,\n",
       " 57: 0.2,\n",
       " 98: 0.2,\n",
       " 97: 0.2,\n",
       " 96: 0.2,\n",
       " 95: 0.2,\n",
       " 94: 0.2,\n",
       " 93: 0.2,\n",
       " 99: 0.2,\n",
       " 92: 0.2,\n",
       " 91: 0.2,\n",
       " 90: 0.2,\n",
       " 87: 0.1,\n",
       " 89: 0.1,\n",
       " 88: 0.1,\n",
       " 86: 0.1,\n",
       " 85: 0.1,\n",
       " 84: 0.1,\n",
       " 82: 0.1,\n",
       " 83: 0.1,\n",
       " 80: 0.1,\n",
       " 79: 0.1,\n",
       " 78: 0.1,\n",
       " 81: 0.1,\n",
       " 77: 0.1,\n",
       " 76: 0.1,\n",
       " 75: 0.1,\n",
       " 74: 0.1,\n",
       " 73: 0.1,\n",
       " 71: 0.1,\n",
       " 72: 0.1,\n",
       " 70: 0.1}"
      ]
     },
     "execution_count": 43,
     "metadata": {},
     "output_type": "execute_result"
    }
   ],
   "source": [
    "joke_volume"
   ]
  },
  {
   "cell_type": "code",
   "execution_count": null,
   "id": "71ea498f",
   "metadata": {},
   "outputs": [],
   "source": []
  },
  {
   "cell_type": "code",
   "execution_count": null,
   "id": "15cc0480",
   "metadata": {},
   "outputs": [],
   "source": []
  },
  {
   "cell_type": "code",
   "execution_count": null,
   "id": "5e8ec649",
   "metadata": {},
   "outputs": [],
   "source": []
  },
  {
   "cell_type": "code",
   "execution_count": 44,
   "id": "e8c7c87d",
   "metadata": {},
   "outputs": [
    {
     "data": {
      "text/html": [
       "<div>\n",
       "<style scoped>\n",
       "    .dataframe tbody tr th:only-of-type {\n",
       "        vertical-align: middle;\n",
       "    }\n",
       "\n",
       "    .dataframe tbody tr th {\n",
       "        vertical-align: top;\n",
       "    }\n",
       "\n",
       "    .dataframe thead th {\n",
       "        text-align: right;\n",
       "    }\n",
       "</style>\n",
       "<table border=\"1\" class=\"dataframe\">\n",
       "  <thead>\n",
       "    <tr style=\"text-align: right;\">\n",
       "      <th></th>\n",
       "      <th>count_plus</th>\n",
       "    </tr>\n",
       "    <tr>\n",
       "      <th>JID</th>\n",
       "      <th></th>\n",
       "    </tr>\n",
       "  </thead>\n",
       "  <tbody>\n",
       "    <tr>\n",
       "      <th>49</th>\n",
       "      <td>8828</td>\n",
       "    </tr>\n",
       "    <tr>\n",
       "      <th>26</th>\n",
       "      <td>8414</td>\n",
       "    </tr>\n",
       "    <tr>\n",
       "      <th>31</th>\n",
       "      <td>8121</td>\n",
       "    </tr>\n",
       "    <tr>\n",
       "      <th>35</th>\n",
       "      <td>8109</td>\n",
       "    </tr>\n",
       "    <tr>\n",
       "      <th>28</th>\n",
       "      <td>8098</td>\n",
       "    </tr>\n",
       "    <tr>\n",
       "      <th>...</th>\n",
       "      <td>...</td>\n",
       "    </tr>\n",
       "    <tr>\n",
       "      <th>74</th>\n",
       "      <td>1451</td>\n",
       "    </tr>\n",
       "    <tr>\n",
       "      <th>70</th>\n",
       "      <td>1446</td>\n",
       "    </tr>\n",
       "    <tr>\n",
       "      <th>15</th>\n",
       "      <td>1398</td>\n",
       "    </tr>\n",
       "    <tr>\n",
       "      <th>57</th>\n",
       "      <td>883</td>\n",
       "    </tr>\n",
       "    <tr>\n",
       "      <th>73</th>\n",
       "      <td>839</td>\n",
       "    </tr>\n",
       "  </tbody>\n",
       "</table>\n",
       "<p>100 rows × 1 columns</p>\n",
       "</div>"
      ],
      "text/plain": [
       "     count_plus\n",
       "JID            \n",
       "49         8828\n",
       "26         8414\n",
       "31         8121\n",
       "35         8109\n",
       "28         8098\n",
       "..          ...\n",
       "74         1451\n",
       "70         1446\n",
       "15         1398\n",
       "57          883\n",
       "73          839\n",
       "\n",
       "[100 rows x 1 columns]"
      ]
     },
     "execution_count": 44,
     "metadata": {},
     "output_type": "execute_result"
    }
   ],
   "source": [
    "df_top_joke = df[df['Rating'] > 5].groupby('JID').agg('count').rename(columns={'Rating':'count_plus'}) \\\n",
    ".sort_values('count_plus', ascending=False).drop(columns=['UID'])\n",
    "df_top_joke"
   ]
  },
  {
   "cell_type": "code",
   "execution_count": 45,
   "id": "26e99a76",
   "metadata": {},
   "outputs": [
    {
     "data": {
      "text/html": [
       "<div>\n",
       "<style scoped>\n",
       "    .dataframe tbody tr th:only-of-type {\n",
       "        vertical-align: middle;\n",
       "    }\n",
       "\n",
       "    .dataframe tbody tr th {\n",
       "        vertical-align: top;\n",
       "    }\n",
       "\n",
       "    .dataframe thead th {\n",
       "        text-align: right;\n",
       "    }\n",
       "</style>\n",
       "<table border=\"1\" class=\"dataframe\">\n",
       "  <thead>\n",
       "    <tr style=\"text-align: right;\">\n",
       "      <th></th>\n",
       "      <th>count_minus</th>\n",
       "    </tr>\n",
       "    <tr>\n",
       "      <th>JID</th>\n",
       "      <th></th>\n",
       "    </tr>\n",
       "  </thead>\n",
       "  <tbody>\n",
       "    <tr>\n",
       "      <th>15</th>\n",
       "      <td>8397</td>\n",
       "    </tr>\n",
       "    <tr>\n",
       "      <th>12</th>\n",
       "      <td>6269</td>\n",
       "    </tr>\n",
       "    <tr>\n",
       "      <th>14</th>\n",
       "      <td>6223</td>\n",
       "    </tr>\n",
       "    <tr>\n",
       "      <th>57</th>\n",
       "      <td>6135</td>\n",
       "    </tr>\n",
       "    <tr>\n",
       "      <th>6</th>\n",
       "      <td>5257</td>\n",
       "    </tr>\n",
       "    <tr>\n",
       "      <th>...</th>\n",
       "      <td>...</td>\n",
       "    </tr>\n",
       "    <tr>\n",
       "      <th>87</th>\n",
       "      <td>756</td>\n",
       "    </tr>\n",
       "    <tr>\n",
       "      <th>92</th>\n",
       "      <td>703</td>\n",
       "    </tr>\n",
       "    <tr>\n",
       "      <th>75</th>\n",
       "      <td>663</td>\n",
       "    </tr>\n",
       "    <tr>\n",
       "      <th>88</th>\n",
       "      <td>610</td>\n",
       "    </tr>\n",
       "    <tr>\n",
       "      <th>71</th>\n",
       "      <td>521</td>\n",
       "    </tr>\n",
       "  </tbody>\n",
       "</table>\n",
       "<p>100 rows × 1 columns</p>\n",
       "</div>"
      ],
      "text/plain": [
       "     count_minus\n",
       "JID             \n",
       "15          8397\n",
       "12          6269\n",
       "14          6223\n",
       "57          6135\n",
       "6           5257\n",
       "..           ...\n",
       "87           756\n",
       "92           703\n",
       "75           663\n",
       "88           610\n",
       "71           521\n",
       "\n",
       "[100 rows x 1 columns]"
      ]
     },
     "execution_count": 45,
     "metadata": {},
     "output_type": "execute_result"
    }
   ],
   "source": [
    "df_bottom_joke = df[df['Rating'] < -5].groupby('JID').agg('count').rename(columns={'Rating':'count_minus'}) \\\n",
    ".sort_values('count_minus', ascending=False).drop(columns=['UID'])\n",
    "df_bottom_joke"
   ]
  },
  {
   "cell_type": "code",
   "execution_count": 46,
   "id": "87562b6f",
   "metadata": {},
   "outputs": [
    {
     "data": {
      "text/html": [
       "<div>\n",
       "<style scoped>\n",
       "    .dataframe tbody tr th:only-of-type {\n",
       "        vertical-align: middle;\n",
       "    }\n",
       "\n",
       "    .dataframe tbody tr th {\n",
       "        vertical-align: top;\n",
       "    }\n",
       "\n",
       "    .dataframe thead th {\n",
       "        text-align: right;\n",
       "    }\n",
       "</style>\n",
       "<table border=\"1\" class=\"dataframe\">\n",
       "  <thead>\n",
       "    <tr style=\"text-align: right;\">\n",
       "      <th></th>\n",
       "      <th>count_minus</th>\n",
       "      <th>count_plus</th>\n",
       "    </tr>\n",
       "    <tr>\n",
       "      <th>JID</th>\n",
       "      <th></th>\n",
       "      <th></th>\n",
       "    </tr>\n",
       "  </thead>\n",
       "  <tbody>\n",
       "    <tr>\n",
       "      <th>15</th>\n",
       "      <td>8397</td>\n",
       "      <td>1398</td>\n",
       "    </tr>\n",
       "    <tr>\n",
       "      <th>12</th>\n",
       "      <td>6269</td>\n",
       "      <td>2030</td>\n",
       "    </tr>\n",
       "    <tr>\n",
       "      <th>14</th>\n",
       "      <td>6223</td>\n",
       "      <td>2315</td>\n",
       "    </tr>\n",
       "    <tr>\n",
       "      <th>57</th>\n",
       "      <td>6135</td>\n",
       "      <td>883</td>\n",
       "    </tr>\n",
       "    <tr>\n",
       "      <th>6</th>\n",
       "      <td>5257</td>\n",
       "      <td>3793</td>\n",
       "    </tr>\n",
       "    <tr>\n",
       "      <th>...</th>\n",
       "      <td>...</td>\n",
       "      <td>...</td>\n",
       "    </tr>\n",
       "    <tr>\n",
       "      <th>87</th>\n",
       "      <td>756</td>\n",
       "      <td>2406</td>\n",
       "    </tr>\n",
       "    <tr>\n",
       "      <th>92</th>\n",
       "      <td>703</td>\n",
       "      <td>2668</td>\n",
       "    </tr>\n",
       "    <tr>\n",
       "      <th>75</th>\n",
       "      <td>663</td>\n",
       "      <td>2470</td>\n",
       "    </tr>\n",
       "    <tr>\n",
       "      <th>88</th>\n",
       "      <td>610</td>\n",
       "      <td>3701</td>\n",
       "    </tr>\n",
       "    <tr>\n",
       "      <th>71</th>\n",
       "      <td>521</td>\n",
       "      <td>2567</td>\n",
       "    </tr>\n",
       "  </tbody>\n",
       "</table>\n",
       "<p>100 rows × 2 columns</p>\n",
       "</div>"
      ],
      "text/plain": [
       "     count_minus  count_plus\n",
       "JID                         \n",
       "15          8397        1398\n",
       "12          6269        2030\n",
       "14          6223        2315\n",
       "57          6135         883\n",
       "6           5257        3793\n",
       "..           ...         ...\n",
       "87           756        2406\n",
       "92           703        2668\n",
       "75           663        2470\n",
       "88           610        3701\n",
       "71           521        2567\n",
       "\n",
       "[100 rows x 2 columns]"
      ]
     },
     "execution_count": 46,
     "metadata": {},
     "output_type": "execute_result"
    }
   ],
   "source": [
    "df_counts = df_bottom_joke.merge(df_top_joke, left_index=True, right_index=True)\n",
    "df_counts"
   ]
  },
  {
   "cell_type": "code",
   "execution_count": 47,
   "id": "a9d34358",
   "metadata": {},
   "outputs": [
    {
     "data": {
      "text/html": [
       "<div>\n",
       "<style scoped>\n",
       "    .dataframe tbody tr th:only-of-type {\n",
       "        vertical-align: middle;\n",
       "    }\n",
       "\n",
       "    .dataframe tbody tr th {\n",
       "        vertical-align: top;\n",
       "    }\n",
       "\n",
       "    .dataframe thead th {\n",
       "        text-align: right;\n",
       "    }\n",
       "</style>\n",
       "<table border=\"1\" class=\"dataframe\">\n",
       "  <thead>\n",
       "    <tr style=\"text-align: right;\">\n",
       "      <th></th>\n",
       "      <th>count_minus</th>\n",
       "      <th>count_plus</th>\n",
       "      <th>diff</th>\n",
       "    </tr>\n",
       "    <tr>\n",
       "      <th>JID</th>\n",
       "      <th></th>\n",
       "      <th></th>\n",
       "      <th></th>\n",
       "    </tr>\n",
       "  </thead>\n",
       "  <tbody>\n",
       "    <tr>\n",
       "      <th>49</th>\n",
       "      <td>1052</td>\n",
       "      <td>8828</td>\n",
       "      <td>7776</td>\n",
       "    </tr>\n",
       "    <tr>\n",
       "      <th>35</th>\n",
       "      <td>1125</td>\n",
       "      <td>8109</td>\n",
       "      <td>6984</td>\n",
       "    </tr>\n",
       "    <tr>\n",
       "      <th>26</th>\n",
       "      <td>1471</td>\n",
       "      <td>8414</td>\n",
       "      <td>6943</td>\n",
       "    </tr>\n",
       "    <tr>\n",
       "      <th>31</th>\n",
       "      <td>1294</td>\n",
       "      <td>8121</td>\n",
       "      <td>6827</td>\n",
       "    </tr>\n",
       "    <tr>\n",
       "      <th>61</th>\n",
       "      <td>1475</td>\n",
       "      <td>7825</td>\n",
       "      <td>6350</td>\n",
       "    </tr>\n",
       "    <tr>\n",
       "      <th>...</th>\n",
       "      <td>...</td>\n",
       "      <td>...</td>\n",
       "      <td>...</td>\n",
       "    </tr>\n",
       "    <tr>\n",
       "      <th>43</th>\n",
       "      <td>4579</td>\n",
       "      <td>1473</td>\n",
       "      <td>-3106</td>\n",
       "    </tr>\n",
       "    <tr>\n",
       "      <th>14</th>\n",
       "      <td>6223</td>\n",
       "      <td>2315</td>\n",
       "      <td>-3908</td>\n",
       "    </tr>\n",
       "    <tr>\n",
       "      <th>12</th>\n",
       "      <td>6269</td>\n",
       "      <td>2030</td>\n",
       "      <td>-4239</td>\n",
       "    </tr>\n",
       "    <tr>\n",
       "      <th>57</th>\n",
       "      <td>6135</td>\n",
       "      <td>883</td>\n",
       "      <td>-5252</td>\n",
       "    </tr>\n",
       "    <tr>\n",
       "      <th>15</th>\n",
       "      <td>8397</td>\n",
       "      <td>1398</td>\n",
       "      <td>-6999</td>\n",
       "    </tr>\n",
       "  </tbody>\n",
       "</table>\n",
       "<p>100 rows × 3 columns</p>\n",
       "</div>"
      ],
      "text/plain": [
       "     count_minus  count_plus  diff\n",
       "JID                               \n",
       "49          1052        8828  7776\n",
       "35          1125        8109  6984\n",
       "26          1471        8414  6943\n",
       "31          1294        8121  6827\n",
       "61          1475        7825  6350\n",
       "..           ...         ...   ...\n",
       "43          4579        1473 -3106\n",
       "14          6223        2315 -3908\n",
       "12          6269        2030 -4239\n",
       "57          6135         883 -5252\n",
       "15          8397        1398 -6999\n",
       "\n",
       "[100 rows x 3 columns]"
      ]
     },
     "execution_count": 47,
     "metadata": {},
     "output_type": "execute_result"
    }
   ],
   "source": [
    "df_counts['diff'] = df_counts['count_plus'] - df_counts['count_minus']\n",
    "df_counts = df_counts.sort_values('diff', ascending=False)\n",
    "df_counts"
   ]
  },
  {
   "cell_type": "code",
   "execution_count": 48,
   "id": "7ccc6f54",
   "metadata": {},
   "outputs": [
    {
     "data": {
      "text/html": [
       "<div>\n",
       "<style scoped>\n",
       "    .dataframe tbody tr th:only-of-type {\n",
       "        vertical-align: middle;\n",
       "    }\n",
       "\n",
       "    .dataframe tbody tr th {\n",
       "        vertical-align: top;\n",
       "    }\n",
       "\n",
       "    .dataframe thead th {\n",
       "        text-align: right;\n",
       "    }\n",
       "</style>\n",
       "<table border=\"1\" class=\"dataframe\">\n",
       "  <thead>\n",
       "    <tr style=\"text-align: right;\">\n",
       "      <th></th>\n",
       "      <th>count_minus</th>\n",
       "      <th>count_plus</th>\n",
       "      <th>diff</th>\n",
       "      <th>weight</th>\n",
       "    </tr>\n",
       "    <tr>\n",
       "      <th>JID</th>\n",
       "      <th></th>\n",
       "      <th></th>\n",
       "      <th></th>\n",
       "      <th></th>\n",
       "    </tr>\n",
       "  </thead>\n",
       "  <tbody>\n",
       "    <tr>\n",
       "      <th>49</th>\n",
       "      <td>1052</td>\n",
       "      <td>8828</td>\n",
       "      <td>7776</td>\n",
       "      <td>0.7776</td>\n",
       "    </tr>\n",
       "    <tr>\n",
       "      <th>35</th>\n",
       "      <td>1125</td>\n",
       "      <td>8109</td>\n",
       "      <td>6984</td>\n",
       "      <td>0.6984</td>\n",
       "    </tr>\n",
       "    <tr>\n",
       "      <th>26</th>\n",
       "      <td>1471</td>\n",
       "      <td>8414</td>\n",
       "      <td>6943</td>\n",
       "      <td>0.6943</td>\n",
       "    </tr>\n",
       "    <tr>\n",
       "      <th>31</th>\n",
       "      <td>1294</td>\n",
       "      <td>8121</td>\n",
       "      <td>6827</td>\n",
       "      <td>0.6827</td>\n",
       "    </tr>\n",
       "    <tr>\n",
       "      <th>61</th>\n",
       "      <td>1475</td>\n",
       "      <td>7825</td>\n",
       "      <td>6350</td>\n",
       "      <td>0.6350</td>\n",
       "    </tr>\n",
       "    <tr>\n",
       "      <th>...</th>\n",
       "      <td>...</td>\n",
       "      <td>...</td>\n",
       "      <td>...</td>\n",
       "      <td>...</td>\n",
       "    </tr>\n",
       "    <tr>\n",
       "      <th>43</th>\n",
       "      <td>4579</td>\n",
       "      <td>1473</td>\n",
       "      <td>-3106</td>\n",
       "      <td>-0.3106</td>\n",
       "    </tr>\n",
       "    <tr>\n",
       "      <th>14</th>\n",
       "      <td>6223</td>\n",
       "      <td>2315</td>\n",
       "      <td>-3908</td>\n",
       "      <td>-0.3908</td>\n",
       "    </tr>\n",
       "    <tr>\n",
       "      <th>12</th>\n",
       "      <td>6269</td>\n",
       "      <td>2030</td>\n",
       "      <td>-4239</td>\n",
       "      <td>-0.4239</td>\n",
       "    </tr>\n",
       "    <tr>\n",
       "      <th>57</th>\n",
       "      <td>6135</td>\n",
       "      <td>883</td>\n",
       "      <td>-5252</td>\n",
       "      <td>-0.5252</td>\n",
       "    </tr>\n",
       "    <tr>\n",
       "      <th>15</th>\n",
       "      <td>8397</td>\n",
       "      <td>1398</td>\n",
       "      <td>-6999</td>\n",
       "      <td>-0.6999</td>\n",
       "    </tr>\n",
       "  </tbody>\n",
       "</table>\n",
       "<p>100 rows × 4 columns</p>\n",
       "</div>"
      ],
      "text/plain": [
       "     count_minus  count_plus  diff  weight\n",
       "JID                                       \n",
       "49          1052        8828  7776  0.7776\n",
       "35          1125        8109  6984  0.6984\n",
       "26          1471        8414  6943  0.6943\n",
       "31          1294        8121  6827  0.6827\n",
       "61          1475        7825  6350  0.6350\n",
       "..           ...         ...   ...     ...\n",
       "43          4579        1473 -3106 -0.3106\n",
       "14          6223        2315 -3908 -0.3908\n",
       "12          6269        2030 -4239 -0.4239\n",
       "57          6135         883 -5252 -0.5252\n",
       "15          8397        1398 -6999 -0.6999\n",
       "\n",
       "[100 rows x 4 columns]"
      ]
     },
     "execution_count": 48,
     "metadata": {},
     "output_type": "execute_result"
    }
   ],
   "source": [
    "df_counts['weight'] = df_counts['diff'] / 10000\n",
    "df_counts"
   ]
  },
  {
   "cell_type": "code",
   "execution_count": 49,
   "id": "30491fd1",
   "metadata": {},
   "outputs": [
    {
     "data": {
      "text/plain": [
       "[<matplotlib.lines.Line2D at 0x28953b0c9d0>]"
      ]
     },
     "execution_count": 49,
     "metadata": {},
     "output_type": "execute_result"
    },
    {
     "data": {
      "image/png": "[encoded data removed]",
      "text/plain": [
       "<Figure size 432x288 with 1 Axes>"
      ]
     },
     "metadata": {
      "needs_background": "light"
     },
     "output_type": "display_data"
    }
   ],
   "source": [
    "plt.plot(range(100), df_counts['weight'])"
   ]
  },
  {
   "cell_type": "code",
   "execution_count": 50,
   "id": "dc386da0",
   "metadata": {},
   "outputs": [],
   "source": [
    "joke_quality = {}\n",
    "for row in df_counts.itertuples():\n",
    "    joke_quality[row.Index] = row.weight"
   ]
  },
  {
   "cell_type": "code",
   "execution_count": 51,
   "id": "0ddd7adb",
   "metadata": {},
   "outputs": [
    {
     "data": {
      "text/plain": [
       "{49: 0.7776,\n",
       " 35: 0.6984,\n",
       " 26: 0.6943,\n",
       " 31: 0.6827,\n",
       " 61: 0.635,\n",
       " 34: 0.6339,\n",
       " 28: 0.6309,\n",
       " 52: 0.6282,\n",
       " 53: 0.5896,\n",
       " 48: 0.5748,\n",
       " 67: 0.544,\n",
       " 68: 0.5351,\n",
       " 65: 0.5227,\n",
       " 60: 0.5155,\n",
       " 64: 0.4917,\n",
       " 30: 0.4617,\n",
       " 20: 0.442,\n",
       " 41: 0.4023,\n",
       " 47: 0.3671,\n",
       " 55: 0.3436,\n",
       " 10: 0.3328,\n",
       " 88: 0.3091,\n",
       " 27: 0.3065,\n",
       " 45: 0.2814,\n",
       " 46: 0.2788,\n",
       " 13: 0.2594,\n",
       " 5: 0.2585,\n",
       " 11: 0.2572,\n",
       " 25: 0.2338,\n",
       " 37: 0.2322,\n",
       " 9: 0.2105,\n",
       " 71: 0.2046,\n",
       " 92: 0.1965,\n",
       " 38: 0.1899,\n",
       " 39: 0.1873,\n",
       " 75: 0.1807,\n",
       " 44: 0.1776,\n",
       " 87: 0.165,\n",
       " 82: 0.1644,\n",
       " 90: 0.1622,\n",
       " 33: 0.1564,\n",
       " 21: 0.1552,\n",
       " 86: 0.1488,\n",
       " 80: 0.1463,\n",
       " 96: 0.1372,\n",
       " 77: 0.128,\n",
       " 95: 0.1155,\n",
       " 99: 0.1084,\n",
       " 0: 0.1044,\n",
       " 91: 0.093,\n",
       " 79: 0.0928,\n",
       " 93: 0.0905,\n",
       " 94: 0.0844,\n",
       " 72: 0.0752,\n",
       " 54: 0.0696,\n",
       " 84: 0.0686,\n",
       " 81: 0.0629,\n",
       " 97: 0.0611,\n",
       " 69: 0.0561,\n",
       " 24: 0.0518,\n",
       " 4: 0.0508,\n",
       " 76: 0.0477,\n",
       " 89: 0.0469,\n",
       " 83: 0.0468,\n",
       " 62: 0.035,\n",
       " 2: 0.0348,\n",
       " 1: 0.0198,\n",
       " 85: 0.0184,\n",
       " 22: 0.0071,\n",
       " 78: 0.0007,\n",
       " 18: -0.0025,\n",
       " 98: -0.0143,\n",
       " 74: -0.0225,\n",
       " 51: -0.0348,\n",
       " 70: -0.0567,\n",
       " 59: -0.0686,\n",
       " 40: -0.0695,\n",
       " 29: -0.0831,\n",
       " 8: -0.0907,\n",
       " 58: -0.1079,\n",
       " 63: -0.113,\n",
       " 73: -0.1158,\n",
       " 50: -0.1249,\n",
       " 66: -0.1392,\n",
       " 6: -0.1464,\n",
       " 42: -0.1594,\n",
       " 7: -0.1803,\n",
       " 17: -0.1804,\n",
       " 3: -0.202,\n",
       " 36: -0.2063,\n",
       " 32: -0.2083,\n",
       " 19: -0.2236,\n",
       " 23: -0.2378,\n",
       " 16: -0.2713,\n",
       " 56: -0.293,\n",
       " 43: -0.3106,\n",
       " 14: -0.3908,\n",
       " 12: -0.4239,\n",
       " 57: -0.5252,\n",
       " 15: -0.6999}"
      ]
     },
     "execution_count": 51,
     "metadata": {},
     "output_type": "execute_result"
    }
   ],
   "source": [
    "joke_quality"
   ]
  },
  {
   "cell_type": "code",
   "execution_count": null,
   "id": "5ebb11d0",
   "metadata": {},
   "outputs": [],
   "source": []
  },
  {
   "cell_type": "code",
   "execution_count": 52,
   "id": "bcdb9207",
   "metadata": {},
   "outputs": [],
   "source": [
    "def union_predicts():\n",
    "    pass"
   ]
  },
  {
   "cell_type": "code",
   "execution_count": 53,
   "id": "a19426ea",
   "metadata": {},
   "outputs": [
    {
     "ename": "NameError",
     "evalue": "name 'predictions' is not defined",
     "output_type": "error",
     "traceback": [
      "\u001b[1;31m---------------------------------------------------------------------------\u001b[0m",
      "\u001b[1;31mNameError\u001b[0m                                 Traceback (most recent call last)",
      "Input \u001b[1;32mIn [53]\u001b[0m, in \u001b[0;36m<cell line: 3>\u001b[1;34m()\u001b[0m\n\u001b[0;32m      3\u001b[0m \u001b[38;5;28;01mfor\u001b[39;00m u \u001b[38;5;129;01min\u001b[39;00m \u001b[38;5;28mrange\u001b[39m(\u001b[38;5;241m24983\u001b[39m):\n\u001b[0;32m      4\u001b[0m     res \u001b[38;5;241m=\u001b[39m {}\n\u001b[1;32m----> 5\u001b[0m     \u001b[38;5;28;01mfor\u001b[39;00m i, (key, value) \u001b[38;5;129;01min\u001b[39;00m \u001b[38;5;28menumerate\u001b[39m(\u001b[43mpredictions\u001b[49m\u001b[38;5;241m.\u001b[39mitems()):\n\u001b[0;32m      6\u001b[0m         rank \u001b[38;5;241m=\u001b[39m {x: \u001b[38;5;241m0.1\u001b[39m \u001b[38;5;241m*\u001b[39m (\u001b[38;5;241m10\u001b[39m\u001b[38;5;241m-\u001b[39mj) \u001b[38;5;28;01mfor\u001b[39;00m j, x \u001b[38;5;129;01min\u001b[39;00m \u001b[38;5;28menumerate\u001b[39m(value[u])}\n\u001b[0;32m      8\u001b[0m         \u001b[38;5;28;01mfor\u001b[39;00m k, v \u001b[38;5;129;01min\u001b[39;00m rank\u001b[38;5;241m.\u001b[39mitems():\n",
      "\u001b[1;31mNameError\u001b[0m: name 'predictions' is not defined"
     ]
    }
   ],
   "source": [
    "result = []\n",
    "\n",
    "for u in range(24983):\n",
    "    res = {}\n",
    "    for i, (key, value) in enumerate(predictions.items()):\n",
    "        rank = {x: 0.1 * (10-j) for j, x in enumerate(value[u])}\n",
    "        \n",
    "        for k, v in rank.items():\n",
    "            if k in res:\n",
    "                res[k] += v\n",
    "            else:\n",
    "                res[k] = v\n",
    "    for k in res:\n",
    "        res[k] += joke_quality[k]\n",
    "        res[k] += joke_volume[k]\n",
    "    \n",
    "    result.append([x[0] for x in sorted(res.items(), key=lambda item: item[1], reverse=True)][:10])"
   ]
  },
  {
   "cell_type": "code",
   "execution_count": null,
   "id": "bd586174",
   "metadata": {},
   "outputs": [],
   "source": [
    "result[0]"
   ]
  },
  {
   "cell_type": "code",
   "execution_count": null,
   "id": "7a158ee1",
   "metadata": {},
   "outputs": [],
   "source": [
    "result[200]"
   ]
  },
  {
   "cell_type": "code",
   "execution_count": null,
   "id": "6f2f5a2b",
   "metadata": {},
   "outputs": [],
   "source": [
    "recommendations = pd.DataFrame({\"UID\": df[\"UID\"].unique()})\n",
    "recommendations[\"JID\"] = result\n",
    "recommendations = recommendations.explode(\"JID\")\n",
    "recommendations[\"rank\"] = recommendations.groupby([\"UID\"]).cumcount() + 1\n",
    "recommendations"
   ]
  },
  {
   "cell_type": "code",
   "execution_count": null,
   "id": "a4b1799c",
   "metadata": {},
   "outputs": [],
   "source": [
    "calculate_serendipity_per_user(recommendations.rename(columns = {'rank':'Ratings_pred'}), df_train, df_test).mean()\n",
    "        "
   ]
  },
  {
   "cell_type": "code",
   "execution_count": null,
   "id": "191d5112",
   "metadata": {},
   "outputs": [],
   "source": []
  },
  {
   "cell_type": "code",
   "execution_count": null,
   "id": "b3fdf613",
   "metadata": {},
   "outputs": [],
   "source": []
  }
 ],
 "metadata": {
  "colab": {
   "provenance": []
  },
  "kernelspec": {
   "display_name": "Python 3 (ipykernel)",
   "language": "python",
   "name": "python3"
  },
  "language_info": {
   "codemirror_mode": {
    "name": "ipython",
    "version": 3
   },
   "file_extension": ".py",
   "mimetype": "text/x-python",
   "name": "python",
   "nbconvert_exporter": "python",
   "pygments_lexer": "ipython3",
   "version": "3.9.7"
  }
 },
 "nbformat": 4,
 "nbformat_minor": 5
}
