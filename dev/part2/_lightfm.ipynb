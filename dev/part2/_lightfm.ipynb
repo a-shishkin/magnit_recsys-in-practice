{
 "cells": [
  {
   "cell_type": "code",
   "execution_count": 19,
   "id": "dfa736e2",
   "metadata": {},
   "outputs": [],
   "source": [
    "import pandas as pd\n",
    "import numpy as np\n",
    "from scipy import sparse\n",
    "from sklearn.preprocessing import normalize\n",
    "from sklearn.model_selection import train_test_split\n",
    "from sklearn.metrics import mean_squared_error\n",
    "from tqdm.notebook import tqdm\n",
    "import pickle\n",
    "from lightfm import LightFM\n",
    "from lightfm.data import Dataset as LFMDataset\n",
    "import lightfm.evaluation as lv\n",
    "import optuna\n",
    "import scipy.stats as ss\n",
    "import matplotlib.pyplot as pl"
   ]
  },
  {
   "cell_type": "code",
   "execution_count": 5,
   "id": "30aca3ce",
   "metadata": {},
   "outputs": [],
   "source": [
    "train_joke_df = pd.read_csv(r'../data/recsys-in-practice/train_joke_df.csv')"
   ]
  },
  {
   "cell_type": "code",
   "execution_count": null,
   "id": "f0badc87",
   "metadata": {},
   "outputs": [],
   "source": []
  },
  {
   "cell_type": "code",
   "execution_count": 6,
   "id": "cb7ea2e9",
   "metadata": {},
   "outputs": [],
   "source": [
    "train_joke_df[\"UID\"] = train_joke_df[\"UID\"].astype(int)\n",
    "train_joke_df[\"JID\"] = train_joke_df[\"JID\"].astype(int)\n",
    "\n",
    "train_joke_df['UID'] = train_joke_df['UID'] - 1\n",
    "train_joke_df['JID'] = train_joke_df['JID'] - 1"
   ]
  },
  {
   "cell_type": "code",
   "execution_count": 7,
   "id": "96b0dcbf",
   "metadata": {},
   "outputs": [
    {
     "data": {
      "text/html": [
       "<div>\n",
       "<style scoped>\n",
       "    .dataframe tbody tr th:only-of-type {\n",
       "        vertical-align: middle;\n",
       "    }\n",
       "\n",
       "    .dataframe tbody tr th {\n",
       "        vertical-align: top;\n",
       "    }\n",
       "\n",
       "    .dataframe thead th {\n",
       "        text-align: right;\n",
       "    }\n",
       "</style>\n",
       "<table border=\"1\" class=\"dataframe\">\n",
       "  <thead>\n",
       "    <tr style=\"text-align: right;\">\n",
       "      <th></th>\n",
       "      <th>UID</th>\n",
       "      <th>JID</th>\n",
       "      <th>Rating</th>\n",
       "    </tr>\n",
       "  </thead>\n",
       "  <tbody>\n",
       "    <tr>\n",
       "      <th>0</th>\n",
       "      <td>18028</td>\n",
       "      <td>5</td>\n",
       "      <td>-1.26</td>\n",
       "    </tr>\n",
       "    <tr>\n",
       "      <th>1</th>\n",
       "      <td>3297</td>\n",
       "      <td>63</td>\n",
       "      <td>-4.17</td>\n",
       "    </tr>\n",
       "    <tr>\n",
       "      <th>2</th>\n",
       "      <td>3365</td>\n",
       "      <td>57</td>\n",
       "      <td>0.92</td>\n",
       "    </tr>\n",
       "    <tr>\n",
       "      <th>3</th>\n",
       "      <td>12734</td>\n",
       "      <td>91</td>\n",
       "      <td>3.69</td>\n",
       "    </tr>\n",
       "    <tr>\n",
       "      <th>4</th>\n",
       "      <td>11364</td>\n",
       "      <td>37</td>\n",
       "      <td>-6.60</td>\n",
       "    </tr>\n",
       "    <tr>\n",
       "      <th>...</th>\n",
       "      <td>...</td>\n",
       "      <td>...</td>\n",
       "      <td>...</td>\n",
       "    </tr>\n",
       "    <tr>\n",
       "      <th>1448359</th>\n",
       "      <td>22603</td>\n",
       "      <td>25</td>\n",
       "      <td>2.82</td>\n",
       "    </tr>\n",
       "    <tr>\n",
       "      <th>1448360</th>\n",
       "      <td>22254</td>\n",
       "      <td>35</td>\n",
       "      <td>-1.94</td>\n",
       "    </tr>\n",
       "    <tr>\n",
       "      <th>1448361</th>\n",
       "      <td>21055</td>\n",
       "      <td>39</td>\n",
       "      <td>-9.56</td>\n",
       "    </tr>\n",
       "    <tr>\n",
       "      <th>1448362</th>\n",
       "      <td>12327</td>\n",
       "      <td>96</td>\n",
       "      <td>0.87</td>\n",
       "    </tr>\n",
       "    <tr>\n",
       "      <th>1448363</th>\n",
       "      <td>11527</td>\n",
       "      <td>2</td>\n",
       "      <td>9.32</td>\n",
       "    </tr>\n",
       "  </tbody>\n",
       "</table>\n",
       "<p>1448364 rows × 3 columns</p>\n",
       "</div>"
      ],
      "text/plain": [
       "           UID  JID  Rating\n",
       "0        18028    5   -1.26\n",
       "1         3297   63   -4.17\n",
       "2         3365   57    0.92\n",
       "3        12734   91    3.69\n",
       "4        11364   37   -6.60\n",
       "...        ...  ...     ...\n",
       "1448359  22603   25    2.82\n",
       "1448360  22254   35   -1.94\n",
       "1448361  21055   39   -9.56\n",
       "1448362  12327   96    0.87\n",
       "1448363  11527    2    9.32\n",
       "\n",
       "[1448364 rows x 3 columns]"
      ]
     },
     "execution_count": 7,
     "metadata": {},
     "output_type": "execute_result"
    }
   ],
   "source": [
    "train_joke_df"
   ]
  },
  {
   "cell_type": "code",
   "execution_count": null,
   "id": "6d31b828",
   "metadata": {},
   "outputs": [],
   "source": []
  },
  {
   "cell_type": "code",
   "execution_count": null,
   "id": "976301cf",
   "metadata": {},
   "outputs": [],
   "source": []
  },
  {
   "cell_type": "code",
   "execution_count": null,
   "id": "15112b3a",
   "metadata": {},
   "outputs": [],
   "source": []
  },
  {
   "cell_type": "code",
   "execution_count": 8,
   "id": "59b006a5",
   "metadata": {},
   "outputs": [
    {
     "data": {
      "text/plain": [
       "724182"
      ]
     },
     "execution_count": 8,
     "metadata": {},
     "output_type": "execute_result"
    }
   ],
   "source": [
    "train_df, valid_df = train_test_split(train_joke_df, test_size=0.5, random_state=42)\n",
    "\n",
    "len(valid_df)"
   ]
  },
  {
   "cell_type": "code",
   "execution_count": 9,
   "id": "bd730da9",
   "metadata": {},
   "outputs": [],
   "source": [
    "train_df[\"UID\"] = train_df[\"UID\"].astype(int)\n",
    "train_df[\"JID\"] = train_df[\"JID\"].astype(int)\n",
    "valid_df[\"UID\"] = valid_df[\"UID\"].astype(int)\n",
    "valid_df[\"JID\"] = valid_df[\"JID\"].astype(int)\n",
    "\n",
    "\n",
    "# сделаем сортировку и перепишем index\n",
    "train_df = train_df.sort_values(by=['UID', 'JID'])\n",
    "train_df = train_df.reset_index(drop=True)\n",
    "\n",
    "valid_df = valid_df.sort_values(by=['UID', 'JID'])\n",
    "valid_df = valid_df.reset_index(drop=True)"
   ]
  },
  {
   "cell_type": "code",
   "execution_count": null,
   "id": "d25f97e6",
   "metadata": {},
   "outputs": [],
   "source": []
  },
  {
   "cell_type": "code",
   "execution_count": 10,
   "id": "f37ac705",
   "metadata": {},
   "outputs": [],
   "source": [
    "lfm_dataset = LFMDataset()\n",
    "lfm_dataset.fit(users=train_df[\"UID\"].values, items=train_df[\"JID\"].values)\n",
    "\n",
    "train_interactions, _ = lfm_dataset.build_interactions(zip(*train_df[[\"UID\", \"JID\"]].values.T))\n",
    "test_interactions, _ = lfm_dataset.build_interactions(zip(*valid_df[[\"UID\", \"JID\"]].values.T))"
   ]
  },
  {
   "cell_type": "code",
   "execution_count": null,
   "id": "fa78a719",
   "metadata": {},
   "outputs": [],
   "source": []
  },
  {
   "cell_type": "code",
   "execution_count": null,
   "id": "4706681a",
   "metadata": {},
   "outputs": [],
   "source": []
  },
  {
   "cell_type": "code",
   "execution_count": 25,
   "id": "e092b9d0",
   "metadata": {},
   "outputs": [],
   "source": [
    "def fit_model(epochs=1, at=10, loss=\"warp\", no_components=30, learning_rate=0.01, max_sampled=10, user_alpha=0.0, item_alpha=0.0, threads=30, verbose=False):\n",
    "    model = LightFM(\n",
    "        no_components=no_components,\n",
    "        loss=loss,\n",
    "        learning_rate=learning_rate,\n",
    "        max_sampled=max_sampled,\n",
    "        user_alpha=user_alpha,\n",
    "        item_alpha=item_alpha,\n",
    "    )\n",
    "\n",
    "    precisions_at = []\n",
    "    for epoch in range(epochs):\n",
    "        model = model.fit_partial(train_interactions, num_threads=threads)\n",
    "        precision_at = lv.precision_at_k(model, test_interactions, train_interactions=train_interactions, k=at, num_threads=threads)\n",
    "        if verbose:\n",
    "            print(f\"{epoch}:\\t{np.mean(precision_at)} +/- {ss.sem(precision_at) * 1.96}\")\n",
    "        precisions_at.append(np.mean(precision_at))\n",
    "        \n",
    "        if np.mean(precision_at) > 0.664:\n",
    "            break\n",
    "            \n",
    "    return model, precisions_at\n",
    "\n",
    "\n",
    "def objective(trial):\n",
    "    loss = trial.suggest_categorical(\"loss\", [\"warp\", \"bpr\"])\n",
    "    no_components = trial.suggest_categorical(\"no_components\", [10, 30, 50])\n",
    "    learning_rate = trial.suggest_categorical(\"learning_rate\", [0.0001, 0.001, 0.01])\n",
    "    max_sampled = trial.suggest_categorical(\"max_sampled\", [10, 20, 50, 100])\n",
    "    user_alpha = trial.suggest_categorical(\"user_alpha\", [0.0, 0.0001])\n",
    "    item_alpha = trial.suggest_categorical(\"item_alpha\", [0.0, 0.0001])\n",
    "    \n",
    "    model, precisions_at = fit_model(\n",
    "        epochs=5, \n",
    "        at=10,\n",
    "        loss=loss,\n",
    "        no_components=no_components, \n",
    "        learning_rate=learning_rate, \n",
    "        max_sampled=max_sampled, \n",
    "        user_alpha=user_alpha, \n",
    "        item_alpha=item_alpha,\n",
    "    )\n",
    "    \n",
    "    return precisions_at[-1]"
   ]
  },
  {
   "cell_type": "code",
   "execution_count": 14,
   "id": "83965d2a",
   "metadata": {},
   "outputs": [
    {
     "name": "stderr",
     "output_type": "stream",
     "text": [
      "\u001b[32m[I 2023-05-12 15:46:47,529]\u001b[0m A new study created in memory with name: no-name-e55ebde0-04d8-40cd-b8e7-4d7aaa0f2ddb\u001b[0m\n",
      "\u001b[32m[I 2023-05-12 15:46:49,632]\u001b[0m Trial 0 finished with value: 0.6629908084869385 and parameters: {'loss': 'bpr', 'no_components': 50, 'learning_rate': 0.001, 'max_sampled': 100, 'user_alpha': 0.0001, 'item_alpha': 0.0}. Best is trial 0 with value: 0.6629908084869385.\u001b[0m\n",
      "\u001b[32m[I 2023-05-12 15:46:51,572]\u001b[0m Trial 1 finished with value: 0.6630948781967163 and parameters: {'loss': 'bpr', 'no_components': 10, 'learning_rate': 0.01, 'max_sampled': 20, 'user_alpha': 0.0001, 'item_alpha': 0.0001}. Best is trial 1 with value: 0.6630948781967163.\u001b[0m\n",
      "\u001b[32m[I 2023-05-12 15:46:53,892]\u001b[0m Trial 2 finished with value: 0.6578633785247803 and parameters: {'loss': 'bpr', 'no_components': 30, 'learning_rate': 0.0001, 'max_sampled': 50, 'user_alpha': 0.0001, 'item_alpha': 0.0}. Best is trial 1 with value: 0.6630948781967163.\u001b[0m\n",
      "\u001b[32m[I 2023-05-12 15:46:56,211]\u001b[0m Trial 3 finished with value: 0.6627826690673828 and parameters: {'loss': 'bpr', 'no_components': 30, 'learning_rate': 0.001, 'max_sampled': 20, 'user_alpha': 0.0001, 'item_alpha': 0.0}. Best is trial 1 with value: 0.6630948781967163.\u001b[0m\n",
      "\u001b[32m[I 2023-05-12 15:46:58,222]\u001b[0m Trial 4 finished with value: 0.6600247621536255 and parameters: {'loss': 'bpr', 'no_components': 30, 'learning_rate': 0.001, 'max_sampled': 50, 'user_alpha': 0.0001, 'item_alpha': 0.0001}. Best is trial 1 with value: 0.6630948781967163.\u001b[0m\n",
      "\u001b[32m[I 2023-05-12 15:47:00,424]\u001b[0m Trial 5 finished with value: 0.6649401783943176 and parameters: {'loss': 'warp', 'no_components': 30, 'learning_rate': 0.001, 'max_sampled': 50, 'user_alpha': 0.0, 'item_alpha': 0.0}. Best is trial 5 with value: 0.6649401783943176.\u001b[0m\n",
      "\u001b[32m[I 2023-05-12 15:47:02,975]\u001b[0m Trial 6 finished with value: 0.6638033986091614 and parameters: {'loss': 'warp', 'no_components': 30, 'learning_rate': 0.001, 'max_sampled': 20, 'user_alpha': 0.0001, 'item_alpha': 0.0}. Best is trial 5 with value: 0.6649401783943176.\u001b[0m\n",
      "\u001b[32m[I 2023-05-12 15:47:05,501]\u001b[0m Trial 7 finished with value: 0.6634111404418945 and parameters: {'loss': 'warp', 'no_components': 50, 'learning_rate': 0.01, 'max_sampled': 10, 'user_alpha': 0.0001, 'item_alpha': 0.0001}. Best is trial 5 with value: 0.6649401783943176.\u001b[0m\n",
      "\u001b[32m[I 2023-05-12 15:47:07,989]\u001b[0m Trial 8 finished with value: 0.6636232733726501 and parameters: {'loss': 'bpr', 'no_components': 30, 'learning_rate': 0.01, 'max_sampled': 50, 'user_alpha': 0.0001, 'item_alpha': 0.0}. Best is trial 5 with value: 0.6649401783943176.\u001b[0m\n",
      "\u001b[32m[I 2023-05-12 15:47:10,509]\u001b[0m Trial 9 finished with value: 0.6636793613433838 and parameters: {'loss': 'warp', 'no_components': 30, 'learning_rate': 0.0001, 'max_sampled': 10, 'user_alpha': 0.0, 'item_alpha': 0.0001}. Best is trial 5 with value: 0.6649401783943176.\u001b[0m\n",
      "\u001b[32m[I 2023-05-12 15:47:12,448]\u001b[0m Trial 10 finished with value: 0.6621062755584717 and parameters: {'loss': 'warp', 'no_components': 10, 'learning_rate': 0.001, 'max_sampled': 100, 'user_alpha': 0.0, 'item_alpha': 0.0}. Best is trial 5 with value: 0.6649401783943176.\u001b[0m\n",
      "\u001b[32m[I 2023-05-12 15:47:14,571]\u001b[0m Trial 11 finished with value: 0.6628106832504272 and parameters: {'loss': 'warp', 'no_components': 30, 'learning_rate': 0.001, 'max_sampled': 20, 'user_alpha': 0.0, 'item_alpha': 0.0}. Best is trial 5 with value: 0.6649401783943176.\u001b[0m\n",
      "\u001b[32m[I 2023-05-12 15:47:17,008]\u001b[0m Trial 12 finished with value: 0.663955569267273 and parameters: {'loss': 'warp', 'no_components': 30, 'learning_rate': 0.001, 'max_sampled': 20, 'user_alpha': 0.0, 'item_alpha': 0.0}. Best is trial 5 with value: 0.6649401783943176.\u001b[0m\n",
      "\u001b[32m[I 2023-05-12 15:47:19,768]\u001b[0m Trial 13 finished with value: 0.6639835238456726 and parameters: {'loss': 'warp', 'no_components': 30, 'learning_rate': 0.001, 'max_sampled': 50, 'user_alpha': 0.0, 'item_alpha': 0.0}. Best is trial 5 with value: 0.6649401783943176.\u001b[0m\n",
      "\u001b[32m[I 2023-05-12 15:47:21,860]\u001b[0m Trial 14 finished with value: 0.6628667712211609 and parameters: {'loss': 'warp', 'no_components': 10, 'learning_rate': 0.001, 'max_sampled': 50, 'user_alpha': 0.0, 'item_alpha': 0.0}. Best is trial 5 with value: 0.6649401783943176.\u001b[0m\n",
      "\u001b[32m[I 2023-05-12 15:47:24,130]\u001b[0m Trial 15 finished with value: 0.6630308628082275 and parameters: {'loss': 'warp', 'no_components': 50, 'learning_rate': 0.0001, 'max_sampled': 50, 'user_alpha': 0.0, 'item_alpha': 0.0}. Best is trial 5 with value: 0.6649401783943176.\u001b[0m\n",
      "\u001b[32m[I 2023-05-12 15:47:26,592]\u001b[0m Trial 16 finished with value: 0.66387939453125 and parameters: {'loss': 'warp', 'no_components': 30, 'learning_rate': 0.001, 'max_sampled': 50, 'user_alpha': 0.0, 'item_alpha': 0.0}. Best is trial 5 with value: 0.6649401783943176.\u001b[0m\n",
      "\u001b[32m[I 2023-05-12 15:47:29,220]\u001b[0m Trial 17 finished with value: 0.6639354825019836 and parameters: {'loss': 'warp', 'no_components': 30, 'learning_rate': 0.001, 'max_sampled': 50, 'user_alpha': 0.0, 'item_alpha': 0.0}. Best is trial 5 with value: 0.6649401783943176.\u001b[0m\n",
      "\u001b[32m[I 2023-05-12 15:47:31,861]\u001b[0m Trial 18 finished with value: 0.6636552810668945 and parameters: {'loss': 'warp', 'no_components': 50, 'learning_rate': 0.01, 'max_sampled': 50, 'user_alpha': 0.0, 'item_alpha': 0.0001}. Best is trial 5 with value: 0.6649401783943176.\u001b[0m\n",
      "\u001b[32m[I 2023-05-12 15:47:33,758]\u001b[0m Trial 19 finished with value: 0.6562823057174683 and parameters: {'loss': 'warp', 'no_components': 10, 'learning_rate': 0.0001, 'max_sampled': 10, 'user_alpha': 0.0, 'item_alpha': 0.0}. Best is trial 5 with value: 0.6649401783943176.\u001b[0m\n",
      "\u001b[32m[I 2023-05-12 15:47:36,472]\u001b[0m Trial 20 finished with value: 0.6639274954795837 and parameters: {'loss': 'warp', 'no_components': 30, 'learning_rate': 0.001, 'max_sampled': 100, 'user_alpha': 0.0, 'item_alpha': 0.0}. Best is trial 5 with value: 0.6649401783943176.\u001b[0m\n",
      "\u001b[32m[I 2023-05-12 15:47:38,816]\u001b[0m Trial 21 finished with value: 0.6644518375396729 and parameters: {'loss': 'warp', 'no_components': 30, 'learning_rate': 0.001, 'max_sampled': 20, 'user_alpha': 0.0, 'item_alpha': 0.0}. Best is trial 5 with value: 0.6649401783943176.\u001b[0m\n",
      "\u001b[32m[I 2023-05-12 15:47:41,143]\u001b[0m Trial 22 finished with value: 0.6622543334960938 and parameters: {'loss': 'warp', 'no_components': 30, 'learning_rate': 0.001, 'max_sampled': 20, 'user_alpha': 0.0, 'item_alpha': 0.0}. Best is trial 5 with value: 0.6649401783943176.\u001b[0m\n",
      "\u001b[32m[I 2023-05-12 15:47:43,283]\u001b[0m Trial 23 finished with value: 0.6629027128219604 and parameters: {'loss': 'warp', 'no_components': 30, 'learning_rate': 0.001, 'max_sampled': 50, 'user_alpha': 0.0, 'item_alpha': 0.0}. Best is trial 5 with value: 0.6649401783943176.\u001b[0m\n",
      "\u001b[32m[I 2023-05-12 15:47:45,676]\u001b[0m Trial 24 finished with value: 0.6653364300727844 and parameters: {'loss': 'warp', 'no_components': 30, 'learning_rate': 0.001, 'max_sampled': 50, 'user_alpha': 0.0, 'item_alpha': 0.0}. Best is trial 24 with value: 0.6653364300727844.\u001b[0m\n",
      "\u001b[32m[I 2023-05-12 15:47:48,248]\u001b[0m Trial 25 finished with value: 0.6648641228675842 and parameters: {'loss': 'warp', 'no_components': 30, 'learning_rate': 0.001, 'max_sampled': 20, 'user_alpha': 0.0, 'item_alpha': 0.0}. Best is trial 24 with value: 0.6653364300727844.\u001b[0m\n",
      "\u001b[32m[I 2023-05-12 15:47:50,612]\u001b[0m Trial 26 finished with value: 0.6643557548522949 and parameters: {'loss': 'warp', 'no_components': 30, 'learning_rate': 0.001, 'max_sampled': 10, 'user_alpha': 0.0, 'item_alpha': 0.0}. Best is trial 24 with value: 0.6653364300727844.\u001b[0m\n",
      "\u001b[32m[I 2023-05-12 15:47:53,261]\u001b[0m Trial 27 finished with value: 0.6624744534492493 and parameters: {'loss': 'warp', 'no_components': 50, 'learning_rate': 0.01, 'max_sampled': 100, 'user_alpha': 0.0, 'item_alpha': 0.0001}. Best is trial 24 with value: 0.6653364300727844.\u001b[0m\n",
      "\u001b[32m[I 2023-05-12 15:47:55,182]\u001b[0m Trial 28 finished with value: 0.65597003698349 and parameters: {'loss': 'warp', 'no_components': 10, 'learning_rate': 0.0001, 'max_sampled': 50, 'user_alpha': 0.0, 'item_alpha': 0.0}. Best is trial 24 with value: 0.6653364300727844.\u001b[0m\n",
      "\u001b[32m[I 2023-05-12 15:47:57,420]\u001b[0m Trial 29 finished with value: 0.6604411602020264 and parameters: {'loss': 'bpr', 'no_components': 30, 'learning_rate': 0.001, 'max_sampled': 100, 'user_alpha': 0.0, 'item_alpha': 0.0}. Best is trial 24 with value: 0.6653364300727844.\u001b[0m\n"
     ]
    }
   ],
   "source": [
    "study = optuna.create_study(direction=\"maximize\")\n",
    "study.optimize(objective, n_trials=30)\n",
    "best_params = study.best_params"
   ]
  },
  {
   "cell_type": "code",
   "execution_count": 15,
   "id": "bd49679c",
   "metadata": {},
   "outputs": [
    {
     "data": {
      "text/plain": [
       "{'loss': 'warp',\n",
       " 'no_components': 30,\n",
       " 'learning_rate': 0.001,\n",
       " 'max_sampled': 50,\n",
       " 'user_alpha': 0.0,\n",
       " 'item_alpha': 0.0}"
      ]
     },
     "execution_count": 15,
     "metadata": {},
     "output_type": "execute_result"
    }
   ],
   "source": [
    "best_params"
   ]
  },
  {
   "cell_type": "code",
   "execution_count": 26,
   "id": "16aa21f9",
   "metadata": {},
   "outputs": [
    {
     "name": "stdout",
     "output_type": "stream",
     "text": [
      "0:\t0.662234365940094 +/- 0.0018522639598221502\n",
      "1:\t0.6627786755561829 +/- 0.0018550197619355783\n",
      "2:\t0.6626986265182495 +/- 0.0018542082101800346\n",
      "3:\t0.6628026366233826 +/- 0.0018536666213377082\n",
      "4:\t0.6630068421363831 +/- 0.0018522521339313593\n",
      "5:\t0.6630549430847168 +/- 0.0018543922506054722\n",
      "6:\t0.6633350253105164 +/- 0.001852856917377601\n",
      "7:\t0.6633350253105164 +/- 0.001849631775223399\n",
      "8:\t0.6634031534194946 +/- 0.0018486572479103898\n",
      "9:\t0.663483202457428 +/- 0.0018485012939755813\n",
      "10:\t0.6634190678596497 +/- 0.0018508021688526366\n",
      "11:\t0.6635592579841614 +/- 0.0018499800846631072\n",
      "12:\t0.6635311841964722 +/- 0.0018537342506506703\n",
      "13:\t0.6635391712188721 +/- 0.0018501024087209785\n",
      "14:\t0.6637433171272278 +/- 0.0018489724818117916\n",
      "15:\t0.6636111736297607 +/- 0.001848023823634888\n",
      "16:\t0.6637953519821167 +/- 0.0018463476883947847\n",
      "17:\t0.6636873483657837 +/- 0.0018453374986298584\n",
      "18:\t0.6634351015090942 +/- 0.0018477889688349575\n",
      "19:\t0.6635192632675171 +/- 0.0018471950873817887\n",
      "20:\t0.6634231805801392 +/- 0.0018457360681054292\n",
      "21:\t0.6635432243347168 +/- 0.0018487001167645078\n",
      "22:\t0.6635512113571167 +/- 0.001848424795244526\n",
      "23:\t0.6636433005332947 +/- 0.0018489198196418623\n",
      "24:\t0.6636912822723389 +/- 0.0018478662066841872\n",
      "25:\t0.6636912822723389 +/- 0.0018456998513148813\n",
      "26:\t0.6637033224105835 +/- 0.0018456529173108038\n",
      "27:\t0.6636512875556946 +/- 0.0018455786359342719\n",
      "28:\t0.6639114618301392 +/- 0.0018461135727130284\n",
      "29:\t0.6638914346694946 +/- 0.0018442352886522133\n",
      "30:\t0.6638273596763611 +/- 0.0018431410241949438\n",
      "31:\t0.6637313365936279 +/- 0.001845187272860902\n",
      "32:\t0.6637754440307617 +/- 0.001844102247380813\n",
      "33:\t0.663971483707428 +/- 0.001843408030635463\n",
      "34:\t0.6640835404396057 +/- 0.0018440113358453559\n"
     ]
    }
   ],
   "source": [
    "model, precisions_at = fit_model(\n",
    "    epochs=200,\n",
    "    at=10,\n",
    "    loss=best_params[\"loss\"],\n",
    "    no_components=best_params[\"no_components\"], \n",
    "    learning_rate=best_params[\"learning_rate\"], \n",
    "    max_sampled=best_params[\"max_sampled\"],\n",
    "    user_alpha=best_params[\"user_alpha\"],\n",
    "    item_alpha=best_params[\"item_alpha\"],\n",
    "    verbose=True,\n",
    ")"
   ]
  },
  {
   "cell_type": "code",
   "execution_count": 27,
   "id": "bfa2ea23",
   "metadata": {},
   "outputs": [
    {
     "data": {
      "image/png": "[encoded data removed]",
      "text/plain": [
       "<Figure size 432x288 with 1 Axes>"
      ]
     },
     "metadata": {
      "needs_background": "light"
     },
     "output_type": "display_data"
    }
   ],
   "source": [
    "figure, ax = pl.subplots()\n",
    "\n",
    "ax.plot(np.arange(len(precisions_at)), precisions_at)\n",
    "\n",
    "pass"
   ]
  },
  {
   "cell_type": "code",
   "execution_count": null,
   "id": "a4b654b1",
   "metadata": {},
   "outputs": [],
   "source": []
  },
  {
   "cell_type": "code",
   "execution_count": 28,
   "id": "03e943e4",
   "metadata": {},
   "outputs": [],
   "source": [
    "with open('models/lightfm05.pkl', 'wb') as f:\n",
    "    pickle.dump(model, f)"
   ]
  },
  {
   "cell_type": "code",
   "execution_count": 29,
   "id": "eceb2c74",
   "metadata": {},
   "outputs": [],
   "source": [
    "with open('models/lightfm05_dataset.pkl', 'wb') as f:\n",
    "    pickle.dump(lfm_dataset, f)"
   ]
  }
 ],
 "metadata": {
  "kernelspec": {
   "display_name": "Python 3 (ipykernel)",
   "language": "python",
   "name": "python3"
  },
  "language_info": {
   "codemirror_mode": {
    "name": "ipython",
    "version": 3
   },
   "file_extension": ".py",
   "mimetype": "text/x-python",
   "name": "python",
   "nbconvert_exporter": "python",
   "pygments_lexer": "ipython3",
   "version": "3.9.7"
  }
 },
 "nbformat": 4,
 "nbformat_minor": 5
}
