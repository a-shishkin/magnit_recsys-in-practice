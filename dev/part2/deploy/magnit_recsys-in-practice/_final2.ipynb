{
 "cells": [
  {
   "cell_type": "code",
   "execution_count": 1,
   "id": "04eb779f",
   "metadata": {},
   "outputs": [
    {
     "name": "stderr",
     "output_type": "stream",
     "text": [
      "C:\\ProgramData\\Anaconda3\\envs\\torchvision2\\lib\\site-packages\\lightfm\\_lightfm_fast.py:9: UserWarning: LightFM was compiled without OpenMP support. Only a single thread will be used.\n",
      "  warnings.warn(\n"
     ]
    }
   ],
   "source": [
    "from src import solution\n",
    "import time"
   ]
  },
  {
   "cell_type": "code",
   "execution_count": 4,
   "id": "3ad199c1",
   "metadata": {},
   "outputs": [
    {
     "ename": "SyntaxError",
     "evalue": "invalid syntax. Perhaps you forgot a comma? (<unknown>, line 3)",
     "output_type": "error",
     "traceback": [
      "Traceback \u001b[1;36m(most recent call last)\u001b[0m:\n",
      "  File \u001b[0;32mC:\\ProgramData\\Anaconda3\\envs\\torchvision2\\lib\\site-packages\\IPython\\core\\interactiveshell.py:3398\u001b[0m in \u001b[0;35mrun_code\u001b[0m\n    exec(code_obj, self.user_global_ns, self.user_ns)\n",
      "  Input \u001b[0;32mIn [4]\u001b[0m in \u001b[0;35m<cell line: 1>\u001b[0m\n    get_ipython().run_cell_magic('time', '', \"\\nt1 = time.time()\\n#solution.solution('data/train_joke_df.csv', 'data/output_df.csv')\\nprint('time:' time.time() - t1)\\n\")\n",
      "  File \u001b[0;32mC:\\ProgramData\\Anaconda3\\envs\\torchvision2\\lib\\site-packages\\IPython\\core\\interactiveshell.py:2358\u001b[0m in \u001b[0;35mrun_cell_magic\u001b[0m\n    result = fn(*args, **kwargs)\n",
      "  File \u001b[0;32mC:\\ProgramData\\Anaconda3\\envs\\torchvision2\\lib\\site-packages\\IPython\\core\\magics\\execution.py:1272\u001b[0m in \u001b[0;35mtime\u001b[0m\n    expr_ast = self.shell.compile.ast_parse(expr)\n",
      "\u001b[1;36m  File \u001b[1;32mC:\\ProgramData\\Anaconda3\\envs\\torchvision2\\lib\\site-packages\\IPython\\core\\compilerop.py:105\u001b[1;36m in \u001b[1;35mast_parse\u001b[1;36m\u001b[0m\n\u001b[1;33m    return compile(source, filename, symbol, self.flags | PyCF_ONLY_AST, 1)\u001b[0m\n",
      "\u001b[1;36m  File \u001b[1;32m<unknown>:3\u001b[1;36m\u001b[0m\n\u001b[1;33m    print('time:' time.time() - t1)\u001b[0m\n\u001b[1;37m          ^\u001b[0m\n\u001b[1;31mSyntaxError\u001b[0m\u001b[1;31m:\u001b[0m invalid syntax. Perhaps you forgot a comma?\n"
     ]
    }
   ],
   "source": [
    "%%time\n",
    "\n",
    "t1 = time.time()\n",
    "solution.solution('data/train_joke_df.csv', 'data/output_df.csv')\n",
    "print('time:', time.time() - t1)"
   ]
  },
  {
   "cell_type": "code",
   "execution_count": 3,
   "id": "12f177b4",
   "metadata": {},
   "outputs": [
    {
     "ename": "AssertionError",
     "evalue": "",
     "output_type": "error",
     "traceback": [
      "\u001b[1;31m---------------------------------------------------------------------------\u001b[0m",
      "\u001b[1;31mAssertionError\u001b[0m                            Traceback (most recent call last)",
      "Input \u001b[1;32mIn [3]\u001b[0m, in \u001b[0;36m<cell line: 1>\u001b[1;34m()\u001b[0m\n\u001b[1;32m----> 1\u001b[0m \u001b[38;5;28;01massert\u001b[39;00m \u001b[38;5;28;01mFalse\u001b[39;00m\n",
      "\u001b[1;31mAssertionError\u001b[0m: "
     ]
    }
   ],
   "source": [
    "assert False"
   ]
  },
  {
   "cell_type": "code",
   "execution_count": null,
   "id": "7e46b131",
   "metadata": {},
   "outputs": [],
   "source": []
  },
  {
   "cell_type": "code",
   "execution_count": null,
   "id": "427278c8-3010-4e10-9271-dc3b7723e0e7",
   "metadata": {
    "id": "427278c8-3010-4e10-9271-dc3b7723e0e7"
   },
   "outputs": [],
   "source": [
    "import numpy as np\n",
    "import pandas as pd\n",
    "from collections import defaultdict\n",
    "from surprise import Dataset, Reader, accuracy\n",
    "from surprise.model_selection import GridSearchCV\n",
    "from sklearn.model_selection import train_test_split\n",
    "from surprise.model_selection import KFold\n",
    "from tqdm.notebook import tqdm\n",
    "from sklearn.metrics import ndcg_score\n",
    "from surprise import dump\n",
    "import seaborn as sns\n",
    "import matplotlib.pyplot as plt\n",
    "from typing import List\n",
    "from surprise import SVD\n",
    "import random\n",
    "import pickle\n",
    "from copy import deepcopy\n",
    "\n",
    "import typing as tp\n",
    "from sklearn.preprocessing import normalize\n",
    "from lightfm import LightFM\n",
    "from scipy.sparse import coo_matrix\n",
    "from lightfm.data import Dataset as LFMDataset\n",
    "from collections import Counter\n",
    "from matplotlib.lines import Line2D\n",
    "import time\n",
    "import optuna\n",
    "import os\n",
    "\n",
    "np.random.seed(42)"
   ]
  },
  {
   "cell_type": "code",
   "execution_count": null,
   "id": "c6f196be",
   "metadata": {},
   "outputs": [],
   "source": [
    "df = pd.read_csv('data/train_joke_df.csv')\n",
    "\n",
    "df['UID'] = df['UID'] - 1\n",
    "df['JID'] = df['JID'] - 1\n",
    "# сделаем сортировку и перепишем index\n",
    "df = df.sort_values(by=['UID', 'JID'])\n",
    "df = df.reset_index(drop=True)\n",
    "\n",
    "df\n",
    "\n",
    "df_train, df_test = train_test_split(df, test_size=0.5, random_state=42)"
   ]
  },
  {
   "cell_type": "code",
   "execution_count": null,
   "id": "e3a103b4",
   "metadata": {},
   "outputs": [],
   "source": [
    "df"
   ]
  },
  {
   "cell_type": "code",
   "execution_count": null,
   "id": "88b672bd",
   "metadata": {},
   "outputs": [],
   "source": [
    "wrappers ={\n",
    "    'svd':SurpriseWrapper(model_name='05_baseline_svd_train', folder_name='models', df_train=df_train, n_recommendations=10), \n",
    "    'lfm_cos':LightFMWrapper(model_name='', folder_name='models', df_train=df_train, n_recommendations=10),           \n",
    "    'catboost':CatBoostWrapper(model_name='catboost_05', folder_name='models', df_train=df_train, n_recommendations=10), \n",
    "    'knn':SurpriseWrapper(model_name='05_baseline_knn_train', folder_name='models', df_train=df_train, n_recommendations=10), \n",
    "    'nn_bias':NNWrapper(model_name='epoch=23-step=8496.ckpt', folder_name='models', df_train=df_train, n_recommendations=10)\n",
    "}"
   ]
  },
  {
   "cell_type": "code",
   "execution_count": null,
   "id": "5c7ff4f2",
   "metadata": {},
   "outputs": [],
   "source": [
    "%%time\n",
    "candidates = {model_name: wrapper.predict() for model_name, wrapper in wrappers.items()}"
   ]
  },
  {
   "cell_type": "code",
   "execution_count": null,
   "id": "78b9e71b",
   "metadata": {},
   "outputs": [],
   "source": [
    "n_users = 24983\n",
    "n_items = 100"
   ]
  },
  {
   "cell_type": "code",
   "execution_count": null,
   "id": "69db2bfc",
   "metadata": {},
   "outputs": [],
   "source": [
    "def rank_candidates_for_user(user: int, params: dict, param_new_user:dict, candidates: dict, joke_quality:dict,\n",
    "                         joke_volume:dict, svd: SurpriseWrapper):\n",
    "    \n",
    "    user_id = user - 1\n",
    "    rec_list = None\n",
    "    if user_id < n_users:\n",
    "        \n",
    "        res = {}\n",
    "        for i, (model_name, value) in enumerate(candidates.items()):\n",
    "            rank = {x: params[model_name] * (10-j) for j, x in enumerate(value[user_id])}\n",
    "\n",
    "            for k, v in rank.items():\n",
    "                if k in res:\n",
    "                    res[k] += v\n",
    "                else:\n",
    "                    res[k] = v\n",
    "                    \n",
    "        for k in res:\n",
    "            res[k] += joke_quality[k] * params['quality']\n",
    "            res[k] += joke_volume[k] * params['volume']\n",
    "\n",
    "        rec_list = [x[0] for x in sorted(res.items(), key=lambda item: item[1], reverse=True)][:10]\n",
    "        first_rating = svd.model.test([[user_id, rec_list[0], 0]])[0].est\n",
    "        \n",
    "    else:\n",
    "        res = {}\n",
    "                    \n",
    "        for k in range(n_items):\n",
    "            if joke_quality[k] < 0.00:# or joke_volume[k] < 0.1:\n",
    "                continue\n",
    "                \n",
    "            res[k] = joke_quality[k] * param_new_user['quality']\n",
    "            res[k] += joke_volume[k] * param_new_user['volume']\n",
    "\n",
    "        xx = np.array(\n",
    "            [[x[0], x[1]] for x in sorted(res.items(), key=lambda item: item[1], reverse=True)])\n",
    "        \n",
    "        pp = xx[:, 1]\n",
    "        pp += np.abs(np.min(pp))\n",
    "        rec_list = list(np.random.choice(xx[:, 0], size=10, replace=False, p=pp/np.sum(pp)))        \n",
    "        first_rating = 0\n",
    "            \n",
    "    rec_list = [int(joke + 1) for joke in rec_list]\n",
    "    return [[first_rating], rec_list]\n",
    "        "
   ]
  },
  {
   "cell_type": "code",
   "execution_count": null,
   "id": "ee445b61",
   "metadata": {},
   "outputs": [],
   "source": [
    "\n",
    "with open('models/joke_quality.pkl', 'rb') as f:\n",
    "    joke_quality = pickle.load(f)\n",
    "    \n",
    "with open('models/joke_volume.pkl', 'rb') as f:\n",
    "    joke_volume = pickle.load(f)\n",
    "    \n",
    "    \n",
    "params = {'svd': 0.7,\n",
    "          'lfm': -0, \n",
    "          'lfm_cos': 0.8, \n",
    "          'nn': 0.0, \n",
    "          'nn_bias': -0.1, \n",
    "          'catboost': 0.1, \n",
    "          'knn': 0.1, 'quality': 4, 'volume': 4\n",
    "         }\n",
    "\n",
    "param_new_user = {'quality': -0.6, 'volume': 4.2}"
   ]
  },
  {
   "cell_type": "code",
   "execution_count": null,
   "id": "df096f84",
   "metadata": {},
   "outputs": [],
   "source": [
    "svd = wrappers['svd']\n",
    "svd"
   ]
  },
  {
   "cell_type": "code",
   "execution_count": null,
   "id": "5d81ae0b",
   "metadata": {},
   "outputs": [],
   "source": [
    "svd.model.test([[0,0,0]])"
   ]
  },
  {
   "cell_type": "code",
   "execution_count": null,
   "id": "2afbaab7",
   "metadata": {},
   "outputs": [],
   "source": [
    "svd.model.test([[0,0,0]])[0].est"
   ]
  },
  {
   "cell_type": "code",
   "execution_count": null,
   "id": "86929d4a",
   "metadata": {},
   "outputs": [],
   "source": [
    "svd.model.test([[0,0,0]])"
   ]
  },
  {
   "cell_type": "code",
   "execution_count": null,
   "id": "76cd172a",
   "metadata": {},
   "outputs": [],
   "source": []
  },
  {
   "cell_type": "code",
   "execution_count": null,
   "id": "367b0c1e",
   "metadata": {},
   "outputs": [],
   "source": [
    "df_users = pd.DataFrame(np.unique(df['UID']), columns =['UID'])\n",
    "df_users"
   ]
  },
  {
   "cell_type": "code",
   "execution_count": null,
   "id": "1f024e16",
   "metadata": {},
   "outputs": [],
   "source": []
  },
  {
   "cell_type": "code",
   "execution_count": null,
   "id": "1f55e801",
   "metadata": {},
   "outputs": [],
   "source": [
    "xx = get_predict_for_user(user_id=0, params=params, \n",
    "                     param_new_user=param_new_user, \n",
    "                     candidates=candidates, \n",
    "                     joke_quality=joke_quality,\n",
    "                         joke_volume=joke_volume, svd=wrappers['svd'])\n",
    "\n",
    "xx"
   ]
  },
  {
   "cell_type": "code",
   "execution_count": null,
   "id": "034a6b27",
   "metadata": {},
   "outputs": [],
   "source": [
    "xx = get_predict_for_user(user_id=200000, params=params, \n",
    "                     param_new_user=param_new_user, \n",
    "                     candidates=candidates, \n",
    "                     joke_quality=joke_quality,\n",
    "                     joke_volume=joke_volume, svd=wrappers['svd'] )\n",
    "\n",
    "xx"
   ]
  },
  {
   "cell_type": "code",
   "execution_count": null,
   "id": "0f1ab5be",
   "metadata": {},
   "outputs": [],
   "source": [
    "users = list(range(100))\n",
    "users.extend(range(50000, 50100))\n",
    "users"
   ]
  },
  {
   "cell_type": "code",
   "execution_count": null,
   "id": "b08b2dd8",
   "metadata": {},
   "outputs": [],
   "source": [
    "dff = pd.DataFrame(users, columns =['UID'])\n",
    "dff"
   ]
  },
  {
   "cell_type": "code",
   "execution_count": null,
   "id": "f5f48372",
   "metadata": {},
   "outputs": [],
   "source": [
    "df_users['recommendations'] = df_users['UID'].apply(get_predict_for_user, args=(\n",
    "            params,\n",
    "            param_new_user,\n",
    "            candidates,\n",
    "            joke_quality,\n",
    "            joke_volume,\n",
    "            wrappers['svd']\n",
    "        ))\n",
    "\n",
    "df_users"
   ]
  },
  {
   "cell_type": "code",
   "execution_count": null,
   "id": "2399479c",
   "metadata": {},
   "outputs": [],
   "source": [
    "output = df.merge(df_users)\n",
    "output"
   ]
  },
  {
   "cell_type": "code",
   "execution_count": null,
   "id": "aaae0d28",
   "metadata": {},
   "outputs": [],
   "source": []
  },
  {
   "cell_type": "code",
   "execution_count": null,
   "id": "4e5a45e2",
   "metadata": {},
   "outputs": [],
   "source": [
    "assert False"
   ]
  },
  {
   "cell_type": "code",
   "execution_count": null,
   "id": "a5e1b05e",
   "metadata": {},
   "outputs": [],
   "source": []
  },
  {
   "cell_type": "code",
   "execution_count": null,
   "id": "8ef4b71b",
   "metadata": {},
   "outputs": [],
   "source": [
    "#wrappers['svd'].predict(df_test)"
   ]
  },
  {
   "cell_type": "code",
   "execution_count": null,
   "id": "25805279",
   "metadata": {},
   "outputs": [],
   "source": [
    "#wrappers['lfm_cos'].predict(df_test)"
   ]
  },
  {
   "cell_type": "code",
   "execution_count": null,
   "id": "48a8f5bf",
   "metadata": {},
   "outputs": [],
   "source": [
    "#wrappers['catboost'].predict(df_test)"
   ]
  },
  {
   "cell_type": "code",
   "execution_count": null,
   "id": "c2f3d3cc",
   "metadata": {},
   "outputs": [],
   "source": [
    "#wrappers['knn'].predict(df_test)"
   ]
  },
  {
   "cell_type": "code",
   "execution_count": null,
   "id": "de80fe83",
   "metadata": {},
   "outputs": [],
   "source": [
    "#wrappers['nn_bias'].predict(df_test)"
   ]
  },
  {
   "cell_type": "code",
   "execution_count": null,
   "id": "924b66e2",
   "metadata": {},
   "outputs": [],
   "source": [
    "#predictions.keys()"
   ]
  },
  {
   "cell_type": "code",
   "execution_count": null,
   "id": "3033bdd3",
   "metadata": {},
   "outputs": [],
   "source": [
    "import sklearn\n",
    "sklearn.__version__"
   ]
  },
  {
   "cell_type": "code",
   "execution_count": null,
   "id": "315a2039",
   "metadata": {},
   "outputs": [],
   "source": [
    "xx = torch.load(r'E:\\competitions\\kaggle\\magnit_recsys-in-practice\\part2\\deploy\\magnit_recsys-in-practice\\models\\epoch=23-step=8496.ckpt')\n",
    "xx"
   ]
  },
  {
   "cell_type": "code",
   "execution_count": null,
   "id": "966785e3",
   "metadata": {},
   "outputs": [],
   "source": [
    "model = wrappers['nn_bias'].model\n",
    "model.load_state_dict(xx)\n",
    "model.eval()"
   ]
  },
  {
   "cell_type": "code",
   "execution_count": null,
   "id": "6736c795",
   "metadata": {},
   "outputs": [],
   "source": [
    "model = wrappers['nn_bias'].model"
   ]
  },
  {
   "cell_type": "code",
   "execution_count": null,
   "id": "d451cee9",
   "metadata": {},
   "outputs": [],
   "source": []
  },
  {
   "cell_type": "code",
   "execution_count": null,
   "id": "ce2af75b",
   "metadata": {},
   "outputs": [],
   "source": [
    "assert False"
   ]
  },
  {
   "cell_type": "code",
   "execution_count": null,
   "id": "64601afe",
   "metadata": {},
   "outputs": [],
   "source": [
    "n_users=24983\n",
    "n_items=100"
   ]
  },
  {
   "cell_type": "code",
   "execution_count": null,
   "id": "d8466f89",
   "metadata": {},
   "outputs": [],
   "source": [
    "\n",
    "test_set_all = np.zeros((n_users * n_items, 3))\n",
    "for u in tqdm(range(n_users)):\n",
    "    for j in range(n_items):\n",
    "        test_set_all[(n_items * u) + j, 0] = u\n",
    "        test_set_all[(n_items * u) + j, 1] = j\n",
    "        \n",
    "        \n",
    "        \n",
    "df_test = pd.DataFrame(test_set_all, columns=['UID', 'JID', 'Rating'])\n",
    "df_test\n",
    "\n",
    "df_test['UID'] = df_test['UID'].astype(int)\n",
    "df_test['JID'] = df_test['JID'].astype(int)"
   ]
  },
  {
   "cell_type": "code",
   "execution_count": null,
   "id": "1bb7ece7",
   "metadata": {},
   "outputs": [],
   "source": []
  },
  {
   "cell_type": "code",
   "execution_count": null,
   "id": "14a194ed",
   "metadata": {},
   "outputs": [],
   "source": []
  },
  {
   "cell_type": "code",
   "execution_count": null,
   "id": "b4563c14",
   "metadata": {},
   "outputs": [],
   "source": []
  },
  {
   "cell_type": "code",
   "execution_count": null,
   "id": "38c50845",
   "metadata": {},
   "outputs": [],
   "source": []
  },
  {
   "cell_type": "code",
   "execution_count": null,
   "id": "aa02f0e5",
   "metadata": {},
   "outputs": [],
   "source": []
  },
  {
   "cell_type": "code",
   "execution_count": null,
   "id": "8921fabf",
   "metadata": {},
   "outputs": [],
   "source": [
    "train_df, valid_df = train_test_split(df, test_size=0.5, random_state=42)"
   ]
  },
  {
   "cell_type": "code",
   "execution_count": null,
   "id": "33ef35a1",
   "metadata": {},
   "outputs": [],
   "source": [
    "#sw = SurpriseWrapper(model_name='05_baseline_svd_train', folder_name='', df_train=train_df, n_recommendations=10)\n",
    "#pred = sw.predict(valid_df)\n",
    "#display(pred)\n",
    "#pred[pred['UID'] == 0]"
   ]
  },
  {
   "cell_type": "code",
   "execution_count": null,
   "id": "7c6e9e8c",
   "metadata": {},
   "outputs": [],
   "source": []
  },
  {
   "cell_type": "code",
   "execution_count": null,
   "id": "f18fe9e4",
   "metadata": {},
   "outputs": [],
   "source": []
  },
  {
   "cell_type": "code",
   "execution_count": null,
   "id": "49f76dc1",
   "metadata": {},
   "outputs": [],
   "source": []
  },
  {
   "cell_type": "code",
   "execution_count": null,
   "id": "89ad7405",
   "metadata": {},
   "outputs": [],
   "source": [
    "#with open('predictions_df_surprise.pkl', 'rb') as f:\n",
    "#    predictions_df_surprise = pickle.load(f)\n",
    "    \n",
    "#print(predictions_df_surprise.keys())\n",
    "\n",
    "#predictions_df_surprise['svd'][predictions_df_surprise['svd']['UID'] == 0]"
   ]
  },
  {
   "cell_type": "code",
   "execution_count": null,
   "id": "cbb0b828",
   "metadata": {},
   "outputs": [],
   "source": []
  },
  {
   "cell_type": "code",
   "execution_count": null,
   "id": "62887e31",
   "metadata": {},
   "outputs": [],
   "source": []
  },
  {
   "cell_type": "code",
   "execution_count": null,
   "id": "e76d17cd",
   "metadata": {},
   "outputs": [],
   "source": []
  },
  {
   "cell_type": "code",
   "execution_count": null,
   "id": "cc51617c",
   "metadata": {},
   "outputs": [],
   "source": []
  },
  {
   "cell_type": "code",
   "execution_count": null,
   "id": "e0bd6c74",
   "metadata": {},
   "outputs": [],
   "source": []
  },
  {
   "cell_type": "code",
   "execution_count": null,
   "id": "c1009fd8",
   "metadata": {},
   "outputs": [],
   "source": []
  },
  {
   "cell_type": "code",
   "execution_count": null,
   "id": "06ee307b",
   "metadata": {},
   "outputs": [],
   "source": [
    "#nnw = NNWrapper(model_name='epoch=23-step=8496.ckpt', \n",
    "#    folder_name='E:\\\\competitions\\\\kaggle\\\\magnit_recsys-in-practice\\\\part2\\\\lightning_logs\\\\version_1\\\\checkpoints\\\\', \n",
    "#                df_train=train_df, n_recommendations=10)\n",
    "\n",
    "#pred = nnw.predict(valid_df)\n",
    "#display(pred)\n",
    "#pred[pred['UID'] == 0]"
   ]
  },
  {
   "cell_type": "code",
   "execution_count": null,
   "id": "58b9ea20",
   "metadata": {},
   "outputs": [],
   "source": [
    "#with open('predictions_df_nn_bias.pkl', 'rb') as f:\n",
    "#    predictions_df_nn_bias = pickle.load(f)\n",
    "    \n",
    "#print(predictions_df_nn_bias.keys())\n",
    "\n",
    "#predictions_df_nn_bias['nn_bias'][predictions_df_nn_bias['nn_bias']['UID'] == 0]"
   ]
  },
  {
   "cell_type": "code",
   "execution_count": null,
   "id": "84e92e97",
   "metadata": {},
   "outputs": [],
   "source": []
  },
  {
   "cell_type": "code",
   "execution_count": null,
   "id": "b5583a05",
   "metadata": {},
   "outputs": [],
   "source": [
    "#cbw = CatBoostWrapper(model_name='catboost_05', \n",
    "#    folder_name='', \n",
    "#                df_train=train_df, n_recommendations=10)\n",
    "\n",
    "#pred = cbw.predict(valid_df)\n",
    "#display(pred)\n",
    "#pred[pred['UID'] == 0]"
   ]
  },
  {
   "cell_type": "code",
   "execution_count": null,
   "id": "979e4124",
   "metadata": {},
   "outputs": [],
   "source": [
    "\n",
    "\n",
    "lfmw = LightFMWrapper(model_name='', \n",
    "    folder_name='', \n",
    "                df_train=train_df, n_recommendations=10)\n",
    "\n",
    "pred = lfmw.predict(valid_df)\n",
    "display(pred)\n",
    "pred[pred['UID'] == 0]"
   ]
  },
  {
   "cell_type": "code",
   "execution_count": null,
   "id": "e06b816f",
   "metadata": {},
   "outputs": [],
   "source": [
    "with open('predictions_df_lfm.pkl', 'rb') as f:\n",
    "    predictions_df_lfm = pickle.load(f)\n",
    "    \n",
    "predictions_df_lfm.keys()\n",
    "\n",
    "xx = list(predictions_df_lfm['lfm_cos'].groupby('UID').agg({'JID':list})['JID'].values)\n",
    "xx"
   ]
  },
  {
   "cell_type": "code",
   "execution_count": null,
   "id": "b86e5c2b",
   "metadata": {},
   "outputs": [],
   "source": [
    "#with open('predictions_df_catboost.pkl', 'rb') as f:\n",
    "#    predictions_df_catboost = pickle.load(f)\n",
    "    \n",
    "#print(predictions_df_surprise.keys())\n",
    "\n",
    "#xx = list(predictions_df_catboost['catboost'].groupby('UID').agg({'JID':list})['JID'].values)\n",
    "#xx"
   ]
  },
  {
   "cell_type": "code",
   "execution_count": null,
   "id": "7752d7d7",
   "metadata": {},
   "outputs": [],
   "source": []
  },
  {
   "cell_type": "code",
   "execution_count": null,
   "id": "f2124b83",
   "metadata": {},
   "outputs": [],
   "source": []
  },
  {
   "cell_type": "code",
   "execution_count": null,
   "id": "06b12746",
   "metadata": {},
   "outputs": [],
   "source": [
    "assert False"
   ]
  },
  {
   "cell_type": "code",
   "execution_count": null,
   "id": "04ca7998",
   "metadata": {},
   "outputs": [],
   "source": [
    "\n",
    "test_set = Helper().create_test_set(n_users, n_items)                \n",
    "df_test = pd.DataFrame(test_set, columns=['UID', 'JID', 'Rating'])\n",
    "\n",
    "df_test['UID'] = df_test['UID'].astype(int)\n",
    "df_test['JID'] = df_test['JID'].astype(int)\n",
    "\n",
    "data_module_test = ContextualRankerData(df_test, df_test, df_test, features = [\"UID\", \"JID\"])\n",
    "data_module_test.prepare_data()\n",
    "data_module_test.setup()\n",
    "\n",
    "predictions = []\n",
    "for x, y in data_module_test.test_dataloader():\n",
    "    predict = nnw.model(x)\n",
    "    predictions.extend(predict.cpu().detach().numpy())\n",
    "\n",
    "\n",
    "df_test['Rating_pred'] = predictions\n"
   ]
  },
  {
   "cell_type": "code",
   "execution_count": null,
   "id": "2ded4937",
   "metadata": {},
   "outputs": [],
   "source": [
    "\n",
    "df_rec = Helper().filter_viewed_items(train_df, df_test, n_users, 10)\n"
   ]
  },
  {
   "cell_type": "code",
   "execution_count": null,
   "id": "7d6ded2e",
   "metadata": {},
   "outputs": [],
   "source": [
    "train_df"
   ]
  },
  {
   "cell_type": "code",
   "execution_count": null,
   "id": "402775e4",
   "metadata": {},
   "outputs": [],
   "source": [
    "\n",
    "df_rec = Helper().filter_viewed_items(train_df, df_test, n_users, 10)\n",
    "df_rec"
   ]
  },
  {
   "cell_type": "code",
   "execution_count": null,
   "id": "5413c429",
   "metadata": {},
   "outputs": [],
   "source": []
  },
  {
   "cell_type": "code",
   "execution_count": null,
   "id": "14a2bb6d",
   "metadata": {},
   "outputs": [],
   "source": []
  },
  {
   "cell_type": "code",
   "execution_count": null,
   "id": "f417a52a",
   "metadata": {},
   "outputs": [],
   "source": []
  },
  {
   "cell_type": "code",
   "execution_count": null,
   "id": "965179ff",
   "metadata": {},
   "outputs": [],
   "source": []
  },
  {
   "cell_type": "code",
   "execution_count": null,
   "id": "e3a06b75",
   "metadata": {},
   "outputs": [],
   "source": []
  },
  {
   "cell_type": "code",
   "execution_count": null,
   "id": "380a151f",
   "metadata": {},
   "outputs": [],
   "source": []
  },
  {
   "cell_type": "code",
   "execution_count": null,
   "id": "cdbe19d0",
   "metadata": {},
   "outputs": [],
   "source": [
    "def load_models(path_list):\n",
    "    for model_name, file_name in path_list.items():\n",
    "        if model_name == 'knn':\n",
    "            _, algo_knn = dump.load(file_name)\n",
    "        if model_name == 'svd':\n",
    "            _, algo_svd = dump.load(file_name)"
   ]
  },
  {
   "cell_type": "code",
   "execution_count": null,
   "id": "a7bbb10c",
   "metadata": {},
   "outputs": [],
   "source": [
    "model_path = {\n",
    "    #final\n",
    "'svd':'svd', 'lfm_cos':'lfm_cos', 'nn_bias':'nn_bias', 'catboost':'catboost', 'knn': 'knn'    \n",
    "}"
   ]
  },
  {
   "cell_type": "code",
   "execution_count": null,
   "id": "9b83948f",
   "metadata": {},
   "outputs": [],
   "source": [
    "from uuu import mapk_plot, mapk, calculate_serendipity_per_user, prediction_coverage, \\\n",
    "catalog_coverage, long_tail_plot, weight_by_volume, get_frame_from_prediction_list, novelty, get_value_popularity_ranks"
   ]
  },
  {
   "cell_type": "code",
   "execution_count": null,
   "id": "e4403b5a",
   "metadata": {},
   "outputs": [],
   "source": []
  },
  {
   "cell_type": "code",
   "execution_count": null,
   "id": "b85f4815",
   "metadata": {},
   "outputs": [],
   "source": []
  },
  {
   "cell_type": "code",
   "execution_count": null,
   "id": "ef8f0b40",
   "metadata": {},
   "outputs": [],
   "source": [
    "fig = plt.figure(figsize=(15, 7))\n",
    "volume_df = long_tail_plot(df=df, \n",
    "             item_id_column=\"JID\", \n",
    "             interaction_type=\"joke ratings\", \n",
    "             percentage=0.4,\n",
    "             x_labels=False)\n",
    "\n",
    "volume_df['weight'] = volume_df['percent_of_total_volume'].apply(weight_by_volume)\n",
    "joke_volume = {}\n",
    "for row in volume_df.itertuples():\n",
    "    joke_volume[int(row.JID)] = row.weight"
   ]
  },
  {
   "cell_type": "code",
   "execution_count": null,
   "id": "e8401213",
   "metadata": {},
   "outputs": [],
   "source": [
    "df_top_joke = df[df['Rating'] > 5].groupby('JID').agg('count').rename(columns={'Rating':'count_plus'}) \\\n",
    ".sort_values('count_plus', ascending=False).drop(columns=['UID'])\n",
    "\n",
    "\n",
    "df_bottom_joke = df[df['Rating'] < -5].groupby('JID').agg('count').rename(columns={'Rating':'count_minus'}) \\\n",
    ".sort_values('count_minus', ascending=False).drop(columns=['UID'])\n",
    "\n",
    "\n",
    "df_counts = df_bottom_joke.merge(df_top_joke, left_index=True, right_index=True)\n",
    "\n",
    "\n",
    "df_counts['diff'] = df_counts['count_plus'] - df_counts['count_minus']\n",
    "df_counts = df_counts.sort_values('diff', ascending=False)\n",
    "\n",
    "\n",
    "df_counts['weight'] = df_counts['diff'] / 10000\n",
    "\n",
    "joke_quality = {}\n",
    "for row in df_counts.itertuples():\n",
    "    joke_quality[row.Index] = row.weight"
   ]
  },
  {
   "cell_type": "code",
   "execution_count": null,
   "id": "17828530",
   "metadata": {},
   "outputs": [],
   "source": [
    "\n",
    "with open('joke_quality.pkl', 'wb') as f:\n",
    "    pickle.dump(joke_quality, f)\n",
    "    \n",
    "with open('joke_volume.pkl', 'wb') as f:\n",
    "    pickle.dump(joke_volume, f)"
   ]
  },
  {
   "cell_type": "code",
   "execution_count": null,
   "id": "b56181d2",
   "metadata": {},
   "outputs": [],
   "source": []
  },
  {
   "cell_type": "code",
   "execution_count": null,
   "id": "f087b376",
   "metadata": {},
   "outputs": [],
   "source": []
  },
  {
   "cell_type": "code",
   "execution_count": null,
   "id": "c2004759",
   "metadata": {},
   "outputs": [],
   "source": []
  },
  {
   "cell_type": "code",
   "execution_count": null,
   "id": "3062ac59",
   "metadata": {},
   "outputs": [],
   "source": [
    "with open('predictions_df_lfm.pkl', 'rb') as f:\n",
    "    predictions_df_lfm = pickle.load(f)\n",
    "    \n",
    "predictions_df_lfm.keys()"
   ]
  },
  {
   "cell_type": "code",
   "execution_count": null,
   "id": "d5157885",
   "metadata": {},
   "outputs": [],
   "source": [
    "with open('predictions_df_nn.pkl', 'rb') as f:\n",
    "    predictions_df_nn = pickle.load(f)\n",
    "    \n",
    "predictions_df_nn.keys()"
   ]
  },
  {
   "cell_type": "code",
   "execution_count": null,
   "id": "9401f6a1",
   "metadata": {},
   "outputs": [],
   "source": [
    "with open('predictions_df_nn_bias.pkl', 'rb') as f:\n",
    "    predictions_df_nn_bias = pickle.load(f)\n",
    "    \n",
    "predictions_df_nn_bias.keys()"
   ]
  },
  {
   "cell_type": "code",
   "execution_count": null,
   "id": "2df031ea",
   "metadata": {},
   "outputs": [],
   "source": [
    "with open('predictions_df_catboost.pkl', 'rb') as f:\n",
    "    predictions_df_catboost = pickle.load(f)\n",
    "    \n",
    "predictions_df_catboost.keys()"
   ]
  },
  {
   "cell_type": "code",
   "execution_count": null,
   "id": "f55f1141",
   "metadata": {},
   "outputs": [],
   "source": [
    "#with open('predictions_df_catboost_doc2vec.pkl', 'rb') as f:\n",
    "#    predictions_df_catboost_doc2vec = pickle.load(f)\n",
    "    \n",
    "#predictions_df_catboost_doc2vec.keys()"
   ]
  },
  {
   "cell_type": "code",
   "execution_count": null,
   "id": "f98927d4",
   "metadata": {},
   "outputs": [],
   "source": []
  },
  {
   "cell_type": "code",
   "execution_count": null,
   "id": "9eb8e169",
   "metadata": {},
   "outputs": [],
   "source": [
    "svd_df = predictions_df_surprise['svd']\n",
    "knn_df = predictions_df_surprise['knn']\n",
    "lfm_df = predictions_df_lfm['lfm']\n",
    "lfm_cos_df = predictions_df_lfm['lfm_cos']\n",
    "nn_df = predictions_df_nn['nn']\n",
    "nn_bias_df = predictions_df_nn_bias['nn_bias']\n",
    "catboost_df = predictions_df_catboost['catboost']\n",
    "#catboost_doc2vec_df = predictions_df_catboost_doc2vec['catboost_doc2vec']\n",
    "actual_df = predictions_df_surprise['actual']"
   ]
  },
  {
   "cell_type": "code",
   "execution_count": null,
   "id": "64925893",
   "metadata": {},
   "outputs": [],
   "source": []
  },
  {
   "cell_type": "code",
   "execution_count": null,
   "id": "2bb55109",
   "metadata": {},
   "outputs": [],
   "source": []
  },
  {
   "cell_type": "code",
   "execution_count": null,
   "id": "29c9c7f3",
   "metadata": {},
   "outputs": [],
   "source": [
    "frames = {'svd':svd_df, 'lfm':lfm_df, 'lfm_cos':lfm_cos_df, 'nn':nn_df, \n",
    "          'catboost':catboost_df, 'knn':knn_df,  'nn_bias':nn_bias_df}#'catboost_doc2vec':catboost_doc2vec_df,\n",
    "\n",
    "predictions = {k:list(v.groupby('UID').agg({'JID':list})['JID'].values) for k, v in frames.items()}\n",
    "actual = list(predictions_df_surprise['actual'].groupby('UID').agg({'JID':list})['JID'].values)"
   ]
  },
  {
   "cell_type": "code",
   "execution_count": null,
   "id": "ac85a56c",
   "metadata": {},
   "outputs": [],
   "source": [
    "users = df[\"UID\"].unique()\n",
    "n_users = users.size\n",
    "n_users"
   ]
  },
  {
   "cell_type": "code",
   "execution_count": null,
   "id": "1f72e31c",
   "metadata": {},
   "outputs": [],
   "source": [
    "# рекомендации по популярным \n",
    "#popularity_recs = df['JID'].value_counts().head(10).index.tolist()\n",
    "\n",
    "#pop_recs = []\n",
    "#for user in tqdm(range(n_users)):\n",
    "#    pop_predictions = popularity_recs\n",
    "#    pop_recs.append(pop_predictions)\n",
    "    \n",
    "    \n",
    "#predictions['popular'] = pop_recs"
   ]
  },
  {
   "cell_type": "code",
   "execution_count": null,
   "id": "18fa1fa9",
   "metadata": {},
   "outputs": [],
   "source": [
    "pop = dict(df.JID.value_counts())"
   ]
  },
  {
   "cell_type": "code",
   "execution_count": null,
   "id": "9c043e09",
   "metadata": {},
   "outputs": [],
   "source": [
    "items = np.unique(df['JID'])\n",
    "items"
   ]
  },
  {
   "cell_type": "code",
   "execution_count": null,
   "id": "b8552f8f",
   "metadata": {},
   "outputs": [],
   "source": []
  },
  {
   "cell_type": "code",
   "execution_count": null,
   "id": "e9ce56d6",
   "metadata": {},
   "outputs": [],
   "source": [
    "def union_predicts(params):\n",
    "    result = []\n",
    "\n",
    "    for u in range(24983):\n",
    "        res = {}\n",
    "        for i, (key, value) in enumerate(predictions.items()):\n",
    "            rank = {x: params[key] * (10-j) for j, x in enumerate(value[u])}\n",
    "\n",
    "            for k, v in rank.items():\n",
    "                if k in res:\n",
    "                    res[k] += v\n",
    "                else:\n",
    "                    res[k] = v\n",
    "                    \n",
    "        for k in res:\n",
    "            res[k] += joke_quality[k] * params['quality']\n",
    "            res[k] += joke_volume[k] * params['volume']\n",
    "\n",
    "        result.append([x[0] for x in sorted(res.items(), key=lambda item: item[1], reverse=True)][:10])\n",
    "        \n",
    "    return result"
   ]
  },
  {
   "cell_type": "code",
   "execution_count": null,
   "id": "f9100c11",
   "metadata": {},
   "outputs": [],
   "source": [
    "def main_metric(params):\n",
    "    t1 = time.time()\n",
    "    result = union_predicts(params)\n",
    "    res_df = get_frame_from_prediction_list(users, result)\n",
    "\n",
    "\n",
    "    cat_coverage = catalog_coverage(result, items, 100)\n",
    "    pred_coverage = prediction_coverage(result, items)\n",
    "    nov, mselfinfo_list = novelty(result, pop, len(users), 10)\n",
    "\n",
    "    res_df = get_frame_from_prediction_list(users, result)\n",
    "    serendip = calculate_serendipity_per_user(res_df, df_train, df_test)\n",
    "    map1 = mapk(actual, result, k=1)\n",
    "    map10 = mapk(actual, result, k=10)\n",
    "    \n",
    "    price = np.mean([sum([joke_volume[x] for x in xx]) for xx in result])\n",
    "    \n",
    "    sm = sum([cat_coverage / 100, pred_coverage / 100, nov, serendip, map1, map10, price / 3])\n",
    "    print('time',round(time.time() - t1, 3), \n",
    "        'cat_cov',  round(cat_coverage, 3), \n",
    "         'cov', round(pred_coverage, 3),\n",
    "         'nov', round(nov, 3),\n",
    "         'ser', round(serendip, 3),\n",
    "        'm1',  round(map1 , 3),\n",
    "         'm10', round(map10, 3),\n",
    "         'price', round(price, 3),\n",
    "         'sum', round(sm, 3))\n",
    "    return sm"
   ]
  },
  {
   "cell_type": "code",
   "execution_count": null,
   "id": "6f10badc",
   "metadata": {},
   "outputs": [],
   "source": [
    "main_metric({'svd': 0.1, \n",
    "              'lfm': 0.1, \n",
    "              'lfm_cos': 0.1, \n",
    "              'nn': 0.1, \n",
    "              'nn_bias': 0.1, \n",
    "              'catboost': 0.1, \n",
    "              'knn': 0.1, \n",
    "              'catboost_doc2vec': 0.1,\n",
    "              'quality': 0.1,\n",
    "              'volume': 0.1\n",
    "             })"
   ]
  },
  {
   "cell_type": "code",
   "execution_count": null,
   "id": "ed612f51",
   "metadata": {},
   "outputs": [],
   "source": [
    "result = union_predicts({'svd': 0.1, \n",
    "              'lfm': 0.1, \n",
    "              'lfm_cos': 0.1, \n",
    "              'nn': 0.1, \n",
    "              'nn_bias': 0.1, \n",
    "              'catboost': 0.1, \n",
    "              'knn': 0.1, \n",
    "              'catboost_doc2vec': 0.1,\n",
    "              'quality': 0.1,\n",
    "              'volume': 0.1\n",
    "             })"
   ]
  },
  {
   "cell_type": "code",
   "execution_count": null,
   "id": "13ac2edf",
   "metadata": {},
   "outputs": [],
   "source": []
  },
  {
   "cell_type": "code",
   "execution_count": null,
   "id": "51245ab5",
   "metadata": {},
   "outputs": [],
   "source": []
  },
  {
   "cell_type": "code",
   "execution_count": null,
   "id": "8c8f8212",
   "metadata": {},
   "outputs": [],
   "source": [
    "def objective(trial):    \n",
    "    \n",
    "    params = {'svd': trial.suggest_float(name='svd', low=-5, high=5, step=0.1), \n",
    "              'lfm': trial.suggest_float(name='lfm', low=-5, high=5, step=0.1), \n",
    "              'lfm_cos': trial.suggest_float(name='lfm_cos', low=-5, high=2, step=0.1), \n",
    "              'nn': trial.suggest_float(name='nn', low=-5, high=5, step=0.1), \n",
    "              'nn_bias': trial.suggest_float(name='nn_bias', low=-5, high=5, step=0.1), \n",
    "              'catboost': trial.suggest_float(name='catboost', low=-5, high=2, step=0.1), \n",
    "              'knn': trial.suggest_float(name='knn', low=-5, high=5, step=0.1), \n",
    "              #'catboost_doc2vec': trial.suggest_float(name='catboost_doc2vec', low=-5, high=5, step=0.1),\n",
    "              'quality': trial.suggest_float(name='quality', low=-5, high=5, step=0.1),\n",
    "              'volume': trial.suggest_float(name='volume', low=-5, high=5, step=0.1)\n",
    "             }\n",
    "    \n",
    "    return main_metric(params)\n",
    "    \n",
    "\n",
    "\n",
    "study = optuna.create_study(direction=\"maximize\")\n",
    "study.optimize(objective, n_trials=20000)\n"
   ]
  },
  {
   "cell_type": "code",
   "execution_count": null,
   "id": "fc500a9e",
   "metadata": {},
   "outputs": [],
   "source": [
    "print(\"Value:\", study.best_value)\n",
    "print(\"Parameters:\", study.best_params)"
   ]
  },
  {
   "cell_type": "code",
   "execution_count": null,
   "id": "6b4da80b",
   "metadata": {},
   "outputs": [],
   "source": []
  },
  {
   "cell_type": "code",
   "execution_count": null,
   "id": "57668115",
   "metadata": {},
   "outputs": [],
   "source": []
  },
  {
   "cell_type": "code",
   "execution_count": null,
   "id": "7919f25e",
   "metadata": {},
   "outputs": [],
   "source": [
    "main_metric(\n",
    "{\n",
    "    \n",
    "'svd': 0.7, 'lfm': -0.2, 'lfm_cos': 0.8, 'nn': 0.0, 'nn_bias': -0.1, 'catboost': 0.1, 'knn': 0.1, 'quality': 4.6, 'volume': 3.90\n",
    "})"
   ]
  },
  {
   "cell_type": "code",
   "execution_count": null,
   "id": "913c2869",
   "metadata": {},
   "outputs": [],
   "source": [
    "main_metric(\n",
    "{\n",
    "    \n",
    "'svd': 0.7, 'lfm': -0, 'lfm_cos': 0.8, 'nn': 0.0, 'nn_bias': -0.1, 'catboost': 0.1, 'knn': 0.1, 'quality': 4.6, 'volume': 3.90\n",
    "})"
   ]
  },
  {
   "cell_type": "code",
   "execution_count": null,
   "id": "88005dfd",
   "metadata": {},
   "outputs": [],
   "source": [
    "main_metric(\n",
    "{\n",
    "    \n",
    "'svd': 0.7, 'lfm': -0, 'lfm_cos': 0.8, 'nn': 0.0, 'nn_bias': -0.1, 'catboost': 0.1, 'knn': 0.1, 'quality': 2, 'volume': 2\n",
    "})"
   ]
  },
  {
   "cell_type": "code",
   "execution_count": null,
   "id": "6ad6ca3b",
   "metadata": {},
   "outputs": [],
   "source": [
    "main_metric(\n",
    "{\n",
    "    #final\n",
    "'svd': 0.7, 'lfm': -0, 'lfm_cos': 0.8, 'nn': 0.0, 'nn_bias': -0.1, 'catboost': 0.1, 'knn': 0.1, 'quality': 4, 'volume': 4\n",
    "})"
   ]
  },
  {
   "cell_type": "code",
   "execution_count": null,
   "id": "4a3c9ccd",
   "metadata": {},
   "outputs": [],
   "source": []
  },
  {
   "cell_type": "code",
   "execution_count": null,
   "id": "df9e019a",
   "metadata": {},
   "outputs": [],
   "source": [
    "main_metric(\n",
    "{\n",
    "    \n",
    "'svd': 0.1, 'lfm': -0.1, 'lfm_cos': 0.1, 'nn': -3.8, 'nn_bias': -3.7, 'catboost': -3.9, 'knn': 0.0, 'quality': 4.8, 'volume': 3.3\n",
    "})"
   ]
  }
 ],
 "metadata": {
  "colab": {
   "provenance": []
  },
  "kernelspec": {
   "display_name": "Python 3 (ipykernel)",
   "language": "python",
   "name": "python3"
  },
  "language_info": {
   "codemirror_mode": {
    "name": "ipython",
    "version": 3
   },
   "file_extension": ".py",
   "mimetype": "text/x-python",
   "name": "python",
   "nbconvert_exporter": "python",
   "pygments_lexer": "ipython3",
   "version": "3.9.7"
  }
 },
 "nbformat": 4,
 "nbformat_minor": 5
}
