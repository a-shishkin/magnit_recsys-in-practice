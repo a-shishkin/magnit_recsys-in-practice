{
 "cells": [
  {
   "cell_type": "code",
   "execution_count": 1,
   "id": "427278c8-3010-4e10-9271-dc3b7723e0e7",
   "metadata": {
    "id": "427278c8-3010-4e10-9271-dc3b7723e0e7"
   },
   "outputs": [
    {
     "name": "stderr",
     "output_type": "stream",
     "text": [
      "C:\\ProgramData\\Anaconda3\\envs\\torchvision\\lib\\site-packages\\lightfm\\_lightfm_fast.py:9: UserWarning: LightFM was compiled without OpenMP support. Only a single thread will be used.\n",
      "  warnings.warn(\n"
     ]
    }
   ],
   "source": [
    "import numpy as np\n",
    "import pandas as pd\n",
    "from collections import defaultdict\n",
    "from surprise import Dataset, Reader, accuracy\n",
    "from surprise.model_selection import GridSearchCV\n",
    "from sklearn.model_selection import train_test_split\n",
    "from surprise.model_selection import KFold\n",
    "from tqdm.notebook import tqdm\n",
    "from sklearn.metrics import ndcg_score\n",
    "from surprise import dump\n",
    "import seaborn as sns\n",
    "import matplotlib.pyplot as plt\n",
    "from typing import List\n",
    "from surprise import SVD\n",
    "import random\n",
    "import pickle\n",
    "from copy import deepcopy\n",
    "\n",
    "import typing as tp\n",
    "from sklearn.preprocessing import normalize\n",
    "from lightfm import LightFM\n",
    "from scipy.sparse import coo_matrix\n",
    "from lightfm.data import Dataset as LFMDataset\n",
    "from collections import Counter\n",
    "from matplotlib.lines import Line2D\n",
    "import time\n",
    "import optuna\n",
    "\n",
    "np.random.seed(42)"
   ]
  },
  {
   "cell_type": "code",
   "execution_count": null,
   "id": "002638f5",
   "metadata": {},
   "outputs": [],
   "source": []
  },
  {
   "cell_type": "code",
   "execution_count": null,
   "id": "e690c982",
   "metadata": {},
   "outputs": [],
   "source": []
  },
  {
   "cell_type": "code",
   "execution_count": 2,
   "id": "9b83948f",
   "metadata": {},
   "outputs": [],
   "source": [
    "from uuu import mapk_plot, mapk, calculate_serendipity_per_user, prediction_coverage, \\\n",
    "catalog_coverage, long_tail_plot, weight_by_volume, get_frame_from_prediction_list, novelty, get_value_popularity_ranks"
   ]
  },
  {
   "cell_type": "code",
   "execution_count": 3,
   "id": "c6f196be",
   "metadata": {},
   "outputs": [],
   "source": [
    "df = pd.read_csv('../data/recsys-in-practice/train_joke_df.csv')\n",
    "\n",
    "df['UID'] = df['UID'] - 1\n",
    "df['JID'] = df['JID'] - 1\n",
    "# сделаем сортировку и перепишем index\n",
    "df = df.sort_values(by=['UID', 'JID'])\n",
    "df = df.reset_index(drop=True)\n",
    "\n",
    "df\n",
    "\n",
    "df_train, df_test = train_test_split(df, test_size=0.5, random_state=42)"
   ]
  },
  {
   "cell_type": "code",
   "execution_count": 4,
   "id": "6728bfd6",
   "metadata": {},
   "outputs": [
    {
     "name": "stderr",
     "output_type": "stream",
     "text": [
      "E:\\competitions\\kaggle\\magnit_recsys-in-practice\\part2\\uuu.py:259: FutureWarning: The frame.append method is deprecated and will be removed from pandas in a future version. Use pandas.concat instead.\n",
      "  head = head.append(tail.head(1))\n"
     ]
    },
    {
     "data": {
      "image/png": "[encoded data removed]",
      "text/plain": [
       "<Figure size 1080x504 with 1 Axes>"
      ]
     },
     "metadata": {
      "needs_background": "light"
     },
     "output_type": "display_data"
    }
   ],
   "source": [
    "fig = plt.figure(figsize=(15, 7))\n",
    "volume_df = long_tail_plot(df=df, \n",
    "             item_id_column=\"JID\", \n",
    "             interaction_type=\"joke ratings\", \n",
    "             percentage=0.4,\n",
    "             x_labels=False)\n",
    "\n",
    "volume_df['weight'] = volume_df['percent_of_total_volume'].apply(weight_by_volume)\n",
    "joke_volume = {}\n",
    "for row in volume_df.itertuples():\n",
    "    joke_volume[int(row.JID)] = row.weight"
   ]
  },
  {
   "cell_type": "code",
   "execution_count": 5,
   "id": "fd616b4b",
   "metadata": {},
   "outputs": [],
   "source": [
    "df_top_joke = df[df['Rating'] > 5].groupby('JID').agg('count').rename(columns={'Rating':'count_plus'}) \\\n",
    ".sort_values('count_plus', ascending=False).drop(columns=['UID'])\n",
    "\n",
    "\n",
    "df_bottom_joke = df[df['Rating'] < -5].groupby('JID').agg('count').rename(columns={'Rating':'count_minus'}) \\\n",
    ".sort_values('count_minus', ascending=False).drop(columns=['UID'])\n",
    "\n",
    "\n",
    "df_counts = df_bottom_joke.merge(df_top_joke, left_index=True, right_index=True)\n",
    "\n",
    "\n",
    "df_counts['diff'] = df_counts['count_plus'] - df_counts['count_minus']\n",
    "df_counts = df_counts.sort_values('diff', ascending=False)\n",
    "\n",
    "\n",
    "df_counts['weight'] = df_counts['diff'] / 10000\n",
    "\n",
    "joke_quality = {}\n",
    "for row in df_counts.itertuples():\n",
    "    joke_quality[row.Index] = row.weight"
   ]
  },
  {
   "cell_type": "code",
   "execution_count": null,
   "id": "370843d0",
   "metadata": {},
   "outputs": [],
   "source": []
  },
  {
   "cell_type": "code",
   "execution_count": null,
   "id": "b8b5a53a",
   "metadata": {},
   "outputs": [],
   "source": []
  },
  {
   "cell_type": "code",
   "execution_count": null,
   "id": "23b25f41",
   "metadata": {},
   "outputs": [],
   "source": []
  },
  {
   "cell_type": "code",
   "execution_count": null,
   "id": "cbfffe98",
   "metadata": {},
   "outputs": [],
   "source": []
  },
  {
   "cell_type": "code",
   "execution_count": 6,
   "id": "89ad7405",
   "metadata": {},
   "outputs": [
    {
     "data": {
      "text/plain": [
       "dict_keys(['actual', 'svd', 'knn'])"
      ]
     },
     "execution_count": 6,
     "metadata": {},
     "output_type": "execute_result"
    }
   ],
   "source": [
    "with open('predictions_df_surprise.pkl', 'rb') as f:\n",
    "    predictions_df_surprise = pickle.load(f)\n",
    "    \n",
    "predictions_df_surprise.keys()"
   ]
  },
  {
   "cell_type": "code",
   "execution_count": 7,
   "id": "3062ac59",
   "metadata": {},
   "outputs": [
    {
     "data": {
      "text/plain": [
       "dict_keys(['lfm', 'lfm_cos'])"
      ]
     },
     "execution_count": 7,
     "metadata": {},
     "output_type": "execute_result"
    }
   ],
   "source": [
    "with open('predictions_df_lfm.pkl', 'rb') as f:\n",
    "    predictions_df_lfm = pickle.load(f)\n",
    "    \n",
    "predictions_df_lfm.keys()"
   ]
  },
  {
   "cell_type": "code",
   "execution_count": 8,
   "id": "d5157885",
   "metadata": {},
   "outputs": [
    {
     "data": {
      "text/plain": [
       "dict_keys(['nn'])"
      ]
     },
     "execution_count": 8,
     "metadata": {},
     "output_type": "execute_result"
    }
   ],
   "source": [
    "with open('predictions_df_nn.pkl', 'rb') as f:\n",
    "    predictions_df_nn = pickle.load(f)\n",
    "    \n",
    "predictions_df_nn.keys()"
   ]
  },
  {
   "cell_type": "code",
   "execution_count": 9,
   "id": "2df031ea",
   "metadata": {},
   "outputs": [
    {
     "data": {
      "text/plain": [
       "dict_keys(['catboost'])"
      ]
     },
     "execution_count": 9,
     "metadata": {},
     "output_type": "execute_result"
    }
   ],
   "source": [
    "with open('predictions_df_catboost.pkl', 'rb') as f:\n",
    "    predictions_df_catboost = pickle.load(f)\n",
    "    \n",
    "predictions_df_catboost.keys()"
   ]
  },
  {
   "cell_type": "code",
   "execution_count": 10,
   "id": "f55f1141",
   "metadata": {},
   "outputs": [
    {
     "data": {
      "text/plain": [
       "dict_keys(['catboost_doc2vec'])"
      ]
     },
     "execution_count": 10,
     "metadata": {},
     "output_type": "execute_result"
    }
   ],
   "source": [
    "with open('predictions_df_catboost_doc2vec.pkl', 'rb') as f:\n",
    "    predictions_df_catboost_doc2vec = pickle.load(f)\n",
    "    \n",
    "predictions_df_catboost_doc2vec.keys()"
   ]
  },
  {
   "cell_type": "code",
   "execution_count": null,
   "id": "f98927d4",
   "metadata": {},
   "outputs": [],
   "source": []
  },
  {
   "cell_type": "code",
   "execution_count": 11,
   "id": "9eb8e169",
   "metadata": {},
   "outputs": [],
   "source": [
    "svd_df = predictions_df_surprise['svd']\n",
    "knn_df = predictions_df_surprise['knn']\n",
    "lfm_df = predictions_df_lfm['lfm']\n",
    "lfm_cos_df = predictions_df_lfm['lfm_cos']\n",
    "nn_df = predictions_df_nn['nn']\n",
    "catboost_df = predictions_df_catboost['catboost']\n",
    "catboost_doc2vec_df = predictions_df_catboost_doc2vec['catboost_doc2vec']\n",
    "actual_df = predictions_df_surprise['actual']"
   ]
  },
  {
   "cell_type": "code",
   "execution_count": null,
   "id": "64925893",
   "metadata": {},
   "outputs": [],
   "source": []
  },
  {
   "cell_type": "code",
   "execution_count": null,
   "id": "2bb55109",
   "metadata": {},
   "outputs": [],
   "source": []
  },
  {
   "cell_type": "code",
   "execution_count": 12,
   "id": "29c9c7f3",
   "metadata": {},
   "outputs": [],
   "source": [
    "frames = {'svd':svd_df, 'lfm_cos':lfm_cos_df, 'nn':nn_df, \n",
    "          'knn':knn_df, 'catboost_doc2vec':catboost_doc2vec_df}\n",
    "\n",
    "predictions = {k:list(v.groupby('UID').agg({'JID':list})['JID'].values) for k, v in frames.items()}\n",
    "actual = list(predictions_df_surprise['actual'].groupby('UID').agg({'JID':list})['JID'].values)"
   ]
  },
  {
   "cell_type": "code",
   "execution_count": 13,
   "id": "ac85a56c",
   "metadata": {},
   "outputs": [
    {
     "data": {
      "text/plain": [
       "24983"
      ]
     },
     "execution_count": 13,
     "metadata": {},
     "output_type": "execute_result"
    }
   ],
   "source": [
    "users = df[\"UID\"].unique()\n",
    "n_users = users.size\n",
    "n_users"
   ]
  },
  {
   "cell_type": "code",
   "execution_count": 14,
   "id": "1f72e31c",
   "metadata": {},
   "outputs": [],
   "source": [
    "# рекомендации по популярным \n",
    "#popularity_recs = df['JID'].value_counts().head(10).index.tolist()\n",
    "\n",
    "#pop_recs = []\n",
    "#for user in tqdm(range(n_users)):\n",
    "#    pop_predictions = popularity_recs\n",
    "#    pop_recs.append(pop_predictions)\n",
    "    \n",
    "    \n",
    "#predictions['popular'] = pop_recs"
   ]
  },
  {
   "cell_type": "code",
   "execution_count": 15,
   "id": "18fa1fa9",
   "metadata": {},
   "outputs": [],
   "source": [
    "pop = dict(df.JID.value_counts())"
   ]
  },
  {
   "cell_type": "code",
   "execution_count": 16,
   "id": "9c043e09",
   "metadata": {},
   "outputs": [
    {
     "data": {
      "text/plain": [
       "array([ 0,  1,  2,  3,  4,  5,  6,  7,  8,  9, 10, 11, 12, 13, 14, 15, 16,\n",
       "       17, 18, 19, 20, 21, 22, 23, 24, 25, 26, 27, 28, 29, 30, 31, 32, 33,\n",
       "       34, 35, 36, 37, 38, 39, 40, 41, 42, 43, 44, 45, 46, 47, 48, 49, 50,\n",
       "       51, 52, 53, 54, 55, 56, 57, 58, 59, 60, 61, 62, 63, 64, 65, 66, 67,\n",
       "       68, 69, 70, 71, 72, 73, 74, 75, 76, 77, 78, 79, 80, 81, 82, 83, 84,\n",
       "       85, 86, 87, 88, 89, 90, 91, 92, 93, 94, 95, 96, 97, 98, 99],\n",
       "      dtype=int64)"
      ]
     },
     "execution_count": 16,
     "metadata": {},
     "output_type": "execute_result"
    }
   ],
   "source": [
    "items = np.unique(df['JID'])\n",
    "items"
   ]
  },
  {
   "cell_type": "code",
   "execution_count": null,
   "id": "2060d0a0",
   "metadata": {},
   "outputs": [],
   "source": []
  },
  {
   "cell_type": "code",
   "execution_count": 17,
   "id": "7c987e84",
   "metadata": {},
   "outputs": [],
   "source": [
    "def union_predicts(params):\n",
    "    result = []\n",
    "\n",
    "    for u in range(24983):\n",
    "        res = {}\n",
    "        for i, (key, value) in enumerate(predictions.items()):\n",
    "            rank = {x: params[key] * (10-j) for j, x in enumerate(value[u])}\n",
    "\n",
    "            for k, v in rank.items():\n",
    "                if k in res:\n",
    "                    res[k] += v\n",
    "                else:\n",
    "                    res[k] = v\n",
    "                    \n",
    "        for k in res:\n",
    "            res[k] += joke_quality[k] * params['quality']\n",
    "            res[k] += joke_volume[k] * params['volume']\n",
    "\n",
    "        result.append([x[0] for x in sorted(res.items(), key=lambda item: item[1], reverse=True)][:10])\n",
    "        \n",
    "    return result"
   ]
  },
  {
   "cell_type": "code",
   "execution_count": 18,
   "id": "e9539f50",
   "metadata": {},
   "outputs": [],
   "source": [
    "def main_metric(params):\n",
    "    t1 = time.time()\n",
    "    result = union_predicts(params)\n",
    "    res_df = get_frame_from_prediction_list(users, result)\n",
    "\n",
    "\n",
    "    cat_coverage = catalog_coverage(result, items, 100)\n",
    "    pred_coverage = prediction_coverage(result, items)\n",
    "    nov, mselfinfo_list = novelty(result, pop, len(users), 10)\n",
    "\n",
    "    res_df = get_frame_from_prediction_list(users, result)\n",
    "    serendip = calculate_serendipity_per_user(res_df, df_train, df_test)\n",
    "    map1 = mapk(actual, result, k=1)\n",
    "    map10 = mapk(actual, result, k=10)\n",
    "    \n",
    "    sm = sum([cat_coverage / 100, pred_coverage / 100, nov, serendip, map1, map10])\n",
    "    print('time',round(time.time() - t1, 3), \n",
    "        'cat_cov',  round(cat_coverage, 3), \n",
    "         'cov', round(pred_coverage, 3),\n",
    "         'nov', round(nov, 3),\n",
    "         'ser', round(serendip, 3),\n",
    "        'm1',  round(map1 , 3),\n",
    "         'm10', round(map10, 3),\n",
    "         'sum', round(sm, 3))\n",
    "    return sm"
   ]
  },
  {
   "cell_type": "code",
   "execution_count": null,
   "id": "0d2f96e2",
   "metadata": {},
   "outputs": [],
   "source": []
  },
  {
   "cell_type": "code",
   "execution_count": null,
   "id": "e4625e56",
   "metadata": {},
   "outputs": [],
   "source": []
  },
  {
   "cell_type": "code",
   "execution_count": 19,
   "id": "b011926a",
   "metadata": {},
   "outputs": [
    {
     "name": "stderr",
     "output_type": "stream",
     "text": [
      "\u001b[32m[I 2023-05-06 20:51:10,931]\u001b[0m A new study created in memory with name: no-name-4c447e81-524c-490a-ae5d-f56d4059ac02\u001b[0m\n",
      "\u001b[32m[I 2023-05-06 20:51:13,538]\u001b[0m Trial 0 finished with value: 3.6008145927854236 and parameters: {'svd': 1.3000000000000003, 'lfm_cos': 1.6, 'nn': 1.8000000000000003, 'knn': 1.8000000000000003, 'catboost_doc2vec': -1.5, 'quality': -0.5999999999999999, 'volume': 0.5}. Best is trial 0 with value: 3.6008145927854236.\u001b[0m\n"
     ]
    },
    {
     "name": "stdout",
     "output_type": "stream",
     "text": [
      "time 2.604 cat_cov 93.0 cov 100.0 nov 0.708 ser 0.118 m1 0.357 m10 0.488 sum 3.601\n"
     ]
    },
    {
     "name": "stderr",
     "output_type": "stream",
     "text": [
      "\u001b[32m[I 2023-05-06 20:51:15,969]\u001b[0m Trial 1 finished with value: 3.174969730872996 and parameters: {'svd': -0.19999999999999996, 'lfm_cos': 0.7000000000000002, 'nn': -0.09999999999999987, 'knn': 2.0, 'catboost_doc2vec': 1.2000000000000002, 'quality': -1.0, 'volume': 1.6}. Best is trial 0 with value: 3.6008145927854236.\u001b[0m\n"
     ]
    },
    {
     "name": "stdout",
     "output_type": "stream",
     "text": [
      "time 2.427 cat_cov 55.0 cov 100.0 nov 0.714 ser 0.097 m1 0.352 m10 0.463 sum 3.175\n"
     ]
    },
    {
     "name": "stderr",
     "output_type": "stream",
     "text": [
      "\u001b[32m[I 2023-05-06 20:51:18,728]\u001b[0m Trial 2 finished with value: 3.683406718366028 and parameters: {'svd': -0.5, 'lfm_cos': 0.8000000000000003, 'nn': -1.0, 'knn': -0.7, 'catboost_doc2vec': -0.7999999999999998, 'quality': -0.7999999999999998, 'volume': 1.8000000000000003}. Best is trial 2 with value: 3.683406718366028.\u001b[0m\n"
     ]
    },
    {
     "name": "stdout",
     "output_type": "stream",
     "text": [
      "time 2.754 cat_cov 99.0 cov 100.0 nov 0.931 ser 0.24 m1 0.188 m10 0.334 sum 3.683\n"
     ]
    },
    {
     "name": "stderr",
     "output_type": "stream",
     "text": [
      "\u001b[32m[I 2023-05-06 20:51:21,206]\u001b[0m Trial 3 finished with value: 3.56208587614373 and parameters: {'svd': -1.4, 'lfm_cos': -1.2999999999999998, 'nn': 0.6000000000000001, 'knn': -0.5, 'catboost_doc2vec': -1.5, 'quality': -1.1, 'volume': -1.4}. Best is trial 2 with value: 3.683406718366028.\u001b[0m\n"
     ]
    },
    {
     "name": "stdout",
     "output_type": "stream",
     "text": [
      "time 2.476 cat_cov 100.0 cov 100.0 nov 0.888 ser 0.118 m1 0.204 m10 0.352 sum 3.562\n"
     ]
    },
    {
     "name": "stderr",
     "output_type": "stream",
     "text": [
      "\u001b[32m[I 2023-05-06 20:51:24,077]\u001b[0m Trial 4 finished with value: 3.5810548775626603 and parameters: {'svd': -0.7999999999999998, 'lfm_cos': 0.0, 'nn': -1.7, 'knn': -1.2999999999999998, 'catboost_doc2vec': -1.9, 'quality': -1.0, 'volume': 1.9000000000000004}. Best is trial 2 with value: 3.683406718366028.\u001b[0m\n"
     ]
    },
    {
     "name": "stdout",
     "output_type": "stream",
     "text": [
      "time 2.867 cat_cov 97.0 cov 100.0 nov 0.95 ser 0.227 m1 0.135 m10 0.299 sum 3.581\n"
     ]
    },
    {
     "name": "stderr",
     "output_type": "stream",
     "text": [
      "\u001b[32m[I 2023-05-06 20:51:26,450]\u001b[0m Trial 5 finished with value: 3.564495116714533 and parameters: {'svd': 0.8000000000000003, 'lfm_cos': -1.5, 'nn': -1.5, 'knn': 1.5, 'catboost_doc2vec': -1.4, 'quality': 0.40000000000000036, 'volume': 0.0}. Best is trial 2 with value: 3.683406718366028.\u001b[0m\n"
     ]
    },
    {
     "name": "stdout",
     "output_type": "stream",
     "text": [
      "time 2.37 cat_cov 88.0 cov 100.0 nov 0.858 ser 0.102 m1 0.293 m10 0.432 sum 3.564\n"
     ]
    },
    {
     "name": "stderr",
     "output_type": "stream",
     "text": [
      "\u001b[32m[I 2023-05-06 20:51:29,109]\u001b[0m Trial 6 finished with value: 3.687622265954387 and parameters: {'svd': -1.7, 'lfm_cos': 0.10000000000000009, 'nn': -1.5, 'knn': 1.9000000000000004, 'catboost_doc2vec': -0.7, 'quality': 0.30000000000000027, 'volume': -1.5}. Best is trial 6 with value: 3.687622265954387.\u001b[0m\n"
     ]
    },
    {
     "name": "stdout",
     "output_type": "stream",
     "text": [
      "time 2.656 cat_cov 100.0 cov 100.0 nov 0.911 ser 0.186 m1 0.218 m10 0.373 sum 3.688\n"
     ]
    },
    {
     "name": "stderr",
     "output_type": "stream",
     "text": [
      "\u001b[32m[I 2023-05-06 20:51:31,734]\u001b[0m Trial 7 finished with value: 3.2837548317930523 and parameters: {'svd': -0.5, 'lfm_cos': 1.2000000000000002, 'nn': 0.7000000000000002, 'knn': -1.2, 'catboost_doc2vec': 1.7000000000000002, 'quality': -0.7, 'volume': 0.7000000000000002}. Best is trial 6 with value: 3.687622265954387.\u001b[0m\n"
     ]
    },
    {
     "name": "stdout",
     "output_type": "stream",
     "text": [
      "time 2.62 cat_cov 97.0 cov 100.0 nov 0.823 ser 0.17 m1 0.092 m10 0.228 sum 3.284\n"
     ]
    },
    {
     "name": "stderr",
     "output_type": "stream",
     "text": [
      "\u001b[32m[I 2023-05-06 20:51:34,459]\u001b[0m Trial 8 finished with value: 3.647555663566286 and parameters: {'svd': 0.0, 'lfm_cos': 1.2000000000000002, 'nn': -1.8, 'knn': 0.8000000000000003, 'catboost_doc2vec': 0.7000000000000002, 'quality': 2.0, 'volume': -1.1}. Best is trial 6 with value: 3.687622265954387.\u001b[0m\n"
     ]
    },
    {
     "name": "stdout",
     "output_type": "stream",
     "text": [
      "time 2.722 cat_cov 99.0 cov 100.0 nov 0.862 ser 0.199 m1 0.231 m10 0.365 sum 3.648\n"
     ]
    },
    {
     "name": "stderr",
     "output_type": "stream",
     "text": [
      "\u001b[32m[I 2023-05-06 20:51:36,959]\u001b[0m Trial 9 finished with value: 3.159443824562135 and parameters: {'svd': -0.7999999999999998, 'lfm_cos': 0.30000000000000027, 'nn': -0.7999999999999998, 'knn': 0.20000000000000018, 'catboost_doc2vec': 0.8000000000000003, 'quality': -1.6, 'volume': 1.2000000000000002}. Best is trial 6 with value: 3.687622265954387.\u001b[0m\n"
     ]
    },
    {
     "name": "stdout",
     "output_type": "stream",
     "text": [
      "time 2.497 cat_cov 92.0 cov 100.0 nov 0.837 ser 0.158 m1 0.065 m10 0.18 sum 3.159\n"
     ]
    },
    {
     "name": "stderr",
     "output_type": "stream",
     "text": [
      "\u001b[32m[I 2023-05-06 20:51:39,433]\u001b[0m Trial 10 finished with value: 3.2443057159535567 and parameters: {'svd': -2.0, 'lfm_cos': -0.5, 'nn': -0.2999999999999998, 'knn': -2.0, 'catboost_doc2vec': -0.19999999999999996, 'quality': 0.6000000000000001, 'volume': -2.0}. Best is trial 6 with value: 3.687622265954387.\u001b[0m\n"
     ]
    },
    {
     "name": "stdout",
     "output_type": "stream",
     "text": [
      "time 2.456 cat_cov 95.0 cov 100.0 nov 0.904 ser 0.13 m1 0.067 m10 0.193 sum 3.244\n"
     ]
    },
    {
     "name": "stderr",
     "output_type": "stream",
     "text": [
      "\u001b[32m[I 2023-05-06 20:51:42,020]\u001b[0m Trial 11 finished with value: 3.420797794606241 and parameters: {'svd': -2.0, 'lfm_cos': -0.5, 'nn': -1.0, 'knn': -0.09999999999999987, 'catboost_doc2vec': -0.3999999999999999, 'quality': 1.4000000000000004, 'volume': -0.3999999999999999}. Best is trial 6 with value: 3.687622265954387.\u001b[0m\n"
     ]
    },
    {
     "name": "stdout",
     "output_type": "stream",
     "text": [
      "time 2.569 cat_cov 99.0 cov 100.0 nov 0.895 ser 0.14 m1 0.135 m10 0.26 sum 3.421\n"
     ]
    },
    {
     "name": "stderr",
     "output_type": "stream",
     "text": [
      "\u001b[32m[I 2023-05-06 20:51:44,876]\u001b[0m Trial 12 finished with value: 3.7587348197736876 and parameters: {'svd': 0.7000000000000002, 'lfm_cos': 2.0, 'nn': -1.0, 'knn': 0.9000000000000004, 'catboost_doc2vec': -0.7999999999999998, 'quality': 0.0, 'volume': -0.5999999999999999}. Best is trial 12 with value: 3.7587348197736876.\u001b[0m\n"
     ]
    },
    {
     "name": "stdout",
     "output_type": "stream",
     "text": [
      "time 2.837 cat_cov 100.0 cov 100.0 nov 0.873 ser 0.216 m1 0.273 m10 0.396 sum 3.759\n"
     ]
    },
    {
     "name": "stderr",
     "output_type": "stream",
     "text": [
      "\u001b[32m[I 2023-05-06 20:51:47,625]\u001b[0m Trial 13 finished with value: 3.8278930502101387 and parameters: {'svd': 2.0, 'lfm_cos': 2.0, 'nn': -1.2, 'knn': 1.1, 'catboost_doc2vec': -0.7999999999999998, 'quality': 0.10000000000000009, 'volume': -0.7999999999999998}. Best is trial 13 with value: 3.8278930502101387.\u001b[0m\n"
     ]
    },
    {
     "name": "stdout",
     "output_type": "stream",
     "text": [
      "time 2.731 cat_cov 100.0 cov 100.0 nov 0.84 ser 0.182 m1 0.35 m10 0.456 sum 3.828\n"
     ]
    },
    {
     "name": "stderr",
     "output_type": "stream",
     "text": [
      "\u001b[32m[I 2023-05-06 20:51:50,233]\u001b[0m Trial 14 finished with value: 3.8532690329499464 and parameters: {'svd': 1.9000000000000004, 'lfm_cos': 1.6, 'nn': -0.7, 'knn': 1.0, 'catboost_doc2vec': 0.10000000000000009, 'quality': -0.09999999999999987, 'volume': -0.7}. Best is trial 14 with value: 3.8532690329499464.\u001b[0m\n"
     ]
    },
    {
     "name": "stdout",
     "output_type": "stream",
     "text": [
      "time 2.59 cat_cov 100.0 cov 100.0 nov 0.815 ser 0.169 m1 0.382 m10 0.488 sum 3.853\n"
     ]
    },
    {
     "name": "stderr",
     "output_type": "stream",
     "text": [
      "\u001b[32m[I 2023-05-06 20:51:52,882]\u001b[0m Trial 15 finished with value: 3.835266728996986 and parameters: {'svd': 1.8000000000000003, 'lfm_cos': 2.0, 'nn': -0.2999999999999998, 'knn': 1.0, 'catboost_doc2vec': 0.30000000000000027, 'quality': 0.9000000000000004, 'volume': -0.7}. Best is trial 14 with value: 3.8532690329499464.\u001b[0m\n"
     ]
    },
    {
     "name": "stdout",
     "output_type": "stream",
     "text": [
      "time 2.63 cat_cov 99.0 cov 100.0 nov 0.798 ser 0.172 m1 0.388 m10 0.487 sum 3.835\n"
     ]
    },
    {
     "name": "stderr",
     "output_type": "stream",
     "text": [
      "\u001b[32m[I 2023-05-06 20:51:55,464]\u001b[0m Trial 16 finished with value: 3.8166326549153404 and parameters: {'svd': 2.0, 'lfm_cos': 1.5, 'nn': 0.5, 'knn': 0.40000000000000036, 'catboost_doc2vec': 0.30000000000000027, 'quality': 1.0, 'volume': -0.09999999999999987}. Best is trial 14 with value: 3.8532690329499464.\u001b[0m\n"
     ]
    },
    {
     "name": "stdout",
     "output_type": "stream",
     "text": [
      "time 2.564 cat_cov 99.0 cov 100.0 nov 0.778 ser 0.155 m1 0.392 m10 0.502 sum 3.817\n"
     ]
    },
    {
     "name": "stderr",
     "output_type": "stream",
     "text": [
      "\u001b[32m[I 2023-05-06 20:51:58,176]\u001b[0m Trial 17 finished with value: 3.807285363555286 and parameters: {'svd': 1.5, 'lfm_cos': 1.6, 'nn': -0.2999999999999998, 'knn': 1.3000000000000003, 'catboost_doc2vec': 0.20000000000000018, 'quality': 1.2000000000000002, 'volume': 0.40000000000000036}. Best is trial 14 with value: 3.8532690329499464.\u001b[0m\n"
     ]
    },
    {
     "name": "stdout",
     "output_type": "stream",
     "text": [
      "time 2.694 cat_cov 98.0 cov 100.0 nov 0.779 ser 0.158 m1 0.391 m10 0.499 sum 3.807\n"
     ]
    },
    {
     "name": "stderr",
     "output_type": "stream",
     "text": [
      "\u001b[32m[I 2023-05-06 20:52:00,659]\u001b[0m Trial 18 finished with value: 3.0766560654581445 and parameters: {'svd': 0.6000000000000001, 'lfm_cos': 0.8000000000000003, 'nn': 0.20000000000000018, 'knn': 0.6000000000000001, 'catboost_doc2vec': 1.9000000000000004, 'quality': -0.2999999999999998, 'volume': -1.9}. Best is trial 14 with value: 3.8532690329499464.\u001b[0m\n"
     ]
    },
    {
     "name": "stdout",
     "output_type": "stream",
     "text": [
      "time 2.465 cat_cov 64.0 cov 100.0 nov 0.745 ser 0.113 m1 0.236 m10 0.343 sum 3.077\n"
     ]
    },
    {
     "name": "stderr",
     "output_type": "stream",
     "text": [
      "\u001b[32m[I 2023-05-06 20:52:03,047]\u001b[0m Trial 19 finished with value: 3.3917165454862266 and parameters: {'svd': 1.4000000000000004, 'lfm_cos': -0.7, 'nn': 1.3000000000000003, 'knn': -0.19999999999999996, 'catboost_doc2vec': 0.8000000000000003, 'quality': 1.8000000000000003, 'volume': -1.1}. Best is trial 14 with value: 3.8532690329499464.\u001b[0m\n"
     ]
    },
    {
     "name": "stdout",
     "output_type": "stream",
     "text": [
      "time 2.369 cat_cov 72.0 cov 100.0 nov 0.723 ser 0.091 m1 0.366 m10 0.491 sum 3.392\n"
     ]
    },
    {
     "name": "stderr",
     "output_type": "stream",
     "text": [
      "\u001b[32m[I 2023-05-06 20:52:05,453]\u001b[0m Trial 20 finished with value: 3.2862597097178616 and parameters: {'svd': 1.1, 'lfm_cos': -1.9, 'nn': -0.5999999999999999, 'knn': 1.5, 'catboost_doc2vec': 1.4000000000000004, 'quality': 0.9000000000000004, 'volume': -0.09999999999999987}. Best is trial 14 with value: 3.8532690329499464.\u001b[0m\n"
     ]
    },
    {
     "name": "stdout",
     "output_type": "stream",
     "text": [
      "time 2.387 cat_cov 66.0 cov 100.0 nov 0.758 ser 0.088 m1 0.337 m10 0.443 sum 3.286\n"
     ]
    },
    {
     "name": "stderr",
     "output_type": "stream",
     "text": [
      "\u001b[32m[I 2023-05-06 20:52:08,161]\u001b[0m Trial 21 finished with value: 3.8126003502014725 and parameters: {'svd': 2.0, 'lfm_cos': 2.0, 'nn': -1.2999999999999998, 'knn': 1.1, 'catboost_doc2vec': 0.0, 'quality': -0.09999999999999987, 'volume': -0.7999999999999998}. Best is trial 14 with value: 3.8532690329499464.\u001b[0m\n"
     ]
    },
    {
     "name": "stdout",
     "output_type": "stream",
     "text": [
      "time 2.69 cat_cov 99.0 cov 100.0 nov 0.837 ser 0.183 m1 0.348 m10 0.454 sum 3.813\n"
     ]
    },
    {
     "name": "stderr",
     "output_type": "stream",
     "text": [
      "\u001b[32m[I 2023-05-06 20:52:10,873]\u001b[0m Trial 22 finished with value: 3.787619575854878 and parameters: {'svd': 1.7000000000000002, 'lfm_cos': 2.0, 'nn': -2.0, 'knn': 1.1, 'catboost_doc2vec': 0.40000000000000036, 'quality': 0.6000000000000001, 'volume': -0.8999999999999999}. Best is trial 14 with value: 3.8532690329499464.\u001b[0m\n"
     ]
    },
    {
     "name": "stdout",
     "output_type": "stream",
     "text": [
      "time 2.693 cat_cov 99.0 cov 100.0 nov 0.862 ser 0.2 m1 0.31 m10 0.425 sum 3.788\n"
     ]
    },
    {
     "name": "stderr",
     "output_type": "stream",
     "text": [
      "\u001b[32m[I 2023-05-06 20:52:13,546]\u001b[0m Trial 23 finished with value: 3.8264283887594432 and parameters: {'svd': 1.7000000000000002, 'lfm_cos': 1.3000000000000003, 'nn': -0.5, 'knn': 0.6000000000000001, 'catboost_doc2vec': -0.5, 'quality': -0.2999999999999998, 'volume': -0.3999999999999999}. Best is trial 14 with value: 3.8532690329499464.\u001b[0m\n"
     ]
    },
    {
     "name": "stdout",
     "output_type": "stream",
     "text": [
      "time 2.655 cat_cov 98.0 cov 100.0 nov 0.821 ser 0.169 m1 0.375 m10 0.482 sum 3.826\n"
     ]
    },
    {
     "name": "stderr",
     "output_type": "stream",
     "text": [
      "\u001b[32m[I 2023-05-06 20:52:16,201]\u001b[0m Trial 24 finished with value: 3.8021350949268964 and parameters: {'svd': 2.0, 'lfm_cos': 1.7000000000000002, 'nn': 0.0, 'knn': 1.5, 'catboost_doc2vec': -1.1, 'quality': 0.20000000000000018, 'volume': -1.5}. Best is trial 14 with value: 3.8532690329499464.\u001b[0m\n"
     ]
    },
    {
     "name": "stdout",
     "output_type": "stream",
     "text": [
      "time 2.637 cat_cov 99.0 cov 100.0 nov 0.795 ser 0.147 m1 0.374 m10 0.496 sum 3.802\n"
     ]
    },
    {
     "name": "stderr",
     "output_type": "stream",
     "text": [
      "\u001b[32m[I 2023-05-06 20:52:18,894]\u001b[0m Trial 25 finished with value: 3.828179287061854 and parameters: {'svd': 1.0, 'lfm_cos': 1.0, 'nn': -1.2, 'knn': 0.30000000000000027, 'catboost_doc2vec': -0.09999999999999987, 'quality': 1.5, 'volume': -0.5}. Best is trial 14 with value: 3.8532690329499464.\u001b[0m\n"
     ]
    },
    {
     "name": "stdout",
     "output_type": "stream",
     "text": [
      "time 2.676 cat_cov 100.0 cov 100.0 nov 0.877 ser 0.204 m1 0.32 m10 0.427 sum 3.828\n"
     ]
    },
    {
     "name": "stderr",
     "output_type": "stream",
     "text": [
      "\u001b[32m[I 2023-05-06 20:52:21,528]\u001b[0m Trial 26 finished with value: 3.8227295232295875 and parameters: {'svd': 1.1, 'lfm_cos': 0.5, 'nn': -0.7, 'knn': 0.30000000000000027, 'catboost_doc2vec': -0.09999999999999987, 'quality': 1.7000000000000002, 'volume': 0.20000000000000018}. Best is trial 14 with value: 3.8532690329499464.\u001b[0m\n"
     ]
    },
    {
     "name": "stdout",
     "output_type": "stream",
     "text": [
      "time 2.617 cat_cov 100.0 cov 100.0 nov 0.818 ser 0.159 m1 0.364 m10 0.482 sum 3.823\n"
     ]
    },
    {
     "name": "stderr",
     "output_type": "stream",
     "text": [
      "\u001b[32m[I 2023-05-06 20:52:24,252]\u001b[0m Trial 27 finished with value: 3.726266249079969 and parameters: {'svd': 0.30000000000000027, 'lfm_cos': 1.0, 'nn': -0.3999999999999999, 'knn': 0.6000000000000001, 'catboost_doc2vec': 0.5, 'quality': 1.5, 'volume': -0.5}. Best is trial 14 with value: 3.8532690329499464.\u001b[0m\n"
     ]
    },
    {
     "name": "stdout",
     "output_type": "stream",
     "text": [
      "time 2.705 cat_cov 100.0 cov 100.0 nov 0.799 ser 0.187 m1 0.308 m10 0.431 sum 3.726\n"
     ]
    },
    {
     "name": "stderr",
     "output_type": "stream",
     "text": [
      "\u001b[32m[I 2023-05-06 20:52:26,976]\u001b[0m Trial 28 finished with value: 3.7309854120432506 and parameters: {'svd': 1.1, 'lfm_cos': 1.4000000000000004, 'nn': 0.30000000000000027, 'knn': -0.3999999999999999, 'catboost_doc2vec': 1.2000000000000002, 'quality': 0.8000000000000003, 'volume': -1.1}. Best is trial 14 with value: 3.8532690329499464.\u001b[0m\n"
     ]
    },
    {
     "name": "stdout",
     "output_type": "stream",
     "text": [
      "time 2.706 cat_cov 100.0 cov 100.0 nov 0.81 ser 0.175 m1 0.319 m10 0.427 sum 3.731\n"
     ]
    },
    {
     "name": "stderr",
     "output_type": "stream",
     "text": [
      "\u001b[32m[I 2023-05-06 20:52:29,509]\u001b[0m Trial 29 finished with value: 3.6126796407724076 and parameters: {'svd': 1.6, 'lfm_cos': 1.6, 'nn': 1.6, 'knn': 1.7000000000000002, 'catboost_doc2vec': 0.10000000000000009, 'quality': 1.2000000000000002, 'volume': 0.7000000000000002}. Best is trial 14 with value: 3.8532690329499464.\u001b[0m\n"
     ]
    },
    {
     "name": "stdout",
     "output_type": "stream",
     "text": [
      "time 2.515 cat_cov 93.0 cov 100.0 nov 0.693 ser 0.114 m1 0.378 m10 0.497 sum 3.613\n"
     ]
    },
    {
     "name": "stderr",
     "output_type": "stream",
     "text": [
      "\u001b[32m[I 2023-05-06 20:52:32,242]\u001b[0m Trial 30 finished with value: 3.7722779821963823 and parameters: {'svd': 1.3000000000000003, 'lfm_cos': 1.7000000000000002, 'nn': -0.7999999999999998, 'knn': 0.10000000000000009, 'catboost_doc2vec': -0.2999999999999998, 'quality': -1.6, 'volume': -0.2999999999999998}. Best is trial 14 with value: 3.8532690329499464.\u001b[0m\n"
     ]
    },
    {
     "name": "stdout",
     "output_type": "stream",
     "text": [
      "time 2.715 cat_cov 100.0 cov 100.0 nov 0.884 ser 0.213 m1 0.277 m10 0.398 sum 3.772\n"
     ]
    },
    {
     "name": "stderr",
     "output_type": "stream",
     "text": [
      "\u001b[32m[I 2023-05-06 20:52:34,914]\u001b[0m Trial 31 finished with value: 3.7996852260131444 and parameters: {'svd': 1.8000000000000003, 'lfm_cos': 1.9000000000000004, 'nn': -1.2999999999999998, 'knn': 1.0, 'catboost_doc2vec': -0.5999999999999999, 'quality': -0.3999999999999999, 'volume': -0.7999999999999998}. Best is trial 14 with value: 3.8532690329499464.\u001b[0m\n"
     ]
    },
    {
     "name": "stdout",
     "output_type": "stream",
     "text": [
      "time 2.654 cat_cov 99.0 cov 100.0 nov 0.848 ser 0.189 m1 0.332 m10 0.442 sum 3.8\n"
     ]
    },
    {
     "name": "stderr",
     "output_type": "stream",
     "text": [
      "\u001b[32m[I 2023-05-06 20:52:37,516]\u001b[0m Trial 32 finished with value: 3.830723700847714 and parameters: {'svd': 1.3000000000000003, 'lfm_cos': 1.1, 'nn': -1.2, 'knn': 1.3000000000000003, 'catboost_doc2vec': -1.2, 'quality': 0.10000000000000009, 'volume': -0.7}. Best is trial 14 with value: 3.8532690329499464.\u001b[0m\n"
     ]
    },
    {
     "name": "stdout",
     "output_type": "stream",
     "text": [
      "time 2.585 cat_cov 98.0 cov 100.0 nov 0.849 ser 0.17 m1 0.36 m10 0.472 sum 3.831\n"
     ]
    },
    {
     "name": "stderr",
     "output_type": "stream",
     "text": [
      "\u001b[32m[I 2023-05-06 20:52:40,071]\u001b[0m Trial 33 finished with value: 3.675470903278667 and parameters: {'svd': 0.9000000000000004, 'lfm_cos': 1.0, 'nn': -1.0, 'knn': 0.7000000000000002, 'catboost_doc2vec': 1.1, 'quality': 0.6000000000000001, 'volume': 0.20000000000000018}. Best is trial 14 with value: 3.8532690329499464.\u001b[0m\n"
     ]
    },
    {
     "name": "stdout",
     "output_type": "stream",
     "text": [
      "time 2.536 cat_cov 98.0 cov 100.0 nov 0.817 ser 0.163 m1 0.306 m10 0.41 sum 3.675\n"
     ]
    },
    {
     "name": "stderr",
     "output_type": "stream",
     "text": [
      "\u001b[32m[I 2023-05-06 20:52:42,688]\u001b[0m Trial 34 finished with value: 3.61087264848076 and parameters: {'svd': 0.5, 'lfm_cos': 0.6000000000000001, 'nn': -0.19999999999999996, 'knn': 1.4000000000000004, 'catboost_doc2vec': -1.1, 'quality': 1.2000000000000002, 'volume': -0.5999999999999999}. Best is trial 14 with value: 3.8532690329499464.\u001b[0m\n"
     ]
    },
    {
     "name": "stdout",
     "output_type": "stream",
     "text": [
      "time 2.6 cat_cov 93.0 cov 100.0 nov 0.74 ser 0.119 m1 0.342 m10 0.48 sum 3.611\n"
     ]
    },
    {
     "name": "stderr",
     "output_type": "stream",
     "text": [
      "\u001b[32m[I 2023-05-06 20:52:45,242]\u001b[0m Trial 35 finished with value: 3.8296353584719958 and parameters: {'svd': 1.3000000000000003, 'lfm_cos': 1.0, 'nn': -1.5, 'knn': 1.7000000000000002, 'catboost_doc2vec': -1.2, 'quality': -0.5, 'volume': -1.2999999999999998}. Best is trial 14 with value: 3.8532690329499464.\u001b[0m\n"
     ]
    },
    {
     "name": "stdout",
     "output_type": "stream",
     "text": [
      "time 2.534 cat_cov 99.0 cov 100.0 nov 0.857 ser 0.163 m1 0.35 m10 0.47 sum 3.83\n"
     ]
    },
    {
     "name": "stderr",
     "output_type": "stream",
     "text": [
      "\u001b[32m[I 2023-05-06 20:52:47,974]\u001b[0m Trial 36 finished with value: 3.851912584023235 and parameters: {'svd': 1.3000000000000003, 'lfm_cos': 1.2000000000000002, 'nn': -1.7, 'knn': 1.8000000000000003, 'catboost_doc2vec': -2.0, 'quality': -1.0, 'volume': -1.7}. Best is trial 14 with value: 3.8532690329499464.\u001b[0m\n"
     ]
    },
    {
     "name": "stdout",
     "output_type": "stream",
     "text": [
      "time 2.715 cat_cov 100.0 cov 100.0 nov 0.878 ser 0.175 m1 0.343 m10 0.457 sum 3.852\n"
     ]
    },
    {
     "name": "stderr",
     "output_type": "stream",
     "text": [
      "\u001b[32m[I 2023-05-06 20:52:50,610]\u001b[0m Trial 37 finished with value: 3.81363581175629 and parameters: {'svd': 0.30000000000000027, 'lfm_cos': 0.40000000000000036, 'nn': -1.9, 'knn': 1.7000000000000002, 'catboost_doc2vec': -2.0, 'quality': -1.2, 'volume': -1.8}. Best is trial 14 with value: 3.8532690329499464.\u001b[0m\n"
     ]
    },
    {
     "name": "stdout",
     "output_type": "stream",
     "text": [
      "time 2.618 cat_cov 100.0 cov 100.0 nov 0.957 ser 0.187 m1 0.264 m10 0.405 sum 3.814\n"
     ]
    },
    {
     "name": "stderr",
     "output_type": "stream",
     "text": [
      "\u001b[32m[I 2023-05-06 20:52:53,226]\u001b[0m Trial 38 finished with value: 3.8503254053778035 and parameters: {'svd': 1.5, 'lfm_cos': 1.3000000000000003, 'nn': -1.5, 'knn': 1.3000000000000003, 'catboost_doc2vec': -1.7, 'quality': -0.8999999999999999, 'volume': -1.2999999999999998}. Best is trial 14 with value: 3.8532690329499464.\u001b[0m\n"
     ]
    },
    {
     "name": "stdout",
     "output_type": "stream",
     "text": [
      "time 2.597 cat_cov 100.0 cov 100.0 nov 0.871 ser 0.181 m1 0.346 m10 0.453 sum 3.85\n"
     ]
    },
    {
     "name": "stderr",
     "output_type": "stream",
     "text": [
      "\u001b[32m[I 2023-05-06 20:52:55,867]\u001b[0m Trial 39 finished with value: 3.8335435816015067 and parameters: {'svd': 1.8000000000000003, 'lfm_cos': 1.4000000000000004, 'nn': -1.7, 'knn': 2.0, 'catboost_doc2vec': -1.7, 'quality': -0.8999999999999999, 'volume': -1.7}. Best is trial 14 with value: 3.8532690329499464.\u001b[0m\n"
     ]
    },
    {
     "name": "stdout",
     "output_type": "stream",
     "text": [
      "time 2.622 cat_cov 99.0 cov 100.0 nov 0.853 ser 0.165 m1 0.354 m10 0.471 sum 3.834\n"
     ]
    },
    {
     "name": "stderr",
     "output_type": "stream",
     "text": [
      "\u001b[32m[I 2023-05-06 20:52:58,458]\u001b[0m Trial 40 finished with value: 3.73723231021319 and parameters: {'svd': 1.6, 'lfm_cos': 1.8000000000000003, 'nn': 0.0, 'knn': 2.0, 'catboost_doc2vec': -1.7, 'quality': -1.9, 'volume': -1.2999999999999998}. Best is trial 14 with value: 3.8532690329499464.\u001b[0m\n"
     ]
    },
    {
     "name": "stdout",
     "output_type": "stream",
     "text": [
      "time 2.573 cat_cov 96.0 cov 100.0 nov 0.787 ser 0.148 m1 0.359 m10 0.484 sum 3.737\n"
     ]
    },
    {
     "name": "stderr",
     "output_type": "stream",
     "text": [
      "\u001b[32m[I 2023-05-06 20:53:01,002]\u001b[0m Trial 41 finished with value: 3.8318805815008408 and parameters: {'svd': 1.8000000000000003, 'lfm_cos': 1.4000000000000004, 'nn': -1.7, 'knn': 2.0, 'catboost_doc2vec': -1.5, 'quality': -0.8999999999999999, 'volume': -1.7}. Best is trial 14 with value: 3.8532690329499464.\u001b[0m\n"
     ]
    },
    {
     "name": "stdout",
     "output_type": "stream",
     "text": [
      "time 2.526 cat_cov 99.0 cov 100.0 nov 0.851 ser 0.165 m1 0.354 m10 0.472 sum 3.832\n"
     ]
    },
    {
     "name": "stderr",
     "output_type": "stream",
     "text": [
      "\u001b[32m[I 2023-05-06 20:53:03,559]\u001b[0m Trial 42 finished with value: 3.8488335821901103 and parameters: {'svd': 1.8000000000000003, 'lfm_cos': 1.4000000000000004, 'nn': -1.6, 'knn': 1.8000000000000003, 'catboost_doc2vec': -1.8, 'quality': -1.2999999999999998, 'volume': -1.6}. Best is trial 14 with value: 3.8532690329499464.\u001b[0m\n"
     ]
    },
    {
     "name": "stdout",
     "output_type": "stream",
     "text": [
      "time 2.538 cat_cov 100.0 cov 100.0 nov 0.858 ser 0.169 m1 0.353 m10 0.468 sum 3.849\n"
     ]
    },
    {
     "name": "stderr",
     "output_type": "stream",
     "text": [
      "\u001b[32m[I 2023-05-06 20:53:06,195]\u001b[0m Trial 43 finished with value: 3.82564165905917 and parameters: {'svd': 1.5, 'lfm_cos': 1.7000000000000002, 'nn': -1.5, 'knn': 1.8000000000000003, 'catboost_doc2vec': -1.9, 'quality': -1.2999999999999998, 'volume': -1.6}. Best is trial 14 with value: 3.8532690329499464.\u001b[0m\n"
     ]
    },
    {
     "name": "stdout",
     "output_type": "stream",
     "text": [
      "time 2.618 cat_cov 99.0 cov 100.0 nov 0.862 ser 0.18 m1 0.342 m10 0.451 sum 3.826\n"
     ]
    },
    {
     "name": "stderr",
     "output_type": "stream",
     "text": [
      "\u001b[32m[I 2023-05-06 20:53:08,837]\u001b[0m Trial 44 finished with value: 3.821942459910342 and parameters: {'svd': 1.3000000000000003, 'lfm_cos': 0.7000000000000002, 'nn': -2.0, 'knn': 1.6, 'catboost_doc2vec': -1.6, 'quality': -1.2999999999999998, 'volume': -1.1}. Best is trial 14 with value: 3.8532690329499464.\u001b[0m\n"
     ]
    },
    {
     "name": "stdout",
     "output_type": "stream",
     "text": [
      "time 2.623 cat_cov 97.0 cov 100.0 nov 0.9 ser 0.17 m1 0.329 m10 0.453 sum 3.822\n"
     ]
    },
    {
     "name": "stderr",
     "output_type": "stream",
     "text": [
      "\u001b[32m[I 2023-05-06 20:53:11,408]\u001b[0m Trial 45 finished with value: 3.846371741577183 and parameters: {'svd': 1.8000000000000003, 'lfm_cos': 1.2000000000000002, 'nn': -1.6, 'knn': 1.3000000000000003, 'catboost_doc2vec': -1.8, 'quality': -1.6, 'volume': -2.0}. Best is trial 14 with value: 3.8532690329499464.\u001b[0m\n"
     ]
    },
    {
     "name": "stdout",
     "output_type": "stream",
     "text": [
      "time 2.553 cat_cov 99.0 cov 100.0 nov 0.875 ser 0.175 m1 0.346 m10 0.459 sum 3.846\n"
     ]
    },
    {
     "name": "stderr",
     "output_type": "stream",
     "text": [
      "\u001b[32m[I 2023-05-06 20:53:13,842]\u001b[0m Trial 46 finished with value: 3.76105897781646 and parameters: {'svd': 1.5, 'lfm_cos': 0.10000000000000009, 'nn': -1.6, 'knn': 1.3000000000000003, 'catboost_doc2vec': -1.8, 'quality': -1.5, 'volume': -2.0}. Best is trial 14 with value: 3.8532690329499464.\u001b[0m\n"
     ]
    },
    {
     "name": "stdout",
     "output_type": "stream",
     "text": [
      "time 2.415 cat_cov 96.0 cov 100.0 nov 0.898 ser 0.132 m1 0.318 m10 0.453 sum 3.761\n"
     ]
    },
    {
     "name": "stderr",
     "output_type": "stream",
     "text": [
      "\u001b[32m[I 2023-05-06 20:53:16,745]\u001b[0m Trial 47 finished with value: 3.6948313705401805 and parameters: {'svd': -1.4, 'lfm_cos': 1.2000000000000002, 'nn': -1.4, 'knn': 1.8000000000000003, 'catboost_doc2vec': -1.4, 'quality': -2.0, 'volume': -1.2999999999999998}. Best is trial 14 with value: 3.8532690329499464.\u001b[0m\n"
     ]
    },
    {
     "name": "stdout",
     "output_type": "stream",
     "text": [
      "time 2.885 cat_cov 99.0 cov 100.0 nov 0.933 ser 0.214 m1 0.21 m10 0.347 sum 3.695\n"
     ]
    },
    {
     "name": "stderr",
     "output_type": "stream",
     "text": [
      "\u001b[32m[I 2023-05-06 20:53:19,269]\u001b[0m Trial 48 finished with value: 3.8334491837865583 and parameters: {'svd': 1.9000000000000004, 'lfm_cos': 0.8000000000000003, 'nn': -1.8, 'knn': 1.2000000000000002, 'catboost_doc2vec': -2.0, 'quality': -0.7, 'volume': -1.5}. Best is trial 14 with value: 3.8532690329499464.\u001b[0m\n"
     ]
    },
    {
     "name": "stdout",
     "output_type": "stream",
     "text": [
      "time 2.504 cat_cov 99.0 cov 100.0 nov 0.878 ser 0.165 m1 0.338 m10 0.462 sum 3.833\n"
     ]
    },
    {
     "name": "stderr",
     "output_type": "stream",
     "text": [
      "\u001b[32m[I 2023-05-06 20:53:22,104]\u001b[0m Trial 49 finished with value: 3.729442515456093 and parameters: {'svd': 0.9000000000000004, 'lfm_cos': 1.2000000000000002, 'nn': -1.0, 'knn': -1.0, 'catboost_doc2vec': -1.4, 'quality': -1.8, 'volume': -1.8}. Best is trial 14 with value: 3.8532690329499464.\u001b[0m\n"
     ]
    },
    {
     "name": "stdout",
     "output_type": "stream",
     "text": [
      "time 2.817 cat_cov 97.0 cov 100.0 nov 0.947 ser 0.23 m1 0.223 m10 0.36 sum 3.729\n"
     ]
    },
    {
     "name": "stderr",
     "output_type": "stream",
     "text": [
      "\u001b[32m[I 2023-05-06 20:53:24,693]\u001b[0m Trial 50 finished with value: 3.70979396507869 and parameters: {'svd': -0.3999999999999999, 'lfm_cos': -0.2999999999999998, 'nn': -1.8, 'knn': 0.9000000000000004, 'catboost_doc2vec': -1.8, 'quality': -1.1, 'volume': -2.0}. Best is trial 14 with value: 3.8532690329499464.\u001b[0m\n"
     ]
    },
    {
     "name": "stdout",
     "output_type": "stream",
     "text": [
      "time 2.571 cat_cov 100.0 cov 100.0 nov 1.018 ser 0.184 m1 0.179 m10 0.329 sum 3.71\n"
     ]
    },
    {
     "name": "stderr",
     "output_type": "stream",
     "text": [
      "\u001b[32m[I 2023-05-06 20:53:27,405]\u001b[0m Trial 51 finished with value: 3.8459666245837503 and parameters: {'svd': 1.7000000000000002, 'lfm_cos': 1.5, 'nn': -1.6, 'knn': 1.5, 'catboost_doc2vec': 0.5, 'quality': -1.4, 'volume': -1.4}. Best is trial 14 with value: 3.8532690329499464.\u001b[0m\n"
     ]
    },
    {
     "name": "stdout",
     "output_type": "stream",
     "text": [
      "time 2.694 cat_cov 100.0 cov 100.0 nov 0.843 ser 0.178 m1 0.359 m10 0.466 sum 3.846\n"
     ]
    },
    {
     "name": "stderr",
     "output_type": "stream",
     "text": [
      "\u001b[32m[I 2023-05-06 20:53:30,036]\u001b[0m Trial 52 finished with value: 3.8481430532945953 and parameters: {'svd': 1.6, 'lfm_cos': 1.5, 'nn': -1.5, 'knn': 1.5, 'catboost_doc2vec': -2.0, 'quality': -1.5, 'volume': -1.4}. Best is trial 14 with value: 3.8532690329499464.\u001b[0m\n"
     ]
    },
    {
     "name": "stdout",
     "output_type": "stream",
     "text": [
      "time 2.611 cat_cov 100.0 cov 100.0 nov 0.87 ser 0.181 m1 0.345 m10 0.452 sum 3.848\n"
     ]
    },
    {
     "name": "stderr",
     "output_type": "stream",
     "text": [
      "\u001b[32m[I 2023-05-06 20:53:32,664]\u001b[0m Trial 53 finished with value: 3.8491299299407205 and parameters: {'svd': 1.5, 'lfm_cos': 1.3000000000000003, 'nn': -1.4, 'knn': 1.6, 'catboost_doc2vec': -2.0, 'quality': -1.6, 'volume': 1.3000000000000003}. Best is trial 14 with value: 3.8532690329499464.\u001b[0m\n"
     ]
    },
    {
     "name": "stdout",
     "output_type": "stream",
     "text": [
      "time 2.61 cat_cov 100.0 cov 100.0 nov 0.854 ser 0.174 m1 0.356 m10 0.465 sum 3.849\n"
     ]
    },
    {
     "name": "stderr",
     "output_type": "stream",
     "text": [
      "\u001b[32m[I 2023-05-06 20:53:35,378]\u001b[0m Trial 54 finished with value: 3.8325797352240953 and parameters: {'svd': 1.5, 'lfm_cos': 1.5, 'nn': -1.1, 'knn': 1.8000000000000003, 'catboost_doc2vec': -2.0, 'quality': -1.7, 'volume': 1.6}. Best is trial 14 with value: 3.8532690329499464.\u001b[0m\n"
     ]
    },
    {
     "name": "stdout",
     "output_type": "stream",
     "text": [
      "time 2.694 cat_cov 100.0 cov 100.0 nov 0.834 ser 0.17 m1 0.358 m10 0.471 sum 3.833\n"
     ]
    },
    {
     "name": "stderr",
     "output_type": "stream",
     "text": [
      "\u001b[32m[I 2023-05-06 20:53:38,066]\u001b[0m Trial 55 finished with value: 3.788330659770972 and parameters: {'svd': 1.2000000000000002, 'lfm_cos': 1.8000000000000003, 'nn': -0.7999999999999998, 'knn': 1.6, 'catboost_doc2vec': -1.6, 'quality': -1.1, 'volume': 1.2000000000000002}. Best is trial 14 with value: 3.8532690329499464.\u001b[0m\n"
     ]
    },
    {
     "name": "stdout",
     "output_type": "stream",
     "text": [
      "time 2.669 cat_cov 98.0 cov 100.0 nov 0.83 ser 0.179 m1 0.346 m10 0.453 sum 3.788\n"
     ]
    },
    {
     "name": "stderr",
     "output_type": "stream",
     "text": [
      "\u001b[32m[I 2023-05-06 20:53:40,829]\u001b[0m Trial 56 finished with value: 3.768221873689643 and parameters: {'svd': 1.6, 'lfm_cos': 0.8000000000000003, 'nn': -1.4, 'knn': -1.9, 'catboost_doc2vec': -0.8999999999999999, 'quality': -0.7999999999999998, 'volume': 2.0}. Best is trial 14 with value: 3.8532690329499464.\u001b[0m\n"
     ]
    },
    {
     "name": "stdout",
     "output_type": "stream",
     "text": [
      "time 2.743 cat_cov 96.0 cov 100.0 nov 0.928 ser 0.217 m1 0.27 m10 0.393 sum 3.768\n"
     ]
    },
    {
     "name": "stderr",
     "output_type": "stream",
     "text": [
      "\u001b[32m[I 2023-05-06 20:53:43,396]\u001b[0m Trial 57 finished with value: 3.839413467387364 and parameters: {'svd': 1.4000000000000004, 'lfm_cos': 1.3000000000000003, 'nn': -1.9, 'knn': 1.9000000000000004, 'catboost_doc2vec': -1.6, 'quality': -0.5999999999999999, 'volume': -1.0}. Best is trial 14 with value: 3.8532690329499464.\u001b[0m\n"
     ]
    },
    {
     "name": "stdout",
     "output_type": "stream",
     "text": [
      "time 2.548 cat_cov 99.0 cov 100.0 nov 0.869 ser 0.175 m1 0.347 m10 0.459 sum 3.839\n"
     ]
    },
    {
     "name": "stderr",
     "output_type": "stream",
     "text": [
      "\u001b[32m[I 2023-05-06 20:53:46,121]\u001b[0m Trial 58 finished with value: 3.8396135351565555 and parameters: {'svd': 1.9000000000000004, 'lfm_cos': 1.8000000000000003, 'nn': -1.2999999999999998, 'knn': 1.4000000000000004, 'catboost_doc2vec': -1.2999999999999998, 'quality': -1.4, 'volume': 1.3000000000000003}. Best is trial 14 with value: 3.8532690329499464.\u001b[0m\n"
     ]
    },
    {
     "name": "stdout",
     "output_type": "stream",
     "text": [
      "time 2.708 cat_cov 100.0 cov 100.0 nov 0.839 ser 0.179 m1 0.359 m10 0.462 sum 3.84\n"
     ]
    },
    {
     "name": "stderr",
     "output_type": "stream",
     "text": [
      "\u001b[32m[I 2023-05-06 20:53:48,640]\u001b[0m Trial 59 finished with value: 3.5151273286684988 and parameters: {'svd': -0.8999999999999999, 'lfm_cos': -1.2, 'nn': -0.8999999999999999, 'knn': 1.6, 'catboost_doc2vec': -1.9, 'quality': -1.0, 'volume': -1.2}. Best is trial 14 with value: 3.8532690329499464.\u001b[0m\n"
     ]
    },
    {
     "name": "stdout",
     "output_type": "stream",
     "text": [
      "time 2.499 cat_cov 97.0 cov 100.0 nov 0.869 ser 0.104 m1 0.196 m10 0.376 sum 3.515\n"
     ]
    },
    {
     "name": "stderr",
     "output_type": "stream",
     "text": [
      "\u001b[32m[I 2023-05-06 20:53:51,264]\u001b[0m Trial 60 finished with value: 3.7566297580147356 and parameters: {'svd': 0.8000000000000003, 'lfm_cos': 1.6, 'nn': 1.0, 'knn': 0.8000000000000003, 'catboost_doc2vec': -2.0, 'quality': -1.8, 'volume': -1.6}. Best is trial 14 with value: 3.8532690329499464.\u001b[0m\n"
     ]
    },
    {
     "name": "stdout",
     "output_type": "stream",
     "text": [
      "time 2.605 cat_cov 99.0 cov 100.0 nov 0.775 ser 0.157 m1 0.364 m10 0.47 sum 3.757\n"
     ]
    },
    {
     "name": "stderr",
     "output_type": "stream",
     "text": [
      "\u001b[32m[I 2023-05-06 20:53:53,859]\u001b[0m Trial 61 finished with value: 3.8561256226380265 and parameters: {'svd': 1.7000000000000002, 'lfm_cos': 1.3000000000000003, 'nn': -1.6, 'knn': 1.2000000000000002, 'catboost_doc2vec': -1.8, 'quality': -1.6, 'volume': -1.9}. Best is trial 61 with value: 3.8561256226380265.\u001b[0m\n"
     ]
    },
    {
     "name": "stdout",
     "output_type": "stream",
     "text": [
      "time 2.575 cat_cov 100.0 cov 100.0 nov 0.881 ser 0.183 m1 0.343 m10 0.45 sum 3.856\n"
     ]
    },
    {
     "name": "stderr",
     "output_type": "stream",
     "text": [
      "\u001b[32m[I 2023-05-06 20:53:56,435]\u001b[0m Trial 62 finished with value: 3.841620524717744 and parameters: {'svd': 2.0, 'lfm_cos': 1.3000000000000003, 'nn': -1.4, 'knn': 1.1, 'catboost_doc2vec': -1.7, 'quality': -1.5, 'volume': -1.7}. Best is trial 61 with value: 3.8561256226380265.\u001b[0m\n"
     ]
    },
    {
     "name": "stdout",
     "output_type": "stream",
     "text": [
      "time 2.558 cat_cov 99.0 cov 100.0 nov 0.863 ser 0.174 m1 0.351 m10 0.463 sum 3.842\n"
     ]
    },
    {
     "name": "stderr",
     "output_type": "stream",
     "text": [
      "\u001b[32m[I 2023-05-06 20:53:59,041]\u001b[0m Trial 63 finished with value: 3.851811520612793 and parameters: {'svd': 1.6, 'lfm_cos': 0.9000000000000004, 'nn': -1.7, 'knn': 1.4000000000000004, 'catboost_doc2vec': -1.8, 'quality': -1.2, 'volume': -1.4}. Best is trial 61 with value: 3.8561256226380265.\u001b[0m\n"
     ]
    },
    {
     "name": "stdout",
     "output_type": "stream",
     "text": [
      "time 2.587 cat_cov 100.0 cov 100.0 nov 0.88 ser 0.169 m1 0.342 m10 0.462 sum 3.852\n"
     ]
    },
    {
     "name": "stderr",
     "output_type": "stream",
     "text": [
      "\u001b[32m[I 2023-05-06 20:54:01,703]\u001b[0m Trial 64 finished with value: 3.866435812414425 and parameters: {'svd': 1.4000000000000004, 'lfm_cos': 0.9000000000000004, 'nn': -1.8, 'knn': 1.2000000000000002, 'catboost_doc2vec': -1.5, 'quality': -1.2, 'volume': -1.8}. Best is trial 64 with value: 3.866435812414425.\u001b[0m\n"
     ]
    },
    {
     "name": "stdout",
     "output_type": "stream",
     "text": [
      "time 2.643 cat_cov 100.0 cov 100.0 nov 0.901 ser 0.181 m1 0.337 m10 0.447 sum 3.866\n"
     ]
    },
    {
     "name": "stderr",
     "output_type": "stream",
     "text": [
      "\u001b[32m[I 2023-05-06 20:54:04,333]\u001b[0m Trial 65 finished with value: 3.8536402287264058 and parameters: {'svd': 1.2000000000000002, 'lfm_cos': 0.9000000000000004, 'nn': -2.0, 'knn': 0.9000000000000004, 'catboost_doc2vec': -1.5, 'quality': -0.19999999999999996, 'volume': 0.9000000000000004}. Best is trial 64 with value: 3.866435812414425.\u001b[0m\n"
     ]
    },
    {
     "name": "stdout",
     "output_type": "stream",
     "text": [
      "time 2.609 cat_cov 100.0 cov 100.0 nov 0.903 ser 0.197 m1 0.322 m10 0.432 sum 3.854\n"
     ]
    },
    {
     "name": "stderr",
     "output_type": "stream",
     "text": [
      "\u001b[32m[I 2023-05-06 20:54:06,888]\u001b[0m Trial 66 finished with value: 3.8692686416184503 and parameters: {'svd': 1.1, 'lfm_cos': 0.30000000000000027, 'nn': -2.0, 'knn': 0.8000000000000003, 'catboost_doc2vec': -1.0, 'quality': -0.19999999999999996, 'volume': -1.8}. Best is trial 66 with value: 3.8692686416184503.\u001b[0m\n"
     ]
    },
    {
     "name": "stdout",
     "output_type": "stream",
     "text": [
      "time 2.537 cat_cov 100.0 cov 100.0 nov 0.947 ser 0.178 m1 0.309 m10 0.435 sum 3.869\n"
     ]
    },
    {
     "name": "stderr",
     "output_type": "stream",
     "text": [
      "\u001b[32m[I 2023-05-06 20:54:09,410]\u001b[0m Trial 67 finished with value: 3.863002188730251 and parameters: {'svd': 1.1, 'lfm_cos': 0.20000000000000018, 'nn': -2.0, 'knn': 0.5, 'catboost_doc2vec': -1.0, 'quality': -0.09999999999999987, 'volume': -1.8}. Best is trial 66 with value: 3.8692686416184503.\u001b[0m\n"
     ]
    },
    {
     "name": "stdout",
     "output_type": "stream",
     "text": [
      "time 2.503 cat_cov 99.0 cov 100.0 nov 0.962 ser 0.181 m1 0.302 m10 0.428 sum 3.863\n"
     ]
    },
    {
     "name": "stderr",
     "output_type": "stream",
     "text": [
      "\u001b[32m[I 2023-05-06 20:54:12,008]\u001b[0m Trial 68 finished with value: 3.840892503177806 and parameters: {'svd': 1.0, 'lfm_cos': 0.20000000000000018, 'nn': -2.0, 'knn': 0.40000000000000036, 'catboost_doc2vec': -1.0, 'quality': -0.19999999999999996, 'volume': 0.8000000000000003}. Best is trial 66 with value: 3.8692686416184503.\u001b[0m\n"
     ]
    },
    {
     "name": "stdout",
     "output_type": "stream",
     "text": [
      "time 2.578 cat_cov 99.0 cov 100.0 nov 0.933 ser 0.188 m1 0.301 m10 0.428 sum 3.841\n"
     ]
    },
    {
     "name": "stderr",
     "output_type": "stream",
     "text": [
      "\u001b[32m[I 2023-05-06 20:54:14,463]\u001b[0m Trial 69 finished with value: 3.8245128730357276 and parameters: {'svd': 0.5, 'lfm_cos': -0.19999999999999996, 'nn': -1.9, 'knn': 0.7000000000000002, 'catboost_doc2vec': -0.7, 'quality': -0.09999999999999987, 'volume': -1.9}. Best is trial 66 with value: 3.8692686416184503.\u001b[0m\n"
     ]
    },
    {
     "name": "stdout",
     "output_type": "stream",
     "text": [
      "time 2.435 cat_cov 100.0 cov 100.0 nov 0.987 ser 0.161 m1 0.271 m10 0.405 sum 3.825\n"
     ]
    },
    {
     "name": "stderr",
     "output_type": "stream",
     "text": [
      "\u001b[32m[I 2023-05-06 20:54:17,025]\u001b[0m Trial 70 finished with value: 3.873849278753242 and parameters: {'svd': 1.1, 'lfm_cos': 0.40000000000000036, 'nn': -2.0, 'knn': 0.5, 'catboost_doc2vec': -0.3999999999999999, 'quality': 0.30000000000000027, 'volume': -1.8}. Best is trial 70 with value: 3.873849278753242.\u001b[0m\n"
     ]
    },
    {
     "name": "stdout",
     "output_type": "stream",
     "text": [
      "time 2.54 cat_cov 100.0 cov 100.0 nov 0.941 ser 0.189 m1 0.311 m10 0.432 sum 3.874\n"
     ]
    },
    {
     "name": "stderr",
     "output_type": "stream",
     "text": [
      "\u001b[32m[I 2023-05-06 20:54:19,605]\u001b[0m Trial 71 finished with value: 3.8693344847499076 and parameters: {'svd': 1.2000000000000002, 'lfm_cos': 0.40000000000000036, 'nn': -2.0, 'knn': 0.5, 'catboost_doc2vec': -0.2999999999999998, 'quality': 0.20000000000000018, 'volume': -1.9}. Best is trial 70 with value: 3.873849278753242.\u001b[0m\n"
     ]
    },
    {
     "name": "stdout",
     "output_type": "stream",
     "text": [
      "time 2.561 cat_cov 100.0 cov 100.0 nov 0.936 ser 0.187 m1 0.312 m10 0.435 sum 3.869\n"
     ]
    },
    {
     "name": "stderr",
     "output_type": "stream",
     "text": [
      "\u001b[32m[I 2023-05-06 20:54:22,365]\u001b[0m Trial 72 finished with value: 3.8864245516848746 and parameters: {'svd': 0.7000000000000002, 'lfm_cos': 0.40000000000000036, 'nn': -2.0, 'knn': 0.5, 'catboost_doc2vec': -0.5, 'quality': 0.40000000000000036, 'volume': -1.9}. Best is trial 72 with value: 3.8864245516848746.\u001b[0m\n"
     ]
    },
    {
     "name": "stdout",
     "output_type": "stream",
     "text": [
      "time 2.741 cat_cov 100.0 cov 100.0 nov 0.964 ser 0.2 m1 0.304 m10 0.418 sum 3.886\n"
     ]
    },
    {
     "name": "stderr",
     "output_type": "stream",
     "text": [
      "\u001b[32m[I 2023-05-06 20:54:24,982]\u001b[0m Trial 73 finished with value: 3.8835905568807982 and parameters: {'svd': 0.8000000000000003, 'lfm_cos': 0.40000000000000036, 'nn': -2.0, 'knn': 0.5, 'catboost_doc2vec': -0.3999999999999999, 'quality': 0.30000000000000027, 'volume': -1.8}. Best is trial 72 with value: 3.8864245516848746.\u001b[0m\n"
     ]
    },
    {
     "name": "stdout",
     "output_type": "stream",
     "text": [
      "time 2.596 cat_cov 100.0 cov 100.0 nov 0.957 ser 0.198 m1 0.306 m10 0.422 sum 3.884\n"
     ]
    },
    {
     "name": "stderr",
     "output_type": "stream",
     "text": [
      "\u001b[32m[I 2023-05-06 20:54:27,607]\u001b[0m Trial 74 finished with value: 3.846654830745016 and parameters: {'svd': 0.6000000000000001, 'lfm_cos': 0.40000000000000036, 'nn': -1.9, 'knn': 0.0, 'catboost_doc2vec': -0.3999999999999999, 'quality': 0.40000000000000036, 'volume': -1.9}. Best is trial 72 with value: 3.8864245516848746.\u001b[0m\n"
     ]
    },
    {
     "name": "stdout",
     "output_type": "stream",
     "text": [
      "time 2.606 cat_cov 99.0 cov 100.0 nov 0.965 ser 0.214 m1 0.28 m10 0.398 sum 3.847\n"
     ]
    },
    {
     "name": "stderr",
     "output_type": "stream",
     "text": [
      "\u001b[32m[I 2023-05-06 20:54:30,070]\u001b[0m Trial 75 finished with value: 3.8616064484314885 and parameters: {'svd': 0.8000000000000003, 'lfm_cos': -0.09999999999999987, 'nn': -1.8, 'knn': 0.30000000000000027, 'catboost_doc2vec': -0.5999999999999999, 'quality': 0.20000000000000018, 'volume': -1.8}. Best is trial 72 with value: 3.8864245516848746.\u001b[0m\n"
     ]
    },
    {
     "name": "stdout",
     "output_type": "stream",
     "text": [
      "time 2.443 cat_cov 100.0 cov 100.0 nov 0.987 ser 0.168 m1 0.288 m10 0.419 sum 3.862\n"
     ]
    },
    {
     "name": "stderr",
     "output_type": "stream",
     "text": [
      "\u001b[32m[I 2023-05-06 20:54:32,706]\u001b[0m Trial 76 finished with value: 3.827366817390263 and parameters: {'svd': 0.8000000000000003, 'lfm_cos': -0.09999999999999987, 'nn': -1.8, 'knn': 0.40000000000000036, 'catboost_doc2vec': -0.5999999999999999, 'quality': 0.40000000000000036, 'volume': -1.8}. Best is trial 72 with value: 3.8864245516848746.\u001b[0m\n"
     ]
    },
    {
     "name": "stdout",
     "output_type": "stream",
     "text": [
      "time 2.616 cat_cov 97.0 cov 100.0 nov 0.98 ser 0.164 m1 0.292 m10 0.421 sum 3.827\n"
     ]
    },
    {
     "name": "stderr",
     "output_type": "stream",
     "text": [
      "\u001b[32m[I 2023-05-06 20:54:35,273]\u001b[0m Trial 77 finished with value: 3.8715305654490084 and parameters: {'svd': 0.9000000000000004, 'lfm_cos': 0.30000000000000027, 'nn': -2.0, 'knn': 0.5, 'catboost_doc2vec': -0.2999999999999998, 'quality': 0.20000000000000018, 'volume': -1.8}. Best is trial 72 with value: 3.8864245516848746.\u001b[0m\n"
     ]
    },
    {
     "name": "stdout",
     "output_type": "stream",
     "text": [
      "time 2.549 cat_cov 99.0 cov 100.0 nov 0.958 ser 0.19 m1 0.306 m10 0.427 sum 3.872\n"
     ]
    },
    {
     "name": "stderr",
     "output_type": "stream",
     "text": [
      "\u001b[32m[I 2023-05-06 20:54:37,998]\u001b[0m Trial 78 finished with value: 3.8492474290193166 and parameters: {'svd': 0.20000000000000018, 'lfm_cos': 0.30000000000000027, 'nn': -2.0, 'knn': 0.5, 'catboost_doc2vec': -0.19999999999999996, 'quality': 0.20000000000000018, 'volume': -1.5}. Best is trial 72 with value: 3.8864245516848746.\u001b[0m\n"
     ]
    },
    {
     "name": "stdout",
     "output_type": "stream",
     "text": [
      "time 2.704 cat_cov 100.0 cov 100.0 nov 0.992 ser 0.214 m1 0.261 m10 0.383 sum 3.849\n"
     ]
    },
    {
     "name": "stderr",
     "output_type": "stream",
     "text": [
      "\u001b[32m[I 2023-05-06 20:54:40,714]\u001b[0m Trial 79 finished with value: 3.855354230245645 and parameters: {'svd': 1.0, 'lfm_cos': 0.6000000000000001, 'nn': -2.0, 'knn': 0.10000000000000009, 'catboost_doc2vec': -0.2999999999999998, 'quality': 0.6000000000000001, 'volume': -1.6}. Best is trial 72 with value: 3.8864245516848746.\u001b[0m\n"
     ]
    },
    {
     "name": "stdout",
     "output_type": "stream",
     "text": [
      "time 2.698 cat_cov 100.0 cov 100.0 nov 0.936 ser 0.208 m1 0.298 m10 0.413 sum 3.855\n"
     ]
    },
    {
     "name": "stderr",
     "output_type": "stream",
     "text": [
      "\u001b[32m[I 2023-05-06 20:54:43,306]\u001b[0m Trial 80 finished with value: 3.8619467963384624 and parameters: {'svd': 0.7000000000000002, 'lfm_cos': 0.10000000000000009, 'nn': -1.8, 'knn': -0.19999999999999996, 'catboost_doc2vec': -0.7999999999999998, 'quality': 0.40000000000000036, 'volume': -2.0}. Best is trial 72 with value: 3.8864245516848746.\u001b[0m\n"
     ]
    },
    {
     "name": "stdout",
     "output_type": "stream",
     "text": [
      "time 2.572 cat_cov 99.0 cov 100.0 nov 0.98 ser 0.204 m1 0.28 m10 0.408 sum 3.862\n"
     ]
    },
    {
     "name": "stderr",
     "output_type": "stream",
     "text": [
      "\u001b[32m[I 2023-05-06 20:54:45,893]\u001b[0m Trial 81 finished with value: 3.845923462776998 and parameters: {'svd': 0.7000000000000002, 'lfm_cos': 0.10000000000000009, 'nn': -1.9, 'knn': -0.2999999999999998, 'catboost_doc2vec': -0.7999999999999998, 'quality': 0.40000000000000036, 'volume': -2.0}. Best is trial 72 with value: 3.8864245516848746.\u001b[0m\n"
     ]
    },
    {
     "name": "stdout",
     "output_type": "stream",
     "text": [
      "time 2.568 cat_cov 98.0 cov 100.0 nov 0.98 ser 0.206 m1 0.276 m10 0.404 sum 3.846\n"
     ]
    },
    {
     "name": "stderr",
     "output_type": "stream",
     "text": [
      "\u001b[32m[I 2023-05-06 20:54:48,558]\u001b[0m Trial 82 finished with value: 3.8253468136411373 and parameters: {'svd': 1.1, 'lfm_cos': 0.30000000000000027, 'nn': -1.8, 'knn': 0.5, 'catboost_doc2vec': -0.5, 'quality': 0.7000000000000002, 'volume': -1.8}. Best is trial 72 with value: 3.8864245516848746.\u001b[0m\n"
     ]
    },
    {
     "name": "stdout",
     "output_type": "stream",
     "text": [
      "time 2.646 cat_cov 96.0 cov 100.0 nov 0.936 ser 0.179 m1 0.313 m10 0.437 sum 3.825\n"
     ]
    },
    {
     "name": "stderr",
     "output_type": "stream",
     "text": [
      "\u001b[32m[I 2023-05-06 20:54:51,351]\u001b[0m Trial 83 finished with value: 3.737812772607333 and parameters: {'svd': 0.40000000000000036, 'lfm_cos': 0.5, 'nn': -1.9, 'knn': -0.5999999999999999, 'catboost_doc2vec': -0.8999999999999999, 'quality': 0.0, 'volume': -1.9}. Best is trial 72 with value: 3.8864245516848746.\u001b[0m\n"
     ]
    },
    {
     "name": "stdout",
     "output_type": "stream",
     "text": [
      "time 2.773 cat_cov 96.0 cov 100.0 nov 0.973 ser 0.229 m1 0.221 m10 0.355 sum 3.738\n"
     ]
    },
    {
     "name": "stderr",
     "output_type": "stream",
     "text": [
      "\u001b[32m[I 2023-05-06 20:54:53,972]\u001b[0m Trial 84 finished with value: 3.8781961079008673 and parameters: {'svd': 0.9000000000000004, 'lfm_cos': 0.20000000000000018, 'nn': -2.0, 'knn': 0.20000000000000018, 'catboost_doc2vec': -0.3999999999999999, 'quality': 0.30000000000000027, 'volume': -1.7}. Best is trial 72 with value: 3.8864245516848746.\u001b[0m\n"
     ]
    },
    {
     "name": "stdout",
     "output_type": "stream",
     "text": [
      "time 2.601 cat_cov 100.0 cov 100.0 nov 0.968 ser 0.193 m1 0.295 m10 0.421 sum 3.878\n"
     ]
    },
    {
     "name": "stderr",
     "output_type": "stream",
     "text": [
      "\u001b[32m[I 2023-05-06 20:54:56,664]\u001b[0m Trial 85 finished with value: 3.8645199238534382 and parameters: {'svd': 0.9000000000000004, 'lfm_cos': 0.5, 'nn': -2.0, 'knn': 0.20000000000000018, 'catboost_doc2vec': -0.3999999999999999, 'quality': 0.10000000000000009, 'volume': -1.7}. Best is trial 72 with value: 3.8864245516848746.\u001b[0m\n"
     ]
    },
    {
     "name": "stdout",
     "output_type": "stream",
     "text": [
      "time 2.671 cat_cov 100.0 cov 100.0 nov 0.949 ser 0.207 m1 0.297 m10 0.412 sum 3.865\n"
     ]
    },
    {
     "name": "stderr",
     "output_type": "stream",
     "text": [
      "\u001b[32m[I 2023-05-06 20:54:59,320]\u001b[0m Trial 86 finished with value: 3.8498850710806183 and parameters: {'svd': 0.9000000000000004, 'lfm_cos': 0.6000000000000001, 'nn': -1.7, 'knn': 0.10000000000000009, 'catboost_doc2vec': -0.09999999999999987, 'quality': 0.30000000000000027, 'volume': -1.6}. Best is trial 72 with value: 3.8864245516848746.\u001b[0m\n"
     ]
    },
    {
     "name": "stdout",
     "output_type": "stream",
     "text": [
      "time 2.636 cat_cov 100.0 cov 100.0 nov 0.934 ser 0.21 m1 0.296 m10 0.41 sum 3.85\n"
     ]
    },
    {
     "name": "stderr",
     "output_type": "stream",
     "text": [
      "\u001b[32m[I 2023-05-06 20:55:02,120]\u001b[0m Trial 87 finished with value: 3.7812490443199986 and parameters: {'svd': 0.0, 'lfm_cos': 0.40000000000000036, 'nn': -2.0, 'knn': 0.20000000000000018, 'catboost_doc2vec': -0.3999999999999999, 'quality': 0.10000000000000009, 'volume': -1.7}. Best is trial 72 with value: 3.8864245516848746.\u001b[0m\n"
     ]
    },
    {
     "name": "stdout",
     "output_type": "stream",
     "text": [
      "time 2.78 cat_cov 99.0 cov 100.0 nov 1.001 ser 0.231 m1 0.211 m10 0.348 sum 3.781\n"
     ]
    },
    {
     "name": "stderr",
     "output_type": "stream",
     "text": [
      "\u001b[32m[I 2023-05-06 20:55:04,657]\u001b[0m Trial 88 finished with value: 3.8619020478420163 and parameters: {'svd': 1.2000000000000002, 'lfm_cos': 0.5, 'nn': -1.9, 'knn': 0.7000000000000002, 'catboost_doc2vec': 0.10000000000000009, 'quality': 0.30000000000000027, 'volume': -1.5}. Best is trial 72 with value: 3.8864245516848746.\u001b[0m\n"
     ]
    },
    {
     "name": "stdout",
     "output_type": "stream",
     "text": [
      "time 2.517 cat_cov 100.0 cov 100.0 nov 0.91 ser 0.184 m1 0.324 m10 0.444 sum 3.862\n"
     ]
    },
    {
     "name": "stderr",
     "output_type": "stream",
     "text": [
      "\u001b[32m[I 2023-05-06 20:55:07,424]\u001b[0m Trial 89 finished with value: 3.811730593229529 and parameters: {'svd': 0.6000000000000001, 'lfm_cos': 0.7000000000000002, 'nn': -1.8, 'knn': 0.20000000000000018, 'catboost_doc2vec': -0.19999999999999996, 'quality': 0.5, 'volume': -1.7}. Best is trial 72 with value: 3.8864245516848746.\u001b[0m\n"
     ]
    },
    {
     "name": "stdout",
     "output_type": "stream",
     "text": [
      "time 2.748 cat_cov 100.0 cov 100.0 nov 0.947 ser 0.22 m1 0.26 m10 0.385 sum 3.812\n"
     ]
    },
    {
     "name": "stderr",
     "output_type": "stream",
     "text": [
      "\u001b[32m[I 2023-05-06 20:55:09,938]\u001b[0m Trial 90 finished with value: 3.8433703728803863 and parameters: {'svd': 1.0, 'lfm_cos': 0.20000000000000018, 'nn': -1.7, 'knn': 0.8000000000000003, 'catboost_doc2vec': -0.5, 'quality': 0.10000000000000009, 'volume': -1.9}. Best is trial 72 with value: 3.8864245516848746.\u001b[0m\n"
     ]
    },
    {
     "name": "stdout",
     "output_type": "stream",
     "text": [
      "time 2.493 cat_cov 99.0 cov 100.0 nov 0.937 ser 0.163 m1 0.312 m10 0.441 sum 3.843\n"
     ]
    },
    {
     "name": "stderr",
     "output_type": "stream",
     "text": [
      "\u001b[32m[I 2023-05-06 20:55:12,473]\u001b[0m Trial 91 finished with value: 3.866144958072674 and parameters: {'svd': 1.1, 'lfm_cos': 0.20000000000000018, 'nn': -2.0, 'knn': 0.5, 'catboost_doc2vec': -0.2999999999999998, 'quality': 0.5, 'volume': -1.8}. Best is trial 72 with value: 3.8864245516848746.\u001b[0m\n"
     ]
    },
    {
     "name": "stdout",
     "output_type": "stream",
     "text": [
      "time 2.517 cat_cov 100.0 cov 100.0 nov 0.951 ser 0.176 m1 0.306 m10 0.433 sum 3.866\n"
     ]
    },
    {
     "name": "stderr",
     "output_type": "stream",
     "text": [
      "\u001b[32m[I 2023-05-06 20:55:14,942]\u001b[0m Trial 92 finished with value: 3.7687948682860015 and parameters: {'svd': 0.9000000000000004, 'lfm_cos': 0.0, 'nn': -2.0, 'knn': 0.6000000000000001, 'catboost_doc2vec': -0.2999999999999998, 'quality': 0.8000000000000003, 'volume': -1.5}. Best is trial 72 with value: 3.8864245516848746.\u001b[0m\n"
     ]
    },
    {
     "name": "stdout",
     "output_type": "stream",
     "text": [
      "time 2.449 cat_cov 91.0 cov 100.0 nov 0.964 ser 0.161 m1 0.303 m10 0.43 sum 3.769\n"
     ]
    },
    {
     "name": "stderr",
     "output_type": "stream",
     "text": [
      "\u001b[32m[I 2023-05-06 20:55:17,566]\u001b[0m Trial 93 finished with value: 3.8509831577470655 and parameters: {'svd': 1.2000000000000002, 'lfm_cos': 0.30000000000000027, 'nn': -1.9, 'knn': 0.30000000000000027, 'catboost_doc2vec': -0.09999999999999987, 'quality': 0.5, 'volume': -1.7}. Best is trial 72 with value: 3.8864245516848746.\u001b[0m\n"
     ]
    },
    {
     "name": "stdout",
     "output_type": "stream",
     "text": [
      "time 2.605 cat_cov 99.0 cov 100.0 nov 0.933 ser 0.186 m1 0.307 m10 0.434 sum 3.851\n"
     ]
    },
    {
     "name": "stderr",
     "output_type": "stream",
     "text": [
      "\u001b[32m[I 2023-05-06 20:55:20,130]\u001b[0m Trial 94 finished with value: 3.8372745152927794 and parameters: {'svd': 1.4000000000000004, 'lfm_cos': 0.40000000000000036, 'nn': -1.7, 'knn': 0.0, 'catboost_doc2vec': 0.0, 'quality': 0.0, 'volume': -1.9}. Best is trial 72 with value: 3.8864245516848746.\u001b[0m\n"
     ]
    },
    {
     "name": "stdout",
     "output_type": "stream",
     "text": [
      "time 2.544 cat_cov 99.0 cov 100.0 nov 0.916 ser 0.192 m1 0.308 m10 0.432 sum 3.837\n"
     ]
    },
    {
     "name": "stderr",
     "output_type": "stream",
     "text": [
      "\u001b[32m[I 2023-05-06 20:55:22,568]\u001b[0m Trial 95 finished with value: 3.1253310998279438 and parameters: {'svd': 0.7000000000000002, 'lfm_cos': 0.0, 'nn': 2.0, 'knn': 0.6000000000000001, 'catboost_doc2vec': -0.19999999999999996, 'quality': 0.20000000000000018, 'volume': -1.6}. Best is trial 72 with value: 3.8864245516848746.\u001b[0m\n"
     ]
    },
    {
     "name": "stdout",
     "output_type": "stream",
     "text": [
      "time 2.418 cat_cov 54.0 cov 100.0 nov 0.686 ser 0.084 m1 0.342 m10 0.473 sum 3.125\n"
     ]
    },
    {
     "name": "stderr",
     "output_type": "stream",
     "text": [
      "\u001b[32m[I 2023-05-06 20:55:24,972]\u001b[0m Trial 96 finished with value: 3.7725096405122422 and parameters: {'svd': 0.9000000000000004, 'lfm_cos': -0.3999999999999999, 'nn': -2.0, 'knn': 0.40000000000000036, 'catboost_doc2vec': -0.3999999999999999, 'quality': 0.5, 'volume': -2.0}. Best is trial 72 with value: 3.8864245516848746.\u001b[0m\n"
     ]
    },
    {
     "name": "stdout",
     "output_type": "stream",
     "text": [
      "time 2.384 cat_cov 96.0 cov 100.0 nov 0.968 ser 0.142 m1 0.286 m10 0.416 sum 3.773\n"
     ]
    },
    {
     "name": "stderr",
     "output_type": "stream",
     "text": [
      "\u001b[32m[I 2023-05-06 20:55:27,561]\u001b[0m Trial 97 finished with value: 3.8637802030273045 and parameters: {'svd': 1.0, 'lfm_cos': 0.7000000000000002, 'nn': -1.8, 'knn': 0.8000000000000003, 'catboost_doc2vec': -0.7, 'quality': 1.0, 'volume': -1.8}. Best is trial 72 with value: 3.8864245516848746.\u001b[0m\n"
     ]
    },
    {
     "name": "stdout",
     "output_type": "stream",
     "text": [
      "time 2.568 cat_cov 99.0 cov 100.0 nov 0.915 ser 0.191 m1 0.328 m10 0.439 sum 3.864\n"
     ]
    },
    {
     "name": "stderr",
     "output_type": "stream",
     "text": [
      "\u001b[32m[I 2023-05-06 20:55:30,367]\u001b[0m Trial 98 finished with value: 3.857895197838502 and parameters: {'svd': 1.1, 'lfm_cos': 0.5, 'nn': -1.6, 'knn': 0.20000000000000018, 'catboost_doc2vec': -0.5, 'quality': 0.7000000000000002, 'volume': -1.4}. Best is trial 72 with value: 3.8864245516848746.\u001b[0m\n"
     ]
    },
    {
     "name": "stdout",
     "output_type": "stream",
     "text": [
      "time 2.785 cat_cov 100.0 cov 100.0 nov 0.919 ser 0.196 m1 0.313 m10 0.431 sum 3.858\n"
     ]
    },
    {
     "name": "stderr",
     "output_type": "stream",
     "text": [
      "\u001b[32m[I 2023-05-06 20:55:33,014]\u001b[0m Trial 99 finished with value: 3.8509612963415862 and parameters: {'svd': 1.2000000000000002, 'lfm_cos': 0.6000000000000001, 'nn': -1.9, 'knn': -0.09999999999999987, 'catboost_doc2vec': -0.2999999999999998, 'quality': 0.30000000000000027, 'volume': -1.6}. Best is trial 72 with value: 3.8864245516848746.\u001b[0m\n"
     ]
    },
    {
     "name": "stdout",
     "output_type": "stream",
     "text": [
      "time 2.626 cat_cov 100.0 cov 100.0 nov 0.93 ser 0.206 m1 0.299 m10 0.415 sum 3.851\n"
     ]
    },
    {
     "name": "stderr",
     "output_type": "stream",
     "text": [
      "\u001b[32m[I 2023-05-06 20:55:35,555]\u001b[0m Trial 100 finished with value: 3.8917800912812996 and parameters: {'svd': 0.5, 'lfm_cos': 0.30000000000000027, 'nn': -1.8, 'knn': 0.5, 'catboost_doc2vec': 0.20000000000000018, 'quality': -0.2999999999999998, 'volume': -2.0}. Best is trial 100 with value: 3.8917800912812996.\u001b[0m\n"
     ]
    },
    {
     "name": "stdout",
     "output_type": "stream",
     "text": [
      "time 2.521 cat_cov 100.0 cov 100.0 nov 0.999 ser 0.192 m1 0.291 m10 0.409 sum 3.892\n"
     ]
    },
    {
     "name": "stderr",
     "output_type": "stream",
     "text": [
      "\u001b[32m[I 2023-05-06 20:55:38,094]\u001b[0m Trial 101 finished with value: 3.888123434744156 and parameters: {'svd': 0.5, 'lfm_cos': 0.30000000000000027, 'nn': -1.8, 'knn': 0.5, 'catboost_doc2vec': 0.20000000000000018, 'quality': -0.3999999999999999, 'volume': -2.0}. Best is trial 100 with value: 3.8917800912812996.\u001b[0m\n"
     ]
    },
    {
     "name": "stdout",
     "output_type": "stream",
     "text": [
      "time 2.518 cat_cov 100.0 cov 100.0 nov 0.999 ser 0.193 m1 0.289 m10 0.407 sum 3.888\n"
     ]
    },
    {
     "name": "stderr",
     "output_type": "stream",
     "text": [
      "\u001b[32m[I 2023-05-06 20:55:40,544]\u001b[0m Trial 102 finished with value: 3.442636576643677 and parameters: {'svd': 0.20000000000000018, 'lfm_cos': 0.20000000000000018, 'nn': -1.7, 'knn': 0.5, 'catboost_doc2vec': 0.40000000000000036, 'quality': -0.3999999999999999, 'volume': -2.0}. Best is trial 100 with value: 3.8917800912812996.\u001b[0m\n"
     ]
    },
    {
     "name": "stdout",
     "output_type": "stream",
     "text": [
      "time 2.431 cat_cov 92.0 cov 100.0 nov 0.941 ser 0.155 m1 0.154 m10 0.272 sum 3.443\n"
     ]
    },
    {
     "name": "stderr",
     "output_type": "stream",
     "text": [
      "\u001b[32m[I 2023-05-06 20:55:43,132]\u001b[0m Trial 103 finished with value: 3.87510794857815 and parameters: {'svd': 0.5, 'lfm_cos': 0.30000000000000027, 'nn': -1.9, 'knn': 0.7000000000000002, 'catboost_doc2vec': 0.20000000000000018, 'quality': -0.2999999999999998, 'volume': -1.8}. Best is trial 100 with value: 3.8917800912812996.\u001b[0m\n"
     ]
    },
    {
     "name": "stdout",
     "output_type": "stream",
     "text": [
      "time 2.568 cat_cov 99.0 cov 100.0 nov 0.99 ser 0.188 m1 0.292 m10 0.414 sum 3.875\n"
     ]
    },
    {
     "name": "stderr",
     "output_type": "stream",
     "text": [
      "\u001b[32m[I 2023-05-06 20:55:45,428]\u001b[0m Trial 104 finished with value: 3.7561208927200784 and parameters: {'svd': 0.5, 'lfm_cos': -0.09999999999999987, 'nn': -1.6, 'knn': 0.7000000000000002, 'catboost_doc2vec': 0.10000000000000009, 'quality': -0.2999999999999998, 'volume': -1.9}. Best is trial 100 with value: 3.8917800912812996.\u001b[0m\n"
     ]
    },
    {
     "name": "stdout",
     "output_type": "stream",
     "text": [
      "time 2.276 cat_cov 93.0 cov 100.0 nov 0.999 ser 0.128 m1 0.282 m10 0.417 sum 3.756\n"
     ]
    },
    {
     "name": "stderr",
     "output_type": "stream",
     "text": [
      "\u001b[32m[I 2023-05-06 20:55:47,951]\u001b[0m Trial 105 finished with value: 3.878461186191301 and parameters: {'svd': 0.6000000000000001, 'lfm_cos': 0.30000000000000027, 'nn': -1.5, 'knn': 0.9000000000000004, 'catboost_doc2vec': 0.20000000000000018, 'quality': -0.5, 'volume': -2.0}. Best is trial 100 with value: 3.8917800912812996.\u001b[0m\n"
     ]
    },
    {
     "name": "stdout",
     "output_type": "stream",
     "text": [
      "time 2.503 cat_cov 99.0 cov 100.0 nov 0.966 ser 0.176 m1 0.309 m10 0.437 sum 3.878\n"
     ]
    },
    {
     "name": "stderr",
     "output_type": "stream",
     "text": [
      "\u001b[32m[I 2023-05-06 20:55:50,440]\u001b[0m Trial 106 finished with value: 3.8574931322739165 and parameters: {'svd': 0.40000000000000036, 'lfm_cos': 0.30000000000000027, 'nn': -1.9, 'knn': 1.0, 'catboost_doc2vec': 0.20000000000000018, 'quality': -0.5, 'volume': -2.0}. Best is trial 100 with value: 3.8917800912812996.\u001b[0m\n"
     ]
    },
    {
     "name": "stdout",
     "output_type": "stream",
     "text": [
      "time 2.469 cat_cov 99.0 cov 100.0 nov 0.996 ser 0.186 m1 0.278 m10 0.408 sum 3.857\n"
     ]
    },
    {
     "name": "stderr",
     "output_type": "stream",
     "text": [
      "\u001b[32m[I 2023-05-06 20:55:52,849]\u001b[0m Trial 107 finished with value: 3.6139762028181037 and parameters: {'svd': 0.6000000000000001, 'lfm_cos': 0.40000000000000036, 'nn': -1.5, 'knn': 0.9000000000000004, 'catboost_doc2vec': 0.7000000000000002, 'quality': -0.19999999999999996, 'volume': -1.9}. Best is trial 100 with value: 3.8917800912812996.\u001b[0m\n"
     ]
    },
    {
     "name": "stdout",
     "output_type": "stream",
     "text": [
      "time 2.389 cat_cov 96.0 cov 100.0 nov 0.88 ser 0.143 m1 0.261 m10 0.369 sum 3.614\n"
     ]
    },
    {
     "name": "stderr",
     "output_type": "stream",
     "text": [
      "\u001b[32m[I 2023-05-06 20:55:55,366]\u001b[0m Trial 108 finished with value: 3.34298076214011 and parameters: {'svd': 0.0, 'lfm_cos': 0.10000000000000009, 'nn': -1.7, 'knn': 0.7000000000000002, 'catboost_doc2vec': 0.30000000000000027, 'quality': -0.2999999999999998, 'volume': -2.0}. Best is trial 100 with value: 3.8917800912812996.\u001b[0m\n"
     ]
    },
    {
     "name": "stdout",
     "output_type": "stream",
     "text": [
      "time 2.497 cat_cov 81.0 cov 100.0 nov 0.935 ser 0.139 m1 0.178 m10 0.28 sum 3.343\n"
     ]
    },
    {
     "name": "stderr",
     "output_type": "stream",
     "text": [
      "\u001b[32m[I 2023-05-06 20:55:57,698]\u001b[0m Trial 109 finished with value: 3.604835889365234 and parameters: {'svd': 0.40000000000000036, 'lfm_cos': 0.0, 'nn': -1.6, 'knn': 0.40000000000000036, 'catboost_doc2vec': 0.20000000000000018, 'quality': -0.5, 'volume': -1.8}. Best is trial 100 with value: 3.8917800912812996.\u001b[0m\n"
     ]
    },
    {
     "name": "stdout",
     "output_type": "stream",
     "text": [
      "time 2.312 cat_cov 85.0 cov 100.0 nov 0.975 ser 0.134 m1 0.269 m10 0.377 sum 3.605\n"
     ]
    },
    {
     "name": "stderr",
     "output_type": "stream",
     "text": [
      "\u001b[32m[I 2023-05-06 20:56:00,178]\u001b[0m Trial 110 finished with value: 3.4483861319547042 and parameters: {'svd': 0.30000000000000027, 'lfm_cos': 0.30000000000000027, 'nn': 0.5, 'knn': 0.6000000000000001, 'catboost_doc2vec': 0.0, 'quality': -0.7, 'volume': -1.5}. Best is trial 100 with value: 3.8917800912812996.\u001b[0m\n"
     ]
    },
    {
     "name": "stdout",
     "output_type": "stream",
     "text": [
      "time 2.46 cat_cov 81.0 cov 100.0 nov 0.719 ser 0.101 m1 0.339 m10 0.48 sum 3.448\n"
     ]
    },
    {
     "name": "stderr",
     "output_type": "stream",
     "text": [
      "\u001b[32m[I 2023-05-06 20:56:02,612]\u001b[0m Trial 111 finished with value: 3.7055324066498083 and parameters: {'svd': 0.7000000000000002, 'lfm_cos': 0.40000000000000036, 'nn': -1.8, 'knn': 0.9000000000000004, 'catboost_doc2vec': 0.6000000000000001, 'quality': -0.3999999999999999, 'volume': -1.8}. Best is trial 100 with value: 3.8917800912812996.\u001b[0m\n"
     ]
    },
    {
     "name": "stdout",
     "output_type": "stream",
     "text": [
      "time 2.413 cat_cov 97.0 cov 100.0 nov 0.907 ser 0.153 m1 0.285 m10 0.391 sum 3.706\n"
     ]
    },
    {
     "name": "stderr",
     "output_type": "stream",
     "text": [
      "\u001b[32m[I 2023-05-06 20:56:05,202]\u001b[0m Trial 112 finished with value: 3.8567402381528417 and parameters: {'svd': 0.8000000000000003, 'lfm_cos': 0.7000000000000002, 'nn': -1.9, 'knn': 0.8000000000000003, 'catboost_doc2vec': 0.20000000000000018, 'quality': 0.0, 'volume': -1.9}. Best is trial 100 with value: 3.8917800912812996.\u001b[0m\n"
     ]
    },
    {
     "name": "stdout",
     "output_type": "stream",
     "text": [
      "time 2.569 cat_cov 99.0 cov 100.0 nov 0.933 ser 0.203 m1 0.31 m10 0.421 sum 3.857\n"
     ]
    },
    {
     "name": "stderr",
     "output_type": "stream",
     "text": [
      "\u001b[32m[I 2023-05-06 20:56:07,688]\u001b[0m Trial 113 finished with value: 3.6144285358177015 and parameters: {'svd': 0.5, 'lfm_cos': 0.20000000000000018, 'nn': -1.8, 'knn': 0.30000000000000027, 'catboost_doc2vec': 0.40000000000000036, 'quality': -0.5999999999999999, 'volume': -1.7}. Best is trial 100 with value: 3.8917800912812996.\u001b[0m\n"
     ]
    },
    {
     "name": "stdout",
     "output_type": "stream",
     "text": [
      "time 2.465 cat_cov 96.0 cov 100.0 nov 0.935 ser 0.154 m1 0.23 m10 0.334 sum 3.614\n"
     ]
    },
    {
     "name": "stderr",
     "output_type": "stream",
     "text": [
      "\u001b[32m[I 2023-05-06 20:56:10,052]\u001b[0m Trial 114 finished with value: 3.69449086762111 and parameters: {'svd': 0.8000000000000003, 'lfm_cos': 0.10000000000000009, 'nn': -1.9, 'knn': 0.6000000000000001, 'catboost_doc2vec': 0.30000000000000027, 'quality': -0.19999999999999996, 'volume': -2.0}. Best is trial 100 with value: 3.8917800912812996.\u001b[0m\n"
     ]
    },
    {
     "name": "stdout",
     "output_type": "stream",
     "text": [
      "time 2.343 cat_cov 90.0 cov 100.0 nov 0.939 ser 0.137 m1 0.299 m10 0.419 sum 3.694\n"
     ]
    },
    {
     "name": "stderr",
     "output_type": "stream",
     "text": [
      "\u001b[32m[I 2023-05-06 20:56:12,666]\u001b[0m Trial 115 finished with value: 3.8576712159441455 and parameters: {'svd': 0.6000000000000001, 'lfm_cos': 0.6000000000000001, 'nn': -2.0, 'knn': 1.0, 'catboost_doc2vec': 0.0, 'quality': 0.30000000000000027, 'volume': -1.9}. Best is trial 100 with value: 3.8917800912812996.\u001b[0m\n"
     ]
    },
    {
     "name": "stdout",
     "output_type": "stream",
     "text": [
      "time 2.594 cat_cov 100.0 cov 100.0 nov 0.941 ser 0.201 m1 0.299 m10 0.418 sum 3.858\n"
     ]
    },
    {
     "name": "stderr",
     "output_type": "stream",
     "text": [
      "\u001b[32m[I 2023-05-06 20:56:15,013]\u001b[0m Trial 116 finished with value: 3.6656571813249217 and parameters: {'svd': 0.20000000000000018, 'lfm_cos': -0.7999999999999998, 'nn': -1.8, 'knn': 0.5, 'catboost_doc2vec': -0.19999999999999996, 'quality': -0.09999999999999987, 'volume': -1.7}. Best is trial 100 with value: 3.8917800912812996.\u001b[0m\n"
     ]
    },
    {
     "name": "stdout",
     "output_type": "stream",
     "text": [
      "time 2.327 cat_cov 97.0 cov 100.0 nov 0.977 ser 0.122 m1 0.228 m10 0.368 sum 3.666\n"
     ]
    },
    {
     "name": "stderr",
     "output_type": "stream",
     "text": [
      "\u001b[32m[I 2023-05-06 20:56:17,682]\u001b[0m Trial 117 finished with value: 3.8059992331652666 and parameters: {'svd': 0.10000000000000009, 'lfm_cos': 0.40000000000000036, 'nn': -1.5, 'knn': 0.30000000000000027, 'catboost_doc2vec': 0.10000000000000009, 'quality': 0.20000000000000018, 'volume': -1.6}. Best is trial 100 with value: 3.8917800912812996.\u001b[0m\n"
     ]
    },
    {
     "name": "stdout",
     "output_type": "stream",
     "text": [
      "time 2.648 cat_cov 99.0 cov 100.0 nov 1.003 ser 0.223 m1 0.227 m10 0.363 sum 3.806\n"
     ]
    },
    {
     "name": "stderr",
     "output_type": "stream",
     "text": [
      "\u001b[32m[I 2023-05-06 20:56:20,187]\u001b[0m Trial 118 finished with value: 3.6172437315214663 and parameters: {'svd': -0.19999999999999996, 'lfm_cos': -0.19999999999999996, 'nn': -1.7, 'knn': 0.7000000000000002, 'catboost_doc2vec': -0.09999999999999987, 'quality': 0.0, 'volume': -1.8}. Best is trial 100 with value: 3.8917800912812996.\u001b[0m\n"
     ]
    },
    {
     "name": "stdout",
     "output_type": "stream",
     "text": [
      "time 2.484 cat_cov 94.0 cov 100.0 nov 1.026 ser 0.135 m1 0.196 m10 0.319 sum 3.617\n"
     ]
    },
    {
     "name": "stderr",
     "output_type": "stream",
     "text": [
      "\u001b[32m[I 2023-05-06 20:56:22,818]\u001b[0m Trial 119 finished with value: 3.835526952618297 and parameters: {'svd': 0.7000000000000002, 'lfm_cos': 0.9000000000000004, 'nn': -1.9, 'knn': 1.1, 'catboost_doc2vec': -0.5999999999999999, 'quality': -0.3999999999999999, 'volume': -2.0}. Best is trial 100 with value: 3.8917800912812996.\u001b[0m\n"
     ]
    },
    {
     "name": "stdout",
     "output_type": "stream",
     "text": [
      "time 2.611 cat_cov 100.0 cov 100.0 nov 0.935 ser 0.204 m1 0.288 m10 0.409 sum 3.836\n"
     ]
    },
    {
     "name": "stderr",
     "output_type": "stream",
     "text": [
      "\u001b[32m[I 2023-05-06 20:56:25,340]\u001b[0m Trial 120 finished with value: 3.6984730886310393 and parameters: {'svd': 0.40000000000000036, 'lfm_cos': 0.5, 'nn': -1.8, 'knn': 0.8000000000000003, 'catboost_doc2vec': 0.5, 'quality': -0.5, 'volume': -1.8}. Best is trial 100 with value: 3.8917800912812996.\u001b[0m\n"
     ]
    },
    {
     "name": "stdout",
     "output_type": "stream",
     "text": [
      "time 2.501 cat_cov 98.0 cov 100.0 nov 0.927 ser 0.18 m1 0.25 m10 0.362 sum 3.698\n"
     ]
    },
    {
     "name": "stderr",
     "output_type": "stream",
     "text": [
      "\u001b[32m[I 2023-05-06 20:56:27,819]\u001b[0m Trial 121 finished with value: 3.855155863570351 and parameters: {'svd': 1.0, 'lfm_cos': 0.20000000000000018, 'nn': -2.0, 'knn': 0.5, 'catboost_doc2vec': -0.2999999999999998, 'quality': 0.5, 'volume': -1.9}. Best is trial 100 with value: 3.8917800912812996.\u001b[0m\n"
     ]
    },
    {
     "name": "stdout",
     "output_type": "stream",
     "text": [
      "time 2.459 cat_cov 98.0 cov 100.0 nov 0.958 ser 0.179 m1 0.306 m10 0.432 sum 3.855\n"
     ]
    },
    {
     "name": "stderr",
     "output_type": "stream",
     "text": [
      "\u001b[32m[I 2023-05-06 20:56:30,377]\u001b[0m Trial 122 finished with value: 3.85362331389509 and parameters: {'svd': 1.4000000000000004, 'lfm_cos': 0.30000000000000027, 'nn': -2.0, 'knn': 0.40000000000000036, 'catboost_doc2vec': -0.5, 'quality': 0.10000000000000009, 'volume': -1.7}. Best is trial 100 with value: 3.8917800912812996.\u001b[0m\n"
     ]
    },
    {
     "name": "stdout",
     "output_type": "stream",
     "text": [
      "time 2.539 cat_cov 100.0 cov 100.0 nov 0.931 ser 0.181 m1 0.307 m10 0.435 sum 3.854\n"
     ]
    },
    {
     "name": "stderr",
     "output_type": "stream",
     "text": [
      "\u001b[32m[I 2023-05-06 20:56:32,867]\u001b[0m Trial 123 finished with value: 3.8533280750575782 and parameters: {'svd': 1.1, 'lfm_cos': 0.20000000000000018, 'nn': -2.0, 'knn': 0.6000000000000001, 'catboost_doc2vec': -0.09999999999999987, 'quality': 0.6000000000000001, 'volume': -1.8}. Best is trial 100 with value: 3.8917800912812996.\u001b[0m\n"
     ]
    },
    {
     "name": "stdout",
     "output_type": "stream",
     "text": [
      "time 2.469 cat_cov 99.0 cov 100.0 nov 0.944 ser 0.172 m1 0.31 m10 0.437 sum 3.853\n"
     ]
    },
    {
     "name": "stderr",
     "output_type": "stream",
     "text": [
      "\u001b[32m[I 2023-05-06 20:56:35,316]\u001b[0m Trial 124 finished with value: 3.8385013460494313 and parameters: {'svd': 1.3000000000000003, 'lfm_cos': 0.10000000000000009, 'nn': -1.9, 'knn': 0.40000000000000036, 'catboost_doc2vec': -0.19999999999999996, 'quality': 0.20000000000000018, 'volume': -1.6}. Best is trial 100 with value: 3.8917800912812996.\u001b[0m\n"
     ]
    },
    {
     "name": "stdout",
     "output_type": "stream",
     "text": [
      "time 2.428 cat_cov 99.0 cov 100.0 nov 0.943 ser 0.165 m1 0.305 m10 0.436 sum 3.839\n"
     ]
    },
    {
     "name": "stderr",
     "output_type": "stream",
     "text": [
      "\u001b[32m[I 2023-05-06 20:56:37,842]\u001b[0m Trial 125 finished with value: 3.883518665504738 and parameters: {'svd': 0.8000000000000003, 'lfm_cos': 0.30000000000000027, 'nn': -1.8, 'knn': 0.5, 'catboost_doc2vec': -0.3999999999999999, 'quality': -0.7999999999999998, 'volume': -1.9}. Best is trial 100 with value: 3.8917800912812996.\u001b[0m\n"
     ]
    },
    {
     "name": "stdout",
     "output_type": "stream",
     "text": [
      "time 2.505 cat_cov 100.0 cov 100.0 nov 0.972 ser 0.195 m1 0.299 m10 0.418 sum 3.884\n"
     ]
    },
    {
     "name": "stderr",
     "output_type": "stream",
     "text": [
      "\u001b[32m[I 2023-05-06 20:56:40,445]\u001b[0m Trial 126 finished with value: 3.848666830709675 and parameters: {'svd': 0.6000000000000001, 'lfm_cos': 0.6000000000000001, 'nn': -1.7, 'knn': 0.9000000000000004, 'catboost_doc2vec': -0.7, 'quality': -0.7, 'volume': -1.9}. Best is trial 100 with value: 3.8917800912812996.\u001b[0m\n"
     ]
    },
    {
     "name": "stdout",
     "output_type": "stream",
     "text": [
      "time 2.581 cat_cov 100.0 cov 100.0 nov 0.955 ser 0.202 m1 0.286 m10 0.406 sum 3.849\n"
     ]
    },
    {
     "name": "stderr",
     "output_type": "stream",
     "text": [
      "\u001b[32m[I 2023-05-06 20:56:42,986]\u001b[0m Trial 127 finished with value: 3.8439956960755195 and parameters: {'svd': 0.8000000000000003, 'lfm_cos': 0.0, 'nn': -1.6, 'knn': 0.7000000000000002, 'catboost_doc2vec': -1.2, 'quality': -0.7999999999999998, 'volume': -2.0}. Best is trial 100 with value: 3.8917800912812996.\u001b[0m\n"
     ]
    },
    {
     "name": "stdout",
     "output_type": "stream",
     "text": [
      "time 2.521 cat_cov 98.0 cov 100.0 nov 0.977 ser 0.166 m1 0.296 m10 0.425 sum 3.844\n"
     ]
    },
    {
     "name": "stderr",
     "output_type": "stream",
     "text": [
      "\u001b[32m[I 2023-05-06 20:56:45,439]\u001b[0m Trial 128 finished with value: 3.5589076229086993 and parameters: {'svd': 0.5, 'lfm_cos': 0.5, 'nn': 1.2000000000000002, 'knn': 0.10000000000000009, 'catboost_doc2vec': -0.3999999999999999, 'quality': -0.2999999999999998, 'volume': -1.7}. Best is trial 100 with value: 3.8917800912812996.\u001b[0m\n"
     ]
    },
    {
     "name": "stdout",
     "output_type": "stream",
     "text": [
      "time 2.432 cat_cov 90.0 cov 100.0 nov 0.715 ser 0.111 m1 0.353 m10 0.48 sum 3.559\n"
     ]
    },
    {
     "name": "stderr",
     "output_type": "stream",
     "text": [
      "\u001b[32m[I 2023-05-06 20:56:47,833]\u001b[0m Trial 129 finished with value: 3.417361327705787 and parameters: {'svd': 0.9000000000000004, 'lfm_cos': 0.30000000000000027, 'nn': 0.20000000000000018, 'knn': 1.2000000000000002, 'catboost_doc2vec': 0.0, 'quality': -0.09999999999999987, 'volume': 0.40000000000000036}. Best is trial 100 with value: 3.8917800912812996.\u001b[0m\n"
     ]
    },
    {
     "name": "stdout",
     "output_type": "stream",
     "text": [
      "time 2.374 cat_cov 76.0 cov 100.0 nov 0.724 ser 0.095 m1 0.353 m10 0.486 sum 3.417\n"
     ]
    },
    {
     "name": "stderr",
     "output_type": "stream",
     "text": [
      "\u001b[32m[I 2023-05-06 20:56:50,404]\u001b[0m Trial 130 finished with value: 3.881904938140041 and parameters: {'svd': 0.7000000000000002, 'lfm_cos': 0.40000000000000036, 'nn': -1.8, 'knn': 0.6000000000000001, 'catboost_doc2vec': -0.7, 'quality': -0.2999999999999998, 'volume': -1.9}. Best is trial 100 with value: 3.8917800912812996.\u001b[0m\n"
     ]
    },
    {
     "name": "stdout",
     "output_type": "stream",
     "text": [
      "time 2.55 cat_cov 100.0 cov 100.0 nov 0.965 ser 0.198 m1 0.302 m10 0.416 sum 3.882\n"
     ]
    },
    {
     "name": "stderr",
     "output_type": "stream",
     "text": [
      "\u001b[32m[I 2023-05-06 20:56:53,054]\u001b[0m Trial 131 finished with value: 3.879711430790942 and parameters: {'svd': 0.7000000000000002, 'lfm_cos': 0.40000000000000036, 'nn': -1.8, 'knn': 0.6000000000000001, 'catboost_doc2vec': -0.5, 'quality': -0.5999999999999999, 'volume': -1.9}. Best is trial 100 with value: 3.8917800912812996.\u001b[0m\n"
     ]
    },
    {
     "name": "stdout",
     "output_type": "stream",
     "text": [
      "time 2.629 cat_cov 100.0 cov 100.0 nov 0.968 ser 0.199 m1 0.299 m10 0.414 sum 3.88\n"
     ]
    },
    {
     "name": "stderr",
     "output_type": "stream",
     "text": [
      "\u001b[32m[I 2023-05-06 20:56:55,615]\u001b[0m Trial 132 finished with value: 3.881102144810284 and parameters: {'svd': 0.7000000000000002, 'lfm_cos': 0.40000000000000036, 'nn': -1.8, 'knn': 0.6000000000000001, 'catboost_doc2vec': -0.5999999999999999, 'quality': -0.5, 'volume': -1.9}. Best is trial 100 with value: 3.8917800912812996.\u001b[0m\n"
     ]
    },
    {
     "name": "stdout",
     "output_type": "stream",
     "text": [
      "time 2.54 cat_cov 100.0 cov 100.0 nov 0.967 ser 0.199 m1 0.3 m10 0.414 sum 3.881\n"
     ]
    },
    {
     "name": "stderr",
     "output_type": "stream",
     "text": [
      "\u001b[32m[I 2023-05-06 20:56:58,183]\u001b[0m Trial 133 finished with value: 3.8797898706914538 and parameters: {'svd': 0.7000000000000002, 'lfm_cos': 0.40000000000000036, 'nn': -1.4, 'knn': 0.6000000000000001, 'catboost_doc2vec': -0.5999999999999999, 'quality': -0.5999999999999999, 'volume': -2.0}. Best is trial 100 with value: 3.8917800912812996.\u001b[0m\n"
     ]
    },
    {
     "name": "stdout",
     "output_type": "stream",
     "text": [
      "time 2.547 cat_cov 100.0 cov 100.0 nov 0.956 ser 0.194 m1 0.308 m10 0.423 sum 3.88\n"
     ]
    },
    {
     "name": "stderr",
     "output_type": "stream",
     "text": [
      "\u001b[32m[I 2023-05-06 20:57:00,745]\u001b[0m Trial 134 finished with value: 3.869789870691454 and parameters: {'svd': 0.7000000000000002, 'lfm_cos': 0.40000000000000036, 'nn': -1.4, 'knn': 0.6000000000000001, 'catboost_doc2vec': -0.5999999999999999, 'quality': -0.5999999999999999, 'volume': -2.0}. Best is trial 100 with value: 3.8917800912812996.\u001b[0m\n"
     ]
    },
    {
     "name": "stdout",
     "output_type": "stream",
     "text": [
      "time 2.539 cat_cov 99.0 cov 100.0 nov 0.956 ser 0.194 m1 0.308 m10 0.423 sum 3.87\n"
     ]
    },
    {
     "name": "stderr",
     "output_type": "stream",
     "text": [
      "\u001b[32m[I 2023-05-06 20:57:03,430]\u001b[0m Trial 135 finished with value: 3.8314211088911474 and parameters: {'svd': 0.6000000000000001, 'lfm_cos': 0.5, 'nn': -1.6, 'knn': 0.30000000000000027, 'catboost_doc2vec': -0.5999999999999999, 'quality': -0.7, 'volume': -1.9}. Best is trial 100 with value: 3.8917800912812996.\u001b[0m\n"
     ]
    },
    {
     "name": "stdout",
     "output_type": "stream",
     "text": [
      "time 2.664 cat_cov 99.0 cov 100.0 nov 0.97 ser 0.213 m1 0.268 m10 0.39 sum 3.831\n"
     ]
    },
    {
     "name": "stderr",
     "output_type": "stream",
     "text": [
      "\u001b[32m[I 2023-05-06 20:57:05,975]\u001b[0m Trial 136 finished with value: 3.870000753284098 and parameters: {'svd': 0.8000000000000003, 'lfm_cos': 0.30000000000000027, 'nn': -1.2999999999999998, 'knn': 0.40000000000000036, 'catboost_doc2vec': -0.7, 'quality': -0.5, 'volume': -2.0}. Best is trial 100 with value: 3.8917800912812996.\u001b[0m\n"
     ]
    },
    {
     "name": "stdout",
     "output_type": "stream",
     "text": [
      "time 2.525 cat_cov 99.0 cov 100.0 nov 0.956 ser 0.19 m1 0.308 m10 0.427 sum 3.87\n"
     ]
    },
    {
     "name": "stderr",
     "output_type": "stream",
     "text": [
      "\u001b[32m[I 2023-05-06 20:57:08,571]\u001b[0m Trial 137 finished with value: 3.8429540589043114 and parameters: {'svd': 0.5, 'lfm_cos': 0.5, 'nn': -1.7, 'knn': 0.7000000000000002, 'catboost_doc2vec': -0.5, 'quality': -0.3999999999999999, 'volume': -0.19999999999999996}. Best is trial 100 with value: 3.8917800912812996.\u001b[0m\n"
     ]
    },
    {
     "name": "stdout",
     "output_type": "stream",
     "text": [
      "time 2.574 cat_cov 100.0 cov 100.0 nov 0.946 ser 0.207 m1 0.286 m10 0.405 sum 3.843\n"
     ]
    },
    {
     "name": "stderr",
     "output_type": "stream",
     "text": [
      "\u001b[32m[I 2023-05-06 20:57:11,180]\u001b[0m Trial 138 finished with value: 3.825559878485256 and parameters: {'svd': 0.7000000000000002, 'lfm_cos': 0.7000000000000002, 'nn': -1.1, 'knn': 0.5, 'catboost_doc2vec': -0.7999999999999998, 'quality': -0.8999999999999999, 'volume': -1.9}. Best is trial 100 with value: 3.8917800912812996.\u001b[0m\n"
     ]
    },
    {
     "name": "stdout",
     "output_type": "stream",
     "text": [
      "time 2.587 cat_cov 100.0 cov 100.0 nov 0.934 ser 0.206 m1 0.282 m10 0.404 sum 3.826\n"
     ]
    },
    {
     "name": "stderr",
     "output_type": "stream",
     "text": [
      "\u001b[32m[I 2023-05-06 20:57:13,709]\u001b[0m Trial 139 finished with value: 3.8644461309615576 and parameters: {'svd': 0.8000000000000003, 'lfm_cos': 0.20000000000000018, 'nn': -1.5, 'knn': 0.6000000000000001, 'catboost_doc2vec': -0.3999999999999999, 'quality': -0.7999999999999998, 'volume': -1.7}. Best is trial 100 with value: 3.8917800912812996.\u001b[0m\n"
     ]
    },
    {
     "name": "stdout",
     "output_type": "stream",
     "text": [
      "time 2.508 cat_cov 99.0 cov 100.0 nov 0.962 ser 0.18 m1 0.303 m10 0.429 sum 3.864\n"
     ]
    },
    {
     "name": "stderr",
     "output_type": "stream",
     "text": [
      "\u001b[32m[I 2023-05-06 20:57:16,408]\u001b[0m Trial 140 finished with value: 3.771057781511454 and parameters: {'svd': 0.30000000000000027, 'lfm_cos': 0.6000000000000001, 'nn': -1.8, 'knn': 0.20000000000000018, 'catboost_doc2vec': -0.8999999999999999, 'quality': -0.2999999999999998, 'volume': -2.0}. Best is trial 100 with value: 3.8917800912812996.\u001b[0m\n"
     ]
    },
    {
     "name": "stdout",
     "output_type": "stream",
     "text": [
      "time 2.679 cat_cov 97.0 cov 100.0 nov 0.987 ser 0.226 m1 0.227 m10 0.361 sum 3.771\n"
     ]
    },
    {
     "name": "stderr",
     "output_type": "stream",
     "text": [
      "\u001b[32m[I 2023-05-06 20:57:18,997]\u001b[0m Trial 141 finished with value: 3.881202159389908 and parameters: {'svd': 0.8000000000000003, 'lfm_cos': 0.30000000000000027, 'nn': -1.5, 'knn': 0.40000000000000036, 'catboost_doc2vec': -0.7, 'quality': -0.5, 'volume': -2.0}. Best is trial 100 with value: 3.8917800912812996.\u001b[0m\n"
     ]
    },
    {
     "name": "stdout",
     "output_type": "stream",
     "text": [
      "time 2.568 cat_cov 100.0 cov 100.0 nov 0.965 ser 0.193 m1 0.302 m10 0.422 sum 3.881\n"
     ]
    },
    {
     "name": "stderr",
     "output_type": "stream",
     "text": [
      "\u001b[32m[I 2023-05-06 20:57:21,572]\u001b[0m Trial 142 finished with value: 3.8754629128789677 and parameters: {'svd': 0.6000000000000001, 'lfm_cos': 0.40000000000000036, 'nn': -1.7, 'knn': 0.6000000000000001, 'catboost_doc2vec': -0.7, 'quality': -0.5999999999999999, 'volume': -1.9}. Best is trial 100 with value: 3.8917800912812996.\u001b[0m\n"
     ]
    },
    {
     "name": "stdout",
     "output_type": "stream",
     "text": [
      "time 2.554 cat_cov 100.0 cov 100.0 nov 0.974 ser 0.202 m1 0.293 m10 0.407 sum 3.875\n"
     ]
    },
    {
     "name": "stderr",
     "output_type": "stream",
     "text": [
      "\u001b[32m[I 2023-05-06 20:57:24,197]\u001b[0m Trial 143 finished with value: 3.850635778452672 and parameters: {'svd': 0.40000000000000036, 'lfm_cos': 0.40000000000000036, 'nn': -1.2999999999999998, 'knn': 0.6000000000000001, 'catboost_doc2vec': -0.5999999999999999, 'quality': -0.5999999999999999, 'volume': -1.9}. Best is trial 100 with value: 3.8917800912812996.\u001b[0m\n"
     ]
    },
    {
     "name": "stdout",
     "output_type": "stream",
     "text": [
      "time 2.603 cat_cov 100.0 cov 100.0 nov 0.977 ser 0.205 m1 0.274 m10 0.394 sum 3.851\n"
     ]
    },
    {
     "name": "stderr",
     "output_type": "stream",
     "text": [
      "\u001b[32m[I 2023-05-06 20:57:26,763]\u001b[0m Trial 144 finished with value: 3.859183913057681 and parameters: {'svd': 0.6000000000000001, 'lfm_cos': 0.40000000000000036, 'nn': -1.4, 'knn': 0.40000000000000036, 'catboost_doc2vec': -0.7999999999999998, 'quality': -0.5999999999999999, 'volume': -2.0}. Best is trial 100 with value: 3.8917800912812996.\u001b[0m\n"
     ]
    },
    {
     "name": "stdout",
     "output_type": "stream",
     "text": [
      "time 2.545 cat_cov 99.0 cov 100.0 nov 0.972 ser 0.205 m1 0.289 m10 0.404 sum 3.859\n"
     ]
    },
    {
     "name": "stderr",
     "output_type": "stream",
     "text": [
      "\u001b[32m[I 2023-05-06 20:57:29,278]\u001b[0m Trial 145 finished with value: 3.878501251427328 and parameters: {'svd': 0.7000000000000002, 'lfm_cos': 0.30000000000000027, 'nn': -1.6, 'knn': 0.8000000000000003, 'catboost_doc2vec': -0.7, 'quality': -0.5, 'volume': -1.8}. Best is trial 100 with value: 3.8917800912812996.\u001b[0m\n"
     ]
    },
    {
     "name": "stdout",
     "output_type": "stream",
     "text": [
      "time 2.493 cat_cov 100.0 cov 100.0 nov 0.959 ser 0.184 m1 0.307 m10 0.429 sum 3.879\n"
     ]
    },
    {
     "name": "stderr",
     "output_type": "stream",
     "text": [
      "\u001b[32m[I 2023-05-06 20:57:31,850]\u001b[0m Trial 146 finished with value: 3.847403365588554 and parameters: {'svd': 0.5, 'lfm_cos': 0.10000000000000009, 'nn': -1.5, 'knn': 0.8000000000000003, 'catboost_doc2vec': -0.8999999999999999, 'quality': -0.5, 'volume': -1.9}. Best is trial 100 with value: 3.8917800912812996.\u001b[0m\n"
     ]
    },
    {
     "name": "stdout",
     "output_type": "stream",
     "text": [
      "time 2.551 cat_cov 98.0 cov 100.0 nov 0.989 ser 0.175 m1 0.286 m10 0.417 sum 3.847\n"
     ]
    },
    {
     "name": "stderr",
     "output_type": "stream",
     "text": [
      "\u001b[32m[I 2023-05-06 20:57:34,340]\u001b[0m Trial 147 finished with value: 3.868278945898819 and parameters: {'svd': 0.7000000000000002, 'lfm_cos': 0.20000000000000018, 'nn': -1.6, 'knn': 0.7000000000000002, 'catboost_doc2vec': -0.7, 'quality': -0.7, 'volume': -1.8}. Best is trial 100 with value: 3.8917800912812996.\u001b[0m\n"
     ]
    },
    {
     "name": "stdout",
     "output_type": "stream",
     "text": [
      "time 2.469 cat_cov 99.0 cov 100.0 nov 0.973 ser 0.182 m1 0.299 m10 0.424 sum 3.868\n"
     ]
    },
    {
     "name": "stderr",
     "output_type": "stream",
     "text": [
      "\u001b[32m[I 2023-05-06 20:57:36,882]\u001b[0m Trial 148 finished with value: 3.858767534070477 and parameters: {'svd': 0.7000000000000002, 'lfm_cos': 0.5, 'nn': -1.2, 'knn': 1.0, 'catboost_doc2vec': -0.7, 'quality': -0.3999999999999999, 'volume': -2.0}. Best is trial 100 with value: 3.8917800912812996.\u001b[0m\n"
     ]
    },
    {
     "name": "stdout",
     "output_type": "stream",
     "text": [
      "time 2.521 cat_cov 100.0 cov 100.0 nov 0.909 ser 0.174 m1 0.328 m10 0.448 sum 3.859\n"
     ]
    },
    {
     "name": "stderr",
     "output_type": "stream",
     "text": [
      "\u001b[32m[I 2023-05-06 20:57:39,474]\u001b[0m Trial 149 finished with value: 3.86578314927907 and parameters: {'svd': 0.6000000000000001, 'lfm_cos': 0.30000000000000027, 'nn': -1.7, 'knn': 0.30000000000000027, 'catboost_doc2vec': -0.5, 'quality': -0.8999999999999999, 'volume': -1.7}. Best is trial 100 with value: 3.8917800912812996.\u001b[0m\n"
     ]
    },
    {
     "name": "stdout",
     "output_type": "stream",
     "text": [
      "time 2.571 cat_cov 99.0 cov 100.0 nov 0.984 ser 0.207 m1 0.284 m10 0.401 sum 3.866\n"
     ]
    },
    {
     "name": "stderr",
     "output_type": "stream",
     "text": [
      "\u001b[32m[I 2023-05-06 20:57:41,968]\u001b[0m Trial 150 finished with value: 3.8383048593653246 and parameters: {'svd': 0.5, 'lfm_cos': 0.10000000000000009, 'nn': -1.6, 'knn': 0.9000000000000004, 'catboost_doc2vec': -0.7999999999999998, 'quality': -0.5999999999999999, 'volume': -1.6}. Best is trial 100 with value: 3.8917800912812996.\u001b[0m\n"
     ]
    },
    {
     "name": "stdout",
     "output_type": "stream",
     "text": [
      "time 2.472 cat_cov 98.0 cov 100.0 nov 0.982 ser 0.174 m1 0.284 m10 0.418 sum 3.838\n"
     ]
    },
    {
     "name": "stderr",
     "output_type": "stream",
     "text": [
      "\u001b[32m[I 2023-05-06 20:57:44,318]\u001b[0m Trial 151 finished with value: 3.664092152686865 and parameters: {'svd': 0.8000000000000003, 'lfm_cos': -2.0, 'nn': -1.8, 'knn': 0.5, 'catboost_doc2vec': -0.5, 'quality': -0.7999999999999998, 'volume': -1.9}. Best is trial 100 with value: 3.8917800912812996.\u001b[0m\n"
     ]
    },
    {
     "name": "stdout",
     "output_type": "stream",
     "text": [
      "time 2.331 cat_cov 93.0 cov 100.0 nov 0.951 ser 0.116 m1 0.269 m10 0.398 sum 3.664\n"
     ]
    },
    {
     "name": "stderr",
     "output_type": "stream",
     "text": [
      "\u001b[32m[I 2023-05-06 20:57:46,850]\u001b[0m Trial 152 finished with value: 3.8453927471785954 and parameters: {'svd': 0.9000000000000004, 'lfm_cos': 0.30000000000000027, 'nn': -1.7, 'knn': 0.7000000000000002, 'catboost_doc2vec': 0.30000000000000027, 'quality': -0.5, 'volume': -1.8}. Best is trial 100 with value: 3.8917800912812996.\u001b[0m\n"
     ]
    },
    {
     "name": "stdout",
     "output_type": "stream",
     "text": [
      "time 2.511 cat_cov 98.0 cov 100.0 nov 0.948 ser 0.166 m1 0.313 m10 0.439 sum 3.845\n"
     ]
    },
    {
     "name": "stderr",
     "output_type": "stream",
     "text": [
      "\u001b[32m[I 2023-05-06 20:57:49,415]\u001b[0m Trial 153 finished with value: 3.877521486714877 and parameters: {'svd': 0.6000000000000001, 'lfm_cos': 0.40000000000000036, 'nn': -1.9, 'knn': 0.6000000000000001, 'catboost_doc2vec': -0.5999999999999999, 'quality': -0.3999999999999999, 'volume': -1.9}. Best is trial 100 with value: 3.8917800912812996.\u001b[0m\n"
     ]
    },
    {
     "name": "stdout",
     "output_type": "stream",
     "text": [
      "time 2.544 cat_cov 100.0 cov 100.0 nov 0.975 ser 0.203 m1 0.293 m10 0.407 sum 3.878\n"
     ]
    },
    {
     "name": "stderr",
     "output_type": "stream",
     "text": [
      "\u001b[32m[I 2023-05-06 20:57:52,033]\u001b[0m Trial 154 finished with value: 3.842015887456611 and parameters: {'svd': 0.40000000000000036, 'lfm_cos': 0.5, 'nn': -1.5, 'knn': 0.6000000000000001, 'catboost_doc2vec': -0.5999999999999999, 'quality': -0.2999999999999998, 'volume': -2.0}. Best is trial 100 with value: 3.8917800912812996.\u001b[0m\n"
     ]
    },
    {
     "name": "stdout",
     "output_type": "stream",
     "text": [
      "time 2.597 cat_cov 100.0 cov 100.0 nov 0.974 ser 0.21 m1 0.268 m10 0.39 sum 3.842\n"
     ]
    },
    {
     "name": "stderr",
     "output_type": "stream",
     "text": [
      "\u001b[32m[I 2023-05-06 20:57:54,599]\u001b[0m Trial 155 finished with value: 3.8675639830295854 and parameters: {'svd': 0.6000000000000001, 'lfm_cos': 0.40000000000000036, 'nn': -1.9, 'knn': 0.8000000000000003, 'catboost_doc2vec': -0.8999999999999999, 'quality': -0.3999999999999999, 'volume': -2.0}. Best is trial 100 with value: 3.8917800912812996.\u001b[0m\n"
     ]
    },
    {
     "name": "stdout",
     "output_type": "stream",
     "text": [
      "time 2.544 cat_cov 99.0 cov 100.0 nov 0.973 ser 0.198 m1 0.296 m10 0.411 sum 3.868\n"
     ]
    },
    {
     "name": "stderr",
     "output_type": "stream",
     "text": [
      "\u001b[32m[I 2023-05-06 20:57:57,215]\u001b[0m Trial 156 finished with value: 3.8361974265900307 and parameters: {'svd': 0.7000000000000002, 'lfm_cos': 0.6000000000000001, 'nn': -1.8, 'knn': 0.40000000000000036, 'catboost_doc2vec': -0.5999999999999999, 'quality': -0.7, 'volume': 0.10000000000000009}. Best is trial 100 with value: 3.8917800912812996.\u001b[0m\n"
     ]
    },
    {
     "name": "stdout",
     "output_type": "stream",
     "text": [
      "time 2.595 cat_cov 100.0 cov 100.0 nov 0.939 ser 0.212 m1 0.283 m10 0.401 sum 3.836\n"
     ]
    },
    {
     "name": "stderr",
     "output_type": "stream",
     "text": [
      "\u001b[32m[I 2023-05-06 20:57:59,826]\u001b[0m Trial 157 finished with value: 3.881363518606962 and parameters: {'svd': 0.8000000000000003, 'lfm_cos': 0.30000000000000027, 'nn': -1.7, 'knn': 0.6000000000000001, 'catboost_doc2vec': -0.7, 'quality': -0.19999999999999996, 'volume': -1.8}. Best is trial 100 with value: 3.8917800912812996.\u001b[0m\n"
     ]
    },
    {
     "name": "stdout",
     "output_type": "stream",
     "text": [
      "time 2.589 cat_cov 100.0 cov 100.0 nov 0.96 ser 0.188 m1 0.306 m10 0.427 sum 3.881\n"
     ]
    },
    {
     "name": "stderr",
     "output_type": "stream",
     "text": [
      "\u001b[32m[I 2023-05-06 20:58:02,319]\u001b[0m Trial 158 finished with value: 3.8636966068082934 and parameters: {'svd': 0.9000000000000004, 'lfm_cos': 0.20000000000000018, 'nn': -1.6, 'knn': 0.6000000000000001, 'catboost_doc2vec': -0.7, 'quality': -0.3999999999999999, 'volume': -1.9}. Best is trial 100 with value: 3.8917800912812996.\u001b[0m\n"
     ]
    },
    {
     "name": "stdout",
     "output_type": "stream",
     "text": [
      "time 2.47 cat_cov 99.0 cov 100.0 nov 0.959 ser 0.177 m1 0.306 m10 0.432 sum 3.864\n"
     ]
    },
    {
     "name": "stderr",
     "output_type": "stream",
     "text": [
      "\u001b[32m[I 2023-05-06 20:58:04,788]\u001b[0m Trial 159 finished with value: 3.8229181616826784 and parameters: {'svd': 0.8000000000000003, 'lfm_cos': 0.40000000000000036, 'nn': -0.5, 'knn': 0.5, 'catboost_doc2vec': -0.7999999999999998, 'quality': -0.19999999999999996, 'volume': -1.8}. Best is trial 100 with value: 3.8917800912812996.\u001b[0m\n"
     ]
    },
    {
     "name": "stdout",
     "output_type": "stream",
     "text": [
      "time 2.448 cat_cov 98.0 cov 100.0 nov 0.864 ser 0.159 m1 0.348 m10 0.472 sum 3.823\n"
     ]
    },
    {
     "name": "stderr",
     "output_type": "stream",
     "text": [
      "\u001b[32m[I 2023-05-06 20:58:07,245]\u001b[0m Trial 160 finished with value: 3.8644492386844904 and parameters: {'svd': 1.0, 'lfm_cos': 0.10000000000000009, 'nn': -1.2999999999999998, 'knn': 0.40000000000000036, 'catboost_doc2vec': -1.0, 'quality': -0.5999999999999999, 'volume': -1.9}. Best is trial 100 with value: 3.8917800912812996.\u001b[0m\n"
     ]
    },
    {
     "name": "stdout",
     "output_type": "stream",
     "text": [
      "time 2.436 cat_cov 100.0 cov 100.0 nov 0.96 ser 0.166 m1 0.303 m10 0.435 sum 3.864\n"
     ]
    },
    {
     "name": "stderr",
     "output_type": "stream",
     "text": [
      "\u001b[32m[I 2023-05-06 20:58:09,787]\u001b[0m Trial 161 finished with value: 3.863739071225362 and parameters: {'svd': 0.5, 'lfm_cos': 0.30000000000000027, 'nn': -1.7, 'knn': 0.8000000000000003, 'catboost_doc2vec': -0.7, 'quality': -0.2999999999999998, 'volume': -1.7}. Best is trial 100 with value: 3.8917800912812996.\u001b[0m\n"
     ]
    },
    {
     "name": "stdout",
     "output_type": "stream",
     "text": [
      "time 2.52 cat_cov 99.0 cov 100.0 nov 0.973 ser 0.193 m1 0.295 m10 0.414 sum 3.864\n"
     ]
    },
    {
     "name": "stderr",
     "output_type": "stream",
     "text": [
      "\u001b[32m[I 2023-05-06 20:58:12,417]\u001b[0m Trial 162 finished with value: 3.8645976896708785 and parameters: {'svd': 0.7000000000000002, 'lfm_cos': 0.30000000000000027, 'nn': -1.9, 'knn': 0.7000000000000002, 'catboost_doc2vec': -0.5, 'quality': -0.5, 'volume': -2.0}. Best is trial 100 with value: 3.8917800912812996.\u001b[0m\n"
     ]
    },
    {
     "name": "stdout",
     "output_type": "stream",
     "text": [
      "time 2.609 cat_cov 98.0 cov 100.0 nov 0.974 ser 0.192 m1 0.3 m10 0.418 sum 3.865\n"
     ]
    },
    {
     "name": "stderr",
     "output_type": "stream",
     "text": [
      "\u001b[32m[I 2023-05-06 20:58:14,820]\u001b[0m Trial 163 finished with value: 3.7960388218971097 and parameters: {'svd': 0.6000000000000001, 'lfm_cos': 0.20000000000000018, 'nn': -1.7, 'knn': 0.6000000000000001, 'catboost_doc2vec': 0.30000000000000027, 'quality': -0.3999999999999999, 'volume': -1.8}. Best is trial 100 with value: 3.8917800912812996.\u001b[0m\n"
     ]
    },
    {
     "name": "stdout",
     "output_type": "stream",
     "text": [
      "time 2.381 cat_cov 98.0 cov 100.0 nov 0.958 ser 0.156 m1 0.295 m10 0.408 sum 3.796\n"
     ]
    },
    {
     "name": "stderr",
     "output_type": "stream",
     "text": [
      "\u001b[32m[I 2023-05-06 20:58:17,468]\u001b[0m Trial 164 finished with value: 3.8340719705970097 and parameters: {'svd': 0.30000000000000027, 'lfm_cos': 0.40000000000000036, 'nn': -1.8, 'knn': 0.7000000000000002, 'catboost_doc2vec': -0.5, 'quality': -0.19999999999999996, 'volume': -1.9}. Best is trial 100 with value: 3.8917800912812996.\u001b[0m\n"
     ]
    },
    {
     "name": "stdout",
     "output_type": "stream",
     "text": [
      "time 2.626 cat_cov 99.0 cov 100.0 nov 0.986 ser 0.209 m1 0.263 m10 0.386 sum 3.834\n"
     ]
    },
    {
     "name": "stderr",
     "output_type": "stream",
     "text": [
      "\u001b[32m[I 2023-05-06 20:58:20,072]\u001b[0m Trial 165 finished with value: 3.857932241293523 and parameters: {'svd': 0.8000000000000003, 'lfm_cos': 0.5, 'nn': -1.5, 'knn': 0.30000000000000027, 'catboost_doc2vec': -0.7, 'quality': -0.5999999999999999, 'volume': -1.7}. Best is trial 100 with value: 3.8917800912812996.\u001b[0m\n"
     ]
    },
    {
     "name": "stdout",
     "output_type": "stream",
     "text": [
      "time 2.581 cat_cov 100.0 cov 100.0 nov 0.95 ser 0.206 m1 0.294 m10 0.408 sum 3.858\n"
     ]
    },
    {
     "name": "stderr",
     "output_type": "stream",
     "text": [
      "\u001b[32m[I 2023-05-06 20:58:22,594]\u001b[0m Trial 166 finished with value: 3.875334195634796 and parameters: {'svd': 0.6000000000000001, 'lfm_cos': 0.20000000000000018, 'nn': -1.4, 'knn': 0.5, 'catboost_doc2vec': -0.7999999999999998, 'quality': -0.5, 'volume': -1.8}. Best is trial 100 with value: 3.8917800912812996.\u001b[0m\n"
     ]
    },
    {
     "name": "stdout",
     "output_type": "stream",
     "text": [
      "time 2.501 cat_cov 99.0 cov 100.0 nov 0.981 ser 0.189 m1 0.297 m10 0.418 sum 3.875\n"
     ]
    },
    {
     "name": "stderr",
     "output_type": "stream",
     "text": [
      "\u001b[32m[I 2023-05-06 20:58:25,141]\u001b[0m Trial 167 finished with value: 3.877154849930383 and parameters: {'svd': 0.6000000000000001, 'lfm_cos': 0.0, 'nn': -1.4, 'knn': 0.5, 'catboost_doc2vec': -0.7999999999999998, 'quality': -0.5, 'volume': -2.0}. Best is trial 100 with value: 3.8917800912812996.\u001b[0m\n"
     ]
    },
    {
     "name": "stdout",
     "output_type": "stream",
     "text": [
      "time 2.525 cat_cov 100.0 cov 100.0 nov 0.996 ser 0.174 m1 0.289 m10 0.418 sum 3.877\n"
     ]
    },
    {
     "name": "stderr",
     "output_type": "stream",
     "text": [
      "\u001b[32m[I 2023-05-06 20:58:27,464]\u001b[0m Trial 168 finished with value: 3.035514181478948 and parameters: {'svd': 0.7000000000000002, 'lfm_cos': -0.09999999999999987, 'nn': -1.6, 'knn': 0.40000000000000036, 'catboost_doc2vec': 1.6, 'quality': -0.7999999999999998, 'volume': -2.0}. Best is trial 100 with value: 3.8917800912812996.\u001b[0m\n"
     ]
    },
    {
     "name": "stdout",
     "output_type": "stream",
     "text": [
      "time 2.303 cat_cov 79.0 cov 100.0 nov 0.842 ser 0.116 m1 0.077 m10 0.211 sum 3.036\n"
     ]
    },
    {
     "name": "stderr",
     "output_type": "stream",
     "text": [
      "\u001b[32m[I 2023-05-06 20:58:29,864]\u001b[0m Trial 169 finished with value: 3.815181856787009 and parameters: {'svd': 0.9000000000000004, 'lfm_cos': 0.0, 'nn': -1.4, 'knn': 0.6000000000000001, 'catboost_doc2vec': -1.1, 'quality': -0.7, 'volume': -1.9}. Best is trial 100 with value: 3.8917800912812996.\u001b[0m\n"
     ]
    },
    {
     "name": "stdout",
     "output_type": "stream",
     "text": [
      "time 2.378 cat_cov 97.0 cov 100.0 nov 0.957 ser 0.156 m1 0.301 m10 0.432 sum 3.815\n"
     ]
    },
    {
     "name": "stderr",
     "output_type": "stream",
     "text": [
      "\u001b[32m[I 2023-05-06 20:58:32,495]\u001b[0m Trial 170 finished with value: 3.8431824712389346 and parameters: {'svd': 0.8000000000000003, 'lfm_cos': 0.6000000000000001, 'nn': -1.8, 'knn': 0.20000000000000018, 'catboost_doc2vec': -0.5999999999999999, 'quality': -0.3999999999999999, 'volume': -2.0}. Best is trial 100 with value: 3.8917800912812996.\u001b[0m\n"
     ]
    },
    {
     "name": "stdout",
     "output_type": "stream",
     "text": [
      "time 2.61 cat_cov 100.0 cov 100.0 nov 0.955 ser 0.212 m1 0.279 m10 0.397 sum 3.843\n"
     ]
    },
    {
     "name": "stderr",
     "output_type": "stream",
     "text": [
      "\u001b[32m[I 2023-05-06 20:58:35,034]\u001b[0m Trial 171 finished with value: 3.8660994744815227 and parameters: {'svd': 0.6000000000000001, 'lfm_cos': 0.20000000000000018, 'nn': -1.4, 'knn': 0.5, 'catboost_doc2vec': -1.0, 'quality': -0.5999999999999999, 'volume': -1.8}. Best is trial 100 with value: 3.8917800912812996.\u001b[0m\n"
     ]
    },
    {
     "name": "stdout",
     "output_type": "stream",
     "text": [
      "time 2.517 cat_cov 98.0 cov 100.0 nov 0.983 ser 0.19 m1 0.296 m10 0.417 sum 3.866\n"
     ]
    },
    {
     "name": "stderr",
     "output_type": "stream",
     "text": [
      "\u001b[32m[I 2023-05-06 20:58:37,571]\u001b[0m Trial 172 finished with value: 3.8329796178018993 and parameters: {'svd': 0.6000000000000001, 'lfm_cos': 0.0, 'nn': -1.2999999999999998, 'knn': 0.5, 'catboost_doc2vec': -0.7999999999999998, 'quality': -0.5, 'volume': -1.9}. Best is trial 100 with value: 3.8917800912812996.\u001b[0m\n"
     ]
    },
    {
     "name": "stdout",
     "output_type": "stream",
     "text": [
      "time 2.515 cat_cov 96.0 cov 100.0 nov 0.99 ser 0.17 m1 0.292 m10 0.421 sum 3.833\n"
     ]
    },
    {
     "name": "stderr",
     "output_type": "stream",
     "text": [
      "\u001b[32m[I 2023-05-06 20:58:40,088]\u001b[0m Trial 173 finished with value: 3.878983094355406 and parameters: {'svd': 0.7000000000000002, 'lfm_cos': 0.30000000000000027, 'nn': -1.2, 'knn': 0.6000000000000001, 'catboost_doc2vec': -0.8999999999999999, 'quality': -0.5, 'volume': -1.9}. Best is trial 100 with value: 3.8917800912812996.\u001b[0m\n"
     ]
    },
    {
     "name": "stdout",
     "output_type": "stream",
     "text": [
      "time 2.495 cat_cov 100.0 cov 100.0 nov 0.949 ser 0.183 m1 0.313 m10 0.434 sum 3.879\n"
     ]
    },
    {
     "name": "stderr",
     "output_type": "stream",
     "text": [
      "\u001b[32m[I 2023-05-06 20:58:42,599]\u001b[0m Trial 174 finished with value: 3.8704959718473444 and parameters: {'svd': 0.8000000000000003, 'lfm_cos': 0.30000000000000027, 'nn': -1.5, 'knn': 0.6000000000000001, 'catboost_doc2vec': -0.8999999999999999, 'quality': -0.3999999999999999, 'volume': -2.0}. Best is trial 100 with value: 3.8917800912812996.\u001b[0m\n"
     ]
    },
    {
     "name": "stdout",
     "output_type": "stream",
     "text": [
      "time 2.489 cat_cov 99.0 cov 100.0 nov 0.958 ser 0.186 m1 0.308 m10 0.429 sum 3.87\n"
     ]
    },
    {
     "name": "stderr",
     "output_type": "stream",
     "text": [
      "\u001b[32m[I 2023-05-06 20:58:45,137]\u001b[0m Trial 175 finished with value: 3.8751783474221013 and parameters: {'svd': 0.7000000000000002, 'lfm_cos': 0.40000000000000036, 'nn': -1.2, 'knn': 0.40000000000000036, 'catboost_doc2vec': -0.3999999999999999, 'quality': -0.2999999999999998, 'volume': -1.9}. Best is trial 100 with value: 3.8917800912812996.\u001b[0m\n"
     ]
    },
    {
     "name": "stdout",
     "output_type": "stream",
     "text": [
      "time 2.516 cat_cov 100.0 cov 100.0 nov 0.945 ser 0.196 m1 0.31 m10 0.424 sum 3.875\n"
     ]
    },
    {
     "name": "stderr",
     "output_type": "stream",
     "text": [
      "\u001b[32m[I 2023-05-06 20:58:47,686]\u001b[0m Trial 176 finished with value: 3.8680463072427473 and parameters: {'svd': 0.9000000000000004, 'lfm_cos': 0.5, 'nn': -1.6, 'knn': 0.7000000000000002, 'catboost_doc2vec': -0.5999999999999999, 'quality': -0.5, 'volume': -2.0}. Best is trial 100 with value: 3.8917800912812996.\u001b[0m\n"
     ]
    },
    {
     "name": "stdout",
     "output_type": "stream",
     "text": [
      "time 2.528 cat_cov 99.0 cov 100.0 nov 0.94 ser 0.191 m1 0.316 m10 0.431 sum 3.868\n"
     ]
    },
    {
     "name": "stderr",
     "output_type": "stream",
     "text": [
      "\u001b[32m[I 2023-05-06 20:58:50,457]\u001b[0m Trial 177 finished with value: 3.7268464978037352 and parameters: {'svd': -1.5, 'lfm_cos': 0.30000000000000027, 'nn': -1.7, 'knn': 0.30000000000000027, 'catboost_doc2vec': -0.7, 'quality': 2.0, 'volume': -1.7}. Best is trial 100 with value: 3.8917800912812996.\u001b[0m\n"
     ]
    },
    {
     "name": "stdout",
     "output_type": "stream",
     "text": [
      "time 2.748 cat_cov 100.0 cov 100.0 nov 0.942 ser 0.216 m1 0.223 m10 0.347 sum 3.727\n"
     ]
    },
    {
     "name": "stderr",
     "output_type": "stream",
     "text": [
      "\u001b[32m[I 2023-05-06 20:58:52,832]\u001b[0m Trial 178 finished with value: 3.6228221346268743 and parameters: {'svd': 1.0, 'lfm_cos': -1.7, 'nn': -1.9, 'knn': 0.5, 'catboost_doc2vec': -0.5999999999999999, 'quality': -0.5999999999999999, 'volume': -1.6}. Best is trial 100 with value: 3.8917800912812996.\u001b[0m\n"
     ]
    },
    {
     "name": "stdout",
     "output_type": "stream",
     "text": [
      "time 2.354 cat_cov 88.0 cov 100.0 nov 0.943 ser 0.119 m1 0.275 m10 0.406 sum 3.623\n"
     ]
    },
    {
     "name": "stderr",
     "output_type": "stream",
     "text": [
      "\u001b[32m[I 2023-05-06 20:58:55,286]\u001b[0m Trial 179 finished with value: 3.859912743112521 and parameters: {'svd': 0.7000000000000002, 'lfm_cos': 0.10000000000000009, 'nn': -1.7, 'knn': 0.8000000000000003, 'catboost_doc2vec': -0.8999999999999999, 'quality': -0.09999999999999987, 'volume': -1.9}. Best is trial 100 with value: 3.8917800912812996.\u001b[0m\n"
     ]
    },
    {
     "name": "stdout",
     "output_type": "stream",
     "text": [
      "time 2.432 cat_cov 99.0 cov 100.0 nov 0.974 ser 0.169 m1 0.299 m10 0.427 sum 3.86\n"
     ]
    },
    {
     "name": "stderr",
     "output_type": "stream",
     "text": [
      "\u001b[32m[I 2023-05-06 20:58:57,954]\u001b[0m Trial 180 finished with value: 3.6644970611715353 and parameters: {'svd': 0.40000000000000036, 'lfm_cos': 0.40000000000000036, 'nn': -1.1, 'knn': -1.7, 'catboost_doc2vec': -0.3999999999999999, 'quality': -0.7, 'volume': -1.8}. Best is trial 100 with value: 3.8917800912812996.\u001b[0m\n"
     ]
    },
    {
     "name": "stdout",
     "output_type": "stream",
     "text": [
      "time 2.646 cat_cov 91.0 cov 100.0 nov 0.976 ser 0.23 m1 0.203 m10 0.345 sum 3.664\n"
     ]
    },
    {
     "name": "stderr",
     "output_type": "stream",
     "text": [
      "\u001b[32m[I 2023-05-06 20:59:00,564]\u001b[0m Trial 181 finished with value: 3.855334195634796 and parameters: {'svd': 0.6000000000000001, 'lfm_cos': 0.20000000000000018, 'nn': -1.4, 'knn': 0.5, 'catboost_doc2vec': -0.7999999999999998, 'quality': -0.5, 'volume': -1.8}. Best is trial 100 with value: 3.8917800912812996.\u001b[0m\n"
     ]
    },
    {
     "name": "stdout",
     "output_type": "stream",
     "text": [
      "time 2.589 cat_cov 97.0 cov 100.0 nov 0.981 ser 0.189 m1 0.297 m10 0.418 sum 3.855\n"
     ]
    },
    {
     "name": "stderr",
     "output_type": "stream",
     "text": [
      "\u001b[32m[I 2023-05-06 20:59:03,086]\u001b[0m Trial 182 finished with value: 3.875710685453551 and parameters: {'svd': 0.5, 'lfm_cos': 0.20000000000000018, 'nn': -1.5, 'knn': 0.6000000000000001, 'catboost_doc2vec': -0.7999999999999998, 'quality': -0.5, 'volume': -1.9}. Best is trial 100 with value: 3.8917800912812996.\u001b[0m\n"
     ]
    },
    {
     "name": "stdout",
     "output_type": "stream",
     "text": [
      "time 2.499 cat_cov 99.0 cov 100.0 nov 0.99 ser 0.191 m1 0.293 m10 0.412 sum 3.876\n"
     ]
    },
    {
     "name": "stderr",
     "output_type": "stream",
     "text": [
      "\u001b[32m[I 2023-05-06 20:59:05,614]\u001b[0m Trial 183 finished with value: 3.8739910486810247 and parameters: {'svd': 0.5, 'lfm_cos': 0.30000000000000027, 'nn': -1.5, 'knn': 0.6000000000000001, 'catboost_doc2vec': -0.7, 'quality': -0.19999999999999996, 'volume': -2.0}. Best is trial 100 with value: 3.8917800912812996.\u001b[0m\n"
     ]
    },
    {
     "name": "stdout",
     "output_type": "stream",
     "text": [
      "time 2.507 cat_cov 99.0 cov 100.0 nov 0.978 ser 0.196 m1 0.297 m10 0.412 sum 3.874\n"
     ]
    },
    {
     "name": "stderr",
     "output_type": "stream",
     "text": [
      "\u001b[32m[I 2023-05-06 20:59:08,180]\u001b[0m Trial 184 finished with value: 3.8720633309442856 and parameters: {'svd': 0.8000000000000003, 'lfm_cos': 0.40000000000000036, 'nn': -1.8, 'knn': 0.6000000000000001, 'catboost_doc2vec': -0.5, 'quality': -0.3999999999999999, 'volume': -1.9}. Best is trial 100 with value: 3.8917800912812996.\u001b[0m\n"
     ]
    },
    {
     "name": "stdout",
     "output_type": "stream",
     "text": [
      "time 2.543 cat_cov 99.0 cov 100.0 nov 0.959 ser 0.195 m1 0.306 m10 0.422 sum 3.872\n"
     ]
    },
    {
     "name": "stderr",
     "output_type": "stream",
     "text": [
      "\u001b[32m[I 2023-05-06 20:59:10,742]\u001b[0m Trial 185 finished with value: 3.865699493887681 and parameters: {'svd': 0.7000000000000002, 'lfm_cos': 0.5, 'nn': -1.6, 'knn': 0.9000000000000004, 'catboost_doc2vec': -0.8999999999999999, 'quality': -0.5999999999999999, 'volume': -1.9}. Best is trial 100 with value: 3.8917800912812996.\u001b[0m\n"
     ]
    },
    {
     "name": "stdout",
     "output_type": "stream",
     "text": [
      "time 2.54 cat_cov 99.0 cov 100.0 nov 0.948 ser 0.192 m1 0.31 m10 0.425 sum 3.866\n"
     ]
    },
    {
     "name": "stderr",
     "output_type": "stream",
     "text": [
      "\u001b[32m[I 2023-05-06 20:59:13,308]\u001b[0m Trial 186 finished with value: 3.862520296139976 and parameters: {'svd': 0.5, 'lfm_cos': 0.10000000000000009, 'nn': -1.5, 'knn': 0.40000000000000036, 'catboost_doc2vec': -0.5999999999999999, 'quality': -0.2999999999999998, 'volume': -2.0}. Best is trial 100 with value: 3.8917800912812996.\u001b[0m\n"
     ]
    },
    {
     "name": "stdout",
     "output_type": "stream",
     "text": [
      "time 2.544 cat_cov 97.0 cov 100.0 nov 1.007 ser 0.189 m1 0.287 m10 0.41 sum 3.863\n"
     ]
    },
    {
     "name": "stderr",
     "output_type": "stream",
     "text": [
      "\u001b[32m[I 2023-05-06 20:59:15,825]\u001b[0m Trial 187 finished with value: 3.877807547322167 and parameters: {'svd': 0.7000000000000002, 'lfm_cos': 0.20000000000000018, 'nn': -1.8, 'knn': 0.8000000000000003, 'catboost_doc2vec': -0.7999999999999998, 'quality': -0.7, 'volume': -1.8}. Best is trial 100 with value: 3.8917800912812996.\u001b[0m\n"
     ]
    },
    {
     "name": "stdout",
     "output_type": "stream",
     "text": [
      "time 2.495 cat_cov 100.0 cov 100.0 nov 0.976 ser 0.183 m1 0.298 m10 0.421 sum 3.878\n"
     ]
    },
    {
     "name": "stderr",
     "output_type": "stream",
     "text": [
      "\u001b[32m[I 2023-05-06 20:59:18,339]\u001b[0m Trial 188 finished with value: 3.869441263097981 and parameters: {'svd': 0.8000000000000003, 'lfm_cos': 0.20000000000000018, 'nn': -1.9, 'knn': 0.7000000000000002, 'catboost_doc2vec': -1.1, 'quality': -0.7999999999999998, 'volume': -1.7}. Best is trial 100 with value: 3.8917800912812996.\u001b[0m\n"
     ]
    },
    {
     "name": "stdout",
     "output_type": "stream",
     "text": [
      "time 2.491 cat_cov 99.0 cov 100.0 nov 0.977 ser 0.185 m1 0.297 m10 0.42 sum 3.869\n"
     ]
    },
    {
     "name": "stderr",
     "output_type": "stream",
     "text": [
      "\u001b[32m[I 2023-05-06 20:59:20,868]\u001b[0m Trial 189 finished with value: 3.8771545969660246 and parameters: {'svd': 0.9000000000000004, 'lfm_cos': 0.30000000000000027, 'nn': -1.9, 'knn': 0.8000000000000003, 'catboost_doc2vec': -0.7999999999999998, 'quality': -0.7, 'volume': -1.8}. Best is trial 100 with value: 3.8917800912812996.\u001b[0m\n"
     ]
    },
    {
     "name": "stdout",
     "output_type": "stream",
     "text": [
      "time 2.507 cat_cov 100.0 cov 100.0 nov 0.96 ser 0.184 m1 0.305 m10 0.428 sum 3.877\n"
     ]
    },
    {
     "name": "stderr",
     "output_type": "stream",
     "text": [
      "\u001b[32m[I 2023-05-06 20:59:23,429]\u001b[0m Trial 190 finished with value: 3.872477971363788 and parameters: {'svd': 0.9000000000000004, 'lfm_cos': 0.30000000000000027, 'nn': -1.8, 'knn': 0.9000000000000004, 'catboost_doc2vec': 0.10000000000000009, 'quality': -0.7, 'volume': -1.8}. Best is trial 100 with value: 3.8917800912812996.\u001b[0m\n"
     ]
    },
    {
     "name": "stdout",
     "output_type": "stream",
     "text": [
      "time 2.539 cat_cov 100.0 cov 100.0 nov 0.943 ser 0.177 m1 0.313 m10 0.439 sum 3.872\n"
     ]
    },
    {
     "name": "stderr",
     "output_type": "stream",
     "text": [
      "\u001b[32m[I 2023-05-06 20:59:25,816]\u001b[0m Trial 191 finished with value: 3.5282822835059213 and parameters: {'svd': 0.8000000000000003, 'lfm_cos': 0.10000000000000009, 'nn': -0.09999999999999987, 'knn': 0.8000000000000003, 'catboost_doc2vec': -0.7999999999999998, 'quality': -1.0, 'volume': -1.7}. Best is trial 100 with value: 3.8917800912812996.\u001b[0m\n"
     ]
    },
    {
     "name": "stdout",
     "output_type": "stream",
     "text": [
      "time 2.365 cat_cov 83.0 cov 100.0 nov 0.798 ser 0.103 m1 0.328 m10 0.47 sum 3.528\n"
     ]
    },
    {
     "name": "stderr",
     "output_type": "stream",
     "text": [
      "\u001b[32m[I 2023-05-06 20:59:28,260]\u001b[0m Trial 192 finished with value: 3.8178590531602707 and parameters: {'svd': 0.7000000000000002, 'lfm_cos': 0.0, 'nn': -1.9, 'knn': 1.0, 'catboost_doc2vec': -1.0, 'quality': -0.5, 'volume': -2.0}. Best is trial 100 with value: 3.8917800912812996.\u001b[0m\n"
     ]
    },
    {
     "name": "stdout",
     "output_type": "stream",
     "text": [
      "time 2.422 cat_cov 97.0 cov 100.0 nov 0.975 ser 0.164 m1 0.288 m10 0.422 sum 3.818\n"
     ]
    },
    {
     "name": "stderr",
     "output_type": "stream",
     "text": [
      "\u001b[32m[I 2023-05-06 20:59:30,762]\u001b[0m Trial 193 finished with value: 3.853715295950033 and parameters: {'svd': 0.9000000000000004, 'lfm_cos': 0.20000000000000018, 'nn': -1.8, 'knn': 0.7000000000000002, 'catboost_doc2vec': -0.7999999999999998, 'quality': -0.3999999999999999, 'volume': -1.8}. Best is trial 100 with value: 3.8917800912812996.\u001b[0m\n"
     ]
    },
    {
     "name": "stdout",
     "output_type": "stream",
     "text": [
      "time 2.479 cat_cov 98.0 cov 100.0 nov 0.963 ser 0.178 m1 0.303 m10 0.43 sum 3.854\n"
     ]
    },
    {
     "name": "stderr",
     "output_type": "stream",
     "text": [
      "\u001b[32m[I 2023-05-06 20:59:33,279]\u001b[0m Trial 194 finished with value: 3.8447798612580275 and parameters: {'svd': 1.0, 'lfm_cos': 0.30000000000000027, 'nn': -1.9, 'knn': 0.8000000000000003, 'catboost_doc2vec': -0.7, 'quality': -0.7999999999999998, 'volume': -1.9}. Best is trial 100 with value: 3.8917800912812996.\u001b[0m\n"
     ]
    },
    {
     "name": "stdout",
     "output_type": "stream",
     "text": [
      "time 2.494 cat_cov 97.0 cov 100.0 nov 0.955 ser 0.181 m1 0.307 m10 0.431 sum 3.845\n"
     ]
    },
    {
     "name": "stderr",
     "output_type": "stream",
     "text": [
      "\u001b[32m[I 2023-05-06 20:59:35,938]\u001b[0m Trial 195 finished with value: 3.869150094799452 and parameters: {'svd': 0.7000000000000002, 'lfm_cos': 0.40000000000000036, 'nn': -2.0, 'knn': 0.6000000000000001, 'catboost_doc2vec': -0.5, 'quality': -0.7, 'volume': -1.9}. Best is trial 100 with value: 3.8917800912812996.\u001b[0m\n"
     ]
    },
    {
     "name": "stdout",
     "output_type": "stream",
     "text": [
      "time 2.637 cat_cov 99.0 cov 100.0 nov 0.973 ser 0.201 m1 0.295 m10 0.409 sum 3.869\n"
     ]
    },
    {
     "name": "stderr",
     "output_type": "stream",
     "text": [
      "\u001b[32m[I 2023-05-06 20:59:38,542]\u001b[0m Trial 196 finished with value: 3.866486229532794 and parameters: {'svd': 0.7000000000000002, 'lfm_cos': 0.5, 'nn': -1.7, 'knn': 0.5, 'catboost_doc2vec': -0.8999999999999999, 'quality': -0.5, 'volume': -1.6}. Best is trial 100 with value: 3.8917800912812996.\u001b[0m\n"
     ]
    },
    {
     "name": "stdout",
     "output_type": "stream",
     "text": [
      "time 2.582 cat_cov 100.0 cov 100.0 nov 0.959 ser 0.205 m1 0.294 m10 0.408 sum 3.866\n"
     ]
    },
    {
     "name": "stderr",
     "output_type": "stream",
     "text": [
      "\u001b[32m[I 2023-05-06 20:59:40,961]\u001b[0m Trial 197 finished with value: 3.3913404848186177 and parameters: {'svd': 0.5, 'lfm_cos': 0.30000000000000027, 'nn': 0.8000000000000003, 'knn': 0.7000000000000002, 'catboost_doc2vec': -1.0, 'quality': -0.8999999999999999, 'volume': -2.0}. Best is trial 100 with value: 3.8917800912812996.\u001b[0m\n"
     ]
    },
    {
     "name": "stdout",
     "output_type": "stream",
     "text": [
      "time 2.395 cat_cov 76.0 cov 100.0 nov 0.741 ser 0.095 m1 0.323 m10 0.472 sum 3.391\n"
     ]
    },
    {
     "name": "stderr",
     "output_type": "stream",
     "text": [
      "\u001b[32m[I 2023-05-06 20:59:43,486]\u001b[0m Trial 198 finished with value: 3.755135727373334 and parameters: {'svd': 0.40000000000000036, 'lfm_cos': -0.19999999999999996, 'nn': -2.0, 'knn': -0.8999999999999999, 'catboost_doc2vec': -0.5999999999999999, 'quality': -0.5999999999999999, 'volume': -1.7}. Best is trial 100 with value: 3.8917800912812996.\u001b[0m\n"
     ]
    },
    {
     "name": "stdout",
     "output_type": "stream",
     "text": [
      "time 2.503 cat_cov 95.0 cov 100.0 nov 1.003 ser 0.194 m1 0.239 m10 0.369 sum 3.755\n"
     ]
    },
    {
     "name": "stderr",
     "output_type": "stream",
     "text": [
      "\u001b[32m[I 2023-05-06 20:59:46,010]\u001b[0m Trial 199 finished with value: 3.8921179964736874 and parameters: {'svd': 0.6000000000000001, 'lfm_cos': 0.10000000000000009, 'nn': -1.6, 'knn': 0.30000000000000027, 'catboost_doc2vec': -0.5, 'quality': -0.3999999999999999, 'volume': -1.8}. Best is trial 199 with value: 3.8921179964736874.\u001b[0m\n"
     ]
    },
    {
     "name": "stdout",
     "output_type": "stream",
     "text": [
      "time 2.502 cat_cov 100.0 cov 100.0 nov 1.002 ser 0.19 m1 0.288 m10 0.412 sum 3.892\n"
     ]
    },
    {
     "name": "stderr",
     "output_type": "stream",
     "text": [
      "\u001b[32m[I 2023-05-06 20:59:48,516]\u001b[0m Trial 200 finished with value: 3.8830389371998386 and parameters: {'svd': 0.9000000000000004, 'lfm_cos': 0.10000000000000009, 'nn': -1.9, 'knn': 0.30000000000000027, 'catboost_doc2vec': -0.3999999999999999, 'quality': -0.19999999999999996, 'volume': -1.8}. Best is trial 199 with value: 3.8921179964736874.\u001b[0m\n"
     ]
    },
    {
     "name": "stdout",
     "output_type": "stream",
     "text": [
      "time 2.484 cat_cov 100.0 cov 100.0 nov 0.985 ser 0.184 m1 0.293 m10 0.421 sum 3.883\n"
     ]
    },
    {
     "name": "stderr",
     "output_type": "stream",
     "text": [
      "\u001b[32m[I 2023-05-06 20:59:51,109]\u001b[0m Trial 201 finished with value: 3.8894771152522 and parameters: {'svd': 0.8000000000000003, 'lfm_cos': 0.10000000000000009, 'nn': -1.9, 'knn': 0.20000000000000018, 'catboost_doc2vec': -0.3999999999999999, 'quality': -0.19999999999999996, 'volume': -1.8}. Best is trial 199 with value: 3.8921179964736874.\u001b[0m\n"
     ]
    },
    {
     "name": "stdout",
     "output_type": "stream",
     "text": [
      "time 2.57 cat_cov 100.0 cov 100.0 nov 0.995 ser 0.19 m1 0.289 m10 0.416 sum 3.889\n"
     ]
    },
    {
     "name": "stderr",
     "output_type": "stream",
     "text": [
      "\u001b[32m[I 2023-05-06 20:59:53,535]\u001b[0m Trial 202 finished with value: 3.8719072353783175 and parameters: {'svd': 0.6000000000000001, 'lfm_cos': -0.09999999999999987, 'nn': -1.8, 'knn': 0.10000000000000009, 'catboost_doc2vec': -0.3999999999999999, 'quality': -0.2999999999999998, 'volume': -1.8}. Best is trial 199 with value: 3.8921179964736874.\u001b[0m\n"
     ]
    },
    {
     "name": "stdout",
     "output_type": "stream",
     "text": [
      "time 2.404 cat_cov 100.0 cov 100.0 nov 1.017 ser 0.176 m1 0.274 m10 0.404 sum 3.872\n"
     ]
    },
    {
     "name": "stderr",
     "output_type": "stream",
     "text": [
      "\u001b[32m[I 2023-05-06 20:59:56,001]\u001b[0m Trial 203 finished with value: 3.88201927120893 and parameters: {'svd': 0.8000000000000003, 'lfm_cos': 0.0, 'nn': -1.8, 'knn': 0.20000000000000018, 'catboost_doc2vec': -0.3999999999999999, 'quality': -0.19999999999999996, 'volume': -2.0}. Best is trial 199 with value: 3.8921179964736874.\u001b[0m\n"
     ]
    },
    {
     "name": "stdout",
     "output_type": "stream",
     "text": [
      "time 2.444 cat_cov 99.0 cov 100.0 nov 1.008 ser 0.181 m1 0.286 m10 0.417 sum 3.882\n"
     ]
    },
    {
     "name": "stderr",
     "output_type": "stream",
     "text": [
      "\u001b[32m[I 2023-05-06 20:59:58,511]\u001b[0m Trial 204 finished with value: 3.8799680274202246 and parameters: {'svd': 0.8000000000000003, 'lfm_cos': 0.10000000000000009, 'nn': -1.9, 'knn': 0.20000000000000018, 'catboost_doc2vec': -0.2999999999999998, 'quality': -0.19999999999999996, 'volume': -1.8}. Best is trial 199 with value: 3.8921179964736874.\u001b[0m\n"
     ]
    },
    {
     "name": "stdout",
     "output_type": "stream",
     "text": [
      "time 2.487 cat_cov 99.0 cov 100.0 nov 0.995 ser 0.19 m1 0.289 m10 0.417 sum 3.88\n"
     ]
    },
    {
     "name": "stderr",
     "output_type": "stream",
     "text": [
      "\u001b[32m[I 2023-05-06 21:00:01,053]\u001b[0m Trial 205 finished with value: 3.8677639309628438 and parameters: {'svd': 0.8000000000000003, 'lfm_cos': 0.10000000000000009, 'nn': -1.8, 'knn': 0.0, 'catboost_doc2vec': -0.2999999999999998, 'quality': -0.19999999999999996, 'volume': -1.5}. Best is trial 199 with value: 3.8921179964736874.\u001b[0m\n"
     ]
    },
    {
     "name": "stdout",
     "output_type": "stream",
     "text": [
      "time 2.519 cat_cov 99.0 cov 100.0 nov 0.977 ser 0.198 m1 0.288 m10 0.415 sum 3.868\n"
     ]
    },
    {
     "name": "stderr",
     "output_type": "stream",
     "text": [
      "\u001b[32m[I 2023-05-06 21:00:03,581]\u001b[0m Trial 206 finished with value: 3.83846681715345 and parameters: {'svd': 0.8000000000000003, 'lfm_cos': -0.09999999999999987, 'nn': -1.7, 'knn': 0.20000000000000018, 'catboost_doc2vec': -0.2999999999999998, 'quality': -0.09999999999999987, 'volume': -1.7}. Best is trial 199 with value: 3.8921179964736874.\u001b[0m\n"
     ]
    },
    {
     "name": "stdout",
     "output_type": "stream",
     "text": [
      "time 2.507 cat_cov 97.0 cov 100.0 nov 1.0 ser 0.165 m1 0.285 m10 0.418 sum 3.838\n"
     ]
    },
    {
     "name": "stderr",
     "output_type": "stream",
     "text": [
      "\u001b[32m[I 2023-05-06 21:00:06,077]\u001b[0m Trial 207 finished with value: 3.8651173029374832 and parameters: {'svd': 1.0, 'lfm_cos': 0.10000000000000009, 'nn': -2.0, 'knn': 0.30000000000000027, 'catboost_doc2vec': -0.3999999999999999, 'quality': -0.19999999999999996, 'volume': -1.6}. Best is trial 199 with value: 3.8921179964736874.\u001b[0m\n"
     ]
    },
    {
     "name": "stdout",
     "output_type": "stream",
     "text": [
      "time 2.473 cat_cov 99.0 cov 100.0 nov 0.977 ser 0.182 m1 0.293 m10 0.423 sum 3.865\n"
     ]
    },
    {
     "name": "stderr",
     "output_type": "stream",
     "text": [
      "\u001b[32m[I 2023-05-06 21:00:08,613]\u001b[0m Trial 208 finished with value: 3.875167016241591 and parameters: {'svd': 0.8000000000000003, 'lfm_cos': 0.20000000000000018, 'nn': -1.9, 'knn': 0.30000000000000027, 'catboost_doc2vec': -0.3999999999999999, 'quality': -0.09999999999999987, 'volume': -1.8}. Best is trial 199 with value: 3.8921179964736874.\u001b[0m\n"
     ]
    },
    {
     "name": "stdout",
     "output_type": "stream",
     "text": [
      "time 2.513 cat_cov 99.0 cov 100.0 nov 0.976 ser 0.193 m1 0.296 m10 0.42 sum 3.875\n"
     ]
    },
    {
     "name": "stderr",
     "output_type": "stream",
     "text": [
      "\u001b[32m[I 2023-05-06 21:00:11,088]\u001b[0m Trial 209 finished with value: 3.886578659230428 and parameters: {'svd': 0.9000000000000004, 'lfm_cos': 0.0, 'nn': -1.8, 'knn': 0.10000000000000009, 'catboost_doc2vec': -0.19999999999999996, 'quality': 0.0, 'volume': -1.8}. Best is trial 199 with value: 3.8921179964736874.\u001b[0m\n"
     ]
    },
    {
     "name": "stdout",
     "output_type": "stream",
     "text": [
      "time 2.452 cat_cov 99.0 cov 100.0 nov 1.008 ser 0.178 m1 0.289 m10 0.422 sum 3.887\n"
     ]
    },
    {
     "name": "stderr",
     "output_type": "stream",
     "text": [
      "\u001b[32m[I 2023-05-06 21:00:13,564]\u001b[0m Trial 210 finished with value: 3.763759062588237 and parameters: {'svd': 0.9000000000000004, 'lfm_cos': 0.0, 'nn': -1.6, 'knn': 0.0, 'catboost_doc2vec': -0.19999999999999996, 'quality': 0.0, 'volume': 1.8000000000000003}. Best is trial 199 with value: 3.8921179964736874.\u001b[0m\n"
     ]
    },
    {
     "name": "stdout",
     "output_type": "stream",
     "text": [
      "time 2.453 cat_cov 99.0 cov 100.0 nov 0.877 ser 0.179 m1 0.293 m10 0.426 sum 3.764\n"
     ]
    },
    {
     "name": "stderr",
     "output_type": "stream",
     "text": [
      "\u001b[32m[I 2023-05-06 21:00:16,031]\u001b[0m Trial 211 finished with value: 3.8690812147035984 and parameters: {'svd': 0.9000000000000004, 'lfm_cos': 0.0, 'nn': -1.8, 'knn': 0.10000000000000009, 'catboost_doc2vec': -0.2999999999999998, 'quality': -0.2999999999999998, 'volume': -1.8}. Best is trial 199 with value: 3.8921179964736874.\u001b[0m\n"
     ]
    },
    {
     "name": "stdout",
     "output_type": "stream",
     "text": [
      "time 2.444 cat_cov 97.0 cov 100.0 nov 1.011 ser 0.181 m1 0.288 m10 0.419 sum 3.869\n"
     ]
    },
    {
     "name": "stderr",
     "output_type": "stream",
     "text": [
      "\u001b[32m[I 2023-05-06 21:00:18,582]\u001b[0m Trial 212 finished with value: 3.8679291081020932 and parameters: {'svd': 1.0, 'lfm_cos': 0.10000000000000009, 'nn': -1.7, 'knn': 0.20000000000000018, 'catboost_doc2vec': -0.5, 'quality': -0.19999999999999996, 'volume': -1.9}. Best is trial 199 with value: 3.8921179964736874.\u001b[0m\n"
     ]
    },
    {
     "name": "stdout",
     "output_type": "stream",
     "text": [
      "time 2.529 cat_cov 99.0 cov 100.0 nov 0.978 ser 0.182 m1 0.293 m10 0.424 sum 3.868\n"
     ]
    },
    {
     "name": "stderr",
     "output_type": "stream",
     "text": [
      "\u001b[32m[I 2023-05-06 21:00:21,140]\u001b[0m Trial 213 finished with value: 3.8807927169050607 and parameters: {'svd': 0.7000000000000002, 'lfm_cos': 0.20000000000000018, 'nn': -1.9, 'knn': 0.10000000000000009, 'catboost_doc2vec': -0.19999999999999996, 'quality': 0.0, 'volume': -1.7}. Best is trial 199 with value: 3.8921179964736874.\u001b[0m\n"
     ]
    },
    {
     "name": "stdout",
     "output_type": "stream",
     "text": [
      "time 2.535 cat_cov 100.0 cov 100.0 nov 0.977 ser 0.202 m1 0.289 m10 0.413 sum 3.881\n"
     ]
    },
    {
     "name": "stderr",
     "output_type": "stream",
     "text": [
      "\u001b[32m[I 2023-05-06 21:00:23,632]\u001b[0m Trial 214 finished with value: 3.9133793634634513 and parameters: {'svd': 0.8000000000000003, 'lfm_cos': 0.0, 'nn': -2.0, 'knn': -0.09999999999999987, 'catboost_doc2vec': -0.19999999999999996, 'quality': 0.0, 'volume': -1.7}. Best is trial 214 with value: 3.9133793634634513.\u001b[0m\n"
     ]
    },
    {
     "name": "stdout",
     "output_type": "stream",
     "text": [
      "time 2.47 cat_cov 100.0 cov 100.0 nov 1.022 ser 0.191 m1 0.284 m10 0.416 sum 3.913\n"
     ]
    },
    {
     "name": "stderr",
     "output_type": "stream",
     "text": [
      "\u001b[32m[I 2023-05-06 21:00:26,000]\u001b[0m Trial 215 finished with value: 3.8012342590100654 and parameters: {'svd': 0.8000000000000003, 'lfm_cos': -0.19999999999999996, 'nn': -1.9, 'knn': 0.10000000000000009, 'catboost_doc2vec': -0.09999999999999987, 'quality': 0.0, 'volume': -0.8999999999999999}. Best is trial 214 with value: 3.9133793634634513.\u001b[0m\n"
     ]
    },
    {
     "name": "stdout",
     "output_type": "stream",
     "text": [
      "time 2.345 cat_cov 98.0 cov 100.0 nov 0.981 ser 0.141 m1 0.282 m10 0.417 sum 3.801\n"
     ]
    },
    {
     "name": "stderr",
     "output_type": "stream",
     "text": [
      "\u001b[32m[I 2023-05-06 21:00:28,447]\u001b[0m Trial 216 finished with value: 3.8760678552389236 and parameters: {'svd': 0.7000000000000002, 'lfm_cos': -0.09999999999999987, 'nn': -1.9, 'knn': -0.09999999999999987, 'catboost_doc2vec': -0.19999999999999996, 'quality': 0.0, 'volume': -1.7}. Best is trial 214 with value: 3.9133793634634513.\u001b[0m\n"
     ]
    },
    {
     "name": "stdout",
     "output_type": "stream",
     "text": [
      "time 2.425 cat_cov 99.0 cov 100.0 nov 1.029 ser 0.171 m1 0.278 m10 0.408 sum 3.876\n"
     ]
    },
    {
     "name": "stderr",
     "output_type": "stream",
     "text": [
      "\u001b[32m[I 2023-05-06 21:00:31,044]\u001b[0m Trial 217 finished with value: 3.8946355481815296 and parameters: {'svd': 0.8000000000000003, 'lfm_cos': 0.10000000000000009, 'nn': -2.0, 'knn': 0.10000000000000009, 'catboost_doc2vec': -0.19999999999999996, 'quality': 0.10000000000000009, 'volume': -1.9}. Best is trial 214 with value: 3.9133793634634513.\u001b[0m\n"
     ]
    },
    {
     "name": "stdout",
     "output_type": "stream",
     "text": [
      "time 2.573 cat_cov 100.0 cov 100.0 nov 0.998 ser 0.192 m1 0.288 m10 0.416 sum 3.895\n"
     ]
    },
    {
     "name": "stderr",
     "output_type": "stream",
     "text": [
      "\u001b[32m[I 2023-05-06 21:00:33,470]\u001b[0m Trial 218 finished with value: 3.8707522971540156 and parameters: {'svd': 0.8000000000000003, 'lfm_cos': -0.09999999999999987, 'nn': -2.0, 'knn': -0.19999999999999996, 'catboost_doc2vec': -0.19999999999999996, 'quality': -0.09999999999999987, 'volume': -1.6}. Best is trial 214 with value: 3.9133793634634513.\u001b[0m\n"
     ]
    },
    {
     "name": "stdout",
     "output_type": "stream",
     "text": [
      "time 2.404 cat_cov 99.0 cov 100.0 nov 1.023 ser 0.173 m1 0.276 m10 0.408 sum 3.871\n"
     ]
    },
    {
     "name": "stderr",
     "output_type": "stream",
     "text": [
      "\u001b[32m[I 2023-05-06 21:00:36,002]\u001b[0m Trial 219 finished with value: 3.87116274971004 and parameters: {'svd': 0.9000000000000004, 'lfm_cos': 0.10000000000000009, 'nn': -2.0, 'knn': -0.09999999999999987, 'catboost_doc2vec': -0.09999999999999987, 'quality': 0.10000000000000009, 'volume': -1.9}. Best is trial 214 with value: 3.9133793634634513.\u001b[0m\n"
     ]
    },
    {
     "name": "stdout",
     "output_type": "stream",
     "text": [
      "time 2.509 cat_cov 99.0 cov 100.0 nov 0.98 ser 0.197 m1 0.287 m10 0.417 sum 3.871\n"
     ]
    },
    {
     "name": "stderr",
     "output_type": "stream",
     "text": [
      "\u001b[32m[I 2023-05-06 21:00:38,380]\u001b[0m Trial 220 finished with value: 3.8126449976243495 and parameters: {'svd': 0.7000000000000002, 'lfm_cos': -0.2999999999999998, 'nn': -1.8, 'knn': 0.10000000000000009, 'catboost_doc2vec': -0.2999999999999998, 'quality': 0.10000000000000009, 'volume': -1.8}. Best is trial 214 with value: 3.9133793634634513.\u001b[0m\n"
     ]
    },
    {
     "name": "stdout",
     "output_type": "stream",
     "text": [
      "time 2.354 cat_cov 99.0 cov 100.0 nov 0.993 ser 0.15 m1 0.273 m10 0.406 sum 3.813\n"
     ]
    },
    {
     "name": "stderr",
     "output_type": "stream",
     "text": [
      "\u001b[32m[I 2023-05-06 21:00:40,883]\u001b[0m Trial 221 finished with value: 3.9130957013549295 and parameters: {'svd': 0.8000000000000003, 'lfm_cos': 0.0, 'nn': -1.9, 'knn': 0.0, 'catboost_doc2vec': -0.3999999999999999, 'quality': -0.09999999999999987, 'volume': -2.0}. Best is trial 214 with value: 3.9133793634634513.\u001b[0m\n"
     ]
    },
    {
     "name": "stdout",
     "output_type": "stream",
     "text": [
      "time 2.48 cat_cov 100.0 cov 100.0 nov 1.025 ser 0.19 m1 0.285 m10 0.414 sum 3.913\n"
     ]
    },
    {
     "name": "stderr",
     "output_type": "stream",
     "text": [
      "\u001b[32m[I 2023-05-06 21:00:43,367]\u001b[0m Trial 222 finished with value: 3.914091194398939 and parameters: {'svd': 0.8000000000000003, 'lfm_cos': 0.0, 'nn': -1.9, 'knn': 0.0, 'catboost_doc2vec': -0.19999999999999996, 'quality': -0.09999999999999987, 'volume': -2.0}. Best is trial 222 with value: 3.914091194398939.\u001b[0m\n"
     ]
    },
    {
     "name": "stdout",
     "output_type": "stream",
     "text": [
      "time 2.462 cat_cov 99.0 cov 100.0 nov 1.036 ser 0.187 m1 0.286 m10 0.415 sum 3.914\n"
     ]
    },
    {
     "name": "stderr",
     "output_type": "stream",
     "text": [
      "\u001b[32m[I 2023-05-06 21:00:45,911]\u001b[0m Trial 223 finished with value: 3.915148940141939 and parameters: {'svd': 0.8000000000000003, 'lfm_cos': 0.0, 'nn': -2.0, 'knn': 0.0, 'catboost_doc2vec': -0.19999999999999996, 'quality': -0.09999999999999987, 'volume': -2.0}. Best is trial 223 with value: 3.915148940141939.\u001b[0m\n"
     ]
    },
    {
     "name": "stdout",
     "output_type": "stream",
     "text": [
      "time 2.52 cat_cov 99.0 cov 100.0 nov 1.038 ser 0.188 m1 0.285 m10 0.414 sum 3.915\n"
     ]
    },
    {
     "name": "stderr",
     "output_type": "stream",
     "text": [
      "\u001b[32m[I 2023-05-06 21:00:48,393]\u001b[0m Trial 224 finished with value: 3.92043810109377 and parameters: {'svd': 0.9000000000000004, 'lfm_cos': 0.0, 'nn': -2.0, 'knn': 0.0, 'catboost_doc2vec': -0.19999999999999996, 'quality': -0.09999999999999987, 'volume': -2.0}. Best is trial 224 with value: 3.92043810109377.\u001b[0m\n"
     ]
    },
    {
     "name": "stdout",
     "output_type": "stream",
     "text": [
      "time 2.458 cat_cov 100.0 cov 100.0 nov 1.029 ser 0.185 m1 0.287 m10 0.419 sum 3.92\n"
     ]
    },
    {
     "name": "stderr",
     "output_type": "stream",
     "text": [
      "\u001b[32m[I 2023-05-06 21:00:50,842]\u001b[0m Trial 225 finished with value: 3.9204940387091622 and parameters: {'svd': 1.0, 'lfm_cos': 0.0, 'nn': -2.0, 'knn': 0.0, 'catboost_doc2vec': -0.19999999999999996, 'quality': 0.0, 'volume': -2.0}. Best is trial 225 with value: 3.9204940387091622.\u001b[0m\n"
     ]
    },
    {
     "name": "stdout",
     "output_type": "stream",
     "text": [
      "time 2.426 cat_cov 100.0 cov 100.0 nov 1.028 ser 0.181 m1 0.289 m10 0.422 sum 3.92\n"
     ]
    },
    {
     "name": "stderr",
     "output_type": "stream",
     "text": [
      "\u001b[32m[I 2023-05-06 21:00:53,241]\u001b[0m Trial 226 finished with value: 3.866831200509872 and parameters: {'svd': 1.0, 'lfm_cos': -0.19999999999999996, 'nn': -2.0, 'knn': 0.0, 'catboost_doc2vec': -0.19999999999999996, 'quality': 0.0, 'volume': -2.0}. Best is trial 225 with value: 3.9204940387091622.\u001b[0m\n"
     ]
    },
    {
     "name": "stdout",
     "output_type": "stream",
     "text": [
      "time 2.377 cat_cov 100.0 cov 100.0 nov 1.012 ser 0.154 m1 0.284 m10 0.417 sum 3.867\n"
     ]
    },
    {
     "name": "stderr",
     "output_type": "stream",
     "text": [
      "\u001b[32m[I 2023-05-06 21:00:55,696]\u001b[0m Trial 227 finished with value: 3.904217313631678 and parameters: {'svd': 1.0, 'lfm_cos': 0.0, 'nn': -2.0, 'knn': -0.19999999999999996, 'catboost_doc2vec': -0.09999999999999987, 'quality': -0.09999999999999987, 'volume': -2.0}. Best is trial 225 with value: 3.9204940387091622.\u001b[0m\n"
     ]
    },
    {
     "name": "stdout",
     "output_type": "stream",
     "text": [
      "time 2.432 cat_cov 99.0 cov 100.0 nov 1.026 ser 0.186 m1 0.284 m10 0.418 sum 3.904\n"
     ]
    },
    {
     "name": "stderr",
     "output_type": "stream",
     "text": [
      "\u001b[32m[I 2023-05-06 21:00:58,241]\u001b[0m Trial 228 finished with value: 3.920451934521351 and parameters: {'svd': 1.1, 'lfm_cos': 0.0, 'nn': -2.0, 'knn': -0.09999999999999987, 'catboost_doc2vec': -0.09999999999999987, 'quality': -0.09999999999999987, 'volume': -2.0}. Best is trial 225 with value: 3.9204940387091622.\u001b[0m\n"
     ]
    },
    {
     "name": "stdout",
     "output_type": "stream",
     "text": [
      "time 2.522 cat_cov 100.0 cov 100.0 nov 1.028 ser 0.181 m1 0.288 m10 0.423 sum 3.92\n"
     ]
    },
    {
     "name": "stderr",
     "output_type": "stream",
     "text": [
      "\u001b[32m[I 2023-05-06 21:01:00,671]\u001b[0m Trial 229 finished with value: 3.8844834543977163 and parameters: {'svd': 1.1, 'lfm_cos': 0.0, 'nn': -2.0, 'knn': -0.2999999999999998, 'catboost_doc2vec': 0.0, 'quality': -0.09999999999999987, 'volume': -2.0}. Best is trial 225 with value: 3.9204940387091622.\u001b[0m\n"
     ]
    },
    {
     "name": "stdout",
     "output_type": "stream",
     "text": [
      "time 2.407 cat_cov 94.0 cov 100.0 nov 1.07 ser 0.173 m1 0.283 m10 0.419 sum 3.884\n"
     ]
    },
    {
     "name": "stderr",
     "output_type": "stream",
     "text": [
      "\u001b[32m[I 2023-05-06 21:01:03,072]\u001b[0m Trial 230 finished with value: 3.859137271106714 and parameters: {'svd': 1.0, 'lfm_cos': -0.09999999999999987, 'nn': -2.0, 'knn': -0.3999999999999999, 'catboost_doc2vec': -0.09999999999999987, 'quality': -0.09999999999999987, 'volume': -2.0}. Best is trial 225 with value: 3.9204940387091622.\u001b[0m\n"
     ]
    },
    {
     "name": "stdout",
     "output_type": "stream",
     "text": [
      "time 2.379 cat_cov 98.0 cov 100.0 nov 1.03 ser 0.165 m1 0.275 m10 0.409 sum 3.859\n"
     ]
    },
    {
     "name": "stderr",
     "output_type": "stream",
     "text": [
      "\u001b[32m[I 2023-05-06 21:01:05,539]\u001b[0m Trial 231 finished with value: 3.885358105105127 and parameters: {'svd': 1.1, 'lfm_cos': 0.0, 'nn': -2.0, 'knn': -0.2999999999999998, 'catboost_doc2vec': -0.09999999999999987, 'quality': -0.09999999999999987, 'volume': -2.0}. Best is trial 225 with value: 3.9204940387091622.\u001b[0m\n"
     ]
    },
    {
     "name": "stdout",
     "output_type": "stream",
     "text": [
      "time 2.444 cat_cov 98.0 cov 100.0 nov 1.019 ser 0.186 m1 0.283 m10 0.417 sum 3.885\n"
     ]
    },
    {
     "name": "stderr",
     "output_type": "stream",
     "text": [
      "\u001b[32m[I 2023-05-06 21:01:07,951]\u001b[0m Trial 232 finished with value: 3.9349762478820045 and parameters: {'svd': 1.1, 'lfm_cos': 0.0, 'nn': -2.0, 'knn': -0.09999999999999987, 'catboost_doc2vec': 0.0, 'quality': -0.09999999999999987, 'volume': -2.0}. Best is trial 232 with value: 3.9349762478820045.\u001b[0m\n"
     ]
    },
    {
     "name": "stdout",
     "output_type": "stream",
     "text": [
      "time 2.388 cat_cov 98.0 cov 100.0 nov 1.073 ser 0.169 m1 0.289 m10 0.424 sum 3.935\n"
     ]
    },
    {
     "name": "stderr",
     "output_type": "stream",
     "text": [
      "\u001b[32m[I 2023-05-06 21:01:10,350]\u001b[0m Trial 233 finished with value: 3.9344834543977165 and parameters: {'svd': 1.1, 'lfm_cos': 0.0, 'nn': -2.0, 'knn': -0.2999999999999998, 'catboost_doc2vec': 0.0, 'quality': -0.09999999999999987, 'volume': -2.0}. Best is trial 232 with value: 3.9349762478820045.\u001b[0m\n"
     ]
    },
    {
     "name": "stdout",
     "output_type": "stream",
     "text": [
      "time 2.376 cat_cov 99.0 cov 100.0 nov 1.07 ser 0.173 m1 0.283 m10 0.419 sum 3.934\n"
     ]
    },
    {
     "name": "stderr",
     "output_type": "stream",
     "text": [
      "\u001b[32m[I 2023-05-06 21:01:12,841]\u001b[0m Trial 234 finished with value: 3.914483454397716 and parameters: {'svd': 1.1, 'lfm_cos': 0.0, 'nn': -2.0, 'knn': -0.2999999999999998, 'catboost_doc2vec': 0.0, 'quality': -0.09999999999999987, 'volume': -2.0}. Best is trial 232 with value: 3.9349762478820045.\u001b[0m\n"
     ]
    },
    {
     "name": "stdout",
     "output_type": "stream",
     "text": [
      "time 2.468 cat_cov 97.0 cov 100.0 nov 1.07 ser 0.173 m1 0.283 m10 0.419 sum 3.914\n"
     ]
    },
    {
     "name": "stderr",
     "output_type": "stream",
     "text": [
      "\u001b[32m[I 2023-05-06 21:01:15,233]\u001b[0m Trial 235 finished with value: 3.9303517403683963 and parameters: {'svd': 1.2000000000000002, 'lfm_cos': 0.0, 'nn': -2.0, 'knn': -0.2999999999999998, 'catboost_doc2vec': 0.0, 'quality': -0.09999999999999987, 'volume': -2.0}. Best is trial 232 with value: 3.9349762478820045.\u001b[0m\n"
     ]
    },
    {
     "name": "stdout",
     "output_type": "stream",
     "text": [
      "time 2.368 cat_cov 99.0 cov 100.0 nov 1.064 ser 0.171 m1 0.284 m10 0.421 sum 3.93\n"
     ]
    },
    {
     "name": "stderr",
     "output_type": "stream",
     "text": [
      "\u001b[32m[I 2023-05-06 21:01:17,637]\u001b[0m Trial 236 finished with value: 3.924485950287881 and parameters: {'svd': 1.1, 'lfm_cos': 0.0, 'nn': -2.0, 'knn': -0.2999999999999998, 'catboost_doc2vec': 0.0, 'quality': 0.10000000000000009, 'volume': -2.0}. Best is trial 232 with value: 3.9349762478820045.\u001b[0m\n"
     ]
    },
    {
     "name": "stdout",
     "output_type": "stream",
     "text": [
      "time 2.38 cat_cov 99.0 cov 100.0 nov 1.064 ser 0.168 m1 0.284 m10 0.419 sum 3.924\n"
     ]
    },
    {
     "name": "stderr",
     "output_type": "stream",
     "text": [
      "\u001b[32m[I 2023-05-06 21:01:19,934]\u001b[0m Trial 237 finished with value: 3.6333597148059065 and parameters: {'svd': 1.1, 'lfm_cos': -0.19999999999999996, 'nn': -2.0, 'knn': -0.2999999999999998, 'catboost_doc2vec': 0.10000000000000009, 'quality': -0.09999999999999987, 'volume': -2.0}. Best is trial 232 with value: 3.9349762478820045.\u001b[0m\n"
     ]
    },
    {
     "name": "stdout",
     "output_type": "stream",
     "text": [
      "time 2.274 cat_cov 86.0 cov 100.0 nov 0.958 ser 0.13 m1 0.277 m10 0.409 sum 3.633\n"
     ]
    },
    {
     "name": "stderr",
     "output_type": "stream",
     "text": [
      "\u001b[32m[I 2023-05-06 21:01:22,318]\u001b[0m Trial 238 finished with value: 3.861305551568778 and parameters: {'svd': 1.2000000000000002, 'lfm_cos': 0.0, 'nn': -2.0, 'knn': -0.2999999999999998, 'catboost_doc2vec': 0.0, 'quality': 0.10000000000000009, 'volume': -2.0}. Best is trial 232 with value: 3.9349762478820045.\u001b[0m\n"
     ]
    },
    {
     "name": "stdout",
     "output_type": "stream",
     "text": [
      "time 2.361 cat_cov 93.0 cov 100.0 nov 1.058 ser 0.166 m1 0.286 m10 0.421 sum 3.861\n"
     ]
    },
    {
     "name": "stderr",
     "output_type": "stream",
     "text": [
      "\u001b[32m[I 2023-05-06 21:01:24,759]\u001b[0m Trial 239 finished with value: 3.850177354580854 and parameters: {'svd': 1.2000000000000002, 'lfm_cos': -0.09999999999999987, 'nn': -2.0, 'knn': -0.19999999999999996, 'catboost_doc2vec': 0.0, 'quality': -0.09999999999999987, 'volume': -2.0}. Best is trial 232 with value: 3.9349762478820045.\u001b[0m\n"
     ]
    },
    {
     "name": "stdout",
     "output_type": "stream",
     "text": [
      "time 2.416 cat_cov 97.0 cov 100.0 nov 1.032 ser 0.142 m1 0.284 m10 0.422 sum 3.85\n"
     ]
    },
    {
     "name": "stderr",
     "output_type": "stream",
     "text": [
      "\u001b[32m[I 2023-05-06 21:01:27,084]\u001b[0m Trial 240 finished with value: 3.755878341831087 and parameters: {'svd': 1.1, 'lfm_cos': -0.2999999999999998, 'nn': -2.0, 'knn': -0.3999999999999999, 'catboost_doc2vec': 0.0, 'quality': 0.0, 'volume': -2.0}. Best is trial 232 with value: 3.9349762478820045.\u001b[0m\n"
     ]
    },
    {
     "name": "stdout",
     "output_type": "stream",
     "text": [
      "time 2.303 cat_cov 94.0 cov 100.0 nov 1.002 ser 0.131 m1 0.273 m10 0.41 sum 3.756\n"
     ]
    },
    {
     "name": "stderr",
     "output_type": "stream",
     "text": [
      "\u001b[32m[I 2023-05-06 21:01:29,526]\u001b[0m Trial 241 finished with value: 3.893241545226508 and parameters: {'svd': 1.2000000000000002, 'lfm_cos': 0.0, 'nn': -2.0, 'knn': -0.19999999999999996, 'catboost_doc2vec': -0.09999999999999987, 'quality': 0.0, 'volume': -2.0}. Best is trial 232 with value: 3.9349762478820045.\u001b[0m\n"
     ]
    },
    {
     "name": "stdout",
     "output_type": "stream",
     "text": [
      "time 2.418 cat_cov 98.0 cov 100.0 nov 1.022 ser 0.18 m1 0.288 m10 0.423 sum 3.893\n"
     ]
    },
    {
     "name": "stderr",
     "output_type": "stream",
     "text": [
      "\u001b[32m[I 2023-05-06 21:01:31,969]\u001b[0m Trial 242 finished with value: 3.884917940761371 and parameters: {'svd': 1.3000000000000003, 'lfm_cos': 0.0, 'nn': -2.0, 'knn': -0.09999999999999987, 'catboost_doc2vec': -0.09999999999999987, 'quality': 0.10000000000000009, 'volume': -2.0}. Best is trial 232 with value: 3.9349762478820045.\u001b[0m\n"
     ]
    },
    {
     "name": "stdout",
     "output_type": "stream",
     "text": [
      "time 2.419 cat_cov 97.0 cov 100.0 nov 1.021 ser 0.175 m1 0.292 m10 0.427 sum 3.885\n"
     ]
    },
    {
     "name": "stderr",
     "output_type": "stream",
     "text": [
      "\u001b[32m[I 2023-05-06 21:01:34,357]\u001b[0m Trial 243 finished with value: 3.9022238768126596 and parameters: {'svd': 1.3000000000000003, 'lfm_cos': 0.0, 'nn': -2.0, 'knn': -0.19999999999999996, 'catboost_doc2vec': 0.0, 'quality': 0.10000000000000009, 'volume': -2.0}. Best is trial 232 with value: 3.9349762478820045.\u001b[0m\n"
     ]
    },
    {
     "name": "stdout",
     "output_type": "stream",
     "text": [
      "time 2.364 cat_cov 97.0 cov 100.0 nov 1.054 ser 0.162 m1 0.29 m10 0.426 sum 3.902\n"
     ]
    },
    {
     "name": "stderr",
     "output_type": "stream",
     "text": [
      "\u001b[32m[I 2023-05-06 21:01:36,751]\u001b[0m Trial 244 finished with value: 3.892223876812659 and parameters: {'svd': 1.3000000000000003, 'lfm_cos': 0.0, 'nn': -2.0, 'knn': -0.19999999999999996, 'catboost_doc2vec': 0.0, 'quality': 0.10000000000000009, 'volume': -2.0}. Best is trial 232 with value: 3.9349762478820045.\u001b[0m\n"
     ]
    },
    {
     "name": "stdout",
     "output_type": "stream",
     "text": [
      "time 2.372 cat_cov 96.0 cov 100.0 nov 1.054 ser 0.162 m1 0.29 m10 0.426 sum 3.892\n"
     ]
    },
    {
     "name": "stderr",
     "output_type": "stream",
     "text": [
      "\u001b[32m[I 2023-05-06 21:01:39,209]\u001b[0m Trial 245 finished with value: 3.8852565136785233 and parameters: {'svd': 1.3000000000000003, 'lfm_cos': -0.09999999999999987, 'nn': -2.0, 'knn': -0.19999999999999996, 'catboost_doc2vec': -0.09999999999999987, 'quality': 0.10000000000000009, 'volume': -2.0}. Best is trial 232 with value: 3.9349762478820045.\u001b[0m\n"
     ]
    },
    {
     "name": "stdout",
     "output_type": "stream",
     "text": [
      "time 2.434 cat_cov 100.0 cov 100.0 nov 1.019 ser 0.156 m1 0.287 m10 0.424 sum 3.885\n"
     ]
    },
    {
     "name": "stderr",
     "output_type": "stream",
     "text": [
      "\u001b[32m[I 2023-05-06 21:01:41,602]\u001b[0m Trial 246 finished with value: 3.8738050542580167 and parameters: {'svd': 1.4000000000000004, 'lfm_cos': -0.09999999999999987, 'nn': -2.0, 'knn': -0.19999999999999996, 'catboost_doc2vec': -0.09999999999999987, 'quality': 0.10000000000000009, 'volume': -2.0}. Best is trial 232 with value: 3.9349762478820045.\u001b[0m\n"
     ]
    },
    {
     "name": "stdout",
     "output_type": "stream",
     "text": [
      "time 2.369 cat_cov 99.0 cov 100.0 nov 1.013 ser 0.155 m1 0.29 m10 0.426 sum 3.874\n"
     ]
    },
    {
     "name": "stderr",
     "output_type": "stream",
     "text": [
      "\u001b[32m[I 2023-05-06 21:01:43,972]\u001b[0m Trial 247 finished with value: 3.834478544109833 and parameters: {'svd': 1.3000000000000003, 'lfm_cos': -0.09999999999999987, 'nn': -2.0, 'knn': -0.5, 'catboost_doc2vec': 0.0, 'quality': 0.0, 'volume': -2.0}. Best is trial 232 with value: 3.9349762478820045.\u001b[0m\n"
     ]
    },
    {
     "name": "stdout",
     "output_type": "stream",
     "text": [
      "time 2.347 cat_cov 96.0 cov 100.0 nov 1.031 ser 0.146 m1 0.28 m10 0.418 sum 3.834\n"
     ]
    },
    {
     "name": "stderr",
     "output_type": "stream",
     "text": [
      "\u001b[32m[I 2023-05-06 21:01:46,318]\u001b[0m Trial 248 finished with value: 3.693113428905452 and parameters: {'svd': 1.2000000000000002, 'lfm_cos': 0.0, 'nn': -2.0, 'knn': -0.09999999999999987, 'catboost_doc2vec': 0.10000000000000009, 'quality': 0.0, 'volume': -2.0}. Best is trial 232 with value: 3.9349762478820045.\u001b[0m\n"
     ]
    },
    {
     "name": "stdout",
     "output_type": "stream",
     "text": [
      "time 2.323 cat_cov 88.0 cov 100.0 nov 0.96 ser 0.138 m1 0.291 m10 0.424 sum 3.693\n"
     ]
    },
    {
     "name": "stderr",
     "output_type": "stream",
     "text": [
      "\u001b[32m[I 2023-05-06 21:01:48,708]\u001b[0m Trial 249 finished with value: 3.820576644348965 and parameters: {'svd': 1.2000000000000002, 'lfm_cos': -0.19999999999999996, 'nn': -1.9, 'knn': -0.19999999999999996, 'catboost_doc2vec': -0.09999999999999987, 'quality': 0.20000000000000018, 'volume': -2.0}. Best is trial 232 with value: 3.9349762478820045.\u001b[0m\n"
     ]
    },
    {
     "name": "stdout",
     "output_type": "stream",
     "text": [
      "time 2.367 cat_cov 97.0 cov 100.0 nov 1.003 ser 0.143 m1 0.284 m10 0.42 sum 3.821\n"
     ]
    },
    {
     "name": "stderr",
     "output_type": "stream",
     "text": [
      "\u001b[32m[I 2023-05-06 21:01:51,134]\u001b[0m Trial 250 finished with value: 3.7336269197265968 and parameters: {'svd': 1.3000000000000003, 'lfm_cos': 0.0, 'nn': -2.0, 'knn': -0.3999999999999999, 'catboost_doc2vec': 0.10000000000000009, 'quality': 0.0, 'volume': -1.9}. Best is trial 232 with value: 3.9349762478820045.\u001b[0m\n"
     ]
    },
    {
     "name": "stdout",
     "output_type": "stream",
     "text": [
      "time 2.402 cat_cov 93.0 cov 100.0 nov 0.96 ser 0.139 m1 0.286 m10 0.419 sum 3.734\n"
     ]
    },
    {
     "name": "stderr",
     "output_type": "stream",
     "text": [
      "\u001b[32m[I 2023-05-06 21:01:53,527]\u001b[0m Trial 251 finished with value: 3.8919711709320994 and parameters: {'svd': 1.3000000000000003, 'lfm_cos': -0.09999999999999987, 'nn': -1.9, 'knn': -0.09999999999999987, 'catboost_doc2vec': -0.09999999999999987, 'quality': -0.09999999999999987, 'volume': -1.9}. Best is trial 232 with value: 3.9349762478820045.\u001b[0m\n"
     ]
    },
    {
     "name": "stdout",
     "output_type": "stream",
     "text": [
      "time 2.37 cat_cov 100.0 cov 100.0 nov 1.021 ser 0.155 m1 0.29 m10 0.427 sum 3.892\n"
     ]
    },
    {
     "name": "stderr",
     "output_type": "stream",
     "text": [
      "\u001b[32m[I 2023-05-06 21:01:55,841]\u001b[0m Trial 252 finished with value: 3.7833818388994365 and parameters: {'svd': 1.1, 'lfm_cos': -0.2999999999999998, 'nn': -1.9, 'knn': -0.09999999999999987, 'catboost_doc2vec': 0.0, 'quality': -0.09999999999999987, 'volume': -1.9}. Best is trial 232 with value: 3.9349762478820045.\u001b[0m\n"
     ]
    },
    {
     "name": "stdout",
     "output_type": "stream",
     "text": [
      "time 2.29 cat_cov 94.0 cov 100.0 nov 1.015 ser 0.129 m1 0.28 m10 0.419 sum 3.783\n"
     ]
    },
    {
     "name": "stderr",
     "output_type": "stream",
     "text": [
      "\u001b[32m[I 2023-05-06 21:01:58,215]\u001b[0m Trial 253 finished with value: 3.6587926098691814 and parameters: {'svd': 1.1, 'lfm_cos': 0.0, 'nn': -1.9, 'knn': -0.2999999999999998, 'catboost_doc2vec': 0.20000000000000018, 'quality': -0.09999999999999987, 'volume': -1.9}. Best is trial 232 with value: 3.9349762478820045.\u001b[0m\n"
     ]
    },
    {
     "name": "stdout",
     "output_type": "stream",
     "text": [
      "time 2.35 cat_cov 90.0 cov 100.0 nov 0.932 ser 0.137 m1 0.282 m10 0.407 sum 3.659\n"
     ]
    },
    {
     "name": "stderr",
     "output_type": "stream",
     "text": [
      "\u001b[32m[I 2023-05-06 21:02:00,651]\u001b[0m Trial 254 finished with value: 3.883713591949132 and parameters: {'svd': 1.2000000000000002, 'lfm_cos': -0.09999999999999987, 'nn': -1.9, 'knn': 0.0, 'catboost_doc2vec': -0.19999999999999996, 'quality': -0.09999999999999987, 'volume': -2.0}. Best is trial 232 with value: 3.9349762478820045.\u001b[0m\n"
     ]
    },
    {
     "name": "stdout",
     "output_type": "stream",
     "text": [
      "time 2.412 cat_cov 100.0 cov 100.0 nov 1.009 ser 0.16 m1 0.29 m10 0.424 sum 3.884\n"
     ]
    },
    {
     "name": "stderr",
     "output_type": "stream",
     "text": [
      "\u001b[32m[I 2023-05-06 21:02:02,961]\u001b[0m Trial 255 finished with value: 3.7074761079795966 and parameters: {'svd': 1.1, 'lfm_cos': -0.19999999999999996, 'nn': -2.0, 'knn': -0.09999999999999987, 'catboost_doc2vec': 0.10000000000000009, 'quality': 0.0, 'volume': -1.9}. Best is trial 232 with value: 3.9349762478820045.\u001b[0m\n"
     ]
    },
    {
     "name": "stdout",
     "output_type": "stream",
     "text": [
      "time 2.286 cat_cov 93.0 cov 100.0 nov 0.95 ser 0.128 m1 0.283 m10 0.416 sum 3.707\n"
     ]
    },
    {
     "name": "stderr",
     "output_type": "stream",
     "text": [
      "\u001b[32m[I 2023-05-06 21:02:05,485]\u001b[0m Trial 256 finished with value: 3.8368231651326896 and parameters: {'svd': 1.4000000000000004, 'lfm_cos': 0.0, 'nn': -1.9, 'knn': -0.19999999999999996, 'catboost_doc2vec': -0.09999999999999987, 'quality': 0.10000000000000009, 'volume': -1.9}. Best is trial 232 with value: 3.9349762478820045.\u001b[0m\n"
     ]
    },
    {
     "name": "stdout",
     "output_type": "stream",
     "text": [
      "time 2.501 cat_cov 94.0 cov 100.0 nov 1.002 ser 0.175 m1 0.292 m10 0.428 sum 3.837\n"
     ]
    },
    {
     "name": "stderr",
     "output_type": "stream",
     "text": [
      "\u001b[32m[I 2023-05-06 21:02:07,844]\u001b[0m Trial 257 finished with value: 3.771213788109387 and parameters: {'svd': 1.2000000000000002, 'lfm_cos': -0.09999999999999987, 'nn': -2.0, 'knn': 0.0, 'catboost_doc2vec': 0.0, 'quality': 0.20000000000000018, 'volume': -2.0}. Best is trial 232 with value: 3.9349762478820045.\u001b[0m\n"
     ]
    },
    {
     "name": "stdout",
     "output_type": "stream",
     "text": [
      "time 2.335 cat_cov 88.0 cov 100.0 nov 1.035 ser 0.136 m1 0.292 m10 0.428 sum 3.771\n"
     ]
    },
    {
     "name": "stderr",
     "output_type": "stream",
     "text": [
      "\u001b[32m[I 2023-05-06 21:02:10,305]\u001b[0m Trial 258 finished with value: 3.8803898634126686 and parameters: {'svd': 1.3000000000000003, 'lfm_cos': 0.0, 'nn': -1.9, 'knn': -0.3999999999999999, 'catboost_doc2vec': -0.09999999999999987, 'quality': 0.0, 'volume': -2.0}. Best is trial 232 with value: 3.9349762478820045.\u001b[0m\n"
     ]
    },
    {
     "name": "stdout",
     "output_type": "stream",
     "text": [
      "time 2.438 cat_cov 98.0 cov 100.0 nov 1.012 ser 0.181 m1 0.285 m10 0.422 sum 3.88\n"
     ]
    },
    {
     "name": "stderr",
     "output_type": "stream",
     "text": [
      "\u001b[32m[I 2023-05-06 21:02:12,706]\u001b[0m Trial 259 finished with value: 3.2861176714973874 and parameters: {'svd': 1.0, 'lfm_cos': 0.0, 'nn': 1.6, 'knn': -0.2999999999999998, 'catboost_doc2vec': -0.19999999999999996, 'quality': -0.09999999999999987, 'volume': -1.9}. Best is trial 232 with value: 3.9349762478820045.\u001b[0m\n"
     ]
    },
    {
     "name": "stdout",
     "output_type": "stream",
     "text": [
      "time 2.376 cat_cov 64.0 cov 100.0 nov 0.72 ser 0.094 m1 0.355 m10 0.477 sum 3.286\n"
     ]
    },
    {
     "name": "stderr",
     "output_type": "stream",
     "text": [
      "\u001b[32m[I 2023-05-06 21:02:15,164]\u001b[0m Trial 260 finished with value: 3.8818796722655695 and parameters: {'svd': 1.1, 'lfm_cos': 0.10000000000000009, 'nn': -2.0, 'knn': -0.09999999999999987, 'catboost_doc2vec': 0.0, 'quality': -0.19999999999999996, 'volume': -1.9}. Best is trial 232 with value: 3.9349762478820045.\u001b[0m\n"
     ]
    },
    {
     "name": "stdout",
     "output_type": "stream",
     "text": [
      "time 2.433 cat_cov 99.0 cov 100.0 nov 0.989 ser 0.192 m1 0.29 m10 0.421 sum 3.882\n"
     ]
    },
    {
     "name": "stderr",
     "output_type": "stream",
     "text": [
      "\u001b[32m[I 2023-05-06 21:02:17,663]\u001b[0m Trial 261 finished with value: 3.8754382609358893 and parameters: {'svd': 1.2000000000000002, 'lfm_cos': -0.09999999999999987, 'nn': -1.9, 'knn': 0.0, 'catboost_doc2vec': -0.19999999999999996, 'quality': 0.0, 'volume': -2.0}. Best is trial 232 with value: 3.9349762478820045.\u001b[0m\n"
     ]
    },
    {
     "name": "stdout",
     "output_type": "stream",
     "text": [
      "time 2.475 cat_cov 99.0 cov 100.0 nov 1.009 ser 0.161 m1 0.291 m10 0.425 sum 3.875\n"
     ]
    },
    {
     "name": "stderr",
     "output_type": "stream",
     "text": [
      "\u001b[32m[I 2023-05-06 21:02:20,108]\u001b[0m Trial 262 finished with value: 3.8633540360012466 and parameters: {'svd': 1.4000000000000004, 'lfm_cos': 0.10000000000000009, 'nn': -1.9, 'knn': -0.2999999999999998, 'catboost_doc2vec': 0.10000000000000009, 'quality': -0.09999999999999987, 'volume': -1.9}. Best is trial 232 with value: 3.9349762478820045.\u001b[0m\n"
     ]
    },
    {
     "name": "stdout",
     "output_type": "stream",
     "text": [
      "time 2.421 cat_cov 98.0 cov 100.0 nov 0.996 ser 0.172 m1 0.29 m10 0.425 sum 3.863\n"
     ]
    },
    {
     "name": "stderr",
     "output_type": "stream",
     "text": [
      "\u001b[32m[I 2023-05-06 21:02:22,408]\u001b[0m Trial 263 finished with value: 3.6234755746945053 and parameters: {'svd': 1.0, 'lfm_cos': -0.19999999999999996, 'nn': -2.0, 'knn': -0.19999999999999996, 'catboost_doc2vec': 0.20000000000000018, 'quality': 0.10000000000000009, 'volume': -2.0}. Best is trial 232 with value: 3.9349762478820045.\u001b[0m\n"
     ]
    },
    {
     "name": "stdout",
     "output_type": "stream",
     "text": [
      "time 2.275 cat_cov 89.0 cov 100.0 nov 0.926 ser 0.128 m1 0.278 m10 0.402 sum 3.623\n"
     ]
    },
    {
     "name": "stderr",
     "output_type": "stream",
     "text": [
      "\u001b[32m[I 2023-05-06 21:02:24,881]\u001b[0m Trial 264 finished with value: 3.8556358606915997 and parameters: {'svd': 1.1, 'lfm_cos': 0.0, 'nn': -1.9, 'knn': -0.5, 'catboost_doc2vec': -0.09999999999999987, 'quality': 0.0, 'volume': -0.3999999999999999}. Best is trial 232 with value: 3.9349762478820045.\u001b[0m\n"
     ]
    },
    {
     "name": "stdout",
     "output_type": "stream",
     "text": [
      "time 2.449 cat_cov 99.0 cov 100.0 nov 0.97 ser 0.197 m1 0.282 m10 0.416 sum 3.856\n"
     ]
    },
    {
     "name": "stderr",
     "output_type": "stream",
     "text": [
      "\u001b[32m[I 2023-05-06 21:02:27,332]\u001b[0m Trial 265 finished with value: 3.9081111625945693 and parameters: {'svd': 1.2000000000000002, 'lfm_cos': 0.0, 'nn': -2.0, 'knn': -0.09999999999999987, 'catboost_doc2vec': -0.09999999999999987, 'quality': 0.10000000000000009, 'volume': -1.9}. Best is trial 232 with value: 3.9349762478820045.\u001b[0m\n"
     ]
    },
    {
     "name": "stdout",
     "output_type": "stream",
     "text": [
      "time 2.427 cat_cov 99.0 cov 100.0 nov 1.024 ser 0.177 m1 0.291 m10 0.426 sum 3.908\n"
     ]
    },
    {
     "name": "stderr",
     "output_type": "stream",
     "text": [
      "\u001b[32m[I 2023-05-06 21:02:29,685]\u001b[0m Trial 266 finished with value: 3.8237144207052136 and parameters: {'svd': 1.2000000000000002, 'lfm_cos': -0.09999999999999987, 'nn': -2.0, 'knn': -0.09999999999999987, 'catboost_doc2vec': 0.0, 'quality': 0.20000000000000018, 'volume': -1.9}. Best is trial 232 with value: 3.9349762478820045.\u001b[0m\n"
     ]
    },
    {
     "name": "stdout",
     "output_type": "stream",
     "text": [
      "time 2.329 cat_cov 94.0 cov 100.0 nov 1.031 ser 0.137 m1 0.289 m10 0.426 sum 3.824\n"
     ]
    },
    {
     "name": "stderr",
     "output_type": "stream",
     "text": [
      "\u001b[32m[I 2023-05-06 21:02:32,196]\u001b[0m Trial 267 finished with value: 3.888437125860372 and parameters: {'svd': 1.3000000000000003, 'lfm_cos': 0.10000000000000009, 'nn': -1.9, 'knn': 0.0, 'catboost_doc2vec': 0.10000000000000009, 'quality': 0.10000000000000009, 'volume': -1.9}. Best is trial 232 with value: 3.9349762478820045.\u001b[0m\n"
     ]
    },
    {
     "name": "stdout",
     "output_type": "stream",
     "text": [
      "time 2.486 cat_cov 100.0 cov 100.0 nov 0.991 ser 0.17 m1 0.297 m10 0.431 sum 3.888\n"
     ]
    },
    {
     "name": "stderr",
     "output_type": "stream",
     "text": [
      "\u001b[32m[I 2023-05-06 21:02:34,621]\u001b[0m Trial 268 finished with value: 3.8371085753011855 and parameters: {'svd': 1.5, 'lfm_cos': 0.10000000000000009, 'nn': -1.9, 'knn': 0.0, 'catboost_doc2vec': 0.10000000000000009, 'quality': 0.10000000000000009, 'volume': -1.9}. Best is trial 232 with value: 3.9349762478820045.\u001b[0m\n"
     ]
    },
    {
     "name": "stdout",
     "output_type": "stream",
     "text": [
      "time 2.4 cat_cov 96.0 cov 100.0 nov 0.976 ser 0.166 m1 0.3 m10 0.435 sum 3.837\n"
     ]
    },
    {
     "name": "stderr",
     "output_type": "stream",
     "text": [
      "\u001b[32m[I 2023-05-06 21:02:37,056]\u001b[0m Trial 269 finished with value: 3.8787141170600785 and parameters: {'svd': 1.3000000000000003, 'lfm_cos': 0.0, 'nn': -1.9, 'knn': 0.0, 'catboost_doc2vec': -0.19999999999999996, 'quality': 0.20000000000000018, 'volume': -2.0}. Best is trial 232 with value: 3.9349762478820045.\u001b[0m\n"
     ]
    },
    {
     "name": "stdout",
     "output_type": "stream",
     "text": [
      "time 2.411 cat_cov 98.0 cov 100.0 nov 1.004 ser 0.171 m1 0.295 m10 0.429 sum 3.879\n"
     ]
    },
    {
     "name": "stderr",
     "output_type": "stream",
     "text": [
      "\u001b[32m[I 2023-05-06 21:02:39,545]\u001b[0m Trial 270 finished with value: 3.863614835864419 and parameters: {'svd': 1.3000000000000003, 'lfm_cos': 0.10000000000000009, 'nn': -1.9, 'knn': -0.19999999999999996, 'catboost_doc2vec': 0.0, 'quality': 0.10000000000000009, 'volume': -1.9}. Best is trial 232 with value: 3.9349762478820045.\u001b[0m\n"
     ]
    },
    {
     "name": "stdout",
     "output_type": "stream",
     "text": [
      "time 2.465 cat_cov 99.0 cov 100.0 nov 0.968 ser 0.187 m1 0.292 m10 0.426 sum 3.864\n"
     ]
    },
    {
     "name": "stderr",
     "output_type": "stream",
     "text": [
      "\u001b[32m[I 2023-05-06 21:02:41,842]\u001b[0m Trial 271 finished with value: 3.6629112404304163 and parameters: {'svd': 1.0, 'lfm_cos': -0.19999999999999996, 'nn': -2.0, 'knn': -0.09999999999999987, 'catboost_doc2vec': 0.20000000000000018, 'quality': 0.0, 'volume': -1.9}. Best is trial 232 with value: 3.9349762478820045.\u001b[0m\n"
     ]
    },
    {
     "name": "stdout",
     "output_type": "stream",
     "text": [
      "time 2.273 cat_cov 93.0 cov 100.0 nov 0.921 ser 0.128 m1 0.279 m10 0.404 sum 3.663\n"
     ]
    },
    {
     "name": "stderr",
     "output_type": "stream",
     "text": [
      "\u001b[32m[I 2023-05-06 21:02:44,344]\u001b[0m Trial 272 finished with value: 3.885711910571865 and parameters: {'svd': 1.2000000000000002, 'lfm_cos': -0.09999999999999987, 'nn': -2.0, 'knn': 0.0, 'catboost_doc2vec': -0.19999999999999996, 'quality': -0.09999999999999987, 'volume': -2.0}. Best is trial 232 with value: 3.9349762478820045.\u001b[0m\n"
     ]
    },
    {
     "name": "stdout",
     "output_type": "stream",
     "text": [
      "time 2.477 cat_cov 100.0 cov 100.0 nov 1.012 ser 0.161 m1 0.289 m10 0.423 sum 3.886\n"
     ]
    },
    {
     "name": "stderr",
     "output_type": "stream",
     "text": [
      "\u001b[32m[I 2023-05-06 21:02:46,779]\u001b[0m Trial 273 finished with value: 3.8696919687479467 and parameters: {'svd': 1.4000000000000004, 'lfm_cos': 0.10000000000000009, 'nn': -1.9, 'knn': -0.09999999999999987, 'catboost_doc2vec': 0.10000000000000009, 'quality': -0.19999999999999996, 'volume': -2.0}. Best is trial 232 with value: 3.9349762478820045.\u001b[0m\n"
     ]
    },
    {
     "name": "stdout",
     "output_type": "stream",
     "text": [
      "time 2.411 cat_cov 98.0 cov 100.0 nov 0.994 ser 0.17 m1 0.296 m10 0.43 sum 3.87\n"
     ]
    },
    {
     "name": "stderr",
     "output_type": "stream",
     "text": [
      "\u001b[32m[I 2023-05-06 21:02:49,251]\u001b[0m Trial 274 finished with value: 3.7334435726588784 and parameters: {'svd': 1.3000000000000003, 'lfm_cos': 0.0, 'nn': -1.9, 'knn': 0.10000000000000009, 'catboost_doc2vec': -0.09999999999999987, 'quality': 0.10000000000000009, 'volume': 0.6000000000000001}. Best is trial 232 with value: 3.9349762478820045.\u001b[0m\n"
     ]
    },
    {
     "name": "stdout",
     "output_type": "stream",
     "text": [
      "time 2.448 cat_cov 94.0 cov 100.0 nov 0.901 ser 0.163 m1 0.298 m10 0.431 sum 3.733\n"
     ]
    },
    {
     "name": "stderr",
     "output_type": "stream",
     "text": [
      "\u001b[32m[I 2023-05-06 21:02:51,583]\u001b[0m Trial 275 finished with value: 3.8052335850926102 and parameters: {'svd': 1.5, 'lfm_cos': -0.09999999999999987, 'nn': -1.8, 'knn': -0.19999999999999996, 'catboost_doc2vec': 0.0, 'quality': 0.0, 'volume': -1.9}. Best is trial 232 with value: 3.9349762478820045.\u001b[0m\n"
     ]
    },
    {
     "name": "stdout",
     "output_type": "stream",
     "text": [
      "time 2.307 cat_cov 94.0 cov 100.0 nov 1.004 ser 0.136 m1 0.292 m10 0.433 sum 3.805\n"
     ]
    },
    {
     "name": "stderr",
     "output_type": "stream",
     "text": [
      "\u001b[32m[I 2023-05-06 21:02:54,104]\u001b[0m Trial 276 finished with value: 3.871383348795203 and parameters: {'svd': 1.1, 'lfm_cos': 0.10000000000000009, 'nn': -2.0, 'knn': -0.09999999999999987, 'catboost_doc2vec': -0.19999999999999996, 'quality': -0.09999999999999987, 'volume': -2.0}. Best is trial 232 with value: 3.9349762478820045.\u001b[0m\n"
     ]
    },
    {
     "name": "stdout",
     "output_type": "stream",
     "text": [
      "time 2.496 cat_cov 100.0 cov 100.0 nov 0.97 ser 0.194 m1 0.288 m10 0.419 sum 3.871\n"
     ]
    },
    {
     "name": "stderr",
     "output_type": "stream",
     "text": [
      "\u001b[32m[I 2023-05-06 21:02:56,456]\u001b[0m Trial 277 finished with value: 3.582901402261588 and parameters: {'svd': 1.0, 'lfm_cos': 0.0, 'nn': -1.9, 'knn': 0.10000000000000009, 'catboost_doc2vec': 0.30000000000000027, 'quality': -0.19999999999999996, 'volume': 1.0}. Best is trial 232 with value: 3.9349762478820045.\u001b[0m\n"
     ]
    },
    {
     "name": "stdout",
     "output_type": "stream",
     "text": [
      "time 2.328 cat_cov 87.0 cov 100.0 nov 0.878 ser 0.133 m1 0.291 m10 0.41 sum 3.583\n"
     ]
    },
    {
     "name": "stderr",
     "output_type": "stream",
     "text": [
      "\u001b[32m[I 2023-05-06 21:02:59,221]\u001b[0m Trial 278 finished with value: 3.6831527741120373 and parameters: {'svd': -0.5999999999999999, 'lfm_cos': 0.10000000000000009, 'nn': -2.0, 'knn': -0.19999999999999996, 'catboost_doc2vec': -0.2999999999999998, 'quality': 0.20000000000000018, 'volume': -0.5999999999999999}. Best is trial 232 with value: 3.9349762478820045.\u001b[0m\n"
     ]
    },
    {
     "name": "stdout",
     "output_type": "stream",
     "text": [
      "time 2.74 cat_cov 99.0 cov 100.0 nov 0.956 ser 0.222 m1 0.188 m10 0.327 sum 3.683\n"
     ]
    },
    {
     "name": "stderr",
     "output_type": "stream",
     "text": [
      "\u001b[32m[I 2023-05-06 21:03:01,574]\u001b[0m Trial 279 finished with value: 3.7458144703228733 and parameters: {'svd': 1.2000000000000002, 'lfm_cos': 0.0, 'nn': -1.8, 'knn': 0.0, 'catboost_doc2vec': 0.10000000000000009, 'quality': 0.0, 'volume': -1.8}. Best is trial 232 with value: 3.9349762478820045.\u001b[0m\n"
     ]
    },
    {
     "name": "stdout",
     "output_type": "stream",
     "text": [
      "time 2.328 cat_cov 93.0 cov 100.0 nov 0.953 ser 0.137 m1 0.296 m10 0.431 sum 3.746\n"
     ]
    },
    {
     "name": "stderr",
     "output_type": "stream",
     "text": [
      "\u001b[32m[I 2023-05-06 21:03:03,905]\u001b[0m Trial 280 finished with value: 3.6985351233404806 and parameters: {'svd': 1.0, 'lfm_cos': -0.2999999999999998, 'nn': -2.0, 'knn': -0.2999999999999998, 'catboost_doc2vec': 0.0, 'quality': 0.30000000000000027, 'volume': -1.9}. Best is trial 232 with value: 3.9349762478820045.\u001b[0m\n"
     ]
    },
    {
     "name": "stdout",
     "output_type": "stream",
     "text": [
      "time 2.307 cat_cov 90.0 cov 100.0 nov 0.988 ser 0.127 m1 0.274 m10 0.41 sum 3.699\n"
     ]
    },
    {
     "name": "stderr",
     "output_type": "stream",
     "text": [
      "\u001b[32m[I 2023-05-06 21:03:06,283]\u001b[0m Trial 281 finished with value: 3.875896897463522 and parameters: {'svd': 1.2000000000000002, 'lfm_cos': -0.09999999999999987, 'nn': -1.9, 'knn': -0.19999999999999996, 'catboost_doc2vec': -0.09999999999999987, 'quality': 0.10000000000000009, 'volume': -2.0}. Best is trial 232 with value: 3.9349762478820045.\u001b[0m\n"
     ]
    },
    {
     "name": "stdout",
     "output_type": "stream",
     "text": [
      "time 2.354 cat_cov 99.0 cov 100.0 nov 1.021 ser 0.156 m1 0.286 m10 0.422 sum 3.876\n"
     ]
    },
    {
     "name": "stderr",
     "output_type": "stream",
     "text": [
      "\u001b[32m[I 2023-05-06 21:03:08,699]\u001b[0m Trial 282 finished with value: 3.8276993268621418 and parameters: {'svd': 1.1, 'lfm_cos': -0.19999999999999996, 'nn': -1.8, 'knn': -0.3999999999999999, 'catboost_doc2vec': -0.19999999999999996, 'quality': -0.09999999999999987, 'volume': -1.9}. Best is trial 232 with value: 3.9349762478820045.\u001b[0m\n"
     ]
    },
    {
     "name": "stdout",
     "output_type": "stream",
     "text": [
      "time 2.392 cat_cov 99.0 cov 100.0 nov 0.993 ser 0.159 m1 0.275 m10 0.411 sum 3.828\n"
     ]
    },
    {
     "name": "stderr",
     "output_type": "stream",
     "text": [
      "\u001b[32m[I 2023-05-06 21:03:11,255]\u001b[0m Trial 283 finished with value: 3.8923555720502465 and parameters: {'svd': 1.0, 'lfm_cos': 0.0, 'nn': -2.0, 'knn': -0.5, 'catboost_doc2vec': -0.09999999999999987, 'quality': -0.19999999999999996, 'volume': -1.8}. Best is trial 232 with value: 3.9349762478820045.\u001b[0m\n"
     ]
    },
    {
     "name": "stdout",
     "output_type": "stream",
     "text": [
      "time 2.531 cat_cov 99.0 cov 100.0 nov 1.022 ser 0.193 m1 0.276 m10 0.411 sum 3.892\n"
     ]
    },
    {
     "name": "stderr",
     "output_type": "stream",
     "text": [
      "\u001b[32m[I 2023-05-06 21:03:13,635]\u001b[0m Trial 284 finished with value: 3.7867418482308377 and parameters: {'svd': 1.4000000000000004, 'lfm_cos': 0.10000000000000009, 'nn': -2.0, 'knn': -0.7, 'catboost_doc2vec': 0.20000000000000018, 'quality': -0.19999999999999996, 'volume': -2.0}. Best is trial 232 with value: 3.9349762478820045.\u001b[0m\n"
     ]
    },
    {
     "name": "stdout",
     "output_type": "stream",
     "text": [
      "time 2.356 cat_cov 98.0 cov 100.0 nov 0.961 ser 0.155 m1 0.282 m10 0.409 sum 3.787\n"
     ]
    },
    {
     "name": "stderr",
     "output_type": "stream",
     "text": [
      "\u001b[32m[I 2023-05-06 21:03:16,047]\u001b[0m Trial 285 finished with value: 3.891129003994171 and parameters: {'svd': 1.3000000000000003, 'lfm_cos': -0.09999999999999987, 'nn': -2.0, 'knn': -0.09999999999999987, 'catboost_doc2vec': -0.09999999999999987, 'quality': -0.19999999999999996, 'volume': -2.0}. Best is trial 232 with value: 3.9349762478820045.\u001b[0m\n"
     ]
    },
    {
     "name": "stdout",
     "output_type": "stream",
     "text": [
      "time 2.388 cat_cov 99.0 cov 100.0 nov 1.03 ser 0.157 m1 0.289 m10 0.425 sum 3.891\n"
     ]
    },
    {
     "name": "stderr",
     "output_type": "stream",
     "text": [
      "\u001b[32m[I 2023-05-06 21:03:18,477]\u001b[0m Trial 286 finished with value: 3.866203846644908 and parameters: {'svd': 1.1, 'lfm_cos': -0.09999999999999987, 'nn': -2.0, 'knn': -0.5999999999999999, 'catboost_doc2vec': -0.09999999999999987, 'quality': -0.19999999999999996, 'volume': -1.9}. Best is trial 232 with value: 3.9349762478820045.\u001b[0m\n"
     ]
    },
    {
     "name": "stdout",
     "output_type": "stream",
     "text": [
      "time 2.406 cat_cov 99.0 cov 100.0 nov 1.026 ser 0.168 m1 0.273 m10 0.409 sum 3.866\n"
     ]
    },
    {
     "name": "stderr",
     "output_type": "stream",
     "text": [
      "\u001b[32m[I 2023-05-06 21:03:20,809]\u001b[0m Trial 287 finished with value: 3.7814933517220295 and parameters: {'svd': 1.3000000000000003, 'lfm_cos': -0.19999999999999996, 'nn': -2.0, 'knn': -0.09999999999999987, 'catboost_doc2vec': 0.0, 'quality': -0.2999999999999998, 'volume': -1.8}. Best is trial 232 with value: 3.9349762478820045.\u001b[0m\n"
     ]
    },
    {
     "name": "stdout",
     "output_type": "stream",
     "text": [
      "time 2.307 cat_cov 91.0 cov 100.0 nov 1.025 ser 0.135 m1 0.286 m10 0.426 sum 3.781\n"
     ]
    },
    {
     "name": "stderr",
     "output_type": "stream",
     "text": [
      "\u001b[32m[I 2023-05-06 21:03:23,200]\u001b[0m Trial 288 finished with value: 3.8657496080277856 and parameters: {'svd': 1.3000000000000003, 'lfm_cos': -0.09999999999999987, 'nn': -2.0, 'knn': -0.5, 'catboost_doc2vec': -0.09999999999999987, 'quality': -0.09999999999999987, 'volume': -2.0}. Best is trial 232 with value: 3.9349762478820045.\u001b[0m\n"
     ]
    },
    {
     "name": "stdout",
     "output_type": "stream",
     "text": [
      "time 2.366 cat_cov 99.0 cov 100.0 nov 1.017 ser 0.163 m1 0.28 m10 0.416 sum 3.866\n"
     ]
    },
    {
     "name": "stderr",
     "output_type": "stream",
     "text": [
      "\u001b[32m[I 2023-05-06 21:03:25,763]\u001b[0m Trial 289 finished with value: 3.890341620410567 and parameters: {'svd': 1.2000000000000002, 'lfm_cos': 0.0, 'nn': -1.9, 'knn': 0.0, 'catboost_doc2vec': -0.2999999999999998, 'quality': -0.09999999999999987, 'volume': -1.9}. Best is trial 232 with value: 3.9349762478820045.\u001b[0m\n"
     ]
    },
    {
     "name": "stdout",
     "output_type": "stream",
     "text": [
      "time 2.538 cat_cov 99.0 cov 100.0 nov 1.004 ser 0.179 m1 0.292 m10 0.425 sum 3.89\n"
     ]
    },
    {
     "name": "stderr",
     "output_type": "stream",
     "text": [
      "\u001b[32m[I 2023-05-06 21:03:28,264]\u001b[0m Trial 290 finished with value: 3.8843503703153592 and parameters: {'svd': 1.2000000000000002, 'lfm_cos': 0.0, 'nn': -2.0, 'knn': -0.2999999999999998, 'catboost_doc2vec': -0.2999999999999998, 'quality': -0.19999999999999996, 'volume': -2.0}. Best is trial 232 with value: 3.9349762478820045.\u001b[0m\n"
     ]
    },
    {
     "name": "stdout",
     "output_type": "stream",
     "text": [
      "time 2.476 cat_cov 100.0 cov 100.0 nov 0.993 ser 0.191 m1 0.283 m10 0.417 sum 3.884\n"
     ]
    },
    {
     "name": "stderr",
     "output_type": "stream",
     "text": [
      "\u001b[32m[I 2023-05-06 21:03:30,691]\u001b[0m Trial 291 finished with value: 3.8767723731114696 and parameters: {'svd': 1.0, 'lfm_cos': -0.09999999999999987, 'nn': -1.9, 'knn': -0.09999999999999987, 'catboost_doc2vec': -0.2999999999999998, 'quality': -0.09999999999999987, 'volume': -1.8}. Best is trial 232 with value: 3.9349762478820045.\u001b[0m\n"
     ]
    },
    {
     "name": "stdout",
     "output_type": "stream",
     "text": [
      "time 2.402 cat_cov 99.0 cov 100.0 nov 1.015 ser 0.171 m1 0.284 m10 0.417 sum 3.877\n"
     ]
    },
    {
     "name": "stderr",
     "output_type": "stream",
     "text": [
      "\u001b[32m[I 2023-05-06 21:03:33,028]\u001b[0m Trial 292 finished with value: 3.6799359023247464 and parameters: {'svd': 1.2000000000000002, 'lfm_cos': -1.1, 'nn': -1.9, 'knn': -0.19999999999999996, 'catboost_doc2vec': -0.19999999999999996, 'quality': -0.2999999999999998, 'volume': -1.9}. Best is trial 232 with value: 3.9349762478820045.\u001b[0m\n"
     ]
    },
    {
     "name": "stdout",
     "output_type": "stream",
     "text": [
      "time 2.313 cat_cov 91.0 cov 100.0 nov 0.968 ser 0.124 m1 0.271 m10 0.406 sum 3.68\n"
     ]
    },
    {
     "name": "stderr",
     "output_type": "stream",
     "text": [
      "\u001b[32m[I 2023-05-06 21:03:35,386]\u001b[0m Trial 293 finished with value: 3.8245551770792434 and parameters: {'svd': 1.0, 'lfm_cos': -0.3999999999999999, 'nn': -2.0, 'knn': 0.0, 'catboost_doc2vec': -0.09999999999999987, 'quality': -0.19999999999999996, 'volume': -2.0}. Best is trial 232 with value: 3.9349762478820045.\u001b[0m\n"
     ]
    },
    {
     "name": "stdout",
     "output_type": "stream",
     "text": [
      "time 2.334 cat_cov 99.0 cov 100.0 nov 1.009 ser 0.134 m1 0.277 m10 0.414 sum 3.825\n"
     ]
    },
    {
     "name": "stderr",
     "output_type": "stream",
     "text": [
      "\u001b[32m[I 2023-05-06 21:03:37,939]\u001b[0m Trial 294 finished with value: 3.903958861741691 and parameters: {'svd': 1.1, 'lfm_cos': 0.0, 'nn': -1.9, 'knn': -0.09999999999999987, 'catboost_doc2vec': -0.2999999999999998, 'quality': 0.0, 'volume': -2.0}. Best is trial 232 with value: 3.9349762478820045.\u001b[0m\n"
     ]
    },
    {
     "name": "stdout",
     "output_type": "stream",
     "text": [
      "time 2.527 cat_cov 100.0 cov 100.0 nov 1.009 ser 0.184 m1 0.289 m10 0.422 sum 3.904\n"
     ]
    },
    {
     "name": "stderr",
     "output_type": "stream",
     "text": [
      "\u001b[32m[I 2023-05-06 21:03:40,422]\u001b[0m Trial 295 finished with value: 3.905628087118047 and parameters: {'svd': 1.1, 'lfm_cos': 0.0, 'nn': -2.0, 'knn': -0.09999999999999987, 'catboost_doc2vec': -0.2999999999999998, 'quality': 0.0, 'volume': -2.0}. Best is trial 232 with value: 3.9349762478820045.\u001b[0m\n"
     ]
    },
    {
     "name": "stdout",
     "output_type": "stream",
     "text": [
      "time 2.458 cat_cov 100.0 cov 100.0 nov 1.011 ser 0.185 m1 0.288 m10 0.421 sum 3.906\n"
     ]
    },
    {
     "name": "stderr",
     "output_type": "stream",
     "text": [
      "\u001b[32m[I 2023-05-06 21:03:42,742]\u001b[0m Trial 296 finished with value: 3.7964100711973785 and parameters: {'svd': 1.1, 'lfm_cos': -0.2999999999999998, 'nn': -2.0, 'knn': -0.3999999999999999, 'catboost_doc2vec': -0.09999999999999987, 'quality': 0.0, 'volume': -2.0}. Best is trial 232 with value: 3.9349762478820045.\u001b[0m\n"
     ]
    },
    {
     "name": "stdout",
     "output_type": "stream",
     "text": [
      "time 2.295 cat_cov 97.0 cov 100.0 nov 1.004 ser 0.14 m1 0.273 m10 0.41 sum 3.796\n"
     ]
    },
    {
     "name": "stderr",
     "output_type": "stream",
     "text": [
      "\u001b[32m[I 2023-05-06 21:03:45,155]\u001b[0m Trial 297 finished with value: 3.855767623928528 and parameters: {'svd': 1.1, 'lfm_cos': -0.19999999999999996, 'nn': -2.0, 'knn': -0.19999999999999996, 'catboost_doc2vec': -0.19999999999999996, 'quality': 0.0, 'volume': -2.0}. Best is trial 232 with value: 3.9349762478820045.\u001b[0m\n"
     ]
    },
    {
     "name": "stdout",
     "output_type": "stream",
     "text": [
      "time 2.389 cat_cov 99.0 cov 100.0 nov 1.013 ser 0.157 m1 0.281 m10 0.415 sum 3.856\n"
     ]
    },
    {
     "name": "stderr",
     "output_type": "stream",
     "text": [
      "\u001b[32m[I 2023-05-06 21:03:47,591]\u001b[0m Trial 298 finished with value: 3.2476560067056544 and parameters: {'svd': -1.0, 'lfm_cos': -0.09999999999999987, 'nn': -2.0, 'knn': -0.09999999999999987, 'catboost_doc2vec': 0.0, 'quality': 0.10000000000000009, 'volume': -2.0}. Best is trial 232 with value: 3.9349762478820045.\u001b[0m\n"
     ]
    },
    {
     "name": "stdout",
     "output_type": "stream",
     "text": [
      "time 2.409 cat_cov 95.0 cov 100.0 nov 0.975 ser 0.141 m1 0.036 m10 0.145 sum 3.248\n"
     ]
    },
    {
     "name": "stderr",
     "output_type": "stream",
     "text": [
      "\u001b[32m[I 2023-05-06 21:03:50,092]\u001b[0m Trial 299 finished with value: 3.8745901493322745 and parameters: {'svd': 1.0, 'lfm_cos': 0.0, 'nn': -1.9, 'knn': -0.2999999999999998, 'catboost_doc2vec': -0.2999999999999998, 'quality': 0.0, 'volume': -1.9}. Best is trial 232 with value: 3.9349762478820045.\u001b[0m\n"
     ]
    },
    {
     "name": "stdout",
     "output_type": "stream",
     "text": [
      "time 2.476 cat_cov 99.0 cov 100.0 nov 0.995 ser 0.194 m1 0.281 m10 0.415 sum 3.875\n"
     ]
    },
    {
     "name": "stderr",
     "output_type": "stream",
     "text": [
      "\u001b[32m[I 2023-05-06 21:03:52,649]\u001b[0m Trial 300 finished with value: 3.8929048142774505 and parameters: {'svd': 1.1, 'lfm_cos': 0.0, 'nn': -1.8, 'knn': -0.09999999999999987, 'catboost_doc2vec': -0.19999999999999996, 'quality': -0.09999999999999987, 'volume': -2.0}. Best is trial 232 with value: 3.9349762478820045.\u001b[0m\n"
     ]
    },
    {
     "name": "stdout",
     "output_type": "stream",
     "text": [
      "time 2.532 cat_cov 99.0 cov 100.0 nov 1.007 ser 0.183 m1 0.289 m10 0.423 sum 3.893\n"
     ]
    },
    {
     "name": "stderr",
     "output_type": "stream",
     "text": [
      "\u001b[32m[I 2023-05-06 21:03:55,074]\u001b[0m Trial 301 finished with value: 3.0863693311428038 and parameters: {'svd': -0.19999999999999996, 'lfm_cos': 0.10000000000000009, 'nn': -1.8, 'knn': -0.19999999999999996, 'catboost_doc2vec': 1.0, 'quality': 0.20000000000000018, 'volume': -1.9}. Best is trial 232 with value: 3.9349762478820045.\u001b[0m\n"
     ]
    },
    {
     "name": "stdout",
     "output_type": "stream",
     "text": [
      "time 2.401 cat_cov 87.0 cov 100.0 nov 0.858 ser 0.134 m1 0.059 m10 0.165 sum 3.086\n"
     ]
    },
    {
     "name": "stderr",
     "output_type": "stream",
     "text": [
      "\u001b[32m[I 2023-05-06 21:03:57,518]\u001b[0m Trial 302 finished with value: 3.902904814277451 and parameters: {'svd': 1.1, 'lfm_cos': 0.0, 'nn': -1.8, 'knn': -0.09999999999999987, 'catboost_doc2vec': -0.19999999999999996, 'quality': -0.09999999999999987, 'volume': -2.0}. Best is trial 232 with value: 3.9349762478820045.\u001b[0m\n"
     ]
    },
    {
     "name": "stdout",
     "output_type": "stream",
     "text": [
      "time 2.42 cat_cov 100.0 cov 100.0 nov 1.007 ser 0.183 m1 0.289 m10 0.423 sum 3.903\n"
     ]
    },
    {
     "name": "stderr",
     "output_type": "stream",
     "text": [
      "\u001b[32m[I 2023-05-06 21:03:59,971]\u001b[0m Trial 303 finished with value: 3.901672148197502 and parameters: {'svd': 1.1, 'lfm_cos': 0.0, 'nn': -1.9, 'knn': -0.09999999999999987, 'catboost_doc2vec': -0.19999999999999996, 'quality': 0.0, 'volume': -2.0}. Best is trial 232 with value: 3.9349762478820045.\u001b[0m\n"
     ]
    },
    {
     "name": "stdout",
     "output_type": "stream",
     "text": [
      "time 2.428 cat_cov 99.0 cov 100.0 nov 1.018 ser 0.182 m1 0.289 m10 0.423 sum 3.902\n"
     ]
    },
    {
     "name": "stderr",
     "output_type": "stream",
     "text": [
      "\u001b[32m[I 2023-05-06 21:04:02,416]\u001b[0m Trial 304 finished with value: 3.8706835875617314 and parameters: {'svd': 1.1, 'lfm_cos': 0.0, 'nn': -1.8, 'knn': -0.2999999999999998, 'catboost_doc2vec': -0.19999999999999996, 'quality': 0.10000000000000009, 'volume': -2.0}. Best is trial 232 with value: 3.9349762478820045.\u001b[0m\n"
     ]
    },
    {
     "name": "stdout",
     "output_type": "stream",
     "text": [
      "time 2.42 cat_cov 98.0 cov 100.0 nov 1.0 ser 0.187 m1 0.284 m10 0.419 sum 3.871\n"
     ]
    },
    {
     "name": "stderr",
     "output_type": "stream",
     "text": [
      "\u001b[32m[I 2023-05-06 21:04:04,984]\u001b[0m Trial 305 finished with value: 3.8887819835501327 and parameters: {'svd': 1.0, 'lfm_cos': 0.0, 'nn': -1.9, 'knn': -0.19999999999999996, 'catboost_doc2vec': -0.2999999999999998, 'quality': 0.0, 'volume': -2.0}. Best is trial 232 with value: 3.9349762478820045.\u001b[0m\n"
     ]
    },
    {
     "name": "stdout",
     "output_type": "stream",
     "text": [
      "time 2.543 cat_cov 99.0 cov 100.0 nov 1.006 ser 0.19 m1 0.285 m10 0.418 sum 3.889\n"
     ]
    },
    {
     "name": "stderr",
     "output_type": "stream",
     "text": [
      "\u001b[32m[I 2023-05-06 21:04:07,476]\u001b[0m Trial 306 finished with value: 3.8688678909747534 and parameters: {'svd': 1.1, 'lfm_cos': 0.10000000000000009, 'nn': -2.0, 'knn': -0.09999999999999987, 'catboost_doc2vec': -0.19999999999999996, 'quality': 0.20000000000000018, 'volume': -2.0}. Best is trial 232 with value: 3.9349762478820045.\u001b[0m\n"
     ]
    },
    {
     "name": "stdout",
     "output_type": "stream",
     "text": [
      "time 2.467 cat_cov 100.0 cov 100.0 nov 0.966 ser 0.192 m1 0.29 m10 0.421 sum 3.869\n"
     ]
    },
    {
     "name": "stderr",
     "output_type": "stream",
     "text": [
      "\u001b[32m[I 2023-05-06 21:04:09,930]\u001b[0m Trial 307 finished with value: 3.877908610049631 and parameters: {'svd': 1.0, 'lfm_cos': 0.0, 'nn': -1.9, 'knn': 0.0, 'catboost_doc2vec': -0.2999999999999998, 'quality': 0.0, 'volume': -1.9}. Best is trial 232 with value: 3.9349762478820045.\u001b[0m\n"
     ]
    },
    {
     "name": "stdout",
     "output_type": "stream",
     "text": [
      "time 2.43 cat_cov 97.0 cov 100.0 nov 1.013 ser 0.183 m1 0.29 m10 0.422 sum 3.878\n"
     ]
    },
    {
     "name": "stderr",
     "output_type": "stream",
     "text": [
      "\u001b[32m[I 2023-05-06 21:04:12,440]\u001b[0m Trial 308 finished with value: 3.841128557685353 and parameters: {'svd': 1.1, 'lfm_cos': 0.10000000000000009, 'nn': -2.0, 'knn': -0.5, 'catboost_doc2vec': -0.19999999999999996, 'quality': -0.09999999999999987, 'volume': -2.0}. Best is trial 232 with value: 3.9349762478820045.\u001b[0m\n"
     ]
    },
    {
     "name": "stdout",
     "output_type": "stream",
     "text": [
      "time 2.484 cat_cov 98.0 cov 100.0 nov 0.971 ser 0.2 m1 0.279 m10 0.411 sum 3.841\n"
     ]
    },
    {
     "name": "stderr",
     "output_type": "stream",
     "text": [
      "\u001b[32m[I 2023-05-06 21:04:14,860]\u001b[0m Trial 309 finished with value: 3.9195689843313897 and parameters: {'svd': 0.9000000000000004, 'lfm_cos': 0.0, 'nn': -1.8, 'knn': -0.3999999999999999, 'catboost_doc2vec': 0.0, 'quality': 0.10000000000000009, 'volume': -1.8}. Best is trial 232 with value: 3.9349762478820045.\u001b[0m\n"
     ]
    },
    {
     "name": "stdout",
     "output_type": "stream",
     "text": [
      "time 2.395 cat_cov 99.0 cov 100.0 nov 1.068 ser 0.171 m1 0.278 m10 0.413 sum 3.92\n"
     ]
    },
    {
     "name": "stderr",
     "output_type": "stream",
     "text": [
      "\u001b[32m[I 2023-05-06 21:04:17,186]\u001b[0m Trial 310 finished with value: 3.7418773736111506 and parameters: {'svd': 1.0, 'lfm_cos': -0.09999999999999987, 'nn': -0.7, 'knn': -0.3999999999999999, 'catboost_doc2vec': 0.0, 'quality': 0.10000000000000009, 'volume': -1.9}. Best is trial 232 with value: 3.9349762478820045.\u001b[0m\n"
     ]
    },
    {
     "name": "stdout",
     "output_type": "stream",
     "text": [
      "time 2.3 cat_cov 91.0 cov 100.0 nov 0.98 ser 0.133 m1 0.288 m10 0.432 sum 3.742\n"
     ]
    },
    {
     "name": "stderr",
     "output_type": "stream",
     "text": [
      "\u001b[32m[I 2023-05-06 21:04:19,596]\u001b[0m Trial 311 finished with value: 3.749830623640423 and parameters: {'svd': 0.9000000000000004, 'lfm_cos': -0.19999999999999996, 'nn': -1.8, 'knn': -0.2999999999999998, 'catboost_doc2vec': 0.0, 'quality': 0.10000000000000009, 'volume': -2.0}. Best is trial 232 with value: 3.9349762478820045.\u001b[0m\n"
     ]
    },
    {
     "name": "stdout",
     "output_type": "stream",
     "text": [
      "time 2.386 cat_cov 92.0 cov 100.0 nov 1.012 ser 0.134 m1 0.274 m10 0.41 sum 3.75\n"
     ]
    },
    {
     "name": "stderr",
     "output_type": "stream",
     "text": [
      "\u001b[32m[I 2023-05-06 21:04:22,043]\u001b[0m Trial 312 finished with value: 3.847296342955774 and parameters: {'svd': 1.2000000000000002, 'lfm_cos': 0.0, 'nn': -1.8, 'knn': -0.3999999999999999, 'catboost_doc2vec': -0.09999999999999987, 'quality': 0.30000000000000027, 'volume': -1.8}. Best is trial 232 with value: 3.9349762478820045.\u001b[0m\n"
     ]
    },
    {
     "name": "stdout",
     "output_type": "stream",
     "text": [
      "time 2.422 cat_cov 96.0 cov 100.0 nov 1.001 ser 0.18 m1 0.285 m10 0.421 sum 3.847\n"
     ]
    },
    {
     "name": "stderr",
     "output_type": "stream",
     "text": [
      "\u001b[32m[I 2023-05-06 21:04:24,520]\u001b[0m Trial 313 finished with value: 3.8704353151250968 and parameters: {'svd': 1.1, 'lfm_cos': 0.0, 'nn': -2.0, 'knn': -0.5999999999999999, 'catboost_doc2vec': -0.19999999999999996, 'quality': 0.20000000000000018, 'volume': -1.9}. Best is trial 232 with value: 3.9349762478820045.\u001b[0m\n"
     ]
    },
    {
     "name": "stdout",
     "output_type": "stream",
     "text": [
      "time 2.452 cat_cov 99.0 cov 100.0 nov 0.997 ser 0.194 m1 0.277 m10 0.412 sum 3.87\n"
     ]
    },
    {
     "name": "stderr",
     "output_type": "stream",
     "text": [
      "\u001b[32m[I 2023-05-06 21:04:26,937]\u001b[0m Trial 314 finished with value: 3.7706528750393313 and parameters: {'svd': 0.9000000000000004, 'lfm_cos': -0.09999999999999987, 'nn': -1.9, 'knn': -0.19999999999999996, 'catboost_doc2vec': -0.09999999999999987, 'quality': 0.0, 'volume': 0.40000000000000036}. Best is trial 232 with value: 3.9349762478820045.\u001b[0m\n"
     ]
    },
    {
     "name": "stdout",
     "output_type": "stream",
     "text": [
      "time 2.392 cat_cov 99.0 cov 100.0 nov 0.925 ser 0.157 m1 0.282 m10 0.417 sum 3.771\n"
     ]
    },
    {
     "name": "stderr",
     "output_type": "stream",
     "text": [
      "\u001b[32m[I 2023-05-06 21:04:29,298]\u001b[0m Trial 315 finished with value: 3.0924156407886363 and parameters: {'svd': 1.1, 'lfm_cos': 0.0, 'nn': 0.10000000000000009, 'knn': -0.09999999999999987, 'catboost_doc2vec': 2.0, 'quality': -0.09999999999999987, 'volume': -2.0}. Best is trial 232 with value: 3.9349762478820045.\u001b[0m\n"
     ]
    },
    {
     "name": "stdout",
     "output_type": "stream",
     "text": [
      "time 2.336 cat_cov 77.0 cov 100.0 nov 0.767 ser 0.107 m1 0.161 m10 0.287 sum 3.092\n"
     ]
    },
    {
     "name": "stderr",
     "output_type": "stream",
     "text": [
      "\u001b[32m[I 2023-05-06 21:04:31,873]\u001b[0m Trial 316 finished with value: 3.8817005371276614 and parameters: {'svd': 1.0, 'lfm_cos': 0.10000000000000009, 'nn': -2.0, 'knn': 0.10000000000000009, 'catboost_doc2vec': -0.2999999999999998, 'quality': 0.10000000000000009, 'volume': -1.8}. Best is trial 232 with value: 3.9349762478820045.\u001b[0m\n"
     ]
    },
    {
     "name": "stdout",
     "output_type": "stream",
     "text": [
      "time 2.549 cat_cov 100.0 cov 100.0 nov 0.982 ser 0.188 m1 0.29 m10 0.421 sum 3.882\n"
     ]
    },
    {
     "name": "stderr",
     "output_type": "stream",
     "text": [
      "\u001b[32m[I 2023-05-06 21:04:34,203]\u001b[0m Trial 317 finished with value: 3.5598543272151506 and parameters: {'svd': 1.2000000000000002, 'lfm_cos': -0.09999999999999987, 'nn': -1.9, 'knn': -0.2999999999999998, 'catboost_doc2vec': 0.0, 'quality': 0.0, 'volume': 1.5}. Best is trial 232 with value: 3.9349762478820045.\u001b[0m\n"
     ]
    },
    {
     "name": "stdout",
     "output_type": "stream",
     "text": [
      "time 2.305 cat_cov 90.0 cov 100.0 nov 0.814 ser 0.134 m1 0.287 m10 0.424 sum 3.56\n"
     ]
    },
    {
     "name": "stderr",
     "output_type": "stream",
     "text": [
      "\u001b[32m[I 2023-05-06 21:04:36,616]\u001b[0m Trial 318 finished with value: 3.8192591963849067 and parameters: {'svd': 1.0, 'lfm_cos': -0.19999999999999996, 'nn': -1.8, 'knn': 0.0, 'catboost_doc2vec': -0.19999999999999996, 'quality': 0.0, 'volume': -1.2}. Best is trial 232 with value: 3.9349762478820045.\u001b[0m\n"
     ]
    },
    {
     "name": "stdout",
     "output_type": "stream",
     "text": [
      "time 2.387 cat_cov 98.0 cov 100.0 nov 0.984 ser 0.151 m1 0.285 m10 0.42 sum 3.819\n"
     ]
    },
    {
     "name": "stderr",
     "output_type": "stream",
     "text": [
      "\u001b[32m[I 2023-05-06 21:04:39,102]\u001b[0m Trial 319 finished with value: 3.8617489309098096 and parameters: {'svd': 0.9000000000000004, 'lfm_cos': 0.10000000000000009, 'nn': -1.9, 'knn': -0.19999999999999996, 'catboost_doc2vec': -0.09999999999999987, 'quality': -0.09999999999999987, 'volume': -2.0}. Best is trial 232 with value: 3.9349762478820045.\u001b[0m\n"
     ]
    },
    {
     "name": "stdout",
     "output_type": "stream",
     "text": [
      "time 2.46 cat_cov 98.0 cov 100.0 nov 0.984 ser 0.199 m1 0.284 m10 0.414 sum 3.862\n"
     ]
    },
    {
     "name": "stderr",
     "output_type": "stream",
     "text": [
      "\u001b[32m[I 2023-05-06 21:04:41,504]\u001b[0m Trial 320 finished with value: 3.910081298417567 and parameters: {'svd': 1.2000000000000002, 'lfm_cos': 0.0, 'nn': -2.0, 'knn': -0.09999999999999987, 'catboost_doc2vec': 0.0, 'quality': 0.20000000000000018, 'volume': -1.9}. Best is trial 232 with value: 3.9349762478820045.\u001b[0m\n"
     ]
    },
    {
     "name": "stdout",
     "output_type": "stream",
     "text": [
      "time 2.377 cat_cov 97.0 cov 100.0 nov 1.061 ser 0.16 m1 0.291 m10 0.427 sum 3.91\n"
     ]
    },
    {
     "name": "stderr",
     "output_type": "stream",
     "text": [
      "\u001b[32m[I 2023-05-06 21:04:43,942]\u001b[0m Trial 321 finished with value: 3.896691622753448 and parameters: {'svd': 1.1, 'lfm_cos': 0.0, 'nn': -2.0, 'knn': 0.0, 'catboost_doc2vec': -0.19999999999999996, 'quality': 0.20000000000000018, 'volume': -1.8}. Best is trial 232 with value: 3.9349762478820045.\u001b[0m\n"
     ]
    },
    {
     "name": "stdout",
     "output_type": "stream",
     "text": [
      "time 2.413 cat_cov 99.0 cov 100.0 nov 1.015 ser 0.177 m1 0.291 m10 0.423 sum 3.897\n"
     ]
    },
    {
     "name": "stderr",
     "output_type": "stream",
     "text": [
      "\u001b[32m[I 2023-05-06 21:04:46,515]\u001b[0m Trial 322 finished with value: 3.865500971680711 and parameters: {'svd': 1.2000000000000002, 'lfm_cos': 0.10000000000000009, 'nn': -1.9, 'knn': 0.0, 'catboost_doc2vec': -0.19999999999999996, 'quality': 0.30000000000000027, 'volume': -1.9}. Best is trial 232 with value: 3.9349762478820045.\u001b[0m\n"
     ]
    },
    {
     "name": "stdout",
     "output_type": "stream",
     "text": [
      "time 2.548 cat_cov 100.0 cov 100.0 nov 0.959 ser 0.185 m1 0.295 m10 0.427 sum 3.866\n"
     ]
    },
    {
     "name": "stderr",
     "output_type": "stream",
     "text": [
      "\u001b[32m[I 2023-05-06 21:04:48,918]\u001b[0m Trial 323 finished with value: 3.710246319363867 and parameters: {'svd': 1.1, 'lfm_cos': -0.09999999999999987, 'nn': -0.8999999999999999, 'knn': 0.10000000000000009, 'catboost_doc2vec': -0.2999999999999998, 'quality': 0.20000000000000018, 'volume': -1.9}. Best is trial 232 with value: 3.9349762478820045.\u001b[0m\n"
     ]
    },
    {
     "name": "stdout",
     "output_type": "stream",
     "text": [
      "time 2.375 cat_cov 92.0 cov 100.0 nov 0.911 ser 0.132 m1 0.306 m10 0.441 sum 3.71\n"
     ]
    },
    {
     "name": "stderr",
     "output_type": "stream",
     "text": [
      "\u001b[32m[I 2023-05-06 21:04:51,260]\u001b[0m Trial 324 finished with value: 3.7064382781633745 and parameters: {'svd': 1.2000000000000002, 'lfm_cos': 0.0, 'nn': -1.8, 'knn': -0.09999999999999987, 'catboost_doc2vec': 0.10000000000000009, 'quality': 0.30000000000000027, 'volume': -1.8}. Best is trial 232 with value: 3.9349762478820045.\u001b[0m\n"
     ]
    },
    {
     "name": "stdout",
     "output_type": "stream",
     "text": [
      "time 2.316 cat_cov 91.0 cov 100.0 nov 0.939 ser 0.134 m1 0.294 m10 0.429 sum 3.706\n"
     ]
    },
    {
     "name": "stderr",
     "output_type": "stream",
     "text": [
      "\u001b[32m[I 2023-05-06 21:04:53,775]\u001b[0m Trial 325 finished with value: 3.8541365843464317 and parameters: {'svd': 1.1, 'lfm_cos': 0.20000000000000018, 'nn': -2.0, 'knn': 0.0, 'catboost_doc2vec': -0.19999999999999996, 'quality': 0.40000000000000036, 'volume': -1.9}. Best is trial 232 with value: 3.9349762478820045.\u001b[0m\n"
     ]
    },
    {
     "name": "stdout",
     "output_type": "stream",
     "text": [
      "time 2.491 cat_cov 99.0 cov 100.0 nov 0.952 ser 0.194 m1 0.295 m10 0.423 sum 3.854\n"
     ]
    },
    {
     "name": "stderr",
     "output_type": "stream",
     "text": [
      "\u001b[32m[I 2023-05-06 21:04:56,189]\u001b[0m Trial 326 finished with value: 3.821959345124483 and parameters: {'svd': 1.1, 'lfm_cos': -0.19999999999999996, 'nn': -2.0, 'knn': -0.09999999999999987, 'catboost_doc2vec': -0.2999999999999998, 'quality': 0.20000000000000018, 'volume': -2.0}. Best is trial 232 with value: 3.9349762478820045.\u001b[0m\n"
     ]
    },
    {
     "name": "stdout",
     "output_type": "stream",
     "text": [
      "time 2.387 cat_cov 97.0 cov 100.0 nov 0.997 ser 0.157 m1 0.282 m10 0.416 sum 3.822\n"
     ]
    },
    {
     "name": "stderr",
     "output_type": "stream",
     "text": [
      "\u001b[32m[I 2023-05-06 21:04:58,592]\u001b[0m Trial 327 finished with value: 3.6566106761242025 and parameters: {'svd': 1.2000000000000002, 'lfm_cos': -0.09999999999999987, 'nn': -1.9, 'knn': 0.0, 'catboost_doc2vec': 0.0, 'quality': 0.10000000000000009, 'volume': -0.09999999999999987}. Best is trial 232 with value: 3.9349762478820045.\u001b[0m\n"
     ]
    },
    {
     "name": "stdout",
     "output_type": "stream",
     "text": [
      "time 2.377 cat_cov 90.0 cov 100.0 nov 0.913 ser 0.118 m1 0.293 m10 0.432 sum 3.657\n"
     ]
    },
    {
     "name": "stderr",
     "output_type": "stream",
     "text": [
      "\u001b[32m[I 2023-05-06 21:05:01,285]\u001b[0m Trial 328 finished with value: 3.6815899502336236 and parameters: {'svd': -2.0, 'lfm_cos': 0.10000000000000009, 'nn': -0.3999999999999999, 'knn': -0.09999999999999987, 'catboost_doc2vec': -0.09999999999999987, 'quality': 0.0, 'volume': -1.7}. Best is trial 232 with value: 3.9349762478820045.\u001b[0m\n"
     ]
    },
    {
     "name": "stdout",
     "output_type": "stream",
     "text": [
      "time 2.666 cat_cov 99.0 cov 100.0 nov 0.992 ser 0.22 m1 0.169 m10 0.31 sum 3.682\n"
     ]
    },
    {
     "name": "stderr",
     "output_type": "stream",
     "text": [
      "\u001b[32m[I 2023-05-06 21:05:03,731]\u001b[0m Trial 329 finished with value: 3.8767281032830954 and parameters: {'svd': 0.9000000000000004, 'lfm_cos': 0.0, 'nn': -1.8, 'knn': 0.10000000000000009, 'catboost_doc2vec': -0.2999999999999998, 'quality': -0.09999999999999987, 'volume': -1.9}. Best is trial 232 with value: 3.9349762478820045.\u001b[0m\n"
     ]
    },
    {
     "name": "stdout",
     "output_type": "stream",
     "text": [
      "time 2.421 cat_cov 98.0 cov 100.0 nov 1.008 ser 0.18 m1 0.289 m10 0.42 sum 3.877\n"
     ]
    },
    {
     "name": "stderr",
     "output_type": "stream",
     "text": [
      "\u001b[32m[I 2023-05-06 21:05:06,054]\u001b[0m Trial 330 finished with value: 3.6705034847538904 and parameters: {'svd': 1.0, 'lfm_cos': -0.09999999999999987, 'nn': -1.9, 'knn': -0.19999999999999996, 'catboost_doc2vec': 0.10000000000000009, 'quality': 0.20000000000000018, 'volume': -2.0}. Best is trial 232 with value: 3.9349762478820045.\u001b[0m\n"
     ]
    },
    {
     "name": "stdout",
     "output_type": "stream",
     "text": [
      "time 2.297 cat_cov 89.0 cov 100.0 nov 0.954 ser 0.13 m1 0.283 m10 0.414 sum 3.671\n"
     ]
    },
    {
     "name": "stderr",
     "output_type": "stream",
     "text": [
      "\u001b[32m[I 2023-05-06 21:05:08,548]\u001b[0m Trial 331 finished with value: 3.8560147830146754 and parameters: {'svd': 1.2000000000000002, 'lfm_cos': 0.10000000000000009, 'nn': -2.0, 'knn': 0.0, 'catboost_doc2vec': -0.19999999999999996, 'quality': 0.10000000000000009, 'volume': -1.8}. Best is trial 232 with value: 3.9349762478820045.\u001b[0m\n"
     ]
    },
    {
     "name": "stdout",
     "output_type": "stream",
     "text": [
      "time 2.468 cat_cov 99.0 cov 100.0 nov 0.961 ser 0.188 m1 0.293 m10 0.425 sum 3.856\n"
     ]
    },
    {
     "name": "stderr",
     "output_type": "stream",
     "text": [
      "\u001b[32m[I 2023-05-06 21:05:10,950]\u001b[0m Trial 332 finished with value: 3.712187238376129 and parameters: {'svd': 0.9000000000000004, 'lfm_cos': 0.0, 'nn': -1.9, 'knn': -0.2999999999999998, 'catboost_doc2vec': -0.09999999999999987, 'quality': 1.8000000000000003, 'volume': -1.9}. Best is trial 232 with value: 3.9349762478820045.\u001b[0m\n"
     ]
    },
    {
     "name": "stdout",
     "output_type": "stream",
     "text": [
      "time 2.376 cat_cov 90.0 cov 100.0 nov 0.948 ser 0.159 m1 0.288 m10 0.417 sum 3.712\n"
     ]
    },
    {
     "name": "stderr",
     "output_type": "stream",
     "text": [
      "\u001b[32m[I 2023-05-06 21:05:13,531]\u001b[0m Trial 333 finished with value: 3.8686339417587168 and parameters: {'svd': 1.1, 'lfm_cos': 0.20000000000000018, 'nn': -2.0, 'knn': -0.09999999999999987, 'catboost_doc2vec': 0.0, 'quality': 0.0, 'volume': -2.0}. Best is trial 232 with value: 3.9349762478820045.\u001b[0m\n"
     ]
    },
    {
     "name": "stdout",
     "output_type": "stream",
     "text": [
      "time 2.555 cat_cov 100.0 cov 100.0 nov 0.958 ser 0.198 m1 0.293 m10 0.42 sum 3.869\n"
     ]
    },
    {
     "name": "stderr",
     "output_type": "stream",
     "text": [
      "\u001b[32m[I 2023-05-06 21:05:15,903]\u001b[0m Trial 334 finished with value: 3.8522172381426305 and parameters: {'svd': 1.0, 'lfm_cos': -0.19999999999999996, 'nn': -1.8, 'knn': -0.19999999999999996, 'catboost_doc2vec': -0.19999999999999996, 'quality': -0.09999999999999987, 'volume': -1.9}. Best is trial 232 with value: 3.9349762478820045.\u001b[0m\n"
     ]
    },
    {
     "name": "stdout",
     "output_type": "stream",
     "text": [
      "time 2.347 cat_cov 100.0 cov 100.0 nov 1.004 ser 0.157 m1 0.278 m10 0.413 sum 3.852\n"
     ]
    },
    {
     "name": "stderr",
     "output_type": "stream",
     "text": [
      "\u001b[32m[I 2023-05-06 21:05:18,301]\u001b[0m Trial 335 finished with value: 3.9106442328148705 and parameters: {'svd': 1.1, 'lfm_cos': 0.0, 'nn': -1.7, 'knn': 0.10000000000000009, 'catboost_doc2vec': 0.0, 'quality': 0.0, 'volume': -2.0}. Best is trial 232 with value: 3.9349762478820045.\u001b[0m\n"
     ]
    },
    {
     "name": "stdout",
     "output_type": "stream",
     "text": [
      "time 2.372 cat_cov 98.0 cov 100.0 nov 1.044 ser 0.16 m1 0.295 m10 0.431 sum 3.911\n"
     ]
    },
    {
     "name": "stderr",
     "output_type": "stream",
     "text": [
      "\u001b[32m[I 2023-05-06 21:05:20,648]\u001b[0m Trial 336 finished with value: 3.4670971272967197 and parameters: {'svd': 1.2000000000000002, 'lfm_cos': 0.10000000000000009, 'nn': 0.40000000000000036, 'knn': 0.10000000000000009, 'catboost_doc2vec': 0.10000000000000009, 'quality': 0.10000000000000009, 'volume': -1.8}. Best is trial 232 with value: 3.9349762478820045.\u001b[0m\n"
     ]
    },
    {
     "name": "stdout",
     "output_type": "stream",
     "text": [
      "time 2.321 cat_cov 74.0 cov 100.0 nov 0.771 ser 0.106 m1 0.366 m10 0.484 sum 3.467\n"
     ]
    },
    {
     "name": "stderr",
     "output_type": "stream",
     "text": [
      "\u001b[32m[I 2023-05-06 21:05:22,979]\u001b[0m Trial 337 finished with value: 3.804511497472366 and parameters: {'svd': 0.9000000000000004, 'lfm_cos': -0.09999999999999987, 'nn': -1.9, 'knn': 0.10000000000000009, 'catboost_doc2vec': 0.0, 'quality': 0.20000000000000018, 'volume': -1.9}. Best is trial 232 with value: 3.9349762478820045.\u001b[0m\n"
     ]
    },
    {
     "name": "stdout",
     "output_type": "stream",
     "text": [
      "time 2.305 cat_cov 92.0 cov 100.0 nov 1.036 ser 0.137 m1 0.288 m10 0.423 sum 3.805\n"
     ]
    },
    {
     "name": "stderr",
     "output_type": "stream",
     "text": [
      "\u001b[32m[I 2023-05-06 21:05:25,568]\u001b[0m Trial 338 finished with value: 3.885391568535555 and parameters: {'svd': 1.0, 'lfm_cos': 0.10000000000000009, 'nn': -2.0, 'knn': 0.0, 'catboost_doc2vec': -0.09999999999999987, 'quality': 0.0, 'volume': -2.0}. Best is trial 232 with value: 3.9349762478820045.\u001b[0m\n"
     ]
    },
    {
     "name": "stdout",
     "output_type": "stream",
     "text": [
      "time 2.563 cat_cov 100.0 cov 100.0 nov 0.981 ser 0.193 m1 0.291 m10 0.421 sum 3.885\n"
     ]
    },
    {
     "name": "stderr",
     "output_type": "stream",
     "text": [
      "\u001b[32m[I 2023-05-06 21:05:27,898]\u001b[0m Trial 339 finished with value: 3.75094858176819 and parameters: {'svd': 1.1, 'lfm_cos': 0.0, 'nn': -1.7, 'knn': -0.2999999999999998, 'catboost_doc2vec': 0.10000000000000009, 'quality': 0.10000000000000009, 'volume': -2.0}. Best is trial 232 with value: 3.9349762478820045.\u001b[0m\n"
     ]
    },
    {
     "name": "stdout",
     "output_type": "stream",
     "text": [
      "time 2.304 cat_cov 94.0 cov 100.0 nov 0.968 ser 0.139 m1 0.286 m10 0.418 sum 3.751\n"
     ]
    },
    {
     "name": "stderr",
     "output_type": "stream",
     "text": [
      "\u001b[32m[I 2023-05-06 21:05:30,242]\u001b[0m Trial 340 finished with value: 3.8213256902606147 and parameters: {'svd': 1.2000000000000002, 'lfm_cos': -0.09999999999999987, 'nn': -2.0, 'knn': -0.3999999999999999, 'catboost_doc2vec': 0.0, 'quality': 0.0, 'volume': -1.9}. Best is trial 232 with value: 3.9349762478820045.\u001b[0m\n"
     ]
    },
    {
     "name": "stdout",
     "output_type": "stream",
     "text": [
      "time 2.318 cat_cov 96.0 cov 100.0 nov 1.021 ser 0.142 m1 0.281 m10 0.418 sum 3.821\n"
     ]
    },
    {
     "name": "stderr",
     "output_type": "stream",
     "text": [
      "\u001b[32m[I 2023-05-06 21:05:32,745]\u001b[0m Trial 341 finished with value: 3.8449320332644707 and parameters: {'svd': 1.4000000000000004, 'lfm_cos': 0.20000000000000018, 'nn': -1.9, 'knn': -0.19999999999999996, 'catboost_doc2vec': -0.2999999999999998, 'quality': 0.0, 'volume': -1.8}. Best is trial 232 with value: 3.9349762478820045.\u001b[0m\n"
     ]
    },
    {
     "name": "stdout",
     "output_type": "stream",
     "text": [
      "time 2.477 cat_cov 100.0 cov 100.0 nov 0.935 ser 0.191 m1 0.294 m10 0.425 sum 3.845\n"
     ]
    },
    {
     "name": "stderr",
     "output_type": "stream",
     "text": [
      "\u001b[32m[I 2023-05-06 21:05:35,082]\u001b[0m Trial 342 finished with value: 3.7952525361676406 and parameters: {'svd': 1.0, 'lfm_cos': -0.2999999999999998, 'nn': -2.0, 'knn': 0.0, 'catboost_doc2vec': -0.09999999999999987, 'quality': 0.20000000000000018, 'volume': -1.7}. Best is trial 232 with value: 3.9349762478820045.\u001b[0m\n"
     ]
    },
    {
     "name": "stdout",
     "output_type": "stream",
     "text": [
      "time 2.311 cat_cov 97.0 cov 100.0 nov 0.992 ser 0.135 m1 0.281 m10 0.418 sum 3.795\n"
     ]
    },
    {
     "name": "stderr",
     "output_type": "stream",
     "text": [
      "\u001b[32m[I 2023-05-06 21:05:37,409]\u001b[0m Trial 343 finished with value: 3.7450708851130274 and parameters: {'svd': 1.3000000000000003, 'lfm_cos': 0.0, 'nn': -1.9, 'knn': -0.09999999999999987, 'catboost_doc2vec': 0.10000000000000009, 'quality': 0.30000000000000027, 'volume': -2.0}. Best is trial 232 with value: 3.9349762478820045.\u001b[0m\n"
     ]
    },
    {
     "name": "stdout",
     "output_type": "stream",
     "text": [
      "time 2.301 cat_cov 94.0 cov 100.0 nov 0.946 ser 0.135 m1 0.295 m10 0.43 sum 3.745\n"
     ]
    },
    {
     "name": "stderr",
     "output_type": "stream",
     "text": [
      "\u001b[32m[I 2023-05-06 21:05:39,846]\u001b[0m Trial 344 finished with value: 3.804746628442671 and parameters: {'svd': 0.9000000000000004, 'lfm_cos': -0.19999999999999996, 'nn': -1.8, 'knn': -0.19999999999999996, 'catboost_doc2vec': -0.09999999999999987, 'quality': -0.09999999999999987, 'volume': -1.9}. Best is trial 232 with value: 3.9349762478820045.\u001b[0m\n"
     ]
    },
    {
     "name": "stdout",
     "output_type": "stream",
     "text": [
      "time 2.41 cat_cov 95.0 cov 100.0 nov 1.02 ser 0.148 m1 0.276 m10 0.411 sum 3.805\n"
     ]
    },
    {
     "name": "stderr",
     "output_type": "stream",
     "text": [
      "\u001b[32m[I 2023-05-06 21:05:42,236]\u001b[0m Trial 345 finished with value: 3.840927078202806 and parameters: {'svd': 1.1, 'lfm_cos': 0.0, 'nn': -2.0, 'knn': 0.10000000000000009, 'catboost_doc2vec': 0.0, 'quality': 0.10000000000000009, 'volume': -0.2999999999999998}. Best is trial 232 with value: 3.9349762478820045.\u001b[0m\n"
     ]
    },
    {
     "name": "stdout",
     "output_type": "stream",
     "text": [
      "time 2.365 cat_cov 97.0 cov 100.0 nov 1.002 ser 0.146 m1 0.294 m10 0.429 sum 3.841\n"
     ]
    },
    {
     "name": "stderr",
     "output_type": "stream",
     "text": [
      "\u001b[32m[I 2023-05-06 21:05:44,687]\u001b[0m Trial 346 finished with value: 3.8538618905344073 and parameters: {'svd': 1.2000000000000002, 'lfm_cos': -0.09999999999999987, 'nn': -1.9, 'knn': -0.2999999999999998, 'catboost_doc2vec': -0.2999999999999998, 'quality': -0.09999999999999987, 'volume': -2.0}. Best is trial 232 with value: 3.9349762478820045.\u001b[0m\n"
     ]
    },
    {
     "name": "stdout",
     "output_type": "stream",
     "text": [
      "time 2.425 cat_cov 98.0 cov 100.0 nov 1.002 ser 0.174 m1 0.282 m10 0.417 sum 3.854\n"
     ]
    },
    {
     "name": "stderr",
     "output_type": "stream",
     "text": [
      "\u001b[32m[I 2023-05-06 21:05:47,194]\u001b[0m Trial 347 finished with value: 3.8654438801303757 and parameters: {'svd': 0.9000000000000004, 'lfm_cos': 0.10000000000000009, 'nn': -2.0, 'knn': -0.09999999999999987, 'catboost_doc2vec': -0.19999999999999996, 'quality': 0.10000000000000009, 'volume': -1.8}. Best is trial 232 with value: 3.9349762478820045.\u001b[0m\n"
     ]
    },
    {
     "name": "stdout",
     "output_type": "stream",
     "text": [
      "time 2.481 cat_cov 99.0 cov 100.0 nov 0.975 ser 0.198 m1 0.287 m10 0.416 sum 3.865\n"
     ]
    },
    {
     "name": "stderr",
     "output_type": "stream",
     "text": [
      "\u001b[32m[I 2023-05-06 21:05:49,699]\u001b[0m Trial 348 finished with value: 3.8672612385194607 and parameters: {'svd': 1.0, 'lfm_cos': 0.20000000000000018, 'nn': -1.7, 'knn': 0.0, 'catboost_doc2vec': -0.3999999999999999, 'quality': -0.19999999999999996, 'volume': -2.0}. Best is trial 232 with value: 3.9349762478820045.\u001b[0m\n"
     ]
    },
    {
     "name": "stdout",
     "output_type": "stream",
     "text": [
      "time 2.479 cat_cov 100.0 cov 100.0 nov 0.958 ser 0.196 m1 0.293 m10 0.42 sum 3.867\n"
     ]
    },
    {
     "name": "stderr",
     "output_type": "stream",
     "text": [
      "\u001b[32m[I 2023-05-06 21:05:52,176]\u001b[0m Trial 349 finished with value: 3.7279287131982666 and parameters: {'svd': 1.3000000000000003, 'lfm_cos': -0.09999999999999987, 'nn': -1.8, 'knn': -0.3999999999999999, 'catboost_doc2vec': -0.09999999999999987, 'quality': 1.3000000000000003, 'volume': -1.9}. Best is trial 232 with value: 3.9349762478820045.\u001b[0m\n"
     ]
    },
    {
     "name": "stdout",
     "output_type": "stream",
     "text": [
      "time 2.45 cat_cov 92.0 cov 100.0 nov 0.954 ser 0.144 m1 0.288 m10 0.422 sum 3.728\n"
     ]
    },
    {
     "name": "stderr",
     "output_type": "stream",
     "text": [
      "\u001b[32m[I 2023-05-06 21:05:54,553]\u001b[0m Trial 350 finished with value: 3.4857381370831946 and parameters: {'svd': 1.1, 'lfm_cos': 0.0, 'nn': 0.9000000000000004, 'knn': 0.0, 'catboost_doc2vec': 0.0, 'quality': 0.0, 'volume': -1.9}. Best is trial 232 with value: 3.9349762478820045.\u001b[0m\n"
     ]
    },
    {
     "name": "stdout",
     "output_type": "stream",
     "text": [
      "time 2.351 cat_cov 80.0 cov 100.0 nov 0.74 ser 0.099 m1 0.362 m10 0.485 sum 3.486\n"
     ]
    },
    {
     "name": "stderr",
     "output_type": "stream",
     "text": [
      "\u001b[32m[I 2023-05-06 21:05:57,075]\u001b[0m Trial 351 finished with value: 3.8491994191985004 and parameters: {'svd': 1.2000000000000002, 'lfm_cos': 0.10000000000000009, 'nn': -2.0, 'knn': -0.19999999999999996, 'catboost_doc2vec': -0.19999999999999996, 'quality': 0.0, 'volume': -1.8}. Best is trial 232 with value: 3.9349762478820045.\u001b[0m\n"
     ]
    },
    {
     "name": "stdout",
     "output_type": "stream",
     "text": [
      "time 2.495 cat_cov 99.0 cov 100.0 nov 0.956 ser 0.193 m1 0.29 m10 0.421 sum 3.849\n"
     ]
    },
    {
     "name": "stderr",
     "output_type": "stream",
     "text": [
      "\u001b[32m[I 2023-05-06 21:05:59,471]\u001b[0m Trial 352 finished with value: 3.868832863998799 and parameters: {'svd': 1.0, 'lfm_cos': -0.09999999999999987, 'nn': -1.9, 'knn': 0.10000000000000009, 'catboost_doc2vec': -0.09999999999999987, 'quality': -0.09999999999999987, 'volume': -2.0}. Best is trial 232 with value: 3.9349762478820045.\u001b[0m\n"
     ]
    },
    {
     "name": "stdout",
     "output_type": "stream",
     "text": [
      "time 2.369 cat_cov 98.0 cov 100.0 nov 1.024 ser 0.154 m1 0.288 m10 0.423 sum 3.869\n"
     ]
    },
    {
     "name": "stderr",
     "output_type": "stream",
     "text": [
      "\u001b[32m[I 2023-05-06 21:06:01,901]\u001b[0m Trial 353 finished with value: 3.887221747601908 and parameters: {'svd': 1.1, 'lfm_cos': 0.10000000000000009, 'nn': -1.9, 'knn': -0.09999999999999987, 'catboost_doc2vec': 0.10000000000000009, 'quality': 0.20000000000000018, 'volume': -2.0}. Best is trial 232 with value: 3.9349762478820045.\u001b[0m\n"
     ]
    },
    {
     "name": "stdout",
     "output_type": "stream",
     "text": [
      "time 2.404 cat_cov 99.0 cov 100.0 nov 1.008 ser 0.174 m1 0.292 m10 0.423 sum 3.887\n"
     ]
    },
    {
     "name": "stderr",
     "output_type": "stream",
     "text": [
      "\u001b[32m[I 2023-05-06 21:06:04,218]\u001b[0m Trial 354 finished with value: 3.640109760512943 and parameters: {'svd': 1.4000000000000004, 'lfm_cos': -0.19999999999999996, 'nn': -2.0, 'knn': -0.2999999999999998, 'catboost_doc2vec': 0.20000000000000018, 'quality': -0.09999999999999987, 'volume': -1.9}. Best is trial 232 with value: 3.9349762478820045.\u001b[0m\n"
     ]
    },
    {
     "name": "stdout",
     "output_type": "stream",
     "text": [
      "time 2.291 cat_cov 89.0 cov 100.0 nov 0.923 ser 0.13 m1 0.283 m10 0.415 sum 3.64\n"
     ]
    },
    {
     "name": "stderr",
     "output_type": "stream",
     "text": [
      "\u001b[32m[I 2023-05-06 21:06:06,789]\u001b[0m Trial 355 finished with value: 3.9020039223522245 and parameters: {'svd': 0.9000000000000004, 'lfm_cos': 0.0, 'nn': -1.8, 'knn': -0.09999999999999987, 'catboost_doc2vec': -0.3999999999999999, 'quality': -0.19999999999999996, 'volume': -2.0}. Best is trial 232 with value: 3.9349762478820045.\u001b[0m\n"
     ]
    },
    {
     "name": "stdout",
     "output_type": "stream",
     "text": [
      "time 2.544 cat_cov 100.0 cov 100.0 nov 1.01 ser 0.191 m1 0.285 m10 0.417 sum 3.902\n"
     ]
    },
    {
     "name": "stderr",
     "output_type": "stream",
     "text": [
      "\u001b[32m[I 2023-05-06 21:06:09,267]\u001b[0m Trial 356 finished with value: 3.865285717529824 and parameters: {'svd': 0.9000000000000004, 'lfm_cos': 0.0, 'nn': -1.7, 'knn': 0.10000000000000009, 'catboost_doc2vec': -0.2999999999999998, 'quality': -0.19999999999999996, 'volume': -1.7}. Best is trial 232 with value: 3.9349762478820045.\u001b[0m\n"
     ]
    },
    {
     "name": "stdout",
     "output_type": "stream",
     "text": [
      "time 2.451 cat_cov 97.0 cov 100.0 nov 1.005 ser 0.179 m1 0.29 m10 0.421 sum 3.865\n"
     ]
    },
    {
     "name": "stderr",
     "output_type": "stream",
     "text": [
      "\u001b[32m[I 2023-05-06 21:06:11,803]\u001b[0m Trial 357 finished with value: 3.8689084694008185 and parameters: {'svd': 0.9000000000000004, 'lfm_cos': 0.20000000000000018, 'nn': -1.8, 'knn': 0.0, 'catboost_doc2vec': -0.3999999999999999, 'quality': -0.19999999999999996, 'volume': -1.8}. Best is trial 232 with value: 3.9349762478820045.\u001b[0m\n"
     ]
    },
    {
     "name": "stdout",
     "output_type": "stream",
     "text": [
      "time 2.508 cat_cov 100.0 cov 100.0 nov 0.963 ser 0.2 m1 0.291 m10 0.415 sum 3.869\n"
     ]
    },
    {
     "name": "stderr",
     "output_type": "stream",
     "text": [
      "\u001b[32m[I 2023-05-06 21:06:14,253]\u001b[0m Trial 358 finished with value: 3.864017182529938 and parameters: {'svd': 1.0, 'lfm_cos': -0.09999999999999987, 'nn': -1.8, 'knn': 0.20000000000000018, 'catboost_doc2vec': -0.3999999999999999, 'quality': -0.09999999999999987, 'volume': -1.9}. Best is trial 232 with value: 3.9349762478820045.\u001b[0m\n"
     ]
    },
    {
     "name": "stdout",
     "output_type": "stream",
     "text": [
      "time 2.423 cat_cov 100.0 cov 100.0 nov 0.99 ser 0.164 m1 0.288 m10 0.422 sum 3.864\n"
     ]
    },
    {
     "name": "stderr",
     "output_type": "stream",
     "text": [
      "\u001b[32m[I 2023-05-06 21:06:16,766]\u001b[0m Trial 359 finished with value: 3.874416829910541 and parameters: {'svd': 1.0, 'lfm_cos': 0.10000000000000009, 'nn': -1.9, 'knn': -0.09999999999999987, 'catboost_doc2vec': -0.2999999999999998, 'quality': -0.2999999999999998, 'volume': -2.0}. Best is trial 232 with value: 3.9349762478820045.\u001b[0m\n"
     ]
    },
    {
     "name": "stdout",
     "output_type": "stream",
     "text": [
      "time 2.486 cat_cov 100.0 cov 100.0 nov 0.975 ser 0.196 m1 0.287 m10 0.416 sum 3.874\n"
     ]
    },
    {
     "name": "stderr",
     "output_type": "stream",
     "text": [
      "\u001b[32m[I 2023-05-06 21:06:19,338]\u001b[0m Trial 360 finished with value: 3.8748789807921975 and parameters: {'svd': 0.9000000000000004, 'lfm_cos': 0.0, 'nn': -1.9, 'knn': -0.09999999999999987, 'catboost_doc2vec': -0.3999999999999999, 'quality': 0.20000000000000018, 'volume': -2.0}. Best is trial 232 with value: 3.9349762478820045.\u001b[0m\n"
     ]
    },
    {
     "name": "stdout",
     "output_type": "stream",
     "text": [
      "time 2.544 cat_cov 97.0 cov 100.0 nov 1.013 ser 0.188 m1 0.286 m10 0.417 sum 3.875\n"
     ]
    },
    {
     "name": "stderr",
     "output_type": "stream",
     "text": [
      "\u001b[32m[I 2023-05-06 21:06:21,742]\u001b[0m Trial 361 finished with value: 3.818290974184795 and parameters: {'svd': 1.1, 'lfm_cos': -0.19999999999999996, 'nn': -1.8, 'knn': 0.0, 'catboost_doc2vec': -0.19999999999999996, 'quality': 0.40000000000000036, 'volume': -1.8}. Best is trial 232 with value: 3.9349762478820045.\u001b[0m\n"
     ]
    },
    {
     "name": "stdout",
     "output_type": "stream",
     "text": [
      "time 2.376 cat_cov 98.0 cov 100.0 nov 0.98 ser 0.146 m1 0.289 m10 0.423 sum 3.818\n"
     ]
    },
    {
     "name": "stderr",
     "output_type": "stream",
     "text": [
      "\u001b[32m[I 2023-05-06 21:06:24,247]\u001b[0m Trial 362 finished with value: 3.898935794593628 and parameters: {'svd': 0.9000000000000004, 'lfm_cos': 0.10000000000000009, 'nn': -1.7, 'knn': -0.19999999999999996, 'catboost_doc2vec': 0.0, 'quality': -0.19999999999999996, 'volume': -1.9}. Best is trial 232 with value: 3.9349762478820045.\u001b[0m\n"
     ]
    },
    {
     "name": "stdout",
     "output_type": "stream",
     "text": [
      "time 2.478 cat_cov 100.0 cov 100.0 nov 1.0 ser 0.197 m1 0.286 m10 0.417 sum 3.899\n"
     ]
    },
    {
     "name": "stderr",
     "output_type": "stream",
     "text": [
      "\u001b[32m[I 2023-05-06 21:06:26,608]\u001b[0m Trial 363 finished with value: 3.865346352560698 and parameters: {'svd': 1.1, 'lfm_cos': -0.09999999999999987, 'nn': -1.7, 'knn': -0.2999999999999998, 'catboost_doc2vec': 0.0, 'quality': -0.19999999999999996, 'volume': -1.9}. Best is trial 232 with value: 3.9349762478820045.\u001b[0m\n"
     ]
    },
    {
     "name": "stdout",
     "output_type": "stream",
     "text": [
      "time 2.335 cat_cov 99.0 cov 100.0 nov 1.031 ser 0.143 m1 0.282 m10 0.42 sum 3.865\n"
     ]
    },
    {
     "name": "stderr",
     "output_type": "stream",
     "text": [
      "\u001b[32m[I 2023-05-06 21:06:28,958]\u001b[0m Trial 364 finished with value: 3.7176417191265103 and parameters: {'svd': 1.0, 'lfm_cos': 0.0, 'nn': -1.7, 'knn': -0.19999999999999996, 'catboost_doc2vec': 0.10000000000000009, 'quality': -0.19999999999999996, 'volume': -2.0}. Best is trial 232 with value: 3.9349762478820045.\u001b[0m\n"
     ]
    },
    {
     "name": "stdout",
     "output_type": "stream",
     "text": [
      "time 2.323 cat_cov 89.0 cov 100.0 nov 0.983 ser 0.143 m1 0.285 m10 0.416 sum 3.718\n"
     ]
    },
    {
     "name": "stderr",
     "output_type": "stream",
     "text": [
      "\u001b[32m[I 2023-05-06 21:06:31,494]\u001b[0m Trial 365 finished with value: 3.863717556036543 and parameters: {'svd': 0.9000000000000004, 'lfm_cos': 0.20000000000000018, 'nn': -1.7, 'knn': -0.19999999999999996, 'catboost_doc2vec': 0.0, 'quality': -0.2999999999999998, 'volume': -1.8}. Best is trial 232 with value: 3.9349762478820045.\u001b[0m\n"
     ]
    },
    {
     "name": "stdout",
     "output_type": "stream",
     "text": [
      "time 2.508 cat_cov 99.0 cov 100.0 nov 0.969 ser 0.203 m1 0.288 m10 0.413 sum 3.864\n"
     ]
    },
    {
     "name": "stderr",
     "output_type": "stream",
     "text": [
      "\u001b[32m[I 2023-05-06 21:06:33,884]\u001b[0m Trial 366 finished with value: 3.744572871906584 and parameters: {'svd': 1.0, 'lfm_cos': -0.2999999999999998, 'nn': -1.8, 'knn': -0.3999999999999999, 'catboost_doc2vec': 0.0, 'quality': -0.09999999999999987, 'volume': -1.9}. Best is trial 232 with value: 3.9349762478820045.\u001b[0m\n"
     ]
    },
    {
     "name": "stdout",
     "output_type": "stream",
     "text": [
      "time 2.363 cat_cov 94.0 cov 100.0 nov 0.997 ser 0.131 m1 0.27 m10 0.407 sum 3.745\n"
     ]
    },
    {
     "name": "stderr",
     "output_type": "stream",
     "text": [
      "\u001b[32m[I 2023-05-06 21:06:36,231]\u001b[0m Trial 367 finished with value: 3.7682958250203646 and parameters: {'svd': 1.2000000000000002, 'lfm_cos': 0.10000000000000009, 'nn': -1.8, 'knn': -0.09999999999999987, 'catboost_doc2vec': 0.20000000000000018, 'quality': -0.09999999999999987, 'volume': -1.7}. Best is trial 232 with value: 3.9349762478820045.\u001b[0m\n"
     ]
    },
    {
     "name": "stdout",
     "output_type": "stream",
     "text": [
      "time 2.319 cat_cov 96.0 cov 100.0 nov 0.943 ser 0.148 m1 0.293 m10 0.423 sum 3.768\n"
     ]
    },
    {
     "name": "stderr",
     "output_type": "stream",
     "text": [
      "\u001b[32m[I 2023-05-06 21:06:38,541]\u001b[0m Trial 368 finished with value: 3.778243277281809 and parameters: {'svd': 1.1, 'lfm_cos': 0.0, 'nn': -1.9, 'knn': -0.19999999999999996, 'catboost_doc2vec': 0.10000000000000009, 'quality': -0.19999999999999996, 'volume': -2.0}. Best is trial 232 with value: 3.9349762478820045.\u001b[0m\n"
     ]
    },
    {
     "name": "stdout",
     "output_type": "stream",
     "text": [
      "time 2.282 cat_cov 95.0 cov 100.0 nov 0.982 ser 0.143 m1 0.286 m10 0.417 sum 3.778\n"
     ]
    },
    {
     "name": "stderr",
     "output_type": "stream",
     "text": [
      "\u001b[32m[I 2023-05-06 21:06:40,923]\u001b[0m Trial 369 finished with value: 3.9025830238523227 and parameters: {'svd': 0.9000000000000004, 'lfm_cos': -0.09999999999999987, 'nn': -1.9, 'knn': -0.09999999999999987, 'catboost_doc2vec': -0.09999999999999987, 'quality': -0.2999999999999998, 'volume': -2.0}. Best is trial 232 with value: 3.9349762478820045.\u001b[0m\n"
     ]
    },
    {
     "name": "stdout",
     "output_type": "stream",
     "text": [
      "time 2.355 cat_cov 99.0 cov 100.0 nov 1.052 ser 0.163 m1 0.282 m10 0.415 sum 3.903\n"
     ]
    },
    {
     "name": "stderr",
     "output_type": "stream",
     "text": [
      "\u001b[32m[I 2023-05-06 21:06:43,295]\u001b[0m Trial 370 finished with value: 3.8367918920528625 and parameters: {'svd': 0.9000000000000004, 'lfm_cos': -0.19999999999999996, 'nn': -1.7, 'knn': -0.2999999999999998, 'catboost_doc2vec': -0.09999999999999987, 'quality': -0.2999999999999998, 'volume': -2.0}. Best is trial 232 with value: 3.9349762478820045.\u001b[0m\n"
     ]
    },
    {
     "name": "stdout",
     "output_type": "stream",
     "text": [
      "time 2.346 cat_cov 98.0 cov 100.0 nov 1.026 ser 0.151 m1 0.272 m10 0.408 sum 3.837\n"
     ]
    },
    {
     "name": "stderr",
     "output_type": "stream",
     "text": [
      "\u001b[32m[I 2023-05-06 21:06:45,768]\u001b[0m Trial 371 finished with value: 3.396000616776798 and parameters: {'svd': 0.9000000000000004, 'lfm_cos': -0.09999999999999987, 'nn': 1.3000000000000003, 'knn': -0.09999999999999987, 'catboost_doc2vec': 0.0, 'quality': -0.2999999999999998, 'volume': -2.0}. Best is trial 232 with value: 3.9349762478820045.\u001b[0m\n"
     ]
    },
    {
     "name": "stdout",
     "output_type": "stream",
     "text": [
      "time 2.445 cat_cov 75.0 cov 100.0 nov 0.722 ser 0.093 m1 0.353 m10 0.478 sum 3.396\n"
     ]
    },
    {
     "name": "stderr",
     "output_type": "stream",
     "text": [
      "\u001b[32m[I 2023-05-06 21:06:48,197]\u001b[0m Trial 372 finished with value: 3.8640316399141144 and parameters: {'svd': 0.8000000000000003, 'lfm_cos': -0.09999999999999987, 'nn': -1.9, 'knn': -0.5, 'catboost_doc2vec': -0.09999999999999987, 'quality': -0.19999999999999996, 'volume': -1.9}. Best is trial 232 with value: 3.9349762478820045.\u001b[0m\n"
     ]
    },
    {
     "name": "stdout",
     "output_type": "stream",
     "text": [
      "time 2.402 cat_cov 99.0 cov 100.0 nov 1.036 ser 0.169 m1 0.268 m10 0.401 sum 3.864\n"
     ]
    },
    {
     "name": "stderr",
     "output_type": "stream",
     "text": [
      "\u001b[32m[I 2023-05-06 21:06:50,673]\u001b[0m Trial 373 finished with value: 3.8958325033077577 and parameters: {'svd': 0.9000000000000004, 'lfm_cos': 0.10000000000000009, 'nn': -1.8, 'knn': -0.19999999999999996, 'catboost_doc2vec': 0.0, 'quality': 0.0, 'volume': -2.0}. Best is trial 232 with value: 3.9349762478820045.\u001b[0m\n"
     ]
    },
    {
     "name": "stdout",
     "output_type": "stream",
     "text": [
      "time 2.449 cat_cov 100.0 cov 100.0 nov 0.996 ser 0.197 m1 0.286 m10 0.417 sum 3.896\n"
     ]
    },
    {
     "name": "stderr",
     "output_type": "stream",
     "text": [
      "\u001b[32m[I 2023-05-06 21:06:53,017]\u001b[0m Trial 374 finished with value: 3.6020531868881718 and parameters: {'svd': 1.0, 'lfm_cos': 0.0, 'nn': -1.9, 'knn': -0.2999999999999998, 'catboost_doc2vec': 0.20000000000000018, 'quality': -0.09999999999999987, 'volume': -1.9}. Best is trial 232 with value: 3.9349762478820045.\u001b[0m\n"
     ]
    },
    {
     "name": "stdout",
     "output_type": "stream",
     "text": [
      "time 2.318 cat_cov 85.0 cov 100.0 nov 0.934 ser 0.137 m1 0.279 m10 0.402 sum 3.602\n"
     ]
    },
    {
     "name": "stderr",
     "output_type": "stream",
     "text": [
      "\u001b[32m[I 2023-05-06 21:06:55,299]\u001b[0m Trial 375 finished with value: 3.5783339405969503 and parameters: {'svd': 0.8000000000000003, 'lfm_cos': -0.3999999999999999, 'nn': -1.8, 'knn': -0.09999999999999987, 'catboost_doc2vec': 0.10000000000000009, 'quality': -0.19999999999999996, 'volume': -2.0}. Best is trial 232 with value: 3.9349762478820045.\u001b[0m\n"
     ]
    },
    {
     "name": "stdout",
     "output_type": "stream",
     "text": [
      "time 2.255 cat_cov 82.0 cov 100.0 nov 0.967 ser 0.126 m1 0.27 m10 0.396 sum 3.578\n"
     ]
    },
    {
     "name": "stderr",
     "output_type": "stream",
     "text": [
      "\u001b[32m[I 2023-05-06 21:06:57,656]\u001b[0m Trial 376 finished with value: 3.825503613645788 and parameters: {'svd': 1.0, 'lfm_cos': -0.19999999999999996, 'nn': -2.0, 'knn': -0.3999999999999999, 'catboost_doc2vec': -0.09999999999999987, 'quality': 0.0, 'volume': -1.9}. Best is trial 232 with value: 3.9349762478820045.\u001b[0m\n"
     ]
    },
    {
     "name": "stdout",
     "output_type": "stream",
     "text": [
      "time 2.331 cat_cov 99.0 cov 100.0 nov 1.005 ser 0.149 m1 0.273 m10 0.408 sum 3.826\n"
     ]
    },
    {
     "name": "stderr",
     "output_type": "stream",
     "text": [
      "\u001b[32m[I 2023-05-06 21:07:00,296]\u001b[0m Trial 377 finished with value: 3.7845668290462706 and parameters: {'svd': 1.2000000000000002, 'lfm_cos': 0.20000000000000018, 'nn': -1.7, 'knn': -1.2999999999999998, 'catboost_doc2vec': -0.19999999999999996, 'quality': -0.2999999999999998, 'volume': -2.0}. Best is trial 232 with value: 3.9349762478820045.\u001b[0m\n"
     ]
    },
    {
     "name": "stdout",
     "output_type": "stream",
     "text": [
      "time 2.613 cat_cov 94.0 cov 100.0 nov 0.965 ser 0.21 m1 0.27 m10 0.399 sum 3.785\n"
     ]
    },
    {
     "name": "stderr",
     "output_type": "stream",
     "text": [
      "\u001b[32m[I 2023-05-06 21:07:02,749]\u001b[0m Trial 378 finished with value: 3.8468196976642566 and parameters: {'svd': 1.3000000000000003, 'lfm_cos': -0.09999999999999987, 'nn': -1.9, 'knn': -0.19999999999999996, 'catboost_doc2vec': -0.2999999999999998, 'quality': -0.09999999999999987, 'volume': -1.9}. Best is trial 232 with value: 3.9349762478820045.\u001b[0m\n"
     ]
    },
    {
     "name": "stdout",
     "output_type": "stream",
     "text": [
      "time 2.426 cat_cov 97.0 cov 100.0 nov 0.999 ser 0.17 m1 0.287 m10 0.422 sum 3.847\n"
     ]
    },
    {
     "name": "stderr",
     "output_type": "stream",
     "text": [
      "\u001b[32m[I 2023-05-06 21:07:05,179]\u001b[0m Trial 379 finished with value: 3.898416577504914 and parameters: {'svd': 1.1, 'lfm_cos': 0.0, 'nn': -2.0, 'knn': 0.0, 'catboost_doc2vec': -0.09999999999999987, 'quality': 0.0, 'volume': -2.0}. Best is trial 232 with value: 3.9349762478820045.\u001b[0m\n"
     ]
    },
    {
     "name": "stdout",
     "output_type": "stream",
     "text": [
      "time 2.402 cat_cov 97.0 cov 100.0 nov 1.036 ser 0.176 m1 0.291 m10 0.426 sum 3.898\n"
     ]
    },
    {
     "name": "stderr",
     "output_type": "stream",
     "text": [
      "\u001b[32m[I 2023-05-06 21:07:07,689]\u001b[0m Trial 380 finished with value: 3.8958000102144843 and parameters: {'svd': 0.9000000000000004, 'lfm_cos': 0.10000000000000009, 'nn': -1.9, 'knn': -0.09999999999999987, 'catboost_doc2vec': 0.0, 'quality': -0.19999999999999996, 'volume': -2.0}. Best is trial 232 with value: 3.9349762478820045.\u001b[0m\n"
     ]
    },
    {
     "name": "stdout",
     "output_type": "stream",
     "text": [
      "time 2.483 cat_cov 99.0 cov 100.0 nov 1.006 ser 0.196 m1 0.286 m10 0.417 sum 3.896\n"
     ]
    },
    {
     "name": "stderr",
     "output_type": "stream",
     "text": [
      "\u001b[32m[I 2023-05-06 21:07:10,108]\u001b[0m Trial 381 finished with value: 3.8718627191312667 and parameters: {'svd': 0.8000000000000003, 'lfm_cos': -0.09999999999999987, 'nn': -1.8, 'knn': -0.2999999999999998, 'catboost_doc2vec': -0.19999999999999996, 'quality': 0.10000000000000009, 'volume': -1.9}. Best is trial 232 with value: 3.9349762478820045.\u001b[0m\n"
     ]
    },
    {
     "name": "stdout",
     "output_type": "stream",
     "text": [
      "time 2.392 cat_cov 100.0 cov 100.0 nov 1.018 ser 0.172 m1 0.274 m10 0.407 sum 3.872\n"
     ]
    },
    {
     "name": "stderr",
     "output_type": "stream",
     "text": [
      "\u001b[32m[I 2023-05-06 21:07:12,534]\u001b[0m Trial 382 finished with value: 3.751356136128427 and parameters: {'svd': 1.0, 'lfm_cos': 0.0, 'nn': -2.0, 'knn': -0.09999999999999987, 'catboost_doc2vec': 0.10000000000000009, 'quality': 0.0, 'volume': -1.8}. Best is trial 232 with value: 3.9349762478820045.\u001b[0m\n"
     ]
    },
    {
     "name": "stdout",
     "output_type": "stream",
     "text": [
      "time 2.399 cat_cov 94.0 cov 100.0 nov 0.967 ser 0.139 m1 0.288 m10 0.417 sum 3.751\n"
     ]
    },
    {
     "name": "stderr",
     "output_type": "stream",
     "text": [
      "\u001b[32m[I 2023-05-06 21:07:14,867]\u001b[0m Trial 383 finished with value: 3.129107539947125 and parameters: {'svd': 1.1, 'lfm_cos': 0.10000000000000009, 'nn': -1.9, 'knn': -0.19999999999999996, 'catboost_doc2vec': 1.5, 'quality': -0.09999999999999987, 'volume': -1.9}. Best is trial 232 with value: 3.9349762478820045.\u001b[0m\n"
     ]
    },
    {
     "name": "stdout",
     "output_type": "stream",
     "text": [
      "time 2.305 cat_cov 84.0 cov 100.0 nov 0.856 ser 0.124 m1 0.086 m10 0.223 sum 3.129\n"
     ]
    },
    {
     "name": "stderr",
     "output_type": "stream",
     "text": [
      "\u001b[32m[I 2023-05-06 21:07:17,276]\u001b[0m Trial 384 finished with value: 3.85000959861171 and parameters: {'svd': 1.3000000000000003, 'lfm_cos': -0.19999999999999996, 'nn': -1.7, 'knn': 0.0, 'catboost_doc2vec': -0.2999999999999998, 'quality': -0.2999999999999998, 'volume': -2.0}. Best is trial 232 with value: 3.9349762478820045.\u001b[0m\n"
     ]
    },
    {
     "name": "stdout",
     "output_type": "stream",
     "text": [
      "time 2.382 cat_cov 100.0 cov 100.0 nov 0.983 ser 0.152 m1 0.29 m10 0.425 sum 3.85\n"
     ]
    },
    {
     "name": "stderr",
     "output_type": "stream",
     "text": [
      "\u001b[32m[I 2023-05-06 21:07:19,741]\u001b[0m Trial 385 finished with value: 3.8869538551473872 and parameters: {'svd': 0.9000000000000004, 'lfm_cos': 0.0, 'nn': -2.0, 'knn': 0.10000000000000009, 'catboost_doc2vec': -0.09999999999999987, 'quality': -0.09999999999999987, 'volume': -0.7}. Best is trial 232 with value: 3.9349762478820045.\u001b[0m\n"
     ]
    },
    {
     "name": "stdout",
     "output_type": "stream",
     "text": [
      "time 2.438 cat_cov 99.0 cov 100.0 nov 1.006 ser 0.18 m1 0.29 m10 0.421 sum 3.887\n"
     ]
    },
    {
     "name": "stderr",
     "output_type": "stream",
     "text": [
      "\u001b[32m[I 2023-05-06 21:07:22,156]\u001b[0m Trial 386 finished with value: 3.7638699872554073 and parameters: {'svd': 1.2000000000000002, 'lfm_cos': 0.20000000000000018, 'nn': -0.19999999999999996, 'knn': -0.09999999999999987, 'catboost_doc2vec': -0.3999999999999999, 'quality': 0.0, 'volume': -1.9}. Best is trial 232 with value: 3.9349762478820045.\u001b[0m\n"
     ]
    },
    {
     "name": "stdout",
     "output_type": "stream",
     "text": [
      "time 2.388 cat_cov 98.0 cov 100.0 nov 0.836 ser 0.141 m1 0.34 m10 0.468 sum 3.764\n"
     ]
    },
    {
     "name": "stderr",
     "output_type": "stream",
     "text": [
      "\u001b[32m[I 2023-05-06 21:07:24,478]\u001b[0m Trial 387 finished with value: 3.6955869159066337 and parameters: {'svd': 1.0, 'lfm_cos': -0.7, 'nn': -1.8, 'knn': -0.2999999999999998, 'catboost_doc2vec': 0.0, 'quality': -0.19999999999999996, 'volume': -2.0}. Best is trial 232 with value: 3.9349762478820045.\u001b[0m\n"
     ]
    },
    {
     "name": "stdout",
     "output_type": "stream",
     "text": [
      "time 2.294 cat_cov 92.0 cov 100.0 nov 0.985 ser 0.123 m1 0.267 m10 0.401 sum 3.696\n"
     ]
    },
    {
     "name": "stderr",
     "output_type": "stream",
     "text": [
      "\u001b[32m[I 2023-05-06 21:07:26,954]\u001b[0m Trial 388 finished with value: 3.8602955162004484 and parameters: {'svd': 1.1, 'lfm_cos': -0.09999999999999987, 'nn': -1.9, 'knn': -0.19999999999999996, 'catboost_doc2vec': -0.09999999999999987, 'quality': 0.10000000000000009, 'volume': -1.8}. Best is trial 232 with value: 3.9349762478820045.\u001b[0m\n"
     ]
    },
    {
     "name": "stdout",
     "output_type": "stream",
     "text": [
      "time 2.448 cat_cov 98.0 cov 100.0 nov 1.019 ser 0.157 m1 0.284 m10 0.42 sum 3.86\n"
     ]
    },
    {
     "name": "stderr",
     "output_type": "stream",
     "text": [
      "\u001b[32m[I 2023-05-06 21:07:29,267]\u001b[0m Trial 389 finished with value: 3.6895274086828747 and parameters: {'svd': 0.8000000000000003, 'lfm_cos': -1.4, 'nn': -2.0, 'knn': 0.0, 'catboost_doc2vec': -0.19999999999999996, 'quality': -0.09999999999999987, 'volume': -2.0}. Best is trial 232 with value: 3.9349762478820045.\u001b[0m\n"
     ]
    },
    {
     "name": "stdout",
     "output_type": "stream",
     "text": [
      "time 2.288 cat_cov 94.0 cov 100.0 nov 0.971 ser 0.119 m1 0.265 m10 0.395 sum 3.69\n"
     ]
    },
    {
     "name": "stderr",
     "output_type": "stream",
     "text": [
      "\u001b[32m[I 2023-05-06 21:07:31,793]\u001b[0m Trial 390 finished with value: 3.866001635724277 and parameters: {'svd': 1.0, 'lfm_cos': 0.10000000000000009, 'nn': -1.8, 'knn': -0.09999999999999987, 'catboost_doc2vec': -0.2999999999999998, 'quality': 0.0, 'volume': -1.9}. Best is trial 232 with value: 3.9349762478820045.\u001b[0m\n"
     ]
    },
    {
     "name": "stdout",
     "output_type": "stream",
     "text": [
      "time 2.499 cat_cov 100.0 cov 100.0 nov 0.964 ser 0.194 m1 0.289 m10 0.419 sum 3.866\n"
     ]
    },
    {
     "name": "stderr",
     "output_type": "stream",
     "text": [
      "\u001b[32m[I 2023-05-06 21:07:34,100]\u001b[0m Trial 391 finished with value: 3.6703537433504363 and parameters: {'svd': 1.5, 'lfm_cos': -0.09999999999999987, 'nn': -1.9, 'knn': -0.3999999999999999, 'catboost_doc2vec': 0.10000000000000009, 'quality': -0.09999999999999987, 'volume': -1.8}. Best is trial 232 with value: 3.9349762478820045.\u001b[0m\n"
     ]
    },
    {
     "name": "stdout",
     "output_type": "stream",
     "text": [
      "time 2.281 cat_cov 88.0 cov 100.0 nov 0.948 ser 0.132 m1 0.286 m10 0.424 sum 3.67\n"
     ]
    },
    {
     "name": "stderr",
     "output_type": "stream",
     "text": [
      "\u001b[32m[I 2023-05-06 21:07:36,454]\u001b[0m Trial 392 finished with value: 3.2989131132474583 and parameters: {'svd': 1.3000000000000003, 'lfm_cos': -0.2999999999999998, 'nn': 1.8000000000000003, 'knn': -0.2999999999999998, 'catboost_doc2vec': 0.0, 'quality': 0.10000000000000009, 'volume': -2.0}. Best is trial 232 with value: 3.9349762478820045.\u001b[0m\n"
     ]
    },
    {
     "name": "stdout",
     "output_type": "stream",
     "text": [
      "time 2.327 cat_cov 65.0 cov 100.0 nov 0.722 ser 0.093 m1 0.356 m10 0.478 sum 3.299\n"
     ]
    },
    {
     "name": "stderr",
     "output_type": "stream",
     "text": [
      "\u001b[32m[I 2023-05-06 21:07:38,993]\u001b[0m Trial 393 finished with value: 3.8826308041580915 and parameters: {'svd': 1.2000000000000002, 'lfm_cos': 0.0, 'nn': -2.0, 'knn': -0.19999999999999996, 'catboost_doc2vec': -0.19999999999999996, 'quality': -0.19999999999999996, 'volume': -1.9}. Best is trial 232 with value: 3.9349762478820045.\u001b[0m\n"
     ]
    },
    {
     "name": "stdout",
     "output_type": "stream",
     "text": [
      "time 2.511 cat_cov 99.0 cov 100.0 nov 0.998 ser 0.188 m1 0.286 m10 0.421 sum 3.883\n"
     ]
    },
    {
     "name": "stderr",
     "output_type": "stream",
     "text": [
      "\u001b[32m[I 2023-05-06 21:07:41,488]\u001b[0m Trial 394 finished with value: 3.8952390580912173 and parameters: {'svd': 0.9000000000000004, 'lfm_cos': 0.0, 'nn': -1.9, 'knn': -0.5, 'catboost_doc2vec': -0.09999999999999987, 'quality': 0.0, 'volume': -2.0}. Best is trial 232 with value: 3.9349762478820045.\u001b[0m\n"
     ]
    },
    {
     "name": "stdout",
     "output_type": "stream",
     "text": [
      "time 2.466 cat_cov 99.0 cov 100.0 nov 1.029 ser 0.19 m1 0.276 m10 0.41 sum 3.895\n"
     ]
    },
    {
     "name": "stderr",
     "output_type": "stream",
     "text": [
      "\u001b[32m[I 2023-05-06 21:07:44,119]\u001b[0m Trial 395 finished with value: 3.6562165937137263 and parameters: {'svd': -1.1, 'lfm_cos': 0.10000000000000009, 'nn': -2.0, 'knn': 0.10000000000000009, 'catboost_doc2vec': -0.2999999999999998, 'quality': -0.2999999999999998, 'volume': -2.0}. Best is trial 232 with value: 3.9349762478820045.\u001b[0m\n"
     ]
    },
    {
     "name": "stdout",
     "output_type": "stream",
     "text": [
      "time 2.604 cat_cov 100.0 cov 100.0 nov 0.979 ser 0.218 m1 0.159 m10 0.3 sum 3.656\n"
     ]
    },
    {
     "name": "stderr",
     "output_type": "stream",
     "text": [
      "\u001b[32m[I 2023-05-06 21:07:46,590]\u001b[0m Trial 396 finished with value: 3.8458971590791284 and parameters: {'svd': 1.0, 'lfm_cos': 0.20000000000000018, 'nn': -1.8, 'knn': 0.0, 'catboost_doc2vec': 0.20000000000000018, 'quality': 0.10000000000000009, 'volume': -1.9}. Best is trial 232 with value: 3.9349762478820045.\u001b[0m\n"
     ]
    },
    {
     "name": "stdout",
     "output_type": "stream",
     "text": [
      "time 2.444 cat_cov 99.0 cov 100.0 nov 0.963 ser 0.174 m1 0.296 m10 0.422 sum 3.846\n"
     ]
    },
    {
     "name": "stderr",
     "output_type": "stream",
     "text": [
      "\u001b[32m[I 2023-05-06 21:07:48,990]\u001b[0m Trial 397 finished with value: 3.839830978977216 and parameters: {'svd': 1.1, 'lfm_cos': -0.19999999999999996, 'nn': -1.7, 'knn': -0.09999999999999987, 'catboost_doc2vec': -0.3999999999999999, 'quality': -0.09999999999999987, 'volume': -1.8}. Best is trial 232 with value: 3.9349762478820045.\u001b[0m\n"
     ]
    },
    {
     "name": "stdout",
     "output_type": "stream",
     "text": [
      "time 2.372 cat_cov 99.0 cov 100.0 nov 0.989 ser 0.16 m1 0.283 m10 0.418 sum 3.84\n"
     ]
    },
    {
     "name": "stderr",
     "output_type": "stream",
     "text": [
      "\u001b[32m[I 2023-05-06 21:07:51,337]\u001b[0m Trial 398 finished with value: 3.819038424163304 and parameters: {'svd': 1.4000000000000004, 'lfm_cos': -0.09999999999999987, 'nn': -1.9, 'knn': -0.19999999999999996, 'catboost_doc2vec': 0.0, 'quality': -0.19999999999999996, 'volume': -0.8999999999999999}. Best is trial 232 with value: 3.9349762478820045.\u001b[0m\n"
     ]
    },
    {
     "name": "stdout",
     "output_type": "stream",
     "text": [
      "time 2.32 cat_cov 96.0 cov 100.0 nov 1.002 ser 0.136 m1 0.29 m10 0.431 sum 3.819\n"
     ]
    },
    {
     "name": "stderr",
     "output_type": "stream",
     "text": [
      "\u001b[32m[I 2023-05-06 21:07:54,096]\u001b[0m Trial 399 finished with value: 3.6666660776367475 and parameters: {'svd': -1.8, 'lfm_cos': 0.10000000000000009, 'nn': -2.0, 'knn': 0.0, 'catboost_doc2vec': -0.19999999999999996, 'quality': 0.0, 'volume': -1.7}. Best is trial 232 with value: 3.9349762478820045.\u001b[0m\n"
     ]
    },
    {
     "name": "stdout",
     "output_type": "stream",
     "text": [
      "time 2.732 cat_cov 100.0 cov 100.0 nov 0.966 ser 0.218 m1 0.171 m10 0.312 sum 3.667\n"
     ]
    },
    {
     "name": "stderr",
     "output_type": "stream",
     "text": [
      "\u001b[32m[I 2023-05-06 21:07:56,451]\u001b[0m Trial 400 finished with value: 3.6699057301558193 and parameters: {'svd': 1.2000000000000002, 'lfm_cos': 0.0, 'nn': -2.0, 'knn': -0.3999999999999999, 'catboost_doc2vec': 0.30000000000000027, 'quality': -0.09999999999999987, 'volume': -2.0}. Best is trial 232 with value: 3.9349762478820045.\u001b[0m\n"
     ]
    },
    {
     "name": "stdout",
     "output_type": "stream",
     "text": [
      "time 2.327 cat_cov 94.0 cov 100.0 nov 0.916 ser 0.135 m1 0.279 m10 0.399 sum 3.67\n"
     ]
    },
    {
     "name": "stderr",
     "output_type": "stream",
     "text": [
      "\u001b[32m[I 2023-05-06 21:07:58,970]\u001b[0m Trial 401 finished with value: 3.8701988847613955 and parameters: {'svd': 0.9000000000000004, 'lfm_cos': 0.20000000000000018, 'nn': -1.8, 'knn': -0.09999999999999987, 'catboost_doc2vec': -0.09999999999999987, 'quality': 0.10000000000000009, 'volume': -1.9}. Best is trial 232 with value: 3.9349762478820045.\u001b[0m\n"
     ]
    },
    {
     "name": "stdout",
     "output_type": "stream",
     "text": [
      "time 2.492 cat_cov 100.0 cov 100.0 nov 0.961 ser 0.201 m1 0.291 m10 0.417 sum 3.87\n"
     ]
    },
    {
     "name": "stderr",
     "output_type": "stream",
     "text": [
      "\u001b[32m[I 2023-05-06 21:08:01,323]\u001b[0m Trial 402 finished with value: 3.586914524737792 and parameters: {'svd': 1.1, 'lfm_cos': -0.09999999999999987, 'nn': -0.5999999999999999, 'knn': 0.20000000000000018, 'catboost_doc2vec': -0.09999999999999987, 'quality': -0.19999999999999996, 'volume': 0.20000000000000018}. Best is trial 232 with value: 3.9349762478820045.\u001b[0m\n"
     ]
    },
    {
     "name": "stdout",
     "output_type": "stream",
     "text": [
      "time 2.325 cat_cov 84.0 cov 100.0 nov 0.846 ser 0.121 m1 0.323 m10 0.458 sum 3.587\n"
     ]
    },
    {
     "name": "stderr",
     "output_type": "stream",
     "text": [
      "\u001b[32m[I 2023-05-06 21:08:03,657]\u001b[0m Trial 403 finished with value: 3.687711556211838 and parameters: {'svd': 0.8000000000000003, 'lfm_cos': 0.0, 'nn': -1.9, 'knn': -0.19999999999999996, 'catboost_doc2vec': 0.10000000000000009, 'quality': 0.30000000000000027, 'volume': -2.0}. Best is trial 232 with value: 3.9349762478820045.\u001b[0m\n"
     ]
    },
    {
     "name": "stdout",
     "output_type": "stream",
     "text": [
      "time 2.306 cat_cov 89.0 cov 100.0 nov 0.97 ser 0.138 m1 0.282 m10 0.408 sum 3.688\n"
     ]
    },
    {
     "name": "stderr",
     "output_type": "stream",
     "text": [
      "\u001b[32m[I 2023-05-06 21:08:06,058]\u001b[0m Trial 404 finished with value: 3.7633517992841865 and parameters: {'svd': 1.0, 'lfm_cos': -0.19999999999999996, 'nn': -1.9, 'knn': -0.2999999999999998, 'catboost_doc2vec': 0.0, 'quality': 0.0, 'volume': -1.9}. Best is trial 232 with value: 3.9349762478820045.\u001b[0m\n"
     ]
    },
    {
     "name": "stdout",
     "output_type": "stream",
     "text": [
      "time 2.374 cat_cov 94.0 cov 100.0 nov 1.003 ser 0.132 m1 0.276 m10 0.412 sum 3.763\n"
     ]
    },
    {
     "name": "stderr",
     "output_type": "stream",
     "text": [
      "\u001b[32m[I 2023-05-06 21:08:08,531]\u001b[0m Trial 405 finished with value: 3.8803103599533824 and parameters: {'svd': 1.1, 'lfm_cos': 0.10000000000000009, 'nn': -2.0, 'knn': 0.10000000000000009, 'catboost_doc2vec': -0.19999999999999996, 'quality': -0.09999999999999987, 'volume': -1.8}. Best is trial 232 with value: 3.9349762478820045.\u001b[0m\n"
     ]
    },
    {
     "name": "stdout",
     "output_type": "stream",
     "text": [
      "time 2.447 cat_cov 100.0 cov 100.0 nov 0.978 ser 0.187 m1 0.292 m10 0.423 sum 3.88\n"
     ]
    },
    {
     "name": "stderr",
     "output_type": "stream",
     "text": [
      "\u001b[32m[I 2023-05-06 21:08:11,044]\u001b[0m Trial 406 finished with value: 3.856648193505694 and parameters: {'svd': 1.2000000000000002, 'lfm_cos': 0.10000000000000009, 'nn': -1.6, 'knn': -0.09999999999999987, 'catboost_doc2vec': -0.2999999999999998, 'quality': -0.2999999999999998, 'volume': -2.0}. Best is trial 232 with value: 3.9349762478820045.\u001b[0m\n"
     ]
    },
    {
     "name": "stdout",
     "output_type": "stream",
     "text": [
      "time 2.486 cat_cov 100.0 cov 100.0 nov 0.951 ser 0.187 m1 0.293 m10 0.425 sum 3.857\n"
     ]
    },
    {
     "name": "stderr",
     "output_type": "stream",
     "text": [
      "\u001b[32m[I 2023-05-06 21:08:13,352]\u001b[0m Trial 407 finished with value: 3.6646520017625317 and parameters: {'svd': 1.3000000000000003, 'lfm_cos': -0.09999999999999987, 'nn': -1.7, 'knn': -0.5999999999999999, 'catboost_doc2vec': 0.10000000000000009, 'quality': 0.10000000000000009, 'volume': -1.9}. Best is trial 232 with value: 3.9349762478820045.\u001b[0m\n"
     ]
    },
    {
     "name": "stdout",
     "output_type": "stream",
     "text": [
      "time 2.279 cat_cov 89.0 cov 100.0 nov 0.947 ser 0.131 m1 0.28 m10 0.415 sum 3.665\n"
     ]
    },
    {
     "name": "stderr",
     "output_type": "stream",
     "text": [
      "\u001b[32m[I 2023-05-06 21:08:15,806]\u001b[0m Trial 408 finished with value: 3.9097496317424274 and parameters: {'svd': 0.9000000000000004, 'lfm_cos': 0.0, 'nn': -1.8, 'knn': 0.0, 'catboost_doc2vec': -0.3999999999999999, 'quality': 0.0, 'volume': -2.0}. Best is trial 232 with value: 3.9349762478820045.\u001b[0m\n"
     ]
    },
    {
     "name": "stdout",
     "output_type": "stream",
     "text": [
      "time 2.427 cat_cov 100.0 cov 100.0 nov 1.017 ser 0.185 m1 0.288 m10 0.42 sum 3.91\n"
     ]
    },
    {
     "name": "stderr",
     "output_type": "stream",
     "text": [
      "\u001b[32m[I 2023-05-06 21:08:18,400]\u001b[0m Trial 409 finished with value: 3.601004660244755 and parameters: {'svd': -0.3999999999999999, 'lfm_cos': -0.19999999999999996, 'nn': -1.9, 'knn': 0.0, 'catboost_doc2vec': -0.5, 'quality': 0.0, 'volume': -2.0}. Best is trial 232 with value: 3.9349762478820045.\u001b[0m\n"
     ]
    },
    {
     "name": "stdout",
     "output_type": "stream",
     "text": [
      "time 2.567 cat_cov 100.0 cov 100.0 nov 1.023 ser 0.189 m1 0.12 m10 0.27 sum 3.601\n"
     ]
    },
    {
     "name": "stderr",
     "output_type": "stream",
     "text": [
      "\u001b[32m[I 2023-05-06 21:08:20,915]\u001b[0m Trial 410 finished with value: 3.857617420971607 and parameters: {'svd': 1.0, 'lfm_cos': -0.09999999999999987, 'nn': -1.8, 'knn': 0.10000000000000009, 'catboost_doc2vec': -0.3999999999999999, 'quality': 0.20000000000000018, 'volume': -2.0}. Best is trial 232 with value: 3.9349762478820045.\u001b[0m\n"
     ]
    },
    {
     "name": "stdout",
     "output_type": "stream",
     "text": [
      "time 2.487 cat_cov 99.0 cov 100.0 nov 0.992 ser 0.165 m1 0.289 m10 0.422 sum 3.858\n"
     ]
    },
    {
     "name": "stderr",
     "output_type": "stream",
     "text": [
      "\u001b[32m[I 2023-05-06 21:08:23,405]\u001b[0m Trial 411 finished with value: 3.890911733199279 and parameters: {'svd': 0.8000000000000003, 'lfm_cos': 0.0, 'nn': -2.0, 'knn': 0.0, 'catboost_doc2vec': -0.3999999999999999, 'quality': 0.10000000000000009, 'volume': -2.0}. Best is trial 232 with value: 3.9349762478820045.\u001b[0m\n"
     ]
    },
    {
     "name": "stdout",
     "output_type": "stream",
     "text": [
      "time 2.462 cat_cov 98.0 cov 100.0 nov 1.022 ser 0.186 m1 0.287 m10 0.416 sum 3.891\n"
     ]
    },
    {
     "name": "stderr",
     "output_type": "stream",
     "text": [
      "\u001b[32m[I 2023-05-06 21:08:25,846]\u001b[0m Trial 412 finished with value: 3.8493827740357496 and parameters: {'svd': 1.2000000000000002, 'lfm_cos': 0.0, 'nn': -1.8, 'knn': 0.20000000000000018, 'catboost_doc2vec': -0.3999999999999999, 'quality': 0.0, 'volume': -2.0}. Best is trial 232 with value: 3.9349762478820045.\u001b[0m\n"
     ]
    },
    {
     "name": "stdout",
     "output_type": "stream",
     "text": [
      "time 2.412 cat_cov 98.0 cov 100.0 nov 0.978 ser 0.167 m1 0.295 m10 0.429 sum 3.849\n"
     ]
    },
    {
     "name": "stderr",
     "output_type": "stream",
     "text": [
      "\u001b[32m[I 2023-05-06 21:08:28,310]\u001b[0m Trial 413 finished with value: 3.9020404940561773 and parameters: {'svd': 1.1, 'lfm_cos': 0.0, 'nn': -1.9, 'knn': -0.09999999999999987, 'catboost_doc2vec': -0.19999999999999996, 'quality': -0.09999999999999987, 'volume': -1.8}. Best is trial 232 with value: 3.9349762478820045.\u001b[0m\n"
     ]
    },
    {
     "name": "stdout",
     "output_type": "stream",
     "text": [
      "time 2.436 cat_cov 100.0 cov 100.0 nov 1.007 ser 0.185 m1 0.288 m10 0.422 sum 3.902\n"
     ]
    },
    {
     "name": "stderr",
     "output_type": "stream",
     "text": [
      "\u001b[32m[I 2023-05-06 21:08:30,749]\u001b[0m Trial 414 finished with value: 3.7473503836000153 and parameters: {'svd': 0.9000000000000004, 'lfm_cos': -0.09999999999999987, 'nn': -2.0, 'knn': 0.0, 'catboost_doc2vec': -0.2999999999999998, 'quality': 1.0, 'volume': 1.1}. Best is trial 232 with value: 3.9349762478820045.\u001b[0m\n"
     ]
    },
    {
     "name": "stdout",
     "output_type": "stream",
     "text": [
      "time 2.412 cat_cov 96.0 cov 100.0 nov 0.917 ser 0.16 m1 0.289 m10 0.422 sum 3.747\n"
     ]
    },
    {
     "name": "stderr",
     "output_type": "stream",
     "text": [
      "\u001b[32m[I 2023-05-06 21:08:33,215]\u001b[0m Trial 415 finished with value: 3.799171269476509 and parameters: {'svd': 1.1, 'lfm_cos': -0.2999999999999998, 'nn': -1.9, 'knn': 0.10000000000000009, 'catboost_doc2vec': -0.19999999999999996, 'quality': -0.09999999999999987, 'volume': -1.8}. Best is trial 232 with value: 3.9349762478820045.\u001b[0m\n"
     ]
    },
    {
     "name": "stdout",
     "output_type": "stream",
     "text": [
      "time 2.438 cat_cov 97.0 cov 100.0 nov 0.982 ser 0.143 m1 0.284 m10 0.42 sum 3.799\n"
     ]
    },
    {
     "name": "stderr",
     "output_type": "stream",
     "text": [
      "\u001b[32m[I 2023-05-06 21:08:35,567]\u001b[0m Trial 416 finished with value: 3.0429541282754053 and parameters: {'svd': 1.0, 'lfm_cos': 0.0, 'nn': -1.9, 'knn': -0.09999999999999987, 'catboost_doc2vec': 1.8000000000000003, 'quality': -0.09999999999999987, 'volume': -1.7}. Best is trial 232 with value: 3.9349762478820045.\u001b[0m\n"
     ]
    },
    {
     "name": "stdout",
     "output_type": "stream",
     "text": [
      "time 2.323 cat_cov 79.0 cov 100.0 nov 0.846 ser 0.12 m1 0.077 m10 0.21 sum 3.043\n"
     ]
    },
    {
     "name": "stderr",
     "output_type": "stream",
     "text": [
      "\u001b[32m[I 2023-05-06 21:08:38,026]\u001b[0m Trial 417 finished with value: 3.860198287945898 and parameters: {'svd': 1.4000000000000004, 'lfm_cos': -0.09999999999999987, 'nn': -2.0, 'knn': 0.0, 'catboost_doc2vec': -0.5, 'quality': 0.20000000000000018, 'volume': -1.7}. Best is trial 232 with value: 3.9349762478820045.\u001b[0m\n"
     ]
    },
    {
     "name": "stdout",
     "output_type": "stream",
     "text": [
      "time 2.431 cat_cov 100.0 cov 100.0 nov 0.977 ser 0.164 m1 0.293 m10 0.426 sum 3.86\n"
     ]
    },
    {
     "name": "stderr",
     "output_type": "stream",
     "text": [
      "\u001b[32m[I 2023-05-06 21:08:40,524]\u001b[0m Trial 418 finished with value: 3.8155595969717107 and parameters: {'svd': 1.2000000000000002, 'lfm_cos': 0.20000000000000018, 'nn': -2.0, 'knn': -0.09999999999999987, 'catboost_doc2vec': -0.2999999999999998, 'quality': -0.19999999999999996, 'volume': 2.0}. Best is trial 232 with value: 3.9349762478820045.\u001b[0m\n"
     ]
    },
    {
     "name": "stdout",
     "output_type": "stream",
     "text": [
      "time 2.47 cat_cov 99.0 cov 100.0 nov 0.909 ser 0.196 m1 0.296 m10 0.424 sum 3.816\n"
     ]
    },
    {
     "name": "stderr",
     "output_type": "stream",
     "text": [
      "\u001b[32m[I 2023-05-06 21:08:42,805]\u001b[0m Trial 419 finished with value: 3.624352830972908 and parameters: {'svd': 0.9000000000000004, 'lfm_cos': -1.7, 'nn': -1.8, 'knn': -0.2999999999999998, 'catboost_doc2vec': -0.09999999999999987, 'quality': 0.10000000000000009, 'volume': -1.8}. Best is trial 232 with value: 3.9349762478820045.\u001b[0m\n"
     ]
    },
    {
     "name": "stdout",
     "output_type": "stream",
     "text": [
      "time 2.253 cat_cov 90.0 cov 100.0 nov 0.957 ser 0.112 m1 0.262 m10 0.393 sum 3.624\n"
     ]
    },
    {
     "name": "stderr",
     "output_type": "stream",
     "text": [
      "\u001b[32m[I 2023-05-06 21:08:45,276]\u001b[0m Trial 420 finished with value: 3.872068699588401 and parameters: {'svd': 0.8000000000000003, 'lfm_cos': 0.0, 'nn': -1.9, 'knn': -0.19999999999999996, 'catboost_doc2vec': -0.2999999999999998, 'quality': -0.09999999999999987, 'volume': -1.9}. Best is trial 232 with value: 3.9349762478820045.\u001b[0m\n"
     ]
    },
    {
     "name": "stdout",
     "output_type": "stream",
     "text": [
      "time 2.443 cat_cov 98.0 cov 100.0 nov 1.008 ser 0.196 m1 0.278 m10 0.411 sum 3.872\n"
     ]
    },
    {
     "name": "stderr",
     "output_type": "stream",
     "text": [
      "\u001b[32m[I 2023-05-06 21:08:47,758]\u001b[0m Trial 421 finished with value: 3.82069137092859 and parameters: {'svd': 1.3000000000000003, 'lfm_cos': -0.19999999999999996, 'nn': -2.0, 'knn': 0.10000000000000009, 'catboost_doc2vec': -0.19999999999999996, 'quality': 0.0, 'volume': -1.9}. Best is trial 232 with value: 3.9349762478820045.\u001b[0m\n"
     ]
    },
    {
     "name": "stdout",
     "output_type": "stream",
     "text": [
      "time 2.454 cat_cov 98.0 cov 100.0 nov 0.977 ser 0.147 m1 0.291 m10 0.426 sum 3.821\n"
     ]
    },
    {
     "name": "stderr",
     "output_type": "stream",
     "text": [
      "\u001b[32m[I 2023-05-06 21:08:50,246]\u001b[0m Trial 422 finished with value: 3.864000433762904 and parameters: {'svd': 1.1, 'lfm_cos': 0.10000000000000009, 'nn': -1.9, 'knn': 0.20000000000000018, 'catboost_doc2vec': -0.09999999999999987, 'quality': 0.0, 'volume': -1.8}. Best is trial 232 with value: 3.9349762478820045.\u001b[0m\n"
     ]
    },
    {
     "name": "stdout",
     "output_type": "stream",
     "text": [
      "time 2.46 cat_cov 99.0 cov 100.0 nov 0.973 ser 0.18 m1 0.295 m10 0.427 sum 3.864\n"
     ]
    },
    {
     "name": "stderr",
     "output_type": "stream",
     "text": [
      "\u001b[32m[I 2023-05-06 21:08:52,719]\u001b[0m Trial 423 finished with value: 3.8601806182506375 and parameters: {'svd': 1.0, 'lfm_cos': -0.09999999999999987, 'nn': -1.8, 'knn': -0.09999999999999987, 'catboost_doc2vec': -0.3999999999999999, 'quality': -0.2999999999999998, 'volume': -0.5}. Best is trial 232 with value: 3.9349762478820045.\u001b[0m\n"
     ]
    },
    {
     "name": "stdout",
     "output_type": "stream",
     "text": [
      "time 2.444 cat_cov 100.0 cov 100.0 nov 0.983 ser 0.176 m1 0.284 m10 0.417 sum 3.86\n"
     ]
    },
    {
     "name": "stderr",
     "output_type": "stream",
     "text": [
      "\u001b[32m[I 2023-05-06 21:08:55,158]\u001b[0m Trial 424 finished with value: 3.922171601859864 and parameters: {'svd': 1.0, 'lfm_cos': 0.0, 'nn': -2.0, 'knn': -0.3999999999999999, 'catboost_doc2vec': 0.0, 'quality': -0.09999999999999987, 'volume': -1.9}. Best is trial 232 with value: 3.9349762478820045.\u001b[0m\n"
     ]
    },
    {
     "name": "stdout",
     "output_type": "stream",
     "text": [
      "time 2.41 cat_cov 98.0 cov 100.0 nov 1.075 ser 0.176 m1 0.278 m10 0.414 sum 3.922\n"
     ]
    },
    {
     "name": "stderr",
     "output_type": "stream",
     "text": [
      "\u001b[32m[I 2023-05-06 21:08:57,533]\u001b[0m Trial 425 finished with value: 3.541176657495491 and parameters: {'svd': 1.2000000000000002, 'lfm_cos': 0.10000000000000009, 'nn': 0.6000000000000001, 'knn': -0.19999999999999996, 'catboost_doc2vec': 0.0, 'quality': 0.10000000000000009, 'volume': -1.8}. Best is trial 232 with value: 3.9349762478820045.\u001b[0m\n"
     ]
    },
    {
     "name": "stdout",
     "output_type": "stream",
     "text": [
      "time 2.345 cat_cov 81.0 cov 100.0 nov 0.772 ser 0.107 m1 0.369 m10 0.483 sum 3.541\n"
     ]
    },
    {
     "name": "stderr",
     "output_type": "stream",
     "text": [
      "\u001b[32m[I 2023-05-06 21:08:59,909]\u001b[0m Trial 426 finished with value: 3.5949712970920857 and parameters: {'svd': 1.1, 'lfm_cos': -0.19999999999999996, 'nn': -2.0, 'knn': -0.3999999999999999, 'catboost_doc2vec': 0.20000000000000018, 'quality': 0.0, 'volume': -1.7}. Best is trial 232 with value: 3.9349762478820045.\u001b[0m\n"
     ]
    },
    {
     "name": "stdout",
     "output_type": "stream",
     "text": [
      "time 2.349 cat_cov 87.0 cov 100.0 nov 0.922 ser 0.129 m1 0.274 m10 0.399 sum 3.595\n"
     ]
    },
    {
     "name": "stderr",
     "output_type": "stream",
     "text": [
      "\u001b[32m[I 2023-05-06 21:09:02,231]\u001b[0m Trial 427 finished with value: 3.65946363362748 and parameters: {'svd': 1.0, 'lfm_cos': -0.09999999999999987, 'nn': -2.0, 'knn': -0.3999999999999999, 'catboost_doc2vec': 0.10000000000000009, 'quality': 0.30000000000000027, 'volume': -1.9}. Best is trial 232 with value: 3.9349762478820045.\u001b[0m\n"
     ]
    },
    {
     "name": "stdout",
     "output_type": "stream",
     "text": [
      "time 2.293 cat_cov 90.0 cov 100.0 nov 0.946 ser 0.13 m1 0.277 m10 0.407 sum 3.659\n"
     ]
    },
    {
     "name": "stderr",
     "output_type": "stream",
     "text": [
      "\u001b[32m[I 2023-05-06 21:09:04,733]\u001b[0m Trial 428 finished with value: 3.870031568057758 and parameters: {'svd': 1.6, 'lfm_cos': 0.10000000000000009, 'nn': -2.0, 'knn': -0.7, 'catboost_doc2vec': 0.0, 'quality': -0.09999999999999987, 'volume': -1.9}. Best is trial 232 with value: 3.9349762478820045.\u001b[0m\n"
     ]
    },
    {
     "name": "stdout",
     "output_type": "stream",
     "text": [
      "time 2.472 cat_cov 100.0 cov 100.0 nov 0.973 ser 0.191 m1 0.285 m10 0.42 sum 3.87\n"
     ]
    },
    {
     "name": "stderr",
     "output_type": "stream",
     "text": [
      "\u001b[32m[I 2023-05-06 21:09:07,219]\u001b[0m Trial 429 finished with value: 3.886397128427843 and parameters: {'svd': 1.1, 'lfm_cos': 0.0, 'nn': -1.9, 'knn': -0.5, 'catboost_doc2vec': -0.09999999999999987, 'quality': 0.10000000000000009, 'volume': -1.8}. Best is trial 232 with value: 3.9349762478820045.\u001b[0m\n"
     ]
    },
    {
     "name": "stdout",
     "output_type": "stream",
     "text": [
      "time 2.457 cat_cov 99.0 cov 100.0 nov 1.014 ser 0.188 m1 0.279 m10 0.415 sum 3.886\n"
     ]
    },
    {
     "name": "stderr",
     "output_type": "stream",
     "text": [
      "\u001b[32m[I 2023-05-06 21:09:09,612]\u001b[0m Trial 430 finished with value: 3.866366235392264 and parameters: {'svd': 1.0, 'lfm_cos': -0.09999999999999987, 'nn': -2.0, 'knn': -0.2999999999999998, 'catboost_doc2vec': -0.09999999999999987, 'quality': 0.0, 'volume': -1.9}. Best is trial 232 with value: 3.9349762478820045.\u001b[0m\n"
     ]
    },
    {
     "name": "stdout",
     "output_type": "stream",
     "text": [
      "time 2.363 cat_cov 99.0 cov 100.0 nov 1.023 ser 0.163 m1 0.278 m10 0.413 sum 3.866\n"
     ]
    },
    {
     "name": "stderr",
     "output_type": "stream",
     "text": [
      "\u001b[32m[I 2023-05-06 21:09:12,119]\u001b[0m Trial 431 finished with value: 3.8792961816830007 and parameters: {'svd': 1.2000000000000002, 'lfm_cos': 0.20000000000000018, 'nn': -2.0, 'knn': -0.3999999999999999, 'catboost_doc2vec': 0.10000000000000009, 'quality': 0.20000000000000018, 'volume': -1.7}. Best is trial 232 with value: 3.9349762478820045.\u001b[0m\n"
     ]
    },
    {
     "name": "stdout",
     "output_type": "stream",
     "text": [
      "time 2.479 cat_cov 100.0 cov 100.0 nov 0.978 ser 0.194 m1 0.288 m10 0.419 sum 3.879\n"
     ]
    },
    {
     "name": "stderr",
     "output_type": "stream",
     "text": [
      "\u001b[32m[I 2023-05-06 21:09:14,589]\u001b[0m Trial 432 finished with value: 2.9336281911653197 and parameters: {'svd': -0.09999999999999987, 'lfm_cos': 0.0, 'nn': -1.9, 'knn': -0.5, 'catboost_doc2vec': 0.40000000000000036, 'quality': -0.09999999999999987, 'volume': -2.0}. Best is trial 232 with value: 3.9349762478820045.\u001b[0m\n"
     ]
    },
    {
     "name": "stdout",
     "output_type": "stream",
     "text": [
      "time 2.441 cat_cov 70.0 cov 100.0 nov 0.896 ser 0.134 m1 0.052 m10 0.152 sum 2.934\n"
     ]
    },
    {
     "name": "stderr",
     "output_type": "stream",
     "text": [
      "\u001b[32m[I 2023-05-06 21:09:17,074]\u001b[0m Trial 433 finished with value: 3.853136182635514 and parameters: {'svd': 1.3000000000000003, 'lfm_cos': 0.10000000000000009, 'nn': -1.9, 'knn': -0.2999999999999998, 'catboost_doc2vec': -0.19999999999999996, 'quality': 0.10000000000000009, 'volume': -1.9}. Best is trial 232 with value: 3.9349762478820045.\u001b[0m\n"
     ]
    },
    {
     "name": "stdout",
     "output_type": "stream",
     "text": [
      "time 2.456 cat_cov 100.0 cov 100.0 nov 0.95 ser 0.191 m1 0.29 m10 0.422 sum 3.853\n"
     ]
    },
    {
     "name": "stderr",
     "output_type": "stream",
     "text": [
      "\u001b[32m[I 2023-05-06 21:09:19,458]\u001b[0m Trial 434 finished with value: 3.943551091453188 and parameters: {'svd': 1.1, 'lfm_cos': 0.0, 'nn': -1.9, 'knn': 0.0, 'catboost_doc2vec': 0.0, 'quality': -0.09999999999999987, 'volume': -1.6}. Best is trial 434 with value: 3.943551091453188.\u001b[0m\n"
     ]
    },
    {
     "name": "stdout",
     "output_type": "stream",
     "text": [
      "time 2.356 cat_cov 98.0 cov 100.0 nov 1.079 ser 0.165 m1 0.292 m10 0.428 sum 3.944\n"
     ]
    },
    {
     "name": "stderr",
     "output_type": "stream",
     "text": [
      "\u001b[32m[I 2023-05-06 21:09:21,766]\u001b[0m Trial 435 finished with value: 3.702325834789291 and parameters: {'svd': 0.8000000000000003, 'lfm_cos': -0.3999999999999999, 'nn': -2.0, 'knn': 0.10000000000000009, 'catboost_doc2vec': 0.0, 'quality': 0.30000000000000027, 'volume': -1.5}. Best is trial 434 with value: 3.943551091453188.\u001b[0m\n"
     ]
    },
    {
     "name": "stdout",
     "output_type": "stream",
     "text": [
      "time 2.279 cat_cov 90.0 cov 100.0 nov 0.991 ser 0.121 m1 0.276 m10 0.414 sum 3.702\n"
     ]
    },
    {
     "name": "stderr",
     "output_type": "stream",
     "text": [
      "\u001b[32m[I 2023-05-06 21:09:24,090]\u001b[0m Trial 436 finished with value: 3.6419693453795006 and parameters: {'svd': 1.0, 'lfm_cos': -0.19999999999999996, 'nn': -1.9, 'knn': 0.0, 'catboost_doc2vec': 0.20000000000000018, 'quality': 0.0, 'volume': -2.0}. Best is trial 434 with value: 3.943551091453188.\u001b[0m\n"
     ]
    },
    {
     "name": "stdout",
     "output_type": "stream",
     "text": [
      "time 2.297 cat_cov 90.0 cov 100.0 nov 0.922 ser 0.128 m1 0.283 m10 0.408 sum 3.642\n"
     ]
    },
    {
     "name": "stderr",
     "output_type": "stream",
     "text": [
      "\u001b[32m[I 2023-05-06 21:09:26,654]\u001b[0m Trial 437 finished with value: 3.8808290753530605 and parameters: {'svd': 1.2000000000000002, 'lfm_cos': 0.20000000000000018, 'nn': -2.0, 'knn': 0.0, 'catboost_doc2vec': 0.10000000000000009, 'quality': -0.19999999999999996, 'volume': -1.6}. Best is trial 434 with value: 3.943551091453188.\u001b[0m\n"
     ]
    },
    {
     "name": "stdout",
     "output_type": "stream",
     "text": [
      "time 2.536 cat_cov 100.0 cov 100.0 nov 0.968 ser 0.19 m1 0.296 m10 0.426 sum 3.881\n"
     ]
    },
    {
     "name": "stderr",
     "output_type": "stream",
     "text": [
      "\u001b[32m[I 2023-05-06 21:09:28,988]\u001b[0m Trial 438 finished with value: 3.857439174187773 and parameters: {'svd': 1.1, 'lfm_cos': -0.09999999999999987, 'nn': -1.8, 'knn': 0.10000000000000009, 'catboost_doc2vec': 0.0, 'quality': -0.09999999999999987, 'volume': -1.6}. Best is trial 434 with value: 3.943551091453188.\u001b[0m\n"
     ]
    },
    {
     "name": "stdout",
     "output_type": "stream",
     "text": [
      "time 2.305 cat_cov 97.0 cov 100.0 nov 1.03 ser 0.136 m1 0.292 m10 0.43 sum 3.857\n"
     ]
    },
    {
     "name": "stderr",
     "output_type": "stream",
     "text": [
      "\u001b[32m[I 2023-05-06 21:09:31,392]\u001b[0m Trial 439 finished with value: 3.9037652101055396 and parameters: {'svd': 0.9000000000000004, 'lfm_cos': 0.0, 'nn': -2.0, 'knn': -0.19999999999999996, 'catboost_doc2vec': 0.0, 'quality': 0.10000000000000009, 'volume': -1.9}. Best is trial 434 with value: 3.943551091453188.\u001b[0m\n"
     ]
    },
    {
     "name": "stdout",
     "output_type": "stream",
     "text": [
      "time 2.375 cat_cov 96.0 cov 100.0 nov 1.075 ser 0.168 m1 0.283 m10 0.416 sum 3.904\n"
     ]
    },
    {
     "name": "stderr",
     "output_type": "stream",
     "text": [
      "\u001b[32m[I 2023-05-06 21:09:33,898]\u001b[0m Trial 440 finished with value: 3.8715223372776584 and parameters: {'svd': 0.9000000000000004, 'lfm_cos': 0.10000000000000009, 'nn': -2.0, 'knn': -0.2999999999999998, 'catboost_doc2vec': -0.09999999999999987, 'quality': 0.0, 'volume': -1.8}. Best is trial 434 with value: 3.943551091453188.\u001b[0m\n"
     ]
    },
    {
     "name": "stdout",
     "output_type": "stream",
     "text": [
      "time 2.478 cat_cov 100.0 cov 100.0 nov 0.978 ser 0.201 m1 0.281 m10 0.412 sum 3.872\n"
     ]
    },
    {
     "name": "stderr",
     "output_type": "stream",
     "text": [
      "\u001b[32m[I 2023-05-06 21:09:36,283]\u001b[0m Trial 441 finished with value: 3.9052159191997715 and parameters: {'svd': 0.8000000000000003, 'lfm_cos': 0.0, 'nn': -1.9, 'knn': 0.20000000000000018, 'catboost_doc2vec': 0.0, 'quality': 0.20000000000000018, 'volume': -1.7}. Best is trial 434 with value: 3.943551091453188.\u001b[0m\n"
     ]
    },
    {
     "name": "stdout",
     "output_type": "stream",
     "text": [
      "time 2.356 cat_cov 97.0 cov 100.0 nov 1.063 ser 0.157 m1 0.291 m10 0.424 sum 3.905\n"
     ]
    },
    {
     "name": "stderr",
     "output_type": "stream",
     "text": [
      "\u001b[32m[I 2023-05-06 21:09:38,708]\u001b[0m Trial 442 finished with value: 3.888214932408716 and parameters: {'svd': 0.8000000000000003, 'lfm_cos': 0.10000000000000009, 'nn': -1.8, 'knn': 0.20000000000000018, 'catboost_doc2vec': 0.10000000000000009, 'quality': 0.40000000000000036, 'volume': -1.7}. Best is trial 434 with value: 3.943551091453188.\u001b[0m\n"
     ]
    },
    {
     "name": "stdout",
     "output_type": "stream",
     "text": [
      "time 2.396 cat_cov 99.0 cov 100.0 nov 1.009 ser 0.167 m1 0.296 m10 0.426 sum 3.888\n"
     ]
    },
    {
     "name": "stderr",
     "output_type": "stream",
     "text": [
      "\u001b[32m[I 2023-05-06 21:09:41,128]\u001b[0m Trial 443 finished with value: 3.688161007247372 and parameters: {'svd': 0.8000000000000003, 'lfm_cos': 0.0, 'nn': -2.0, 'knn': 0.20000000000000018, 'catboost_doc2vec': 0.20000000000000018, 'quality': 0.20000000000000018, 'volume': -1.6}. Best is trial 434 with value: 3.943551091453188.\u001b[0m\n"
     ]
    },
    {
     "name": "stdout",
     "output_type": "stream",
     "text": [
      "time 2.39 cat_cov 92.0 cov 100.0 nov 0.933 ser 0.133 m1 0.29 m10 0.412 sum 3.688\n"
     ]
    },
    {
     "name": "stderr",
     "output_type": "stream",
     "text": [
      "\u001b[32m[I 2023-05-06 21:09:43,666]\u001b[0m Trial 444 finished with value: 3.815682057993848 and parameters: {'svd': 0.7000000000000002, 'lfm_cos': 0.10000000000000009, 'nn': -1.9, 'knn': -1.5, 'catboost_doc2vec': 0.0, 'quality': 0.20000000000000018, 'volume': -1.5}. Best is trial 434 with value: 3.943551091453188.\u001b[0m\n"
     ]
    },
    {
     "name": "stdout",
     "output_type": "stream",
     "text": [
      "time 2.509 cat_cov 94.0 cov 100.0 nov 1.008 ser 0.211 m1 0.264 m10 0.392 sum 3.816\n"
     ]
    },
    {
     "name": "stderr",
     "output_type": "stream",
     "text": [
      "\u001b[32m[I 2023-05-06 21:09:45,966]\u001b[0m Trial 445 finished with value: 3.6413602336616897 and parameters: {'svd': 0.9000000000000004, 'lfm_cos': -1.0, 'nn': -1.8, 'knn': 0.20000000000000018, 'catboost_doc2vec': 0.10000000000000009, 'quality': 0.30000000000000027, 'volume': -1.7}. Best is trial 434 with value: 3.943551091453188.\u001b[0m\n"
     ]
    },
    {
     "name": "stdout",
     "output_type": "stream",
     "text": [
      "time 2.271 cat_cov 89.0 cov 100.0 nov 0.951 ser 0.115 m1 0.277 m10 0.409 sum 3.641\n"
     ]
    },
    {
     "name": "stderr",
     "output_type": "stream",
     "text": [
      "\u001b[32m[I 2023-05-06 21:09:48,501]\u001b[0m Trial 446 finished with value: 3.8629644363005307 and parameters: {'svd': 1.0, 'lfm_cos': 0.20000000000000018, 'nn': -2.0, 'knn': -0.5999999999999999, 'catboost_doc2vec': 0.0, 'quality': 0.10000000000000009, 'volume': -1.6}. Best is trial 434 with value: 3.943551091453188.\u001b[0m\n"
     ]
    },
    {
     "name": "stdout",
     "output_type": "stream",
     "text": [
      "time 2.506 cat_cov 100.0 cov 100.0 nov 0.969 ser 0.207 m1 0.279 m10 0.408 sum 3.863\n"
     ]
    },
    {
     "name": "stderr",
     "output_type": "stream",
     "text": [
      "\u001b[32m[I 2023-05-06 21:09:50,898]\u001b[0m Trial 447 finished with value: 3.9131802183562234 and parameters: {'svd': 0.9000000000000004, 'lfm_cos': 0.0, 'nn': -1.9, 'knn': 0.10000000000000009, 'catboost_doc2vec': 0.0, 'quality': 0.10000000000000009, 'volume': -1.7}. Best is trial 434 with value: 3.943551091453188.\u001b[0m\n"
     ]
    },
    {
     "name": "stdout",
     "output_type": "stream",
     "text": [
      "time 2.368 cat_cov 97.0 cov 100.0 nov 1.07 ser 0.159 m1 0.29 m10 0.425 sum 3.913\n"
     ]
    },
    {
     "name": "stderr",
     "output_type": "stream",
     "text": [
      "\u001b[32m[I 2023-05-06 21:09:53,391]\u001b[0m Trial 448 finished with value: 3.3981067975472024 and parameters: {'svd': 0.8000000000000003, 'lfm_cos': 0.20000000000000018, 'nn': 1.1, 'knn': 0.10000000000000009, 'catboost_doc2vec': 0.10000000000000009, 'quality': 0.20000000000000018, 'volume': -1.4}. Best is trial 434 with value: 3.943551091453188.\u001b[0m\n"
     ]
    },
    {
     "name": "stdout",
     "output_type": "stream",
     "text": [
      "time 2.463 cat_cov 74.0 cov 100.0 nov 0.71 ser 0.094 m1 0.367 m10 0.487 sum 3.398\n"
     ]
    },
    {
     "name": "stderr",
     "output_type": "stream",
     "text": [
      "\u001b[32m[I 2023-05-06 21:09:55,765]\u001b[0m Trial 449 finished with value: 3.9040201269074815 and parameters: {'svd': 0.9000000000000004, 'lfm_cos': 0.0, 'nn': -1.9, 'knn': 0.20000000000000018, 'catboost_doc2vec': 0.0, 'quality': 0.10000000000000009, 'volume': -1.6}. Best is trial 434 with value: 3.943551091453188.\u001b[0m\n"
     ]
    },
    {
     "name": "stdout",
     "output_type": "stream",
     "text": [
      "time 2.346 cat_cov 97.0 cov 100.0 nov 1.058 ser 0.156 m1 0.293 m10 0.427 sum 3.904\n"
     ]
    },
    {
     "name": "stderr",
     "output_type": "stream",
     "text": [
      "\u001b[32m[I 2023-05-06 21:09:58,096]\u001b[0m Trial 450 finished with value: 3.6167417431662456 and parameters: {'svd': 0.9000000000000004, 'lfm_cos': -0.09999999999999987, 'nn': -1.9, 'knn': 0.30000000000000027, 'catboost_doc2vec': 0.30000000000000027, 'quality': 0.40000000000000036, 'volume': -1.4}. Best is trial 434 with value: 3.943551091453188.\u001b[0m\n"
     ]
    },
    {
     "name": "stdout",
     "output_type": "stream",
     "text": [
      "time 2.301 cat_cov 88.0 cov 100.0 nov 0.904 ser 0.128 m1 0.293 m10 0.412 sum 3.617\n"
     ]
    },
    {
     "name": "stderr",
     "output_type": "stream",
     "text": [
      "\u001b[32m[I 2023-05-06 21:10:00,431]\u001b[0m Trial 451 finished with value: 3.6499624887025486 and parameters: {'svd': 0.8000000000000003, 'lfm_cos': 0.0, 'nn': -1.7, 'knn': 0.20000000000000018, 'catboost_doc2vec': 0.20000000000000018, 'quality': 0.30000000000000027, 'volume': -1.6}. Best is trial 434 with value: 3.943551091453188.\u001b[0m\n"
     ]
    },
    {
     "name": "stdout",
     "output_type": "stream",
     "text": [
      "time 2.306 cat_cov 88.0 cov 100.0 nov 0.925 ser 0.132 m1 0.294 m10 0.419 sum 3.65\n"
     ]
    },
    {
     "name": "stderr",
     "output_type": "stream",
     "text": [
      "\u001b[32m[I 2023-05-06 21:10:02,954]\u001b[0m Trial 452 finished with value: 3.8930309257294726 and parameters: {'svd': 0.7000000000000002, 'lfm_cos': 0.10000000000000009, 'nn': -1.9, 'knn': 0.20000000000000018, 'catboost_doc2vec': 0.0, 'quality': 0.10000000000000009, 'volume': -1.5}. Best is trial 434 with value: 3.943551091453188.\u001b[0m\n"
     ]
    },
    {
     "name": "stdout",
     "output_type": "stream",
     "text": [
      "time 2.494 cat_cov 99.0 cov 100.0 nov 1.002 ser 0.189 m1 0.292 m10 0.42 sum 3.893\n"
     ]
    },
    {
     "name": "stderr",
     "output_type": "stream",
     "text": [
      "\u001b[32m[I 2023-05-06 21:10:05,258]\u001b[0m Trial 453 finished with value: 3.701152066282179 and parameters: {'svd': 1.0, 'lfm_cos': -0.19999999999999996, 'nn': -1.8, 'knn': 0.20000000000000018, 'catboost_doc2vec': 0.10000000000000009, 'quality': 0.20000000000000018, 'volume': -1.5}. Best is trial 434 with value: 3.943551091453188.\u001b[0m\n"
     ]
    },
    {
     "name": "stdout",
     "output_type": "stream",
     "text": [
      "time 2.275 cat_cov 91.0 cov 100.0 nov 0.951 ser 0.125 m1 0.29 m10 0.425 sum 3.701\n"
     ]
    },
    {
     "name": "stderr",
     "output_type": "stream",
     "text": [
      "\u001b[32m[I 2023-05-06 21:10:07,741]\u001b[0m Trial 454 finished with value: 3.873118027097969 and parameters: {'svd': 0.8000000000000003, 'lfm_cos': -0.09999999999999987, 'nn': -1.9, 'knn': 0.10000000000000009, 'catboost_doc2vec': -0.09999999999999987, 'quality': 0.0, 'volume': -1.7}. Best is trial 434 with value: 3.943551091453188.\u001b[0m\n"
     ]
    },
    {
     "name": "stdout",
     "output_type": "stream",
     "text": [
      "time 2.453 cat_cov 99.0 cov 100.0 nov 1.025 ser 0.156 m1 0.285 m10 0.417 sum 3.873\n"
     ]
    },
    {
     "name": "stderr",
     "output_type": "stream",
     "text": [
      "\u001b[32m[I 2023-05-06 21:10:10,060]\u001b[0m Trial 455 finished with value: 3.6285872192904227 and parameters: {'svd': 0.10000000000000009, 'lfm_cos': -0.2999999999999998, 'nn': -2.0, 'knn': 0.30000000000000027, 'catboost_doc2vec': 0.0, 'quality': 0.10000000000000009, 'volume': -1.6}. Best is trial 434 with value: 3.943551091453188.\u001b[0m\n"
     ]
    },
    {
     "name": "stdout",
     "output_type": "stream",
     "text": [
      "time 2.29 cat_cov 93.0 cov 100.0 nov 1.024 ser 0.117 m1 0.214 m10 0.343 sum 3.629\n"
     ]
    },
    {
     "name": "stderr",
     "output_type": "stream",
     "text": [
      "\u001b[32m[I 2023-05-06 21:10:12,515]\u001b[0m Trial 456 finished with value: 3.910917039266872 and parameters: {'svd': 0.9000000000000004, 'lfm_cos': 0.0, 'nn': -1.9, 'knn': 0.10000000000000009, 'catboost_doc2vec': -0.09999999999999987, 'quality': 0.0, 'volume': -1.7}. Best is trial 434 with value: 3.943551091453188.\u001b[0m\n"
     ]
    },
    {
     "name": "stdout",
     "output_type": "stream",
     "text": [
      "time 2.425 cat_cov 100.0 cov 100.0 nov 1.025 ser 0.175 m1 0.289 m10 0.422 sum 3.911\n"
     ]
    },
    {
     "name": "stderr",
     "output_type": "stream",
     "text": [
      "\u001b[32m[I 2023-05-06 21:10:14,986]\u001b[0m Trial 457 finished with value: 3.8919073630564602 and parameters: {'svd': 0.7000000000000002, 'lfm_cos': 0.10000000000000009, 'nn': -1.7, 'knn': 0.20000000000000018, 'catboost_doc2vec': -0.09999999999999987, 'quality': 0.0, 'volume': -1.6}. Best is trial 434 with value: 3.943551091453188.\u001b[0m\n"
     ]
    },
    {
     "name": "stdout",
     "output_type": "stream",
     "text": [
      "time 2.442 cat_cov 100.0 cov 100.0 nov 0.993 ser 0.188 m1 0.292 m10 0.419 sum 3.892\n"
     ]
    },
    {
     "name": "stderr",
     "output_type": "stream",
     "text": [
      "\u001b[32m[I 2023-05-06 21:10:17,341]\u001b[0m Trial 458 finished with value: 3.6710774906615207 and parameters: {'svd': 0.9000000000000004, 'lfm_cos': 0.0, 'nn': -1.9, 'knn': 0.10000000000000009, 'catboost_doc2vec': 0.10000000000000009, 'quality': 0.20000000000000018, 'volume': -1.1}. Best is trial 434 with value: 3.943551091453188.\u001b[0m\n"
     ]
    },
    {
     "name": "stdout",
     "output_type": "stream",
     "text": [
      "time 2.326 cat_cov 88.0 cov 100.0 nov 0.941 ser 0.135 m1 0.292 m10 0.423 sum 3.671\n"
     ]
    },
    {
     "name": "stderr",
     "output_type": "stream",
     "text": [
      "\u001b[32m[I 2023-05-06 21:10:19,805]\u001b[0m Trial 459 finished with value: 3.8623285309104807 and parameters: {'svd': 0.8000000000000003, 'lfm_cos': -0.09999999999999987, 'nn': -2.0, 'knn': 0.10000000000000009, 'catboost_doc2vec': -0.09999999999999987, 'quality': 0.0, 'volume': -1.2999999999999998}. Best is trial 434 with value: 3.943551091453188.\u001b[0m\n"
     ]
    },
    {
     "name": "stdout",
     "output_type": "stream",
     "text": [
      "time 2.434 cat_cov 99.0 cov 100.0 nov 1.014 ser 0.155 m1 0.285 m10 0.417 sum 3.862\n"
     ]
    },
    {
     "name": "stderr",
     "output_type": "stream",
     "text": [
      "\u001b[32m[I 2023-05-06 21:10:22,326]\u001b[0m Trial 460 finished with value: 3.867143566297325 and parameters: {'svd': 0.9000000000000004, 'lfm_cos': 0.20000000000000018, 'nn': -1.8, 'knn': 0.10000000000000009, 'catboost_doc2vec': 0.0, 'quality': 0.10000000000000009, 'volume': -1.7}. Best is trial 434 with value: 3.943551091453188.\u001b[0m\n"
     ]
    },
    {
     "name": "stdout",
     "output_type": "stream",
     "text": [
      "time 2.492 cat_cov 99.0 cov 100.0 nov 0.962 ser 0.196 m1 0.296 m10 0.423 sum 3.867\n"
     ]
    },
    {
     "name": "stderr",
     "output_type": "stream",
     "text": [
      "\u001b[32m[I 2023-05-06 21:10:24,681]\u001b[0m Trial 461 finished with value: 3.738217432338256 and parameters: {'svd': 1.0, 'lfm_cos': 0.0, 'nn': -1.9, 'knn': 0.30000000000000027, 'catboost_doc2vec': 0.10000000000000009, 'quality': -0.09999999999999987, 'volume': -1.6}. Best is trial 434 with value: 3.943551091453188.\u001b[0m\n"
     ]
    },
    {
     "name": "stdout",
     "output_type": "stream",
     "text": [
      "time 2.326 cat_cov 90.0 cov 100.0 nov 0.977 ser 0.136 m1 0.295 m10 0.43 sum 3.738\n"
     ]
    },
    {
     "name": "stderr",
     "output_type": "stream",
     "text": [
      "\u001b[32m[I 2023-05-06 21:10:27,062]\u001b[0m Trial 462 finished with value: 3.7312767365743733 and parameters: {'svd': 0.9000000000000004, 'lfm_cos': 0.10000000000000009, 'nn': -2.0, 'knn': 0.0, 'catboost_doc2vec': 0.20000000000000018, 'quality': 0.10000000000000009, 'volume': -1.5}. Best is trial 434 with value: 3.943551091453188.\u001b[0m\n"
     ]
    },
    {
     "name": "stdout",
     "output_type": "stream",
     "text": [
      "time 2.352 cat_cov 94.0 cov 100.0 nov 0.942 ser 0.149 m1 0.289 m10 0.411 sum 3.731\n"
     ]
    },
    {
     "name": "stderr",
     "output_type": "stream",
     "text": [
      "\u001b[32m[I 2023-05-06 21:10:29,376]\u001b[0m Trial 463 finished with value: 3.585775549316234 and parameters: {'svd': 0.7000000000000002, 'lfm_cos': -0.19999999999999996, 'nn': -1.8, 'knn': 0.10000000000000009, 'catboost_doc2vec': 0.0, 'quality': 0.0, 'volume': 0.8000000000000003}. Best is trial 434 with value: 3.943551091453188.\u001b[0m\n"
     ]
    },
    {
     "name": "stdout",
     "output_type": "stream",
     "text": [
      "time 2.283 cat_cov 89.0 cov 100.0 nov 0.864 ser 0.127 m1 0.284 m10 0.421 sum 3.586\n"
     ]
    },
    {
     "name": "stderr",
     "output_type": "stream",
     "text": [
      "\u001b[32m[I 2023-05-06 21:10:31,781]\u001b[0m Trial 464 finished with value: 3.8307390996407484 and parameters: {'svd': 1.9000000000000004, 'lfm_cos': -0.09999999999999987, 'nn': -2.0, 'knn': -1.9, 'catboost_doc2vec': -0.09999999999999987, 'quality': 0.20000000000000018, 'volume': -1.7}. Best is trial 434 with value: 3.943551091453188.\u001b[0m\n"
     ]
    },
    {
     "name": "stdout",
     "output_type": "stream",
     "text": [
      "time 2.376 cat_cov 99.0 cov 100.0 nov 0.995 ser 0.165 m1 0.274 m10 0.408 sum 3.831\n"
     ]
    },
    {
     "name": "stderr",
     "output_type": "stream",
     "text": [
      "\u001b[32m[I 2023-05-06 21:10:34,283]\u001b[0m Trial 465 finished with value: 3.9033543796916677 and parameters: {'svd': 0.9000000000000004, 'lfm_cos': 0.0, 'nn': -1.9, 'knn': 0.20000000000000018, 'catboost_doc2vec': -0.09999999999999987, 'quality': -0.09999999999999987, 'volume': -1.6}. Best is trial 434 with value: 3.943551091453188.\u001b[0m\n"
     ]
    },
    {
     "name": "stdout",
     "output_type": "stream",
     "text": [
      "time 2.472 cat_cov 100.0 cov 100.0 nov 1.016 ser 0.173 m1 0.291 m10 0.424 sum 3.903\n"
     ]
    },
    {
     "name": "stderr",
     "output_type": "stream",
     "text": [
      "\u001b[32m[I 2023-05-06 21:10:36,774]\u001b[0m Trial 466 finished with value: 3.8883231353525796 and parameters: {'svd': 1.0, 'lfm_cos': 0.10000000000000009, 'nn': -2.0, 'knn': 0.0, 'catboost_doc2vec': 0.0, 'quality': 0.30000000000000027, 'volume': -1.7}. Best is trial 434 with value: 3.943551091453188.\u001b[0m\n"
     ]
    },
    {
     "name": "stdout",
     "output_type": "stream",
     "text": [
      "time 2.461 cat_cov 100.0 cov 100.0 nov 0.982 ser 0.19 m1 0.292 m10 0.424 sum 3.888\n"
     ]
    },
    {
     "name": "stderr",
     "output_type": "stream",
     "text": [
      "\u001b[32m[I 2023-05-06 21:10:39,312]\u001b[0m Trial 467 finished with value: 3.847862072978241 and parameters: {'svd': 0.8000000000000003, 'lfm_cos': 0.20000000000000018, 'nn': -0.8999999999999999, 'knn': -0.5, 'catboost_doc2vec': 0.0, 'quality': -0.19999999999999996, 'volume': -1.7}. Best is trial 434 with value: 3.943551091453188.\u001b[0m\n"
     ]
    },
    {
     "name": "stdout",
     "output_type": "stream",
     "text": [
      "time 2.508 cat_cov 99.0 cov 100.0 nov 0.96 ser 0.205 m1 0.284 m10 0.409 sum 3.848\n"
     ]
    },
    {
     "name": "stderr",
     "output_type": "stream",
     "text": [
      "\u001b[32m[I 2023-05-06 21:10:41,624]\u001b[0m Trial 468 finished with value: 3.7078079646652315 and parameters: {'svd': 1.0, 'lfm_cos': -0.09999999999999987, 'nn': -1.8, 'knn': 0.0, 'catboost_doc2vec': 0.10000000000000009, 'quality': 0.0, 'volume': -1.7}. Best is trial 434 with value: 3.943551091453188.\u001b[0m\n"
     ]
    },
    {
     "name": "stdout",
     "output_type": "stream",
     "text": [
      "time 2.283 cat_cov 91.0 cov 100.0 nov 0.956 ser 0.13 m1 0.29 m10 0.422 sum 3.708\n"
     ]
    },
    {
     "name": "stderr",
     "output_type": "stream",
     "text": [
      "\u001b[32m[I 2023-05-06 21:10:43,926]\u001b[0m Trial 469 finished with value: 3.660334816579601 and parameters: {'svd': 0.9000000000000004, 'lfm_cos': 0.0, 'nn': -1.9, 'knn': 0.20000000000000018, 'catboost_doc2vec': 0.20000000000000018, 'quality': -0.09999999999999987, 'volume': -1.6}. Best is trial 434 with value: 3.943551091453188.\u001b[0m\n"
     ]
    },
    {
     "name": "stdout",
     "output_type": "stream",
     "text": [
      "time 2.272 cat_cov 88.0 cov 100.0 nov 0.938 ser 0.135 m1 0.291 m10 0.416 sum 3.66\n"
     ]
    },
    {
     "name": "stderr",
     "output_type": "stream",
     "text": [
      "\u001b[32m[I 2023-05-06 21:10:46,507]\u001b[0m Trial 470 finished with value: 3.8992378422035423 and parameters: {'svd': 0.7000000000000002, 'lfm_cos': 0.10000000000000009, 'nn': -2.0, 'knn': 0.10000000000000009, 'catboost_doc2vec': -0.09999999999999987, 'quality': 0.10000000000000009, 'volume': -1.8}. Best is trial 434 with value: 3.943551091453188.\u001b[0m\n"
     ]
    },
    {
     "name": "stdout",
     "output_type": "stream",
     "text": [
      "time 2.552 cat_cov 100.0 cov 100.0 nov 1.005 ser 0.194 m1 0.286 m10 0.414 sum 3.899\n"
     ]
    },
    {
     "name": "stderr",
     "output_type": "stream",
     "text": [
      "\u001b[32m[I 2023-05-06 21:10:48,917]\u001b[0m Trial 471 finished with value: 3.834526943677221 and parameters: {'svd': 0.8000000000000003, 'lfm_cos': -0.19999999999999996, 'nn': -1.8, 'knn': 0.0, 'catboost_doc2vec': -0.19999999999999996, 'quality': -0.09999999999999987, 'volume': -1.4}. Best is trial 434 with value: 3.943551091453188.\u001b[0m\n"
     ]
    },
    {
     "name": "stdout",
     "output_type": "stream",
     "text": [
      "time 2.382 cat_cov 99.0 cov 100.0 nov 0.999 ser 0.154 m1 0.279 m10 0.412 sum 3.835\n"
     ]
    },
    {
     "name": "stderr",
     "output_type": "stream",
     "text": [
      "\u001b[32m[I 2023-05-06 21:10:51,236]\u001b[0m Trial 472 finished with value: 3.7850400886767774 and parameters: {'svd': 1.0, 'lfm_cos': -0.09999999999999987, 'nn': -1.9, 'knn': 0.30000000000000027, 'catboost_doc2vec': 0.10000000000000009, 'quality': -2.0, 'volume': -1.8}. Best is trial 434 with value: 3.943551091453188.\u001b[0m\n"
     ]
    },
    {
     "name": "stdout",
     "output_type": "stream",
     "text": [
      "time 2.289 cat_cov 95.0 cov 100.0 nov 1.003 ser 0.141 m1 0.28 m10 0.412 sum 3.785\n"
     ]
    },
    {
     "name": "stderr",
     "output_type": "stream",
     "text": [
      "\u001b[32m[I 2023-05-06 21:10:53,685]\u001b[0m Trial 473 finished with value: 3.8879501298591994 and parameters: {'svd': 1.1, 'lfm_cos': 0.0, 'nn': -2.0, 'knn': -0.3999999999999999, 'catboost_doc2vec': -0.09999999999999987, 'quality': 0.0, 'volume': -1.8}. Best is trial 434 with value: 3.943551091453188.\u001b[0m\n"
     ]
    },
    {
     "name": "stdout",
     "output_type": "stream",
     "text": [
      "time 2.419 cat_cov 99.0 cov 100.0 nov 1.012 ser 0.189 m1 0.281 m10 0.416 sum 3.888\n"
     ]
    },
    {
     "name": "stderr",
     "output_type": "stream",
     "text": [
      "\u001b[32m[I 2023-05-06 21:10:56,250]\u001b[0m Trial 474 finished with value: 3.8704906679042264 and parameters: {'svd': 1.0, 'lfm_cos': 0.10000000000000009, 'nn': -1.7, 'knn': 0.10000000000000009, 'catboost_doc2vec': -0.19999999999999996, 'quality': -0.19999999999999996, 'volume': -1.8}. Best is trial 434 with value: 3.943551091453188.\u001b[0m\n"
     ]
    },
    {
     "name": "stdout",
     "output_type": "stream",
     "text": [
      "time 2.535 cat_cov 99.0 cov 100.0 nov 0.977 ser 0.186 m1 0.293 m10 0.424 sum 3.87\n"
     ]
    },
    {
     "name": "stderr",
     "output_type": "stream",
     "text": [
      "\u001b[32m[I 2023-05-06 21:10:58,618]\u001b[0m Trial 475 finished with value: 3.79751313820139 and parameters: {'svd': 0.8000000000000003, 'lfm_cos': -0.09999999999999987, 'nn': -1.9, 'knn': 0.0, 'catboost_doc2vec': 0.0, 'quality': 0.20000000000000018, 'volume': -1.5}. Best is trial 434 with value: 3.943551091453188.\u001b[0m\n"
     ]
    },
    {
     "name": "stdout",
     "output_type": "stream",
     "text": [
      "time 2.338 cat_cov 92.0 cov 100.0 nov 1.036 ser 0.135 m1 0.287 m10 0.42 sum 3.798\n"
     ]
    },
    {
     "name": "stderr",
     "output_type": "stream",
     "text": [
      "\u001b[32m[I 2023-05-06 21:11:01,144]\u001b[0m Trial 476 finished with value: 3.8508259253210495 and parameters: {'svd': 0.9000000000000004, 'lfm_cos': 0.20000000000000018, 'nn': -2.0, 'knn': 0.0, 'catboost_doc2vec': -0.09999999999999987, 'quality': -0.09999999999999987, 'volume': -1.6}. Best is trial 434 with value: 3.943551091453188.\u001b[0m\n"
     ]
    },
    {
     "name": "stdout",
     "output_type": "stream",
     "text": [
      "time 2.495 cat_cov 98.0 cov 100.0 nov 0.962 ser 0.201 m1 0.291 m10 0.417 sum 3.851\n"
     ]
    },
    {
     "name": "stderr",
     "output_type": "stream",
     "text": [
      "\u001b[32m[I 2023-05-06 21:11:03,478]\u001b[0m Trial 477 finished with value: 3.1348652746670904 and parameters: {'svd': 1.0, 'lfm_cos': 0.0, 'nn': -1.9, 'knn': 0.20000000000000018, 'catboost_doc2vec': 1.2000000000000002, 'quality': 0.10000000000000009, 'volume': -1.7}. Best is trial 434 with value: 3.943551091453188.\u001b[0m\n"
     ]
    },
    {
     "name": "stdout",
     "output_type": "stream",
     "text": [
      "time 2.304 cat_cov 81.0 cov 100.0 nov 0.854 ser 0.123 m1 0.1 m10 0.247 sum 3.135\n"
     ]
    },
    {
     "name": "stderr",
     "output_type": "stream",
     "text": [
      "\u001b[32m[I 2023-05-06 21:11:06,098]\u001b[0m Trial 478 finished with value: 3.813620866369907 and parameters: {'svd': 1.1, 'lfm_cos': 0.10000000000000009, 'nn': -2.0, 'knn': -0.3999999999999999, 'catboost_doc2vec': -0.19999999999999996, 'quality': 0.0, 'volume': 1.5}. Best is trial 434 with value: 3.943551091453188.\u001b[0m\n"
     ]
    },
    {
     "name": "stdout",
     "output_type": "stream",
     "text": [
      "time 2.59 cat_cov 99.0 cov 100.0 nov 0.921 ser 0.198 m1 0.286 m10 0.419 sum 3.814\n"
     ]
    },
    {
     "name": "stderr",
     "output_type": "stream",
     "text": [
      "\u001b[32m[I 2023-05-06 21:11:08,434]\u001b[0m Trial 479 finished with value: 3.66256441291283 and parameters: {'svd': 0.7000000000000002, 'lfm_cos': -0.2999999999999998, 'nn': -1.8, 'knn': -0.8999999999999999, 'catboost_doc2vec': 0.0, 'quality': -0.09999999999999987, 'volume': -1.8}. Best is trial 434 with value: 3.943551091453188.\u001b[0m\n"
     ]
    },
    {
     "name": "stdout",
     "output_type": "stream",
     "text": [
      "time 2.305 cat_cov 91.0 cov 100.0 nov 0.989 ser 0.133 m1 0.255 m10 0.377 sum 3.663\n"
     ]
    },
    {
     "name": "stderr",
     "output_type": "stream",
     "text": [
      "\u001b[32m[I 2023-05-06 21:11:10,772]\u001b[0m Trial 480 finished with value: 3.604994934178681 and parameters: {'svd': 1.2000000000000002, 'lfm_cos': -0.09999999999999987, 'nn': -1.7, 'knn': 0.10000000000000009, 'catboost_doc2vec': 0.30000000000000027, 'quality': 0.10000000000000009, 'volume': -1.7}. Best is trial 434 with value: 3.943551091453188.\u001b[0m\n"
     ]
    },
    {
     "name": "stdout",
     "output_type": "stream",
     "text": [
      "time 2.308 cat_cov 86.0 cov 100.0 nov 0.898 ser 0.13 m1 0.295 m10 0.423 sum 3.605\n"
     ]
    },
    {
     "name": "stderr",
     "output_type": "stream",
     "text": [
      "\u001b[32m[I 2023-05-06 21:11:13,091]\u001b[0m Trial 481 finished with value: 3.705009991044757 and parameters: {'svd': 0.9000000000000004, 'lfm_cos': 0.0, 'nn': -1.9, 'knn': 0.30000000000000027, 'catboost_doc2vec': 0.10000000000000009, 'quality': 0.20000000000000018, 'volume': -1.8}. Best is trial 434 with value: 3.943551091453188.\u001b[0m\n"
     ]
    },
    {
     "name": "stdout",
     "output_type": "stream",
     "text": [
      "time 2.29 cat_cov 87.0 cov 100.0 nov 0.977 ser 0.134 m1 0.295 m10 0.429 sum 3.705\n"
     ]
    },
    {
     "name": "stderr",
     "output_type": "stream",
     "text": [
      "\u001b[32m[I 2023-05-06 21:11:15,538]\u001b[0m Trial 482 finished with value: 3.348557384879795 and parameters: {'svd': 1.1, 'lfm_cos': 0.20000000000000018, 'nn': 1.5, 'knn': 0.0, 'catboost_doc2vec': -0.19999999999999996, 'quality': -0.19999999999999996, 'volume': -1.9}. Best is trial 434 with value: 3.943551091453188.\u001b[0m\n"
     ]
    },
    {
     "name": "stdout",
     "output_type": "stream",
     "text": [
      "time 2.416 cat_cov 69.0 cov 100.0 nov 0.719 ser 0.095 m1 0.361 m10 0.483 sum 3.349\n"
     ]
    },
    {
     "name": "stderr",
     "output_type": "stream",
     "text": [
      "\u001b[32m[I 2023-05-06 21:11:17,900]\u001b[0m Trial 483 finished with value: 3.6985770598076115 and parameters: {'svd': 1.0, 'lfm_cos': -0.19999999999999996, 'nn': -1.9, 'knn': 0.10000000000000009, 'catboost_doc2vec': -0.09999999999999987, 'quality': 1.5, 'volume': -1.9}. Best is trial 434 with value: 3.943551091453188.\u001b[0m\n"
     ]
    },
    {
     "name": "stdout",
     "output_type": "stream",
     "text": [
      "time 2.332 cat_cov 90.0 cov 100.0 nov 0.951 ser 0.132 m1 0.291 m10 0.425 sum 3.699\n"
     ]
    },
    {
     "name": "stderr",
     "output_type": "stream",
     "text": [
      "\u001b[32m[I 2023-05-06 21:11:20,329]\u001b[0m Trial 484 finished with value: 3.9398896112324375 and parameters: {'svd': 0.8000000000000003, 'lfm_cos': 0.0, 'nn': -2.0, 'knn': -0.2999999999999998, 'catboost_doc2vec': 0.0, 'quality': 0.0, 'volume': -1.8}. Best is trial 434 with value: 3.943551091453188.\u001b[0m\n"
     ]
    },
    {
     "name": "stdout",
     "output_type": "stream",
     "text": [
      "time 2.4 cat_cov 99.0 cov 100.0 nov 1.078 ser 0.182 m1 0.278 m10 0.412 sum 3.94\n"
     ]
    },
    {
     "name": "stderr",
     "output_type": "stream",
     "text": [
      "\u001b[32m[I 2023-05-06 21:11:22,850]\u001b[0m Trial 485 finished with value: 3.8971631712816195 and parameters: {'svd': 0.8000000000000003, 'lfm_cos': 0.10000000000000009, 'nn': -2.0, 'knn': -0.2999999999999998, 'catboost_doc2vec': 0.0, 'quality': 0.0, 'volume': -1.8}. Best is trial 434 with value: 3.943551091453188.\u001b[0m\n"
     ]
    },
    {
     "name": "stdout",
     "output_type": "stream",
     "text": [
      "time 2.49 cat_cov 100.0 cov 100.0 nov 1.007 ser 0.201 m1 0.279 m10 0.41 sum 3.897\n"
     ]
    },
    {
     "name": "stderr",
     "output_type": "stream",
     "text": [
      "\u001b[32m[I 2023-05-06 21:11:25,268]\u001b[0m Trial 486 finished with value: 3.826090704845444 and parameters: {'svd': 0.7000000000000002, 'lfm_cos': -0.09999999999999987, 'nn': -2.0, 'knn': -0.5, 'catboost_doc2vec': -0.09999999999999987, 'quality': -0.09999999999999987, 'volume': -1.9}. Best is trial 434 with value: 3.943551091453188.\u001b[0m\n"
     ]
    },
    {
     "name": "stdout",
     "output_type": "stream",
     "text": [
      "time 2.388 cat_cov 96.0 cov 100.0 nov 1.036 ser 0.17 m1 0.265 m10 0.396 sum 3.826\n"
     ]
    },
    {
     "name": "stderr",
     "output_type": "stream",
     "text": [
      "\u001b[32m[I 2023-05-06 21:11:27,845]\u001b[0m Trial 487 finished with value: 3.8594926066866044 and parameters: {'svd': 0.8000000000000003, 'lfm_cos': 0.0, 'nn': -2.0, 'knn': -0.3999999999999999, 'catboost_doc2vec': -0.2999999999999998, 'quality': -0.19999999999999996, 'volume': -1.8}. Best is trial 434 with value: 3.943551091453188.\u001b[0m\n"
     ]
    },
    {
     "name": "stdout",
     "output_type": "stream",
     "text": [
      "time 2.547 cat_cov 98.0 cov 100.0 nov 1.002 ser 0.201 m1 0.272 m10 0.405 sum 3.859\n"
     ]
    },
    {
     "name": "stderr",
     "output_type": "stream",
     "text": [
      "\u001b[32m[I 2023-05-06 21:11:30,194]\u001b[0m Trial 488 finished with value: 3.755998075846991 and parameters: {'svd': 1.2000000000000002, 'lfm_cos': 0.10000000000000009, 'nn': -2.0, 'knn': -0.2999999999999998, 'catboost_doc2vec': 0.20000000000000018, 'quality': -0.09999999999999987, 'volume': -1.9}. Best is trial 434 with value: 3.943551091453188.\u001b[0m\n"
     ]
    },
    {
     "name": "stdout",
     "output_type": "stream",
     "text": [
      "time 2.319 cat_cov 95.0 cov 100.0 nov 0.956 ser 0.152 m1 0.285 m10 0.413 sum 3.756\n"
     ]
    },
    {
     "name": "stderr",
     "output_type": "stream",
     "text": [
      "\u001b[32m[I 2023-05-06 21:11:32,651]\u001b[0m Trial 489 finished with value: 3.7783741841229457 and parameters: {'svd': 0.6000000000000001, 'lfm_cos': -0.09999999999999987, 'nn': -1.8, 'knn': -0.5999999999999999, 'catboost_doc2vec': -0.19999999999999996, 'quality': 0.0, 'volume': 0.5}. Best is trial 434 with value: 3.943551091453188.\u001b[0m\n"
     ]
    },
    {
     "name": "stdout",
     "output_type": "stream",
     "text": [
      "time 2.427 cat_cov 99.0 cov 100.0 nov 0.942 ser 0.181 m1 0.267 m10 0.399 sum 3.778\n"
     ]
    },
    {
     "name": "stderr",
     "output_type": "stream",
     "text": [
      "\u001b[32m[I 2023-05-06 21:11:35,106]\u001b[0m Trial 490 finished with value: 3.9096639308773673 and parameters: {'svd': 1.1, 'lfm_cos': 0.0, 'nn': -1.9, 'knn': -0.19999999999999996, 'catboost_doc2vec': -0.09999999999999987, 'quality': -0.19999999999999996, 'volume': -1.8}. Best is trial 434 with value: 3.943551091453188.\u001b[0m\n"
     ]
    },
    {
     "name": "stdout",
     "output_type": "stream",
     "text": [
      "time 2.425 cat_cov 100.0 cov 100.0 nov 1.017 ser 0.185 m1 0.286 m10 0.421 sum 3.91\n"
     ]
    },
    {
     "name": "stderr",
     "output_type": "stream",
     "text": [
      "\u001b[32m[I 2023-05-06 21:11:37,808]\u001b[0m Trial 491 finished with value: 3.7644893752367525 and parameters: {'svd': 1.2000000000000002, 'lfm_cos': 1.9000000000000004, 'nn': -1.8, 'knn': -0.19999999999999996, 'catboost_doc2vec': 0.10000000000000009, 'quality': -0.19999999999999996, 'volume': -1.7}. Best is trial 434 with value: 3.943551091453188.\u001b[0m\n"
     ]
    },
    {
     "name": "stdout",
     "output_type": "stream",
     "text": [
      "time 2.672 cat_cov 100.0 cov 100.0 nov 0.914 ser 0.227 m1 0.247 m10 0.377 sum 3.764\n"
     ]
    },
    {
     "name": "stderr",
     "output_type": "stream",
     "text": [
      "\u001b[32m[I 2023-05-06 21:11:40,223]\u001b[0m Trial 492 finished with value: 3.5680188691447756 and parameters: {'svd': 1.3000000000000003, 'lfm_cos': 0.0, 'nn': 0.30000000000000027, 'knn': -0.2999999999999998, 'catboost_doc2vec': -0.09999999999999987, 'quality': -0.19999999999999996, 'volume': -1.7}. Best is trial 434 with value: 3.943551091453188.\u001b[0m\n"
     ]
    },
    {
     "name": "stdout",
     "output_type": "stream",
     "text": [
      "time 2.384 cat_cov 81.0 cov 100.0 nov 0.815 ser 0.116 m1 0.354 m10 0.474 sum 3.568\n"
     ]
    },
    {
     "name": "stderr",
     "output_type": "stream",
     "text": [
      "\u001b[32m[I 2023-05-06 21:11:42,641]\u001b[0m Trial 493 finished with value: 3.880663748318007 and parameters: {'svd': 1.1, 'lfm_cos': 0.10000000000000009, 'nn': -1.8, 'knn': -0.19999999999999996, 'catboost_doc2vec': 0.10000000000000009, 'quality': 0.0, 'volume': -1.8}. Best is trial 434 with value: 3.943551091453188.\u001b[0m\n"
     ]
    },
    {
     "name": "stdout",
     "output_type": "stream",
     "text": [
      "time 2.388 cat_cov 99.0 cov 100.0 nov 1.004 ser 0.176 m1 0.29 m10 0.421 sum 3.881\n"
     ]
    },
    {
     "name": "stderr",
     "output_type": "stream",
     "text": [
      "\u001b[32m[I 2023-05-06 21:11:44,957]\u001b[0m Trial 494 finished with value: 3.8470009777246075 and parameters: {'svd': 1.1, 'lfm_cos': -0.09999999999999987, 'nn': -1.9, 'knn': -0.09999999999999987, 'catboost_doc2vec': 0.0, 'quality': -0.2999999999999998, 'volume': -1.0}. Best is trial 434 with value: 3.943551091453188.\u001b[0m\n"
     ]
    },
    {
     "name": "stdout",
     "output_type": "stream",
     "text": [
      "time 2.285 cat_cov 97.0 cov 100.0 nov 1.025 ser 0.139 m1 0.287 m10 0.425 sum 3.847\n"
     ]
    },
    {
     "name": "stderr",
     "output_type": "stream",
     "text": [
      "\u001b[32m[I 2023-05-06 21:11:47,358]\u001b[0m Trial 495 finished with value: 3.699983779988327 and parameters: {'svd': 1.2000000000000002, 'lfm_cos': -0.19999999999999996, 'nn': -1.6, 'knn': -0.09999999999999987, 'catboost_doc2vec': -0.19999999999999996, 'quality': 0.10000000000000009, 'volume': 1.8000000000000003}. Best is trial 434 with value: 3.943551091453188.\u001b[0m\n"
     ]
    },
    {
     "name": "stdout",
     "output_type": "stream",
     "text": [
      "time 2.371 cat_cov 96.0 cov 100.0 nov 0.875 ser 0.145 m1 0.291 m10 0.429 sum 3.7\n"
     ]
    },
    {
     "name": "stderr",
     "output_type": "stream",
     "text": [
      "\u001b[32m[I 2023-05-06 21:11:49,923]\u001b[0m Trial 496 finished with value: 3.843063583567747 and parameters: {'svd': 0.8000000000000003, 'lfm_cos': 0.20000000000000018, 'nn': -1.9, 'knn': -0.3999999999999999, 'catboost_doc2vec': -0.2999999999999998, 'quality': -0.09999999999999987, 'volume': -1.8}. Best is trial 434 with value: 3.943551091453188.\u001b[0m\n"
     ]
    },
    {
     "name": "stdout",
     "output_type": "stream",
     "text": [
      "time 2.535 cat_cov 99.0 cov 100.0 nov 0.967 ser 0.209 m1 0.276 m10 0.401 sum 3.843\n"
     ]
    },
    {
     "name": "stderr",
     "output_type": "stream",
     "text": [
      "\u001b[32m[I 2023-05-06 21:11:52,403]\u001b[0m Trial 497 finished with value: 3.2960799198533386 and parameters: {'svd': 1.0, 'lfm_cos': 0.0, 'nn': 2.0, 'knn': -0.2999999999999998, 'catboost_doc2vec': 0.0, 'quality': 0.0, 'volume': -1.7}. Best is trial 434 with value: 3.943551091453188.\u001b[0m\n"
     ]
    },
    {
     "name": "stdout",
     "output_type": "stream",
     "text": [
      "time 2.45 cat_cov 67.0 cov 100.0 nov 0.705 ser 0.091 m1 0.354 m10 0.476 sum 3.296\n"
     ]
    },
    {
     "name": "stderr",
     "output_type": "stream",
     "text": [
      "\u001b[32m[I 2023-05-06 21:11:54,891]\u001b[0m Trial 498 finished with value: 3.8595456201620957 and parameters: {'svd': 0.9000000000000004, 'lfm_cos': 0.10000000000000009, 'nn': -1.9, 'knn': -0.19999999999999996, 'catboost_doc2vec': -0.09999999999999987, 'quality': -0.19999999999999996, 'volume': -1.9}. Best is trial 434 with value: 3.943551091453188.\u001b[0m\n"
     ]
    },
    {
     "name": "stdout",
     "output_type": "stream",
     "text": [
      "time 2.457 cat_cov 98.0 cov 100.0 nov 0.982 ser 0.199 m1 0.284 m10 0.414 sum 3.86\n"
     ]
    },
    {
     "name": "stderr",
     "output_type": "stream",
     "text": [
      "\u001b[32m[I 2023-05-06 21:11:57,195]\u001b[0m Trial 499 finished with value: 3.6393670639331925 and parameters: {'svd': 1.2000000000000002, 'lfm_cos': -0.09999999999999987, 'nn': -1.7, 'knn': 0.0, 'catboost_doc2vec': 0.20000000000000018, 'quality': 0.30000000000000027, 'volume': -1.8}. Best is trial 434 with value: 3.943551091453188.\u001b[0m\n"
     ]
    },
    {
     "name": "stdout",
     "output_type": "stream",
     "text": [
      "time 2.274 cat_cov 88.0 cov 100.0 nov 0.91 ser 0.129 m1 0.294 m10 0.427 sum 3.639\n"
     ]
    }
   ],
   "source": [
    "def objective(trial):    \n",
    "    \n",
    "    params = {'svd': trial.suggest_float(name='svd', low=-2, high=2, step=0.1), \n",
    "              'lfm_cos': trial.suggest_float(name='lfm_cos', low=-2, high=2, step=0.1), \n",
    "              'nn': trial.suggest_float(name='nn', low=-2, high=2, step=0.1),\n",
    "              'knn': trial.suggest_float(name='knn', low=-2, high=2, step=0.1), \n",
    "              'catboost_doc2vec': trial.suggest_float(name='catboost_doc2vec', low=-2, high=2, step=0.1),\n",
    "              'quality': trial.suggest_float(name='quality', low=-2, high=2, step=0.1),\n",
    "              'volume': trial.suggest_float(name='volume', low=-2, high=2, step=0.1)\n",
    "             }\n",
    "    \n",
    "    return main_metric(params)\n",
    "    \n",
    "\n",
    "\n",
    "study = optuna.create_study(direction=\"maximize\")\n",
    "study.optimize(objective, n_trials=500)\n"
   ]
  },
  {
   "cell_type": "code",
   "execution_count": 20,
   "id": "ebeaf96b",
   "metadata": {},
   "outputs": [
    {
     "name": "stdout",
     "output_type": "stream",
     "text": [
      "Value: 3.943551091453188\n",
      "Parameters: {'svd': 1.1, 'lfm_cos': 0.0, 'nn': -1.9, 'knn': 0.0, 'catboost_doc2vec': 0.0, 'quality': -0.09999999999999987, 'volume': -1.6}\n"
     ]
    }
   ],
   "source": [
    "print(\"Value:\", study.best_value)\n",
    "print(\"Parameters:\", study.best_params)"
   ]
  }
 ],
 "metadata": {
  "colab": {
   "provenance": []
  },
  "kernelspec": {
   "display_name": "Python 3 (ipykernel)",
   "language": "python",
   "name": "python3"
  },
  "language_info": {
   "codemirror_mode": {
    "name": "ipython",
    "version": 3
   },
   "file_extension": ".py",
   "mimetype": "text/x-python",
   "name": "python",
   "nbconvert_exporter": "python",
   "pygments_lexer": "ipython3",
   "version": "3.10.4"
  }
 },
 "nbformat": 4,
 "nbformat_minor": 5
}
