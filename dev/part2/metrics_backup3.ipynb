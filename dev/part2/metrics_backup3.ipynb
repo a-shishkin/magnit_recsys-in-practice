{
 "cells": [
  {
   "cell_type": "code",
   "execution_count": 1,
   "id": "427278c8-3010-4e10-9271-dc3b7723e0e7",
   "metadata": {
    "id": "427278c8-3010-4e10-9271-dc3b7723e0e7"
   },
   "outputs": [
    {
     "name": "stderr",
     "output_type": "stream",
     "text": [
      "C:\\ProgramData\\Anaconda3\\envs\\torchvision2\\lib\\site-packages\\lightfm\\_lightfm_fast.py:9: UserWarning: LightFM was compiled without OpenMP support. Only a single thread will be used.\n",
      "  warnings.warn(\n"
     ]
    }
   ],
   "source": [
    "import numpy as np\n",
    "import pandas as pd\n",
    "from collections import defaultdict\n",
    "from surprise import Dataset, Reader, accuracy\n",
    "from surprise.model_selection import GridSearchCV\n",
    "from sklearn.model_selection import train_test_split\n",
    "from surprise.model_selection import KFold\n",
    "from tqdm.notebook import tqdm\n",
    "from sklearn.metrics import ndcg_score\n",
    "from surprise import dump\n",
    "import seaborn as sns\n",
    "import matplotlib.pyplot as plt\n",
    "from typing import List\n",
    "from surprise import SVD\n",
    "import random\n",
    "import pickle\n",
    "from copy import deepcopy\n",
    "\n",
    "import typing as tp\n",
    "from sklearn.preprocessing import normalize\n",
    "from lightfm import LightFM\n",
    "from scipy.sparse import coo_matrix\n",
    "from lightfm.data import Dataset as LFMDataset\n",
    "np.random.seed(42)"
   ]
  },
  {
   "cell_type": "code",
   "execution_count": null,
   "id": "9b83948f",
   "metadata": {},
   "outputs": [],
   "source": []
  },
  {
   "cell_type": "code",
   "execution_count": 2,
   "id": "c6f196be",
   "metadata": {},
   "outputs": [],
   "source": [
    "df = pd.read_csv('../data/recsys-in-practice/train_joke_df.csv')\n",
    "\n",
    "df['UID'] = df['UID'] - 1\n",
    "df['JID'] = df['JID'] - 1\n",
    "# сделаем сортировку и перепишем index\n",
    "df = df.sort_values(by=['UID', 'JID'])\n",
    "df = df.reset_index(drop=True)\n",
    "\n",
    "df\n",
    "\n",
    "df_train, df_test = train_test_split(df, test_size=0.5, random_state=42)"
   ]
  },
  {
   "cell_type": "code",
   "execution_count": 4,
   "id": "89ad7405",
   "metadata": {},
   "outputs": [
    {
     "data": {
      "text/plain": [
       "dict_keys(['actual', 'svd'])"
      ]
     },
     "execution_count": 4,
     "metadata": {},
     "output_type": "execute_result"
    }
   ],
   "source": [
    "with open('predictions_df.pkl', 'rb') as f:\n",
    "    predictions_df = pickle.load(f)\n",
    "    \n",
    "predictions_df.keys()"
   ]
  },
  {
   "cell_type": "code",
   "execution_count": 5,
   "id": "3062ac59",
   "metadata": {},
   "outputs": [
    {
     "data": {
      "text/plain": [
       "dict_keys(['lfm', 'lfm_cos'])"
      ]
     },
     "execution_count": 5,
     "metadata": {},
     "output_type": "execute_result"
    }
   ],
   "source": [
    "with open('predictions_df_lfm.pkl', 'rb') as f:\n",
    "    predictions_df_lfm = pickle.load(f)\n",
    "    \n",
    "predictions_df_lfm.keys()"
   ]
  },
  {
   "cell_type": "code",
   "execution_count": 6,
   "id": "2314071a",
   "metadata": {},
   "outputs": [
    {
     "data": {
      "text/plain": [
       "dict_keys(['nn'])"
      ]
     },
     "execution_count": 6,
     "metadata": {},
     "output_type": "execute_result"
    }
   ],
   "source": [
    "with open('predictions_df_nn.pkl', 'rb') as f:\n",
    "    predictions_df_nn = pickle.load(f)\n",
    "    \n",
    "predictions_df_nn.keys()"
   ]
  },
  {
   "cell_type": "code",
   "execution_count": null,
   "id": "524cf11b",
   "metadata": {},
   "outputs": [],
   "source": [
    "with open('predictions_df_catboost.pkl', 'rb') as f:\n",
    "    predictions_df_catboost = pickle.load(f)\n",
    "    \n",
    "predictions_df_catboost.keys()"
   ]
  },
  {
   "cell_type": "code",
   "execution_count": 7,
   "id": "10470aa5",
   "metadata": {},
   "outputs": [],
   "source": [
    "svd_df = predictions_df['svd']\n",
    "lfm_df = predictions_df_lfm['lfm']\n",
    "lfm_cos_df = predictions_df_lfm['lfm_cos']\n",
    "nn_df = predictions_df_nn['nn']\n",
    "catboost_df = predictions_df_catboost['catboost']\n",
    "actual_df = predictions_df['actual']"
   ]
  },
  {
   "cell_type": "code",
   "execution_count": null,
   "id": "4718d0d4",
   "metadata": {},
   "outputs": [],
   "source": []
  },
  {
   "cell_type": "code",
   "execution_count": null,
   "id": "8c257fe3",
   "metadata": {},
   "outputs": [],
   "source": []
  },
  {
   "cell_type": "code",
   "execution_count": 9,
   "id": "e2e2d436",
   "metadata": {},
   "outputs": [],
   "source": [
    "frames = {'svd':svd_df, 'lfm':lfm_df, 'lfm_cos':lfm_cos_df, 'nn':nn_df, 'catboost':catboost_df}"
   ]
  },
  {
   "cell_type": "code",
   "execution_count": 12,
   "id": "e814f573",
   "metadata": {},
   "outputs": [],
   "source": [
    "predictions = {k:list(v.groupby('UID').agg({'JID':list})['JID'].values) for k, v in frames.items()}"
   ]
  },
  {
   "cell_type": "code",
   "execution_count": 13,
   "id": "ac85a56c",
   "metadata": {},
   "outputs": [],
   "source": [
    "actual = list(predictions_df['actual'].groupby('UID').agg({'JID':list})['JID'].values)"
   ]
  },
  {
   "cell_type": "code",
   "execution_count": null,
   "id": "18fa1fa9",
   "metadata": {},
   "outputs": [],
   "source": []
  },
  {
   "cell_type": "code",
   "execution_count": 14,
   "id": "9c043e09",
   "metadata": {},
   "outputs": [],
   "source": [
    "\n",
    "def _precision(predicted, actual):\n",
    "    prec = [value for value in predicted if value in actual]\n",
    "    prec = float(len(prec)) / float(len(predicted))\n",
    "    return prec\n",
    "\n",
    "def _apk(actual: list, predicted: list, k=10) -> float:\n",
    "    \"\"\"\n",
    "    average precision @ k.\n",
    "    \n",
    "    \"\"\"\n",
    "    #if not predicted or not actual:\n",
    "    #    return 0.0\n",
    "    \n",
    "    if len(predicted) > k:\n",
    "        predicted = predicted[:k]\n",
    "\n",
    "    score = 0.0\n",
    "    true_positives = 0.0\n",
    "\n",
    "    for i, p in enumerate(predicted):\n",
    "        if p in actual and p not in predicted[:i]:\n",
    "            max_ix = min(i + 1, len(predicted))\n",
    "            score += _precision(predicted[:max_ix], actual)\n",
    "            true_positives += 1\n",
    "    \n",
    "    if score == 0.0:\n",
    "        return 0.0\n",
    "    \n",
    "    return score / true_positives\n",
    "\n",
    "\n",
    "def mapk(actual: List[list], predicted: List[list], k: int=10) -> float:\n",
    "    \"\"\"\n",
    "    mean average precision @ k.\n",
    "    \n",
    "    \"\"\"\n",
    "    if len(actual) != len(predicted):\n",
    "        print(len(actual), len(predicted))\n",
    "        raise AssertionError(\"Length mismatched\")\n",
    "    \n",
    "    return np.mean([_apk(a,p,k) for a,p in zip(actual, predicted)])\n",
    "\n",
    "\n",
    "def mapk_plot(mapk_scores, model_names, k_range):\n",
    "    \"\"\"\n",
    "    Plots the mean average precision at k for a set of models to compare.\n",
    "    ----------\n",
    "    mapk_scores: list of lists\n",
    "        list of list of map@k scores over k. This lis is in same order as model_names\n",
    "        example: [[0.17, 0.25, 0.76],[0.2, 0.5, 0.74]]\n",
    "    model_names: list\n",
    "        list of model names in same order as coverage_scores\n",
    "        example: ['Model A', 'Model B']\n",
    "    k_range: list\n",
    "        list or array indeitifying all k values in order\n",
    "        example: [1,2,3,4,5,6,7,8,9,10]\n",
    "    Returns:\n",
    "    -------\n",
    "        A map@k plot\n",
    "    \"\"\"\n",
    "    #create palette\n",
    "    #recommender_palette = [\"#ED2BFF\", \"#14E2C0\", \"#FF9F1C\", \"#5E2BFF\",\"#FC5FA3\"]\n",
    "    #sns.set_palette(recommender_palette)\n",
    "\n",
    "    #lineplot\n",
    "    mapk_df = pd.DataFrame(np.column_stack(mapk_scores), k_range, columns=model_names)\n",
    "    ax = sns.lineplot(data=mapk_df)\n",
    "    plt.xticks(k_range)\n",
    "    plt.setp(ax.lines,linewidth=5)\n",
    "\n",
    "    #set labels\n",
    "    ax.set_title('Mean Average Precision at K (MAP@K) Comparison')\n",
    "    ax.set_ylabel('MAP@K')\n",
    "    ax.set_xlabel('K')\n",
    "    plt.show()"
   ]
  },
  {
   "cell_type": "code",
   "execution_count": 18,
   "id": "e1d913a1",
   "metadata": {},
   "outputs": [
    {
     "data": {
      "application/vnd.jupyter.widget-view+json": {
       "model_id": "1edb9a73994c40b794f4406280ff1cc0",
       "version_major": 2,
       "version_minor": 0
      },
      "text/plain": [
       "  0%|          | 0/19 [00:00<?, ?it/s]"
      ]
     },
     "metadata": {},
     "output_type": "display_data"
    },
    {
     "data": {
      "image/png": "[encoded data removed]",
      "text/plain": [
       "<Figure size 1080x504 with 1 Axes>"
      ]
     },
     "metadata": {
      "needs_background": "light"
     },
     "output_type": "display_data"
    }
   ],
   "source": [
    "\n",
    "\n",
    "mapk_scores = [[] for _ in predictions]\n",
    "names = list(predictions.keys())\n",
    "for K in tqdm(np.arange(1, 20)):\n",
    "    for i, (key, value) in enumerate(predictions.items()):\n",
    "        mapk_scores[i].extend([mapk(actual, value, k=K)])\n",
    "    \n",
    "\n",
    "    \n",
    "    \n",
    "index = range(1,19+1)\n",
    "\n",
    "fig = plt.figure(figsize=(15, 7))\n",
    "mapk_plot(mapk_scores, model_names=names, k_range=index)"
   ]
  },
  {
   "cell_type": "code",
   "execution_count": 10,
   "id": "54ba84ac",
   "metadata": {},
   "outputs": [],
   "source": []
  },
  {
   "cell_type": "code",
   "execution_count": null,
   "id": "4d449cc2",
   "metadata": {},
   "outputs": [],
   "source": []
  },
  {
   "cell_type": "code",
   "execution_count": null,
   "id": "22a6fc3d",
   "metadata": {},
   "outputs": [],
   "source": []
  },
  {
   "cell_type": "code",
   "execution_count": null,
   "id": "28a0ac39",
   "metadata": {},
   "outputs": [],
   "source": []
  },
  {
   "cell_type": "code",
   "execution_count": 19,
   "id": "272a423f",
   "metadata": {},
   "outputs": [],
   "source": [
    "def get_value_popularity_ranks(values: pd.Series) -> pd.Series:\n",
    "    value_counts = values.value_counts()\n",
    "    counts_unique = value_counts.unique()\n",
    "    count_rank_mapping = pd.Series(index=counts_unique, data=np.arange(len(counts_unique)) + 1)\n",
    "    return value_counts.map(count_rank_mapping)\n",
    "\n",
    "\n",
    "def calculate_serendipity_per_user(\n",
    "    recommendations: pd.DataFrame,\n",
    "    train: pd.DataFrame,\n",
    "    test: pd.DataFrame,\n",
    ") -> pd.Series:\n",
    "    recommendations_ = pd.merge(recommendations, test[[\"UID\", \"JID\"]], how=\"left\", indicator=True)\n",
    "    recommendations_[\"is_rel\"] = np.where(recommendations_[\"_merge\"] == \"both\", 1, 0)\n",
    "\n",
    "    n_items = train[\"JID\"].nunique()\n",
    "    item_popularity_ranks = get_value_popularity_ranks(train[\"JID\"])\n",
    "    recommendations_[\"rank_pop\"] = recommendations_[\"JID\"].map(item_popularity_ranks)\n",
    "\n",
    "    recommendations_[\"proba_user\"] = (n_items + 1 - recommendations_[\"Ratings_pred\"]) / n_items\n",
    "    recommendations_[\"proba_any_user\"] = (n_items + 1 - recommendations_[\"rank_pop\"]) / n_items\n",
    "\n",
    "    recommendations_[\"proba_diff\"] = np.maximum(\n",
    "        recommendations_[\"proba_user\"] - recommendations_[\"proba_any_user\"],\n",
    "        0.0\n",
    "    )\n",
    "    recommendations_[\"item_serendipity\"] = recommendations_[\"proba_diff\"] * recommendations_[\"is_rel\"]\n",
    "    return recommendations_[[\"UID\", \"item_serendipity\"]].groupby(\"UID\").agg(\"mean\")\n"
   ]
  },
  {
   "cell_type": "code",
   "execution_count": 21,
   "id": "40afcdba",
   "metadata": {},
   "outputs": [
    {
     "data": {
      "text/html": [
       "<div>\n",
       "<style scoped>\n",
       "    .dataframe tbody tr th:only-of-type {\n",
       "        vertical-align: middle;\n",
       "    }\n",
       "\n",
       "    .dataframe tbody tr th {\n",
       "        vertical-align: top;\n",
       "    }\n",
       "\n",
       "    .dataframe thead th {\n",
       "        text-align: right;\n",
       "    }\n",
       "</style>\n",
       "<table border=\"1\" class=\"dataframe\">\n",
       "  <thead>\n",
       "    <tr style=\"text-align: right;\">\n",
       "      <th></th>\n",
       "      <th>UID</th>\n",
       "      <th>JID</th>\n",
       "      <th>Ratings_pred</th>\n",
       "      <th>Rating</th>\n",
       "      <th>_merge</th>\n",
       "    </tr>\n",
       "  </thead>\n",
       "  <tbody>\n",
       "    <tr>\n",
       "      <th>0</th>\n",
       "      <td>0</td>\n",
       "      <td>89</td>\n",
       "      <td>2.567916</td>\n",
       "      <td>NaN</td>\n",
       "      <td>left_only</td>\n",
       "    </tr>\n",
       "    <tr>\n",
       "      <th>1</th>\n",
       "      <td>0</td>\n",
       "      <td>36</td>\n",
       "      <td>2.434737</td>\n",
       "      <td>NaN</td>\n",
       "      <td>left_only</td>\n",
       "    </tr>\n",
       "    <tr>\n",
       "      <th>2</th>\n",
       "      <td>0</td>\n",
       "      <td>27</td>\n",
       "      <td>2.247942</td>\n",
       "      <td>NaN</td>\n",
       "      <td>left_only</td>\n",
       "    </tr>\n",
       "    <tr>\n",
       "      <th>3</th>\n",
       "      <td>0</td>\n",
       "      <td>62</td>\n",
       "      <td>2.217535</td>\n",
       "      <td>NaN</td>\n",
       "      <td>left_only</td>\n",
       "    </tr>\n",
       "    <tr>\n",
       "      <th>4</th>\n",
       "      <td>0</td>\n",
       "      <td>72</td>\n",
       "      <td>1.937119</td>\n",
       "      <td>NaN</td>\n",
       "      <td>left_only</td>\n",
       "    </tr>\n",
       "    <tr>\n",
       "      <th>...</th>\n",
       "      <td>...</td>\n",
       "      <td>...</td>\n",
       "      <td>...</td>\n",
       "      <td>...</td>\n",
       "      <td>...</td>\n",
       "    </tr>\n",
       "    <tr>\n",
       "      <th>249825</th>\n",
       "      <td>24982</td>\n",
       "      <td>55</td>\n",
       "      <td>3.378880</td>\n",
       "      <td>NaN</td>\n",
       "      <td>left_only</td>\n",
       "    </tr>\n",
       "    <tr>\n",
       "      <th>249826</th>\n",
       "      <td>24982</td>\n",
       "      <td>80</td>\n",
       "      <td>3.014512</td>\n",
       "      <td>NaN</td>\n",
       "      <td>left_only</td>\n",
       "    </tr>\n",
       "    <tr>\n",
       "      <th>249827</th>\n",
       "      <td>24982</td>\n",
       "      <td>89</td>\n",
       "      <td>2.415322</td>\n",
       "      <td>NaN</td>\n",
       "      <td>left_only</td>\n",
       "    </tr>\n",
       "    <tr>\n",
       "      <th>249828</th>\n",
       "      <td>24982</td>\n",
       "      <td>1</td>\n",
       "      <td>2.125170</td>\n",
       "      <td>NaN</td>\n",
       "      <td>left_only</td>\n",
       "    </tr>\n",
       "    <tr>\n",
       "      <th>249829</th>\n",
       "      <td>24982</td>\n",
       "      <td>87</td>\n",
       "      <td>2.045709</td>\n",
       "      <td>NaN</td>\n",
       "      <td>left_only</td>\n",
       "    </tr>\n",
       "  </tbody>\n",
       "</table>\n",
       "<p>249830 rows × 5 columns</p>\n",
       "</div>"
      ],
      "text/plain": [
       "          UID  JID  Ratings_pred  Rating     _merge\n",
       "0           0   89      2.567916     NaN  left_only\n",
       "1           0   36      2.434737     NaN  left_only\n",
       "2           0   27      2.247942     NaN  left_only\n",
       "3           0   62      2.217535     NaN  left_only\n",
       "4           0   72      1.937119     NaN  left_only\n",
       "...       ...  ...           ...     ...        ...\n",
       "249825  24982   55      3.378880     NaN  left_only\n",
       "249826  24982   80      3.014512     NaN  left_only\n",
       "249827  24982   89      2.415322     NaN  left_only\n",
       "249828  24982    1      2.125170     NaN  left_only\n",
       "249829  24982   87      2.045709     NaN  left_only\n",
       "\n",
       "[249830 rows x 5 columns]"
      ]
     },
     "metadata": {},
     "output_type": "display_data"
    },
    {
     "data": {
      "text/html": [
       "<div>\n",
       "<style scoped>\n",
       "    .dataframe tbody tr th:only-of-type {\n",
       "        vertical-align: middle;\n",
       "    }\n",
       "\n",
       "    .dataframe tbody tr th {\n",
       "        vertical-align: top;\n",
       "    }\n",
       "\n",
       "    .dataframe thead th {\n",
       "        text-align: right;\n",
       "    }\n",
       "</style>\n",
       "<table border=\"1\" class=\"dataframe\">\n",
       "  <thead>\n",
       "    <tr style=\"text-align: right;\">\n",
       "      <th></th>\n",
       "      <th>UID</th>\n",
       "      <th>JID</th>\n",
       "      <th>rank</th>\n",
       "    </tr>\n",
       "  </thead>\n",
       "  <tbody>\n",
       "    <tr>\n",
       "      <th>0</th>\n",
       "      <td>19207</td>\n",
       "      <td>87</td>\n",
       "      <td>1</td>\n",
       "    </tr>\n",
       "    <tr>\n",
       "      <th>0</th>\n",
       "      <td>19207</td>\n",
       "      <td>98</td>\n",
       "      <td>2</td>\n",
       "    </tr>\n",
       "    <tr>\n",
       "      <th>0</th>\n",
       "      <td>19207</td>\n",
       "      <td>86</td>\n",
       "      <td>3</td>\n",
       "    </tr>\n",
       "    <tr>\n",
       "      <th>0</th>\n",
       "      <td>19207</td>\n",
       "      <td>82</td>\n",
       "      <td>4</td>\n",
       "    </tr>\n",
       "    <tr>\n",
       "      <th>0</th>\n",
       "      <td>19207</td>\n",
       "      <td>83</td>\n",
       "      <td>5</td>\n",
       "    </tr>\n",
       "    <tr>\n",
       "      <th>...</th>\n",
       "      <td>...</td>\n",
       "      <td>...</td>\n",
       "      <td>...</td>\n",
       "    </tr>\n",
       "    <tr>\n",
       "      <th>24982</th>\n",
       "      <td>10935</td>\n",
       "      <td>64</td>\n",
       "      <td>6</td>\n",
       "    </tr>\n",
       "    <tr>\n",
       "      <th>24982</th>\n",
       "      <td>10935</td>\n",
       "      <td>65</td>\n",
       "      <td>7</td>\n",
       "    </tr>\n",
       "    <tr>\n",
       "      <th>24982</th>\n",
       "      <td>10935</td>\n",
       "      <td>19</td>\n",
       "      <td>8</td>\n",
       "    </tr>\n",
       "    <tr>\n",
       "      <th>24982</th>\n",
       "      <td>10935</td>\n",
       "      <td>60</td>\n",
       "      <td>9</td>\n",
       "    </tr>\n",
       "    <tr>\n",
       "      <th>24982</th>\n",
       "      <td>10935</td>\n",
       "      <td>41</td>\n",
       "      <td>10</td>\n",
       "    </tr>\n",
       "  </tbody>\n",
       "</table>\n",
       "<p>249830 rows × 3 columns</p>\n",
       "</div>"
      ],
      "text/plain": [
       "         UID JID  rank\n",
       "0      19207  87     1\n",
       "0      19207  98     2\n",
       "0      19207  86     3\n",
       "0      19207  82     4\n",
       "0      19207  83     5\n",
       "...      ...  ..   ...\n",
       "24982  10935  64     6\n",
       "24982  10935  65     7\n",
       "24982  10935  19     8\n",
       "24982  10935  60     9\n",
       "24982  10935  41    10\n",
       "\n",
       "[249830 rows x 3 columns]"
      ]
     },
     "metadata": {},
     "output_type": "display_data"
    },
    {
     "data": {
      "text/html": [
       "<div>\n",
       "<style scoped>\n",
       "    .dataframe tbody tr th:only-of-type {\n",
       "        vertical-align: middle;\n",
       "    }\n",
       "\n",
       "    .dataframe tbody tr th {\n",
       "        vertical-align: top;\n",
       "    }\n",
       "\n",
       "    .dataframe thead th {\n",
       "        text-align: right;\n",
       "    }\n",
       "</style>\n",
       "<table border=\"1\" class=\"dataframe\">\n",
       "  <thead>\n",
       "    <tr style=\"text-align: right;\">\n",
       "      <th></th>\n",
       "      <th>UID</th>\n",
       "      <th>JID</th>\n",
       "      <th>rank</th>\n",
       "    </tr>\n",
       "  </thead>\n",
       "  <tbody>\n",
       "    <tr>\n",
       "      <th>0</th>\n",
       "      <td>19207</td>\n",
       "      <td>87</td>\n",
       "      <td>1</td>\n",
       "    </tr>\n",
       "    <tr>\n",
       "      <th>0</th>\n",
       "      <td>19207</td>\n",
       "      <td>86</td>\n",
       "      <td>2</td>\n",
       "    </tr>\n",
       "    <tr>\n",
       "      <th>0</th>\n",
       "      <td>19207</td>\n",
       "      <td>79</td>\n",
       "      <td>3</td>\n",
       "    </tr>\n",
       "    <tr>\n",
       "      <th>0</th>\n",
       "      <td>19207</td>\n",
       "      <td>83</td>\n",
       "      <td>4</td>\n",
       "    </tr>\n",
       "    <tr>\n",
       "      <th>0</th>\n",
       "      <td>19207</td>\n",
       "      <td>74</td>\n",
       "      <td>5</td>\n",
       "    </tr>\n",
       "    <tr>\n",
       "      <th>...</th>\n",
       "      <td>...</td>\n",
       "      <td>...</td>\n",
       "      <td>...</td>\n",
       "    </tr>\n",
       "    <tr>\n",
       "      <th>24982</th>\n",
       "      <td>10935</td>\n",
       "      <td>65</td>\n",
       "      <td>6</td>\n",
       "    </tr>\n",
       "    <tr>\n",
       "      <th>24982</th>\n",
       "      <td>10935</td>\n",
       "      <td>49</td>\n",
       "      <td>7</td>\n",
       "    </tr>\n",
       "    <tr>\n",
       "      <th>24982</th>\n",
       "      <td>10935</td>\n",
       "      <td>19</td>\n",
       "      <td>8</td>\n",
       "    </tr>\n",
       "    <tr>\n",
       "      <th>24982</th>\n",
       "      <td>10935</td>\n",
       "      <td>60</td>\n",
       "      <td>9</td>\n",
       "    </tr>\n",
       "    <tr>\n",
       "      <th>24982</th>\n",
       "      <td>10935</td>\n",
       "      <td>50</td>\n",
       "      <td>10</td>\n",
       "    </tr>\n",
       "  </tbody>\n",
       "</table>\n",
       "<p>249830 rows × 3 columns</p>\n",
       "</div>"
      ],
      "text/plain": [
       "         UID JID  rank\n",
       "0      19207  87     1\n",
       "0      19207  86     2\n",
       "0      19207  79     3\n",
       "0      19207  83     4\n",
       "0      19207  74     5\n",
       "...      ...  ..   ...\n",
       "24982  10935  65     6\n",
       "24982  10935  49     7\n",
       "24982  10935  19     8\n",
       "24982  10935  60     9\n",
       "24982  10935  50    10\n",
       "\n",
       "[249830 rows x 3 columns]"
      ]
     },
     "metadata": {},
     "output_type": "display_data"
    },
    {
     "data": {
      "text/html": [
       "<div>\n",
       "<style scoped>\n",
       "    .dataframe tbody tr th:only-of-type {\n",
       "        vertical-align: middle;\n",
       "    }\n",
       "\n",
       "    .dataframe tbody tr th {\n",
       "        vertical-align: top;\n",
       "    }\n",
       "\n",
       "    .dataframe thead th {\n",
       "        text-align: right;\n",
       "    }\n",
       "</style>\n",
       "<table border=\"1\" class=\"dataframe\">\n",
       "  <thead>\n",
       "    <tr style=\"text-align: right;\">\n",
       "      <th></th>\n",
       "      <th>UID</th>\n",
       "      <th>JID</th>\n",
       "      <th>Rating_pred</th>\n",
       "      <th>Rating</th>\n",
       "      <th>_merge</th>\n",
       "    </tr>\n",
       "  </thead>\n",
       "  <tbody>\n",
       "    <tr>\n",
       "      <th>0</th>\n",
       "      <td>0</td>\n",
       "      <td>65</td>\n",
       "      <td>-0.137121</td>\n",
       "      <td>NaN</td>\n",
       "      <td>left_only</td>\n",
       "    </tr>\n",
       "    <tr>\n",
       "      <th>1</th>\n",
       "      <td>0</td>\n",
       "      <td>88</td>\n",
       "      <td>-0.259286</td>\n",
       "      <td>NaN</td>\n",
       "      <td>left_only</td>\n",
       "    </tr>\n",
       "    <tr>\n",
       "      <th>2</th>\n",
       "      <td>0</td>\n",
       "      <td>75</td>\n",
       "      <td>-0.612579</td>\n",
       "      <td>NaN</td>\n",
       "      <td>left_only</td>\n",
       "    </tr>\n",
       "    <tr>\n",
       "      <th>3</th>\n",
       "      <td>0</td>\n",
       "      <td>71</td>\n",
       "      <td>-0.736927</td>\n",
       "      <td>NaN</td>\n",
       "      <td>left_only</td>\n",
       "    </tr>\n",
       "    <tr>\n",
       "      <th>4</th>\n",
       "      <td>0</td>\n",
       "      <td>26</td>\n",
       "      <td>-0.947321</td>\n",
       "      <td>NaN</td>\n",
       "      <td>left_only</td>\n",
       "    </tr>\n",
       "    <tr>\n",
       "      <th>...</th>\n",
       "      <td>...</td>\n",
       "      <td>...</td>\n",
       "      <td>...</td>\n",
       "      <td>...</td>\n",
       "      <td>...</td>\n",
       "    </tr>\n",
       "    <tr>\n",
       "      <th>249825</th>\n",
       "      <td>24982</td>\n",
       "      <td>20</td>\n",
       "      <td>3.726145</td>\n",
       "      <td>NaN</td>\n",
       "      <td>left_only</td>\n",
       "    </tr>\n",
       "    <tr>\n",
       "      <th>249826</th>\n",
       "      <td>24982</td>\n",
       "      <td>48</td>\n",
       "      <td>3.650551</td>\n",
       "      <td>NaN</td>\n",
       "      <td>left_only</td>\n",
       "    </tr>\n",
       "    <tr>\n",
       "      <th>249827</th>\n",
       "      <td>24982</td>\n",
       "      <td>87</td>\n",
       "      <td>3.635036</td>\n",
       "      <td>NaN</td>\n",
       "      <td>left_only</td>\n",
       "    </tr>\n",
       "    <tr>\n",
       "      <th>249828</th>\n",
       "      <td>24982</td>\n",
       "      <td>67</td>\n",
       "      <td>3.621434</td>\n",
       "      <td>NaN</td>\n",
       "      <td>left_only</td>\n",
       "    </tr>\n",
       "    <tr>\n",
       "      <th>249829</th>\n",
       "      <td>24982</td>\n",
       "      <td>60</td>\n",
       "      <td>3.577042</td>\n",
       "      <td>NaN</td>\n",
       "      <td>left_only</td>\n",
       "    </tr>\n",
       "  </tbody>\n",
       "</table>\n",
       "<p>249830 rows × 5 columns</p>\n",
       "</div>"
      ],
      "text/plain": [
       "          UID  JID  Rating_pred  Rating     _merge\n",
       "0           0   65    -0.137121     NaN  left_only\n",
       "1           0   88    -0.259286     NaN  left_only\n",
       "2           0   75    -0.612579     NaN  left_only\n",
       "3           0   71    -0.736927     NaN  left_only\n",
       "4           0   26    -0.947321     NaN  left_only\n",
       "...       ...  ...          ...     ...        ...\n",
       "249825  24982   20     3.726145     NaN  left_only\n",
       "249826  24982   48     3.650551     NaN  left_only\n",
       "249827  24982   87     3.635036     NaN  left_only\n",
       "249828  24982   67     3.621434     NaN  left_only\n",
       "249829  24982   60     3.577042     NaN  left_only\n",
       "\n",
       "[249830 rows x 5 columns]"
      ]
     },
     "metadata": {},
     "output_type": "display_data"
    }
   ],
   "source": [
    "for key, value in frames.items():\n",
    "    display(value)"
   ]
  },
  {
   "cell_type": "code",
   "execution_count": 43,
   "id": "eb8b5442",
   "metadata": {},
   "outputs": [
    {
     "name": "stdout",
     "output_type": "stream",
     "text": [
      "svd item_serendipity    0.151552\n",
      "dtype: float64\n",
      "lfm item_serendipity    0.168735\n",
      "dtype: float64\n",
      "lfm_cos item_serendipity    0.250702\n",
      "dtype: float64\n",
      "nn item_serendipity    0.091932\n",
      "dtype: float64\n"
     ]
    }
   ],
   "source": [
    "for key, value in frames.items():\n",
    "    c = value.columns\n",
    "    if '_merge' in c:        \n",
    "        #print(value.drop(columns = ['Rating','_merge']).columns)\n",
    "        print(key, calculate_serendipity_per_user(value.drop(columns = ['Rating','_merge']).rename(columns = {'Rating_pred':'Ratings_pred'}), df_train, df_test).mean())\n",
    "    elif 'rank' in c:    \n",
    "        #print(value.rename(columns = {'rank':'Ratings_pred'}).columns)\n",
    "        print(\n",
    "            key, calculate_serendipity_per_user(\n",
    "                value.rename(columns = {'rank':'Ratings_pred'}), df_train, df_test).mean())\n",
    "        \n",
    "    elif 'Rating_pred' in c:\n",
    "        #print(c)\n",
    "        print(key, calculate_serendipity_per_user(\n",
    "                value.rename(columns = {'Rating_pred':'Ratings_pred'}), df_train, df_test).mean())\n",
    "        #print(key, calculate_serendipity_per_user(value, df_train, df_test).mean())\n",
    "    #break\n",
    "    #"
   ]
  },
  {
   "cell_type": "code",
   "execution_count": null,
   "id": "e7257d91",
   "metadata": {},
   "outputs": [],
   "source": []
  },
  {
   "cell_type": "code",
   "execution_count": null,
   "id": "181c8100",
   "metadata": {},
   "outputs": [],
   "source": []
  },
  {
   "cell_type": "code",
   "execution_count": 45,
   "id": "a892f3bd",
   "metadata": {},
   "outputs": [],
   "source": [
    "def novelty(predicted: List[list], pop: dict, u: int, n: int) -> (float, list):\n",
    "    \"\"\"\n",
    "    Новизна рекомендаций \n",
    "    ----------    \n",
    "    Базируется на статье:\n",
    "    Zhou, T., Kuscsik, Z., Liu, J. G., Medo, M., Wakeling, J. R., & Zhang, Y. C. (2010).\n",
    "    Solving the apparent diversity-accuracy dilemma of recommender systems.\n",
    "    Proceedings of the National Academy of Sciences, 107(10), 4511-4515.\n",
    "    \"\"\"\n",
    "    mean_self_information = []\n",
    "    k = 0\n",
    "    for sublist in predicted:\n",
    "        self_information = 0\n",
    "        k += 1\n",
    "        for i in sublist:\n",
    "            self_information += np.sum(-np.log2(pop[i]/u))\n",
    "        mean_self_information.append(self_information/n)\n",
    "    novelty = sum(mean_self_information)/k\n",
    "    return novelty, mean_self_information\n"
   ]
  },
  {
   "cell_type": "code",
   "execution_count": 46,
   "id": "feae3b4d",
   "metadata": {},
   "outputs": [
    {
     "data": {
      "text/plain": [
       "{'svd': 0.8155996312339772,\n",
       " 'lfm': 0.5569537579748091,\n",
       " 'lfm_cos': 0.8783698040593366,\n",
       " 'nn': 0.6580521718327331}"
      ]
     },
     "execution_count": 46,
     "metadata": {},
     "output_type": "execute_result"
    }
   ],
   "source": [
    "nov = df.JID.value_counts()\n",
    "pop = dict(nov)\n",
    "users = np.unique(df['UID'])\n",
    "\n",
    "nov_dict = {}\n",
    "for i, (key, value) in enumerate(predictions.items()):\n",
    "    nov, _ = novelty(value, pop, len(users), 10)\n",
    "    nov_dict[key] = nov\n",
    "    \n",
    "nov_dict"
   ]
  },
  {
   "cell_type": "code",
   "execution_count": null,
   "id": "dc1b335b",
   "metadata": {},
   "outputs": [],
   "source": []
  },
  {
   "cell_type": "code",
   "execution_count": 22,
   "id": "54089f3b",
   "metadata": {},
   "outputs": [
    {
     "data": {
      "text/plain": [
       "array([    0,     1,     2, ..., 24980, 24981, 24982], dtype=int64)"
      ]
     },
     "execution_count": 22,
     "metadata": {},
     "output_type": "execute_result"
    }
   ],
   "source": [
    "users = np.unique(df['UID'])\n",
    "users"
   ]
  },
  {
   "cell_type": "code",
   "execution_count": 23,
   "id": "ff09b01b",
   "metadata": {},
   "outputs": [
    {
     "data": {
      "text/plain": [
       "(0.8155996312339772, 0.5569537579748091, 0.8783698040593366)"
      ]
     },
     "execution_count": 23,
     "metadata": {},
     "output_type": "execute_result"
    }
   ],
   "source": [
    "nov = df.JID.value_counts()\n",
    "pop = dict(nov)\n",
    "\n",
    "\n",
    "svd_novelty, svd_mselfinfo_list = novelty(svd_predictions, pop, len(users), 10)\n",
    "lfm_novelty, lfm_mselfinfo_list = novelty(lfm_predictions, pop, len(users), 10)\n",
    "lfm_cos_novelty, lfm_cos_mselfinfo_list = novelty(lfm_cos_predictions, pop, len(users), 10)\n",
    "svd_novelty, lfm_novelty, lfm_cos_novelty"
   ]
  },
  {
   "cell_type": "code",
   "execution_count": null,
   "id": "7a227585",
   "metadata": {},
   "outputs": [],
   "source": [
    "assert False"
   ]
  },
  {
   "cell_type": "code",
   "execution_count": null,
   "id": "5e5d9a1f",
   "metadata": {},
   "outputs": [],
   "source": []
  },
  {
   "cell_type": "code",
   "execution_count": 51,
   "id": "022addd0",
   "metadata": {},
   "outputs": [
    {
     "data": {
      "text/plain": [
       "array([ 0,  1,  2,  3,  4,  5,  6,  7,  8,  9, 10, 11, 12, 13, 14, 15, 16,\n",
       "       17, 18, 19, 20, 21, 22, 23, 24, 25, 26, 27, 28, 29, 30, 31, 32, 33,\n",
       "       34, 35, 36, 37, 38, 39, 40, 41, 42, 43, 44, 45, 46, 47, 48, 49, 50,\n",
       "       51, 52, 53, 54, 55, 56, 57, 58, 59, 60, 61, 62, 63, 64, 65, 66, 67,\n",
       "       68, 69, 70, 71, 72, 73, 74, 75, 76, 77, 78, 79, 80, 81, 82, 83, 84,\n",
       "       85, 86, 87, 88, 89, 90, 91, 92, 93, 94, 95, 96, 97, 98, 99],\n",
       "      dtype=int64)"
      ]
     },
     "execution_count": 51,
     "metadata": {},
     "output_type": "execute_result"
    }
   ],
   "source": [
    "items = np.unique(df['JID'])\n",
    "items"
   ]
  },
  {
   "cell_type": "code",
   "execution_count": 52,
   "id": "b0031164",
   "metadata": {},
   "outputs": [],
   "source": [
    "def prediction_coverage(predicted: List[list], catalog: list, unseen_warning: bool=False) -> float:\n",
    "    \"\"\"\n",
    "    Покрытие рекомендаций (по пользователю)\n",
    "    \n",
    "    ----------    \n",
    "    Базируется на статье:\n",
    "    Ge, M., Delgado-Battenfeld, C., & Jannach, D. (2010, September).\n",
    "    Beyond accuracy: evaluating recommender systems by coverage and serendipity.\n",
    "    In Proceedings of the fourth ACM conference on Recommender systems (pp. 257-260). ACM.\n",
    "    \"\"\"\n",
    "    \n",
    "    unique_items_catalog = set(catalog)\n",
    "    if len(catalog)!=len(unique_items_catalog):\n",
    "        raise AssertionError(\"Дубликаты в каталоге\")\n",
    "\n",
    "    predicted_flattened = [p for sublist in predicted for p in sublist]\n",
    "    unique_items_pred = set(predicted_flattened)\n",
    "    \n",
    "    if not unique_items_pred.issubset(unique_items_catalog):\n",
    "        if unseen_warning:\n",
    "            warnings.warn(\"В рекомендациях есть элементы не из каталога. \"\n",
    "                \"Игнорируем\")\n",
    "            unique_items_pred = unique_items_pred.intersection(unique_items_catalog)\n",
    "        else:\n",
    "            print(unique_items_pred - unique_items_catalog)\n",
    "            raise AssertionError(\"В рекомендациях есть элементы не из каталога.\")\n",
    "    \n",
    "    num_unique_predictions = len(unique_items_pred)\n",
    "    prediction_coverage = round(num_unique_predictions/(len(catalog)* 1.0)* 100, 2)\n",
    "    return prediction_coverage\n",
    "\n"
   ]
  },
  {
   "cell_type": "code",
   "execution_count": 53,
   "id": "d736874d",
   "metadata": {},
   "outputs": [
    {
     "data": {
      "text/plain": [
       "{'svd': 100.0, 'lfm': 100.0, 'lfm_cos': 100.0, 'nn': 95.0}"
      ]
     },
     "execution_count": 53,
     "metadata": {},
     "output_type": "execute_result"
    }
   ],
   "source": [
    "\n",
    "cov_dict = {}\n",
    "for i, (key, value) in enumerate(predictions.items()):\n",
    "    cov = prediction_coverage(value, items)\n",
    "    cov_dict[key] = cov\n",
    "\n",
    "    \n",
    "cov_dict"
   ]
  },
  {
   "cell_type": "code",
   "execution_count": 27,
   "id": "bd78eb2b",
   "metadata": {},
   "outputs": [
    {
     "data": {
      "text/plain": [
       "(100.0, 100.0, 100.0)"
      ]
     },
     "execution_count": 27,
     "metadata": {},
     "output_type": "execute_result"
    }
   ],
   "source": [
    "\n",
    "\n",
    "#random_coverage = prediction_coverage(ran_recs, items)\n",
    "#pop_coverage = prediction_coverage(pop_recs, items)\n",
    "cf_coverage = prediction_coverage(svd_predictions, items)\n",
    "lfm_coverage = prediction_coverage(lfm_predictions, items)\n",
    "lfm_cos_coverage = prediction_coverage(lfm_cos_predictions, items)\n",
    "\n",
    "\n",
    "#random_coverage, pop_coverage, \n",
    "cf_coverage, lfm_coverage, lfm_cos_coverage"
   ]
  },
  {
   "cell_type": "code",
   "execution_count": null,
   "id": "3de09637",
   "metadata": {},
   "outputs": [],
   "source": []
  },
  {
   "cell_type": "code",
   "execution_count": null,
   "id": "63efdbaf",
   "metadata": {},
   "outputs": [],
   "source": []
  },
  {
   "cell_type": "code",
   "execution_count": null,
   "id": "07347f0d",
   "metadata": {},
   "outputs": [],
   "source": []
  },
  {
   "cell_type": "code",
   "execution_count": null,
   "id": "45443d17",
   "metadata": {},
   "outputs": [],
   "source": []
  },
  {
   "cell_type": "code",
   "execution_count": null,
   "id": "ff4dd260",
   "metadata": {},
   "outputs": [],
   "source": []
  },
  {
   "cell_type": "code",
   "execution_count": 54,
   "id": "87130f5d",
   "metadata": {},
   "outputs": [],
   "source": [
    "\n",
    "def catalog_coverage(predicted: List[list], catalog: list, k: int) -> float:\n",
    "    \"\"\"\n",
    "    Покрытие рекомендаций (по каталогу)\n",
    "    \n",
    "    ----------\n",
    "    Ge, M., Delgado-Battenfeld, C., & Jannach, D. (2010, September).\n",
    "    Beyond accuracy: evaluating recommender systems by coverage and serendipity.\n",
    "    In Proceedings of the fourth ACM conference on Recommender systems (pp. 257-260). ACM.\n",
    "    \"\"\"\n",
    "    sampling = random.choices(predicted, k=k)\n",
    "    predicted_flattened = [p for sublist in sampling for p in sublist]\n",
    "    L_predictions = len(set(predicted_flattened))\n",
    "    catalog_coverage = round(L_predictions/(len(catalog)*1.0)*100,2)\n",
    "    return catalog_coverage\n",
    "\n",
    "\n",
    "\n",
    "def coverage_plot(coverage_scores: list, model_names: list) -> None:\n",
    "    \"\"\"\n",
    "    Plots the coverage for a set of models to compare.\n",
    "    ----------\n",
    "    coverage_scores: list\n",
    "        list of coverage scores in same order as model_names\n",
    "        example: [0.17, 0.25, 0.76]\n",
    "    model_names: list\n",
    "        list of model names in same order as coverage_scores\n",
    "        example: ['Model A', 'Model B', 'Model C']\n",
    "    Returns:\n",
    "    -------\n",
    "        A coverage plot\n",
    "    \"\"\"\n",
    "    #create palette\n",
    "    #recommender_palette = [\"#ED2BFF\", \"#14E2C0\", \"#FF9F1C\", \"#5E2BFF\",\"#FC5FA3\"]\n",
    "    #sns.set_palette(recommender_palette)\n",
    "\n",
    "    #make barplot\n",
    "    ax = sns.barplot(x=model_names, y=coverage_scores)\n",
    "\n",
    "    #set labels\n",
    "    ax.set_title('Catalog Coverage in %')\n",
    "    ax.set_ylabel('coverage')\n",
    "\n",
    "    plt.show()"
   ]
  },
  {
   "cell_type": "code",
   "execution_count": 55,
   "id": "8349038a",
   "metadata": {},
   "outputs": [
    {
     "data": {
      "text/plain": [
       "{'svd': 97.0, 'lfm': 98.0, 'lfm_cos': 100.0, 'nn': 49.0}"
      ]
     },
     "execution_count": 55,
     "metadata": {},
     "output_type": "execute_result"
    }
   ],
   "source": [
    "\n",
    "catalog_cov_dict = {}\n",
    "for i, (key, value) in enumerate(predictions.items()):\n",
    "    cov = catalog_coverage(value, items, 100)\n",
    "    catalog_cov_dict[key] = cov\n",
    "\n",
    "    \n",
    "catalog_cov_dict"
   ]
  },
  {
   "cell_type": "code",
   "execution_count": 31,
   "id": "41eab85d",
   "metadata": {},
   "outputs": [],
   "source": [
    "# N=100 для определенного \n",
    "#random_cat_coverage = catalog_coverage(ran_recs, items, 100)\n",
    "#pop_cat_coverage = catalog_coverage(pop_recs, items, 100)\n",
    "cf_cat_coverage = catalog_coverage(svd_predictions, items, 100)\n",
    "lfm_cat_coverage = catalog_coverage(lfm_predictions, items, 100)\n",
    "lfm_cos_cat_coverage = catalog_coverage(lfm_cos_predictions, items, 100)"
   ]
  },
  {
   "cell_type": "code",
   "execution_count": 32,
   "id": "a2f4154e",
   "metadata": {},
   "outputs": [
    {
     "data": {
      "text/plain": [
       "(99.0, 94.0, 100.0)"
      ]
     },
     "execution_count": 32,
     "metadata": {},
     "output_type": "execute_result"
    }
   ],
   "source": [
    "\n",
    "cf_cat_coverage, lfm_cat_coverage, lfm_cos_cat_coverage"
   ]
  },
  {
   "cell_type": "code",
   "execution_count": null,
   "id": "65129721",
   "metadata": {},
   "outputs": [],
   "source": []
  },
  {
   "cell_type": "code",
   "execution_count": null,
   "id": "aff7486f",
   "metadata": {},
   "outputs": [],
   "source": []
  },
  {
   "cell_type": "code",
   "execution_count": null,
   "id": "402cfd2d",
   "metadata": {},
   "outputs": [],
   "source": []
  },
  {
   "cell_type": "code",
   "execution_count": null,
   "id": "f6eade6d",
   "metadata": {},
   "outputs": [],
   "source": [
    "predictions_df['actual']"
   ]
  },
  {
   "cell_type": "code",
   "execution_count": null,
   "id": "006d8c54",
   "metadata": {},
   "outputs": [],
   "source": [
    "predictions_df['svd']"
   ]
  },
  {
   "cell_type": "code",
   "execution_count": null,
   "id": "26608446",
   "metadata": {},
   "outputs": [],
   "source": [
    "users = np.unique(predictions_df['actual']['UID'])\n",
    "users"
   ]
  },
  {
   "cell_type": "code",
   "execution_count": null,
   "id": "9402001c",
   "metadata": {},
   "outputs": [],
   "source": [
    "ndsg = {}\n",
    "\n",
    "for user in tqdm(users):\n",
    "    df1 = predictions_df['actual'][predictions_df['actual']['UID'] == user]\n",
    "    df2 = predictions_df['svd'][predictions_df['svd']['UID'] == user]\n",
    "    \n",
    "    break\n",
    "    \n",
    "    if len(df_user) < 2:\n",
    "        continue\n",
    "    #display(df_user)\n",
    "    #display(np.asarray([df_user['Ratings']]))\n",
    "    ndsg[user] = ndcg_score(\n",
    "        np.asarray([['Ratings']]),\n",
    "        np.asarray([predictions_df['svd']['Ratings_pred']])\n",
    "    )\n",
    "\n",
    "    \n",
    "np.mean(list(ndsg.values()))"
   ]
  },
  {
   "cell_type": "code",
   "execution_count": null,
   "id": "ffa70fdb",
   "metadata": {},
   "outputs": [],
   "source": [
    "df1"
   ]
  },
  {
   "cell_type": "code",
   "execution_count": null,
   "id": "cbeba540",
   "metadata": {},
   "outputs": [],
   "source": [
    "df2"
   ]
  },
  {
   "cell_type": "code",
   "execution_count": null,
   "id": "270361f0",
   "metadata": {},
   "outputs": [],
   "source": [
    "df_pred = df_pred.merge(pd.DataFrame({'UID':ndsg.keys(), 'NDSG': list(ndsg.values())}), how='left')#\n",
    "df_pred"
   ]
  },
  {
   "cell_type": "code",
   "execution_count": null,
   "id": "a5620cfd",
   "metadata": {},
   "outputs": [],
   "source": [
    "df_pred[df_pred['NDSG'].isna()]"
   ]
  },
  {
   "cell_type": "code",
   "execution_count": null,
   "id": "9051b42a",
   "metadata": {},
   "outputs": [],
   "source": [
    "df_pred = df_pred.fillna(0)"
   ]
  },
  {
   "cell_type": "code",
   "execution_count": null,
   "id": "ac91b8dc",
   "metadata": {},
   "outputs": [],
   "source": [
    "df_pred[df_pred['NDSG'].isna()]"
   ]
  },
  {
   "cell_type": "code",
   "execution_count": null,
   "id": "9f269f70",
   "metadata": {},
   "outputs": [],
   "source": [
    "df_pred['NDSG'].mean()"
   ]
  },
  {
   "cell_type": "code",
   "execution_count": null,
   "id": "04878bf8",
   "metadata": {},
   "outputs": [],
   "source": []
  },
  {
   "cell_type": "code",
   "execution_count": null,
   "id": "05feba1d",
   "metadata": {},
   "outputs": [],
   "source": []
  },
  {
   "cell_type": "code",
   "execution_count": null,
   "id": "c857aa88",
   "metadata": {},
   "outputs": [],
   "source": []
  },
  {
   "cell_type": "code",
   "execution_count": null,
   "id": "b8917b7c",
   "metadata": {},
   "outputs": [],
   "source": []
  },
  {
   "cell_type": "code",
   "execution_count": null,
   "id": "44f20842",
   "metadata": {},
   "outputs": [],
   "source": []
  },
  {
   "cell_type": "code",
   "execution_count": null,
   "id": "40eba3a8",
   "metadata": {},
   "outputs": [],
   "source": [
    "pop = dict(df['UID'].value_counts())\n",
    "pop"
   ]
  },
  {
   "cell_type": "code",
   "execution_count": null,
   "id": "79b8598b",
   "metadata": {},
   "outputs": [],
   "source": []
  },
  {
   "cell_type": "code",
   "execution_count": null,
   "id": "45cfb5b3",
   "metadata": {},
   "outputs": [],
   "source": [
    "cf_recs = []\n",
    "\n",
    "for user in tqdm(users):\n",
    "    df_user = df_pred[df_pred['UID'] == user]\n",
    "    "
   ]
  },
  {
   "cell_type": "code",
   "execution_count": null,
   "id": "69523568",
   "metadata": {},
   "outputs": [],
   "source": [
    "df_pred.index"
   ]
  },
  {
   "cell_type": "code",
   "execution_count": null,
   "id": "40f88309",
   "metadata": {},
   "outputs": [],
   "source": [
    "test = df_true.copy().groupby('UID', as_index=False)['JID'].agg({'Ratings': (lambda x: list(set(x)))}).sort_values('Ratings')\n",
    "test = test.set_index(\"UID\")\n",
    "test"
   ]
  },
  {
   "cell_type": "code",
   "execution_count": null,
   "id": "ca45c9a0",
   "metadata": {},
   "outputs": [],
   "source": [
    "def get_users_predictions(user_id, n, model):\n",
    "    recommended_items = pd.DataFrame(model.loc[user_id])\n",
    "    recommended_items.columns = [\"Ratings_pred\"]\n",
    "    recommended_items = recommended_items.sort_values('Ratings_pred', ascending=False)    \n",
    "    recommended_items = recommended_items.head(n)\n",
    "    return recommended_items.index.tolist()"
   ]
  },
  {
   "cell_type": "code",
   "execution_count": null,
   "id": "514c9551",
   "metadata": {},
   "outputs": [],
   "source": [
    "cf_model = df_pred.pivot_table(index='UID', columns='JID', values='Ratings_pred').fillna(0)\n",
    "cf_model"
   ]
  },
  {
   "cell_type": "code",
   "execution_count": null,
   "id": "dce4b1d1",
   "metadata": {},
   "outputs": [],
   "source": [
    "\n",
    "cf_recs = []\n",
    "for user in tqdm(test.index):\n",
    "    cf_predictions = get_users_predictions(user, 10, cf_model)\n",
    "    cf_recs.append(cf_predictions)\n",
    "        \n",
    "test['cf_predictions'] = cf_recs\n",
    "test.head()"
   ]
  },
  {
   "cell_type": "code",
   "execution_count": null,
   "id": "15478f80",
   "metadata": {},
   "outputs": [],
   "source": [
    "# рекомендации по популярным \n",
    "popularity_recs = df['JID'].value_counts().head(10).index.tolist()\n",
    "\n",
    "pop_recs = []\n",
    "for user in tqdm(test.index):\n",
    "    pop_predictions = popularity_recs\n",
    "    pop_recs.append(pop_predictions)\n",
    "        \n",
    "test['pop_predictions'] = pop_recs\n",
    "test.head()"
   ]
  },
  {
   "cell_type": "code",
   "execution_count": null,
   "id": "3f3f5b1a",
   "metadata": {},
   "outputs": [],
   "source": [
    "items = np.unique(df['JID'])\n",
    "items"
   ]
  },
  {
   "cell_type": "code",
   "execution_count": null,
   "id": "19e051d2",
   "metadata": {},
   "outputs": [],
   "source": [
    "# рекомендации случайных\n",
    "ran_recs = []\n",
    "for user in tqdm(test.index):\n",
    "    random_predictions = np.random.choice(items, 10)\n",
    "    ran_recs.append(random_predictions)\n",
    "        \n",
    "test['random_predictions'] = ran_recs\n",
    "test.head()"
   ]
  },
  {
   "cell_type": "code",
   "execution_count": null,
   "id": "7bd5b72d",
   "metadata": {},
   "outputs": [],
   "source": [
    "actual = test.Ratings.values.tolist()\n",
    "cf_predictions = test.cf_predictions.values.tolist()\n",
    "pop_predictions = test.pop_predictions.values.tolist()\n",
    "random_predictions = test.random_predictions.values.tolist()"
   ]
  },
  {
   "cell_type": "code",
   "execution_count": null,
   "id": "28ae60b8",
   "metadata": {},
   "outputs": [],
   "source": []
  },
  {
   "cell_type": "code",
   "execution_count": null,
   "id": "6a00d35e",
   "metadata": {},
   "outputs": [],
   "source": []
  },
  {
   "cell_type": "code",
   "execution_count": null,
   "id": "5c84f866",
   "metadata": {},
   "outputs": [],
   "source": []
  },
  {
   "cell_type": "code",
   "execution_count": null,
   "id": "f716153b",
   "metadata": {},
   "outputs": [],
   "source": []
  },
  {
   "cell_type": "code",
   "execution_count": null,
   "id": "97017b68",
   "metadata": {},
   "outputs": [],
   "source": []
  },
  {
   "cell_type": "code",
   "execution_count": null,
   "id": "c35f88de",
   "metadata": {},
   "outputs": [],
   "source": []
  },
  {
   "cell_type": "code",
   "execution_count": null,
   "id": "981c649a",
   "metadata": {},
   "outputs": [],
   "source": []
  },
  {
   "cell_type": "code",
   "execution_count": null,
   "id": "62c66a75",
   "metadata": {},
   "outputs": [],
   "source": [
    "lfm_dataset = LFMDataset()\n",
    "lfm_dataset.fit(\n",
    "    users=df_train[\"UID\"].values,\n",
    "    items=df_train[\"JID\"].values,\n",
    ")\n",
    "\n",
    "train_matrix, _ = lfm_dataset.build_interactions(zip(*df_train[[\"UID\", \"JID\"]].values.T))"
   ]
  },
  {
   "cell_type": "code",
   "execution_count": null,
   "id": "2b84a647",
   "metadata": {},
   "outputs": [],
   "source": [
    "id_item_mapping = {v: k for k, v in lfm_dataset._item_id_mapping.items()}"
   ]
  },
  {
   "cell_type": "code",
   "execution_count": null,
   "id": "1af7a8fe",
   "metadata": {},
   "outputs": [],
   "source": []
  },
  {
   "cell_type": "code",
   "execution_count": null,
   "id": "5cd7234d",
   "metadata": {},
   "outputs": [],
   "source": []
  },
  {
   "cell_type": "code",
   "execution_count": null,
   "id": "001edd09",
   "metadata": {},
   "outputs": [],
   "source": []
  },
  {
   "cell_type": "code",
   "execution_count": null,
   "id": "61a0b8a7",
   "metadata": {},
   "outputs": [],
   "source": [
    "lfm_model = LightFM(\n",
    "    learning_rate=0.01, \n",
    "    loss='warp', \n",
    "    no_components=64,\n",
    "    random_state=42\n",
    ")\n",
    "lfm_model.fit(\n",
    "    interactions=train_matrix, \n",
    "    epochs=15,\n",
    "    num_threads=20\n",
    ");"
   ]
  },
  {
   "cell_type": "code",
   "execution_count": null,
   "id": "27be4993",
   "metadata": {},
   "outputs": [],
   "source": [
    "with open('05_jokes_lfm_model.pkl', 'wb') as f:\n",
    "    pickle.dump(lfm_model, f)"
   ]
  },
  {
   "cell_type": "code",
   "execution_count": null,
   "id": "28d80456",
   "metadata": {},
   "outputs": [],
   "source": [
    "with open('05_jokes_lfm_dataset.pkl', 'wb') as f:\n",
    "    pickle.dump(lfm_dataset, f)"
   ]
  },
  {
   "cell_type": "code",
   "execution_count": null,
   "id": "f2638c45",
   "metadata": {},
   "outputs": [],
   "source": [
    "lfm_model_cos = deepcopy(lfm_model)\n",
    "\n",
    "lfm_model_cos.item_biases = np.zeros_like(lfm_model_cos.item_biases)\n",
    "lfm_model_cos.user_biases = np.zeros_like(lfm_model_cos.user_biases)\n",
    "\n",
    "lfm_model_cos.item_embeddings = normalize(lfm_model_cos.item_embeddings)\n",
    "lfm_model_cos.user_embeddings = normalize(lfm_model_cos.user_embeddings)"
   ]
  },
  {
   "cell_type": "code",
   "execution_count": null,
   "id": "25e1eb87",
   "metadata": {},
   "outputs": [],
   "source": []
  },
  {
   "cell_type": "code",
   "execution_count": null,
   "id": "649e10b0",
   "metadata": {},
   "outputs": [],
   "source": []
  },
  {
   "cell_type": "code",
   "execution_count": null,
   "id": "fd007119",
   "metadata": {},
   "outputs": [],
   "source": [
    "{x:lfm_dataset._user_id_mapping[x] for x in list(lfm_dataset._user_id_mapping.keys())[-10:]}"
   ]
  },
  {
   "cell_type": "code",
   "execution_count": null,
   "id": "d4a25f4e",
   "metadata": {},
   "outputs": [],
   "source": [
    "recommendations_dict = {}\n",
    "for model_name, model in tqdm(models_dict.items()):\n",
    "    recommendations = pd.DataFrame({\"UID\": df_test[\"UID\"].unique()})\n",
    "    recommendations[\"JID\"] = recommendations[\"UID\"].apply(\n",
    "        lfm_get_n_recommendations_for_user,\n",
    "        args=(\n",
    "            model,\n",
    "            train_matrix,\n",
    "            lfm_dataset._user_id_mapping,\n",
    "            id_item_mapping,\n",
    "            n_predict,\n",
    "            model_name\n",
    "        ),\n",
    "    )\n",
    "    recommendations = recommendations.explode(\"JID\")\n",
    "    recommendations[\"rank\"] = recommendations.groupby([\"UID\"]).cumcount() + 1\n",
    "    recommendations_dict[model_name] = recommendations\n",
    "    "
   ]
  },
  {
   "cell_type": "code",
   "execution_count": null,
   "id": "5b39d787",
   "metadata": {},
   "outputs": [],
   "source": []
  },
  {
   "cell_type": "code",
   "execution_count": null,
   "id": "0375b4a4",
   "metadata": {},
   "outputs": [],
   "source": []
  },
  {
   "cell_type": "code",
   "execution_count": null,
   "id": "9733b03f",
   "metadata": {},
   "outputs": [],
   "source": []
  },
  {
   "cell_type": "code",
   "execution_count": null,
   "id": "e030a594",
   "metadata": {},
   "outputs": [],
   "source": [
    "test"
   ]
  },
  {
   "cell_type": "code",
   "execution_count": null,
   "id": "4f430146",
   "metadata": {},
   "outputs": [],
   "source": [
    "actual = test.Ratings.values.tolist()\n",
    "cf_predictions = test.cf_predictions.values.tolist()\n",
    "pop_predictions = test.pop_predictions.values.tolist()\n",
    "random_predictions = test.random_predictions.values.tolist()"
   ]
  },
  {
   "cell_type": "code",
   "execution_count": null,
   "id": "1c7ef04e",
   "metadata": {},
   "outputs": [],
   "source": [
    "actual = df_test.groupby('UID', as_index=False)['JID'].agg({'JID': (lambda x: list(set(x)))}).sort_values('UID').JID.values.tolist()\n",
    "actual"
   ]
  },
  {
   "cell_type": "code",
   "execution_count": null,
   "id": "f0523401",
   "metadata": {},
   "outputs": [],
   "source": [
    "lfm = recommendations_dict['lfm'].groupby('UID', as_index=False)['JID'].agg({'JID': (lambda x: list(set(x)))}).sort_values('UID').JID.values.tolist()\n",
    "lfm"
   ]
  },
  {
   "cell_type": "code",
   "execution_count": null,
   "id": "8423e335",
   "metadata": {},
   "outputs": [],
   "source": [
    "lfm_cos = recommendations_dict['lfm_cos'].groupby('UID', as_index=False)['JID'].agg({'JID': (lambda x: list(set(x)))}).sort_values('UID').JID.values.tolist()\n",
    "lfm_cos"
   ]
  },
  {
   "cell_type": "code",
   "execution_count": null,
   "id": "e6183414",
   "metadata": {},
   "outputs": [],
   "source": []
  },
  {
   "cell_type": "code",
   "execution_count": null,
   "id": "57336ed1",
   "metadata": {},
   "outputs": [],
   "source": []
  },
  {
   "cell_type": "code",
   "execution_count": null,
   "id": "b3495d3b",
   "metadata": {},
   "outputs": [],
   "source": [
    "\n",
    "pop_mapk = []\n",
    "for K in np.arange(1, 20):\n",
    "    pop_mapk.extend([mapk(actual, pop_predictions, k=K)])\n",
    "\n",
    "\n",
    "random_mapk = []\n",
    "for K in np.arange(1, 20):\n",
    "    random_mapk.extend([mapk(actual, random_predictions, k=K)])\n",
    "\n",
    "\n",
    "cf_mapk = []\n",
    "for K in np.arange(1, 20):\n",
    "    cf_mapk.extend([mapk(actual, cf_predictions, k=K)])"
   ]
  },
  {
   "cell_type": "code",
   "execution_count": null,
   "id": "a0cea41d",
   "metadata": {},
   "outputs": [],
   "source": [
    "\n",
    "lfm_mapk = []\n",
    "for K in np.arange(1, 20):\n",
    "    lfm_mapk.extend([mapk(actual, lfm, k=K)])\n",
    "    \n",
    "\n",
    "lfm_cos_mapk = []\n",
    "for K in np.arange(1, 20):\n",
    "    lfm_cos_mapk.extend([mapk(actual, lfm_cos, k=K)])"
   ]
  },
  {
   "cell_type": "code",
   "execution_count": null,
   "id": "2b6b220c",
   "metadata": {},
   "outputs": [],
   "source": [
    "\n",
    "mapk_scores = [random_mapk, pop_mapk, cf_mapk, lfm_mapk, lfm_cos_mapk]\n",
    "index = range(1,19+1)\n",
    "names = ['Random Recommender', 'Popularity Recommender', 'Collaborative Filter', 'LightFM', 'LightFM_cos']\n",
    "\n",
    "fig = plt.figure(figsize=(15, 7))\n",
    "mapk_plot(mapk_scores, model_names=names, k_range=index)"
   ]
  },
  {
   "cell_type": "code",
   "execution_count": null,
   "id": "fb7e9041",
   "metadata": {},
   "outputs": [],
   "source": []
  },
  {
   "cell_type": "code",
   "execution_count": null,
   "id": "d3f11dd3",
   "metadata": {},
   "outputs": [],
   "source": []
  },
  {
   "cell_type": "code",
   "execution_count": null,
   "id": "6a76ca63",
   "metadata": {},
   "outputs": [],
   "source": []
  },
  {
   "cell_type": "code",
   "execution_count": null,
   "id": "5a41401a",
   "metadata": {},
   "outputs": [],
   "source": []
  },
  {
   "cell_type": "code",
   "execution_count": null,
   "id": "9c037a26",
   "metadata": {},
   "outputs": [],
   "source": []
  },
  {
   "cell_type": "code",
   "execution_count": null,
   "id": "b578f7e4",
   "metadata": {},
   "outputs": [],
   "source": []
  },
  {
   "cell_type": "code",
   "execution_count": null,
   "id": "ef16430a",
   "metadata": {},
   "outputs": [],
   "source": []
  },
  {
   "cell_type": "code",
   "execution_count": null,
   "id": "3c3b3251",
   "metadata": {},
   "outputs": [],
   "source": [
    "cf_recs"
   ]
  },
  {
   "cell_type": "code",
   "execution_count": null,
   "id": "52cfe41f",
   "metadata": {},
   "outputs": [],
   "source": []
  },
  {
   "cell_type": "code",
   "execution_count": null,
   "id": "e801edf7",
   "metadata": {},
   "outputs": [],
   "source": []
  },
  {
   "cell_type": "code",
   "execution_count": null,
   "id": "9d0460a1",
   "metadata": {},
   "outputs": [],
   "source": []
  },
  {
   "cell_type": "code",
   "execution_count": null,
   "id": "f24cf688",
   "metadata": {},
   "outputs": [],
   "source": [
    "\n",
    "def catalog_coverage(predicted: List[list], catalog: list, k: int) -> float:\n",
    "    \"\"\"\n",
    "    Покрытие рекомендаций (по каталогу)\n",
    "    \n",
    "    ----------\n",
    "    Ge, M., Delgado-Battenfeld, C., & Jannach, D. (2010, September).\n",
    "    Beyond accuracy: evaluating recommender systems by coverage and serendipity.\n",
    "    In Proceedings of the fourth ACM conference on Recommender systems (pp. 257-260). ACM.\n",
    "    \"\"\"\n",
    "    sampling = random.choices(predicted, k=k)\n",
    "    predicted_flattened = [p for sublist in sampling for p in sublist]\n",
    "    L_predictions = len(set(predicted_flattened))\n",
    "    catalog_coverage = round(L_predictions/(len(catalog)*1.0)*100,2)\n",
    "    return catalog_coverage\n",
    "\n",
    "\n",
    "\n",
    "def coverage_plot(coverage_scores: list, model_names: list) -> None:\n",
    "    \"\"\"\n",
    "    Plots the coverage for a set of models to compare.\n",
    "    ----------\n",
    "    coverage_scores: list\n",
    "        list of coverage scores in same order as model_names\n",
    "        example: [0.17, 0.25, 0.76]\n",
    "    model_names: list\n",
    "        list of model names in same order as coverage_scores\n",
    "        example: ['Model A', 'Model B', 'Model C']\n",
    "    Returns:\n",
    "    -------\n",
    "        A coverage plot\n",
    "    \"\"\"\n",
    "    #create palette\n",
    "    #recommender_palette = [\"#ED2BFF\", \"#14E2C0\", \"#FF9F1C\", \"#5E2BFF\",\"#FC5FA3\"]\n",
    "    #sns.set_palette(recommender_palette)\n",
    "\n",
    "    #make barplot\n",
    "    ax = sns.barplot(x=model_names, y=coverage_scores)\n",
    "\n",
    "    #set labels\n",
    "    ax.set_title('Catalog Coverage in %')\n",
    "    ax.set_ylabel('coverage')\n",
    "\n",
    "    plt.show()"
   ]
  },
  {
   "cell_type": "code",
   "execution_count": null,
   "id": "50fa55d6",
   "metadata": {},
   "outputs": [],
   "source": [
    "# N=100 для определенного \n",
    "random_cat_coverage = catalog_coverage(ran_recs, items, 100)\n",
    "pop_cat_coverage = catalog_coverage(pop_recs, items, 100)\n",
    "cf_cat_coverage = catalog_coverage(cf_recs, items, 100)\n",
    "lfm_cat_coverage = catalog_coverage(lfm, items, 100)\n",
    "lfm_cat_cos_coverage = catalog_coverage(lfm_cos, items, 100)"
   ]
  },
  {
   "cell_type": "code",
   "execution_count": null,
   "id": "2a9704a0",
   "metadata": {},
   "outputs": [],
   "source": [
    "# визуализация\n",
    "coverage_scores = [random_coverage, pop_coverage, cf_coverage, lfm_cat_coverage, lfm_cat_cos_coverage]\n",
    "model_names = ['Random Recommender', 'Popularity Recommender', 'Collaborative Filter', 'lfm', 'lfm_cos']\n",
    "\n",
    "fig = plt.figure(figsize=(7, 5))\n",
    "coverage_plot(coverage_scores, model_names)"
   ]
  },
  {
   "cell_type": "code",
   "execution_count": null,
   "id": "b635e0a3",
   "metadata": {},
   "outputs": [],
   "source": []
  },
  {
   "cell_type": "code",
   "execution_count": null,
   "id": "31416363",
   "metadata": {},
   "outputs": [],
   "source": []
  },
  {
   "cell_type": "code",
   "execution_count": null,
   "id": "ab4c1070",
   "metadata": {},
   "outputs": [],
   "source": []
  },
  {
   "cell_type": "code",
   "execution_count": null,
   "id": "2ac7573e",
   "metadata": {},
   "outputs": [],
   "source": []
  },
  {
   "cell_type": "code",
   "execution_count": null,
   "id": "79bc90dc",
   "metadata": {},
   "outputs": [],
   "source": [
    "nov = df.JID.value_counts()\n",
    "pop = dict(nov)"
   ]
  },
  {
   "cell_type": "code",
   "execution_count": null,
   "id": "5c410dd8",
   "metadata": {},
   "outputs": [],
   "source": [
    "random_novelty,random_mselfinfo_list = novelty(ran_recs, pop, len(users), 10)\n",
    "pop_novelty,pop_mselfinfo_list = novelty(pop_recs, pop, len(users), 10)\n",
    "cf_novelty,cf_mselfinfo_list = novelty(cf_recs, pop, len(users), 10)\n",
    "lfm_novelty,lfm_mselfinfo_list = novelty(lfm, pop, len(users), 10)\n",
    "lfm_cos_novelty,lfm_cos_mselfinfo_list = novelty(lfm_cos, pop, len(users), 10)"
   ]
  },
  {
   "cell_type": "code",
   "execution_count": null,
   "id": "711f342d",
   "metadata": {},
   "outputs": [],
   "source": [
    "print(random_novelty, pop_novelty, cf_novelty, lfm_novelty, lfm_cos_novelty)"
   ]
  },
  {
   "cell_type": "code",
   "execution_count": null,
   "id": "eb115e2f",
   "metadata": {},
   "outputs": [],
   "source": []
  },
  {
   "cell_type": "code",
   "execution_count": null,
   "id": "8582513e",
   "metadata": {},
   "outputs": [],
   "source": []
  },
  {
   "cell_type": "code",
   "execution_count": null,
   "id": "cfb2aa94",
   "metadata": {},
   "outputs": [],
   "source": []
  },
  {
   "cell_type": "code",
   "execution_count": null,
   "id": "c99434b4",
   "metadata": {},
   "outputs": [],
   "source": []
  },
  {
   "cell_type": "code",
   "execution_count": null,
   "id": "8e8e34df",
   "metadata": {},
   "outputs": [],
   "source": []
  },
  {
   "cell_type": "code",
   "execution_count": null,
   "id": "537357b6",
   "metadata": {},
   "outputs": [],
   "source": []
  },
  {
   "cell_type": "code",
   "execution_count": null,
   "id": "15515407",
   "metadata": {},
   "outputs": [],
   "source": [
    "test_set_all"
   ]
  },
  {
   "cell_type": "code",
   "execution_count": null,
   "id": "e122f179",
   "metadata": {},
   "outputs": [],
   "source": [
    "predictions_all"
   ]
  },
  {
   "cell_type": "code",
   "execution_count": null,
   "id": "bdbc5201",
   "metadata": {},
   "outputs": [],
   "source": []
  },
  {
   "cell_type": "code",
   "execution_count": null,
   "id": "95d50eff",
   "metadata": {},
   "outputs": [],
   "source": []
  },
  {
   "cell_type": "code",
   "execution_count": null,
   "id": "e113d673",
   "metadata": {},
   "outputs": [],
   "source": []
  },
  {
   "cell_type": "code",
   "execution_count": null,
   "id": "a8e03227",
   "metadata": {},
   "outputs": [],
   "source": []
  },
  {
   "cell_type": "code",
   "execution_count": null,
   "id": "925aef0c",
   "metadata": {},
   "outputs": [],
   "source": []
  },
  {
   "cell_type": "code",
   "execution_count": null,
   "id": "1bf34f6f",
   "metadata": {},
   "outputs": [],
   "source": []
  },
  {
   "cell_type": "code",
   "execution_count": null,
   "id": "a0df7c81",
   "metadata": {},
   "outputs": [],
   "source": []
  },
  {
   "cell_type": "code",
   "execution_count": null,
   "id": "751b09db",
   "metadata": {},
   "outputs": [],
   "source": []
  },
  {
   "cell_type": "code",
   "execution_count": null,
   "id": "de5e1fa2",
   "metadata": {},
   "outputs": [],
   "source": [
    "get_n_recommendations_for_user(df_pred_all, 4, 10)"
   ]
  },
  {
   "cell_type": "code",
   "execution_count": null,
   "id": "9a8686d1",
   "metadata": {},
   "outputs": [],
   "source": []
  },
  {
   "cell_type": "code",
   "execution_count": null,
   "id": "eb74017b",
   "metadata": {},
   "outputs": [],
   "source": []
  },
  {
   "cell_type": "code",
   "execution_count": null,
   "id": "7cbb051a",
   "metadata": {},
   "outputs": [],
   "source": [
    "df_rec"
   ]
  },
  {
   "cell_type": "code",
   "execution_count": null,
   "id": "07e486e3",
   "metadata": {},
   "outputs": [],
   "source": []
  },
  {
   "cell_type": "code",
   "execution_count": null,
   "id": "4a5e2e76",
   "metadata": {},
   "outputs": [],
   "source": []
  },
  {
   "cell_type": "code",
   "execution_count": null,
   "id": "ffe20445",
   "metadata": {},
   "outputs": [],
   "source": []
  },
  {
   "cell_type": "code",
   "execution_count": null,
   "id": "00f3e50b",
   "metadata": {},
   "outputs": [],
   "source": []
  },
  {
   "cell_type": "code",
   "execution_count": null,
   "id": "7f336e7e",
   "metadata": {},
   "outputs": [],
   "source": []
  },
  {
   "cell_type": "code",
   "execution_count": null,
   "id": "bcf72802",
   "metadata": {},
   "outputs": [],
   "source": [
    "calculate_serendipity_per_user(df_rec, df_train, df_test).mean()"
   ]
  },
  {
   "cell_type": "code",
   "execution_count": null,
   "id": "144dce20",
   "metadata": {},
   "outputs": [],
   "source": [
    "calculate_serendipity_per_user(df_pred, df_train, df_test).mean()"
   ]
  },
  {
   "cell_type": "code",
   "execution_count": null,
   "id": "5c457695",
   "metadata": {},
   "outputs": [],
   "source": []
  },
  {
   "cell_type": "code",
   "execution_count": null,
   "id": "036986d3",
   "metadata": {},
   "outputs": [],
   "source": []
  },
  {
   "cell_type": "code",
   "execution_count": null,
   "id": "203be342",
   "metadata": {},
   "outputs": [],
   "source": []
  },
  {
   "cell_type": "code",
   "execution_count": null,
   "id": "9502e9bc",
   "metadata": {},
   "outputs": [],
   "source": []
  },
  {
   "cell_type": "code",
   "execution_count": null,
   "id": "3be6be9a",
   "metadata": {},
   "outputs": [],
   "source": []
  }
 ],
 "metadata": {
  "colab": {
   "provenance": []
  },
  "kernelspec": {
   "display_name": "Python 3 (ipykernel)",
   "language": "python",
   "name": "python3"
  },
  "language_info": {
   "codemirror_mode": {
    "name": "ipython",
    "version": 3
   },
   "file_extension": ".py",
   "mimetype": "text/x-python",
   "name": "python",
   "nbconvert_exporter": "python",
   "pygments_lexer": "ipython3",
   "version": "3.10.4"
  }
 },
 "nbformat": 4,
 "nbformat_minor": 5
}
