{
 "cells": [
  {
   "cell_type": "code",
   "execution_count": 1,
   "id": "427278c8-3010-4e10-9271-dc3b7723e0e7",
   "metadata": {
    "id": "427278c8-3010-4e10-9271-dc3b7723e0e7"
   },
   "outputs": [
    {
     "name": "stderr",
     "output_type": "stream",
     "text": [
      "C:\\ProgramData\\Anaconda3\\envs\\torchvision2\\lib\\site-packages\\lightfm\\_lightfm_fast.py:9: UserWarning: LightFM was compiled without OpenMP support. Only a single thread will be used.\n",
      "  warnings.warn(\n"
     ]
    }
   ],
   "source": [
    "import numpy as np\n",
    "import pandas as pd\n",
    "from collections import defaultdict\n",
    "from surprise import Dataset, Reader, accuracy\n",
    "from surprise.model_selection import GridSearchCV\n",
    "from sklearn.model_selection import train_test_split\n",
    "from surprise.model_selection import KFold\n",
    "from tqdm.notebook import tqdm\n",
    "from sklearn.metrics import ndcg_score\n",
    "from surprise import dump\n",
    "import seaborn as sns\n",
    "import matplotlib.pyplot as plt\n",
    "from typing import List\n",
    "from surprise import SVD\n",
    "import random\n",
    "import pickle\n",
    "from copy import deepcopy\n",
    "\n",
    "import typing as tp\n",
    "from sklearn.preprocessing import normalize\n",
    "from lightfm import LightFM\n",
    "from scipy.sparse import coo_matrix\n",
    "from lightfm.data import Dataset as LFMDataset\n",
    "from collections import Counter\n",
    "from matplotlib.lines import Line2D\n",
    "import time\n",
    "import optuna\n",
    "\n",
    "np.random.seed(42)"
   ]
  },
  {
   "cell_type": "code",
   "execution_count": null,
   "id": "cdbe19d0",
   "metadata": {},
   "outputs": [],
   "source": []
  },
  {
   "cell_type": "code",
   "execution_count": null,
   "id": "a7bbb10c",
   "metadata": {},
   "outputs": [],
   "source": []
  },
  {
   "cell_type": "code",
   "execution_count": 3,
   "id": "9b83948f",
   "metadata": {},
   "outputs": [],
   "source": [
    "from uuu import mapk_plot, mapk, calculate_serendipity_per_user, prediction_coverage, \\\n",
    "catalog_coverage, long_tail_plot, weight_by_volume, get_frame_from_prediction_list, novelty, get_value_popularity_ranks"
   ]
  },
  {
   "cell_type": "code",
   "execution_count": 4,
   "id": "c6f196be",
   "metadata": {},
   "outputs": [],
   "source": [
    "df = pd.read_csv('../data/recsys-in-practice/train_joke_df.csv')\n",
    "\n",
    "df['UID'] = df['UID'] - 1\n",
    "df['JID'] = df['JID'] - 1\n",
    "# сделаем сортировку и перепишем index\n",
    "df = df.sort_values(by=['UID', 'JID'])\n",
    "df = df.reset_index(drop=True)\n",
    "\n",
    "df\n",
    "\n",
    "df_train, df_test = train_test_split(df, test_size=0.5, random_state=42)"
   ]
  },
  {
   "cell_type": "code",
   "execution_count": 5,
   "id": "ef8f0b40",
   "metadata": {},
   "outputs": [
    {
     "name": "stderr",
     "output_type": "stream",
     "text": [
      "E:\\competitions\\kaggle\\magnit_recsys-in-practice\\part2\\uuu.py:259: FutureWarning: The frame.append method is deprecated and will be removed from pandas in a future version. Use pandas.concat instead.\n",
      "  head = head.append(tail.head(1))\n"
     ]
    },
    {
     "data": {
      "image/png": "[encoded data removed]",
      "text/plain": [
       "<Figure size 1080x504 with 1 Axes>"
      ]
     },
     "metadata": {
      "needs_background": "light"
     },
     "output_type": "display_data"
    }
   ],
   "source": [
    "fig = plt.figure(figsize=(15, 7))\n",
    "volume_df = long_tail_plot(df=df, \n",
    "             item_id_column=\"JID\", \n",
    "             interaction_type=\"joke ratings\", \n",
    "             percentage=0.4,\n",
    "             x_labels=False)\n",
    "\n",
    "volume_df['weight'] = volume_df['percent_of_total_volume'].apply(weight_by_volume)\n",
    "joke_volume = {}\n",
    "for row in volume_df.itertuples():\n",
    "    joke_volume[int(row.JID)] = row.weight"
   ]
  },
  {
   "cell_type": "code",
   "execution_count": 6,
   "id": "e8401213",
   "metadata": {},
   "outputs": [],
   "source": [
    "df_top_joke = df[df['Rating'] > 5].groupby('JID').agg('count').rename(columns={'Rating':'count_plus'}) \\\n",
    ".sort_values('count_plus', ascending=False).drop(columns=['UID'])\n",
    "\n",
    "\n",
    "df_bottom_joke = df[df['Rating'] < -5].groupby('JID').agg('count').rename(columns={'Rating':'count_minus'}) \\\n",
    ".sort_values('count_minus', ascending=False).drop(columns=['UID'])\n",
    "\n",
    "\n",
    "df_counts = df_bottom_joke.merge(df_top_joke, left_index=True, right_index=True)\n",
    "\n",
    "\n",
    "df_counts['diff'] = df_counts['count_plus'] - df_counts['count_minus']\n",
    "df_counts = df_counts.sort_values('diff', ascending=False)\n",
    "\n",
    "\n",
    "df_counts['weight'] = df_counts['diff'] / 10000\n",
    "\n",
    "joke_quality = {}\n",
    "for row in df_counts.itertuples():\n",
    "    joke_quality[row.Index] = row.weight"
   ]
  },
  {
   "cell_type": "code",
   "execution_count": null,
   "id": "17828530",
   "metadata": {},
   "outputs": [],
   "source": []
  },
  {
   "cell_type": "code",
   "execution_count": null,
   "id": "b56181d2",
   "metadata": {},
   "outputs": [],
   "source": []
  },
  {
   "cell_type": "code",
   "execution_count": 7,
   "id": "f087b376",
   "metadata": {},
   "outputs": [],
   "source": [
    "\n",
    "from CatBoostWrapper import CatBoostWrapper\n",
    "from LightFMWrapper import LightFMWrapper\n",
    "from NNWrapper import NNWrapper\n",
    "from SurpriseWrapper import SurpriseWrapper\n"
   ]
  },
  {
   "cell_type": "code",
   "execution_count": null,
   "id": "c2004759",
   "metadata": {},
   "outputs": [],
   "source": []
  },
  {
   "cell_type": "code",
   "execution_count": 39,
   "id": "f98927d4",
   "metadata": {},
   "outputs": [],
   "source": [
    "\n",
    "wrappers ={\n",
    "    'svd':SurpriseWrapper(model_name='svd05.surprise', folder_name='models', df_train=df_train), \n",
    "    #'lfm_cos':LightFMWrapper(model_name='', folder_name='models', df_train=df_train),           \n",
    "    'catboost':CatBoostWrapper(model_name='catboost05', folder_name='models', df_train=df_train), \n",
    "    #'knn':SurpriseWrapper(model_name='knn05.surprise', folder_name='models', df_train=df_train), \n",
    "    'nn_bias':NNWrapper(model_name='nn05.ckpt', folder_name='models', df_train=df_train)\n",
    "}\n"
   ]
  },
  {
   "cell_type": "code",
   "execution_count": 40,
   "id": "24090219",
   "metadata": {},
   "outputs": [
    {
     "name": "stdout",
     "output_type": "stream",
     "text": [
      "svd05.surprise time: 57.902\n",
      "catboost05 time: 46.983\n",
      "nn05.ckpt time: 58.04\n"
     ]
    }
   ],
   "source": [
    "\n",
    "candidates = {model_name: wrapper.predict() for model_name, wrapper in wrappers.items()}\n",
    "    "
   ]
  },
  {
   "cell_type": "code",
   "execution_count": 14,
   "id": "a51e3075",
   "metadata": {},
   "outputs": [
    {
     "data": {
      "text/html": [
       "<div>\n",
       "<style scoped>\n",
       "    .dataframe tbody tr th:only-of-type {\n",
       "        vertical-align: middle;\n",
       "    }\n",
       "\n",
       "    .dataframe tbody tr th {\n",
       "        vertical-align: top;\n",
       "    }\n",
       "\n",
       "    .dataframe thead th {\n",
       "        text-align: right;\n",
       "    }\n",
       "</style>\n",
       "<table border=\"1\" class=\"dataframe\">\n",
       "  <thead>\n",
       "    <tr style=\"text-align: right;\">\n",
       "      <th></th>\n",
       "      <th>UID</th>\n",
       "      <th>JID</th>\n",
       "      <th>Rating_pred</th>\n",
       "      <th>Rating</th>\n",
       "      <th>_merge</th>\n",
       "    </tr>\n",
       "  </thead>\n",
       "  <tbody>\n",
       "    <tr>\n",
       "      <th>0</th>\n",
       "      <td>0</td>\n",
       "      <td>52</td>\n",
       "      <td>1</td>\n",
       "      <td>NaN</td>\n",
       "      <td>left_only</td>\n",
       "    </tr>\n",
       "    <tr>\n",
       "      <th>1</th>\n",
       "      <td>0</td>\n",
       "      <td>18</td>\n",
       "      <td>2</td>\n",
       "      <td>NaN</td>\n",
       "      <td>left_only</td>\n",
       "    </tr>\n",
       "    <tr>\n",
       "      <th>2</th>\n",
       "      <td>0</td>\n",
       "      <td>20</td>\n",
       "      <td>3</td>\n",
       "      <td>NaN</td>\n",
       "      <td>left_only</td>\n",
       "    </tr>\n",
       "    <tr>\n",
       "      <th>3</th>\n",
       "      <td>0</td>\n",
       "      <td>41</td>\n",
       "      <td>4</td>\n",
       "      <td>NaN</td>\n",
       "      <td>left_only</td>\n",
       "    </tr>\n",
       "    <tr>\n",
       "      <th>4</th>\n",
       "      <td>0</td>\n",
       "      <td>45</td>\n",
       "      <td>5</td>\n",
       "      <td>NaN</td>\n",
       "      <td>left_only</td>\n",
       "    </tr>\n",
       "    <tr>\n",
       "      <th>...</th>\n",
       "      <td>...</td>\n",
       "      <td>...</td>\n",
       "      <td>...</td>\n",
       "      <td>...</td>\n",
       "      <td>...</td>\n",
       "    </tr>\n",
       "    <tr>\n",
       "      <th>249811</th>\n",
       "      <td>24982</td>\n",
       "      <td>68</td>\n",
       "      <td>6</td>\n",
       "      <td>NaN</td>\n",
       "      <td>left_only</td>\n",
       "    </tr>\n",
       "    <tr>\n",
       "      <th>249812</th>\n",
       "      <td>24982</td>\n",
       "      <td>53</td>\n",
       "      <td>7</td>\n",
       "      <td>NaN</td>\n",
       "      <td>left_only</td>\n",
       "    </tr>\n",
       "    <tr>\n",
       "      <th>249813</th>\n",
       "      <td>24982</td>\n",
       "      <td>55</td>\n",
       "      <td>8</td>\n",
       "      <td>NaN</td>\n",
       "      <td>left_only</td>\n",
       "    </tr>\n",
       "    <tr>\n",
       "      <th>249814</th>\n",
       "      <td>24982</td>\n",
       "      <td>16</td>\n",
       "      <td>9</td>\n",
       "      <td>NaN</td>\n",
       "      <td>left_only</td>\n",
       "    </tr>\n",
       "    <tr>\n",
       "      <th>249815</th>\n",
       "      <td>24982</td>\n",
       "      <td>20</td>\n",
       "      <td>10</td>\n",
       "      <td>NaN</td>\n",
       "      <td>left_only</td>\n",
       "    </tr>\n",
       "  </tbody>\n",
       "</table>\n",
       "<p>249816 rows × 5 columns</p>\n",
       "</div>"
      ],
      "text/plain": [
       "          UID  JID  Rating_pred  Rating     _merge\n",
       "0           0   52            1     NaN  left_only\n",
       "1           0   18            2     NaN  left_only\n",
       "2           0   20            3     NaN  left_only\n",
       "3           0   41            4     NaN  left_only\n",
       "4           0   45            5     NaN  left_only\n",
       "...       ...  ...          ...     ...        ...\n",
       "249811  24982   68            6     NaN  left_only\n",
       "249812  24982   53            7     NaN  left_only\n",
       "249813  24982   55            8     NaN  left_only\n",
       "249814  24982   16            9     NaN  left_only\n",
       "249815  24982   20           10     NaN  left_only\n",
       "\n",
       "[249816 rows x 5 columns]"
      ]
     },
     "execution_count": 14,
     "metadata": {},
     "output_type": "execute_result"
    }
   ],
   "source": [
    "candidates['lfm_cos']"
   ]
  },
  {
   "cell_type": "code",
   "execution_count": null,
   "id": "9eb8e169",
   "metadata": {},
   "outputs": [],
   "source": []
  },
  {
   "cell_type": "code",
   "execution_count": null,
   "id": "64925893",
   "metadata": {},
   "outputs": [],
   "source": []
  },
  {
   "cell_type": "code",
   "execution_count": null,
   "id": "2bb55109",
   "metadata": {},
   "outputs": [],
   "source": []
  },
  {
   "cell_type": "code",
   "execution_count": 15,
   "id": "29c9c7f3",
   "metadata": {},
   "outputs": [],
   "source": [
    "predictions = {k:list(v.groupby('UID').agg({'JID':list})['JID'].values) for k, v in candidates.items()}"
   ]
  },
  {
   "cell_type": "code",
   "execution_count": 19,
   "id": "4c551fe4",
   "metadata": {},
   "outputs": [],
   "source": [
    "n_users = np.unique(df['UID']).size\n",
    "n_items = np.unique(df['JID']).size\n",
    "n_recommendations=10"
   ]
  },
  {
   "cell_type": "code",
   "execution_count": 20,
   "id": "7d0e3d98",
   "metadata": {},
   "outputs": [
    {
     "data": {
      "application/vnd.jupyter.widget-view+json": {
       "model_id": "c7222dcf33df46ecb2e39f2393c4e6de",
       "version_major": 2,
       "version_minor": 0
      },
      "text/plain": [
       "  0%|          | 0/24983 [00:00<?, ?it/s]"
      ]
     },
     "metadata": {},
     "output_type": "display_data"
    },
    {
     "data": {
      "text/html": [
       "<div>\n",
       "<style scoped>\n",
       "    .dataframe tbody tr th:only-of-type {\n",
       "        vertical-align: middle;\n",
       "    }\n",
       "\n",
       "    .dataframe tbody tr th {\n",
       "        vertical-align: top;\n",
       "    }\n",
       "\n",
       "    .dataframe thead th {\n",
       "        text-align: right;\n",
       "    }\n",
       "</style>\n",
       "<table border=\"1\" class=\"dataframe\">\n",
       "  <thead>\n",
       "    <tr style=\"text-align: right;\">\n",
       "      <th></th>\n",
       "      <th>UID</th>\n",
       "      <th>JID</th>\n",
       "      <th>Rating</th>\n",
       "    </tr>\n",
       "  </thead>\n",
       "  <tbody>\n",
       "    <tr>\n",
       "      <th>0</th>\n",
       "      <td>0</td>\n",
       "      <td>1</td>\n",
       "      <td>8.79</td>\n",
       "    </tr>\n",
       "    <tr>\n",
       "      <th>1</th>\n",
       "      <td>0</td>\n",
       "      <td>13</td>\n",
       "      <td>8.45</td>\n",
       "    </tr>\n",
       "    <tr>\n",
       "      <th>2</th>\n",
       "      <td>0</td>\n",
       "      <td>26</td>\n",
       "      <td>7.82</td>\n",
       "    </tr>\n",
       "    <tr>\n",
       "      <th>3</th>\n",
       "      <td>0</td>\n",
       "      <td>7</td>\n",
       "      <td>4.17</td>\n",
       "    </tr>\n",
       "    <tr>\n",
       "      <th>4</th>\n",
       "      <td>0</td>\n",
       "      <td>61</td>\n",
       "      <td>3.59</td>\n",
       "    </tr>\n",
       "    <tr>\n",
       "      <th>...</th>\n",
       "      <td>...</td>\n",
       "      <td>...</td>\n",
       "      <td>...</td>\n",
       "    </tr>\n",
       "    <tr>\n",
       "      <th>249691</th>\n",
       "      <td>24982</td>\n",
       "      <td>20</td>\n",
       "      <td>7.28</td>\n",
       "    </tr>\n",
       "    <tr>\n",
       "      <th>249692</th>\n",
       "      <td>24982</td>\n",
       "      <td>24</td>\n",
       "      <td>6.94</td>\n",
       "    </tr>\n",
       "    <tr>\n",
       "      <th>249693</th>\n",
       "      <td>24982</td>\n",
       "      <td>48</td>\n",
       "      <td>6.84</td>\n",
       "    </tr>\n",
       "    <tr>\n",
       "      <th>249694</th>\n",
       "      <td>24982</td>\n",
       "      <td>54</td>\n",
       "      <td>6.36</td>\n",
       "    </tr>\n",
       "    <tr>\n",
       "      <th>249695</th>\n",
       "      <td>24982</td>\n",
       "      <td>34</td>\n",
       "      <td>6.26</td>\n",
       "    </tr>\n",
       "  </tbody>\n",
       "</table>\n",
       "<p>249696 rows × 3 columns</p>\n",
       "</div>"
      ],
      "text/plain": [
       "          UID  JID  Rating\n",
       "0           0    1    8.79\n",
       "1           0   13    8.45\n",
       "2           0   26    7.82\n",
       "3           0    7    4.17\n",
       "4           0   61    3.59\n",
       "...       ...  ...     ...\n",
       "249691  24982   20    7.28\n",
       "249692  24982   24    6.94\n",
       "249693  24982   48    6.84\n",
       "249694  24982   54    6.36\n",
       "249695  24982   34    6.26\n",
       "\n",
       "[249696 rows x 3 columns]"
      ]
     },
     "metadata": {},
     "output_type": "display_data"
    }
   ],
   "source": [
    "def get_n_recommendations_for_user(df, user_id, n, sort_by):\n",
    "    recommended_items = df[df['UID'] == user_id]\n",
    "    recommended_items = recommended_items.sort_values(sort_by, ascending=False)  \n",
    "    return recommended_items.iloc[:n]\n",
    "\n",
    "\n",
    "frames = []\n",
    "for user in tqdm(range(n_users)):\n",
    "    frames.append(get_n_recommendations_for_user(df_test, user, n_recommendations, 'Rating'))\n",
    "    \n",
    "df_true = pd.concat(frames).reset_index()\n",
    "df_true = df_true.drop(columns=['index'])\n",
    "display(df_true)\n",
    "\n",
    "actual = list(df_true.groupby('UID').agg({'JID':list})['JID'].values)"
   ]
  },
  {
   "cell_type": "code",
   "execution_count": null,
   "id": "54845b6a",
   "metadata": {},
   "outputs": [],
   "source": []
  },
  {
   "cell_type": "code",
   "execution_count": null,
   "id": "8b86e659",
   "metadata": {},
   "outputs": [],
   "source": []
  },
  {
   "cell_type": "code",
   "execution_count": 21,
   "id": "ac85a56c",
   "metadata": {},
   "outputs": [
    {
     "data": {
      "text/plain": [
       "24983"
      ]
     },
     "execution_count": 21,
     "metadata": {},
     "output_type": "execute_result"
    }
   ],
   "source": [
    "users = df[\"UID\"].unique()\n",
    "n_users = users.size\n",
    "n_users"
   ]
  },
  {
   "cell_type": "code",
   "execution_count": null,
   "id": "1f72e31c",
   "metadata": {},
   "outputs": [],
   "source": [
    "# рекомендации по популярным \n",
    "#popularity_recs = df['JID'].value_counts().head(10).index.tolist()\n",
    "\n",
    "#pop_recs = []\n",
    "#for user in tqdm(range(n_users)):\n",
    "#    pop_predictions = popularity_recs\n",
    "#    pop_recs.append(pop_predictions)\n",
    "    \n",
    "    \n",
    "#predictions['popular'] = pop_recs"
   ]
  },
  {
   "cell_type": "code",
   "execution_count": 22,
   "id": "18fa1fa9",
   "metadata": {},
   "outputs": [],
   "source": [
    "pop = dict(df.JID.value_counts())"
   ]
  },
  {
   "cell_type": "code",
   "execution_count": 23,
   "id": "9c043e09",
   "metadata": {},
   "outputs": [
    {
     "data": {
      "text/plain": [
       "array([ 0,  1,  2,  3,  4,  5,  6,  7,  8,  9, 10, 11, 12, 13, 14, 15, 16,\n",
       "       17, 18, 19, 20, 21, 22, 23, 24, 25, 26, 27, 28, 29, 30, 31, 32, 33,\n",
       "       34, 35, 36, 37, 38, 39, 40, 41, 42, 43, 44, 45, 46, 47, 48, 49, 50,\n",
       "       51, 52, 53, 54, 55, 56, 57, 58, 59, 60, 61, 62, 63, 64, 65, 66, 67,\n",
       "       68, 69, 70, 71, 72, 73, 74, 75, 76, 77, 78, 79, 80, 81, 82, 83, 84,\n",
       "       85, 86, 87, 88, 89, 90, 91, 92, 93, 94, 95, 96, 97, 98, 99],\n",
       "      dtype=int64)"
      ]
     },
     "execution_count": 23,
     "metadata": {},
     "output_type": "execute_result"
    }
   ],
   "source": [
    "items = np.unique(df['JID'])\n",
    "items"
   ]
  },
  {
   "cell_type": "code",
   "execution_count": null,
   "id": "b8552f8f",
   "metadata": {},
   "outputs": [],
   "source": []
  },
  {
   "cell_type": "code",
   "execution_count": 24,
   "id": "e9ce56d6",
   "metadata": {},
   "outputs": [],
   "source": [
    "def union_predicts(params):\n",
    "    result = []\n",
    "\n",
    "    for u in range(24983):\n",
    "        res = {}\n",
    "        for i, (key, value) in enumerate(predictions.items()):\n",
    "            rank = {x: params[key] * (10-j) for j, x in enumerate(value[u])}\n",
    "\n",
    "            for k, v in rank.items():\n",
    "                if k in res:\n",
    "                    res[k] += v\n",
    "                else:\n",
    "                    res[k] = v\n",
    "                    \n",
    "        for k in res:\n",
    "            res[k] += joke_quality[k] * params['quality']\n",
    "            res[k] += joke_volume[k] * params['volume']\n",
    "\n",
    "        result.append([x[0] for x in sorted(res.items(), key=lambda item: item[1], reverse=True)][:10])\n",
    "        \n",
    "    return result"
   ]
  },
  {
   "cell_type": "code",
   "execution_count": 25,
   "id": "f9100c11",
   "metadata": {},
   "outputs": [],
   "source": [
    "def main_metric(params):\n",
    "    t1 = time.time()\n",
    "    result = union_predicts(params)\n",
    "    res_df = get_frame_from_prediction_list(users, result)\n",
    "\n",
    "\n",
    "    cat_coverage = catalog_coverage(result, items, 100)\n",
    "    pred_coverage = prediction_coverage(result, items)\n",
    "    nov, mselfinfo_list = novelty(result, pop, len(users), 10)\n",
    "\n",
    "    res_df = get_frame_from_prediction_list(users, result)\n",
    "    serendip = calculate_serendipity_per_user(res_df, df_train, df_test)\n",
    "    map1 = mapk(actual, result, k=1)\n",
    "    map10 = mapk(actual, result, k=10)\n",
    "    \n",
    "    price = np.mean([sum([joke_volume[x] for x in xx]) for xx in result])\n",
    "    \n",
    "    sm = sum([cat_coverage / 100, pred_coverage / 100, nov, serendip, map1, map10, price / 3])\n",
    "    print('time',round(time.time() - t1, 3), \n",
    "        'cat_cov',  round(cat_coverage, 3), \n",
    "         'cov', round(pred_coverage, 3),\n",
    "         'nov', round(nov, 3),\n",
    "         'ser', round(serendip, 3),\n",
    "        'm1',  round(map1 , 3),\n",
    "         'm10', round(map10, 3),\n",
    "         'price', round(price, 3),\n",
    "         'sum', round(sm, 3))\n",
    "    return sm"
   ]
  },
  {
   "cell_type": "code",
   "execution_count": 31,
   "id": "6f10badc",
   "metadata": {},
   "outputs": [
    {
     "name": "stdout",
     "output_type": "stream",
     "text": [
      "time 2.646 cat_cov 79.0 cov 100.0 nov 0.602 ser 0.114 m1 0.555 m10 0.597 price 2.541 sum 4.505\n"
     ]
    },
    {
     "data": {
      "text/plain": [
       "4.505477350021328"
      ]
     },
     "execution_count": 31,
     "metadata": {},
     "output_type": "execute_result"
    }
   ],
   "source": [
    "main_metric({'svd': 0.1, \n",
    "              'lfm_cos': 0.1, \n",
    "              'nn_bias': 0.1, \n",
    "              'catboost': 0.1, \n",
    "              'knn': 0.1, \n",
    "              'quality': 0.1,\n",
    "              'volume': 0.1\n",
    "             })"
   ]
  },
  {
   "cell_type": "code",
   "execution_count": 30,
   "id": "ed612f51",
   "metadata": {},
   "outputs": [],
   "source": [
    "result = union_predicts({'svd': 0.1, \n",
    "              'lfm_cos': 0.1, \n",
    "              'nn_bias': 0.1, \n",
    "              'catboost': 0.1, \n",
    "              'knn': 0.1, \n",
    "              'quality': 0.1,\n",
    "              'volume': 0.1\n",
    "             })"
   ]
  },
  {
   "cell_type": "code",
   "execution_count": 32,
   "id": "13ac2edf",
   "metadata": {},
   "outputs": [
    {
     "data": {
      "text/plain": [
       "[[52, 26, 61, 88, 48, 30, 13, 65, 71, 1],\n",
       " [88, 26, 71, 86, 52, 90, 30, 82, 73, 36],\n",
       " [49, 88, 26, 34, 35, 48, 52, 6, 44, 68],\n",
       " [67, 31, 64, 26, 53, 48, 88, 41, 68, 65],\n",
       " [52, 26, 53, 61, 28, 0, 75, 60, 13, 99],\n",
       " [88, 34, 61, 28, 92, 52, 96, 85, 22, 93],\n",
       " [49, 64, 26, 30, 61, 14, 88, 71, 47, 80],\n",
       " [49, 35, 88, 90, 53, 28, 34, 80, 37, 7],\n",
       " [61, 31, 30, 35, 67, 64, 71, 88, 26, 68],\n",
       " [34, 49, 61, 26, 88, 48, 31, 40, 53, 68],\n",
       " [61, 30, 88, 34, 68, 53, 67, 11, 20, 41],\n",
       " [88, 49, 28, 31, 75, 90, 71, 79, 68, 66],\n",
       " [35, 49, 26, 52, 34, 60, 68, 61, 88, 55],\n",
       " [30, 35, 34, 53, 39, 31, 80, 48, 61, 64],\n",
       " [47, 88, 31, 92, 28, 48, 32, 52, 71, 93],\n",
       " [35, 28, 52, 34, 53, 31, 20, 67, 9, 82],\n",
       " [14, 61, 30, 26, 48, 88, 60, 71, 53, 25],\n",
       " [26, 49, 86, 90, 82, 35, 31, 61, 34, 70],\n",
       " [35, 26, 61, 28, 52, 34, 53, 10, 44, 88],\n",
       " [28, 34, 61, 48, 88, 60, 67, 68, 11, 71],\n",
       " [35, 26, 88, 49, 61, 34, 4, 68, 25, 90],\n",
       " [35, 20, 88, 6, 68, 65, 92, 64, 90, 1],\n",
       " [31, 28, 26, 34, 52, 61, 37, 88, 80, 16],\n",
       " [88, 35, 26, 61, 71, 97, 76, 52, 96, 28],\n",
       " [31, 88, 61, 35, 26, 34, 67, 19, 52, 60],\n",
       " [88, 52, 49, 20, 28, 34, 68, 71, 47, 30],\n",
       " [49, 28, 88, 30, 31, 61, 4, 45, 71, 63],\n",
       " [49, 35, 88, 61, 34, 71, 31, 26, 39, 77],\n",
       " [26, 49, 88, 35, 31, 65, 34, 64, 30, 70],\n",
       " [49, 28, 35, 48, 26, 88, 12, 53, 67, 61],\n",
       " [49, 28, 52, 35, 88, 31, 45, 4, 59, 26],\n",
       " [26, 49, 35, 88, 34, 64, 39, 45, 41, 75],\n",
       " [49, 28, 35, 26, 65, 18, 48, 71, 30, 11],\n",
       " [49, 35, 28, 34, 64, 52, 48, 61, 88, 53],\n",
       " [35, 34, 61, 48, 47, 78, 68, 65, 4, 93],\n",
       " [35, 49, 28, 52, 26, 88, 68, 48, 6, 47],\n",
       " [49, 31, 35, 28, 88, 26, 34, 41, 77, 42],\n",
       " [49, 35, 26, 48, 88, 31, 65, 68, 27, 64],\n",
       " [88, 75, 26, 90, 52, 28, 71, 31, 37, 59],\n",
       " [88, 35, 52, 60, 53, 31, 28, 34, 45, 25],\n",
       " [31, 49, 52, 26, 48, 34, 88, 28, 4, 61],\n",
       " [49, 35, 61, 34, 28, 88, 71, 68, 6, 45],\n",
       " [49, 53, 20, 45, 52, 64, 26, 88, 60, 27],\n",
       " [28, 31, 34, 52, 41, 26, 68, 60, 4, 53],\n",
       " [88, 61, 28, 52, 34, 26, 53, 45, 4, 40],\n",
       " [64, 49, 28, 34, 35, 45, 92, 61, 86, 32],\n",
       " [35, 26, 34, 31, 61, 88, 28, 68, 13, 53],\n",
       " [52, 53, 26, 61, 31, 28, 67, 47, 68, 88],\n",
       " [49, 28, 35, 31, 88, 53, 52, 37, 7, 65],\n",
       " [49, 26, 61, 88, 65, 60, 77, 68, 90, 40],\n",
       " [88, 49, 5, 26, 61, 34, 94, 28, 20, 53],\n",
       " [26, 28, 88, 53, 67, 65, 30, 55, 71, 6],\n",
       " [28, 34, 35, 26, 14, 4, 88, 52, 53, 61],\n",
       " [49, 67, 35, 34, 68, 27, 28, 52, 53, 5],\n",
       " [49, 52, 28, 35, 88, 26, 61, 20, 34, 47],\n",
       " [49, 53, 26, 10, 60, 52, 88, 34, 68, 30],\n",
       " [49, 31, 28, 52, 68, 9, 53, 30, 1, 7],\n",
       " [35, 88, 61, 34, 90, 48, 71, 27, 15, 55],\n",
       " [35, 28, 34, 52, 45, 16, 53, 61, 26, 9],\n",
       " [26, 35, 52, 88, 28, 64, 53, 34, 60, 33],\n",
       " [88, 35, 61, 26, 34, 48, 68, 9, 21, 96],\n",
       " [35, 52, 48, 67, 65, 13, 71, 75, 11, 69],\n",
       " [49, 35, 52, 28, 26, 30, 31, 68, 20, 55],\n",
       " [35, 49, 52, 31, 34, 68, 53, 60, 80, 2],\n",
       " [49, 52, 31, 61, 88, 34, 60, 28, 71, 16],\n",
       " [53, 31, 41, 47, 64, 71, 75, 48, 55, 45],\n",
       " [49, 35, 26, 88, 31, 61, 53, 90, 75, 6],\n",
       " [49, 34, 60, 88, 30, 61, 65, 45, 20, 64],\n",
       " [35, 26, 49, 61, 43, 31, 88, 60, 11, 48],\n",
       " [53, 49, 52, 26, 31, 28, 88, 30, 17, 90],\n",
       " [88, 34, 31, 61, 30, 67, 68, 41, 45, 64],\n",
       " [49, 88, 53, 52, 61, 68, 34, 27, 75, 28],\n",
       " [49, 14, 35, 93, 31, 59, 71, 64, 27, 52],\n",
       " [28, 52, 60, 88, 53, 34, 64, 67, 55, 30],\n",
       " [49, 35, 77, 34, 31, 26, 67, 52, 53, 55],\n",
       " [28, 31, 88, 35, 53, 26, 6, 13, 20, 71],\n",
       " [88, 49, 46, 31, 48, 61, 52, 67, 84, 80],\n",
       " [68, 52, 88, 49, 16, 6, 90, 75, 53, 76],\n",
       " [61, 96, 31, 66, 88, 34, 37, 52, 41, 98],\n",
       " [88, 26, 35, 61, 67, 64, 75, 68, 48, 71],\n",
       " [52, 34, 48, 88, 65, 61, 75, 67, 71, 27],\n",
       " [49, 88, 61, 31, 67, 26, 52, 35, 30, 25],\n",
       " [49, 28, 71, 31, 26, 92, 88, 30, 68, 52],\n",
       " [49, 26, 34, 88, 28, 60, 67, 97, 36, 16],\n",
       " [49, 30, 61, 88, 53, 52, 34, 67, 71, 64],\n",
       " [35, 88, 67, 52, 48, 28, 68, 71, 17, 39],\n",
       " [88, 49, 26, 38, 35, 20, 10, 52, 61, 53],\n",
       " [35, 68, 52, 26, 53, 60, 88, 34, 48, 30],\n",
       " [88, 53, 61, 34, 28, 52, 67, 30, 7, 92],\n",
       " [49, 31, 28, 61, 60, 48, 71, 30, 20, 29],\n",
       " [49, 88, 35, 31, 61, 26, 68, 64, 5, 11],\n",
       " [26, 49, 53, 34, 88, 30, 67, 19, 48, 80],\n",
       " [49, 31, 35, 88, 68, 34, 64, 26, 92, 28],\n",
       " [68, 52, 49, 26, 88, 22, 65, 75, 64, 47],\n",
       " [52, 88, 35, 28, 20, 30, 5, 48, 34, 67],\n",
       " [88, 26, 61, 35, 34, 67, 28, 69, 19, 25],\n",
       " [88, 35, 26, 63, 87, 28, 86, 61, 34, 31],\n",
       " [49, 35, 52, 17, 14, 26, 86, 34, 28, 90],\n",
       " [88, 31, 26, 28, 71, 53, 20, 47, 82, 63],\n",
       " [49, 35, 26, 31, 28, 88, 71, 61, 34, 64],\n",
       " [61, 35, 26, 53, 88, 67, 38, 60, 48, 39],\n",
       " [49, 52, 34, 26, 45, 31, 88, 18, 60, 75],\n",
       " [34, 67, 49, 31, 88, 28, 4, 53, 52, 68],\n",
       " [49, 68, 88, 34, 52, 61, 71, 60, 13, 53],\n",
       " [34, 49, 88, 53, 26, 48, 61, 67, 20, 68],\n",
       " [28, 35, 31, 34, 53, 68, 46, 41, 65, 88],\n",
       " [49, 31, 26, 34, 28, 16, 52, 22, 53, 88],\n",
       " [61, 88, 31, 71, 35, 34, 48, 92, 53, 90],\n",
       " [28, 52, 35, 26, 88, 68, 38, 41, 25, 80],\n",
       " [67, 88, 61, 35, 49, 22, 91, 87, 17, 28],\n",
       " [35, 34, 61, 88, 68, 71, 65, 52, 64, 46],\n",
       " [28, 31, 52, 34, 65, 88, 61, 41, 4, 8],\n",
       " [49, 34, 35, 88, 26, 20, 61, 64, 71, 77],\n",
       " [49, 35, 88, 60, 28, 52, 68, 53, 71, 7],\n",
       " [64, 52, 31, 61, 88, 26, 68, 60, 90, 67],\n",
       " [49, 26, 35, 53, 52, 79, 34, 30, 84, 76],\n",
       " [49, 34, 35, 52, 26, 28, 88, 65, 20, 12],\n",
       " [49, 52, 28, 26, 88, 34, 35, 45, 25, 31],\n",
       " [52, 49, 61, 88, 35, 28, 45, 34, 31, 53],\n",
       " [26, 31, 88, 48, 52, 53, 61, 67, 44, 92],\n",
       " [49, 26, 31, 34, 25, 35, 53, 88, 55, 64],\n",
       " [88, 31, 26, 52, 71, 35, 34, 53, 68, 58],\n",
       " [28, 31, 34, 88, 45, 68, 48, 52, 64, 67],\n",
       " [28, 53, 64, 31, 88, 18, 48, 26, 52, 68],\n",
       " [35, 28, 88, 49, 26, 31, 61, 9, 4, 24],\n",
       " [49, 35, 31, 34, 88, 55, 52, 26, 68, 77],\n",
       " [35, 49, 31, 28, 88, 71, 67, 61, 68, 75],\n",
       " [49, 28, 35, 34, 31, 14, 64, 7, 26, 88],\n",
       " [26, 35, 31, 88, 34, 67, 11, 25, 14, 52],\n",
       " [88, 49, 92, 45, 53, 67, 64, 48, 71, 28],\n",
       " [30, 26, 34, 31, 48, 35, 60, 55, 68, 64],\n",
       " [49, 88, 26, 35, 30, 71, 13, 65, 48, 82],\n",
       " [49, 31, 35, 28, 26, 71, 75, 46, 22, 80],\n",
       " [88, 67, 49, 61, 48, 34, 94, 6, 52, 45],\n",
       " [49, 34, 35, 68, 64, 61, 1, 88, 20, 71],\n",
       " [49, 35, 87, 75, 52, 74, 28, 64, 79, 61],\n",
       " [26, 28, 52, 68, 31, 45, 88, 14, 13, 20],\n",
       " [88, 49, 52, 65, 31, 17, 34, 48, 71, 40],\n",
       " [49, 35, 26, 30, 65, 88, 61, 75, 67, 6],\n",
       " [49, 35, 34, 28, 31, 61, 94, 80, 48, 75],\n",
       " [35, 26, 88, 28, 31, 7, 30, 48, 81, 17],\n",
       " [35, 31, 61, 45, 88, 34, 53, 64, 26, 67],\n",
       " [49, 31, 28, 88, 48, 35, 60, 26, 65, 68],\n",
       " [49, 28, 35, 34, 64, 88, 71, 60, 68, 25],\n",
       " [49, 61, 26, 88, 67, 64, 30, 71, 86, 19],\n",
       " [49, 28, 31, 88, 52, 61, 53, 48, 30, 67],\n",
       " [49, 67, 40, 26, 61, 35, 48, 34, 62, 30],\n",
       " [49, 88, 35, 61, 31, 90, 64, 28, 52, 92],\n",
       " [88, 49, 34, 67, 53, 52, 18, 20, 59, 60],\n",
       " [49, 28, 88, 48, 34, 65, 35, 26, 7, 14],\n",
       " [49, 26, 64, 88, 28, 35, 31, 52, 53, 24],\n",
       " [28, 49, 35, 26, 88, 41, 52, 6, 34, 60],\n",
       " [49, 35, 88, 31, 28, 61, 34, 92, 17, 65],\n",
       " [31, 52, 61, 71, 75, 91, 90, 3, 48, 95],\n",
       " [35, 49, 28, 52, 17, 30, 31, 20, 26, 68],\n",
       " [26, 35, 88, 67, 52, 34, 60, 5, 19, 30],\n",
       " [88, 35, 67, 31, 68, 34, 52, 25, 65, 38],\n",
       " [49, 88, 28, 68, 26, 48, 1, 31, 52, 92],\n",
       " [88, 97, 26, 35, 49, 92, 34, 52, 27, 76],\n",
       " [35, 49, 88, 34, 26, 28, 92, 55, 25, 98],\n",
       " [49, 52, 34, 26, 68, 28, 88, 4, 20, 71],\n",
       " [49, 61, 88, 35, 26, 34, 64, 48, 30, 52],\n",
       " [52, 35, 31, 30, 88, 48, 53, 68, 61, 60],\n",
       " [35, 26, 31, 61, 53, 48, 67, 2, 16, 11],\n",
       " [35, 88, 49, 53, 28, 31, 34, 65, 13, 52],\n",
       " [93, 49, 17, 52, 35, 87, 53, 95, 70, 71],\n",
       " [88, 26, 61, 35, 96, 97, 34, 31, 90, 95],\n",
       " [49, 26, 88, 68, 61, 52, 64, 5, 35, 45],\n",
       " [60, 35, 49, 26, 34, 52, 20, 88, 21, 12],\n",
       " [49, 61, 34, 20, 48, 41, 45, 52, 88, 47],\n",
       " [26, 35, 28, 64, 31, 88, 30, 60, 45, 13],\n",
       " [49, 88, 35, 34, 60, 71, 28, 31, 65, 19],\n",
       " [61, 88, 31, 53, 34, 55, 68, 48, 4, 90],\n",
       " [35, 52, 28, 88, 61, 25, 65, 20, 21, 71],\n",
       " [49, 88, 67, 35, 26, 31, 20, 92, 28, 60],\n",
       " [31, 49, 35, 28, 67, 61, 34, 26, 52, 37],\n",
       " [34, 35, 52, 26, 61, 48, 53, 5, 92, 36],\n",
       " [49, 61, 28, 67, 31, 26, 88, 34, 52, 6],\n",
       " [49, 61, 53, 31, 35, 52, 88, 34, 67, 44],\n",
       " [52, 30, 68, 61, 88, 6, 71, 53, 75, 84],\n",
       " [35, 49, 26, 28, 61, 88, 30, 71, 53, 64],\n",
       " [88, 61, 64, 75, 71, 6, 48, 93, 37, 82],\n",
       " [88, 28, 52, 61, 34, 41, 90, 53, 75, 71],\n",
       " [35, 28, 53, 88, 61, 34, 52, 60, 65, 54],\n",
       " [49, 35, 28, 31, 52, 26, 61, 48, 88, 7],\n",
       " [49, 52, 35, 31, 61, 88, 26, 65, 48, 20],\n",
       " [49, 88, 35, 26, 52, 67, 61, 48, 68, 13],\n",
       " [35, 71, 88, 28, 34, 61, 90, 26, 31, 92],\n",
       " [61, 88, 34, 31, 28, 52, 48, 18, 6, 84],\n",
       " [28, 35, 52, 26, 31, 88, 61, 55, 41, 60],\n",
       " [49, 65, 53, 88, 34, 35, 31, 60, 67, 30],\n",
       " [35, 31, 68, 26, 52, 88, 61, 69, 90, 75],\n",
       " [88, 49, 26, 35, 28, 82, 53, 90, 71, 94],\n",
       " [31, 67, 34, 61, 68, 88, 41, 48, 65, 37],\n",
       " [28, 35, 31, 49, 26, 61, 52, 97, 75, 72],\n",
       " [88, 61, 28, 52, 53, 60, 31, 68, 65, 64],\n",
       " [49, 34, 26, 88, 61, 31, 65, 4, 71, 1],\n",
       " [49, 35, 52, 88, 31, 68, 60, 54, 82, 9],\n",
       " [35, 60, 28, 34, 52, 68, 4, 88, 53, 25],\n",
       " [88, 30, 68, 60, 26, 28, 71, 41, 48, 47],\n",
       " [35, 49, 28, 41, 52, 34, 4, 88, 61, 86],\n",
       " [49, 35, 31, 34, 60, 61, 47, 28, 67, 53],\n",
       " [49, 28, 35, 61, 68, 53, 64, 88, 45, 55],\n",
       " [49, 52, 35, 28, 88, 34, 61, 31, 0, 26],\n",
       " [49, 26, 61, 31, 93, 64, 60, 28, 55, 76],\n",
       " [28, 65, 53, 35, 88, 34, 25, 64, 48, 30],\n",
       " [26, 49, 88, 53, 35, 92, 60, 61, 34, 48],\n",
       " [88, 49, 92, 32, 61, 34, 28, 31, 84, 3],\n",
       " [48, 35, 61, 52, 88, 20, 60, 64, 71, 47],\n",
       " [26, 64, 53, 61, 67, 52, 13, 48, 38, 71],\n",
       " [35, 49, 26, 34, 16, 52, 31, 25, 88, 20],\n",
       " [17, 49, 86, 79, 87, 88, 93, 35, 26, 61],\n",
       " [61, 49, 52, 88, 34, 60, 68, 37, 92, 25],\n",
       " [88, 49, 31, 13, 65, 71, 37, 53, 68, 75],\n",
       " [49, 35, 31, 34, 88, 28, 52, 64, 92, 6],\n",
       " [52, 35, 88, 28, 34, 48, 53, 5, 55, 84],\n",
       " [31, 26, 88, 53, 28, 16, 61, 84, 71, 75],\n",
       " [49, 34, 35, 56, 26, 32, 43, 88, 8, 45],\n",
       " [28, 26, 64, 31, 88, 25, 20, 41, 61, 12],\n",
       " [35, 52, 28, 88, 61, 60, 68, 53, 38, 20],\n",
       " [26, 88, 49, 71, 84, 28, 35, 52, 48, 99],\n",
       " [49, 26, 34, 37, 35, 60, 5, 61, 28, 67],\n",
       " [49, 31, 88, 35, 26, 10, 7, 1, 61, 65],\n",
       " [49, 88, 31, 35, 26, 52, 61, 53, 11, 84],\n",
       " [35, 49, 61, 88, 31, 87, 34, 60, 53, 90],\n",
       " [49, 34, 35, 65, 92, 10, 55, 71, 18, 36],\n",
       " [88, 26, 34, 53, 28, 61, 71, 65, 48, 44],\n",
       " [34, 88, 35, 52, 48, 0, 31, 14, 26, 47],\n",
       " [88, 61, 31, 96, 34, 52, 71, 26, 90, 68],\n",
       " [88, 49, 52, 53, 26, 31, 28, 64, 21, 61],\n",
       " [49, 52, 28, 35, 53, 60, 47, 67, 41, 7],\n",
       " [49, 26, 28, 88, 34, 31, 61, 60, 14, 55],\n",
       " [49, 26, 34, 53, 60, 68, 55, 35, 61, 47],\n",
       " [61, 49, 52, 31, 4, 88, 30, 68, 67, 45],\n",
       " [26, 28, 4, 88, 61, 65, 67, 53, 68, 13],\n",
       " [34, 28, 35, 26, 88, 67, 52, 61, 20, 12],\n",
       " [49, 35, 88, 26, 68, 67, 48, 28, 64, 17],\n",
       " [49, 88, 30, 35, 20, 31, 52, 48, 65, 71],\n",
       " [26, 49, 68, 88, 64, 65, 52, 28, 67, 53],\n",
       " [49, 52, 90, 35, 87, 93, 70, 83, 97, 34],\n",
       " [35, 88, 34, 68, 20, 82, 48, 67, 65, 71],\n",
       " [88, 82, 71, 99, 49, 34, 52, 90, 35, 67],\n",
       " [49, 35, 31, 88, 28, 60, 52, 61, 7, 64],\n",
       " [52, 49, 31, 28, 35, 88, 61, 55, 67, 34],\n",
       " [28, 26, 31, 20, 60, 88, 71, 30, 92, 16],\n",
       " [49, 53, 88, 26, 28, 68, 48, 30, 61, 77],\n",
       " [52, 35, 34, 68, 28, 55, 4, 92, 65, 71],\n",
       " [35, 49, 88, 31, 64, 61, 28, 18, 53, 71],\n",
       " [26, 61, 67, 31, 88, 35, 41, 30, 53, 42],\n",
       " [31, 35, 88, 49, 75, 48, 52, 28, 64, 70],\n",
       " [88, 27, 35, 47, 61, 67, 31, 62, 52, 12],\n",
       " [35, 49, 52, 88, 34, 90, 86, 77, 14, 38],\n",
       " [49, 26, 28, 35, 88, 34, 75, 31, 52, 69],\n",
       " [26, 88, 31, 34, 68, 67, 28, 52, 71, 96],\n",
       " [49, 45, 26, 28, 10, 34, 31, 30, 67, 88],\n",
       " [31, 52, 35, 28, 26, 34, 88, 19, 4, 65],\n",
       " [28, 34, 35, 53, 52, 48, 65, 30, 14, 4],\n",
       " [49, 26, 31, 71, 86, 67, 34, 52, 77, 33],\n",
       " [49, 28, 68, 88, 52, 34, 10, 75, 53, 67],\n",
       " [26, 28, 88, 53, 49, 34, 52, 21, 25, 48],\n",
       " [61, 35, 34, 88, 49, 26, 31, 53, 30, 67],\n",
       " [49, 35, 28, 88, 61, 31, 68, 34, 65, 75],\n",
       " [28, 34, 31, 52, 48, 88, 65, 53, 41, 47],\n",
       " [26, 30, 49, 48, 64, 52, 45, 60, 80, 88],\n",
       " [49, 88, 28, 35, 1, 26, 65, 61, 52, 34],\n",
       " [52, 35, 28, 61, 88, 67, 13, 68, 24, 11],\n",
       " [35, 88, 34, 26, 28, 48, 33, 45, 11, 52],\n",
       " [88, 28, 34, 60, 48, 71, 53, 75, 51, 42],\n",
       " [61, 31, 6, 60, 52, 26, 53, 88, 15, 80],\n",
       " [49, 34, 26, 25, 61, 31, 88, 15, 80, 96],\n",
       " [26, 88, 67, 28, 31, 6, 41, 68, 70, 97],\n",
       " [49, 52, 88, 65, 68, 31, 92, 28, 71, 37],\n",
       " [35, 61, 52, 31, 28, 34, 30, 67, 64, 38],\n",
       " [35, 88, 53, 28, 31, 61, 34, 71, 75, 60],\n",
       " [49, 35, 52, 67, 26, 28, 34, 68, 48, 96],\n",
       " [26, 75, 49, 28, 68, 35, 61, 34, 1, 73],\n",
       " [88, 92, 68, 71, 75, 17, 60, 27, 41, 96],\n",
       " [49, 28, 26, 31, 88, 61, 52, 12, 13, 25],\n",
       " [49, 34, 31, 48, 28, 20, 64, 61, 71, 53],\n",
       " [35, 28, 52, 53, 34, 30, 48, 71, 96, 41],\n",
       " [52, 34, 30, 26, 20, 88, 53, 64, 4, 68],\n",
       " [49, 35, 68, 88, 26, 61, 52, 48, 41, 17],\n",
       " [35, 31, 88, 52, 28, 53, 61, 71, 25, 38],\n",
       " [49, 35, 93, 31, 28, 52, 34, 0, 76, 9],\n",
       " [88, 35, 31, 28, 61, 34, 90, 71, 52, 92],\n",
       " [49, 61, 48, 26, 88, 31, 90, 67, 79, 7],\n",
       " [35, 28, 49, 61, 52, 31, 26, 67, 38, 70],\n",
       " [49, 48, 65, 88, 60, 53, 34, 52, 71, 4],\n",
       " [88, 49, 35, 31, 53, 47, 52, 34, 28, 92],\n",
       " [49, 41, 61, 88, 99, 53, 60, 77, 31, 84],\n",
       " [88, 35, 49, 71, 94, 24, 90, 93, 61, 50],\n",
       " [88, 26, 67, 28, 92, 75, 35, 34, 68, 89],\n",
       " [88, 61, 35, 31, 71, 26, 93, 52, 92, 76],\n",
       " [26, 52, 88, 31, 61, 34, 28, 60, 48, 20],\n",
       " [49, 28, 52, 35, 60, 26, 45, 34, 31, 5],\n",
       " [34, 67, 52, 68, 28, 88, 65, 53, 11, 4],\n",
       " [26, 31, 61, 68, 30, 34, 35, 28, 88, 64],\n",
       " [28, 64, 88, 41, 60, 47, 30, 96, 37, 33],\n",
       " [49, 35, 34, 88, 31, 26, 68, 52, 6, 61],\n",
       " [31, 26, 34, 52, 28, 88, 68, 20, 67, 55],\n",
       " [35, 26, 88, 30, 52, 34, 37, 80, 75, 53],\n",
       " [49, 26, 28, 35, 88, 31, 41, 61, 20, 48],\n",
       " [35, 61, 49, 52, 64, 10, 53, 87, 34, 27],\n",
       " [35, 49, 26, 34, 68, 28, 11, 20, 88, 5],\n",
       " [88, 61, 35, 92, 90, 0, 75, 71, 70, 68],\n",
       " [49, 61, 42, 31, 75, 86, 45, 20, 8, 71],\n",
       " [49, 31, 88, 34, 35, 68, 67, 61, 71, 25],\n",
       " [49, 34, 35, 28, 82, 31, 52, 77, 20, 75],\n",
       " [49, 34, 26, 31, 88, 61, 38, 28, 37, 68],\n",
       " [88, 35, 67, 71, 26, 98, 59, 29, 74, 28],\n",
       " [35, 49, 61, 71, 30, 68, 65, 73, 76, 53],\n",
       " [49, 35, 34, 30, 68, 88, 52, 28, 53, 6],\n",
       " [49, 26, 31, 52, 34, 60, 68, 93, 53, 3],\n",
       " [61, 26, 88, 68, 35, 34, 48, 53, 64, 45],\n",
       " [28, 34, 31, 52, 88, 67, 53, 30, 45, 68],\n",
       " [26, 88, 31, 52, 84, 48, 28, 30, 71, 40],\n",
       " [35, 28, 53, 52, 64, 31, 41, 68, 61, 48],\n",
       " [35, 26, 52, 88, 33, 7, 28, 10, 71, 9],\n",
       " [49, 35, 26, 28, 34, 4, 90, 50, 61, 88],\n",
       " [31, 88, 49, 7, 52, 11, 71, 53, 61, 68],\n",
       " [35, 31, 52, 34, 28, 17, 60, 65, 92, 47],\n",
       " [35, 49, 34, 26, 88, 65, 20, 53, 71, 11],\n",
       " [35, 49, 52, 90, 28, 68, 67, 71, 39, 81],\n",
       " [49, 35, 28, 31, 26, 61, 55, 65, 13, 38],\n",
       " [34, 88, 52, 28, 61, 31, 68, 84, 55, 65],\n",
       " [49, 35, 48, 34, 26, 90, 53, 61, 28, 52],\n",
       " [52, 26, 34, 53, 88, 30, 64, 68, 67, 38],\n",
       " [35, 34, 68, 53, 61, 64, 67, 30, 52, 47],\n",
       " [49, 88, 35, 20, 52, 28, 41, 68, 90, 40],\n",
       " [35, 88, 49, 34, 26, 65, 52, 14, 53, 10],\n",
       " [49, 88, 67, 35, 61, 31, 52, 90, 53, 65],\n",
       " [52, 26, 68, 28, 67, 88, 53, 60, 71, 25],\n",
       " [49, 35, 26, 52, 34, 28, 88, 61, 30, 20],\n",
       " [26, 88, 65, 60, 52, 35, 90, 75, 1, 84],\n",
       " [49, 31, 52, 28, 34, 61, 53, 71, 32, 43],\n",
       " [88, 35, 31, 49, 67, 61, 28, 26, 6, 34],\n",
       " [35, 26, 49, 88, 4, 31, 52, 53, 28, 39],\n",
       " [26, 28, 80, 64, 97, 30, 52, 76, 60, 20],\n",
       " [34, 52, 53, 88, 61, 31, 39, 48, 10, 65],\n",
       " [35, 49, 31, 34, 67, 52, 53, 16, 61, 10],\n",
       " [35, 88, 31, 52, 47, 53, 61, 28, 67, 48],\n",
       " [49, 35, 31, 88, 34, 52, 67, 48, 71, 44],\n",
       " [52, 31, 45, 64, 88, 53, 60, 71, 48, 12],\n",
       " [35, 49, 61, 28, 88, 34, 31, 68, 20, 53],\n",
       " [88, 49, 26, 61, 5, 35, 31, 79, 0, 90],\n",
       " [49, 35, 52, 64, 28, 30, 67, 88, 25, 45],\n",
       " [34, 26, 28, 88, 68, 31, 61, 47, 48, 12],\n",
       " [35, 88, 61, 31, 26, 53, 48, 90, 55, 20],\n",
       " [49, 88, 52, 28, 35, 61, 37, 31, 48, 7],\n",
       " [31, 26, 88, 61, 35, 34, 60, 30, 10, 9],\n",
       " [49, 52, 26, 68, 67, 88, 61, 11, 48, 28],\n",
       " [49, 53, 35, 28, 31, 88, 30, 26, 68, 71],\n",
       " [35, 49, 26, 31, 6, 61, 4, 28, 68, 75],\n",
       " [49, 35, 28, 88, 20, 34, 52, 61, 16, 45],\n",
       " [61, 88, 49, 18, 35, 12, 31, 77, 28, 80],\n",
       " [88, 48, 30, 61, 84, 28, 75, 65, 71, 90],\n",
       " [49, 26, 31, 4, 35, 67, 68, 61, 88, 25],\n",
       " [49, 88, 52, 26, 31, 28, 35, 67, 45, 75],\n",
       " [34, 88, 68, 48, 14, 53, 67, 71, 17, 37],\n",
       " [26, 61, 28, 35, 71, 48, 68, 41, 99, 75],\n",
       " [35, 26, 31, 60, 34, 53, 28, 52, 36, 65],\n",
       " [49, 28, 35, 45, 31, 88, 53, 80, 71, 4],\n",
       " [49, 88, 61, 31, 55, 52, 65, 48, 53, 67],\n",
       " [26, 80, 88, 52, 67, 71, 34, 68, 75, 16],\n",
       " [61, 28, 88, 31, 48, 34, 53, 52, 87, 18],\n",
       " [88, 35, 52, 68, 53, 31, 67, 90, 65, 20],\n",
       " [49, 28, 53, 60, 12, 88, 67, 7, 77, 21],\n",
       " [34, 49, 26, 61, 52, 22, 31, 37, 9, 65],\n",
       " [48, 28, 88, 52, 65, 31, 34, 60, 14, 96],\n",
       " [49, 35, 88, 28, 26, 68, 52, 61, 71, 80],\n",
       " [49, 28, 53, 88, 61, 52, 48, 0, 65, 70],\n",
       " [88, 31, 61, 35, 52, 48, 68, 71, 60, 46],\n",
       " [49, 28, 88, 35, 71, 26, 93, 98, 43, 67],\n",
       " [49, 88, 35, 34, 53, 47, 59, 52, 26, 92],\n",
       " [88, 49, 87, 36, 61, 90, 31, 43, 52, 79],\n",
       " [52, 26, 35, 34, 53, 61, 4, 25, 79, 60],\n",
       " [49, 31, 88, 26, 34, 28, 61, 45, 27, 30],\n",
       " [88, 49, 52, 30, 31, 68, 53, 20, 75, 61],\n",
       " [49, 35, 60, 52, 88, 48, 53, 30, 16, 80],\n",
       " [35, 49, 26, 88, 20, 45, 71, 47, 67, 9],\n",
       " [88, 49, 26, 31, 46, 61, 38, 95, 28, 54],\n",
       " [4, 35, 6, 88, 52, 28, 17, 30, 94, 12],\n",
       " [49, 76, 91, 71, 52, 26, 81, 34, 68, 90],\n",
       " [49, 88, 31, 52, 35, 34, 26, 61, 20, 19],\n",
       " [34, 88, 49, 67, 35, 64, 61, 29, 9, 10],\n",
       " [49, 52, 28, 88, 26, 53, 68, 16, 71, 7],\n",
       " [34, 49, 52, 88, 61, 68, 64, 18, 13, 48],\n",
       " [49, 88, 35, 26, 34, 53, 39, 61, 60, 46],\n",
       " [49, 35, 26, 53, 21, 34, 52, 30, 41, 25],\n",
       " [49, 35, 31, 48, 88, 34, 53, 70, 26, 71],\n",
       " [49, 31, 64, 28, 34, 61, 52, 67, 20, 13],\n",
       " [61, 26, 70, 49, 52, 35, 67, 34, 86, 31],\n",
       " [88, 49, 31, 28, 76, 1, 86, 84, 70, 98],\n",
       " [49, 35, 52, 26, 88, 48, 25, 53, 92, 9],\n",
       " [49, 35, 0, 31, 88, 75, 26, 71, 48, 1],\n",
       " [88, 61, 26, 77, 68, 34, 92, 89, 53, 82],\n",
       " [49, 35, 31, 88, 67, 71, 26, 28, 44, 48],\n",
       " [88, 35, 49, 31, 53, 26, 68, 34, 48, 70],\n",
       " [49, 35, 31, 34, 25, 67, 13, 37, 71, 16],\n",
       " [34, 48, 88, 31, 52, 71, 61, 68, 1, 65],\n",
       " [35, 31, 68, 88, 61, 71, 20, 53, 84, 41],\n",
       " [26, 88, 35, 52, 28, 31, 68, 6, 17, 55],\n",
       " [52, 68, 31, 28, 88, 48, 71, 53, 67, 65],\n",
       " [88, 75, 26, 67, 60, 52, 70, 5, 65, 90],\n",
       " [88, 96, 75, 67, 35, 48, 95, 87, 28, 43],\n",
       " [35, 28, 26, 20, 67, 53, 88, 71, 48, 41],\n",
       " [88, 49, 35, 61, 31, 26, 37, 52, 11, 34],\n",
       " [49, 60, 26, 68, 35, 28, 52, 64, 33, 80],\n",
       " [49, 26, 35, 88, 52, 61, 68, 90, 93, 74],\n",
       " [35, 61, 88, 49, 67, 34, 28, 26, 31, 48],\n",
       " [49, 31, 28, 34, 35, 68, 52, 67, 77, 53],\n",
       " [35, 31, 52, 48, 26, 88, 53, 71, 64, 47],\n",
       " [35, 49, 26, 31, 28, 48, 65, 34, 53, 80],\n",
       " [88, 5, 49, 28, 26, 35, 52, 31, 44, 92],\n",
       " [49, 35, 31, 88, 34, 28, 61, 53, 27, 71],\n",
       " [49, 7, 61, 34, 35, 17, 31, 88, 45, 96],\n",
       " [49, 28, 52, 31, 88, 60, 66, 53, 90, 17],\n",
       " [35, 28, 20, 31, 68, 34, 25, 88, 48, 55],\n",
       " [35, 52, 28, 88, 30, 68, 67, 47, 20, 53],\n",
       " [49, 53, 28, 31, 68, 67, 88, 65, 45, 13],\n",
       " [49, 26, 30, 35, 28, 45, 88, 61, 55, 1],\n",
       " [31, 49, 61, 88, 34, 28, 26, 67, 48, 53],\n",
       " [88, 34, 52, 61, 79, 28, 31, 70, 89, 73],\n",
       " [49, 35, 48, 17, 61, 88, 53, 34, 68, 26],\n",
       " [35, 31, 48, 88, 61, 26, 28, 52, 68, 71],\n",
       " [49, 35, 48, 26, 53, 64, 88, 65, 71, 47],\n",
       " [49, 35, 48, 41, 60, 53, 5, 65, 34, 31],\n",
       " [49, 31, 34, 68, 71, 67, 52, 48, 28, 64],\n",
       " [52, 34, 31, 88, 35, 28, 53, 67, 5, 75],\n",
       " [49, 34, 28, 52, 88, 20, 61, 31, 48, 53],\n",
       " [49, 26, 35, 64, 30, 60, 52, 31, 65, 88],\n",
       " [65, 49, 52, 28, 26, 18, 55, 71, 40, 7],\n",
       " [49, 91, 65, 28, 97, 35, 92, 31, 53, 64],\n",
       " [49, 88, 28, 35, 92, 26, 71, 25, 39, 75],\n",
       " [49, 35, 61, 28, 37, 67, 48, 90, 77, 6],\n",
       " [26, 49, 28, 61, 41, 34, 75, 68, 88, 60],\n",
       " [52, 35, 34, 26, 53, 28, 64, 31, 88, 86],\n",
       " [88, 49, 26, 28, 31, 61, 29, 99, 68, 91],\n",
       " [34, 35, 17, 31, 65, 88, 37, 53, 18, 67],\n",
       " [49, 28, 35, 10, 88, 1, 39, 26, 45, 60],\n",
       " [31, 26, 68, 35, 34, 41, 52, 33, 67, 88],\n",
       " [26, 49, 88, 52, 35, 28, 48, 55, 67, 41],\n",
       " [35, 26, 88, 31, 28, 71, 60, 61, 34, 39],\n",
       " [26, 49, 34, 88, 31, 53, 65, 48, 45, 75],\n",
       " [35, 49, 53, 64, 20, 61, 28, 60, 47, 52],\n",
       " [49, 52, 88, 26, 31, 35, 28, 34, 53, 60],\n",
       " [26, 90, 31, 88, 5, 52, 21, 35, 30, 34],\n",
       " [61, 26, 49, 47, 35, 48, 88, 19, 90, 22],\n",
       " [49, 34, 28, 61, 68, 64, 53, 71, 67, 45],\n",
       " [49, 26, 61, 52, 34, 48, 64, 41, 60, 68],\n",
       " [52, 28, 31, 88, 48, 61, 33, 0, 53, 62],\n",
       " [35, 88, 53, 31, 52, 30, 61, 67, 75, 12],\n",
       " [49, 61, 71, 31, 35, 26, 75, 53, 34, 13],\n",
       " [35, 88, 61, 28, 60, 30, 12, 47, 48, 0],\n",
       " [49, 88, 71, 26, 30, 28, 20, 1, 35, 34],\n",
       " [35, 49, 26, 52, 61, 31, 88, 65, 64, 60],\n",
       " [71, 89, 31, 61, 26, 52, 91, 35, 34, 28],\n",
       " [52, 34, 26, 53, 70, 71, 92, 67, 65, 0],\n",
       " [53, 30, 67, 28, 88, 64, 71, 47, 0, 92],\n",
       " [88, 49, 28, 34, 97, 86, 35, 31, 0, 95],\n",
       " [35, 26, 31, 34, 65, 4, 61, 88, 20, 47],\n",
       " [88, 53, 35, 26, 48, 68, 65, 64, 92, 67],\n",
       " [35, 88, 49, 26, 69, 31, 34, 5, 13, 90],\n",
       " [35, 26, 88, 49, 64, 34, 31, 4, 90, 17],\n",
       " [31, 52, 88, 26, 68, 30, 53, 65, 48, 67],\n",
       " [35, 28, 31, 26, 34, 45, 50, 38, 88, 25],\n",
       " [49, 52, 28, 31, 53, 68, 61, 60, 92, 9],\n",
       " [49, 35, 26, 61, 88, 31, 64, 44, 62, 12],\n",
       " [61, 26, 53, 88, 28, 64, 39, 67, 44, 4],\n",
       " [49, 34, 31, 88, 68, 61, 65, 45, 16, 60],\n",
       " [35, 68, 88, 30, 61, 92, 71, 45, 11, 84],\n",
       " [35, 88, 26, 31, 34, 71, 25, 61, 45, 20],\n",
       " [49, 68, 31, 52, 48, 67, 88, 65, 64, 30],\n",
       " [88, 26, 34, 28, 53, 72, 61, 60, 80, 94],\n",
       " [26, 75, 77, 76, 35, 28, 61, 52, 60, 22],\n",
       " [49, 88, 52, 31, 34, 75, 30, 67, 92, 71],\n",
       " [35, 26, 67, 60, 30, 53, 28, 34, 88, 19],\n",
       " [49, 26, 31, 34, 68, 52, 53, 4, 80, 45],\n",
       " [26, 67, 68, 53, 60, 11, 88, 71, 20, 4],\n",
       " [52, 31, 34, 28, 45, 38, 88, 68, 67, 53],\n",
       " [61, 31, 28, 34, 35, 45, 52, 88, 60, 20],\n",
       " [48, 92, 90, 80, 4, 75, 81, 60, 87, 19],\n",
       " [31, 28, 34, 88, 53, 90, 48, 92, 16, 45],\n",
       " [88, 28, 52, 67, 71, 31, 4, 61, 68, 18],\n",
       " [49, 88, 68, 35, 28, 52, 9, 92, 87, 37],\n",
       " [49, 34, 26, 88, 31, 60, 71, 61, 80, 30],\n",
       " [26, 88, 49, 28, 90, 52, 35, 71, 34, 61],\n",
       " [34, 52, 30, 48, 31, 61, 60, 12, 88, 38],\n",
       " [49, 52, 31, 34, 88, 26, 4, 61, 30, 65],\n",
       " [26, 49, 61, 34, 64, 31, 88, 67, 68, 54],\n",
       " [35, 26, 49, 71, 75, 98, 82, 61, 34, 31],\n",
       " [35, 49, 52, 41, 30, 31, 50, 64, 25, 37],\n",
       " [26, 49, 52, 61, 34, 88, 5, 6, 53, 68],\n",
       " [49, 28, 45, 31, 52, 88, 34, 35, 61, 38],\n",
       " [35, 80, 75, 61, 88, 34, 85, 31, 26, 72],\n",
       " [49, 26, 35, 34, 28, 20, 88, 25, 64, 71],\n",
       " [49, 35, 52, 34, 88, 61, 60, 68, 15, 5],\n",
       " [61, 53, 34, 26, 88, 71, 30, 64, 28, 68],\n",
       " [49, 88, 26, 35, 31, 18, 17, 28, 71, 8],\n",
       " [35, 28, 31, 52, 88, 61, 4, 26, 53, 80],\n",
       " [49, 35, 34, 82, 52, 3, 64, 99, 86, 28],\n",
       " [30, 35, 52, 34, 28, 68, 53, 67, 51, 77],\n",
       " [49, 53, 52, 31, 26, 34, 37, 88, 65, 48],\n",
       " [88, 28, 53, 34, 31, 65, 20, 16, 30, 64],\n",
       " [26, 34, 53, 35, 88, 61, 95, 82, 67, 75],\n",
       " [52, 88, 35, 28, 67, 68, 26, 30, 77, 48],\n",
       " [49, 16, 6, 34, 88, 30, 7, 61, 45, 90],\n",
       " [26, 85, 87, 35, 49, 9, 31, 64, 53, 66],\n",
       " [35, 6, 26, 88, 52, 49, 14, 68, 28, 11],\n",
       " [26, 28, 34, 61, 65, 88, 53, 67, 55, 68],\n",
       " [49, 67, 88, 26, 28, 34, 30, 48, 53, 44],\n",
       " [49, 28, 61, 35, 60, 88, 48, 68, 47, 20],\n",
       " [28, 35, 61, 88, 31, 68, 64, 67, 27, 71],\n",
       " [61, 88, 49, 35, 26, 30, 96, 91, 52, 4],\n",
       " [35, 61, 88, 34, 64, 45, 53, 65, 38, 54],\n",
       " [49, 26, 48, 88, 28, 12, 61, 52, 34, 71],\n",
       " [88, 49, 68, 52, 71, 60, 53, 30, 92, 67],\n",
       " [35, 49, 88, 28, 26, 61, 34, 4, 6, 12],\n",
       " [49, 28, 88, 35, 52, 80, 11, 68, 71, 26],\n",
       " [49, 34, 31, 61, 88, 53, 26, 52, 20, 92],\n",
       " [49, 53, 28, 31, 61, 26, 88, 11, 20, 7],\n",
       " [49, 28, 35, 34, 47, 52, 26, 61, 88, 77],\n",
       " [49, 20, 45, 65, 68, 25, 52, 88, 34, 28],\n",
       " [49, 31, 30, 35, 88, 52, 20, 45, 47, 63],\n",
       " [49, 61, 52, 35, 18, 88, 26, 38, 34, 31],\n",
       " [31, 61, 30, 64, 34, 53, 68, 65, 20, 67],\n",
       " [31, 49, 61, 88, 26, 48, 80, 71, 91, 53],\n",
       " [49, 34, 26, 88, 35, 60, 31, 38, 28, 52],\n",
       " [49, 26, 64, 31, 68, 34, 20, 10, 53, 84],\n",
       " [34, 26, 87, 1, 37, 52, 64, 0, 53, 40],\n",
       " [49, 88, 31, 61, 4, 35, 52, 67, 34, 28],\n",
       " [34, 28, 49, 35, 52, 64, 26, 31, 53, 45],\n",
       " [34, 49, 52, 35, 28, 53, 67, 88, 26, 65],\n",
       " [49, 35, 26, 88, 61, 34, 31, 52, 41, 68],\n",
       " [49, 88, 34, 55, 52, 31, 1, 96, 25, 48],\n",
       " [49, 52, 65, 88, 31, 60, 48, 25, 67, 4],\n",
       " [49, 28, 26, 61, 88, 25, 64, 35, 53, 34],\n",
       " [49, 88, 61, 39, 26, 52, 35, 60, 86, 53],\n",
       " [26, 88, 31, 48, 28, 71, 4, 75, 80, 53],\n",
       " [35, 88, 71, 61, 34, 52, 68, 75, 39, 84],\n",
       " [49, 88, 71, 42, 60, 28, 52, 34, 30, 76],\n",
       " [52, 34, 49, 28, 68, 4, 30, 67, 90, 88],\n",
       " [35, 28, 31, 88, 12, 41, 26, 52, 97, 45],\n",
       " [88, 49, 52, 34, 94, 68, 81, 53, 91, 93],\n",
       " [35, 31, 52, 64, 48, 26, 60, 67, 88, 0],\n",
       " [49, 35, 68, 52, 64, 48, 61, 53, 41, 88],\n",
       " [49, 35, 28, 48, 17, 88, 64, 68, 30, 55],\n",
       " [34, 35, 88, 67, 61, 52, 26, 68, 6, 11],\n",
       " [59, 49, 52, 9, 35, 32, 43, 67, 88, 68],\n",
       " [26, 49, 35, 71, 61, 60, 31, 52, 64, 51],\n",
       " [26, 35, 34, 53, 68, 61, 48, 64, 30, 22],\n",
       " [88, 49, 26, 48, 67, 70, 28, 52, 34, 25],\n",
       " [31, 26, 49, 61, 88, 52, 60, 67, 48, 71],\n",
       " [35, 15, 26, 61, 43, 17, 56, 2, 31, 34],\n",
       " [49, 28, 31, 52, 61, 60, 88, 9, 80, 95],\n",
       " [49, 67, 28, 31, 48, 53, 30, 68, 8, 70],\n",
       " [35, 49, 31, 61, 34, 88, 26, 30, 25, 22],\n",
       " [28, 35, 61, 52, 71, 81, 48, 92, 82, 80],\n",
       " [49, 88, 61, 26, 28, 34, 31, 60, 30, 55],\n",
       " [26, 61, 31, 52, 86, 88, 75, 4, 20, 12],\n",
       " [49, 53, 34, 88, 48, 35, 28, 31, 68, 24],\n",
       " [88, 67, 49, 26, 61, 31, 95, 75, 78, 92],\n",
       " [31, 48, 28, 61, 88, 14, 26, 19, 60, 25],\n",
       " [49, 28, 61, 31, 88, 25, 65, 17, 67, 68],\n",
       " [28, 34, 64, 31, 26, 52, 68, 88, 11, 55],\n",
       " [48, 26, 35, 67, 34, 88, 65, 92, 52, 4],\n",
       " [26, 49, 88, 20, 52, 28, 34, 45, 53, 12],\n",
       " [26, 49, 52, 35, 53, 67, 34, 68, 30, 88],\n",
       " [49, 53, 35, 52, 61, 31, 34, 11, 88, 60],\n",
       " [28, 35, 34, 26, 48, 64, 67, 88, 45, 30],\n",
       " [49, 26, 34, 68, 88, 31, 30, 52, 16, 61],\n",
       " [34, 53, 28, 26, 35, 88, 67, 13, 22, 92],\n",
       " [88, 35, 28, 61, 14, 93, 38, 44, 80, 39],\n",
       " [35, 52, 67, 61, 48, 26, 28, 68, 92, 40],\n",
       " [49, 28, 35, 30, 31, 52, 53, 12, 61, 55],\n",
       " [52, 88, 49, 4, 26, 61, 65, 71, 67, 69],\n",
       " [16, 26, 49, 88, 7, 12, 67, 53, 68, 15],\n",
       " [35, 68, 60, 52, 28, 6, 64, 88, 61, 31],\n",
       " [88, 34, 65, 35, 26, 71, 28, 90, 53, 17],\n",
       " [49, 92, 28, 35, 34, 96, 71, 48, 70, 93],\n",
       " [52, 88, 49, 31, 55, 67, 61, 68, 34, 1],\n",
       " [49, 48, 34, 31, 35, 13, 25, 30, 71, 96],\n",
       " [49, 48, 34, 52, 88, 31, 68, 30, 65, 47],\n",
       " [49, 31, 53, 52, 26, 28, 88, 34, 47, 60],\n",
       " [34, 28, 17, 61, 52, 90, 65, 60, 27, 53],\n",
       " [88, 52, 53, 61, 65, 68, 71, 67, 75, 20],\n",
       " [35, 26, 61, 28, 52, 67, 47, 68, 40, 75],\n",
       " [49, 35, 26, 34, 88, 65, 31, 60, 68, 9],\n",
       " [26, 35, 88, 53, 67, 28, 65, 41, 17, 4],\n",
       " [88, 28, 35, 30, 34, 61, 44, 77, 67, 15],\n",
       " [26, 64, 34, 61, 31, 88, 52, 60, 20, 5],\n",
       " [31, 30, 34, 68, 26, 88, 53, 65, 71, 92],\n",
       " [49, 35, 88, 31, 48, 77, 52, 89, 17, 26],\n",
       " [49, 26, 28, 35, 34, 84, 31, 61, 91, 52],\n",
       " [34, 31, 88, 61, 71, 67, 41, 30, 80, 46],\n",
       " [88, 49, 31, 35, 61, 34, 26, 47, 96, 67],\n",
       " [35, 49, 26, 61, 20, 88, 25, 52, 28, 48],\n",
       " [26, 53, 35, 88, 61, 34, 28, 30, 25, 6],\n",
       " [49, 61, 88, 26, 31, 53, 48, 80, 69, 15],\n",
       " [35, 52, 49, 26, 65, 88, 86, 68, 60, 53],\n",
       " [49, 28, 52, 35, 80, 67, 31, 45, 88, 91],\n",
       " [26, 49, 31, 30, 88, 28, 52, 25, 53, 64],\n",
       " [49, 35, 88, 53, 14, 31, 37, 52, 26, 33],\n",
       " [49, 52, 35, 34, 31, 88, 30, 20, 55, 68],\n",
       " [26, 88, 4, 52, 30, 61, 67, 41, 25, 71],\n",
       " [35, 49, 26, 68, 34, 88, 52, 31, 28, 67],\n",
       " [49, 31, 35, 26, 52, 34, 88, 28, 64, 30],\n",
       " [49, 35, 48, 34, 88, 13, 60, 10, 40, 53],\n",
       " [26, 88, 35, 67, 52, 30, 75, 64, 96, 71],\n",
       " [88, 31, 49, 61, 34, 12, 71, 11, 37, 48],\n",
       " [49, 88, 52, 31, 28, 26, 68, 48, 71, 53],\n",
       " [49, 88, 28, 10, 34, 67, 90, 45, 9, 54],\n",
       " [49, 52, 26, 88, 35, 60, 30, 90, 48, 1],\n",
       " [49, 34, 67, 43, 90, 60, 37, 21, 22, 68],\n",
       " [49, 67, 28, 61, 65, 68, 88, 10, 20, 71],\n",
       " [34, 52, 88, 35, 53, 67, 48, 4, 92, 90],\n",
       " [53, 49, 88, 31, 52, 55, 68, 34, 65, 30],\n",
       " [35, 28, 53, 48, 65, 47, 68, 25, 39, 88],\n",
       " [53, 67, 49, 35, 34, 31, 41, 88, 5, 70],\n",
       " [35, 26, 88, 61, 28, 71, 60, 38, 90, 42],\n",
       " [88, 31, 28, 30, 71, 68, 35, 53, 65, 39],\n",
       " [49, 31, 35, 88, 26, 4, 61, 34, 52, 28],\n",
       " [49, 26, 31, 48, 52, 25, 88, 37, 53, 61],\n",
       " [61, 49, 26, 35, 67, 60, 71, 28, 68, 81],\n",
       " [49, 26, 20, 88, 34, 60, 28, 64, 65, 79],\n",
       " [34, 88, 49, 35, 53, 30, 64, 48, 92, 0],\n",
       " [49, 52, 28, 35, 34, 65, 88, 20, 50, 84],\n",
       " [34, 35, 88, 28, 52, 67, 64, 68, 71, 76],\n",
       " [34, 52, 31, 49, 88, 26, 53, 80, 61, 60],\n",
       " [14, 49, 88, 67, 35, 12, 61, 31, 90, 96],\n",
       " [88, 48, 31, 67, 34, 26, 35, 60, 65, 53],\n",
       " [49, 68, 9, 34, 88, 54, 12, 71, 48, 60],\n",
       " [49, 61, 35, 48, 45, 10, 28, 44, 77, 8],\n",
       " [28, 34, 64, 31, 68, 61, 99, 65, 80, 2],\n",
       " [35, 28, 68, 88, 64, 65, 71, 53, 82, 60],\n",
       " [26, 30, 68, 64, 49, 48, 4, 74, 60, 81],\n",
       " [49, 31, 88, 61, 67, 28, 53, 18, 60, 26],\n",
       " [31, 34, 88, 26, 61, 52, 48, 35, 20, 92],\n",
       " [35, 52, 34, 68, 88, 47, 67, 53, 30, 48],\n",
       " [49, 35, 34, 52, 26, 88, 31, 28, 30, 51],\n",
       " [31, 49, 52, 35, 64, 67, 88, 75, 71, 60],\n",
       " [26, 34, 31, 28, 88, 52, 87, 53, 55, 90],\n",
       " [35, 88, 52, 49, 68, 67, 31, 33, 64, 34],\n",
       " [35, 26, 31, 61, 34, 28, 64, 71, 7, 30],\n",
       " [49, 34, 48, 26, 35, 61, 88, 10, 52, 28],\n",
       " [88, 61, 71, 26, 75, 30, 93, 76, 34, 84],\n",
       " [49, 31, 26, 28, 68, 60, 30, 41, 67, 88],\n",
       " [35, 26, 52, 88, 30, 48, 68, 25, 20, 19],\n",
       " [31, 34, 35, 61, 26, 88, 67, 53, 60, 55],\n",
       " [26, 49, 28, 52, 61, 34, 47, 77, 60, 46],\n",
       " [49, 28, 34, 26, 68, 61, 53, 52, 48, 22],\n",
       " [52, 35, 26, 88, 61, 53, 31, 68, 71, 75],\n",
       " [49, 34, 35, 31, 61, 88, 12, 29, 45, 3],\n",
       " [49, 26, 35, 31, 34, 52, 88, 64, 16, 25],\n",
       " [61, 88, 54, 26, 31, 34, 87, 28, 69, 86],\n",
       " [49, 53, 52, 88, 35, 48, 61, 34, 67, 28],\n",
       " [88, 49, 35, 31, 26, 60, 52, 84, 82, 24],\n",
       " [88, 35, 28, 31, 34, 77, 26, 1, 2, 75],\n",
       " [49, 35, 28, 48, 88, 31, 12, 61, 52, 30],\n",
       " [35, 49, 88, 28, 26, 92, 64, 71, 9, 75],\n",
       " [35, 49, 31, 68, 26, 61, 11, 28, 30, 77],\n",
       " [28, 65, 34, 26, 48, 30, 64, 88, 87, 79],\n",
       " [49, 35, 64, 34, 53, 60, 25, 20, 38, 30],\n",
       " [88, 18, 14, 49, 26, 61, 93, 31, 70, 28],\n",
       " [49, 35, 68, 88, 52, 26, 61, 28, 30, 31],\n",
       " [88, 26, 28, 84, 35, 67, 68, 52, 83, 82],\n",
       " [49, 34, 28, 52, 35, 31, 65, 88, 53, 13],\n",
       " [49, 26, 88, 52, 20, 30, 45, 28, 13, 31],\n",
       " [34, 52, 28, 88, 61, 68, 53, 64, 71, 48],\n",
       " [35, 67, 31, 34, 48, 52, 71, 30, 55, 68],\n",
       " [26, 48, 31, 61, 34, 1, 52, 67, 60, 41],\n",
       " [61, 35, 28, 34, 31, 88, 53, 30, 39, 4],\n",
       " [90, 26, 88, 35, 71, 75, 96, 28, 31, 84],\n",
       " [28, 49, 34, 53, 65, 60, 47, 67, 30, 88],\n",
       " [35, 61, 52, 34, 28, 26, 60, 68, 19, 17],\n",
       " [49, 88, 28, 35, 61, 31, 30, 52, 44, 55],\n",
       " [49, 52, 60, 88, 55, 71, 30, 48, 92, 77],\n",
       " [52, 49, 61, 35, 88, 28, 34, 25, 22, 86],\n",
       " [31, 26, 28, 34, 61, 52, 88, 48, 55, 9],\n",
       " [49, 35, 34, 61, 52, 53, 48, 45, 64, 25],\n",
       " [49, 34, 52, 31, 35, 68, 64, 61, 13, 53],\n",
       " [49, 28, 26, 35, 88, 34, 61, 52, 67, 44],\n",
       " [49, 88, 52, 38, 65, 75, 53, 41, 68, 7],\n",
       " [88, 35, 61, 65, 31, 92, 26, 28, 70, 71],\n",
       " [49, 26, 31, 88, 52, 68, 67, 80, 64, 4],\n",
       " [49, 52, 31, 67, 68, 35, 26, 80, 61, 88],\n",
       " [35, 52, 26, 28, 88, 31, 53, 68, 65, 25],\n",
       " [49, 26, 88, 34, 31, 52, 61, 60, 97, 28],\n",
       " [49, 35, 34, 28, 61, 68, 60, 86, 16, 67],\n",
       " [68, 35, 61, 88, 48, 53, 31, 45, 69, 13],\n",
       " [49, 88, 35, 28, 41, 26, 30, 48, 17, 52],\n",
       " [35, 49, 31, 52, 53, 67, 41, 88, 90, 28],\n",
       " [49, 35, 48, 31, 61, 71, 64, 44, 97, 77],\n",
       " [49, 31, 67, 52, 88, 48, 30, 71, 60, 64],\n",
       " [88, 49, 26, 61, 52, 98, 28, 5, 38, 2],\n",
       " [49, 31, 67, 28, 88, 34, 26, 52, 35, 65],\n",
       " [34, 60, 26, 65, 61, 88, 48, 90, 29, 47],\n",
       " [49, 26, 28, 31, 67, 30, 61, 60, 41, 84],\n",
       " [61, 31, 49, 88, 34, 52, 7, 37, 92, 26],\n",
       " [35, 49, 34, 52, 30, 31, 88, 61, 48, 28],\n",
       " [88, 34, 28, 61, 52, 80, 27, 94, 70, 67],\n",
       " [49, 88, 4, 35, 31, 28, 80, 20, 26, 48],\n",
       " [49, 61, 34, 88, 35, 28, 45, 90, 75, 17],\n",
       " [34, 49, 31, 88, 61, 48, 68, 26, 65, 55],\n",
       " [49, 88, 26, 28, 61, 31, 34, 52, 93, 64],\n",
       " [49, 26, 34, 52, 88, 61, 31, 21, 28, 67],\n",
       " [35, 26, 34, 28, 88, 52, 7, 48, 68, 60],\n",
       " [49, 30, 34, 35, 26, 31, 52, 88, 68, 28],\n",
       " [52, 88, 61, 53, 80, 48, 82, 64, 60, 86],\n",
       " [35, 26, 31, 49, 60, 84, 47, 28, 29, 4],\n",
       " [49, 28, 31, 52, 34, 26, 91, 76, 53, 48],\n",
       " [88, 49, 26, 34, 61, 48, 93, 35, 56, 67],\n",
       " [49, 67, 88, 61, 28, 35, 34, 31, 68, 52],\n",
       " [35, 31, 52, 88, 30, 92, 64, 71, 17, 55],\n",
       " [88, 23, 96, 8, 93, 56, 49, 67, 22, 3],\n",
       " [61, 28, 31, 26, 52, 48, 93, 47, 68, 54],\n",
       " [49, 53, 34, 68, 77, 52, 90, 61, 27, 25],\n",
       " [26, 49, 68, 52, 34, 35, 61, 33, 28, 71],\n",
       " [26, 67, 35, 88, 52, 61, 45, 30, 48, 10],\n",
       " [28, 31, 35, 88, 65, 4, 61, 53, 55, 45],\n",
       " [49, 31, 34, 35, 67, 52, 48, 68, 54, 80],\n",
       " [88, 49, 26, 67, 31, 52, 28, 61, 99, 66],\n",
       " [49, 31, 52, 35, 48, 47, 28, 88, 37, 90],\n",
       " [28, 34, 35, 61, 88, 52, 48, 64, 67, 30],\n",
       " [35, 49, 60, 26, 52, 61, 41, 65, 88, 4],\n",
       " [34, 31, 28, 30, 71, 52, 47, 75, 82, 6],\n",
       " [35, 49, 31, 88, 26, 52, 70, 14, 28, 37],\n",
       " [49, 35, 52, 88, 26, 60, 61, 65, 17, 11],\n",
       " [49, 30, 28, 31, 68, 61, 34, 54, 92, 75],\n",
       " [49, 35, 88, 52, 28, 31, 25, 61, 6, 34],\n",
       " [61, 49, 26, 34, 35, 88, 2, 31, 11, 16],\n",
       " [31, 61, 34, 47, 26, 35, 88, 28, 53, 11],\n",
       " [49, 26, 61, 88, 52, 67, 65, 48, 22, 90],\n",
       " [31, 35, 49, 26, 55, 52, 68, 88, 47, 34],\n",
       " [26, 49, 52, 88, 31, 4, 60, 34, 68, 38],\n",
       " [49, 88, 52, 31, 60, 65, 53, 45, 2, 80],\n",
       " [34, 35, 67, 30, 61, 68, 13, 75, 71, 72],\n",
       " [35, 28, 26, 61, 6, 88, 64, 68, 48, 9],\n",
       " [88, 26, 49, 96, 80, 34, 31, 48, 92, 52],\n",
       " [49, 88, 28, 26, 31, 34, 68, 71, 61, 82],\n",
       " [49, 31, 35, 28, 88, 61, 47, 26, 71, 53],\n",
       " [49, 67, 88, 35, 31, 18, 87, 34, 30, 28],\n",
       " [26, 35, 34, 28, 67, 14, 68, 6, 11, 92],\n",
       " [35, 53, 26, 52, 88, 30, 60, 67, 13, 71],\n",
       " [52, 35, 34, 68, 11, 88, 48, 53, 30, 64],\n",
       " [88, 35, 26, 60, 75, 28, 80, 31, 48, 30],\n",
       " [49, 26, 52, 88, 28, 61, 64, 34, 48, 92],\n",
       " [49, 34, 31, 28, 60, 75, 77, 67, 65, 92],\n",
       " [88, 71, 49, 35, 31, 61, 34, 77, 60, 76],\n",
       " [61, 31, 49, 47, 88, 65, 67, 87, 52, 90],\n",
       " [49, 65, 60, 28, 30, 34, 20, 88, 46, 68],\n",
       " [88, 26, 60, 71, 75, 31, 61, 53, 64, 84],\n",
       " [35, 88, 31, 61, 26, 68, 60, 91, 30, 67],\n",
       " [49, 35, 26, 28, 52, 61, 53, 88, 31, 41],\n",
       " [53, 31, 64, 68, 88, 30, 35, 52, 67, 48],\n",
       " [35, 61, 64, 48, 88, 30, 28, 60, 65, 45],\n",
       " [49, 26, 35, 41, 53, 48, 61, 88, 39, 33],\n",
       " [28, 35, 88, 53, 61, 31, 68, 8, 30, 48],\n",
       " [49, 53, 88, 67, 26, 61, 31, 52, 46, 28],\n",
       " [35, 60, 31, 61, 30, 88, 11, 5, 65, 48],\n",
       " [49, 35, 53, 26, 48, 88, 60, 65, 28, 77],\n",
       " [65, 35, 53, 34, 13, 67, 31, 88, 90, 81],\n",
       " [31, 48, 88, 45, 65, 68, 20, 12, 41, 46],\n",
       " [52, 35, 88, 20, 64, 26, 31, 61, 53, 34],\n",
       " [49, 35, 88, 26, 31, 48, 41, 20, 71, 44],\n",
       " [49, 61, 35, 26, 71, 84, 28, 52, 24, 4],\n",
       " [35, 34, 31, 88, 71, 30, 25, 64, 20, 67],\n",
       " [35, 26, 52, 34, 28, 30, 88, 53, 67, 60],\n",
       " [28, 65, 35, 68, 67, 34, 53, 38, 84, 11],\n",
       " [88, 49, 34, 26, 52, 93, 15, 53, 68, 55],\n",
       " [26, 28, 61, 88, 38, 90, 27, 30, 48, 20],\n",
       " [26, 28, 34, 52, 61, 67, 48, 94, 53, 30],\n",
       " [28, 49, 35, 52, 26, 64, 48, 30, 25, 61],\n",
       " [88, 34, 26, 31, 38, 35, 65, 60, 41, 52],\n",
       " [53, 52, 35, 26, 61, 31, 4, 77, 30, 41],\n",
       " [49, 31, 52, 88, 61, 68, 20, 35, 30, 34],\n",
       " [88, 35, 31, 28, 86, 52, 67, 48, 75, 64],\n",
       " [88, 49, 26, 61, 35, 28, 67, 34, 31, 64],\n",
       " [34, 31, 53, 26, 67, 86, 60, 92, 52, 0],\n",
       " [49, 31, 28, 44, 34, 52, 35, 27, 88, 53],\n",
       " [49, 35, 26, 61, 88, 34, 68, 53, 28, 47],\n",
       " [49, 88, 52, 53, 48, 68, 28, 61, 67, 34],\n",
       " [49, 31, 34, 60, 88, 35, 28, 47, 67, 25],\n",
       " [52, 48, 34, 88, 28, 26, 35, 55, 96, 71],\n",
       " [49, 34, 52, 28, 88, 61, 75, 71, 18, 55],\n",
       " [88, 35, 52, 93, 61, 92, 75, 89, 31, 85],\n",
       " [28, 64, 52, 34, 53, 61, 60, 75, 71, 48],\n",
       " [49, 31, 61, 88, 28, 60, 20, 48, 26, 34],\n",
       " [26, 4, 35, 30, 34, 17, 68, 65, 67, 52],\n",
       " [88, 67, 26, 75, 28, 60, 53, 64, 71, 48],\n",
       " [26, 48, 53, 61, 88, 47, 6, 67, 60, 0],\n",
       " [49, 31, 88, 28, 20, 12, 26, 54, 92, 84],\n",
       " [28, 68, 35, 52, 61, 53, 45, 88, 30, 64],\n",
       " [49, 28, 35, 34, 31, 30, 48, 55, 9, 53],\n",
       " [61, 26, 31, 88, 64, 28, 53, 52, 67, 47],\n",
       " [28, 26, 31, 60, 52, 61, 48, 64, 65, 84],\n",
       " [61, 48, 92, 64, 67, 34, 73, 68, 52, 28],\n",
       " [49, 88, 35, 28, 26, 53, 31, 0, 61, 71],\n",
       " [49, 31, 26, 52, 15, 28, 61, 45, 88, 92],\n",
       " [34, 28, 53, 67, 52, 71, 60, 10, 46, 97],\n",
       " [31, 88, 34, 52, 68, 53, 26, 64, 41, 16],\n",
       " [34, 26, 68, 67, 88, 39, 77, 90, 75, 53],\n",
       " [52, 71, 77, 26, 20, 31, 86, 84, 60, 44],\n",
       " [49, 88, 14, 35, 10, 45, 28, 27, 61, 34],\n",
       " [49, 35, 88, 31, 28, 52, 20, 71, 64, 53],\n",
       " [49, 35, 53, 28, 88, 52, 61, 45, 17, 55],\n",
       " [26, 79, 52, 88, 34, 28, 65, 60, 87, 43],\n",
       " [49, 88, 28, 31, 68, 60, 52, 26, 61, 16],\n",
       " [61, 80, 88, 31, 35, 52, 95, 47, 0, 97],\n",
       " [49, 31, 88, 26, 61, 35, 48, 11, 67, 68],\n",
       " [49, 35, 26, 61, 88, 39, 64, 67, 77, 46],\n",
       " [68, 31, 88, 28, 26, 34, 53, 61, 80, 6],\n",
       " [26, 31, 45, 52, 53, 4, 48, 64, 88, 11],\n",
       " [35, 49, 26, 28, 88, 77, 61, 31, 71, 6],\n",
       " [49, 28, 88, 31, 52, 61, 53, 68, 60, 39],\n",
       " [88, 31, 61, 26, 67, 52, 21, 91, 28, 34],\n",
       " [49, 26, 35, 67, 61, 31, 28, 34, 46, 73],\n",
       " [61, 49, 31, 34, 35, 88, 48, 67, 51, 17],\n",
       " [88, 49, 26, 61, 34, 99, 28, 82, 60, 64],\n",
       " [49, 26, 88, 61, 35, 47, 45, 65, 90, 92],\n",
       " [49, 31, 28, 88, 90, 53, 65, 71, 48, 47],\n",
       " [88, 49, 28, 68, 26, 75, 34, 71, 90, 61],\n",
       " [49, 34, 35, 88, 61, 31, 4, 48, 53, 90],\n",
       " [26, 48, 68, 88, 64, 49, 30, 61, 52, 71],\n",
       " [68, 35, 88, 53, 61, 30, 65, 64, 55, 25],\n",
       " [26, 49, 67, 88, 61, 53, 40, 70, 64, 60],\n",
       " [28, 31, 53, 34, 88, 26, 64, 45, 68, 1],\n",
       " [30, 49, 53, 34, 61, 75, 39, 67, 47, 68],\n",
       " [26, 31, 52, 34, 48, 60, 64, 65, 20, 88],\n",
       " [88, 35, 49, 26, 31, 47, 30, 52, 75, 67],\n",
       " [49, 35, 31, 52, 61, 88, 30, 53, 20, 12],\n",
       " [49, 35, 26, 88, 61, 31, 34, 52, 18, 60],\n",
       " [90, 35, 26, 88, 55, 61, 28, 34, 53, 30],\n",
       " [35, 52, 26, 60, 68, 88, 34, 30, 37, 24],\n",
       " [49, 31, 28, 88, 26, 60, 67, 53, 64, 37],\n",
       " [88, 61, 35, 28, 52, 99, 34, 67, 65, 48],\n",
       " [88, 31, 26, 67, 28, 35, 52, 61, 48, 27],\n",
       " [49, 26, 88, 67, 52, 31, 34, 55, 45, 71],\n",
       " [49, 61, 26, 28, 34, 88, 60, 30, 52, 64],\n",
       " [88, 35, 67, 31, 48, 28, 87, 90, 4, 95],\n",
       " [26, 35, 53, 68, 61, 88, 65, 64, 4, 71],\n",
       " [49, 34, 26, 88, 35, 31, 65, 17, 15, 90],\n",
       " [49, 9, 59, 35, 28, 26, 88, 61, 31, 40],\n",
       " [49, 35, 31, 26, 34, 65, 30, 45, 53, 64],\n",
       " [35, 67, 28, 52, 31, 68, 39, 88, 61, 60],\n",
       " [88, 61, 26, 90, 53, 68, 30, 64, 55, 0],\n",
       " [26, 52, 28, 34, 53, 88, 61, 5, 9, 4],\n",
       " [61, 49, 26, 35, 48, 30, 53, 68, 0, 90],\n",
       " [61, 53, 49, 52, 26, 71, 88, 31, 80, 46],\n",
       " [52, 61, 67, 68, 88, 45, 34, 60, 64, 75],\n",
       " [49, 35, 26, 65, 88, 31, 53, 47, 64, 12],\n",
       " [49, 31, 26, 35, 60, 34, 52, 28, 88, 53],\n",
       " [68, 28, 35, 64, 88, 71, 53, 30, 61, 40],\n",
       " [88, 49, 61, 34, 53, 60, 48, 21, 98, 28],\n",
       " [49, 88, 26, 35, 6, 61, 34, 68, 52, 9],\n",
       " [28, 61, 53, 97, 71, 8, 55, 75, 30, 95],\n",
       " [49, 35, 34, 31, 28, 26, 61, 7, 64, 30],\n",
       " [52, 26, 88, 49, 67, 28, 61, 69, 35, 12],\n",
       " [49, 52, 26, 20, 35, 88, 5, 31, 90, 50],\n",
       " [26, 45, 35, 28, 88, 52, 71, 30, 53, 11],\n",
       " [35, 31, 61, 88, 45, 53, 28, 38, 30, 48],\n",
       " [49, 35, 26, 88, 41, 52, 48, 25, 71, 28],\n",
       " [49, 35, 88, 26, 61, 34, 28, 45, 37, 52],\n",
       " [49, 35, 17, 26, 52, 14, 86, 64, 20, 88],\n",
       " [49, 35, 88, 31, 52, 61, 41, 7, 90, 14],\n",
       " [49, 35, 28, 26, 61, 71, 65, 41, 19, 45],\n",
       " [35, 31, 45, 39, 88, 53, 65, 61, 52, 10],\n",
       " [34, 49, 28, 26, 61, 52, 88, 67, 68, 90],\n",
       " [61, 49, 31, 35, 65, 48, 88, 28, 30, 20],\n",
       " [26, 35, 28, 67, 61, 34, 68, 52, 60, 88],\n",
       " [26, 30, 52, 28, 53, 64, 4, 65, 41, 68],\n",
       " [35, 26, 49, 10, 45, 28, 52, 1, 34, 64],\n",
       " [35, 48, 61, 88, 34, 26, 31, 65, 67, 17],\n",
       " [35, 31, 88, 64, 34, 28, 61, 60, 52, 16],\n",
       " [88, 49, 35, 28, 61, 31, 26, 52, 48, 91],\n",
       " [49, 26, 31, 35, 88, 53, 67, 61, 34, 86],\n",
       " [35, 26, 31, 34, 52, 61, 88, 16, 68, 25],\n",
       " [61, 35, 88, 34, 55, 60, 30, 48, 68, 65],\n",
       " [49, 35, 61, 28, 26, 34, 52, 88, 20, 5],\n",
       " [52, 49, 31, 35, 22, 34, 53, 61, 68, 90],\n",
       " [49, 26, 67, 61, 31, 34, 60, 17, 64, 71],\n",
       " [35, 49, 88, 31, 61, 52, 67, 53, 16, 13],\n",
       " [35, 26, 88, 34, 52, 61, 68, 75, 87, 86],\n",
       " [34, 35, 26, 28, 88, 48, 64, 30, 46, 4],\n",
       " [35, 61, 52, 26, 28, 23, 34, 88, 5, 2],\n",
       " [48, 28, 34, 88, 65, 61, 53, 46, 43, 0],\n",
       " [49, 34, 26, 88, 28, 52, 61, 39, 68, 24],\n",
       " [28, 35, 34, 88, 31, 26, 17, 61, 52, 67],\n",
       " [88, 34, 61, 28, 53, 48, 86, 68, 71, 6],\n",
       " [26, 49, 61, 65, 31, 34, 48, 28, 88, 67],\n",
       " [28, 34, 88, 48, 31, 82, 67, 53, 97, 79],\n",
       " [28, 2, 64, 34, 31, 60, 65, 48, 84, 41],\n",
       " [48, 26, 20, 92, 35, 52, 34, 30, 90, 46],\n",
       " [35, 49, 31, 26, 52, 20, 88, 47, 34, 41],\n",
       " [35, 61, 49, 31, 88, 28, 47, 52, 62, 96],\n",
       " [49, 88, 26, 31, 48, 20, 71, 61, 67, 10],\n",
       " [34, 35, 88, 61, 31, 52, 53, 60, 65, 7],\n",
       " [88, 35, 31, 92, 28, 6, 34, 71, 45, 53],\n",
       " [49, 26, 52, 88, 67, 61, 53, 60, 68, 20],\n",
       " [49, 7, 34, 88, 35, 90, 26, 16, 61, 64],\n",
       " [49, 52, 61, 28, 31, 88, 67, 14, 26, 90],\n",
       " [49, 34, 35, 88, 31, 61, 53, 48, 25, 37],\n",
       " [49, 34, 31, 26, 88, 61, 48, 28, 39, 67],\n",
       " [31, 49, 26, 88, 34, 52, 60, 28, 90, 35],\n",
       " [35, 49, 61, 26, 53, 52, 28, 5, 60, 88],\n",
       " [26, 49, 10, 35, 28, 31, 65, 52, 67, 61],\n",
       " [26, 35, 53, 88, 34, 48, 67, 65, 75, 17],\n",
       " [49, 34, 52, 61, 28, 31, 64, 90, 21, 20],\n",
       " [52, 49, 26, 88, 34, 61, 30, 41, 67, 6],\n",
       " [28, 31, 35, 26, 52, 88, 15, 10, 64, 39],\n",
       " [61, 88, 31, 35, 34, 53, 90, 75, 71, 60],\n",
       " [28, 52, 88, 31, 35, 61, 53, 67, 45, 21],\n",
       " [34, 61, 35, 88, 41, 68, 53, 52, 30, 67],\n",
       " [35, 26, 88, 52, 31, 60, 53, 90, 64, 82],\n",
       " [88, 93, 34, 9, 68, 67, 60, 4, 42, 28],\n",
       " [49, 88, 44, 35, 61, 60, 31, 4, 90, 71],\n",
       " [49, 34, 26, 35, 88, 28, 47, 52, 19, 31],\n",
       " [28, 35, 31, 61, 48, 27, 6, 64, 68, 4],\n",
       " [61, 35, 88, 34, 31, 20, 48, 30, 67, 62],\n",
       " [26, 28, 31, 34, 53, 25, 48, 61, 88, 67],\n",
       " [67, 52, 31, 60, 49, 28, 54, 23, 24, 71],\n",
       " [53, 31, 88, 34, 48, 60, 20, 68, 30, 37],\n",
       " [34, 28, 52, 31, 30, 17, 88, 48, 45, 70],\n",
       " [49, 26, 52, 34, 35, 67, 53, 61, 95, 13],\n",
       " [35, 28, 31, 61, 26, 88, 34, 48, 52, 60],\n",
       " [31, 34, 88, 28, 52, 4, 64, 26, 13, 90],\n",
       " [49, 34, 53, 67, 12, 88, 71, 55, 45, 75],\n",
       " [35, 49, 88, 28, 26, 61, 45, 53, 47, 64],\n",
       " [49, 28, 35, 48, 34, 31, 6, 26, 88, 41],\n",
       " [28, 52, 35, 31, 20, 34, 60, 26, 44, 48],\n",
       " [35, 31, 52, 48, 53, 26, 88, 20, 24, 80],\n",
       " [34, 61, 88, 28, 26, 31, 30, 68, 48, 47],\n",
       " [28, 35, 52, 88, 41, 68, 48, 65, 31, 61],\n",
       " [26, 52, 53, 61, 60, 77, 75, 64, 91, 9],\n",
       " [26, 34, 52, 49, 71, 96, 98, 35, 61, 86],\n",
       " [26, 67, 61, 88, 71, 68, 64, 53, 25, 60],\n",
       " [26, 65, 88, 30, 68, 61, 55, 67, 53, 60],\n",
       " [49, 88, 28, 31, 61, 52, 48, 34, 68, 12],\n",
       " [49, 35, 61, 60, 26, 48, 65, 53, 3, 64],\n",
       " [49, 31, 61, 88, 52, 67, 34, 86, 0, 30],\n",
       " [61, 26, 34, 49, 52, 71, 65, 30, 48, 53],\n",
       " [35, 28, 26, 31, 8, 61, 52, 95, 75, 0],\n",
       " [49, 68, 31, 52, 28, 88, 60, 11, 26, 25],\n",
       " [31, 48, 52, 61, 88, 90, 87, 75, 59, 37],\n",
       " [49, 88, 61, 35, 71, 67, 53, 92, 12, 6],\n",
       " [35, 49, 31, 52, 40, 88, 17, 86, 96, 63],\n",
       " [49, 28, 26, 41, 20, 31, 16, 30, 4, 53],\n",
       " [52, 31, 35, 68, 61, 34, 88, 67, 11, 48],\n",
       " [34, 52, 31, 68, 35, 71, 92, 65, 59, 1],\n",
       " [49, 35, 26, 61, 88, 47, 6, 34, 68, 67],\n",
       " [52, 49, 26, 88, 35, 61, 65, 25, 68, 34],\n",
       " [49, 88, 34, 67, 35, 20, 68, 64, 71, 61],\n",
       " [88, 49, 35, 28, 68, 52, 80, 31, 30, 94],\n",
       " [49, 31, 35, 64, 30, 53, 10, 12, 45, 37],\n",
       " [31, 49, 35, 26, 34, 88, 53, 52, 28, 68],\n",
       " [49, 26, 35, 52, 71, 53, 60, 67, 75, 47],\n",
       " [88, 49, 35, 61, 90, 31, 92, 87, 52, 25],\n",
       " [49, 31, 52, 61, 53, 20, 88, 68, 80, 97],\n",
       " [49, 88, 34, 68, 35, 30, 31, 26, 53, 21],\n",
       " [49, 31, 35, 34, 65, 88, 28, 26, 45, 70],\n",
       " [26, 35, 53, 52, 88, 11, 68, 30, 67, 55],\n",
       " [61, 26, 49, 53, 31, 11, 68, 65, 92, 84],\n",
       " [49, 61, 31, 88, 52, 41, 48, 67, 25, 15],\n",
       " [49, 35, 30, 61, 52, 88, 34, 60, 20, 64],\n",
       " [49, 35, 28, 41, 88, 52, 31, 6, 80, 45],\n",
       " [49, 88, 52, 31, 25, 90, 75, 45, 53, 46],\n",
       " [35, 34, 48, 88, 31, 65, 53, 26, 64, 13],\n",
       " [49, 31, 52, 61, 88, 68, 34, 28, 48, 90],\n",
       " [49, 52, 26, 35, 88, 65, 28, 75, 71, 39],\n",
       " [88, 49, 35, 31, 61, 18, 53, 52, 34, 19],\n",
       " [35, 34, 88, 52, 64, 28, 45, 67, 48, 80],\n",
       " [88, 71, 31, 35, 52, 92, 10, 53, 19, 60],\n",
       " [49, 88, 34, 26, 31, 48, 61, 82, 52, 64],\n",
       " [49, 26, 31, 88, 48, 68, 65, 61, 53, 84],\n",
       " [48, 35, 88, 31, 30, 71, 68, 60, 27, 92],\n",
       " [88, 35, 14, 17, 31, 61, 34, 92, 75, 41],\n",
       " [49, 31, 26, 52, 34, 68, 53, 12, 17, 88],\n",
       " [88, 71, 26, 35, 34, 28, 53, 48, 10, 74],\n",
       " [88, 35, 31, 26, 61, 90, 75, 96, 97, 7],\n",
       " [49, 35, 28, 26, 7, 52, 30, 61, 88, 10],\n",
       " [31, 61, 88, 34, 52, 53, 27, 28, 67, 96],\n",
       " [49, 26, 61, 30, 88, 35, 28, 12, 45, 52],\n",
       " [49, 68, 26, 88, 48, 64, 60, 75, 71, 92],\n",
       " [35, 31, 88, 67, 26, 61, 30, 48, 68, 86],\n",
       " [35, 88, 31, 61, 28, 52, 14, 12, 26, 90],\n",
       " [48, 35, 53, 34, 4, 52, 64, 10, 30, 60],\n",
       " [31, 67, 35, 88, 52, 28, 60, 21, 77, 53],\n",
       " [49, 35, 68, 88, 28, 61, 20, 67, 41, 39],\n",
       " [49, 31, 35, 34, 52, 4, 26, 61, 88, 20],\n",
       " [49, 35, 28, 68, 30, 7, 17, 88, 90, 64],\n",
       " [49, 35, 34, 26, 31, 65, 88, 53, 20, 67],\n",
       " [49, 31, 88, 26, 28, 67, 46, 61, 34, 52],\n",
       " [52, 34, 48, 88, 53, 71, 55, 90, 39, 92],\n",
       " [49, 26, 61, 53, 31, 88, 28, 20, 60, 25],\n",
       " [49, 35, 53, 71, 26, 52, 34, 79, 31, 74],\n",
       " [35, 28, 88, 61, 31, 48, 64, 24, 2, 7],\n",
       " [49, 35, 88, 28, 53, 68, 65, 71, 25, 60],\n",
       " [49, 26, 88, 61, 67, 34, 35, 92, 48, 0],\n",
       " [26, 28, 52, 67, 61, 34, 53, 45, 65, 60],\n",
       " [34, 35, 88, 39, 28, 68, 48, 53, 60, 64],\n",
       " ...]"
      ]
     },
     "execution_count": 32,
     "metadata": {},
     "output_type": "execute_result"
    }
   ],
   "source": [
    "result"
   ]
  },
  {
   "cell_type": "code",
   "execution_count": null,
   "id": "51245ab5",
   "metadata": {},
   "outputs": [],
   "source": []
  },
  {
   "cell_type": "code",
   "execution_count": 33,
   "id": "8c8f8212",
   "metadata": {},
   "outputs": [
    {
     "name": "stderr",
     "output_type": "stream",
     "text": [
      "\u001b[32m[I 2023-05-12 13:25:03,392]\u001b[0m A new study created in memory with name: no-name-7d636ead-1041-44f5-8b76-ea4ffabde2a6\u001b[0m\n",
      "\u001b[32m[I 2023-05-12 13:25:05,972]\u001b[0m Trial 0 finished with value: 4.089381213634612 and parameters: {'svd': -0.9, 'lfm_cos': 0.7000000000000002, 'nn_bias': -0.29999999999999993, 'catboost': 0.8, 'knn': 0.8, 'quality': -0.29999999999999993, 'volume': 0.6000000000000001}. Best is trial 0 with value: 4.089381213634612.\u001b[0m\n"
     ]
    },
    {
     "name": "stdout",
     "output_type": "stream",
     "text": [
      "time 2.577 cat_cov 84.0 cov 100.0 nov 0.545 ser 0.1 m1 0.309 m10 0.437 price 2.574 sum 4.089\n"
     ]
    },
    {
     "name": "stderr",
     "output_type": "stream",
     "text": [
      "\u001b[32m[I 2023-05-12 13:25:08,546]\u001b[0m Trial 1 finished with value: 4.342438564338059 and parameters: {'svd': -0.29999999999999993, 'lfm_cos': -0.5, 'nn_bias': -0.9, 'catboost': -0.3999999999999999, 'knn': -0.19999999999999996, 'quality': 0.8, 'volume': -0.19999999999999996}. Best is trial 1 with value: 4.342438564338059.\u001b[0m\n"
     ]
    },
    {
     "name": "stdout",
     "output_type": "stream",
     "text": [
      "time 2.572 cat_cov 95.0 cov 100.0 nov 0.862 ser 0.165 m1 0.141 m10 0.314 price 2.732 sum 4.342\n"
     ]
    },
    {
     "name": "stderr",
     "output_type": "stream",
     "text": [
      "\u001b[32m[I 2023-05-12 13:25:11,157]\u001b[0m Trial 2 finished with value: 5.6660250986180225 and parameters: {'svd': 0.7000000000000002, 'lfm_cos': 0.0, 'nn_bias': 0.20000000000000018, 'catboost': -1.0, 'knn': 0.40000000000000013, 'quality': -0.8, 'volume': -0.7}. Best is trial 2 with value: 5.6660250986180225.\u001b[0m\n"
     ]
    },
    {
     "name": "stdout",
     "output_type": "stream",
     "text": [
      "time 2.609 cat_cov 99.0 cov 100.0 nov 1.016 ser 0.204 m1 0.832 m10 0.807 price 2.452 sum 5.666\n"
     ]
    },
    {
     "name": "stderr",
     "output_type": "stream",
     "text": [
      "\u001b[32m[I 2023-05-12 13:25:13,770]\u001b[0m Trial 3 finished with value: 5.577564498906366 and parameters: {'svd': 0.9000000000000001, 'lfm_cos': -0.5, 'nn_bias': 0.6000000000000001, 'catboost': -0.29999999999999993, 'knn': -0.6, 'quality': 0.6000000000000001, 'volume': 0.30000000000000004}. Best is trial 2 with value: 5.6660250986180225.\u001b[0m\n"
     ]
    },
    {
     "name": "stdout",
     "output_type": "stream",
     "text": [
      "time 2.611 cat_cov 99.0 cov 100.0 nov 0.943 ser 0.194 m1 0.822 m10 0.747 price 2.644 sum 5.578\n"
     ]
    },
    {
     "name": "stderr",
     "output_type": "stream",
     "text": [
      "\u001b[32m[I 2023-05-12 13:25:16,351]\u001b[0m Trial 4 finished with value: 3.7952598306184715 and parameters: {'svd': -0.19999999999999996, 'lfm_cos': -0.19999999999999996, 'nn_bias': -0.5, 'catboost': 0.8, 'knn': 0.9000000000000001, 'quality': -1.0, 'volume': 0.0}. Best is trial 2 with value: 5.6660250986180225.\u001b[0m\n"
     ]
    },
    {
     "name": "stdout",
     "output_type": "stream",
     "text": [
      "time 2.578 cat_cov 47.0 cov 100.0 nov 0.657 ser 0.077 m1 0.331 m10 0.486 price 2.321 sum 3.795\n"
     ]
    },
    {
     "name": "stderr",
     "output_type": "stream",
     "text": [
      "\u001b[32m[I 2023-05-12 13:25:18,938]\u001b[0m Trial 5 finished with value: 4.740631828033135 and parameters: {'svd': 0.20000000000000018, 'lfm_cos': 0.7000000000000002, 'nn_bias': 0.10000000000000009, 'catboost': -0.7, 'knn': 0.5, 'quality': -0.09999999999999998, 'volume': 0.5}. Best is trial 2 with value: 5.6660250986180225.\u001b[0m\n"
     ]
    },
    {
     "name": "stdout",
     "output_type": "stream",
     "text": [
      "time 2.585 cat_cov 94.0 cov 100.0 nov 0.708 ser 0.18 m1 0.493 m10 0.51 price 2.73 sum 4.741\n"
     ]
    },
    {
     "name": "stderr",
     "output_type": "stream",
     "text": [
      "\u001b[32m[I 2023-05-12 13:25:21,510]\u001b[0m Trial 6 finished with value: 3.9781396546249024 and parameters: {'svd': -0.6, 'lfm_cos': 0.9000000000000001, 'nn_bias': -0.3999999999999999, 'catboost': 0.8, 'knn': -0.9, 'quality': 0.8, 'volume': 0.6000000000000001}. Best is trial 2 with value: 5.6660250986180225.\u001b[0m\n"
     ]
    },
    {
     "name": "stdout",
     "output_type": "stream",
     "text": [
      "time 2.57 cat_cov 86.0 cov 100.0 nov 0.522 ser 0.145 m1 0.163 m10 0.322 price 2.9 sum 3.978\n"
     ]
    },
    {
     "name": "stderr",
     "output_type": "stream",
     "text": [
      "\u001b[32m[I 2023-05-12 13:25:24,110]\u001b[0m Trial 7 finished with value: 4.310227915791391 and parameters: {'svd': 0.0, 'lfm_cos': 0.40000000000000013, 'nn_bias': 0.0, 'catboost': 0.7000000000000002, 'knn': -0.29999999999999993, 'quality': -0.7, 'volume': 0.40000000000000013}. Best is trial 2 with value: 5.6660250986180225.\u001b[0m\n"
     ]
    },
    {
     "name": "stdout",
     "output_type": "stream",
     "text": [
      "time 2.598 cat_cov 93.0 cov 100.0 nov 0.47 ser 0.117 m1 0.387 m10 0.488 price 2.753 sum 4.31\n"
     ]
    },
    {
     "name": "stderr",
     "output_type": "stream",
     "text": [
      "\u001b[32m[I 2023-05-12 13:25:26,701]\u001b[0m Trial 8 finished with value: 3.8721000803293673 and parameters: {'svd': -0.3999999999999999, 'lfm_cos': -0.09999999999999998, 'nn_bias': -1.0, 'catboost': 0.7000000000000002, 'knn': 0.8, 'quality': -0.9, 'volume': -0.5}. Best is trial 2 with value: 5.6660250986180225.\u001b[0m\n"
     ]
    },
    {
     "name": "stdout",
     "output_type": "stream",
     "text": [
      "time 2.589 cat_cov 66.0 cov 100.0 nov 0.634 ser 0.08 m1 0.279 m10 0.444 price 2.324 sum 3.872\n"
     ]
    },
    {
     "name": "stderr",
     "output_type": "stream",
     "text": [
      "\u001b[32m[I 2023-05-12 13:25:29,375]\u001b[0m Trial 9 finished with value: 4.718620754646264 and parameters: {'svd': 0.8, 'lfm_cos': 0.6000000000000001, 'nn_bias': 1.0, 'catboost': 0.10000000000000009, 'knn': 0.8, 'quality': -0.29999999999999993, 'volume': -0.8}. Best is trial 2 with value: 5.6660250986180225.\u001b[0m\n"
     ]
    },
    {
     "name": "stdout",
     "output_type": "stream",
     "text": [
      "time 2.672 cat_cov 88.0 cov 100.0 nov 0.751 ser 0.132 m1 0.545 m10 0.602 price 2.426 sum 4.719\n"
     ]
    },
    {
     "name": "stderr",
     "output_type": "stream",
     "text": [
      "\u001b[32m[I 2023-05-12 13:25:32,010]\u001b[0m Trial 10 finished with value: 5.26757540308404 and parameters: {'svd': 0.5, 'lfm_cos': -1.0, 'nn_bias': 0.40000000000000013, 'catboost': -1.0, 'knn': 0.20000000000000018, 'quality': 0.20000000000000018, 'volume': -1.0}. Best is trial 2 with value: 5.6660250986180225.\u001b[0m\n"
     ]
    },
    {
     "name": "stdout",
     "output_type": "stream",
     "text": [
      "time 2.616 cat_cov 95.0 cov 100.0 nov 1.103 ser 0.186 m1 0.6 m10 0.627 price 2.405 sum 5.268\n"
     ]
    },
    {
     "name": "stderr",
     "output_type": "stream",
     "text": [
      "\u001b[32m[I 2023-05-12 13:25:34,666]\u001b[0m Trial 11 finished with value: 5.454176238622384 and parameters: {'svd': 1.0, 'lfm_cos': -0.6, 'nn_bias': 0.8, 'catboost': -0.09999999999999998, 'knn': -0.8, 'quality': 0.30000000000000004, 'volume': 1.0}. Best is trial 2 with value: 5.6660250986180225.\u001b[0m\n"
     ]
    },
    {
     "name": "stdout",
     "output_type": "stream",
     "text": [
      "time 2.638 cat_cov 96.0 cov 100.0 nov 0.924 ser 0.19 m1 0.78 m10 0.715 price 2.658 sum 5.454\n"
     ]
    },
    {
     "name": "stderr",
     "output_type": "stream",
     "text": [
      "\u001b[32m[I 2023-05-12 13:25:37,311]\u001b[0m Trial 12 finished with value: 4.989625995916212 and parameters: {'svd': 0.6000000000000001, 'lfm_cos': 0.20000000000000018, 'nn_bias': 0.5, 'catboost': 0.20000000000000018, 'knn': 0.20000000000000018, 'quality': 0.40000000000000013, 'volume': -0.29999999999999993}. Best is trial 2 with value: 5.6660250986180225.\u001b[0m\n"
     ]
    },
    {
     "name": "stdout",
     "output_type": "stream",
     "text": [
      "time 2.625 cat_cov 95.0 cov 100.0 nov 0.727 ser 0.15 m1 0.644 m10 0.671 price 2.543 sum 4.99\n"
     ]
    },
    {
     "name": "stderr",
     "output_type": "stream",
     "text": [
      "\u001b[32m[I 2023-05-12 13:25:39,953]\u001b[0m Trial 13 finished with value: 4.877582178919814 and parameters: {'svd': 0.40000000000000013, 'lfm_cos': -0.5, 'nn_bias': 0.6000000000000001, 'catboost': -1.0, 'knn': -0.5, 'quality': 1.0, 'volume': 0.20000000000000018}. Best is trial 2 with value: 5.6660250986180225.\u001b[0m\n"
     ]
    },
    {
     "name": "stdout",
     "output_type": "stream",
     "text": [
      "time 2.623 cat_cov 96.0 cov 100.0 nov 1.039 ser 0.193 m1 0.314 m10 0.497 price 2.623 sum 4.878\n"
     ]
    },
    {
     "name": "stderr",
     "output_type": "stream",
     "text": [
      "\u001b[32m[I 2023-05-12 13:25:42,659]\u001b[0m Trial 14 finished with value: 5.702975676445987 and parameters: {'svd': 1.0, 'lfm_cos': -0.9, 'nn_bias': 0.20000000000000018, 'catboost': -0.5, 'knn': -0.6, 'quality': -0.6, 'volume': -0.6}. Best is trial 14 with value: 5.702975676445987.\u001b[0m\n"
     ]
    },
    {
     "name": "stdout",
     "output_type": "stream",
     "text": [
      "time 2.687 cat_cov 99.0 cov 100.0 nov 1.001 ser 0.201 m1 0.864 m10 0.782 price 2.597 sum 5.703\n"
     ]
    },
    {
     "name": "stderr",
     "output_type": "stream",
     "text": [
      "\u001b[32m[I 2023-05-12 13:25:45,339]\u001b[0m Trial 15 finished with value: 5.652091031169737 and parameters: {'svd': 0.7000000000000002, 'lfm_cos': -1.0, 'nn_bias': 0.20000000000000018, 'catboost': -0.7, 'knn': 0.0, 'quality': -0.5, 'volume': -0.6}. Best is trial 14 with value: 5.702975676445987.\u001b[0m\n"
     ]
    },
    {
     "name": "stdout",
     "output_type": "stream",
     "text": [
      "time 2.662 cat_cov 96.0 cov 100.0 nov 1.066 ser 0.194 m1 0.842 m10 0.768 price 2.465 sum 5.652\n"
     ]
    },
    {
     "name": "stderr",
     "output_type": "stream",
     "text": [
      "\u001b[32m[I 2023-05-12 13:25:48,513]\u001b[0m Trial 16 finished with value: 5.3910937991071135 and parameters: {'svd': 0.30000000000000004, 'lfm_cos': 0.10000000000000009, 'nn_bias': -0.09999999999999998, 'catboost': -0.7, 'knn': 0.40000000000000013, 'quality': -0.7, 'volume': -1.0}. Best is trial 14 with value: 5.702975676445987.\u001b[0m\n"
     ]
    },
    {
     "name": "stdout",
     "output_type": "stream",
     "text": [
      "time 3.155 cat_cov 100.0 cov 100.0 nov 0.896 ser 0.212 m1 0.716 m10 0.742 price 2.477 sum 5.391\n"
     ]
    },
    {
     "name": "stderr",
     "output_type": "stream",
     "text": [
      "\u001b[32m[I 2023-05-12 13:25:51,182]\u001b[0m Trial 17 finished with value: 5.556002609425852 and parameters: {'svd': 1.0, 'lfm_cos': -0.8, 'nn_bias': -0.7, 'catboost': -0.5, 'knn': 0.5, 'quality': -0.5, 'volume': -0.6}. Best is trial 14 with value: 5.702975676445987.\u001b[0m\n"
     ]
    },
    {
     "name": "stdout",
     "output_type": "stream",
     "text": [
      "time 2.65 cat_cov 100.0 cov 100.0 nov 0.881 ser 0.189 m1 0.85 m10 0.783 price 2.559 sum 5.556\n"
     ]
    },
    {
     "name": "stderr",
     "output_type": "stream",
     "text": [
      "\u001b[32m[I 2023-05-12 13:25:53,872]\u001b[0m Trial 18 finished with value: 4.569538337656671 and parameters: {'svd': 0.10000000000000009, 'lfm_cos': -0.19999999999999996, 'nn_bias': 0.30000000000000004, 'catboost': 0.40000000000000013, 'knn': -1.0, 'quality': -0.8, 'volume': -0.29999999999999993}. Best is trial 14 with value: 5.702975676445987.\u001b[0m\n"
     ]
    },
    {
     "name": "stdout",
     "output_type": "stream",
     "text": [
      "time 2.669 cat_cov 98.0 cov 100.0 nov 0.921 ser 0.175 m1 0.204 m10 0.403 price 2.663 sum 4.57\n"
     ]
    },
    {
     "name": "stderr",
     "output_type": "stream",
     "text": [
      "\u001b[32m[I 2023-05-12 13:25:56,597]\u001b[0m Trial 19 finished with value: 5.582264853866348 and parameters: {'svd': 0.7000000000000002, 'lfm_cos': 0.40000000000000013, 'nn_bias': -0.19999999999999996, 'catboost': -0.19999999999999996, 'knn': -0.19999999999999996, 'quality': -0.09999999999999998, 'volume': -0.8}. Best is trial 14 with value: 5.702975676445987.\u001b[0m\n"
     ]
    },
    {
     "name": "stdout",
     "output_type": "stream",
     "text": [
      "time 2.702 cat_cov 97.0 cov 100.0 nov 0.681 ser 0.217 m1 0.921 m10 0.832 price 2.884 sum 5.582\n"
     ]
    },
    {
     "name": "stderr",
     "output_type": "stream",
     "text": [
      "\u001b[32m[I 2023-05-12 13:25:59,294]\u001b[0m Trial 20 finished with value: 4.789765828143713 and parameters: {'svd': 0.40000000000000013, 'lfm_cos': 1.0, 'nn_bias': 0.10000000000000009, 'catboost': -0.8, 'knn': -0.6, 'quality': -0.5, 'volume': 0.0}. Best is trial 14 with value: 5.702975676445987.\u001b[0m\n"
     ]
    },
    {
     "name": "stdout",
     "output_type": "stream",
     "text": [
      "time 2.679 cat_cov 99.0 cov 100.0 nov 0.68 ser 0.216 m1 0.421 m10 0.494 price 2.968 sum 4.79\n"
     ]
    },
    {
     "name": "stderr",
     "output_type": "stream",
     "text": [
      "\u001b[32m[I 2023-05-12 13:26:01,959]\u001b[0m Trial 21 finished with value: 5.658685336491186 and parameters: {'svd': 0.7000000000000002, 'lfm_cos': -1.0, 'nn_bias': 0.20000000000000018, 'catboost': -0.6, 'knn': 0.0, 'quality': -0.5, 'volume': -0.6}. Best is trial 14 with value: 5.702975676445987.\u001b[0m\n"
     ]
    },
    {
     "name": "stdout",
     "output_type": "stream",
     "text": [
      "time 2.645 cat_cov 97.0 cov 100.0 nov 1.055 ser 0.193 m1 0.845 m10 0.775 price 2.465 sum 5.659\n"
     ]
    },
    {
     "name": "stderr",
     "output_type": "stream",
     "text": [
      "\u001b[32m[I 2023-05-12 13:26:04,653]\u001b[0m Trial 22 finished with value: 5.5816261993977365 and parameters: {'svd': 0.8, 'lfm_cos': -0.8, 'nn_bias': 0.30000000000000004, 'catboost': -0.5, 'knn': 0.10000000000000009, 'quality': -0.6, 'volume': -0.8}. Best is trial 14 with value: 5.702975676445987.\u001b[0m\n"
     ]
    },
    {
     "name": "stdout",
     "output_type": "stream",
     "text": [
      "time 2.675 cat_cov 95.0 cov 100.0 nov 1.01 ser 0.191 m1 0.829 m10 0.78 price 2.469 sum 5.582\n"
     ]
    },
    {
     "name": "stderr",
     "output_type": "stream",
     "text": [
      "\u001b[32m[I 2023-05-12 13:26:07,343]\u001b[0m Trial 23 finished with value: 5.57753268848793 and parameters: {'svd': 0.6000000000000001, 'lfm_cos': -0.8, 'nn_bias': -0.09999999999999998, 'catboost': -0.9, 'knn': 0.40000000000000013, 'quality': -0.29999999999999993, 'volume': -0.5}. Best is trial 14 with value: 5.702975676445987.\u001b[0m\n"
     ]
    },
    {
     "name": "stdout",
     "output_type": "stream",
     "text": [
      "time 2.671 cat_cov 98.0 cov 100.0 nov 1.045 ser 0.195 m1 0.795 m10 0.746 price 2.451 sum 5.578\n"
     ]
    },
    {
     "name": "stderr",
     "output_type": "stream",
     "text": [
      "\u001b[32m[I 2023-05-12 13:26:10,043]\u001b[0m Trial 24 finished with value: 5.576362288994394 and parameters: {'svd': 1.0, 'lfm_cos': -0.29999999999999993, 'nn_bias': 0.7000000000000002, 'catboost': -0.6, 'knn': -0.3999999999999999, 'quality': -1.0, 'volume': -0.19999999999999996}. Best is trial 14 with value: 5.702975676445987.\u001b[0m\n"
     ]
    },
    {
     "name": "stdout",
     "output_type": "stream",
     "text": [
      "time 2.683 cat_cov 97.0 cov 100.0 nov 0.967 ser 0.198 m1 0.82 m10 0.754 price 2.599 sum 5.576\n"
     ]
    },
    {
     "name": "stderr",
     "output_type": "stream",
     "text": [
      "\u001b[32m[I 2023-05-12 13:26:12,763]\u001b[0m Trial 25 finished with value: 5.3592237637487745 and parameters: {'svd': 0.8, 'lfm_cos': -0.7, 'nn_bias': 0.40000000000000013, 'catboost': -0.9, 'knn': 0.6000000000000001, 'quality': -0.8, 'volume': -0.7}. Best is trial 14 with value: 5.702975676445987.\u001b[0m\n"
     ]
    },
    {
     "name": "stdout",
     "output_type": "stream",
     "text": [
      "time 2.7 cat_cov 99.0 cov 100.0 nov 1.023 ser 0.186 m1 0.647 m10 0.71 price 2.408 sum 5.359\n"
     ]
    },
    {
     "name": "stderr",
     "output_type": "stream",
     "text": [
      "\u001b[32m[I 2023-05-12 13:26:15,426]\u001b[0m Trial 26 finished with value: 5.669425851491091 and parameters: {'svd': 0.5, 'lfm_cos': -1.0, 'nn_bias': 0.10000000000000009, 'catboost': -0.29999999999999993, 'knn': -0.09999999999999998, 'quality': 0.10000000000000009, 'volume': -0.3999999999999999}. Best is trial 14 with value: 5.702975676445987.\u001b[0m\n"
     ]
    },
    {
     "name": "stdout",
     "output_type": "stream",
     "text": [
      "time 2.644 cat_cov 97.0 cov 100.0 nov 1.031 ser 0.189 m1 0.859 m10 0.788 price 2.497 sum 5.669\n"
     ]
    },
    {
     "name": "stderr",
     "output_type": "stream",
     "text": [
      "\u001b[32m[I 2023-05-12 13:26:18,116]\u001b[0m Trial 27 finished with value: 5.652277221905724 and parameters: {'svd': 0.5, 'lfm_cos': -0.3999999999999999, 'nn_bias': 0.0, 'catboost': -0.09999999999999998, 'knn': -0.7, 'quality': 0.10000000000000009, 'volume': -0.3999999999999999}. Best is trial 14 with value: 5.702975676445987.\u001b[0m\n"
     ]
    },
    {
     "name": "stdout",
     "output_type": "stream",
     "text": [
      "time 2.672 cat_cov 94.0 cov 100.0 nov 0.97 ser 0.203 m1 0.86 m10 0.786 price 2.678 sum 5.652\n"
     ]
    },
    {
     "name": "stderr",
     "output_type": "stream",
     "text": [
      "\u001b[32m[I 2023-05-12 13:26:20,769]\u001b[0m Trial 28 finished with value: 4.289926427446163 and parameters: {'svd': 0.0, 'lfm_cos': 0.0, 'nn_bias': -0.5, 'catboost': 0.30000000000000004, 'knn': -0.09999999999999998, 'quality': 0.0, 'volume': -0.09999999999999998}. Best is trial 14 with value: 5.702975676445987.\u001b[0m\n"
     ]
    },
    {
     "name": "stdout",
     "output_type": "stream",
     "text": [
      "time 2.634 cat_cov 95.0 cov 100.0 nov 0.627 ser 0.136 m1 0.322 m10 0.461 price 2.384 sum 4.29\n"
     ]
    },
    {
     "name": "stderr",
     "output_type": "stream",
     "text": [
      "\u001b[32m[I 2023-05-12 13:26:23,325]\u001b[0m Trial 29 finished with value: 4.102911336964795 and parameters: {'svd': -1.0, 'lfm_cos': 0.30000000000000004, 'nn_bias': -0.19999999999999996, 'catboost': -0.29999999999999993, 'knn': 0.20000000000000018, 'quality': -0.29999999999999993, 'volume': -0.9}. Best is trial 14 with value: 5.702975676445987.\u001b[0m\n"
     ]
    },
    {
     "name": "stdout",
     "output_type": "stream",
     "text": [
      "time 2.537 cat_cov 93.0 cov 100.0 nov 0.793 ser 0.149 m1 0.121 m10 0.256 price 2.564 sum 4.103\n"
     ]
    },
    {
     "name": "stderr",
     "output_type": "stream",
     "text": [
      "\u001b[32m[I 2023-05-12 13:26:25,949]\u001b[0m Trial 30 finished with value: 4.271755316030363 and parameters: {'svd': 0.30000000000000004, 'lfm_cos': -0.9, 'nn_bias': 0.8, 'catboost': 0.0, 'knn': 1.0, 'quality': -0.19999999999999996, 'volume': 0.9000000000000001}. Best is trial 14 with value: 5.702975676445987.\u001b[0m\n"
     ]
    },
    {
     "name": "stdout",
     "output_type": "stream",
     "text": [
      "time 2.606 cat_cov 76.0 cov 100.0 nov 0.847 ser 0.101 m1 0.321 m10 0.488 price 2.263 sum 4.272\n"
     ]
    },
    {
     "name": "stderr",
     "output_type": "stream",
     "text": [
      "\u001b[32m[I 2023-05-12 13:26:28,595]\u001b[0m Trial 31 finished with value: 5.678542460621114 and parameters: {'svd': 0.7000000000000002, 'lfm_cos': -0.9, 'nn_bias': 0.20000000000000018, 'catboost': -0.5, 'knn': 0.0, 'quality': -0.6, 'volume': -0.6}. Best is trial 14 with value: 5.702975676445987.\u001b[0m\n"
     ]
    },
    {
     "name": "stdout",
     "output_type": "stream",
     "text": [
      "time 2.627 cat_cov 99.0 cov 100.0 nov 1.039 ser 0.193 m1 0.85 m10 0.782 price 2.472 sum 5.679\n"
     ]
    },
    {
     "name": "stderr",
     "output_type": "stream",
     "text": [
      "\u001b[32m[I 2023-05-12 13:26:31,272]\u001b[0m Trial 32 finished with value: 5.684806254341109 and parameters: {'svd': 0.9000000000000001, 'lfm_cos': -0.7, 'nn_bias': 0.20000000000000018, 'catboost': -0.29999999999999993, 'knn': -0.29999999999999993, 'quality': -0.7, 'volume': -0.3999999999999999}. Best is trial 14 with value: 5.702975676445987.\u001b[0m\n"
     ]
    },
    {
     "name": "stdout",
     "output_type": "stream",
     "text": [
      "time 2.659 cat_cov 97.0 cov 100.0 nov 0.969 ser 0.199 m1 0.88 m10 0.807 price 2.581 sum 5.685\n"
     ]
    },
    {
     "name": "stderr",
     "output_type": "stream",
     "text": [
      "\u001b[32m[I 2023-05-12 13:26:33,935]\u001b[0m Trial 33 finished with value: 5.637727103312815 and parameters: {'svd': 0.9000000000000001, 'lfm_cos': -0.7, 'nn_bias': 0.40000000000000013, 'catboost': -0.3999999999999999, 'knn': -0.29999999999999993, 'quality': -0.6, 'volume': -0.3999999999999999}. Best is trial 14 with value: 5.702975676445987.\u001b[0m\n"
     ]
    },
    {
     "name": "stdout",
     "output_type": "stream",
     "text": [
      "time 2.644 cat_cov 97.0 cov 100.0 nov 0.981 ser 0.196 m1 0.856 m10 0.779 price 2.568 sum 5.638\n"
     ]
    },
    {
     "name": "stderr",
     "output_type": "stream",
     "text": [
      "\u001b[32m[I 2023-05-12 13:26:36,585]\u001b[0m Trial 34 finished with value: 5.700737026169836 and parameters: {'svd': 0.9000000000000001, 'lfm_cos': -0.9, 'nn_bias': 0.10000000000000009, 'catboost': -0.29999999999999993, 'knn': -0.19999999999999996, 'quality': 0.40000000000000013, 'volume': -0.19999999999999996}. Best is trial 14 with value: 5.702975676445987.\u001b[0m\n"
     ]
    },
    {
     "name": "stdout",
     "output_type": "stream",
     "text": [
      "time 2.629 cat_cov 99.0 cov 100.0 nov 0.952 ser 0.194 m1 0.887 m10 0.815 price 2.589 sum 5.701\n"
     ]
    },
    {
     "name": "stderr",
     "output_type": "stream",
     "text": [
      "\u001b[32m[I 2023-05-12 13:26:39,256]\u001b[0m Trial 35 finished with value: 5.690576858514804 and parameters: {'svd': 0.9000000000000001, 'lfm_cos': -0.6, 'nn_bias': 0.30000000000000004, 'catboost': -0.3999999999999999, 'knn': -0.29999999999999993, 'quality': 0.5, 'volume': 0.10000000000000009}. Best is trial 14 with value: 5.702975676445987.\u001b[0m\n"
     ]
    },
    {
     "name": "stdout",
     "output_type": "stream",
     "text": [
      "time 2.651 cat_cov 99.0 cov 100.0 nov 0.95 ser 0.197 m1 0.876 m10 0.804 price 2.62 sum 5.691\n"
     ]
    },
    {
     "name": "stderr",
     "output_type": "stream",
     "text": [
      "\u001b[32m[I 2023-05-12 13:26:41,954]\u001b[0m Trial 36 finished with value: 5.636670781915895 and parameters: {'svd': 1.0, 'lfm_cos': -0.6, 'nn_bias': 0.5, 'catboost': -0.09999999999999998, 'knn': -0.5, 'quality': 0.5, 'volume': 0.10000000000000009}. Best is trial 14 with value: 5.702975676445987.\u001b[0m\n"
     ]
    },
    {
     "name": "stdout",
     "output_type": "stream",
     "text": [
      "time 2.678 cat_cov 100.0 cov 100.0 nov 0.907 ser 0.191 m1 0.865 m10 0.795 price 2.634 sum 5.637\n"
     ]
    },
    {
     "name": "stderr",
     "output_type": "stream",
     "text": [
      "\u001b[32m[I 2023-05-12 13:26:44,622]\u001b[0m Trial 37 finished with value: 5.624654357085617 and parameters: {'svd': 0.9000000000000001, 'lfm_cos': -0.6, 'nn_bias': -0.29999999999999993, 'catboost': -0.29999999999999993, 'knn': -0.3999999999999999, 'quality': 0.7000000000000002, 'volume': -0.09999999999999998}. Best is trial 14 with value: 5.702975676445987.\u001b[0m\n"
     ]
    },
    {
     "name": "stdout",
     "output_type": "stream",
     "text": [
      "time 2.65 cat_cov 97.0 cov 100.0 nov 0.851 ser 0.201 m1 0.878 m10 0.804 price 2.763 sum 5.625\n"
     ]
    },
    {
     "name": "stderr",
     "output_type": "stream",
     "text": [
      "\u001b[32m[I 2023-05-12 13:26:47,295]\u001b[0m Trial 38 finished with value: 5.704694321356923 and parameters: {'svd': 0.9000000000000001, 'lfm_cos': -0.3999999999999999, 'nn_bias': 0.0, 'catboost': -0.3999999999999999, 'knn': -0.7, 'quality': 0.6000000000000001, 'volume': 0.20000000000000018}. Best is trial 38 with value: 5.704694321356923.\u001b[0m\n"
     ]
    },
    {
     "name": "stdout",
     "output_type": "stream",
     "text": [
      "time 2.653 cat_cov 94.0 cov 100.0 nov 0.932 ser 0.208 m1 0.888 m10 0.82 price 2.754 sum 5.705\n"
     ]
    },
    {
     "name": "stderr",
     "output_type": "stream",
     "text": [
      "\u001b[32m[I 2023-05-12 13:26:49,875]\u001b[0m Trial 39 finished with value: 4.192534403712248 and parameters: {'svd': -0.6, 'lfm_cos': -0.29999999999999993, 'nn_bias': 0.0, 'catboost': -0.3999999999999999, 'knn': -0.7, 'quality': 0.6000000000000001, 'volume': 0.40000000000000013}. Best is trial 38 with value: 5.704694321356923.\u001b[0m\n"
     ]
    },
    {
     "name": "stdout",
     "output_type": "stream",
     "text": [
      "time 2.562 cat_cov 90.0 cov 99.0 nov 0.936 ser 0.14 m1 0.11 m10 0.235 price 2.643 sum 4.193\n"
     ]
    },
    {
     "name": "stderr",
     "output_type": "stream",
     "text": [
      "\u001b[32m[I 2023-05-12 13:26:52,561]\u001b[0m Trial 40 finished with value: 5.66214468622125 and parameters: {'svd': 0.8, 'lfm_cos': -0.3999999999999999, 'nn_bias': -0.09999999999999998, 'catboost': -0.19999999999999996, 'knn': -0.9, 'quality': 0.9000000000000001, 'volume': 0.20000000000000018}. Best is trial 38 with value: 5.704694321356923.\u001b[0m\n"
     ]
    },
    {
     "name": "stdout",
     "output_type": "stream",
     "text": [
      "time 2.667 cat_cov 95.0 cov 100.0 nov 0.864 ser 0.205 m1 0.88 m10 0.807 price 2.868 sum 5.662\n"
     ]
    },
    {
     "name": "stderr",
     "output_type": "stream",
     "text": [
      "\u001b[32m[I 2023-05-12 13:26:55,227]\u001b[0m Trial 41 finished with value: 5.672684216567383 and parameters: {'svd': 0.9000000000000001, 'lfm_cos': -0.7, 'nn_bias': 0.30000000000000004, 'catboost': -0.19999999999999996, 'knn': -0.29999999999999993, 'quality': 0.40000000000000013, 'volume': 0.10000000000000009}. Best is trial 38 with value: 5.704694321356923.\u001b[0m\n"
     ]
    },
    {
     "name": "stdout",
     "output_type": "stream",
     "text": [
      "time 2.647 cat_cov 99.0 cov 100.0 nov 0.926 ser 0.193 m1 0.881 m10 0.809 price 2.618 sum 5.673\n"
     ]
    },
    {
     "name": "stderr",
     "output_type": "stream",
     "text": [
      "\u001b[32m[I 2023-05-12 13:26:57,920]\u001b[0m Trial 42 finished with value: 5.748573130570986 and parameters: {'svd': 0.9000000000000001, 'lfm_cos': -0.5, 'nn_bias': 0.10000000000000009, 'catboost': -0.6, 'knn': -0.5, 'quality': 0.7000000000000002, 'volume': -0.19999999999999996}. Best is trial 42 with value: 5.748573130570986.\u001b[0m\n"
     ]
    },
    {
     "name": "stdout",
     "output_type": "stream",
     "text": [
      "time 2.674 cat_cov 99.0 cov 100.0 nov 0.975 ser 0.206 m1 0.881 m10 0.81 price 2.658 sum 5.749\n"
     ]
    },
    {
     "name": "stderr",
     "output_type": "stream",
     "text": [
      "\u001b[32m[I 2023-05-12 13:27:00,589]\u001b[0m Trial 43 finished with value: 5.695341576600844 and parameters: {'svd': 1.0, 'lfm_cos': -0.5, 'nn_bias': 0.10000000000000009, 'catboost': -0.6, 'knn': -0.6, 'quality': 0.7000000000000002, 'volume': 0.30000000000000004}. Best is trial 42 with value: 5.748573130570986.\u001b[0m\n"
     ]
    },
    {
     "name": "stdout",
     "output_type": "stream",
     "text": [
      "time 2.649 cat_cov 93.0 cov 100.0 nov 0.958 ser 0.207 m1 0.886 m10 0.816 price 2.698 sum 5.695\n"
     ]
    },
    {
     "name": "stderr",
     "output_type": "stream",
     "text": [
      "\u001b[32m[I 2023-05-12 13:27:03,264]\u001b[0m Trial 44 finished with value: 5.742941617713641 and parameters: {'svd': 1.0, 'lfm_cos': -0.3999999999999999, 'nn_bias': 0.10000000000000009, 'catboost': -0.6, 'knn': -0.7, 'quality': 0.8, 'volume': 0.7000000000000002}. Best is trial 42 with value: 5.748573130570986.\u001b[0m\n"
     ]
    },
    {
     "name": "stdout",
     "output_type": "stream",
     "text": [
      "time 2.655 cat_cov 96.0 cov 100.0 nov 0.946 ser 0.208 m1 0.892 m10 0.822 price 2.745 sum 5.743\n"
     ]
    },
    {
     "name": "stderr",
     "output_type": "stream",
     "text": [
      "\u001b[32m[I 2023-05-12 13:27:06,446]\u001b[0m Trial 45 finished with value: 4.2999783739716015 and parameters: {'svd': -0.19999999999999996, 'lfm_cos': -0.09999999999999998, 'nn_bias': -0.19999999999999996, 'catboost': -0.8, 'knn': -0.8, 'quality': 0.8, 'volume': 0.7000000000000002}. Best is trial 42 with value: 5.748573130570986.\u001b[0m\n"
     ]
    },
    {
     "name": "stdout",
     "output_type": "stream",
     "text": [
      "time 3.163 cat_cov 87.0 cov 98.0 nov 0.817 ser 0.176 m1 0.17 m10 0.308 price 2.94 sum 4.3\n"
     ]
    },
    {
     "name": "stderr",
     "output_type": "stream",
     "text": [
      "\u001b[32m[I 2023-05-12 13:27:09,102]\u001b[0m Trial 46 finished with value: 5.610236262841645 and parameters: {'svd': 0.6000000000000001, 'lfm_cos': -0.3999999999999999, 'nn_bias': -0.29999999999999993, 'catboost': -0.7, 'knn': -0.5, 'quality': 1.0, 'volume': 0.8}. Best is trial 42 with value: 5.748573130570986.\u001b[0m\n"
     ]
    },
    {
     "name": "stdout",
     "output_type": "stream",
     "text": [
      "time 2.637 cat_cov 91.0 cov 100.0 nov 0.879 ser 0.211 m1 0.861 m10 0.787 price 2.884 sum 5.61\n"
     ]
    },
    {
     "name": "stderr",
     "output_type": "stream",
     "text": [
      "\u001b[32m[I 2023-05-12 13:27:11,765]\u001b[0m Trial 47 finished with value: 5.781378214734654 and parameters: {'svd': 0.8, 'lfm_cos': -0.19999999999999996, 'nn_bias': 0.0, 'catboost': -0.5, 'knn': -0.7, 'quality': 0.6000000000000001, 'volume': 0.6000000000000001}. Best is trial 47 with value: 5.781378214734654.\u001b[0m\n"
     ]
    },
    {
     "name": "stdout",
     "output_type": "stream",
     "text": [
      "time 2.644 cat_cov 97.0 cov 100.0 nov 0.914 ser 0.213 m1 0.901 m10 0.831 price 2.856 sum 5.781\n"
     ]
    },
    {
     "name": "stderr",
     "output_type": "stream",
     "text": [
      "\u001b[32m[I 2023-05-12 13:27:14,444]\u001b[0m Trial 48 finished with value: 5.7170073002575545 and parameters: {'svd': 0.8, 'lfm_cos': -0.19999999999999996, 'nn_bias': 0.0, 'catboost': -0.8, 'knn': -1.0, 'quality': 0.7000000000000002, 'volume': 0.6000000000000001}. Best is trial 47 with value: 5.781378214734654.\u001b[0m\n"
     ]
    },
    {
     "name": "stdout",
     "output_type": "stream",
     "text": [
      "time 2.659 cat_cov 90.0 cov 100.0 nov 0.927 ser 0.215 m1 0.894 m10 0.826 price 2.867 sum 5.717\n"
     ]
    },
    {
     "name": "stderr",
     "output_type": "stream",
     "text": [
      "\u001b[32m[I 2023-05-12 13:27:17,050]\u001b[0m Trial 49 finished with value: 4.22858858822119 and parameters: {'svd': -0.7, 'lfm_cos': -0.09999999999999998, 'nn_bias': -0.5, 'catboost': -0.8, 'knn': -1.0, 'quality': 0.9000000000000001, 'volume': 0.6000000000000001}. Best is trial 47 with value: 5.781378214734654.\u001b[0m\n"
     ]
    },
    {
     "name": "stdout",
     "output_type": "stream",
     "text": [
      "time 2.586 cat_cov 91.0 cov 99.0 nov 0.791 ser 0.163 m1 0.153 m10 0.282 price 2.818 sum 4.229\n"
     ]
    },
    {
     "name": "stderr",
     "output_type": "stream",
     "text": [
      "\u001b[32m[I 2023-05-12 13:27:19,754]\u001b[0m Trial 50 finished with value: 5.671838556615938 and parameters: {'svd': 0.8, 'lfm_cos': -0.19999999999999996, 'nn_bias': -0.3999999999999999, 'catboost': -0.9, 'knn': -0.8, 'quality': 0.7000000000000002, 'volume': 0.5}. Best is trial 47 with value: 5.781378214734654.\u001b[0m\n"
     ]
    },
    {
     "name": "stdout",
     "output_type": "stream",
     "text": [
      "time 2.683 cat_cov 94.0 cov 100.0 nov 0.816 ser 0.22 m1 0.889 m10 0.814 price 2.977 sum 5.672\n"
     ]
    },
    {
     "name": "stderr",
     "output_type": "stream",
     "text": [
      "\u001b[32m[I 2023-05-12 13:27:22,448]\u001b[0m Trial 51 finished with value: 5.762467357875705 and parameters: {'svd': 1.0, 'lfm_cos': -0.29999999999999993, 'nn_bias': 0.0, 'catboost': -0.6, 'knn': -0.9, 'quality': 0.6000000000000001, 'volume': 0.7000000000000002}. Best is trial 47 with value: 5.781378214734654.\u001b[0m\n"
     ]
    },
    {
     "name": "stdout",
     "output_type": "stream",
     "text": [
      "time 2.675 cat_cov 96.0 cov 100.0 nov 0.921 ser 0.212 m1 0.897 m10 0.828 price 2.835 sum 5.762\n"
     ]
    },
    {
     "name": "stderr",
     "output_type": "stream",
     "text": [
      "\u001b[32m[I 2023-05-12 13:27:25,120]\u001b[0m Trial 52 finished with value: 5.6541073529954975 and parameters: {'svd': 0.6000000000000001, 'lfm_cos': -0.29999999999999993, 'nn_bias': -0.09999999999999998, 'catboost': -0.6, 'knn': -0.9, 'quality': 0.6000000000000001, 'volume': 0.7000000000000002}. Best is trial 47 with value: 5.781378214734654.\u001b[0m\n"
     ]
    },
    {
     "name": "stdout",
     "output_type": "stream",
     "text": [
      "time 2.653 cat_cov 91.0 cov 99.0 nov 0.901 ser 0.212 m1 0.873 m10 0.803 price 2.893 sum 5.654\n"
     ]
    },
    {
     "name": "stderr",
     "output_type": "stream",
     "text": [
      "\u001b[32m[I 2023-05-12 13:27:27,770]\u001b[0m Trial 53 finished with value: 5.741815178612817 and parameters: {'svd': 1.0, 'lfm_cos': 0.10000000000000009, 'nn_bias': 0.0, 'catboost': -0.7, 'knn': -0.7, 'quality': 0.8, 'volume': 0.5}. Best is trial 47 with value: 5.781378214734654.\u001b[0m\n"
     ]
    },
    {
     "name": "stdout",
     "output_type": "stream",
     "text": [
      "time 2.63 cat_cov 97.0 cov 100.0 nov 0.756 ser 0.227 m1 0.92 m10 0.842 price 3.079 sum 5.742\n"
     ]
    },
    {
     "name": "stderr",
     "output_type": "stream",
     "text": [
      "\u001b[32m[I 2023-05-12 13:27:30,488]\u001b[0m Trial 54 finished with value: 5.336534893911978 and parameters: {'svd': 0.8, 'lfm_cos': 0.20000000000000018, 'nn_bias': 0.0, 'catboost': 1.0, 'knn': -1.0, 'quality': 0.8, 'volume': 1.0}. Best is trial 47 with value: 5.781378214734654.\u001b[0m\n"
     ]
    },
    {
     "name": "stdout",
     "output_type": "stream",
     "text": [
      "time 2.699 cat_cov 100.0 cov 100.0 nov 0.575 ser 0.172 m1 0.825 m10 0.8 price 2.893 sum 5.337\n"
     ]
    },
    {
     "name": "stderr",
     "output_type": "stream",
     "text": [
      "\u001b[32m[I 2023-05-12 13:27:33,203]\u001b[0m Trial 55 finished with value: 5.708858993758646 and parameters: {'svd': 1.0, 'lfm_cos': 0.10000000000000009, 'nn_bias': -0.09999999999999998, 'catboost': -0.7, 'knn': -0.8, 'quality': 0.9000000000000001, 'volume': 0.5}. Best is trial 47 with value: 5.781378214734654.\u001b[0m\n"
     ]
    },
    {
     "name": "stdout",
     "output_type": "stream",
     "text": [
      "time 2.696 cat_cov 95.0 cov 100.0 nov 0.747 ser 0.228 m1 0.917 m10 0.84 price 3.08 sum 5.709\n"
     ]
    },
    {
     "name": "stderr",
     "output_type": "stream",
     "text": [
      "\u001b[32m[I 2023-05-12 13:27:35,917]\u001b[0m Trial 56 finished with value: 5.6656388799745665 and parameters: {'svd': 0.8, 'lfm_cos': -0.19999999999999996, 'nn_bias': -0.19999999999999996, 'catboost': -1.0, 'knn': -0.9, 'quality': 0.5, 'volume': 0.8}. Best is trial 47 with value: 5.781378214734654.\u001b[0m\n"
     ]
    },
    {
     "name": "stdout",
     "output_type": "stream",
     "text": [
      "time 2.694 cat_cov 91.0 cov 99.0 nov 0.845 ser 0.219 m1 0.892 m10 0.819 price 2.969 sum 5.666\n"
     ]
    },
    {
     "name": "stderr",
     "output_type": "stream",
     "text": [
      "\u001b[32m[I 2023-05-12 13:27:38,636]\u001b[0m Trial 57 finished with value: 5.727399558378622 and parameters: {'svd': 0.7000000000000002, 'lfm_cos': 0.10000000000000009, 'nn_bias': 0.10000000000000009, 'catboost': -0.8, 'knn': -0.7, 'quality': 0.30000000000000004, 'volume': 0.7000000000000002}. Best is trial 47 with value: 5.781378214734654.\u001b[0m\n"
     ]
    },
    {
     "name": "stdout",
     "output_type": "stream",
     "text": [
      "time 2.698 cat_cov 92.0 cov 100.0 nov 0.83 ser 0.224 m1 0.911 m10 0.84 price 3.005 sum 5.727\n"
     ]
    },
    {
     "name": "stderr",
     "output_type": "stream",
     "text": [
      "\u001b[32m[I 2023-05-12 13:27:41,366]\u001b[0m Trial 58 finished with value: 5.749316493561291 and parameters: {'svd': 0.7000000000000002, 'lfm_cos': 0.10000000000000009, 'nn_bias': 0.10000000000000009, 'catboost': -0.7, 'knn': -0.6, 'quality': 0.30000000000000004, 'volume': 0.7000000000000002}. Best is trial 47 with value: 5.781378214734654.\u001b[0m\n"
     ]
    },
    {
     "name": "stdout",
     "output_type": "stream",
     "text": [
      "time 2.709 cat_cov 94.0 cov 100.0 nov 0.827 ser 0.224 m1 0.915 m10 0.843 price 3.003 sum 5.749\n"
     ]
    },
    {
     "name": "stderr",
     "output_type": "stream",
     "text": [
      "\u001b[32m[I 2023-05-12 13:27:44,103]\u001b[0m Trial 59 finished with value: 5.677461609703575 and parameters: {'svd': 1.0, 'lfm_cos': 0.5, 'nn_bias': 0.20000000000000018, 'catboost': -0.6, 'knn': -0.5, 'quality': 0.30000000000000004, 'volume': 0.9000000000000001}. Best is trial 47 with value: 5.781378214734654.\u001b[0m\n"
     ]
    },
    {
     "name": "stdout",
     "output_type": "stream",
     "text": [
      "time 2.716 cat_cov 100.0 cov 100.0 nov 0.715 ser 0.222 m1 0.919 m10 0.834 price 2.963 sum 5.677\n"
     ]
    },
    {
     "name": "stderr",
     "output_type": "stream",
     "text": [
      "\u001b[32m[I 2023-05-12 13:27:46,837]\u001b[0m Trial 60 finished with value: 5.667645151013852 and parameters: {'svd': 0.7000000000000002, 'lfm_cos': -0.09999999999999998, 'nn_bias': 0.5, 'catboost': -0.7, 'knn': -0.6, 'quality': 0.8, 'volume': 0.40000000000000013}. Best is trial 47 with value: 5.781378214734654.\u001b[0m\n"
     ]
    },
    {
     "name": "stdout",
     "output_type": "stream",
     "text": [
      "time 2.713 cat_cov 100.0 cov 100.0 nov 0.967 ser 0.205 m1 0.83 m10 0.756 price 2.727 sum 5.668\n"
     ]
    },
    {
     "name": "stderr",
     "output_type": "stream",
     "text": [
      "\u001b[32m[I 2023-05-12 13:27:49,552]\u001b[0m Trial 61 finished with value: 5.694178503705905 and parameters: {'svd': 0.7000000000000002, 'lfm_cos': 0.10000000000000009, 'nn_bias': 0.10000000000000009, 'catboost': -0.9, 'knn': -0.7, 'quality': 0.5, 'volume': 0.7000000000000002}. Best is trial 47 with value: 5.781378214734654.\u001b[0m\n"
     ]
    },
    {
     "name": "stdout",
     "output_type": "stream",
     "text": [
      "time 2.694 cat_cov 88.0 cov 100.0 nov 0.834 ser 0.224 m1 0.91 m10 0.839 price 3.02 sum 5.694\n"
     ]
    },
    {
     "name": "stderr",
     "output_type": "stream",
     "text": [
      "\u001b[32m[I 2023-05-12 13:27:52,280]\u001b[0m Trial 62 finished with value: 5.741050356650857 and parameters: {'svd': 1.0, 'lfm_cos': 0.20000000000000018, 'nn_bias': 0.10000000000000009, 'catboost': -0.5, 'knn': -0.6, 'quality': 0.30000000000000004, 'volume': 0.8}. Best is trial 47 with value: 5.781378214734654.\u001b[0m\n"
     ]
    },
    {
     "name": "stdout",
     "output_type": "stream",
     "text": [
      "time 2.707 cat_cov 100.0 cov 100.0 nov 0.745 ser 0.223 m1 0.928 m10 0.848 price 2.989 sum 5.741\n"
     ]
    },
    {
     "name": "stderr",
     "output_type": "stream",
     "text": [
      "\u001b[32m[I 2023-05-12 13:27:54,961]\u001b[0m Trial 63 finished with value: 5.696405269242284 and parameters: {'svd': 1.0, 'lfm_cos': 0.20000000000000018, 'nn_bias': -0.09999999999999998, 'catboost': -0.5, 'knn': -0.8, 'quality': 0.20000000000000018, 'volume': 0.8}. Best is trial 47 with value: 5.781378214734654.\u001b[0m\n"
     ]
    },
    {
     "name": "stdout",
     "output_type": "stream",
     "text": [
      "time 2.661 cat_cov 98.0 cov 100.0 nov 0.722 ser 0.226 m1 0.92 m10 0.839 price 3.027 sum 5.696\n"
     ]
    },
    {
     "name": "stderr",
     "output_type": "stream",
     "text": [
      "\u001b[32m[I 2023-05-12 13:27:57,691]\u001b[0m Trial 64 finished with value: 5.756042799375427 and parameters: {'svd': 0.9000000000000001, 'lfm_cos': 0.0, 'nn_bias': 0.20000000000000018, 'catboost': -0.5, 'knn': -0.3999999999999999, 'quality': 1.0, 'volume': 0.9000000000000001}. Best is trial 47 with value: 5.781378214734654.\u001b[0m\n"
     ]
    },
    {
     "name": "stdout",
     "output_type": "stream",
     "text": [
      "time 2.709 cat_cov 96.0 cov 100.0 nov 0.884 ser 0.208 m1 0.926 m10 0.85 price 2.786 sum 5.756\n"
     ]
    },
    {
     "name": "stderr",
     "output_type": "stream",
     "text": [
      "\u001b[32m[I 2023-05-12 13:28:00,404]\u001b[0m Trial 65 finished with value: 5.715759435889627 and parameters: {'svd': 0.9000000000000001, 'lfm_cos': 0.0, 'nn_bias': -0.8, 'catboost': -0.6, 'knn': -0.3999999999999999, 'quality': 0.9000000000000001, 'volume': 0.9000000000000001}. Best is trial 47 with value: 5.781378214734654.\u001b[0m\n"
     ]
    },
    {
     "name": "stdout",
     "output_type": "stream",
     "text": [
      "time 2.693 cat_cov 98.0 cov 100.0 nov 0.741 ser 0.223 m1 0.912 m10 0.829 price 3.092 sum 5.716\n"
     ]
    },
    {
     "name": "stderr",
     "output_type": "stream",
     "text": [
      "\u001b[32m[I 2023-05-12 13:28:03,094]\u001b[0m Trial 66 finished with value: 5.714317533339058 and parameters: {'svd': 0.40000000000000013, 'lfm_cos': 0.0, 'nn_bias': 0.0, 'catboost': -0.7, 'knn': -0.5, 'quality': 1.0, 'volume': 1.0}. Best is trial 47 with value: 5.781378214734654.\u001b[0m\n"
     ]
    },
    {
     "name": "stdout",
     "output_type": "stream",
     "text": [
      "time 2.67 cat_cov 89.0 cov 100.0 nov 0.8 ser 0.222 m1 0.904 m10 0.828 price 3.215 sum 5.714\n"
     ]
    },
    {
     "name": "stderr",
     "output_type": "stream",
     "text": [
      "\u001b[32m[I 2023-05-12 13:28:05,823]\u001b[0m Trial 67 finished with value: 5.445804915509072 and parameters: {'svd': 0.6000000000000001, 'lfm_cos': -0.29999999999999993, 'nn_bias': 0.30000000000000004, 'catboost': 0.5, 'knn': -0.8, 'quality': 1.0, 'volume': 0.6000000000000001}. Best is trial 47 with value: 5.781378214734654.\u001b[0m\n"
     ]
    },
    {
     "name": "stdout",
     "output_type": "stream",
     "text": [
      "time 2.708 cat_cov 98.0 cov 100.0 nov 0.766 ser 0.177 m1 0.823 m10 0.78 price 2.762 sum 5.446\n"
     ]
    },
    {
     "name": "stderr",
     "output_type": "stream",
     "text": [
      "\u001b[32m[I 2023-05-12 13:28:08,539]\u001b[0m Trial 68 finished with value: 5.66915411380974 and parameters: {'svd': 0.8, 'lfm_cos': 0.30000000000000004, 'nn_bias': 0.40000000000000013, 'catboost': -0.6, 'knn': -0.9, 'quality': 0.7000000000000002, 'volume': 0.5}. Best is trial 47 with value: 5.781378214734654.\u001b[0m\n"
     ]
    },
    {
     "name": "stdout",
     "output_type": "stream",
     "text": [
      "time 2.693 cat_cov 94.0 cov 100.0 nov 0.85 ser 0.217 m1 0.887 m10 0.816 price 2.876 sum 5.669\n"
     ]
    },
    {
     "name": "stderr",
     "output_type": "stream",
     "text": [
      "\u001b[32m[I 2023-05-12 13:28:11,254]\u001b[0m Trial 69 finished with value: 5.7066900034138826 and parameters: {'svd': 0.5, 'lfm_cos': -0.09999999999999998, 'nn_bias': 0.20000000000000018, 'catboost': -0.5, 'knn': -0.6, 'quality': 0.9000000000000001, 'volume': 0.6000000000000001}. Best is trial 47 with value: 5.781378214734654.\u001b[0m\n"
     ]
    },
    {
     "name": "stdout",
     "output_type": "stream",
     "text": [
      "time 2.694 cat_cov 92.0 cov 100.0 nov 0.949 ser 0.21 m1 0.881 m10 0.806 price 2.823 sum 5.707\n"
     ]
    },
    {
     "name": "stderr",
     "output_type": "stream",
     "text": [
      "\u001b[32m[I 2023-05-12 13:28:13,991]\u001b[0m Trial 70 finished with value: 5.740555614770532 and parameters: {'svd': 0.9000000000000001, 'lfm_cos': -0.5, 'nn_bias': -0.19999999999999996, 'catboost': -0.9, 'knn': -0.3999999999999999, 'quality': 0.6000000000000001, 'volume': 0.9000000000000001}. Best is trial 47 with value: 5.781378214734654.\u001b[0m\n"
     ]
    },
    {
     "name": "stdout",
     "output_type": "stream",
     "text": [
      "time 2.716 cat_cov 99.0 cov 100.0 nov 0.917 ser 0.211 m1 0.88 m10 0.808 price 2.803 sum 5.741\n"
     ]
    },
    {
     "name": "stderr",
     "output_type": "stream",
     "text": [
      "\u001b[32m[I 2023-05-12 13:28:16,671]\u001b[0m Trial 71 finished with value: 5.731805567761082 and parameters: {'svd': 1.0, 'lfm_cos': 0.20000000000000018, 'nn_bias': 0.10000000000000009, 'catboost': -0.5, 'knn': -0.7, 'quality': 0.8, 'volume': 0.8}. Best is trial 47 with value: 5.781378214734654.\u001b[0m\n"
     ]
    },
    {
     "name": "stdout",
     "output_type": "stream",
     "text": [
      "time 2.66 cat_cov 98.0 cov 100.0 nov 0.747 ser 0.224 m1 0.925 m10 0.845 price 3.033 sum 5.732\n"
     ]
    },
    {
     "name": "stderr",
     "output_type": "stream",
     "text": [
      "\u001b[32m[I 2023-05-12 13:28:19,343]\u001b[0m Trial 72 finished with value: 5.714352687229024 and parameters: {'svd': 1.0, 'lfm_cos': 0.30000000000000004, 'nn_bias': 0.10000000000000009, 'catboost': -0.5, 'knn': -0.6, 'quality': 0.40000000000000013, 'volume': 0.7000000000000002}. Best is trial 47 with value: 5.781378214734654.\u001b[0m\n"
     ]
    },
    {
     "name": "stdout",
     "output_type": "stream",
     "text": [
      "time 2.652 cat_cov 100.0 cov 100.0 nov 0.722 ser 0.223 m1 0.929 m10 0.844 price 2.988 sum 5.714\n"
     ]
    },
    {
     "name": "stderr",
     "output_type": "stream",
     "text": [
      "\u001b[32m[I 2023-05-12 13:28:22,041]\u001b[0m Trial 73 finished with value: 5.663944638168056 and parameters: {'svd': 0.9000000000000001, 'lfm_cos': 0.40000000000000013, 'nn_bias': 0.0, 'catboost': -0.3999999999999999, 'knn': -0.6, 'quality': 0.20000000000000018, 'volume': 0.40000000000000013}. Best is trial 47 with value: 5.781378214734654.\u001b[0m\n"
     ]
    },
    {
     "name": "stdout",
     "output_type": "stream",
     "text": [
      "time 2.676 cat_cov 100.0 cov 100.0 nov 0.697 ser 0.223 m1 0.919 m10 0.83 price 2.982 sum 5.664\n"
     ]
    },
    {
     "name": "stderr",
     "output_type": "stream",
     "text": [
      "\u001b[32m[I 2023-05-12 13:28:24,731]\u001b[0m Trial 74 finished with value: 5.532999810044873 and parameters: {'svd': 1.0, 'lfm_cos': 0.8, 'nn_bias': 0.20000000000000018, 'catboost': -0.6, 'knn': -0.5, 'quality': 0.7000000000000002, 'volume': 0.8}. Best is trial 47 with value: 5.781378214734654.\u001b[0m\n"
     ]
    },
    {
     "name": "stdout",
     "output_type": "stream",
     "text": [
      "time 2.67 cat_cov 99.0 cov 100.0 nov 0.677 ser 0.219 m1 0.876 m10 0.778 price 2.979 sum 5.533\n"
     ]
    },
    {
     "name": "stderr",
     "output_type": "stream",
     "text": [
      "\u001b[32m[I 2023-05-12 13:28:27,406]\u001b[0m Trial 75 finished with value: 5.7938668960315765 and parameters: {'svd': 0.9000000000000001, 'lfm_cos': 0.10000000000000009, 'nn_bias': 0.30000000000000004, 'catboost': -0.7, 'knn': -0.7, 'quality': 0.8, 'volume': 0.9000000000000001}. Best is trial 75 with value: 5.7938668960315765.\u001b[0m\n"
     ]
    },
    {
     "name": "stdout",
     "output_type": "stream",
     "text": [
      "time 2.653 cat_cov 97.0 cov 100.0 nov 0.899 ser 0.216 m1 0.911 m10 0.835 price 2.887 sum 5.794\n"
     ]
    },
    {
     "name": "stderr",
     "output_type": "stream",
     "text": [
      "\u001b[32m[I 2023-05-12 13:28:30,069]\u001b[0m Trial 76 finished with value: 5.692569965144402 and parameters: {'svd': 0.7000000000000002, 'lfm_cos': 0.0, 'nn_bias': 0.40000000000000013, 'catboost': -0.8, 'knn': -0.8, 'quality': 0.8, 'volume': 1.0}. Best is trial 75 with value: 5.7938668960315765.\u001b[0m\n"
     ]
    },
    {
     "name": "stdout",
     "output_type": "stream",
     "text": [
      "time 2.643 cat_cov 92.0 cov 100.0 nov 0.942 ser 0.212 m1 0.871 m10 0.796 price 2.854 sum 5.693\n"
     ]
    },
    {
     "name": "stderr",
     "output_type": "stream",
     "text": [
      "\u001b[32m[I 2023-05-12 13:28:32,746]\u001b[0m Trial 77 finished with value: 5.717564068627198 and parameters: {'svd': 0.8, 'lfm_cos': 0.0, 'nn_bias': 0.30000000000000004, 'catboost': -0.7, 'knn': -0.9, 'quality': 1.0, 'volume': 0.9000000000000001}. Best is trial 75 with value: 5.7938668960315765.\u001b[0m\n"
     ]
    },
    {
     "name": "stdout",
     "output_type": "stream",
     "text": [
      "time 2.657 cat_cov 90.0 cov 100.0 nov 0.93 ser 0.214 m1 0.896 m10 0.822 price 2.868 sum 5.718\n"
     ]
    },
    {
     "name": "stderr",
     "output_type": "stream",
     "text": [
      "\u001b[32m[I 2023-05-12 13:28:35,428]\u001b[0m Trial 78 finished with value: 5.588521535057964 and parameters: {'svd': 0.9000000000000001, 'lfm_cos': -0.5, 'nn_bias': 0.6000000000000001, 'catboost': -0.7, 'knn': -0.7, 'quality': 0.6000000000000001, 'volume': 0.6000000000000001}. Best is trial 75 with value: 5.7938668960315765.\u001b[0m\n"
     ]
    },
    {
     "name": "stdout",
     "output_type": "stream",
     "text": [
      "time 2.662 cat_cov 97.0 cov 100.0 nov 0.982 ser 0.2 m1 0.812 m10 0.734 price 2.669 sum 5.589\n"
     ]
    },
    {
     "name": "stderr",
     "output_type": "stream",
     "text": [
      "\u001b[32m[I 2023-05-12 13:28:38,091]\u001b[0m Trial 79 finished with value: 4.621448353133096 and parameters: {'svd': 0.10000000000000009, 'lfm_cos': -0.09999999999999998, 'nn_bias': 0.30000000000000004, 'catboost': -0.3999999999999999, 'knn': -0.5, 'quality': 0.9000000000000001, 'volume': -0.09999999999999998}. Best is trial 75 with value: 5.7938668960315765.\u001b[0m\n"
     ]
    },
    {
     "name": "stdout",
     "output_type": "stream",
     "text": [
      "time 2.642 cat_cov 90.0 cov 100.0 nov 0.983 ser 0.193 m1 0.203 m10 0.421 price 2.765 sum 4.621\n"
     ]
    },
    {
     "name": "stderr",
     "output_type": "stream",
     "text": [
      "\u001b[32m[I 2023-05-12 13:28:40,711]\u001b[0m Trial 80 finished with value: 4.276351825096786 and parameters: {'svd': -0.3999999999999999, 'lfm_cos': -0.3999999999999999, 'nn_bias': -0.09999999999999998, 'catboost': -1.0, 'knn': -0.3999999999999999, 'quality': 0.8, 'volume': 0.7000000000000002}. Best is trial 75 with value: 5.7938668960315765.\u001b[0m\n"
     ]
    },
    {
     "name": "stdout",
     "output_type": "stream",
     "text": [
      "time 2.6 cat_cov 85.0 cov 100.0 nov 1.012 ser 0.153 m1 0.134 m10 0.262 price 2.596 sum 4.276\n"
     ]
    },
    {
     "name": "stderr",
     "output_type": "stream",
     "text": [
      "\u001b[32m[I 2023-05-12 13:28:44,053]\u001b[0m Trial 81 finished with value: 5.770032147534512 and parameters: {'svd': 0.9000000000000001, 'lfm_cos': 0.20000000000000018, 'nn_bias': 0.20000000000000018, 'catboost': -0.5, 'knn': -0.6, 'quality': 0.5, 'volume': 0.9000000000000001}. Best is trial 75 with value: 5.7938668960315765.\u001b[0m\n"
     ]
    },
    {
     "name": "stdout",
     "output_type": "stream",
     "text": [
      "time 3.321 cat_cov 99.0 cov 100.0 nov 0.807 ser 0.22 m1 0.923 m10 0.848 price 2.946 sum 5.77\n"
     ]
    },
    {
     "name": "stderr",
     "output_type": "stream",
     "text": [
      "\u001b[32m[I 2023-05-12 13:28:46,754]\u001b[0m Trial 82 finished with value: 5.817661670149362 and parameters: {'svd': 0.9000000000000001, 'lfm_cos': 0.10000000000000009, 'nn_bias': 0.20000000000000018, 'catboost': -0.6, 'knn': -0.7, 'quality': 0.5, 'volume': 0.9000000000000001}. Best is trial 82 with value: 5.817661670149362.\u001b[0m\n"
     ]
    },
    {
     "name": "stdout",
     "output_type": "stream",
     "text": [
      "time 2.679 cat_cov 99.0 cov 100.0 nov 0.873 ser 0.219 m1 0.917 m10 0.843 price 2.928 sum 5.818\n"
     ]
    },
    {
     "name": "stderr",
     "output_type": "stream",
     "text": [
      "\u001b[32m[I 2023-05-12 13:28:49,461]\u001b[0m Trial 83 finished with value: 5.7981283419580585 and parameters: {'svd': 0.9000000000000001, 'lfm_cos': 0.10000000000000009, 'nn_bias': 0.20000000000000018, 'catboost': -0.6, 'knn': -0.6, 'quality': 0.5, 'volume': 1.0}. Best is trial 82 with value: 5.817661670149362.\u001b[0m\n"
     ]
    },
    {
     "name": "stdout",
     "output_type": "stream",
     "text": [
      "time 2.686 cat_cov 97.0 cov 100.0 nov 0.869 ser 0.218 m1 0.92 m10 0.845 price 2.928 sum 5.798\n"
     ]
    },
    {
     "name": "stderr",
     "output_type": "stream",
     "text": [
      "\u001b[32m[I 2023-05-12 13:28:52,216]\u001b[0m Trial 84 finished with value: 5.8152172695105975 and parameters: {'svd': 0.8, 'lfm_cos': 0.10000000000000009, 'nn_bias': 0.20000000000000018, 'catboost': -0.3999999999999999, 'knn': -0.6, 'quality': 0.5, 'volume': 1.0}. Best is trial 82 with value: 5.817661670149362.\u001b[0m\n"
     ]
    },
    {
     "name": "stdout",
     "output_type": "stream",
     "text": [
      "time 2.733 cat_cov 100.0 cov 100.0 nov 0.857 ser 0.217 m1 0.92 m10 0.843 price 2.934 sum 5.815\n"
     ]
    },
    {
     "name": "stderr",
     "output_type": "stream",
     "text": [
      "\u001b[32m[I 2023-05-12 13:28:55,040]\u001b[0m Trial 85 finished with value: 5.805217269510598 and parameters: {'svd': 0.8, 'lfm_cos': 0.10000000000000009, 'nn_bias': 0.20000000000000018, 'catboost': -0.3999999999999999, 'knn': -0.6, 'quality': 0.5, 'volume': 1.0}. Best is trial 82 with value: 5.817661670149362.\u001b[0m\n"
     ]
    },
    {
     "name": "stdout",
     "output_type": "stream",
     "text": [
      "time 2.804 cat_cov 99.0 cov 100.0 nov 0.857 ser 0.217 m1 0.92 m10 0.843 price 2.934 sum 5.805\n"
     ]
    },
    {
     "name": "stderr",
     "output_type": "stream",
     "text": [
      "\u001b[32m[I 2023-05-12 13:28:57,754]\u001b[0m Trial 86 finished with value: 5.692161987389072 and parameters: {'svd': 0.8, 'lfm_cos': 0.30000000000000004, 'nn_bias': 0.40000000000000013, 'catboost': -0.19999999999999996, 'knn': -0.8, 'quality': 0.5, 'volume': 1.0}. Best is trial 82 with value: 5.817661670149362.\u001b[0m\n"
     ]
    },
    {
     "name": "stdout",
     "output_type": "stream",
     "text": [
      "time 2.693 cat_cov 98.0 cov 100.0 nov 0.81 ser 0.213 m1 0.898 m10 0.825 price 2.897 sum 5.692\n"
     ]
    },
    {
     "name": "stderr",
     "output_type": "stream",
     "text": [
      "\u001b[32m[I 2023-05-12 13:29:00,497]\u001b[0m Trial 87 finished with value: 5.75039377183808 and parameters: {'svd': 0.6000000000000001, 'lfm_cos': 0.0, 'nn_bias': 0.20000000000000018, 'catboost': -0.3999999999999999, 'knn': -0.9, 'quality': 0.5, 'volume': 1.0}. Best is trial 82 with value: 5.817661670149362.\u001b[0m\n"
     ]
    },
    {
     "name": "stdout",
     "output_type": "stream",
     "text": [
      "time 2.72 cat_cov 92.0 cov 100.0 nov 0.916 ser 0.214 m1 0.899 m10 0.824 price 2.933 sum 5.75\n"
     ]
    },
    {
     "name": "stderr",
     "output_type": "stream",
     "text": [
      "\u001b[32m[I 2023-05-12 13:29:03,239]\u001b[0m Trial 88 finished with value: 5.678808637984463 and parameters: {'svd': 0.8, 'lfm_cos': 0.20000000000000018, 'nn_bias': 0.5, 'catboost': -0.29999999999999993, 'knn': -0.19999999999999996, 'quality': 0.40000000000000013, 'volume': 0.9000000000000001}. Best is trial 82 with value: 5.817661670149362.\u001b[0m\n"
     ]
    },
    {
     "name": "stdout",
     "output_type": "stream",
     "text": [
      "time 2.72 cat_cov 100.0 cov 100.0 nov 0.855 ser 0.196 m1 0.89 m10 0.836 price 2.704 sum 5.679\n"
     ]
    },
    {
     "name": "stderr",
     "output_type": "stream",
     "text": [
      "\u001b[32m[I 2023-05-12 13:29:05,945]\u001b[0m Trial 89 finished with value: 5.696185572227778 and parameters: {'svd': 0.9000000000000001, 'lfm_cos': 0.40000000000000013, 'nn_bias': 0.30000000000000004, 'catboost': -0.5, 'knn': -0.6, 'quality': 0.6000000000000001, 'volume': 0.9000000000000001}. Best is trial 82 with value: 5.817661670149362.\u001b[0m\n"
     ]
    },
    {
     "name": "stdout",
     "output_type": "stream",
     "text": [
      "time 2.683 cat_cov 98.0 cov 100.0 nov 0.769 ser 0.22 m1 0.914 m10 0.837 price 2.931 sum 5.696\n"
     ]
    },
    {
     "name": "stderr",
     "output_type": "stream",
     "text": [
      "\u001b[32m[I 2023-05-12 13:29:08,642]\u001b[0m Trial 90 finished with value: 5.635317732281537 and parameters: {'svd': 0.8, 'lfm_cos': 0.5, 'nn_bias': 0.20000000000000018, 'catboost': -0.3999999999999999, 'knn': -0.3999999999999999, 'quality': 0.40000000000000013, 'volume': 1.0}. Best is trial 82 with value: 5.817661670149362.\u001b[0m\n"
     ]
    },
    {
     "name": "stdout",
     "output_type": "stream",
     "text": [
      "time 2.676 cat_cov 100.0 cov 100.0 nov 0.691 ser 0.219 m1 0.91 m10 0.821 price 2.981 sum 5.635\n"
     ]
    },
    {
     "name": "stderr",
     "output_type": "stream",
     "text": [
      "\u001b[32m[I 2023-05-12 13:29:11,357]\u001b[0m Trial 91 finished with value: 5.736530384031057 and parameters: {'svd': 0.7000000000000002, 'lfm_cos': 0.0, 'nn_bias': 0.20000000000000018, 'catboost': -0.3999999999999999, 'knn': -1.0, 'quality': 0.5, 'volume': 1.0}. Best is trial 82 with value: 5.817661670149362.\u001b[0m\n"
     ]
    },
    {
     "name": "stdout",
     "output_type": "stream",
     "text": [
      "time 2.693 cat_cov 90.0 cov 100.0 nov 0.914 ser 0.214 m1 0.903 m10 0.829 price 2.929 sum 5.737\n"
     ]
    },
    {
     "name": "stderr",
     "output_type": "stream",
     "text": [
      "\u001b[32m[I 2023-05-12 13:29:14,082]\u001b[0m Trial 92 finished with value: 5.731424857611261 and parameters: {'svd': 0.6000000000000001, 'lfm_cos': 0.10000000000000009, 'nn_bias': 0.20000000000000018, 'catboost': -0.5, 'knn': -0.9, 'quality': 0.5, 'volume': 0.9000000000000001}. Best is trial 82 with value: 5.817661670149362.\u001b[0m\n"
     ]
    },
    {
     "name": "stdout",
     "output_type": "stream",
     "text": [
      "time 2.704 cat_cov 92.0 cov 100.0 nov 0.872 ser 0.218 m1 0.901 m10 0.828 price 2.977 sum 5.731\n"
     ]
    },
    {
     "name": "stderr",
     "output_type": "stream",
     "text": [
      "\u001b[32m[I 2023-05-12 13:29:16,777]\u001b[0m Trial 93 finished with value: 5.7628436114211 and parameters: {'svd': 0.9000000000000001, 'lfm_cos': 0.20000000000000018, 'nn_bias': 0.30000000000000004, 'catboost': -0.29999999999999993, 'knn': -0.7, 'quality': 0.6000000000000001, 'volume': 1.0}. Best is trial 82 with value: 5.817661670149362.\u001b[0m\n"
     ]
    },
    {
     "name": "stdout",
     "output_type": "stream",
     "text": [
      "time 2.673 cat_cov 99.0 cov 100.0 nov 0.829 ser 0.214 m1 0.919 m10 0.844 price 2.901 sum 5.763\n"
     ]
    },
    {
     "name": "stderr",
     "output_type": "stream",
     "text": [
      "\u001b[32m[I 2023-05-12 13:29:19,515]\u001b[0m Trial 94 finished with value: 5.753646738691391 and parameters: {'svd': 0.9000000000000001, 'lfm_cos': 0.20000000000000018, 'nn_bias': 0.40000000000000013, 'catboost': -0.3999999999999999, 'knn': -0.7, 'quality': 0.6000000000000001, 'volume': 0.9000000000000001}. Best is trial 82 with value: 5.817661670149362.\u001b[0m\n"
     ]
    },
    {
     "name": "stdout",
     "output_type": "stream",
     "text": [
      "time 2.716 cat_cov 99.0 cov 100.0 nov 0.86 ser 0.212 m1 0.908 m10 0.832 price 2.854 sum 5.754\n"
     ]
    },
    {
     "name": "stderr",
     "output_type": "stream",
     "text": [
      "\u001b[32m[I 2023-05-12 13:29:22,258]\u001b[0m Trial 95 finished with value: 5.697895816634634 and parameters: {'svd': 0.9000000000000001, 'lfm_cos': -0.19999999999999996, 'nn_bias': 0.30000000000000004, 'catboost': -0.19999999999999996, 'knn': -0.5, 'quality': 0.6000000000000001, 'volume': 0.8}. Best is trial 82 with value: 5.817661670149362.\u001b[0m\n"
     ]
    },
    {
     "name": "stdout",
     "output_type": "stream",
     "text": [
      "time 2.719 cat_cov 96.0 cov 100.0 nov 0.886 ser 0.2 m1 0.908 m10 0.84 price 2.711 sum 5.698\n"
     ]
    },
    {
     "name": "stderr",
     "output_type": "stream",
     "text": [
      "\u001b[32m[I 2023-05-12 13:29:24,984]\u001b[0m Trial 96 finished with value: 5.6780998026129375 and parameters: {'svd': 0.8, 'lfm_cos': 0.30000000000000004, 'nn_bias': 0.5, 'catboost': -0.29999999999999993, 'knn': -0.7, 'quality': 0.40000000000000013, 'volume': 1.0}. Best is trial 82 with value: 5.817661670149362.\u001b[0m\n"
     ]
    },
    {
     "name": "stdout",
     "output_type": "stream",
     "text": [
      "time 2.703 cat_cov 99.0 cov 100.0 nov 0.835 ser 0.21 m1 0.882 m10 0.811 price 2.851 sum 5.678\n"
     ]
    },
    {
     "name": "stderr",
     "output_type": "stream",
     "text": [
      "\u001b[32m[I 2023-05-12 13:29:27,708]\u001b[0m Trial 97 finished with value: 5.70941962554451 and parameters: {'svd': 0.9000000000000001, 'lfm_cos': 0.10000000000000009, 'nn_bias': 0.30000000000000004, 'catboost': 0.10000000000000009, 'knn': -0.8, 'quality': 0.7000000000000002, 'volume': 0.9000000000000001}. Best is trial 82 with value: 5.817661670149362.\u001b[0m\n"
     ]
    },
    {
     "name": "stdout",
     "output_type": "stream",
     "text": [
      "time 2.703 cat_cov 98.0 cov 100.0 nov 0.816 ser 0.201 m1 0.921 m10 0.854 price 2.811 sum 5.709\n"
     ]
    },
    {
     "name": "stderr",
     "output_type": "stream",
     "text": [
      "\u001b[32m[I 2023-05-12 13:29:30,411]\u001b[0m Trial 98 finished with value: 5.737461607185068 and parameters: {'svd': 0.8, 'lfm_cos': 0.20000000000000018, 'nn_bias': 0.30000000000000004, 'catboost': -0.09999999999999998, 'knn': -0.6, 'quality': 0.6000000000000001, 'volume': 1.0}. Best is trial 82 with value: 5.817661670149362.\u001b[0m\n"
     ]
    },
    {
     "name": "stdout",
     "output_type": "stream",
     "text": [
      "time 2.68 cat_cov 99.0 cov 100.0 nov 0.802 ser 0.209 m1 0.922 m10 0.853 price 2.887 sum 5.737\n"
     ]
    },
    {
     "name": "stderr",
     "output_type": "stream",
     "text": [
      "\u001b[32m[I 2023-05-12 13:29:33,128]\u001b[0m Trial 99 finished with value: 5.78450961780397 and parameters: {'svd': 0.9000000000000001, 'lfm_cos': 0.10000000000000009, 'nn_bias': 0.20000000000000018, 'catboost': -0.6, 'knn': -0.8, 'quality': 0.40000000000000013, 'volume': 0.8}. Best is trial 82 with value: 5.817661670149362.\u001b[0m\n"
     ]
    },
    {
     "name": "stdout",
     "output_type": "stream",
     "text": [
      "time 2.696 cat_cov 96.0 cov 100.0 nov 0.878 ser 0.219 m1 0.914 m10 0.841 price 2.917 sum 5.785\n"
     ]
    },
    {
     "name": "stderr",
     "output_type": "stream",
     "text": [
      "\u001b[32m[I 2023-05-12 13:29:35,903]\u001b[0m Trial 100 finished with value: 5.323957264252563 and parameters: {'svd': 1.0, 'lfm_cos': 0.10000000000000009, 'nn_bias': 0.6000000000000001, 'catboost': -0.6, 'knn': 0.7000000000000002, 'quality': 0.20000000000000018, 'volume': 0.8}. Best is trial 82 with value: 5.817661670149362.\u001b[0m\n"
     ]
    },
    {
     "name": "stdout",
     "output_type": "stream",
     "text": [
      "time 2.752 cat_cov 100.0 cov 100.0 nov 0.837 ser 0.176 m1 0.699 m10 0.753 price 2.574 sum 5.324\n"
     ]
    },
    {
     "name": "stderr",
     "output_type": "stream",
     "text": [
      "\u001b[32m[I 2023-05-12 13:29:38,609]\u001b[0m Trial 101 finished with value: 5.76223710555778 and parameters: {'svd': 0.9000000000000001, 'lfm_cos': -0.09999999999999998, 'nn_bias': 0.40000000000000013, 'catboost': -0.5, 'knn': -0.8, 'quality': 0.40000000000000013, 'volume': 0.9000000000000001}. Best is trial 82 with value: 5.817661670149362.\u001b[0m\n"
     ]
    },
    {
     "name": "stdout",
     "output_type": "stream",
     "text": [
      "time 2.685 cat_cov 99.0 cov 100.0 nov 0.941 ser 0.208 m1 0.891 m10 0.811 price 2.765 sum 5.762\n"
     ]
    },
    {
     "name": "stderr",
     "output_type": "stream",
     "text": [
      "\u001b[32m[I 2023-05-12 13:29:41,290]\u001b[0m Trial 102 finished with value: 5.137880035346469 and parameters: {'svd': 0.9000000000000001, 'lfm_cos': -0.09999999999999998, 'nn_bias': 1.0, 'catboost': -0.5, 'knn': -0.8, 'quality': 0.40000000000000013, 'volume': 0.8}. Best is trial 82 with value: 5.817661670149362.\u001b[0m\n"
     ]
    },
    {
     "name": "stdout",
     "output_type": "stream",
     "text": [
      "time 2.66 cat_cov 95.0 cov 100.0 nov 0.941 ser 0.193 m1 0.535 m10 0.629 price 2.668 sum 5.138\n"
     ]
    },
    {
     "name": "stderr",
     "output_type": "stream",
     "text": [
      "\u001b[32m[I 2023-05-12 13:29:43,939]\u001b[0m Trial 103 finished with value: 5.716897680521055 and parameters: {'svd': 0.8, 'lfm_cos': 0.30000000000000004, 'nn_bias': 0.40000000000000013, 'catboost': -0.6, 'knn': -0.7, 'quality': 0.5, 'volume': 1.0}. Best is trial 82 with value: 5.817661670149362.\u001b[0m\n"
     ]
    },
    {
     "name": "stdout",
     "output_type": "stream",
     "text": [
      "time 2.628 cat_cov 98.0 cov 100.0 nov 0.84 ser 0.217 m1 0.894 m10 0.821 price 2.893 sum 5.717\n"
     ]
    },
    {
     "name": "stderr",
     "output_type": "stream",
     "text": [
      "\u001b[32m[I 2023-05-12 13:29:46,598]\u001b[0m Trial 104 finished with value: 5.783258977988328 and parameters: {'svd': 1.0, 'lfm_cos': 0.20000000000000018, 'nn_bias': 0.40000000000000013, 'catboost': -0.6, 'knn': -0.8, 'quality': 0.30000000000000004, 'volume': 0.9000000000000001}. Best is trial 82 with value: 5.817661670149362.\u001b[0m\n"
     ]
    },
    {
     "name": "stdout",
     "output_type": "stream",
     "text": [
      "time 2.637 cat_cov 100.0 cov 100.0 nov 0.877 ser 0.216 m1 0.908 m10 0.833 price 2.847 sum 5.783\n"
     ]
    },
    {
     "name": "stderr",
     "output_type": "stream",
     "text": [
      "\u001b[32m[I 2023-05-12 13:29:49,274]\u001b[0m Trial 105 finished with value: 5.791934994481302 and parameters: {'svd': 1.0, 'lfm_cos': 0.10000000000000009, 'nn_bias': 0.30000000000000004, 'catboost': -0.6, 'knn': -1.0, 'quality': 0.30000000000000004, 'volume': 1.0}. Best is trial 82 with value: 5.817661670149362.\u001b[0m\n"
     ]
    },
    {
     "name": "stdout",
     "output_type": "stream",
     "text": [
      "time 2.655 cat_cov 97.0 cov 100.0 nov 0.897 ser 0.217 m1 0.909 m10 0.836 price 2.891 sum 5.792\n"
     ]
    },
    {
     "name": "stderr",
     "output_type": "stream",
     "text": [
      "\u001b[32m[I 2023-05-12 13:29:51,938]\u001b[0m Trial 106 finished with value: 5.637466740932079 and parameters: {'svd': 0.7000000000000002, 'lfm_cos': 0.10000000000000009, 'nn_bias': 0.5, 'catboost': -0.8, 'knn': -1.0, 'quality': 0.30000000000000004, 'volume': 1.0}. Best is trial 82 with value: 5.817661670149362.\u001b[0m\n"
     ]
    },
    {
     "name": "stdout",
     "output_type": "stream",
     "text": [
      "time 2.641 cat_cov 93.0 cov 100.0 nov 0.922 ser 0.213 m1 0.844 m10 0.772 price 2.87 sum 5.637\n"
     ]
    },
    {
     "name": "stderr",
     "output_type": "stream",
     "text": [
      "\u001b[32m[I 2023-05-12 13:29:54,574]\u001b[0m Trial 107 finished with value: 5.723536019786214 and parameters: {'svd': 1.0, 'lfm_cos': 0.40000000000000013, 'nn_bias': 0.30000000000000004, 'catboost': -0.6, 'knn': -0.7, 'quality': 0.0, 'volume': 1.0}. Best is trial 82 with value: 5.817661670149362.\u001b[0m\n"
     ]
    },
    {
     "name": "stdout",
     "output_type": "stream",
     "text": [
      "time 2.614 cat_cov 100.0 cov 100.0 nov 0.778 ser 0.221 m1 0.916 m10 0.838 price 2.912 sum 5.724\n"
     ]
    },
    {
     "name": "stderr",
     "output_type": "stream",
     "text": [
      "\u001b[32m[I 2023-05-12 13:29:57,242]\u001b[0m Trial 108 finished with value: 5.740053770542109 and parameters: {'svd': 0.7000000000000002, 'lfm_cos': 0.20000000000000018, 'nn_bias': 0.20000000000000018, 'catboost': -0.7, 'knn': -0.6, 'quality': 0.30000000000000004, 'volume': 0.9000000000000001}. Best is trial 82 with value: 5.817661670149362.\u001b[0m\n"
     ]
    },
    {
     "name": "stdout",
     "output_type": "stream",
     "text": [
      "time 2.647 cat_cov 96.0 cov 100.0 nov 0.827 ser 0.223 m1 0.91 m10 0.838 price 2.946 sum 5.74\n"
     ]
    },
    {
     "name": "stderr",
     "output_type": "stream",
     "text": [
      "\u001b[32m[I 2023-05-12 13:29:59,865]\u001b[0m Trial 109 finished with value: 4.2148524473015385 and parameters: {'svd': -0.09999999999999998, 'lfm_cos': 0.20000000000000018, 'nn_bias': 0.30000000000000004, 'catboost': -0.6, 'knn': -0.9, 'quality': 0.5, 'volume': 0.8}. Best is trial 82 with value: 5.817661670149362.\u001b[0m\n"
     ]
    },
    {
     "name": "stdout",
     "output_type": "stream",
     "text": [
      "time 2.601 cat_cov 85.0 cov 99.0 nov 0.842 ser 0.167 m1 0.137 m10 0.293 price 2.808 sum 4.215\n"
     ]
    },
    {
     "name": "stderr",
     "output_type": "stream",
     "text": [
      "\u001b[32m[I 2023-05-12 13:30:02,560]\u001b[0m Trial 110 finished with value: 5.729594340935095 and parameters: {'svd': 1.0, 'lfm_cos': 0.10000000000000009, 'nn_bias': 0.40000000000000013, 'catboost': -0.29999999999999993, 'knn': -0.8, 'quality': 0.40000000000000013, 'volume': 1.0}. Best is trial 82 with value: 5.817661670149362.\u001b[0m\n"
     ]
    },
    {
     "name": "stdout",
     "output_type": "stream",
     "text": [
      "time 2.674 cat_cov 96.0 cov 100.0 nov 0.883 ser 0.208 m1 0.911 m10 0.832 price 2.808 sum 5.73\n"
     ]
    },
    {
     "name": "stderr",
     "output_type": "stream",
     "text": [
      "\u001b[32m[I 2023-05-12 13:30:05,207]\u001b[0m Trial 111 finished with value: 5.691245628612077 and parameters: {'svd': 1.0, 'lfm_cos': 0.30000000000000004, 'nn_bias': 0.10000000000000009, 'catboost': -0.6, 'knn': -1.0, 'quality': 0.10000000000000009, 'volume': 0.9000000000000001}. Best is trial 82 with value: 5.817661670149362.\u001b[0m\n"
     ]
    },
    {
     "name": "stdout",
     "output_type": "stream",
     "text": [
      "time 2.626 cat_cov 97.0 cov 100.0 nov 0.74 ser 0.226 m1 0.915 m10 0.836 price 3.013 sum 5.691\n"
     ]
    },
    {
     "name": "stderr",
     "output_type": "stream",
     "text": [
      "\u001b[32m[I 2023-05-12 13:30:07,886]\u001b[0m Trial 112 finished with value: 5.759510280365776 and parameters: {'svd': 0.9000000000000001, 'lfm_cos': 0.10000000000000009, 'nn_bias': 0.20000000000000018, 'catboost': -0.7, 'knn': -0.9, 'quality': 0.5, 'volume': 0.8}. Best is trial 82 with value: 5.817661670149362.\u001b[0m\n"
     ]
    },
    {
     "name": "stdout",
     "output_type": "stream",
     "text": [
      "time 2.656 cat_cov 93.0 cov 100.0 nov 0.882 ser 0.22 m1 0.911 m10 0.839 price 2.932 sum 5.76\n"
     ]
    },
    {
     "name": "stderr",
     "output_type": "stream",
     "text": [
      "\u001b[32m[I 2023-05-12 13:30:10,539]\u001b[0m Trial 113 finished with value: 5.797163073426884 and parameters: {'svd': 0.8, 'lfm_cos': 0.0, 'nn_bias': 0.20000000000000018, 'catboost': -0.5, 'knn': -0.7, 'quality': 0.6000000000000001, 'volume': 0.9000000000000001}. Best is trial 82 with value: 5.817661670149362.\u001b[0m\n"
     ]
    },
    {
     "name": "stdout",
     "output_type": "stream",
     "text": [
      "time 2.632 cat_cov 96.0 cov 100.0 nov 0.915 ser 0.214 m1 0.912 m10 0.836 price 2.878 sum 5.797\n"
     ]
    },
    {
     "name": "stderr",
     "output_type": "stream",
     "text": [
      "\u001b[32m[I 2023-05-12 13:30:13,231]\u001b[0m Trial 114 finished with value: 5.559370573084182 and parameters: {'svd': 0.8, 'lfm_cos': 0.0, 'nn_bias': 0.30000000000000004, 'catboost': -0.3999999999999999, 'knn': 0.30000000000000004, 'quality': 0.5, 'volume': 1.0}. Best is trial 82 with value: 5.817661670149362.\u001b[0m\n"
     ]
    },
    {
     "name": "stdout",
     "output_type": "stream",
     "text": [
      "time 2.671 cat_cov 97.0 cov 100.0 nov 0.836 ser 0.188 m1 0.848 m10 0.836 price 2.644 sum 5.559\n"
     ]
    },
    {
     "name": "stderr",
     "output_type": "stream",
     "text": [
      "\u001b[32m[I 2023-05-12 13:30:15,889]\u001b[0m Trial 115 finished with value: 5.73623041402019 and parameters: {'svd': 0.8, 'lfm_cos': 0.20000000000000018, 'nn_bias': 0.20000000000000018, 'catboost': -0.5, 'knn': -0.7, 'quality': 0.7000000000000002, 'volume': 0.9000000000000001}. Best is trial 82 with value: 5.817661670149362.\u001b[0m\n"
     ]
    },
    {
     "name": "stdout",
     "output_type": "stream",
     "text": [
      "time 2.636 cat_cov 95.0 cov 100.0 nov 0.814 ser 0.221 m1 0.916 m10 0.842 price 2.98 sum 5.736\n"
     ]
    },
    {
     "name": "stderr",
     "output_type": "stream",
     "text": [
      "\u001b[32m[I 2023-05-12 13:30:18,541]\u001b[0m Trial 116 finished with value: 5.794239579515998 and parameters: {'svd': 0.9000000000000001, 'lfm_cos': 0.10000000000000009, 'nn_bias': 0.10000000000000009, 'catboost': -0.8, 'knn': -0.6, 'quality': 0.20000000000000018, 'volume': 0.9000000000000001}. Best is trial 82 with value: 5.817661670149362.\u001b[0m\n"
     ]
    },
    {
     "name": "stdout",
     "output_type": "stream",
     "text": [
      "time 2.63 cat_cov 98.0 cov 100.0 nov 0.82 ser 0.224 m1 0.92 m10 0.847 price 3.009 sum 5.794\n"
     ]
    },
    {
     "name": "stderr",
     "output_type": "stream",
     "text": [
      "\u001b[32m[I 2023-05-12 13:30:21,212]\u001b[0m Trial 117 finished with value: 5.814301013198781 and parameters: {'svd': 0.8, 'lfm_cos': 0.0, 'nn_bias': 0.10000000000000009, 'catboost': -0.8, 'knn': -0.6, 'quality': 0.20000000000000018, 'volume': 0.8}. Best is trial 82 with value: 5.817661670149362.\u001b[0m\n"
     ]
    },
    {
     "name": "stdout",
     "output_type": "stream",
     "text": [
      "time 2.65 cat_cov 95.0 cov 100.0 nov 0.914 ser 0.219 m1 0.914 m10 0.844 price 2.923 sum 5.814\n"
     ]
    },
    {
     "name": "stderr",
     "output_type": "stream",
     "text": [
      "\u001b[32m[I 2023-05-12 13:30:23,883]\u001b[0m Trial 118 finished with value: 5.805174930249524 and parameters: {'svd': 0.7000000000000002, 'lfm_cos': 0.0, 'nn_bias': 0.10000000000000009, 'catboost': -0.8, 'knn': -0.5, 'quality': 0.20000000000000018, 'volume': 0.8}. Best is trial 82 with value: 5.817661670149362.\u001b[0m\n"
     ]
    },
    {
     "name": "stdout",
     "output_type": "stream",
     "text": [
      "time 2.649 cat_cov 94.0 cov 100.0 nov 0.917 ser 0.219 m1 0.913 m10 0.842 price 2.922 sum 5.805\n"
     ]
    },
    {
     "name": "stderr",
     "output_type": "stream",
     "text": [
      "\u001b[32m[I 2023-05-12 13:30:26,549]\u001b[0m Trial 119 finished with value: 5.8077267079155055 and parameters: {'svd': 0.8, 'lfm_cos': 0.0, 'nn_bias': 0.10000000000000009, 'catboost': -0.9, 'knn': -0.5, 'quality': 0.20000000000000018, 'volume': 0.8}. Best is trial 82 with value: 5.817661670149362.\u001b[0m\n"
     ]
    },
    {
     "name": "stdout",
     "output_type": "stream",
     "text": [
      "time 2.645 cat_cov 94.0 cov 100.0 nov 0.918 ser 0.219 m1 0.915 m10 0.845 price 2.913 sum 5.808\n"
     ]
    },
    {
     "name": "stderr",
     "output_type": "stream",
     "text": [
      "\u001b[32m[I 2023-05-12 13:30:29,224]\u001b[0m Trial 120 finished with value: 5.762799726913988 and parameters: {'svd': 0.6000000000000001, 'lfm_cos': 0.0, 'nn_bias': 0.10000000000000009, 'catboost': -0.9, 'knn': -0.5, 'quality': 0.10000000000000009, 'volume': 0.8}. Best is trial 82 with value: 5.817661670149362.\u001b[0m\n"
     ]
    },
    {
     "name": "stdout",
     "output_type": "stream",
     "text": [
      "time 2.652 cat_cov 90.0 cov 100.0 nov 0.922 ser 0.22 m1 0.908 m10 0.837 price 2.928 sum 5.763\n"
     ]
    },
    {
     "name": "stderr",
     "output_type": "stream",
     "text": [
      "\u001b[32m[I 2023-05-12 13:30:31,899]\u001b[0m Trial 121 finished with value: 5.751887319094962 and parameters: {'svd': 0.7000000000000002, 'lfm_cos': 0.10000000000000009, 'nn_bias': 0.10000000000000009, 'catboost': -0.8, 'knn': -0.5, 'quality': 0.20000000000000018, 'volume': 0.8}. Best is trial 82 with value: 5.817661670149362.\u001b[0m\n"
     ]
    },
    {
     "name": "stdout",
     "output_type": "stream",
     "text": [
      "time 2.653 cat_cov 94.0 cov 100.0 nov 0.826 ser 0.224 m1 0.916 m10 0.845 price 3.001 sum 5.752\n"
     ]
    },
    {
     "name": "stderr",
     "output_type": "stream",
     "text": [
      "\u001b[32m[I 2023-05-12 13:30:34,579]\u001b[0m Trial 122 finished with value: 5.796474657936595 and parameters: {'svd': 0.8, 'lfm_cos': 0.0, 'nn_bias': 0.10000000000000009, 'catboost': -0.9, 'knn': -0.6, 'quality': 0.10000000000000009, 'volume': 0.9000000000000001}. Best is trial 82 with value: 5.817661670149362.\u001b[0m\n"
     ]
    },
    {
     "name": "stdout",
     "output_type": "stream",
     "text": [
      "time 2.659 cat_cov 93.0 cov 100.0 nov 0.915 ser 0.219 m1 0.913 m10 0.843 price 2.929 sum 5.796\n"
     ]
    },
    {
     "name": "stderr",
     "output_type": "stream",
     "text": [
      "\u001b[32m[I 2023-05-12 13:30:37,249]\u001b[0m Trial 123 finished with value: 5.774409117126734 and parameters: {'svd': 0.8, 'lfm_cos': -0.09999999999999998, 'nn_bias': 0.0, 'catboost': -0.9, 'knn': -0.5, 'quality': 0.10000000000000009, 'volume': 0.8}. Best is trial 82 with value: 5.817661670149362.\u001b[0m\n"
     ]
    },
    {
     "name": "stdout",
     "output_type": "stream",
     "text": [
      "time 2.649 cat_cov 93.0 cov 100.0 nov 0.903 ser 0.218 m1 0.91 m10 0.842 price 2.913 sum 5.774\n"
     ]
    },
    {
     "name": "stderr",
     "output_type": "stream",
     "text": [
      "\u001b[32m[I 2023-05-12 13:30:39,916]\u001b[0m Trial 124 finished with value: 5.8031583782212905 and parameters: {'svd': 0.7000000000000002, 'lfm_cos': 0.0, 'nn_bias': 0.10000000000000009, 'catboost': -1.0, 'knn': -0.6, 'quality': 0.0, 'volume': 0.7000000000000002}. Best is trial 82 with value: 5.817661670149362.\u001b[0m\n"
     ]
    },
    {
     "name": "stdout",
     "output_type": "stream",
     "text": [
      "time 2.646 cat_cov 94.0 cov 100.0 nov 0.925 ser 0.22 m1 0.908 m10 0.838 price 2.913 sum 5.803\n"
     ]
    },
    {
     "name": "stderr",
     "output_type": "stream",
     "text": [
      "\u001b[32m[I 2023-05-12 13:30:42,586]\u001b[0m Trial 125 finished with value: 5.772125266760433 and parameters: {'svd': 0.7000000000000002, 'lfm_cos': 0.0, 'nn_bias': 0.10000000000000009, 'catboost': -1.0, 'knn': -0.6, 'quality': 0.20000000000000018, 'volume': 0.7000000000000002}. Best is trial 82 with value: 5.817661670149362.\u001b[0m\n"
     ]
    },
    {
     "name": "stdout",
     "output_type": "stream",
     "text": [
      "time 2.648 cat_cov 91.0 cov 100.0 nov 0.924 ser 0.22 m1 0.908 m10 0.837 price 2.918 sum 5.772\n"
     ]
    },
    {
     "name": "stderr",
     "output_type": "stream",
     "text": [
      "\u001b[32m[I 2023-05-12 13:30:45,892]\u001b[0m Trial 126 finished with value: 5.774630176313225 and parameters: {'svd': 0.5, 'lfm_cos': 0.0, 'nn_bias': 0.10000000000000009, 'catboost': -1.0, 'knn': -0.3999999999999999, 'quality': 0.10000000000000009, 'volume': 0.9000000000000001}. Best is trial 82 with value: 5.817661670149362.\u001b[0m\n"
     ]
    },
    {
     "name": "stdout",
     "output_type": "stream",
     "text": [
      "time 3.284 cat_cov 91.0 cov 100.0 nov 0.927 ser 0.22 m1 0.907 m10 0.835 price 2.931 sum 5.775\n"
     ]
    },
    {
     "name": "stderr",
     "output_type": "stream",
     "text": [
      "\u001b[32m[I 2023-05-12 13:30:48,564]\u001b[0m Trial 127 finished with value: 5.755176509113898 and parameters: {'svd': 0.7000000000000002, 'lfm_cos': -0.09999999999999998, 'nn_bias': 0.0, 'catboost': -0.9, 'knn': -0.6, 'quality': -0.09999999999999998, 'volume': 0.9000000000000001}. Best is trial 82 with value: 5.817661670149362.\u001b[0m\n"
     ]
    },
    {
     "name": "stdout",
     "output_type": "stream",
     "text": [
      "time 2.65 cat_cov 92.0 cov 100.0 nov 0.903 ser 0.218 m1 0.904 m10 0.836 price 2.92 sum 5.755\n"
     ]
    },
    {
     "name": "stderr",
     "output_type": "stream",
     "text": [
      "\u001b[32m[I 2023-05-12 13:30:51,291]\u001b[0m Trial 128 finished with value: 5.837018296844528 and parameters: {'svd': 0.8, 'lfm_cos': 0.0, 'nn_bias': 0.10000000000000009, 'catboost': -0.8, 'knn': -0.6, 'quality': 0.0, 'volume': 1.0}. Best is trial 128 with value: 5.837018296844528.\u001b[0m\n"
     ]
    },
    {
     "name": "stdout",
     "output_type": "stream",
     "text": [
      "time 2.705 cat_cov 97.0 cov 100.0 nov 0.914 ser 0.219 m1 0.914 m10 0.844 price 2.925 sum 5.837\n"
     ]
    },
    {
     "name": "stderr",
     "output_type": "stream",
     "text": [
      "\u001b[32m[I 2023-05-12 13:30:54,004]\u001b[0m Trial 129 finished with value: 5.712303567555987 and parameters: {'svd': 0.6000000000000001, 'lfm_cos': 0.0, 'nn_bias': 0.0, 'catboost': -0.8, 'knn': -0.5, 'quality': 0.0, 'volume': 0.9000000000000001}. Best is trial 128 with value: 5.837018296844528.\u001b[0m\n"
     ]
    },
    {
     "name": "stdout",
     "output_type": "stream",
     "text": [
      "time 2.69 cat_cov 90.0 cov 100.0 nov 0.762 ser 0.225 m1 0.91 m10 0.835 price 3.238 sum 5.712\n"
     ]
    },
    {
     "name": "stderr",
     "output_type": "stream",
     "text": [
      "\u001b[32m[I 2023-05-12 13:30:56,706]\u001b[0m Trial 130 finished with value: 5.774342280068146 and parameters: {'svd': 0.5, 'lfm_cos': 0.0, 'nn_bias': 0.10000000000000009, 'catboost': -0.9, 'knn': -0.6, 'quality': 0.0, 'volume': 0.7000000000000002}. Best is trial 128 with value: 5.837018296844528.\u001b[0m\n"
     ]
    },
    {
     "name": "stdout",
     "output_type": "stream",
     "text": [
      "time 2.678 cat_cov 92.0 cov 100.0 nov 0.927 ser 0.219 m1 0.902 m10 0.83 price 2.929 sum 5.774\n"
     ]
    },
    {
     "name": "stderr",
     "output_type": "stream",
     "text": [
      "\u001b[32m[I 2023-05-12 13:30:59,401]\u001b[0m Trial 131 finished with value: 5.730623111160375 and parameters: {'svd': 0.8, 'lfm_cos': 0.10000000000000009, 'nn_bias': 0.10000000000000009, 'catboost': -0.8, 'knn': -0.6, 'quality': -0.09999999999999998, 'volume': 1.0}. Best is trial 128 with value: 5.837018296844528.\u001b[0m\n"
     ]
    },
    {
     "name": "stdout",
     "output_type": "stream",
     "text": [
      "time 2.673 cat_cov 93.0 cov 100.0 nov 0.815 ser 0.224 m1 0.916 m10 0.846 price 2.998 sum 5.731\n"
     ]
    },
    {
     "name": "stderr",
     "output_type": "stream",
     "text": [
      "\u001b[32m[I 2023-05-12 13:31:02,110]\u001b[0m Trial 132 finished with value: 5.752398918872466 and parameters: {'svd': 0.7000000000000002, 'lfm_cos': -0.09999999999999998, 'nn_bias': 0.20000000000000018, 'catboost': -0.8, 'knn': -0.5, 'quality': 0.20000000000000018, 'volume': 1.0}. Best is trial 128 with value: 5.837018296844528.\u001b[0m\n"
     ]
    },
    {
     "name": "stdout",
     "output_type": "stream",
     "text": [
      "time 2.685 cat_cov 92.0 cov 100.0 nov 0.956 ser 0.214 m1 0.902 m10 0.828 price 2.798 sum 5.752\n"
     ]
    },
    {
     "name": "stderr",
     "output_type": "stream",
     "text": [
      "\u001b[32m[I 2023-05-12 13:31:04,806]\u001b[0m Trial 133 finished with value: 5.736440154788062 and parameters: {'svd': 0.8, 'lfm_cos': 0.10000000000000009, 'nn_bias': 0.10000000000000009, 'catboost': -1.0, 'knn': -0.6, 'quality': -0.19999999999999996, 'volume': 1.0}. Best is trial 128 with value: 5.837018296844528.\u001b[0m\n"
     ]
    },
    {
     "name": "stdout",
     "output_type": "stream",
     "text": [
      "time 2.673 cat_cov 94.0 cov 100.0 nov 0.819 ser 0.225 m1 0.914 m10 0.844 price 2.986 sum 5.736\n"
     ]
    },
    {
     "name": "stderr",
     "output_type": "stream",
     "text": [
      "\u001b[32m[I 2023-05-12 13:31:07,502]\u001b[0m Trial 134 finished with value: 5.773771749729326 and parameters: {'svd': 0.8, 'lfm_cos': 0.0, 'nn_bias': 0.20000000000000018, 'catboost': -0.9, 'knn': -0.7, 'quality': 0.0, 'volume': 0.9000000000000001}. Best is trial 128 with value: 5.837018296844528.\u001b[0m\n"
     ]
    },
    {
     "name": "stdout",
     "output_type": "stream",
     "text": [
      "time 2.673 cat_cov 92.0 cov 100.0 nov 0.938 ser 0.218 m1 0.906 m10 0.834 price 2.872 sum 5.774\n"
     ]
    },
    {
     "name": "stderr",
     "output_type": "stream",
     "text": [
      "\u001b[32m[I 2023-05-12 13:31:10,208]\u001b[0m Trial 135 finished with value: 5.76416088334719 and parameters: {'svd': 0.7000000000000002, 'lfm_cos': 0.0, 'nn_bias': 0.0, 'catboost': -1.0, 'knn': -0.5, 'quality': 0.10000000000000009, 'volume': 1.0}. Best is trial 128 with value: 5.837018296844528.\u001b[0m\n"
     ]
    },
    {
     "name": "stdout",
     "output_type": "stream",
     "text": [
      "time 2.683 cat_cov 93.0 cov 100.0 nov 0.783 ser 0.225 m1 0.912 m10 0.837 price 3.232 sum 5.764\n"
     ]
    },
    {
     "name": "stderr",
     "output_type": "stream",
     "text": [
      "\u001b[32m[I 2023-05-12 13:31:12,916]\u001b[0m Trial 136 finished with value: 5.777700771941082 and parameters: {'svd': 0.9000000000000001, 'lfm_cos': 0.0, 'nn_bias': 0.20000000000000018, 'catboost': -0.9, 'knn': -0.6, 'quality': 0.20000000000000018, 'volume': 0.8}. Best is trial 128 with value: 5.837018296844528.\u001b[0m\n"
     ]
    },
    {
     "name": "stdout",
     "output_type": "stream",
     "text": [
      "time 2.685 cat_cov 92.0 cov 100.0 nov 0.936 ser 0.217 m1 0.913 m10 0.841 price 2.853 sum 5.778\n"
     ]
    },
    {
     "name": "stderr",
     "output_type": "stream",
     "text": [
      "\u001b[32m[I 2023-05-12 13:31:15,613]\u001b[0m Trial 137 finished with value: 5.812811304138549 and parameters: {'svd': 0.8, 'lfm_cos': -0.09999999999999998, 'nn_bias': 0.10000000000000009, 'catboost': -0.7, 'knn': -0.3999999999999999, 'quality': 0.10000000000000009, 'volume': 0.9000000000000001}. Best is trial 128 with value: 5.837018296844528.\u001b[0m\n"
     ]
    },
    {
     "name": "stdout",
     "output_type": "stream",
     "text": [
      "time 2.674 cat_cov 97.0 cov 100.0 nov 0.94 ser 0.214 m1 0.915 m10 0.843 price 2.791 sum 5.813\n"
     ]
    },
    {
     "name": "stderr",
     "output_type": "stream",
     "text": [
      "\u001b[32m[I 2023-05-12 13:31:18,312]\u001b[0m Trial 138 finished with value: 5.745093337219266 and parameters: {'svd': 0.7000000000000002, 'lfm_cos': -0.19999999999999996, 'nn_bias': -0.09999999999999998, 'catboost': -0.8, 'knn': -0.29999999999999993, 'quality': 0.0, 'volume': 0.8}. Best is trial 128 with value: 5.837018296844528.\u001b[0m\n"
     ]
    },
    {
     "name": "stdout",
     "output_type": "stream",
     "text": [
      "time 2.675 cat_cov 95.0 cov 100.0 nov 0.894 ser 0.216 m1 0.901 m10 0.831 price 2.861 sum 5.745\n"
     ]
    },
    {
     "name": "stderr",
     "output_type": "stream",
     "text": [
      "\u001b[32m[I 2023-05-12 13:31:21,012]\u001b[0m Trial 139 finished with value: 5.832071901096712 and parameters: {'svd': 0.8, 'lfm_cos': -0.09999999999999998, 'nn_bias': 0.10000000000000009, 'catboost': -0.7, 'knn': -0.3999999999999999, 'quality': -0.09999999999999998, 'volume': 0.9000000000000001}. Best is trial 128 with value: 5.837018296844528.\u001b[0m\n"
     ]
    },
    {
     "name": "stdout",
     "output_type": "stream",
     "text": [
      "time 2.676 cat_cov 99.0 cov 100.0 nov 0.942 ser 0.214 m1 0.915 m10 0.843 price 2.782 sum 5.832\n"
     ]
    },
    {
     "name": "stderr",
     "output_type": "stream",
     "text": [
      "\u001b[32m[I 2023-05-12 13:31:23,705]\u001b[0m Trial 140 finished with value: 5.788756070051231 and parameters: {'svd': 0.8, 'lfm_cos': -0.09999999999999998, 'nn_bias': 0.0, 'catboost': -0.8, 'knn': -0.3999999999999999, 'quality': -0.19999999999999996, 'volume': 0.9000000000000001}. Best is trial 128 with value: 5.837018296844528.\u001b[0m\n"
     ]
    },
    {
     "name": "stdout",
     "output_type": "stream",
     "text": [
      "time 2.669 cat_cov 95.0 cov 100.0 nov 0.896 ser 0.217 m1 0.914 m10 0.845 price 2.901 sum 5.789\n"
     ]
    },
    {
     "name": "stderr",
     "output_type": "stream",
     "text": [
      "\u001b[32m[I 2023-05-12 13:31:26,404]\u001b[0m Trial 141 finished with value: 5.80229015676777 and parameters: {'svd': 0.8, 'lfm_cos': -0.09999999999999998, 'nn_bias': 0.10000000000000009, 'catboost': -0.7, 'knn': -0.5, 'quality': 0.10000000000000009, 'volume': 0.9000000000000001}. Best is trial 128 with value: 5.837018296844528.\u001b[0m\n"
     ]
    },
    {
     "name": "stdout",
     "output_type": "stream",
     "text": [
      "time 2.676 cat_cov 96.0 cov 100.0 nov 0.94 ser 0.215 m1 0.912 m10 0.841 price 2.805 sum 5.802\n"
     ]
    },
    {
     "name": "stderr",
     "output_type": "stream",
     "text": [
      "\u001b[32m[I 2023-05-12 13:31:29,095]\u001b[0m Trial 142 finished with value: 5.793344357330918 and parameters: {'svd': 0.8, 'lfm_cos': -0.19999999999999996, 'nn_bias': 0.10000000000000009, 'catboost': -0.7, 'knn': -0.5, 'quality': 0.10000000000000009, 'volume': 0.9000000000000001}. Best is trial 128 with value: 5.837018296844528.\u001b[0m\n"
     ]
    },
    {
     "name": "stdout",
     "output_type": "stream",
     "text": [
      "time 2.667 cat_cov 97.0 cov 100.0 nov 0.953 ser 0.213 m1 0.903 m10 0.833 price 2.764 sum 5.793\n"
     ]
    },
    {
     "name": "stderr",
     "output_type": "stream",
     "text": [
      "\u001b[32m[I 2023-05-12 13:31:31,812]\u001b[0m Trial 143 finished with value: 5.8029040063432475 and parameters: {'svd': 0.7000000000000002, 'lfm_cos': -0.09999999999999998, 'nn_bias': 0.10000000000000009, 'catboost': -0.7, 'knn': -0.3999999999999999, 'quality': 0.0, 'volume': 0.8}. Best is trial 128 with value: 5.837018296844528.\u001b[0m\n"
     ]
    },
    {
     "name": "stdout",
     "output_type": "stream",
     "text": [
      "time 2.693 cat_cov 96.0 cov 100.0 nov 0.949 ser 0.215 m1 0.911 m10 0.84 price 2.787 sum 5.803\n"
     ]
    },
    {
     "name": "stderr",
     "output_type": "stream",
     "text": [
      "\u001b[32m[I 2023-05-12 13:31:34,474]\u001b[0m Trial 144 finished with value: 5.657535632815204 and parameters: {'svd': 0.7000000000000002, 'lfm_cos': -0.09999999999999998, 'nn_bias': -1.0, 'catboost': -0.7, 'knn': -0.3999999999999999, 'quality': -0.09999999999999998, 'volume': 0.8}. Best is trial 128 with value: 5.837018296844528.\u001b[0m\n"
     ]
    },
    {
     "name": "stdout",
     "output_type": "stream",
     "text": [
      "time 2.64 cat_cov 97.0 cov 100.0 nov 0.765 ser 0.219 m1 0.895 m10 0.814 price 2.982 sum 5.658\n"
     ]
    },
    {
     "name": "stderr",
     "output_type": "stream",
     "text": [
      "\u001b[32m[I 2023-05-12 13:31:37,174]\u001b[0m Trial 145 finished with value: 5.802222561970305 and parameters: {'svd': 0.6000000000000001, 'lfm_cos': -0.19999999999999996, 'nn_bias': 0.0, 'catboost': -0.7, 'knn': -0.29999999999999993, 'quality': 0.0, 'volume': 0.7000000000000002}. Best is trial 128 with value: 5.837018296844528.\u001b[0m\n"
     ]
    },
    {
     "name": "stdout",
     "output_type": "stream",
     "text": [
      "time 2.676 cat_cov 98.0 cov 100.0 nov 0.948 ser 0.214 m1 0.896 m10 0.83 price 2.801 sum 5.802\n"
     ]
    },
    {
     "name": "stderr",
     "output_type": "stream",
     "text": [
      "\u001b[32m[I 2023-05-12 13:31:39,853]\u001b[0m Trial 146 finished with value: 5.811297107854848 and parameters: {'svd': 0.6000000000000001, 'lfm_cos': -0.19999999999999996, 'nn_bias': 0.0, 'catboost': -0.7, 'knn': -0.09999999999999998, 'quality': -0.19999999999999996, 'volume': 0.7000000000000002}. Best is trial 128 with value: 5.837018296844528.\u001b[0m\n"
     ]
    },
    {
     "name": "stdout",
     "output_type": "stream",
     "text": [
      "time 2.656 cat_cov 98.0 cov 100.0 nov 0.964 ser 0.212 m1 0.904 m10 0.836 price 2.746 sum 5.811\n"
     ]
    },
    {
     "name": "stderr",
     "output_type": "stream",
     "text": [
      "\u001b[32m[I 2023-05-12 13:31:42,523]\u001b[0m Trial 147 finished with value: 5.750307356346862 and parameters: {'svd': 0.5, 'lfm_cos': -0.19999999999999996, 'nn_bias': -0.09999999999999998, 'catboost': -0.7, 'knn': -0.09999999999999998, 'quality': -0.19999999999999996, 'volume': 0.6000000000000001}. Best is trial 128 with value: 5.837018296844528.\u001b[0m\n"
     ]
    },
    {
     "name": "stdout",
     "output_type": "stream",
     "text": [
      "time 2.647 cat_cov 96.0 cov 100.0 nov 0.932 ser 0.214 m1 0.895 m10 0.824 price 2.772 sum 5.75\n"
     ]
    },
    {
     "name": "stderr",
     "output_type": "stream",
     "text": [
      "\u001b[32m[I 2023-05-12 13:31:45,199]\u001b[0m Trial 148 finished with value: 5.759347316459621 and parameters: {'svd': 0.6000000000000001, 'lfm_cos': -0.29999999999999993, 'nn_bias': 0.0, 'catboost': -0.8, 'knn': -0.19999999999999996, 'quality': -0.09999999999999998, 'volume': 0.7000000000000002}. Best is trial 128 with value: 5.837018296844528.\u001b[0m\n"
     ]
    },
    {
     "name": "stdout",
     "output_type": "stream",
     "text": [
      "time 2.652 cat_cov 95.0 cov 100.0 nov 0.986 ser 0.211 m1 0.885 m10 0.82 price 2.719 sum 5.759\n"
     ]
    },
    {
     "name": "stderr",
     "output_type": "stream",
     "text": [
      "\u001b[32m[I 2023-05-12 13:31:47,916]\u001b[0m Trial 149 finished with value: 5.768316065686292 and parameters: {'svd': 0.6000000000000001, 'lfm_cos': -0.19999999999999996, 'nn_bias': 0.0, 'catboost': -0.7, 'knn': -0.29999999999999993, 'quality': -0.3999999999999999, 'volume': 0.7000000000000002}. Best is trial 128 with value: 5.837018296844528.\u001b[0m\n"
     ]
    },
    {
     "name": "stdout",
     "output_type": "stream",
     "text": [
      "time 2.694 cat_cov 95.0 cov 100.0 nov 0.955 ser 0.214 m1 0.895 m10 0.83 price 2.772 sum 5.768\n"
     ]
    },
    {
     "name": "stderr",
     "output_type": "stream",
     "text": [
      "\u001b[32m[I 2023-05-12 13:31:50,633]\u001b[0m Trial 150 finished with value: 5.68016166724124 and parameters: {'svd': 0.40000000000000013, 'lfm_cos': -0.09999999999999998, 'nn_bias': -0.09999999999999998, 'catboost': -0.7, 'knn': -0.29999999999999993, 'quality': -0.29999999999999993, 'volume': 0.7000000000000002}. Best is trial 128 with value: 5.837018296844528.\u001b[0m\n"
     ]
    },
    {
     "name": "stdout",
     "output_type": "stream",
     "text": [
      "time 2.694 cat_cov 92.0 cov 100.0 nov 0.849 ser 0.22 m1 0.893 m10 0.822 price 2.929 sum 5.68\n"
     ]
    },
    {
     "name": "stderr",
     "output_type": "stream",
     "text": [
      "\u001b[32m[I 2023-05-12 13:31:53,332]\u001b[0m Trial 151 finished with value: 5.780193647054808 and parameters: {'svd': 0.7000000000000002, 'lfm_cos': -0.09999999999999998, 'nn_bias': 0.10000000000000009, 'catboost': -0.7, 'knn': -0.3999999999999999, 'quality': -0.09999999999999998, 'volume': 0.8}. Best is trial 128 with value: 5.837018296844528.\u001b[0m\n"
     ]
    },
    {
     "name": "stdout",
     "output_type": "stream",
     "text": [
      "time 2.674 cat_cov 94.0 cov 100.0 nov 0.949 ser 0.215 m1 0.91 m10 0.84 price 2.78 sum 5.78\n"
     ]
    },
    {
     "name": "stderr",
     "output_type": "stream",
     "text": [
      "\u001b[32m[I 2023-05-12 13:31:56,047]\u001b[0m Trial 152 finished with value: 5.795722278546661 and parameters: {'svd': 0.6000000000000001, 'lfm_cos': -0.19999999999999996, 'nn_bias': 0.20000000000000018, 'catboost': -0.8, 'knn': -0.19999999999999996, 'quality': 0.0, 'volume': 0.8}. Best is trial 128 with value: 5.837018296844528.\u001b[0m\n"
     ]
    },
    {
     "name": "stdout",
     "output_type": "stream",
     "text": [
      "time 2.691 cat_cov 99.0 cov 100.0 nov 0.999 ser 0.21 m1 0.888 m10 0.816 price 2.679 sum 5.796\n"
     ]
    },
    {
     "name": "stderr",
     "output_type": "stream",
     "text": [
      "\u001b[32m[I 2023-05-12 13:31:58,774]\u001b[0m Trial 153 finished with value: 5.781225895467601 and parameters: {'svd': 0.7000000000000002, 'lfm_cos': -0.09999999999999998, 'nn_bias': 0.0, 'catboost': -0.7, 'knn': 0.10000000000000009, 'quality': 0.0, 'volume': 0.7000000000000002}. Best is trial 128 with value: 5.837018296844528.\u001b[0m\n"
     ]
    },
    {
     "name": "stdout",
     "output_type": "stream",
     "text": [
      "time 2.702 cat_cov 98.0 cov 100.0 nov 0.916 ser 0.208 m1 0.923 m10 0.844 price 2.729 sum 5.781\n"
     ]
    },
    {
     "name": "stderr",
     "output_type": "stream",
     "text": [
      "\u001b[32m[I 2023-05-12 13:32:01,491]\u001b[0m Trial 154 finished with value: 5.77853133577201 and parameters: {'svd': 0.8, 'lfm_cos': -0.29999999999999993, 'nn_bias': 0.10000000000000009, 'catboost': -0.8, 'knn': -0.3999999999999999, 'quality': -0.09999999999999998, 'volume': 0.6000000000000001}. Best is trial 128 with value: 5.837018296844528.\u001b[0m\n"
     ]
    },
    {
     "name": "stdout",
     "output_type": "stream",
     "text": [
      "time 2.693 cat_cov 97.0 cov 100.0 nov 0.98 ser 0.211 m1 0.893 m10 0.825 price 2.698 sum 5.779\n"
     ]
    },
    {
     "name": "stderr",
     "output_type": "stream",
     "text": [
      "\u001b[32m[I 2023-05-12 13:32:04,206]\u001b[0m Trial 155 finished with value: 5.84050489650839 and parameters: {'svd': 0.7000000000000002, 'lfm_cos': -0.09999999999999998, 'nn_bias': 0.10000000000000009, 'catboost': -0.7, 'knn': -0.09999999999999998, 'quality': -0.19999999999999996, 'volume': 0.8}. Best is trial 155 with value: 5.84050489650839.\u001b[0m\n"
     ]
    },
    {
     "name": "stdout",
     "output_type": "stream",
     "text": [
      "time 2.692 cat_cov 100.0 cov 100.0 nov 0.958 ser 0.211 m1 0.921 m10 0.846 price 2.714 sum 5.841\n"
     ]
    },
    {
     "name": "stderr",
     "output_type": "stream",
     "text": [
      "\u001b[32m[I 2023-05-12 13:32:06,925]\u001b[0m Trial 156 finished with value: 5.758059265067478 and parameters: {'svd': 0.6000000000000001, 'lfm_cos': -0.09999999999999998, 'nn_bias': 0.0, 'catboost': -0.7, 'knn': -0.29999999999999993, 'quality': -0.19999999999999996, 'volume': 0.7000000000000002}. Best is trial 155 with value: 5.84050489650839.\u001b[0m\n"
     ]
    },
    {
     "name": "stdout",
     "output_type": "stream",
     "text": [
      "time 2.694 cat_cov 92.0 cov 100.0 nov 0.919 ser 0.216 m1 0.909 m10 0.842 price 2.854 sum 5.758\n"
     ]
    },
    {
     "name": "stderr",
     "output_type": "stream",
     "text": [
      "\u001b[32m[I 2023-05-12 13:32:09,632]\u001b[0m Trial 157 finished with value: 5.795953023729767 and parameters: {'svd': 0.7000000000000002, 'lfm_cos': -0.19999999999999996, 'nn_bias': 0.10000000000000009, 'catboost': -0.9, 'knn': 0.0, 'quality': 0.0, 'volume': 0.8}. Best is trial 155 with value: 5.84050489650839.\u001b[0m\n"
     ]
    },
    {
     "name": "stdout",
     "output_type": "stream",
     "text": [
      "time 2.683 cat_cov 96.0 cov 100.0 nov 1.0 ser 0.21 m1 0.906 m10 0.837 price 2.651 sum 5.796\n"
     ]
    },
    {
     "name": "stderr",
     "output_type": "stream",
     "text": [
      "\u001b[32m[I 2023-05-12 13:32:12,366]\u001b[0m Trial 158 finished with value: 5.777670607205092 and parameters: {'svd': 0.6000000000000001, 'lfm_cos': -0.09999999999999998, 'nn_bias': 0.20000000000000018, 'catboost': -0.8, 'knn': -0.09999999999999998, 'quality': -0.19999999999999996, 'volume': 0.7000000000000002}. Best is trial 155 with value: 5.84050489650839.\u001b[0m\n"
     ]
    },
    {
     "name": "stdout",
     "output_type": "stream",
     "text": [
      "time 2.71 cat_cov 95.0 cov 100.0 nov 0.996 ser 0.211 m1 0.902 m10 0.83 price 2.667 sum 5.778\n"
     ]
    },
    {
     "name": "stderr",
     "output_type": "stream",
     "text": [
      "\u001b[32m[I 2023-05-12 13:32:15,078]\u001b[0m Trial 159 finished with value: 5.793578189837552 and parameters: {'svd': 0.7000000000000002, 'lfm_cos': -0.19999999999999996, 'nn_bias': 0.10000000000000009, 'catboost': -0.7, 'knn': -0.09999999999999998, 'quality': -0.09999999999999998, 'volume': 0.8}. Best is trial 155 with value: 5.84050489650839.\u001b[0m\n"
     ]
    },
    {
     "name": "stdout",
     "output_type": "stream",
     "text": [
      "time 2.688 cat_cov 97.0 cov 100.0 nov 0.974 ser 0.21 m1 0.91 m10 0.837 price 2.681 sum 5.794\n"
     ]
    },
    {
     "name": "stderr",
     "output_type": "stream",
     "text": [
      "\u001b[32m[I 2023-05-12 13:32:17,779]\u001b[0m Trial 160 finished with value: 5.749840886916963 and parameters: {'svd': 0.7000000000000002, 'lfm_cos': -0.29999999999999993, 'nn_bias': -0.09999999999999998, 'catboost': -0.8, 'knn': -0.19999999999999996, 'quality': 0.10000000000000009, 'volume': 1.0}. Best is trial 155 with value: 5.84050489650839.\u001b[0m\n"
     ]
    },
    {
     "name": "stdout",
     "output_type": "stream",
     "text": [
      "time 2.676 cat_cov 96.0 cov 100.0 nov 0.923 ser 0.213 m1 0.893 m10 0.823 price 2.814 sum 5.75\n"
     ]
    },
    {
     "name": "stderr",
     "output_type": "stream",
     "text": [
      "\u001b[32m[I 2023-05-12 13:32:20,469]\u001b[0m Trial 161 finished with value: 5.518972589690195 and parameters: {'svd': 0.20000000000000018, 'lfm_cos': 0.0, 'nn_bias': 0.20000000000000018, 'catboost': -0.6, 'knn': 0.0, 'quality': 0.0, 'volume': 0.9000000000000001}. Best is trial 155 with value: 5.84050489650839.\u001b[0m\n"
     ]
    },
    {
     "name": "stdout",
     "output_type": "stream",
     "text": [
      "time 2.665 cat_cov 99.0 cov 100.0 nov 0.988 ser 0.209 m1 0.708 m10 0.695 price 2.788 sum 5.519\n"
     ]
    },
    {
     "name": "stderr",
     "output_type": "stream",
     "text": [
      "\u001b[32m[I 2023-05-12 13:32:23,179]\u001b[0m Trial 162 finished with value: 5.80185722981753 and parameters: {'svd': 0.8, 'lfm_cos': 0.0, 'nn_bias': 0.20000000000000018, 'catboost': -0.7, 'knn': -0.5, 'quality': -0.09999999999999998, 'volume': 0.8}. Best is trial 155 with value: 5.84050489650839.\u001b[0m\n"
     ]
    },
    {
     "name": "stdout",
     "output_type": "stream",
     "text": [
      "time 2.686 cat_cov 95.0 cov 100.0 nov 0.935 ser 0.216 m1 0.913 m10 0.841 price 2.84 sum 5.802\n"
     ]
    },
    {
     "name": "stderr",
     "output_type": "stream",
     "text": [
      "\u001b[32m[I 2023-05-12 13:32:25,890]\u001b[0m Trial 163 finished with value: 5.767732664115903 and parameters: {'svd': 0.8, 'lfm_cos': -0.09999999999999998, 'nn_bias': 0.10000000000000009, 'catboost': -0.7, 'knn': -0.5, 'quality': -0.09999999999999998, 'volume': 0.8}. Best is trial 155 with value: 5.84050489650839.\u001b[0m\n"
     ]
    },
    {
     "name": "stdout",
     "output_type": "stream",
     "text": [
      "time 2.686 cat_cov 93.0 cov 100.0 nov 0.942 ser 0.215 m1 0.912 m10 0.841 price 2.785 sum 5.768\n"
     ]
    },
    {
     "name": "stderr",
     "output_type": "stream",
     "text": [
      "\u001b[32m[I 2023-05-12 13:32:28,605]\u001b[0m Trial 164 finished with value: 5.8332979964558955 and parameters: {'svd': 0.8, 'lfm_cos': 0.0, 'nn_bias': 0.10000000000000009, 'catboost': -0.7, 'knn': -0.5, 'quality': -0.19999999999999996, 'volume': 0.8}. Best is trial 155 with value: 5.84050489650839.\u001b[0m\n"
     ]
    },
    {
     "name": "stdout",
     "output_type": "stream",
     "text": [
      "time 2.691 cat_cov 97.0 cov 100.0 nov 0.915 ser 0.219 m1 0.917 m10 0.848 price 2.895 sum 5.833\n"
     ]
    },
    {
     "name": "stderr",
     "output_type": "stream",
     "text": [
      "\u001b[32m[I 2023-05-12 13:32:31,271]\u001b[0m Trial 165 finished with value: 5.731364160389562 and parameters: {'svd': 0.7000000000000002, 'lfm_cos': 0.0, 'nn_bias': 0.0, 'catboost': -0.7, 'knn': -0.3999999999999999, 'quality': -0.3999999999999999, 'volume': 0.7000000000000002}. Best is trial 155 with value: 5.84050489650839.\u001b[0m\n"
     ]
    },
    {
     "name": "stdout",
     "output_type": "stream",
     "text": [
      "time 2.641 cat_cov 97.0 cov 100.0 nov 0.759 ser 0.221 m1 0.916 m10 0.844 price 3.063 sum 5.731\n"
     ]
    },
    {
     "name": "stderr",
     "output_type": "stream",
     "text": [
      "\u001b[32m[I 2023-05-12 13:32:33,940]\u001b[0m Trial 166 finished with value: 5.80534292011497 and parameters: {'svd': 0.8, 'lfm_cos': -0.09999999999999998, 'nn_bias': 0.10000000000000009, 'catboost': -0.7, 'knn': -0.5, 'quality': -0.29999999999999993, 'volume': 0.8}. Best is trial 155 with value: 5.84050489650839.\u001b[0m\n"
     ]
    },
    {
     "name": "stdout",
     "output_type": "stream",
     "text": [
      "time 2.646 cat_cov 97.0 cov 100.0 nov 0.944 ser 0.215 m1 0.911 m10 0.841 price 2.773 sum 5.805\n"
     ]
    },
    {
     "name": "stderr",
     "output_type": "stream",
     "text": [
      "\u001b[32m[I 2023-05-12 13:32:36,539]\u001b[0m Trial 167 finished with value: 4.1500151448510785 and parameters: {'svd': -0.8, 'lfm_cos': -0.09999999999999998, 'nn_bias': 0.0, 'catboost': -0.8, 'knn': -0.29999999999999993, 'quality': -0.29999999999999993, 'volume': 0.6000000000000001}. Best is trial 155 with value: 5.84050489650839.\u001b[0m\n"
     ]
    },
    {
     "name": "stdout",
     "output_type": "stream",
     "text": [
      "time 2.575 cat_cov 87.0 cov 100.0 nov 0.94 ser 0.149 m1 0.106 m10 0.221 price 2.592 sum 4.15\n"
     ]
    },
    {
     "name": "stderr",
     "output_type": "stream",
     "text": [
      "\u001b[32m[I 2023-05-12 13:32:39,159]\u001b[0m Trial 168 finished with value: 4.129939964326654 and parameters: {'svd': -0.3999999999999999, 'lfm_cos': -0.09999999999999998, 'nn_bias': 0.10000000000000009, 'catboost': 0.0, 'knn': -0.3999999999999999, 'quality': -0.19999999999999996, 'volume': 0.8}. Best is trial 155 with value: 5.84050489650839.\u001b[0m\n"
     ]
    },
    {
     "name": "stdout",
     "output_type": "stream",
     "text": [
      "time 2.594 cat_cov 90.0 cov 100.0 nov 0.866 ser 0.134 m1 0.091 m10 0.229 price 2.728 sum 4.13\n"
     ]
    },
    {
     "name": "stderr",
     "output_type": "stream",
     "text": [
      "\u001b[32m[I 2023-05-12 13:32:41,881]\u001b[0m Trial 169 finished with value: 5.805113814341031 and parameters: {'svd': 0.8, 'lfm_cos': -0.19999999999999996, 'nn_bias': 0.10000000000000009, 'catboost': -0.9, 'knn': -0.5, 'quality': -0.3999999999999999, 'volume': 0.8}. Best is trial 155 with value: 5.84050489650839.\u001b[0m\n"
     ]
    },
    {
     "name": "stdout",
     "output_type": "stream",
     "text": [
      "time 2.696 cat_cov 98.0 cov 100.0 nov 0.967 ser 0.214 m1 0.9 m10 0.832 price 2.738 sum 5.805\n"
     ]
    },
    {
     "name": "stderr",
     "output_type": "stream",
     "text": [
      "\u001b[32m[I 2023-05-12 13:32:44,582]\u001b[0m Trial 170 finished with value: 5.741524129991907 and parameters: {'svd': 0.8, 'lfm_cos': -0.09999999999999998, 'nn_bias': 0.10000000000000009, 'catboost': -1.0, 'knn': -0.5, 'quality': -0.29999999999999993, 'volume': 0.8}. Best is trial 155 with value: 5.84050489650839.\u001b[0m\n"
     ]
    },
    {
     "name": "stdout",
     "output_type": "stream",
     "text": [
      "time 2.676 cat_cov 90.0 cov 100.0 nov 0.953 ser 0.216 m1 0.908 m10 0.84 price 2.772 sum 5.742\n"
     ]
    },
    {
     "name": "stderr",
     "output_type": "stream",
     "text": [
      "\u001b[32m[I 2023-05-12 13:32:47,948]\u001b[0m Trial 171 finished with value: 5.741923923084311 and parameters: {'svd': 0.8, 'lfm_cos': -0.19999999999999996, 'nn_bias': 0.0, 'catboost': -0.9, 'knn': -0.5, 'quality': -0.3999999999999999, 'volume': 0.7000000000000002}. Best is trial 155 with value: 5.84050489650839.\u001b[0m\n"
     ]
    },
    {
     "name": "stdout",
     "output_type": "stream",
     "text": [
      "time 3.342 cat_cov 92.0 cov 100.0 nov 0.942 ser 0.215 m1 0.899 m10 0.834 price 2.793 sum 5.742\n"
     ]
    },
    {
     "name": "stderr",
     "output_type": "stream",
     "text": [
      "\u001b[32m[I 2023-05-12 13:32:50,653]\u001b[0m Trial 172 finished with value: 5.719067276975777 and parameters: {'svd': 0.6000000000000001, 'lfm_cos': -0.19999999999999996, 'nn_bias': 0.10000000000000009, 'catboost': -0.8, 'knn': -0.5, 'quality': -0.29999999999999993, 'volume': 0.9000000000000001}. Best is trial 155 with value: 5.84050489650839.\u001b[0m\n"
     ]
    },
    {
     "name": "stdout",
     "output_type": "stream",
     "text": [
      "time 2.679 cat_cov 91.0 cov 100.0 nov 0.97 ser 0.214 m1 0.888 m10 0.819 price 2.757 sum 5.719\n"
     ]
    },
    {
     "name": "stderr",
     "output_type": "stream",
     "text": [
      "\u001b[32m[I 2023-05-12 13:32:53,342]\u001b[0m Trial 173 finished with value: 5.0175439584637465 and parameters: {'svd': 0.7000000000000002, 'lfm_cos': -0.29999999999999993, 'nn_bias': 0.9000000000000001, 'catboost': -0.9, 'knn': -0.3999999999999999, 'quality': -0.3999999999999999, 'volume': 0.8}. Best is trial 155 with value: 5.84050489650839.\u001b[0m\n"
     ]
    },
    {
     "name": "stdout",
     "output_type": "stream",
     "text": [
      "time 2.664 cat_cov 99.0 cov 100.0 nov 1.0 ser 0.195 m1 0.402 m10 0.558 price 2.618 sum 5.018\n"
     ]
    },
    {
     "name": "stderr",
     "output_type": "stream",
     "text": [
      "\u001b[32m[I 2023-05-12 13:32:56,031]\u001b[0m Trial 174 finished with value: 5.789873434213396 and parameters: {'svd': 0.8, 'lfm_cos': -0.19999999999999996, 'nn_bias': 0.10000000000000009, 'catboost': -0.7, 'knn': -0.5, 'quality': -0.19999999999999996, 'volume': 0.7000000000000002}. Best is trial 155 with value: 5.84050489650839.\u001b[0m\n"
     ]
    },
    {
     "name": "stdout",
     "output_type": "stream",
     "text": [
      "time 2.663 cat_cov 97.0 cov 100.0 nov 0.96 ser 0.213 m1 0.902 m10 0.832 price 2.737 sum 5.79\n"
     ]
    },
    {
     "name": "stderr",
     "output_type": "stream",
     "text": [
      "\u001b[32m[I 2023-05-12 13:32:58,654]\u001b[0m Trial 175 finished with value: 5.757153959916705 and parameters: {'svd': 0.7000000000000002, 'lfm_cos': 0.0, 'nn_bias': 0.0, 'catboost': -0.8, 'knn': -0.3999999999999999, 'quality': 0.10000000000000009, 'volume': 0.9000000000000001}. Best is trial 155 with value: 5.84050489650839.\u001b[0m\n"
     ]
    },
    {
     "name": "stdout",
     "output_type": "stream",
     "text": [
      "time 2.598 cat_cov 92.0 cov 100.0 nov 0.779 ser 0.224 m1 0.916 m10 0.841 price 3.228 sum 5.757\n"
     ]
    },
    {
     "name": "stderr",
     "output_type": "stream",
     "text": [
      "\u001b[32m[I 2023-05-12 13:33:01,289]\u001b[0m Trial 176 finished with value: 5.808884909461392 and parameters: {'svd': 0.8, 'lfm_cos': -0.09999999999999998, 'nn_bias': 0.10000000000000009, 'catboost': -0.9, 'knn': -0.29999999999999993, 'quality': -0.29999999999999993, 'volume': 0.8}. Best is trial 155 with value: 5.84050489650839.\u001b[0m\n"
     ]
    },
    {
     "name": "stdout",
     "output_type": "stream",
     "text": [
      "time 2.611 cat_cov 96.0 cov 100.0 nov 0.957 ser 0.215 m1 0.916 m10 0.845 price 2.747 sum 5.809\n"
     ]
    },
    {
     "name": "stderr",
     "output_type": "stream",
     "text": [
      "\u001b[32m[I 2023-05-12 13:33:03,925]\u001b[0m Trial 177 finished with value: 5.821250401040642 and parameters: {'svd': 0.8, 'lfm_cos': -0.09999999999999998, 'nn_bias': 0.10000000000000009, 'catboost': -0.9, 'knn': -0.3999999999999999, 'quality': -0.5, 'volume': 0.8}. Best is trial 155 with value: 5.84050489650839.\u001b[0m\n"
     ]
    },
    {
     "name": "stdout",
     "output_type": "stream",
     "text": [
      "time 2.614 cat_cov 98.0 cov 100.0 nov 0.953 ser 0.215 m1 0.912 m10 0.843 price 2.754 sum 5.821\n"
     ]
    },
    {
     "name": "stderr",
     "output_type": "stream",
     "text": [
      "\u001b[32m[I 2023-05-12 13:33:06,571]\u001b[0m Trial 178 finished with value: 5.805998138831695 and parameters: {'svd': 0.9000000000000001, 'lfm_cos': 0.0, 'nn_bias': 0.20000000000000018, 'catboost': -1.0, 'knn': -0.3999999999999999, 'quality': -0.5, 'volume': 0.8}. Best is trial 155 with value: 5.84050489650839.\u001b[0m\n"
     ]
    },
    {
     "name": "stdout",
     "output_type": "stream",
     "text": [
      "time 2.622 cat_cov 97.0 cov 100.0 nov 0.942 ser 0.215 m1 0.916 m10 0.846 price 2.75 sum 5.806\n"
     ]
    },
    {
     "name": "stderr",
     "output_type": "stream",
     "text": [
      "\u001b[32m[I 2023-05-12 13:33:09,211]\u001b[0m Trial 179 finished with value: 5.819454190677289 and parameters: {'svd': 0.9000000000000001, 'lfm_cos': 0.0, 'nn_bias': 0.20000000000000018, 'catboost': -1.0, 'knn': -0.29999999999999993, 'quality': -0.5, 'volume': 0.8}. Best is trial 155 with value: 5.84050489650839.\u001b[0m\n"
     ]
    },
    {
     "name": "stdout",
     "output_type": "stream",
     "text": [
      "time 2.616 cat_cov 98.0 cov 100.0 nov 0.945 ser 0.215 m1 0.919 m10 0.848 price 2.736 sum 5.819\n"
     ]
    },
    {
     "name": "stderr",
     "output_type": "stream",
     "text": [
      "\u001b[32m[I 2023-05-12 13:33:11,849]\u001b[0m Trial 180 finished with value: 5.790708519337124 and parameters: {'svd': 0.9000000000000001, 'lfm_cos': 0.0, 'nn_bias': 0.20000000000000018, 'catboost': -1.0, 'knn': -0.29999999999999993, 'quality': -0.5, 'volume': 0.30000000000000004}. Best is trial 155 with value: 5.84050489650839.\u001b[0m\n"
     ]
    },
    {
     "name": "stdout",
     "output_type": "stream",
     "text": [
      "time 2.615 cat_cov 97.0 cov 100.0 nov 0.954 ser 0.213 m1 0.918 m10 0.847 price 2.663 sum 5.791\n"
     ]
    },
    {
     "name": "stderr",
     "output_type": "stream",
     "text": [
      "\u001b[32m[I 2023-05-12 13:33:14,495]\u001b[0m Trial 181 finished with value: 5.829798358615395 and parameters: {'svd': 0.9000000000000001, 'lfm_cos': 0.0, 'nn_bias': 0.20000000000000018, 'catboost': -1.0, 'knn': -0.19999999999999996, 'quality': -0.5, 'volume': 0.8}. Best is trial 155 with value: 5.84050489650839.\u001b[0m\n"
     ]
    },
    {
     "name": "stdout",
     "output_type": "stream",
     "text": [
      "time 2.622 cat_cov 99.0 cov 100.0 nov 0.949 ser 0.214 m1 0.922 m10 0.849 price 2.718 sum 5.83\n"
     ]
    },
    {
     "name": "stderr",
     "output_type": "stream",
     "text": [
      "\u001b[32m[I 2023-05-12 13:33:17,143]\u001b[0m Trial 182 finished with value: 5.793503304157567 and parameters: {'svd': 0.9000000000000001, 'lfm_cos': 0.0, 'nn_bias': 0.20000000000000018, 'catboost': -0.9, 'knn': -0.19999999999999996, 'quality': -0.5, 'volume': 0.8}. Best is trial 155 with value: 5.84050489650839.\u001b[0m\n"
     ]
    },
    {
     "name": "stdout",
     "output_type": "stream",
     "text": [
      "time 2.624 cat_cov 96.0 cov 100.0 nov 0.943 ser 0.213 m1 0.924 m10 0.849 price 2.714 sum 5.794\n"
     ]
    },
    {
     "name": "stderr",
     "output_type": "stream",
     "text": [
      "\u001b[32m[I 2023-05-12 13:33:19,773]\u001b[0m Trial 183 finished with value: 5.818699467858533 and parameters: {'svd': 0.9000000000000001, 'lfm_cos': 0.10000000000000009, 'nn_bias': 0.20000000000000018, 'catboost': -1.0, 'knn': -0.09999999999999998, 'quality': -0.6, 'volume': 0.8}. Best is trial 155 with value: 5.84050489650839.\u001b[0m\n"
     ]
    },
    {
     "name": "stdout",
     "output_type": "stream",
     "text": [
      "time 2.607 cat_cov 100.0 cov 100.0 nov 0.901 ser 0.217 m1 0.928 m10 0.854 price 2.755 sum 5.819\n"
     ]
    },
    {
     "name": "stderr",
     "output_type": "stream",
     "text": [
      "\u001b[32m[I 2023-05-12 13:33:22,418]\u001b[0m Trial 184 finished with value: 5.800327813841564 and parameters: {'svd': 0.9000000000000001, 'lfm_cos': 0.10000000000000009, 'nn_bias': 0.20000000000000018, 'catboost': -1.0, 'knn': -0.09999999999999998, 'quality': -0.6, 'volume': 0.9000000000000001}. Best is trial 155 with value: 5.84050489650839.\u001b[0m\n"
     ]
    },
    {
     "name": "stdout",
     "output_type": "stream",
     "text": [
      "time 2.621 cat_cov 98.0 cov 100.0 nov 0.898 ser 0.217 m1 0.928 m10 0.854 price 2.77 sum 5.8\n"
     ]
    },
    {
     "name": "stderr",
     "output_type": "stream",
     "text": [
      "\u001b[32m[I 2023-05-12 13:33:25,083]\u001b[0m Trial 185 finished with value: 5.803603278839823 and parameters: {'svd': 0.9000000000000001, 'lfm_cos': 0.10000000000000009, 'nn_bias': 0.20000000000000018, 'catboost': -1.0, 'knn': -0.19999999999999996, 'quality': -0.7, 'volume': 0.8}. Best is trial 155 with value: 5.84050489650839.\u001b[0m\n"
     ]
    },
    {
     "name": "stdout",
     "output_type": "stream",
     "text": [
      "time 2.641 cat_cov 99.0 cov 100.0 nov 0.896 ser 0.218 m1 0.925 m10 0.853 price 2.767 sum 5.804\n"
     ]
    },
    {
     "name": "stderr",
     "output_type": "stream",
     "text": [
      "\u001b[32m[I 2023-05-12 13:33:27,738]\u001b[0m Trial 186 finished with value: 5.778699467858532 and parameters: {'svd': 0.9000000000000001, 'lfm_cos': 0.10000000000000009, 'nn_bias': 0.20000000000000018, 'catboost': -1.0, 'knn': -0.09999999999999998, 'quality': -0.6, 'volume': 0.8}. Best is trial 155 with value: 5.84050489650839.\u001b[0m\n"
     ]
    },
    {
     "name": "stdout",
     "output_type": "stream",
     "text": [
      "time 2.632 cat_cov 96.0 cov 100.0 nov 0.901 ser 0.217 m1 0.928 m10 0.854 price 2.755 sum 5.779\n"
     ]
    },
    {
     "name": "stderr",
     "output_type": "stream",
     "text": [
      "\u001b[32m[I 2023-05-12 13:33:30,405]\u001b[0m Trial 187 finished with value: 5.808072689155196 and parameters: {'svd': 0.9000000000000001, 'lfm_cos': 0.0, 'nn_bias': 0.30000000000000004, 'catboost': -1.0, 'knn': -0.19999999999999996, 'quality': -0.5, 'volume': 0.9000000000000001}. Best is trial 155 with value: 5.84050489650839.\u001b[0m\n"
     ]
    },
    {
     "name": "stdout",
     "output_type": "stream",
     "text": [
      "time 2.643 cat_cov 98.0 cov 100.0 nov 0.962 ser 0.212 m1 0.915 m10 0.84 price 2.698 sum 5.808\n"
     ]
    },
    {
     "name": "stderr",
     "output_type": "stream",
     "text": [
      "\u001b[32m[I 2023-05-12 13:33:33,063]\u001b[0m Trial 188 finished with value: 5.768022834946153 and parameters: {'svd': 0.9000000000000001, 'lfm_cos': 0.0, 'nn_bias': 0.30000000000000004, 'catboost': -1.0, 'knn': 0.0, 'quality': -0.5, 'volume': 0.9000000000000001}. Best is trial 155 with value: 5.84050489650839.\u001b[0m\n"
     ]
    },
    {
     "name": "stdout",
     "output_type": "stream",
     "text": [
      "time 2.634 cat_cov 96.0 cov 100.0 nov 0.963 ser 0.209 m1 0.912 m10 0.838 price 2.656 sum 5.768\n"
     ]
    },
    {
     "name": "stderr",
     "output_type": "stream",
     "text": [
      "\u001b[32m[I 2023-05-12 13:33:35,710]\u001b[0m Trial 189 finished with value: 5.805914107421466 and parameters: {'svd': 0.9000000000000001, 'lfm_cos': -0.09999999999999998, 'nn_bias': 0.30000000000000004, 'catboost': -0.9, 'knn': -0.19999999999999996, 'quality': -0.5, 'volume': 0.9000000000000001}. Best is trial 155 with value: 5.84050489650839.\u001b[0m\n"
     ]
    },
    {
     "name": "stdout",
     "output_type": "stream",
     "text": [
      "time 2.622 cat_cov 99.0 cov 100.0 nov 0.972 ser 0.209 m1 0.91 m10 0.834 price 2.673 sum 5.806\n"
     ]
    },
    {
     "name": "stderr",
     "output_type": "stream",
     "text": [
      "\u001b[32m[I 2023-05-12 13:33:38,391]\u001b[0m Trial 190 finished with value: 5.777084717880937 and parameters: {'svd': 0.9000000000000001, 'lfm_cos': -0.09999999999999998, 'nn_bias': 0.30000000000000004, 'catboost': -0.9, 'knn': -0.09999999999999998, 'quality': -0.6, 'volume': 0.9000000000000001}. Best is trial 155 with value: 5.84050489650839.\u001b[0m\n"
     ]
    },
    {
     "name": "stdout",
     "output_type": "stream",
     "text": [
      "time 2.656 cat_cov 97.0 cov 100.0 nov 0.971 ser 0.208 m1 0.909 m10 0.834 price 2.652 sum 5.777\n"
     ]
    },
    {
     "name": "stderr",
     "output_type": "stream",
     "text": [
      "\u001b[32m[I 2023-05-12 13:33:41,017]\u001b[0m Trial 191 finished with value: 5.809806660287655 and parameters: {'svd': 0.8, 'lfm_cos': -0.09999999999999998, 'nn_bias': 0.30000000000000004, 'catboost': -1.0, 'knn': -0.19999999999999996, 'quality': -0.5, 'volume': 0.9000000000000001}. Best is trial 155 with value: 5.84050489650839.\u001b[0m\n"
     ]
    },
    {
     "name": "stdout",
     "output_type": "stream",
     "text": [
      "time 2.603 cat_cov 99.0 cov 100.0 nov 0.986 ser 0.211 m1 0.902 m10 0.829 price 2.678 sum 5.81\n"
     ]
    },
    {
     "name": "stderr",
     "output_type": "stream",
     "text": [
      "\u001b[32m[I 2023-05-12 13:33:43,673]\u001b[0m Trial 192 finished with value: 5.803331552281062 and parameters: {'svd': 0.9000000000000001, 'lfm_cos': -0.09999999999999998, 'nn_bias': 0.30000000000000004, 'catboost': -1.0, 'knn': -0.19999999999999996, 'quality': -0.5, 'volume': 0.9000000000000001}. Best is trial 155 with value: 5.84050489650839.\u001b[0m\n"
     ]
    },
    {
     "name": "stdout",
     "output_type": "stream",
     "text": [
      "time 2.631 cat_cov 98.0 cov 100.0 nov 0.979 ser 0.21 m1 0.909 m10 0.834 price 2.675 sum 5.803\n"
     ]
    },
    {
     "name": "stderr",
     "output_type": "stream",
     "text": [
      "\u001b[32m[I 2023-05-12 13:33:46,326]\u001b[0m Trial 193 finished with value: 5.76830432332984 and parameters: {'svd': 0.8, 'lfm_cos': -0.09999999999999998, 'nn_bias': 0.30000000000000004, 'catboost': -1.0, 'knn': -0.19999999999999996, 'quality': -0.5, 'volume': 0.8}. Best is trial 155 with value: 5.84050489650839.\u001b[0m\n"
     ]
    },
    {
     "name": "stdout",
     "output_type": "stream",
     "text": [
      "time 2.63 cat_cov 95.0 cov 100.0 nov 0.988 ser 0.211 m1 0.901 m10 0.828 price 2.671 sum 5.768\n"
     ]
    },
    {
     "name": "stderr",
     "output_type": "stream",
     "text": [
      "\u001b[32m[I 2023-05-12 13:33:49,009]\u001b[0m Trial 194 finished with value: 5.799060110608713 and parameters: {'svd': 0.9000000000000001, 'lfm_cos': 0.0, 'nn_bias': 0.20000000000000018, 'catboost': -0.9, 'knn': -0.29999999999999993, 'quality': -0.7, 'volume': 0.9000000000000001}. Best is trial 155 with value: 5.84050489650839.\u001b[0m\n"
     ]
    },
    {
     "name": "stdout",
     "output_type": "stream",
     "text": [
      "time 2.658 cat_cov 97.0 cov 100.0 nov 0.938 ser 0.214 m1 0.92 m10 0.849 price 2.724 sum 5.799\n"
     ]
    },
    {
     "name": "stderr",
     "output_type": "stream",
     "text": [
      "\u001b[32m[I 2023-05-12 13:33:51,685]\u001b[0m Trial 195 finished with value: 5.795847451589849 and parameters: {'svd': 0.8, 'lfm_cos': -0.09999999999999998, 'nn_bias': 0.30000000000000004, 'catboost': -1.0, 'knn': -0.19999999999999996, 'quality': -0.8, 'volume': 0.9000000000000001}. Best is trial 155 with value: 5.84050489650839.\u001b[0m\n"
     ]
    },
    {
     "name": "stdout",
     "output_type": "stream",
     "text": [
      "time 2.653 cat_cov 98.0 cov 100.0 nov 0.986 ser 0.211 m1 0.901 m10 0.829 price 2.666 sum 5.796\n"
     ]
    },
    {
     "name": "stderr",
     "output_type": "stream",
     "text": [
      "\u001b[32m[I 2023-05-12 13:33:54,354]\u001b[0m Trial 196 finished with value: 5.805075307694972 and parameters: {'svd': 1.0, 'lfm_cos': 0.0, 'nn_bias': 0.20000000000000018, 'catboost': -0.9, 'knn': -0.09999999999999998, 'quality': -0.3999999999999999, 'volume': 0.8}. Best is trial 155 with value: 5.84050489650839.\u001b[0m\n"
     ]
    },
    {
     "name": "stdout",
     "output_type": "stream",
     "text": [
      "time 2.645 cat_cov 98.0 cov 100.0 nov 0.935 ser 0.21 m1 0.929 m10 0.851 price 2.696 sum 5.805\n"
     ]
    },
    {
     "name": "stderr",
     "output_type": "stream",
     "text": [
      "\u001b[32m[I 2023-05-12 13:33:57,016]\u001b[0m Trial 197 finished with value: 5.829454190677289 and parameters: {'svd': 0.9000000000000001, 'lfm_cos': 0.0, 'nn_bias': 0.20000000000000018, 'catboost': -1.0, 'knn': -0.29999999999999993, 'quality': -0.5, 'volume': 0.8}. Best is trial 155 with value: 5.84050489650839.\u001b[0m\n"
     ]
    },
    {
     "name": "stdout",
     "output_type": "stream",
     "text": [
      "time 2.639 cat_cov 99.0 cov 100.0 nov 0.945 ser 0.215 m1 0.919 m10 0.848 price 2.736 sum 5.829\n"
     ]
    },
    {
     "name": "stderr",
     "output_type": "stream",
     "text": [
      "\u001b[32m[I 2023-05-12 13:33:59,700]\u001b[0m Trial 198 finished with value: 5.831482473474727 and parameters: {'svd': 1.0, 'lfm_cos': 0.0, 'nn_bias': 0.20000000000000018, 'catboost': -1.0, 'knn': -0.29999999999999993, 'quality': -0.5, 'volume': 0.9000000000000001}. Best is trial 155 with value: 5.84050489650839.\u001b[0m\n"
     ]
    },
    {
     "name": "stdout",
     "output_type": "stream",
     "text": [
      "time 2.659 cat_cov 99.0 cov 100.0 nov 0.939 ser 0.214 m1 0.923 m10 0.85 price 2.745 sum 5.831\n"
     ]
    },
    {
     "name": "stderr",
     "output_type": "stream",
     "text": [
      "\u001b[32m[I 2023-05-12 13:34:02,387]\u001b[0m Trial 199 finished with value: 5.771596333317075 and parameters: {'svd': 1.0, 'lfm_cos': 0.0, 'nn_bias': 0.20000000000000018, 'catboost': -1.0, 'knn': -0.29999999999999993, 'quality': -0.5, 'volume': -0.9}. Best is trial 155 with value: 5.84050489650839.\u001b[0m\n"
     ]
    },
    {
     "name": "stdout",
     "output_type": "stream",
     "text": [
      "time 2.663 cat_cov 97.0 cov 100.0 nov 0.967 ser 0.212 m1 0.919 m10 0.847 price 2.569 sum 5.772\n"
     ]
    },
    {
     "name": "stderr",
     "output_type": "stream",
     "text": [
      "\u001b[32m[I 2023-05-12 13:34:05,074]\u001b[0m Trial 200 finished with value: 5.759566957658143 and parameters: {'svd': 1.0, 'lfm_cos': 0.10000000000000009, 'nn_bias': 0.20000000000000018, 'catboost': -1.0, 'knn': -0.29999999999999993, 'quality': -0.6, 'volume': 1.0}. Best is trial 155 with value: 5.84050489650839.\u001b[0m\n"
     ]
    },
    {
     "name": "stdout",
     "output_type": "stream",
     "text": [
      "time 2.663 cat_cov 94.0 cov 100.0 nov 0.887 ser 0.218 m1 0.925 m10 0.853 price 2.807 sum 5.76\n"
     ]
    },
    {
     "name": "stderr",
     "output_type": "stream",
     "text": [
      "\u001b[32m[I 2023-05-12 13:34:07,761]\u001b[0m Trial 201 finished with value: 5.806112722416701 and parameters: {'svd': 0.9000000000000001, 'lfm_cos': 0.0, 'nn_bias': 0.30000000000000004, 'catboost': -1.0, 'knn': -0.19999999999999996, 'quality': -0.6, 'volume': 0.0}. Best is trial 155 with value: 5.84050489650839.\u001b[0m\n"
     ]
    },
    {
     "name": "stdout",
     "output_type": "stream",
     "text": [
      "time 2.661 cat_cov 100.0 cov 100.0 nov 0.973 ser 0.21 m1 0.913 m10 0.839 price 2.614 sum 5.806\n"
     ]
    },
    {
     "name": "stderr",
     "output_type": "stream",
     "text": [
      "\u001b[32m[I 2023-05-12 13:34:10,466]\u001b[0m Trial 202 finished with value: 5.8150137930770835 and parameters: {'svd': 0.9000000000000001, 'lfm_cos': 0.0, 'nn_bias': 0.20000000000000018, 'catboost': -1.0, 'knn': -0.19999999999999996, 'quality': -0.6, 'volume': 0.8}. Best is trial 155 with value: 5.84050489650839.\u001b[0m\n"
     ]
    },
    {
     "name": "stdout",
     "output_type": "stream",
     "text": [
      "time 2.681 cat_cov 98.0 cov 100.0 nov 0.948 ser 0.214 m1 0.922 m10 0.85 price 2.707 sum 5.815\n"
     ]
    },
    {
     "name": "stderr",
     "output_type": "stream",
     "text": [
      "\u001b[32m[I 2023-05-12 13:34:13,171]\u001b[0m Trial 203 finished with value: 5.814175509539375 and parameters: {'svd': 0.9000000000000001, 'lfm_cos': 0.0, 'nn_bias': 0.30000000000000004, 'catboost': -1.0, 'knn': -0.19999999999999996, 'quality': -0.6, 'volume': 0.9000000000000001}. Best is trial 155 with value: 5.84050489650839.\u001b[0m\n"
     ]
    },
    {
     "name": "stdout",
     "output_type": "stream",
     "text": [
      "time 2.678 cat_cov 99.0 cov 100.0 nov 0.962 ser 0.212 m1 0.915 m10 0.841 price 2.686 sum 5.814\n"
     ]
    },
    {
     "name": "stderr",
     "output_type": "stream",
     "text": [
      "\u001b[32m[I 2023-05-12 13:34:15,846]\u001b[0m Trial 204 finished with value: 5.797749480043076 and parameters: {'svd': 0.9000000000000001, 'lfm_cos': 0.0, 'nn_bias': 0.20000000000000018, 'catboost': -1.0, 'knn': -0.19999999999999996, 'quality': -0.6, 'volume': 0.9000000000000001}. Best is trial 155 with value: 5.84050489650839.\u001b[0m\n"
     ]
    },
    {
     "name": "stdout",
     "output_type": "stream",
     "text": [
      "time 2.649 cat_cov 96.0 cov 100.0 nov 0.946 ser 0.214 m1 0.922 m10 0.85 price 2.719 sum 5.798\n"
     ]
    },
    {
     "name": "stderr",
     "output_type": "stream",
     "text": [
      "\u001b[32m[I 2023-05-12 13:34:18,534]\u001b[0m Trial 205 finished with value: 5.3427121335982015 and parameters: {'svd': 1.0, 'lfm_cos': 1.0, 'nn_bias': 0.20000000000000018, 'catboost': -0.9, 'knn': -0.09999999999999998, 'quality': -0.6, 'volume': 0.8}. Best is trial 155 with value: 5.84050489650839.\u001b[0m\n"
     ]
    },
    {
     "name": "stdout",
     "output_type": "stream",
     "text": [
      "time 2.664 cat_cov 99.0 cov 100.0 nov 0.678 ser 0.218 m1 0.765 m10 0.71 price 2.945 sum 5.343\n"
     ]
    },
    {
     "name": "stderr",
     "output_type": "stream",
     "text": [
      "\u001b[32m[I 2023-05-12 13:34:21,232]\u001b[0m Trial 206 finished with value: 5.759681311438889 and parameters: {'svd': 0.8, 'lfm_cos': 0.10000000000000009, 'nn_bias': 0.40000000000000013, 'catboost': -1.0, 'knn': -0.29999999999999993, 'quality': -0.5, 'volume': 0.9000000000000001}. Best is trial 155 with value: 5.84050489650839.\u001b[0m\n"
     ]
    },
    {
     "name": "stdout",
     "output_type": "stream",
     "text": [
      "time 2.672 cat_cov 97.0 cov 100.0 nov 0.94 ser 0.214 m1 0.896 m10 0.826 price 2.74 sum 5.76\n"
     ]
    },
    {
     "name": "stderr",
     "output_type": "stream",
     "text": [
      "\u001b[32m[I 2023-05-12 13:34:23,930]\u001b[0m Trial 207 finished with value: 5.792241949830281 and parameters: {'svd': 0.9000000000000001, 'lfm_cos': 0.10000000000000009, 'nn_bias': 0.30000000000000004, 'catboost': -0.9, 'knn': -0.29999999999999993, 'quality': -0.7, 'volume': 1.0}. Best is trial 155 with value: 5.84050489650839.\u001b[0m\n"
     ]
    },
    {
     "name": "stdout",
     "output_type": "stream",
     "text": [
      "time 2.673 cat_cov 98.0 cov 100.0 nov 0.914 ser 0.216 m1 0.918 m10 0.845 price 2.759 sum 5.792\n"
     ]
    },
    {
     "name": "stderr",
     "output_type": "stream",
     "text": [
      "\u001b[32m[I 2023-05-12 13:34:26,625]\u001b[0m Trial 208 finished with value: 5.81179941352683 and parameters: {'svd': 0.8, 'lfm_cos': 0.0, 'nn_bias': 0.10000000000000009, 'catboost': -1.0, 'knn': -0.19999999999999996, 'quality': -0.3999999999999999, 'volume': 0.9000000000000001}. Best is trial 155 with value: 5.84050489650839.\u001b[0m\n"
     ]
    },
    {
     "name": "stdout",
     "output_type": "stream",
     "text": [
      "time 2.671 cat_cov 95.0 cov 100.0 nov 0.923 ser 0.218 m1 0.923 m10 0.853 price 2.833 sum 5.812\n"
     ]
    },
    {
     "name": "stderr",
     "output_type": "stream",
     "text": [
      "\u001b[32m[I 2023-05-12 13:34:29,326]\u001b[0m Trial 209 finished with value: 5.783126455396593 and parameters: {'svd': 1.0, 'lfm_cos': 0.0, 'nn_bias': 0.30000000000000004, 'catboost': -1.0, 'knn': -0.09999999999999998, 'quality': -0.3999999999999999, 'volume': 0.9000000000000001}. Best is trial 155 with value: 5.84050489650839.\u001b[0m\n"
     ]
    },
    {
     "name": "stdout",
     "output_type": "stream",
     "text": [
      "time 2.676 cat_cov 96.0 cov 100.0 nov 0.955 ser 0.21 m1 0.92 m10 0.843 price 2.684 sum 5.783\n"
     ]
    },
    {
     "name": "stderr",
     "output_type": "stream",
     "text": [
      "\u001b[32m[I 2023-05-12 13:34:32,027]\u001b[0m Trial 210 finished with value: 5.75336504875011 and parameters: {'svd': 0.8, 'lfm_cos': 0.10000000000000009, 'nn_bias': 0.10000000000000009, 'catboost': -1.0, 'knn': -0.19999999999999996, 'quality': -0.5, 'volume': -0.29999999999999993}. Best is trial 155 with value: 5.84050489650839.\u001b[0m\n"
     ]
    },
    {
     "name": "stdout",
     "output_type": "stream",
     "text": [
      "time 2.676 cat_cov 98.0 cov 100.0 nov 0.876 ser 0.22 m1 0.925 m10 0.853 price 2.696 sum 5.753\n"
     ]
    },
    {
     "name": "stderr",
     "output_type": "stream",
     "text": [
      "\u001b[32m[I 2023-05-12 13:34:34,719]\u001b[0m Trial 211 finished with value: 5.80051561399371 and parameters: {'svd': 0.8, 'lfm_cos': 0.0, 'nn_bias': 0.10000000000000009, 'catboost': -1.0, 'knn': -0.29999999999999993, 'quality': -0.5, 'volume': 0.8}. Best is trial 155 with value: 5.84050489650839.\u001b[0m\n"
     ]
    },
    {
     "name": "stdout",
     "output_type": "stream",
     "text": [
      "time 2.668 cat_cov 96.0 cov 100.0 nov 0.922 ser 0.217 m1 0.919 m10 0.852 price 2.791 sum 5.801\n"
     ]
    },
    {
     "name": "stderr",
     "output_type": "stream",
     "text": [
      "\u001b[32m[I 2023-05-12 13:34:37,426]\u001b[0m Trial 212 finished with value: 5.800686914370141 and parameters: {'svd': 0.9000000000000001, 'lfm_cos': 0.0, 'nn_bias': 0.10000000000000009, 'catboost': -0.9, 'knn': -0.19999999999999996, 'quality': -0.6, 'volume': 0.9000000000000001}. Best is trial 155 with value: 5.84050489650839.\u001b[0m\n"
     ]
    },
    {
     "name": "stdout",
     "output_type": "stream",
     "text": [
      "time 2.682 cat_cov 97.0 cov 100.0 nov 0.91 ser 0.215 m1 0.927 m10 0.855 price 2.77 sum 5.801\n"
     ]
    },
    {
     "name": "stderr",
     "output_type": "stream",
     "text": [
      "\u001b[32m[I 2023-05-12 13:34:40,125]\u001b[0m Trial 213 finished with value: 5.8419842404326685 and parameters: {'svd': 0.8, 'lfm_cos': 0.0, 'nn_bias': 0.20000000000000018, 'catboost': -0.9, 'knn': -0.09999999999999998, 'quality': -0.3999999999999999, 'volume': 1.0}. Best is trial 213 with value: 5.8419842404326685.\u001b[0m\n"
     ]
    },
    {
     "name": "stdout",
     "output_type": "stream",
     "text": [
      "time 2.674 cat_cov 99.0 cov 100.0 nov 0.952 ser 0.213 m1 0.923 m10 0.848 price 2.746 sum 5.842\n"
     ]
    },
    {
     "name": "stderr",
     "output_type": "stream",
     "text": [
      "\u001b[32m[I 2023-05-12 13:34:42,835]\u001b[0m Trial 214 finished with value: 5.826011363283868 and parameters: {'svd': 0.8, 'lfm_cos': -0.09999999999999998, 'nn_bias': 0.20000000000000018, 'catboost': -1.0, 'knn': -0.09999999999999998, 'quality': -0.3999999999999999, 'volume': 1.0}. Best is trial 213 with value: 5.8419842404326685.\u001b[0m\n"
     ]
    },
    {
     "name": "stdout",
     "output_type": "stream",
     "text": [
      "time 2.685 cat_cov 98.0 cov 100.0 nov 0.983 ser 0.212 m1 0.914 m10 0.841 price 2.689 sum 5.826\n"
     ]
    },
    {
     "name": "stderr",
     "output_type": "stream",
     "text": [
      "\u001b[32m[I 2023-05-12 13:34:45,523]\u001b[0m Trial 215 finished with value: 5.808995709196292 and parameters: {'svd': 0.8, 'lfm_cos': -0.09999999999999998, 'nn_bias': 0.20000000000000018, 'catboost': -1.0, 'knn': 0.0, 'quality': -0.3999999999999999, 'volume': 1.0}. Best is trial 213 with value: 5.8419842404326685.\u001b[0m\n"
     ]
    },
    {
     "name": "stdout",
     "output_type": "stream",
     "text": [
      "time 2.663 cat_cov 97.0 cov 100.0 nov 0.989 ser 0.21 m1 0.912 m10 0.841 price 2.66 sum 5.809\n"
     ]
    },
    {
     "name": "stderr",
     "output_type": "stream",
     "text": [
      "\u001b[32m[I 2023-05-12 13:34:48,917]\u001b[0m Trial 216 finished with value: 5.802949441453493 and parameters: {'svd': 0.8, 'lfm_cos': -0.09999999999999998, 'nn_bias': 0.20000000000000018, 'catboost': -1.0, 'knn': 0.10000000000000009, 'quality': -0.3999999999999999, 'volume': 1.0}. Best is trial 213 with value: 5.8419842404326685.\u001b[0m\n"
     ]
    },
    {
     "name": "stdout",
     "output_type": "stream",
     "text": [
      "time 3.369 cat_cov 98.0 cov 100.0 nov 0.993 ser 0.209 m1 0.906 m10 0.838 price 2.631 sum 5.803\n"
     ]
    },
    {
     "name": "stderr",
     "output_type": "stream",
     "text": [
      "\u001b[32m[I 2023-05-12 13:34:51,597]\u001b[0m Trial 217 finished with value: 5.826011363283868 and parameters: {'svd': 0.8, 'lfm_cos': -0.09999999999999998, 'nn_bias': 0.20000000000000018, 'catboost': -1.0, 'knn': -0.09999999999999998, 'quality': -0.3999999999999999, 'volume': 1.0}. Best is trial 213 with value: 5.8419842404326685.\u001b[0m\n"
     ]
    },
    {
     "name": "stdout",
     "output_type": "stream",
     "text": [
      "time 2.654 cat_cov 98.0 cov 100.0 nov 0.983 ser 0.212 m1 0.914 m10 0.841 price 2.689 sum 5.826\n"
     ]
    },
    {
     "name": "stderr",
     "output_type": "stream",
     "text": [
      "\u001b[32m[I 2023-05-12 13:34:54,309]\u001b[0m Trial 218 finished with value: 5.7898857865036355 and parameters: {'svd': 0.9000000000000001, 'lfm_cos': 0.10000000000000009, 'nn_bias': 0.20000000000000018, 'catboost': -1.0, 'knn': 0.0, 'quality': -0.3999999999999999, 'volume': 1.0}. Best is trial 213 with value: 5.8419842404326685.\u001b[0m\n"
     ]
    },
    {
     "name": "stdout",
     "output_type": "stream",
     "text": [
      "time 2.688 cat_cov 97.0 cov 100.0 nov 0.902 ser 0.215 m1 0.927 m10 0.852 price 2.77 sum 5.79\n"
     ]
    },
    {
     "name": "stderr",
     "output_type": "stream",
     "text": [
      "\u001b[32m[I 2023-05-12 13:34:56,980]\u001b[0m Trial 219 finished with value: 5.830527963907136 and parameters: {'svd': 0.8, 'lfm_cos': 0.0, 'nn_bias': 0.20000000000000018, 'catboost': -1.0, 'knn': -0.09999999999999998, 'quality': -0.7, 'volume': 1.0}. Best is trial 213 with value: 5.8419842404326685.\u001b[0m\n"
     ]
    },
    {
     "name": "stdout",
     "output_type": "stream",
     "text": [
      "time 2.645 cat_cov 99.0 cov 100.0 nov 0.955 ser 0.214 m1 0.921 m10 0.848 price 2.705 sum 5.831\n"
     ]
    },
    {
     "name": "stderr",
     "output_type": "stream",
     "text": [
      "\u001b[32m[I 2023-05-12 13:34:59,667]\u001b[0m Trial 220 finished with value: 5.820831437549683 and parameters: {'svd': 0.9000000000000001, 'lfm_cos': 0.0, 'nn_bias': 0.20000000000000018, 'catboost': -0.9, 'knn': -0.09999999999999998, 'quality': -0.6, 'volume': 1.0}. Best is trial 213 with value: 5.8419842404326685.\u001b[0m\n"
     ]
    },
    {
     "name": "stdout",
     "output_type": "stream",
     "text": [
      "time 2.662 cat_cov 99.0 cov 100.0 nov 0.942 ser 0.212 m1 0.926 m10 0.849 price 2.703 sum 5.821\n"
     ]
    },
    {
     "name": "stderr",
     "output_type": "stream",
     "text": [
      "\u001b[32m[I 2023-05-12 13:35:02,354]\u001b[0m Trial 221 finished with value: 5.437258049577936 and parameters: {'svd': 0.9000000000000001, 'lfm_cos': 0.0, 'nn_bias': 0.20000000000000018, 'catboost': 0.40000000000000013, 'knn': -0.09999999999999998, 'quality': -0.6, 'volume': 1.0}. Best is trial 213 with value: 5.8419842404326685.\u001b[0m\n"
     ]
    },
    {
     "name": "stdout",
     "output_type": "stream",
     "text": [
      "time 2.663 cat_cov 97.0 cov 100.0 nov 0.672 ser 0.176 m1 0.87 m10 0.838 price 2.734 sum 5.437\n"
     ]
    },
    {
     "name": "stderr",
     "output_type": "stream",
     "text": [
      "\u001b[32m[I 2023-05-12 13:35:05,067]\u001b[0m Trial 222 finished with value: 5.825138574770574 and parameters: {'svd': 0.8, 'lfm_cos': 0.0, 'nn_bias': 0.20000000000000018, 'catboost': -0.9, 'knn': -0.09999999999999998, 'quality': -0.7, 'volume': 1.0}. Best is trial 213 with value: 5.8419842404326685.\u001b[0m\n"
     ]
    },
    {
     "name": "stdout",
     "output_type": "stream",
     "text": [
      "time 2.687 cat_cov 99.0 cov 100.0 nov 0.95 ser 0.213 m1 0.923 m10 0.848 price 2.702 sum 5.825\n"
     ]
    },
    {
     "name": "stderr",
     "output_type": "stream",
     "text": [
      "\u001b[32m[I 2023-05-12 13:35:07,765]\u001b[0m Trial 223 finished with value: 5.821842880830091 and parameters: {'svd': 0.8, 'lfm_cos': 0.0, 'nn_bias': 0.20000000000000018, 'catboost': -0.9, 'knn': -0.09999999999999998, 'quality': -0.8, 'volume': 1.0}. Best is trial 213 with value: 5.8419842404326685.\u001b[0m\n"
     ]
    },
    {
     "name": "stdout",
     "output_type": "stream",
     "text": [
      "time 2.673 cat_cov 99.0 cov 100.0 nov 0.949 ser 0.213 m1 0.923 m10 0.849 price 2.695 sum 5.822\n"
     ]
    },
    {
     "name": "stderr",
     "output_type": "stream",
     "text": [
      "\u001b[32m[I 2023-05-12 13:35:10,467]\u001b[0m Trial 224 finished with value: 5.782746065756309 and parameters: {'svd': 0.8, 'lfm_cos': 0.10000000000000009, 'nn_bias': 0.20000000000000018, 'catboost': -0.9, 'knn': -0.09999999999999998, 'quality': -0.8, 'volume': 1.0}. Best is trial 213 with value: 5.8419842404326685.\u001b[0m\n"
     ]
    },
    {
     "name": "stdout",
     "output_type": "stream",
     "text": [
      "time 2.676 cat_cov 97.0 cov 100.0 nov 0.893 ser 0.217 m1 0.927 m10 0.853 price 2.767 sum 5.783\n"
     ]
    },
    {
     "name": "stderr",
     "output_type": "stream",
     "text": [
      "\u001b[32m[I 2023-05-12 13:35:13,200]\u001b[0m Trial 225 finished with value: 5.812382954419682 and parameters: {'svd': 0.9000000000000001, 'lfm_cos': 0.0, 'nn_bias': 0.20000000000000018, 'catboost': -0.9, 'knn': 0.0, 'quality': -0.9, 'volume': 1.0}. Best is trial 213 with value: 5.8419842404326685.\u001b[0m\n"
     ]
    },
    {
     "name": "stdout",
     "output_type": "stream",
     "text": [
      "time 2.702 cat_cov 100.0 cov 100.0 nov 0.941 ser 0.21 m1 0.925 m10 0.849 price 2.663 sum 5.812\n"
     ]
    },
    {
     "name": "stderr",
     "output_type": "stream",
     "text": [
      "\u001b[32m[I 2023-05-12 13:35:15,939]\u001b[0m Trial 226 finished with value: 5.825138574770574 and parameters: {'svd': 0.8, 'lfm_cos': 0.0, 'nn_bias': 0.20000000000000018, 'catboost': -0.9, 'knn': -0.09999999999999998, 'quality': -0.7, 'volume': 1.0}. Best is trial 213 with value: 5.8419842404326685.\u001b[0m\n"
     ]
    },
    {
     "name": "stdout",
     "output_type": "stream",
     "text": [
      "time 2.714 cat_cov 99.0 cov 100.0 nov 0.95 ser 0.213 m1 0.923 m10 0.848 price 2.702 sum 5.825\n"
     ]
    },
    {
     "name": "stderr",
     "output_type": "stream",
     "text": [
      "\u001b[32m[I 2023-05-12 13:35:18,686]\u001b[0m Trial 227 finished with value: 5.799502534754041 and parameters: {'svd': 1.0, 'lfm_cos': 0.0, 'nn_bias': 0.20000000000000018, 'catboost': -0.9, 'knn': -0.09999999999999998, 'quality': -0.7, 'volume': 1.0}. Best is trial 213 with value: 5.8419842404326685.\u001b[0m\n"
     ]
    },
    {
     "name": "stdout",
     "output_type": "stream",
     "text": [
      "time 2.722 cat_cov 98.0 cov 100.0 nov 0.931 ser 0.211 m1 0.929 m10 0.851 price 2.691 sum 5.8\n"
     ]
    },
    {
     "name": "stderr",
     "output_type": "stream",
     "text": [
      "\u001b[32m[I 2023-05-12 13:35:21,383]\u001b[0m Trial 228 finished with value: 5.783876823242138 and parameters: {'svd': 0.9000000000000001, 'lfm_cos': 0.10000000000000009, 'nn_bias': 0.20000000000000018, 'catboost': -0.9, 'knn': -0.09999999999999998, 'quality': -0.9, 'volume': 1.0}. Best is trial 213 with value: 5.8419842404326685.\u001b[0m\n"
     ]
    },
    {
     "name": "stdout",
     "output_type": "stream",
     "text": [
      "time 2.669 cat_cov 98.0 cov 100.0 nov 0.886 ser 0.216 m1 0.93 m10 0.854 price 2.753 sum 5.784\n"
     ]
    },
    {
     "name": "stderr",
     "output_type": "stream",
     "text": [
      "\u001b[32m[I 2023-05-12 13:35:24,074]\u001b[0m Trial 229 finished with value: 5.803622710598925 and parameters: {'svd': 0.8, 'lfm_cos': 0.0, 'nn_bias': 0.20000000000000018, 'catboost': -0.9, 'knn': 0.0, 'quality': -0.7, 'volume': 1.0}. Best is trial 213 with value: 5.8419842404326685.\u001b[0m\n"
     ]
    },
    {
     "name": "stdout",
     "output_type": "stream",
     "text": [
      "time 2.665 cat_cov 98.0 cov 100.0 nov 0.953 ser 0.211 m1 0.921 m10 0.846 price 2.677 sum 5.804\n"
     ]
    },
    {
     "name": "stderr",
     "output_type": "stream",
     "text": [
      "\u001b[32m[I 2023-05-12 13:35:26,784]\u001b[0m Trial 230 finished with value: 5.798132556278984 and parameters: {'svd': 0.9000000000000001, 'lfm_cos': 0.10000000000000009, 'nn_bias': 0.20000000000000018, 'catboost': -0.9, 'knn': -0.09999999999999998, 'quality': -0.8, 'volume': 1.0}. Best is trial 213 with value: 5.8419842404326685.\u001b[0m\n"
     ]
    },
    {
     "name": "stdout",
     "output_type": "stream",
     "text": [
      "time 2.684 cat_cov 99.0 cov 100.0 nov 0.888 ser 0.216 m1 0.93 m10 0.854 price 2.76 sum 5.798\n"
     ]
    },
    {
     "name": "stderr",
     "output_type": "stream",
     "text": [
      "\u001b[32m[I 2023-05-12 13:35:29,475]\u001b[0m Trial 231 finished with value: 5.820527963907137 and parameters: {'svd': 0.8, 'lfm_cos': 0.0, 'nn_bias': 0.20000000000000018, 'catboost': -1.0, 'knn': -0.09999999999999998, 'quality': -0.7, 'volume': 1.0}. Best is trial 213 with value: 5.8419842404326685.\u001b[0m\n"
     ]
    },
    {
     "name": "stdout",
     "output_type": "stream",
     "text": [
      "time 2.667 cat_cov 98.0 cov 100.0 nov 0.955 ser 0.214 m1 0.921 m10 0.848 price 2.705 sum 5.821\n"
     ]
    },
    {
     "name": "stderr",
     "output_type": "stream",
     "text": [
      "\u001b[32m[I 2023-05-12 13:35:32,152]\u001b[0m Trial 232 finished with value: 5.758220617265755 and parameters: {'svd': 0.8, 'lfm_cos': 0.0, 'nn_bias': 0.30000000000000004, 'catboost': -1.0, 'knn': -0.09999999999999998, 'quality': -0.7, 'volume': 1.0}. Best is trial 213 with value: 5.8419842404326685.\u001b[0m\n"
     ]
    },
    {
     "name": "stdout",
     "output_type": "stream",
     "text": [
      "time 2.65 cat_cov 94.0 cov 100.0 nov 0.97 ser 0.211 m1 0.909 m10 0.837 price 2.675 sum 5.758\n"
     ]
    },
    {
     "name": "stderr",
     "output_type": "stream",
     "text": [
      "\u001b[32m[I 2023-05-12 13:35:34,841]\u001b[0m Trial 233 finished with value: 5.797106156426146 and parameters: {'svd': 0.8, 'lfm_cos': 0.0, 'nn_bias': 0.20000000000000018, 'catboost': -1.0, 'knn': -0.09999999999999998, 'quality': -0.8, 'volume': 1.0}. Best is trial 213 with value: 5.8419842404326685.\u001b[0m\n"
     ]
    },
    {
     "name": "stdout",
     "output_type": "stream",
     "text": [
      "time 2.664 cat_cov 96.0 cov 100.0 nov 0.954 ser 0.213 m1 0.921 m10 0.849 price 2.698 sum 5.797\n"
     ]
    },
    {
     "name": "stderr",
     "output_type": "stream",
     "text": [
      "\u001b[32m[I 2023-05-12 13:35:37,538]\u001b[0m Trial 234 finished with value: 5.805626947621106 and parameters: {'svd': 0.9000000000000001, 'lfm_cos': 0.0, 'nn_bias': 0.20000000000000018, 'catboost': -1.0, 'knn': 0.0, 'quality': -0.7, 'volume': 1.0}. Best is trial 213 with value: 5.8419842404326685.\u001b[0m\n"
     ]
    },
    {
     "name": "stdout",
     "output_type": "stream",
     "text": [
      "time 2.67 cat_cov 98.0 cov 100.0 nov 0.951 ser 0.211 m1 0.923 m10 0.848 price 2.677 sum 5.806\n"
     ]
    },
    {
     "name": "stderr",
     "output_type": "stream",
     "text": [
      "\u001b[32m[I 2023-05-12 13:35:40,266]\u001b[0m Trial 235 finished with value: 5.7969086233687985 and parameters: {'svd': 0.8, 'lfm_cos': 0.10000000000000009, 'nn_bias': 0.20000000000000018, 'catboost': -0.9, 'knn': -0.09999999999999998, 'quality': -0.7, 'volume': 1.0}. Best is trial 213 with value: 5.8419842404326685.\u001b[0m\n"
     ]
    },
    {
     "name": "stdout",
     "output_type": "stream",
     "text": [
      "time 2.696 cat_cov 98.0 cov 100.0 nov 0.894 ser 0.217 m1 0.928 m10 0.853 price 2.777 sum 5.797\n"
     ]
    },
    {
     "name": "stderr",
     "output_type": "stream",
     "text": [
      "\u001b[32m[I 2023-05-12 13:35:42,952]\u001b[0m Trial 236 finished with value: 5.798139746436148 and parameters: {'svd': 0.9000000000000001, 'lfm_cos': 0.0, 'nn_bias': 0.30000000000000004, 'catboost': -1.0, 'knn': 0.0, 'quality': -0.6, 'volume': 1.0}. Best is trial 213 with value: 5.8419842404326685.\u001b[0m\n"
     ]
    },
    {
     "name": "stdout",
     "output_type": "stream",
     "text": [
      "time 2.661 cat_cov 99.0 cov 100.0 nov 0.962 ser 0.209 m1 0.913 m10 0.839 price 2.657 sum 5.798\n"
     ]
    },
    {
     "name": "stderr",
     "output_type": "stream",
     "text": [
      "\u001b[32m[I 2023-05-12 13:35:45,638]\u001b[0m Trial 237 finished with value: 5.795138574770574 and parameters: {'svd': 0.8, 'lfm_cos': 0.0, 'nn_bias': 0.20000000000000018, 'catboost': -0.9, 'knn': -0.09999999999999998, 'quality': -0.7, 'volume': 1.0}. Best is trial 213 with value: 5.8419842404326685.\u001b[0m\n"
     ]
    },
    {
     "name": "stdout",
     "output_type": "stream",
     "text": [
      "time 2.659 cat_cov 96.0 cov 100.0 nov 0.95 ser 0.213 m1 0.923 m10 0.848 price 2.702 sum 5.795\n"
     ]
    },
    {
     "name": "stderr",
     "output_type": "stream",
     "text": [
      "\u001b[32m[I 2023-05-12 13:35:48,324]\u001b[0m Trial 238 finished with value: 5.824298253559745 and parameters: {'svd': 0.8, 'lfm_cos': 0.0, 'nn_bias': 0.20000000000000018, 'catboost': -1.0, 'knn': -0.09999999999999998, 'quality': -0.6, 'volume': 1.0}. Best is trial 213 with value: 5.8419842404326685.\u001b[0m\n"
     ]
    },
    {
     "name": "stdout",
     "output_type": "stream",
     "text": [
      "time 2.66 cat_cov 98.0 cov 100.0 nov 0.956 ser 0.214 m1 0.922 m10 0.848 price 2.713 sum 5.824\n"
     ]
    },
    {
     "name": "stderr",
     "output_type": "stream",
     "text": [
      "\u001b[32m[I 2023-05-12 13:35:50,996]\u001b[0m Trial 239 finished with value: 5.822815331881541 and parameters: {'svd': 0.8, 'lfm_cos': -0.09999999999999998, 'nn_bias': 0.20000000000000018, 'catboost': -1.0, 'knn': -0.09999999999999998, 'quality': -0.7, 'volume': 1.0}. Best is trial 213 with value: 5.8419842404326685.\u001b[0m\n"
     ]
    },
    {
     "name": "stdout",
     "output_type": "stream",
     "text": [
      "time 2.645 cat_cov 98.0 cov 100.0 nov 0.983 ser 0.212 m1 0.914 m10 0.842 price 2.678 sum 5.823\n"
     ]
    },
    {
     "name": "stderr",
     "output_type": "stream",
     "text": [
      "\u001b[32m[I 2023-05-12 13:35:53,684]\u001b[0m Trial 240 finished with value: 4.918084448546382 and parameters: {'svd': 0.8, 'lfm_cos': -0.09999999999999998, 'nn_bias': 0.20000000000000018, 'catboost': 0.9000000000000001, 'knn': 0.0, 'quality': -0.7, 'volume': 1.0}. Best is trial 213 with value: 5.8419842404326685.\u001b[0m\n"
     ]
    },
    {
     "name": "stdout",
     "output_type": "stream",
     "text": [
      "time 2.662 cat_cov 97.0 cov 100.0 nov 0.596 ser 0.144 m1 0.653 m10 0.665 price 2.669 sum 4.918\n"
     ]
    },
    {
     "name": "stderr",
     "output_type": "stream",
     "text": [
      "\u001b[32m[I 2023-05-12 13:35:56,367]\u001b[0m Trial 241 finished with value: 5.811197727407389 and parameters: {'svd': 0.8, 'lfm_cos': -0.09999999999999998, 'nn_bias': 0.20000000000000018, 'catboost': -1.0, 'knn': -0.09999999999999998, 'quality': -0.8, 'volume': 1.0}. Best is trial 213 with value: 5.8419842404326685.\u001b[0m\n"
     ]
    },
    {
     "name": "stdout",
     "output_type": "stream",
     "text": [
      "time 2.657 cat_cov 97.0 cov 100.0 nov 0.983 ser 0.212 m1 0.914 m10 0.842 price 2.673 sum 5.811\n"
     ]
    },
    {
     "name": "stderr",
     "output_type": "stream",
     "text": [
      "\u001b[32m[I 2023-05-12 13:35:59,030]\u001b[0m Trial 242 finished with value: 5.768963066613324 and parameters: {'svd': 0.8, 'lfm_cos': 0.10000000000000009, 'nn_bias': 0.10000000000000009, 'catboost': -0.9, 'knn': -0.09999999999999998, 'quality': -0.6, 'volume': 1.0}. Best is trial 213 with value: 5.8419842404326685.\u001b[0m\n"
     ]
    },
    {
     "name": "stdout",
     "output_type": "stream",
     "text": [
      "time 2.637 cat_cov 98.0 cov 100.0 nov 0.815 ser 0.221 m1 0.931 m10 0.853 price 2.905 sum 5.769\n"
     ]
    },
    {
     "name": "stderr",
     "output_type": "stream",
     "text": [
      "\u001b[32m[I 2023-05-12 13:36:01,743]\u001b[0m Trial 243 finished with value: 5.792633810020465 and parameters: {'svd': 0.7000000000000002, 'lfm_cos': 0.0, 'nn_bias': 0.20000000000000018, 'catboost': -1.0, 'knn': -0.09999999999999998, 'quality': -0.9, 'volume': 1.0}. Best is trial 213 with value: 5.8419842404326685.\u001b[0m\n"
     ]
    },
    {
     "name": "stdout",
     "output_type": "stream",
     "text": [
      "time 2.688 cat_cov 96.0 cov 100.0 nov 0.957 ser 0.214 m1 0.917 m10 0.845 price 2.697 sum 5.793\n"
     ]
    },
    {
     "name": "stderr",
     "output_type": "stream",
     "text": [
      "\u001b[32m[I 2023-05-12 13:36:04,464]\u001b[0m Trial 244 finished with value: 5.817436057490366 and parameters: {'svd': 0.8, 'lfm_cos': -0.09999999999999998, 'nn_bias': 0.20000000000000018, 'catboost': -0.9, 'knn': 0.0, 'quality': -0.7, 'volume': 1.0}. Best is trial 213 with value: 5.8419842404326685.\u001b[0m\n"
     ]
    },
    {
     "name": "stdout",
     "output_type": "stream",
     "text": [
      "time 2.696 cat_cov 99.0 cov 100.0 nov 0.979 ser 0.21 m1 0.914 m10 0.841 price 2.652 sum 5.817\n"
     ]
    },
    {
     "name": "stderr",
     "output_type": "stream",
     "text": [
      "\u001b[32m[I 2023-05-12 13:36:07,146]\u001b[0m Trial 245 finished with value: 5.806559999991682 and parameters: {'svd': 0.8, 'lfm_cos': -0.09999999999999998, 'nn_bias': 0.20000000000000018, 'catboost': -0.9, 'knn': 0.0, 'quality': -0.8, 'volume': 1.0}. Best is trial 213 with value: 5.8419842404326685.\u001b[0m\n"
     ]
    },
    {
     "name": "stdout",
     "output_type": "stream",
     "text": [
      "time 2.656 cat_cov 98.0 cov 100.0 nov 0.98 ser 0.21 m1 0.914 m10 0.841 price 2.648 sum 5.807\n"
     ]
    },
    {
     "name": "stderr",
     "output_type": "stream",
     "text": [
      "\u001b[32m[I 2023-05-12 13:36:09,836]\u001b[0m Trial 246 finished with value: 5.816878304762762 and parameters: {'svd': 0.8, 'lfm_cos': -0.09999999999999998, 'nn_bias': 0.20000000000000018, 'catboost': -1.0, 'knn': 0.0, 'quality': -0.7, 'volume': 1.0}. Best is trial 213 with value: 5.8419842404326685.\u001b[0m\n"
     ]
    },
    {
     "name": "stdout",
     "output_type": "stream",
     "text": [
      "time 2.664 cat_cov 98.0 cov 100.0 nov 0.989 ser 0.211 m1 0.913 m10 0.841 price 2.652 sum 5.817\n"
     ]
    },
    {
     "name": "stderr",
     "output_type": "stream",
     "text": [
      "\u001b[32m[I 2023-05-12 13:36:12,583]\u001b[0m Trial 247 finished with value: 5.728959121821882 and parameters: {'svd': 0.7000000000000002, 'lfm_cos': -0.09999999999999998, 'nn_bias': 0.30000000000000004, 'catboost': -0.9, 'knn': 0.10000000000000009, 'quality': -0.7, 'volume': 1.0}. Best is trial 213 with value: 5.8419842404326685.\u001b[0m\n"
     ]
    },
    {
     "name": "stdout",
     "output_type": "stream",
     "text": [
      "time 2.72 cat_cov 96.0 cov 100.0 nov 0.999 ser 0.206 m1 0.878 m10 0.816 price 2.61 sum 5.729\n"
     ]
    },
    {
     "name": "stderr",
     "output_type": "stream",
     "text": [
      "\u001b[32m[I 2023-05-12 13:36:15,272]\u001b[0m Trial 248 finished with value: 5.816878304762762 and parameters: {'svd': 0.8, 'lfm_cos': -0.09999999999999998, 'nn_bias': 0.20000000000000018, 'catboost': -1.0, 'knn': 0.0, 'quality': -0.7, 'volume': 1.0}. Best is trial 213 with value: 5.8419842404326685.\u001b[0m\n"
     ]
    },
    {
     "name": "stdout",
     "output_type": "stream",
     "text": [
      "time 2.663 cat_cov 98.0 cov 100.0 nov 0.989 ser 0.211 m1 0.913 m10 0.841 price 2.652 sum 5.817\n"
     ]
    },
    {
     "name": "stderr",
     "output_type": "stream",
     "text": [
      "\u001b[32m[I 2023-05-12 13:36:17,968]\u001b[0m Trial 249 finished with value: 5.653493301325236 and parameters: {'svd': 0.30000000000000004, 'lfm_cos': -0.09999999999999998, 'nn_bias': 0.20000000000000018, 'catboost': -1.0, 'knn': 0.0, 'quality': -0.7, 'volume': 1.0}. Best is trial 213 with value: 5.8419842404326685.\u001b[0m\n"
     ]
    },
    {
     "name": "stdout",
     "output_type": "stream",
     "text": [
      "time 2.667 cat_cov 94.0 cov 100.0 nov 1.031 ser 0.21 m1 0.824 m10 0.768 price 2.639 sum 5.653\n"
     ]
    },
    {
     "name": "stderr",
     "output_type": "stream",
     "text": [
      "\u001b[32m[I 2023-05-12 13:36:20,668]\u001b[0m Trial 250 finished with value: 5.796878304762762 and parameters: {'svd': 0.8, 'lfm_cos': -0.09999999999999998, 'nn_bias': 0.20000000000000018, 'catboost': -1.0, 'knn': 0.0, 'quality': -0.7, 'volume': 1.0}. Best is trial 213 with value: 5.8419842404326685.\u001b[0m\n"
     ]
    },
    {
     "name": "stdout",
     "output_type": "stream",
     "text": [
      "time 2.666 cat_cov 96.0 cov 100.0 nov 0.989 ser 0.211 m1 0.913 m10 0.841 price 2.652 sum 5.797\n"
     ]
    },
    {
     "name": "stderr",
     "output_type": "stream",
     "text": [
      "\u001b[32m[I 2023-05-12 13:36:23,325]\u001b[0m Trial 251 finished with value: 5.811647598986548 and parameters: {'svd': 0.7000000000000002, 'lfm_cos': -0.09999999999999998, 'nn_bias': 0.20000000000000018, 'catboost': -1.0, 'knn': -0.09999999999999998, 'quality': -0.7, 'volume': 1.0}. Best is trial 213 with value: 5.8419842404326685.\u001b[0m\n"
     ]
    },
    {
     "name": "stdout",
     "output_type": "stream",
     "text": [
      "time 2.629 cat_cov 97.0 cov 100.0 nov 0.991 ser 0.212 m1 0.909 m10 0.837 price 2.677 sum 5.812\n"
     ]
    },
    {
     "name": "stderr",
     "output_type": "stream",
     "text": [
      "\u001b[32m[I 2023-05-12 13:36:26,016]\u001b[0m Trial 252 finished with value: 5.765912316806189 and parameters: {'svd': 0.8, 'lfm_cos': -0.09999999999999998, 'nn_bias': 0.30000000000000004, 'catboost': -0.9, 'knn': 0.10000000000000009, 'quality': -0.8, 'volume': 1.0}. Best is trial 213 with value: 5.8419842404326685.\u001b[0m\n"
     ]
    },
    {
     "name": "stdout",
     "output_type": "stream",
     "text": [
      "time 2.663 cat_cov 99.0 cov 100.0 nov 0.983 ser 0.206 m1 0.891 m10 0.826 price 2.611 sum 5.766\n"
     ]
    },
    {
     "name": "stderr",
     "output_type": "stream",
     "text": [
      "\u001b[32m[I 2023-05-12 13:36:28,694]\u001b[0m Trial 253 finished with value: 5.848950915942575 and parameters: {'svd': 0.7000000000000002, 'lfm_cos': -0.09999999999999998, 'nn_bias': 0.10000000000000009, 'catboost': -1.0, 'knn': 0.0, 'quality': -0.7, 'volume': 1.0}. Best is trial 253 with value: 5.848950915942575.\u001b[0m\n"
     ]
    },
    {
     "name": "stdout",
     "output_type": "stream",
     "text": [
      "time 2.649 cat_cov 99.0 cov 100.0 nov 0.988 ser 0.213 m1 0.917 m10 0.847 price 2.681 sum 5.849\n"
     ]
    },
    {
     "name": "stderr",
     "output_type": "stream",
     "text": [
      "\u001b[32m[I 2023-05-12 13:36:31,375]\u001b[0m Trial 254 finished with value: 5.800225514220173 and parameters: {'svd': 0.7000000000000002, 'lfm_cos': -0.09999999999999998, 'nn_bias': 0.10000000000000009, 'catboost': -0.9, 'knn': 0.10000000000000009, 'quality': -0.6, 'volume': 1.0}. Best is trial 253 with value: 5.848950915942575.\u001b[0m\n"
     ]
    },
    {
     "name": "stdout",
     "output_type": "stream",
     "text": [
      "time 2.656 cat_cov 96.0 cov 100.0 nov 0.99 ser 0.211 m1 0.912 m10 0.844 price 2.65 sum 5.8\n"
     ]
    },
    {
     "name": "stderr",
     "output_type": "stream",
     "text": [
      "\u001b[32m[I 2023-05-12 13:36:34,073]\u001b[0m Trial 255 finished with value: 5.794866738854062 and parameters: {'svd': 0.7000000000000002, 'lfm_cos': 0.0, 'nn_bias': 0.10000000000000009, 'catboost': -1.0, 'knn': -0.09999999999999998, 'quality': -0.8, 'volume': 1.0}. Best is trial 253 with value: 5.848950915942575.\u001b[0m\n"
     ]
    },
    {
     "name": "stdout",
     "output_type": "stream",
     "text": [
      "time 2.67 cat_cov 96.0 cov 100.0 nov 0.919 ser 0.216 m1 0.924 m10 0.853 price 2.768 sum 5.795\n"
     ]
    },
    {
     "name": "stderr",
     "output_type": "stream",
     "text": [
      "\u001b[32m[I 2023-05-12 13:36:36,786]\u001b[0m Trial 256 finished with value: 5.8155673290505545 and parameters: {'svd': 0.8, 'lfm_cos': -0.09999999999999998, 'nn_bias': 0.10000000000000009, 'catboost': -0.9, 'knn': 0.0, 'quality': -0.7, 'volume': 1.0}. Best is trial 253 with value: 5.848950915942575.\u001b[0m\n"
     ]
    },
    {
     "name": "stdout",
     "output_type": "stream",
     "text": [
      "time 2.687 cat_cov 97.0 cov 100.0 nov 0.967 ser 0.212 m1 0.923 m10 0.849 price 2.684 sum 5.816\n"
     ]
    },
    {
     "name": "stderr",
     "output_type": "stream",
     "text": [
      "\u001b[32m[I 2023-05-12 13:36:39,462]\u001b[0m Trial 257 finished with value: 5.82399891425035 and parameters: {'svd': 0.9000000000000001, 'lfm_cos': 0.0, 'nn_bias': 0.10000000000000009, 'catboost': -1.0, 'knn': -0.09999999999999998, 'quality': -0.6, 'volume': 0.9000000000000001}. Best is trial 253 with value: 5.848950915942575.\u001b[0m\n"
     ]
    },
    {
     "name": "stdout",
     "output_type": "stream",
     "text": [
      "time 2.649 cat_cov 99.0 cov 100.0 nov 0.917 ser 0.215 m1 0.928 m10 0.855 price 2.758 sum 5.824\n"
     ]
    },
    {
     "name": "stderr",
     "output_type": "stream",
     "text": [
      "\u001b[32m[I 2023-05-12 13:36:42,140]\u001b[0m Trial 258 finished with value: 5.82399891425035 and parameters: {'svd': 0.9000000000000001, 'lfm_cos': 0.0, 'nn_bias': 0.10000000000000009, 'catboost': -1.0, 'knn': -0.09999999999999998, 'quality': -0.6, 'volume': 0.9000000000000001}. Best is trial 253 with value: 5.848950915942575.\u001b[0m\n"
     ]
    },
    {
     "name": "stdout",
     "output_type": "stream",
     "text": [
      "time 2.652 cat_cov 99.0 cov 100.0 nov 0.917 ser 0.215 m1 0.928 m10 0.855 price 2.758 sum 5.824\n"
     ]
    },
    {
     "name": "stderr",
     "output_type": "stream",
     "text": [
      "\u001b[32m[I 2023-05-12 13:36:44,861]\u001b[0m Trial 259 finished with value: 5.80546217459097 and parameters: {'svd': 1.0, 'lfm_cos': 0.0, 'nn_bias': 0.10000000000000009, 'catboost': -1.0, 'knn': -0.09999999999999998, 'quality': -0.6, 'volume': 0.9000000000000001}. Best is trial 253 with value: 5.848950915942575.\u001b[0m\n"
     ]
    },
    {
     "name": "stdout",
     "output_type": "stream",
     "text": [
      "time 2.695 cat_cov 98.0 cov 100.0 nov 0.91 ser 0.214 m1 0.931 m10 0.855 price 2.749 sum 5.805\n"
     ]
    },
    {
     "name": "stderr",
     "output_type": "stream",
     "text": [
      "\u001b[32m[I 2023-05-12 13:36:47,562]\u001b[0m Trial 260 finished with value: 5.822888969172244 and parameters: {'svd': 0.9000000000000001, 'lfm_cos': 0.0, 'nn_bias': 0.10000000000000009, 'catboost': -1.0, 'knn': -0.09999999999999998, 'quality': -0.5, 'volume': 0.9000000000000001}. Best is trial 253 with value: 5.848950915942575.\u001b[0m\n"
     ]
    },
    {
     "name": "stdout",
     "output_type": "stream",
     "text": [
      "time 2.674 cat_cov 98.0 cov 100.0 nov 0.919 ser 0.215 m1 0.928 m10 0.855 price 2.776 sum 5.823\n"
     ]
    },
    {
     "name": "stderr",
     "output_type": "stream",
     "text": [
      "\u001b[32m[I 2023-05-12 13:36:50,195]\u001b[0m Trial 261 finished with value: 3.931107885755025 and parameters: {'svd': -0.5, 'lfm_cos': 0.0, 'nn_bias': 0.10000000000000009, 'catboost': 0.6000000000000001, 'knn': -0.09999999999999998, 'quality': -0.5, 'volume': 0.9000000000000001}. Best is trial 253 with value: 5.848950915942575.\u001b[0m\n"
     ]
    },
    {
     "name": "stdout",
     "output_type": "stream",
     "text": [
      "time 2.607 cat_cov 71.0 cov 100.0 nov 0.628 ser 0.081 m1 0.252 m10 0.403 price 2.573 sum 3.931\n"
     ]
    },
    {
     "name": "stderr",
     "output_type": "stream",
     "text": [
      "\u001b[32m[I 2023-05-12 13:36:53,569]\u001b[0m Trial 262 finished with value: 5.832888969172243 and parameters: {'svd': 0.9000000000000001, 'lfm_cos': 0.0, 'nn_bias': 0.10000000000000009, 'catboost': -1.0, 'knn': -0.09999999999999998, 'quality': -0.5, 'volume': 0.9000000000000001}. Best is trial 253 with value: 5.848950915942575.\u001b[0m\n"
     ]
    },
    {
     "name": "stdout",
     "output_type": "stream",
     "text": [
      "time 3.348 cat_cov 99.0 cov 100.0 nov 0.919 ser 0.215 m1 0.928 m10 0.855 price 2.776 sum 5.833\n"
     ]
    },
    {
     "name": "stderr",
     "output_type": "stream",
     "text": [
      "\u001b[32m[I 2023-05-12 13:36:56,177]\u001b[0m Trial 263 finished with value: 4.1613805167685625 and parameters: {'svd': -0.19999999999999996, 'lfm_cos': 0.0, 'nn_bias': 0.10000000000000009, 'catboost': -1.0, 'knn': -0.09999999999999998, 'quality': -0.5, 'volume': 0.9000000000000001}. Best is trial 253 with value: 5.848950915942575.\u001b[0m\n"
     ]
    },
    {
     "name": "stdout",
     "output_type": "stream",
     "text": [
      "time 2.582 cat_cov 89.0 cov 100.0 nov 0.935 ser 0.156 m1 0.083 m10 0.212 price 2.657 sum 4.161\n"
     ]
    },
    {
     "name": "stderr",
     "output_type": "stream",
     "text": [
      "\u001b[32m[I 2023-05-12 13:36:58,871]\u001b[0m Trial 264 finished with value: 5.812888969172244 and parameters: {'svd': 0.9000000000000001, 'lfm_cos': 0.0, 'nn_bias': 0.10000000000000009, 'catboost': -1.0, 'knn': -0.09999999999999998, 'quality': -0.5, 'volume': 0.9000000000000001}. Best is trial 253 with value: 5.848950915942575.\u001b[0m\n"
     ]
    },
    {
     "name": "stdout",
     "output_type": "stream",
     "text": [
      "time 2.667 cat_cov 97.0 cov 100.0 nov 0.919 ser 0.215 m1 0.928 m10 0.855 price 2.776 sum 5.813\n"
     ]
    },
    {
     "name": "stderr",
     "output_type": "stream",
     "text": [
      "\u001b[32m[I 2023-05-12 13:37:01,605]\u001b[0m Trial 265 finished with value: 5.818910481763652 and parameters: {'svd': 1.0, 'lfm_cos': 0.0, 'nn_bias': 0.10000000000000009, 'catboost': -1.0, 'knn': -0.19999999999999996, 'quality': -0.5, 'volume': 0.9000000000000001}. Best is trial 253 with value: 5.848950915942575.\u001b[0m\n"
     ]
    },
    {
     "name": "stdout",
     "output_type": "stream",
     "text": [
      "time 2.707 cat_cov 98.0 cov 100.0 nov 0.911 ser 0.215 m1 0.929 m10 0.855 price 2.785 sum 5.819\n"
     ]
    },
    {
     "name": "stderr",
     "output_type": "stream",
     "text": [
      "\u001b[32m[I 2023-05-12 13:37:04,285]\u001b[0m Trial 266 finished with value: 5.822888969172244 and parameters: {'svd': 0.9000000000000001, 'lfm_cos': 0.0, 'nn_bias': 0.10000000000000009, 'catboost': -1.0, 'knn': -0.09999999999999998, 'quality': -0.5, 'volume': 0.9000000000000001}. Best is trial 253 with value: 5.848950915942575.\u001b[0m\n"
     ]
    },
    {
     "name": "stdout",
     "output_type": "stream",
     "text": [
      "time 2.654 cat_cov 98.0 cov 100.0 nov 0.919 ser 0.215 m1 0.928 m10 0.855 price 2.776 sum 5.823\n"
     ]
    },
    {
     "name": "stderr",
     "output_type": "stream",
     "text": [
      "\u001b[32m[I 2023-05-12 13:37:06,984]\u001b[0m Trial 267 finished with value: 5.654006398236038 and parameters: {'svd': 0.9000000000000001, 'lfm_cos': 0.0, 'nn_bias': 0.10000000000000009, 'catboost': 0.10000000000000009, 'knn': -0.09999999999999998, 'quality': -0.3999999999999999, 'volume': 0.9000000000000001}. Best is trial 253 with value: 5.848950915942575.\u001b[0m\n"
     ]
    },
    {
     "name": "stdout",
     "output_type": "stream",
     "text": [
      "time 2.673 cat_cov 94.0 cov 100.0 nov 0.749 ser 0.194 m1 0.959 m10 0.888 price 2.775 sum 5.654\n"
     ]
    },
    {
     "name": "stderr",
     "output_type": "stream",
     "text": [
      "\u001b[32m[I 2023-05-12 13:37:09,677]\u001b[0m Trial 268 finished with value: 5.796754647839615 and parameters: {'svd': 0.9000000000000001, 'lfm_cos': 0.0, 'nn_bias': 0.10000000000000009, 'catboost': -0.9, 'knn': -0.09999999999999998, 'quality': -0.6, 'volume': 0.9000000000000001}. Best is trial 253 with value: 5.848950915942575.\u001b[0m\n"
     ]
    },
    {
     "name": "stdout",
     "output_type": "stream",
     "text": [
      "time 2.666 cat_cov 97.0 cov 100.0 nov 0.911 ser 0.214 m1 0.93 m10 0.855 price 2.752 sum 5.797\n"
     ]
    },
    {
     "name": "stderr",
     "output_type": "stream",
     "text": [
      "\u001b[32m[I 2023-05-12 13:37:12,347]\u001b[0m Trial 269 finished with value: 5.734738920025593 and parameters: {'svd': 1.0, 'lfm_cos': 0.0, 'nn_bias': 0.0, 'catboost': -1.0, 'knn': -0.09999999999999998, 'quality': -0.6, 'volume': 0.9000000000000001}. Best is trial 253 with value: 5.848950915942575.\u001b[0m\n"
     ]
    },
    {
     "name": "stdout",
     "output_type": "stream",
     "text": [
      "time 2.643 cat_cov 98.0 cov 100.0 nov 0.772 ser 0.218 m1 0.931 m10 0.851 price 2.95 sum 5.735\n"
     ]
    },
    {
     "name": "stderr",
     "output_type": "stream",
     "text": [
      "\u001b[32m[I 2023-05-12 13:37:15,019]\u001b[0m Trial 270 finished with value: 5.671175164566958 and parameters: {'svd': 0.9000000000000001, 'lfm_cos': 0.0, 'nn_bias': 0.10000000000000009, 'catboost': 0.20000000000000018, 'knn': -0.19999999999999996, 'quality': -0.5, 'volume': 1.0}. Best is trial 253 with value: 5.848950915942575.\u001b[0m\n"
     ]
    },
    {
     "name": "stdout",
     "output_type": "stream",
     "text": [
      "time 2.645 cat_cov 98.0 cov 100.0 nov 0.727 ser 0.192 m1 0.956 m10 0.886 price 2.791 sum 5.671\n"
     ]
    },
    {
     "name": "stderr",
     "output_type": "stream",
     "text": [
      "\u001b[32m[I 2023-05-12 13:37:17,709]\u001b[0m Trial 271 finished with value: 5.822521327816429 and parameters: {'svd': 0.9000000000000001, 'lfm_cos': -0.09999999999999998, 'nn_bias': 0.10000000000000009, 'catboost': -1.0, 'knn': -0.09999999999999998, 'quality': -0.3999999999999999, 'volume': 1.0}. Best is trial 253 with value: 5.848950915942575.\u001b[0m\n"
     ]
    },
    {
     "name": "stdout",
     "output_type": "stream",
     "text": [
      "time 2.663 cat_cov 97.0 cov 100.0 nov 0.958 ser 0.213 m1 0.924 m10 0.85 price 2.724 sum 5.823\n"
     ]
    },
    {
     "name": "stderr",
     "output_type": "stream",
     "text": [
      "\u001b[32m[I 2023-05-12 13:37:20,392]\u001b[0m Trial 272 finished with value: 5.818765256630398 and parameters: {'svd': 1.0, 'lfm_cos': -0.19999999999999996, 'nn_bias': 0.10000000000000009, 'catboost': -0.9, 'knn': -0.19999999999999996, 'quality': -0.3999999999999999, 'volume': 0.9000000000000001}. Best is trial 253 with value: 5.848950915942575.\u001b[0m\n"
     ]
    },
    {
     "name": "stdout",
     "output_type": "stream",
     "text": [
      "time 2.657 cat_cov 99.0 cov 100.0 nov 0.956 ser 0.211 m1 0.918 m10 0.844 price 2.699 sum 5.819\n"
     ]
    },
    {
     "name": "stderr",
     "output_type": "stream",
     "text": [
      "\u001b[32m[I 2023-05-12 13:37:23,120]\u001b[0m Trial 273 finished with value: 5.4128999446298565 and parameters: {'svd': 0.9000000000000001, 'lfm_cos': -0.09999999999999998, 'nn_bias': 0.0, 'catboost': -1.0, 'knn': 0.9000000000000001, 'quality': -0.3999999999999999, 'volume': -0.7}. Best is trial 253 with value: 5.848950915942575.\u001b[0m\n"
     ]
    },
    {
     "name": "stdout",
     "output_type": "stream",
     "text": [
      "time 2.701 cat_cov 99.0 cov 100.0 nov 0.895 ser 0.191 m1 0.722 m10 0.776 price 2.517 sum 5.413\n"
     ]
    },
    {
     "name": "stderr",
     "output_type": "stream",
     "text": [
      "\u001b[32m[I 2023-05-12 13:37:25,827]\u001b[0m Trial 274 finished with value: 5.793514011878342 and parameters: {'svd': 0.9000000000000001, 'lfm_cos': -0.09999999999999998, 'nn_bias': 0.10000000000000009, 'catboost': -0.9, 'knn': -0.09999999999999998, 'quality': -0.29999999999999993, 'volume': 0.9000000000000001}. Best is trial 253 with value: 5.848950915942575.\u001b[0m\n"
     ]
    },
    {
     "name": "stdout",
     "output_type": "stream",
     "text": [
      "time 2.679 cat_cov 95.0 cov 100.0 nov 0.95 ser 0.212 m1 0.925 m10 0.85 price 2.719 sum 5.794\n"
     ]
    },
    {
     "name": "stderr",
     "output_type": "stream",
     "text": [
      "\u001b[32m[I 2023-05-12 13:37:28,435]\u001b[0m Trial 275 finished with value: 4.144354436160635 and parameters: {'svd': -1.0, 'lfm_cos': -0.19999999999999996, 'nn_bias': 0.0, 'catboost': -0.9, 'knn': 0.0, 'quality': -0.5, 'volume': 1.0}. Best is trial 253 with value: 5.848950915942575.\u001b[0m\n"
     ]
    },
    {
     "name": "stdout",
     "output_type": "stream",
     "text": [
      "time 2.581 cat_cov 85.0 cov 100.0 nov 1.004 ser 0.141 m1 0.106 m10 0.216 price 2.482 sum 4.144\n"
     ]
    },
    {
     "name": "stderr",
     "output_type": "stream",
     "text": [
      "\u001b[32m[I 2023-05-12 13:37:31,136]\u001b[0m Trial 276 finished with value: 5.707806288025728 and parameters: {'svd': 1.0, 'lfm_cos': -0.09999999999999998, 'nn_bias': -0.7, 'catboost': -1.0, 'knn': -0.19999999999999996, 'quality': -0.5, 'volume': 1.0}. Best is trial 253 with value: 5.848950915942575.\u001b[0m\n"
     ]
    },
    {
     "name": "stdout",
     "output_type": "stream",
     "text": [
      "time 2.674 cat_cov 98.0 cov 100.0 nov 0.789 ser 0.221 m1 0.912 m10 0.831 price 2.927 sum 5.708\n"
     ]
    },
    {
     "name": "stderr",
     "output_type": "stream",
     "text": [
      "\u001b[32m[I 2023-05-12 13:37:33,853]\u001b[0m Trial 277 finished with value: 5.811451337831761 and parameters: {'svd': 0.9000000000000001, 'lfm_cos': -0.09999999999999998, 'nn_bias': 0.10000000000000009, 'catboost': -1.0, 'knn': -0.09999999999999998, 'quality': -0.3999999999999999, 'volume': 0.9000000000000001}. Best is trial 253 with value: 5.848950915942575.\u001b[0m\n"
     ]
    },
    {
     "name": "stdout",
     "output_type": "stream",
     "text": [
      "time 2.69 cat_cov 96.0 cov 100.0 nov 0.961 ser 0.213 m1 0.923 m10 0.85 price 2.714 sum 5.811\n"
     ]
    },
    {
     "name": "stderr",
     "output_type": "stream",
     "text": [
      "\u001b[32m[I 2023-05-12 13:37:36,534]\u001b[0m Trial 278 finished with value: 5.328604818093752 and parameters: {'svd': 0.9000000000000001, 'lfm_cos': 0.9000000000000001, 'nn_bias': 0.10000000000000009, 'catboost': -0.9, 'knn': -0.09999999999999998, 'quality': -0.6, 'volume': 1.0}. Best is trial 253 with value: 5.848950915942575.\u001b[0m\n"
     ]
    },
    {
     "name": "stdout",
     "output_type": "stream",
     "text": [
      "time 2.652 cat_cov 99.0 cov 100.0 nov 0.678 ser 0.22 m1 0.75 m10 0.703 price 2.962 sum 5.329\n"
     ]
    },
    {
     "name": "stderr",
     "output_type": "stream",
     "text": [
      "\u001b[32m[I 2023-05-12 13:37:39,209]\u001b[0m Trial 279 finished with value: 4.669849165534231 and parameters: {'svd': 0.0, 'lfm_cos': 0.0, 'nn_bias': 0.0, 'catboost': -0.8, 'knn': -0.09999999999999998, 'quality': -0.3999999999999999, 'volume': 0.9000000000000001}. Best is trial 253 with value: 5.848950915942575.\u001b[0m\n"
     ]
    },
    {
     "name": "stdout",
     "output_type": "stream",
     "text": [
      "time 2.647 cat_cov 90.0 cov 98.0 nov 0.703 ser 0.2 m1 0.309 m10 0.478 price 3.299 sum 4.67\n"
     ]
    },
    {
     "name": "stderr",
     "output_type": "stream",
     "text": [
      "\u001b[32m[I 2023-05-12 13:37:41,897]\u001b[0m Trial 280 finished with value: 5.851772395811654 and parameters: {'svd': 0.7000000000000002, 'lfm_cos': 0.0, 'nn_bias': 0.10000000000000009, 'catboost': -1.0, 'knn': 0.0, 'quality': -0.29999999999999993, 'volume': 0.9000000000000001}. Best is trial 280 with value: 5.851772395811654.\u001b[0m\n"
     ]
    },
    {
     "name": "stdout",
     "output_type": "stream",
     "text": [
      "time 2.661 cat_cov 98.0 cov 100.0 nov 0.945 ser 0.216 m1 0.924 m10 0.852 price 2.804 sum 5.852\n"
     ]
    },
    {
     "name": "stderr",
     "output_type": "stream",
     "text": [
      "\u001b[32m[I 2023-05-12 13:37:44,587]\u001b[0m Trial 281 finished with value: 5.824526378217202 and parameters: {'svd': 0.7000000000000002, 'lfm_cos': -0.09999999999999998, 'nn_bias': 0.10000000000000009, 'catboost': -1.0, 'knn': 0.0, 'quality': -0.29999999999999993, 'volume': 0.9000000000000001}. Best is trial 280 with value: 5.851772395811654.\u001b[0m\n"
     ]
    },
    {
     "name": "stdout",
     "output_type": "stream",
     "text": [
      "time 2.662 cat_cov 96.0 cov 100.0 nov 0.992 ser 0.213 m1 0.917 m10 0.847 price 2.687 sum 5.825\n"
     ]
    },
    {
     "name": "stderr",
     "output_type": "stream",
     "text": [
      "\u001b[32m[I 2023-05-12 13:37:47,251]\u001b[0m Trial 282 finished with value: 5.858544337336634 and parameters: {'svd': 0.7000000000000002, 'lfm_cos': 0.0, 'nn_bias': 0.10000000000000009, 'catboost': -1.0, 'knn': 0.0, 'quality': -0.19999999999999996, 'volume': 0.9000000000000001}. Best is trial 282 with value: 5.858544337336634.\u001b[0m\n"
     ]
    },
    {
     "name": "stdout",
     "output_type": "stream",
     "text": [
      "time 2.636 cat_cov 98.0 cov 100.0 nov 0.945 ser 0.217 m1 0.924 m10 0.851 price 2.824 sum 5.859\n"
     ]
    },
    {
     "name": "stderr",
     "output_type": "stream",
     "text": [
      "\u001b[32m[I 2023-05-12 13:37:49,942]\u001b[0m Trial 283 finished with value: 5.831205707491612 and parameters: {'svd': 0.7000000000000002, 'lfm_cos': -0.09999999999999998, 'nn_bias': 0.0, 'catboost': -1.0, 'knn': 0.0, 'quality': -0.29999999999999993, 'volume': 0.9000000000000001}. Best is trial 282 with value: 5.858544337336634.\u001b[0m\n"
     ]
    },
    {
     "name": "stdout",
     "output_type": "stream",
     "text": [
      "time 2.664 cat_cov 97.0 cov 100.0 nov 0.934 ser 0.215 m1 0.921 m10 0.849 price 2.829 sum 5.831\n"
     ]
    },
    {
     "name": "stderr",
     "output_type": "stream",
     "text": [
      "\u001b[32m[I 2023-05-12 13:37:52,624]\u001b[0m Trial 284 finished with value: 5.761895216088996 and parameters: {'svd': 0.7000000000000002, 'lfm_cos': 0.10000000000000009, 'nn_bias': 0.0, 'catboost': -1.0, 'knn': 0.0, 'quality': -0.29999999999999993, 'volume': 0.9000000000000001}. Best is trial 282 with value: 5.858544337336634.\u001b[0m\n"
     ]
    },
    {
     "name": "stdout",
     "output_type": "stream",
     "text": [
      "time 2.655 cat_cov 100.0 cov 100.0 nov 0.768 ser 0.226 m1 0.929 m10 0.846 price 2.977 sum 5.762\n"
     ]
    },
    {
     "name": "stderr",
     "output_type": "stream",
     "text": [
      "\u001b[32m[I 2023-05-12 13:37:55,300]\u001b[0m Trial 285 finished with value: 5.7798225657136015 and parameters: {'svd': 0.7000000000000002, 'lfm_cos': -0.19999999999999996, 'nn_bias': 0.0, 'catboost': -1.0, 'knn': 0.20000000000000018, 'quality': -0.19999999999999996, 'volume': 0.9000000000000001}. Best is trial 282 with value: 5.858544337336634.\u001b[0m\n"
     ]
    },
    {
     "name": "stdout",
     "output_type": "stream",
     "text": [
      "time 2.65 cat_cov 97.0 cov 100.0 nov 0.985 ser 0.209 m1 0.897 m10 0.831 price 2.663 sum 5.78\n"
     ]
    },
    {
     "name": "stderr",
     "output_type": "stream",
     "text": [
      "\u001b[32m[I 2023-05-12 13:37:57,981]\u001b[0m Trial 286 finished with value: 5.849498188011472 and parameters: {'svd': 0.7000000000000002, 'lfm_cos': 0.0, 'nn_bias': 0.10000000000000009, 'catboost': -1.0, 'knn': 0.10000000000000009, 'quality': -0.29999999999999993, 'volume': 0.9000000000000001}. Best is trial 282 with value: 5.858544337336634.\u001b[0m\n"
     ]
    },
    {
     "name": "stdout",
     "output_type": "stream",
     "text": [
      "time 2.653 cat_cov 99.0 cov 100.0 nov 0.962 ser 0.214 m1 0.918 m10 0.849 price 2.749 sum 5.849\n"
     ]
    },
    {
     "name": "stderr",
     "output_type": "stream",
     "text": [
      "\u001b[32m[I 2023-05-12 13:38:00,644]\u001b[0m Trial 287 finished with value: 5.750631113559619 and parameters: {'svd': 0.7000000000000002, 'lfm_cos': 0.10000000000000009, 'nn_bias': 0.0, 'catboost': -1.0, 'knn': 0.20000000000000018, 'quality': -0.29999999999999993, 'volume': 0.9000000000000001}. Best is trial 282 with value: 5.858544337336634.\u001b[0m\n"
     ]
    },
    {
     "name": "stdout",
     "output_type": "stream",
     "text": [
      "time 2.636 cat_cov 99.0 cov 100.0 nov 0.815 ser 0.221 m1 0.921 m10 0.845 price 2.875 sum 5.751\n"
     ]
    },
    {
     "name": "stderr",
     "output_type": "stream",
     "text": [
      "\u001b[32m[I 2023-05-12 13:38:03,326]\u001b[0m Trial 288 finished with value: 5.833555089567096 and parameters: {'svd': 0.6000000000000001, 'lfm_cos': 0.0, 'nn_bias': 0.0, 'catboost': -1.0, 'knn': 0.10000000000000009, 'quality': -0.19999999999999996, 'volume': 0.9000000000000001}. Best is trial 282 with value: 5.858544337336634.\u001b[0m\n"
     ]
    },
    {
     "name": "stdout",
     "output_type": "stream",
     "text": [
      "time 2.654 cat_cov 98.0 cov 100.0 nov 0.85 ser 0.221 m1 0.922 m10 0.846 price 3.046 sum 5.834\n"
     ]
    },
    {
     "name": "stderr",
     "output_type": "stream",
     "text": [
      "\u001b[32m[I 2023-05-12 13:38:06,003]\u001b[0m Trial 289 finished with value: 5.826576981274545 and parameters: {'svd': 0.6000000000000001, 'lfm_cos': 0.0, 'nn_bias': 0.0, 'catboost': -1.0, 'knn': 0.10000000000000009, 'quality': -0.29999999999999993, 'volume': 0.9000000000000001}. Best is trial 282 with value: 5.858544337336634.\u001b[0m\n"
     ]
    },
    {
     "name": "stdout",
     "output_type": "stream",
     "text": [
      "time 2.649 cat_cov 99.0 cov 100.0 nov 0.846 ser 0.22 m1 0.922 m10 0.846 price 3.009 sum 5.827\n"
     ]
    },
    {
     "name": "stderr",
     "output_type": "stream",
     "text": [
      "\u001b[32m[I 2023-05-12 13:38:08,667]\u001b[0m Trial 290 finished with value: 5.816576981274546 and parameters: {'svd': 0.6000000000000001, 'lfm_cos': 0.0, 'nn_bias': 0.0, 'catboost': -1.0, 'knn': 0.10000000000000009, 'quality': -0.29999999999999993, 'volume': 0.9000000000000001}. Best is trial 282 with value: 5.858544337336634.\u001b[0m\n"
     ]
    },
    {
     "name": "stdout",
     "output_type": "stream",
     "text": [
      "time 2.637 cat_cov 98.0 cov 100.0 nov 0.846 ser 0.22 m1 0.922 m10 0.846 price 3.009 sum 5.817\n"
     ]
    },
    {
     "name": "stderr",
     "output_type": "stream",
     "text": [
      "\u001b[32m[I 2023-05-12 13:38:11,327]\u001b[0m Trial 291 finished with value: 5.750801120931893 and parameters: {'svd': 0.6000000000000001, 'lfm_cos': 0.10000000000000009, 'nn_bias': -0.09999999999999998, 'catboost': -1.0, 'knn': 0.10000000000000009, 'quality': -0.19999999999999996, 'volume': 0.9000000000000001}. Best is trial 282 with value: 5.858544337336634.\u001b[0m\n"
     ]
    },
    {
     "name": "stdout",
     "output_type": "stream",
     "text": [
      "time 2.63 cat_cov 99.0 cov 100.0 nov 0.78 ser 0.226 m1 0.926 m10 0.845 price 2.952 sum 5.751\n"
     ]
    },
    {
     "name": "stderr",
     "output_type": "stream",
     "text": [
      "\u001b[32m[I 2023-05-12 13:38:14,023]\u001b[0m Trial 292 finished with value: 5.787350925728264 and parameters: {'svd': 0.7000000000000002, 'lfm_cos': 0.0, 'nn_bias': 0.0, 'catboost': -1.0, 'knn': 0.20000000000000018, 'quality': -0.29999999999999993, 'volume': 0.9000000000000001}. Best is trial 282 with value: 5.858544337336634.\u001b[0m\n"
     ]
    },
    {
     "name": "stdout",
     "output_type": "stream",
     "text": [
      "time 2.669 cat_cov 97.0 cov 100.0 nov 0.878 ser 0.216 m1 0.917 m10 0.843 price 2.892 sum 5.787\n"
     ]
    },
    {
     "name": "stderr",
     "output_type": "stream",
     "text": [
      "\u001b[32m[I 2023-05-12 13:38:16,696]\u001b[0m Trial 293 finished with value: 5.767836179432348 and parameters: {'svd': 0.6000000000000001, 'lfm_cos': 0.0, 'nn_bias': -0.09999999999999998, 'catboost': -1.0, 'knn': 0.10000000000000009, 'quality': -0.19999999999999996, 'volume': 0.9000000000000001}. Best is trial 282 with value: 5.858544337336634.\u001b[0m\n"
     ]
    },
    {
     "name": "stdout",
     "output_type": "stream",
     "text": [
      "time 2.645 cat_cov 94.0 cov 100.0 nov 0.836 ser 0.224 m1 0.922 m10 0.845 price 3.001 sum 5.768\n"
     ]
    },
    {
     "name": "stderr",
     "output_type": "stream",
     "text": [
      "\u001b[32m[I 2023-05-12 13:38:19,382]\u001b[0m Trial 294 finished with value: 5.822823251311814 and parameters: {'svd': 0.7000000000000002, 'lfm_cos': -0.09999999999999998, 'nn_bias': 0.0, 'catboost': -1.0, 'knn': 0.10000000000000009, 'quality': -0.19999999999999996, 'volume': 0.9000000000000001}. Best is trial 282 with value: 5.858544337336634.\u001b[0m\n"
     ]
    },
    {
     "name": "stdout",
     "output_type": "stream",
     "text": [
      "time 2.656 cat_cov 97.0 cov 100.0 nov 0.957 ser 0.213 m1 0.919 m10 0.846 price 2.754 sum 5.823\n"
     ]
    },
    {
     "name": "stderr",
     "output_type": "stream",
     "text": [
      "\u001b[32m[I 2023-05-12 13:38:22,027]\u001b[0m Trial 295 finished with value: 5.7536364382519345 and parameters: {'svd': 0.5, 'lfm_cos': 0.10000000000000009, 'nn_bias': 0.0, 'catboost': -1.0, 'knn': 0.10000000000000009, 'quality': -0.29999999999999993, 'volume': 0.9000000000000001}. Best is trial 282 with value: 5.858544337336634.\u001b[0m\n"
     ]
    },
    {
     "name": "stdout",
     "output_type": "stream",
     "text": [
      "time 2.618 cat_cov 99.0 cov 100.0 nov 0.788 ser 0.226 m1 0.923 m10 0.843 price 2.951 sum 5.754\n"
     ]
    },
    {
     "name": "stderr",
     "output_type": "stream",
     "text": [
      "\u001b[32m[I 2023-05-12 13:38:24,708]\u001b[0m Trial 296 finished with value: 5.81197119134007 and parameters: {'svd': 0.7000000000000002, 'lfm_cos': 0.0, 'nn_bias': 0.10000000000000009, 'catboost': -1.0, 'knn': 0.10000000000000009, 'quality': -0.29999999999999993, 'volume': -0.5}. Best is trial 282 with value: 5.858544337336634.\u001b[0m\n"
     ]
    },
    {
     "name": "stdout",
     "output_type": "stream",
     "text": [
      "time 2.654 cat_cov 99.0 cov 100.0 nov 1.02 ser 0.211 m1 0.913 m10 0.848 price 2.487 sum 5.812\n"
     ]
    },
    {
     "name": "stderr",
     "output_type": "stream",
     "text": [
      "\u001b[32m[I 2023-05-12 13:38:27,374]\u001b[0m Trial 297 finished with value: 5.824446339926174 and parameters: {'svd': 0.7000000000000002, 'lfm_cos': 0.0, 'nn_bias': 0.0, 'catboost': -1.0, 'knn': 0.0, 'quality': -0.19999999999999996, 'volume': 0.9000000000000001}. Best is trial 282 with value: 5.858544337336634.\u001b[0m\n"
     ]
    },
    {
     "name": "stdout",
     "output_type": "stream",
     "text": [
      "time 2.638 cat_cov 99.0 cov 100.0 nov 0.782 ser 0.223 m1 0.926 m10 0.846 price 3.171 sum 5.824\n"
     ]
    },
    {
     "name": "stderr",
     "output_type": "stream",
     "text": [
      "\u001b[32m[I 2023-05-12 13:38:30,041]\u001b[0m Trial 298 finished with value: 5.779540752639212 and parameters: {'svd': 0.6000000000000001, 'lfm_cos': -0.09999999999999998, 'nn_bias': -0.09999999999999998, 'catboost': -0.9, 'knn': 0.0, 'quality': -0.19999999999999996, 'volume': 0.9000000000000001}. Best is trial 282 with value: 5.858544337336634.\u001b[0m\n"
     ]
    },
    {
     "name": "stdout",
     "output_type": "stream",
     "text": [
      "time 2.64 cat_cov 96.0 cov 100.0 nov 0.889 ser 0.217 m1 0.918 m10 0.842 price 2.86 sum 5.78\n"
     ]
    },
    {
     "name": "stderr",
     "output_type": "stream",
     "text": [
      "\u001b[32m[I 2023-05-12 13:38:32,692]\u001b[0m Trial 299 finished with value: 5.7864718019227235 and parameters: {'svd': 0.7000000000000002, 'lfm_cos': 0.0, 'nn_bias': 0.0, 'catboost': -1.0, 'knn': 0.0, 'quality': -0.29999999999999993, 'volume': 0.9000000000000001}. Best is trial 282 with value: 5.858544337336634.\u001b[0m\n"
     ]
    },
    {
     "name": "stdout",
     "output_type": "stream",
     "text": [
      "time 2.623 cat_cov 97.0 cov 100.0 nov 0.781 ser 0.222 m1 0.926 m10 0.847 price 3.124 sum 5.786\n"
     ]
    },
    {
     "name": "stderr",
     "output_type": "stream",
     "text": [
      "\u001b[32m[I 2023-05-12 13:38:35,358]\u001b[0m Trial 300 finished with value: 5.743915746607128 and parameters: {'svd': 0.7000000000000002, 'lfm_cos': 0.10000000000000009, 'nn_bias': -0.19999999999999996, 'catboost': -1.0, 'knn': 0.10000000000000009, 'quality': -0.19999999999999996, 'volume': 0.8}. Best is trial 282 with value: 5.858544337336634.\u001b[0m\n"
     ]
    },
    {
     "name": "stdout",
     "output_type": "stream",
     "text": [
      "time 2.638 cat_cov 99.0 cov 100.0 nov 0.778 ser 0.225 m1 0.926 m10 0.845 price 2.939 sum 5.744\n"
     ]
    },
    {
     "name": "stderr",
     "output_type": "stream",
     "text": [
      "\u001b[32m[I 2023-05-12 13:38:38,042]\u001b[0m Trial 301 finished with value: 5.749546172127563 and parameters: {'svd': 0.7000000000000002, 'lfm_cos': -0.09999999999999998, 'nn_bias': -0.09999999999999998, 'catboost': -0.9, 'knn': 0.0, 'quality': -0.09999999999999998, 'volume': 0.9000000000000001}. Best is trial 282 with value: 5.858544337336634.\u001b[0m\n"
     ]
    },
    {
     "name": "stdout",
     "output_type": "stream",
     "text": [
      "time 2.655 cat_cov 93.0 cov 100.0 nov 0.884 ser 0.217 m1 0.921 m10 0.843 price 2.864 sum 5.75\n"
     ]
    },
    {
     "name": "stderr",
     "output_type": "stream",
     "text": [
      "\u001b[32m[I 2023-05-12 13:38:40,692]\u001b[0m Trial 302 finished with value: 5.7882311070439085 and parameters: {'svd': 0.6000000000000001, 'lfm_cos': 0.0, 'nn_bias': 0.0, 'catboost': -1.0, 'knn': 0.0, 'quality': -0.19999999999999996, 'volume': 0.9000000000000001}. Best is trial 282 with value: 5.858544337336634.\u001b[0m\n"
     ]
    },
    {
     "name": "stdout",
     "output_type": "stream",
     "text": [
      "time 2.623 cat_cov 95.0 cov 100.0 nov 0.786 ser 0.224 m1 0.924 m10 0.846 price 3.177 sum 5.788\n"
     ]
    },
    {
     "name": "stderr",
     "output_type": "stream",
     "text": [
      "\u001b[32m[I 2023-05-12 13:38:43,384]\u001b[0m Trial 303 finished with value: 5.75470508422994 and parameters: {'svd': 0.7000000000000002, 'lfm_cos': 0.10000000000000009, 'nn_bias': 0.0, 'catboost': -1.0, 'knn': 0.0, 'quality': -0.29999999999999993, 'volume': 1.0}. Best is trial 282 with value: 5.858544337336634.\u001b[0m\n"
     ]
    },
    {
     "name": "stdout",
     "output_type": "stream",
     "text": [
      "time 2.664 cat_cov 99.0 cov 100.0 nov 0.767 ser 0.226 m1 0.929 m10 0.847 price 2.986 sum 5.755\n"
     ]
    },
    {
     "name": "stderr",
     "output_type": "stream",
     "text": [
      "\u001b[32m[I 2023-05-12 13:38:46,084]\u001b[0m Trial 304 finished with value: 5.801863679379357 and parameters: {'svd': 0.7000000000000002, 'lfm_cos': -0.09999999999999998, 'nn_bias': 0.10000000000000009, 'catboost': -1.0, 'knn': 0.20000000000000018, 'quality': -0.29999999999999993, 'volume': 0.8}. Best is trial 282 with value: 5.858544337336634.\u001b[0m\n"
     ]
    },
    {
     "name": "stdout",
     "output_type": "stream",
     "text": [
      "time 2.672 cat_cov 98.0 cov 100.0 nov 1.005 ser 0.209 m1 0.9 m10 0.838 price 2.609 sum 5.802\n"
     ]
    },
    {
     "name": "stderr",
     "output_type": "stream",
     "text": [
      "\u001b[32m[I 2023-05-12 13:38:48,800]\u001b[0m Trial 305 finished with value: 5.752924610625592 and parameters: {'svd': 0.7000000000000002, 'lfm_cos': 0.0, 'nn_bias': 0.10000000000000009, 'catboost': -0.9, 'knn': 0.30000000000000004, 'quality': -0.19999999999999996, 'volume': 1.0}. Best is trial 282 with value: 5.858544337336634.\u001b[0m\n"
     ]
    },
    {
     "name": "stdout",
     "output_type": "stream",
     "text": [
      "time 2.687 cat_cov 98.0 cov 100.0 nov 0.948 ser 0.207 m1 0.894 m10 0.835 price 2.666 sum 5.753\n"
     ]
    },
    {
     "name": "stderr",
     "output_type": "stream",
     "text": [
      "\u001b[32m[I 2023-05-12 13:38:51,451]\u001b[0m Trial 306 finished with value: 5.825763139052266 and parameters: {'svd': 0.7000000000000002, 'lfm_cos': 0.0, 'nn_bias': 0.0, 'catboost': -0.9, 'knn': 0.0, 'quality': -0.09999999999999998, 'volume': 0.9000000000000001}. Best is trial 282 with value: 5.858544337336634.\u001b[0m\n"
     ]
    },
    {
     "name": "stdout",
     "output_type": "stream",
     "text": [
      "time 2.624 cat_cov 99.0 cov 100.0 nov 0.781 ser 0.222 m1 0.928 m10 0.846 price 3.179 sum 5.826\n"
     ]
    },
    {
     "name": "stderr",
     "output_type": "stream",
     "text": [
      "\u001b[32m[I 2023-05-12 13:38:54,788]\u001b[0m Trial 307 finished with value: 5.804511481791638 and parameters: {'svd': 0.6000000000000001, 'lfm_cos': -0.09999999999999998, 'nn_bias': -0.09999999999999998, 'catboost': -0.8, 'knn': 0.10000000000000009, 'quality': -0.09999999999999998, 'volume': 1.0}. Best is trial 282 with value: 5.858544337336634.\u001b[0m\n"
     ]
    },
    {
     "name": "stdout",
     "output_type": "stream",
     "text": [
      "time 3.308 cat_cov 99.0 cov 100.0 nov 0.904 ser 0.215 m1 0.918 m10 0.839 price 2.813 sum 5.805\n"
     ]
    },
    {
     "name": "stderr",
     "output_type": "stream",
     "text": [
      "\u001b[32m[I 2023-05-12 13:38:57,459]\u001b[0m Trial 308 finished with value: 5.727820804285621 and parameters: {'svd': 0.7000000000000002, 'lfm_cos': 0.10000000000000009, 'nn_bias': 0.0, 'catboost': -0.9, 'knn': 0.0, 'quality': -0.29999999999999993, 'volume': 0.10000000000000009}. Best is trial 282 with value: 5.858544337336634.\u001b[0m\n"
     ]
    },
    {
     "name": "stdout",
     "output_type": "stream",
     "text": [
      "time 2.643 cat_cov 99.0 cov 100.0 nov 0.776 ser 0.224 m1 0.93 m10 0.847 price 2.884 sum 5.728\n"
     ]
    },
    {
     "name": "stderr",
     "output_type": "stream",
     "text": [
      "\u001b[32m[I 2023-05-12 13:39:00,147]\u001b[0m Trial 309 finished with value: 5.669506859557506 and parameters: {'svd': 0.6000000000000001, 'lfm_cos': -0.19999999999999996, 'nn_bias': -0.9, 'catboost': -0.8, 'knn': 0.0, 'quality': -0.09999999999999998, 'volume': 0.9000000000000001}. Best is trial 282 with value: 5.858544337336634.\u001b[0m\n"
     ]
    },
    {
     "name": "stdout",
     "output_type": "stream",
     "text": [
      "time 2.66 cat_cov 97.0 cov 100.0 nov 0.846 ser 0.213 m1 0.889 m10 0.805 price 2.842 sum 5.67\n"
     ]
    },
    {
     "name": "stderr",
     "output_type": "stream",
     "text": [
      "\u001b[32m[I 2023-05-12 13:39:02,851]\u001b[0m Trial 310 finished with value: 5.811951208002688 and parameters: {'svd': 0.7000000000000002, 'lfm_cos': 0.0, 'nn_bias': 0.0, 'catboost': -0.9, 'knn': 0.10000000000000009, 'quality': -0.19999999999999996, 'volume': 1.0}. Best is trial 282 with value: 5.858544337336634.\u001b[0m\n"
     ]
    },
    {
     "name": "stdout",
     "output_type": "stream",
     "text": [
      "time 2.676 cat_cov 97.0 cov 100.0 nov 0.839 ser 0.219 m1 0.927 m10 0.847 price 3.033 sum 5.812\n"
     ]
    },
    {
     "name": "stderr",
     "output_type": "stream",
     "text": [
      "\u001b[32m[I 2023-05-12 13:39:05,523]\u001b[0m Trial 311 finished with value: 5.774722725362607 and parameters: {'svd': 0.7000000000000002, 'lfm_cos': -0.09999999999999998, 'nn_bias': -0.09999999999999998, 'catboost': -0.9, 'knn': 0.0, 'quality': -0.19999999999999996, 'volume': 0.8}. Best is trial 282 with value: 5.858544337336634.\u001b[0m\n"
     ]
    },
    {
     "name": "stdout",
     "output_type": "stream",
     "text": [
      "time 2.644 cat_cov 96.0 cov 100.0 nov 0.888 ser 0.217 m1 0.921 m10 0.843 price 2.839 sum 5.775\n"
     ]
    },
    {
     "name": "stderr",
     "output_type": "stream",
     "text": [
      "\u001b[32m[I 2023-05-12 13:39:08,227]\u001b[0m Trial 312 finished with value: 5.827058833595669 and parameters: {'svd': 0.5, 'lfm_cos': 0.0, 'nn_bias': 0.0, 'catboost': -0.9, 'knn': 0.10000000000000009, 'quality': -0.29999999999999993, 'volume': 0.9000000000000001}. Best is trial 282 with value: 5.858544337336634.\u001b[0m\n"
     ]
    },
    {
     "name": "stdout",
     "output_type": "stream",
     "text": [
      "time 2.675 cat_cov 99.0 cov 100.0 nov 0.847 ser 0.22 m1 0.92 m10 0.845 price 3.014 sum 5.827\n"
     ]
    },
    {
     "name": "stderr",
     "output_type": "stream",
     "text": [
      "\u001b[32m[I 2023-05-12 13:39:10,909]\u001b[0m Trial 313 finished with value: 5.837414979850982 and parameters: {'svd': 0.5, 'lfm_cos': -0.09999999999999998, 'nn_bias': 0.0, 'catboost': -0.8, 'knn': 0.10000000000000009, 'quality': -0.29999999999999993, 'volume': 0.9000000000000001}. Best is trial 282 with value: 5.858544337336634.\u001b[0m\n"
     ]
    },
    {
     "name": "stdout",
     "output_type": "stream",
     "text": [
      "time 2.654 cat_cov 99.0 cov 100.0 nov 0.968 ser 0.213 m1 0.911 m10 0.841 price 2.745 sum 5.837\n"
     ]
    },
    {
     "name": "stderr",
     "output_type": "stream",
     "text": [
      "\u001b[32m[I 2023-05-12 13:39:13,594]\u001b[0m Trial 314 finished with value: 5.826141772104018 and parameters: {'svd': 0.40000000000000013, 'lfm_cos': -0.09999999999999998, 'nn_bias': 0.0, 'catboost': -0.8, 'knn': 0.10000000000000009, 'quality': -0.29999999999999993, 'volume': 0.8}. Best is trial 282 with value: 5.858544337336634.\u001b[0m\n"
     ]
    },
    {
     "name": "stdout",
     "output_type": "stream",
     "text": [
      "time 2.658 cat_cov 98.0 cov 100.0 nov 0.989 ser 0.213 m1 0.902 m10 0.836 price 2.716 sum 5.826\n"
     ]
    },
    {
     "name": "stderr",
     "output_type": "stream",
     "text": [
      "\u001b[32m[I 2023-05-12 13:39:16,254]\u001b[0m Trial 315 finished with value: 5.7362518840995085 and parameters: {'svd': 0.40000000000000013, 'lfm_cos': -0.19999999999999996, 'nn_bias': 0.0, 'catboost': -0.8, 'knn': 0.20000000000000018, 'quality': -0.29999999999999993, 'volume': 0.8}. Best is trial 282 with value: 5.858544337336634.\u001b[0m\n"
     ]
    },
    {
     "name": "stdout",
     "output_type": "stream",
     "text": [
      "time 2.631 cat_cov 97.0 cov 100.0 nov 1.02 ser 0.209 m1 0.858 m10 0.803 price 2.632 sum 5.736\n"
     ]
    },
    {
     "name": "stderr",
     "output_type": "stream",
     "text": [
      "\u001b[32m[I 2023-05-12 13:39:18,934]\u001b[0m Trial 316 finished with value: 5.7565520926037 and parameters: {'svd': 0.5, 'lfm_cos': -0.09999999999999998, 'nn_bias': -0.09999999999999998, 'catboost': -0.8, 'knn': 0.10000000000000009, 'quality': -0.29999999999999993, 'volume': 0.8}. Best is trial 282 with value: 5.858544337336634.\u001b[0m\n"
     ]
    },
    {
     "name": "stdout",
     "output_type": "stream",
     "text": [
      "time 2.653 cat_cov 95.0 cov 100.0 nov 0.92 ser 0.215 m1 0.912 m10 0.836 price 2.769 sum 5.757\n"
     ]
    },
    {
     "name": "stderr",
     "output_type": "stream",
     "text": [
      "\u001b[32m[I 2023-05-12 13:39:21,632]\u001b[0m Trial 317 finished with value: 5.758262794197957 and parameters: {'svd': 0.40000000000000013, 'lfm_cos': -0.19999999999999996, 'nn_bias': -0.09999999999999998, 'catboost': -0.8, 'knn': 0.10000000000000009, 'quality': -0.3999999999999999, 'volume': 0.8}. Best is trial 282 with value: 5.858544337336634.\u001b[0m\n"
     ]
    },
    {
     "name": "stdout",
     "output_type": "stream",
     "text": [
      "time 2.669 cat_cov 98.0 cov 100.0 nov 0.972 ser 0.213 m1 0.883 m10 0.812 price 2.696 sum 5.758\n"
     ]
    },
    {
     "name": "stderr",
     "output_type": "stream",
     "text": [
      "\u001b[32m[I 2023-05-12 13:39:24,353]\u001b[0m Trial 318 finished with value: 5.816141772104018 and parameters: {'svd': 0.40000000000000013, 'lfm_cos': -0.09999999999999998, 'nn_bias': 0.0, 'catboost': -0.8, 'knn': 0.10000000000000009, 'quality': -0.29999999999999993, 'volume': 0.8}. Best is trial 282 with value: 5.858544337336634.\u001b[0m\n"
     ]
    },
    {
     "name": "stdout",
     "output_type": "stream",
     "text": [
      "time 2.695 cat_cov 97.0 cov 100.0 nov 0.989 ser 0.213 m1 0.902 m10 0.836 price 2.716 sum 5.816\n"
     ]
    },
    {
     "name": "stderr",
     "output_type": "stream",
     "text": [
      "\u001b[32m[I 2023-05-12 13:39:27,072]\u001b[0m Trial 319 finished with value: 5.814627339465838 and parameters: {'svd': 0.5, 'lfm_cos': 0.0, 'nn_bias': 0.0, 'catboost': -0.8, 'knn': 0.20000000000000018, 'quality': -0.09999999999999998, 'volume': 0.9000000000000001}. Best is trial 282 with value: 5.858544337336634.\u001b[0m\n"
     ]
    },
    {
     "name": "stdout",
     "output_type": "stream",
     "text": [
      "time 2.688 cat_cov 99.0 cov 100.0 nov 0.886 ser 0.216 m1 0.908 m10 0.837 price 2.933 sum 5.815\n"
     ]
    },
    {
     "name": "stderr",
     "output_type": "stream",
     "text": [
      "\u001b[32m[I 2023-05-12 13:39:29,764]\u001b[0m Trial 320 finished with value: 5.829552410040886 and parameters: {'svd': 0.5, 'lfm_cos': -0.09999999999999998, 'nn_bias': 0.0, 'catboost': -0.9, 'knn': 0.10000000000000009, 'quality': -0.3999999999999999, 'volume': 0.9000000000000001}. Best is trial 282 with value: 5.858544337336634.\u001b[0m\n"
     ]
    },
    {
     "name": "stdout",
     "output_type": "stream",
     "text": [
      "time 2.664 cat_cov 98.0 cov 100.0 nov 0.974 ser 0.214 m1 0.909 m10 0.841 price 2.734 sum 5.83\n"
     ]
    },
    {
     "name": "stderr",
     "output_type": "stream",
     "text": [
      "\u001b[32m[I 2023-05-12 13:39:32,451]\u001b[0m Trial 321 finished with value: 5.792275316924201 and parameters: {'svd': 0.40000000000000013, 'lfm_cos': -0.09999999999999998, 'nn_bias': 0.0, 'catboost': -0.8, 'knn': 0.10000000000000009, 'quality': -0.3999999999999999, 'volume': 0.8}. Best is trial 282 with value: 5.858544337336634.\u001b[0m\n"
     ]
    },
    {
     "name": "stdout",
     "output_type": "stream",
     "text": [
      "time 2.659 cat_cov 95.0 cov 100.0 nov 0.988 ser 0.213 m1 0.902 m10 0.836 price 2.709 sum 5.792\n"
     ]
    },
    {
     "name": "stderr",
     "output_type": "stream",
     "text": [
      "\u001b[32m[I 2023-05-12 13:39:35,166]\u001b[0m Trial 322 finished with value: 4.923419453668606 and parameters: {'svd': 0.5, 'lfm_cos': -0.19999999999999996, 'nn_bias': 0.7000000000000002, 'catboost': -0.9, 'knn': 0.20000000000000018, 'quality': -0.3999999999999999, 'volume': 0.9000000000000001}. Best is trial 282 with value: 5.858544337336634.\u001b[0m\n"
     ]
    },
    {
     "name": "stdout",
     "output_type": "stream",
     "text": [
      "time 2.687 cat_cov 98.0 cov 100.0 nov 1.004 ser 0.187 m1 0.365 m10 0.536 price 2.553 sum 4.923\n"
     ]
    },
    {
     "name": "stderr",
     "output_type": "stream",
     "text": [
      "\u001b[32m[I 2023-05-12 13:39:37,823]\u001b[0m Trial 323 finished with value: 5.80277772933588 and parameters: {'svd': 0.5, 'lfm_cos': -0.09999999999999998, 'nn_bias': 0.0, 'catboost': -0.9, 'knn': 0.10000000000000009, 'quality': -0.29999999999999993, 'volume': 0.8}. Best is trial 282 with value: 5.858544337336634.\u001b[0m\n"
     ]
    },
    {
     "name": "stdout",
     "output_type": "stream",
     "text": [
      "time 2.628 cat_cov 95.0 cov 100.0 nov 0.983 ser 0.213 m1 0.909 m10 0.841 price 2.72 sum 5.803\n"
     ]
    },
    {
     "name": "stderr",
     "output_type": "stream",
     "text": [
      "\u001b[32m[I 2023-05-12 13:39:40,499]\u001b[0m Trial 324 finished with value: 5.708659572919277 and parameters: {'svd': 0.30000000000000004, 'lfm_cos': -0.09999999999999998, 'nn_bias': -0.09999999999999998, 'catboost': -0.8, 'knn': 0.10000000000000009, 'quality': -0.3999999999999999, 'volume': 0.9000000000000001}. Best is trial 282 with value: 5.858544337336634.\u001b[0m\n"
     ]
    },
    {
     "name": "stdout",
     "output_type": "stream",
     "text": [
      "time 2.648 cat_cov 92.0 cov 100.0 nov 0.926 ser 0.217 m1 0.894 m10 0.822 price 2.788 sum 5.709\n"
     ]
    },
    {
     "name": "stderr",
     "output_type": "stream",
     "text": [
      "\u001b[32m[I 2023-05-12 13:39:43,208]\u001b[0m Trial 325 finished with value: 5.730604801471521 and parameters: {'svd': 0.5, 'lfm_cos': -0.19999999999999996, 'nn_bias': -0.19999999999999996, 'catboost': -0.9, 'knn': 0.10000000000000009, 'quality': -0.29999999999999993, 'volume': 0.9000000000000001}. Best is trial 282 with value: 5.858544337336634.\u001b[0m\n"
     ]
    },
    {
     "name": "stdout",
     "output_type": "stream",
     "text": [
      "time 2.681 cat_cov 96.0 cov 100.0 nov 0.931 ser 0.215 m1 0.892 m10 0.816 price 2.75 sum 5.731\n"
     ]
    },
    {
     "name": "stderr",
     "output_type": "stream",
     "text": [
      "\u001b[32m[I 2023-05-12 13:39:45,864]\u001b[0m Trial 326 finished with value: 5.787093692413813 and parameters: {'svd': 0.5, 'lfm_cos': -0.09999999999999998, 'nn_bias': 0.0, 'catboost': -0.9, 'knn': 0.20000000000000018, 'quality': -0.29999999999999993, 'volume': 0.8}. Best is trial 282 with value: 5.858544337336634.\u001b[0m\n"
     ]
    },
    {
     "name": "stdout",
     "output_type": "stream",
     "text": [
      "time 2.627 cat_cov 97.0 cov 100.0 nov 0.986 ser 0.212 m1 0.892 m10 0.831 price 2.689 sum 5.787\n"
     ]
    },
    {
     "name": "stderr",
     "output_type": "stream",
     "text": [
      "\u001b[32m[I 2023-05-12 13:39:48,505]\u001b[0m Trial 327 finished with value: 5.820832420125889 and parameters: {'svd': 0.6000000000000001, 'lfm_cos': -0.09999999999999998, 'nn_bias': 0.0, 'catboost': -0.8, 'knn': 0.10000000000000009, 'quality': -0.19999999999999996, 'volume': 0.9000000000000001}. Best is trial 282 with value: 5.858544337336634.\u001b[0m\n"
     ]
    },
    {
     "name": "stdout",
     "output_type": "stream",
     "text": [
      "time 2.613 cat_cov 98.0 cov 100.0 nov 0.95 ser 0.212 m1 0.917 m10 0.844 price 2.754 sum 5.821\n"
     ]
    },
    {
     "name": "stderr",
     "output_type": "stream",
     "text": [
      "\u001b[32m[I 2023-05-12 13:39:51,174]\u001b[0m Trial 328 finished with value: 5.761643537042181 and parameters: {'svd': 0.6000000000000001, 'lfm_cos': 0.0, 'nn_bias': 0.0, 'catboost': -0.9, 'knn': 0.20000000000000018, 'quality': -0.3999999999999999, 'volume': 0.9000000000000001}. Best is trial 282 with value: 5.858544337336634.\u001b[0m\n"
     ]
    },
    {
     "name": "stdout",
     "output_type": "stream",
     "text": [
      "time 2.64 cat_cov 96.0 cov 100.0 nov 0.878 ser 0.216 m1 0.914 m10 0.842 price 2.855 sum 5.762\n"
     ]
    },
    {
     "name": "stderr",
     "output_type": "stream",
     "text": [
      "\u001b[32m[I 2023-05-12 13:39:53,852]\u001b[0m Trial 329 finished with value: 5.688097187273466 and parameters: {'svd': 0.6000000000000001, 'lfm_cos': 0.0, 'nn_bias': -0.09999999999999998, 'catboost': -0.9, 'knn': 0.10000000000000009, 'quality': -1.0, 'volume': -0.19999999999999996}. Best is trial 282 with value: 5.858544337336634.\u001b[0m\n"
     ]
    },
    {
     "name": "stdout",
     "output_type": "stream",
     "text": [
      "time 2.649 cat_cov 96.0 cov 100.0 nov 0.871 ser 0.218 m1 0.919 m10 0.846 price 2.625 sum 5.688\n"
     ]
    },
    {
     "name": "stderr",
     "output_type": "stream",
     "text": [
      "\u001b[32m[I 2023-05-12 13:39:56,531]\u001b[0m Trial 330 finished with value: 5.759828106597546 and parameters: {'svd': 0.5, 'lfm_cos': 0.10000000000000009, 'nn_bias': 0.10000000000000009, 'catboost': -0.9, 'knn': 0.0, 'quality': -0.19999999999999996, 'volume': 0.9000000000000001}. Best is trial 282 with value: 5.858544337336634.\u001b[0m\n"
     ]
    },
    {
     "name": "stdout",
     "output_type": "stream",
     "text": [
      "time 2.652 cat_cov 95.0 cov 100.0 nov 0.842 ser 0.223 m1 0.922 m10 0.849 price 2.921 sum 5.76\n"
     ]
    },
    {
     "name": "stderr",
     "output_type": "stream",
     "text": [
      "\u001b[32m[I 2023-05-12 13:39:59,193]\u001b[0m Trial 331 finished with value: 5.772275316924201 and parameters: {'svd': 0.40000000000000013, 'lfm_cos': -0.09999999999999998, 'nn_bias': 0.0, 'catboost': -0.8, 'knn': 0.10000000000000009, 'quality': -0.3999999999999999, 'volume': 0.8}. Best is trial 282 with value: 5.858544337336634.\u001b[0m\n"
     ]
    },
    {
     "name": "stdout",
     "output_type": "stream",
     "text": [
      "time 2.633 cat_cov 93.0 cov 100.0 nov 0.988 ser 0.213 m1 0.902 m10 0.836 price 2.709 sum 5.772\n"
     ]
    },
    {
     "name": "stderr",
     "output_type": "stream",
     "text": [
      "\u001b[32m[I 2023-05-12 13:40:01,913]\u001b[0m Trial 332 finished with value: 5.74907794109267 and parameters: {'svd': 0.5, 'lfm_cos': 0.0, 'nn_bias': -0.3999999999999999, 'catboost': -0.9, 'knn': 0.30000000000000004, 'quality': -0.09999999999999998, 'volume': 0.9000000000000001}. Best is trial 282 with value: 5.858544337336634.\u001b[0m\n"
     ]
    },
    {
     "name": "stdout",
     "output_type": "stream",
     "text": [
      "time 2.691 cat_cov 98.0 cov 100.0 nov 0.854 ser 0.221 m1 0.896 m10 0.822 price 2.926 sum 5.749\n"
     ]
    },
    {
     "name": "stderr",
     "output_type": "stream",
     "text": [
      "\u001b[32m[I 2023-05-12 13:40:04,574]\u001b[0m Trial 333 finished with value: 5.662524778497974 and parameters: {'svd': 0.20000000000000018, 'lfm_cos': -0.09999999999999998, 'nn_bias': 0.10000000000000009, 'catboost': -1.0, 'knn': 0.0, 'quality': -0.29999999999999993, 'volume': 0.7000000000000002}. Best is trial 282 with value: 5.858544337336634.\u001b[0m\n"
     ]
    },
    {
     "name": "stdout",
     "output_type": "stream",
     "text": [
      "time 2.632 cat_cov 90.0 cov 100.0 nov 1.044 ser 0.211 m1 0.845 m10 0.784 price 2.639 sum 5.663\n"
     ]
    },
    {
     "name": "stderr",
     "output_type": "stream",
     "text": [
      "\u001b[32m[I 2023-05-12 13:40:07,263]\u001b[0m Trial 334 finished with value: 5.167972158131542 and parameters: {'svd': 0.6000000000000001, 'lfm_cos': 0.7000000000000002, 'nn_bias': 0.0, 'catboost': -0.8, 'knn': 0.0, 'quality': -0.29999999999999993, 'volume': 1.0}. Best is trial 282 with value: 5.858544337336634.\u001b[0m\n"
     ]
    },
    {
     "name": "stdout",
     "output_type": "stream",
     "text": [
      "time 2.66 cat_cov 100.0 cov 100.0 nov 0.679 ser 0.221 m1 0.635 m10 0.643 price 2.973 sum 5.168\n"
     ]
    },
    {
     "name": "stderr",
     "output_type": "stream",
     "text": [
      "\u001b[32m[I 2023-05-12 13:40:09,934]\u001b[0m Trial 335 finished with value: 5.793852332601832 and parameters: {'svd': 0.5, 'lfm_cos': -0.19999999999999996, 'nn_bias': 0.10000000000000009, 'catboost': -1.0, 'knn': 0.10000000000000009, 'quality': -0.19999999999999996, 'volume': 0.9000000000000001}. Best is trial 282 with value: 5.858544337336634.\u001b[0m\n"
     ]
    },
    {
     "name": "stdout",
     "output_type": "stream",
     "text": [
      "time 2.642 cat_cov 98.0 cov 100.0 nov 1.036 ser 0.21 m1 0.879 m10 0.818 price 2.614 sum 5.794\n"
     ]
    },
    {
     "name": "stderr",
     "output_type": "stream",
     "text": [
      "\u001b[32m[I 2023-05-12 13:40:12,607]\u001b[0m Trial 336 finished with value: 5.818418555470145 and parameters: {'svd': 0.6000000000000001, 'lfm_cos': 0.0, 'nn_bias': 0.10000000000000009, 'catboost': -0.9, 'knn': 0.0, 'quality': -0.3999999999999999, 'volume': 0.8}. Best is trial 282 with value: 5.858544337336634.\u001b[0m\n"
     ]
    },
    {
     "name": "stdout",
     "output_type": "stream",
     "text": [
      "time 2.644 cat_cov 96.0 cov 100.0 nov 0.951 ser 0.216 m1 0.922 m10 0.851 price 2.756 sum 5.818\n"
     ]
    },
    {
     "name": "stderr",
     "output_type": "stream",
     "text": [
      "\u001b[32m[I 2023-05-12 13:40:15,297]\u001b[0m Trial 337 finished with value: 5.819855159770461 and parameters: {'svd': 0.6000000000000001, 'lfm_cos': -0.09999999999999998, 'nn_bias': 0.0, 'catboost': -0.9, 'knn': 0.20000000000000018, 'quality': -0.29999999999999993, 'volume': 1.0}. Best is trial 282 with value: 5.858544337336634.\u001b[0m\n"
     ]
    },
    {
     "name": "stdout",
     "output_type": "stream",
     "text": [
      "time 2.662 cat_cov 100.0 cov 100.0 nov 0.96 ser 0.211 m1 0.905 m10 0.836 price 2.724 sum 5.82\n"
     ]
    },
    {
     "name": "stderr",
     "output_type": "stream",
     "text": [
      "\u001b[32m[I 2023-05-12 13:40:17,942]\u001b[0m Trial 338 finished with value: 5.7308011209318925 and parameters: {'svd': 0.6000000000000001, 'lfm_cos': 0.10000000000000009, 'nn_bias': -0.09999999999999998, 'catboost': -1.0, 'knn': 0.10000000000000009, 'quality': -0.19999999999999996, 'volume': 0.9000000000000001}. Best is trial 282 with value: 5.858544337336634.\u001b[0m\n"
     ]
    },
    {
     "name": "stdout",
     "output_type": "stream",
     "text": [
      "time 2.616 cat_cov 97.0 cov 100.0 nov 0.78 ser 0.226 m1 0.926 m10 0.845 price 2.952 sum 5.731\n"
     ]
    },
    {
     "name": "stderr",
     "output_type": "stream",
     "text": [
      "\u001b[32m[I 2023-05-12 13:40:20,608]\u001b[0m Trial 339 finished with value: 5.837774869572083 and parameters: {'svd': 0.5, 'lfm_cos': 0.0, 'nn_bias': 0.10000000000000009, 'catboost': -1.0, 'knn': 0.0, 'quality': -0.09999999999999998, 'volume': 0.8}. Best is trial 282 with value: 5.858544337336634.\u001b[0m\n"
     ]
    },
    {
     "name": "stdout",
     "output_type": "stream",
     "text": [
      "time 2.637 cat_cov 95.0 cov 100.0 nov 0.961 ser 0.218 m1 0.918 m10 0.847 price 2.833 sum 5.838\n"
     ]
    },
    {
     "name": "stderr",
     "output_type": "stream",
     "text": [
      "\u001b[32m[I 2023-05-12 13:40:23,296]\u001b[0m Trial 340 finished with value: 5.441667036537096 and parameters: {'svd': 0.5, 'lfm_cos': 0.0, 'nn_bias': 0.10000000000000009, 'catboost': -1.0, 'knn': 0.6000000000000001, 'quality': -0.09999999999999998, 'volume': 0.20000000000000018}. Best is trial 282 with value: 5.858544337336634.\u001b[0m\n"
     ]
    },
    {
     "name": "stdout",
     "output_type": "stream",
     "text": [
      "time 2.66 cat_cov 100.0 cov 100.0 nov 0.993 ser 0.2 m1 0.666 m10 0.746 price 2.509 sum 5.442\n"
     ]
    },
    {
     "name": "stderr",
     "output_type": "stream",
     "text": [
      "\u001b[32m[I 2023-05-12 13:40:25,988]\u001b[0m Trial 341 finished with value: 5.7837918901084375 and parameters: {'svd': 0.40000000000000013, 'lfm_cos': -0.09999999999999998, 'nn_bias': 0.0, 'catboost': -1.0, 'knn': 0.10000000000000009, 'quality': -0.09999999999999998, 'volume': 0.8}. Best is trial 282 with value: 5.858544337336634.\u001b[0m\n"
     ]
    },
    {
     "name": "stdout",
     "output_type": "stream",
     "text": [
      "time 2.662 cat_cov 93.0 cov 100.0 nov 0.993 ser 0.214 m1 0.901 m10 0.835 price 2.734 sum 5.784\n"
     ]
    },
    {
     "name": "stderr",
     "output_type": "stream",
     "text": [
      "\u001b[32m[I 2023-05-12 13:40:28,668]\u001b[0m Trial 342 finished with value: 5.8358558550573925 and parameters: {'svd': 0.5, 'lfm_cos': 0.0, 'nn_bias': 0.10000000000000009, 'catboost': -1.0, 'knn': 0.0, 'quality': -0.09999999999999998, 'volume': 0.40000000000000013}. Best is trial 282 with value: 5.858544337336634.\u001b[0m\n"
     ]
    },
    {
     "name": "stdout",
     "output_type": "stream",
     "text": [
      "time 2.652 cat_cov 95.0 cov 100.0 nov 0.984 ser 0.217 m1 0.917 m10 0.848 price 2.763 sum 5.836\n"
     ]
    },
    {
     "name": "stderr",
     "output_type": "stream",
     "text": [
      "\u001b[32m[I 2023-05-12 13:40:31,336]\u001b[0m Trial 343 finished with value: 5.744754080421239 and parameters: {'svd': 0.5, 'lfm_cos': 0.10000000000000009, 'nn_bias': 0.10000000000000009, 'catboost': -1.0, 'knn': 0.0, 'quality': -0.3999999999999999, 'volume': 0.5}. Best is trial 282 with value: 5.858544337336634.\u001b[0m\n"
     ]
    },
    {
     "name": "stdout",
     "output_type": "stream",
     "text": [
      "time 2.639 cat_cov 95.0 cov 100.0 nov 0.865 ser 0.222 m1 0.921 m10 0.848 price 2.817 sum 5.745\n"
     ]
    },
    {
     "name": "stderr",
     "output_type": "stream",
     "text": [
      "\u001b[32m[I 2023-05-12 13:40:34,034]\u001b[0m Trial 344 finished with value: 5.764165121435921 and parameters: {'svd': 0.5, 'lfm_cos': -0.09999999999999998, 'nn_bias': 0.10000000000000009, 'catboost': -1.0, 'knn': 0.10000000000000009, 'quality': -0.19999999999999996, 'volume': 0.7000000000000002}. Best is trial 282 with value: 5.858544337336634.\u001b[0m\n"
     ]
    },
    {
     "name": "stdout",
     "output_type": "stream",
     "text": [
      "time 2.67 cat_cov 92.0 cov 100.0 nov 1.032 ser 0.211 m1 0.895 m10 0.833 price 2.616 sum 5.764\n"
     ]
    },
    {
     "name": "stderr",
     "output_type": "stream",
     "text": [
      "\u001b[32m[I 2023-05-12 13:40:36,722]\u001b[0m Trial 345 finished with value: 5.777118611224564 and parameters: {'svd': 0.5, 'lfm_cos': 0.0, 'nn_bias': 0.10000000000000009, 'catboost': -1.0, 'knn': 0.20000000000000018, 'quality': -0.29999999999999993, 'volume': 0.5}. Best is trial 282 with value: 5.858544337336634.\u001b[0m\n"
     ]
    },
    {
     "name": "stdout",
     "output_type": "stream",
     "text": [
      "time 2.658 cat_cov 96.0 cov 100.0 nov 1.019 ser 0.212 m1 0.887 m10 0.834 price 2.594 sum 5.777\n"
     ]
    },
    {
     "name": "stderr",
     "output_type": "stream",
     "text": [
      "\u001b[32m[I 2023-05-12 13:40:39,403]\u001b[0m Trial 346 finished with value: 5.722313195107301 and parameters: {'svd': 0.40000000000000013, 'lfm_cos': -0.19999999999999996, 'nn_bias': 0.10000000000000009, 'catboost': -1.0, 'knn': 0.0, 'quality': -0.19999999999999996, 'volume': 0.40000000000000013}. Best is trial 282 with value: 5.858544337336634.\u001b[0m\n"
     ]
    },
    {
     "name": "stdout",
     "output_type": "stream",
     "text": [
      "time 2.651 cat_cov 92.0 cov 100.0 nov 1.052 ser 0.21 m1 0.87 m10 0.807 price 2.589 sum 5.722\n"
     ]
    },
    {
     "name": "stderr",
     "output_type": "stream",
     "text": [
      "\u001b[32m[I 2023-05-12 13:40:42,075]\u001b[0m Trial 347 finished with value: 5.835505838041623 and parameters: {'svd': 0.5, 'lfm_cos': -0.09999999999999998, 'nn_bias': 0.10000000000000009, 'catboost': -1.0, 'knn': 0.10000000000000009, 'quality': -0.3999999999999999, 'volume': 0.8}. Best is trial 282 with value: 5.858544337336634.\u001b[0m\n"
     ]
    },
    {
     "name": "stdout",
     "output_type": "stream",
     "text": [
      "time 2.641 cat_cov 99.0 cov 100.0 nov 1.029 ser 0.212 m1 0.896 m10 0.834 price 2.623 sum 5.836\n"
     ]
    },
    {
     "name": "stderr",
     "output_type": "stream",
     "text": [
      "\u001b[32m[I 2023-05-12 13:40:44,762]\u001b[0m Trial 348 finished with value: 5.662117016383761 and parameters: {'svd': 0.5, 'lfm_cos': -0.8, 'nn_bias': 0.10000000000000009, 'catboost': -1.0, 'knn': 0.10000000000000009, 'quality': -0.29999999999999993, 'volume': 0.7000000000000002}. Best is trial 282 with value: 5.858544337336634.\u001b[0m\n"
     ]
    },
    {
     "name": "stdout",
     "output_type": "stream",
     "text": [
      "time 2.658 cat_cov 95.0 cov 100.0 nov 1.082 ser 0.199 m1 0.832 m10 0.76 price 2.518 sum 5.662\n"
     ]
    },
    {
     "name": "stderr",
     "output_type": "stream",
     "text": [
      "\u001b[32m[I 2023-05-12 13:40:47,482]\u001b[0m Trial 349 finished with value: 4.688895408293352 and parameters: {'svd': 0.5, 'lfm_cos': 0.0, 'nn_bias': 0.10000000000000009, 'catboost': 0.7000000000000002, 'knn': 0.10000000000000009, 'quality': 0.0, 'volume': 0.8}. Best is trial 282 with value: 5.858544337336634.\u001b[0m\n"
     ]
    },
    {
     "name": "stdout",
     "output_type": "stream",
     "text": [
      "time 2.691 cat_cov 88.0 cov 100.0 nov 0.571 ser 0.131 m1 0.614 m10 0.609 price 2.65 sum 4.689\n"
     ]
    },
    {
     "name": "stderr",
     "output_type": "stream",
     "text": [
      "\u001b[32m[I 2023-05-12 13:40:50,139]\u001b[0m Trial 350 finished with value: 5.679530045933939 and parameters: {'svd': 0.40000000000000013, 'lfm_cos': 0.10000000000000009, 'nn_bias': 0.0, 'catboost': -1.0, 'knn': 0.10000000000000009, 'quality': -0.09999999999999998, 'volume': 0.7000000000000002}. Best is trial 282 with value: 5.858544337336634.\u001b[0m\n"
     ]
    },
    {
     "name": "stdout",
     "output_type": "stream",
     "text": [
      "time 2.627 cat_cov 92.0 cov 100.0 nov 0.797 ser 0.226 m1 0.917 m10 0.84 price 2.939 sum 5.68\n"
     ]
    },
    {
     "name": "stderr",
     "output_type": "stream",
     "text": [
      "\u001b[32m[I 2023-05-12 13:40:52,841]\u001b[0m Trial 351 finished with value: 5.8273518663367865 and parameters: {'svd': 0.5, 'lfm_cos': 0.0, 'nn_bias': 0.10000000000000009, 'catboost': -1.0, 'knn': 0.0, 'quality': -0.19999999999999996, 'volume': 0.8}. Best is trial 282 with value: 5.858544337336634.\u001b[0m\n"
     ]
    },
    {
     "name": "stdout",
     "output_type": "stream",
     "text": [
      "time 2.671 cat_cov 94.0 cov 100.0 nov 0.964 ser 0.218 m1 0.918 m10 0.848 price 2.821 sum 5.827\n"
     ]
    },
    {
     "name": "stderr",
     "output_type": "stream",
     "text": [
      "\u001b[32m[I 2023-05-12 13:40:56,192]\u001b[0m Trial 352 finished with value: 5.80528989703946 and parameters: {'svd': 0.30000000000000004, 'lfm_cos': 0.0, 'nn_bias': 0.10000000000000009, 'catboost': -1.0, 'knn': 0.0, 'quality': -0.19999999999999996, 'volume': 0.8}. Best is trial 282 with value: 5.858544337336634.\u001b[0m\n"
     ]
    },
    {
     "name": "stdout",
     "output_type": "stream",
     "text": [
      "time 3.321 cat_cov 93.0 cov 100.0 nov 0.972 ser 0.218 m1 0.903 m10 0.837 price 2.834 sum 5.805\n"
     ]
    },
    {
     "name": "stderr",
     "output_type": "stream",
     "text": [
      "\u001b[32m[I 2023-05-12 13:40:58,869]\u001b[0m Trial 353 finished with value: 5.78068618803338 and parameters: {'svd': 0.5, 'lfm_cos': 0.10000000000000009, 'nn_bias': 0.10000000000000009, 'catboost': -1.0, 'knn': 0.0, 'quality': -0.19999999999999996, 'volume': 0.8}. Best is trial 282 with value: 5.858544337336634.\u001b[0m\n"
     ]
    },
    {
     "name": "stdout",
     "output_type": "stream",
     "text": [
      "time 2.648 cat_cov 97.0 cov 100.0 nov 0.853 ser 0.223 m1 0.921 m10 0.848 price 2.898 sum 5.781\n"
     ]
    },
    {
     "name": "stderr",
     "output_type": "stream",
     "text": [
      "\u001b[32m[I 2023-05-12 13:41:01,534]\u001b[0m Trial 354 finished with value: 5.755061484083562 and parameters: {'svd': 0.40000000000000013, 'lfm_cos': 0.0, 'nn_bias': 0.0, 'catboost': -1.0, 'knn': 0.10000000000000009, 'quality': -0.19999999999999996, 'volume': 0.30000000000000004}. Best is trial 282 with value: 5.858544337336634.\u001b[0m\n"
     ]
    },
    {
     "name": "stdout",
     "output_type": "stream",
     "text": [
      "time 2.637 cat_cov 96.0 cov 100.0 nov 0.89 ser 0.218 m1 0.911 m10 0.843 price 2.8 sum 5.755\n"
     ]
    },
    {
     "name": "stderr",
     "output_type": "stream",
     "text": [
      "\u001b[32m[I 2023-05-12 13:41:04,204]\u001b[0m Trial 355 finished with value: 5.750571911061149 and parameters: {'svd': 0.5, 'lfm_cos': 0.10000000000000009, 'nn_bias': 0.10000000000000009, 'catboost': -1.0, 'knn': 0.0, 'quality': -0.09999999999999998, 'volume': 0.7000000000000002}. Best is trial 282 with value: 5.858544337336634.\u001b[0m\n"
     ]
    },
    {
     "name": "stdout",
     "output_type": "stream",
     "text": [
      "time 2.64 cat_cov 94.0 cov 100.0 nov 0.858 ser 0.223 m1 0.921 m10 0.848 price 2.882 sum 5.751\n"
     ]
    },
    {
     "name": "stderr",
     "output_type": "stream",
     "text": [
      "\u001b[32m[I 2023-05-12 13:41:06,896]\u001b[0m Trial 356 finished with value: 5.632725251403625 and parameters: {'svd': 0.5, 'lfm_cos': 0.0, 'nn_bias': 0.0, 'catboost': -0.09999999999999998, 'knn': 0.20000000000000018, 'quality': -0.09999999999999998, 'volume': 0.8}. Best is trial 282 with value: 5.858544337336634.\u001b[0m\n"
     ]
    },
    {
     "name": "stdout",
     "output_type": "stream",
     "text": [
      "time 2.662 cat_cov 100.0 cov 100.0 nov 0.775 ser 0.187 m1 0.912 m10 0.862 price 2.69 sum 5.633\n"
     ]
    },
    {
     "name": "stderr",
     "output_type": "stream",
     "text": [
      "\u001b[32m[I 2023-05-12 13:41:09,595]\u001b[0m Trial 357 finished with value: 5.827423567427045 and parameters: {'svd': 0.40000000000000013, 'lfm_cos': 0.0, 'nn_bias': 0.10000000000000009, 'catboost': -0.7, 'knn': 0.10000000000000009, 'quality': -0.29999999999999993, 'volume': 0.8}. Best is trial 282 with value: 5.858544337336634.\u001b[0m\n"
     ]
    },
    {
     "name": "stdout",
     "output_type": "stream",
     "text": [
      "time 2.669 cat_cov 98.0 cov 100.0 nov 0.983 ser 0.214 m1 0.902 m10 0.84 price 2.726 sum 5.827\n"
     ]
    },
    {
     "name": "stderr",
     "output_type": "stream",
     "text": [
      "\u001b[32m[I 2023-05-12 13:41:12,274]\u001b[0m Trial 358 finished with value: 5.832946007418213 and parameters: {'svd': 0.6000000000000001, 'lfm_cos': 0.0, 'nn_bias': 0.10000000000000009, 'catboost': -0.7, 'knn': 0.0, 'quality': -0.19999999999999996, 'volume': 0.6000000000000001}. Best is trial 282 with value: 5.858544337336634.\u001b[0m\n"
     ]
    },
    {
     "name": "stdout",
     "output_type": "stream",
     "text": [
      "time 2.649 cat_cov 98.0 cov 100.0 nov 0.949 ser 0.213 m1 0.926 m10 0.851 price 2.744 sum 5.833\n"
     ]
    },
    {
     "name": "stderr",
     "output_type": "stream",
     "text": [
      "\u001b[32m[I 2023-05-12 13:41:14,918]\u001b[0m Trial 359 finished with value: 5.7764656182074585 and parameters: {'svd': 0.6000000000000001, 'lfm_cos': 0.10000000000000009, 'nn_bias': 0.10000000000000009, 'catboost': -0.7, 'knn': 0.0, 'quality': -0.19999999999999996, 'volume': 0.40000000000000013}. Best is trial 282 with value: 5.858544337336634.\u001b[0m\n"
     ]
    },
    {
     "name": "stdout",
     "output_type": "stream",
     "text": [
      "time 2.615 cat_cov 99.0 cov 100.0 nov 0.847 ser 0.219 m1 0.93 m10 0.854 price 2.81 sum 5.776\n"
     ]
    },
    {
     "name": "stderr",
     "output_type": "stream",
     "text": [
      "\u001b[32m[I 2023-05-12 13:41:17,608]\u001b[0m Trial 360 finished with value: 5.86264772102292 and parameters: {'svd': 0.5, 'lfm_cos': 0.0, 'nn_bias': 0.10000000000000009, 'catboost': -0.7, 'knn': 0.0, 'quality': -0.09999999999999998, 'volume': 0.7000000000000002}. Best is trial 360 with value: 5.86264772102292.\u001b[0m\n"
     ]
    },
    {
     "name": "stdout",
     "output_type": "stream",
     "text": [
      "time 2.662 cat_cov 99.0 cov 100.0 nov 0.958 ser 0.215 m1 0.922 m10 0.849 price 2.786 sum 5.863\n"
     ]
    },
    {
     "name": "stderr",
     "output_type": "stream",
     "text": [
      "\u001b[32m[I 2023-05-12 13:41:20,306]\u001b[0m Trial 361 finished with value: 5.758787259186976 and parameters: {'svd': 0.6000000000000001, 'lfm_cos': 0.10000000000000009, 'nn_bias': 0.10000000000000009, 'catboost': -0.6, 'knn': 0.0, 'quality': 0.0, 'volume': 0.7000000000000002}. Best is trial 360 with value: 5.86264772102292.\u001b[0m\n"
     ]
    },
    {
     "name": "stdout",
     "output_type": "stream",
     "text": [
      "time 2.669 cat_cov 97.0 cov 100.0 nov 0.818 ser 0.218 m1 0.934 m10 0.855 price 2.891 sum 5.759\n"
     ]
    },
    {
     "name": "stderr",
     "output_type": "stream",
     "text": [
      "\u001b[32m[I 2023-05-12 13:41:23,008]\u001b[0m Trial 362 finished with value: 5.83264772102292 and parameters: {'svd': 0.5, 'lfm_cos': 0.0, 'nn_bias': 0.10000000000000009, 'catboost': -0.7, 'knn': 0.0, 'quality': -0.09999999999999998, 'volume': 0.7000000000000002}. Best is trial 360 with value: 5.86264772102292.\u001b[0m\n"
     ]
    },
    {
     "name": "stdout",
     "output_type": "stream",
     "text": [
      "time 2.673 cat_cov 96.0 cov 100.0 nov 0.958 ser 0.215 m1 0.922 m10 0.849 price 2.786 sum 5.833\n"
     ]
    },
    {
     "name": "stderr",
     "output_type": "stream",
     "text": [
      "\u001b[32m[I 2023-05-12 13:41:25,687]\u001b[0m Trial 363 finished with value: 5.836590507347468 and parameters: {'svd': 0.40000000000000013, 'lfm_cos': 0.0, 'nn_bias': 0.10000000000000009, 'catboost': -0.7, 'knn': 0.0, 'quality': -0.09999999999999998, 'volume': 0.7000000000000002}. Best is trial 360 with value: 5.86264772102292.\u001b[0m\n"
     ]
    },
    {
     "name": "stdout",
     "output_type": "stream",
     "text": [
      "time 2.649 cat_cov 96.0 cov 100.0 nov 0.967 ser 0.216 m1 0.915 m10 0.845 price 2.8 sum 5.837\n"
     ]
    },
    {
     "name": "stderr",
     "output_type": "stream",
     "text": [
      "\u001b[32m[I 2023-05-12 13:41:28,402]\u001b[0m Trial 364 finished with value: 5.827454981906706 and parameters: {'svd': 0.6000000000000001, 'lfm_cos': 0.0, 'nn_bias': 0.10000000000000009, 'catboost': -0.7, 'knn': 0.0, 'quality': -0.09999999999999998, 'volume': 0.6000000000000001}. Best is trial 360 with value: 5.86264772102292.\u001b[0m\n"
     ]
    },
    {
     "name": "stdout",
     "output_type": "stream",
     "text": [
      "time 2.685 cat_cov 97.0 cov 100.0 nov 0.948 ser 0.213 m1 0.926 m10 0.85 price 2.759 sum 5.827\n"
     ]
    },
    {
     "name": "stderr",
     "output_type": "stream",
     "text": [
      "\u001b[32m[I 2023-05-12 13:41:31,082]\u001b[0m Trial 365 finished with value: 5.783216147978464 and parameters: {'svd': 0.5, 'lfm_cos': 0.10000000000000009, 'nn_bias': 0.10000000000000009, 'catboost': -0.7, 'knn': 0.0, 'quality': 0.0, 'volume': 0.6000000000000001}. Best is trial 360 with value: 5.86264772102292.\u001b[0m\n"
     ]
    },
    {
     "name": "stdout",
     "output_type": "stream",
     "text": [
      "time 2.65 cat_cov 98.0 cov 100.0 nov 0.847 ser 0.221 m1 0.926 m10 0.851 price 2.877 sum 5.783\n"
     ]
    },
    {
     "name": "stderr",
     "output_type": "stream",
     "text": [
      "\u001b[32m[I 2023-05-12 13:41:33,807]\u001b[0m Trial 366 finished with value: 5.805871292390696 and parameters: {'svd': 0.6000000000000001, 'lfm_cos': 0.0, 'nn_bias': 0.10000000000000009, 'catboost': -0.6, 'knn': 0.0, 'quality': -0.09999999999999998, 'volume': 0.6000000000000001}. Best is trial 360 with value: 5.86264772102292.\u001b[0m\n"
     ]
    },
    {
     "name": "stdout",
     "output_type": "stream",
     "text": [
      "time 2.694 cat_cov 97.0 cov 100.0 nov 0.933 ser 0.211 m1 0.928 m10 0.85 price 2.74 sum 5.806\n"
     ]
    },
    {
     "name": "stderr",
     "output_type": "stream",
     "text": [
      "\u001b[32m[I 2023-05-12 13:41:36,515]\u001b[0m Trial 367 finished with value: 5.847454981906706 and parameters: {'svd': 0.6000000000000001, 'lfm_cos': 0.0, 'nn_bias': 0.10000000000000009, 'catboost': -0.7, 'knn': 0.0, 'quality': -0.09999999999999998, 'volume': 0.6000000000000001}. Best is trial 360 with value: 5.86264772102292.\u001b[0m\n"
     ]
    },
    {
     "name": "stdout",
     "output_type": "stream",
     "text": [
      "time 2.679 cat_cov 99.0 cov 100.0 nov 0.948 ser 0.213 m1 0.926 m10 0.85 price 2.759 sum 5.847\n"
     ]
    },
    {
     "name": "stderr",
     "output_type": "stream",
     "text": [
      "\u001b[32m[I 2023-05-12 13:41:39,202]\u001b[0m Trial 368 finished with value: 5.837454981906706 and parameters: {'svd': 0.6000000000000001, 'lfm_cos': 0.0, 'nn_bias': 0.10000000000000009, 'catboost': -0.7, 'knn': 0.0, 'quality': -0.09999999999999998, 'volume': 0.6000000000000001}. Best is trial 360 with value: 5.86264772102292.\u001b[0m\n"
     ]
    },
    {
     "name": "stdout",
     "output_type": "stream",
     "text": [
      "time 2.656 cat_cov 98.0 cov 100.0 nov 0.948 ser 0.213 m1 0.926 m10 0.85 price 2.759 sum 5.837\n"
     ]
    },
    {
     "name": "stderr",
     "output_type": "stream",
     "text": [
      "\u001b[32m[I 2023-05-12 13:41:41,875]\u001b[0m Trial 369 finished with value: 5.785530256741637 and parameters: {'svd': 0.6000000000000001, 'lfm_cos': 0.10000000000000009, 'nn_bias': 0.10000000000000009, 'catboost': -0.7, 'knn': 0.0, 'quality': -0.09999999999999998, 'volume': 0.6000000000000001}. Best is trial 360 with value: 5.86264772102292.\u001b[0m\n"
     ]
    },
    {
     "name": "stdout",
     "output_type": "stream",
     "text": [
      "time 2.643 cat_cov 99.0 cov 100.0 nov 0.838 ser 0.22 m1 0.931 m10 0.853 price 2.861 sum 5.786\n"
     ]
    },
    {
     "name": "stderr",
     "output_type": "stream",
     "text": [
      "\u001b[32m[I 2023-05-12 13:41:44,554]\u001b[0m Trial 370 finished with value: 5.834934688595651 and parameters: {'svd': 0.6000000000000001, 'lfm_cos': 0.0, 'nn_bias': 0.10000000000000009, 'catboost': -0.7, 'knn': 0.0, 'quality': 0.0, 'volume': 0.6000000000000001}. Best is trial 360 with value: 5.86264772102292.\u001b[0m\n"
     ]
    },
    {
     "name": "stdout",
     "output_type": "stream",
     "text": [
      "time 2.649 cat_cov 98.0 cov 100.0 nov 0.946 ser 0.213 m1 0.926 m10 0.85 price 2.761 sum 5.835\n"
     ]
    },
    {
     "name": "stderr",
     "output_type": "stream",
     "text": [
      "\u001b[32m[I 2023-05-12 13:41:47,246]\u001b[0m Trial 371 finished with value: 5.8138944835456 and parameters: {'svd': 0.6000000000000001, 'lfm_cos': 0.0, 'nn_bias': 0.10000000000000009, 'catboost': -0.6, 'knn': 0.0, 'quality': 0.0, 'volume': 0.6000000000000001}. Best is trial 360 with value: 5.86264772102292.\u001b[0m\n"
     ]
    },
    {
     "name": "stdout",
     "output_type": "stream",
     "text": [
      "time 2.662 cat_cov 98.0 cov 100.0 nov 0.93 ser 0.211 m1 0.929 m10 0.851 price 2.741 sum 5.814\n"
     ]
    },
    {
     "name": "stderr",
     "output_type": "stream",
     "text": [
      "\u001b[32m[I 2023-05-12 13:41:49,942]\u001b[0m Trial 372 finished with value: 5.813894880623129 and parameters: {'svd': 0.6000000000000001, 'lfm_cos': 0.0, 'nn_bias': 0.10000000000000009, 'catboost': -0.7, 'knn': 0.0, 'quality': 0.0, 'volume': 0.5}. Best is trial 360 with value: 5.86264772102292.\u001b[0m\n"
     ]
    },
    {
     "name": "stdout",
     "output_type": "stream",
     "text": [
      "time 2.666 cat_cov 96.0 cov 100.0 nov 0.954 ser 0.213 m1 0.926 m10 0.85 price 2.733 sum 5.814\n"
     ]
    },
    {
     "name": "stderr",
     "output_type": "stream",
     "text": [
      "\u001b[32m[I 2023-05-12 13:41:52,614]\u001b[0m Trial 373 finished with value: 5.531969566812198 and parameters: {'svd': 0.6000000000000001, 'lfm_cos': 0.5, 'nn_bias': 0.10000000000000009, 'catboost': -0.6, 'knn': 0.0, 'quality': -0.09999999999999998, 'volume': 0.6000000000000001}. Best is trial 360 with value: 5.86264772102292.\u001b[0m\n"
     ]
    },
    {
     "name": "stdout",
     "output_type": "stream",
     "text": [
      "time 2.642 cat_cov 99.0 cov 100.0 nov 0.693 ser 0.219 m1 0.876 m10 0.774 price 2.939 sum 5.532\n"
     ]
    },
    {
     "name": "stderr",
     "output_type": "stream",
     "text": [
      "\u001b[32m[I 2023-05-12 13:41:55,261]\u001b[0m Trial 374 finished with value: 5.788199030107863 and parameters: {'svd': 0.6000000000000001, 'lfm_cos': 0.10000000000000009, 'nn_bias': 0.10000000000000009, 'catboost': -0.7, 'knn': 0.0, 'quality': 0.0, 'volume': 0.6000000000000001}. Best is trial 360 with value: 5.86264772102292.\u001b[0m\n"
     ]
    },
    {
     "name": "stdout",
     "output_type": "stream",
     "text": [
      "time 2.616 cat_cov 99.0 cov 100.0 nov 0.837 ser 0.22 m1 0.931 m10 0.853 price 2.872 sum 5.788\n"
     ]
    },
    {
     "name": "stderr",
     "output_type": "stream",
     "text": [
      "\u001b[32m[I 2023-05-12 13:41:57,936]\u001b[0m Trial 375 finished with value: 5.726046614356296 and parameters: {'svd': 0.6000000000000001, 'lfm_cos': 0.20000000000000018, 'nn_bias': 0.10000000000000009, 'catboost': -0.6, 'knn': 0.0, 'quality': -0.09999999999999998, 'volume': 0.5}. Best is trial 360 with value: 5.86264772102292.\u001b[0m\n"
     ]
    },
    {
     "name": "stdout",
     "output_type": "stream",
     "text": [
      "time 2.645 cat_cov 100.0 cov 100.0 nov 0.762 ser 0.221 m1 0.931 m10 0.849 price 2.889 sum 5.726\n"
     ]
    },
    {
     "name": "stderr",
     "output_type": "stream",
     "text": [
      "\u001b[32m[I 2023-05-12 13:42:00,626]\u001b[0m Trial 376 finished with value: 5.796928901190475 and parameters: {'svd': 0.7000000000000002, 'lfm_cos': 0.0, 'nn_bias': 0.10000000000000009, 'catboost': -0.7, 'knn': 0.0, 'quality': -0.09999999999999998, 'volume': 0.6000000000000001}. Best is trial 360 with value: 5.86264772102292.\u001b[0m\n"
     ]
    },
    {
     "name": "stdout",
     "output_type": "stream",
     "text": [
      "time 2.66 cat_cov 96.0 cov 100.0 nov 0.931 ser 0.212 m1 0.929 m10 0.851 price 2.743 sum 5.797\n"
     ]
    },
    {
     "name": "stderr",
     "output_type": "stream",
     "text": [
      "\u001b[32m[I 2023-05-12 13:42:03,315]\u001b[0m Trial 377 finished with value: 5.82548432803435 and parameters: {'svd': 0.5, 'lfm_cos': 0.0, 'nn_bias': 0.10000000000000009, 'catboost': -0.6, 'knn': 0.0, 'quality': 0.0, 'volume': 0.7000000000000002}. Best is trial 360 with value: 5.86264772102292.\u001b[0m\n"
     ]
    },
    {
     "name": "stdout",
     "output_type": "stream",
     "text": [
      "time 2.659 cat_cov 97.0 cov 100.0 nov 0.943 ser 0.213 m1 0.924 m10 0.849 price 2.779 sum 5.825\n"
     ]
    },
    {
     "name": "stderr",
     "output_type": "stream",
     "text": [
      "\u001b[32m[I 2023-05-12 13:42:06,009]\u001b[0m Trial 378 finished with value: 5.752326157243639 and parameters: {'svd': 0.6000000000000001, 'lfm_cos': 0.10000000000000009, 'nn_bias': 0.10000000000000009, 'catboost': -0.7, 'knn': 0.0, 'quality': -0.09999999999999998, 'volume': 0.5}. Best is trial 360 with value: 5.86264772102292.\u001b[0m\n"
     ]
    },
    {
     "name": "stdout",
     "output_type": "stream",
     "text": [
      "time 2.665 cat_cov 96.0 cov 100.0 nov 0.844 ser 0.219 m1 0.93 m10 0.853 price 2.836 sum 5.752\n"
     ]
    },
    {
     "name": "stderr",
     "output_type": "stream",
     "text": [
      "\u001b[32m[I 2023-05-12 13:42:08,726]\u001b[0m Trial 379 finished with value: 5.8369289011904755 and parameters: {'svd': 0.7000000000000002, 'lfm_cos': 0.0, 'nn_bias': 0.10000000000000009, 'catboost': -0.7, 'knn': 0.0, 'quality': -0.09999999999999998, 'volume': 0.6000000000000001}. Best is trial 360 with value: 5.86264772102292.\u001b[0m\n"
     ]
    },
    {
     "name": "stdout",
     "output_type": "stream",
     "text": [
      "time 2.686 cat_cov 100.0 cov 100.0 nov 0.931 ser 0.212 m1 0.929 m10 0.851 price 2.743 sum 5.837\n"
     ]
    },
    {
     "name": "stderr",
     "output_type": "stream",
     "text": [
      "\u001b[32m[I 2023-05-12 13:42:11,426]\u001b[0m Trial 380 finished with value: 5.825603796446687 and parameters: {'svd': 0.7000000000000002, 'lfm_cos': -0.09999999999999998, 'nn_bias': 0.10000000000000009, 'catboost': -0.7, 'knn': 0.0, 'quality': -0.09999999999999998, 'volume': 0.6000000000000001}. Best is trial 360 with value: 5.86264772102292.\u001b[0m\n"
     ]
    },
    {
     "name": "stdout",
     "output_type": "stream",
     "text": [
      "time 2.669 cat_cov 100.0 cov 100.0 nov 0.964 ser 0.209 m1 0.92 m10 0.846 price 2.66 sum 5.826\n"
     ]
    },
    {
     "name": "stderr",
     "output_type": "stream",
     "text": [
      "\u001b[32m[I 2023-05-12 13:42:14,144]\u001b[0m Trial 381 finished with value: 5.844934688595653 and parameters: {'svd': 0.6000000000000001, 'lfm_cos': 0.0, 'nn_bias': 0.10000000000000009, 'catboost': -0.7, 'knn': 0.0, 'quality': 0.0, 'volume': 0.6000000000000001}. Best is trial 360 with value: 5.86264772102292.\u001b[0m\n"
     ]
    },
    {
     "name": "stdout",
     "output_type": "stream",
     "text": [
      "time 2.687 cat_cov 99.0 cov 100.0 nov 0.946 ser 0.213 m1 0.926 m10 0.85 price 2.761 sum 5.845\n"
     ]
    },
    {
     "name": "stderr",
     "output_type": "stream",
     "text": [
      "\u001b[32m[I 2023-05-12 13:42:16,844]\u001b[0m Trial 382 finished with value: 5.834934688595651 and parameters: {'svd': 0.6000000000000001, 'lfm_cos': 0.0, 'nn_bias': 0.10000000000000009, 'catboost': -0.7, 'knn': 0.0, 'quality': 0.0, 'volume': 0.6000000000000001}. Best is trial 360 with value: 5.86264772102292.\u001b[0m\n"
     ]
    },
    {
     "name": "stdout",
     "output_type": "stream",
     "text": [
      "time 2.669 cat_cov 98.0 cov 100.0 nov 0.946 ser 0.213 m1 0.926 m10 0.85 price 2.761 sum 5.835\n"
     ]
    },
    {
     "name": "stderr",
     "output_type": "stream",
     "text": [
      "\u001b[32m[I 2023-05-12 13:42:19,509]\u001b[0m Trial 383 finished with value: 5.768199030107864 and parameters: {'svd': 0.6000000000000001, 'lfm_cos': 0.10000000000000009, 'nn_bias': 0.10000000000000009, 'catboost': -0.7, 'knn': 0.0, 'quality': 0.0, 'volume': 0.6000000000000001}. Best is trial 360 with value: 5.86264772102292.\u001b[0m\n"
     ]
    },
    {
     "name": "stdout",
     "output_type": "stream",
     "text": [
      "time 2.636 cat_cov 97.0 cov 100.0 nov 0.837 ser 0.22 m1 0.931 m10 0.853 price 2.872 sum 5.768\n"
     ]
    },
    {
     "name": "stderr",
     "output_type": "stream",
     "text": [
      "\u001b[32m[I 2023-05-12 13:42:22,094]\u001b[0m Trial 384 finished with value: 4.142128958281784 and parameters: {'svd': -0.9, 'lfm_cos': 0.0, 'nn_bias': 0.10000000000000009, 'catboost': -0.7, 'knn': 0.0, 'quality': 0.0, 'volume': 0.5}. Best is trial 360 with value: 5.86264772102292.\u001b[0m\n"
     ]
    },
    {
     "name": "stdout",
     "output_type": "stream",
     "text": [
      "time 2.554 cat_cov 89.0 cov 100.0 nov 0.947 ser 0.146 m1 0.081 m10 0.208 price 2.607 sum 4.142\n"
     ]
    },
    {
     "name": "stderr",
     "output_type": "stream",
     "text": [
      "\u001b[32m[I 2023-05-12 13:42:24,701]\u001b[0m Trial 385 finished with value: 4.2063204531708696 and parameters: {'svd': -0.09999999999999998, 'lfm_cos': 0.0, 'nn_bias': 0.10000000000000009, 'catboost': -0.7, 'knn': 0.0, 'quality': 0.0, 'volume': 0.6000000000000001}. Best is trial 360 with value: 5.86264772102292.\u001b[0m\n"
     ]
    },
    {
     "name": "stdout",
     "output_type": "stream",
     "text": [
      "time 2.577 cat_cov 88.0 cov 100.0 nov 0.957 ser 0.155 m1 0.087 m10 0.228 price 2.699 sum 4.206\n"
     ]
    },
    {
     "name": "stderr",
     "output_type": "stream",
     "text": [
      "\u001b[32m[I 2023-05-12 13:42:27,393]\u001b[0m Trial 386 finished with value: 5.743890564789337 and parameters: {'svd': 0.6000000000000001, 'lfm_cos': 0.10000000000000009, 'nn_bias': 0.10000000000000009, 'catboost': -0.6, 'knn': 0.10000000000000009, 'quality': 0.0, 'volume': 0.6000000000000001}. Best is trial 360 with value: 5.86264772102292.\u001b[0m\n"
     ]
    },
    {
     "name": "stdout",
     "output_type": "stream",
     "text": [
      "time 2.661 cat_cov 98.0 cov 100.0 nov 0.827 ser 0.214 m1 0.926 m10 0.854 price 2.828 sum 5.744\n"
     ]
    },
    {
     "name": "stderr",
     "output_type": "stream",
     "text": [
      "\u001b[32m[I 2023-05-12 13:42:30,122]\u001b[0m Trial 387 finished with value: 5.845821496868173 and parameters: {'svd': 0.6000000000000001, 'lfm_cos': 0.0, 'nn_bias': 0.10000000000000009, 'catboost': -0.7, 'knn': 0.0, 'quality': -0.09999999999999998, 'volume': 0.5}. Best is trial 360 with value: 5.86264772102292.\u001b[0m\n"
     ]
    },
    {
     "name": "stdout",
     "output_type": "stream",
     "text": [
      "time 2.698 cat_cov 99.0 cov 100.0 nov 0.954 ser 0.213 m1 0.926 m10 0.85 price 2.739 sum 5.846\n"
     ]
    },
    {
     "name": "stderr",
     "output_type": "stream",
     "text": [
      "\u001b[32m[I 2023-05-12 13:42:32,827]\u001b[0m Trial 388 finished with value: 5.825821496868173 and parameters: {'svd': 0.6000000000000001, 'lfm_cos': 0.0, 'nn_bias': 0.10000000000000009, 'catboost': -0.7, 'knn': 0.0, 'quality': -0.09999999999999998, 'volume': 0.5}. Best is trial 360 with value: 5.86264772102292.\u001b[0m\n"
     ]
    },
    {
     "name": "stdout",
     "output_type": "stream",
     "text": [
      "time 2.674 cat_cov 97.0 cov 100.0 nov 0.954 ser 0.213 m1 0.926 m10 0.85 price 2.739 sum 5.826\n"
     ]
    },
    {
     "name": "stderr",
     "output_type": "stream",
     "text": [
      "\u001b[32m[I 2023-05-12 13:42:35,542]\u001b[0m Trial 389 finished with value: 5.528377357573136 and parameters: {'svd': 0.6000000000000001, 'lfm_cos': 0.10000000000000009, 'nn_bias': 0.10000000000000009, 'catboost': -0.7, 'knn': 0.5, 'quality': -0.09999999999999998, 'volume': 0.5}. Best is trial 360 with value: 5.86264772102292.\u001b[0m\n"
     ]
    },
    {
     "name": "stdout",
     "output_type": "stream",
     "text": [
      "time 2.684 cat_cov 96.0 cov 100.0 nov 0.863 ser 0.198 m1 0.816 m10 0.813 price 2.634 sum 5.528\n"
     ]
    },
    {
     "name": "stderr",
     "output_type": "stream",
     "text": [
      "\u001b[32m[I 2023-05-12 13:42:38,245]\u001b[0m Trial 390 finished with value: 5.815871292390697 and parameters: {'svd': 0.6000000000000001, 'lfm_cos': 0.0, 'nn_bias': 0.10000000000000009, 'catboost': -0.6, 'knn': 0.0, 'quality': -0.09999999999999998, 'volume': 0.6000000000000001}. Best is trial 360 with value: 5.86264772102292.\u001b[0m\n"
     ]
    },
    {
     "name": "stdout",
     "output_type": "stream",
     "text": [
      "time 2.673 cat_cov 98.0 cov 100.0 nov 0.933 ser 0.211 m1 0.928 m10 0.85 price 2.74 sum 5.816\n"
     ]
    },
    {
     "name": "stderr",
     "output_type": "stream",
     "text": [
      "\u001b[32m[I 2023-05-12 13:42:40,949]\u001b[0m Trial 391 finished with value: 5.796638211759344 and parameters: {'svd': 0.5, 'lfm_cos': 0.0, 'nn_bias': 0.10000000000000009, 'catboost': -0.7, 'knn': 0.10000000000000009, 'quality': 0.10000000000000009, 'volume': 0.6000000000000001}. Best is trial 360 with value: 5.86264772102292.\u001b[0m\n"
     ]
    },
    {
     "name": "stdout",
     "output_type": "stream",
     "text": [
      "time 2.673 cat_cov 96.0 cov 100.0 nov 0.974 ser 0.211 m1 0.91 m10 0.843 price 2.697 sum 5.797\n"
     ]
    },
    {
     "name": "stderr",
     "output_type": "stream",
     "text": [
      "\u001b[32m[I 2023-05-12 13:42:43,622]\u001b[0m Trial 392 finished with value: 5.780683954918601 and parameters: {'svd': 0.6000000000000001, 'lfm_cos': 0.10000000000000009, 'nn_bias': 0.10000000000000009, 'catboost': -0.7, 'knn': 0.0, 'quality': 0.0, 'volume': 0.7000000000000002}. Best is trial 360 with value: 5.86264772102292.\u001b[0m\n"
     ]
    },
    {
     "name": "stdout",
     "output_type": "stream",
     "text": [
      "time 2.643 cat_cov 98.0 cov 100.0 nov 0.831 ser 0.22 m1 0.931 m10 0.853 price 2.895 sum 5.781\n"
     ]
    },
    {
     "name": "stderr",
     "output_type": "stream",
     "text": [
      "\u001b[32m[I 2023-05-12 13:42:46,289]\u001b[0m Trial 393 finished with value: 5.8147933813097366 and parameters: {'svd': 0.5, 'lfm_cos': 0.0, 'nn_bias': 0.0, 'catboost': -0.6, 'knn': 0.0, 'quality': -0.09999999999999998, 'volume': 0.5}. Best is trial 360 with value: 5.86264772102292.\u001b[0m\n"
     ]
    },
    {
     "name": "stdout",
     "output_type": "stream",
     "text": [
      "time 2.636 cat_cov 99.0 cov 100.0 nov 0.777 ser 0.221 m1 0.928 m10 0.846 price 3.155 sum 5.815\n"
     ]
    },
    {
     "name": "stderr",
     "output_type": "stream",
     "text": [
      "\u001b[32m[I 2023-05-12 13:42:48,987]\u001b[0m Trial 394 finished with value: 5.819751849898845 and parameters: {'svd': 0.5, 'lfm_cos': 0.0, 'nn_bias': 0.10000000000000009, 'catboost': -0.7, 'knn': 0.10000000000000009, 'quality': 0.0, 'volume': 0.7000000000000002}. Best is trial 360 with value: 5.86264772102292.\u001b[0m\n"
     ]
    },
    {
     "name": "stdout",
     "output_type": "stream",
     "text": [
      "time 2.668 cat_cov 98.0 cov 100.0 nov 0.969 ser 0.211 m1 0.911 m10 0.844 price 2.715 sum 5.82\n"
     ]
    },
    {
     "name": "stderr",
     "output_type": "stream",
     "text": [
      "\u001b[32m[I 2023-05-12 13:42:51,658]\u001b[0m Trial 395 finished with value: 5.827454981906706 and parameters: {'svd': 0.6000000000000001, 'lfm_cos': 0.0, 'nn_bias': 0.10000000000000009, 'catboost': -0.7, 'knn': 0.0, 'quality': -0.09999999999999998, 'volume': 0.6000000000000001}. Best is trial 360 with value: 5.86264772102292.\u001b[0m\n"
     ]
    },
    {
     "name": "stdout",
     "output_type": "stream",
     "text": [
      "time 2.639 cat_cov 97.0 cov 100.0 nov 0.948 ser 0.213 m1 0.926 m10 0.85 price 2.759 sum 5.827\n"
     ]
    },
    {
     "name": "stderr",
     "output_type": "stream",
     "text": [
      "\u001b[32m[I 2023-05-12 13:42:54,324]\u001b[0m Trial 396 finished with value: 5.7291895230411605 and parameters: {'svd': 0.6000000000000001, 'lfm_cos': 0.10000000000000009, 'nn_bias': 0.0, 'catboost': -0.6, 'knn': 0.10000000000000009, 'quality': -0.09999999999999998, 'volume': 0.6000000000000001}. Best is trial 360 with value: 5.86264772102292.\u001b[0m\n"
     ]
    },
    {
     "name": "stdout",
     "output_type": "stream",
     "text": [
      "time 2.636 cat_cov 99.0 cov 100.0 nov 0.771 ser 0.219 m1 0.934 m10 0.852 price 2.891 sum 5.729\n"
     ]
    },
    {
     "name": "stderr",
     "output_type": "stream",
     "text": [
      "\u001b[32m[I 2023-05-12 13:42:57,701]\u001b[0m Trial 397 finished with value: 5.829235133569403 and parameters: {'svd': 0.6000000000000001, 'lfm_cos': 0.0, 'nn_bias': 0.10000000000000009, 'catboost': -0.8, 'knn': 0.0, 'quality': -0.19999999999999996, 'volume': 0.7000000000000002}. Best is trial 360 with value: 5.86264772102292.\u001b[0m\n"
     ]
    },
    {
     "name": "stdout",
     "output_type": "stream",
     "text": [
      "time 3.343 cat_cov 96.0 cov 100.0 nov 0.955 ser 0.215 m1 0.923 m10 0.851 price 2.775 sum 5.829\n"
     ]
    },
    {
     "name": "stderr",
     "output_type": "stream",
     "text": [
      "\u001b[32m[I 2023-05-12 13:43:00,419]\u001b[0m Trial 398 finished with value: 5.801639257100401 and parameters: {'svd': 0.5, 'lfm_cos': 0.0, 'nn_bias': 0.0, 'catboost': -0.7, 'knn': 0.10000000000000009, 'quality': 0.0, 'volume': 0.40000000000000013}. Best is trial 360 with value: 5.86264772102292.\u001b[0m\n"
     ]
    },
    {
     "name": "stdout",
     "output_type": "stream",
     "text": [
      "time 2.688 cat_cov 96.0 cov 100.0 nov 0.881 ser 0.217 m1 0.923 m10 0.844 price 2.93 sum 5.802\n"
     ]
    },
    {
     "name": "stderr",
     "output_type": "stream",
     "text": [
      "\u001b[32m[I 2023-05-12 13:43:03,102]\u001b[0m Trial 399 finished with value: 5.781109662049113 and parameters: {'svd': 0.7000000000000002, 'lfm_cos': 0.10000000000000009, 'nn_bias': 0.10000000000000009, 'catboost': -0.7, 'knn': 0.0, 'quality': 0.10000000000000009, 'volume': 0.5}. Best is trial 360 with value: 5.86264772102292.\u001b[0m\n"
     ]
    },
    {
     "name": "stdout",
     "output_type": "stream",
     "text": [
      "time 2.652 cat_cov 99.0 cov 100.0 nov 0.831 ser 0.218 m1 0.934 m10 0.854 price 2.863 sum 5.781\n"
     ]
    },
    {
     "name": "stderr",
     "output_type": "stream",
     "text": [
      "\u001b[32m[I 2023-05-12 13:43:05,784]\u001b[0m Trial 400 finished with value: 5.793191872461247 and parameters: {'svd': 0.5, 'lfm_cos': 0.10000000000000009, 'nn_bias': 0.20000000000000018, 'catboost': -0.7, 'knn': 0.0, 'quality': 0.0, 'volume': 0.7000000000000002}. Best is trial 360 with value: 5.86264772102292.\u001b[0m\n"
     ]
    },
    {
     "name": "stdout",
     "output_type": "stream",
     "text": [
      "time 2.651 cat_cov 99.0 cov 100.0 nov 0.915 ser 0.215 m1 0.908 m10 0.838 price 2.782 sum 5.793\n"
     ]
    },
    {
     "name": "stderr",
     "output_type": "stream",
     "text": [
      "\u001b[32m[I 2023-05-12 13:43:08,392]\u001b[0m Trial 401 finished with value: 4.225687000682105 and parameters: {'svd': -0.29999999999999993, 'lfm_cos': 0.20000000000000018, 'nn_bias': 0.10000000000000009, 'catboost': -0.6, 'knn': 0.0, 'quality': -0.19999999999999996, 'volume': 0.6000000000000001}. Best is trial 360 with value: 5.86264772102292.\u001b[0m\n"
     ]
    },
    {
     "name": "stdout",
     "output_type": "stream",
     "text": [
      "time 2.578 cat_cov 91.0 cov 100.0 nov 0.895 ser 0.159 m1 0.13 m10 0.257 price 2.623 sum 4.226\n"
     ]
    },
    {
     "name": "stderr",
     "output_type": "stream",
     "text": [
      "\u001b[32m[I 2023-05-12 13:43:11,090]\u001b[0m Trial 402 finished with value: 5.80386666991477 and parameters: {'svd': 0.7000000000000002, 'lfm_cos': 0.0, 'nn_bias': 0.10000000000000009, 'catboost': -0.8, 'knn': 0.10000000000000009, 'quality': -0.09999999999999998, 'volume': -0.09999999999999998}. Best is trial 360 with value: 5.86264772102292.\u001b[0m\n"
     ]
    },
    {
     "name": "stdout",
     "output_type": "stream",
     "text": [
      "time 2.667 cat_cov 99.0 cov 100.0 nov 0.982 ser 0.209 m1 0.919 m10 0.848 price 2.567 sum 5.804\n"
     ]
    },
    {
     "name": "stderr",
     "output_type": "stream",
     "text": [
      "\u001b[32m[I 2023-05-12 13:43:13,804]\u001b[0m Trial 403 finished with value: 5.707824495640802 and parameters: {'svd': 0.6000000000000001, 'lfm_cos': -0.09999999999999998, 'nn_bias': 0.0, 'catboost': -0.7, 'knn': 0.30000000000000004, 'quality': -0.09999999999999998, 'volume': 0.7000000000000002}. Best is trial 360 with value: 5.86264772102292.\u001b[0m\n"
     ]
    },
    {
     "name": "stdout",
     "output_type": "stream",
     "text": [
      "time 2.682 cat_cov 99.0 cov 100.0 nov 0.922 ser 0.203 m1 0.883 m10 0.825 price 2.651 sum 5.708\n"
     ]
    },
    {
     "name": "stderr",
     "output_type": "stream",
     "text": [
      "\u001b[32m[I 2023-05-12 13:43:16,478]\u001b[0m Trial 404 finished with value: 5.460494571868148 and parameters: {'svd': 0.10000000000000009, 'lfm_cos': 0.0, 'nn_bias': 0.10000000000000009, 'catboost': -0.8, 'knn': 0.0, 'quality': -0.09999999999999998, 'volume': 0.6000000000000001}. Best is trial 360 with value: 5.86264772102292.\u001b[0m\n"
     ]
    },
    {
     "name": "stdout",
     "output_type": "stream",
     "text": [
      "time 2.645 cat_cov 90.0 cov 100.0 nov 0.979 ser 0.213 m1 0.717 m10 0.704 price 2.845 sum 5.46\n"
     ]
    },
    {
     "name": "stderr",
     "output_type": "stream",
     "text": [
      "\u001b[32m[I 2023-05-12 13:43:19,209]\u001b[0m Trial 405 finished with value: 5.76869683579805 and parameters: {'svd': 0.7000000000000002, 'lfm_cos': 0.0, 'nn_bias': 0.20000000000000018, 'catboost': -0.6, 'knn': 0.10000000000000009, 'quality': -0.19999999999999996, 'volume': 0.5}. Best is trial 360 with value: 5.86264772102292.\u001b[0m\n"
     ]
    },
    {
     "name": "stdout",
     "output_type": "stream",
     "text": [
      "time 2.699 cat_cov 100.0 cov 100.0 nov 0.929 ser 0.204 m1 0.911 m10 0.85 price 2.626 sum 5.769\n"
     ]
    },
    {
     "name": "stderr",
     "output_type": "stream",
     "text": [
      "\u001b[32m[I 2023-05-12 13:43:21,931]\u001b[0m Trial 406 finished with value: 5.8277551054517645 and parameters: {'svd': 0.6000000000000001, 'lfm_cos': -0.09999999999999998, 'nn_bias': 0.0, 'catboost': -0.7, 'knn': 0.0, 'quality': 0.0, 'volume': 0.7000000000000002}. Best is trial 360 with value: 5.86264772102292.\u001b[0m\n"
     ]
    },
    {
     "name": "stdout",
     "output_type": "stream",
     "text": [
      "time 2.689 cat_cov 98.0 cov 100.0 nov 0.926 ser 0.212 m1 0.922 m10 0.847 price 2.821 sum 5.828\n"
     ]
    },
    {
     "name": "stderr",
     "output_type": "stream",
     "text": [
      "\u001b[32m[I 2023-05-12 13:43:24,639]\u001b[0m Trial 407 finished with value: 5.852647721022921 and parameters: {'svd': 0.5, 'lfm_cos': 0.0, 'nn_bias': 0.10000000000000009, 'catboost': -0.7, 'knn': 0.0, 'quality': -0.09999999999999998, 'volume': 0.7000000000000002}. Best is trial 360 with value: 5.86264772102292.\u001b[0m\n"
     ]
    },
    {
     "name": "stdout",
     "output_type": "stream",
     "text": [
      "time 2.676 cat_cov 98.0 cov 100.0 nov 0.958 ser 0.215 m1 0.922 m10 0.849 price 2.786 sum 5.853\n"
     ]
    },
    {
     "name": "stderr",
     "output_type": "stream",
     "text": [
      "\u001b[32m[I 2023-05-12 13:43:27,346]\u001b[0m Trial 408 finished with value: 5.823982607117594 and parameters: {'svd': 0.5, 'lfm_cos': 0.0, 'nn_bias': 0.10000000000000009, 'catboost': -0.8, 'knn': 0.10000000000000009, 'quality': -0.19999999999999996, 'volume': 0.6000000000000001}. Best is trial 360 with value: 5.86264772102292.\u001b[0m\n"
     ]
    },
    {
     "name": "stdout",
     "output_type": "stream",
     "text": [
      "time 2.676 cat_cov 97.0 cov 100.0 nov 0.99 ser 0.213 m1 0.909 m10 0.844 price 2.693 sum 5.824\n"
     ]
    },
    {
     "name": "stderr",
     "output_type": "stream",
     "text": [
      "\u001b[32m[I 2023-05-12 13:43:30,034]\u001b[0m Trial 409 finished with value: 5.6921523508493035 and parameters: {'svd': 0.40000000000000013, 'lfm_cos': 0.10000000000000009, 'nn_bias': 0.0, 'catboost': -0.7, 'knn': -0.09999999999999998, 'quality': -0.09999999999999998, 'volume': 0.6000000000000001}. Best is trial 360 with value: 5.86264772102292.\u001b[0m\n"
     ]
    },
    {
     "name": "stdout",
     "output_type": "stream",
     "text": [
      "time 2.657 cat_cov 94.0 cov 100.0 nov 0.756 ser 0.228 m1 0.925 m10 0.843 price 3.001 sum 5.692\n"
     ]
    },
    {
     "name": "stderr",
     "output_type": "stream",
     "text": [
      "\u001b[32m[I 2023-05-12 13:43:32,780]\u001b[0m Trial 410 finished with value: 5.7807519648309125 and parameters: {'svd': 0.6000000000000001, 'lfm_cos': -0.09999999999999998, 'nn_bias': 0.20000000000000018, 'catboost': -0.6, 'knn': 0.0, 'quality': 0.10000000000000009, 'volume': 0.5}. Best is trial 360 with value: 5.86264772102292.\u001b[0m\n"
     ]
    },
    {
     "name": "stdout",
     "output_type": "stream",
     "text": [
      "time 2.716 cat_cov 100.0 cov 100.0 nov 0.967 ser 0.205 m1 0.9 m10 0.831 price 2.632 sum 5.781\n"
     ]
    },
    {
     "name": "stderr",
     "output_type": "stream",
     "text": [
      "\u001b[32m[I 2023-05-12 13:43:35,475]\u001b[0m Trial 411 finished with value: 5.807148683548103 and parameters: {'svd': 0.7000000000000002, 'lfm_cos': 0.0, 'nn_bias': 0.10000000000000009, 'catboost': -0.8, 'knn': 0.10000000000000009, 'quality': 0.0, 'volume': 0.7000000000000002}. Best is trial 360 with value: 5.86264772102292.\u001b[0m\n"
     ]
    },
    {
     "name": "stdout",
     "output_type": "stream",
     "text": [
      "time 2.664 cat_cov 98.0 cov 100.0 nov 0.945 ser 0.21 m1 0.922 m10 0.848 price 2.709 sum 5.807\n"
     ]
    },
    {
     "name": "stderr",
     "output_type": "stream",
     "text": [
      "\u001b[32m[I 2023-05-12 13:43:38,199]\u001b[0m Trial 412 finished with value: 5.806245765581367 and parameters: {'svd': 0.7000000000000002, 'lfm_cos': -0.09999999999999998, 'nn_bias': 0.10000000000000009, 'catboost': -0.7, 'knn': 0.0, 'quality': -0.19999999999999996, 'volume': 0.6000000000000001}. Best is trial 360 with value: 5.86264772102292.\u001b[0m\n"
     ]
    },
    {
     "name": "stdout",
     "output_type": "stream",
     "text": [
      "time 2.692 cat_cov 98.0 cov 100.0 nov 0.965 ser 0.209 m1 0.92 m10 0.846 price 2.659 sum 5.806\n"
     ]
    },
    {
     "name": "stderr",
     "output_type": "stream",
     "text": [
      "\u001b[32m[I 2023-05-12 13:43:40,906]\u001b[0m Trial 413 finished with value: 5.75155210226858 and parameters: {'svd': 0.5, 'lfm_cos': 0.0, 'nn_bias': 0.20000000000000018, 'catboost': -0.8, 'knn': 0.20000000000000018, 'quality': -0.09999999999999998, 'volume': 0.6000000000000001}. Best is trial 360 with value: 5.86264772102292.\u001b[0m\n"
     ]
    },
    {
     "name": "stdout",
     "output_type": "stream",
     "text": [
      "time 2.675 cat_cov 100.0 cov 100.0 nov 1.004 ser 0.207 m1 0.859 m10 0.813 price 2.607 sum 5.752\n"
     ]
    },
    {
     "name": "stderr",
     "output_type": "stream",
     "text": [
      "\u001b[32m[I 2023-05-12 13:43:43,545]\u001b[0m Trial 414 finished with value: 5.684645014207673 and parameters: {'svd': 0.6000000000000001, 'lfm_cos': 0.10000000000000009, 'nn_bias': -0.6, 'catboost': -0.7, 'knn': 0.0, 'quality': -0.09999999999999998, 'volume': 0.5}. Best is trial 360 with value: 5.86264772102292.\u001b[0m\n"
     ]
    },
    {
     "name": "stdout",
     "output_type": "stream",
     "text": [
      "time 2.606 cat_cov 98.0 cov 100.0 nov 0.749 ser 0.223 m1 0.918 m10 0.831 price 2.95 sum 5.685\n"
     ]
    },
    {
     "name": "stderr",
     "output_type": "stream",
     "text": [
      "\u001b[32m[I 2023-05-12 13:43:46,255]\u001b[0m Trial 415 finished with value: 5.7806491559962 and parameters: {'svd': 0.7000000000000002, 'lfm_cos': 0.0, 'nn_bias': 0.0, 'catboost': -0.6, 'knn': 0.10000000000000009, 'quality': -0.19999999999999996, 'volume': 0.7000000000000002}. Best is trial 360 with value: 5.86264772102292.\u001b[0m\n"
     ]
    },
    {
     "name": "stdout",
     "output_type": "stream",
     "text": [
      "time 2.68 cat_cov 99.0 cov 100.0 nov 0.838 ser 0.211 m1 0.933 m10 0.853 price 2.87 sum 5.781\n"
     ]
    },
    {
     "name": "stderr",
     "output_type": "stream",
     "text": [
      "\u001b[32m[I 2023-05-12 13:43:48,950]\u001b[0m Trial 416 finished with value: 5.837876964204344 and parameters: {'svd': 0.6000000000000001, 'lfm_cos': -0.09999999999999998, 'nn_bias': 0.10000000000000009, 'catboost': -0.7, 'knn': -0.09999999999999998, 'quality': -0.19999999999999996, 'volume': 0.7000000000000002}. Best is trial 360 with value: 5.86264772102292.\u001b[0m\n"
     ]
    },
    {
     "name": "stdout",
     "output_type": "stream",
     "text": [
      "time 2.664 cat_cov 99.0 cov 100.0 nov 0.977 ser 0.212 m1 0.915 m10 0.844 price 2.699 sum 5.838\n"
     ]
    },
    {
     "name": "stderr",
     "output_type": "stream",
     "text": [
      "\u001b[32m[I 2023-05-12 13:43:51,675]\u001b[0m Trial 417 finished with value: 4.95262254330924 and parameters: {'svd': 0.6000000000000001, 'lfm_cos': -0.09999999999999998, 'nn_bias': 0.10000000000000009, 'catboost': -0.7, 'knn': 1.0, 'quality': -0.19999999999999996, 'volume': 0.7000000000000002}. Best is trial 360 with value: 5.86264772102292.\u001b[0m\n"
     ]
    },
    {
     "name": "stdout",
     "output_type": "stream",
     "text": [
      "time 2.694 cat_cov 93.0 cov 100.0 nov 0.821 ser 0.17 m1 0.514 m10 0.669 price 2.544 sum 4.953\n"
     ]
    },
    {
     "name": "stderr",
     "output_type": "stream",
     "text": [
      "\u001b[32m[I 2023-05-12 13:43:54,389]\u001b[0m Trial 418 finished with value: 4.867435764184694 and parameters: {'svd': 0.6000000000000001, 'lfm_cos': -0.09999999999999998, 'nn_bias': 0.9000000000000001, 'catboost': -0.6, 'knn': -0.09999999999999998, 'quality': -0.19999999999999996, 'volume': 0.7000000000000002}. Best is trial 360 with value: 5.86264772102292.\u001b[0m\n"
     ]
    },
    {
     "name": "stdout",
     "output_type": "stream",
     "text": [
      "time 2.681 cat_cov 96.0 cov 100.0 nov 0.947 ser 0.182 m1 0.379 m10 0.537 price 2.587 sum 4.867\n"
     ]
    },
    {
     "name": "stderr",
     "output_type": "stream",
     "text": [
      "\u001b[32m[I 2023-05-12 13:43:57,100]\u001b[0m Trial 419 finished with value: 5.753977983864175 and parameters: {'svd': 0.5, 'lfm_cos': -0.09999999999999998, 'nn_bias': 0.20000000000000018, 'catboost': -0.7, 'knn': 0.0, 'quality': -0.09999999999999998, 'volume': 0.40000000000000013}. Best is trial 360 with value: 5.86264772102292.\u001b[0m\n"
     ]
    },
    {
     "name": "stdout",
     "output_type": "stream",
     "text": [
      "time 2.673 cat_cov 96.0 cov 100.0 nov 1.015 ser 0.207 m1 0.884 m10 0.818 price 2.608 sum 5.754\n"
     ]
    },
    {
     "name": "stderr",
     "output_type": "stream",
     "text": [
      "\u001b[32m[I 2023-05-12 13:43:59,821]\u001b[0m Trial 420 finished with value: 5.801772974589122 and parameters: {'svd': 0.7000000000000002, 'lfm_cos': -0.09999999999999998, 'nn_bias': 0.0, 'catboost': -0.8, 'knn': 0.10000000000000009, 'quality': 0.0, 'volume': 0.6000000000000001}. Best is trial 360 with value: 5.86264772102292.\u001b[0m\n"
     ]
    },
    {
     "name": "stdout",
     "output_type": "stream",
     "text": [
      "time 2.689 cat_cov 98.0 cov 100.0 nov 0.945 ser 0.209 m1 0.92 m10 0.844 price 2.709 sum 5.802\n"
     ]
    },
    {
     "name": "stderr",
     "output_type": "stream",
     "text": [
      "\u001b[32m[I 2023-05-12 13:44:02,519]\u001b[0m Trial 421 finished with value: 5.817674796135141 and parameters: {'svd': 0.6000000000000001, 'lfm_cos': -0.09999999999999998, 'nn_bias': 0.20000000000000018, 'catboost': -0.7, 'knn': -0.09999999999999998, 'quality': -0.19999999999999996, 'volume': 0.6000000000000001}. Best is trial 360 with value: 5.86264772102292.\u001b[0m\n"
     ]
    },
    {
     "name": "stdout",
     "output_type": "stream",
     "text": [
      "time 2.667 cat_cov 100.0 cov 100.0 nov 0.989 ser 0.209 m1 0.903 m10 0.83 price 2.659 sum 5.818\n"
     ]
    },
    {
     "name": "stderr",
     "output_type": "stream",
     "text": [
      "\u001b[32m[I 2023-05-12 13:44:05,202]\u001b[0m Trial 422 finished with value: 5.791885027676003 and parameters: {'svd': 0.5, 'lfm_cos': 0.10000000000000009, 'nn_bias': 0.10000000000000009, 'catboost': -0.8, 'knn': 0.10000000000000009, 'quality': -0.09999999999999998, 'volume': 0.7000000000000002}. Best is trial 360 with value: 5.86264772102292.\u001b[0m\n"
     ]
    },
    {
     "name": "stdout",
     "output_type": "stream",
     "text": [
      "time 2.647 cat_cov 100.0 cov 100.0 nov 0.861 ser 0.22 m1 0.916 m10 0.846 price 2.848 sum 5.792\n"
     ]
    },
    {
     "name": "stderr",
     "output_type": "stream",
     "text": [
      "\u001b[32m[I 2023-05-12 13:44:07,921]\u001b[0m Trial 423 finished with value: 5.659305749723382 and parameters: {'svd': 0.6000000000000001, 'lfm_cos': 0.0, 'nn_bias': 0.0, 'catboost': -0.7, 'knn': 0.40000000000000013, 'quality': 0.0, 'volume': 0.7000000000000002}. Best is trial 360 with value: 5.86264772102292.\u001b[0m\n"
     ]
    },
    {
     "name": "stdout",
     "output_type": "stream",
     "text": [
      "time 2.688 cat_cov 99.0 cov 100.0 nov 0.886 ser 0.201 m1 0.867 m10 0.826 price 2.666 sum 5.659\n"
     ]
    },
    {
     "name": "stderr",
     "output_type": "stream",
     "text": [
      "\u001b[32m[I 2023-05-12 13:44:10,603]\u001b[0m Trial 424 finished with value: 5.698436027743569 and parameters: {'svd': 0.30000000000000004, 'lfm_cos': 0.0, 'nn_bias': 0.20000000000000018, 'catboost': -0.6, 'knn': 0.0, 'quality': -0.19999999999999996, 'volume': 0.5}. Best is trial 360 with value: 5.86264772102292.\u001b[0m\n"
     ]
    },
    {
     "name": "stdout",
     "output_type": "stream",
     "text": [
      "time 2.651 cat_cov 96.0 cov 100.0 nov 1.002 ser 0.21 m1 0.845 m10 0.787 price 2.684 sum 5.698\n"
     ]
    },
    {
     "name": "stderr",
     "output_type": "stream",
     "text": [
      "\u001b[32m[I 2023-05-12 13:44:13,289]\u001b[0m Trial 425 finished with value: 5.801453711859961 and parameters: {'svd': 0.6000000000000001, 'lfm_cos': -0.09999999999999998, 'nn_bias': 0.10000000000000009, 'catboost': -0.7, 'knn': 0.0, 'quality': -0.09999999999999998, 'volume': 0.7000000000000002}. Best is trial 360 with value: 5.86264772102292.\u001b[0m\n"
     ]
    },
    {
     "name": "stdout",
     "output_type": "stream",
     "text": [
      "time 2.655 cat_cov 96.0 cov 100.0 nov 0.983 ser 0.21 m1 0.916 m10 0.844 price 2.665 sum 5.801\n"
     ]
    },
    {
     "name": "stderr",
     "output_type": "stream",
     "text": [
      "\u001b[32m[I 2023-05-12 13:44:15,951]\u001b[0m Trial 426 finished with value: 5.791831728880075 and parameters: {'svd': 0.40000000000000013, 'lfm_cos': 0.0, 'nn_bias': 0.10000000000000009, 'catboost': -0.8, 'knn': -0.09999999999999998, 'quality': -0.19999999999999996, 'volume': 0.6000000000000001}. Best is trial 360 with value: 5.86264772102292.\u001b[0m\n"
     ]
    },
    {
     "name": "stdout",
     "output_type": "stream",
     "text": [
      "time 2.63 cat_cov 92.0 cov 100.0 nov 0.957 ser 0.218 m1 0.913 m10 0.845 price 2.817 sum 5.792\n"
     ]
    },
    {
     "name": "stderr",
     "output_type": "stream",
     "text": [
      "\u001b[32m[I 2023-05-12 13:44:18,615]\u001b[0m Trial 427 finished with value: 5.781877145604928 and parameters: {'svd': 0.7000000000000002, 'lfm_cos': 0.0, 'nn_bias': 0.0, 'catboost': -0.6, 'knn': 0.0, 'quality': 0.10000000000000009, 'volume': 0.5}. Best is trial 360 with value: 5.86264772102292.\u001b[0m\n"
     ]
    },
    {
     "name": "stdout",
     "output_type": "stream",
     "text": [
      "time 2.632 cat_cov 98.0 cov 100.0 nov 0.775 ser 0.214 m1 0.935 m10 0.847 price 3.09 sum 5.782\n"
     ]
    },
    {
     "name": "stderr",
     "output_type": "stream",
     "text": [
      "\u001b[32m[I 2023-05-12 13:44:21,312]\u001b[0m Trial 428 finished with value: 5.764630674182639 and parameters: {'svd': 0.5, 'lfm_cos': 0.10000000000000009, 'nn_bias': 0.10000000000000009, 'catboost': -0.7, 'knn': 0.10000000000000009, 'quality': -0.09999999999999998, 'volume': 0.7000000000000002}. Best is trial 360 with value: 5.86264772102292.\u001b[0m\n"
     ]
    },
    {
     "name": "stdout",
     "output_type": "stream",
     "text": [
      "time 2.664 cat_cov 98.0 cov 100.0 nov 0.852 ser 0.219 m1 0.918 m10 0.847 price 2.846 sum 5.765\n"
     ]
    },
    {
     "name": "stderr",
     "output_type": "stream",
     "text": [
      "\u001b[32m[I 2023-05-12 13:44:24,001]\u001b[0m Trial 429 finished with value: 5.831357539494875 and parameters: {'svd': 0.7000000000000002, 'lfm_cos': -0.09999999999999998, 'nn_bias': 0.10000000000000009, 'catboost': -0.8, 'knn': 0.0, 'quality': 0.0, 'volume': 0.6000000000000001}. Best is trial 360 with value: 5.86264772102292.\u001b[0m\n"
     ]
    },
    {
     "name": "stdout",
     "output_type": "stream",
     "text": [
      "time 2.659 cat_cov 99.0 cov 100.0 nov 0.98 ser 0.21 m1 0.918 m10 0.846 price 2.659 sum 5.831\n"
     ]
    },
    {
     "name": "stderr",
     "output_type": "stream",
     "text": [
      "\u001b[32m[I 2023-05-12 13:44:26,681]\u001b[0m Trial 430 finished with value: 5.750557288795677 and parameters: {'svd': 0.6000000000000001, 'lfm_cos': -0.19999999999999996, 'nn_bias': 0.0, 'catboost': -0.7, 'knn': 0.20000000000000018, 'quality': -0.09999999999999998, 'volume': 0.0}. Best is trial 360 with value: 5.86264772102292.\u001b[0m\n"
     ]
    },
    {
     "name": "stdout",
     "output_type": "stream",
     "text": [
      "time 2.646 cat_cov 100.0 cov 100.0 nov 0.994 ser 0.205 m1 0.884 m10 0.822 price 2.533 sum 5.751\n"
     ]
    },
    {
     "name": "stderr",
     "output_type": "stream",
     "text": [
      "\u001b[32m[I 2023-05-12 13:44:29,387]\u001b[0m Trial 431 finished with value: 5.824201871797023 and parameters: {'svd': 0.6000000000000001, 'lfm_cos': 0.0, 'nn_bias': 0.20000000000000018, 'catboost': -0.6, 'knn': -0.09999999999999998, 'quality': 0.0, 'volume': 0.6000000000000001}. Best is trial 360 with value: 5.86264772102292.\u001b[0m\n"
     ]
    },
    {
     "name": "stdout",
     "output_type": "stream",
     "text": [
      "time 2.676 cat_cov 100.0 cov 100.0 nov 0.953 ser 0.21 m1 0.916 m10 0.84 price 2.716 sum 5.824\n"
     ]
    },
    {
     "name": "stderr",
     "output_type": "stream",
     "text": [
      "\u001b[32m[I 2023-05-12 13:44:32,050]\u001b[0m Trial 432 finished with value: 5.829253768582805 and parameters: {'svd': 0.5, 'lfm_cos': -0.09999999999999998, 'nn_bias': 0.10000000000000009, 'catboost': -0.7, 'knn': 0.0, 'quality': -0.19999999999999996, 'volume': 0.7000000000000002}. Best is trial 360 with value: 5.86264772102292.\u001b[0m\n"
     ]
    },
    {
     "name": "stdout",
     "output_type": "stream",
     "text": [
      "time 2.629 cat_cov 98.0 cov 100.0 nov 1.004 ser 0.211 m1 0.909 m10 0.84 price 2.657 sum 5.829\n"
     ]
    },
    {
     "name": "stderr",
     "output_type": "stream",
     "text": [
      "\u001b[32m[I 2023-05-12 13:44:34,768]\u001b[0m Trial 433 finished with value: 5.767071893034905 and parameters: {'svd': 0.40000000000000013, 'lfm_cos': 0.0, 'nn_bias': 0.20000000000000018, 'catboost': -0.8, 'knn': 0.10000000000000009, 'quality': -0.19999999999999996, 'volume': 0.7000000000000002}. Best is trial 360 with value: 5.86264772102292.\u001b[0m\n"
     ]
    },
    {
     "name": "stdout",
     "output_type": "stream",
     "text": [
      "time 2.688 cat_cov 98.0 cov 100.0 nov 1.014 ser 0.21 m1 0.864 m10 0.81 price 2.669 sum 5.767\n"
     ]
    },
    {
     "name": "stderr",
     "output_type": "stream",
     "text": [
      "\u001b[32m[I 2023-05-12 13:44:37,496]\u001b[0m Trial 434 finished with value: 5.7921389216451775 and parameters: {'svd': 0.6000000000000001, 'lfm_cos': 0.10000000000000009, 'nn_bias': 0.10000000000000009, 'catboost': -0.8, 'knn': 0.0, 'quality': -0.09999999999999998, 'volume': 0.6000000000000001}. Best is trial 360 with value: 5.86264772102292.\u001b[0m\n"
     ]
    },
    {
     "name": "stdout",
     "output_type": "stream",
     "text": [
      "time 2.695 cat_cov 99.0 cov 100.0 nov 0.847 ser 0.221 m1 0.928 m10 0.852 price 2.864 sum 5.792\n"
     ]
    },
    {
     "name": "stderr",
     "output_type": "stream",
     "text": [
      "\u001b[32m[I 2023-05-12 13:44:40,153]\u001b[0m Trial 435 finished with value: 5.815426436745636 and parameters: {'svd': 0.7000000000000002, 'lfm_cos': 0.0, 'nn_bias': 0.0, 'catboost': -0.7, 'knn': -0.09999999999999998, 'quality': 0.0, 'volume': 0.6000000000000001}. Best is trial 360 with value: 5.86264772102292.\u001b[0m\n"
     ]
    },
    {
     "name": "stdout",
     "output_type": "stream",
     "text": [
      "time 2.624 cat_cov 99.0 cov 100.0 nov 0.771 ser 0.221 m1 0.93 m10 0.847 price 3.167 sum 5.815\n"
     ]
    },
    {
     "name": "stderr",
     "output_type": "stream",
     "text": [
      "\u001b[32m[I 2023-05-12 13:44:42,862]\u001b[0m Trial 436 finished with value: 4.535211627049825 and parameters: {'svd': 0.5, 'lfm_cos': 0.20000000000000018, 'nn_bias': 0.10000000000000009, 'catboost': 1.0, 'knn': 0.10000000000000009, 'quality': -0.09999999999999998, 'volume': 0.7000000000000002}. Best is trial 360 with value: 5.86264772102292.\u001b[0m\n"
     ]
    },
    {
     "name": "stdout",
     "output_type": "stream",
     "text": [
      "time 2.677 cat_cov 84.0 cov 100.0 nov 0.541 ser 0.119 m1 0.574 m10 0.579 price 2.643 sum 4.535\n"
     ]
    },
    {
     "name": "stderr",
     "output_type": "stream",
     "text": [
      "\u001b[32m[I 2023-05-12 13:44:45,547]\u001b[0m Trial 437 finished with value: 5.8068086487153705 and parameters: {'svd': 0.7000000000000002, 'lfm_cos': -0.09999999999999998, 'nn_bias': 0.0, 'catboost': -0.6, 'knn': 0.0, 'quality': -0.09999999999999998, 'volume': 0.5}. Best is trial 360 with value: 5.86264772102292.\u001b[0m\n"
     ]
    },
    {
     "name": "stdout",
     "output_type": "stream",
     "text": [
      "time 2.654 cat_cov 100.0 cov 100.0 nov 0.893 ser 0.209 m1 0.927 m10 0.847 price 2.79 sum 5.807\n"
     ]
    },
    {
     "name": "stderr",
     "output_type": "stream",
     "text": [
      "\u001b[32m[I 2023-05-12 13:44:48,243]\u001b[0m Trial 438 finished with value: 5.829771645103773 and parameters: {'svd': 0.6000000000000001, 'lfm_cos': 0.0, 'nn_bias': 0.10000000000000009, 'catboost': -0.7, 'knn': -0.09999999999999998, 'quality': -0.19999999999999996, 'volume': 0.7000000000000002}. Best is trial 360 with value: 5.86264772102292.\u001b[0m\n"
     ]
    },
    {
     "name": "stdout",
     "output_type": "stream",
     "text": [
      "time 2.661 cat_cov 96.0 cov 100.0 nov 0.939 ser 0.216 m1 0.925 m10 0.852 price 2.813 sum 5.83\n"
     ]
    },
    {
     "name": "stderr",
     "output_type": "stream",
     "text": [
      "\u001b[32m[I 2023-05-12 13:44:50,925]\u001b[0m Trial 439 finished with value: 5.7661826078947795 and parameters: {'svd': 0.5, 'lfm_cos': 0.10000000000000009, 'nn_bias': 0.20000000000000018, 'catboost': -0.7, 'knn': 0.10000000000000009, 'quality': 0.0, 'volume': 0.5}. Best is trial 360 with value: 5.86264772102292.\u001b[0m\n"
     ]
    },
    {
     "name": "stdout",
     "output_type": "stream",
     "text": [
      "time 2.65 cat_cov 100.0 cov 100.0 nov 0.928 ser 0.212 m1 0.893 m10 0.832 price 2.704 sum 5.766\n"
     ]
    },
    {
     "name": "stderr",
     "output_type": "stream",
     "text": [
      "\u001b[32m[I 2023-05-12 13:44:53,590]\u001b[0m Trial 440 finished with value: 5.774999071829218 and parameters: {'svd': 0.6000000000000001, 'lfm_cos': -0.09999999999999998, 'nn_bias': 0.10000000000000009, 'catboost': -0.8, 'knn': 0.0, 'quality': 0.10000000000000009, 'volume': -1.0}. Best is trial 360 with value: 5.86264772102292.\u001b[0m\n"
     ]
    },
    {
     "name": "stdout",
     "output_type": "stream",
     "text": [
      "time 2.633 cat_cov 95.0 cov 100.0 nov 1.037 ser 0.21 m1 0.905 m10 0.839 price 2.503 sum 5.775\n"
     ]
    },
    {
     "name": "stderr",
     "output_type": "stream",
     "text": [
      "\u001b[32m[I 2023-05-12 13:44:56,284]\u001b[0m Trial 441 finished with value: 5.289357441621982 and parameters: {'svd': 0.7000000000000002, 'lfm_cos': 0.0, 'nn_bias': 0.10000000000000009, 'catboost': 0.40000000000000013, 'knn': 0.0, 'quality': -1.0, 'volume': 0.6000000000000001}. Best is trial 360 with value: 5.86264772102292.\u001b[0m\n"
     ]
    },
    {
     "name": "stdout",
     "output_type": "stream",
     "text": [
      "time 2.661 cat_cov 92.0 cov 100.0 nov 0.656 ser 0.17 m1 0.832 m10 0.814 price 2.696 sum 5.289\n"
     ]
    },
    {
     "name": "stderr",
     "output_type": "stream",
     "text": [
      "\u001b[32m[I 2023-05-12 13:44:59,651]\u001b[0m Trial 442 finished with value: 5.308351589427245 and parameters: {'svd': 0.5, 'lfm_cos': -0.09999999999999998, 'nn_bias': 0.20000000000000018, 'catboost': 0.0, 'knn': 0.20000000000000018, 'quality': -0.19999999999999996, 'volume': 0.40000000000000013}. Best is trial 360 with value: 5.86264772102292.\u001b[0m\n"
     ]
    },
    {
     "name": "stdout",
     "output_type": "stream",
     "text": [
      "time 3.334 cat_cov 96.0 cov 100.0 nov 0.77 ser 0.172 m1 0.76 m10 0.776 price 2.612 sum 5.308\n"
     ]
    },
    {
     "name": "stderr",
     "output_type": "stream",
     "text": [
      "\u001b[32m[I 2023-05-12 13:45:02,368]\u001b[0m Trial 443 finished with value: 4.910623770253248 and parameters: {'svd': 0.40000000000000013, 'lfm_cos': 0.8, 'nn_bias': 0.0, 'catboost': -0.7, 'knn': 0.10000000000000009, 'quality': -0.09999999999999998, 'volume': 0.6000000000000001}. Best is trial 360 with value: 5.86264772102292.\u001b[0m\n"
     ]
    },
    {
     "name": "stdout",
     "output_type": "stream",
     "text": [
      "time 2.685 cat_cov 100.0 cov 100.0 nov 0.652 ser 0.213 m1 0.515 m10 0.544 price 2.962 sum 4.911\n"
     ]
    },
    {
     "name": "stderr",
     "output_type": "stream",
     "text": [
      "\u001b[32m[I 2023-05-12 13:45:05,078]\u001b[0m Trial 444 finished with value: 5.837748303868562 and parameters: {'svd': 0.6000000000000001, 'lfm_cos': 0.0, 'nn_bias': 0.10000000000000009, 'catboost': -0.6, 'knn': -0.09999999999999998, 'quality': -0.19999999999999996, 'volume': 0.7000000000000002}. Best is trial 360 with value: 5.86264772102292.\u001b[0m\n"
     ]
    },
    {
     "name": "stdout",
     "output_type": "stream",
     "text": [
      "time 2.677 cat_cov 98.0 cov 100.0 nov 0.93 ser 0.214 m1 0.928 m10 0.852 price 2.801 sum 5.838\n"
     ]
    },
    {
     "name": "stderr",
     "output_type": "stream",
     "text": [
      "\u001b[32m[I 2023-05-12 13:45:07,783]\u001b[0m Trial 445 finished with value: 5.82207210392571 and parameters: {'svd': 0.7000000000000002, 'lfm_cos': 0.0, 'nn_bias': 0.10000000000000009, 'catboost': -0.6, 'knn': -0.09999999999999998, 'quality': 0.0, 'volume': 0.30000000000000004}. Best is trial 360 with value: 5.86264772102292.\u001b[0m\n"
     ]
    },
    {
     "name": "stdout",
     "output_type": "stream",
     "text": [
      "time 2.674 cat_cov 99.0 cov 100.0 nov 0.929 ser 0.211 m1 0.93 m10 0.852 price 2.73 sum 5.822\n"
     ]
    },
    {
     "name": "stderr",
     "output_type": "stream",
     "text": [
      "\u001b[32m[I 2023-05-12 13:45:10,450]\u001b[0m Trial 446 finished with value: 5.8040342316358995 and parameters: {'svd': 0.6000000000000001, 'lfm_cos': 0.10000000000000009, 'nn_bias': 0.20000000000000018, 'catboost': -0.8, 'knn': -0.09999999999999998, 'quality': -0.09999999999999998, 'volume': 0.7000000000000002}. Best is trial 360 with value: 5.86264772102292.\u001b[0m\n"
     ]
    },
    {
     "name": "stdout",
     "output_type": "stream",
     "text": [
      "time 2.634 cat_cov 98.0 cov 100.0 nov 0.912 ser 0.218 m1 0.919 m10 0.846 price 2.791 sum 5.804\n"
     ]
    },
    {
     "name": "stderr",
     "output_type": "stream",
     "text": [
      "\u001b[32m[I 2023-05-12 13:45:13,147]\u001b[0m Trial 447 finished with value: 5.795024854344686 and parameters: {'svd': 0.5, 'lfm_cos': -0.19999999999999996, 'nn_bias': 0.0, 'catboost': -0.6, 'knn': -0.09999999999999998, 'quality': -0.19999999999999996, 'volume': 0.7000000000000002}. Best is trial 360 with value: 5.86264772102292.\u001b[0m\n"
     ]
    },
    {
     "name": "stdout",
     "output_type": "stream",
     "text": [
      "time 2.66 cat_cov 97.0 cov 100.0 nov 0.97 ser 0.212 m1 0.898 m10 0.83 price 2.745 sum 5.795\n"
     ]
    },
    {
     "name": "stderr",
     "output_type": "stream",
     "text": [
      "\u001b[32m[I 2023-05-12 13:45:15,874]\u001b[0m Trial 448 finished with value: 5.299335002190127 and parameters: {'svd': 0.7000000000000002, 'lfm_cos': 0.10000000000000009, 'nn_bias': 0.10000000000000009, 'catboost': -0.8, 'knn': 0.8, 'quality': -0.09999999999999998, 'volume': -0.6}. Best is trial 360 with value: 5.86264772102292.\u001b[0m\n"
     ]
    },
    {
     "name": "stdout",
     "output_type": "stream",
     "text": [
      "time 2.69 cat_cov 97.0 cov 100.0 nov 0.862 ser 0.187 m1 0.677 m10 0.761 price 2.531 sum 5.299\n"
     ]
    },
    {
     "name": "stderr",
     "output_type": "stream",
     "text": [
      "\u001b[32m[I 2023-05-12 13:45:18,574]\u001b[0m Trial 449 finished with value: 5.4285044015284285 and parameters: {'svd': 0.6000000000000001, 'lfm_cos': -0.09999999999999998, 'nn_bias': 0.0, 'catboost': 0.30000000000000004, 'knn': -0.09999999999999998, 'quality': 0.0, 'volume': 0.7000000000000002}. Best is trial 360 with value: 5.86264772102292.\u001b[0m\n"
     ]
    },
    {
     "name": "stdout",
     "output_type": "stream",
     "text": [
      "time 2.668 cat_cov 94.0 cov 100.0 nov 0.66 ser 0.175 m1 0.891 m10 0.846 price 2.749 sum 5.429\n"
     ]
    },
    {
     "name": "stderr",
     "output_type": "stream",
     "text": [
      "\u001b[32m[I 2023-05-12 13:45:21,228]\u001b[0m Trial 450 finished with value: 5.707459841262949 and parameters: {'svd': 0.6000000000000001, 'lfm_cos': -0.9, 'nn_bias': 0.10000000000000009, 'catboost': -0.7, 'knn': 0.0, 'quality': -0.19999999999999996, 'volume': 0.7000000000000002}. Best is trial 360 with value: 5.86264772102292.\u001b[0m\n"
     ]
    },
    {
     "name": "stdout",
     "output_type": "stream",
     "text": [
      "time 2.622 cat_cov 98.0 cov 100.0 nov 1.055 ser 0.196 m1 0.853 m10 0.777 price 2.536 sum 5.707\n"
     ]
    },
    {
     "name": "stderr",
     "output_type": "stream",
     "text": [
      "\u001b[32m[I 2023-05-12 13:45:23,937]\u001b[0m Trial 451 finished with value: 5.8075429027119565 and parameters: {'svd': 0.7000000000000002, 'lfm_cos': 0.0, 'nn_bias': 0.10000000000000009, 'catboost': -0.7, 'knn': -0.09999999999999998, 'quality': -0.09999999999999998, 'volume': 0.7000000000000002}. Best is trial 360 with value: 5.86264772102292.\u001b[0m\n"
     ]
    },
    {
     "name": "stdout",
     "output_type": "stream",
     "text": [
      "time 2.676 cat_cov 95.0 cov 100.0 nov 0.927 ser 0.214 m1 0.929 m10 0.853 price 2.805 sum 5.808\n"
     ]
    },
    {
     "name": "stderr",
     "output_type": "stream",
     "text": [
      "\u001b[32m[I 2023-05-12 13:45:26,624]\u001b[0m Trial 452 finished with value: 5.72656438956623 and parameters: {'svd': 0.40000000000000013, 'lfm_cos': 0.0, 'nn_bias': 0.20000000000000018, 'catboost': -0.5, 'knn': 0.10000000000000009, 'quality': -0.09999999999999998, 'volume': 0.8}. Best is trial 360 with value: 5.86264772102292.\u001b[0m\n"
     ]
    },
    {
     "name": "stdout",
     "output_type": "stream",
     "text": [
      "time 2.653 cat_cov 100.0 cov 100.0 nov 0.959 ser 0.203 m1 0.866 m10 0.814 price 2.653 sum 5.727\n"
     ]
    },
    {
     "name": "stderr",
     "output_type": "stream",
     "text": [
      "\u001b[32m[I 2023-05-12 13:45:29,325]\u001b[0m Trial 453 finished with value: 5.83752782550898 and parameters: {'svd': 0.5, 'lfm_cos': -0.09999999999999998, 'nn_bias': 0.0, 'catboost': -0.6, 'knn': 0.0, 'quality': -0.19999999999999996, 'volume': 0.7000000000000002}. Best is trial 360 with value: 5.86264772102292.\u001b[0m\n"
     ]
    },
    {
     "name": "stdout",
     "output_type": "stream",
     "text": [
      "time 2.669 cat_cov 99.0 cov 100.0 nov 0.938 ser 0.213 m1 0.919 m10 0.846 price 2.798 sum 5.838\n"
     ]
    },
    {
     "name": "stderr",
     "output_type": "stream",
     "text": [
      "\u001b[32m[I 2023-05-12 13:45:32,028]\u001b[0m Trial 454 finished with value: 5.771132553166245 and parameters: {'svd': 0.5, 'lfm_cos': -0.19999999999999996, 'nn_bias': -0.09999999999999998, 'catboost': -0.5, 'knn': 0.0, 'quality': 0.0, 'volume': 0.7000000000000002}. Best is trial 360 with value: 5.86264772102292.\u001b[0m\n"
     ]
    },
    {
     "name": "stdout",
     "output_type": "stream",
     "text": [
      "time 2.667 cat_cov 100.0 cov 100.0 nov 0.914 ser 0.21 m1 0.903 m10 0.826 price 2.755 sum 5.771\n"
     ]
    },
    {
     "name": "stderr",
     "output_type": "stream",
     "text": [
      "\u001b[32m[I 2023-05-12 13:45:34,715]\u001b[0m Trial 455 finished with value: 5.837485028417536 and parameters: {'svd': 0.5, 'lfm_cos': -0.09999999999999998, 'nn_bias': 0.0, 'catboost': -0.6, 'knn': 0.0, 'quality': -0.19999999999999996, 'volume': 0.6000000000000001}. Best is trial 360 with value: 5.86264772102292.\u001b[0m\n"
     ]
    },
    {
     "name": "stdout",
     "output_type": "stream",
     "text": [
      "time 2.654 cat_cov 99.0 cov 100.0 nov 0.943 ser 0.213 m1 0.919 m10 0.846 price 2.782 sum 5.837\n"
     ]
    },
    {
     "name": "stderr",
     "output_type": "stream",
     "text": [
      "\u001b[32m[I 2023-05-12 13:45:37,415]\u001b[0m Trial 456 finished with value: 5.802226950109297 and parameters: {'svd': 0.40000000000000013, 'lfm_cos': -0.19999999999999996, 'nn_bias': 0.0, 'catboost': -0.5, 'knn': -0.09999999999999998, 'quality': -0.09999999999999998, 'volume': 0.6000000000000001}. Best is trial 360 with value: 5.86264772102292.\u001b[0m\n"
     ]
    },
    {
     "name": "stdout",
     "output_type": "stream",
     "text": [
      "time 2.668 cat_cov 99.0 cov 100.0 nov 0.979 ser 0.211 m1 0.889 m10 0.821 price 2.737 sum 5.802\n"
     ]
    },
    {
     "name": "stderr",
     "output_type": "stream",
     "text": [
      "\u001b[32m[I 2023-05-12 13:45:40,128]\u001b[0m Trial 457 finished with value: 5.824729245627209 and parameters: {'svd': 0.5, 'lfm_cos': -0.09999999999999998, 'nn_bias': 0.0, 'catboost': -0.6, 'knn': 0.0, 'quality': 0.10000000000000009, 'volume': 0.6000000000000001}. Best is trial 360 with value: 5.86264772102292.\u001b[0m\n"
     ]
    },
    {
     "name": "stdout",
     "output_type": "stream",
     "text": [
      "time 2.681 cat_cov 98.0 cov 100.0 nov 0.935 ser 0.212 m1 0.919 m10 0.845 price 2.801 sum 5.825\n"
     ]
    },
    {
     "name": "stderr",
     "output_type": "stream",
     "text": [
      "\u001b[32m[I 2023-05-12 13:45:42,819]\u001b[0m Trial 458 finished with value: 5.782366294417585 and parameters: {'svd': 0.40000000000000013, 'lfm_cos': -0.19999999999999996, 'nn_bias': 0.0, 'catboost': -0.6, 'knn': 0.0, 'quality': -0.19999999999999996, 'volume': 0.6000000000000001}. Best is trial 360 with value: 5.86264772102292.\u001b[0m\n"
     ]
    },
    {
     "name": "stdout",
     "output_type": "stream",
     "text": [
      "time 2.659 cat_cov 96.0 cov 100.0 nov 1.001 ser 0.211 m1 0.888 m10 0.822 price 2.702 sum 5.782\n"
     ]
    },
    {
     "name": "stderr",
     "output_type": "stream",
     "text": [
      "\u001b[32m[I 2023-05-12 13:45:45,524]\u001b[0m Trial 459 finished with value: 5.3685747837628 and parameters: {'svd': 0.5, 'lfm_cos': -0.09999999999999998, 'nn_bias': -0.09999999999999998, 'catboost': -0.6, 'knn': 0.6000000000000001, 'quality': -0.09999999999999998, 'volume': 0.7000000000000002}. Best is trial 360 with value: 5.86264772102292.\u001b[0m\n"
     ]
    },
    {
     "name": "stdout",
     "output_type": "stream",
     "text": [
      "time 2.673 cat_cov 98.0 cov 100.0 nov 0.875 ser 0.189 m1 0.702 m10 0.763 price 2.579 sum 5.369\n"
     ]
    },
    {
     "name": "stderr",
     "output_type": "stream",
     "text": [
      "\u001b[32m[I 2023-05-12 13:45:48,245]\u001b[0m Trial 460 finished with value: 5.7385704506014195 and parameters: {'svd': 0.5, 'lfm_cos': -0.09999999999999998, 'nn_bias': 0.20000000000000018, 'catboost': -0.5, 'knn': 0.0, 'quality': 0.0, 'volume': 0.5}. Best is trial 360 with value: 5.86264772102292.\u001b[0m\n"
     ]
    },
    {
     "name": "stdout",
     "output_type": "stream",
     "text": [
      "time 2.686 cat_cov 98.0 cov 100.0 nov 0.97 ser 0.203 m1 0.888 m10 0.822 price 2.626 sum 5.739\n"
     ]
    },
    {
     "name": "stderr",
     "output_type": "stream",
     "text": [
      "\u001b[32m[I 2023-05-12 13:45:50,979]\u001b[0m Trial 461 finished with value: 5.7191124400383115 and parameters: {'svd': 0.5, 'lfm_cos': -0.19999999999999996, 'nn_bias': 0.10000000000000009, 'catboost': -0.19999999999999996, 'knn': -0.09999999999999998, 'quality': -0.19999999999999996, 'volume': 0.6000000000000001}. Best is trial 360 with value: 5.86264772102292.\u001b[0m\n"
     ]
    },
    {
     "name": "stdout",
     "output_type": "stream",
     "text": [
      "time 2.701 cat_cov 97.0 cov 100.0 nov 0.906 ser 0.202 m1 0.908 m10 0.84 price 2.683 sum 5.719\n"
     ]
    },
    {
     "name": "stderr",
     "output_type": "stream",
     "text": [
      "\u001b[32m[I 2023-05-12 13:45:53,656]\u001b[0m Trial 462 finished with value: 5.8265815974545205 and parameters: {'svd': 0.40000000000000013, 'lfm_cos': -0.09999999999999998, 'nn_bias': 0.0, 'catboost': -0.6, 'knn': 0.0, 'quality': -0.09999999999999998, 'volume': 0.6000000000000001}. Best is trial 360 with value: 5.86264772102292.\u001b[0m\n"
     ]
    },
    {
     "name": "stdout",
     "output_type": "stream",
     "text": [
      "time 2.645 cat_cov 97.0 cov 100.0 nov 0.963 ser 0.213 m1 0.911 m10 0.842 price 2.782 sum 5.827\n"
     ]
    },
    {
     "name": "stderr",
     "output_type": "stream",
     "text": [
      "\u001b[32m[I 2023-05-12 13:45:56,343]\u001b[0m Trial 463 finished with value: 5.739910309166616 and parameters: {'svd': 0.5, 'lfm_cos': -0.29999999999999993, 'nn_bias': 0.10000000000000009, 'catboost': -0.6, 'knn': 0.0, 'quality': -0.19999999999999996, 'volume': 0.7000000000000002}. Best is trial 360 with value: 5.86264772102292.\u001b[0m\n"
     ]
    },
    {
     "name": "stdout",
     "output_type": "stream",
     "text": [
      "time 2.649 cat_cov 96.0 cov 100.0 nov 1.021 ser 0.206 m1 0.878 m10 0.807 price 2.603 sum 5.74\n"
     ]
    },
    {
     "name": "stderr",
     "output_type": "stream",
     "text": [
      "\u001b[32m[I 2023-05-12 13:45:58,936]\u001b[0m Trial 464 finished with value: 4.142732114427583 and parameters: {'svd': -0.6, 'lfm_cos': -0.09999999999999998, 'nn_bias': 0.10000000000000009, 'catboost': -0.6, 'knn': -0.09999999999999998, 'quality': 0.0, 'volume': 0.7000000000000002}. Best is trial 360 with value: 5.86264772102292.\u001b[0m\n"
     ]
    },
    {
     "name": "stdout",
     "output_type": "stream",
     "text": [
      "time 2.561 cat_cov 88.0 cov 100.0 nov 0.984 ser 0.142 m1 0.08 m10 0.207 price 2.547 sum 4.143\n"
     ]
    },
    {
     "name": "stderr",
     "output_type": "stream",
     "text": [
      "\u001b[32m[I 2023-05-12 13:46:01,607]\u001b[0m Trial 465 finished with value: 5.765207280196589 and parameters: {'svd': 0.30000000000000004, 'lfm_cos': -0.09999999999999998, 'nn_bias': 0.0, 'catboost': -0.7, 'knn': 0.0, 'quality': -0.09999999999999998, 'volume': 0.5}. Best is trial 360 with value: 5.86264772102292.\u001b[0m\n"
     ]
    },
    {
     "name": "stdout",
     "output_type": "stream",
     "text": [
      "time 2.637 cat_cov 91.0 cov 100.0 nov 0.995 ser 0.214 m1 0.899 m10 0.835 price 2.739 sum 5.765\n"
     ]
    },
    {
     "name": "stderr",
     "output_type": "stream",
     "text": [
      "\u001b[32m[I 2023-05-12 13:46:04,276]\u001b[0m Trial 466 finished with value: 5.690158719611862 and parameters: {'svd': 0.5, 'lfm_cos': -0.6, 'nn_bias': 0.10000000000000009, 'catboost': -0.7, 'knn': 0.0, 'quality': -0.29999999999999993, 'volume': 0.6000000000000001}. Best is trial 360 with value: 5.86264772102292.\u001b[0m\n"
     ]
    },
    {
     "name": "stdout",
     "output_type": "stream",
     "text": [
      "time 2.636 cat_cov 95.0 cov 100.0 nov 1.061 ser 0.2 m1 0.854 m10 0.776 price 2.547 sum 5.69\n"
     ]
    },
    {
     "name": "stderr",
     "output_type": "stream",
     "text": [
      "\u001b[32m[I 2023-05-12 13:46:06,977]\u001b[0m Trial 467 finished with value: 5.798528304034291 and parameters: {'svd': 0.6000000000000001, 'lfm_cos': -0.09999999999999998, 'nn_bias': 0.0, 'catboost': -0.5, 'knn': -0.09999999999999998, 'quality': -0.09999999999999998, 'volume': 0.40000000000000013}. Best is trial 360 with value: 5.86264772102292.\u001b[0m\n"
     ]
    },
    {
     "name": "stdout",
     "output_type": "stream",
     "text": [
      "time 2.667 cat_cov 98.0 cov 100.0 nov 0.91 ser 0.211 m1 0.922 m10 0.846 price 2.785 sum 5.799\n"
     ]
    },
    {
     "name": "stderr",
     "output_type": "stream",
     "text": [
      "\u001b[32m[I 2023-05-12 13:46:09,623]\u001b[0m Trial 468 finished with value: 5.806621468524021 and parameters: {'svd': 0.5, 'lfm_cos': -0.09999999999999998, 'nn_bias': 0.10000000000000009, 'catboost': -0.8, 'knn': 0.0, 'quality': -0.19999999999999996, 'volume': 0.7000000000000002}. Best is trial 360 with value: 5.86264772102292.\u001b[0m\n"
     ]
    },
    {
     "name": "stdout",
     "output_type": "stream",
     "text": [
      "time 2.613 cat_cov 95.0 cov 100.0 nov 1.012 ser 0.212 m1 0.908 m10 0.84 price 2.656 sum 5.807\n"
     ]
    },
    {
     "name": "stderr",
     "output_type": "stream",
     "text": [
      "\u001b[32m[I 2023-05-12 13:46:12,280]\u001b[0m Trial 469 finished with value: 5.796247866820093 and parameters: {'svd': 0.6000000000000001, 'lfm_cos': -0.09999999999999998, 'nn_bias': -0.09999999999999998, 'catboost': -0.7, 'knn': 0.0, 'quality': 0.0, 'volume': 0.5}. Best is trial 360 with value: 5.86264772102292.\u001b[0m\n"
     ]
    },
    {
     "name": "stdout",
     "output_type": "stream",
     "text": [
      "time 2.623 cat_cov 99.0 cov 100.0 nov 0.894 ser 0.215 m1 0.921 m10 0.841 price 2.806 sum 5.796\n"
     ]
    },
    {
     "name": "stderr",
     "output_type": "stream",
     "text": [
      "\u001b[32m[I 2023-05-12 13:46:14,978]\u001b[0m Trial 470 finished with value: 5.7838267416974105 and parameters: {'svd': 0.6000000000000001, 'lfm_cos': -0.19999999999999996, 'nn_bias': 0.20000000000000018, 'catboost': -0.8, 'knn': -0.09999999999999998, 'quality': -0.19999999999999996, 'volume': 0.6000000000000001}. Best is trial 360 with value: 5.86264772102292.\u001b[0m\n"
     ]
    },
    {
     "name": "stdout",
     "output_type": "stream",
     "text": [
      "time 2.661 cat_cov 98.0 cov 100.0 nov 1.013 ser 0.209 m1 0.888 m10 0.817 price 2.632 sum 5.784\n"
     ]
    },
    {
     "name": "stderr",
     "output_type": "stream",
     "text": [
      "\u001b[32m[I 2023-05-12 13:46:17,675]\u001b[0m Trial 471 finished with value: 5.740186173941083 and parameters: {'svd': 0.5, 'lfm_cos': 0.0, 'nn_bias': 0.20000000000000018, 'catboost': -0.6, 'knn': 0.10000000000000009, 'quality': -0.29999999999999993, 'volume': -0.29999999999999993}. Best is trial 360 with value: 5.86264772102292.\u001b[0m\n"
     ]
    },
    {
     "name": "stdout",
     "output_type": "stream",
     "text": [
      "time 2.663 cat_cov 100.0 cov 100.0 nov 0.994 ser 0.205 m1 0.875 m10 0.821 price 2.537 sum 5.74\n"
     ]
    },
    {
     "name": "stderr",
     "output_type": "stream",
     "text": [
      "\u001b[32m[I 2023-05-12 13:46:20,384]\u001b[0m Trial 472 finished with value: 5.787263300765242 and parameters: {'svd': 0.7000000000000002, 'lfm_cos': -0.09999999999999998, 'nn_bias': 0.10000000000000009, 'catboost': -0.6, 'knn': 0.0, 'quality': -0.09999999999999998, 'volume': 0.7000000000000002}. Best is trial 360 with value: 5.86264772102292.\u001b[0m\n"
     ]
    },
    {
     "name": "stdout",
     "output_type": "stream",
     "text": [
      "time 2.677 cat_cov 98.0 cov 100.0 nov 0.937 ser 0.207 m1 0.923 m10 0.848 price 2.675 sum 5.787\n"
     ]
    },
    {
     "name": "stderr",
     "output_type": "stream",
     "text": [
      "\u001b[32m[I 2023-05-12 13:46:23,075]\u001b[0m Trial 473 finished with value: 5.819892536182987 and parameters: {'svd': 0.5, 'lfm_cos': 0.0, 'nn_bias': 0.0, 'catboost': -0.7, 'knn': -0.09999999999999998, 'quality': 0.10000000000000009, 'volume': 0.7000000000000002}. Best is trial 360 with value: 5.86264772102292.\u001b[0m\n"
     ]
    },
    {
     "name": "stdout",
     "output_type": "stream",
     "text": [
      "time 2.657 cat_cov 97.0 cov 100.0 nov 0.79 ser 0.223 m1 0.925 m10 0.845 price 3.201 sum 5.82\n"
     ]
    },
    {
     "name": "stderr",
     "output_type": "stream",
     "text": [
      "\u001b[32m[I 2023-05-12 13:46:25,758]\u001b[0m Trial 474 finished with value: 5.762566764479056 and parameters: {'svd': 0.40000000000000013, 'lfm_cos': 0.0, 'nn_bias': 0.20000000000000018, 'catboost': -0.8, 'knn': 0.10000000000000009, 'quality': -0.19999999999999996, 'volume': 0.6000000000000001}. Best is trial 360 with value: 5.86264772102292.\u001b[0m\n"
     ]
    },
    {
     "name": "stdout",
     "output_type": "stream",
     "text": [
      "time 2.649 cat_cov 98.0 cov 100.0 nov 1.017 ser 0.21 m1 0.863 m10 0.809 price 2.652 sum 5.763\n"
     ]
    },
    {
     "name": "stderr",
     "output_type": "stream",
     "text": [
      "\u001b[32m[I 2023-05-12 13:46:28,447]\u001b[0m Trial 475 finished with value: 5.800287453719025 and parameters: {'svd': 0.6000000000000001, 'lfm_cos': -0.09999999999999998, 'nn_bias': 0.10000000000000009, 'catboost': -0.7, 'knn': 0.0, 'quality': 0.0, 'volume': 0.7000000000000002}. Best is trial 360 with value: 5.86264772102292.\u001b[0m\n"
     ]
    },
    {
     "name": "stdout",
     "output_type": "stream",
     "text": [
      "time 2.655 cat_cov 96.0 cov 100.0 nov 0.98 ser 0.21 m1 0.916 m10 0.844 price 2.672 sum 5.8\n"
     ]
    },
    {
     "name": "stderr",
     "output_type": "stream",
     "text": [
      "\u001b[32m[I 2023-05-12 13:46:31,188]\u001b[0m Trial 476 finished with value: 5.804903919655967 and parameters: {'svd': 0.7000000000000002, 'lfm_cos': 0.0, 'nn_bias': 0.10000000000000009, 'catboost': -0.6, 'knn': 0.0, 'quality': -0.09999999999999998, 'volume': 0.5}. Best is trial 360 with value: 5.86264772102292.\u001b[0m\n"
     ]
    },
    {
     "name": "stdout",
     "output_type": "stream",
     "text": [
      "time 2.708 cat_cov 99.0 cov 100.0 nov 0.918 ser 0.209 m1 0.931 m10 0.854 price 2.71 sum 5.805\n"
     ]
    },
    {
     "name": "stderr",
     "output_type": "stream",
     "text": [
      "\u001b[32m[I 2023-05-12 13:46:33,870]\u001b[0m Trial 477 finished with value: 5.7975489779453895 and parameters: {'svd': 0.5, 'lfm_cos': 0.0, 'nn_bias': 0.0, 'catboost': -0.5, 'knn': -0.09999999999999998, 'quality': -0.19999999999999996, 'volume': 0.6000000000000001}. Best is trial 360 with value: 5.86264772102292.\u001b[0m\n"
     ]
    },
    {
     "name": "stdout",
     "output_type": "stream",
     "text": [
      "time 2.649 cat_cov 99.0 cov 100.0 nov 0.767 ser 0.221 m1 0.929 m10 0.849 price 3.127 sum 5.798\n"
     ]
    },
    {
     "name": "stderr",
     "output_type": "stream",
     "text": [
      "\u001b[32m[I 2023-05-12 13:46:36,536]\u001b[0m Trial 478 finished with value: 4.523745394640287 and parameters: {'svd': 0.0, 'lfm_cos': -0.09999999999999998, 'nn_bias': 0.10000000000000009, 'catboost': -0.7, 'knn': 0.10000000000000009, 'quality': -0.29999999999999993, 'volume': 0.7000000000000002}. Best is trial 360 with value: 5.86264772102292.\u001b[0m\n"
     ]
    },
    {
     "name": "stdout",
     "output_type": "stream",
     "text": [
      "time 2.632 cat_cov 90.0 cov 100.0 nov 1.092 ser 0.183 m1 0.153 m10 0.342 price 2.56 sum 4.524\n"
     ]
    },
    {
     "name": "stderr",
     "output_type": "stream",
     "text": [
      "\u001b[32m[I 2023-05-12 13:46:39,237]\u001b[0m Trial 479 finished with value: 5.784642468520006 and parameters: {'svd': 0.6000000000000001, 'lfm_cos': 0.10000000000000009, 'nn_bias': 0.10000000000000009, 'catboost': -0.8, 'knn': 0.0, 'quality': 0.0, 'volume': 0.6000000000000001}. Best is trial 360 with value: 5.86264772102292.\u001b[0m\n"
     ]
    },
    {
     "name": "stdout",
     "output_type": "stream",
     "text": [
      "time 2.667 cat_cov 98.0 cov 100.0 nov 0.846 ser 0.221 m1 0.928 m10 0.852 price 2.874 sum 5.785\n"
     ]
    },
    {
     "name": "stderr",
     "output_type": "stream",
     "text": [
      "\u001b[32m[I 2023-05-12 13:46:41,950]\u001b[0m Trial 480 finished with value: 5.786733217942324 and parameters: {'svd': 0.6000000000000001, 'lfm_cos': 0.0, 'nn_bias': 0.0, 'catboost': -0.7, 'knn': 0.10000000000000009, 'quality': -0.19999999999999996, 'volume': 0.6000000000000001}. Best is trial 360 with value: 5.86264772102292.\u001b[0m\n"
     ]
    },
    {
     "name": "stdout",
     "output_type": "stream",
     "text": [
      "time 2.678 cat_cov 97.0 cov 100.0 nov 0.857 ser 0.216 m1 0.926 m10 0.847 price 2.911 sum 5.787\n"
     ]
    },
    {
     "name": "stderr",
     "output_type": "stream",
     "text": [
      "\u001b[32m[I 2023-05-12 13:46:44,607]\u001b[0m Trial 481 finished with value: 5.725914881287486 and parameters: {'svd': 0.40000000000000013, 'lfm_cos': -0.19999999999999996, 'nn_bias': 0.10000000000000009, 'catboost': -0.8, 'knn': 0.0, 'quality': -0.09999999999999998, 'volume': 0.7000000000000002}. Best is trial 360 with value: 5.86264772102292.\u001b[0m\n"
     ]
    },
    {
     "name": "stdout",
     "output_type": "stream",
     "text": [
      "time 2.625 cat_cov 92.0 cov 100.0 nov 1.038 ser 0.209 m1 0.876 m10 0.809 price 2.621 sum 5.726\n"
     ]
    },
    {
     "name": "stderr",
     "output_type": "stream",
     "text": [
      "\u001b[32m[I 2023-05-12 13:46:47,297]\u001b[0m Trial 482 finished with value: 5.7944195312982405 and parameters: {'svd': 0.5, 'lfm_cos': -0.09999999999999998, 'nn_bias': 0.20000000000000018, 'catboost': -0.6, 'knn': -0.09999999999999998, 'quality': -0.09999999999999998, 'volume': 0.8}. Best is trial 360 with value: 5.86264772102292.\u001b[0m\n"
     ]
    },
    {
     "name": "stdout",
     "output_type": "stream",
     "text": [
      "time 2.657 cat_cov 99.0 cov 100.0 nov 0.985 ser 0.209 m1 0.894 m10 0.822 price 2.685 sum 5.794\n"
     ]
    },
    {
     "name": "stderr",
     "output_type": "stream",
     "text": [
      "\u001b[32m[I 2023-05-12 13:46:49,973]\u001b[0m Trial 483 finished with value: 5.7844815750395835 and parameters: {'svd': 0.7000000000000002, 'lfm_cos': 0.10000000000000009, 'nn_bias': 0.10000000000000009, 'catboost': -0.7, 'knn': -0.19999999999999996, 'quality': -0.29999999999999993, 'volume': 0.8}. Best is trial 360 with value: 5.86264772102292.\u001b[0m\n"
     ]
    },
    {
     "name": "stdout",
     "output_type": "stream",
     "text": [
      "time 2.643 cat_cov 99.0 cov 100.0 nov 0.819 ser 0.222 m1 0.929 m10 0.853 price 2.914 sum 5.784\n"
     ]
    },
    {
     "name": "stderr",
     "output_type": "stream",
     "text": [
      "\u001b[32m[I 2023-05-12 13:46:52,670]\u001b[0m Trial 484 finished with value: 5.794752255995376 and parameters: {'svd': 0.6000000000000001, 'lfm_cos': 0.0, 'nn_bias': 0.20000000000000018, 'catboost': -0.8, 'knn': 0.0, 'quality': 0.0, 'volume': 0.6000000000000001}. Best is trial 360 with value: 5.86264772102292.\u001b[0m\n"
     ]
    },
    {
     "name": "stdout",
     "output_type": "stream",
     "text": [
      "time 2.664 cat_cov 96.0 cov 100.0 nov 0.975 ser 0.211 m1 0.908 m10 0.837 price 2.708 sum 5.795\n"
     ]
    },
    {
     "name": "stderr",
     "output_type": "stream",
     "text": [
      "\u001b[32m[I 2023-05-12 13:46:55,342]\u001b[0m Trial 485 finished with value: 5.778219535884517 and parameters: {'svd': 0.5, 'lfm_cos': -0.09999999999999998, 'nn_bias': -0.09999999999999998, 'catboost': -0.7, 'knn': 0.10000000000000009, 'quality': -0.09999999999999998, 'volume': 0.5}. Best is trial 360 with value: 5.86264772102292.\u001b[0m\n"
     ]
    },
    {
     "name": "stdout",
     "output_type": "stream",
     "text": [
      "time 2.638 cat_cov 98.0 cov 100.0 nov 0.926 ser 0.214 m1 0.914 m10 0.835 price 2.727 sum 5.778\n"
     ]
    },
    {
     "name": "stderr",
     "output_type": "stream",
     "text": [
      "\u001b[32m[I 2023-05-12 13:46:58,003]\u001b[0m Trial 486 finished with value: 5.770264534597262 and parameters: {'svd': 0.7000000000000002, 'lfm_cos': 0.0, 'nn_bias': 0.0, 'catboost': -0.7, 'knn': 0.0, 'quality': -0.19999999999999996, 'volume': 0.7000000000000002}. Best is trial 360 with value: 5.86264772102292.\u001b[0m\n"
     ]
    },
    {
     "name": "stdout",
     "output_type": "stream",
     "text": [
      "time 2.627 cat_cov 96.0 cov 100.0 nov 0.772 ser 0.219 m1 0.932 m10 0.849 price 3.115 sum 5.77\n"
     ]
    },
    {
     "name": "stderr",
     "output_type": "stream",
     "text": [
      "\u001b[32m[I 2023-05-12 13:47:00,694]\u001b[0m Trial 487 finished with value: 5.824244050554354 and parameters: {'svd': 0.6000000000000001, 'lfm_cos': 0.0, 'nn_bias': 0.10000000000000009, 'catboost': -0.6, 'knn': -0.09999999999999998, 'quality': 0.10000000000000009, 'volume': 0.7000000000000002}. Best is trial 360 with value: 5.86264772102292.\u001b[0m\n"
     ]
    },
    {
     "name": "stdout",
     "output_type": "stream",
     "text": [
      "time 2.657 cat_cov 97.0 cov 100.0 nov 0.923 ser 0.214 m1 0.928 m10 0.851 price 2.816 sum 5.824\n"
     ]
    },
    {
     "name": "stderr",
     "output_type": "stream",
     "text": [
      "\u001b[32m[I 2023-05-12 13:47:04,059]\u001b[0m Trial 488 finished with value: 5.741163977706687 and parameters: {'svd': 0.7000000000000002, 'lfm_cos': 0.10000000000000009, 'nn_bias': 0.0, 'catboost': -0.7, 'knn': 0.0, 'quality': -0.19999999999999996, 'volume': 0.8}. Best is trial 360 with value: 5.86264772102292.\u001b[0m\n"
     ]
    },
    {
     "name": "stdout",
     "output_type": "stream",
     "text": [
      "time 3.332 cat_cov 99.0 cov 100.0 nov 0.757 ser 0.222 m1 0.936 m10 0.851 price 2.958 sum 5.741\n"
     ]
    },
    {
     "name": "stderr",
     "output_type": "stream",
     "text": [
      "\u001b[32m[I 2023-05-12 13:47:06,741]\u001b[0m Trial 489 finished with value: 5.794371483233499 and parameters: {'svd': 0.5, 'lfm_cos': -0.09999999999999998, 'nn_bias': 0.10000000000000009, 'catboost': -0.8, 'knn': -0.09999999999999998, 'quality': -0.09999999999999998, 'volume': 0.6000000000000001}. Best is trial 360 with value: 5.86264772102292.\u001b[0m\n"
     ]
    },
    {
     "name": "stdout",
     "output_type": "stream",
     "text": [
      "time 2.648 cat_cov 94.0 cov 100.0 nov 0.997 ser 0.213 m1 0.908 m10 0.838 price 2.693 sum 5.794\n"
     ]
    },
    {
     "name": "stderr",
     "output_type": "stream",
     "text": [
      "\u001b[32m[I 2023-05-12 13:47:09,432]\u001b[0m Trial 490 finished with value: 5.361436866839078 and parameters: {'svd': 0.6000000000000001, 'lfm_cos': 0.6000000000000001, 'nn_bias': 0.20000000000000018, 'catboost': -0.6, 'knn': 0.10000000000000009, 'quality': -0.9, 'volume': 0.5}. Best is trial 360 with value: 5.86264772102292.\u001b[0m\n"
     ]
    },
    {
     "name": "stdout",
     "output_type": "stream",
     "text": [
      "time 2.657 cat_cov 99.0 cov 100.0 nov 0.702 ser 0.215 m1 0.779 m10 0.715 price 2.881 sum 5.361\n"
     ]
    },
    {
     "name": "stderr",
     "output_type": "stream",
     "text": [
      "\u001b[32m[I 2023-05-12 13:47:12,105]\u001b[0m Trial 491 finished with value: 5.710322567908454 and parameters: {'svd': 0.40000000000000013, 'lfm_cos': -0.7, 'nn_bias': 0.10000000000000009, 'catboost': -0.8, 'knn': 0.0, 'quality': -0.29999999999999993, 'volume': 0.8}. Best is trial 360 with value: 5.86264772102292.\u001b[0m\n"
     ]
    },
    {
     "name": "stdout",
     "output_type": "stream",
     "text": [
      "time 2.639 cat_cov 99.0 cov 100.0 nov 1.078 ser 0.198 m1 0.837 m10 0.759 price 2.541 sum 5.71\n"
     ]
    },
    {
     "name": "stderr",
     "output_type": "stream",
     "text": [
      "\u001b[32m[I 2023-05-12 13:47:14,847]\u001b[0m Trial 492 finished with value: 5.706386069848017 and parameters: {'svd': 0.6000000000000001, 'lfm_cos': -0.19999999999999996, 'nn_bias': 0.0, 'catboost': -0.6, 'knn': 0.20000000000000018, 'quality': 0.0, 'volume': 0.7000000000000002}. Best is trial 360 with value: 5.86264772102292.\u001b[0m\n"
     ]
    },
    {
     "name": "stdout",
     "output_type": "stream",
     "text": [
      "time 2.708 cat_cov 97.0 cov 100.0 nov 0.923 ser 0.203 m1 0.894 m10 0.828 price 2.666 sum 5.706\n"
     ]
    },
    {
     "name": "stderr",
     "output_type": "stream",
     "text": [
      "\u001b[32m[I 2023-05-12 13:47:17,539]\u001b[0m Trial 493 finished with value: 5.734133325185764 and parameters: {'svd': 0.7000000000000002, 'lfm_cos': 0.0, 'nn_bias': 0.10000000000000009, 'catboost': -0.09999999999999998, 'knn': 0.0, 'quality': -0.09999999999999998, 'volume': 0.6000000000000001}. Best is trial 360 with value: 5.86264772102292.\u001b[0m\n"
     ]
    },
    {
     "name": "stdout",
     "output_type": "stream",
     "text": [
      "time 2.659 cat_cov 99.0 cov 100.0 nov 0.798 ser 0.196 m1 0.956 m10 0.889 price 2.718 sum 5.734\n"
     ]
    },
    {
     "name": "stderr",
     "output_type": "stream",
     "text": [
      "\u001b[32m[I 2023-05-12 13:47:20,250]\u001b[0m Trial 494 finished with value: 5.153809629906529 and parameters: {'svd': 0.5, 'lfm_cos': -0.09999999999999998, 'nn_bias': 0.20000000000000018, 'catboost': -0.7, 'knn': 0.7000000000000002, 'quality': -0.09999999999999998, 'volume': 0.7000000000000002}. Best is trial 360 with value: 5.86264772102292.\u001b[0m\n"
     ]
    },
    {
     "name": "stdout",
     "output_type": "stream",
     "text": [
      "time 2.677 cat_cov 98.0 cov 100.0 nov 0.902 ser 0.181 m1 0.548 m10 0.701 price 2.525 sum 5.154\n"
     ]
    },
    {
     "name": "stderr",
     "output_type": "stream",
     "text": [
      "\u001b[32m[I 2023-05-12 13:47:22,937]\u001b[0m Trial 495 finished with value: 5.650402020711912 and parameters: {'svd': 0.6000000000000001, 'lfm_cos': 0.10000000000000009, 'nn_bias': -0.9, 'catboost': -0.7, 'knn': -0.09999999999999998, 'quality': -0.19999999999999996, 'volume': 0.6000000000000001}. Best is trial 360 with value: 5.86264772102292.\u001b[0m\n"
     ]
    },
    {
     "name": "stdout",
     "output_type": "stream",
     "text": [
      "time 2.653 cat_cov 96.0 cov 100.0 nov 0.744 ser 0.222 m1 0.912 m10 0.824 price 2.965 sum 5.65\n"
     ]
    },
    {
     "name": "stderr",
     "output_type": "stream",
     "text": [
      "\u001b[32m[I 2023-05-12 13:47:25,615]\u001b[0m Trial 496 finished with value: 5.786519698121184 and parameters: {'svd': 0.5, 'lfm_cos': 0.0, 'nn_bias': -0.29999999999999993, 'catboost': -0.5, 'knn': 0.10000000000000009, 'quality': 0.0, 'volume': 0.8}. Best is trial 360 with value: 5.86264772102292.\u001b[0m\n"
     ]
    },
    {
     "name": "stdout",
     "output_type": "stream",
     "text": [
      "time 2.646 cat_cov 99.0 cov 100.0 nov 0.813 ser 0.22 m1 0.923 m10 0.842 price 2.995 sum 5.787\n"
     ]
    },
    {
     "name": "stderr",
     "output_type": "stream",
     "text": [
      "\u001b[32m[I 2023-05-12 13:47:28,282]\u001b[0m Trial 497 finished with value: 5.737704366006419 and parameters: {'svd': 0.7000000000000002, 'lfm_cos': 0.0, 'nn_bias': 0.0, 'catboost': -0.8, 'knn': 0.0, 'quality': -0.29999999999999993, 'volume': 0.5}. Best is trial 360 with value: 5.86264772102292.\u001b[0m\n"
     ]
    },
    {
     "name": "stdout",
     "output_type": "stream",
     "text": [
      "time 2.633 cat_cov 98.0 cov 100.0 nov 0.776 ser 0.217 m1 0.928 m10 0.849 price 2.961 sum 5.738\n"
     ]
    },
    {
     "name": "stderr",
     "output_type": "stream",
     "text": [
      "\u001b[32m[I 2023-05-12 13:47:30,942]\u001b[0m Trial 498 finished with value: 5.353248315751308 and parameters: {'svd': 0.10000000000000009, 'lfm_cos': -0.09999999999999998, 'nn_bias': 0.10000000000000009, 'catboost': -0.6, 'knn': 0.0, 'quality': -0.19999999999999996, 'volume': 0.7000000000000002}. Best is trial 360 with value: 5.86264772102292.\u001b[0m\n"
     ]
    },
    {
     "name": "stdout",
     "output_type": "stream",
     "text": [
      "time 2.627 cat_cov 91.0 cov 100.0 nov 1.057 ser 0.205 m1 0.654 m10 0.649 price 2.637 sum 5.353\n"
     ]
    },
    {
     "name": "stderr",
     "output_type": "stream",
     "text": [
      "\u001b[32m[I 2023-05-12 13:47:33,620]\u001b[0m Trial 499 finished with value: 5.779617246831739 and parameters: {'svd': 0.40000000000000013, 'lfm_cos': 0.0, 'nn_bias': 0.10000000000000009, 'catboost': -0.7, 'knn': -0.09999999999999998, 'quality': -0.09999999999999998, 'volume': -0.9}. Best is trial 360 with value: 5.86264772102292.\u001b[0m\n"
     ]
    },
    {
     "name": "stdout",
     "output_type": "stream",
     "text": [
      "time 2.645 cat_cov 98.0 cov 100.0 nov 1.013 ser 0.213 m1 0.907 m10 0.84 price 2.484 sum 5.78\n"
     ]
    },
    {
     "name": "stderr",
     "output_type": "stream",
     "text": [
      "\u001b[32m[I 2023-05-12 13:47:36,329]\u001b[0m Trial 500 finished with value: 5.047421461690734 and parameters: {'svd': 0.6000000000000001, 'lfm_cos': -0.09999999999999998, 'nn_bias': 0.20000000000000018, 'catboost': 0.6000000000000001, 'knn': -0.19999999999999996, 'quality': 0.10000000000000009, 'volume': 0.7000000000000002}. Best is trial 360 with value: 5.86264772102292.\u001b[0m\n"
     ]
    },
    {
     "name": "stdout",
     "output_type": "stream",
     "text": [
      "time 2.674 cat_cov 92.0 cov 100.0 nov 0.601 ser 0.153 m1 0.736 m10 0.731 price 2.721 sum 5.047\n"
     ]
    },
    {
     "name": "stderr",
     "output_type": "stream",
     "text": [
      "\u001b[32m[I 2023-05-12 13:47:39,023]\u001b[0m Trial 501 finished with value: 5.8304597772360545 and parameters: {'svd': 0.5, 'lfm_cos': 0.0, 'nn_bias': 0.10000000000000009, 'catboost': -0.7, 'knn': 0.10000000000000009, 'quality': -0.19999999999999996, 'volume': 0.6000000000000001}. Best is trial 360 with value: 5.86264772102292.\u001b[0m\n"
     ]
    },
    {
     "name": "stdout",
     "output_type": "stream",
     "text": [
      "time 2.66 cat_cov 99.0 cov 100.0 nov 0.979 ser 0.212 m1 0.91 m10 0.844 price 2.684 sum 5.83\n"
     ]
    },
    {
     "name": "stderr",
     "output_type": "stream",
     "text": [
      "\u001b[32m[I 2023-05-12 13:47:41,695]\u001b[0m Trial 502 finished with value: 5.736753545798289 and parameters: {'svd': 0.7000000000000002, 'lfm_cos': 0.10000000000000009, 'nn_bias': 0.0, 'catboost': -0.8, 'knn': 0.0, 'quality': 0.0, 'volume': 0.40000000000000013}. Best is trial 360 with value: 5.86264772102292.\u001b[0m\n"
     ]
    },
    {
     "name": "stdout",
     "output_type": "stream",
     "text": [
      "time 2.638 cat_cov 99.0 cov 100.0 nov 0.765 ser 0.223 m1 0.932 m10 0.849 price 2.933 sum 5.737\n"
     ]
    },
    {
     "name": "stderr",
     "output_type": "stream",
     "text": [
      "\u001b[32m[I 2023-05-12 13:47:44,376]\u001b[0m Trial 503 finished with value: 5.756946214057508 and parameters: {'svd': 0.6000000000000001, 'lfm_cos': -0.19999999999999996, 'nn_bias': 0.10000000000000009, 'catboost': -0.7, 'knn': 0.10000000000000009, 'quality': -0.09999999999999998, 'volume': -0.3999999999999999}. Best is trial 360 with value: 5.86264772102292.\u001b[0m\n"
     ]
    },
    {
     "name": "stdout",
     "output_type": "stream",
     "text": [
      "time 2.647 cat_cov 98.0 cov 100.0 nov 1.024 ser 0.206 m1 0.885 m10 0.825 price 2.515 sum 5.757\n"
     ]
    },
    {
     "name": "stderr",
     "output_type": "stream",
     "text": [
      "\u001b[32m[I 2023-05-12 13:47:47,106]\u001b[0m Trial 504 finished with value: 5.10869348882798 and parameters: {'svd': 0.6000000000000001, 'lfm_cos': 0.0, 'nn_bias': 0.20000000000000018, 'catboost': -0.8, 'knn': 0.9000000000000001, 'quality': -0.29999999999999993, 'volume': 0.10000000000000009}. Best is trial 360 with value: 5.86264772102292.\u001b[0m\n"
     ]
    },
    {
     "name": "stdout",
     "output_type": "stream",
     "text": [
      "time 2.695 cat_cov 98.0 cov 100.0 nov 0.871 ser 0.179 m1 0.544 m10 0.697 price 2.515 sum 5.109\n"
     ]
    },
    {
     "name": "stderr",
     "output_type": "stream",
     "text": [
      "\u001b[32m[I 2023-05-12 13:47:49,807]\u001b[0m Trial 505 finished with value: 5.80772143065512 and parameters: {'svd': 0.5, 'lfm_cos': -0.09999999999999998, 'nn_bias': 0.0, 'catboost': -0.6, 'knn': -0.09999999999999998, 'quality': -0.09999999999999998, 'volume': 0.20000000000000018}. Best is trial 360 with value: 5.86264772102292.\u001b[0m\n"
     ]
    },
    {
     "name": "stdout",
     "output_type": "stream",
     "text": [
      "time 2.668 cat_cov 96.0 cov 100.0 nov 0.965 ser 0.213 m1 0.915 m10 0.846 price 2.725 sum 5.808\n"
     ]
    },
    {
     "name": "stderr",
     "output_type": "stream",
     "text": [
      "\u001b[32m[I 2023-05-12 13:47:52,524]\u001b[0m Trial 506 finished with value: 5.827855896315072 and parameters: {'svd': 0.7000000000000002, 'lfm_cos': 0.0, 'nn_bias': 0.10000000000000009, 'catboost': -0.7, 'knn': 0.0, 'quality': 0.0, 'volume': 0.8}. Best is trial 360 with value: 5.86264772102292.\u001b[0m\n"
     ]
    },
    {
     "name": "stdout",
     "output_type": "stream",
     "text": [
      "time 2.682 cat_cov 99.0 cov 100.0 nov 0.917 ser 0.211 m1 0.93 m10 0.851 price 2.782 sum 5.828\n"
     ]
    },
    {
     "name": "stderr",
     "output_type": "stream",
     "text": [
      "\u001b[32m[I 2023-05-12 13:47:55,211]\u001b[0m Trial 507 finished with value: 5.713388743400918 and parameters: {'svd': 0.6000000000000001, 'lfm_cos': 0.10000000000000009, 'nn_bias': -0.09999999999999998, 'catboost': -0.7, 'knn': 0.0, 'quality': -0.19999999999999996, 'volume': 0.6000000000000001}. Best is trial 360 with value: 5.86264772102292.\u001b[0m\n"
     ]
    },
    {
     "name": "stdout",
     "output_type": "stream",
     "text": [
      "time 2.652 cat_cov 97.0 cov 100.0 nov 0.759 ser 0.225 m1 0.932 m10 0.848 price 2.942 sum 5.713\n"
     ]
    },
    {
     "name": "stderr",
     "output_type": "stream",
     "text": [
      "\u001b[32m[I 2023-05-12 13:47:57,884]\u001b[0m Trial 508 finished with value: 5.6308256210106595 and parameters: {'svd': 0.5, 'lfm_cos': 0.20000000000000018, 'nn_bias': 0.10000000000000009, 'catboost': -0.6, 'knn': 0.30000000000000004, 'quality': -0.09999999999999998, 'volume': 0.8}. Best is trial 360 with value: 5.86264772102292.\u001b[0m\n"
     ]
    },
    {
     "name": "stdout",
     "output_type": "stream",
     "text": [
      "time 2.638 cat_cov 99.0 cov 100.0 nov 0.777 ser 0.211 m1 0.88 m10 0.835 price 2.816 sum 5.631\n"
     ]
    },
    {
     "name": "stderr",
     "output_type": "stream",
     "text": [
      "\u001b[32m[I 2023-05-12 13:48:00,580]\u001b[0m Trial 509 finished with value: 5.76449343937522 and parameters: {'svd': 0.7000000000000002, 'lfm_cos': -0.09999999999999998, 'nn_bias': 0.20000000000000018, 'catboost': -0.8, 'knn': 0.10000000000000009, 'quality': -0.29999999999999993, 'volume': 0.7000000000000002}. Best is trial 360 with value: 5.86264772102292.\u001b[0m\n"
     ]
    },
    {
     "name": "stdout",
     "output_type": "stream",
     "text": [
      "time 2.662 cat_cov 97.0 cov 100.0 nov 0.986 ser 0.206 m1 0.899 m10 0.834 price 2.609 sum 5.764\n"
     ]
    },
    {
     "name": "stderr",
     "output_type": "stream",
     "text": [
      "\u001b[32m[I 2023-05-12 13:48:03,262]\u001b[0m Trial 510 finished with value: 5.72694672713539 and parameters: {'svd': 0.40000000000000013, 'lfm_cos': 0.0, 'nn_bias': 0.0, 'catboost': -0.7, 'knn': -0.09999999999999998, 'quality': -0.19999999999999996, 'volume': 0.6000000000000001}. Best is trial 360 with value: 5.86264772102292.\u001b[0m\n"
     ]
    },
    {
     "name": "stdout",
     "output_type": "stream",
     "text": [
      "time 2.646 cat_cov 91.0 cov 100.0 nov 0.78 ser 0.224 m1 0.92 m10 0.845 price 3.144 sum 5.727\n"
     ]
    },
    {
     "name": "stderr",
     "output_type": "stream",
     "text": [
      "\u001b[32m[I 2023-05-12 13:48:05,973]\u001b[0m Trial 511 finished with value: 5.82007165822802 and parameters: {'svd': 0.6000000000000001, 'lfm_cos': -0.09999999999999998, 'nn_bias': 0.10000000000000009, 'catboost': -0.8, 'knn': 0.0, 'quality': -0.09999999999999998, 'volume': 0.5}. Best is trial 360 with value: 5.86264772102292.\u001b[0m\n"
     ]
    },
    {
     "name": "stdout",
     "output_type": "stream",
     "text": [
      "time 2.676 cat_cov 97.0 cov 100.0 nov 1.003 ser 0.211 m1 0.913 m10 0.843 price 2.638 sum 5.82\n"
     ]
    },
    {
     "name": "stderr",
     "output_type": "stream",
     "text": [
      "\u001b[32m[I 2023-05-12 13:48:08,692]\u001b[0m Trial 512 finished with value: 5.783502176931626 and parameters: {'svd': 0.5, 'lfm_cos': 0.0, 'nn_bias': 0.20000000000000018, 'catboost': -0.6, 'knn': 0.0, 'quality': 0.0, 'volume': 0.7000000000000002}. Best is trial 360 with value: 5.86264772102292.\u001b[0m\n"
     ]
    },
    {
     "name": "stdout",
     "output_type": "stream",
     "text": [
      "time 2.683 cat_cov 98.0 cov 100.0 nov 0.961 ser 0.209 m1 0.901 m10 0.83 price 2.705 sum 5.784\n"
     ]
    },
    {
     "name": "stderr",
     "output_type": "stream",
     "text": [
      "\u001b[32m[I 2023-05-12 13:48:11,410]\u001b[0m Trial 513 finished with value: 5.783613701531174 and parameters: {'svd': 0.7000000000000002, 'lfm_cos': -0.19999999999999996, 'nn_bias': 0.0, 'catboost': -0.7, 'knn': 0.10000000000000009, 'quality': -0.19999999999999996, 'volume': 0.6000000000000001}. Best is trial 360 with value: 5.86264772102292.\u001b[0m\n"
     ]
    },
    {
     "name": "stdout",
     "output_type": "stream",
     "text": [
      "time 2.683 cat_cov 99.0 cov 100.0 nov 0.954 ser 0.207 m1 0.909 m10 0.837 price 2.661 sum 5.784\n"
     ]
    },
    {
     "name": "stderr",
     "output_type": "stream",
     "text": [
      "\u001b[32m[I 2023-05-12 13:48:14,088]\u001b[0m Trial 514 finished with value: 5.774655672865989 and parameters: {'svd': 0.7000000000000002, 'lfm_cos': 0.10000000000000009, 'nn_bias': 0.10000000000000009, 'catboost': -0.9, 'knn': -0.19999999999999996, 'quality': 0.0, 'volume': 0.8}. Best is trial 360 with value: 5.86264772102292.\u001b[0m\n"
     ]
    },
    {
     "name": "stdout",
     "output_type": "stream",
     "text": [
      "time 2.643 cat_cov 96.0 cov 100.0 nov 0.829 ser 0.224 m1 0.926 m10 0.851 price 2.955 sum 5.775\n"
     ]
    },
    {
     "name": "stderr",
     "output_type": "stream",
     "text": [
      "\u001b[32m[I 2023-05-12 13:48:16,771]\u001b[0m Trial 515 finished with value: 5.7722370831606975 and parameters: {'svd': 0.6000000000000001, 'lfm_cos': 0.0, 'nn_bias': -0.19999999999999996, 'catboost': -0.7, 'knn': -0.09999999999999998, 'quality': 0.10000000000000009, 'volume': 0.8}. Best is trial 360 with value: 5.86264772102292.\u001b[0m\n"
     ]
    },
    {
     "name": "stdout",
     "output_type": "stream",
     "text": [
      "time 2.649 cat_cov 98.0 cov 100.0 nov 0.768 ser 0.226 m1 0.923 m10 0.843 price 3.098 sum 5.772\n"
     ]
    },
    {
     "name": "stderr",
     "output_type": "stream",
     "text": [
      "\u001b[32m[I 2023-05-12 13:48:19,472]\u001b[0m Trial 516 finished with value: 5.770557735081227 and parameters: {'svd': 0.5, 'lfm_cos': -0.09999999999999998, 'nn_bias': 0.10000000000000009, 'catboost': -0.8, 'knn': 0.20000000000000018, 'quality': -0.29999999999999993, 'volume': 0.7000000000000002}. Best is trial 360 with value: 5.86264772102292.\u001b[0m\n"
     ]
    },
    {
     "name": "stdout",
     "output_type": "stream",
     "text": [
      "time 2.665 cat_cov 98.0 cov 100.0 nov 1.021 ser 0.208 m1 0.876 m10 0.824 price 2.585 sum 5.771\n"
     ]
    },
    {
     "name": "stderr",
     "output_type": "stream",
     "text": [
      "\u001b[32m[I 2023-05-12 13:48:22,163]\u001b[0m Trial 517 finished with value: 5.710207092598453 and parameters: {'svd': 0.6000000000000001, 'lfm_cos': 0.10000000000000009, 'nn_bias': 0.10000000000000009, 'catboost': -0.29999999999999993, 'knn': 0.0, 'quality': -0.09999999999999998, 'volume': 0.5}. Best is trial 360 with value: 5.86264772102292.\u001b[0m\n"
     ]
    },
    {
     "name": "stdout",
     "output_type": "stream",
     "text": [
      "time 2.657 cat_cov 96.0 cov 100.0 nov 0.782 ser 0.208 m1 0.946 m10 0.877 price 2.813 sum 5.71\n"
     ]
    },
    {
     "name": "stderr",
     "output_type": "stream",
     "text": [
      "\u001b[32m[I 2023-05-12 13:48:24,859]\u001b[0m Trial 518 finished with value: 5.8041574197385986 and parameters: {'svd': 0.30000000000000004, 'lfm_cos': 0.0, 'nn_bias': 0.0, 'catboost': -0.9, 'knn': 0.10000000000000009, 'quality': -0.19999999999999996, 'volume': 0.7000000000000002}. Best is trial 360 with value: 5.86264772102292.\u001b[0m\n"
     ]
    },
    {
     "name": "stdout",
     "output_type": "stream",
     "text": [
      "time 2.661 cat_cov 96.0 cov 100.0 nov 0.875 ser 0.222 m1 0.908 m10 0.838 price 3.006 sum 5.804\n"
     ]
    },
    {
     "name": "stderr",
     "output_type": "stream",
     "text": [
      "\u001b[32m[I 2023-05-12 13:48:27,568]\u001b[0m Trial 519 finished with value: 5.802942090582098 and parameters: {'svd': 0.5, 'lfm_cos': -0.09999999999999998, 'nn_bias': 0.10000000000000009, 'catboost': -0.5, 'knn': 0.0, 'quality': -0.09999999999999998, 'volume': 0.30000000000000004}. Best is trial 360 with value: 5.86264772102292.\u001b[0m\n"
     ]
    },
    {
     "name": "stdout",
     "output_type": "stream",
     "text": [
      "time 2.674 cat_cov 99.0 cov 100.0 nov 0.98 ser 0.207 m1 0.912 m10 0.84 price 2.621 sum 5.803\n"
     ]
    },
    {
     "name": "stderr",
     "output_type": "stream",
     "text": [
      "\u001b[32m[I 2023-05-12 13:48:30,271]\u001b[0m Trial 520 finished with value: 5.527164516128321 and parameters: {'svd': 0.6000000000000001, 'lfm_cos': 0.0, 'nn_bias': 0.20000000000000018, 'catboost': 0.20000000000000018, 'knn': -0.09999999999999998, 'quality': -0.29999999999999993, 'volume': 0.6000000000000001}. Best is trial 360 with value: 5.86264772102292.\u001b[0m\n"
     ]
    },
    {
     "name": "stdout",
     "output_type": "stream",
     "text": [
      "time 2.668 cat_cov 98.0 cov 100.0 nov 0.735 ser 0.182 m1 0.88 m10 0.847 price 2.712 sum 5.527\n"
     ]
    },
    {
     "name": "stderr",
     "output_type": "stream",
     "text": [
      "\u001b[32m[I 2023-05-12 13:48:32,956]\u001b[0m Trial 521 finished with value: 5.783119458917168 and parameters: {'svd': 0.7000000000000002, 'lfm_cos': 0.0, 'nn_bias': 0.0, 'catboost': -0.6, 'knn': 0.0, 'quality': -0.19999999999999996, 'volume': 0.6000000000000001}. Best is trial 360 with value: 5.86264772102292.\u001b[0m\n"
     ]
    },
    {
     "name": "stdout",
     "output_type": "stream",
     "text": [
      "time 2.649 cat_cov 100.0 cov 100.0 nov 0.768 ser 0.216 m1 0.935 m10 0.849 price 3.048 sum 5.783\n"
     ]
    },
    {
     "name": "stderr",
     "output_type": "stream",
     "text": [
      "\u001b[32m[I 2023-05-12 13:48:35,693]\u001b[0m Trial 522 finished with value: 5.797209296573225 and parameters: {'svd': 0.40000000000000013, 'lfm_cos': -0.09999999999999998, 'nn_bias': 0.10000000000000009, 'catboost': -0.7, 'knn': 0.10000000000000009, 'quality': 0.0, 'volume': 0.8}. Best is trial 360 with value: 5.86264772102292.\u001b[0m\n"
     ]
    },
    {
     "name": "stdout",
     "output_type": "stream",
     "text": [
      "time 2.699 cat_cov 98.0 cov 100.0 nov 1.017 ser 0.209 m1 0.885 m10 0.825 price 2.641 sum 5.797\n"
     ]
    },
    {
     "name": "stderr",
     "output_type": "stream",
     "text": [
      "\u001b[32m[I 2023-05-12 13:48:38,425]\u001b[0m Trial 523 finished with value: 5.774940340716903 and parameters: {'svd': 0.5, 'lfm_cos': 0.10000000000000009, 'nn_bias': 0.20000000000000018, 'catboost': -0.7, 'knn': 0.0, 'quality': -0.09999999999999998, 'volume': 0.40000000000000013}. Best is trial 360 with value: 5.86264772102292.\u001b[0m\n"
     ]
    },
    {
     "name": "stdout",
     "output_type": "stream",
     "text": [
      "time 2.697 cat_cov 98.0 cov 100.0 nov 0.927 ser 0.215 m1 0.907 m10 0.838 price 2.724 sum 5.775\n"
     ]
    },
    {
     "name": "stderr",
     "output_type": "stream",
     "text": [
      "\u001b[32m[I 2023-05-12 13:48:41,065]\u001b[0m Trial 524 finished with value: 4.270765595442717 and parameters: {'svd': -0.09999999999999998, 'lfm_cos': 0.0, 'nn_bias': 0.0, 'catboost': -0.6, 'knn': -0.09999999999999998, 'quality': -0.09999999999999998, 'volume': 0.7000000000000002}. Best is trial 360 with value: 5.86264772102292.\u001b[0m\n"
     ]
    },
    {
     "name": "stdout",
     "output_type": "stream",
     "text": [
      "time 2.605 cat_cov 91.0 cov 99.0 nov 0.869 ser 0.165 m1 0.134 m10 0.27 price 2.8 sum 4.271\n"
     ]
    },
    {
     "name": "stderr",
     "output_type": "stream",
     "text": [
      "\u001b[32m[I 2023-05-12 13:48:43,764]\u001b[0m Trial 525 finished with value: 5.822599608767289 and parameters: {'svd': 0.6000000000000001, 'lfm_cos': -0.09999999999999998, 'nn_bias': 0.10000000000000009, 'catboost': -0.8, 'knn': 0.0, 'quality': -0.19999999999999996, 'volume': 0.7000000000000002}. Best is trial 360 with value: 5.86264772102292.\u001b[0m\n"
     ]
    },
    {
     "name": "stdout",
     "output_type": "stream",
     "text": [
      "time 2.664 cat_cov 97.0 cov 100.0 nov 0.998 ser 0.211 m1 0.914 m10 0.844 price 2.659 sum 5.823\n"
     ]
    },
    {
     "name": "stderr",
     "output_type": "stream",
     "text": [
      "\u001b[32m[I 2023-05-12 13:48:46,470]\u001b[0m Trial 526 finished with value: 5.751132542597665 and parameters: {'svd': 0.7000000000000002, 'lfm_cos': 0.0, 'nn_bias': 0.20000000000000018, 'catboost': -0.7, 'knn': 0.10000000000000009, 'quality': 0.0, 'volume': 0.6000000000000001}. Best is trial 360 with value: 5.86264772102292.\u001b[0m\n"
     ]
    },
    {
     "name": "stdout",
     "output_type": "stream",
     "text": [
      "time 2.67 cat_cov 97.0 cov 100.0 nov 0.942 ser 0.205 m1 0.909 m10 0.844 price 2.642 sum 5.751\n"
     ]
    },
    {
     "name": "stderr",
     "output_type": "stream",
     "text": [
      "\u001b[32m[I 2023-05-12 13:48:49,171]\u001b[0m Trial 527 finished with value: 5.809013783491871 and parameters: {'svd': 0.5, 'lfm_cos': -0.09999999999999998, 'nn_bias': 0.10000000000000009, 'catboost': -0.5, 'knn': 0.0, 'quality': -0.29999999999999993, 'volume': 0.8}. Best is trial 360 with value: 5.86264772102292.\u001b[0m\n"
     ]
    },
    {
     "name": "stdout",
     "output_type": "stream",
     "text": [
      "time 2.666 cat_cov 99.0 cov 100.0 nov 0.965 ser 0.208 m1 0.914 m10 0.84 price 2.676 sum 5.809\n"
     ]
    },
    {
     "name": "stderr",
     "output_type": "stream",
     "text": [
      "\u001b[32m[I 2023-05-12 13:48:51,853]\u001b[0m Trial 528 finished with value: 5.750354640944109 and parameters: {'svd': 0.6000000000000001, 'lfm_cos': -0.19999999999999996, 'nn_bias': 0.0, 'catboost': -0.9, 'knn': 0.20000000000000018, 'quality': 0.0, 'volume': 0.5}. Best is trial 360 with value: 5.86264772102292.\u001b[0m\n"
     ]
    },
    {
     "name": "stdout",
     "output_type": "stream",
     "text": [
      "time 2.646 cat_cov 96.0 cov 100.0 nov 0.999 ser 0.208 m1 0.886 m10 0.823 price 2.624 sum 5.75\n"
     ]
    },
    {
     "name": "stderr",
     "output_type": "stream",
     "text": [
      "\u001b[32m[I 2023-05-12 13:48:54,548]\u001b[0m Trial 529 finished with value: 5.801831728880075 and parameters: {'svd': 0.40000000000000013, 'lfm_cos': 0.0, 'nn_bias': 0.10000000000000009, 'catboost': -0.8, 'knn': -0.09999999999999998, 'quality': -0.19999999999999996, 'volume': 0.6000000000000001}. Best is trial 360 with value: 5.86264772102292.\u001b[0m\n"
     ]
    },
    {
     "name": "stdout",
     "output_type": "stream",
     "text": [
      "time 2.661 cat_cov 93.0 cov 100.0 nov 0.957 ser 0.218 m1 0.913 m10 0.845 price 2.817 sum 5.802\n"
     ]
    },
    {
     "name": "stderr",
     "output_type": "stream",
     "text": [
      "\u001b[32m[I 2023-05-12 13:48:57,234]\u001b[0m Trial 530 finished with value: 5.740300444210032 and parameters: {'svd': 0.6000000000000001, 'lfm_cos': 0.10000000000000009, 'nn_bias': -0.09999999999999998, 'catboost': -0.7, 'knn': 0.0, 'quality': -0.09999999999999998, 'volume': 0.7000000000000002}. Best is trial 360 with value: 5.86264772102292.\u001b[0m\n"
     ]
    },
    {
     "name": "stdout",
     "output_type": "stream",
     "text": [
      "time 2.65 cat_cov 99.0 cov 100.0 nov 0.757 ser 0.225 m1 0.932 m10 0.848 price 2.963 sum 5.74\n"
     ]
    },
    {
     "name": "stderr",
     "output_type": "stream",
     "text": [
      "\u001b[32m[I 2023-05-12 13:48:59,943]\u001b[0m Trial 531 finished with value: 5.762521859121449 and parameters: {'svd': 0.7000000000000002, 'lfm_cos': -0.09999999999999998, 'nn_bias': 0.10000000000000009, 'catboost': -0.6, 'knn': 0.10000000000000009, 'quality': -0.09999999999999998, 'volume': 0.8}. Best is trial 360 with value: 5.86264772102292.\u001b[0m\n"
     ]
    },
    {
     "name": "stdout",
     "output_type": "stream",
     "text": [
      "time 2.675 cat_cov 98.0 cov 100.0 nov 0.922 ser 0.205 m1 0.918 m10 0.849 price 2.667 sum 5.763\n"
     ]
    },
    {
     "name": "stderr",
     "output_type": "stream",
     "text": [
      "\u001b[32m[I 2023-05-12 13:49:02,616]\u001b[0m Trial 532 finished with value: 5.749367410646876 and parameters: {'svd': 0.5, 'lfm_cos': 0.0, 'nn_bias': 0.0, 'catboost': -0.9, 'knn': -0.09999999999999998, 'quality': -0.19999999999999996, 'volume': 0.6000000000000001}. Best is trial 360 with value: 5.86264772102292.\u001b[0m\n"
     ]
    },
    {
     "name": "stdout",
     "output_type": "stream",
     "text": [
      "time 2.638 cat_cov 93.0 cov 100.0 nov 0.783 ser 0.224 m1 0.921 m10 0.846 price 3.137 sum 5.749\n"
     ]
    },
    {
     "name": "stderr",
     "output_type": "stream",
     "text": [
      "\u001b[32m[I 2023-05-12 13:49:06,020]\u001b[0m Trial 533 finished with value: 5.523280764313366 and parameters: {'svd': 0.7000000000000002, 'lfm_cos': 0.0, 'nn_bias': 0.20000000000000018, 'catboost': -0.7, 'knn': 0.5, 'quality': -0.29999999999999993, 'volume': 0.7000000000000002}. Best is trial 360 with value: 5.86264772102292.\u001b[0m\n"
     ]
    },
    {
     "name": "stdout",
     "output_type": "stream",
     "text": [
      "time 3.368 cat_cov 95.0 cov 100.0 nov 0.903 ser 0.194 m1 0.805 m10 0.813 price 2.573 sum 5.523\n"
     ]
    },
    {
     "name": "stderr",
     "output_type": "stream",
     "text": [
      "\u001b[32m[I 2023-05-12 13:49:08,710]\u001b[0m Trial 534 finished with value: 5.822394784525984 and parameters: {'svd': 0.6000000000000001, 'lfm_cos': -0.09999999999999998, 'nn_bias': 0.10000000000000009, 'catboost': -0.8, 'knn': 0.0, 'quality': 0.0, 'volume': -0.09999999999999998}. Best is trial 360 with value: 5.86264772102292.\u001b[0m\n"
     ]
    },
    {
     "name": "stdout",
     "output_type": "stream",
     "text": [
      "time 2.655 cat_cov 98.0 cov 100.0 nov 1.019 ser 0.21 m1 0.911 m10 0.842 price 2.582 sum 5.822\n"
     ]
    },
    {
     "name": "stderr",
     "output_type": "stream",
     "text": [
      "\u001b[32m[I 2023-05-12 13:49:11,410]\u001b[0m Trial 535 finished with value: 5.777405611102347 and parameters: {'svd': 0.5, 'lfm_cos': 0.10000000000000009, 'nn_bias': 0.20000000000000018, 'catboost': -0.7, 'knn': 0.0, 'quality': -0.09999999999999998, 'volume': 0.5}. Best is trial 360 with value: 5.86264772102292.\u001b[0m\n"
     ]
    },
    {
     "name": "stdout",
     "output_type": "stream",
     "text": [
      "time 2.665 cat_cov 98.0 cov 100.0 nov 0.925 ser 0.215 m1 0.908 m10 0.838 price 2.735 sum 5.777\n"
     ]
    },
    {
     "name": "stderr",
     "output_type": "stream",
     "text": [
      "\u001b[32m[I 2023-05-12 13:49:14,116]\u001b[0m Trial 536 finished with value: 5.837661652024774 and parameters: {'svd': 0.6000000000000001, 'lfm_cos': 0.0, 'nn_bias': 0.10000000000000009, 'catboost': -0.6, 'knn': -0.19999999999999996, 'quality': -0.19999999999999996, 'volume': 0.8}. Best is trial 360 with value: 5.86264772102292.\u001b[0m\n"
     ]
    },
    {
     "name": "stdout",
     "output_type": "stream",
     "text": [
      "time 2.672 cat_cov 97.0 cov 100.0 nov 0.923 ser 0.217 m1 0.923 m10 0.851 price 2.86 sum 5.838\n"
     ]
    },
    {
     "name": "stderr",
     "output_type": "stream",
     "text": [
      "\u001b[32m[I 2023-05-12 13:49:16,793]\u001b[0m Trial 537 finished with value: 5.796016761883951 and parameters: {'svd': 0.7000000000000002, 'lfm_cos': 0.0, 'nn_bias': 0.0, 'catboost': -0.5, 'knn': -0.19999999999999996, 'quality': -0.19999999999999996, 'volume': 0.8}. Best is trial 360 with value: 5.86264772102292.\u001b[0m\n"
     ]
    },
    {
     "name": "stdout",
     "output_type": "stream",
     "text": [
      "time 2.641 cat_cov 99.0 cov 100.0 nov 0.758 ser 0.22 m1 0.93 m10 0.849 price 3.151 sum 5.796\n"
     ]
    },
    {
     "name": "stderr",
     "output_type": "stream",
     "text": [
      "\u001b[32m[I 2023-05-12 13:49:19,503]\u001b[0m Trial 538 finished with value: 5.7321292997504205 and parameters: {'svd': 0.40000000000000013, 'lfm_cos': -0.09999999999999998, 'nn_bias': 0.10000000000000009, 'catboost': -0.6, 'knn': -0.19999999999999996, 'quality': -0.19999999999999996, 'volume': 0.8}. Best is trial 360 with value: 5.86264772102292.\u001b[0m\n"
     ]
    },
    {
     "name": "stdout",
     "output_type": "stream",
     "text": [
      "time 2.674 cat_cov 90.0 cov 100.0 nov 0.976 ser 0.214 m1 0.898 m10 0.827 price 2.754 sum 5.732\n"
     ]
    },
    {
     "name": "stderr",
     "output_type": "stream",
     "text": [
      "\u001b[32m[I 2023-05-12 13:49:22,194]\u001b[0m Trial 539 finished with value: 5.784996585737428 and parameters: {'svd': 0.6000000000000001, 'lfm_cos': -0.19999999999999996, 'nn_bias': 0.0, 'catboost': -0.3999999999999999, 'knn': -0.19999999999999996, 'quality': -0.19999999999999996, 'volume': 0.8}. Best is trial 360 with value: 5.86264772102292.\u001b[0m\n"
     ]
    },
    {
     "name": "stdout",
     "output_type": "stream",
     "text": [
      "time 2.657 cat_cov 99.0 cov 100.0 nov 0.912 ser 0.21 m1 0.906 m10 0.834 price 2.8 sum 5.785\n"
     ]
    },
    {
     "name": "stderr",
     "output_type": "stream",
     "text": [
      "\u001b[32m[I 2023-05-12 13:49:24,892]\u001b[0m Trial 540 finished with value: 5.854041389952862 and parameters: {'svd': 0.6000000000000001, 'lfm_cos': 0.0, 'nn_bias': 0.10000000000000009, 'catboost': -0.6, 'knn': -0.09999999999999998, 'quality': -0.29999999999999993, 'volume': 0.8}. Best is trial 360 with value: 5.86264772102292.\u001b[0m\n"
     ]
    },
    {
     "name": "stdout",
     "output_type": "stream",
     "text": [
      "time 2.662 cat_cov 100.0 cov 100.0 nov 0.924 ser 0.215 m1 0.928 m10 0.852 price 2.806 sum 5.854\n"
     ]
    },
    {
     "name": "stderr",
     "output_type": "stream",
     "text": [
      "\u001b[32m[I 2023-05-12 13:49:27,611]\u001b[0m Trial 541 finished with value: 5.766231798881999 and parameters: {'svd': 0.5, 'lfm_cos': -0.09999999999999998, 'nn_bias': 0.20000000000000018, 'catboost': -0.6, 'knn': -0.19999999999999996, 'quality': -0.29999999999999993, 'volume': 0.8}. Best is trial 360 with value: 5.86264772102292.\u001b[0m\n"
     ]
    },
    {
     "name": "stdout",
     "output_type": "stream",
     "text": [
      "time 2.685 cat_cov 96.0 cov 100.0 nov 0.982 ser 0.211 m1 0.892 m10 0.819 price 2.706 sum 5.766\n"
     ]
    },
    {
     "name": "stderr",
     "output_type": "stream",
     "text": [
      "\u001b[32m[I 2023-05-12 13:49:30,328]\u001b[0m Trial 542 finished with value: 4.973499749012827 and parameters: {'svd': 0.7000000000000002, 'lfm_cos': 0.10000000000000009, 'nn_bias': 0.10000000000000009, 'catboost': 0.8, 'knn': -0.09999999999999998, 'quality': -0.3999999999999999, 'volume': 0.8}. Best is trial 360 with value: 5.86264772102292.\u001b[0m\n"
     ]
    },
    {
     "name": "stdout",
     "output_type": "stream",
     "text": [
      "time 2.681 cat_cov 96.0 cov 100.0 nov 0.579 ser 0.148 m1 0.693 m10 0.695 price 2.698 sum 4.973\n"
     ]
    },
    {
     "name": "stderr",
     "output_type": "stream",
     "text": [
      "\u001b[32m[I 2023-05-12 13:49:32,997]\u001b[0m Trial 543 finished with value: 5.781013564436931 and parameters: {'svd': 0.5, 'lfm_cos': 0.0, 'nn_bias': 0.0, 'catboost': -0.6, 'knn': -0.09999999999999998, 'quality': -0.29999999999999993, 'volume': 0.8}. Best is trial 360 with value: 5.86264772102292.\u001b[0m\n"
     ]
    },
    {
     "name": "stdout",
     "output_type": "stream",
     "text": [
      "time 2.632 cat_cov 97.0 cov 100.0 nov 0.771 ser 0.223 m1 0.926 m10 0.848 price 3.131 sum 5.781\n"
     ]
    },
    {
     "name": "stderr",
     "output_type": "stream",
     "text": [
      "\u001b[32m[I 2023-05-12 13:49:35,686]\u001b[0m Trial 544 finished with value: 5.835151110318911 and parameters: {'svd': 0.5, 'lfm_cos': 0.0, 'nn_bias': 0.10000000000000009, 'catboost': -0.5, 'knn': -0.09999999999999998, 'quality': -0.29999999999999993, 'volume': 0.8}. Best is trial 360 with value: 5.86264772102292.\u001b[0m\n"
     ]
    },
    {
     "name": "stdout",
     "output_type": "stream",
     "text": [
      "time 2.654 cat_cov 98.0 cov 100.0 nov 0.926 ser 0.215 m1 0.926 m10 0.851 price 2.812 sum 5.835\n"
     ]
    },
    {
     "name": "stderr",
     "output_type": "stream",
     "text": [
      "\u001b[32m[I 2023-05-12 13:49:38,370]\u001b[0m Trial 545 finished with value: 5.68152431914509 and parameters: {'svd': 0.7000000000000002, 'lfm_cos': -0.09999999999999998, 'nn_bias': -0.8, 'catboost': -0.6, 'knn': -0.19999999999999996, 'quality': -0.29999999999999993, 'volume': 0.8}. Best is trial 360 with value: 5.86264772102292.\u001b[0m\n"
     ]
    },
    {
     "name": "stdout",
     "output_type": "stream",
     "text": [
      "time 2.646 cat_cov 98.0 cov 100.0 nov 0.782 ser 0.218 m1 0.903 m10 0.821 price 2.933 sum 5.682\n"
     ]
    },
    {
     "name": "stderr",
     "output_type": "stream",
     "text": [
      "\u001b[32m[I 2023-05-12 13:49:41,070]\u001b[0m Trial 546 finished with value: 5.797015588650954 and parameters: {'svd': 0.6000000000000001, 'lfm_cos': 0.10000000000000009, 'nn_bias': 0.20000000000000018, 'catboost': -0.6, 'knn': -0.09999999999999998, 'quality': -0.3999999999999999, 'volume': 0.8}. Best is trial 360 with value: 5.86264772102292.\u001b[0m\n"
     ]
    },
    {
     "name": "stdout",
     "output_type": "stream",
     "text": [
      "time 2.665 cat_cov 99.0 cov 100.0 nov 0.893 ser 0.216 m1 0.924 m10 0.849 price 2.776 sum 5.797\n"
     ]
    },
    {
     "name": "stderr",
     "output_type": "stream",
     "text": [
      "\u001b[32m[I 2023-05-12 13:49:43,773]\u001b[0m Trial 547 finished with value: 5.809002224703091 and parameters: {'svd': 0.6000000000000001, 'lfm_cos': 0.0, 'nn_bias': 0.10000000000000009, 'catboost': -0.5, 'knn': -0.09999999999999998, 'quality': -0.19999999999999996, 'volume': 0.8}. Best is trial 360 with value: 5.86264772102292.\u001b[0m\n"
     ]
    },
    {
     "name": "stdout",
     "output_type": "stream",
     "text": [
      "time 2.668 cat_cov 97.0 cov 100.0 nov 0.91 ser 0.212 m1 0.931 m10 0.852 price 2.803 sum 5.809\n"
     ]
    },
    {
     "name": "stderr",
     "output_type": "stream",
     "text": [
      "\u001b[32m[I 2023-05-12 13:49:46,469]\u001b[0m Trial 548 finished with value: 5.785804515144323 and parameters: {'svd': 0.7000000000000002, 'lfm_cos': -0.09999999999999998, 'nn_bias': 0.0, 'catboost': -0.6, 'knn': -0.09999999999999998, 'quality': -0.29999999999999993, 'volume': 0.7000000000000002}. Best is trial 360 with value: 5.86264772102292.\u001b[0m\n"
     ]
    },
    {
     "name": "stdout",
     "output_type": "stream",
     "text": [
      "time 2.66 cat_cov 97.0 cov 100.0 nov 0.892 ser 0.212 m1 0.924 m10 0.847 price 2.822 sum 5.786\n"
     ]
    },
    {
     "name": "stderr",
     "output_type": "stream",
     "text": [
      "\u001b[32m[I 2023-05-12 13:49:49,153]\u001b[0m Trial 549 finished with value: 5.482911298457786 and parameters: {'svd': 0.20000000000000018, 'lfm_cos': 0.0, 'nn_bias': 0.20000000000000018, 'catboost': -0.5, 'knn': -0.09999999999999998, 'quality': -0.19999999999999996, 'volume': 0.8}. Best is trial 360 with value: 5.86264772102292.\u001b[0m\n"
     ]
    },
    {
     "name": "stdout",
     "output_type": "stream",
     "text": [
      "time 2.647 cat_cov 95.0 cov 100.0 nov 0.973 ser 0.211 m1 0.712 m10 0.696 price 2.823 sum 5.483\n"
     ]
    },
    {
     "name": "stderr",
     "output_type": "stream",
     "text": [
      "\u001b[32m[I 2023-05-12 13:49:51,864]\u001b[0m Trial 550 finished with value: 5.717786361257181 and parameters: {'svd': 0.5, 'lfm_cos': -0.19999999999999996, 'nn_bias': -0.09999999999999998, 'catboost': -0.9, 'knn': -0.19999999999999996, 'quality': -0.19999999999999996, 'volume': 0.9000000000000001}. Best is trial 360 with value: 5.86264772102292.\u001b[0m\n"
     ]
    },
    {
     "name": "stdout",
     "output_type": "stream",
     "text": [
      "time 2.677 cat_cov 93.0 cov 100.0 nov 0.918 ser 0.216 m1 0.889 m10 0.821 price 2.834 sum 5.718\n"
     ]
    },
    {
     "name": "stderr",
     "output_type": "stream",
     "text": [
      "\u001b[32m[I 2023-05-12 13:49:54,554]\u001b[0m Trial 551 finished with value: 5.72159862361356 and parameters: {'svd': 0.40000000000000013, 'lfm_cos': 0.10000000000000009, 'nn_bias': 0.10000000000000009, 'catboost': -0.6, 'knn': -0.09999999999999998, 'quality': -0.29999999999999993, 'volume': 0.7000000000000002}. Best is trial 360 with value: 5.86264772102292.\u001b[0m\n"
     ]
    },
    {
     "name": "stdout",
     "output_type": "stream",
     "text": [
      "time 2.653 cat_cov 93.0 cov 100.0 nov 0.832 ser 0.223 m1 0.921 m10 0.847 price 2.903 sum 5.722\n"
     ]
    },
    {
     "name": "stderr",
     "output_type": "stream",
     "text": [
      "\u001b[32m[I 2023-05-12 13:49:57,263]\u001b[0m Trial 552 finished with value: 5.821800022571805 and parameters: {'svd': 0.6000000000000001, 'lfm_cos': -0.09999999999999998, 'nn_bias': 0.10000000000000009, 'catboost': -0.9, 'knn': 0.10000000000000009, 'quality': -0.19999999999999996, 'volume': 0.7000000000000002}. Best is trial 360 with value: 5.86264772102292.\u001b[0m\n"
     ]
    },
    {
     "name": "stdout",
     "output_type": "stream",
     "text": [
      "time 2.674 cat_cov 98.0 cov 100.0 nov 1.013 ser 0.21 m1 0.905 m10 0.84 price 2.621 sum 5.822\n"
     ]
    },
    {
     "name": "stderr",
     "output_type": "stream",
     "text": [
      "\u001b[32m[I 2023-05-12 13:49:59,961]\u001b[0m Trial 553 finished with value: 5.7261542401097945 and parameters: {'svd': 0.8, 'lfm_cos': 0.20000000000000018, 'nn_bias': 0.0, 'catboost': -0.6, 'knn': -0.09999999999999998, 'quality': -0.19999999999999996, 'volume': 0.8}. Best is trial 360 with value: 5.86264772102292.\u001b[0m\n"
     ]
    },
    {
     "name": "stdout",
     "output_type": "stream",
     "text": [
      "time 2.663 cat_cov 100.0 cov 100.0 nov 0.732 ser 0.221 m1 0.94 m10 0.855 price 2.936 sum 5.726\n"
     ]
    },
    {
     "name": "stderr",
     "output_type": "stream",
     "text": [
      "\u001b[32m[I 2023-05-12 13:50:02,668]\u001b[0m Trial 554 finished with value: 5.848226396904104 and parameters: {'svd': 0.7000000000000002, 'lfm_cos': 0.0, 'nn_bias': 0.10000000000000009, 'catboost': -0.9, 'knn': 0.0, 'quality': -0.3999999999999999, 'volume': 0.9000000000000001}. Best is trial 360 with value: 5.86264772102292.\u001b[0m\n"
     ]
    },
    {
     "name": "stdout",
     "output_type": "stream",
     "text": [
      "time 2.671 cat_cov 99.0 cov 100.0 nov 0.938 ser 0.215 m1 0.926 m10 0.852 price 2.78 sum 5.848\n"
     ]
    },
    {
     "name": "stderr",
     "output_type": "stream",
     "text": [
      "\u001b[32m[I 2023-05-12 13:50:05,351]\u001b[0m Trial 555 finished with value: 5.722975857786324 and parameters: {'svd': 0.7000000000000002, 'lfm_cos': 0.10000000000000009, 'nn_bias': 0.10000000000000009, 'catboost': -0.19999999999999996, 'knn': 0.0, 'quality': -0.29999999999999993, 'volume': 0.9000000000000001}. Best is trial 360 with value: 5.86264772102292.\u001b[0m\n"
     ]
    },
    {
     "name": "stdout",
     "output_type": "stream",
     "text": [
      "time 2.647 cat_cov 98.0 cov 100.0 nov 0.748 ser 0.204 m1 0.955 m10 0.886 price 2.848 sum 5.723\n"
     ]
    },
    {
     "name": "stderr",
     "output_type": "stream",
     "text": [
      "\u001b[32m[I 2023-05-12 13:50:08,024]\u001b[0m Trial 556 finished with value: 5.833059504901432 and parameters: {'svd': 0.7000000000000002, 'lfm_cos': 0.0, 'nn_bias': 0.20000000000000018, 'catboost': -0.9, 'knn': -0.09999999999999998, 'quality': -0.3999999999999999, 'volume': 0.9000000000000001}. Best is trial 360 with value: 5.86264772102292.\u001b[0m\n"
     ]
    },
    {
     "name": "stdout",
     "output_type": "stream",
     "text": [
      "time 2.636 cat_cov 98.0 cov 100.0 nov 0.962 ser 0.214 m1 0.919 m10 0.845 price 2.739 sum 5.833\n"
     ]
    },
    {
     "name": "stderr",
     "output_type": "stream",
     "text": [
      "\u001b[32m[I 2023-05-12 13:50:10,730]\u001b[0m Trial 557 finished with value: 5.809318000422576 and parameters: {'svd': 0.8, 'lfm_cos': 0.0, 'nn_bias': 0.0, 'catboost': -0.8, 'knn': 0.0, 'quality': -0.19999999999999996, 'volume': 1.0}. Best is trial 360 with value: 5.86264772102292.\u001b[0m\n"
     ]
    },
    {
     "name": "stdout",
     "output_type": "stream",
     "text": [
      "time 2.668 cat_cov 99.0 cov 100.0 nov 0.771 ser 0.219 m1 0.933 m10 0.848 price 3.144 sum 5.809\n"
     ]
    },
    {
     "name": "stderr",
     "output_type": "stream",
     "text": [
      "\u001b[32m[I 2023-05-12 13:50:13,470]\u001b[0m Trial 558 finished with value: 5.731075744214106 and parameters: {'svd': 0.8, 'lfm_cos': 0.0, 'nn_bias': 0.30000000000000004, 'catboost': -0.5, 'knn': -0.09999999999999998, 'quality': -0.09999999999999998, 'volume': 1.0}. Best is trial 360 with value: 5.86264772102292.\u001b[0m\n"
     ]
    },
    {
     "name": "stdout",
     "output_type": "stream",
     "text": [
      "time 2.701 cat_cov 96.0 cov 100.0 nov 0.907 ser 0.203 m1 0.917 m10 0.851 price 2.679 sum 5.731\n"
     ]
    },
    {
     "name": "stderr",
     "output_type": "stream",
     "text": [
      "\u001b[32m[I 2023-05-12 13:50:16,195]\u001b[0m Trial 559 finished with value: 5.834922549158497 and parameters: {'svd': 0.7000000000000002, 'lfm_cos': 0.0, 'nn_bias': 0.10000000000000009, 'catboost': -0.9, 'knn': 0.0, 'quality': -0.29999999999999993, 'volume': 0.9000000000000001}. Best is trial 360 with value: 5.86264772102292.\u001b[0m\n"
     ]
    },
    {
     "name": "stdout",
     "output_type": "stream",
     "text": [
      "time 2.687 cat_cov 97.0 cov 100.0 nov 0.939 ser 0.215 m1 0.926 m10 0.852 price 2.798 sum 5.835\n"
     ]
    },
    {
     "name": "stderr",
     "output_type": "stream",
     "text": [
      "\u001b[32m[I 2023-05-12 13:50:18,931]\u001b[0m Trial 560 finished with value: 5.795601948591234 and parameters: {'svd': 0.7000000000000002, 'lfm_cos': 0.10000000000000009, 'nn_bias': 0.20000000000000018, 'catboost': -0.6, 'knn': 0.0, 'quality': -0.19999999999999996, 'volume': 0.9000000000000001}. Best is trial 360 with value: 5.86264772102292.\u001b[0m\n"
     ]
    },
    {
     "name": "stdout",
     "output_type": "stream",
     "text": [
      "time 2.7 cat_cov 100.0 cov 100.0 nov 0.884 ser 0.21 m1 0.927 m10 0.856 price 2.755 sum 5.796\n"
     ]
    },
    {
     "name": "stderr",
     "output_type": "stream",
     "text": [
      "\u001b[32m[I 2023-05-12 13:50:21,611]\u001b[0m Trial 561 finished with value: 5.785176565540891 and parameters: {'svd': 0.7000000000000002, 'lfm_cos': 0.0, 'nn_bias': -0.09999999999999998, 'catboost': -0.6, 'knn': -0.19999999999999996, 'quality': -0.09999999999999998, 'volume': 1.0}. Best is trial 360 with value: 5.86264772102292.\u001b[0m\n"
     ]
    },
    {
     "name": "stdout",
     "output_type": "stream",
     "text": [
      "time 2.644 cat_cov 99.0 cov 100.0 nov 0.758 ser 0.224 m1 0.926 m10 0.846 price 3.122 sum 5.785\n"
     ]
    },
    {
     "name": "stderr",
     "output_type": "stream",
     "text": [
      "\u001b[32m[I 2023-05-12 13:50:24,300]\u001b[0m Trial 562 finished with value: 5.7801176945435015 and parameters: {'svd': 0.6000000000000001, 'lfm_cos': -0.29999999999999993, 'nn_bias': 0.10000000000000009, 'catboost': -0.8, 'knn': -0.09999999999999998, 'quality': -0.19999999999999996, 'volume': 0.9000000000000001}. Best is trial 360 with value: 5.86264772102292.\u001b[0m\n"
     ]
    },
    {
     "name": "stdout",
     "output_type": "stream",
     "text": [
      "time 2.653 cat_cov 97.0 cov 100.0 nov 1.011 ser 0.209 m1 0.887 m10 0.817 price 2.655 sum 5.78\n"
     ]
    },
    {
     "name": "stderr",
     "output_type": "stream",
     "text": [
      "\u001b[32m[I 2023-05-12 13:50:26,962]\u001b[0m Trial 563 finished with value: 5.805419978167227 and parameters: {'svd': 0.8, 'lfm_cos': 0.0, 'nn_bias': 0.0, 'catboost': -0.8, 'knn': 0.0, 'quality': -0.29999999999999993, 'volume': 1.0}. Best is trial 360 with value: 5.86264772102292.\u001b[0m\n"
     ]
    },
    {
     "name": "stdout",
     "output_type": "stream",
     "text": [
      "time 2.626 cat_cov 100.0 cov 100.0 nov 0.771 ser 0.219 m1 0.932 m10 0.849 price 3.105 sum 5.805\n"
     ]
    },
    {
     "name": "stderr",
     "output_type": "stream",
     "text": [
      "\u001b[32m[I 2023-05-12 13:50:29,653]\u001b[0m Trial 564 finished with value: 5.795072953314962 and parameters: {'svd': 0.6000000000000001, 'lfm_cos': 0.10000000000000009, 'nn_bias': 0.10000000000000009, 'catboost': -0.9, 'knn': 0.0, 'quality': -0.09999999999999998, 'volume': 0.9000000000000001}. Best is trial 360 with value: 5.86264772102292.\u001b[0m\n"
     ]
    },
    {
     "name": "stdout",
     "output_type": "stream",
     "text": [
      "time 2.655 cat_cov 98.0 cov 100.0 nov 0.839 ser 0.222 m1 0.926 m10 0.851 price 2.931 sum 5.795\n"
     ]
    },
    {
     "name": "stderr",
     "output_type": "stream",
     "text": [
      "\u001b[32m[I 2023-05-12 13:50:32,363]\u001b[0m Trial 565 finished with value: 5.793956764164641 and parameters: {'svd': 0.7000000000000002, 'lfm_cos': 0.0, 'nn_bias': 0.20000000000000018, 'catboost': -0.7, 'knn': -0.09999999999999998, 'quality': -0.3999999999999999, 'volume': -0.19999999999999996}. Best is trial 360 with value: 5.86264772102292.\u001b[0m\n"
     ]
    },
    {
     "name": "stdout",
     "output_type": "stream",
     "text": [
      "time 2.673 cat_cov 99.0 cov 100.0 nov 0.969 ser 0.209 m1 0.918 m10 0.843 price 2.595 sum 5.794\n"
     ]
    },
    {
     "name": "stderr",
     "output_type": "stream",
     "text": [
      "\u001b[32m[I 2023-05-12 13:50:35,092]\u001b[0m Trial 566 finished with value: 5.4180969017926826 and parameters: {'svd': 0.8, 'lfm_cos': -1.0, 'nn_bias': 0.6000000000000001, 'catboost': -0.5, 'knn': 0.0, 'quality': -0.19999999999999996, 'volume': 0.7000000000000002}. Best is trial 360 with value: 5.86264772102292.\u001b[0m\n"
     ]
    },
    {
     "name": "stdout",
     "output_type": "stream",
     "text": [
      "time 2.692 cat_cov 96.0 cov 100.0 nov 0.986 ser 0.183 m1 0.738 m10 0.707 price 2.532 sum 5.418\n"
     ]
    },
    {
     "name": "stderr",
     "output_type": "stream",
     "text": [
      "\u001b[32m[I 2023-05-12 13:50:37,793]\u001b[0m Trial 567 finished with value: 5.787058826281861 and parameters: {'svd': 0.6000000000000001, 'lfm_cos': 0.10000000000000009, 'nn_bias': 0.10000000000000009, 'catboost': -0.6, 'knn': -0.09999999999999998, 'quality': -0.09999999999999998, 'volume': 0.7000000000000002}. Best is trial 360 with value: 5.86264772102292.\u001b[0m\n"
     ]
    },
    {
     "name": "stdout",
     "output_type": "stream",
     "text": [
      "time 2.664 cat_cov 99.0 cov 100.0 nov 0.821 ser 0.221 m1 0.933 m10 0.855 price 2.903 sum 5.787\n"
     ]
    },
    {
     "name": "stderr",
     "output_type": "stream",
     "text": [
      "\u001b[32m[I 2023-05-12 13:50:40,491]\u001b[0m Trial 568 finished with value: 5.709235967652415 and parameters: {'svd': 0.7000000000000002, 'lfm_cos': 0.0, 'nn_bias': -1.0, 'catboost': -0.7, 'knn': 0.0, 'quality': -0.19999999999999996, 'volume': 0.9000000000000001}. Best is trial 360 with value: 5.86264772102292.\u001b[0m\n"
     ]
    },
    {
     "name": "stdout",
     "output_type": "stream",
     "text": [
      "time 2.662 cat_cov 97.0 cov 100.0 nov 0.755 ser 0.221 m1 0.913 m10 0.83 price 3.063 sum 5.709\n"
     ]
    },
    {
     "name": "stderr",
     "output_type": "stream",
     "text": [
      "\u001b[32m[I 2023-05-12 13:50:43,222]\u001b[0m Trial 569 finished with value: 5.119081429061749 and parameters: {'svd': 0.6000000000000001, 'lfm_cos': 0.0, 'nn_bias': 0.7000000000000002, 'catboost': -0.8, 'knn': 0.0, 'quality': -0.29999999999999993, 'volume': 1.0}. Best is trial 360 with value: 5.86264772102292.\u001b[0m\n"
     ]
    },
    {
     "name": "stdout",
     "output_type": "stream",
     "text": [
      "time 2.688 cat_cov 99.0 cov 100.0 nov 0.968 ser 0.193 m1 0.484 m10 0.613 price 2.612 sum 5.119\n"
     ]
    },
    {
     "name": "stderr",
     "output_type": "stream",
     "text": [
      "\u001b[32m[I 2023-05-12 13:50:45,894]\u001b[0m Trial 570 finished with value: 5.7923560866393835 and parameters: {'svd': 0.7000000000000002, 'lfm_cos': 0.0, 'nn_bias': 0.0, 'catboost': -0.9, 'knn': -0.19999999999999996, 'quality': -0.09999999999999998, 'volume': 0.8}. Best is trial 360 with value: 5.86264772102292.\u001b[0m\n"
     ]
    },
    {
     "name": "stdout",
     "output_type": "stream",
     "text": [
      "time 2.636 cat_cov 96.0 cov 100.0 nov 0.774 ser 0.224 m1 0.922 m10 0.846 price 3.198 sum 5.792\n"
     ]
    },
    {
     "name": "stderr",
     "output_type": "stream",
     "text": [
      "\u001b[32m[I 2023-05-12 13:50:48,532]\u001b[0m Trial 571 finished with value: 4.23881986661783 and parameters: {'svd': -0.9, 'lfm_cos': 0.10000000000000009, 'nn_bias': 0.10000000000000009, 'catboost': -0.6, 'knn': -0.09999999999999998, 'quality': -0.29999999999999993, 'volume': 0.7000000000000002}. Best is trial 360 with value: 5.86264772102292.\u001b[0m\n"
     ]
    },
    {
     "name": "stdout",
     "output_type": "stream",
     "text": [
      "time 2.602 cat_cov 96.0 cov 100.0 nov 0.905 ser 0.152 m1 0.119 m10 0.234 price 2.605 sum 4.239\n"
     ]
    },
    {
     "name": "stderr",
     "output_type": "stream",
     "text": [
      "\u001b[32m[I 2023-05-12 13:50:51,266]\u001b[0m Trial 572 finished with value: 5.836131465616386 and parameters: {'svd': 0.6000000000000001, 'lfm_cos': -0.09999999999999998, 'nn_bias': 0.0, 'catboost': -0.7, 'knn': 0.0, 'quality': -0.19999999999999996, 'volume': 1.0}. Best is trial 360 with value: 5.86264772102292.\u001b[0m\n"
     ]
    },
    {
     "name": "stdout",
     "output_type": "stream",
     "text": [
      "time 2.695 cat_cov 99.0 cov 100.0 nov 0.91 ser 0.213 m1 0.922 m10 0.847 price 2.86 sum 5.836\n"
     ]
    },
    {
     "name": "stderr",
     "output_type": "stream",
     "text": [
      "\u001b[32m[I 2023-05-12 13:50:53,963]\u001b[0m Trial 573 finished with value: 5.739024990717153 and parameters: {'svd': 0.6000000000000001, 'lfm_cos': -0.19999999999999996, 'nn_bias': -0.09999999999999998, 'catboost': -0.7, 'knn': 0.10000000000000009, 'quality': -0.19999999999999996, 'volume': -0.7}. Best is trial 360 with value: 5.86264772102292.\u001b[0m\n"
     ]
    },
    {
     "name": "stdout",
     "output_type": "stream",
     "text": [
      "time 2.661 cat_cov 98.0 cov 100.0 nov 0.984 ser 0.21 m1 0.897 m10 0.824 price 2.531 sum 5.739\n"
     ]
    },
    {
     "name": "stderr",
     "output_type": "stream",
     "text": [
      "\u001b[32m[I 2023-05-12 13:50:56,678]\u001b[0m Trial 574 finished with value: 5.818681639639316 and parameters: {'svd': 0.7000000000000002, 'lfm_cos': -0.09999999999999998, 'nn_bias': 0.0, 'catboost': -0.7, 'knn': 0.0, 'quality': -0.19999999999999996, 'volume': 1.0}. Best is trial 360 with value: 5.86264772102292.\u001b[0m\n"
     ]
    },
    {
     "name": "stdout",
     "output_type": "stream",
     "text": [
      "time 2.679 cat_cov 99.0 cov 100.0 nov 0.886 ser 0.212 m1 0.926 m10 0.847 price 2.872 sum 5.819\n"
     ]
    },
    {
     "name": "stderr",
     "output_type": "stream",
     "text": [
      "\u001b[32m[I 2023-05-12 13:50:59,409]\u001b[0m Trial 575 finished with value: 5.814413714085073 and parameters: {'svd': 0.6000000000000001, 'lfm_cos': -0.09999999999999998, 'nn_bias': 0.0, 'catboost': -0.7, 'knn': -0.09999999999999998, 'quality': -0.29999999999999993, 'volume': 1.0}. Best is trial 360 with value: 5.86264772102292.\u001b[0m\n"
     ]
    },
    {
     "name": "stdout",
     "output_type": "stream",
     "text": [
      "time 2.694 cat_cov 97.0 cov 100.0 nov 0.905 ser 0.215 m1 0.919 m10 0.846 price 2.874 sum 5.814\n"
     ]
    },
    {
     "name": "stderr",
     "output_type": "stream",
     "text": [
      "\u001b[32m[I 2023-05-12 13:51:02,129]\u001b[0m Trial 576 finished with value: 5.798274454686768 and parameters: {'svd': 0.7000000000000002, 'lfm_cos': -0.09999999999999998, 'nn_bias': 0.0, 'catboost': -0.8, 'knn': 0.0, 'quality': -0.3999999999999999, 'volume': 1.0}. Best is trial 360 with value: 5.86264772102292.\u001b[0m\n"
     ]
    },
    {
     "name": "stdout",
     "output_type": "stream",
     "text": [
      "time 2.684 cat_cov 96.0 cov 100.0 nov 0.905 ser 0.213 m1 0.924 m10 0.848 price 2.845 sum 5.798\n"
     ]
    },
    {
     "name": "stderr",
     "output_type": "stream",
     "text": [
      "\u001b[32m[I 2023-05-12 13:51:04,844]\u001b[0m Trial 577 finished with value: 5.805015219846959 and parameters: {'svd': 0.6000000000000001, 'lfm_cos': -0.09999999999999998, 'nn_bias': 0.0, 'catboost': -0.7, 'knn': 0.10000000000000009, 'quality': -0.19999999999999996, 'volume': 1.0}. Best is trial 360 with value: 5.86264772102292.\u001b[0m\n"
     ]
    },
    {
     "name": "stdout",
     "output_type": "stream",
     "text": [
      "time 2.678 cat_cov 98.0 cov 100.0 nov 0.928 ser 0.21 m1 0.919 m10 0.843 price 2.771 sum 5.805\n"
     ]
    },
    {
     "name": "stderr",
     "output_type": "stream",
     "text": [
      "\u001b[32m[I 2023-05-12 13:51:08,303]\u001b[0m Trial 578 finished with value: 5.679377412902285 and parameters: {'svd': 0.7000000000000002, 'lfm_cos': -0.09999999999999998, 'nn_bias': 0.0, 'catboost': 0.10000000000000009, 'knn': -0.19999999999999996, 'quality': -0.29999999999999993, 'volume': 0.9000000000000001}. Best is trial 360 with value: 5.86264772102292.\u001b[0m\n"
     ]
    },
    {
     "name": "stdout",
     "output_type": "stream",
     "text": [
      "time 3.422 cat_cov 98.0 cov 100.0 nov 0.739 ser 0.195 m1 0.946 m10 0.88 price 2.817 sum 5.679\n"
     ]
    },
    {
     "name": "stderr",
     "output_type": "stream",
     "text": [
      "\u001b[32m[I 2023-05-12 13:51:10,947]\u001b[0m Trial 579 finished with value: 4.352060374205224 and parameters: {'svd': -0.19999999999999996, 'lfm_cos': -0.19999999999999996, 'nn_bias': -0.09999999999999998, 'catboost': -0.6, 'knn': 0.0, 'quality': -0.9, 'volume': 1.0}. Best is trial 360 with value: 5.86264772102292.\u001b[0m\n"
     ]
    },
    {
     "name": "stdout",
     "output_type": "stream",
     "text": [
      "time 2.608 cat_cov 94.0 cov 100.0 nov 1.009 ser 0.16 m1 0.124 m10 0.261 price 2.573 sum 4.352\n"
     ]
    },
    {
     "name": "stderr",
     "output_type": "stream",
     "text": [
      "\u001b[32m[I 2023-05-12 13:51:13,657]\u001b[0m Trial 580 finished with value: 5.80883394885608 and parameters: {'svd': 0.6000000000000001, 'lfm_cos': -0.09999999999999998, 'nn_bias': 0.10000000000000009, 'catboost': -0.6, 'knn': -0.09999999999999998, 'quality': -0.19999999999999996, 'volume': 0.9000000000000001}. Best is trial 360 with value: 5.86264772102292.\u001b[0m\n"
     ]
    },
    {
     "name": "stdout",
     "output_type": "stream",
     "text": [
      "time 2.674 cat_cov 97.0 cov 100.0 nov 0.956 ser 0.211 m1 0.918 m10 0.844 price 2.729 sum 5.809\n"
     ]
    },
    {
     "name": "stderr",
     "output_type": "stream",
     "text": [
      "\u001b[32m[I 2023-05-12 13:51:16,382]\u001b[0m Trial 581 finished with value: 5.736552185927522 and parameters: {'svd': 0.8, 'lfm_cos': -0.09999999999999998, 'nn_bias': 0.0, 'catboost': -0.8, 'knn': -1.0, 'quality': -0.19999999999999996, 'volume': 1.0}. Best is trial 360 with value: 5.86264772102292.\u001b[0m\n"
     ]
    },
    {
     "name": "stdout",
     "output_type": "stream",
     "text": [
      "time 2.689 cat_cov 91.0 cov 100.0 nov 0.892 ser 0.217 m1 0.903 m10 0.834 price 2.94 sum 5.737\n"
     ]
    },
    {
     "name": "stderr",
     "output_type": "stream",
     "text": [
      "\u001b[32m[I 2023-05-12 13:51:19,065]\u001b[0m Trial 582 finished with value: 5.856376042403328 and parameters: {'svd': 0.6000000000000001, 'lfm_cos': 0.0, 'nn_bias': 0.10000000000000009, 'catboost': -0.7, 'knn': -0.09999999999999998, 'quality': -0.29999999999999993, 'volume': 0.9000000000000001}. Best is trial 360 with value: 5.86264772102292.\u001b[0m\n"
     ]
    },
    {
     "name": "stdout",
     "output_type": "stream",
     "text": [
      "time 2.646 cat_cov 99.0 cov 100.0 nov 0.926 ser 0.216 m1 0.926 m10 0.852 price 2.837 sum 5.856\n"
     ]
    },
    {
     "name": "stderr",
     "output_type": "stream",
     "text": [
      "\u001b[32m[I 2023-05-12 13:51:21,799]\u001b[0m Trial 583 finished with value: 5.815798333699142 and parameters: {'svd': 0.7000000000000002, 'lfm_cos': 0.0, 'nn_bias': 0.20000000000000018, 'catboost': -0.7, 'knn': -0.09999999999999998, 'quality': -0.29999999999999993, 'volume': 0.9000000000000001}. Best is trial 360 with value: 5.86264772102292.\u001b[0m\n"
     ]
    },
    {
     "name": "stdout",
     "output_type": "stream",
     "text": [
      "time 2.697 cat_cov 98.0 cov 100.0 nov 0.947 ser 0.211 m1 0.922 m10 0.844 price 2.733 sum 5.816\n"
     ]
    },
    {
     "name": "stderr",
     "output_type": "stream",
     "text": [
      "\u001b[32m[I 2023-05-12 13:51:24,510]\u001b[0m Trial 584 finished with value: 4.919308079357399 and parameters: {'svd': 0.6000000000000001, 'lfm_cos': 0.0, 'nn_bias': 1.0, 'catboost': -0.7, 'knn': -0.9, 'quality': -0.3999999999999999, 'volume': 0.8}. Best is trial 360 with value: 5.86264772102292.\u001b[0m\n"
     ]
    },
    {
     "name": "stdout",
     "output_type": "stream",
     "text": [
      "time 2.671 cat_cov 100.0 cov 100.0 nov 0.97 ser 0.198 m1 0.327 m10 0.523 price 2.706 sum 4.919\n"
     ]
    },
    {
     "name": "stderr",
     "output_type": "stream",
     "text": [
      "\u001b[32m[I 2023-05-12 13:51:27,161]\u001b[0m Trial 585 finished with value: 5.667319929104784 and parameters: {'svd': 0.7000000000000002, 'lfm_cos': 0.10000000000000009, 'nn_bias': -0.5, 'catboost': -0.8, 'knn': -0.19999999999999996, 'quality': -0.29999999999999993, 'volume': 0.9000000000000001}. Best is trial 360 with value: 5.86264772102292.\u001b[0m\n"
     ]
    },
    {
     "name": "stdout",
     "output_type": "stream",
     "text": [
      "time 2.613 cat_cov 95.0 cov 100.0 nov 0.745 ser 0.226 m1 0.916 m10 0.833 price 2.994 sum 5.667\n"
     ]
    },
    {
     "name": "stderr",
     "output_type": "stream",
     "text": [
      "\u001b[32m[I 2023-05-12 13:51:29,843]\u001b[0m Trial 586 finished with value: 5.755245686643335 and parameters: {'svd': 0.6000000000000001, 'lfm_cos': 0.0, 'nn_bias': 0.30000000000000004, 'catboost': -0.6, 'knn': -0.09999999999999998, 'quality': -1.0, 'volume': 0.9000000000000001}. Best is trial 360 with value: 5.86264772102292.\u001b[0m\n"
     ]
    },
    {
     "name": "stdout",
     "output_type": "stream",
     "text": [
      "time 2.645 cat_cov 99.0 cov 100.0 nov 0.959 ser 0.208 m1 0.895 m10 0.822 price 2.645 sum 5.755\n"
     ]
    },
    {
     "name": "stderr",
     "output_type": "stream",
     "text": [
      "\u001b[32m[I 2023-05-12 13:51:32,548]\u001b[0m Trial 587 finished with value: 5.504031585781365 and parameters: {'svd': 0.7000000000000002, 'lfm_cos': 0.0, 'nn_bias': 0.10000000000000009, 'catboost': 0.30000000000000004, 'knn': -0.09999999999999998, 'quality': -0.29999999999999993, 'volume': 0.9000000000000001}. Best is trial 360 with value: 5.86264772102292.\u001b[0m\n"
     ]
    },
    {
     "name": "stdout",
     "output_type": "stream",
     "text": [
      "time 2.667 cat_cov 99.0 cov 100.0 nov 0.67 ser 0.178 m1 0.897 m10 0.852 price 2.752 sum 5.504\n"
     ]
    },
    {
     "name": "stderr",
     "output_type": "stream",
     "text": [
      "\u001b[32m[I 2023-05-12 13:51:35,257]\u001b[0m Trial 588 finished with value: 5.806897102391163 and parameters: {'svd': 0.8, 'lfm_cos': 0.0, 'nn_bias': 0.20000000000000018, 'catboost': -0.7, 'knn': -0.19999999999999996, 'quality': -0.3999999999999999, 'volume': 0.8}. Best is trial 360 with value: 5.86264772102292.\u001b[0m\n"
     ]
    },
    {
     "name": "stdout",
     "output_type": "stream",
     "text": [
      "time 2.673 cat_cov 98.0 cov 100.0 nov 0.936 ser 0.212 m1 0.923 m10 0.847 price 2.726 sum 5.807\n"
     ]
    },
    {
     "name": "stderr",
     "output_type": "stream",
     "text": [
      "\u001b[32m[I 2023-05-12 13:51:37,935]\u001b[0m Trial 589 finished with value: 5.770219041972228 and parameters: {'svd': 0.6000000000000001, 'lfm_cos': 0.10000000000000009, 'nn_bias': 0.10000000000000009, 'catboost': -0.5, 'knn': -0.09999999999999998, 'quality': -0.29999999999999993, 'volume': 0.8}. Best is trial 360 with value: 5.86264772102292.\u001b[0m\n"
     ]
    },
    {
     "name": "stdout",
     "output_type": "stream",
     "text": [
      "time 2.642 cat_cov 99.0 cov 100.0 nov 0.803 ser 0.219 m1 0.936 m10 0.856 price 2.897 sum 5.77\n"
     ]
    },
    {
     "name": "stderr",
     "output_type": "stream",
     "text": [
      "\u001b[32m[I 2023-05-12 13:51:40,606]\u001b[0m Trial 590 finished with value: 5.831300822429325 and parameters: {'svd': 0.7000000000000002, 'lfm_cos': 0.0, 'nn_bias': 0.10000000000000009, 'catboost': -0.8, 'knn': -0.09999999999999998, 'quality': -0.3999999999999999, 'volume': 0.8}. Best is trial 360 with value: 5.86264772102292.\u001b[0m\n"
     ]
    },
    {
     "name": "stdout",
     "output_type": "stream",
     "text": [
      "time 2.63 cat_cov 98.0 cov 100.0 nov 0.928 ser 0.215 m1 0.927 m10 0.854 price 2.781 sum 5.831\n"
     ]
    },
    {
     "name": "stderr",
     "output_type": "stream",
     "text": [
      "\u001b[32m[I 2023-05-12 13:51:43,294]\u001b[0m Trial 591 finished with value: 5.753590590555905 and parameters: {'svd': 0.6000000000000001, 'lfm_cos': 0.10000000000000009, 'nn_bias': 0.20000000000000018, 'catboost': -0.6, 'knn': -0.19999999999999996, 'quality': -0.29999999999999993, 'volume': 0.9000000000000001}. Best is trial 360 with value: 5.86264772102292.\u001b[0m\n"
     ]
    },
    {
     "name": "stdout",
     "output_type": "stream",
     "text": [
      "time 2.65 cat_cov 94.0 cov 100.0 nov 0.886 ser 0.218 m1 0.921 m10 0.846 price 2.83 sum 5.754\n"
     ]
    },
    {
     "name": "stderr",
     "output_type": "stream",
     "text": [
      "\u001b[32m[I 2023-05-12 13:51:46,001]\u001b[0m Trial 592 finished with value: 5.784541761474188 and parameters: {'svd': 0.7000000000000002, 'lfm_cos': 0.0, 'nn_bias': 0.10000000000000009, 'catboost': -0.3999999999999999, 'knn': 0.0, 'quality': -0.29999999999999993, 'volume': 0.7000000000000002}. Best is trial 360 with value: 5.86264772102292.\u001b[0m\n"
     ]
    },
    {
     "name": "stdout",
     "output_type": "stream",
     "text": [
      "time 2.67 cat_cov 100.0 cov 100.0 nov 0.869 ser 0.205 m1 0.938 m10 0.867 price 2.716 sum 5.785\n"
     ]
    },
    {
     "name": "stderr",
     "output_type": "stream",
     "text": [
      "\u001b[32m[I 2023-05-12 13:51:48,704]\u001b[0m Trial 593 finished with value: 5.771755491070059 and parameters: {'svd': 0.8, 'lfm_cos': 0.10000000000000009, 'nn_bias': 0.10000000000000009, 'catboost': -0.7, 'knn': -0.09999999999999998, 'quality': -0.09999999999999998, 'volume': 0.9000000000000001}. Best is trial 360 with value: 5.86264772102292.\u001b[0m\n"
     ]
    },
    {
     "name": "stdout",
     "output_type": "stream",
     "text": [
      "time 2.667 cat_cov 98.0 cov 100.0 nov 0.802 ser 0.219 m1 0.936 m10 0.855 price 2.939 sum 5.772\n"
     ]
    },
    {
     "name": "stderr",
     "output_type": "stream",
     "text": [
      "\u001b[32m[I 2023-05-12 13:51:51,379]\u001b[0m Trial 594 finished with value: 5.722692938289703 and parameters: {'svd': 0.6000000000000001, 'lfm_cos': 0.20000000000000018, 'nn_bias': 0.20000000000000018, 'catboost': -0.6, 'knn': 0.10000000000000009, 'quality': -0.19999999999999996, 'volume': 0.7000000000000002}. Best is trial 360 with value: 5.86264772102292.\u001b[0m\n"
     ]
    },
    {
     "name": "stdout",
     "output_type": "stream",
     "text": [
      "time 2.637 cat_cov 99.0 cov 100.0 nov 0.825 ser 0.213 m1 0.914 m10 0.851 price 2.79 sum 5.723\n"
     ]
    },
    {
     "name": "stderr",
     "output_type": "stream",
     "text": [
      "\u001b[32m[I 2023-05-12 13:51:54,052]\u001b[0m Trial 595 finished with value: 5.813271875350599 and parameters: {'svd': 0.5, 'lfm_cos': 0.0, 'nn_bias': 0.10000000000000009, 'catboost': -0.7, 'knn': 0.0, 'quality': -0.09999999999999998, 'volume': 0.8}. Best is trial 360 with value: 5.86264772102292.\u001b[0m\n"
     ]
    },
    {
     "name": "stdout",
     "output_type": "stream",
     "text": [
      "time 2.633 cat_cov 94.0 cov 100.0 nov 0.948 ser 0.215 m1 0.923 m10 0.849 price 2.815 sum 5.813\n"
     ]
    },
    {
     "name": "stderr",
     "output_type": "stream",
     "text": [
      "\u001b[32m[I 2023-05-12 13:51:56,762]\u001b[0m Trial 596 finished with value: 5.8112766922016394 and parameters: {'svd': 0.8, 'lfm_cos': 0.0, 'nn_bias': 0.20000000000000018, 'catboost': -0.8, 'knn': 0.0, 'quality': -0.3999999999999999, 'volume': 0.7000000000000002}. Best is trial 360 with value: 5.86264772102292.\u001b[0m\n"
     ]
    },
    {
     "name": "stdout",
     "output_type": "stream",
     "text": [
      "time 2.672 cat_cov 100.0 cov 100.0 nov 0.948 ser 0.209 m1 0.921 m10 0.846 price 2.663 sum 5.811\n"
     ]
    },
    {
     "name": "stderr",
     "output_type": "stream",
     "text": [
      "\u001b[32m[I 2023-05-12 13:51:59,449]\u001b[0m Trial 597 finished with value: 5.80615092609767 and parameters: {'svd': 0.7000000000000002, 'lfm_cos': -0.09999999999999998, 'nn_bias': 0.10000000000000009, 'catboost': -0.6, 'knn': -0.09999999999999998, 'quality': -0.29999999999999993, 'volume': 0.9000000000000001}. Best is trial 360 with value: 5.86264772102292.\u001b[0m\n"
     ]
    },
    {
     "name": "stdout",
     "output_type": "stream",
     "text": [
      "time 2.649 cat_cov 98.0 cov 100.0 nov 0.939 ser 0.21 m1 0.924 m10 0.846 price 2.721 sum 5.806\n"
     ]
    },
    {
     "name": "stderr",
     "output_type": "stream",
     "text": [
      "\u001b[32m[I 2023-05-12 13:52:02,159]\u001b[0m Trial 598 finished with value: 5.8413157898379335 and parameters: {'svd': 0.6000000000000001, 'lfm_cos': 0.0, 'nn_bias': 0.10000000000000009, 'catboost': -0.8, 'knn': 0.10000000000000009, 'quality': -0.19999999999999996, 'volume': 0.8}. Best is trial 360 with value: 5.86264772102292.\u001b[0m\n"
     ]
    },
    {
     "name": "stdout",
     "output_type": "stream",
     "text": [
      "time 2.672 cat_cov 99.0 cov 100.0 nov 0.963 ser 0.213 m1 0.917 m10 0.847 price 2.734 sum 5.841\n"
     ]
    },
    {
     "name": "stderr",
     "output_type": "stream",
     "text": [
      "\u001b[32m[I 2023-05-12 13:52:04,878]\u001b[0m Trial 599 finished with value: 5.758076063845232 and parameters: {'svd': 0.6000000000000001, 'lfm_cos': 0.10000000000000009, 'nn_bias': 0.10000000000000009, 'catboost': -0.9, 'knn': 0.20000000000000018, 'quality': -0.19999999999999996, 'volume': 0.8}. Best is trial 360 with value: 5.86264772102292.\u001b[0m\n"
     ]
    },
    {
     "name": "stdout",
     "output_type": "stream",
     "text": [
      "time 2.681 cat_cov 98.0 cov 100.0 nov 0.871 ser 0.218 m1 0.909 m10 0.843 price 2.814 sum 5.758\n"
     ]
    },
    {
     "name": "stderr",
     "output_type": "stream",
     "text": [
      "\u001b[32m[I 2023-05-12 13:52:07,575]\u001b[0m Trial 600 finished with value: 5.8122526266731525 and parameters: {'svd': 0.6000000000000001, 'lfm_cos': 0.0, 'nn_bias': 0.20000000000000018, 'catboost': -0.8, 'knn': 0.10000000000000009, 'quality': -0.19999999999999996, 'volume': 0.8}. Best is trial 360 with value: 5.86264772102292.\u001b[0m\n"
     ]
    },
    {
     "name": "stdout",
     "output_type": "stream",
     "text": [
      "time 2.66 cat_cov 100.0 cov 100.0 nov 0.978 ser 0.209 m1 0.9 m10 0.833 price 2.674 sum 5.812\n"
     ]
    },
    {
     "name": "stderr",
     "output_type": "stream",
     "text": [
      "\u001b[32m[I 2023-05-12 13:52:10,280]\u001b[0m Trial 601 finished with value: 5.717064951573812 and parameters: {'svd': 0.7000000000000002, 'lfm_cos': -0.5, 'nn_bias': 0.10000000000000009, 'catboost': -0.9, 'knn': 0.20000000000000018, 'quality': -0.29999999999999993, 'volume': 0.8}. Best is trial 360 with value: 5.86264772102292.\u001b[0m\n"
     ]
    },
    {
     "name": "stdout",
     "output_type": "stream",
     "text": [
      "time 2.669 cat_cov 98.0 cov 100.0 nov 1.03 ser 0.203 m1 0.858 m10 0.795 price 2.554 sum 5.717\n"
     ]
    },
    {
     "name": "stderr",
     "output_type": "stream",
     "text": [
      "\u001b[32m[I 2023-05-12 13:52:12,977]\u001b[0m Trial 602 finished with value: 5.834840899080027 and parameters: {'svd': 0.6000000000000001, 'lfm_cos': -0.09999999999999998, 'nn_bias': 0.10000000000000009, 'catboost': -0.8, 'knn': 0.10000000000000009, 'quality': -0.19999999999999996, 'volume': 0.9000000000000001}. Best is trial 360 with value: 5.86264772102292.\u001b[0m\n"
     ]
    },
    {
     "name": "stdout",
     "output_type": "stream",
     "text": [
      "time 2.658 cat_cov 100.0 cov 100.0 nov 0.993 ser 0.21 m1 0.908 m10 0.841 price 2.651 sum 5.835\n"
     ]
    },
    {
     "name": "stderr",
     "output_type": "stream",
     "text": [
      "\u001b[32m[I 2023-05-12 13:52:15,581]\u001b[0m Trial 603 finished with value: 4.198501126214237 and parameters: {'svd': -0.8, 'lfm_cos': 0.0, 'nn_bias': 0.20000000000000018, 'catboost': -0.8, 'knn': 0.10000000000000009, 'quality': -0.29999999999999993, 'volume': 0.9000000000000001}. Best is trial 360 with value: 5.86264772102292.\u001b[0m\n"
     ]
    },
    {
     "name": "stdout",
     "output_type": "stream",
     "text": [
      "time 2.567 cat_cov 94.0 cov 100.0 nov 0.977 ser 0.144 m1 0.079 m10 0.203 price 2.566 sum 4.199\n"
     ]
    },
    {
     "name": "stderr",
     "output_type": "stream",
     "text": [
      "\u001b[32m[I 2023-05-12 13:52:18,291]\u001b[0m Trial 604 finished with value: 5.8197500193431475 and parameters: {'svd': 0.7000000000000002, 'lfm_cos': 0.0, 'nn_bias': 0.0, 'catboost': -0.8, 'knn': 0.10000000000000009, 'quality': -0.19999999999999996, 'volume': 0.8}. Best is trial 360 with value: 5.86264772102292.\u001b[0m\n"
     ]
    },
    {
     "name": "stdout",
     "output_type": "stream",
     "text": [
      "time 2.673 cat_cov 99.0 cov 100.0 nov 0.843 ser 0.217 m1 0.928 m10 0.847 price 2.984 sum 5.82\n"
     ]
    },
    {
     "name": "stderr",
     "output_type": "stream",
     "text": [
      "\u001b[32m[I 2023-05-12 13:52:20,984]\u001b[0m Trial 605 finished with value: 5.802506927294827 and parameters: {'svd': 0.6000000000000001, 'lfm_cos': -0.09999999999999998, 'nn_bias': 0.10000000000000009, 'catboost': -0.9, 'knn': 0.10000000000000009, 'quality': -0.29999999999999993, 'volume': -0.8}. Best is trial 360 with value: 5.86264772102292.\u001b[0m\n"
     ]
    },
    {
     "name": "stdout",
     "output_type": "stream",
     "text": [
      "time 2.656 cat_cov 99.0 cov 100.0 nov 1.051 ser 0.21 m1 0.894 m10 0.834 price 2.473 sum 5.803\n"
     ]
    },
    {
     "name": "stderr",
     "output_type": "stream",
     "text": [
      "\u001b[32m[I 2023-05-12 13:52:23,645]\u001b[0m Trial 606 finished with value: 5.793998865284144 and parameters: {'svd': 0.6000000000000001, 'lfm_cos': 0.0, 'nn_bias': 0.0, 'catboost': -0.8, 'knn': -0.09999999999999998, 'quality': -0.19999999999999996, 'volume': 0.9000000000000001}. Best is trial 360 with value: 5.86264772102292.\u001b[0m\n"
     ]
    },
    {
     "name": "stdout",
     "output_type": "stream",
     "text": [
      "time 2.624 cat_cov 96.0 cov 100.0 nov 0.777 ser 0.224 m1 0.926 m10 0.848 price 3.181 sum 5.794\n"
     ]
    },
    {
     "name": "stderr",
     "output_type": "stream",
     "text": [
      "\u001b[32m[I 2023-05-12 13:52:26,335]\u001b[0m Trial 607 finished with value: 5.692815326180962 and parameters: {'svd': 0.7000000000000002, 'lfm_cos': 0.10000000000000009, 'nn_bias': 0.30000000000000004, 'catboost': -0.9, 'knn': 0.30000000000000004, 'quality': -0.29999999999999993, 'volume': 0.9000000000000001}. Best is trial 360 with value: 5.86264772102292.\u001b[0m\n"
     ]
    },
    {
     "name": "stdout",
     "output_type": "stream",
     "text": [
      "time 2.653 cat_cov 99.0 cov 100.0 nov 0.942 ser 0.204 m1 0.859 m10 0.82 price 2.633 sum 5.693\n"
     ]
    },
    {
     "name": "stderr",
     "output_type": "stream",
     "text": [
      "\u001b[32m[I 2023-05-12 13:52:28,942]\u001b[0m Trial 608 finished with value: 4.156313655481675 and parameters: {'svd': -0.3999999999999999, 'lfm_cos': -0.09999999999999998, 'nn_bias': 0.10000000000000009, 'catboost': -0.7, 'knn': 0.0, 'quality': -0.19999999999999996, 'volume': 0.8}. Best is trial 360 with value: 5.86264772102292.\u001b[0m\n"
     ]
    },
    {
     "name": "stdout",
     "output_type": "stream",
     "text": [
      "time 2.562 cat_cov 88.0 cov 100.0 nov 1.017 ser 0.144 m1 0.077 m10 0.202 price 2.509 sum 4.156\n"
     ]
    },
    {
     "name": "stderr",
     "output_type": "stream",
     "text": [
      "\u001b[32m[I 2023-05-12 13:52:31,657]\u001b[0m Trial 609 finished with value: 5.690070984296847 and parameters: {'svd': 0.6000000000000001, 'lfm_cos': 0.0, 'nn_bias': 0.20000000000000018, 'catboost': -0.5, 'knn': 0.20000000000000018, 'quality': -0.3999999999999999, 'volume': 0.9000000000000001}. Best is trial 360 with value: 5.86264772102292.\u001b[0m\n"
     ]
    },
    {
     "name": "stdout",
     "output_type": "stream",
     "text": [
      "time 2.677 cat_cov 98.0 cov 100.0 nov 0.908 ser 0.199 m1 0.882 m10 0.844 price 2.629 sum 5.69\n"
     ]
    },
    {
     "name": "stderr",
     "output_type": "stream",
     "text": [
      "\u001b[32m[I 2023-05-12 13:52:34,368]\u001b[0m Trial 610 finished with value: 5.747861589340404 and parameters: {'svd': 0.8, 'lfm_cos': 0.10000000000000009, 'nn_bias': 0.10000000000000009, 'catboost': -0.8, 'knn': 0.10000000000000009, 'quality': -0.19999999999999996, 'volume': -0.5}. Best is trial 360 with value: 5.86264772102292.\u001b[0m\n"
     ]
    },
    {
     "name": "stdout",
     "output_type": "stream",
     "text": [
      "time 2.672 cat_cov 100.0 cov 100.0 nov 0.885 ser 0.213 m1 0.927 m10 0.853 price 2.611 sum 5.748\n"
     ]
    },
    {
     "name": "stderr",
     "output_type": "stream",
     "text": [
      "\u001b[32m[I 2023-05-12 13:52:37,061]\u001b[0m Trial 611 finished with value: 5.025931998445115 and parameters: {'svd': 0.7000000000000002, 'lfm_cos': 1.0, 'nn_bias': 0.0, 'catboost': -0.8, 'knn': -0.19999999999999996, 'quality': -0.29999999999999993, 'volume': 0.8}. Best is trial 360 with value: 5.86264772102292.\u001b[0m\n"
     ]
    },
    {
     "name": "stdout",
     "output_type": "stream",
     "text": [
      "time 2.655 cat_cov 99.0 cov 100.0 nov 0.659 ser 0.218 m1 0.574 m10 0.591 price 2.982 sum 5.026\n"
     ]
    },
    {
     "name": "stderr",
     "output_type": "stream",
     "text": [
      "\u001b[32m[I 2023-05-12 13:52:39,771]\u001b[0m Trial 612 finished with value: 5.84522646566008 and parameters: {'svd': 0.6000000000000001, 'lfm_cos': -0.09999999999999998, 'nn_bias': 0.10000000000000009, 'catboost': -0.9, 'knn': -0.09999999999999998, 'quality': -0.09999999999999998, 'volume': 1.0}. Best is trial 360 with value: 5.86264772102292.\u001b[0m\n"
     ]
    },
    {
     "name": "stdout",
     "output_type": "stream",
     "text": [
      "time 2.671 cat_cov 98.0 cov 100.0 nov 0.981 ser 0.214 m1 0.914 m10 0.843 price 2.741 sum 5.845\n"
     ]
    },
    {
     "name": "stderr",
     "output_type": "stream",
     "text": [
      "\u001b[32m[I 2023-05-12 13:52:42,456]\u001b[0m Trial 613 finished with value: 5.750600081843039 and parameters: {'svd': 0.5, 'lfm_cos': -0.19999999999999996, 'nn_bias': 0.20000000000000018, 'catboost': -0.9, 'knn': -0.19999999999999996, 'quality': -0.3999999999999999, 'volume': 1.0}. Best is trial 360 with value: 5.86264772102292.\u001b[0m\n"
     ]
    },
    {
     "name": "stdout",
     "output_type": "stream",
     "text": [
      "time 2.647 cat_cov 96.0 cov 100.0 nov 1.01 ser 0.211 m1 0.874 m10 0.802 price 2.68 sum 5.751\n"
     ]
    },
    {
     "name": "stderr",
     "output_type": "stream",
     "text": [
      "\u001b[32m[I 2023-05-12 13:52:45,136]\u001b[0m Trial 614 finished with value: 5.810063701713373 and parameters: {'svd': 0.6000000000000001, 'lfm_cos': -0.19999999999999996, 'nn_bias': 0.10000000000000009, 'catboost': -0.9, 'knn': -0.09999999999999998, 'quality': -0.09999999999999998, 'volume': 1.0}. Best is trial 360 with value: 5.86264772102292.\u001b[0m\n"
     ]
    },
    {
     "name": "stdout",
     "output_type": "stream",
     "text": [
      "time 2.642 cat_cov 97.0 cov 100.0 nov 1.002 ser 0.212 m1 0.899 m10 0.831 price 2.689 sum 5.81\n"
     ]
    },
    {
     "name": "stderr",
     "output_type": "stream",
     "text": [
      "\u001b[32m[I 2023-05-12 13:52:47,827]\u001b[0m Trial 615 finished with value: 5.780986330245812 and parameters: {'svd': 0.5, 'lfm_cos': -0.09999999999999998, 'nn_bias': 0.10000000000000009, 'catboost': -0.9, 'knn': -0.09999999999999998, 'quality': -0.19999999999999996, 'volume': 1.0}. Best is trial 360 with value: 5.86264772102292.\u001b[0m\n"
     ]
    },
    {
     "name": "stdout",
     "output_type": "stream",
     "text": [
      "time 2.65 cat_cov 92.0 cov 100.0 nov 0.988 ser 0.214 m1 0.908 m10 0.838 price 2.738 sum 5.781\n"
     ]
    },
    {
     "name": "stderr",
     "output_type": "stream",
     "text": [
      "\u001b[32m[I 2023-05-12 13:52:50,493]\u001b[0m Trial 616 finished with value: 5.771215846172366 and parameters: {'svd': 0.6000000000000001, 'lfm_cos': -0.29999999999999993, 'nn_bias': 0.0, 'catboost': -0.9, 'knn': -0.09999999999999998, 'quality': -0.29999999999999993, 'volume': 1.0}. Best is trial 360 with value: 5.86264772102292.\u001b[0m\n"
     ]
    },
    {
     "name": "stdout",
     "output_type": "stream",
     "text": [
      "time 2.629 cat_cov 95.0 cov 100.0 nov 0.99 ser 0.212 m1 0.889 m10 0.822 price 2.724 sum 5.771\n"
     ]
    },
    {
     "name": "stderr",
     "output_type": "stream",
     "text": [
      "\u001b[32m[I 2023-05-12 13:52:53,174]\u001b[0m Trial 617 finished with value: 5.806575634984371 and parameters: {'svd': 0.6000000000000001, 'lfm_cos': -0.09999999999999998, 'nn_bias': 0.10000000000000009, 'catboost': -0.9, 'knn': -0.19999999999999996, 'quality': -0.19999999999999996, 'volume': 1.0}. Best is trial 360 with value: 5.86264772102292.\u001b[0m\n"
     ]
    },
    {
     "name": "stdout",
     "output_type": "stream",
     "text": [
      "time 2.643 cat_cov 95.0 cov 100.0 nov 0.969 ser 0.215 m1 0.91 m10 0.841 price 2.765 sum 5.807\n"
     ]
    },
    {
     "name": "stderr",
     "output_type": "stream",
     "text": [
      "\u001b[32m[I 2023-05-12 13:52:55,863]\u001b[0m Trial 618 finished with value: 5.6803106862640975 and parameters: {'svd': 0.5, 'lfm_cos': -0.09999999999999998, 'nn_bias': 0.0, 'catboost': -0.9, 'knn': -0.8, 'quality': -0.09999999999999998, 'volume': 0.9000000000000001}. Best is trial 360 with value: 5.86264772102292.\u001b[0m\n"
     ]
    },
    {
     "name": "stdout",
     "output_type": "stream",
     "text": [
      "time 2.651 cat_cov 88.0 cov 98.0 nov 0.909 ser 0.217 m1 0.894 m10 0.825 price 2.928 sum 5.68\n"
     ]
    },
    {
     "name": "stderr",
     "output_type": "stream",
     "text": [
      "\u001b[32m[I 2023-05-12 13:52:58,568]\u001b[0m Trial 619 finished with value: 5.762028735840644 and parameters: {'svd': 0.6000000000000001, 'lfm_cos': -0.09999999999999998, 'nn_bias': 0.20000000000000018, 'catboost': -1.0, 'knn': -0.09999999999999998, 'quality': -0.19999999999999996, 'volume': 1.0}. Best is trial 360 with value: 5.86264772102292.\u001b[0m\n"
     ]
    },
    {
     "name": "stdout",
     "output_type": "stream",
     "text": [
      "time 2.667 cat_cov 92.0 cov 100.0 nov 0.998 ser 0.212 m1 0.901 m10 0.831 price 2.697 sum 5.762\n"
     ]
    },
    {
     "name": "stderr",
     "output_type": "stream",
     "text": [
      "\u001b[32m[I 2023-05-12 13:53:01,250]\u001b[0m Trial 620 finished with value: 5.760725554724615 and parameters: {'svd': 0.5, 'lfm_cos': -0.19999999999999996, 'nn_bias': 0.10000000000000009, 'catboost': -0.9, 'knn': -0.09999999999999998, 'quality': -0.19999999999999996, 'volume': 0.9000000000000001}. Best is trial 360 with value: 5.86264772102292.\u001b[0m\n"
     ]
    },
    {
     "name": "stdout",
     "output_type": "stream",
     "text": [
      "time 2.644 cat_cov 93.0 cov 100.0 nov 1.013 ser 0.212 m1 0.891 m10 0.823 price 2.676 sum 5.761\n"
     ]
    },
    {
     "name": "stderr",
     "output_type": "stream",
     "text": [
      "\u001b[32m[I 2023-05-12 13:53:03,932]\u001b[0m Trial 621 finished with value: 5.783201857876913 and parameters: {'svd': 0.6000000000000001, 'lfm_cos': -0.09999999999999998, 'nn_bias': 0.20000000000000018, 'catboost': -1.0, 'knn': -0.09999999999999998, 'quality': -0.09999999999999998, 'volume': 1.0}. Best is trial 360 with value: 5.86264772102292.\u001b[0m\n"
     ]
    },
    {
     "name": "stdout",
     "output_type": "stream",
     "text": [
      "time 2.643 cat_cov 94.0 cov 100.0 nov 0.999 ser 0.212 m1 0.901 m10 0.831 price 2.701 sum 5.783\n"
     ]
    },
    {
     "name": "stderr",
     "output_type": "stream",
     "text": [
      "\u001b[32m[I 2023-05-12 13:53:06,654]\u001b[0m Trial 622 finished with value: 5.716630488036839 and parameters: {'svd': 0.6000000000000001, 'lfm_cos': -0.09999999999999998, 'nn_bias': 0.10000000000000009, 'catboost': 0.0, 'knn': -0.19999999999999996, 'quality': -0.29999999999999993, 'volume': 0.9000000000000001}. Best is trial 360 with value: 5.86264772102292.\u001b[0m\n"
     ]
    },
    {
     "name": "stdout",
     "output_type": "stream",
     "text": [
      "time 2.679 cat_cov 97.0 cov 100.0 nov 0.818 ser 0.199 m1 0.936 m10 0.875 price 2.756 sum 5.717\n"
     ]
    },
    {
     "name": "stderr",
     "output_type": "stream",
     "text": [
      "\u001b[32m[I 2023-05-12 13:53:09,352]\u001b[0m Trial 623 finished with value: 5.819470154487494 and parameters: {'svd': 0.5, 'lfm_cos': -0.09999999999999998, 'nn_bias': 0.10000000000000009, 'catboost': -0.8, 'knn': 0.0, 'quality': -0.19999999999999996, 'volume': 0.9000000000000001}. Best is trial 360 with value: 5.86264772102292.\u001b[0m\n"
     ]
    },
    {
     "name": "stdout",
     "output_type": "stream",
     "text": [
      "time 2.66 cat_cov 96.0 cov 100.0 nov 1.002 ser 0.212 m1 0.909 m10 0.84 price 2.688 sum 5.819\n"
     ]
    },
    {
     "name": "stderr",
     "output_type": "stream",
     "text": [
      "\u001b[32m[I 2023-05-12 13:53:12,739]\u001b[0m Trial 624 finished with value: 5.7868268788385775 and parameters: {'svd': 0.6000000000000001, 'lfm_cos': 0.0, 'nn_bias': 0.0, 'catboost': -1.0, 'knn': 0.0, 'quality': -0.29999999999999993, 'volume': 1.0}. Best is trial 360 with value: 5.86264772102292.\u001b[0m\n"
     ]
    },
    {
     "name": "stdout",
     "output_type": "stream",
     "text": [
      "time 3.35 cat_cov 96.0 cov 100.0 nov 0.785 ser 0.223 m1 0.924 m10 0.846 price 3.147 sum 5.787\n"
     ]
    },
    {
     "name": "stderr",
     "output_type": "stream",
     "text": [
      "\u001b[32m[I 2023-05-12 13:53:15,413]\u001b[0m Trial 625 finished with value: 5.789458555610784 and parameters: {'svd': 0.6000000000000001, 'lfm_cos': 0.0, 'nn_bias': -0.09999999999999998, 'catboost': -0.9, 'knn': 0.0, 'quality': -0.09999999999999998, 'volume': 0.8}. Best is trial 360 with value: 5.86264772102292.\u001b[0m\n"
     ]
    },
    {
     "name": "stdout",
     "output_type": "stream",
     "text": [
      "time 2.635 cat_cov 98.0 cov 100.0 nov 0.784 ser 0.225 m1 0.925 m10 0.846 price 3.086 sum 5.789\n"
     ]
    },
    {
     "name": "stderr",
     "output_type": "stream",
     "text": [
      "\u001b[32m[I 2023-05-12 13:53:18,086]\u001b[0m Trial 626 finished with value: 5.776058354405606 and parameters: {'svd': 0.5, 'lfm_cos': 0.0, 'nn_bias': 0.0, 'catboost': -0.8, 'knn': -0.09999999999999998, 'quality': -0.19999999999999996, 'volume': 0.9000000000000001}. Best is trial 360 with value: 5.86264772102292.\u001b[0m\n"
     ]
    },
    {
     "name": "stdout",
     "output_type": "stream",
     "text": [
      "time 2.632 cat_cov 94.0 cov 100.0 nov 0.779 ser 0.224 m1 0.923 m10 0.846 price 3.188 sum 5.776\n"
     ]
    },
    {
     "name": "stderr",
     "output_type": "stream",
     "text": [
      "\u001b[32m[I 2023-05-12 13:53:20,776]\u001b[0m Trial 627 finished with value: 5.785589349749572 and parameters: {'svd': 0.7000000000000002, 'lfm_cos': -0.19999999999999996, 'nn_bias': 0.20000000000000018, 'catboost': -0.9, 'knn': 0.10000000000000009, 'quality': -0.3999999999999999, 'volume': 1.0}. Best is trial 360 with value: 5.86264772102292.\u001b[0m\n"
     ]
    },
    {
     "name": "stdout",
     "output_type": "stream",
     "text": [
      "time 2.651 cat_cov 99.0 cov 100.0 nov 1.009 ser 0.207 m1 0.887 m10 0.823 price 2.607 sum 5.786\n"
     ]
    },
    {
     "name": "stderr",
     "output_type": "stream",
     "text": [
      "\u001b[32m[I 2023-05-12 13:53:23,462]\u001b[0m Trial 628 finished with value: 5.824370614751964 and parameters: {'svd': 0.6000000000000001, 'lfm_cos': -0.09999999999999998, 'nn_bias': 0.10000000000000009, 'catboost': -1.0, 'knn': -0.09999999999999998, 'quality': -0.09999999999999998, 'volume': 0.8}. Best is trial 360 with value: 5.86264772102292.\u001b[0m\n"
     ]
    },
    {
     "name": "stdout",
     "output_type": "stream",
     "text": [
      "time 2.647 cat_cov 96.0 cov 100.0 nov 0.989 ser 0.214 m1 0.913 m10 0.842 price 2.719 sum 5.824\n"
     ]
    },
    {
     "name": "stderr",
     "output_type": "stream",
     "text": [
      "\u001b[32m[I 2023-05-12 13:53:26,202]\u001b[0m Trial 629 finished with value: 5.549163726811525 and parameters: {'svd': 0.5, 'lfm_cos': 0.0, 'nn_bias': 0.10000000000000009, 'catboost': -0.6, 'knn': 0.40000000000000013, 'quality': -0.29999999999999993, 'volume': 0.8}. Best is trial 360 with value: 5.86264772102292.\u001b[0m\n"
     ]
    },
    {
     "name": "stdout",
     "output_type": "stream",
     "text": [
      "time 2.699 cat_cov 96.0 cov 100.0 nov 0.911 ser 0.197 m1 0.807 m10 0.808 price 2.598 sum 5.549\n"
     ]
    },
    {
     "name": "stderr",
     "output_type": "stream",
     "text": [
      "\u001b[32m[I 2023-05-12 13:53:28,947]\u001b[0m Trial 630 finished with value: 5.7741521182961035 and parameters: {'svd': 0.7000000000000002, 'lfm_cos': -0.09999999999999998, 'nn_bias': 0.0, 'catboost': -0.5, 'knn': 0.0, 'quality': -0.19999999999999996, 'volume': 0.9000000000000001}. Best is trial 360 with value: 5.86264772102292.\u001b[0m\n"
     ]
    },
    {
     "name": "stdout",
     "output_type": "stream",
     "text": [
      "time 2.707 cat_cov 99.0 cov 100.0 nov 0.841 ser 0.208 m1 0.931 m10 0.85 price 2.864 sum 5.774\n"
     ]
    },
    {
     "name": "stderr",
     "output_type": "stream",
     "text": [
      "\u001b[32m[I 2023-05-12 13:53:31,656]\u001b[0m Trial 631 finished with value: 5.792656896175364 and parameters: {'svd': 0.6000000000000001, 'lfm_cos': 0.10000000000000009, 'nn_bias': 0.20000000000000018, 'catboost': -0.8, 'knn': -0.09999999999999998, 'quality': -0.09999999999999998, 'volume': 1.0}. Best is trial 360 with value: 5.86264772102292.\u001b[0m\n"
     ]
    },
    {
     "name": "stdout",
     "output_type": "stream",
     "text": [
      "time 2.67 cat_cov 96.0 cov 100.0 nov 0.902 ser 0.218 m1 0.92 m10 0.846 price 2.839 sum 5.793\n"
     ]
    },
    {
     "name": "stderr",
     "output_type": "stream",
     "text": [
      "\u001b[32m[I 2023-05-12 13:53:34,362]\u001b[0m Trial 632 finished with value: 5.7980186037089805 and parameters: {'svd': 0.6000000000000001, 'lfm_cos': 0.0, 'nn_bias': 0.10000000000000009, 'catboost': -1.0, 'knn': 0.0, 'quality': -0.29999999999999993, 'volume': 0.20000000000000018}. Best is trial 360 with value: 5.86264772102292.\u001b[0m\n"
     ]
    },
    {
     "name": "stdout",
     "output_type": "stream",
     "text": [
      "time 2.667 cat_cov 96.0 cov 100.0 nov 0.98 ser 0.214 m1 0.919 m10 0.851 price 2.623 sum 5.798\n"
     ]
    },
    {
     "name": "stderr",
     "output_type": "stream",
     "text": [
      "\u001b[32m[I 2023-05-12 13:53:37,063]\u001b[0m Trial 633 finished with value: 4.81498264208223 and parameters: {'svd': 0.5, 'lfm_cos': 0.9000000000000001, 'nn_bias': 0.10000000000000009, 'catboost': 0.5, 'knn': -0.19999999999999996, 'quality': -0.09999999999999998, 'volume': 0.9000000000000001}. Best is trial 360 with value: 5.86264772102292.\u001b[0m\n"
     ]
    },
    {
     "name": "stdout",
     "output_type": "stream",
     "text": [
      "time 2.663 cat_cov 93.0 cov 100.0 nov 0.542 ser 0.169 m1 0.624 m10 0.592 price 2.874 sum 4.815\n"
     ]
    },
    {
     "name": "stderr",
     "output_type": "stream",
     "text": [
      "\u001b[32m[I 2023-05-12 13:53:39,747]\u001b[0m Trial 634 finished with value: 5.779834388545278 and parameters: {'svd': 0.7000000000000002, 'lfm_cos': 0.0, 'nn_bias': 0.0, 'catboost': -0.7, 'knn': -0.29999999999999993, 'quality': -0.19999999999999996, 'volume': 0.8}. Best is trial 360 with value: 5.86264772102292.\u001b[0m\n"
     ]
    },
    {
     "name": "stdout",
     "output_type": "stream",
     "text": [
      "time 2.646 cat_cov 96.0 cov 100.0 nov 0.764 ser 0.224 m1 0.921 m10 0.845 price 3.197 sum 5.78\n"
     ]
    },
    {
     "name": "stderr",
     "output_type": "stream",
     "text": [
      "\u001b[32m[I 2023-05-12 13:53:42,449]\u001b[0m Trial 635 finished with value: 5.766231912794083 and parameters: {'svd': 0.6000000000000001, 'lfm_cos': -0.09999999999999998, 'nn_bias': 0.20000000000000018, 'catboost': -0.8, 'knn': 0.10000000000000009, 'quality': -0.3999999999999999, 'volume': 0.7000000000000002}. Best is trial 360 with value: 5.86264772102292.\u001b[0m\n"
     ]
    },
    {
     "name": "stdout",
     "output_type": "stream",
     "text": [
      "time 2.663 cat_cov 97.0 cov 100.0 nov 1.009 ser 0.207 m1 0.888 m10 0.826 price 2.6 sum 5.766\n"
     ]
    },
    {
     "name": "stderr",
     "output_type": "stream",
     "text": [
      "\u001b[32m[I 2023-05-12 13:53:45,145]\u001b[0m Trial 636 finished with value: 5.767435596239497 and parameters: {'svd': 0.8, 'lfm_cos': 0.10000000000000009, 'nn_bias': 0.10000000000000009, 'catboost': -0.6, 'knn': 0.0, 'quality': -0.19999999999999996, 'volume': 0.8}. Best is trial 360 with value: 5.86264772102292.\u001b[0m\n"
     ]
    },
    {
     "name": "stdout",
     "output_type": "stream",
     "text": [
      "time 2.657 cat_cov 100.0 cov 100.0 nov 0.793 ser 0.214 m1 0.939 m10 0.861 price 2.881 sum 5.767\n"
     ]
    },
    {
     "name": "stderr",
     "output_type": "stream",
     "text": [
      "\u001b[32m[I 2023-05-12 13:53:47,866]\u001b[0m Trial 637 finished with value: 5.827263243196217 and parameters: {'svd': 0.5, 'lfm_cos': 0.0, 'nn_bias': 0.10000000000000009, 'catboost': -0.9, 'knn': -0.09999999999999998, 'quality': -0.09999999999999998, 'volume': 1.0}. Best is trial 360 with value: 5.86264772102292.\u001b[0m\n"
     ]
    },
    {
     "name": "stdout",
     "output_type": "stream",
     "text": [
      "time 2.683 cat_cov 94.0 cov 100.0 nov 0.938 ser 0.219 m1 0.919 m10 0.847 price 2.892 sum 5.827\n"
     ]
    },
    {
     "name": "stderr",
     "output_type": "stream",
     "text": [
      "\u001b[32m[I 2023-05-12 13:53:50,605]\u001b[0m Trial 638 finished with value: 5.733876415811776 and parameters: {'svd': 0.7000000000000002, 'lfm_cos': -0.09999999999999998, 'nn_bias': 0.0, 'catboost': -0.3999999999999999, 'knn': 0.0, 'quality': -0.19999999999999996, 'volume': 0.9000000000000001}. Best is trial 360 with value: 5.86264772102292.\u001b[0m\n"
     ]
    },
    {
     "name": "stdout",
     "output_type": "stream",
     "text": [
      "time 2.7 cat_cov 97.0 cov 100.0 nov 0.815 ser 0.205 m1 0.934 m10 0.856 price 2.861 sum 5.734\n"
     ]
    },
    {
     "name": "stderr",
     "output_type": "stream",
     "text": [
      "\u001b[32m[I 2023-05-12 13:53:53,305]\u001b[0m Trial 639 finished with value: 5.695337868746909 and parameters: {'svd': 0.6000000000000001, 'lfm_cos': -0.19999999999999996, 'nn_bias': 0.20000000000000018, 'catboost': -0.7, 'knn': 0.20000000000000018, 'quality': -0.29999999999999993, 'volume': 0.8}. Best is trial 360 with value: 5.86264772102292.\u001b[0m\n"
     ]
    },
    {
     "name": "stdout",
     "output_type": "stream",
     "text": [
      "time 2.661 cat_cov 98.0 cov 100.0 nov 0.991 ser 0.202 m1 0.856 m10 0.809 price 2.577 sum 5.695\n"
     ]
    },
    {
     "name": "stderr",
     "output_type": "stream",
     "text": [
      "\u001b[32m[I 2023-05-12 13:53:55,975]\u001b[0m Trial 640 finished with value: 5.732064956314179 and parameters: {'svd': 0.7000000000000002, 'lfm_cos': 0.0, 'nn_bias': -0.09999999999999998, 'catboost': -1.0, 'knn': -0.19999999999999996, 'quality': -0.09999999999999998, 'volume': 1.0}. Best is trial 360 with value: 5.86264772102292.\u001b[0m\n"
     ]
    },
    {
     "name": "stdout",
     "output_type": "stream",
     "text": [
      "time 2.632 cat_cov 93.0 cov 100.0 nov 0.772 ser 0.227 m1 0.92 m10 0.844 price 3.115 sum 5.732\n"
     ]
    },
    {
     "name": "stderr",
     "output_type": "stream",
     "text": [
      "\u001b[32m[I 2023-05-12 13:53:58,677]\u001b[0m Trial 641 finished with value: 5.828147844895794 and parameters: {'svd': 0.5, 'lfm_cos': -0.09999999999999998, 'nn_bias': 0.0, 'catboost': -0.7, 'knn': 0.10000000000000009, 'quality': -0.19999999999999996, 'volume': 0.9000000000000001}. Best is trial 360 with value: 5.86264772102292.\u001b[0m\n"
     ]
    },
    {
     "name": "stdout",
     "output_type": "stream",
     "text": [
      "time 2.663 cat_cov 99.0 cov 100.0 nov 0.955 ser 0.212 m1 0.913 m10 0.841 price 2.753 sum 5.828\n"
     ]
    },
    {
     "name": "stderr",
     "output_type": "stream",
     "text": [
      "\u001b[32m[I 2023-05-12 13:54:01,364]\u001b[0m Trial 642 finished with value: 5.822751822662039 and parameters: {'svd': 0.6000000000000001, 'lfm_cos': 0.0, 'nn_bias': 0.10000000000000009, 'catboost': -0.8, 'knn': -0.09999999999999998, 'quality': -0.3999999999999999, 'volume': 0.7000000000000002}. Best is trial 360 with value: 5.86264772102292.\u001b[0m\n"
     ]
    },
    {
     "name": "stdout",
     "output_type": "stream",
     "text": [
      "time 2.648 cat_cov 97.0 cov 100.0 nov 0.94 ser 0.216 m1 0.924 m10 0.852 price 2.764 sum 5.823\n"
     ]
    },
    {
     "name": "stderr",
     "output_type": "stream",
     "text": [
      "\u001b[32m[I 2023-05-12 13:54:04,049]\u001b[0m Trial 643 finished with value: 5.74600448867494 and parameters: {'svd': 0.8, 'lfm_cos': 0.10000000000000009, 'nn_bias': 0.0, 'catboost': -0.9, 'knn': 0.0, 'quality': -0.29999999999999993, 'volume': 0.9000000000000001}. Best is trial 360 with value: 5.86264772102292.\u001b[0m\n"
     ]
    },
    {
     "name": "stdout",
     "output_type": "stream",
     "text": [
      "time 2.646 cat_cov 99.0 cov 100.0 nov 0.765 ser 0.224 m1 0.932 m10 0.849 price 2.959 sum 5.746\n"
     ]
    },
    {
     "name": "stderr",
     "output_type": "stream",
     "text": [
      "\u001b[32m[I 2023-05-12 13:54:06,781]\u001b[0m Trial 644 finished with value: 5.766071810384106 and parameters: {'svd': 0.6000000000000001, 'lfm_cos': 0.0, 'nn_bias': 0.10000000000000009, 'catboost': -0.6, 'knn': 0.10000000000000009, 'quality': -0.19999999999999996, 'volume': 0.8}. Best is trial 360 with value: 5.86264772102292.\u001b[0m\n"
     ]
    },
    {
     "name": "stdout",
     "output_type": "stream",
     "text": [
      "time 2.694 cat_cov 96.0 cov 100.0 nov 0.924 ser 0.208 m1 0.921 m10 0.849 price 2.71 sum 5.766\n"
     ]
    },
    {
     "name": "stderr",
     "output_type": "stream",
     "text": [
      "\u001b[32m[I 2023-05-12 13:54:09,483]\u001b[0m Trial 645 finished with value: 5.819166658500218 and parameters: {'svd': 0.7000000000000002, 'lfm_cos': -0.09999999999999998, 'nn_bias': 0.20000000000000018, 'catboost': -0.8, 'knn': 0.0, 'quality': -0.09999999999999998, 'volume': 0.9000000000000001}. Best is trial 360 with value: 5.86264772102292.\u001b[0m\n"
     ]
    },
    {
     "name": "stdout",
     "output_type": "stream",
     "text": [
      "time 2.664 cat_cov 100.0 cov 100.0 nov 0.98 ser 0.208 m1 0.908 m10 0.836 price 2.66 sum 5.819\n"
     ]
    },
    {
     "name": "stderr",
     "output_type": "stream",
     "text": [
      "\u001b[32m[I 2023-05-12 13:54:12,173]\u001b[0m Trial 646 finished with value: 5.797026263684287 and parameters: {'svd': 0.5, 'lfm_cos': -0.19999999999999996, 'nn_bias': 0.10000000000000009, 'catboost': -0.5, 'knn': -0.09999999999999998, 'quality': 0.0, 'volume': 1.0}. Best is trial 360 with value: 5.86264772102292.\u001b[0m\n"
     ]
    },
    {
     "name": "stdout",
     "output_type": "stream",
     "text": [
      "time 2.65 cat_cov 99.0 cov 100.0 nov 0.974 ser 0.208 m1 0.899 m10 0.825 price 2.704 sum 5.797\n"
     ]
    },
    {
     "name": "stderr",
     "output_type": "stream",
     "text": [
      "\u001b[32m[I 2023-05-12 13:54:14,868]\u001b[0m Trial 647 finished with value: 5.737611852508941 and parameters: {'svd': 0.6000000000000001, 'lfm_cos': 0.0, 'nn_bias': 0.30000000000000004, 'catboost': -0.6, 'knn': 0.0, 'quality': -0.29999999999999993, 'volume': 0.7000000000000002}. Best is trial 360 with value: 5.86264772102292.\u001b[0m\n"
     ]
    },
    {
     "name": "stdout",
     "output_type": "stream",
     "text": [
      "time 2.655 cat_cov 99.0 cov 100.0 nov 0.957 ser 0.204 m1 0.886 m10 0.821 price 2.638 sum 5.738\n"
     ]
    },
    {
     "name": "stderr",
     "output_type": "stream",
     "text": [
      "\u001b[32m[I 2023-05-12 13:54:17,571]\u001b[0m Trial 648 finished with value: 5.785642935593446 and parameters: {'svd': 0.8, 'lfm_cos': -0.09999999999999998, 'nn_bias': 0.10000000000000009, 'catboost': -0.7, 'knn': 0.0, 'quality': -0.19999999999999996, 'volume': 0.8}. Best is trial 360 with value: 5.86264772102292.\u001b[0m\n"
     ]
    },
    {
     "name": "stdout",
     "output_type": "stream",
     "text": [
      "time 2.665 cat_cov 97.0 cov 100.0 nov 0.936 ser 0.208 m1 0.927 m10 0.849 price 2.686 sum 5.786\n"
     ]
    },
    {
     "name": "stderr",
     "output_type": "stream",
     "text": [
      "\u001b[32m[I 2023-05-12 13:54:20,266]\u001b[0m Trial 649 finished with value: 5.793785293414936 and parameters: {'svd': 0.7000000000000002, 'lfm_cos': 0.0, 'nn_bias': 0.20000000000000018, 'catboost': -1.0, 'knn': 0.10000000000000009, 'quality': -0.09999999999999998, 'volume': 0.0}. Best is trial 360 with value: 5.86264772102292.\u001b[0m\n"
     ]
    },
    {
     "name": "stdout",
     "output_type": "stream",
     "text": [
      "time 2.658 cat_cov 98.0 cov 100.0 nov 1.011 ser 0.209 m1 0.902 m10 0.837 price 2.562 sum 5.794\n"
     ]
    },
    {
     "name": "stderr",
     "output_type": "stream",
     "text": [
      "\u001b[32m[I 2023-05-12 13:54:22,959]\u001b[0m Trial 650 finished with value: 5.732579657456633 and parameters: {'svd': 0.5, 'lfm_cos': 0.10000000000000009, 'nn_bias': 0.10000000000000009, 'catboost': -0.9, 'knn': -0.09999999999999998, 'quality': -0.29999999999999993, 'volume': 0.7000000000000002}. Best is trial 360 with value: 5.86264772102292.\u001b[0m\n"
     ]
    },
    {
     "name": "stdout",
     "output_type": "stream",
     "text": [
      "time 2.653 cat_cov 93.0 cov 100.0 nov 0.843 ser 0.223 m1 0.923 m10 0.849 price 2.891 sum 5.733\n"
     ]
    },
    {
     "name": "stderr",
     "output_type": "stream",
     "text": [
      "\u001b[32m[I 2023-05-12 13:54:25,633]\u001b[0m Trial 651 finished with value: 5.772714442906972 and parameters: {'svd': 0.6000000000000001, 'lfm_cos': 0.0, 'nn_bias': 0.0, 'catboost': -0.7, 'knn': -0.19999999999999996, 'quality': -0.09999999999999998, 'volume': 1.0}. Best is trial 360 with value: 5.86264772102292.\u001b[0m\n"
     ]
    },
    {
     "name": "stdout",
     "output_type": "stream",
     "text": [
      "time 2.634 cat_cov 94.0 cov 100.0 nov 0.771 ser 0.224 m1 0.922 m10 0.845 price 3.213 sum 5.773\n"
     ]
    },
    {
     "name": "stderr",
     "output_type": "stream",
     "text": [
      "\u001b[32m[I 2023-05-12 13:54:28,340]\u001b[0m Trial 652 finished with value: 5.780978951090702 and parameters: {'svd': 0.7000000000000002, 'lfm_cos': -0.09999999999999998, 'nn_bias': 0.10000000000000009, 'catboost': -1.0, 'knn': 0.20000000000000018, 'quality': -0.19999999999999996, 'volume': 0.8}. Best is trial 360 with value: 5.86264772102292.\u001b[0m\n"
     ]
    },
    {
     "name": "stdout",
     "output_type": "stream",
     "text": [
      "time 2.669 cat_cov 96.0 cov 100.0 nov 1.003 ser 0.209 m1 0.9 m10 0.838 price 2.614 sum 5.781\n"
     ]
    },
    {
     "name": "stderr",
     "output_type": "stream",
     "text": [
      "\u001b[32m[I 2023-05-12 13:54:31,026]\u001b[0m Trial 653 finished with value: 5.6612306847336855 and parameters: {'svd': 0.40000000000000013, 'lfm_cos': -0.8, 'nn_bias': 0.20000000000000018, 'catboost': -0.8, 'knn': -0.09999999999999998, 'quality': -0.3999999999999999, 'volume': 0.7000000000000002}. Best is trial 360 with value: 5.86264772102292.\u001b[0m\n"
     ]
    },
    {
     "name": "stdout",
     "output_type": "stream",
     "text": [
      "time 2.645 cat_cov 100.0 cov 100.0 nov 1.08 ser 0.196 m1 0.809 m10 0.731 price 2.535 sum 5.661\n"
     ]
    },
    {
     "name": "stderr",
     "output_type": "stream",
     "text": [
      "\u001b[32m[I 2023-05-12 13:54:33,702]\u001b[0m Trial 654 finished with value: 5.707263039706107 and parameters: {'svd': 0.6000000000000001, 'lfm_cos': 0.20000000000000018, 'nn_bias': 0.0, 'catboost': -0.6, 'knn': 0.10000000000000009, 'quality': 0.0, 'volume': 0.9000000000000001}. Best is trial 360 with value: 5.86264772102292.\u001b[0m\n"
     ]
    },
    {
     "name": "stdout",
     "output_type": "stream",
     "text": [
      "time 2.638 cat_cov 99.0 cov 100.0 nov 0.737 ser 0.22 m1 0.934 m10 0.851 price 2.928 sum 5.707\n"
     ]
    },
    {
     "name": "stderr",
     "output_type": "stream",
     "text": [
      "\u001b[32m[I 2023-05-12 13:54:36,389]\u001b[0m Trial 655 finished with value: 5.831413355780756 and parameters: {'svd': 0.5, 'lfm_cos': -0.09999999999999998, 'nn_bias': 0.10000000000000009, 'catboost': -0.7, 'knn': 0.0, 'quality': -0.19999999999999996, 'volume': 0.8}. Best is trial 360 with value: 5.86264772102292.\u001b[0m\n"
     ]
    },
    {
     "name": "stdout",
     "output_type": "stream",
     "text": [
      "time 2.648 cat_cov 98.0 cov 100.0 nov 0.998 ser 0.211 m1 0.91 m10 0.84 price 2.675 sum 5.831\n"
     ]
    },
    {
     "name": "stderr",
     "output_type": "stream",
     "text": [
      "\u001b[32m[I 2023-05-12 13:54:39,068]\u001b[0m Trial 656 finished with value: 5.7177783733544585 and parameters: {'svd': 0.7000000000000002, 'lfm_cos': 0.10000000000000009, 'nn_bias': -0.19999999999999996, 'catboost': -0.9, 'knn': 0.0, 'quality': -0.09999999999999998, 'volume': 1.0}. Best is trial 360 with value: 5.86264772102292.\u001b[0m\n"
     ]
    },
    {
     "name": "stdout",
     "output_type": "stream",
     "text": [
      "time 2.639 cat_cov 96.0 cov 100.0 nov 0.76 ser 0.226 m1 0.929 m10 0.846 price 2.991 sum 5.718\n"
     ]
    },
    {
     "name": "stderr",
     "output_type": "stream",
     "text": [
      "\u001b[32m[I 2023-05-12 13:54:41,762]\u001b[0m Trial 657 finished with value: 5.856376042403328 and parameters: {'svd': 0.6000000000000001, 'lfm_cos': 0.0, 'nn_bias': 0.10000000000000009, 'catboost': -0.7, 'knn': -0.09999999999999998, 'quality': -0.29999999999999993, 'volume': 0.9000000000000001}. Best is trial 360 with value: 5.86264772102292.\u001b[0m\n"
     ]
    },
    {
     "name": "stdout",
     "output_type": "stream",
     "text": [
      "time 2.656 cat_cov 99.0 cov 100.0 nov 0.926 ser 0.216 m1 0.926 m10 0.852 price 2.837 sum 5.856\n"
     ]
    },
    {
     "name": "stderr",
     "output_type": "stream",
     "text": [
      "\u001b[32m[I 2023-05-12 13:54:44,475]\u001b[0m Trial 658 finished with value: 5.779717371458554 and parameters: {'svd': 0.6000000000000001, 'lfm_cos': 0.0, 'nn_bias': 0.10000000000000009, 'catboost': -0.6, 'knn': -0.19999999999999996, 'quality': -0.9, 'volume': 0.9000000000000001}. Best is trial 360 with value: 5.86264772102292.\u001b[0m\n"
     ]
    },
    {
     "name": "stdout",
     "output_type": "stream",
     "text": [
      "time 2.674 cat_cov 97.0 cov 100.0 nov 0.904 ser 0.215 m1 0.922 m10 0.851 price 2.75 sum 5.78\n"
     ]
    },
    {
     "name": "stderr",
     "output_type": "stream",
     "text": [
      "\u001b[32m[I 2023-05-12 13:54:47,151]\u001b[0m Trial 659 finished with value: 5.7699600882511675 and parameters: {'svd': 0.6000000000000001, 'lfm_cos': 0.0, 'nn_bias': 0.0, 'catboost': -0.7, 'knn': -0.19999999999999996, 'quality': -0.29999999999999993, 'volume': 0.9000000000000001}. Best is trial 360 with value: 5.86264772102292.\u001b[0m\n"
     ]
    },
    {
     "name": "stdout",
     "output_type": "stream",
     "text": [
      "time 2.636 cat_cov 96.0 cov 100.0 nov 0.768 ser 0.223 m1 0.922 m10 0.847 price 3.153 sum 5.77\n"
     ]
    },
    {
     "name": "stderr",
     "output_type": "stream",
     "text": [
      "\u001b[32m[I 2023-05-12 13:54:49,877]\u001b[0m Trial 660 finished with value: 4.753875226850949 and parameters: {'svd': 0.6000000000000001, 'lfm_cos': -0.09999999999999998, 'nn_bias': 0.20000000000000018, 'catboost': 0.9000000000000001, 'knn': -0.09999999999999998, 'quality': -0.3999999999999999, 'volume': 0.8}. Best is trial 360 with value: 5.86264772102292.\u001b[0m\n"
     ]
    },
    {
     "name": "stdout",
     "output_type": "stream",
     "text": [
      "time 2.688 cat_cov 92.0 cov 100.0 nov 0.573 ser 0.136 m1 0.613 m10 0.619 price 2.677 sum 4.754\n"
     ]
    },
    {
     "name": "stderr",
     "output_type": "stream",
     "text": [
      "\u001b[32m[I 2023-05-12 13:54:52,580]\u001b[0m Trial 661 finished with value: 5.842646961297978 and parameters: {'svd': 0.5, 'lfm_cos': 0.0, 'nn_bias': 0.10000000000000009, 'catboost': -0.6, 'knn': -0.19999999999999996, 'quality': -0.29999999999999993, 'volume': 0.8}. Best is trial 360 with value: 5.86264772102292.\u001b[0m\n"
     ]
    },
    {
     "name": "stdout",
     "output_type": "stream",
     "text": [
      "time 2.659 cat_cov 98.0 cov 100.0 nov 0.928 ser 0.218 m1 0.918 m10 0.848 price 2.853 sum 5.843\n"
     ]
    },
    {
     "name": "stderr",
     "output_type": "stream",
     "text": [
      "\u001b[32m[I 2023-05-12 13:54:55,271]\u001b[0m Trial 662 finished with value: 5.7916602763157705 and parameters: {'svd': 0.5, 'lfm_cos': 0.10000000000000009, 'nn_bias': 0.20000000000000018, 'catboost': -0.6, 'knn': -0.19999999999999996, 'quality': -0.29999999999999993, 'volume': 0.8}. Best is trial 360 with value: 5.86264772102292.\u001b[0m\n"
     ]
    },
    {
     "name": "stdout",
     "output_type": "stream",
     "text": [
      "time 2.652 cat_cov 99.0 cov 100.0 nov 0.891 ser 0.218 m1 0.911 m10 0.839 price 2.826 sum 5.792\n"
     ]
    },
    {
     "name": "stderr",
     "output_type": "stream",
     "text": [
      "\u001b[32m[I 2023-05-12 13:54:57,950]\u001b[0m Trial 663 finished with value: 5.791150854673659 and parameters: {'svd': 0.6000000000000001, 'lfm_cos': 0.10000000000000009, 'nn_bias': 0.10000000000000009, 'catboost': -0.6, 'knn': -0.19999999999999996, 'quality': -0.29999999999999993, 'volume': 0.7000000000000002}. Best is trial 360 with value: 5.86264772102292.\u001b[0m\n"
     ]
    },
    {
     "name": "stdout",
     "output_type": "stream",
     "text": [
      "time 2.64 cat_cov 100.0 cov 100.0 nov 0.822 ser 0.222 m1 0.927 m10 0.853 price 2.902 sum 5.791\n"
     ]
    },
    {
     "name": "stderr",
     "output_type": "stream",
     "text": [
      "\u001b[32m[I 2023-05-12 13:55:00,646]\u001b[0m Trial 664 finished with value: 5.795164100391007 and parameters: {'svd': 0.6000000000000001, 'lfm_cos': 0.0, 'nn_bias': 0.20000000000000018, 'catboost': -0.5, 'knn': -0.19999999999999996, 'quality': -0.3999999999999999, 'volume': 0.8}. Best is trial 360 with value: 5.86264772102292.\u001b[0m\n"
     ]
    },
    {
     "name": "stdout",
     "output_type": "stream",
     "text": [
      "time 2.657 cat_cov 98.0 cov 100.0 nov 0.938 ser 0.211 m1 0.916 m10 0.84 price 2.73 sum 5.795\n"
     ]
    },
    {
     "name": "stderr",
     "output_type": "stream",
     "text": [
      "\u001b[32m[I 2023-05-12 13:55:03,309]\u001b[0m Trial 665 finished with value: 5.796844173171172 and parameters: {'svd': 0.5, 'lfm_cos': 0.0, 'nn_bias': 0.10000000000000009, 'catboost': -0.6, 'knn': -0.29999999999999993, 'quality': -0.29999999999999993, 'volume': 0.8}. Best is trial 360 with value: 5.86264772102292.\u001b[0m\n"
     ]
    },
    {
     "name": "stdout",
     "output_type": "stream",
     "text": [
      "time 2.623 cat_cov 94.0 cov 100.0 nov 0.924 ser 0.219 m1 0.913 m10 0.844 price 2.873 sum 5.797\n"
     ]
    },
    {
     "name": "stderr",
     "output_type": "stream",
     "text": [
      "\u001b[32m[I 2023-05-12 13:55:05,986]\u001b[0m Trial 666 finished with value: 5.773164815473573 and parameters: {'svd': 0.30000000000000004, 'lfm_cos': 0.0, 'nn_bias': 0.10000000000000009, 'catboost': -0.6, 'knn': -0.19999999999999996, 'quality': -0.19999999999999996, 'volume': 0.7000000000000002}. Best is trial 360 with value: 5.86264772102292.\u001b[0m\n"
     ]
    },
    {
     "name": "stdout",
     "output_type": "stream",
     "text": [
      "time 2.638 cat_cov 92.0 cov 100.0 nov 0.942 ser 0.219 m1 0.902 m10 0.831 price 2.878 sum 5.773\n"
     ]
    },
    {
     "name": "stderr",
     "output_type": "stream",
     "text": [
      "\u001b[32m[I 2023-05-12 13:55:08,651]\u001b[0m Trial 667 finished with value: 5.763252459073961 and parameters: {'svd': 0.6000000000000001, 'lfm_cos': 0.10000000000000009, 'nn_bias': 0.10000000000000009, 'catboost': -0.5, 'knn': -0.29999999999999993, 'quality': -0.29999999999999993, 'volume': 0.7000000000000002}. Best is trial 360 with value: 5.86264772102292.\u001b[0m\n"
     ]
    },
    {
     "name": "stdout",
     "output_type": "stream",
     "text": [
      "time 2.625 cat_cov 98.0 cov 100.0 nov 0.815 ser 0.222 m1 0.924 m10 0.85 price 2.914 sum 5.763\n"
     ]
    },
    {
     "name": "stderr",
     "output_type": "stream",
     "text": [
      "\u001b[32m[I 2023-05-12 13:55:11,324]\u001b[0m Trial 668 finished with value: 5.7085433860895165 and parameters: {'svd': 0.5, 'lfm_cos': 0.0, 'nn_bias': 0.30000000000000004, 'catboost': -0.6, 'knn': -0.19999999999999996, 'quality': -0.19999999999999996, 'volume': -0.29999999999999993}. Best is trial 360 with value: 5.86264772102292.\u001b[0m\n"
     ]
    },
    {
     "name": "stdout",
     "output_type": "stream",
     "text": [
      "time 2.631 cat_cov 99.0 cov 100.0 nov 0.987 ser 0.207 m1 0.866 m10 0.795 price 2.591 sum 5.709\n"
     ]
    },
    {
     "name": "stderr",
     "output_type": "stream",
     "text": [
      "\u001b[32m[I 2023-05-12 13:55:14,728]\u001b[0m Trial 669 finished with value: 5.759517188970881 and parameters: {'svd': 0.6000000000000001, 'lfm_cos': 0.10000000000000009, 'nn_bias': 0.20000000000000018, 'catboost': -0.19999999999999996, 'knn': -0.09999999999999998, 'quality': -0.29999999999999993, 'volume': 0.8}. Best is trial 360 with value: 5.86264772102292.\u001b[0m\n"
     ]
    },
    {
     "name": "stdout",
     "output_type": "stream",
     "text": [
      "time 3.364 cat_cov 99.0 cov 100.0 nov 0.837 ser 0.203 m1 0.939 m10 0.876 price 2.742 sum 5.76\n"
     ]
    },
    {
     "name": "stderr",
     "output_type": "stream",
     "text": [
      "\u001b[32m[I 2023-05-12 13:55:17,441]\u001b[0m Trial 670 finished with value: 5.7904714305083065 and parameters: {'svd': 0.40000000000000013, 'lfm_cos': 0.0, 'nn_bias': 0.10000000000000009, 'catboost': -0.6, 'knn': -0.29999999999999993, 'quality': -0.19999999999999996, 'volume': 0.8}. Best is trial 360 with value: 5.86264772102292.\u001b[0m\n"
     ]
    },
    {
     "name": "stdout",
     "output_type": "stream",
     "text": [
      "time 2.667 cat_cov 93.0 cov 100.0 nov 0.928 ser 0.219 m1 0.907 m10 0.837 price 2.91 sum 5.79\n"
     ]
    },
    {
     "name": "stderr",
     "output_type": "stream",
     "text": [
      "\u001b[32m[I 2023-05-12 13:55:20,120]\u001b[0m Trial 671 finished with value: 5.820874411631538 and parameters: {'svd': 0.6000000000000001, 'lfm_cos': 0.0, 'nn_bias': 0.10000000000000009, 'catboost': -0.7, 'knn': -0.19999999999999996, 'quality': -0.3999999999999999, 'volume': 0.8}. Best is trial 360 with value: 5.86264772102292.\u001b[0m\n"
     ]
    },
    {
     "name": "stdout",
     "output_type": "stream",
     "text": [
      "time 2.641 cat_cov 97.0 cov 100.0 nov 0.925 ser 0.217 m1 0.921 m10 0.851 price 2.811 sum 5.821\n"
     ]
    },
    {
     "name": "stderr",
     "output_type": "stream",
     "text": [
      "\u001b[32m[I 2023-05-12 13:55:22,838]\u001b[0m Trial 672 finished with value: 5.790009191773168 and parameters: {'svd': 0.7000000000000002, 'lfm_cos': 0.0, 'nn_bias': 0.20000000000000018, 'catboost': -0.6, 'knn': -0.09999999999999998, 'quality': -0.29999999999999993, 'volume': 0.10000000000000009}. Best is trial 360 with value: 5.86264772102292.\u001b[0m\n"
     ]
    },
    {
     "name": "stdout",
     "output_type": "stream",
     "text": [
      "time 2.678 cat_cov 99.0 cov 100.0 nov 0.95 ser 0.208 m1 0.921 m10 0.845 price 2.627 sum 5.79\n"
     ]
    },
    {
     "name": "stderr",
     "output_type": "stream",
     "text": [
      "\u001b[32m[I 2023-05-12 13:55:25,536]\u001b[0m Trial 673 finished with value: 5.7535161318173715 and parameters: {'svd': 0.5, 'lfm_cos': 0.10000000000000009, 'nn_bias': 0.10000000000000009, 'catboost': -0.7, 'knn': -0.09999999999999998, 'quality': -0.19999999999999996, 'volume': 0.7000000000000002}. Best is trial 360 with value: 5.86264772102292.\u001b[0m\n"
     ]
    },
    {
     "name": "stdout",
     "output_type": "stream",
     "text": [
      "time 2.657 cat_cov 95.0 cov 100.0 nov 0.836 ser 0.223 m1 0.926 m10 0.851 price 2.902 sum 5.754\n"
     ]
    },
    {
     "name": "stderr",
     "output_type": "stream",
     "text": [
      "\u001b[32m[I 2023-05-12 13:55:28,241]\u001b[0m Trial 674 finished with value: 5.834935307798283 and parameters: {'svd': 0.6000000000000001, 'lfm_cos': 0.0, 'nn_bias': 0.10000000000000009, 'catboost': -0.7, 'knn': -0.09999999999999998, 'quality': -0.29999999999999993, 'volume': 0.8}. Best is trial 360 with value: 5.86264772102292.\u001b[0m\n"
     ]
    },
    {
     "name": "stdout",
     "output_type": "stream",
     "text": [
      "time 2.666 cat_cov 97.0 cov 100.0 nov 0.932 ser 0.216 m1 0.925 m10 0.852 price 2.816 sum 5.835\n"
     ]
    },
    {
     "name": "stderr",
     "output_type": "stream",
     "text": [
      "\u001b[32m[I 2023-05-12 13:55:30,946]\u001b[0m Trial 675 finished with value: 5.784853826160834 and parameters: {'svd': 0.7000000000000002, 'lfm_cos': 0.0, 'nn_bias': 0.20000000000000018, 'catboost': -0.5, 'knn': -0.19999999999999996, 'quality': -0.19999999999999996, 'volume': 0.7000000000000002}. Best is trial 360 with value: 5.86264772102292.\u001b[0m\n"
     ]
    },
    {
     "name": "stdout",
     "output_type": "stream",
     "text": [
      "time 2.663 cat_cov 97.0 cov 100.0 nov 0.926 ser 0.209 m1 0.923 m10 0.846 price 2.729 sum 5.785\n"
     ]
    },
    {
     "name": "stderr",
     "output_type": "stream",
     "text": [
      "\u001b[32m[I 2023-05-12 13:55:33,582]\u001b[0m Trial 676 finished with value: 4.210106934146893 and parameters: {'svd': -0.7, 'lfm_cos': 0.10000000000000009, 'nn_bias': 0.10000000000000009, 'catboost': -0.7, 'knn': -0.09999999999999998, 'quality': -0.3999999999999999, 'volume': 0.7000000000000002}. Best is trial 360 with value: 5.86264772102292.\u001b[0m\n"
     ]
    },
    {
     "name": "stdout",
     "output_type": "stream",
     "text": [
      "time 2.597 cat_cov 93.0 cov 100.0 nov 0.912 ser 0.154 m1 0.115 m10 0.232 price 2.603 sum 4.21\n"
     ]
    },
    {
     "name": "stderr",
     "output_type": "stream",
     "text": [
      "\u001b[32m[I 2023-05-12 13:55:36,285]\u001b[0m Trial 677 finished with value: 5.8158925170115845 and parameters: {'svd': 0.6000000000000001, 'lfm_cos': -0.09999999999999998, 'nn_bias': 0.10000000000000009, 'catboost': -0.6, 'knn': -0.29999999999999993, 'quality': -0.29999999999999993, 'volume': 0.8}. Best is trial 360 with value: 5.86264772102292.\u001b[0m\n"
     ]
    },
    {
     "name": "stdout",
     "output_type": "stream",
     "text": [
      "time 2.664 cat_cov 98.0 cov 100.0 nov 0.955 ser 0.214 m1 0.909 m10 0.839 price 2.757 sum 5.816\n"
     ]
    },
    {
     "name": "stderr",
     "output_type": "stream",
     "text": [
      "\u001b[32m[I 2023-05-12 13:55:38,981]\u001b[0m Trial 678 finished with value: 5.8160604676837035 and parameters: {'svd': 0.5, 'lfm_cos': 0.0, 'nn_bias': 0.10000000000000009, 'catboost': -1.0, 'knn': -0.09999999999999998, 'quality': -0.19999999999999996, 'volume': 0.9000000000000001}. Best is trial 360 with value: 5.86264772102292.\u001b[0m\n"
     ]
    },
    {
     "name": "stdout",
     "output_type": "stream",
     "text": [
      "time 2.655 cat_cov 93.0 cov 100.0 nov 0.942 ser 0.219 m1 0.917 m10 0.847 price 2.879 sum 5.816\n"
     ]
    },
    {
     "name": "stderr",
     "output_type": "stream",
     "text": [
      "\u001b[32m[I 2023-05-12 13:55:41,707]\u001b[0m Trial 679 finished with value: 5.765871224839588 and parameters: {'svd': 0.7000000000000002, 'lfm_cos': 0.0, 'nn_bias': 0.20000000000000018, 'catboost': -0.29999999999999993, 'knn': -0.09999999999999998, 'quality': -0.09999999999999998, 'volume': 0.8}. Best is trial 360 with value: 5.86264772102292.\u001b[0m\n"
     ]
    },
    {
     "name": "stdout",
     "output_type": "stream",
     "text": [
      "time 2.684 cat_cov 99.0 cov 100.0 nov 0.872 ser 0.202 m1 0.934 m10 0.869 price 2.7 sum 5.766\n"
     ]
    },
    {
     "name": "stderr",
     "output_type": "stream",
     "text": [
      "\u001b[32m[I 2023-05-12 13:55:44,392]\u001b[0m Trial 680 finished with value: 5.721243329898638 and parameters: {'svd': 0.6000000000000001, 'lfm_cos': 0.20000000000000018, 'nn_bias': 0.10000000000000009, 'catboost': -0.6, 'knn': -0.19999999999999996, 'quality': -0.19999999999999996, 'volume': 0.7000000000000002}. Best is trial 360 with value: 5.86264772102292.\u001b[0m\n"
     ]
    },
    {
     "name": "stdout",
     "output_type": "stream",
     "text": [
      "time 2.645 cat_cov 98.0 cov 100.0 nov 0.764 ser 0.225 m1 0.927 m10 0.845 price 2.942 sum 5.721\n"
     ]
    },
    {
     "name": "stderr",
     "output_type": "stream",
     "text": [
      "\u001b[32m[I 2023-05-12 13:55:47,068]\u001b[0m Trial 681 finished with value: 5.811628311864142 and parameters: {'svd': 0.7000000000000002, 'lfm_cos': -0.09999999999999998, 'nn_bias': 0.0, 'catboost': -0.7, 'knn': -0.19999999999999996, 'quality': -0.09999999999999998, 'volume': 0.9000000000000001}. Best is trial 360 with value: 5.86264772102292.\u001b[0m\n"
     ]
    },
    {
     "name": "stdout",
     "output_type": "stream",
     "text": [
      "time 2.637 cat_cov 97.0 cov 100.0 nov 0.898 ser 0.215 m1 0.919 m10 0.846 price 2.891 sum 5.812\n"
     ]
    },
    {
     "name": "stderr",
     "output_type": "stream",
     "text": [
      "\u001b[32m[I 2023-05-12 13:55:49,777]\u001b[0m Trial 682 finished with value: 5.78339102819484 and parameters: {'svd': 0.5, 'lfm_cos': 0.0, 'nn_bias': 0.20000000000000018, 'catboost': -0.6, 'knn': -0.09999999999999998, 'quality': -0.19999999999999996, 'volume': 0.7000000000000002}. Best is trial 360 with value: 5.86264772102292.\u001b[0m\n"
     ]
    },
    {
     "name": "stdout",
     "output_type": "stream",
     "text": [
      "time 2.67 cat_cov 95.0 cov 100.0 nov 0.967 ser 0.212 m1 0.907 m10 0.834 price 2.74 sum 5.783\n"
     ]
    },
    {
     "name": "stderr",
     "output_type": "stream",
     "text": [
      "\u001b[32m[I 2023-05-12 13:55:52,476]\u001b[0m Trial 683 finished with value: 5.766567497324887 and parameters: {'svd': 0.6000000000000001, 'lfm_cos': 0.10000000000000009, 'nn_bias': 0.10000000000000009, 'catboost': -0.5, 'knn': -0.09999999999999998, 'quality': -0.29999999999999993, 'volume': 0.6000000000000001}. Best is trial 360 with value: 5.86264772102292.\u001b[0m\n"
     ]
    },
    {
     "name": "stdout",
     "output_type": "stream",
     "text": [
      "time 2.659 cat_cov 99.0 cov 100.0 nov 0.811 ser 0.219 m1 0.936 m10 0.857 price 2.863 sum 5.767\n"
     ]
    },
    {
     "name": "stderr",
     "output_type": "stream",
     "text": [
      "\u001b[32m[I 2023-05-12 13:55:55,180]\u001b[0m Trial 684 finished with value: 5.8132509438616715 and parameters: {'svd': 0.7000000000000002, 'lfm_cos': -0.09999999999999998, 'nn_bias': 0.0, 'catboost': -0.7, 'knn': -0.09999999999999998, 'quality': -0.29999999999999993, 'volume': 0.9000000000000001}. Best is trial 360 with value: 5.86264772102292.\u001b[0m\n"
     ]
    },
    {
     "name": "stdout",
     "output_type": "stream",
     "text": [
      "time 2.663 cat_cov 98.0 cov 100.0 nov 0.895 ser 0.214 m1 0.923 m10 0.848 price 2.861 sum 5.813\n"
     ]
    },
    {
     "name": "stderr",
     "output_type": "stream",
     "text": [
      "\u001b[32m[I 2023-05-12 13:55:57,860]\u001b[0m Trial 685 finished with value: 5.834168777787983 and parameters: {'svd': 0.6000000000000001, 'lfm_cos': 0.0, 'nn_bias': 0.10000000000000009, 'catboost': -1.0, 'knn': 0.0, 'quality': -0.19999999999999996, 'volume': 0.8}. Best is trial 360 with value: 5.86264772102292.\u001b[0m\n"
     ]
    },
    {
     "name": "stdout",
     "output_type": "stream",
     "text": [
      "time 2.64 cat_cov 95.0 cov 100.0 nov 0.958 ser 0.217 m1 0.921 m10 0.85 price 2.815 sum 5.834\n"
     ]
    },
    {
     "name": "stderr",
     "output_type": "stream",
     "text": [
      "\u001b[32m[I 2023-05-12 13:56:00,546]\u001b[0m Trial 686 finished with value: 5.777247581013288 and parameters: {'svd': 0.5, 'lfm_cos': 0.0, 'nn_bias': 0.20000000000000018, 'catboost': -0.7, 'knn': -0.09999999999999998, 'quality': -0.3999999999999999, 'volume': 0.9000000000000001}. Best is trial 360 with value: 5.86264772102292.\u001b[0m\n"
     ]
    },
    {
     "name": "stdout",
     "output_type": "stream",
     "text": [
      "time 2.646 cat_cov 94.0 cov 100.0 nov 0.967 ser 0.214 m1 0.906 m10 0.835 price 2.747 sum 5.777\n"
     ]
    },
    {
     "name": "stderr",
     "output_type": "stream",
     "text": [
      "\u001b[32m[I 2023-05-12 13:56:03,241]\u001b[0m Trial 687 finished with value: 5.8009596547055695 and parameters: {'svd': 0.40000000000000013, 'lfm_cos': -0.09999999999999998, 'nn_bias': 0.10000000000000009, 'catboost': -0.6, 'knn': 0.0, 'quality': -0.09999999999999998, 'volume': 0.8}. Best is trial 360 with value: 5.86264772102292.\u001b[0m\n"
     ]
    },
    {
     "name": "stdout",
     "output_type": "stream",
     "text": [
      "time 2.654 cat_cov 96.0 cov 100.0 nov 1.002 ser 0.211 m1 0.901 m10 0.833 price 2.681 sum 5.801\n"
     ]
    },
    {
     "name": "stderr",
     "output_type": "stream",
     "text": [
      "\u001b[32m[I 2023-05-12 13:56:05,921]\u001b[0m Trial 688 finished with value: 5.672180115764101 and parameters: {'svd': 0.6000000000000001, 'lfm_cos': -0.09999999999999998, 'nn_bias': 0.40000000000000013, 'catboost': -1.0, 'knn': -0.19999999999999996, 'quality': -0.19999999999999996, 'volume': -0.19999999999999996}. Best is trial 360 with value: 5.86264772102292.\u001b[0m\n"
     ]
    },
    {
     "name": "stdout",
     "output_type": "stream",
     "text": [
      "time 2.639 cat_cov 98.0 cov 100.0 nov 1.017 ser 0.207 m1 0.832 m10 0.768 price 2.604 sum 5.672\n"
     ]
    },
    {
     "name": "stderr",
     "output_type": "stream",
     "text": [
      "\u001b[32m[I 2023-05-12 13:56:08,589]\u001b[0m Trial 689 finished with value: 5.73630618945 and parameters: {'svd': 0.5, 'lfm_cos': 0.10000000000000009, 'nn_bias': 0.0, 'catboost': -0.7, 'knn': 0.0, 'quality': -0.09999999999999998, 'volume': 0.7000000000000002}. Best is trial 360 with value: 5.86264772102292.\u001b[0m\n"
     ]
    },
    {
     "name": "stdout",
     "output_type": "stream",
     "text": [
      "time 2.629 cat_cov 98.0 cov 100.0 nov 0.76 ser 0.226 m1 0.93 m10 0.846 price 2.982 sum 5.736\n"
     ]
    },
    {
     "name": "stderr",
     "output_type": "stream",
     "text": [
      "\u001b[32m[I 2023-05-12 13:56:11,339]\u001b[0m Trial 690 finished with value: 5.782479593346635 and parameters: {'svd': 0.7000000000000002, 'lfm_cos': 0.0, 'nn_bias': 0.30000000000000004, 'catboost': -0.6, 'knn': -0.09999999999999998, 'quality': -0.29999999999999993, 'volume': 0.9000000000000001}. Best is trial 360 with value: 5.86264772102292.\u001b[0m\n"
     ]
    },
    {
     "name": "stdout",
     "output_type": "stream",
     "text": [
      "time 2.709 cat_cov 100.0 cov 100.0 nov 0.943 ser 0.206 m1 0.907 m10 0.834 price 2.679 sum 5.782\n"
     ]
    },
    {
     "name": "stderr",
     "output_type": "stream",
     "text": [
      "\u001b[32m[I 2023-05-12 13:56:14,034]\u001b[0m Trial 691 finished with value: 5.822946007418213 and parameters: {'svd': 0.6000000000000001, 'lfm_cos': 0.0, 'nn_bias': 0.10000000000000009, 'catboost': -0.7, 'knn': 0.0, 'quality': -0.19999999999999996, 'volume': 0.6000000000000001}. Best is trial 360 with value: 5.86264772102292.\u001b[0m\n"
     ]
    },
    {
     "name": "stdout",
     "output_type": "stream",
     "text": [
      "time 2.655 cat_cov 97.0 cov 100.0 nov 0.949 ser 0.213 m1 0.926 m10 0.851 price 2.744 sum 5.823\n"
     ]
    },
    {
     "name": "stderr",
     "output_type": "stream",
     "text": [
      "\u001b[32m[I 2023-05-12 13:56:16,644]\u001b[0m Trial 692 finished with value: 4.138352158360974 and parameters: {'svd': -0.5, 'lfm_cos': 0.10000000000000009, 'nn_bias': 0.20000000000000018, 'catboost': -1.0, 'knn': -0.09999999999999998, 'quality': -0.3999999999999999, 'volume': 0.8}. Best is trial 360 with value: 5.86264772102292.\u001b[0m\n"
     ]
    },
    {
     "name": "stdout",
     "output_type": "stream",
     "text": [
      "time 2.569 cat_cov 89.0 cov 100.0 nov 0.93 ser 0.153 m1 0.087 m10 0.215 price 2.593 sum 4.138\n"
     ]
    },
    {
     "name": "stderr",
     "output_type": "stream",
     "text": [
      "\u001b[32m[I 2023-05-12 13:56:19,344]\u001b[0m Trial 693 finished with value: 5.760642598728976 and parameters: {'svd': 0.5, 'lfm_cos': 0.0, 'nn_bias': 0.0, 'catboost': -0.5, 'knn': -0.19999999999999996, 'quality': -0.29999999999999993, 'volume': 0.7000000000000002}. Best is trial 360 with value: 5.86264772102292.\u001b[0m\n"
     ]
    },
    {
     "name": "stdout",
     "output_type": "stream",
     "text": [
      "time 2.66 cat_cov 97.0 cov 100.0 nov 0.761 ser 0.222 m1 0.921 m10 0.846 price 3.121 sum 5.761\n"
     ]
    },
    {
     "name": "stderr",
     "output_type": "stream",
     "text": [
      "\u001b[32m[I 2023-05-12 13:56:22,029]\u001b[0m Trial 694 finished with value: 5.8004374682354 and parameters: {'svd': 0.6000000000000001, 'lfm_cos': -0.09999999999999998, 'nn_bias': 0.10000000000000009, 'catboost': -0.6, 'knn': -0.29999999999999993, 'quality': -0.09999999999999998, 'volume': 0.9000000000000001}. Best is trial 360 with value: 5.86264772102292.\u001b[0m\n"
     ]
    },
    {
     "name": "stdout",
     "output_type": "stream",
     "text": [
      "time 2.644 cat_cov 96.0 cov 100.0 nov 0.951 ser 0.214 m1 0.91 m10 0.839 price 2.782 sum 5.8\n"
     ]
    },
    {
     "name": "stderr",
     "output_type": "stream",
     "text": [
      "\u001b[32m[I 2023-05-12 13:56:24,709]\u001b[0m Trial 695 finished with value: 5.76369261006133 and parameters: {'svd': 0.7000000000000002, 'lfm_cos': -0.3999999999999999, 'nn_bias': 0.10000000000000009, 'catboost': -0.7, 'knn': 0.0, 'quality': -0.19999999999999996, 'volume': 0.6000000000000001}. Best is trial 360 with value: 5.86264772102292.\u001b[0m\n"
     ]
    },
    {
     "name": "stdout",
     "output_type": "stream",
     "text": [
      "time 2.641 cat_cov 99.0 cov 100.0 nov 1.004 ser 0.205 m1 0.883 m10 0.815 price 2.601 sum 5.764\n"
     ]
    },
    {
     "name": "stderr",
     "output_type": "stream",
     "text": [
      "\u001b[32m[I 2023-05-12 13:56:27,408]\u001b[0m Trial 696 finished with value: 5.71894119433024 and parameters: {'svd': 0.5, 'lfm_cos': 0.0, 'nn_bias': 0.20000000000000018, 'catboost': -1.0, 'knn': -0.09999999999999998, 'quality': -0.5, 'volume': 0.8}. Best is trial 360 with value: 5.86264772102292.\u001b[0m\n"
     ]
    },
    {
     "name": "stdout",
     "output_type": "stream",
     "text": [
      "time 2.659 cat_cov 89.0 cov 100.0 nov 0.976 ser 0.214 m1 0.901 m10 0.834 price 2.712 sum 5.719\n"
     ]
    },
    {
     "name": "stderr",
     "output_type": "stream",
     "text": [
      "\u001b[32m[I 2023-05-12 13:56:30,129]\u001b[0m Trial 697 finished with value: 5.8189683963704715 and parameters: {'svd': 0.6000000000000001, 'lfm_cos': -0.19999999999999996, 'nn_bias': 0.0, 'catboost': -0.7, 'knn': 0.0, 'quality': -0.09999999999999998, 'volume': 0.7000000000000002}. Best is trial 360 with value: 5.86264772102292.\u001b[0m\n"
     ]
    },
    {
     "name": "stdout",
     "output_type": "stream",
     "text": [
      "time 2.681 cat_cov 99.0 cov 100.0 nov 0.964 ser 0.21 m1 0.906 m10 0.836 price 2.738 sum 5.819\n"
     ]
    },
    {
     "name": "stderr",
     "output_type": "stream",
     "text": [
      "\u001b[32m[I 2023-05-12 13:56:32,824]\u001b[0m Trial 698 finished with value: 5.75261806913009 and parameters: {'svd': 0.7000000000000002, 'lfm_cos': 0.10000000000000009, 'nn_bias': 0.10000000000000009, 'catboost': -0.3999999999999999, 'knn': -0.09999999999999998, 'quality': -0.29999999999999993, 'volume': 0.9000000000000001}. Best is trial 360 with value: 5.86264772102292.\u001b[0m\n"
     ]
    },
    {
     "name": "stdout",
     "output_type": "stream",
     "text": [
      "time 2.654 cat_cov 99.0 cov 100.0 nov 0.774 ser 0.214 m1 0.942 m10 0.865 price 2.903 sum 5.753\n"
     ]
    },
    {
     "name": "stderr",
     "output_type": "stream",
     "text": [
      "\u001b[32m[I 2023-05-12 13:56:35,521]\u001b[0m Trial 699 finished with value: 5.731616652688219 and parameters: {'svd': 0.6000000000000001, 'lfm_cos': -0.09999999999999998, 'nn_bias': -0.3999999999999999, 'catboost': -0.6, 'knn': 0.0, 'quality': -0.19999999999999996, 'volume': 0.8}. Best is trial 360 with value: 5.86264772102292.\u001b[0m\n"
     ]
    },
    {
     "name": "stdout",
     "output_type": "stream",
     "text": [
      "time 2.656 cat_cov 98.0 cov 100.0 nov 0.842 ser 0.217 m1 0.912 m10 0.829 price 2.856 sum 5.732\n"
     ]
    },
    {
     "name": "stderr",
     "output_type": "stream",
     "text": [
      "\u001b[32m[I 2023-05-12 13:56:38,220]\u001b[0m Trial 700 finished with value: 5.856326096708991 and parameters: {'svd': 0.7000000000000002, 'lfm_cos': 0.0, 'nn_bias': 0.10000000000000009, 'catboost': -0.7, 'knn': -0.19999999999999996, 'quality': -0.09999999999999998, 'volume': 0.7000000000000002}. Best is trial 360 with value: 5.86264772102292.\u001b[0m\n"
     ]
    },
    {
     "name": "stdout",
     "output_type": "stream",
     "text": [
      "time 2.657 cat_cov 99.0 cov 100.0 nov 0.927 ser 0.216 m1 0.925 m10 0.852 price 2.838 sum 5.856\n"
     ]
    },
    {
     "name": "stderr",
     "output_type": "stream",
     "text": [
      "\u001b[32m[I 2023-05-12 13:56:40,915]\u001b[0m Trial 701 finished with value: 5.7896797697281475 and parameters: {'svd': 0.7000000000000002, 'lfm_cos': 0.0, 'nn_bias': 0.20000000000000018, 'catboost': -0.5, 'knn': -0.29999999999999993, 'quality': -0.29999999999999993, 'volume': 0.7000000000000002}. Best is trial 360 with value: 5.86264772102292.\u001b[0m\n"
     ]
    },
    {
     "name": "stdout",
     "output_type": "stream",
     "text": [
      "time 2.653 cat_cov 97.0 cov 100.0 nov 0.932 ser 0.211 m1 0.919 m10 0.842 price 2.746 sum 5.79\n"
     ]
    },
    {
     "name": "stderr",
     "output_type": "stream",
     "text": [
      "\u001b[32m[I 2023-05-12 13:56:43,614]\u001b[0m Trial 702 finished with value: 5.792568867217063 and parameters: {'svd': 0.7000000000000002, 'lfm_cos': -0.09999999999999998, 'nn_bias': 0.10000000000000009, 'catboost': -1.0, 'knn': -0.19999999999999996, 'quality': -0.3999999999999999, 'volume': 0.7000000000000002}. Best is trial 360 with value: 5.86264772102292.\u001b[0m\n"
     ]
    },
    {
     "name": "stdout",
     "output_type": "stream",
     "text": [
      "time 2.659 cat_cov 94.0 cov 100.0 nov 0.975 ser 0.215 m1 0.913 m10 0.844 price 2.719 sum 5.793\n"
     ]
    },
    {
     "name": "stderr",
     "output_type": "stream",
     "text": [
      "\u001b[32m[I 2023-05-12 13:56:46,268]\u001b[0m Trial 703 finished with value: 5.680049559615261 and parameters: {'svd': 0.10000000000000009, 'lfm_cos': 0.0, 'nn_bias': 0.0, 'catboost': -0.9, 'knn': -0.19999999999999996, 'quality': -0.19999999999999996, 'volume': 0.8}. Best is trial 360 with value: 5.86264772102292.\u001b[0m\n"
     ]
    },
    {
     "name": "stdout",
     "output_type": "stream",
     "text": [
      "time 2.614 cat_cov 91.0 cov 99.0 nov 0.762 ser 0.222 m1 0.893 m10 0.822 price 3.243 sum 5.68\n"
     ]
    },
    {
     "name": "stderr",
     "output_type": "stream",
     "text": [
      "\u001b[32m[I 2023-05-12 13:56:48,945]\u001b[0m Trial 704 finished with value: 5.822144608533963 and parameters: {'svd': 0.7000000000000002, 'lfm_cos': -0.09999999999999998, 'nn_bias': 0.10000000000000009, 'catboost': -0.7, 'knn': -0.19999999999999996, 'quality': -0.09999999999999998, 'volume': 0.7000000000000002}. Best is trial 360 with value: 5.86264772102292.\u001b[0m\n"
     ]
    },
    {
     "name": "stdout",
     "output_type": "stream",
     "text": [
      "time 2.635 cat_cov 98.0 cov 100.0 nov 0.958 ser 0.213 m1 0.917 m10 0.844 price 2.729 sum 5.822\n"
     ]
    },
    {
     "name": "stderr",
     "output_type": "stream",
     "text": [
      "\u001b[32m[I 2023-05-12 13:56:51,610]\u001b[0m Trial 705 finished with value: 5.683301712734024 and parameters: {'svd': 0.7000000000000002, 'lfm_cos': -0.7, 'nn_bias': 0.20000000000000018, 'catboost': -0.6, 'knn': -0.29999999999999993, 'quality': -0.19999999999999996, 'volume': 0.8}. Best is trial 360 with value: 5.86264772102292.\u001b[0m\n"
     ]
    },
    {
     "name": "stdout",
     "output_type": "stream",
     "text": [
      "time 2.624 cat_cov 96.0 cov 100.0 nov 1.015 ser 0.201 m1 0.86 m10 0.774 price 2.622 sum 5.683\n"
     ]
    },
    {
     "name": "stderr",
     "output_type": "stream",
     "text": [
      "\u001b[32m[I 2023-05-12 13:56:54,279]\u001b[0m Trial 706 finished with value: 5.766657567759576 and parameters: {'svd': 0.7000000000000002, 'lfm_cos': 0.10000000000000009, 'nn_bias': 0.10000000000000009, 'catboost': -1.0, 'knn': -0.19999999999999996, 'quality': -0.29999999999999993, 'volume': 0.9000000000000001}. Best is trial 360 with value: 5.86264772102292.\u001b[0m\n"
     ]
    },
    {
     "name": "stdout",
     "output_type": "stream",
     "text": [
      "time 2.626 cat_cov 96.0 cov 100.0 nov 0.828 ser 0.224 m1 0.925 m10 0.851 price 2.938 sum 5.767\n"
     ]
    },
    {
     "name": "stderr",
     "output_type": "stream",
     "text": [
      "\u001b[32m[I 2023-05-12 13:56:56,992]\u001b[0m Trial 707 finished with value: 5.41241721647804 and parameters: {'svd': 0.8, 'lfm_cos': 0.6000000000000001, 'nn_bias': 0.8, 'catboost': -0.7, 'knn': -0.19999999999999996, 'quality': -0.19999999999999996, 'volume': 0.7000000000000002}. Best is trial 360 with value: 5.86264772102292.\u001b[0m\n"
     ]
    },
    {
     "name": "stdout",
     "output_type": "stream",
     "text": [
      "time 2.669 cat_cov 99.0 cov 100.0 nov 0.832 ser 0.201 m1 0.76 m10 0.718 price 2.737 sum 5.412\n"
     ]
    },
    {
     "name": "stderr",
     "output_type": "stream",
     "text": [
      "\u001b[32m[I 2023-05-12 13:56:59,661]\u001b[0m Trial 708 finished with value: 5.7794264491352685 and parameters: {'svd': 0.8, 'lfm_cos': 0.0, 'nn_bias': 0.0, 'catboost': -0.6, 'knn': -0.19999999999999996, 'quality': -0.09999999999999998, 'volume': 0.8}. Best is trial 360 with value: 5.86264772102292.\u001b[0m\n"
     ]
    },
    {
     "name": "stdout",
     "output_type": "stream",
     "text": [
      "time 2.628 cat_cov 97.0 cov 100.0 nov 0.759 ser 0.219 m1 0.931 m10 0.848 price 3.156 sum 5.779\n"
     ]
    },
    {
     "name": "stderr",
     "output_type": "stream",
     "text": [
      "\u001b[32m[I 2023-05-12 13:57:02,358]\u001b[0m Trial 709 finished with value: 5.649039212140344 and parameters: {'svd': 0.7000000000000002, 'lfm_cos': 0.0, 'nn_bias': 0.5, 'catboost': -0.7, 'knn': -0.09999999999999998, 'quality': -0.29999999999999993, 'volume': 0.7000000000000002}. Best is trial 360 with value: 5.86264772102292.\u001b[0m\n"
     ]
    },
    {
     "name": "stdout",
     "output_type": "stream",
     "text": [
      "time 2.654 cat_cov 99.0 cov 100.0 nov 0.961 ser 0.201 m1 0.84 m10 0.779 price 2.633 sum 5.649\n"
     ]
    },
    {
     "name": "stderr",
     "output_type": "stream",
     "text": [
      "\u001b[32m[I 2023-05-12 13:57:05,037]\u001b[0m Trial 710 finished with value: 5.798068122555609 and parameters: {'svd': 0.7000000000000002, 'lfm_cos': -0.09999999999999998, 'nn_bias': 0.20000000000000018, 'catboost': -0.9, 'knn': -0.29999999999999993, 'quality': -0.09999999999999998, 'volume': 0.9000000000000001}. Best is trial 360 with value: 5.86264772102292.\u001b[0m\n"
     ]
    },
    {
     "name": "stdout",
     "output_type": "stream",
     "text": [
      "time 2.639 cat_cov 96.0 cov 100.0 nov 0.972 ser 0.213 m1 0.905 m10 0.833 price 2.742 sum 5.798\n"
     ]
    },
    {
     "name": "stderr",
     "output_type": "stream",
     "text": [
      "\u001b[32m[I 2023-05-12 13:57:07,717]\u001b[0m Trial 711 finished with value: 5.753539792480176 and parameters: {'svd': 0.5, 'lfm_cos': 0.10000000000000009, 'nn_bias': 0.10000000000000009, 'catboost': -0.09999999999999998, 'knn': -0.19999999999999996, 'quality': -0.19999999999999996, 'volume': 0.8}. Best is trial 360 with value: 5.86264772102292.\u001b[0m\n"
     ]
    },
    {
     "name": "stdout",
     "output_type": "stream",
     "text": [
      "time 2.637 cat_cov 100.0 cov 100.0 nov 0.751 ser 0.212 m1 0.943 m10 0.875 price 2.919 sum 5.754\n"
     ]
    },
    {
     "name": "stderr",
     "output_type": "stream",
     "text": [
      "\u001b[32m[I 2023-05-12 13:57:10,391]\u001b[0m Trial 712 finished with value: 5.765091175584704 and parameters: {'svd': 0.40000000000000013, 'lfm_cos': 0.0, 'nn_bias': 0.10000000000000009, 'catboost': -1.0, 'knn': -0.09999999999999998, 'quality': -0.5, 'volume': 0.8}. Best is trial 360 with value: 5.86264772102292.\u001b[0m\n"
     ]
    },
    {
     "name": "stdout",
     "output_type": "stream",
     "text": [
      "time 2.635 cat_cov 92.0 cov 100.0 nov 0.945 ser 0.218 m1 0.912 m10 0.844 price 2.779 sum 5.765\n"
     ]
    },
    {
     "name": "stderr",
     "output_type": "stream",
     "text": [
      "\u001b[32m[I 2023-05-12 13:57:13,067]\u001b[0m Trial 713 finished with value: 5.727043740090525 and parameters: {'svd': 0.6000000000000001, 'lfm_cos': 0.0, 'nn_bias': 0.0, 'catboost': -0.8, 'knn': -0.19999999999999996, 'quality': -0.29999999999999993, 'volume': 0.7000000000000002}. Best is trial 360 with value: 5.86264772102292.\u001b[0m\n"
     ]
    },
    {
     "name": "stdout",
     "output_type": "stream",
     "text": [
      "time 2.633 cat_cov 93.0 cov 100.0 nov 0.77 ser 0.223 m1 0.92 m10 0.846 price 3.114 sum 5.727\n"
     ]
    },
    {
     "name": "stderr",
     "output_type": "stream",
     "text": [
      "\u001b[32m[I 2023-05-12 13:57:16,482]\u001b[0m Trial 714 finished with value: 5.79715093300172 and parameters: {'svd': 0.6000000000000001, 'lfm_cos': -0.19999999999999996, 'nn_bias': 0.10000000000000009, 'catboost': -0.7, 'knn': -0.09999999999999998, 'quality': -0.19999999999999996, 'volume': 0.9000000000000001}. Best is trial 360 with value: 5.86264772102292.\u001b[0m\n"
     ]
    },
    {
     "name": "stdout",
     "output_type": "stream",
     "text": [
      "time 3.374 cat_cov 97.0 cov 100.0 nov 0.989 ser 0.21 m1 0.901 m10 0.832 price 2.684 sum 5.797\n"
     ]
    },
    {
     "name": "stderr",
     "output_type": "stream",
     "text": [
      "\u001b[32m[I 2023-05-12 13:57:19,178]\u001b[0m Trial 715 finished with value: 5.570451660566127 and parameters: {'svd': 0.7000000000000002, 'lfm_cos': -0.09999999999999998, 'nn_bias': 0.10000000000000009, 'catboost': 0.20000000000000018, 'knn': -0.09999999999999998, 'quality': -0.3999999999999999, 'volume': 0.8}. Best is trial 360 with value: 5.86264772102292.\u001b[0m\n"
     ]
    },
    {
     "name": "stdout",
     "output_type": "stream",
     "text": [
      "time 2.655 cat_cov 96.0 cov 100.0 nov 0.718 ser 0.186 m1 0.923 m10 0.866 price 2.752 sum 5.57\n"
     ]
    },
    {
     "name": "stderr",
     "output_type": "stream",
     "text": [
      "\u001b[32m[I 2023-05-12 13:57:21,899]\u001b[0m Trial 716 finished with value: 5.752154354819383 and parameters: {'svd': 0.8, 'lfm_cos': 0.10000000000000009, 'nn_bias': -0.09999999999999998, 'catboost': -0.6, 'knn': -0.09999999999999998, 'quality': -0.09999999999999998, 'volume': 1.0}. Best is trial 360 with value: 5.86264772102292.\u001b[0m\n"
     ]
    },
    {
     "name": "stdout",
     "output_type": "stream",
     "text": [
      "time 2.68 cat_cov 100.0 cov 100.0 nov 0.745 ser 0.222 m1 0.937 m10 0.853 price 2.984 sum 5.752\n"
     ]
    },
    {
     "name": "stderr",
     "output_type": "stream",
     "text": [
      "\u001b[32m[I 2023-05-12 13:57:24,489]\u001b[0m Trial 717 finished with value: 4.080076778236604 and parameters: {'svd': -0.29999999999999993, 'lfm_cos': 0.0, 'nn_bias': 0.20000000000000018, 'catboost': -0.9, 'knn': -0.19999999999999996, 'quality': -0.29999999999999993, 'volume': -1.0}. Best is trial 360 with value: 5.86264772102292.\u001b[0m\n"
     ]
    },
    {
     "name": "stdout",
     "output_type": "stream",
     "text": [
      "time 2.547 cat_cov 87.0 cov 100.0 nov 0.988 ser 0.151 m1 0.072 m10 0.2 price 2.399 sum 4.08\n"
     ]
    },
    {
     "name": "stderr",
     "output_type": "stream",
     "text": [
      "\u001b[32m[I 2023-05-12 13:57:27,168]\u001b[0m Trial 718 finished with value: 5.7799289312354905 and parameters: {'svd': 0.5, 'lfm_cos': -0.09999999999999998, 'nn_bias': 0.0, 'catboost': -1.0, 'knn': -0.09999999999999998, 'quality': 0.9000000000000001, 'volume': 0.9000000000000001}. Best is trial 360 with value: 5.86264772102292.\u001b[0m\n"
     ]
    },
    {
     "name": "stdout",
     "output_type": "stream",
     "text": [
      "time 2.639 cat_cov 92.0 cov 100.0 nov 0.922 ser 0.216 m1 0.91 m10 0.839 price 2.918 sum 5.78\n"
     ]
    },
    {
     "name": "stderr",
     "output_type": "stream",
     "text": [
      "\u001b[32m[I 2023-05-12 13:57:29,857]\u001b[0m Trial 719 finished with value: 5.839235133569403 and parameters: {'svd': 0.6000000000000001, 'lfm_cos': 0.0, 'nn_bias': 0.10000000000000009, 'catboost': -0.8, 'knn': 0.0, 'quality': -0.19999999999999996, 'volume': 0.7000000000000002}. Best is trial 360 with value: 5.86264772102292.\u001b[0m\n"
     ]
    },
    {
     "name": "stdout",
     "output_type": "stream",
     "text": [
      "time 2.647 cat_cov 97.0 cov 100.0 nov 0.955 ser 0.215 m1 0.923 m10 0.851 price 2.775 sum 5.839\n"
     ]
    },
    {
     "name": "stderr",
     "output_type": "stream",
     "text": [
      "\u001b[32m[I 2023-05-12 13:57:32,539]\u001b[0m Trial 720 finished with value: 5.70543269637593 and parameters: {'svd': 0.7000000000000002, 'lfm_cos': 0.10000000000000009, 'nn_bias': -0.6, 'catboost': -0.8, 'knn': -0.09999999999999998, 'quality': -0.09999999999999998, 'volume': 0.7000000000000002}. Best is trial 360 with value: 5.86264772102292.\u001b[0m\n"
     ]
    },
    {
     "name": "stdout",
     "output_type": "stream",
     "text": [
      "time 2.641 cat_cov 99.0 cov 100.0 nov 0.748 ser 0.225 m1 0.919 m10 0.832 price 2.976 sum 5.705\n"
     ]
    },
    {
     "name": "stderr",
     "output_type": "stream",
     "text": [
      "\u001b[32m[I 2023-05-12 13:57:35,230]\u001b[0m Trial 721 finished with value: 5.808812344479465 and parameters: {'svd': 0.6000000000000001, 'lfm_cos': 0.0, 'nn_bias': 0.20000000000000018, 'catboost': -0.8, 'knn': 0.0, 'quality': -0.19999999999999996, 'volume': 0.7000000000000002}. Best is trial 360 with value: 5.86264772102292.\u001b[0m\n"
     ]
    },
    {
     "name": "stdout",
     "output_type": "stream",
     "text": [
      "time 2.648 cat_cov 97.0 cov 100.0 nov 0.975 ser 0.212 m1 0.91 m10 0.838 price 2.712 sum 5.809\n"
     ]
    },
    {
     "name": "stderr",
     "output_type": "stream",
     "text": [
      "\u001b[32m[I 2023-05-12 13:57:37,889]\u001b[0m Trial 722 finished with value: 5.696489860053386 and parameters: {'svd': 0.6000000000000001, 'lfm_cos': 0.20000000000000018, 'nn_bias': 0.10000000000000009, 'catboost': -0.9, 'knn': -0.19999999999999996, 'quality': 0.0, 'volume': 0.8}. Best is trial 360 with value: 5.86264772102292.\u001b[0m\n"
     ]
    },
    {
     "name": "stdout",
     "output_type": "stream",
     "text": [
      "time 2.618 cat_cov 94.0 cov 100.0 nov 0.779 ser 0.226 m1 0.92 m10 0.842 price 2.967 sum 5.696\n"
     ]
    },
    {
     "name": "stderr",
     "output_type": "stream",
     "text": [
      "\u001b[32m[I 2023-05-12 13:57:40,607]\u001b[0m Trial 723 finished with value: 5.780941015741794 and parameters: {'svd': 0.7000000000000002, 'lfm_cos': 0.10000000000000009, 'nn_bias': 0.30000000000000004, 'catboost': -0.8, 'knn': 0.0, 'quality': -0.29999999999999993, 'volume': 0.7000000000000002}. Best is trial 360 with value: 5.86264772102292.\u001b[0m\n"
     ]
    },
    {
     "name": "stdout",
     "output_type": "stream",
     "text": [
      "time 2.668 cat_cov 100.0 cov 100.0 nov 0.936 ser 0.21 m1 0.903 m10 0.834 price 2.691 sum 5.781\n"
     ]
    },
    {
     "name": "stderr",
     "output_type": "stream",
     "text": [
      "\u001b[32m[I 2023-05-12 13:57:43,290]\u001b[0m Trial 724 finished with value: 5.853001145564438 and parameters: {'svd': 0.6000000000000001, 'lfm_cos': 0.0, 'nn_bias': 0.10000000000000009, 'catboost': -0.9, 'knn': -0.09999999999999998, 'quality': -0.09999999999999998, 'volume': 0.8}. Best is trial 360 with value: 5.86264772102292.\u001b[0m\n"
     ]
    },
    {
     "name": "stdout",
     "output_type": "stream",
     "text": [
      "time 2.642 cat_cov 97.0 cov 100.0 nov 0.939 ser 0.218 m1 0.922 m10 0.85 price 2.863 sum 5.853\n"
     ]
    },
    {
     "name": "stderr",
     "output_type": "stream",
     "text": [
      "\u001b[32m[I 2023-05-12 13:57:45,999]\u001b[0m Trial 725 finished with value: 5.825534258228133 and parameters: {'svd': 0.7000000000000002, 'lfm_cos': 0.10000000000000009, 'nn_bias': 0.20000000000000018, 'catboost': -0.9, 'knn': -0.09999999999999998, 'quality': 0.0, 'volume': 0.8}. Best is trial 360 with value: 5.86264772102292.\u001b[0m\n"
     ]
    },
    {
     "name": "stdout",
     "output_type": "stream",
     "text": [
      "time 2.667 cat_cov 99.0 cov 100.0 nov 0.907 ser 0.218 m1 0.923 m10 0.848 price 2.817 sum 5.826\n"
     ]
    },
    {
     "name": "stderr",
     "output_type": "stream",
     "text": [
      "\u001b[32m[I 2023-05-12 13:57:48,684]\u001b[0m Trial 726 finished with value: 5.8496852736382685 and parameters: {'svd': 0.6000000000000001, 'lfm_cos': 0.0, 'nn_bias': 0.10000000000000009, 'catboost': -0.9, 'knn': -0.19999999999999996, 'quality': -0.09999999999999998, 'volume': 0.8}. Best is trial 360 with value: 5.86264772102292.\u001b[0m\n"
     ]
    },
    {
     "name": "stdout",
     "output_type": "stream",
     "text": [
      "time 2.644 cat_cov 97.0 cov 100.0 nov 0.932 ser 0.219 m1 0.918 m10 0.848 price 2.886 sum 5.85\n"
     ]
    },
    {
     "name": "stderr",
     "output_type": "stream",
     "text": [
      "\u001b[32m[I 2023-05-12 13:57:51,376]\u001b[0m Trial 727 finished with value: 5.841110262160079 and parameters: {'svd': 0.6000000000000001, 'lfm_cos': 0.0, 'nn_bias': 0.20000000000000018, 'catboost': -0.9, 'knn': -0.09999999999999998, 'quality': -0.09999999999999998, 'volume': 0.8}. Best is trial 360 with value: 5.86264772102292.\u001b[0m\n"
     ]
    },
    {
     "name": "stdout",
     "output_type": "stream",
     "text": [
      "time 2.649 cat_cov 98.0 cov 100.0 nov 0.97 ser 0.215 m1 0.911 m10 0.84 price 2.778 sum 5.841\n"
     ]
    },
    {
     "name": "stderr",
     "output_type": "stream",
     "text": [
      "\u001b[32m[I 2023-05-12 13:57:54,101]\u001b[0m Trial 728 finished with value: 5.814333122496223 and parameters: {'svd': 0.7000000000000002, 'lfm_cos': 0.0, 'nn_bias': 0.30000000000000004, 'catboost': -0.9, 'knn': -0.29999999999999993, 'quality': 0.0, 'volume': 0.8}. Best is trial 360 with value: 5.86264772102292.\u001b[0m\n"
     ]
    },
    {
     "name": "stdout",
     "output_type": "stream",
     "text": [
      "time 2.683 cat_cov 98.0 cov 100.0 nov 0.964 ser 0.214 m1 0.9 m10 0.827 price 2.787 sum 5.814\n"
     ]
    },
    {
     "name": "stderr",
     "output_type": "stream",
     "text": [
      "\u001b[32m[I 2023-05-12 13:57:56,800]\u001b[0m Trial 729 finished with value: 5.778342750196474 and parameters: {'svd': 0.6000000000000001, 'lfm_cos': 0.10000000000000009, 'nn_bias': 0.20000000000000018, 'catboost': -0.9, 'knn': -0.09999999999999998, 'quality': 0.0, 'volume': 0.0}. Best is trial 360 with value: 5.86264772102292.\u001b[0m\n"
     ]
    },
    {
     "name": "stdout",
     "output_type": "stream",
     "text": [
      "time 2.658 cat_cov 97.0 cov 100.0 nov 0.934 ser 0.217 m1 0.913 m10 0.842 price 2.708 sum 5.778\n"
     ]
    },
    {
     "name": "stderr",
     "output_type": "stream",
     "text": [
      "\u001b[32m[I 2023-05-12 13:57:59,522]\u001b[0m Trial 730 finished with value: 5.750164338186017 and parameters: {'svd': 0.6000000000000001, 'lfm_cos': 0.0, 'nn_bias': 0.30000000000000004, 'catboost': -0.9, 'knn': -0.19999999999999996, 'quality': 0.0, 'volume': 0.9000000000000001}. Best is trial 360 with value: 5.86264772102292.\u001b[0m\n"
     ]
    },
    {
     "name": "stdout",
     "output_type": "stream",
     "text": [
      "time 2.677 cat_cov 93.0 cov 100.0 nov 0.975 ser 0.213 m1 0.89 m10 0.819 price 2.768 sum 5.75\n"
     ]
    },
    {
     "name": "stderr",
     "output_type": "stream",
     "text": [
      "\u001b[32m[I 2023-05-12 13:58:02,230]\u001b[0m Trial 731 finished with value: 5.7982112722118355 and parameters: {'svd': 0.6000000000000001, 'lfm_cos': 0.10000000000000009, 'nn_bias': 0.20000000000000018, 'catboost': -0.9, 'knn': -0.09999999999999998, 'quality': -0.09999999999999998, 'volume': 0.8}. Best is trial 360 with value: 5.86264772102292.\u001b[0m\n"
     ]
    },
    {
     "name": "stdout",
     "output_type": "stream",
     "text": [
      "time 2.665 cat_cov 97.0 cov 100.0 nov 0.91 ser 0.218 m1 0.918 m10 0.845 price 2.813 sum 5.798\n"
     ]
    },
    {
     "name": "stderr",
     "output_type": "stream",
     "text": [
      "\u001b[32m[I 2023-05-12 13:58:04,936]\u001b[0m Trial 732 finished with value: 5.804791577534833 and parameters: {'svd': 0.7000000000000002, 'lfm_cos': 0.0, 'nn_bias': 0.20000000000000018, 'catboost': -0.9, 'knn': -0.19999999999999996, 'quality': -0.09999999999999998, 'volume': 0.9000000000000001}. Best is trial 360 with value: 5.86264772102292.\u001b[0m\n"
     ]
    },
    {
     "name": "stdout",
     "output_type": "stream",
     "text": [
      "time 2.664 cat_cov 94.0 cov 100.0 nov 0.955 ser 0.216 m1 0.916 m10 0.843 price 2.806 sum 5.805\n"
     ]
    },
    {
     "name": "stderr",
     "output_type": "stream",
     "text": [
      "\u001b[32m[I 2023-05-12 13:58:07,659]\u001b[0m Trial 733 finished with value: 5.849876086029872 and parameters: {'svd': 0.7000000000000002, 'lfm_cos': 0.0, 'nn_bias': 0.20000000000000018, 'catboost': -0.9, 'knn': -0.09999999999999998, 'quality': 0.0, 'volume': 0.8}. Best is trial 360 with value: 5.86264772102292.\u001b[0m\n"
     ]
    },
    {
     "name": "stdout",
     "output_type": "stream",
     "text": [
      "time 2.682 cat_cov 99.0 cov 100.0 nov 0.963 ser 0.214 m1 0.918 m10 0.843 price 2.766 sum 5.85\n"
     ]
    },
    {
     "name": "stderr",
     "output_type": "stream",
     "text": [
      "\u001b[32m[I 2023-05-12 13:58:10,377]\u001b[0m Trial 734 finished with value: 5.788063428062304 and parameters: {'svd': 0.8, 'lfm_cos': 0.0, 'nn_bias': 0.30000000000000004, 'catboost': -0.9, 'knn': -0.09999999999999998, 'quality': 0.10000000000000009, 'volume': 0.8}. Best is trial 360 with value: 5.86264772102292.\u001b[0m\n"
     ]
    },
    {
     "name": "stdout",
     "output_type": "stream",
     "text": [
      "time 2.677 cat_cov 97.0 cov 100.0 nov 0.962 ser 0.21 m1 0.908 m10 0.834 price 2.71 sum 5.788\n"
     ]
    },
    {
     "name": "stderr",
     "output_type": "stream",
     "text": [
      "\u001b[32m[I 2023-05-12 13:58:13,092]\u001b[0m Trial 735 finished with value: 5.786318838293652 and parameters: {'svd': 0.7000000000000002, 'lfm_cos': 0.10000000000000009, 'nn_bias': 0.30000000000000004, 'catboost': -0.9, 'knn': -0.19999999999999996, 'quality': 0.0, 'volume': 0.9000000000000001}. Best is trial 360 with value: 5.86264772102292.\u001b[0m\n"
     ]
    },
    {
     "name": "stdout",
     "output_type": "stream",
     "text": [
      "time 2.673 cat_cov 97.0 cov 100.0 nov 0.93 ser 0.215 m1 0.908 m10 0.836 price 2.783 sum 5.786\n"
     ]
    },
    {
     "name": "stderr",
     "output_type": "stream",
     "text": [
      "\u001b[32m[I 2023-05-12 13:58:15,820]\u001b[0m Trial 736 finished with value: 5.831737472600886 and parameters: {'svd': 0.8, 'lfm_cos': 0.0, 'nn_bias': 0.20000000000000018, 'catboost': -0.9, 'knn': -0.09999999999999998, 'quality': 0.10000000000000009, 'volume': 0.9000000000000001}. Best is trial 360 with value: 5.86264772102292.\u001b[0m\n"
     ]
    },
    {
     "name": "stdout",
     "output_type": "stream",
     "text": [
      "time 2.685 cat_cov 98.0 cov 100.0 nov 0.951 ser 0.212 m1 0.923 m10 0.846 price 2.759 sum 5.832\n"
     ]
    },
    {
     "name": "stderr",
     "output_type": "stream",
     "text": [
      "\u001b[32m[I 2023-05-12 13:58:18,420]\u001b[0m Trial 737 finished with value: 4.1550698917467965 and parameters: {'svd': -1.0, 'lfm_cos': 0.0, 'nn_bias': 0.20000000000000018, 'catboost': -0.9, 'knn': -0.19999999999999996, 'quality': 0.0, 'volume': 0.8}. Best is trial 360 with value: 5.86264772102292.\u001b[0m\n"
     ]
    },
    {
     "name": "stdout",
     "output_type": "stream",
     "text": [
      "time 2.558 cat_cov 90.0 cov 100.0 nov 0.933 ser 0.148 m1 0.085 m10 0.212 price 2.629 sum 4.155\n"
     ]
    },
    {
     "name": "stderr",
     "output_type": "stream",
     "text": [
      "\u001b[32m[I 2023-05-12 13:58:21,107]\u001b[0m Trial 738 finished with value: 5.794082520700243 and parameters: {'svd': 0.7000000000000002, 'lfm_cos': 0.10000000000000009, 'nn_bias': 0.30000000000000004, 'catboost': -0.8, 'knn': -0.09999999999999998, 'quality': 0.0, 'volume': 0.8}. Best is trial 360 with value: 5.86264772102292.\u001b[0m\n"
     ]
    },
    {
     "name": "stdout",
     "output_type": "stream",
     "text": [
      "time 2.645 cat_cov 99.0 cov 100.0 nov 0.93 ser 0.212 m1 0.909 m10 0.836 price 2.75 sum 5.794\n"
     ]
    },
    {
     "name": "stderr",
     "output_type": "stream",
     "text": [
      "\u001b[32m[I 2023-05-12 13:58:23,799]\u001b[0m Trial 739 finished with value: 5.801948157840978 and parameters: {'svd': 0.7000000000000002, 'lfm_cos': 0.0, 'nn_bias': 0.20000000000000018, 'catboost': -0.9, 'knn': -0.29999999999999993, 'quality': 0.0, 'volume': 0.9000000000000001}. Best is trial 360 with value: 5.86264772102292.\u001b[0m\n"
     ]
    },
    {
     "name": "stdout",
     "output_type": "stream",
     "text": [
      "time 2.649 cat_cov 94.0 cov 100.0 nov 0.951 ser 0.216 m1 0.912 m10 0.84 price 2.825 sum 5.802\n"
     ]
    },
    {
     "name": "stderr",
     "output_type": "stream",
     "text": [
      "\u001b[32m[I 2023-05-12 13:58:26,518]\u001b[0m Trial 740 finished with value: 5.82045800869769 and parameters: {'svd': 0.7000000000000002, 'lfm_cos': 0.0, 'nn_bias': 0.20000000000000018, 'catboost': -0.8, 'knn': -0.09999999999999998, 'quality': 0.0, 'volume': 1.0}. Best is trial 360 with value: 5.86264772102292.\u001b[0m\n"
     ]
    },
    {
     "name": "stdout",
     "output_type": "stream",
     "text": [
      "time 2.677 cat_cov 97.0 cov 100.0 nov 0.954 ser 0.212 m1 0.92 m10 0.844 price 2.761 sum 5.82\n"
     ]
    },
    {
     "name": "stderr",
     "output_type": "stream",
     "text": [
      "\u001b[32m[I 2023-05-12 13:58:29,210]\u001b[0m Trial 741 finished with value: 5.8371623044759575 and parameters: {'svd': 0.8, 'lfm_cos': 0.0, 'nn_bias': 0.20000000000000018, 'catboost': -0.9, 'knn': -0.19999999999999996, 'quality': 0.20000000000000018, 'volume': 0.8}. Best is trial 360 with value: 5.86264772102292.\u001b[0m\n"
     ]
    },
    {
     "name": "stdout",
     "output_type": "stream",
     "text": [
      "time 2.651 cat_cov 98.0 cov 100.0 nov 0.948 ser 0.214 m1 0.921 m10 0.845 price 2.789 sum 5.837\n"
     ]
    },
    {
     "name": "stderr",
     "output_type": "stream",
     "text": [
      "\u001b[32m[I 2023-05-12 13:58:31,895]\u001b[0m Trial 742 finished with value: 5.831726261590776 and parameters: {'svd': 0.7000000000000002, 'lfm_cos': 0.10000000000000009, 'nn_bias': 0.20000000000000018, 'catboost': -0.8, 'knn': -0.09999999999999998, 'quality': -0.09999999999999998, 'volume': 0.9000000000000001}. Best is trial 360 with value: 5.86264772102292.\u001b[0m\n"
     ]
    },
    {
     "name": "stdout",
     "output_type": "stream",
     "text": [
      "time 2.643 cat_cov 100.0 cov 100.0 nov 0.9 ser 0.217 m1 0.926 m10 0.85 price 2.817 sum 5.832\n"
     ]
    },
    {
     "name": "stderr",
     "output_type": "stream",
     "text": [
      "\u001b[32m[I 2023-05-12 13:58:34,618]\u001b[0m Trial 743 finished with value: 5.8392708602867005 and parameters: {'svd': 0.7000000000000002, 'lfm_cos': 0.0, 'nn_bias': 0.20000000000000018, 'catboost': -0.9, 'knn': -0.09999999999999998, 'quality': 0.10000000000000009, 'volume': 0.8}. Best is trial 360 with value: 5.86264772102292.\u001b[0m\n"
     ]
    },
    {
     "name": "stdout",
     "output_type": "stream",
     "text": [
      "time 2.68 cat_cov 98.0 cov 100.0 nov 0.962 ser 0.213 m1 0.919 m10 0.843 price 2.767 sum 5.839\n"
     ]
    },
    {
     "name": "stderr",
     "output_type": "stream",
     "text": [
      "\u001b[32m[I 2023-05-12 13:58:37,310]\u001b[0m Trial 744 finished with value: 5.763206295577129 and parameters: {'svd': 0.8, 'lfm_cos': 0.20000000000000018, 'nn_bias': 0.40000000000000013, 'catboost': -0.9, 'knn': -0.19999999999999996, 'quality': 0.10000000000000009, 'volume': 0.8}. Best is trial 360 with value: 5.86264772102292.\u001b[0m\n"
     ]
    },
    {
     "name": "stdout",
     "output_type": "stream",
     "text": [
      "time 2.651 cat_cov 99.0 cov 100.0 nov 0.905 ser 0.214 m1 0.901 m10 0.83 price 2.768 sum 5.763\n"
     ]
    },
    {
     "name": "stderr",
     "output_type": "stream",
     "text": [
      "\u001b[32m[I 2023-05-12 13:58:40,019]\u001b[0m Trial 745 finished with value: 5.805888856433626 and parameters: {'svd': 0.8, 'lfm_cos': 0.10000000000000009, 'nn_bias': 0.30000000000000004, 'catboost': -0.9, 'knn': -0.09999999999999998, 'quality': 0.10000000000000009, 'volume': 0.9000000000000001}. Best is trial 360 with value: 5.86264772102292.\u001b[0m\n"
     ]
    },
    {
     "name": "stdout",
     "output_type": "stream",
     "text": [
      "time 2.667 cat_cov 99.0 cov 100.0 nov 0.928 ser 0.213 m1 0.914 m10 0.841 price 2.761 sum 5.806\n"
     ]
    },
    {
     "name": "stderr",
     "output_type": "stream",
     "text": [
      "\u001b[32m[I 2023-05-12 13:58:42,720]\u001b[0m Trial 746 finished with value: 5.770221266928009 and parameters: {'svd': 0.7000000000000002, 'lfm_cos': 0.0, 'nn_bias': 0.30000000000000004, 'catboost': -0.9, 'knn': -0.09999999999999998, 'quality': 0.10000000000000009, 'volume': 0.8}. Best is trial 360 with value: 5.86264772102292.\u001b[0m\n"
     ]
    },
    {
     "name": "stdout",
     "output_type": "stream",
     "text": [
      "time 2.658 cat_cov 95.0 cov 100.0 nov 0.972 ser 0.21 m1 0.901 m10 0.829 price 2.723 sum 5.77\n"
     ]
    },
    {
     "name": "stderr",
     "output_type": "stream",
     "text": [
      "\u001b[32m[I 2023-05-12 13:58:45,402]\u001b[0m Trial 747 finished with value: 5.790102678504308 and parameters: {'svd': 0.7000000000000002, 'lfm_cos': 0.10000000000000009, 'nn_bias': 0.20000000000000018, 'catboost': -0.9, 'knn': -0.09999999999999998, 'quality': 0.10000000000000009, 'volume': 0.9000000000000001}. Best is trial 360 with value: 5.86264772102292.\u001b[0m\n"
     ]
    },
    {
     "name": "stdout",
     "output_type": "stream",
     "text": [
      "time 2.64 cat_cov 95.0 cov 100.0 nov 0.906 ser 0.218 m1 0.923 m10 0.848 price 2.834 sum 5.79\n"
     ]
    },
    {
     "name": "stderr",
     "output_type": "stream",
     "text": [
      "\u001b[32m[I 2023-05-12 13:58:48,091]\u001b[0m Trial 748 finished with value: 5.813675056559303 and parameters: {'svd': 0.7000000000000002, 'lfm_cos': 0.0, 'nn_bias': 0.20000000000000018, 'catboost': -0.9, 'knn': -0.19999999999999996, 'quality': 0.0, 'volume': 0.8}. Best is trial 360 with value: 5.86264772102292.\u001b[0m\n"
     ]
    },
    {
     "name": "stdout",
     "output_type": "stream",
     "text": [
      "time 2.647 cat_cov 95.0 cov 100.0 nov 0.956 ser 0.215 m1 0.916 m10 0.842 price 2.8 sum 5.814\n"
     ]
    },
    {
     "name": "stderr",
     "output_type": "stream",
     "text": [
      "\u001b[32m[I 2023-05-12 13:58:50,747]\u001b[0m Trial 749 finished with value: 5.822951669920422 and parameters: {'svd': 0.7000000000000002, 'lfm_cos': 0.0, 'nn_bias': 0.20000000000000018, 'catboost': -0.9, 'knn': -0.19999999999999996, 'quality': 0.20000000000000018, 'volume': 1.0}. Best is trial 360 with value: 5.86264772102292.\u001b[0m\n"
     ]
    },
    {
     "name": "stdout",
     "output_type": "stream",
     "text": [
      "time 2.614 cat_cov 96.0 cov 100.0 nov 0.948 ser 0.215 m1 0.917 m10 0.842 price 2.824 sum 5.823\n"
     ]
    },
    {
     "name": "stderr",
     "output_type": "stream",
     "text": [
      "\u001b[32m[I 2023-05-12 13:58:53,442]\u001b[0m Trial 750 finished with value: 5.794762860682807 and parameters: {'svd': 0.8, 'lfm_cos': 0.10000000000000009, 'nn_bias': 0.30000000000000004, 'catboost': -0.8, 'knn': -0.09999999999999998, 'quality': 0.0, 'volume': 0.9000000000000001}. Best is trial 360 with value: 5.86264772102292.\u001b[0m\n"
     ]
    },
    {
     "name": "stdout",
     "output_type": "stream",
     "text": [
      "time 2.653 cat_cov 99.0 cov 100.0 nov 0.922 ser 0.211 m1 0.916 m10 0.842 price 2.739 sum 5.795\n"
     ]
    },
    {
     "name": "stderr",
     "output_type": "stream",
     "text": [
      "\u001b[32m[I 2023-05-12 13:58:56,110]\u001b[0m Trial 751 finished with value: 5.6812589052484705 and parameters: {'svd': 0.7000000000000002, 'lfm_cos': 0.40000000000000013, 'nn_bias': 0.30000000000000004, 'catboost': -0.9, 'knn': -0.09999999999999998, 'quality': 0.10000000000000009, 'volume': 0.8}. Best is trial 360 with value: 5.86264772102292.\u001b[0m\n"
     ]
    },
    {
     "name": "stdout",
     "output_type": "stream",
     "text": [
      "time 2.625 cat_cov 99.0 cov 100.0 nov 0.805 ser 0.22 m1 0.894 m10 0.82 price 2.859 sum 5.681\n"
     ]
    },
    {
     "name": "stderr",
     "output_type": "stream",
     "text": [
      "\u001b[32m[I 2023-05-12 13:58:58,793]\u001b[0m Trial 752 finished with value: 5.849875991580936 and parameters: {'svd': 0.7000000000000002, 'lfm_cos': 0.0, 'nn_bias': 0.20000000000000018, 'catboost': -0.9, 'knn': -0.09999999999999998, 'quality': 0.0, 'volume': 0.9000000000000001}. Best is trial 360 with value: 5.86264772102292.\u001b[0m\n"
     ]
    },
    {
     "name": "stdout",
     "output_type": "stream",
     "text": [
      "time 2.641 cat_cov 99.0 cov 100.0 nov 0.963 ser 0.214 m1 0.918 m10 0.843 price 2.766 sum 5.85\n"
     ]
    },
    {
     "name": "stderr",
     "output_type": "stream",
     "text": [
      "\u001b[32m[I 2023-05-12 13:59:01,476]\u001b[0m Trial 753 finished with value: 5.811999834383573 and parameters: {'svd': 0.8, 'lfm_cos': 0.0, 'nn_bias': 0.30000000000000004, 'catboost': -0.9, 'knn': -0.19999999999999996, 'quality': 0.20000000000000018, 'volume': 0.9000000000000001}. Best is trial 360 with value: 5.86264772102292.\u001b[0m\n"
     ]
    },
    {
     "name": "stdout",
     "output_type": "stream",
     "text": [
      "time 2.64 cat_cov 98.0 cov 100.0 nov 0.959 ser 0.211 m1 0.91 m10 0.835 price 2.749 sum 5.812\n"
     ]
    },
    {
     "name": "stderr",
     "output_type": "stream",
     "text": [
      "\u001b[32m[I 2023-05-12 13:59:04,167]\u001b[0m Trial 754 finished with value: 5.799127794411036 and parameters: {'svd': 0.8, 'lfm_cos': 0.0, 'nn_bias': 0.30000000000000004, 'catboost': -0.9, 'knn': -0.09999999999999998, 'quality': 0.10000000000000009, 'volume': 0.9000000000000001}. Best is trial 360 with value: 5.86264772102292.\u001b[0m\n"
     ]
    },
    {
     "name": "stdout",
     "output_type": "stream",
     "text": [
      "time 2.648 cat_cov 98.0 cov 100.0 nov 0.961 ser 0.21 m1 0.909 m10 0.835 price 2.714 sum 5.799\n"
     ]
    },
    {
     "name": "stderr",
     "output_type": "stream",
     "text": [
      "\u001b[32m[I 2023-05-12 13:59:06,877]\u001b[0m Trial 755 finished with value: 5.8055348217443665 and parameters: {'svd': 0.7000000000000002, 'lfm_cos': 0.10000000000000009, 'nn_bias': 0.20000000000000018, 'catboost': -0.9, 'knn': -0.09999999999999998, 'quality': 0.0, 'volume': 0.9000000000000001}. Best is trial 360 with value: 5.86264772102292.\u001b[0m\n"
     ]
    },
    {
     "name": "stdout",
     "output_type": "stream",
     "text": [
      "time 2.668 cat_cov 97.0 cov 100.0 nov 0.907 ser 0.218 m1 0.923 m10 0.848 price 2.817 sum 5.806\n"
     ]
    },
    {
     "name": "stderr",
     "output_type": "stream",
     "text": [
      "\u001b[32m[I 2023-05-12 13:59:09,585]\u001b[0m Trial 756 finished with value: 5.83735990226924 and parameters: {'svd': 0.7000000000000002, 'lfm_cos': 0.0, 'nn_bias': 0.20000000000000018, 'catboost': -1.0, 'knn': -0.19999999999999996, 'quality': 0.10000000000000009, 'volume': 1.0}. Best is trial 360 with value: 5.86264772102292.\u001b[0m\n"
     ]
    },
    {
     "name": "stdout",
     "output_type": "stream",
     "text": [
      "time 2.665 cat_cov 97.0 cov 100.0 nov 0.952 ser 0.216 m1 0.915 m10 0.842 price 2.829 sum 5.837\n"
     ]
    },
    {
     "name": "stderr",
     "output_type": "stream",
     "text": [
      "\u001b[32m[I 2023-05-12 13:59:12,297]\u001b[0m Trial 757 finished with value: 5.842613713292888 and parameters: {'svd': 0.8, 'lfm_cos': 0.0, 'nn_bias': 0.20000000000000018, 'catboost': -0.9, 'knn': -0.09999999999999998, 'quality': 0.0, 'volume': 0.9000000000000001}. Best is trial 360 with value: 5.86264772102292.\u001b[0m\n"
     ]
    },
    {
     "name": "stdout",
     "output_type": "stream",
     "text": [
      "time 2.664 cat_cov 99.0 cov 100.0 nov 0.954 ser 0.213 m1 0.922 m10 0.846 price 2.753 sum 5.843\n"
     ]
    },
    {
     "name": "stderr",
     "output_type": "stream",
     "text": [
      "\u001b[32m[I 2023-05-12 13:59:15,731]\u001b[0m Trial 758 finished with value: 5.777644437265916 and parameters: {'svd': 0.8, 'lfm_cos': 0.10000000000000009, 'nn_bias': 0.20000000000000018, 'catboost': -1.0, 'knn': -0.19999999999999996, 'quality': 0.0, 'volume': 1.0}. Best is trial 360 with value: 5.86264772102292.\u001b[0m\n"
     ]
    },
    {
     "name": "stdout",
     "output_type": "stream",
     "text": [
      "time 3.391 cat_cov 94.0 cov 100.0 nov 0.899 ser 0.219 m1 0.923 m10 0.849 price 2.843 sum 5.778\n"
     ]
    },
    {
     "name": "stderr",
     "output_type": "stream",
     "text": [
      "\u001b[32m[I 2023-05-12 13:59:18,443]\u001b[0m Trial 759 finished with value: 5.85215092980676 and parameters: {'svd': 0.8, 'lfm_cos': 0.0, 'nn_bias': 0.20000000000000018, 'catboost': -0.9, 'knn': -0.29999999999999993, 'quality': 0.0, 'volume': 0.9000000000000001}. Best is trial 360 with value: 5.86264772102292.\u001b[0m\n"
     ]
    },
    {
     "name": "stdout",
     "output_type": "stream",
     "text": [
      "time 2.669 cat_cov 99.0 cov 100.0 nov 0.947 ser 0.216 m1 0.917 m10 0.844 price 2.814 sum 5.852\n"
     ]
    },
    {
     "name": "stderr",
     "output_type": "stream",
     "text": [
      "\u001b[32m[I 2023-05-12 13:59:21,164]\u001b[0m Trial 760 finished with value: 5.779418924618117 and parameters: {'svd': 0.8, 'lfm_cos': 0.10000000000000009, 'nn_bias': 0.30000000000000004, 'catboost': -0.9, 'knn': -0.3999999999999999, 'quality': 0.0, 'volume': 0.9000000000000001}. Best is trial 360 with value: 5.86264772102292.\u001b[0m\n"
     ]
    },
    {
     "name": "stdout",
     "output_type": "stream",
     "text": [
      "time 2.676 cat_cov 96.0 cov 100.0 nov 0.919 ser 0.217 m1 0.909 m10 0.837 price 2.813 sum 5.779\n"
     ]
    },
    {
     "name": "stderr",
     "output_type": "stream",
     "text": [
      "\u001b[32m[I 2023-05-12 13:59:23,874]\u001b[0m Trial 761 finished with value: 5.00079394264895 and parameters: {'svd': 0.20000000000000018, 'lfm_cos': 0.0, 'nn_bias': 0.30000000000000004, 'catboost': -0.9, 'knn': -0.29999999999999993, 'quality': 0.0, 'volume': 1.0}. Best is trial 360 with value: 5.86264772102292.\u001b[0m\n"
     ]
    },
    {
     "name": "stdout",
     "output_type": "stream",
     "text": [
      "time 2.667 cat_cov 93.0 cov 100.0 nov 0.963 ser 0.209 m1 0.38 m10 0.56 price 2.873 sum 5.001\n"
     ]
    },
    {
     "name": "stderr",
     "output_type": "stream",
     "text": [
      "\u001b[32m[I 2023-05-12 13:59:26,606]\u001b[0m Trial 762 finished with value: 5.82215092980676 and parameters: {'svd': 0.8, 'lfm_cos': 0.0, 'nn_bias': 0.20000000000000018, 'catboost': -0.9, 'knn': -0.29999999999999993, 'quality': 0.0, 'volume': 0.9000000000000001}. Best is trial 360 with value: 5.86264772102292.\u001b[0m\n"
     ]
    },
    {
     "name": "stdout",
     "output_type": "stream",
     "text": [
      "time 2.687 cat_cov 96.0 cov 100.0 nov 0.947 ser 0.216 m1 0.917 m10 0.844 price 2.814 sum 5.822\n"
     ]
    },
    {
     "name": "stderr",
     "output_type": "stream",
     "text": [
      "\u001b[32m[I 2023-05-12 13:59:29,292]\u001b[0m Trial 763 finished with value: 5.770528484130822 and parameters: {'svd': 0.8, 'lfm_cos': 0.10000000000000009, 'nn_bias': 0.20000000000000018, 'catboost': -1.0, 'knn': -0.3999999999999999, 'quality': 0.0, 'volume': 1.0}. Best is trial 360 with value: 5.86264772102292.\u001b[0m\n"
     ]
    },
    {
     "name": "stdout",
     "output_type": "stream",
     "text": [
      "time 2.644 cat_cov 94.0 cov 100.0 nov 0.893 ser 0.22 m1 0.916 m10 0.845 price 2.869 sum 5.771\n"
     ]
    },
    {
     "name": "stderr",
     "output_type": "stream",
     "text": [
      "\u001b[32m[I 2023-05-12 13:59:32,011]\u001b[0m Trial 764 finished with value: 5.801414535748031 and parameters: {'svd': 0.8, 'lfm_cos': 0.10000000000000009, 'nn_bias': 0.30000000000000004, 'catboost': -0.9, 'knn': -0.29999999999999993, 'quality': 0.0, 'volume': 0.9000000000000001}. Best is trial 360 with value: 5.86264772102292.\u001b[0m\n"
     ]
    },
    {
     "name": "stdout",
     "output_type": "stream",
     "text": [
      "time 2.674 cat_cov 98.0 cov 100.0 nov 0.921 ser 0.216 m1 0.912 m10 0.839 price 2.797 sum 5.801\n"
     ]
    },
    {
     "name": "stderr",
     "output_type": "stream",
     "text": [
      "\u001b[32m[I 2023-05-12 13:59:34,702]\u001b[0m Trial 765 finished with value: 5.805709291070629 and parameters: {'svd': 0.8, 'lfm_cos': 0.0, 'nn_bias': 0.20000000000000018, 'catboost': -1.0, 'knn': -0.29999999999999993, 'quality': 0.0, 'volume': 0.9000000000000001}. Best is trial 360 with value: 5.86264772102292.\u001b[0m\n"
     ]
    },
    {
     "name": "stdout",
     "output_type": "stream",
     "text": [
      "time 2.648 cat_cov 94.0 cov 100.0 nov 0.951 ser 0.216 m1 0.916 m10 0.843 price 2.818 sum 5.806\n"
     ]
    },
    {
     "name": "stderr",
     "output_type": "stream",
     "text": [
      "\u001b[32m[I 2023-05-12 13:59:37,375]\u001b[0m Trial 766 finished with value: 5.822561809365399 and parameters: {'svd': 0.8, 'lfm_cos': 0.0, 'nn_bias': 0.20000000000000018, 'catboost': -0.9, 'knn': -0.29999999999999993, 'quality': 0.0, 'volume': 1.0}. Best is trial 360 with value: 5.86264772102292.\u001b[0m\n"
     ]
    },
    {
     "name": "stdout",
     "output_type": "stream",
     "text": [
      "time 2.631 cat_cov 96.0 cov 100.0 nov 0.946 ser 0.216 m1 0.917 m10 0.844 price 2.818 sum 5.823\n"
     ]
    },
    {
     "name": "stderr",
     "output_type": "stream",
     "text": [
      "\u001b[32m[I 2023-05-12 13:59:40,049]\u001b[0m Trial 767 finished with value: 5.764375969305512 and parameters: {'svd': 0.8, 'lfm_cos': 0.20000000000000018, 'nn_bias': 0.40000000000000013, 'catboost': -1.0, 'knn': -0.19999999999999996, 'quality': 0.0, 'volume': 0.9000000000000001}. Best is trial 360 with value: 5.86264772102292.\u001b[0m\n"
     ]
    },
    {
     "name": "stdout",
     "output_type": "stream",
     "text": [
      "time 2.627 cat_cov 99.0 cov 100.0 nov 0.909 ser 0.215 m1 0.899 m10 0.829 price 2.766 sum 5.764\n"
     ]
    },
    {
     "name": "stderr",
     "output_type": "stream",
     "text": [
      "\u001b[32m[I 2023-05-12 13:59:42,745]\u001b[0m Trial 768 finished with value: 5.83294245341965 and parameters: {'svd': 0.8, 'lfm_cos': 0.0, 'nn_bias': 0.20000000000000018, 'catboost': -0.9, 'knn': -0.09999999999999998, 'quality': 0.0, 'volume': 1.0}. Best is trial 360 with value: 5.86264772102292.\u001b[0m\n"
     ]
    },
    {
     "name": "stdout",
     "output_type": "stream",
     "text": [
      "time 2.654 cat_cov 98.0 cov 100.0 nov 0.952 ser 0.213 m1 0.923 m10 0.846 price 2.758 sum 5.833\n"
     ]
    },
    {
     "name": "stderr",
     "output_type": "stream",
     "text": [
      "\u001b[32m[I 2023-05-12 13:59:45,444]\u001b[0m Trial 769 finished with value: 5.80812726641165 and parameters: {'svd': 0.8, 'lfm_cos': 0.0, 'nn_bias': 0.30000000000000004, 'catboost': -0.9, 'knn': -0.29999999999999993, 'quality': 0.0, 'volume': 0.9000000000000001}. Best is trial 360 with value: 5.86264772102292.\u001b[0m\n"
     ]
    },
    {
     "name": "stdout",
     "output_type": "stream",
     "text": [
      "time 2.649 cat_cov 97.0 cov 100.0 nov 0.959 ser 0.213 m1 0.907 m10 0.833 price 2.775 sum 5.808\n"
     ]
    },
    {
     "name": "stderr",
     "output_type": "stream",
     "text": [
      "\u001b[32m[I 2023-05-12 13:59:48,134]\u001b[0m Trial 770 finished with value: 5.79542211861627 and parameters: {'svd': 0.7000000000000002, 'lfm_cos': 0.10000000000000009, 'nn_bias': 0.20000000000000018, 'catboost': -1.0, 'knn': -0.19999999999999996, 'quality': 0.0, 'volume': 0.9000000000000001}. Best is trial 360 with value: 5.86264772102292.\u001b[0m\n"
     ]
    },
    {
     "name": "stdout",
     "output_type": "stream",
     "text": [
      "time 2.647 cat_cov 96.0 cov 100.0 nov 0.904 ser 0.219 m1 0.919 m10 0.846 price 2.84 sum 5.795\n"
     ]
    },
    {
     "name": "stderr",
     "output_type": "stream",
     "text": [
      "\u001b[32m[I 2023-05-12 13:59:50,832]\u001b[0m Trial 771 finished with value: 5.811442651233791 and parameters: {'svd': 0.8, 'lfm_cos': 0.0, 'nn_bias': 0.20000000000000018, 'catboost': -0.9, 'knn': -0.3999999999999999, 'quality': 0.0, 'volume': 0.9000000000000001}. Best is trial 360 with value: 5.86264772102292.\u001b[0m\n"
     ]
    },
    {
     "name": "stdout",
     "output_type": "stream",
     "text": [
      "time 2.654 cat_cov 95.0 cov 100.0 nov 0.945 ser 0.217 m1 0.914 m10 0.842 price 2.833 sum 5.811\n"
     ]
    },
    {
     "name": "stderr",
     "output_type": "stream",
     "text": [
      "\u001b[32m[I 2023-05-12 13:59:53,525]\u001b[0m Trial 772 finished with value: 5.808100558294436 and parameters: {'svd': 0.7000000000000002, 'lfm_cos': 0.0, 'nn_bias': 0.20000000000000018, 'catboost': -0.8, 'knn': -0.29999999999999993, 'quality': 0.10000000000000009, 'volume': 1.0}. Best is trial 360 with value: 5.86264772102292.\u001b[0m\n"
     ]
    },
    {
     "name": "stdout",
     "output_type": "stream",
     "text": [
      "time 2.647 cat_cov 95.0 cov 100.0 nov 0.94 ser 0.215 m1 0.914 m10 0.841 price 2.843 sum 5.808\n"
     ]
    },
    {
     "name": "stderr",
     "output_type": "stream",
     "text": [
      "\u001b[32m[I 2023-05-12 13:59:56,219]\u001b[0m Trial 773 finished with value: 5.837259566915722 and parameters: {'svd': 0.8, 'lfm_cos': 0.10000000000000009, 'nn_bias': 0.20000000000000018, 'catboost': -1.0, 'knn': -0.19999999999999996, 'quality': 0.0, 'volume': 0.9000000000000001}. Best is trial 360 with value: 5.86264772102292.\u001b[0m\n"
     ]
    },
    {
     "name": "stdout",
     "output_type": "stream",
     "text": [
      "time 2.648 cat_cov 100.0 cov 100.0 nov 0.902 ser 0.219 m1 0.923 m10 0.849 price 2.835 sum 5.837\n"
     ]
    },
    {
     "name": "stderr",
     "output_type": "stream",
     "text": [
      "\u001b[32m[I 2023-05-12 13:59:58,919]\u001b[0m Trial 774 finished with value: 5.839643557640829 and parameters: {'svd': 0.7000000000000002, 'lfm_cos': 0.0, 'nn_bias': 0.20000000000000018, 'catboost': -0.9, 'knn': -0.09999999999999998, 'quality': 0.10000000000000009, 'volume': 0.9000000000000001}. Best is trial 360 with value: 5.86264772102292.\u001b[0m\n"
     ]
    },
    {
     "name": "stdout",
     "output_type": "stream",
     "text": [
      "time 2.654 cat_cov 98.0 cov 100.0 nov 0.96 ser 0.213 m1 0.919 m10 0.843 price 2.772 sum 5.84\n"
     ]
    },
    {
     "name": "stderr",
     "output_type": "stream",
     "text": [
      "\u001b[32m[I 2023-05-12 14:00:01,654]\u001b[0m Trial 775 finished with value: 5.8242662122876725 and parameters: {'svd': 0.7000000000000002, 'lfm_cos': 0.10000000000000009, 'nn_bias': 0.20000000000000018, 'catboost': -1.0, 'knn': 0.0, 'quality': -0.09999999999999998, 'volume': 1.0}. Best is trial 360 with value: 5.86264772102292.\u001b[0m\n"
     ]
    },
    {
     "name": "stdout",
     "output_type": "stream",
     "text": [
      "time 2.691 cat_cov 99.0 cov 100.0 nov 0.915 ser 0.217 m1 0.919 m10 0.847 price 2.806 sum 5.824\n"
     ]
    },
    {
     "name": "stderr",
     "output_type": "stream",
     "text": [
      "\u001b[32m[I 2023-05-12 14:00:04,375]\u001b[0m Trial 776 finished with value: 5.842613713292888 and parameters: {'svd': 0.8, 'lfm_cos': 0.0, 'nn_bias': 0.20000000000000018, 'catboost': -0.9, 'knn': -0.09999999999999998, 'quality': 0.0, 'volume': 0.9000000000000001}. Best is trial 360 with value: 5.86264772102292.\u001b[0m\n"
     ]
    },
    {
     "name": "stdout",
     "output_type": "stream",
     "text": [
      "time 2.676 cat_cov 99.0 cov 100.0 nov 0.954 ser 0.213 m1 0.922 m10 0.846 price 2.753 sum 5.843\n"
     ]
    },
    {
     "name": "stderr",
     "output_type": "stream",
     "text": [
      "\u001b[32m[I 2023-05-12 14:00:07,119]\u001b[0m Trial 777 finished with value: 5.759410539802585 and parameters: {'svd': 0.9000000000000001, 'lfm_cos': 0.0, 'nn_bias': 0.30000000000000004, 'catboost': -0.8, 'knn': 0.0, 'quality': 0.0, 'volume': 1.0}. Best is trial 360 with value: 5.86264772102292.\u001b[0m\n"
     ]
    },
    {
     "name": "stdout",
     "output_type": "stream",
     "text": [
      "time 2.7 cat_cov 97.0 cov 100.0 nov 0.931 ser 0.205 m1 0.917 m10 0.845 price 2.672 sum 5.759\n"
     ]
    },
    {
     "name": "stderr",
     "output_type": "stream",
     "text": [
      "\u001b[32m[I 2023-05-12 14:00:09,845]\u001b[0m Trial 778 finished with value: 5.812497184986715 and parameters: {'svd': 0.8, 'lfm_cos': 0.0, 'nn_bias': 0.10000000000000009, 'catboost': -0.9, 'knn': -0.3999999999999999, 'quality': 0.0, 'volume': 0.9000000000000001}. Best is trial 360 with value: 5.86264772102292.\u001b[0m\n"
     ]
    },
    {
     "name": "stdout",
     "output_type": "stream",
     "text": [
      "time 2.683 cat_cov 94.0 cov 100.0 nov 0.921 ser 0.219 m1 0.918 m10 0.848 price 2.901 sum 5.812\n"
     ]
    },
    {
     "name": "stderr",
     "output_type": "stream",
     "text": [
      "\u001b[32m[I 2023-05-12 14:00:12,561]\u001b[0m Trial 779 finished with value: 5.817951849752672 and parameters: {'svd': 0.8, 'lfm_cos': 0.10000000000000009, 'nn_bias': 0.20000000000000018, 'catboost': -1.0, 'knn': -0.09999999999999998, 'quality': 0.0, 'volume': 1.0}. Best is trial 360 with value: 5.86264772102292.\u001b[0m\n"
     ]
    },
    {
     "name": "stdout",
     "output_type": "stream",
     "text": [
      "time 2.672 cat_cov 98.0 cov 100.0 nov 0.905 ser 0.218 m1 0.925 m10 0.85 price 2.82 sum 5.818\n"
     ]
    },
    {
     "name": "stderr",
     "output_type": "stream",
     "text": [
      "\u001b[32m[I 2023-05-12 14:00:15,275]\u001b[0m Trial 780 finished with value: 5.825835177405997 and parameters: {'svd': 0.8, 'lfm_cos': 0.0, 'nn_bias': 0.10000000000000009, 'catboost': -0.8, 'knn': -0.09999999999999998, 'quality': 0.10000000000000009, 'volume': 0.9000000000000001}. Best is trial 360 with value: 5.86264772102292.\u001b[0m\n"
     ]
    },
    {
     "name": "stdout",
     "output_type": "stream",
     "text": [
      "time 2.671 cat_cov 97.0 cov 100.0 nov 0.913 ser 0.214 m1 0.93 m10 0.853 price 2.835 sum 5.826\n"
     ]
    },
    {
     "name": "stderr",
     "output_type": "stream",
     "text": [
      "\u001b[32m[I 2023-05-12 14:00:17,961]\u001b[0m Trial 781 finished with value: 5.84931950987982 and parameters: {'svd': 0.8, 'lfm_cos': 0.0, 'nn_bias': 0.20000000000000018, 'catboost': -0.9, 'knn': -0.19999999999999996, 'quality': 0.10000000000000009, 'volume': 0.9000000000000001}. Best is trial 360 with value: 5.86264772102292.\u001b[0m\n"
     ]
    },
    {
     "name": "stdout",
     "output_type": "stream",
     "text": [
      "time 2.642 cat_cov 99.0 cov 100.0 nov 0.948 ser 0.214 m1 0.921 m10 0.845 price 2.794 sum 5.849\n"
     ]
    },
    {
     "name": "stderr",
     "output_type": "stream",
     "text": [
      "\u001b[32m[I 2023-05-12 14:00:20,659]\u001b[0m Trial 782 finished with value: 5.825721197838853 and parameters: {'svd': 0.9000000000000001, 'lfm_cos': 0.10000000000000009, 'nn_bias': 0.30000000000000004, 'catboost': -1.0, 'knn': -0.29999999999999993, 'quality': 0.20000000000000018, 'volume': 1.0}. Best is trial 360 with value: 5.86264772102292.\u001b[0m\n"
     ]
    },
    {
     "name": "stdout",
     "output_type": "stream",
     "text": [
      "time 2.654 cat_cov 99.0 cov 100.0 nov 0.918 ser 0.216 m1 0.917 m10 0.843 price 2.825 sum 5.826\n"
     ]
    },
    {
     "name": "stderr",
     "output_type": "stream",
     "text": [
      "\u001b[32m[I 2023-05-12 14:00:23,352]\u001b[0m Trial 783 finished with value: 5.793845529988329 and parameters: {'svd': 0.8, 'lfm_cos': 0.0, 'nn_bias': 0.30000000000000004, 'catboost': -0.9, 'knn': -0.19999999999999996, 'quality': 0.10000000000000009, 'volume': 0.9000000000000001}. Best is trial 360 with value: 5.86264772102292.\u001b[0m\n"
     ]
    },
    {
     "name": "stdout",
     "output_type": "stream",
     "text": [
      "time 2.65 cat_cov 96.0 cov 100.0 nov 0.961 ser 0.211 m1 0.91 m10 0.835 price 2.747 sum 5.794\n"
     ]
    },
    {
     "name": "stderr",
     "output_type": "stream",
     "text": [
      "\u001b[32m[I 2023-05-12 14:00:26,053]\u001b[0m Trial 784 finished with value: 5.834218947431637 and parameters: {'svd': 0.8, 'lfm_cos': 0.0, 'nn_bias': 0.30000000000000004, 'catboost': -0.9, 'knn': -0.19999999999999996, 'quality': 0.10000000000000009, 'volume': 1.0}. Best is trial 360 with value: 5.86264772102292.\u001b[0m\n"
     ]
    },
    {
     "name": "stdout",
     "output_type": "stream",
     "text": [
      "time 2.657 cat_cov 100.0 cov 100.0 nov 0.957 ser 0.212 m1 0.91 m10 0.836 price 2.759 sum 5.834\n"
     ]
    },
    {
     "name": "stderr",
     "output_type": "stream",
     "text": [
      "\u001b[32m[I 2023-05-12 14:00:28,750]\u001b[0m Trial 785 finished with value: 5.810592477797367 and parameters: {'svd': 0.9000000000000001, 'lfm_cos': 0.10000000000000009, 'nn_bias': 0.20000000000000018, 'catboost': -1.0, 'knn': -0.29999999999999993, 'quality': 0.10000000000000009, 'volume': 0.9000000000000001}. Best is trial 360 with value: 5.86264772102292.\u001b[0m\n"
     ]
    },
    {
     "name": "stdout",
     "output_type": "stream",
     "text": [
      "time 2.653 cat_cov 97.0 cov 100.0 nov 0.896 ser 0.219 m1 0.923 m10 0.85 price 2.858 sum 5.811\n"
     ]
    },
    {
     "name": "stderr",
     "output_type": "stream",
     "text": [
      "\u001b[32m[I 2023-05-12 14:00:31,439]\u001b[0m Trial 786 finished with value: 5.835589180765794 and parameters: {'svd': 0.8, 'lfm_cos': 0.0, 'nn_bias': 0.20000000000000018, 'catboost': -1.0, 'knn': -0.19999999999999996, 'quality': 0.10000000000000009, 'volume': 0.9000000000000001}. Best is trial 360 with value: 5.86264772102292.\u001b[0m\n"
     ]
    },
    {
     "name": "stdout",
     "output_type": "stream",
     "text": [
      "time 2.645 cat_cov 97.0 cov 100.0 nov 0.953 ser 0.215 m1 0.92 m10 0.845 price 2.801 sum 5.836\n"
     ]
    },
    {
     "name": "stderr",
     "output_type": "stream",
     "text": [
      "\u001b[32m[I 2023-05-12 14:00:34,142]\u001b[0m Trial 787 finished with value: 5.829345628604049 and parameters: {'svd': 0.8, 'lfm_cos': 0.0, 'nn_bias': 0.20000000000000018, 'catboost': -0.9, 'knn': -0.19999999999999996, 'quality': 0.20000000000000018, 'volume': 1.0}. Best is trial 360 with value: 5.86264772102292.\u001b[0m\n"
     ]
    },
    {
     "name": "stdout",
     "output_type": "stream",
     "text": [
      "time 2.659 cat_cov 97.0 cov 100.0 nov 0.942 ser 0.214 m1 0.921 m10 0.845 price 2.811 sum 5.829\n"
     ]
    },
    {
     "name": "stderr",
     "output_type": "stream",
     "text": [
      "\u001b[32m[I 2023-05-12 14:00:36,851]\u001b[0m Trial 788 finished with value: 5.242368601385105 and parameters: {'svd': 0.9000000000000001, 'lfm_cos': 0.0, 'nn_bias': 0.20000000000000018, 'catboost': 0.7000000000000002, 'knn': -0.29999999999999993, 'quality': 0.10000000000000009, 'volume': 0.9000000000000001}. Best is trial 360 with value: 5.86264772102292.\u001b[0m\n"
     ]
    },
    {
     "name": "stdout",
     "output_type": "stream",
     "text": [
      "time 2.665 cat_cov 92.0 cov 100.0 nov 0.615 ser 0.165 m1 0.825 m10 0.803 price 2.744 sum 5.242\n"
     ]
    },
    {
     "name": "stderr",
     "output_type": "stream",
     "text": [
      "\u001b[32m[I 2023-05-12 14:00:39,570]\u001b[0m Trial 789 finished with value: 5.792280566355178 and parameters: {'svd': 0.8, 'lfm_cos': 0.10000000000000009, 'nn_bias': 0.30000000000000004, 'catboost': -0.9, 'knn': -0.19999999999999996, 'quality': 0.0, 'volume': 1.0}. Best is trial 360 with value: 5.86264772102292.\u001b[0m\n"
     ]
    },
    {
     "name": "stdout",
     "output_type": "stream",
     "text": [
      "time 2.672 cat_cov 97.0 cov 100.0 nov 0.92 ser 0.215 m1 0.916 m10 0.841 price 2.788 sum 5.792\n"
     ]
    },
    {
     "name": "stderr",
     "output_type": "stream",
     "text": [
      "\u001b[32m[I 2023-05-12 14:00:42,280]\u001b[0m Trial 790 finished with value: 5.836249327962988 and parameters: {'svd': 0.8, 'lfm_cos': 0.0, 'nn_bias': 0.20000000000000018, 'catboost': -1.0, 'knn': -0.19999999999999996, 'quality': 0.0, 'volume': 0.9000000000000001}. Best is trial 360 with value: 5.86264772102292.\u001b[0m\n"
     ]
    },
    {
     "name": "stdout",
     "output_type": "stream",
     "text": [
      "time 2.665 cat_cov 97.0 cov 100.0 nov 0.955 ser 0.215 m1 0.919 m10 0.845 price 2.796 sum 5.836\n"
     ]
    },
    {
     "name": "stderr",
     "output_type": "stream",
     "text": [
      "\u001b[32m[I 2023-05-12 14:00:44,921]\u001b[0m Trial 791 finished with value: 4.38613811761632 and parameters: {'svd': 0.0, 'lfm_cos': 0.10000000000000009, 'nn_bias': 0.20000000000000018, 'catboost': -0.9, 'knn': -0.19999999999999996, 'quality': 0.0, 'volume': 0.9000000000000001}. Best is trial 360 with value: 5.86264772102292.\u001b[0m\n"
     ]
    },
    {
     "name": "stdout",
     "output_type": "stream",
     "text": [
      "time 2.595 cat_cov 88.0 cov 100.0 nov 0.859 ser 0.176 m1 0.181 m10 0.339 price 2.853 sum 4.386\n"
     ]
    },
    {
     "name": "stderr",
     "output_type": "stream",
     "text": [
      "\u001b[32m[I 2023-05-12 14:00:47,624]\u001b[0m Trial 792 finished with value: 5.853685476190775 and parameters: {'svd': 0.9000000000000001, 'lfm_cos': 0.0, 'nn_bias': 0.20000000000000018, 'catboost': -1.0, 'knn': -0.09999999999999998, 'quality': 0.10000000000000009, 'volume': 1.0}. Best is trial 360 with value: 5.86264772102292.\u001b[0m\n"
     ]
    },
    {
     "name": "stdout",
     "output_type": "stream",
     "text": [
      "time 2.652 cat_cov 100.0 cov 100.0 nov 0.944 ser 0.213 m1 0.925 m10 0.848 price 2.772 sum 5.854\n"
     ]
    },
    {
     "name": "stderr",
     "output_type": "stream",
     "text": [
      "\u001b[32m[I 2023-05-12 14:00:50,324]\u001b[0m Trial 793 finished with value: 5.820698943582875 and parameters: {'svd': 1.0, 'lfm_cos': 0.0, 'nn_bias': 0.20000000000000018, 'catboost': -1.0, 'knn': -0.09999999999999998, 'quality': 0.20000000000000018, 'volume': 0.9000000000000001}. Best is trial 360 with value: 5.86264772102292.\u001b[0m\n"
     ]
    },
    {
     "name": "stdout",
     "output_type": "stream",
     "text": [
      "time 2.656 cat_cov 98.0 cov 100.0 nov 0.938 ser 0.211 m1 0.927 m10 0.849 price 2.744 sum 5.821\n"
     ]
    },
    {
     "name": "stderr",
     "output_type": "stream",
     "text": [
      "\u001b[32m[I 2023-05-12 14:00:53,014]\u001b[0m Trial 794 finished with value: 5.588276201243877 and parameters: {'svd': 0.9000000000000001, 'lfm_cos': 0.7000000000000002, 'nn_bias': 0.30000000000000004, 'catboost': -1.0, 'knn': -0.09999999999999998, 'quality': 0.30000000000000004, 'volume': 1.0}. Best is trial 360 with value: 5.86264772102292.\u001b[0m\n"
     ]
    },
    {
     "name": "stdout",
     "output_type": "stream",
     "text": [
      "time 2.646 cat_cov 100.0 cov 100.0 nov 0.727 ser 0.22 m1 0.879 m10 0.787 price 2.927 sum 5.588\n"
     ]
    },
    {
     "name": "stderr",
     "output_type": "stream",
     "text": [
      "\u001b[32m[I 2023-05-12 14:00:55,734]\u001b[0m Trial 795 finished with value: 5.736827256229943 and parameters: {'svd': 1.0, 'lfm_cos': -0.09999999999999998, 'nn_bias': 0.10000000000000009, 'catboost': -0.29999999999999993, 'knn': -0.19999999999999996, 'quality': 0.10000000000000009, 'volume': 0.9000000000000001}. Best is trial 360 with value: 5.86264772102292.\u001b[0m\n"
     ]
    },
    {
     "name": "stdout",
     "output_type": "stream",
     "text": [
      "time 2.674 cat_cov 97.0 cov 100.0 nov 0.837 ser 0.202 m1 0.94 m10 0.872 price 2.744 sum 5.737\n"
     ]
    },
    {
     "name": "stderr",
     "output_type": "stream",
     "text": [
      "\u001b[32m[I 2023-05-12 14:00:58,433]\u001b[0m Trial 796 finished with value: 5.845370929359696 and parameters: {'svd': 0.8, 'lfm_cos': 0.0, 'nn_bias': 0.10000000000000009, 'catboost': -1.0, 'knn': -0.09999999999999998, 'quality': 0.10000000000000009, 'volume': 0.9000000000000001}. Best is trial 360 with value: 5.86264772102292.\u001b[0m\n"
     ]
    },
    {
     "name": "stdout",
     "output_type": "stream",
     "text": [
      "time 2.655 cat_cov 97.0 cov 100.0 nov 0.929 ser 0.217 m1 0.927 m10 0.852 price 2.855 sum 5.845\n"
     ]
    },
    {
     "name": "stderr",
     "output_type": "stream",
     "text": [
      "\u001b[32m[I 2023-05-12 14:01:01,130]\u001b[0m Trial 797 finished with value: 5.835336665646151 and parameters: {'svd': 0.9000000000000001, 'lfm_cos': 0.0, 'nn_bias': 0.10000000000000009, 'catboost': -1.0, 'knn': -0.09999999999999998, 'quality': 0.10000000000000009, 'volume': 1.0}. Best is trial 360 with value: 5.86264772102292.\u001b[0m\n"
     ]
    },
    {
     "name": "stdout",
     "output_type": "stream",
     "text": [
      "time 2.654 cat_cov 97.0 cov 100.0 nov 0.912 ser 0.216 m1 0.929 m10 0.852 price 2.869 sum 5.835\n"
     ]
    },
    {
     "name": "stderr",
     "output_type": "stream",
     "text": [
      "\u001b[32m[I 2023-05-12 14:01:03,822]\u001b[0m Trial 798 finished with value: 5.791435128302259 and parameters: {'svd': 0.9000000000000001, 'lfm_cos': 0.10000000000000009, 'nn_bias': 0.10000000000000009, 'catboost': -1.0, 'knn': -0.19999999999999996, 'quality': 0.10000000000000009, 'volume': 0.9000000000000001}. Best is trial 360 with value: 5.86264772102292.\u001b[0m\n"
     ]
    },
    {
     "name": "stdout",
     "output_type": "stream",
     "text": [
      "time 2.648 cat_cov 97.0 cov 100.0 nov 0.827 ser 0.223 m1 0.93 m10 0.853 price 2.966 sum 5.791\n"
     ]
    },
    {
     "name": "stderr",
     "output_type": "stream",
     "text": [
      "\u001b[32m[I 2023-05-12 14:01:06,498]\u001b[0m Trial 799 finished with value: 5.825960252560545 and parameters: {'svd': 0.9000000000000001, 'lfm_cos': -0.09999999999999998, 'nn_bias': 0.10000000000000009, 'catboost': -1.0, 'knn': -0.09999999999999998, 'quality': 0.20000000000000018, 'volume': 1.0}. Best is trial 360 with value: 5.86264772102292.\u001b[0m\n"
     ]
    },
    {
     "name": "stdout",
     "output_type": "stream",
     "text": [
      "time 2.631 cat_cov 97.0 cov 100.0 nov 0.953 ser 0.212 m1 0.924 m10 0.849 price 2.752 sum 5.826\n"
     ]
    },
    {
     "name": "stderr",
     "output_type": "stream",
     "text": [
      "\u001b[32m[I 2023-05-12 14:01:09,174]\u001b[0m Trial 800 finished with value: 5.73072529431224 and parameters: {'svd': 0.7000000000000002, 'lfm_cos': 0.20000000000000018, 'nn_bias': 0.10000000000000009, 'catboost': -1.0, 'knn': -0.19999999999999996, 'quality': 0.20000000000000018, 'volume': 0.9000000000000001}. Best is trial 360 with value: 5.86264772102292.\u001b[0m\n"
     ]
    },
    {
     "name": "stdout",
     "output_type": "stream",
     "text": [
      "time 2.632 cat_cov 96.0 cov 100.0 nov 0.78 ser 0.226 m1 0.924 m10 0.845 price 2.983 sum 5.731\n"
     ]
    },
    {
     "name": "stderr",
     "output_type": "stream",
     "text": [
      "\u001b[32m[I 2023-05-12 14:01:11,881]\u001b[0m Trial 801 finished with value: 5.835336665646151 and parameters: {'svd': 0.9000000000000001, 'lfm_cos': 0.0, 'nn_bias': 0.10000000000000009, 'catboost': -1.0, 'knn': -0.09999999999999998, 'quality': 0.10000000000000009, 'volume': 1.0}. Best is trial 360 with value: 5.86264772102292.\u001b[0m\n"
     ]
    },
    {
     "name": "stdout",
     "output_type": "stream",
     "text": [
      "time 2.662 cat_cov 97.0 cov 100.0 nov 0.912 ser 0.216 m1 0.929 m10 0.852 price 2.869 sum 5.835\n"
     ]
    },
    {
     "name": "stderr",
     "output_type": "stream",
     "text": [
      "\u001b[32m[I 2023-05-12 14:01:15,309]\u001b[0m Trial 802 finished with value: 5.7871195609355315 and parameters: {'svd': 0.7000000000000002, 'lfm_cos': 0.0, 'nn_bias': 0.10000000000000009, 'catboost': -1.0, 'knn': -0.29999999999999993, 'quality': 0.10000000000000009, 'volume': 0.9000000000000001}. Best is trial 360 with value: 5.86264772102292.\u001b[0m\n"
     ]
    },
    {
     "name": "stdout",
     "output_type": "stream",
     "text": [
      "time 3.383 cat_cov 91.0 cov 100.0 nov 0.926 ser 0.219 m1 0.917 m10 0.847 price 2.905 sum 5.787\n"
     ]
    },
    {
     "name": "stderr",
     "output_type": "stream",
     "text": [
      "\u001b[32m[I 2023-05-12 14:01:18,051]\u001b[0m Trial 803 finished with value: 5.1297256714963355 and parameters: {'svd': 0.8, 'lfm_cos': 0.10000000000000009, 'nn_bias': 0.9000000000000001, 'catboost': -1.0, 'knn': 0.0, 'quality': 0.10000000000000009, 'volume': 0.9000000000000001}. Best is trial 360 with value: 5.86264772102292.\u001b[0m\n"
     ]
    },
    {
     "name": "stdout",
     "output_type": "stream",
     "text": [
      "time 2.698 cat_cov 93.0 cov 100.0 nov 0.952 ser 0.192 m1 0.545 m10 0.639 price 2.617 sum 5.13\n"
     ]
    },
    {
     "name": "stderr",
     "output_type": "stream",
     "text": [
      "\u001b[32m[I 2023-05-12 14:01:20,810]\u001b[0m Trial 804 finished with value: 5.187223481800463 and parameters: {'svd': 0.7000000000000002, 'lfm_cos': -0.09999999999999998, 'nn_bias': 0.10000000000000009, 'catboost': -1.0, 'knn': 1.0, 'quality': 0.20000000000000018, 'volume': 1.0}. Best is trial 360 with value: 5.86264772102292.\u001b[0m\n"
     ]
    },
    {
     "name": "stdout",
     "output_type": "stream",
     "text": [
      "time 2.714 cat_cov 98.0 cov 100.0 nov 0.869 ser 0.184 m1 0.579 m10 0.72 price 2.565 sum 5.187\n"
     ]
    },
    {
     "name": "stderr",
     "output_type": "stream",
     "text": [
      "\u001b[32m[I 2023-05-12 14:01:23,499]\u001b[0m Trial 805 finished with value: 5.760816673735347 and parameters: {'svd': 0.20000000000000018, 'lfm_cos': 0.0, 'nn_bias': 0.10000000000000009, 'catboost': -1.0, 'knn': 0.0, 'quality': 0.10000000000000009, 'volume': 0.9000000000000001}. Best is trial 360 with value: 5.86264772102292.\u001b[0m\n"
     ]
    },
    {
     "name": "stdout",
     "output_type": "stream",
     "text": [
      "time 2.643 cat_cov 92.0 cov 100.0 nov 0.968 ser 0.216 m1 0.879 m10 0.818 price 2.88 sum 5.761\n"
     ]
    },
    {
     "name": "stderr",
     "output_type": "stream",
     "text": [
      "\u001b[32m[I 2023-05-12 14:01:26,211]\u001b[0m Trial 806 finished with value: 5.802887391428535 and parameters: {'svd': 1.0, 'lfm_cos': -0.09999999999999998, 'nn_bias': 0.10000000000000009, 'catboost': -1.0, 'knn': -0.29999999999999993, 'quality': 0.20000000000000018, 'volume': 0.9000000000000001}. Best is trial 360 with value: 5.86264772102292.\u001b[0m\n"
     ]
    },
    {
     "name": "stdout",
     "output_type": "stream",
     "text": [
      "time 2.668 cat_cov 95.0 cov 100.0 nov 0.944 ser 0.214 m1 0.922 m10 0.849 price 2.772 sum 5.803\n"
     ]
    },
    {
     "name": "stderr",
     "output_type": "stream",
     "text": [
      "\u001b[32m[I 2023-05-12 14:01:28,937]\u001b[0m Trial 807 finished with value: 5.822353549523497 and parameters: {'svd': 0.7000000000000002, 'lfm_cos': 0.0, 'nn_bias': 0.10000000000000009, 'catboost': -1.0, 'knn': -0.09999999999999998, 'quality': 0.10000000000000009, 'volume': 1.0}. Best is trial 360 with value: 5.86264772102292.\u001b[0m\n"
     ]
    },
    {
     "name": "stdout",
     "output_type": "stream",
     "text": [
      "time 2.683 cat_cov 94.0 cov 100.0 nov 0.925 ser 0.218 m1 0.924 m10 0.85 price 2.895 sum 5.822\n"
     ]
    },
    {
     "name": "stderr",
     "output_type": "stream",
     "text": [
      "\u001b[32m[I 2023-05-12 14:01:31,649]\u001b[0m Trial 808 finished with value: 5.799234467511212 and parameters: {'svd': 0.9000000000000001, 'lfm_cos': 0.10000000000000009, 'nn_bias': 0.20000000000000018, 'catboost': -1.0, 'knn': 0.0, 'quality': 0.10000000000000009, 'volume': 1.0}. Best is trial 360 with value: 5.86264772102292.\u001b[0m\n"
     ]
    },
    {
     "name": "stdout",
     "output_type": "stream",
     "text": [
      "time 2.668 cat_cov 97.0 cov 100.0 nov 0.9 ser 0.215 m1 0.927 m10 0.851 price 2.808 sum 5.799\n"
     ]
    },
    {
     "name": "stderr",
     "output_type": "stream",
     "text": [
      "\u001b[32m[I 2023-05-12 14:01:34,350]\u001b[0m Trial 809 finished with value: 5.830555171000094 and parameters: {'svd': 0.7000000000000002, 'lfm_cos': 0.0, 'nn_bias': 0.10000000000000009, 'catboost': -1.0, 'knn': -0.19999999999999996, 'quality': 0.10000000000000009, 'volume': 0.9000000000000001}. Best is trial 360 with value: 5.86264772102292.\u001b[0m\n"
     ]
    },
    {
     "name": "stdout",
     "output_type": "stream",
     "text": [
      "time 2.657 cat_cov 95.0 cov 100.0 nov 0.929 ser 0.218 m1 0.921 m10 0.849 price 2.89 sum 5.831\n"
     ]
    },
    {
     "name": "stderr",
     "output_type": "stream",
     "text": [
      "\u001b[32m[I 2023-05-12 14:01:37,060]\u001b[0m Trial 810 finished with value: 5.821809998750647 and parameters: {'svd': 0.8, 'lfm_cos': 0.0, 'nn_bias': 0.20000000000000018, 'catboost': -1.0, 'knn': -0.09999999999999998, 'quality': 0.0, 'volume': 0.9000000000000001}. Best is trial 360 with value: 5.86264772102292.\u001b[0m\n"
     ]
    },
    {
     "name": "stdout",
     "output_type": "stream",
     "text": [
      "time 2.664 cat_cov 96.0 cov 100.0 nov 0.961 ser 0.214 m1 0.921 m10 0.846 price 2.763 sum 5.822\n"
     ]
    },
    {
     "name": "stderr",
     "output_type": "stream",
     "text": [
      "\u001b[32m[I 2023-05-12 14:01:39,784]\u001b[0m Trial 811 finished with value: 5.799094668442155 and parameters: {'svd': 0.7000000000000002, 'lfm_cos': 0.10000000000000009, 'nn_bias': 0.10000000000000009, 'catboost': -0.9, 'knn': 0.0, 'quality': 0.10000000000000009, 'volume': 0.9000000000000001}. Best is trial 360 with value: 5.86264772102292.\u001b[0m\n"
     ]
    },
    {
     "name": "stdout",
     "output_type": "stream",
     "text": [
      "time 2.68 cat_cov 98.0 cov 100.0 nov 0.834 ser 0.221 m1 0.93 m10 0.852 price 2.946 sum 5.799\n"
     ]
    },
    {
     "name": "stderr",
     "output_type": "stream",
     "text": [
      "\u001b[32m[I 2023-05-12 14:01:42,534]\u001b[0m Trial 812 finished with value: 5.853561329953572 and parameters: {'svd': 0.8, 'lfm_cos': -0.09999999999999998, 'nn_bias': 0.10000000000000009, 'catboost': -1.0, 'knn': -0.09999999999999998, 'quality': 0.20000000000000018, 'volume': 1.0}. Best is trial 360 with value: 5.86264772102292.\u001b[0m\n"
     ]
    },
    {
     "name": "stdout",
     "output_type": "stream",
     "text": [
      "time 2.704 cat_cov 99.0 cov 100.0 nov 0.963 ser 0.213 m1 0.921 m10 0.847 price 2.756 sum 5.854\n"
     ]
    },
    {
     "name": "stderr",
     "output_type": "stream",
     "text": [
      "\u001b[32m[I 2023-05-12 14:01:45,250]\u001b[0m Trial 813 finished with value: 5.827463635350583 and parameters: {'svd': 0.7000000000000002, 'lfm_cos': -0.09999999999999998, 'nn_bias': 0.10000000000000009, 'catboost': -1.0, 'knn': 0.0, 'quality': 0.30000000000000004, 'volume': -0.3999999999999999}. Best is trial 360 with value: 5.86264772102292.\u001b[0m\n"
     ]
    },
    {
     "name": "stdout",
     "output_type": "stream",
     "text": [
      "time 2.67 cat_cov 98.0 cov 100.0 nov 1.022 ser 0.211 m1 0.912 m10 0.844 price 2.575 sum 5.827\n"
     ]
    },
    {
     "name": "stderr",
     "output_type": "stream",
     "text": [
      "\u001b[32m[I 2023-05-12 14:01:47,970]\u001b[0m Trial 814 finished with value: 5.823758230358101 and parameters: {'svd': 0.8, 'lfm_cos': -0.09999999999999998, 'nn_bias': 0.10000000000000009, 'catboost': -1.0, 'knn': -0.19999999999999996, 'quality': 0.30000000000000004, 'volume': 1.0}. Best is trial 360 with value: 5.86264772102292.\u001b[0m\n"
     ]
    },
    {
     "name": "stdout",
     "output_type": "stream",
     "text": [
      "time 2.675 cat_cov 96.0 cov 100.0 nov 0.956 ser 0.214 m1 0.919 m10 0.846 price 2.786 sum 5.824\n"
     ]
    },
    {
     "name": "stderr",
     "output_type": "stream",
     "text": [
      "\u001b[32m[I 2023-05-12 14:01:50,673]\u001b[0m Trial 815 finished with value: 5.848224385378049 and parameters: {'svd': 0.7000000000000002, 'lfm_cos': -0.09999999999999998, 'nn_bias': 0.10000000000000009, 'catboost': -1.0, 'knn': -0.09999999999999998, 'quality': 0.10000000000000009, 'volume': 1.0}. Best is trial 360 with value: 5.86264772102292.\u001b[0m\n"
     ]
    },
    {
     "name": "stdout",
     "output_type": "stream",
     "text": [
      "time 2.656 cat_cov 98.0 cov 100.0 nov 0.973 ser 0.214 m1 0.917 m10 0.846 price 2.756 sum 5.848\n"
     ]
    },
    {
     "name": "stderr",
     "output_type": "stream",
     "text": [
      "\u001b[32m[I 2023-05-12 14:01:53,365]\u001b[0m Trial 816 finished with value: 5.7785420478728655 and parameters: {'svd': 0.7000000000000002, 'lfm_cos': -0.09999999999999998, 'nn_bias': 0.10000000000000009, 'catboost': -1.0, 'knn': -0.09999999999999998, 'quality': 0.20000000000000018, 'volume': 1.0}. Best is trial 360 with value: 5.86264772102292.\u001b[0m\n"
     ]
    },
    {
     "name": "stdout",
     "output_type": "stream",
     "text": [
      "time 2.648 cat_cov 91.0 cov 100.0 nov 0.973 ser 0.214 m1 0.917 m10 0.845 price 2.758 sum 5.779\n"
     ]
    },
    {
     "name": "stderr",
     "output_type": "stream",
     "text": [
      "\u001b[32m[I 2023-05-12 14:01:56,050]\u001b[0m Trial 817 finished with value: 5.848542047872865 and parameters: {'svd': 0.7000000000000002, 'lfm_cos': -0.09999999999999998, 'nn_bias': 0.10000000000000009, 'catboost': -1.0, 'knn': -0.09999999999999998, 'quality': 0.20000000000000018, 'volume': 1.0}. Best is trial 360 with value: 5.86264772102292.\u001b[0m\n"
     ]
    },
    {
     "name": "stdout",
     "output_type": "stream",
     "text": [
      "time 2.641 cat_cov 98.0 cov 100.0 nov 0.973 ser 0.214 m1 0.917 m10 0.845 price 2.758 sum 5.849\n"
     ]
    },
    {
     "name": "stderr",
     "output_type": "stream",
     "text": [
      "\u001b[32m[I 2023-05-12 14:01:58,733]\u001b[0m Trial 818 finished with value: 5.817517655850658 and parameters: {'svd': 0.7000000000000002, 'lfm_cos': -0.19999999999999996, 'nn_bias': 0.10000000000000009, 'catboost': -1.0, 'knn': -0.09999999999999998, 'quality': 0.10000000000000009, 'volume': 1.0}. Best is trial 360 with value: 5.86264772102292.\u001b[0m\n"
     ]
    },
    {
     "name": "stdout",
     "output_type": "stream",
     "text": [
      "time 2.638 cat_cov 97.0 cov 100.0 nov 0.994 ser 0.212 m1 0.906 m10 0.836 price 2.701 sum 5.818\n"
     ]
    },
    {
     "name": "stderr",
     "output_type": "stream",
     "text": [
      "\u001b[32m[I 2023-05-12 14:02:01,430]\u001b[0m Trial 819 finished with value: 5.807676322633006 and parameters: {'svd': 0.7000000000000002, 'lfm_cos': -0.09999999999999998, 'nn_bias': 0.10000000000000009, 'catboost': -1.0, 'knn': -0.09999999999999998, 'quality': 0.40000000000000013, 'volume': 1.0}. Best is trial 360 with value: 5.86264772102292.\u001b[0m\n"
     ]
    },
    {
     "name": "stdout",
     "output_type": "stream",
     "text": [
      "time 2.652 cat_cov 94.0 cov 100.0 nov 0.97 ser 0.214 m1 0.917 m10 0.845 price 2.764 sum 5.808\n"
     ]
    },
    {
     "name": "stderr",
     "output_type": "stream",
     "text": [
      "\u001b[32m[I 2023-05-12 14:02:04,140]\u001b[0m Trial 820 finished with value: 5.843561329953571 and parameters: {'svd': 0.8, 'lfm_cos': -0.09999999999999998, 'nn_bias': 0.10000000000000009, 'catboost': -1.0, 'knn': -0.09999999999999998, 'quality': 0.20000000000000018, 'volume': 1.0}. Best is trial 360 with value: 5.86264772102292.\u001b[0m\n"
     ]
    },
    {
     "name": "stdout",
     "output_type": "stream",
     "text": [
      "time 2.665 cat_cov 98.0 cov 100.0 nov 0.963 ser 0.213 m1 0.921 m10 0.847 price 2.756 sum 5.844\n"
     ]
    },
    {
     "name": "stderr",
     "output_type": "stream",
     "text": [
      "\u001b[32m[I 2023-05-12 14:02:06,845]\u001b[0m Trial 821 finished with value: 5.8185420478728656 and parameters: {'svd': 0.7000000000000002, 'lfm_cos': -0.09999999999999998, 'nn_bias': 0.10000000000000009, 'catboost': -1.0, 'knn': -0.09999999999999998, 'quality': 0.20000000000000018, 'volume': 1.0}. Best is trial 360 with value: 5.86264772102292.\u001b[0m\n"
     ]
    },
    {
     "name": "stdout",
     "output_type": "stream",
     "text": [
      "time 2.657 cat_cov 95.0 cov 100.0 nov 0.973 ser 0.214 m1 0.917 m10 0.845 price 2.758 sum 5.819\n"
     ]
    },
    {
     "name": "stderr",
     "output_type": "stream",
     "text": [
      "\u001b[32m[I 2023-05-12 14:02:09,540]\u001b[0m Trial 822 finished with value: 5.842345204315603 and parameters: {'svd': 0.8, 'lfm_cos': -0.09999999999999998, 'nn_bias': 0.10000000000000009, 'catboost': -1.0, 'knn': -0.09999999999999998, 'quality': 0.30000000000000004, 'volume': 1.0}. Best is trial 360 with value: 5.86264772102292.\u001b[0m\n"
     ]
    },
    {
     "name": "stdout",
     "output_type": "stream",
     "text": [
      "time 2.649 cat_cov 98.0 cov 100.0 nov 0.962 ser 0.213 m1 0.921 m10 0.847 price 2.759 sum 5.842\n"
     ]
    },
    {
     "name": "stderr",
     "output_type": "stream",
     "text": [
      "\u001b[32m[I 2023-05-12 14:02:12,213]\u001b[0m Trial 823 finished with value: 5.814959464825158 and parameters: {'svd': 0.7000000000000002, 'lfm_cos': -0.09999999999999998, 'nn_bias': 0.0, 'catboost': -1.0, 'knn': -0.09999999999999998, 'quality': 0.30000000000000004, 'volume': 1.0}. Best is trial 360 with value: 5.86264772102292.\u001b[0m\n"
     ]
    },
    {
     "name": "stdout",
     "output_type": "stream",
     "text": [
      "time 2.628 cat_cov 95.0 cov 100.0 nov 0.912 ser 0.216 m1 0.92 m10 0.846 price 2.913 sum 5.815\n"
     ]
    },
    {
     "name": "stderr",
     "output_type": "stream",
     "text": [
      "\u001b[32m[I 2023-05-12 14:02:14,930]\u001b[0m Trial 824 finished with value: 5.806263266660705 and parameters: {'svd': 0.8, 'lfm_cos': -0.19999999999999996, 'nn_bias': 0.10000000000000009, 'catboost': -1.0, 'knn': -0.09999999999999998, 'quality': 0.20000000000000018, 'volume': 1.0}. Best is trial 360 with value: 5.86264772102292.\u001b[0m\n"
     ]
    },
    {
     "name": "stdout",
     "output_type": "stream",
     "text": [
      "time 2.664 cat_cov 96.0 cov 100.0 nov 0.983 ser 0.211 m1 0.911 m10 0.84 price 2.705 sum 5.806\n"
     ]
    },
    {
     "name": "stderr",
     "output_type": "stream",
     "text": [
      "\u001b[32m[I 2023-05-12 14:02:17,625]\u001b[0m Trial 825 finished with value: 5.858542047872866 and parameters: {'svd': 0.7000000000000002, 'lfm_cos': -0.09999999999999998, 'nn_bias': 0.10000000000000009, 'catboost': -1.0, 'knn': -0.09999999999999998, 'quality': 0.20000000000000018, 'volume': 1.0}. Best is trial 360 with value: 5.86264772102292.\u001b[0m\n"
     ]
    },
    {
     "name": "stdout",
     "output_type": "stream",
     "text": [
      "time 2.65 cat_cov 99.0 cov 100.0 nov 0.973 ser 0.214 m1 0.917 m10 0.845 price 2.758 sum 5.859\n"
     ]
    },
    {
     "name": "stderr",
     "output_type": "stream",
     "text": [
      "\u001b[32m[I 2023-05-12 14:02:20,336]\u001b[0m Trial 826 finished with value: 5.816283597691129 and parameters: {'svd': 0.7000000000000002, 'lfm_cos': -0.09999999999999998, 'nn_bias': 0.0, 'catboost': -1.0, 'knn': -0.09999999999999998, 'quality': 0.20000000000000018, 'volume': 1.0}. Best is trial 360 with value: 5.86264772102292.\u001b[0m\n"
     ]
    },
    {
     "name": "stdout",
     "output_type": "stream",
     "text": [
      "time 2.667 cat_cov 95.0 cov 100.0 nov 0.914 ser 0.216 m1 0.92 m10 0.846 price 2.909 sum 5.816\n"
     ]
    },
    {
     "name": "stderr",
     "output_type": "stream",
     "text": [
      "\u001b[32m[I 2023-05-12 14:02:23,045]\u001b[0m Trial 827 finished with value: 5.8470878777177395 and parameters: {'svd': 0.8, 'lfm_cos': -0.09999999999999998, 'nn_bias': 0.20000000000000018, 'catboost': -1.0, 'knn': -0.09999999999999998, 'quality': 0.20000000000000018, 'volume': 1.0}. Best is trial 360 with value: 5.86264772102292.\u001b[0m\n"
     ]
    },
    {
     "name": "stdout",
     "output_type": "stream",
     "text": [
      "time 2.663 cat_cov 100.0 cov 100.0 nov 0.978 ser 0.211 m1 0.914 m10 0.84 price 2.709 sum 5.847\n"
     ]
    },
    {
     "name": "stderr",
     "output_type": "stream",
     "text": [
      "\u001b[32m[I 2023-05-12 14:02:25,773]\u001b[0m Trial 828 finished with value: 5.777475993265524 and parameters: {'svd': 0.8, 'lfm_cos': -0.19999999999999996, 'nn_bias': 0.20000000000000018, 'catboost': -1.0, 'knn': 0.0, 'quality': 0.30000000000000004, 'volume': 1.0}. Best is trial 360 with value: 5.86264772102292.\u001b[0m\n"
     ]
    },
    {
     "name": "stdout",
     "output_type": "stream",
     "text": [
      "time 2.684 cat_cov 96.0 cov 100.0 nov 0.994 ser 0.208 m1 0.901 m10 0.832 price 2.651 sum 5.777\n"
     ]
    },
    {
     "name": "stderr",
     "output_type": "stream",
     "text": [
      "\u001b[32m[I 2023-05-12 14:02:28,479]\u001b[0m Trial 829 finished with value: 5.796830740830253 and parameters: {'svd': 0.7000000000000002, 'lfm_cos': -0.19999999999999996, 'nn_bias': 0.20000000000000018, 'catboost': -1.0, 'knn': -0.09999999999999998, 'quality': 0.20000000000000018, 'volume': 1.0}. Best is trial 360 with value: 5.86264772102292.\u001b[0m\n"
     ]
    },
    {
     "name": "stdout",
     "output_type": "stream",
     "text": [
      "time 2.659 cat_cov 97.0 cov 100.0 nov 1.004 ser 0.21 m1 0.897 m10 0.826 price 2.671 sum 5.797\n"
     ]
    },
    {
     "name": "stderr",
     "output_type": "stream",
     "text": [
      "\u001b[32m[I 2023-05-12 14:02:31,210]\u001b[0m Trial 830 finished with value: 5.306878906220602 and parameters: {'svd': 0.7000000000000002, 'lfm_cos': -0.09999999999999998, 'nn_bias': 0.20000000000000018, 'catboost': -1.0, 'knn': 0.8, 'quality': 0.20000000000000018, 'volume': 1.0}. Best is trial 360 with value: 5.86264772102292.\u001b[0m\n"
     ]
    },
    {
     "name": "stdout",
     "output_type": "stream",
     "text": [
      "time 2.687 cat_cov 96.0 cov 100.0 nov 0.914 ser 0.189 m1 0.643 m10 0.748 price 2.558 sum 5.307\n"
     ]
    },
    {
     "name": "stderr",
     "output_type": "stream",
     "text": [
      "\u001b[32m[I 2023-05-12 14:02:33,958]\u001b[0m Trial 831 finished with value: 5.824865535200901 and parameters: {'svd': 0.8, 'lfm_cos': -0.09999999999999998, 'nn_bias': 0.20000000000000018, 'catboost': -1.0, 'knn': 0.0, 'quality': 0.30000000000000004, 'volume': 1.0}. Best is trial 360 with value: 5.86264772102292.\u001b[0m\n"
     ]
    },
    {
     "name": "stdout",
     "output_type": "stream",
     "text": [
      "time 2.702 cat_cov 99.0 cov 100.0 nov 0.98 ser 0.209 m1 0.912 m10 0.84 price 2.681 sum 5.825\n"
     ]
    },
    {
     "name": "stderr",
     "output_type": "stream",
     "text": [
      "\u001b[32m[I 2023-05-12 14:02:36,682]\u001b[0m Trial 832 finished with value: 5.766626034309099 and parameters: {'svd': 0.7000000000000002, 'lfm_cos': -0.19999999999999996, 'nn_bias': 0.20000000000000018, 'catboost': -1.0, 'knn': -0.19999999999999996, 'quality': 0.30000000000000004, 'volume': 1.0}. Best is trial 360 with value: 5.86264772102292.\u001b[0m\n"
     ]
    },
    {
     "name": "stdout",
     "output_type": "stream",
     "text": [
      "time 2.677 cat_cov 94.0 cov 100.0 nov 0.995 ser 0.211 m1 0.896 m10 0.825 price 2.7 sum 5.767\n"
     ]
    },
    {
     "name": "stderr",
     "output_type": "stream",
     "text": [
      "\u001b[32m[I 2023-05-12 14:02:39,428]\u001b[0m Trial 833 finished with value: 5.835892571842079 and parameters: {'svd': 0.8, 'lfm_cos': -0.09999999999999998, 'nn_bias': 0.20000000000000018, 'catboost': -1.0, 'knn': 0.0, 'quality': 0.20000000000000018, 'volume': 1.0}. Best is trial 360 with value: 5.86264772102292.\u001b[0m\n"
     ]
    },
    {
     "name": "stdout",
     "output_type": "stream",
     "text": [
      "time 2.702 cat_cov 100.0 cov 100.0 nov 0.982 ser 0.209 m1 0.912 m10 0.84 price 2.679 sum 5.836\n"
     ]
    },
    {
     "name": "stderr",
     "output_type": "stream",
     "text": [
      "\u001b[32m[I 2023-05-12 14:02:42,137]\u001b[0m Trial 834 finished with value: 5.837977318120322 and parameters: {'svd': 0.7000000000000002, 'lfm_cos': -0.09999999999999998, 'nn_bias': 0.20000000000000018, 'catboost': -1.0, 'knn': -0.09999999999999998, 'quality': 0.20000000000000018, 'volume': 1.0}. Best is trial 360 with value: 5.86264772102292.\u001b[0m\n"
     ]
    },
    {
     "name": "stdout",
     "output_type": "stream",
     "text": [
      "time 2.66 cat_cov 99.0 cov 100.0 nov 0.988 ser 0.212 m1 0.908 m10 0.836 price 2.711 sum 5.838\n"
     ]
    },
    {
     "name": "stderr",
     "output_type": "stream",
     "text": [
      "\u001b[32m[I 2023-05-12 14:02:44,837]\u001b[0m Trial 835 finished with value: 5.801536282462452 and parameters: {'svd': 0.9000000000000001, 'lfm_cos': -0.09999999999999998, 'nn_bias': 0.20000000000000018, 'catboost': -1.0, 'knn': -0.09999999999999998, 'quality': 0.20000000000000018, 'volume': 1.0}. Best is trial 360 with value: 5.86264772102292.\u001b[0m\n"
     ]
    },
    {
     "name": "stdout",
     "output_type": "stream",
     "text": [
      "time 2.655 cat_cov 96.0 cov 100.0 nov 0.967 ser 0.21 m1 0.919 m10 0.844 price 2.705 sum 5.802\n"
     ]
    },
    {
     "name": "stderr",
     "output_type": "stream",
     "text": [
      "\u001b[32m[I 2023-05-12 14:02:47,544]\u001b[0m Trial 836 finished with value: 5.813468739037118 and parameters: {'svd': 0.7000000000000002, 'lfm_cos': -0.19999999999999996, 'nn_bias': 0.10000000000000009, 'catboost': -1.0, 'knn': 0.0, 'quality': 0.20000000000000018, 'volume': 1.0}. Best is trial 360 with value: 5.86264772102292.\u001b[0m\n"
     ]
    },
    {
     "name": "stdout",
     "output_type": "stream",
     "text": [
      "time 2.66 cat_cov 97.0 cov 100.0 nov 1.0 ser 0.21 m1 0.905 m10 0.836 price 2.675 sum 5.813\n"
     ]
    },
    {
     "name": "stderr",
     "output_type": "stream",
     "text": [
      "\u001b[32m[I 2023-05-12 14:02:50,237]\u001b[0m Trial 837 finished with value: 5.8257980954788575 and parameters: {'svd': 0.7000000000000002, 'lfm_cos': -0.09999999999999998, 'nn_bias': 0.10000000000000009, 'catboost': -1.0, 'knn': -0.19999999999999996, 'quality': 0.30000000000000004, 'volume': 1.0}. Best is trial 360 with value: 5.86264772102292.\u001b[0m\n"
     ]
    },
    {
     "name": "stdout",
     "output_type": "stream",
     "text": [
      "time 2.647 cat_cov 96.0 cov 100.0 nov 0.963 ser 0.215 m1 0.915 m10 0.843 price 2.791 sum 5.826\n"
     ]
    },
    {
     "name": "stderr",
     "output_type": "stream",
     "text": [
      "\u001b[32m[I 2023-05-12 14:02:52,847]\u001b[0m Trial 838 finished with value: 4.212366606144163 and parameters: {'svd': -0.29999999999999993, 'lfm_cos': -0.09999999999999998, 'nn_bias': 0.20000000000000018, 'catboost': -1.0, 'knn': -0.09999999999999998, 'quality': 0.30000000000000004, 'volume': 1.0}. Best is trial 360 with value: 5.86264772102292.\u001b[0m\n"
     ]
    },
    {
     "name": "stdout",
     "output_type": "stream",
     "text": [
      "time 2.563 cat_cov 88.0 cov 100.0 nov 1.01 ser 0.149 m1 0.083 m10 0.219 price 2.615 sum 4.212\n"
     ]
    },
    {
     "name": "stderr",
     "output_type": "stream",
     "text": [
      "\u001b[32m[I 2023-05-12 14:02:55,582]\u001b[0m Trial 839 finished with value: 5.47832741673113 and parameters: {'svd': 0.8, 'lfm_cos': -0.29999999999999993, 'nn_bias': 0.30000000000000004, 'catboost': 0.10000000000000009, 'knn': 0.0, 'quality': 0.20000000000000018, 'volume': 1.0}. Best is trial 360 with value: 5.86264772102292.\u001b[0m\n"
     ]
    },
    {
     "name": "stdout",
     "output_type": "stream",
     "text": [
      "time 2.689 cat_cov 97.0 cov 100.0 nov 0.789 ser 0.179 m1 0.836 m10 0.818 price 2.659 sum 5.478\n"
     ]
    },
    {
     "name": "stderr",
     "output_type": "stream",
     "text": [
      "\u001b[32m[I 2023-05-12 14:02:58,294]\u001b[0m Trial 840 finished with value: 5.848542047872865 and parameters: {'svd': 0.7000000000000002, 'lfm_cos': -0.09999999999999998, 'nn_bias': 0.10000000000000009, 'catboost': -1.0, 'knn': -0.09999999999999998, 'quality': 0.20000000000000018, 'volume': 1.0}. Best is trial 360 with value: 5.86264772102292.\u001b[0m\n"
     ]
    },
    {
     "name": "stdout",
     "output_type": "stream",
     "text": [
      "time 2.659 cat_cov 98.0 cov 100.0 nov 0.973 ser 0.214 m1 0.917 m10 0.845 price 2.758 sum 5.849\n"
     ]
    },
    {
     "name": "stderr",
     "output_type": "stream",
     "text": [
      "\u001b[32m[I 2023-05-12 14:03:00,964]\u001b[0m Trial 841 finished with value: 5.828667592217201 and parameters: {'svd': 0.7000000000000002, 'lfm_cos': -0.09999999999999998, 'nn_bias': 0.20000000000000018, 'catboost': -1.0, 'knn': -0.19999999999999996, 'quality': 0.20000000000000018, 'volume': 1.0}. Best is trial 360 with value: 5.86264772102292.\u001b[0m\n"
     ]
    },
    {
     "name": "stdout",
     "output_type": "stream",
     "text": [
      "time 2.624 cat_cov 98.0 cov 100.0 nov 0.98 ser 0.213 m1 0.908 m10 0.835 price 2.741 sum 5.829\n"
     ]
    },
    {
     "name": "stderr",
     "output_type": "stream",
     "text": [
      "\u001b[32m[I 2023-05-12 14:03:03,664]\u001b[0m Trial 842 finished with value: 5.8053499330062435 and parameters: {'svd': 0.8, 'lfm_cos': -0.19999999999999996, 'nn_bias': 0.10000000000000009, 'catboost': -1.0, 'knn': -0.19999999999999996, 'quality': 0.20000000000000018, 'volume': 1.0}. Best is trial 360 with value: 5.86264772102292.\u001b[0m\n"
     ]
    },
    {
     "name": "stdout",
     "output_type": "stream",
     "text": [
      "time 2.654 cat_cov 96.0 cov 100.0 nov 0.977 ser 0.213 m1 0.908 m10 0.838 price 2.728 sum 5.805\n"
     ]
    },
    {
     "name": "stderr",
     "output_type": "stream",
     "text": [
      "\u001b[32m[I 2023-05-12 14:03:06,361]\u001b[0m Trial 843 finished with value: 5.7345766705863745 and parameters: {'svd': 0.8, 'lfm_cos': -0.19999999999999996, 'nn_bias': 0.40000000000000013, 'catboost': -1.0, 'knn': -0.09999999999999998, 'quality': 0.20000000000000018, 'volume': 1.0}. Best is trial 360 with value: 5.86264772102292.\u001b[0m\n"
     ]
    },
    {
     "name": "stdout",
     "output_type": "stream",
     "text": [
      "time 2.653 cat_cov 98.0 cov 100.0 nov 0.996 ser 0.205 m1 0.87 m10 0.802 price 2.643 sum 5.735\n"
     ]
    },
    {
     "name": "stderr",
     "output_type": "stream",
     "text": [
      "\u001b[32m[I 2023-05-12 14:03:09,041]\u001b[0m Trial 844 finished with value: 5.730498349483132 and parameters: {'svd': 0.7000000000000002, 'lfm_cos': 0.30000000000000004, 'nn_bias': 0.20000000000000018, 'catboost': -1.0, 'knn': -0.09999999999999998, 'quality': 0.30000000000000004, 'volume': 1.0}. Best is trial 360 with value: 5.86264772102292.\u001b[0m\n"
     ]
    },
    {
     "name": "stdout",
     "output_type": "stream",
     "text": [
      "time 2.627 cat_cov 98.0 cov 100.0 nov 0.797 ser 0.223 m1 0.917 m10 0.838 price 2.927 sum 5.73\n"
     ]
    },
    {
     "name": "stderr",
     "output_type": "stream",
     "text": [
      "\u001b[32m[I 2023-05-12 14:03:11,749]\u001b[0m Trial 845 finished with value: 5.8185420478728656 and parameters: {'svd': 0.7000000000000002, 'lfm_cos': -0.09999999999999998, 'nn_bias': 0.10000000000000009, 'catboost': -1.0, 'knn': -0.09999999999999998, 'quality': 0.20000000000000018, 'volume': 1.0}. Best is trial 360 with value: 5.86264772102292.\u001b[0m\n"
     ]
    },
    {
     "name": "stdout",
     "output_type": "stream",
     "text": [
      "time 2.663 cat_cov 95.0 cov 100.0 nov 0.973 ser 0.214 m1 0.917 m10 0.845 price 2.758 sum 5.819\n"
     ]
    },
    {
     "name": "stderr",
     "output_type": "stream",
     "text": [
      "\u001b[32m[I 2023-05-12 14:03:15,165]\u001b[0m Trial 846 finished with value: 5.762224497536524 and parameters: {'svd': 0.7000000000000002, 'lfm_cos': -0.29999999999999993, 'nn_bias': 0.10000000000000009, 'catboost': -1.0, 'knn': -0.19999999999999996, 'quality': 0.30000000000000004, 'volume': 1.0}. Best is trial 360 with value: 5.86264772102292.\u001b[0m\n"
     ]
    },
    {
     "name": "stdout",
     "output_type": "stream",
     "text": [
      "time 2.679 cat_cov 94.0 cov 100.0 nov 0.998 ser 0.211 m1 0.891 m10 0.823 price 2.699 sum 5.762\n"
     ]
    },
    {
     "name": "stderr",
     "output_type": "stream",
     "text": [
      "\u001b[32m[I 2023-05-12 14:03:17,869]\u001b[0m Trial 847 finished with value: 5.814975462907131 and parameters: {'svd': 0.8, 'lfm_cos': -0.19999999999999996, 'nn_bias': 0.0, 'catboost': -1.0, 'knn': -0.09999999999999998, 'quality': 0.30000000000000004, 'volume': 1.0}. Best is trial 360 with value: 5.86264772102292.\u001b[0m\n"
     ]
    },
    {
     "name": "stdout",
     "output_type": "stream",
     "text": [
      "time 2.659 cat_cov 97.0 cov 100.0 nov 0.942 ser 0.213 m1 0.913 m10 0.841 price 2.808 sum 5.815\n"
     ]
    },
    {
     "name": "stderr",
     "output_type": "stream",
     "text": [
      "\u001b[32m[I 2023-05-12 14:03:20,572]\u001b[0m Trial 848 finished with value: 5.821340978169501 and parameters: {'svd': 0.7000000000000002, 'lfm_cos': -0.09999999999999998, 'nn_bias': 0.10000000000000009, 'catboost': -0.9, 'knn': -0.19999999999999996, 'quality': 0.20000000000000018, 'volume': 1.0}. Best is trial 360 with value: 5.86264772102292.\u001b[0m\n"
     ]
    },
    {
     "name": "stdout",
     "output_type": "stream",
     "text": [
      "time 2.657 cat_cov 96.0 cov 100.0 nov 0.959 ser 0.214 m1 0.916 m10 0.844 price 2.787 sum 5.821\n"
     ]
    },
    {
     "name": "stderr",
     "output_type": "stream",
     "text": [
      "\u001b[32m[I 2023-05-12 14:03:23,299]\u001b[0m Trial 849 finished with value: 5.753518483156234 and parameters: {'svd': 0.8, 'lfm_cos': -0.09999999999999998, 'nn_bias': 0.30000000000000004, 'catboost': -0.9, 'knn': -0.09999999999999998, 'quality': 0.20000000000000018, 'volume': 1.0}. Best is trial 360 with value: 5.86264772102292.\u001b[0m\n"
     ]
    },
    {
     "name": "stdout",
     "output_type": "stream",
     "text": [
      "time 2.673 cat_cov 95.0 cov 100.0 nov 0.973 ser 0.208 m1 0.901 m10 0.828 price 2.68 sum 5.754\n"
     ]
    },
    {
     "name": "stderr",
     "output_type": "stream",
     "text": [
      "\u001b[32m[I 2023-05-12 14:03:26,001]\u001b[0m Trial 850 finished with value: 5.798667592217201 and parameters: {'svd': 0.7000000000000002, 'lfm_cos': -0.09999999999999998, 'nn_bias': 0.20000000000000018, 'catboost': -1.0, 'knn': -0.19999999999999996, 'quality': 0.20000000000000018, 'volume': 1.0}. Best is trial 360 with value: 5.86264772102292.\u001b[0m\n"
     ]
    },
    {
     "name": "stdout",
     "output_type": "stream",
     "text": [
      "time 2.656 cat_cov 95.0 cov 100.0 nov 0.98 ser 0.213 m1 0.908 m10 0.835 price 2.741 sum 5.799\n"
     ]
    },
    {
     "name": "stderr",
     "output_type": "stream",
     "text": [
      "\u001b[32m[I 2023-05-12 14:03:28,703]\u001b[0m Trial 851 finished with value: 5.8083043584947855 and parameters: {'svd': 0.8, 'lfm_cos': -0.19999999999999996, 'nn_bias': 0.0, 'catboost': -0.9, 'knn': -0.09999999999999998, 'quality': 0.20000000000000018, 'volume': 1.0}. Best is trial 360 with value: 5.86264772102292.\u001b[0m\n"
     ]
    },
    {
     "name": "stdout",
     "output_type": "stream",
     "text": [
      "time 2.656 cat_cov 97.0 cov 100.0 nov 0.934 ser 0.212 m1 0.915 m10 0.841 price 2.809 sum 5.808\n"
     ]
    },
    {
     "name": "stderr",
     "output_type": "stream",
     "text": [
      "\u001b[32m[I 2023-05-12 14:03:31,427]\u001b[0m Trial 852 finished with value: 5.858542047872866 and parameters: {'svd': 0.7000000000000002, 'lfm_cos': -0.09999999999999998, 'nn_bias': 0.10000000000000009, 'catboost': -1.0, 'knn': -0.09999999999999998, 'quality': 0.20000000000000018, 'volume': 1.0}. Best is trial 360 with value: 5.86264772102292.\u001b[0m\n"
     ]
    },
    {
     "name": "stdout",
     "output_type": "stream",
     "text": [
      "time 2.68 cat_cov 99.0 cov 100.0 nov 0.973 ser 0.214 m1 0.917 m10 0.845 price 2.758 sum 5.859\n"
     ]
    },
    {
     "name": "stderr",
     "output_type": "stream",
     "text": [
      "\u001b[32m[I 2023-05-12 14:03:34,122]\u001b[0m Trial 853 finished with value: 5.855278565056182 and parameters: {'svd': 0.7000000000000002, 'lfm_cos': -0.09999999999999998, 'nn_bias': 0.0, 'catboost': -1.0, 'knn': -0.09999999999999998, 'quality': 0.20000000000000018, 'volume': 0.9000000000000001}. Best is trial 360 with value: 5.86264772102292.\u001b[0m\n"
     ]
    },
    {
     "name": "stdout",
     "output_type": "stream",
     "text": [
      "time 2.649 cat_cov 99.0 cov 100.0 nov 0.921 ser 0.216 m1 0.919 m10 0.847 price 2.886 sum 5.855\n"
     ]
    },
    {
     "name": "stderr",
     "output_type": "stream",
     "text": [
      "\u001b[32m[I 2023-05-12 14:03:36,838]\u001b[0m Trial 854 finished with value: 5.793699635597699 and parameters: {'svd': 0.7000000000000002, 'lfm_cos': -0.19999999999999996, 'nn_bias': 0.0, 'catboost': -1.0, 'knn': -0.19999999999999996, 'quality': 0.20000000000000018, 'volume': 0.9000000000000001}. Best is trial 360 with value: 5.86264772102292.\u001b[0m\n"
     ]
    },
    {
     "name": "stdout",
     "output_type": "stream",
     "text": [
      "time 2.67 cat_cov 95.0 cov 100.0 nov 0.956 ser 0.214 m1 0.905 m10 0.837 price 2.797 sum 5.794\n"
     ]
    },
    {
     "name": "stderr",
     "output_type": "stream",
     "text": [
      "\u001b[32m[I 2023-05-12 14:03:39,559]\u001b[0m Trial 855 finished with value: 5.814013486172143 and parameters: {'svd': 0.7000000000000002, 'lfm_cos': -0.09999999999999998, 'nn_bias': 0.0, 'catboost': -1.0, 'knn': -0.09999999999999998, 'quality': 0.30000000000000004, 'volume': 0.9000000000000001}. Best is trial 360 with value: 5.86264772102292.\u001b[0m\n"
     ]
    },
    {
     "name": "stdout",
     "output_type": "stream",
     "text": [
      "time 2.674 cat_cov 95.0 cov 100.0 nov 0.919 ser 0.216 m1 0.92 m10 0.846 price 2.892 sum 5.814\n"
     ]
    },
    {
     "name": "stderr",
     "output_type": "stream",
     "text": [
      "\u001b[32m[I 2023-05-12 14:03:42,275]\u001b[0m Trial 856 finished with value: 5.707888177947875 and parameters: {'svd': 0.7000000000000002, 'lfm_cos': -0.9, 'nn_bias': 0.0, 'catboost': -1.0, 'knn': -0.19999999999999996, 'quality': 0.20000000000000018, 'volume': 1.0}. Best is trial 360 with value: 5.86264772102292.\u001b[0m\n"
     ]
    },
    {
     "name": "stdout",
     "output_type": "stream",
     "text": [
      "time 2.668 cat_cov 96.0 cov 100.0 nov 1.031 ser 0.202 m1 0.856 m10 0.779 price 2.639 sum 5.708\n"
     ]
    },
    {
     "name": "stderr",
     "output_type": "stream",
     "text": [
      "\u001b[32m[I 2023-05-12 14:03:44,981]\u001b[0m Trial 857 finished with value: 5.83527856505618 and parameters: {'svd': 0.7000000000000002, 'lfm_cos': -0.09999999999999998, 'nn_bias': 0.0, 'catboost': -1.0, 'knn': -0.09999999999999998, 'quality': 0.20000000000000018, 'volume': 0.9000000000000001}. Best is trial 360 with value: 5.86264772102292.\u001b[0m\n"
     ]
    },
    {
     "name": "stdout",
     "output_type": "stream",
     "text": [
      "time 2.659 cat_cov 97.0 cov 100.0 nov 0.921 ser 0.216 m1 0.919 m10 0.847 price 2.886 sum 5.835\n"
     ]
    },
    {
     "name": "stderr",
     "output_type": "stream",
     "text": [
      "\u001b[32m[I 2023-05-12 14:03:47,673]\u001b[0m Trial 858 finished with value: 4.4281650029117126 and parameters: {'svd': -0.09999999999999998, 'lfm_cos': -0.19999999999999996, 'nn_bias': 0.0, 'catboost': -1.0, 'knn': -0.09999999999999998, 'quality': 0.40000000000000013, 'volume': 0.9000000000000001}. Best is trial 360 with value: 5.86264772102292.\u001b[0m\n"
     ]
    },
    {
     "name": "stdout",
     "output_type": "stream",
     "text": [
      "time 2.647 cat_cov 86.0 cov 100.0 nov 1.053 ser 0.169 m1 0.162 m10 0.3 price 2.651 sum 4.428\n"
     ]
    },
    {
     "name": "stderr",
     "output_type": "stream",
     "text": [
      "\u001b[32m[I 2023-05-12 14:03:50,388]\u001b[0m Trial 859 finished with value: 5.740462903999976 and parameters: {'svd': 0.7000000000000002, 'lfm_cos': -0.19999999999999996, 'nn_bias': 0.10000000000000009, 'catboost': -0.9, 'knn': -0.19999999999999996, 'quality': 0.20000000000000018, 'volume': 1.0}. Best is trial 360 with value: 5.86264772102292.\u001b[0m\n"
     ]
    },
    {
     "name": "stdout",
     "output_type": "stream",
     "text": [
      "time 2.668 cat_cov 90.0 cov 100.0 nov 0.979 ser 0.212 m1 0.904 m10 0.834 price 2.731 sum 5.74\n"
     ]
    },
    {
     "name": "stderr",
     "output_type": "stream",
     "text": [
      "\u001b[32m[I 2023-05-12 14:03:53,113]\u001b[0m Trial 860 finished with value: 5.1875517882296025 and parameters: {'svd': 0.7000000000000002, 'lfm_cos': 0.8, 'nn_bias': 0.0, 'catboost': -0.9, 'knn': -0.09999999999999998, 'quality': 0.30000000000000004, 'volume': 0.9000000000000001}. Best is trial 360 with value: 5.86264772102292.\u001b[0m\n"
     ]
    },
    {
     "name": "stdout",
     "output_type": "stream",
     "text": [
      "time 2.678 cat_cov 100.0 cov 100.0 nov 0.676 ser 0.221 m1 0.647 m10 0.649 price 2.983 sum 5.188\n"
     ]
    },
    {
     "name": "stderr",
     "output_type": "stream",
     "text": [
      "\u001b[32m[I 2023-05-12 14:03:55,801]\u001b[0m Trial 861 finished with value: 5.805226936643283 and parameters: {'svd': 0.7000000000000002, 'lfm_cos': -0.09999999999999998, 'nn_bias': 0.10000000000000009, 'catboost': -1.0, 'knn': -0.19999999999999996, 'quality': 0.30000000000000004, 'volume': -0.5}. Best is trial 360 with value: 5.86264772102292.\u001b[0m\n"
     ]
    },
    {
     "name": "stdout",
     "output_type": "stream",
     "text": [
      "time 2.641 cat_cov 96.0 cov 100.0 nov 1.003 ser 0.213 m1 0.91 m10 0.841 price 2.634 sum 5.805\n"
     ]
    },
    {
     "name": "stderr",
     "output_type": "stream",
     "text": [
      "\u001b[32m[I 2023-05-12 14:03:58,518]\u001b[0m Trial 862 finished with value: 5.822516420641637 and parameters: {'svd': 0.7000000000000002, 'lfm_cos': -0.09999999999999998, 'nn_bias': 0.10000000000000009, 'catboost': -0.9, 'knn': -0.09999999999999998, 'quality': 0.20000000000000018, 'volume': 1.0}. Best is trial 360 with value: 5.86264772102292.\u001b[0m\n"
     ]
    },
    {
     "name": "stdout",
     "output_type": "stream",
     "text": [
      "time 2.671 cat_cov 96.0 cov 100.0 nov 0.966 ser 0.213 m1 0.918 m10 0.846 price 2.759 sum 5.823\n"
     ]
    },
    {
     "name": "stderr",
     "output_type": "stream",
     "text": [
      "\u001b[32m[I 2023-05-12 14:04:01,232]\u001b[0m Trial 863 finished with value: 5.845278565056182 and parameters: {'svd': 0.7000000000000002, 'lfm_cos': -0.09999999999999998, 'nn_bias': 0.0, 'catboost': -1.0, 'knn': -0.09999999999999998, 'quality': 0.20000000000000018, 'volume': 0.9000000000000001}. Best is trial 360 with value: 5.86264772102292.\u001b[0m\n"
     ]
    },
    {
     "name": "stdout",
     "output_type": "stream",
     "text": [
      "time 2.666 cat_cov 98.0 cov 100.0 nov 0.921 ser 0.216 m1 0.919 m10 0.847 price 2.886 sum 5.845\n"
     ]
    },
    {
     "name": "stderr",
     "output_type": "stream",
     "text": [
      "\u001b[32m[I 2023-05-12 14:04:03,941]\u001b[0m Trial 864 finished with value: 5.823253379060123 and parameters: {'svd': 0.7000000000000002, 'lfm_cos': -0.09999999999999998, 'nn_bias': 0.10000000000000009, 'catboost': -1.0, 'knn': -0.19999999999999996, 'quality': 0.10000000000000009, 'volume': 0.9000000000000001}. Best is trial 360 with value: 5.86264772102292.\u001b[0m\n"
     ]
    },
    {
     "name": "stdout",
     "output_type": "stream",
     "text": [
      "time 2.664 cat_cov 96.0 cov 100.0 nov 0.969 ser 0.215 m1 0.914 m10 0.844 price 2.765 sum 5.823\n"
     ]
    },
    {
     "name": "stderr",
     "output_type": "stream",
     "text": [
      "\u001b[32m[I 2023-05-12 14:04:06,626]\u001b[0m Trial 865 finished with value: 5.817012120919415 and parameters: {'svd': 0.7000000000000002, 'lfm_cos': -0.09999999999999998, 'nn_bias': 0.10000000000000009, 'catboost': -0.9, 'knn': -0.29999999999999993, 'quality': 0.20000000000000018, 'volume': 1.0}. Best is trial 360 with value: 5.86264772102292.\u001b[0m\n"
     ]
    },
    {
     "name": "stdout",
     "output_type": "stream",
     "text": [
      "time 2.637 cat_cov 96.0 cov 100.0 nov 0.954 ser 0.215 m1 0.912 m10 0.841 price 2.806 sum 5.817\n"
     ]
    },
    {
     "name": "stderr",
     "output_type": "stream",
     "text": [
      "\u001b[32m[I 2023-05-12 14:04:09,301]\u001b[0m Trial 866 finished with value: 5.83644904308996 and parameters: {'svd': 0.7000000000000002, 'lfm_cos': -0.19999999999999996, 'nn_bias': 0.10000000000000009, 'catboost': -1.0, 'knn': -0.09999999999999998, 'quality': 0.10000000000000009, 'volume': 0.9000000000000001}. Best is trial 360 with value: 5.86264772102292.\u001b[0m\n"
     ]
    },
    {
     "name": "stdout",
     "output_type": "stream",
     "text": [
      "time 2.627 cat_cov 99.0 cov 100.0 nov 0.998 ser 0.212 m1 0.905 m10 0.836 price 2.687 sum 5.836\n"
     ]
    },
    {
     "name": "stderr",
     "output_type": "stream",
     "text": [
      "\u001b[32m[I 2023-05-12 14:04:12,014]\u001b[0m Trial 867 finished with value: 5.826283597691129 and parameters: {'svd': 0.7000000000000002, 'lfm_cos': -0.09999999999999998, 'nn_bias': 0.0, 'catboost': -1.0, 'knn': -0.09999999999999998, 'quality': 0.20000000000000018, 'volume': 1.0}. Best is trial 360 with value: 5.86264772102292.\u001b[0m\n"
     ]
    },
    {
     "name": "stdout",
     "output_type": "stream",
     "text": [
      "time 2.667 cat_cov 96.0 cov 100.0 nov 0.914 ser 0.216 m1 0.92 m10 0.846 price 2.909 sum 5.826\n"
     ]
    },
    {
     "name": "stderr",
     "output_type": "stream",
     "text": [
      "\u001b[32m[I 2023-05-12 14:04:14,692]\u001b[0m Trial 868 finished with value: 5.792551865024806 and parameters: {'svd': 0.8, 'lfm_cos': -0.09999999999999998, 'nn_bias': 0.10000000000000009, 'catboost': -0.9, 'knn': -0.19999999999999996, 'quality': 0.20000000000000018, 'volume': -0.9}. Best is trial 360 with value: 5.86264772102292.\u001b[0m\n"
     ]
    },
    {
     "name": "stdout",
     "output_type": "stream",
     "text": [
      "time 2.631 cat_cov 96.0 cov 100.0 nov 0.999 ser 0.212 m1 0.914 m10 0.844 price 2.589 sum 5.793\n"
     ]
    },
    {
     "name": "stderr",
     "output_type": "stream",
     "text": [
      "\u001b[32m[I 2023-05-12 14:04:17,426]\u001b[0m Trial 869 finished with value: 5.58303937304236 and parameters: {'svd': 0.8, 'lfm_cos': -0.19999999999999996, 'nn_bias': 0.0, 'catboost': -0.9, 'knn': 0.6000000000000001, 'quality': 0.10000000000000009, 'volume': 1.0}. Best is trial 360 with value: 5.86264772102292.\u001b[0m\n"
     ]
    },
    {
     "name": "stdout",
     "output_type": "stream",
     "text": [
      "time 2.688 cat_cov 99.0 cov 100.0 nov 0.898 ser 0.196 m1 0.826 m10 0.804 price 2.607 sum 5.583\n"
     ]
    },
    {
     "name": "stderr",
     "output_type": "stream",
     "text": [
      "\u001b[32m[I 2023-05-12 14:04:20,158]\u001b[0m Trial 870 finished with value: 5.226184565067628 and parameters: {'svd': 0.7000000000000002, 'lfm_cos': -0.09999999999999998, 'nn_bias': 0.10000000000000009, 'catboost': 0.5, 'knn': -0.09999999999999998, 'quality': 0.30000000000000004, 'volume': 0.9000000000000001}. Best is trial 360 with value: 5.86264772102292.\u001b[0m\n"
     ]
    },
    {
     "name": "stdout",
     "output_type": "stream",
     "text": [
      "time 2.684 cat_cov 95.0 cov 100.0 nov 0.618 ser 0.161 m1 0.802 m10 0.788 price 2.723 sum 5.226\n"
     ]
    },
    {
     "name": "stderr",
     "output_type": "stream",
     "text": [
      "\u001b[32m[I 2023-05-12 14:04:22,867]\u001b[0m Trial 871 finished with value: 5.8164490430899605 and parameters: {'svd': 0.7000000000000002, 'lfm_cos': -0.19999999999999996, 'nn_bias': 0.10000000000000009, 'catboost': -1.0, 'knn': -0.09999999999999998, 'quality': 0.10000000000000009, 'volume': 0.9000000000000001}. Best is trial 360 with value: 5.86264772102292.\u001b[0m\n"
     ]
    },
    {
     "name": "stdout",
     "output_type": "stream",
     "text": [
      "time 2.662 cat_cov 97.0 cov 100.0 nov 0.998 ser 0.212 m1 0.905 m10 0.836 price 2.687 sum 5.816\n"
     ]
    },
    {
     "name": "stderr",
     "output_type": "stream",
     "text": [
      "\u001b[32m[I 2023-05-12 14:04:25,592]\u001b[0m Trial 872 finished with value: 5.82315604931823 and parameters: {'svd': 0.7000000000000002, 'lfm_cos': -0.09999999999999998, 'nn_bias': 0.0, 'catboost': -1.0, 'knn': -0.19999999999999996, 'quality': 0.30000000000000004, 'volume': 1.0}. Best is trial 360 with value: 5.86264772102292.\u001b[0m\n"
     ]
    },
    {
     "name": "stdout",
     "output_type": "stream",
     "text": [
      "time 2.679 cat_cov 96.0 cov 100.0 nov 0.908 ser 0.217 m1 0.916 m10 0.845 price 2.929 sum 5.823\n"
     ]
    },
    {
     "name": "stderr",
     "output_type": "stream",
     "text": [
      "\u001b[32m[I 2023-05-12 14:04:28,312]\u001b[0m Trial 873 finished with value: 5.832745358241342 and parameters: {'svd': 0.8, 'lfm_cos': -0.09999999999999998, 'nn_bias': 0.10000000000000009, 'catboost': -1.0, 'knn': -0.09999999999999998, 'quality': 0.20000000000000018, 'volume': 0.9000000000000001}. Best is trial 360 with value: 5.86264772102292.\u001b[0m\n"
     ]
    },
    {
     "name": "stdout",
     "output_type": "stream",
     "text": [
      "time 2.672 cat_cov 97.0 cov 100.0 nov 0.968 ser 0.213 m1 0.921 m10 0.847 price 2.74 sum 5.833\n"
     ]
    },
    {
     "name": "stderr",
     "output_type": "stream",
     "text": [
      "\u001b[32m[I 2023-05-12 14:04:31,044]\u001b[0m Trial 874 finished with value: 5.78463524754599 and parameters: {'svd': 0.7000000000000002, 'lfm_cos': -0.09999999999999998, 'nn_bias': -0.09999999999999998, 'catboost': -0.9, 'knn': -0.19999999999999996, 'quality': 0.10000000000000009, 'volume': 1.0}. Best is trial 360 with value: 5.86264772102292.\u001b[0m\n"
     ]
    },
    {
     "name": "stdout",
     "output_type": "stream",
     "text": [
      "time 2.684 cat_cov 97.0 cov 100.0 nov 0.842 ser 0.22 m1 0.915 m10 0.84 price 2.992 sum 5.785\n"
     ]
    },
    {
     "name": "stderr",
     "output_type": "stream",
     "text": [
      "\u001b[32m[I 2023-05-12 14:04:33,756]\u001b[0m Trial 875 finished with value: 5.817581685004606 and parameters: {'svd': 0.7000000000000002, 'lfm_cos': -0.09999999999999998, 'nn_bias': 0.10000000000000009, 'catboost': -1.0, 'knn': -0.09999999999999998, 'quality': 0.20000000000000018, 'volume': 0.9000000000000001}. Best is trial 360 with value: 5.86264772102292.\u001b[0m\n"
     ]
    },
    {
     "name": "stdout",
     "output_type": "stream",
     "text": [
      "time 2.665 cat_cov 95.0 cov 100.0 nov 0.978 ser 0.214 m1 0.917 m10 0.845 price 2.742 sum 5.818\n"
     ]
    },
    {
     "name": "stderr",
     "output_type": "stream",
     "text": [
      "\u001b[32m[I 2023-05-12 14:04:36,474]\u001b[0m Trial 876 finished with value: 5.81067187700512 and parameters: {'svd': 0.8, 'lfm_cos': -0.19999999999999996, 'nn_bias': 0.0, 'catboost': -0.9, 'knn': 0.0, 'quality': 0.10000000000000009, 'volume': 1.0}. Best is trial 360 with value: 5.86264772102292.\u001b[0m\n"
     ]
    },
    {
     "name": "stdout",
     "output_type": "stream",
     "text": [
      "time 2.671 cat_cov 98.0 cov 100.0 nov 0.934 ser 0.211 m1 0.915 m10 0.841 price 2.789 sum 5.811\n"
     ]
    },
    {
     "name": "stderr",
     "output_type": "stream",
     "text": [
      "\u001b[32m[I 2023-05-12 14:04:39,174]\u001b[0m Trial 877 finished with value: 5.835137116256058 and parameters: {'svd': 0.9000000000000001, 'lfm_cos': -0.09999999999999998, 'nn_bias': 0.10000000000000009, 'catboost': -1.0, 'knn': -0.09999999999999998, 'quality': 0.20000000000000018, 'volume': 0.9000000000000001}. Best is trial 360 with value: 5.86264772102292.\u001b[0m\n"
     ]
    },
    {
     "name": "stdout",
     "output_type": "stream",
     "text": [
      "time 2.652 cat_cov 98.0 cov 100.0 nov 0.957 ser 0.212 m1 0.924 m10 0.849 price 2.736 sum 5.835\n"
     ]
    },
    {
     "name": "stderr",
     "output_type": "stream",
     "text": [
      "\u001b[32m[I 2023-05-12 14:04:41,924]\u001b[0m Trial 878 finished with value: 5.819785078534424 and parameters: {'svd': 0.7000000000000002, 'lfm_cos': -0.09999999999999998, 'nn_bias': 0.20000000000000018, 'catboost': -0.9, 'knn': -0.09999999999999998, 'quality': 0.30000000000000004, 'volume': 1.0}. Best is trial 360 with value: 5.86264772102292.\u001b[0m\n"
     ]
    },
    {
     "name": "stdout",
     "output_type": "stream",
     "text": [
      "time 2.703 cat_cov 98.0 cov 100.0 nov 0.979 ser 0.21 m1 0.91 m10 0.836 price 2.713 sum 5.82\n"
     ]
    },
    {
     "name": "stderr",
     "output_type": "stream",
     "text": [
      "\u001b[32m[I 2023-05-12 14:04:44,638]\u001b[0m Trial 879 finished with value: 5.829328333550275 and parameters: {'svd': 0.8, 'lfm_cos': -0.09999999999999998, 'nn_bias': 0.10000000000000009, 'catboost': -1.0, 'knn': -0.29999999999999993, 'quality': 0.20000000000000018, 'volume': 0.9000000000000001}. Best is trial 360 with value: 5.86264772102292.\u001b[0m\n"
     ]
    },
    {
     "name": "stdout",
     "output_type": "stream",
     "text": [
      "time 2.666 cat_cov 97.0 cov 100.0 nov 0.956 ser 0.215 m1 0.915 m10 0.844 price 2.786 sum 5.829\n"
     ]
    },
    {
     "name": "stderr",
     "output_type": "stream",
     "text": [
      "\u001b[32m[I 2023-05-12 14:04:47,341]\u001b[0m Trial 880 finished with value: 5.82037403977384 and parameters: {'svd': 0.7000000000000002, 'lfm_cos': -0.09999999999999998, 'nn_bias': 0.10000000000000009, 'catboost': -0.9, 'knn': -0.19999999999999996, 'quality': 0.10000000000000009, 'volume': 1.0}. Best is trial 360 with value: 5.86264772102292.\u001b[0m\n"
     ]
    },
    {
     "name": "stdout",
     "output_type": "stream",
     "text": [
      "time 2.653 cat_cov 96.0 cov 100.0 nov 0.958 ser 0.215 m1 0.916 m10 0.844 price 2.783 sum 5.82\n"
     ]
    },
    {
     "name": "stderr",
     "output_type": "stream",
     "text": [
      "\u001b[32m[I 2023-05-12 14:04:50,061]\u001b[0m Trial 881 finished with value: 5.846010024474029 and parameters: {'svd': 0.8, 'lfm_cos': -0.09999999999999998, 'nn_bias': 0.0, 'catboost': -1.0, 'knn': 0.0, 'quality': 0.20000000000000018, 'volume': 0.9000000000000001}. Best is trial 360 with value: 5.86264772102292.\u001b[0m\n"
     ]
    },
    {
     "name": "stdout",
     "output_type": "stream",
     "text": [
      "time 2.675 cat_cov 99.0 cov 100.0 nov 0.918 ser 0.214 m1 0.925 m10 0.848 price 2.856 sum 5.846\n"
     ]
    },
    {
     "name": "stderr",
     "output_type": "stream",
     "text": [
      "\u001b[32m[I 2023-05-12 14:04:52,766]\u001b[0m Trial 882 finished with value: 5.792944472287487 and parameters: {'svd': 0.7000000000000002, 'lfm_cos': -0.19999999999999996, 'nn_bias': 0.20000000000000018, 'catboost': -0.9, 'knn': -0.09999999999999998, 'quality': -0.8, 'volume': 1.0}. Best is trial 360 with value: 5.86264772102292.\u001b[0m\n"
     ]
    },
    {
     "name": "stdout",
     "output_type": "stream",
     "text": [
      "time 2.657 cat_cov 97.0 cov 100.0 nov 1.004 ser 0.21 m1 0.898 m10 0.827 price 2.648 sum 5.793\n"
     ]
    },
    {
     "name": "stderr",
     "output_type": "stream",
     "text": [
      "\u001b[32m[I 2023-05-12 14:04:55,464]\u001b[0m Trial 883 finished with value: 5.808059473055224 and parameters: {'svd': 0.9000000000000001, 'lfm_cos': -0.09999999999999998, 'nn_bias': 0.10000000000000009, 'catboost': -1.0, 'knn': 0.0, 'quality': 0.10000000000000009, 'volume': 0.9000000000000001}. Best is trial 360 with value: 5.86264772102292.\u001b[0m\n"
     ]
    },
    {
     "name": "stdout",
     "output_type": "stream",
     "text": [
      "time 2.651 cat_cov 96.0 cov 100.0 nov 0.963 ser 0.211 m1 0.925 m10 0.85 price 2.698 sum 5.808\n"
     ]
    },
    {
     "name": "stderr",
     "output_type": "stream",
     "text": [
      "\u001b[32m[I 2023-05-12 14:04:58,166]\u001b[0m Trial 884 finished with value: 5.819983407157055 and parameters: {'svd': 0.7000000000000002, 'lfm_cos': 0.0, 'nn_bias': 0.10000000000000009, 'catboost': -0.9, 'knn': -0.3999999999999999, 'quality': 0.30000000000000004, 'volume': 0.9000000000000001}. Best is trial 360 with value: 5.86264772102292.\u001b[0m\n"
     ]
    },
    {
     "name": "stdout",
     "output_type": "stream",
     "text": [
      "time 2.655 cat_cov 95.0 cov 100.0 nov 0.916 ser 0.219 m1 0.915 m10 0.844 price 2.928 sum 5.82\n"
     ]
    },
    {
     "name": "stderr",
     "output_type": "stream",
     "text": [
      "\u001b[32m[I 2023-05-12 14:05:00,874]\u001b[0m Trial 885 finished with value: 5.72716359183833 and parameters: {'svd': 0.8, 'lfm_cos': 0.0, 'nn_bias': -0.7, 'catboost': -1.0, 'knn': -0.09999999999999998, 'quality': 0.10000000000000009, 'volume': 1.0}. Best is trial 360 with value: 5.86264772102292.\u001b[0m\n"
     ]
    },
    {
     "name": "stdout",
     "output_type": "stream",
     "text": [
      "time 2.66 cat_cov 97.0 cov 100.0 nov 0.763 ser 0.225 m1 0.914 m10 0.831 price 3.073 sum 5.727\n"
     ]
    },
    {
     "name": "stderr",
     "output_type": "stream",
     "text": [
      "\u001b[32m[I 2023-05-12 14:05:03,590]\u001b[0m Trial 886 finished with value: 5.794352540924968 and parameters: {'svd': 0.7000000000000002, 'lfm_cos': -0.19999999999999996, 'nn_bias': 0.0, 'catboost': -1.0, 'knn': -0.19999999999999996, 'quality': 0.20000000000000018, 'volume': 1.0}. Best is trial 360 with value: 5.86264772102292.\u001b[0m\n"
     ]
    },
    {
     "name": "stdout",
     "output_type": "stream",
     "text": [
      "time 2.668 cat_cov 95.0 cov 100.0 nov 0.95 ser 0.214 m1 0.904 m10 0.837 price 2.816 sum 5.794\n"
     ]
    },
    {
     "name": "stderr",
     "output_type": "stream",
     "text": [
      "\u001b[32m[I 2023-05-12 14:05:06,268]\u001b[0m Trial 887 finished with value: 5.613019561954787 and parameters: {'svd': 0.7000000000000002, 'lfm_cos': 0.5, 'nn_bias': 0.20000000000000018, 'catboost': -0.9, 'knn': 0.0, 'quality': 0.10000000000000009, 'volume': 0.9000000000000001}. Best is trial 360 with value: 5.86264772102292.\u001b[0m\n"
     ]
    },
    {
     "name": "stdout",
     "output_type": "stream",
     "text": [
      "time 2.629 cat_cov 99.0 cov 100.0 nov 0.737 ser 0.221 m1 0.891 m10 0.799 price 2.925 sum 5.613\n"
     ]
    },
    {
     "name": "stderr",
     "output_type": "stream",
     "text": [
      "\u001b[32m[I 2023-05-12 14:05:08,972]\u001b[0m Trial 888 finished with value: 5.853415026173321 and parameters: {'svd': 0.8, 'lfm_cos': -0.09999999999999998, 'nn_bias': 0.10000000000000009, 'catboost': -1.0, 'knn': -0.09999999999999998, 'quality': 0.10000000000000009, 'volume': 1.0}. Best is trial 360 with value: 5.86264772102292.\u001b[0m\n"
     ]
    },
    {
     "name": "stdout",
     "output_type": "stream",
     "text": [
      "time 2.657 cat_cov 99.0 cov 100.0 nov 0.963 ser 0.213 m1 0.921 m10 0.848 price 2.754 sum 5.853\n"
     ]
    },
    {
     "name": "stderr",
     "output_type": "stream",
     "text": [
      "\u001b[32m[I 2023-05-12 14:05:12,381]\u001b[0m Trial 889 finished with value: 5.706612868845067 and parameters: {'svd': 0.9000000000000001, 'lfm_cos': 0.0, 'nn_bias': -0.29999999999999993, 'catboost': -1.0, 'knn': -0.19999999999999996, 'quality': 0.20000000000000018, 'volume': 0.9000000000000001}. Best is trial 360 with value: 5.86264772102292.\u001b[0m\n"
     ]
    },
    {
     "name": "stdout",
     "output_type": "stream",
     "text": [
      "time 3.361 cat_cov 92.0 cov 100.0 nov 0.767 ser 0.226 m1 0.922 m10 0.842 price 3.09 sum 5.707\n"
     ]
    },
    {
     "name": "stderr",
     "output_type": "stream",
     "text": [
      "\u001b[32m[I 2023-05-12 14:05:15,084]\u001b[0m Trial 890 finished with value: 5.8282588726614515 and parameters: {'svd': 0.9000000000000001, 'lfm_cos': -0.09999999999999998, 'nn_bias': 0.20000000000000018, 'catboost': -0.9, 'knn': -0.09999999999999998, 'quality': 0.20000000000000018, 'volume': 0.9000000000000001}. Best is trial 360 with value: 5.86264772102292.\u001b[0m\n"
     ]
    },
    {
     "name": "stdout",
     "output_type": "stream",
     "text": [
      "time 2.657 cat_cov 100.0 cov 100.0 nov 0.958 ser 0.209 m1 0.92 m10 0.844 price 2.692 sum 5.828\n"
     ]
    },
    {
     "name": "stderr",
     "output_type": "stream",
     "text": [
      "\u001b[32m[I 2023-05-12 14:05:17,791]\u001b[0m Trial 891 finished with value: 5.547318388043859 and parameters: {'svd': 0.8, 'lfm_cos': 0.0, 'nn_bias': 0.7000000000000002, 'catboost': -0.9, 'knn': -0.29999999999999993, 'quality': 0.30000000000000004, 'volume': 1.0}. Best is trial 360 with value: 5.86264772102292.\u001b[0m\n"
     ]
    },
    {
     "name": "stdout",
     "output_type": "stream",
     "text": [
      "time 2.659 cat_cov 98.0 cov 100.0 nov 0.966 ser 0.201 m1 0.782 m10 0.728 price 2.672 sum 5.547\n"
     ]
    },
    {
     "name": "stderr",
     "output_type": "stream",
     "text": [
      "\u001b[32m[I 2023-05-12 14:05:20,489]\u001b[0m Trial 892 finished with value: 5.84783599017399 and parameters: {'svd': 0.8, 'lfm_cos': -0.09999999999999998, 'nn_bias': 0.10000000000000009, 'catboost': -1.0, 'knn': 0.0, 'quality': 0.10000000000000009, 'volume': 0.9000000000000001}. Best is trial 360 with value: 5.86264772102292.\u001b[0m\n"
     ]
    },
    {
     "name": "stdout",
     "output_type": "stream",
     "text": [
      "time 2.652 cat_cov 99.0 cov 100.0 nov 0.978 ser 0.212 m1 0.921 m10 0.848 price 2.699 sum 5.848\n"
     ]
    },
    {
     "name": "stderr",
     "output_type": "stream",
     "text": [
      "\u001b[32m[I 2023-05-12 14:05:23,165]\u001b[0m Trial 893 finished with value: 5.788483823730607 and parameters: {'svd': 0.8, 'lfm_cos': 0.0, 'nn_bias': 0.0, 'catboost': -1.0, 'knn': -0.09999999999999998, 'quality': 0.20000000000000018, 'volume': 1.0}. Best is trial 360 with value: 5.86264772102292.\u001b[0m\n"
     ]
    },
    {
     "name": "stdout",
     "output_type": "stream",
     "text": [
      "time 2.628 cat_cov 94.0 cov 100.0 nov 0.792 ser 0.222 m1 0.927 m10 0.846 price 3.185 sum 5.788\n"
     ]
    },
    {
     "name": "stderr",
     "output_type": "stream",
     "text": [
      "\u001b[32m[I 2023-05-12 14:05:25,886]\u001b[0m Trial 894 finished with value: 5.837790193857028 and parameters: {'svd': 0.9000000000000001, 'lfm_cos': 0.0, 'nn_bias': 0.20000000000000018, 'catboost': -0.9, 'knn': -0.19999999999999996, 'quality': 0.40000000000000013, 'volume': 1.0}. Best is trial 360 with value: 5.86264772102292.\u001b[0m\n"
     ]
    },
    {
     "name": "stdout",
     "output_type": "stream",
     "text": [
      "time 2.675 cat_cov 99.0 cov 100.0 nov 0.931 ser 0.213 m1 0.925 m10 0.847 price 2.796 sum 5.838\n"
     ]
    },
    {
     "name": "stderr",
     "output_type": "stream",
     "text": [
      "\u001b[32m[I 2023-05-12 14:05:28,600]\u001b[0m Trial 895 finished with value: 5.816132498577745 and parameters: {'svd': 0.8, 'lfm_cos': -0.09999999999999998, 'nn_bias': 0.10000000000000009, 'catboost': -0.9, 'knn': 0.0, 'quality': 0.10000000000000009, 'volume': 0.9000000000000001}. Best is trial 360 with value: 5.86264772102292.\u001b[0m\n"
     ]
    },
    {
     "name": "stdout",
     "output_type": "stream",
     "text": [
      "time 2.667 cat_cov 97.0 cov 100.0 nov 0.965 ser 0.21 m1 0.923 m10 0.848 price 2.699 sum 5.816\n"
     ]
    },
    {
     "name": "stderr",
     "output_type": "stream",
     "text": [
      "\u001b[32m[I 2023-05-12 14:05:31,314]\u001b[0m Trial 896 finished with value: 5.80866732258798 and parameters: {'svd': 0.8, 'lfm_cos': 0.0, 'nn_bias': 0.0, 'catboost': -1.0, 'knn': -0.09999999999999998, 'quality': 0.30000000000000004, 'volume': 0.9000000000000001}. Best is trial 360 with value: 5.86264772102292.\u001b[0m\n"
     ]
    },
    {
     "name": "stdout",
     "output_type": "stream",
     "text": [
      "time 2.667 cat_cov 96.0 cov 100.0 nov 0.797 ser 0.221 m1 0.928 m10 0.846 price 3.172 sum 5.809\n"
     ]
    },
    {
     "name": "stderr",
     "output_type": "stream",
     "text": [
      "\u001b[32m[I 2023-05-12 14:05:34,013]\u001b[0m Trial 897 finished with value: 5.8315888426265765 and parameters: {'svd': 0.9000000000000001, 'lfm_cos': 0.0, 'nn_bias': 0.10000000000000009, 'catboost': -1.0, 'knn': -0.19999999999999996, 'quality': 0.20000000000000018, 'volume': 1.0}. Best is trial 360 with value: 5.86264772102292.\u001b[0m\n"
     ]
    },
    {
     "name": "stdout",
     "output_type": "stream",
     "text": [
      "time 2.653 cat_cov 96.0 cov 100.0 nov 0.911 ser 0.217 m1 0.927 m10 0.852 price 2.893 sum 5.832\n"
     ]
    },
    {
     "name": "stderr",
     "output_type": "stream",
     "text": [
      "\u001b[32m[I 2023-05-12 14:05:36,698]\u001b[0m Trial 898 finished with value: 5.791912915018193 and parameters: {'svd': 0.8, 'lfm_cos': -0.09999999999999998, 'nn_bias': 0.20000000000000018, 'catboost': -1.0, 'knn': -0.3999999999999999, 'quality': 0.10000000000000009, 'volume': 0.9000000000000001}. Best is trial 360 with value: 5.86264772102292.\u001b[0m\n"
     ]
    },
    {
     "name": "stdout",
     "output_type": "stream",
     "text": [
      "time 2.638 cat_cov 95.0 cov 100.0 nov 0.965 ser 0.214 m1 0.906 m10 0.835 price 2.763 sum 5.792\n"
     ]
    },
    {
     "name": "stderr",
     "output_type": "stream",
     "text": [
      "\u001b[32m[I 2023-05-12 14:05:39,442]\u001b[0m Trial 899 finished with value: 5.8202659807629145 and parameters: {'svd': 1.0, 'lfm_cos': -0.19999999999999996, 'nn_bias': 0.10000000000000009, 'catboost': -0.9, 'knn': -0.09999999999999998, 'quality': 0.20000000000000018, 'volume': 1.0}. Best is trial 360 with value: 5.86264772102292.\u001b[0m\n"
     ]
    },
    {
     "name": "stdout",
     "output_type": "stream",
     "text": [
      "time 2.698 cat_cov 100.0 cov 100.0 nov 0.944 ser 0.209 m1 0.92 m10 0.845 price 2.707 sum 5.82\n"
     ]
    },
    {
     "name": "stderr",
     "output_type": "stream",
     "text": [
      "\u001b[32m[I 2023-05-12 14:05:42,145]\u001b[0m Trial 900 finished with value: 5.713393364734985 and parameters: {'svd': 0.8, 'lfm_cos': 0.0, 'nn_bias': -0.09999999999999998, 'catboost': -1.0, 'knn': 0.0, 'quality': -1.0, 'volume': 0.9000000000000001}. Best is trial 360 with value: 5.86264772102292.\u001b[0m\n"
     ]
    },
    {
     "name": "stdout",
     "output_type": "stream",
     "text": [
      "time 2.655 cat_cov 98.0 cov 100.0 nov 0.787 ser 0.22 m1 0.926 m10 0.848 price 2.856 sum 5.713\n"
     ]
    },
    {
     "name": "stderr",
     "output_type": "stream",
     "text": [
      "\u001b[32m[I 2023-05-12 14:05:44,878]\u001b[0m Trial 901 finished with value: 5.723669969913184 and parameters: {'svd': 0.8, 'lfm_cos': -0.09999999999999998, 'nn_bias': 0.20000000000000018, 'catboost': -0.09999999999999998, 'knn': -0.09999999999999998, 'quality': 0.30000000000000004, 'volume': 1.0}. Best is trial 360 with value: 5.86264772102292.\u001b[0m\n"
     ]
    },
    {
     "name": "stdout",
     "output_type": "stream",
     "text": [
      "time 2.685 cat_cov 99.0 cov 100.0 nov 0.817 ser 0.195 m1 0.938 m10 0.879 price 2.717 sum 5.724\n"
     ]
    },
    {
     "name": "stderr",
     "output_type": "stream",
     "text": [
      "\u001b[32m[I 2023-05-12 14:05:47,578]\u001b[0m Trial 902 finished with value: 5.826531620731845 and parameters: {'svd': 0.7000000000000002, 'lfm_cos': -0.09999999999999998, 'nn_bias': 0.10000000000000009, 'catboost': -0.9, 'knn': 0.0, 'quality': 0.10000000000000009, 'volume': 0.9000000000000001}. Best is trial 360 with value: 5.86264772102292.\u001b[0m\n"
     ]
    },
    {
     "name": "stdout",
     "output_type": "stream",
     "text": [
      "time 2.651 cat_cov 97.0 cov 100.0 nov 0.981 ser 0.211 m1 0.918 m10 0.846 price 2.699 sum 5.827\n"
     ]
    },
    {
     "name": "stderr",
     "output_type": "stream",
     "text": [
      "\u001b[32m[I 2023-05-12 14:05:50,253]\u001b[0m Trial 903 finished with value: 5.827040189482125 and parameters: {'svd': 0.9000000000000001, 'lfm_cos': 0.0, 'nn_bias': 0.0, 'catboost': -0.9, 'knn': -0.19999999999999996, 'quality': 0.10000000000000009, 'volume': 1.0}. Best is trial 360 with value: 5.86264772102292.\u001b[0m\n"
     ]
    },
    {
     "name": "stdout",
     "output_type": "stream",
     "text": [
      "time 2.63 cat_cov 99.0 cov 100.0 nov 0.778 ser 0.221 m1 0.929 m10 0.847 price 3.188 sum 5.827\n"
     ]
    },
    {
     "name": "stderr",
     "output_type": "stream",
     "text": [
      "\u001b[32m[I 2023-05-12 14:05:52,939]\u001b[0m Trial 904 finished with value: 5.775180785974486 and parameters: {'svd': 0.7000000000000002, 'lfm_cos': -0.29999999999999993, 'nn_bias': 0.20000000000000018, 'catboost': -1.0, 'knn': -0.09999999999999998, 'quality': -0.9, 'volume': 0.9000000000000001}. Best is trial 360 with value: 5.86264772102292.\u001b[0m\n"
     ]
    },
    {
     "name": "stdout",
     "output_type": "stream",
     "text": [
      "time 2.638 cat_cov 97.0 cov 100.0 nov 1.024 ser 0.21 m1 0.884 m10 0.814 price 2.62 sum 5.775\n"
     ]
    },
    {
     "name": "stderr",
     "output_type": "stream",
     "text": [
      "\u001b[32m[I 2023-05-12 14:05:55,628]\u001b[0m Trial 905 finished with value: 5.857168426674068 and parameters: {'svd': 0.7000000000000002, 'lfm_cos': 0.0, 'nn_bias': 0.10000000000000009, 'catboost': -1.0, 'knn': 0.0, 'quality': 0.20000000000000018, 'volume': 1.0}. Best is trial 360 with value: 5.86264772102292.\u001b[0m\n"
     ]
    },
    {
     "name": "stdout",
     "output_type": "stream",
     "text": [
      "time 2.64 cat_cov 98.0 cov 100.0 nov 0.936 ser 0.216 m1 0.924 m10 0.85 price 2.855 sum 5.857\n"
     ]
    },
    {
     "name": "stderr",
     "output_type": "stream",
     "text": [
      "\u001b[32m[I 2023-05-12 14:05:58,351]\u001b[0m Trial 906 finished with value: 5.425890353668239 and parameters: {'svd': 0.8, 'lfm_cos': -0.09999999999999998, 'nn_bias': 0.10000000000000009, 'catboost': 0.30000000000000004, 'knn': -0.09999999999999998, 'quality': 0.20000000000000018, 'volume': -0.7}. Best is trial 360 with value: 5.86264772102292.\u001b[0m\n"
     ]
    },
    {
     "name": "stdout",
     "output_type": "stream",
     "text": [
      "time 2.675 cat_cov 94.0 cov 100.0 nov 0.687 ser 0.177 m1 0.887 m10 0.844 price 2.677 sum 5.426\n"
     ]
    },
    {
     "name": "stderr",
     "output_type": "stream",
     "text": [
      "\u001b[32m[I 2023-05-12 14:06:01,094]\u001b[0m Trial 907 finished with value: 5.412205242294266 and parameters: {'svd': 0.7000000000000002, 'lfm_cos': 0.0, 'nn_bias': 0.20000000000000018, 'catboost': -1.0, 'knn': 0.7000000000000002, 'quality': 0.20000000000000018, 'volume': 0.10000000000000009}. Best is trial 360 with value: 5.86264772102292.\u001b[0m\n"
     ]
    },
    {
     "name": "stdout",
     "output_type": "stream",
     "text": [
      "time 2.696 cat_cov 98.0 cov 100.0 nov 0.935 ser 0.193 m1 0.695 m10 0.769 price 2.522 sum 5.412\n"
     ]
    },
    {
     "name": "stderr",
     "output_type": "stream",
     "text": [
      "\u001b[32m[I 2023-05-12 14:06:03,808]\u001b[0m Trial 908 finished with value: 5.805230023961306 and parameters: {'svd': 0.8, 'lfm_cos': 0.0, 'nn_bias': 0.0, 'catboost': -1.0, 'knn': 0.0, 'quality': 0.30000000000000004, 'volume': 1.0}. Best is trial 360 with value: 5.86264772102292.\u001b[0m\n"
     ]
    },
    {
     "name": "stdout",
     "output_type": "stream",
     "text": [
      "time 2.668 cat_cov 96.0 cov 100.0 nov 0.799 ser 0.219 m1 0.929 m10 0.845 price 3.157 sum 5.805\n"
     ]
    },
    {
     "name": "stderr",
     "output_type": "stream",
     "text": [
      "\u001b[32m[I 2023-05-12 14:06:06,500]\u001b[0m Trial 909 finished with value: 5.835051327144759 and parameters: {'svd': 0.7000000000000002, 'lfm_cos': -0.09999999999999998, 'nn_bias': 0.10000000000000009, 'catboost': -1.0, 'knn': -0.19999999999999996, 'quality': 0.20000000000000018, 'volume': 1.0}. Best is trial 360 with value: 5.86264772102292.\u001b[0m\n"
     ]
    },
    {
     "name": "stdout",
     "output_type": "stream",
     "text": [
      "time 2.644 cat_cov 97.0 cov 100.0 nov 0.963 ser 0.215 m1 0.914 m10 0.843 price 2.787 sum 5.835\n"
     ]
    },
    {
     "name": "stderr",
     "output_type": "stream",
     "text": [
      "\u001b[32m[I 2023-05-12 14:06:09,234]\u001b[0m Trial 910 finished with value: 5.786830740830253 and parameters: {'svd': 0.7000000000000002, 'lfm_cos': -0.19999999999999996, 'nn_bias': 0.20000000000000018, 'catboost': -1.0, 'knn': -0.09999999999999998, 'quality': 0.20000000000000018, 'volume': 1.0}. Best is trial 360 with value: 5.86264772102292.\u001b[0m\n"
     ]
    },
    {
     "name": "stdout",
     "output_type": "stream",
     "text": [
      "time 2.686 cat_cov 96.0 cov 100.0 nov 1.004 ser 0.21 m1 0.897 m10 0.826 price 2.671 sum 5.787\n"
     ]
    },
    {
     "name": "stderr",
     "output_type": "stream",
     "text": [
      "\u001b[32m[I 2023-05-12 14:06:11,951]\u001b[0m Trial 911 finished with value: 5.835895600194776 and parameters: {'svd': 0.8, 'lfm_cos': 0.0, 'nn_bias': 0.10000000000000009, 'catboost': -1.0, 'knn': 0.0, 'quality': 0.30000000000000004, 'volume': 1.0}. Best is trial 360 with value: 5.86264772102292.\u001b[0m\n"
     ]
    },
    {
     "name": "stdout",
     "output_type": "stream",
     "text": [
      "time 2.67 cat_cov 97.0 cov 100.0 nov 0.925 ser 0.214 m1 0.928 m10 0.851 price 2.843 sum 5.836\n"
     ]
    },
    {
     "name": "stderr",
     "output_type": "stream",
     "text": [
      "\u001b[32m[I 2023-05-12 14:06:14,645]\u001b[0m Trial 912 finished with value: 5.787781611422344 and parameters: {'svd': 0.7000000000000002, 'lfm_cos': -0.09999999999999998, 'nn_bias': 0.0, 'catboost': -1.0, 'knn': -0.29999999999999993, 'quality': 0.20000000000000018, 'volume': 1.0}. Best is trial 360 with value: 5.86264772102292.\u001b[0m\n"
     ]
    },
    {
     "name": "stdout",
     "output_type": "stream",
     "text": [
      "time 2.646 cat_cov 93.0 cov 100.0 nov 0.906 ser 0.218 m1 0.912 m10 0.843 price 2.935 sum 5.788\n"
     ]
    },
    {
     "name": "stderr",
     "output_type": "stream",
     "text": [
      "\u001b[32m[I 2023-05-12 14:06:17,361]\u001b[0m Trial 913 finished with value: 5.787803667505639 and parameters: {'svd': 0.9000000000000001, 'lfm_cos': 0.0, 'nn_bias': 0.30000000000000004, 'catboost': -1.0, 'knn': -0.19999999999999996, 'quality': 0.10000000000000009, 'volume': -0.09999999999999998}. Best is trial 360 with value: 5.86264772102292.\u001b[0m\n"
     ]
    },
    {
     "name": "stdout",
     "output_type": "stream",
     "text": [
      "time 2.668 cat_cov 97.0 cov 100.0 nov 0.976 ser 0.211 m1 0.911 m10 0.836 price 2.656 sum 5.788\n"
     ]
    },
    {
     "name": "stderr",
     "output_type": "stream",
     "text": [
      "\u001b[32m[I 2023-05-12 14:06:20,074]\u001b[0m Trial 914 finished with value: 5.805836538400848 and parameters: {'svd': 0.6000000000000001, 'lfm_cos': 0.0, 'nn_bias': 0.10000000000000009, 'catboost': -1.0, 'knn': -0.09999999999999998, 'quality': 0.10000000000000009, 'volume': 1.0}. Best is trial 360 with value: 5.86264772102292.\u001b[0m\n"
     ]
    },
    {
     "name": "stdout",
     "output_type": "stream",
     "text": [
      "time 2.665 cat_cov 92.0 cov 100.0 nov 0.93 ser 0.218 m1 0.921 m10 0.848 price 2.905 sum 5.806\n"
     ]
    },
    {
     "name": "stderr",
     "output_type": "stream",
     "text": [
      "\u001b[32m[I 2023-05-12 14:06:22,801]\u001b[0m Trial 915 finished with value: 5.852345204315604 and parameters: {'svd': 0.8, 'lfm_cos': -0.09999999999999998, 'nn_bias': 0.10000000000000009, 'catboost': -1.0, 'knn': -0.09999999999999998, 'quality': 0.30000000000000004, 'volume': 1.0}. Best is trial 360 with value: 5.86264772102292.\u001b[0m\n"
     ]
    },
    {
     "name": "stdout",
     "output_type": "stream",
     "text": [
      "time 2.679 cat_cov 99.0 cov 100.0 nov 0.962 ser 0.213 m1 0.921 m10 0.847 price 2.759 sum 5.852\n"
     ]
    },
    {
     "name": "stderr",
     "output_type": "stream",
     "text": [
      "\u001b[32m[I 2023-05-12 14:06:25,505]\u001b[0m Trial 916 finished with value: 5.804865535200901 and parameters: {'svd': 0.8, 'lfm_cos': -0.09999999999999998, 'nn_bias': 0.20000000000000018, 'catboost': -1.0, 'knn': 0.0, 'quality': 0.30000000000000004, 'volume': 1.0}. Best is trial 360 with value: 5.86264772102292.\u001b[0m\n"
     ]
    },
    {
     "name": "stdout",
     "output_type": "stream",
     "text": [
      "time 2.655 cat_cov 97.0 cov 100.0 nov 0.98 ser 0.209 m1 0.912 m10 0.84 price 2.681 sum 5.805\n"
     ]
    },
    {
     "name": "stderr",
     "output_type": "stream",
     "text": [
      "\u001b[32m[I 2023-05-12 14:06:28,211]\u001b[0m Trial 917 finished with value: 5.8267410948442 and parameters: {'svd': 0.9000000000000001, 'lfm_cos': 0.0, 'nn_bias': 0.0, 'catboost': -1.0, 'knn': -0.19999999999999996, 'quality': 0.30000000000000004, 'volume': 1.0}. Best is trial 360 with value: 5.86264772102292.\u001b[0m\n"
     ]
    },
    {
     "name": "stdout",
     "output_type": "stream",
     "text": [
      "time 2.658 cat_cov 98.0 cov 100.0 nov 0.791 ser 0.221 m1 0.927 m10 0.846 price 3.181 sum 5.827\n"
     ]
    },
    {
     "name": "stderr",
     "output_type": "stream",
     "text": [
      "\u001b[32m[I 2023-05-12 14:06:30,898]\u001b[0m Trial 918 finished with value: 5.80114164758319 and parameters: {'svd': 0.8, 'lfm_cos': -0.09999999999999998, 'nn_bias': 0.10000000000000009, 'catboost': -1.0, 'knn': -0.09999999999999998, 'quality': 0.40000000000000013, 'volume': 1.0}. Best is trial 360 with value: 5.86264772102292.\u001b[0m\n"
     ]
    },
    {
     "name": "stdout",
     "output_type": "stream",
     "text": [
      "time 2.639 cat_cov 94.0 cov 100.0 nov 0.96 ser 0.213 m1 0.921 m10 0.847 price 2.762 sum 5.801\n"
     ]
    },
    {
     "name": "stderr",
     "output_type": "stream",
     "text": [
      "\u001b[32m[I 2023-05-12 14:06:33,562]\u001b[0m Trial 919 finished with value: 5.796318734615445 and parameters: {'svd': 0.9000000000000001, 'lfm_cos': 0.10000000000000009, 'nn_bias': 0.10000000000000009, 'catboost': -0.9, 'knn': -0.29999999999999993, 'quality': 0.40000000000000013, 'volume': 0.9000000000000001}. Best is trial 360 with value: 5.86264772102292.\u001b[0m\n"
     ]
    },
    {
     "name": "stdout",
     "output_type": "stream",
     "text": [
      "time 2.614 cat_cov 97.0 cov 100.0 nov 0.821 ser 0.223 m1 0.928 m10 0.852 price 3.007 sum 5.796\n"
     ]
    },
    {
     "name": "stderr",
     "output_type": "stream",
     "text": [
      "\u001b[32m[I 2023-05-12 14:06:36,261]\u001b[0m Trial 920 finished with value: 5.80446114585 and parameters: {'svd': 0.8, 'lfm_cos': 0.0, 'nn_bias': 0.20000000000000018, 'catboost': -1.0, 'knn': 0.0, 'quality': 0.40000000000000013, 'volume': 1.0}. Best is trial 360 with value: 5.86264772102292.\u001b[0m\n"
     ]
    },
    {
     "name": "stdout",
     "output_type": "stream",
     "text": [
      "time 2.653 cat_cov 96.0 cov 100.0 nov 0.952 ser 0.211 m1 0.919 m10 0.844 price 2.752 sum 5.804\n"
     ]
    },
    {
     "name": "stderr",
     "output_type": "stream",
     "text": [
      "\u001b[32m[I 2023-05-12 14:06:38,996]\u001b[0m Trial 921 finished with value: 5.1741682233765784 and parameters: {'svd': 0.8, 'lfm_cos': -0.09999999999999998, 'nn_bias': 0.20000000000000018, 'catboost': 0.6000000000000001, 'knn': -0.09999999999999998, 'quality': 0.30000000000000004, 'volume': 0.9000000000000001}. Best is trial 360 with value: 5.86264772102292.\u001b[0m\n"
     ]
    },
    {
     "name": "stdout",
     "output_type": "stream",
     "text": [
      "time 2.687 cat_cov 96.0 cov 100.0 nov 0.617 ser 0.157 m1 0.773 m10 0.765 price 2.707 sum 5.174\n"
     ]
    },
    {
     "name": "stderr",
     "output_type": "stream",
     "text": [
      "\u001b[32m[I 2023-05-12 14:06:41,718]\u001b[0m Trial 922 finished with value: 5.798006766497377 and parameters: {'svd': 0.9000000000000001, 'lfm_cos': -0.19999999999999996, 'nn_bias': 0.10000000000000009, 'catboost': -0.9, 'knn': -0.09999999999999998, 'quality': 0.40000000000000013, 'volume': 1.0}. Best is trial 360 with value: 5.86264772102292.\u001b[0m\n"
     ]
    },
    {
     "name": "stdout",
     "output_type": "stream",
     "text": [
      "time 2.675 cat_cov 97.0 cov 100.0 nov 0.956 ser 0.209 m1 0.917 m10 0.842 price 2.711 sum 5.798\n"
     ]
    },
    {
     "name": "stderr",
     "output_type": "stream",
     "text": [
      "\u001b[32m[I 2023-05-12 14:06:44,340]\u001b[0m Trial 923 finished with value: 4.325177233026044 and parameters: {'svd': -0.19999999999999996, 'lfm_cos': 0.0, 'nn_bias': 0.0, 'catboost': -1.0, 'knn': -0.19999999999999996, 'quality': 0.30000000000000004, 'volume': 0.9000000000000001}. Best is trial 360 with value: 5.86264772102292.\u001b[0m\n"
     ]
    },
    {
     "name": "stdout",
     "output_type": "stream",
     "text": [
      "time 2.574 cat_cov 91.0 cov 100.0 nov 0.897 ser 0.163 m1 0.151 m10 0.281 price 2.769 sum 4.325\n"
     ]
    },
    {
     "name": "stderr",
     "output_type": "stream",
     "text": [
      "\u001b[32m[I 2023-05-12 14:06:47,014]\u001b[0m Trial 924 finished with value: 5.500174300928297 and parameters: {'svd': 0.10000000000000009, 'lfm_cos': 0.0, 'nn_bias': 0.10000000000000009, 'catboost': -0.9, 'knn': 0.0, 'quality': 0.10000000000000009, 'volume': 1.0}. Best is trial 360 with value: 5.86264772102292.\u001b[0m\n"
     ]
    },
    {
     "name": "stdout",
     "output_type": "stream",
     "text": [
      "time 2.625 cat_cov 91.0 cov 100.0 nov 0.941 ser 0.212 m1 0.732 m10 0.712 price 2.978 sum 5.5\n"
     ]
    },
    {
     "name": "stderr",
     "output_type": "stream",
     "text": [
      "\u001b[32m[I 2023-05-12 14:06:49,709]\u001b[0m Trial 925 finished with value: 5.821895440475561 and parameters: {'svd': 1.0, 'lfm_cos': 0.10000000000000009, 'nn_bias': 0.20000000000000018, 'catboost': -1.0, 'knn': -0.09999999999999998, 'quality': 0.40000000000000013, 'volume': 0.9000000000000001}. Best is trial 360 with value: 5.86264772102292.\u001b[0m\n"
     ]
    },
    {
     "name": "stdout",
     "output_type": "stream",
     "text": [
      "time 2.647 cat_cov 99.0 cov 100.0 nov 0.891 ser 0.215 m1 0.931 m10 0.853 price 2.826 sum 5.822\n"
     ]
    },
    {
     "name": "stderr",
     "output_type": "stream",
     "text": [
      "\u001b[32m[I 2023-05-12 14:06:52,434]\u001b[0m Trial 926 finished with value: 5.759768068011733 and parameters: {'svd': 0.9000000000000001, 'lfm_cos': 0.0, 'nn_bias': 0.30000000000000004, 'catboost': -0.9, 'knn': 0.0, 'quality': 0.10000000000000009, 'volume': 1.0}. Best is trial 360 with value: 5.86264772102292.\u001b[0m\n"
     ]
    },
    {
     "name": "stdout",
     "output_type": "stream",
     "text": [
      "time 2.676 cat_cov 96.0 cov 100.0 nov 0.942 ser 0.207 m1 0.914 m10 0.841 price 2.689 sum 5.76\n"
     ]
    },
    {
     "name": "stderr",
     "output_type": "stream",
     "text": [
      "\u001b[32m[I 2023-05-12 14:06:55,147]\u001b[0m Trial 927 finished with value: 5.826381203625696 and parameters: {'svd': 0.8, 'lfm_cos': -0.19999999999999996, 'nn_bias': 0.10000000000000009, 'catboost': -1.0, 'knn': -0.09999999999999998, 'quality': 1.0, 'volume': 0.9000000000000001}. Best is trial 360 with value: 5.86264772102292.\u001b[0m\n"
     ]
    },
    {
     "name": "stdout",
     "output_type": "stream",
     "text": [
      "time 2.665 cat_cov 99.0 cov 100.0 nov 0.971 ser 0.21 m1 0.91 m10 0.838 price 2.721 sum 5.826\n"
     ]
    },
    {
     "name": "stderr",
     "output_type": "stream",
     "text": [
      "\u001b[32m[I 2023-05-12 14:06:57,838]\u001b[0m Trial 928 finished with value: 5.822777883835414 and parameters: {'svd': 0.8, 'lfm_cos': -0.09999999999999998, 'nn_bias': 0.0, 'catboost': -0.9, 'knn': -0.19999999999999996, 'quality': 0.30000000000000004, 'volume': 1.0}. Best is trial 360 with value: 5.86264772102292.\u001b[0m\n"
     ]
    },
    {
     "name": "stdout",
     "output_type": "stream",
     "text": [
      "time 2.641 cat_cov 97.0 cov 100.0 nov 0.892 ser 0.216 m1 0.921 m10 0.847 price 2.93 sum 5.823\n"
     ]
    },
    {
     "name": "stderr",
     "output_type": "stream",
     "text": [
      "\u001b[32m[I 2023-05-12 14:07:00,449]\u001b[0m Trial 929 finished with value: 4.183252416706648 and parameters: {'svd': -0.7, 'lfm_cos': 0.0, 'nn_bias': 0.10000000000000009, 'catboost': -1.0, 'knn': 0.0, 'quality': 0.5, 'volume': 0.9000000000000001}. Best is trial 360 with value: 5.86264772102292.\u001b[0m\n"
     ]
    },
    {
     "name": "stdout",
     "output_type": "stream",
     "text": [
      "time 2.564 cat_cov 87.0 cov 100.0 nov 0.972 ser 0.148 m1 0.099 m10 0.226 price 2.605 sum 4.183\n"
     ]
    },
    {
     "name": "stderr",
     "output_type": "stream",
     "text": [
      "\u001b[32m[I 2023-05-12 14:07:03,100]\u001b[0m Trial 930 finished with value: 3.8530511234217713 and parameters: {'svd': -0.6, 'lfm_cos': -0.09999999999999998, 'nn_bias': -0.09999999999999998, 'catboost': 0.9000000000000001, 'knn': -0.19999999999999996, 'quality': 0.20000000000000018, 'volume': 0.9000000000000001}. Best is trial 360 with value: 5.86264772102292.\u001b[0m\n"
     ]
    },
    {
     "name": "stdout",
     "output_type": "stream",
     "text": [
      "time 2.602 cat_cov 69.0 cov 100.0 nov 0.51 ser 0.079 m1 0.247 m10 0.403 price 2.77 sum 3.853\n"
     ]
    },
    {
     "name": "stderr",
     "output_type": "stream",
     "text": [
      "\u001b[32m[I 2023-05-12 14:07:05,835]\u001b[0m Trial 931 finished with value: 5.821916455883089 and parameters: {'svd': 0.8, 'lfm_cos': 0.0, 'nn_bias': 0.20000000000000018, 'catboost': -1.0, 'knn': -0.09999999999999998, 'quality': 0.10000000000000009, 'volume': 1.0}. Best is trial 360 with value: 5.86264772102292.\u001b[0m\n"
     ]
    },
    {
     "name": "stdout",
     "output_type": "stream",
     "text": [
      "time 2.682 cat_cov 96.0 cov 100.0 nov 0.953 ser 0.214 m1 0.921 m10 0.846 price 2.784 sum 5.822\n"
     ]
    },
    {
     "name": "stderr",
     "output_type": "stream",
     "text": [
      "\u001b[32m[I 2023-05-12 14:07:08,464]\u001b[0m Trial 932 finished with value: 4.410596975584797 and parameters: {'svd': -0.3999999999999999, 'lfm_cos': 0.0, 'nn_bias': 0.0, 'catboost': -0.9, 'knn': 0.0, 'quality': 0.7000000000000002, 'volume': 0.9000000000000001}. Best is trial 360 with value: 5.86264772102292.\u001b[0m\n"
     ]
    },
    {
     "name": "stdout",
     "output_type": "stream",
     "text": [
      "time 2.579 cat_cov 94.0 cov 100.0 nov 0.964 ser 0.154 m1 0.179 m10 0.291 price 2.647 sum 4.411\n"
     ]
    },
    {
     "name": "stderr",
     "output_type": "stream",
     "text": [
      "\u001b[32m[I 2023-05-12 14:07:11,877]\u001b[0m Trial 933 finished with value: 5.823415026173321 and parameters: {'svd': 0.8, 'lfm_cos': -0.09999999999999998, 'nn_bias': 0.10000000000000009, 'catboost': -1.0, 'knn': -0.09999999999999998, 'quality': 0.10000000000000009, 'volume': 1.0}. Best is trial 360 with value: 5.86264772102292.\u001b[0m\n"
     ]
    },
    {
     "name": "stdout",
     "output_type": "stream",
     "text": [
      "time 3.365 cat_cov 96.0 cov 100.0 nov 0.963 ser 0.213 m1 0.921 m10 0.848 price 2.754 sum 5.823\n"
     ]
    },
    {
     "name": "stderr",
     "output_type": "stream",
     "text": [
      "\u001b[32m[I 2023-05-12 14:07:14,568]\u001b[0m Trial 934 finished with value: 5.8429516699204225 and parameters: {'svd': 0.7000000000000002, 'lfm_cos': 0.0, 'nn_bias': 0.20000000000000018, 'catboost': -0.9, 'knn': -0.19999999999999996, 'quality': 0.20000000000000018, 'volume': 1.0}. Best is trial 360 with value: 5.86264772102292.\u001b[0m\n"
     ]
    },
    {
     "name": "stdout",
     "output_type": "stream",
     "text": [
      "time 2.644 cat_cov 98.0 cov 100.0 nov 0.948 ser 0.215 m1 0.917 m10 0.842 price 2.824 sum 5.843\n"
     ]
    },
    {
     "name": "stderr",
     "output_type": "stream",
     "text": [
      "\u001b[32m[I 2023-05-12 14:07:17,273]\u001b[0m Trial 935 finished with value: 5.69969971033213 and parameters: {'svd': 0.8, 'lfm_cos': -0.09999999999999998, 'nn_bias': 0.10000000000000009, 'catboost': 0.0, 'knn': -0.09999999999999998, 'quality': 0.30000000000000004, 'volume': 0.8}. Best is trial 360 with value: 5.86264772102292.\u001b[0m\n"
     ]
    },
    {
     "name": "stdout",
     "output_type": "stream",
     "text": [
      "time 2.657 cat_cov 98.0 cov 100.0 nov 0.77 ser 0.194 m1 0.95 m10 0.884 price 2.765 sum 5.7\n"
     ]
    },
    {
     "name": "stderr",
     "output_type": "stream",
     "text": [
      "\u001b[32m[I 2023-05-12 14:07:19,998]\u001b[0m Trial 936 finished with value: 5.798443124336741 and parameters: {'svd': 0.9000000000000001, 'lfm_cos': 0.10000000000000009, 'nn_bias': 0.20000000000000018, 'catboost': -1.0, 'knn': 0.0, 'quality': 0.20000000000000018, 'volume': 0.9000000000000001}. Best is trial 360 with value: 5.86264772102292.\u001b[0m\n"
     ]
    },
    {
     "name": "stdout",
     "output_type": "stream",
     "text": [
      "time 2.667 cat_cov 97.0 cov 100.0 nov 0.904 ser 0.215 m1 0.927 m10 0.851 price 2.796 sum 5.798\n"
     ]
    },
    {
     "name": "stderr",
     "output_type": "stream",
     "text": [
      "\u001b[32m[I 2023-05-12 14:07:22,706]\u001b[0m Trial 937 finished with value: 5.775348774613323 and parameters: {'svd': 0.6000000000000001, 'lfm_cos': -0.09999999999999998, 'nn_bias': 0.10000000000000009, 'catboost': -0.9, 'knn': -0.29999999999999993, 'quality': 0.30000000000000004, 'volume': 1.0}. Best is trial 360 with value: 5.86264772102292.\u001b[0m\n"
     ]
    },
    {
     "name": "stdout",
     "output_type": "stream",
     "text": [
      "time 2.66 cat_cov 92.0 cov 100.0 nov 0.958 ser 0.216 m1 0.907 m10 0.837 price 2.816 sum 5.775\n"
     ]
    },
    {
     "name": "stderr",
     "output_type": "stream",
     "text": [
      "\u001b[32m[I 2023-05-12 14:07:25,432]\u001b[0m Trial 938 finished with value: 5.781989604837318 and parameters: {'svd': 1.0, 'lfm_cos': 0.10000000000000009, 'nn_bias': 0.30000000000000004, 'catboost': -1.0, 'knn': -0.09999999999999998, 'quality': 0.10000000000000009, 'volume': 0.9000000000000001}. Best is trial 360 with value: 5.86264772102292.\u001b[0m\n"
     ]
    },
    {
     "name": "stdout",
     "output_type": "stream",
     "text": [
      "time 2.678 cat_cov 96.0 cov 100.0 nov 0.922 ser 0.212 m1 0.925 m10 0.848 price 2.747 sum 5.782\n"
     ]
    },
    {
     "name": "stderr",
     "output_type": "stream",
     "text": [
      "\u001b[32m[I 2023-05-12 14:07:28,135]\u001b[0m Trial 939 finished with value: 5.804007425001396 and parameters: {'svd': 0.7000000000000002, 'lfm_cos': 0.0, 'nn_bias': 0.0, 'catboost': -1.0, 'knn': -0.19999999999999996, 'quality': 0.20000000000000018, 'volume': 0.8}. Best is trial 360 with value: 5.86264772102292.\u001b[0m\n"
     ]
    },
    {
     "name": "stdout",
     "output_type": "stream",
     "text": [
      "time 2.654 cat_cov 95.0 cov 100.0 nov 0.8 ser 0.223 m1 0.922 m10 0.845 price 3.193 sum 5.804\n"
     ]
    },
    {
     "name": "stderr",
     "output_type": "stream",
     "text": [
      "\u001b[32m[I 2023-05-12 14:07:30,863]\u001b[0m Trial 940 finished with value: 5.776848198967137 and parameters: {'svd': 0.6000000000000001, 'lfm_cos': -0.19999999999999996, 'nn_bias': 0.10000000000000009, 'catboost': -0.9, 'knn': 0.0, 'quality': 0.10000000000000009, 'volume': 1.0}. Best is trial 360 with value: 5.86264772102292.\u001b[0m\n"
     ]
    },
    {
     "name": "stdout",
     "output_type": "stream",
     "text": [
      "time 2.679 cat_cov 94.0 cov 100.0 nov 1.006 ser 0.21 m1 0.899 m10 0.832 price 2.671 sum 5.777\n"
     ]
    },
    {
     "name": "stderr",
     "output_type": "stream",
     "text": [
      "\u001b[32m[I 2023-05-12 14:07:33,550]\u001b[0m Trial 941 finished with value: 5.698290151598569 and parameters: {'svd': 0.30000000000000004, 'lfm_cos': 0.0, 'nn_bias': 0.20000000000000018, 'catboost': -1.0, 'knn': -0.09999999999999998, 'quality': 0.0, 'volume': 0.9000000000000001}. Best is trial 360 with value: 5.86264772102292.\u001b[0m\n"
     ]
    },
    {
     "name": "stdout",
     "output_type": "stream",
     "text": [
      "time 2.636 cat_cov 92.0 cov 100.0 nov 0.981 ser 0.214 m1 0.854 m10 0.791 price 2.814 sum 5.698\n"
     ]
    },
    {
     "name": "stderr",
     "output_type": "stream",
     "text": [
      "\u001b[32m[I 2023-05-12 14:07:36,282]\u001b[0m Trial 942 finished with value: 5.843561329953571 and parameters: {'svd': 0.8, 'lfm_cos': -0.09999999999999998, 'nn_bias': 0.10000000000000009, 'catboost': -1.0, 'knn': -0.09999999999999998, 'quality': 0.20000000000000018, 'volume': 1.0}. Best is trial 360 with value: 5.86264772102292.\u001b[0m\n"
     ]
    },
    {
     "name": "stdout",
     "output_type": "stream",
     "text": [
      "time 2.684 cat_cov 98.0 cov 100.0 nov 0.963 ser 0.213 m1 0.921 m10 0.847 price 2.756 sum 5.844\n"
     ]
    },
    {
     "name": "stderr",
     "output_type": "stream",
     "text": [
      "\u001b[32m[I 2023-05-12 14:07:39,027]\u001b[0m Trial 943 finished with value: 5.7709721584196405 and parameters: {'svd': 0.7000000000000002, 'lfm_cos': 0.0, 'nn_bias': 0.0, 'catboost': -0.9, 'knn': 0.0, 'quality': 0.10000000000000009, 'volume': -0.29999999999999993}. Best is trial 360 with value: 5.86264772102292.\u001b[0m\n"
     ]
    },
    {
     "name": "stdout",
     "output_type": "stream",
     "text": [
      "time 2.685 cat_cov 96.0 cov 100.0 nov 1.005 ser 0.215 m1 0.927 m10 0.856 price 2.424 sum 5.771\n"
     ]
    },
    {
     "name": "stderr",
     "output_type": "stream",
     "text": [
      "\u001b[32m[I 2023-05-12 14:07:41,739]\u001b[0m Trial 944 finished with value: 5.802388396384777 and parameters: {'svd': 0.8, 'lfm_cos': 0.10000000000000009, 'nn_bias': 0.10000000000000009, 'catboost': -0.9, 'knn': -0.09999999999999998, 'quality': 0.30000000000000004, 'volume': 0.9000000000000001}. Best is trial 360 with value: 5.86264772102292.\u001b[0m\n"
     ]
    },
    {
     "name": "stdout",
     "output_type": "stream",
     "text": [
      "time 2.664 cat_cov 98.0 cov 100.0 nov 0.823 ser 0.222 m1 0.931 m10 0.852 price 2.983 sum 5.802\n"
     ]
    },
    {
     "name": "stderr",
     "output_type": "stream",
     "text": [
      "\u001b[32m[I 2023-05-12 14:07:44,435]\u001b[0m Trial 945 finished with value: 5.800592954886264 and parameters: {'svd': 0.6000000000000001, 'lfm_cos': -0.09999999999999998, 'nn_bias': 0.20000000000000018, 'catboost': -1.0, 'knn': -0.19999999999999996, 'quality': 0.40000000000000013, 'volume': 0.8}. Best is trial 360 with value: 5.86264772102292.\u001b[0m\n"
     ]
    },
    {
     "name": "stdout",
     "output_type": "stream",
     "text": [
      "time 2.647 cat_cov 96.0 cov 100.0 nov 0.989 ser 0.213 m1 0.9 m10 0.828 price 2.733 sum 5.801\n"
     ]
    },
    {
     "name": "stderr",
     "output_type": "stream",
     "text": [
      "\u001b[32m[I 2023-05-12 14:07:47,160]\u001b[0m Trial 946 finished with value: 5.332387377891553 and parameters: {'svd': 0.7000000000000002, 'lfm_cos': 0.0, 'nn_bias': 0.10000000000000009, 'catboost': 0.40000000000000013, 'knn': 0.0, 'quality': -0.8, 'volume': 0.9000000000000001}. Best is trial 360 with value: 5.86264772102292.\u001b[0m\n"
     ]
    },
    {
     "name": "stdout",
     "output_type": "stream",
     "text": [
      "time 2.676 cat_cov 97.0 cov 100.0 nov 0.649 ser 0.169 m1 0.83 m10 0.812 price 2.707 sum 5.332\n"
     ]
    },
    {
     "name": "stderr",
     "output_type": "stream",
     "text": [
      "\u001b[32m[I 2023-05-12 14:07:49,865]\u001b[0m Trial 947 finished with value: 5.808026426864453 and parameters: {'svd': 0.7000000000000002, 'lfm_cos': -0.19999999999999996, 'nn_bias': 0.0, 'catboost': -1.0, 'knn': -0.09999999999999998, 'quality': 0.20000000000000018, 'volume': 1.0}. Best is trial 360 with value: 5.86264772102292.\u001b[0m\n"
     ]
    },
    {
     "name": "stdout",
     "output_type": "stream",
     "text": [
      "time 2.657 cat_cov 96.0 cov 100.0 nov 0.956 ser 0.213 m1 0.907 m10 0.838 price 2.801 sum 5.808\n"
     ]
    },
    {
     "name": "stderr",
     "output_type": "stream",
     "text": [
      "\u001b[32m[I 2023-05-12 14:07:52,573]\u001b[0m Trial 948 finished with value: 5.827623998352266 and parameters: {'svd': 0.9000000000000001, 'lfm_cos': 0.0, 'nn_bias': 0.20000000000000018, 'catboost': -0.9, 'knn': -0.29999999999999993, 'quality': 0.10000000000000009, 'volume': 0.9000000000000001}. Best is trial 360 with value: 5.86264772102292.\u001b[0m\n"
     ]
    },
    {
     "name": "stdout",
     "output_type": "stream",
     "text": [
      "time 2.657 cat_cov 97.0 cov 100.0 nov 0.939 ser 0.215 m1 0.922 m10 0.847 price 2.806 sum 5.828\n"
     ]
    },
    {
     "name": "stderr",
     "output_type": "stream",
     "text": [
      "\u001b[32m[I 2023-05-12 14:07:55,290]\u001b[0m Trial 949 finished with value: 5.818987817433553 and parameters: {'svd': 0.7000000000000002, 'lfm_cos': -0.09999999999999998, 'nn_bias': 0.10000000000000009, 'catboost': -1.0, 'knn': 0.0, 'quality': -1.0, 'volume': 0.30000000000000004}. Best is trial 360 with value: 5.86264772102292.\u001b[0m\n"
     ]
    },
    {
     "name": "stdout",
     "output_type": "stream",
     "text": [
      "time 2.668 cat_cov 98.0 cov 100.0 nov 1.005 ser 0.212 m1 0.913 m10 0.846 price 2.585 sum 5.819\n"
     ]
    },
    {
     "name": "stderr",
     "output_type": "stream",
     "text": [
      "\u001b[32m[I 2023-05-12 14:07:57,994]\u001b[0m Trial 950 finished with value: 5.839479558239954 and parameters: {'svd': 0.8, 'lfm_cos': 0.0, 'nn_bias': 0.10000000000000009, 'catboost': -1.0, 'knn': -0.19999999999999996, 'quality': 0.0, 'volume': 1.0}. Best is trial 360 with value: 5.86264772102292.\u001b[0m\n"
     ]
    },
    {
     "name": "stdout",
     "output_type": "stream",
     "text": [
      "time 2.655 cat_cov 96.0 cov 100.0 nov 0.927 ser 0.218 m1 0.925 m10 0.852 price 2.876 sum 5.839\n"
     ]
    },
    {
     "name": "stderr",
     "output_type": "stream",
     "text": [
      "\u001b[32m[I 2023-05-12 14:08:00,690]\u001b[0m Trial 951 finished with value: 5.795766657115399 and parameters: {'svd': 0.6000000000000001, 'lfm_cos': -0.09999999999999998, 'nn_bias': 0.20000000000000018, 'catboost': -0.9, 'knn': -0.09999999999999998, 'quality': 0.0, 'volume': 0.8}. Best is trial 360 with value: 5.86264772102292.\u001b[0m\n"
     ]
    },
    {
     "name": "stdout",
     "output_type": "stream",
     "text": [
      "time 2.647 cat_cov 96.0 cov 100.0 nov 0.997 ser 0.211 m1 0.901 m10 0.83 price 2.688 sum 5.796\n"
     ]
    },
    {
     "name": "stderr",
     "output_type": "stream",
     "text": [
      "\u001b[32m[I 2023-05-12 14:08:03,371]\u001b[0m Trial 952 finished with value: 5.768801586362165 and parameters: {'svd': 0.8, 'lfm_cos': 0.10000000000000009, 'nn_bias': 0.0, 'catboost': -0.9, 'knn': -0.09999999999999998, 'quality': 0.10000000000000009, 'volume': 1.0}. Best is trial 360 with value: 5.86264772102292.\u001b[0m\n"
     ]
    },
    {
     "name": "stdout",
     "output_type": "stream",
     "text": [
      "time 2.633 cat_cov 99.0 cov 100.0 nov 0.761 ser 0.226 m1 0.933 m10 0.85 price 3.029 sum 5.769\n"
     ]
    },
    {
     "name": "stderr",
     "output_type": "stream",
     "text": [
      "\u001b[32m[I 2023-05-12 14:08:06,067]\u001b[0m Trial 953 finished with value: 5.7996389667394395 and parameters: {'svd': 0.7000000000000002, 'lfm_cos': 0.0, 'nn_bias': 0.10000000000000009, 'catboost': -1.0, 'knn': -0.19999999999999996, 'quality': 0.20000000000000018, 'volume': 0.9000000000000001}. Best is trial 360 with value: 5.86264772102292.\u001b[0m\n"
     ]
    },
    {
     "name": "stdout",
     "output_type": "stream",
     "text": [
      "time 2.646 cat_cov 92.0 cov 100.0 nov 0.927 ser 0.218 m1 0.921 m10 0.848 price 2.896 sum 5.8\n"
     ]
    },
    {
     "name": "stderr",
     "output_type": "stream",
     "text": [
      "\u001b[32m[I 2023-05-12 14:08:08,803]\u001b[0m Trial 954 finished with value: 5.550047229596839 and parameters: {'svd': 0.6000000000000001, 'lfm_cos': -0.09999999999999998, 'nn_bias': 0.5, 'catboost': -1.0, 'knn': 0.0, 'quality': 0.30000000000000004, 'volume': 0.9000000000000001}. Best is trial 360 with value: 5.86264772102292.\u001b[0m\n"
     ]
    },
    {
     "name": "stdout",
     "output_type": "stream",
     "text": [
      "time 2.687 cat_cov 98.0 cov 100.0 nov 1.006 ser 0.202 m1 0.764 m10 0.723 price 2.627 sum 5.55\n"
     ]
    },
    {
     "name": "stderr",
     "output_type": "stream",
     "text": [
      "\u001b[32m[I 2023-05-12 14:08:11,507]\u001b[0m Trial 955 finished with value: 5.776927734007845 and parameters: {'svd': 0.7000000000000002, 'lfm_cos': -0.29999999999999993, 'nn_bias': 0.20000000000000018, 'catboost': -0.9, 'knn': -0.09999999999999998, 'quality': 0.20000000000000018, 'volume': 0.8}. Best is trial 360 with value: 5.86264772102292.\u001b[0m\n"
     ]
    },
    {
     "name": "stdout",
     "output_type": "stream",
     "text": [
      "time 2.654 cat_cov 98.0 cov 100.0 nov 1.011 ser 0.207 m1 0.886 m10 0.814 price 2.637 sum 5.777\n"
     ]
    },
    {
     "name": "stderr",
     "output_type": "stream",
     "text": [
      "\u001b[32m[I 2023-05-12 14:08:14,211]\u001b[0m Trial 956 finished with value: 5.774222174073988 and parameters: {'svd': 0.8, 'lfm_cos': 0.10000000000000009, 'nn_bias': 0.10000000000000009, 'catboost': -1.0, 'knn': -0.09999999999999998, 'quality': 0.0, 'volume': 1.0}. Best is trial 360 with value: 5.86264772102292.\u001b[0m\n"
     ]
    },
    {
     "name": "stdout",
     "output_type": "stream",
     "text": [
      "time 2.655 cat_cov 96.0 cov 100.0 nov 0.827 ser 0.223 m1 0.93 m10 0.852 price 2.949 sum 5.774\n"
     ]
    },
    {
     "name": "stderr",
     "output_type": "stream",
     "text": [
      "\u001b[32m[I 2023-05-12 14:08:16,884]\u001b[0m Trial 957 finished with value: 5.751216194718632 and parameters: {'svd': 0.6000000000000001, 'lfm_cos': 0.0, 'nn_bias': -0.19999999999999996, 'catboost': -0.9, 'knn': 0.0, 'quality': 0.10000000000000009, 'volume': 1.0}. Best is trial 360 with value: 5.86264772102292.\u001b[0m\n"
     ]
    },
    {
     "name": "stdout",
     "output_type": "stream",
     "text": [
      "time 2.624 cat_cov 94.0 cov 100.0 nov 0.789 ser 0.225 m1 0.923 m10 0.843 price 3.093 sum 5.751\n"
     ]
    },
    {
     "name": "stderr",
     "output_type": "stream",
     "text": [
      "\u001b[32m[I 2023-05-12 14:08:19,592]\u001b[0m Trial 958 finished with value: 5.783607151028797 and parameters: {'svd': 0.7000000000000002, 'lfm_cos': -0.09999999999999998, 'nn_bias': 0.30000000000000004, 'catboost': -1.0, 'knn': -0.19999999999999996, 'quality': 0.20000000000000018, 'volume': 0.9000000000000001}. Best is trial 360 with value: 5.86264772102292.\u001b[0m\n"
     ]
    },
    {
     "name": "stdout",
     "output_type": "stream",
     "text": [
      "time 2.66 cat_cov 97.0 cov 100.0 nov 0.99 ser 0.21 m1 0.892 m10 0.821 price 2.703 sum 5.784\n"
     ]
    },
    {
     "name": "stderr",
     "output_type": "stream",
     "text": [
      "\u001b[32m[I 2023-05-12 14:08:22,278]\u001b[0m Trial 959 finished with value: 5.736939188954739 and parameters: {'svd': 0.9000000000000001, 'lfm_cos': 0.20000000000000018, 'nn_bias': 0.0, 'catboost': -0.9, 'knn': 0.0, 'quality': 0.0, 'volume': 0.8}. Best is trial 360 with value: 5.86264772102292.\u001b[0m\n"
     ]
    },
    {
     "name": "stdout",
     "output_type": "stream",
     "text": [
      "time 2.636 cat_cov 100.0 cov 100.0 nov 0.747 ser 0.222 m1 0.937 m10 0.851 price 2.939 sum 5.737\n"
     ]
    },
    {
     "name": "stderr",
     "output_type": "stream",
     "text": [
      "\u001b[32m[I 2023-05-12 14:08:24,985]\u001b[0m Trial 960 finished with value: 5.862353549523497 and parameters: {'svd': 0.7000000000000002, 'lfm_cos': 0.0, 'nn_bias': 0.10000000000000009, 'catboost': -1.0, 'knn': -0.09999999999999998, 'quality': 0.10000000000000009, 'volume': 1.0}. Best is trial 360 with value: 5.86264772102292.\u001b[0m\n"
     ]
    },
    {
     "name": "stdout",
     "output_type": "stream",
     "text": [
      "time 2.656 cat_cov 98.0 cov 100.0 nov 0.925 ser 0.218 m1 0.924 m10 0.85 price 2.895 sum 5.862\n"
     ]
    },
    {
     "name": "stderr",
     "output_type": "stream",
     "text": [
      "\u001b[32m[I 2023-05-12 14:08:27,717]\u001b[0m Trial 961 finished with value: 5.779512333612073 and parameters: {'svd': 0.6000000000000001, 'lfm_cos': 0.10000000000000009, 'nn_bias': 0.20000000000000018, 'catboost': -0.29999999999999993, 'knn': -0.19999999999999996, 'quality': 0.10000000000000009, 'volume': 0.9000000000000001}. Best is trial 360 with value: 5.86264772102292.\u001b[0m\n"
     ]
    },
    {
     "name": "stdout",
     "output_type": "stream",
     "text": [
      "time 2.684 cat_cov 99.0 cov 100.0 nov 0.85 ser 0.209 m1 0.93 m10 0.86 price 2.823 sum 5.78\n"
     ]
    },
    {
     "name": "stderr",
     "output_type": "stream",
     "text": [
      "\u001b[32m[I 2023-05-12 14:08:30,424]\u001b[0m Trial 962 finished with value: 5.710421214376382 and parameters: {'svd': 0.8, 'lfm_cos': 0.10000000000000009, 'nn_bias': 0.10000000000000009, 'catboost': -1.0, 'knn': -0.3999999999999999, 'quality': 0.0, 'volume': 1.0}. Best is trial 360 with value: 5.86264772102292.\u001b[0m\n"
     ]
    },
    {
     "name": "stdout",
     "output_type": "stream",
     "text": [
      "time 2.657 cat_cov 90.0 cov 100.0 nov 0.825 ser 0.224 m1 0.921 m10 0.849 price 2.974 sum 5.71\n"
     ]
    },
    {
     "name": "stderr",
     "output_type": "stream",
     "text": [
      "\u001b[32m[I 2023-05-12 14:08:33,123]\u001b[0m Trial 963 finished with value: 5.795139844595001 and parameters: {'svd': 0.7000000000000002, 'lfm_cos': 0.0, 'nn_bias': 0.20000000000000018, 'catboost': -1.0, 'knn': -0.09999999999999998, 'quality': 0.10000000000000009, 'volume': 0.8}. Best is trial 360 with value: 5.86264772102292.\u001b[0m\n"
     ]
    },
    {
     "name": "stdout",
     "output_type": "stream",
     "text": [
      "time 2.649 cat_cov 93.0 cov 100.0 nov 0.967 ser 0.214 m1 0.917 m10 0.842 price 2.774 sum 5.795\n"
     ]
    },
    {
     "name": "stderr",
     "output_type": "stream",
     "text": [
      "\u001b[32m[I 2023-05-12 14:08:35,818]\u001b[0m Trial 964 finished with value: 5.818209461789783 and parameters: {'svd': 0.6000000000000001, 'lfm_cos': 0.0, 'nn_bias': 0.0, 'catboost': -0.9, 'knn': 0.0, 'quality': 0.0, 'volume': 0.9000000000000001}. Best is trial 360 with value: 5.86264772102292.\u001b[0m\n"
     ]
    },
    {
     "name": "stdout",
     "output_type": "stream",
     "text": [
      "time 2.645 cat_cov 98.0 cov 100.0 nov 0.782 ser 0.223 m1 0.926 m10 0.845 price 3.189 sum 5.818\n"
     ]
    },
    {
     "name": "stderr",
     "output_type": "stream",
     "text": [
      "\u001b[32m[I 2023-05-12 14:08:38,539]\u001b[0m Trial 965 finished with value: 5.807109782655142 and parameters: {'svd': 0.7000000000000002, 'lfm_cos': 0.10000000000000009, 'nn_bias': 0.10000000000000009, 'catboost': -1.0, 'knn': -0.09999999999999998, 'quality': 0.10000000000000009, 'volume': 1.0}. Best is trial 360 with value: 5.86264772102292.\u001b[0m\n"
     ]
    },
    {
     "name": "stdout",
     "output_type": "stream",
     "text": [
      "time 2.671 cat_cov 98.0 cov 100.0 nov 0.826 ser 0.224 m1 0.928 m10 0.851 price 2.996 sum 5.807\n"
     ]
    },
    {
     "name": "stderr",
     "output_type": "stream",
     "text": [
      "\u001b[32m[I 2023-05-12 14:08:41,272]\u001b[0m Trial 966 finished with value: 5.810451818591185 and parameters: {'svd': 0.8, 'lfm_cos': 0.0, 'nn_bias': 0.10000000000000009, 'catboost': -0.9, 'knn': 0.10000000000000009, 'quality': 0.10000000000000009, 'volume': 0.8}. Best is trial 360 with value: 5.86264772102292.\u001b[0m\n"
     ]
    },
    {
     "name": "stdout",
     "output_type": "stream",
     "text": [
      "time 2.676 cat_cov 98.0 cov 100.0 nov 0.935 ser 0.211 m1 0.925 m10 0.849 price 2.736 sum 5.81\n"
     ]
    },
    {
     "name": "stderr",
     "output_type": "stream",
     "text": [
      "\u001b[32m[I 2023-05-12 14:08:43,982]\u001b[0m Trial 967 finished with value: 5.828293172334744 and parameters: {'svd': 0.7000000000000002, 'lfm_cos': 0.0, 'nn_bias': 0.20000000000000018, 'catboost': -0.8, 'knn': -0.29999999999999993, 'quality': 0.0, 'volume': 0.9000000000000001}. Best is trial 360 with value: 5.86264772102292.\u001b[0m\n"
     ]
    },
    {
     "name": "stdout",
     "output_type": "stream",
     "text": [
      "time 2.66 cat_cov 97.0 cov 100.0 nov 0.948 ser 0.216 m1 0.914 m10 0.841 price 2.82 sum 5.828\n"
     ]
    },
    {
     "name": "stderr",
     "output_type": "stream",
     "text": [
      "\u001b[32m[I 2023-05-12 14:08:46,681]\u001b[0m Trial 968 finished with value: 5.7477511733694895 and parameters: {'svd': 0.8, 'lfm_cos': 0.10000000000000009, 'nn_bias': 0.0, 'catboost': -1.0, 'knn': 0.0, 'quality': 0.0, 'volume': 1.0}. Best is trial 360 with value: 5.86264772102292.\u001b[0m\n"
     ]
    },
    {
     "name": "stdout",
     "output_type": "stream",
     "text": [
      "time 2.65 cat_cov 98.0 cov 100.0 nov 0.765 ser 0.225 m1 0.932 m10 0.848 price 2.994 sum 5.748\n"
     ]
    },
    {
     "name": "stderr",
     "output_type": "stream",
     "text": [
      "\u001b[32m[I 2023-05-12 14:08:49,375]\u001b[0m Trial 969 finished with value: 5.7519771000659174 and parameters: {'svd': 0.6000000000000001, 'lfm_cos': 0.0, 'nn_bias': -0.09999999999999998, 'catboost': -0.9, 'knn': -0.09999999999999998, 'quality': 0.10000000000000009, 'volume': 0.9000000000000001}. Best is trial 360 with value: 5.86264772102292.\u001b[0m\n"
     ]
    },
    {
     "name": "stdout",
     "output_type": "stream",
     "text": [
      "time 2.643 cat_cov 94.0 cov 100.0 nov 0.777 ser 0.226 m1 0.924 m10 0.844 price 3.122 sum 5.752\n"
     ]
    },
    {
     "name": "stderr",
     "output_type": "stream",
     "text": [
      "\u001b[32m[I 2023-05-12 14:08:52,097]\u001b[0m Trial 970 finished with value: 5.669691861063808 and parameters: {'svd': 0.7000000000000002, 'lfm_cos': 0.0, 'nn_bias': 0.40000000000000013, 'catboost': -0.19999999999999996, 'knn': -0.19999999999999996, 'quality': 0.0, 'volume': 0.9000000000000001}. Best is trial 360 with value: 5.86264772102292.\u001b[0m\n"
     ]
    },
    {
     "name": "stdout",
     "output_type": "stream",
     "text": [
      "time 2.673 cat_cov 98.0 cov 100.0 nov 0.875 ser 0.195 m1 0.892 m10 0.839 price 2.668 sum 5.67\n"
     ]
    },
    {
     "name": "stderr",
     "output_type": "stream",
     "text": [
      "\u001b[32m[I 2023-05-12 14:08:54,805]\u001b[0m Trial 971 finished with value: 5.266211770483828 and parameters: {'svd': 0.8, 'lfm_cos': -1.0, 'nn_bias': 0.10000000000000009, 'catboost': -1.0, 'knn': 0.9000000000000001, 'quality': 0.10000000000000009, 'volume': 1.0}. Best is trial 360 with value: 5.86264772102292.\u001b[0m\n"
     ]
    },
    {
     "name": "stdout",
     "output_type": "stream",
     "text": [
      "time 2.658 cat_cov 97.0 cov 100.0 nov 0.959 ser 0.181 m1 0.618 m10 0.705 price 2.502 sum 5.266\n"
     ]
    },
    {
     "name": "stderr",
     "output_type": "stream",
     "text": [
      "\u001b[32m[I 2023-05-12 14:08:57,528]\u001b[0m Trial 972 finished with value: 5.784605808975208 and parameters: {'svd': 0.6000000000000001, 'lfm_cos': 0.10000000000000009, 'nn_bias': 0.10000000000000009, 'catboost': -0.8, 'knn': -0.09999999999999998, 'quality': 0.0, 'volume': 0.8}. Best is trial 360 with value: 5.86264772102292.\u001b[0m\n"
     ]
    },
    {
     "name": "stdout",
     "output_type": "stream",
     "text": [
      "time 2.672 cat_cov 97.0 cov 100.0 nov 0.829 ser 0.223 m1 0.928 m10 0.852 price 2.948 sum 5.785\n"
     ]
    },
    {
     "name": "stderr",
     "output_type": "stream",
     "text": [
      "\u001b[32m[I 2023-05-12 14:09:00,274]\u001b[0m Trial 973 finished with value: 4.6564848690279295 and parameters: {'svd': 0.7000000000000002, 'lfm_cos': 0.0, 'nn_bias': 0.20000000000000018, 'catboost': 1.0, 'knn': 0.10000000000000009, 'quality': 0.10000000000000009, 'volume': 1.0}. Best is trial 360 with value: 5.86264772102292.\u001b[0m\n"
     ]
    },
    {
     "name": "stdout",
     "output_type": "stream",
     "text": [
      "time 2.695 cat_cov 86.0 cov 100.0 nov 0.569 ser 0.13 m1 0.608 m10 0.606 price 2.649 sum 4.656\n"
     ]
    },
    {
     "name": "stderr",
     "output_type": "stream",
     "text": [
      "\u001b[32m[I 2023-05-12 14:09:02,981]\u001b[0m Trial 974 finished with value: 5.810431497509738 and parameters: {'svd': 0.9000000000000001, 'lfm_cos': 0.0, 'nn_bias': 0.30000000000000004, 'catboost': -1.0, 'knn': 0.0, 'quality': 0.10000000000000009, 'volume': 0.9000000000000001}. Best is trial 360 with value: 5.86264772102292.\u001b[0m\n"
     ]
    },
    {
     "name": "stdout",
     "output_type": "stream",
     "text": [
      "time 2.658 cat_cov 100.0 cov 100.0 nov 0.958 ser 0.208 m1 0.911 m10 0.838 price 2.687 sum 5.81\n"
     ]
    },
    {
     "name": "stderr",
     "output_type": "stream",
     "text": [
      "\u001b[32m[I 2023-05-12 14:09:05,650]\u001b[0m Trial 975 finished with value: 5.6984269512702 and parameters: {'svd': 0.6000000000000001, 'lfm_cos': 0.0, 'nn_bias': -0.8, 'catboost': -0.9, 'knn': -0.09999999999999998, 'quality': 0.0, 'volume': 0.8}. Best is trial 360 with value: 5.86264772102292.\u001b[0m\n"
     ]
    },
    {
     "name": "stdout",
     "output_type": "stream",
     "text": [
      "time 2.619 cat_cov 96.0 cov 100.0 nov 0.761 ser 0.224 m1 0.908 m10 0.825 price 3.061 sum 5.698\n"
     ]
    },
    {
     "name": "stderr",
     "output_type": "stream",
     "text": [
      "\u001b[32m[I 2023-05-12 14:09:09,062]\u001b[0m Trial 976 finished with value: 5.7932983243116745 and parameters: {'svd': 0.8, 'lfm_cos': 0.10000000000000009, 'nn_bias': 0.10000000000000009, 'catboost': -1.0, 'knn': -0.29999999999999993, 'quality': 0.10000000000000009, 'volume': 1.0}. Best is trial 360 with value: 5.86264772102292.\u001b[0m\n"
     ]
    },
    {
     "name": "stdout",
     "output_type": "stream",
     "text": [
      "time 3.361 cat_cov 97.0 cov 100.0 nov 0.822 ser 0.224 m1 0.924 m10 0.85 price 3.008 sum 5.793\n"
     ]
    },
    {
     "name": "stderr",
     "output_type": "stream",
     "text": [
      "\u001b[32m[I 2023-05-12 14:09:11,682]\u001b[0m Trial 977 finished with value: 4.29087073606126 and parameters: {'svd': -0.09999999999999998, 'lfm_cos': 0.0, 'nn_bias': 0.0, 'catboost': -0.9, 'knn': -0.19999999999999996, 'quality': 0.0, 'volume': 0.9000000000000001}. Best is trial 360 with value: 5.86264772102292.\u001b[0m\n"
     ]
    },
    {
     "name": "stdout",
     "output_type": "stream",
     "text": [
      "time 2.571 cat_cov 91.0 cov 99.0 nov 0.845 ser 0.169 m1 0.145 m10 0.281 price 2.855 sum 4.291\n"
     ]
    },
    {
     "name": "stderr",
     "output_type": "stream",
     "text": [
      "\u001b[32m[I 2023-05-12 14:09:14,392]\u001b[0m Trial 978 finished with value: 5.835683494637171 and parameters: {'svd': 0.7000000000000002, 'lfm_cos': 0.0, 'nn_bias': 0.20000000000000018, 'catboost': -1.0, 'knn': 0.0, 'quality': 0.10000000000000009, 'volume': 1.0}. Best is trial 360 with value: 5.86264772102292.\u001b[0m\n"
     ]
    },
    {
     "name": "stdout",
     "output_type": "stream",
     "text": [
      "time 2.66 cat_cov 98.0 cov 100.0 nov 0.965 ser 0.213 m1 0.914 m10 0.842 price 2.763 sum 5.836\n"
     ]
    },
    {
     "name": "stderr",
     "output_type": "stream",
     "text": [
      "\u001b[32m[I 2023-05-12 14:09:17,077]\u001b[0m Trial 979 finished with value: 5.796055369334525 and parameters: {'svd': 0.7000000000000002, 'lfm_cos': 0.10000000000000009, 'nn_bias': 0.10000000000000009, 'catboost': -0.9, 'knn': -0.09999999999999998, 'quality': 0.20000000000000018, 'volume': 0.9000000000000001}. Best is trial 360 with value: 5.86264772102292.\u001b[0m\n"
     ]
    },
    {
     "name": "stdout",
     "output_type": "stream",
     "text": [
      "time 2.635 cat_cov 97.0 cov 100.0 nov 0.829 ser 0.223 m1 0.929 m10 0.851 price 2.982 sum 5.796\n"
     ]
    },
    {
     "name": "stderr",
     "output_type": "stream",
     "text": [
      "\u001b[32m[I 2023-05-12 14:09:19,762]\u001b[0m Trial 980 finished with value: 5.800783537436797 and parameters: {'svd': 0.6000000000000001, 'lfm_cos': 0.0, 'nn_bias': 0.10000000000000009, 'catboost': -0.9, 'knn': -0.19999999999999996, 'quality': -0.09999999999999998, 'volume': 0.9000000000000001}. Best is trial 360 with value: 5.86264772102292.\u001b[0m\n"
     ]
    },
    {
     "name": "stdout",
     "output_type": "stream",
     "text": [
      "time 2.635 cat_cov 92.0 cov 100.0 nov 0.93 ser 0.219 m1 0.918 m10 0.848 price 2.895 sum 5.801\n"
     ]
    },
    {
     "name": "stderr",
     "output_type": "stream",
     "text": [
      "\u001b[32m[I 2023-05-12 14:09:22,468]\u001b[0m Trial 981 finished with value: 4.956864166606817 and parameters: {'svd': 0.9000000000000001, 'lfm_cos': 0.0, 'nn_bias': 0.20000000000000018, 'catboost': 0.8, 'knn': 0.0, 'quality': 0.0, 'volume': 0.8}. Best is trial 360 with value: 5.86264772102292.\u001b[0m\n"
     ]
    },
    {
     "name": "stdout",
     "output_type": "stream",
     "text": [
      "time 2.656 cat_cov 88.0 cov 100.0 nov 0.603 ser 0.15 m1 0.718 m10 0.716 price 2.672 sum 4.957\n"
     ]
    },
    {
     "name": "stderr",
     "output_type": "stream",
     "text": [
      "\u001b[32m[I 2023-05-12 14:09:25,141]\u001b[0m Trial 982 finished with value: 5.795186201597518 and parameters: {'svd': 0.8, 'lfm_cos': 0.0, 'nn_bias': 0.0, 'catboost': -1.0, 'knn': -0.09999999999999998, 'quality': 0.0, 'volume': 1.0}. Best is trial 360 with value: 5.86264772102292.\u001b[0m\n"
     ]
    },
    {
     "name": "stdout",
     "output_type": "stream",
     "text": [
      "time 2.623 cat_cov 96.0 cov 100.0 nov 0.776 ser 0.223 m1 0.928 m10 0.846 price 3.188 sum 5.795\n"
     ]
    },
    {
     "name": "stderr",
     "output_type": "stream",
     "text": [
      "\u001b[32m[I 2023-05-12 14:09:27,784]\u001b[0m Trial 983 finished with value: 5.718252133094787 and parameters: {'svd': 0.7000000000000002, 'lfm_cos': 0.20000000000000018, 'nn_bias': 0.10000000000000009, 'catboost': -1.0, 'knn': -0.09999999999999998, 'quality': 0.10000000000000009, 'volume': 0.9000000000000001}. Best is trial 360 with value: 5.86264772102292.\u001b[0m\n"
     ]
    },
    {
     "name": "stdout",
     "output_type": "stream",
     "text": [
      "time 2.594 cat_cov 95.0 cov 100.0 nov 0.781 ser 0.226 m1 0.927 m10 0.846 price 2.966 sum 5.718\n"
     ]
    },
    {
     "name": "stderr",
     "output_type": "stream",
     "text": [
      "\u001b[32m[I 2023-05-12 14:09:30,453]\u001b[0m Trial 984 finished with value: 4.541934042006725 and parameters: {'svd': 0.0, 'lfm_cos': -0.09999999999999998, 'nn_bias': 0.20000000000000018, 'catboost': -0.8, 'knn': -0.19999999999999996, 'quality': -0.09999999999999998, 'volume': 1.0}. Best is trial 360 with value: 5.86264772102292.\u001b[0m\n"
     ]
    },
    {
     "name": "stdout",
     "output_type": "stream",
     "text": [
      "time 2.619 cat_cov 92.0 cov 100.0 nov 1.002 ser 0.191 m1 0.141 m10 0.357 price 2.794 sum 4.542\n"
     ]
    },
    {
     "name": "stderr",
     "output_type": "stream",
     "text": [
      "\u001b[32m[I 2023-05-12 14:09:33,152]\u001b[0m Trial 985 finished with value: 5.733017923671751 and parameters: {'svd': 0.6000000000000001, 'lfm_cos': -0.5, 'nn_bias': 0.10000000000000009, 'catboost': -1.0, 'knn': 0.0, 'quality': 0.9000000000000001, 'volume': 0.8}. Best is trial 360 with value: 5.86264772102292.\u001b[0m\n"
     ]
    },
    {
     "name": "stdout",
     "output_type": "stream",
     "text": [
      "time 2.648 cat_cov 97.0 cov 100.0 nov 1.034 ser 0.204 m1 0.863 m10 0.79 price 2.613 sum 5.733\n"
     ]
    },
    {
     "name": "stderr",
     "output_type": "stream",
     "text": [
      "\u001b[32m[I 2023-05-12 14:09:35,751]\u001b[0m Trial 986 finished with value: 4.2125493172118 and parameters: {'svd': -0.5, 'lfm_cos': 0.10000000000000009, 'nn_bias': 0.0, 'catboost': -0.9, 'knn': -0.09999999999999998, 'quality': 0.20000000000000018, 'volume': 1.0}. Best is trial 360 with value: 5.86264772102292.\u001b[0m\n"
     ]
    },
    {
     "name": "stdout",
     "output_type": "stream",
     "text": [
      "time 2.549 cat_cov 88.0 cov 100.0 nov 0.883 ser 0.159 m1 0.136 m10 0.262 price 2.678 sum 4.213\n"
     ]
    },
    {
     "name": "stderr",
     "output_type": "stream",
     "text": [
      "\u001b[32m[I 2023-05-12 14:09:38,440]\u001b[0m Trial 987 finished with value: 5.7071797203610775 and parameters: {'svd': 0.8, 'lfm_cos': -0.09999999999999998, 'nn_bias': 0.20000000000000018, 'catboost': -1.0, 'knn': 0.30000000000000004, 'quality': 0.10000000000000009, 'volume': 0.9000000000000001}. Best is trial 360 with value: 5.86264772102292.\u001b[0m\n"
     ]
    },
    {
     "name": "stdout",
     "output_type": "stream",
     "text": [
      "time 2.638 cat_cov 96.0 cov 100.0 nov 0.972 ser 0.204 m1 0.878 m10 0.827 price 2.597 sum 5.707\n"
     ]
    },
    {
     "name": "stderr",
     "output_type": "stream",
     "text": [
      "\u001b[32m[I 2023-05-12 14:09:41,143]\u001b[0m Trial 988 finished with value: 5.777060248930437 and parameters: {'svd': 0.7000000000000002, 'lfm_cos': 0.0, 'nn_bias': 0.30000000000000004, 'catboost': -0.8, 'knn': 0.0, 'quality': 0.0, 'volume': 0.9000000000000001}. Best is trial 360 with value: 5.86264772102292.\u001b[0m\n"
     ]
    },
    {
     "name": "stdout",
     "output_type": "stream",
     "text": [
      "time 2.652 cat_cov 99.0 cov 100.0 nov 0.962 ser 0.207 m1 0.898 m10 0.828 price 2.676 sum 5.777\n"
     ]
    },
    {
     "name": "stderr",
     "output_type": "stream",
     "text": [
      "\u001b[32m[I 2023-05-12 14:09:43,822]\u001b[0m Trial 989 finished with value: 5.776637943592208 and parameters: {'svd': 0.7000000000000002, 'lfm_cos': 0.10000000000000009, 'nn_bias': 0.10000000000000009, 'catboost': -0.9, 'knn': 0.10000000000000009, 'quality': 0.30000000000000004, 'volume': 0.20000000000000018}. Best is trial 360 with value: 5.86264772102292.\u001b[0m\n"
     ]
    },
    {
     "name": "stdout",
     "output_type": "stream",
     "text": [
      "time 2.629 cat_cov 98.0 cov 100.0 nov 0.877 ser 0.218 m1 0.923 m10 0.849 price 2.791 sum 5.777\n"
     ]
    },
    {
     "name": "stderr",
     "output_type": "stream",
     "text": [
      "\u001b[32m[I 2023-05-12 14:09:46,504]\u001b[0m Trial 990 finished with value: 5.802919410558026 and parameters: {'svd': 0.6000000000000001, 'lfm_cos': 0.0, 'nn_bias': 0.10000000000000009, 'catboost': -1.0, 'knn': -0.19999999999999996, 'quality': -0.09999999999999998, 'volume': 1.0}. Best is trial 360 with value: 5.86264772102292.\u001b[0m\n"
     ]
    },
    {
     "name": "stdout",
     "output_type": "stream",
     "text": [
      "time 2.632 cat_cov 92.0 cov 100.0 nov 0.93 ser 0.22 m1 0.917 m10 0.847 price 2.907 sum 5.803\n"
     ]
    },
    {
     "name": "stderr",
     "output_type": "stream",
     "text": [
      "\u001b[32m[I 2023-05-12 14:09:49,216]\u001b[0m Trial 991 finished with value: 5.75102185133063 and parameters: {'svd': 0.8, 'lfm_cos': -0.09999999999999998, 'nn_bias': 0.20000000000000018, 'catboost': -0.3999999999999999, 'knn': -0.09999999999999998, 'quality': 0.20000000000000018, 'volume': 0.8}. Best is trial 360 with value: 5.86264772102292.\u001b[0m\n"
     ]
    },
    {
     "name": "stdout",
     "output_type": "stream",
     "text": [
      "time 2.661 cat_cov 98.0 cov 100.0 nov 0.886 ser 0.201 m1 0.927 m10 0.861 price 2.687 sum 5.751\n"
     ]
    },
    {
     "name": "stderr",
     "output_type": "stream",
     "text": [
      "\u001b[32m[I 2023-05-12 14:09:51,925]\u001b[0m Trial 992 finished with value: 5.799734687162388 and parameters: {'svd': 0.7000000000000002, 'lfm_cos': 0.0, 'nn_bias': 0.0, 'catboost': -1.0, 'knn': 0.0, 'quality': 0.10000000000000009, 'volume': 1.0}. Best is trial 360 with value: 5.86264772102292.\u001b[0m\n"
     ]
    },
    {
     "name": "stdout",
     "output_type": "stream",
     "text": [
      "time 2.659 cat_cov 95.0 cov 100.0 nov 0.795 ser 0.222 m1 0.927 m10 0.844 price 3.189 sum 5.8\n"
     ]
    },
    {
     "name": "stderr",
     "output_type": "stream",
     "text": [
      "\u001b[32m[I 2023-05-12 14:09:54,634]\u001b[0m Trial 993 finished with value: 5.815985979809873 and parameters: {'svd': 1.0, 'lfm_cos': -0.09999999999999998, 'nn_bias': 0.10000000000000009, 'catboost': -0.9, 'knn': -0.09999999999999998, 'quality': 0.40000000000000013, 'volume': 0.9000000000000001}. Best is trial 360 with value: 5.86264772102292.\u001b[0m\n"
     ]
    },
    {
     "name": "stdout",
     "output_type": "stream",
     "text": [
      "time 2.66 cat_cov 99.0 cov 100.0 nov 0.926 ser 0.209 m1 0.928 m10 0.85 price 2.739 sum 5.816\n"
     ]
    },
    {
     "name": "stderr",
     "output_type": "stream",
     "text": [
      "\u001b[32m[I 2023-05-12 14:09:57,312]\u001b[0m Trial 994 finished with value: 5.715669428300087 and parameters: {'svd': 0.7000000000000002, 'lfm_cos': 0.0, 'nn_bias': -0.3999999999999999, 'catboost': -1.0, 'knn': -0.09999999999999998, 'quality': 0.5, 'volume': 0.8}. Best is trial 360 with value: 5.86264772102292.\u001b[0m\n"
     ]
    },
    {
     "name": "stdout",
     "output_type": "stream",
     "text": [
      "time 2.626 cat_cov 93.0 cov 100.0 nov 0.784 ser 0.226 m1 0.917 m10 0.837 price 3.066 sum 5.716\n"
     ]
    },
    {
     "name": "stderr",
     "output_type": "stream",
     "text": [
      "\u001b[32m[I 2023-05-12 14:10:00,019]\u001b[0m Trial 995 finished with value: 5.8494795582399535 and parameters: {'svd': 0.8, 'lfm_cos': 0.0, 'nn_bias': 0.10000000000000009, 'catboost': -1.0, 'knn': -0.19999999999999996, 'quality': 0.0, 'volume': 1.0}. Best is trial 360 with value: 5.86264772102292.\u001b[0m\n"
     ]
    },
    {
     "name": "stdout",
     "output_type": "stream",
     "text": [
      "time 2.658 cat_cov 97.0 cov 100.0 nov 0.927 ser 0.218 m1 0.925 m10 0.852 price 2.876 sum 5.849\n"
     ]
    },
    {
     "name": "stderr",
     "output_type": "stream",
     "text": [
      "\u001b[32m[I 2023-05-12 14:10:02,724]\u001b[0m Trial 996 finished with value: 5.786670481608038 and parameters: {'svd': 0.9000000000000001, 'lfm_cos': 0.10000000000000009, 'nn_bias': 0.20000000000000018, 'catboost': -0.8, 'knn': -0.29999999999999993, 'quality': 0.0, 'volume': 0.9000000000000001}. Best is trial 360 with value: 5.86264772102292.\u001b[0m\n"
     ]
    },
    {
     "name": "stdout",
     "output_type": "stream",
     "text": [
      "time 2.654 cat_cov 96.0 cov 100.0 nov 0.887 ser 0.217 m1 0.926 m10 0.852 price 2.833 sum 5.787\n"
     ]
    },
    {
     "name": "stderr",
     "output_type": "stream",
     "text": [
      "\u001b[32m[I 2023-05-12 14:10:05,378]\u001b[0m Trial 997 finished with value: 5.701212572908535 and parameters: {'svd': 0.9000000000000001, 'lfm_cos': 0.10000000000000009, 'nn_bias': -0.6, 'catboost': -1.0, 'knn': -0.19999999999999996, 'quality': -0.09999999999999998, 'volume': 1.0}. Best is trial 360 with value: 5.86264772102292.\u001b[0m\n"
     ]
    },
    {
     "name": "stdout",
     "output_type": "stream",
     "text": [
      "time 2.604 cat_cov 97.0 cov 100.0 nov 0.751 ser 0.226 m1 0.918 m10 0.836 price 2.998 sum 5.701\n"
     ]
    },
    {
     "name": "stderr",
     "output_type": "stream",
     "text": [
      "\u001b[32m[I 2023-05-12 14:10:08,068]\u001b[0m Trial 998 finished with value: 5.820505335033853 and parameters: {'svd': 0.8, 'lfm_cos': 0.0, 'nn_bias': 0.0, 'catboost': -0.9, 'knn': -0.19999999999999996, 'quality': 0.0, 'volume': 0.9000000000000001}. Best is trial 360 with value: 5.86264772102292.\u001b[0m\n"
     ]
    },
    {
     "name": "stdout",
     "output_type": "stream",
     "text": [
      "time 2.641 cat_cov 99.0 cov 100.0 nov 0.771 ser 0.223 m1 0.925 m10 0.846 price 3.195 sum 5.821\n"
     ]
    },
    {
     "name": "stderr",
     "output_type": "stream",
     "text": [
      "\u001b[32m[I 2023-05-12 14:10:10,754]\u001b[0m Trial 999 finished with value: 5.748577131884528 and parameters: {'svd': 0.9000000000000001, 'lfm_cos': 0.10000000000000009, 'nn_bias': 0.10000000000000009, 'catboost': -0.9, 'knn': -0.19999999999999996, 'quality': 0.0, 'volume': 1.0}. Best is trial 360 with value: 5.86264772102292.\u001b[0m\n"
     ]
    },
    {
     "name": "stdout",
     "output_type": "stream",
     "text": [
      "time 2.636 cat_cov 94.0 cov 100.0 nov 0.817 ser 0.222 m1 0.932 m10 0.854 price 2.95 sum 5.749\n"
     ]
    }
   ],
   "source": [
    "def objective(trial):    \n",
    "    \n",
    "    params = {'svd': trial.suggest_float(name='svd', low=-1, high=1, step=0.1), \n",
    "              'lfm_cos': trial.suggest_float(name='lfm_cos', low=-1, high=1, step=0.1), \n",
    "              'nn_bias': trial.suggest_float(name='nn_bias', low=-1, high=1, step=0.1), \n",
    "              'catboost': trial.suggest_float(name='catboost', low=-1, high=1, step=0.1), \n",
    "              'knn': trial.suggest_float(name='knn', low=-1, high=1, step=0.1), \n",
    "              'quality': trial.suggest_float(name='quality', low=-1, high=1, step=0.1),\n",
    "              'volume': trial.suggest_float(name='volume', low=-1, high=1, step=0.1)\n",
    "             }\n",
    "    \n",
    "    return main_metric(params)\n",
    "    \n",
    "\n",
    "\n",
    "study = optuna.create_study(direction=\"maximize\")\n",
    "study.optimize(objective, n_trials=1000)\n"
   ]
  },
  {
   "cell_type": "code",
   "execution_count": 36,
   "id": "fc500a9e",
   "metadata": {},
   "outputs": [
    {
     "name": "stdout",
     "output_type": "stream",
     "text": [
      "Value: 5.86264772102292\n",
      "Parameters: {'svd': 0.5, 'lfm_cos': 0.0, 'nn_bias': 0.10000000000000009, 'catboost': -0.7, 'knn': 0.0, 'quality': -0.09999999999999998, 'volume': 0.7000000000000002}\n"
     ]
    }
   ],
   "source": [
    "print(\"Value:\", study.best_value)\n",
    "print(\"Parameters:\", study.best_params)"
   ]
  },
  {
   "cell_type": "code",
   "execution_count": null,
   "id": "6b4da80b",
   "metadata": {},
   "outputs": [],
   "source": []
  },
  {
   "cell_type": "code",
   "execution_count": null,
   "id": "57668115",
   "metadata": {},
   "outputs": [],
   "source": []
  },
  {
   "cell_type": "code",
   "execution_count": 37,
   "id": "7919f25e",
   "metadata": {},
   "outputs": [
    {
     "name": "stdout",
     "output_type": "stream",
     "text": [
      "time 2.59 cat_cov 98.0 cov 100.0 nov 0.958 ser 0.215 m1 0.922 m10 0.849 price 2.786 sum 5.853\n"
     ]
    },
    {
     "data": {
      "text/plain": [
       "5.852647721022921"
      ]
     },
     "execution_count": 37,
     "metadata": {},
     "output_type": "execute_result"
    }
   ],
   "source": [
    "main_metric(study.best_params)"
   ]
  },
  {
   "cell_type": "code",
   "execution_count": 41,
   "id": "ed3515c4",
   "metadata": {},
   "outputs": [
    {
     "name": "stdout",
     "output_type": "stream",
     "text": [
      "time 2.603 cat_cov 95.0 cov 100.0 nov 0.958 ser 0.215 m1 0.922 m10 0.849 price 2.786 sum 5.823\n"
     ]
    },
    {
     "data": {
      "text/plain": [
       "5.82264772102292"
      ]
     },
     "execution_count": 41,
     "metadata": {},
     "output_type": "execute_result"
    }
   ],
   "source": [
    "main_metric(study.best_params)"
   ]
  },
  {
   "cell_type": "code",
   "execution_count": 35,
   "id": "fa4445e8",
   "metadata": {},
   "outputs": [
    {
     "name": "stdout",
     "output_type": "stream",
     "text": [
      "time 2.613 cat_cov 98.0 cov 100.0 nov 0.762 ser 0.193 m1 0.953 m10 0.885 price 2.762 sum 5.694\n"
     ]
    },
    {
     "data": {
      "text/plain": [
       "5.693977449305785"
      ]
     },
     "execution_count": 35,
     "metadata": {},
     "output_type": "execute_result"
    }
   ],
   "source": [
    "main_metric(\n",
    "    \n",
    "{'svd': 0.7, 'lfm_cos': 0.0, 'nn_bias': 0.1, 'catboost': 0.0, 'knn': 0.0, 'quality': -0.2, 'volume': 0.9}\n",
    ")"
   ]
  },
  {
   "cell_type": "code",
   "execution_count": null,
   "id": "913c2869",
   "metadata": {},
   "outputs": [],
   "source": [
    "main_metric(\n",
    "{\n",
    "    \n",
    "'svd': 0.7, 'lfm': -0, 'lfm_cos': 0.8, 'nn': 0.0, 'nn_bias': -0.1, 'catboost': 0.1, 'knn': 0.1, 'quality': 4.6, 'volume': 3.90\n",
    "})"
   ]
  },
  {
   "cell_type": "code",
   "execution_count": null,
   "id": "88005dfd",
   "metadata": {},
   "outputs": [],
   "source": [
    "main_metric(\n",
    "{\n",
    "    \n",
    "'svd': 0.7, 'lfm': -0, 'lfm_cos': 0.8, 'nn': 0.0, 'nn_bias': -0.1, 'catboost': 0.1, 'knn': 0.1, 'quality': 2, 'volume': 2\n",
    "})"
   ]
  },
  {
   "cell_type": "code",
   "execution_count": null,
   "id": "6ad6ca3b",
   "metadata": {},
   "outputs": [],
   "source": [
    "main_metric(\n",
    "{\n",
    "    #final\n",
    "'svd': 0.7, 'lfm': -0, 'lfm_cos': 0.8, 'nn': 0.0, 'nn_bias': -0.1, 'catboost': 0.1, 'knn': 0.1, 'quality': 4, 'volume': 4\n",
    "})"
   ]
  },
  {
   "cell_type": "code",
   "execution_count": null,
   "id": "4a3c9ccd",
   "metadata": {},
   "outputs": [],
   "source": []
  },
  {
   "cell_type": "code",
   "execution_count": null,
   "id": "df9e019a",
   "metadata": {},
   "outputs": [],
   "source": [
    "main_metric(\n",
    "{\n",
    "    \n",
    "'svd': 0.1, 'lfm': -0.1, 'lfm_cos': 0.1, 'nn': -3.8, 'nn_bias': -3.7, 'catboost': -3.9, 'knn': 0.0, 'quality': 4.8, 'volume': 3.3\n",
    "})"
   ]
  }
 ],
 "metadata": {
  "colab": {
   "provenance": []
  },
  "kernelspec": {
   "display_name": "Python 3 (ipykernel)",
   "language": "python",
   "name": "python3"
  },
  "language_info": {
   "codemirror_mode": {
    "name": "ipython",
    "version": 3
   },
   "file_extension": ".py",
   "mimetype": "text/x-python",
   "name": "python",
   "nbconvert_exporter": "python",
   "pygments_lexer": "ipython3",
   "version": "3.10.4"
  }
 },
 "nbformat": 4,
 "nbformat_minor": 5
}
